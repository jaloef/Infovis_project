{
 "cells": [
  {
   "cell_type": "markdown",
   "metadata": {
    "cell_id": "fe2ec8ab5f10476a847cbb5513f7256f",
    "deepnote_cell_type": "markdown"
   },
   "source": [
    "Final deliverable – Informatievisualisatie – Julia Bakker (14599740), John-Anthony Loefstop (14673207), Marijn Versluis (13263668) & Joah Goedhart (14307170) – Bachelor Informatiekunde – Jaar 1 – Groep G2"
   ]
  },
  {
   "cell_type": "markdown",
   "metadata": {
    "cell_id": "52763dac90bd46eaa7b21fdf09aef5d4",
    "deepnote_cell_type": "markdown"
   },
   "source": [
    "# Beyond Borders: The Interplay of Mental Health and Socio-Economic Factors Worldwide"
   ]
  },
  {
   "cell_type": "markdown",
   "metadata": {
    "cell_id": "e2ff8ae03056412abec97e2b4679e412",
    "deepnote_cell_type": "markdown"
   },
   "source": [
    "![sad.jpeg](sad.jpeg)"
   ]
  },
  {
   "cell_type": "markdown",
   "metadata": {
    "cell_id": "d1f8449e1e554acdad8b2fce24204ee5",
    "deepnote_cell_type": "markdown"
   },
   "source": [
    "## 1. Introduction\n",
    "\n",
    "Happiness, as a subjective measure of well-being, is influenced by various factors, including mental health. Understanding how mental health affects happiness levels is crucial for developing strategies to promote overall well-being.\n",
    "\n",
    "In this analysis, we will be highlighting the happiness levels and mental health disorders around the world. We will use two datasets to explore the relationship between happiness and mental health from different angles. The first dataset consists of the happiness scores of each country from 2005 to 2022, consisting of various metrics such as GDP, social support, healthy life expectancy and more. From this dataset the GDP and life ladder will mainly be used. The dataset allows us to do an extensive analysis of multiple factors that could influence the happiness of people, considering the potential impact of economic and health related factors.\n",
    "\n",
    "The second dataset focuses on the global rating regarding the prevalence of mental health disorders, for each country from 1990 to 2017. It provides insight into the prevalence of disorders such as anxiety disorders, depression, and substance use disorders. This dataset allows us to do an extensive analysis of multiple factors that could influence the happiness and healthy life expectancy of people.\n",
    "\n",
    "\n",
    "This is the link to our github repository:\n",
    "https://github.com/jaloef/Infovis_project/tree/main "
   ]
  },
  {
   "cell_type": "markdown",
   "metadata": {
    "cell_id": "0667acc81fee4658b5632c9679b55b47",
    "deepnote_cell_type": "markdown"
   },
   "source": [
    "### 1.1 The analysis of the following perspectives:\n",
    "> **Wealth and mental health are closely related:** This perspective focuses on how socio-economic factors such as  GDP per capita and happiness can influence mental health disorders.And whether countries with higher scores in this area  tend to have lower rates of mental health disorders and vice versa will be explored. It is surmised that there is a correlation.\n",
    "\n",
    "> **There is no significant correlation between wealth and mental health:** From this perspective, we aim to investigate the correlation between GDP per capita, happiness and the prevalence of mental health disorders. The idea is to see if higher happiness scores correlate with lower mental health issues and if this connection holds true across different regions and cultures. It is assumed that there is no significant correlation: some will point towards a relation; others will refute there is one."
   ]
  },
  {
   "cell_type": "markdown",
   "metadata": {
    "cell_id": "71ff36ca5ab1458fafe6213bfa3198f4",
    "deepnote_cell_type": "markdown"
   },
   "source": [
    "### 1.2 Argumentation perspectives\n",
    "\n",
    "*<u>Perspective 1: Wealth and mental health are closely related:</u>*\n",
    "\n",
    "* **Argument 1:** Generally speaking, countries with higher GDP tend to have lower rates of mental health disorders. This argument aims to explore the association between economic prosperity and mental well-being. The visualization of this association can include a scatter plot where GDP is plotted on the x-axis, the prevalence of depression on the y-axis, and each data point represents a country.\n",
    "\n",
    "* **Argument 2:** Western countries are more developed and therefore happier; people outside those countries are more depressed. This argument highlights the potential role of development in the state of mental well-being. The visualization of this role can show a scatter plot with gradients that show the severity of — for example — depression to display the most depressing regions in the world.\n",
    "\n",
    "*<u>Perspective 2: There is no significant correlation between wealth and mental health</u>*\n",
    "\n",
    "* **Argument 1:** Countries with higher happiness scores tend to have lower rates of mental health disorders like depression and anxiety. This argument explores the relationship between subjective well-being and mental health. The visualization of this relationship could include a 3d plot of the variables that shows whether they cluster or not.\n",
    "\n",
    "* **Argument 2:** Mental health is affected by so many different factors that there is no such thing as a significant relationship between a country's mental health state and its GDP per capita. The visualization of this relationship could include a bar plot of the variables that shows whether they cluster or not.\n",
    "\n",
    "By examining the relationship between happiness, socio-economic factors, and mental health disorders, we aim to shed light on the complex dynamics that influence individuals' well-being.  \n"
   ]
  },
  {
   "cell_type": "markdown",
   "metadata": {
    "cell_id": "dc27c4f963e549cf98edf7b993c01d3f",
    "deepnote_cell_type": "markdown"
   },
   "source": [
    "## 2. Dataset and preprocessing\n",
    "\n",
    "**Datasets**\n",
    "<u>*World Happiness Report, 2005–Present*</u>\n",
    "\n",
    "The World Happiness Report dataset is used in this analysis to provide information of each country from 2005 until 2022. The dataset includes various metrics such as GDP, social support, healthy life expectancy, and more. The dataset can be downloaded from https://www.kaggle.com/datasets/usamabuttar/world-happiness-report-2005-present.\n",
    "\n",
    "For the processing of the dataset multiple steps were taken:\n",
    "1. The dataset was obtained in CSV format and loaded into Jupyter Notebook for analysis.\n",
    "2. The original dataset is copied to apply modifications and remove unnecessary columns without changing the original dataset. \n",
    "3. From the copied dataset the year 2017 is selected and the missing values are removed. \n",
    "4. The dataset is merged with the Global Trends in Mental Health Disorder on the column “Country Name”.\n",
    "5. The merged dataset is used to create multiple visualizations that supports the established perspectives \n",
    "\n",
    "*<u>Global Trends in Mental Health Disorder</u>*\n",
    "\n",
    "The Global Trends in Mental Health Disorder dataset is used in this analysis to provide information of each country from 1990 until 2017. The dataset provides global data on the prevalence of various mental health disorders, including schizophrenia, bipolar disorder, eating disorders, anxiety disorders, depression, and substance use disorders. The dataset can be downloaded from https://www.kaggle.com/datasets/thedevastator/uncover-global-trends-in-mental-health-disorder.\n",
    "\n",
    "For the processing of the dataset several steps were taken:\n",
    "1. The dataset was obtained in CSV format and loaded into Jupyter Notebook for analysis.\n",
    "2. The original dataset is copied to apply modifications and remove unnecessary columns without changing the original dataset. \n",
    "3. From the copied dataset the year 2017 is selected and the missing values are removed.\n",
    "4. The column “Entity” is renamed to “Country Name” to merge the dataset with the World Happiness dataset. \n",
    "5. The merged dataset is used to create multiple visualizations that supports the established perspectives\n",
    "\n",
    "\n",
    "**Preprocessing**\n",
    "*<u>Merged datasets mean grouped by region</u>*\n",
    "\n",
    "To make sure the data can be visualized in something other than a per country basis, the data was grouped per region. These regions have the mean for each variable of all the countries in the region. This data is used in the bar plots.\n",
    "\n",
    "For the processing of the data several steps were taken:\n",
    "1. The merged dataset was taken.\n",
    "2. All the mental health data were set to floats since this wasn't the right datatype.\n",
    "3. All the numerical columns were selected.\n",
    "4. All the data is grouped per region and for each variable the mean of all the countries in the region is taken.\n",
    "\n",
    "<u>*Merged datasets mean world 2010-2017*</u>\n",
    "\n",
    "To make a trend line of the world over the years we had to merge the two datasets again but differently.\n",
    "And when it was merged the mean for every variable was taken grouped by year.\n",
    "\n",
    "For the processing of the data several steps were taken:\n",
    "1. The column “Entity” is renamed to “Country Name” to merge the dataset with the World Happiness dataset.\n",
    "2. Convert the Year column to numerical values.\n",
    "3. Merge the datasets on Country Name and Year and drop rows with missing data.\n",
    "4. Drop every column that is not neccessary.\n",
    "5. Set every data in the dataset to floats.\n",
    "6. All the data is grouped per year and for each variable the mean of all the countries per year is taken.\n",
    "7. Drop all years below 2010 since the data of some countries are missing."
   ]
  },
  {
   "cell_type": "code",
   "execution_count": 1,
   "metadata": {
    "cell_id": "4e9bdb2f8a2c4a2281d1c7e6501a7f3e",
    "deepnote_cell_type": "code",
    "deepnote_to_be_reexecuted": false,
    "editable": true,
    "execution_millis": 2528,
    "execution_start": 1688131523148,
    "slideshow": {
     "slide_type": ""
    },
    "source_hash": "a63af8be",
    "tags": [
     "hide-cell"
    ]
   },
   "outputs": [
    {
     "ename": "ModuleNotFoundError",
     "evalue": "No module named 'warning'",
     "output_type": "error",
     "traceback": [
      "\u001b[0;31m---------------------------------------------------------------------------\u001b[0m",
      "\u001b[0;31mModuleNotFoundError\u001b[0m                       Traceback (most recent call last)",
      "Cell \u001b[0;32mIn[1], line 9\u001b[0m\n\u001b[1;32m      7\u001b[0m \u001b[38;5;28;01mimport\u001b[39;00m \u001b[38;5;21;01mnumpy\u001b[39;00m \u001b[38;5;28;01mas\u001b[39;00m \u001b[38;5;21;01mnp\u001b[39;00m\n\u001b[1;32m      8\u001b[0m \u001b[38;5;28;01mimport\u001b[39;00m \u001b[38;5;21;01mplotly\u001b[39;00m\u001b[38;5;21;01m.\u001b[39;00m\u001b[38;5;21;01mgraph_objects\u001b[39;00m \u001b[38;5;28;01mas\u001b[39;00m \u001b[38;5;21;01mgo\u001b[39;00m\n\u001b[0;32m----> 9\u001b[0m \u001b[38;5;28;01mimport\u001b[39;00m \u001b[38;5;21;01mwarning\u001b[39;00m \u001b[38;5;28;01mas\u001b[39;00m \u001b[38;5;21;01mwarn\u001b[39;00m\n\u001b[1;32m     11\u001b[0m \u001b[38;5;66;03m# reads the required datasets and displays them\u001b[39;00m\n\u001b[1;32m     12\u001b[0m world_happiness \u001b[38;5;241m=\u001b[39m pd\u001b[38;5;241m.\u001b[39mread_csv(\u001b[38;5;124m'\u001b[39m\u001b[38;5;124mWorld Happiness Report.csv\u001b[39m\u001b[38;5;124m'\u001b[39m)\n",
      "\u001b[0;31mModuleNotFoundError\u001b[0m: No module named 'warning'"
     ]
    }
   ],
   "source": [
    "# reads the necessary modules/libraries\n",
    "import geopandas as gpd\n",
    "import pandas as pd\n",
    "import plotly.express as px\n",
    "import random\n",
    "import seaborn as sns\n",
    "import numpy as np\n",
    "import plotly.graph_objects as go\n",
    "import warnings as warn\n",
    "\n",
    "# reads the required datasets and displays them\n",
    "world_happiness = pd.read_csv('World Happiness Report.csv')\n",
    "world_mental = pd.read_csv('Mental health Depression disorder Data.csv')\n",
    "\n",
    "# prepares the two datasets for their merging\n",
    "# by selecting their common year, 2017, and changing a column name\n",
    "world_happiness_2017 = world_happiness.loc[world_happiness['Year'] == 2017].copy().dropna()\n",
    "world_mental_2017 = world_mental.loc[world_mental['Year'] == '2017'].copy().drop('index', axis=1).dropna()\n",
    "world_mental_2017.rename(columns={\"Entity\": \"Country Name\"}, inplace=True)\n",
    "\n",
    "# merges the DataFrames, and displays them consequently\n",
    "df = pd.merge(world_happiness_2017, world_mental_2017, on=\"Country Name\", how='inner')\n",
    "\n",
    "# # seeks a possible Pearson's correlation\n",
    "# print(\"The correlation between GDP per capita and Life Ladder is:\", \n",
    "#       df['Log GDP Per Capita'].corr(df['Life Ladder']) )\n",
    "\n",
    "# prepares the data for the creation of bar charts\n",
    "\n",
    "# displays the disorders as floats\n",
    "\n",
    "data_columns= [\n",
    "            'Bipolar disorder (%)','Schizophrenia (%)','Eating disorders (%)',\n",
    "            'Anxiety disorders (%)','Drug use disorders (%)','Depression (%)',\n",
    "            'Alcohol use disorders (%)'\n",
    "]\n",
    "\n",
    "df[data_columns]= df[data_columns].astype(float)\n",
    "\n",
    "numeric_columns = df.select_dtypes(include='number')\n",
    "\n",
    "df_mean = df.groupby(['Regional Indicator'])[numeric_columns.columns].mean()\n",
    "df_mean = df_mean.reset_index()\n",
    "\n",
    "warn.filterwarnings('ignore')"
   ]
  },
  {
   "cell_type": "markdown",
   "metadata": {
    "cell_id": "60ea025130b54d8d8877929feb8c88de",
    "deepnote_cell_type": "markdown",
    "editable": true,
    "slideshow": {
     "slide_type": ""
    },
    "tags": []
   },
   "source": [
    "## 3. Visualizations\n",
    "By examining the relationship between happiness, socio-economic factors, and mental health disorders, we aim to shed light on the complex dynamics that influence individuals’ well-being. Figure 1 illustrates the average trend of happiness, GDP, and each mental health disorder across the world. This figure gives a first impression of the overall trends throughout the years. \n",
    "\n"
   ]
  },
  {
   "cell_type": "code",
   "execution_count": null,
   "metadata": {
    "cell_id": "245a39f9ea424427a94f141c72e6b375",
    "deepnote_cell_type": "code",
    "deepnote_to_be_reexecuted": false,
    "editable": true,
    "execution_millis": 586,
    "execution_start": 1688134498689,
    "slideshow": {
     "slide_type": ""
    },
    "source_hash": "37c7fd05",
    "tags": [
     "hide-input"
    ]
   },
   "outputs": [],
   "source": [
    "# reads the necessary modules/libraries\n",
    "import geopandas as gpd\n",
    "import pandas as pd\n",
    "import plotly.express as px\n",
    "import random\n",
    "import seaborn as sns\n",
    "import numpy as np\n",
    "import plotly.graph_objects as go\n",
    "\n",
    "# reads the required datasets and displays them\n",
    "world_happiness = pd.read_csv('World Happiness Report.csv')\n",
    "world_mental = pd.read_csv('Mental health Depression disorder Data.csv')\n",
    "world_mental.rename(columns={\"Entity\": \"Country Name\"}, inplace=True)\n",
    "\n",
    "# prepares the two datasets for their merging\n",
    "# by selecting their common year, 2017, and changing a column name\n",
    "world_happiness_2017 = world_happiness.loc[world_happiness['Year'] == 2017].copy().dropna()\n",
    "world_mental_2017 = world_mental.loc[world_mental['Year'] == '2017'].copy().drop('index', axis=1).dropna()\n",
    "world_mental_2017.rename(columns={\"Entity\": \"Country Name\"}, inplace=True)\n",
    "\n",
    "# merges the DataFrames, and displays them consequently\n",
    "df = pd.merge(world_happiness_2017, world_mental_2017, on=\"Country Name\", how='inner')\n",
    "\n",
    "\n",
    "# Convert the \"Year\" column to numeric values\n",
    "world_mental[\"Year\"] = pd.to_numeric(world_mental[\"Year\"], errors='coerce')\n",
    "\n",
    "# Drop any rows with NaN values in the \"Year\" column\n",
    "world_mental = world_mental.dropna(subset=[\"Year\"])\n",
    "\n",
    "# Convert the \"Year\" column to integers\n",
    "world_mental[\"Year\"] = world_mental[\"Year\"].astype(int)\n",
    "\n",
    "df_years = pd.merge(world_happiness, world_mental, on=[\"Country Name\", \"Year\"], how='inner').dropna()\n",
    "\n",
    "df_years.drop([\"Country Name\", \"Regional Indicator\", \"Code\", \"index\"], axis=1, inplace=True) \n",
    "\n",
    "\n",
    "\n",
    "df_years= df_years.astype(float)\n",
    "\n",
    "numeric_columns = df_years.select_dtypes(include='number')\n",
    "\n",
    "numeric_columns_years = df_years.select_dtypes(include='number')\n",
    "\n",
    "df_years_mean = df_years.groupby(['Year'])[numeric_columns_years.columns].mean()\n",
    "df_years_mean.drop([\"Year\"], axis=1, inplace=True) \n",
    "df_years_mean = df_years_mean.reset_index()\n",
    "\n",
    "df_years_mean.drop(df_years_mean[df_years_mean['Year'] < 2010].index, inplace = True)\n",
    "\n",
    "fig = go.Figure()\n",
    "\n",
    "hap_gdp_mental = [\"Life Ladder score (Happiness)\", \"Log GDP Per Capita\", 'Anxiety disorders (%)', 'Drug use disorders (%)', 'Depression (%)', 'Alcohol use disorders (%)', \"Schizophrenia (%)\", \"Bipolar disorder (%)\", \"Eating disorders (%)\"]\n",
    "\n",
    "fig.add_trace(go.Scatter(x=df_years_mean[\"Year\"], y=df_years_mean[\"Life Ladder\"], mode=\"lines\", name=\"Life Ladder score (Happiness)\", line=dict(color=\"rgb(235, 64, 52)\")))\n",
    "fig.add_trace(go.Scatter(x=df_years_mean[\"Year\"], y=df_years_mean[\"Log GDP Per Capita\"], mode=\"lines\", name=\"Log GDP Per Capita\", line=dict(color=\"rgb(235, 231, 45)\")))\n",
    "fig.add_trace(go.Scatter(x=df_years_mean[\"Year\"], y=df_years_mean[\"Anxiety disorders (%)\"], mode=\"lines\", name=\"Anxiety disorders (%)\", line=dict(color=\"rgb(36, 64, 52)\")))\n",
    "fig.add_trace(go.Scatter(x=df_years_mean[\"Year\"], y=df_years_mean[\"Drug use disorders (%)\"], mode=\"lines\", name=\"Drug use disorders (%)\", line=dict(color=\"rgb(135, 18, 219)\")))\n",
    "fig.add_trace(go.Scatter(x=df_years_mean[\"Year\"], y=df_years_mean[\"Depression (%)\"], mode=\"lines\", name=\"Depression (%)\", line=dict(color=\"rgb(253, 186, 255)\")))\n",
    "fig.add_trace(go.Scatter(x=df_years_mean[\"Year\"], y=df_years_mean[\"Alcohol use disorders (%)\"], mode=\"lines\", name=\"Alcohol use disorders (%)\", line=dict(color=\"rgb(66, 64, 234)\")))\n",
    "fig.add_trace(go.Scatter(x=df_years_mean[\"Year\"], y=df_years_mean[\"Schizophrenia (%)\"], mode=\"lines\", name=\"Schizophrenia (%)\", line=dict(color=\"rgb(22, 245, 34)\")))\n",
    "fig.add_trace(go.Scatter(x=df_years_mean[\"Year\"], y=df_years_mean[\"Bipolar disorder (%)\"], mode=\"lines\", name=\"Bipolar disorder (%)\", line=dict(color=\"rgb(116, 222, 232)\")))\n",
    "fig.add_trace(go.Scatter(x=df_years_mean[\"Year\"], y=df_years_mean[\"Eating disorders (%)\"], mode=\"lines\", name=\"Eating disorders (%)\", line=dict(color=\"rgb(35, 115, 17)\")))\n",
    "\n",
    "\n",
    "# Only display the first bar plot initially\n",
    "for i in range(1, len(fig.data)):\n",
    "    fig.data[i].visible = False\n",
    "\n",
    "# Create a dropdown menu\n",
    "dropdown = [{\"label\": var, \"method\": \"update\",\n",
    "             \"args\": [{\"visible\": [j == i for j in range(len(hap_gdp_mental))]},\n",
    "                      {\"title\": f\"{var} over the years\"}]}\n",
    "            for i, var in enumerate(hap_gdp_mental)]\n",
    "\n",
    "# Customize the plot layout\n",
    "fig.update_layout(\n",
    "    updatemenus=[\n",
    "        go.layout.Updatemenu(\n",
    "            buttons=dropdown,\n",
    "            direction=\"down\",\n",
    "            showactive=True\n",
    "        ),\n",
    "    ],\n",
    "    title=\"Life Ladder score (Happiness) over the years\",\n",
    "    xaxis_title=\"Year\",\n",
    "    yaxis_title=f\"Strength\",\n",
    ")\n",
    "\n",
    "fig.show()\n",
    "\n",
    "# # seeks a possible Pearson's correlation\n",
    "# print(\"The correlation between GDP per capita and Life Ladder is:\", \n",
    "#       df['Log GDP Per Capita'].corr(df['Life Ladder']) )\n",
    "\n",
    "# prepares the data for the creation of bar charts\n",
    "\n",
    "numeric_columns = df.select_dtypes(include='number')\n",
    "\n",
    "df_mean_year = df.groupby(['Regional Indicator'])[numeric_columns.columns].mean()\n",
    "df_mean_year = df_mean.reset_index()\n",
    "\n",
    "# displays the disorders as floats\n",
    "data_columns= [\n",
    "            'Bipolar disorder (%)','Schizophrenia (%)','Eating disorders (%)',\n",
    "            'Anxiety disorders (%)','Drug use disorders (%)','Depression (%)',\n",
    "            'Alcohol use disorders (%)'\n",
    "]\n",
    "\n",
    "df[data_columns]= df[data_columns].astype(float)"
   ]
  },
  {
   "cell_type": "markdown",
   "metadata": {
    "cell_id": "4f06fa960f484bf5a909d9fb6f026ffe",
    "deepnote_cell_type": "markdown"
   },
   "source": [
    "> _Figure 1: Illustrates the progression of all the mental health disorders, GDP per capita and the happiness throughout multiple years as an average of the world countries. The x-axis represents the year and the y-axis represents the strength._"
   ]
  },
  {
   "cell_type": "markdown",
   "metadata": {
    "cell_id": "35be13487a234200bca8a563508e036c",
    "deepnote_cell_type": "markdown",
    "editable": true,
    "slideshow": {
     "slide_type": ""
    },
    "tags": []
   },
   "source": [
    "### 3.1 Perspective 1: Wealth and mental health are closely related\n",
    "\n",
    "When it comes to examining the connection between mental health and financial status, some argue that wealth plays a crucial role in determining one's happiness. So the first thought for many people is often \"money makes happiness\". This stems from the idea that with money you have less stress to get by financially and you also have more opportunities to go to social events. If there are health issues, this can also be solved more easily. Hence the phrase \"money makes happiness\" and the argument: Countries with higher happiness scores tend to have lower rates of mental health disorders like depression and anxiety.\n"
   ]
  },
  {
   "cell_type": "markdown",
   "metadata": {
    "cell_id": "b15296213707438985b374185385b439",
    "deepnote_cell_type": "markdown"
   },
   "source": [
    "*<u>Argument 1: Countries with higher GDP tend to have lower rates of mental health disorders. This argument aims to explore the association between economic prosperity and mental well-being.</u>*\n",
    "\n",
    "Looking at the data there is a correlation however, it is the opposite of what initially was expected. Figure 2 illustrates the correlation between the amount of people with an eating disorder and the GDP per capita and the life ladder. As shown there is an upward trend, the amount of people with an eating disorder increases when the GDP and life ladder also increase. \n"
   ]
  },
  {
   "cell_type": "code",
   "execution_count": null,
   "metadata": {
    "cell_id": "8f1f5bcc5e024b0ab2bc0932066bf54f",
    "deepnote_cell_type": "code",
    "deepnote_to_be_reexecuted": false,
    "editable": true,
    "execution_millis": 2703,
    "execution_start": 1688131526522,
    "slideshow": {
     "slide_type": ""
    },
    "source_hash": "3eeec8be",
    "tags": [
     "hide-input"
    ]
   },
   "outputs": [],
   "source": [
    "scatter2d = px.scatter(\n",
    "                        df, \n",
    "                        x= 'Life Ladder', \n",
    "                        y= 'Eating disorders (%)', \n",
    "                        color= 'Country Name',\n",
    "                        trendline='ols',\n",
    "                        trendline_scope='overall',\n",
    "                        title='Relationship between Eating disorders and Life ladder',\n",
    "                        height= 300\n",
    ")\n",
    "\n",
    "scatter2d.update_layout(xaxis_title='Life Ladder')\n",
    "\n",
    "scatter2d.show()\n",
    "\n",
    "\n",
    "\n",
    "scatter2d = px.scatter(\n",
    "                        df, \n",
    "                        x= 'Log GDP Per Capita', \n",
    "                        y= 'Eating disorders (%)', \n",
    "                        color= 'Country Name',\n",
    "                        trendline='ols',\n",
    "                        trendline_scope='overall',\n",
    "                        title='Relationship between Eating disorders and GDP per Capita',\n",
    "                        height= 300\n",
    ")\n",
    "\n",
    "scatter2d.update_layout(xaxis_title='GDP per Capita')\n",
    "\n",
    "scatter2d.show()"
   ]
  },
  {
   "cell_type": "markdown",
   "metadata": {
    "cell_id": "2c0aebd6f6874602a3865d0fc13b8028",
    "deepnote_cell_type": "markdown"
   },
   "source": [
    "> _Figure 2: Illustrates the correlation between the percentage of eating disorders and the GDP per capita and the correlation between the percentage of eating disorders and the life ladder for each country. The x-axis represents the life ladder and GDP per capita and the y-axis represents the percentage of people with an eating disorder._\n"
   ]
  },
  {
   "cell_type": "markdown",
   "metadata": {
    "cell_id": "728264499db24219be40208e2383a97a",
    "deepnote_cell_type": "markdown"
   },
   "source": [
    "\n",
    "The same is illustrated in figure 3, The regions with the highest GDP and happiness tend to have a higher percentage of people with a bipolar disorder. \n"
   ]
  },
  {
   "cell_type": "code",
   "execution_count": null,
   "metadata": {
    "cell_id": "58113a568a714a53b5f238e279074f22",
    "deepnote_cell_type": "code",
    "deepnote_to_be_reexecuted": false,
    "editable": true,
    "execution_millis": 27,
    "execution_start": 1688131529243,
    "slideshow": {
     "slide_type": ""
    },
    "source_hash": "33f4ea8f",
    "tags": [
     "hide-input"
    ]
   },
   "outputs": [],
   "source": [
    "# Create a layout object that contains the specifications for the X and Y axes.\n",
    "layout = go.Layout(\n",
    "    title = \"Bipolar disorder (%), Happiness and GDP per region\",\n",
    "    xaxis=go.layout.XAxis(\n",
    "        type='category'\n",
    "    ),\n",
    "    xaxis_title=\"Regional Indicator\",\n",
    "    yaxis_title=\"Strength\",\n",
    ")\n",
    "\n",
    "    \n",
    "trace1 = go.Bar (\n",
    "    x = df_mean[\"Regional Indicator\"],\n",
    "    y = df_mean[\"Bipolar disorder (%)\"],\n",
    "    name = \"Bipolar disorder (%)\",\n",
    "    marker = dict(\n",
    "        color = 'rgb(252, 115, 3)'\n",
    "    )\n",
    ")\n",
    "\n",
    "trace2 = go.Bar (\n",
    "    x = df_mean[\"Regional Indicator\"],\n",
    "    y = df_mean[\"Life Ladder\"],\n",
    "    name = \"Happiness\",\n",
    "    marker = dict(\n",
    "        color = 'rgb(14, 174, 237)'\n",
    "    )\n",
    ")\n",
    "\n",
    "trace3 = go.Bar (\n",
    "    x = df_mean[\"Regional Indicator\"],\n",
    "    y = df_mean[\"Log GDP Per Capita\"],\n",
    "    name = \"GDP\",\n",
    "    marker = dict(\n",
    "        color = 'rgb(135, 18, 219)'\n",
    "    )\n",
    ")\n",
    "\n",
    "# Create a list of the traces.\n",
    "data = [trace1, trace2, trace3]\n",
    "\n",
    "# Create a figure object with the data and layout objects.\n",
    "fig = go.Figure(data=data, layout=layout)\n",
    "\n",
    "# Show the figure.\n",
    "fig.show()"
   ]
  },
  {
   "cell_type": "markdown",
   "metadata": {
    "cell_id": "345d0557fb444116824879b7af793848",
    "deepnote_cell_type": "markdown"
   },
   "source": [
    "> _Figure 3: Illustrates the percentage of people with a bipolar disorder, the happiness on a 10 point scale and the GDP is a log value. The x-axis represents the country regions and the y-axis represents the strength. The strength is chosen because the matrices on the y-axis aren’t the same._\n",
    " "
   ]
  },
  {
   "cell_type": "markdown",
   "metadata": {
    "cell_id": "2a932e1b1b2d4de592832e5a415aadf0",
    "deepnote_cell_type": "markdown",
    "editable": true,
    "slideshow": {
     "slide_type": ""
    },
    "tags": []
   },
   "source": [
    "*<u>Argument 2: Western countries are more developed and therefore happier; people outside those countries are more depressed. This argument highlights the potential role of development in the state of mental well-being.</u>*\n",
    "\n",
    "The second argument states that the more developed western countries are overall happier compared to non western countries. Figure 4 illustrates the GDP per capita and the life ladder for each country, as shown in the figure the more developed western countries have a higher life ladder and tend to be happier than non western countries.\n"
   ]
  },
  {
   "cell_type": "code",
   "execution_count": null,
   "metadata": {
    "cell_id": "1c0cd37c54a84bc0834ab34380e80f65",
    "deepnote_cell_type": "code",
    "deepnote_to_be_reexecuted": false,
    "editable": true,
    "execution_millis": 725,
    "execution_start": 1688131529299,
    "slideshow": {
     "slide_type": ""
    },
    "source_hash": "4441145b",
    "tags": [
     "hide-input"
    ]
   },
   "outputs": [],
   "source": [
    "scatter = px.scatter(\n",
    "                       df,\n",
    "                       x= 'Life Ladder',\n",
    "                       y='Log GDP Per Capita',\n",
    "                       color='Country Name',\n",
    "                       trendline='ols',\n",
    "                       trendline_scope='overall',\n",
    "                       opacity= 0.7,\n",
    ")\n",
    "\n",
    "scatter.update_layout(\n",
    "    title='Relationship between GDP and life ladder per country'\n",
    ")\n"
   ]
  },
  {
   "cell_type": "markdown",
   "metadata": {
    "cell_id": "e25c8ef1e68f4473aa050f84284429cf",
    "deepnote_cell_type": "markdown"
   },
   "source": [
    "> _Figure 4: Illustrates the correlation between GDP per capita and the life ladder. The x-axis represents the life ladder, the y-axis the GDP per capita._"
   ]
  },
  {
   "cell_type": "markdown",
   "metadata": {
    "cell_id": "d98fbcb471a649f2ada5b910f931f0be",
    "deepnote_cell_type": "markdown",
    "editable": true,
    "slideshow": {
     "slide_type": ""
    },
    "tags": []
   },
   "source": [
    "### 3.2 Perspective 2: There is no significant correlation between wealth and mental health\n",
    "\n",
    "The common belief is that having more money leads to reduced financial stress, increased social opportunities, and better access to healthcare — thereby contributing to overall well-being. However, upon closer examination of the data, it becomes apparent that the relationship between wealth and mental health is not as straightforward as it may seem.\n",
    "\n",
    "\n",
    "\n",
    "*<u>Argument 1: Countries with a higher GDP tend to have more mental health disorders like depression income/productivity and mental health.</u>*\n",
    "\n",
    "Taking a global perspective, a compelling visual representation of mental health conditions emerges through a series of plots. Figure 5 presents a choropleth map of the world showcasing depression rates across different countries — ranging from light to dark shades. Surprisingly, this depiction reveals that depression prevalence is not solely confined to either rich or poor nations. Instead, both wealthy and impoverished countries exhibit varying levels of depression — indicating that economic prosperity alone does not dictate mental well-being.\n"
   ]
  },
  {
   "cell_type": "code",
   "execution_count": null,
   "metadata": {
    "cell_id": "9eeae5b00fdd415abf828a176774fe81",
    "deepnote_cell_type": "code",
    "deepnote_to_be_reexecuted": false,
    "editable": true,
    "execution_millis": 117,
    "execution_start": 1688131530035,
    "slideshow": {
     "slide_type": ""
    },
    "source_hash": "b255b508",
    "tags": [
     "hide-input"
    ]
   },
   "outputs": [],
   "source": [
    "#displays the world's depression as a gradiant world map\n",
    "fig = px.choropleth(\n",
    "                    df,\n",
    "                    locations='Code',\n",
    "                    color='Depression (%)',\n",
    "                    hover_name='Country Name',\n",
    "                    color_continuous_scale='Viridis_r',\n",
    "                    labels={'Depression (%)': 'Depression'},\n",
    "                    )\n",
    "\n",
    "fig.update_layout(\n",
    "    title='World mental health condition in terms of depression',\n",
    "    height=600\n",
    ")\n",
    "\n",
    "fig.show()"
   ]
  },
  {
   "cell_type": "markdown",
   "metadata": {
    "cell_id": "b419582c1b734a92847a67684e323aea",
    "deepnote_cell_type": "markdown"
   },
   "source": [
    "> _Figure 5: Illustrates the depression rates of all countries with available data._"
   ]
  },
  {
   "cell_type": "markdown",
   "metadata": {
    "cell_id": "5218113994e449e9aebeb5b2cc2fd50f",
    "deepnote_cell_type": "markdown"
   },
   "source": [
    "Further exploration is carried out in figure 6 — where depression is plotted on the y-axis and GDP per Capita on the x-axis. To assess the correlation between these factors, a trendline is overlaid on the plot. Astonishingly, the trendline appears almost flat — suggesting a lack of substantial correlation between wealth and emotional well-being. This finding challenges the notion that financial affluence directly translates to feeling content and satisfied in life."
   ]
  },
  {
   "cell_type": "code",
   "execution_count": null,
   "metadata": {
    "cell_id": "47ef06fcc31a44e2b692c0e562de1e15",
    "deepnote_cell_type": "code",
    "deepnote_to_be_reexecuted": false,
    "editable": true,
    "execution_millis": 726,
    "execution_start": 1688131530151,
    "slideshow": {
     "slide_type": ""
    },
    "source_hash": "1045a4b2",
    "tags": [
     "hide-input"
    ]
   },
   "outputs": [],
   "source": [
    "# displays relationship between depression and GDP per capita in countries as a 2d plot\n",
    "scatter2d = px.scatter(\n",
    "                        df, \n",
    "                        x= 'Log GDP Per Capita', \n",
    "                        y= 'Depression (%)', \n",
    "                        color= 'Country Name',\n",
    "                        trendline='ols',\n",
    "                        trendline_scope='overall',\n",
    "                        title='Relationship between depression and GDP per capita of countries',\n",
    "                        height= 300\n",
    ")\n",
    "\n",
    "scatter2d.update_layout(xaxis_title='GDP per capita')\n"
   ]
  },
  {
   "cell_type": "markdown",
   "metadata": {
    "cell_id": "15057a5dd84a4f3bbf6e9e74d16865d8",
    "deepnote_cell_type": "markdown"
   },
   "source": [
    "> _Figure 6: Illustrates a generalized relation between the depression rate and GDP per capita of all countries. The x-axis represents the GDP per capita and the y-axis represents the percentage of people with depression._\n",
    "\n"
   ]
  },
  {
   "cell_type": "markdown",
   "metadata": {
    "cell_id": "5e037f062e8a44cbbecd990c75bb0a1d",
    "deepnote_cell_type": "markdown"
   },
   "source": [
    "*<u>Argument 2: Mental health is affected by so many different factors that there is no such thing as a significant relationship between a country's mental health state and its GDP per capita.</u>*\n",
    "\n",
    "Additionally, an interactive bar chart is provided in figure 7, allowing for a comparison of various mental health disorders such as anxiety, depression, alcohol usage, and drug use disorders. Remarkably, the patterns exhibited in these charts are strikingly similar, reinforcing the absence of a meaningful correlation between wealth and these mental health conditions. This insight further strengthens the argument that other factors, beyond financial status, play a significant role in determining one's mental well-being.\n"
   ]
  },
  {
   "cell_type": "code",
   "execution_count": null,
   "metadata": {
    "cell_id": "130a1eb118f8463d83b9f1fa04ec9878",
    "deepnote_cell_type": "code",
    "deepnote_to_be_reexecuted": false,
    "editable": true,
    "execution_millis": 9,
    "execution_start": 1688131530869,
    "slideshow": {
     "slide_type": ""
    },
    "source_hash": "97c8ee5f",
    "tags": [
     "hide-input"
    ]
   },
   "outputs": [],
   "source": [
    "# Create an empty figure\n",
    "fig4 = go.Figure()\n",
    "\n",
    "mental = ['Anxiety disorders (%)', 'Drug use disorders (%)', 'Depression (%)', 'Alcohol use disorders (%)']\n",
    "colors = ['rgb(252, 115, 3)', 'rgb(14, 174, 237)', 'rgb(135, 18, 219)']\n",
    "\n",
    "trace2 = go.Bar(\n",
    "    x=df_mean[\"Regional Indicator\"],\n",
    "    y=df_mean[\"Life Ladder\"],\n",
    "    name=\"Happiness\",\n",
    "    marker=dict(\n",
    "        color='rgb(14, 174, 237)'\n",
    "    )\n",
    ")\n",
    "\n",
    "trace3 = go.Bar(\n",
    "    x=df_mean[\"Regional Indicator\"],\n",
    "    y=df_mean[\"Log GDP Per Capita\"],\n",
    "    name=\"GDP\",\n",
    "    marker=dict(\n",
    "        color='rgb(135, 18, 219)'\n",
    "    )\n",
    ")\n",
    "\n",
    "\n",
    "for var in mental:\n",
    "    trace1 = go.Bar(\n",
    "        x=df_mean[\"Regional Indicator\"],\n",
    "        y=df_mean[var],\n",
    "        name=var,\n",
    "        marker=dict(\n",
    "            color='rgb(252, 115, 3)'\n",
    "        )\n",
    "    )\n",
    "\n",
    "    fig4.add_trace(trace1)\n",
    "    fig4.add_trace(trace2)\n",
    "    fig4.add_trace(trace3)\n",
    "\n",
    "# Only display the first bar plot initially\n",
    "for i in range(3, len(fig4.data)):\n",
    "    fig4.data[i].visible = False\n",
    "\n",
    "# Create a dropdown menu\n",
    "dropdown = [{\"label\": var, \"method\": \"update\",\n",
    "             \"args\": [{\"visible\": [j == 3*i or j == 3*i+1 or j == 3*i+2 for j in range(len(mental) * 3)]},\n",
    "                      {\"title\": f\"{var}, Happiness and GDP per region\"}]}\n",
    "            for i, var in enumerate(mental)]\n",
    "\n",
    "# Customize the plot layout\n",
    "fig4.update_layout(\n",
    "    updatemenus=[\n",
    "        go.layout.Updatemenu(\n",
    "            buttons=dropdown,\n",
    "            direction=\"down\",\n",
    "            showactive=True\n",
    "        ),\n",
    "    ],\n",
    "    title=\"Different Mental Disorders by Region\",\n",
    "    xaxis_title=\"Regional Indicator\",\n",
    "    yaxis_title=\"Strength\",\n",
    ")\n",
    "\n",
    "# Show the plot\n",
    "fig4.show()"
   ]
  },
  {
   "cell_type": "markdown",
   "metadata": {
    "cell_id": "b72ad82ad1d5494581ae36a3fab725cd",
    "deepnote_cell_type": "markdown"
   },
   "source": [
    "> _Figure 7: Illustrates the percentage of people for each mental health issue, the happiness on a 10 point scale and the GDP is a log value. The x-axis represents the country regions and the y-axis represents the strength. The strength is chosen because the matrices on the y-axis aren’t the same._"
   ]
  },
  {
   "cell_type": "markdown",
   "metadata": {
    "cell_id": "2753897f9c174ca68f0f684e9b5d6c40",
    "deepnote_cell_type": "markdown"
   },
   "source": [
    "In conclusion, contrary to the popular belief that wealth and mental health are closely intertwined, the available evidence suggests otherwise. The comprehensive analysis of global data through world maps, scatterplots, and interactive bar charts reveals that the relationship between financial prosperity and mental well-being is not significant. It becomes apparent that the complexity of mental health cannot be reduced to a simple monetary measure, highlighting the need for a more nuanced understanding of the factors influencing our emotional states.\n"
   ]
  },
  {
   "cell_type": "markdown",
   "metadata": {
    "cell_id": "749536828a5c485d9e821c3775879d93",
    "deepnote_cell_type": "markdown"
   },
   "source": [
    "## 4. Reflection \n",
    "During the presentation of our report on June 27th, we received positive initial feedback from our peers and TA. However, they suggested that we enhance our visualizations by providing more supporting text and incorporating interactive elements. In response to this feedback, we added a more meaningful and interactive visualization with a drop-down function. Additionally, we introduced a fourth type of visualization to further enrich our analysis.\n",
    "\n",
    "The TA's feedback aligned with that of our peers, emphasizing the importance of using visualizations to elevate the analysis. They specifically recommended adding trendlines to the 3D scatter plots to improve the interpretation of clustering patterns. Furthermore, the TA advised us to carefully consider the insights conveyed by our visualizations and ensure they align with the overall analysis.\n",
    "\n"
   ]
  },
  {
   "cell_type": "markdown",
   "metadata": {
    "cell_id": "22d1178b48e543329ebe7925808d866a",
    "deepnote_cell_type": "markdown"
   },
   "source": [
    "## 5. Work distribution\n",
    "  \n",
    "The work distribution went very well with effective communication and openness to feedback. The initial phase involved exploring potential datasets. During class, we collectively decided on the project focus. Leveraging individual strengths, Julia mostly handled introduction, dataset, preprocessing, and other sections, while John and Marijn created visualizations with assistance from Joah who also wrote the argumentation. John managed GitHub. Group collaboration included determining perspectives, visualization types, data selection, and desired data story."
   ]
  },
  {
   "cell_type": "code",
   "execution_count": null,
   "metadata": {
    "cell_id": "aa37353b4d8a4103884dc983d08f4240",
    "deepnote_cell_type": "code",
    "deepnote_to_be_reexecuted": false,
    "execution_millis": 8,
    "execution_start": 1688131530870,
    "source_hash": "b623e53d"
   },
   "outputs": [],
   "source": []
  },
  {
   "cell_type": "markdown",
   "metadata": {
    "created_in_deepnote_cell": true,
    "deepnote_cell_type": "markdown"
   },
   "source": [
    "<a style='text-decoration:none;line-height:16px;display:flex;color:#5B5B62;padding:10px;justify-content:end;' href='https://deepnote.com?utm_source=created-in-deepnote-cell&projectId=26d5ece9-dd12-4b6a-9c37-55bcc85c01c8' target=\"_blank\">\n",
    "<img alt='Created in deepnote.com' style='display:inline;max-height:16px;margin:0px;margin-right:7.5px;' src='data:image/svg+xml;base64,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' > </img>\n",
    "Created in <span style='font-weight:600;margin-left:4px;'>Deepnote</span></a>"
   ]
  }
 ],
 "metadata": {
  "deepnote": {},
  "deepnote_execution_queue": [],
  "deepnote_notebook_id": "8e297e4379534902899b2ffd9c600a3d",
  "deepnote_persisted_session": {
   "createdAt": "2023-06-29T18:00:32.718Z"
  },
  "kernelspec": {
   "display_name": "Python 3 (ipykernel)",
   "language": "python",
   "name": "python3"
  },
  "language_info": {
   "codemirror_mode": {
    "name": "ipython",
    "version": 3
   },
   "file_extension": ".py",
   "mimetype": "text/x-python",
   "name": "python",
   "nbconvert_exporter": "python",
   "pygments_lexer": "ipython3",
   "version": "3.11.3"
  }
 },
 "nbformat": 4,
 "nbformat_minor": 4
}
