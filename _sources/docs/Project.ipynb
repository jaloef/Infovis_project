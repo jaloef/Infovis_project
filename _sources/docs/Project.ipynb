{
 "cells": [
  {
   "cell_type": "markdown",
   "id": "d550e419-fb1d-4195-8536-e867cdc9e111",
   "metadata": {},
   "source": [
    "Final deliverable - Informatievisualisatie – Julia Bakker (14599740), John-Anthony (14673207), Marijn Versluis (13263668) & Joah Goedhart (14307170) – Bachelor Informatiekunde – Jaar 1 - Groep G2"
   ]
  },
  {
   "cell_type": "markdown",
   "id": "1f6e942c-c0ff-4047-aa09-4d115be3b74f",
   "metadata": {},
   "source": [
    "# Beyond Borders: The Interplay of Mental Health and Socio-Economic Factors Worldwide"
   ]
  },
  {
   "cell_type": "markdown",
   "id": "f39958f6-867f-43ab-a5da-9f1e378e0f66",
   "metadata": {},
   "source": [
    "## 1 Introduction\n",
    "\n",
    "In this analysis, we will be highlighting the happiness levels and mental health disorders around the world. We will use two datasets to explore the relationship between happiness and mental health from different angles. The first dataset consists of the happiness scores of each country from 2005 to 2022, consisting of various metrics such as GDP, social support, healthy life expectancy and more. The dataset allows us to do an extensive analysis of multiple factors that could influence the happiness of people, considering the potential impact of economic and health related factors.\n",
    "\n",
    "The second dataset focuses on the global rating regarding the prevalence of mental health disorders, for each country from 1960 to 2017. It provides insight into the prevalence of disorders such as schizophrenia, bipolar disorder, eating disorders, anxiety disorders, depression, and substance use disorders. This dataset allows us to do an extensive analysis of multiple factors that could influence the happiness and healthy life expectancy of people."
   ]
  },
  {
   "cell_type": "markdown",
   "id": "5a3d0002-376a-49f3-8a9c-6ae8709629a9",
   "metadata": {},
   "source": [
    "### 1.1 The analysis of the following perspectives:\r\n",
    "\r\n",
    "1. *Wealth and mental health are closely related:* This perspective focuses on how socio-economic the factors GDP per capita and happiness can influence mental health disorders. Whether countries with higher socio-economic scores tend to have lower rates of mental health disorders and vice versa will be explored. It is surmised that there is a correlation. \r\n",
    "\r\n",
    "There is no *No significcorrelation between ion wealth and mental health:* From this perspective, we aim to investigate the correlation between GDP per capita, happiness and the prevalence of mental health disorders. The idea is to see if higher happiness scores correlate with lower mental health issues and if this connection holds true across different regions and cultures. It is assumed that there is no significant correlation: some will point towards a relation; others will refute there is one."
   ]
  },
  {
   "cell_type": "markdown",
   "id": "ca7b4697-c4c1-4e56-871e-cf0a6263a335",
   "metadata": {},
   "source": [
    "### 1.2 Argumentation perspectives\n",
    "\n",
    "*<u>Perspective 1: Socio-economic factors and mental health</u>*\n",
    "\n",
    "*Argument 1:* Generally speaking, countries with higher GDP tend to have lower rates of mental health disorders. This argument aims to explore the association between economic prosperity and mental well-being. The visualization of this association can include a scatter plot where GDP is plotted on the x-axis, the prevalence of depression on the y-axis, and each data point represents a country.\n",
    "\n",
    "*Argument 2:* Western countries are more developed and therefore happier; people outside those countries are more depressed. This argument highlights the potential role of development in the state of mental well-being. The visualization of this role can show a world map with gradients that show the severity of — for example — depression to display the most depressing regions in the world.\n",
    "\n",
    "*<u>Perspective 2: Correlation between happiness and mental health</u>*\n",
    "\n",
    "* Argument 1:*Countries with higher happiness scores tend to have lower rates of mental health disorders like depression and anxiety. This argument explores the relationship between subjective well-being and mental health. The visualization of this relationship could include a 3d plot of the variables that shows whether they cluster or not.\n",
    "\n",
    "*Argument 2:* Family plays a crucial role in the correlation between happiness and mental health. This argument highlights the impact of Family on mental well-being. The visualization of this correlation could show a scatter plot comparing happiness scores, prevalence rates of mental health disorders, and levels of Family meaning across countries. \n",
    "\n",
    "By examining the relationship between happiness, socio-economic factors, and mental health disorders, we aim to shed light on the complex dynamics that influence individuals' well-being.  \n"
   ]
  },
  {
   "cell_type": "markdown",
   "id": "61afdb08-5531-4c01-998a-68414a921220",
   "metadata": {},
   "source": [
    "## 2 Dataset and preprocessing\n",
    "\n",
    "<u>*World Happiness Report, 2005–Present*</u>\n",
    "\n",
    "The World Happiness Report dataset is used in this analysis to provide information of each country from 2005 until 2022. The dataset includes various metrics such as GDP, social support, healthy life expectancy, and more. The dataset can be downloaded from https://www.kaggle.com/datasets/usamabuttar/world-happiness-report-2005-present.\n",
    "\n",
    "1. For the processing of the dataset multiple steps were taken:\n",
    "2. The dataset was obtained in CSV format and loaded into Jupyter Notebook for analysis.\n",
    "3. The original dataset is copied to apply modifications and remove unnecessary columns without changing the original dataset. \n",
    "4. From the copied dataset the year 2017 is selected and the missing values are removed. \n",
    "5. The dataset is merged with the Global Trends in Mental Health Disorder on the column “Country Name”.\n",
    "6. The merged dataset is used to create multiple visualizations that supports the established perspectives \n",
    "\n",
    "*<u>Global Trends in Mental Health Disorder</u>*\n",
    "\n",
    "The Global Trends in Mental Health Disorder dataset is used in this analysis to provide information of each country from 1960 until 2017. The dataset provides global data on the prevalence of various mental health disorders, including schizophrenia, bipolar disorder, eating disorders, anxiety disorders, depression, and substance use disorders. The dataset can be downloaded from https://www.kaggle.com/datasets/thedevastator/uncover-global-trends-in-mental-health-disorder.\n",
    "\n",
    "For the processing of the dataset several steps were taken:\n",
    "1. The dataset was obtained in CSV format and loaded into Jupyter Notebook for analysis.\n",
    "2. The original dataset is copied to apply modifications and remove unnecessary columns without changing the original dataset. \n",
    "3. From the copied dataset the year 2017 is selected and the missing values are removed.\n",
    "4. The column “Entity” is renamed to “Country Name” to merge the dataset with the World Happiness dataset. \n",
    "5. The merged dataset is used to create multiple visualizations that supports the established perspectives\n"
   ]
  },
  {
   "cell_type": "code",
   "execution_count": 19,
   "id": "37c73232-5b50-47e6-befc-34fbd3f3370f",
   "metadata": {
    "editable": true,
    "slideshow": {
     "slide_type": ""
    },
    "tags": [
     "hide-input"
    ]
   },
   "outputs": [],
   "source": [
    "# reads the necessary modules/libraries\n",
    "import geopandas as gpd\n",
    "import pandas as pd\n",
    "import plotly.express as px\n",
    "import random\n",
    "import seaborn as sns\n",
    "import numpy as np\n",
    "import plotly.graph_objects as go"
   ]
  },
  {
   "cell_type": "code",
   "execution_count": 31,
   "id": "c908ceb3-4004-4da0-ae41-13e7171d52ac",
   "metadata": {
    "editable": true,
    "slideshow": {
     "slide_type": ""
    },
    "tags": [
     "hide-input",
     "hide-output"
    ]
   },
   "outputs": [
    {
     "name": "stdout",
     "output_type": "stream",
     "text": [
      "The correlation between GDP per capita and Life Ladder is: 0.777235576833162\n"
     ]
    },
    {
     "name": "stderr",
     "output_type": "stream",
     "text": [
      "/var/folders/26/857cdtq51v5b981sk9klpqzm0000gn/T/ipykernel_32295/914147306.py:3: DtypeWarning:\n",
      "\n",
      "Columns (5,6) have mixed types. Specify dtype option on import or set low_memory=False.\n",
      "\n"
     ]
    },
    {
     "data": {
      "text/html": [
       "<div>\n",
       "<style scoped>\n",
       "    .dataframe tbody tr th:only-of-type {\n",
       "        vertical-align: middle;\n",
       "    }\n",
       "\n",
       "    .dataframe tbody tr th {\n",
       "        vertical-align: top;\n",
       "    }\n",
       "\n",
       "    .dataframe thead th {\n",
       "        text-align: right;\n",
       "    }\n",
       "</style>\n",
       "<table border=\"1\" class=\"dataframe\">\n",
       "  <thead>\n",
       "    <tr style=\"text-align: right;\">\n",
       "      <th></th>\n",
       "      <th>Country Name</th>\n",
       "      <th>Regional Indicator</th>\n",
       "      <th>Year_x</th>\n",
       "      <th>Life Ladder</th>\n",
       "      <th>Log GDP Per Capita</th>\n",
       "      <th>Social Support</th>\n",
       "      <th>Healthy Life Expectancy At Birth</th>\n",
       "      <th>Freedom To Make Life Choices</th>\n",
       "      <th>Generosity</th>\n",
       "      <th>Perceptions Of Corruption</th>\n",
       "      <th>...</th>\n",
       "      <th>Confidence In National Government</th>\n",
       "      <th>Code</th>\n",
       "      <th>Year_y</th>\n",
       "      <th>Schizophrenia (%)</th>\n",
       "      <th>Bipolar disorder (%)</th>\n",
       "      <th>Eating disorders (%)</th>\n",
       "      <th>Anxiety disorders (%)</th>\n",
       "      <th>Drug use disorders (%)</th>\n",
       "      <th>Depression (%)</th>\n",
       "      <th>Alcohol use disorders (%)</th>\n",
       "    </tr>\n",
       "  </thead>\n",
       "  <tbody>\n",
       "    <tr>\n",
       "      <th>0</th>\n",
       "      <td>Afghanistan</td>\n",
       "      <td>South Asia</td>\n",
       "      <td>2017</td>\n",
       "      <td>2.661718</td>\n",
       "      <td>7.647830</td>\n",
       "      <td>0.490880</td>\n",
       "      <td>53.250000</td>\n",
       "      <td>0.427011</td>\n",
       "      <td>-0.119410</td>\n",
       "      <td>0.954393</td>\n",
       "      <td>...</td>\n",
       "      <td>0.261179</td>\n",
       "      <td>AFG</td>\n",
       "      <td>2017</td>\n",
       "      <td>0.166158</td>\n",
       "      <td>0.708089</td>\n",
       "      <td>0.107142</td>\n",
       "      <td>4.882481</td>\n",
       "      <td>2.473934</td>\n",
       "      <td>4.136347</td>\n",
       "      <td>0.661217</td>\n",
       "    </tr>\n",
       "    <tr>\n",
       "      <th>1</th>\n",
       "      <td>Albania</td>\n",
       "      <td>Central and Eastern Europe</td>\n",
       "      <td>2017</td>\n",
       "      <td>4.639548</td>\n",
       "      <td>9.455110</td>\n",
       "      <td>0.637698</td>\n",
       "      <td>69.050003</td>\n",
       "      <td>0.749611</td>\n",
       "      <td>-0.030506</td>\n",
       "      <td>0.876135</td>\n",
       "      <td>...</td>\n",
       "      <td>0.457738</td>\n",
       "      <td>ALB</td>\n",
       "      <td>2017</td>\n",
       "      <td>0.201025</td>\n",
       "      <td>0.704480</td>\n",
       "      <td>0.174046</td>\n",
       "      <td>3.385245</td>\n",
       "      <td>0.517614</td>\n",
       "      <td>2.208414</td>\n",
       "      <td>1.837955</td>\n",
       "    </tr>\n",
       "    <tr>\n",
       "      <th>2</th>\n",
       "      <td>Argentina</td>\n",
       "      <td>Latin America and Caribbean</td>\n",
       "      <td>2017</td>\n",
       "      <td>6.039330</td>\n",
       "      <td>10.068880</td>\n",
       "      <td>0.906699</td>\n",
       "      <td>67.000000</td>\n",
       "      <td>0.831966</td>\n",
       "      <td>-0.189601</td>\n",
       "      <td>0.841052</td>\n",
       "      <td>...</td>\n",
       "      <td>0.305430</td>\n",
       "      <td>ARG</td>\n",
       "      <td>2017</td>\n",
       "      <td>0.198094</td>\n",
       "      <td>0.773376</td>\n",
       "      <td>0.404033</td>\n",
       "      <td>6.283678</td>\n",
       "      <td>1.008901</td>\n",
       "      <td>3.665488</td>\n",
       "      <td>1.824515</td>\n",
       "    </tr>\n",
       "    <tr>\n",
       "      <th>3</th>\n",
       "      <td>Armenia</td>\n",
       "      <td>Commonwealth of Independent States</td>\n",
       "      <td>2017</td>\n",
       "      <td>4.287736</td>\n",
       "      <td>9.434255</td>\n",
       "      <td>0.697925</td>\n",
       "      <td>66.550003</td>\n",
       "      <td>0.613697</td>\n",
       "      <td>-0.152285</td>\n",
       "      <td>0.864683</td>\n",
       "      <td>...</td>\n",
       "      <td>0.246901</td>\n",
       "      <td>ARM</td>\n",
       "      <td>2017</td>\n",
       "      <td>0.197365</td>\n",
       "      <td>0.717591</td>\n",
       "      <td>0.167047</td>\n",
       "      <td>2.592813</td>\n",
       "      <td>0.504360</td>\n",
       "      <td>2.754583</td>\n",
       "      <td>1.964988</td>\n",
       "    </tr>\n",
       "    <tr>\n",
       "      <th>4</th>\n",
       "      <td>Australia</td>\n",
       "      <td>North America and ANZ</td>\n",
       "      <td>2017</td>\n",
       "      <td>7.257038</td>\n",
       "      <td>10.787260</td>\n",
       "      <td>0.949958</td>\n",
       "      <td>70.750000</td>\n",
       "      <td>0.910550</td>\n",
       "      <td>0.313771</td>\n",
       "      <td>0.411347</td>\n",
       "      <td>...</td>\n",
       "      <td>0.453407</td>\n",
       "      <td>AUS</td>\n",
       "      <td>2017</td>\n",
       "      <td>0.363326</td>\n",
       "      <td>1.142097</td>\n",
       "      <td>0.943081</td>\n",
       "      <td>6.584301</td>\n",
       "      <td>2.315142</td>\n",
       "      <td>4.623881</td>\n",
       "      <td>1.511935</td>\n",
       "    </tr>\n",
       "  </tbody>\n",
       "</table>\n",
       "<p>5 rows × 22 columns</p>\n",
       "</div>"
      ],
      "text/plain": [
       "  Country Name                  Regional Indicator  Year_x  Life Ladder  \\\n",
       "0  Afghanistan                          South Asia    2017     2.661718   \n",
       "1      Albania          Central and Eastern Europe    2017     4.639548   \n",
       "2    Argentina         Latin America and Caribbean    2017     6.039330   \n",
       "3      Armenia  Commonwealth of Independent States    2017     4.287736   \n",
       "4    Australia               North America and ANZ    2017     7.257038   \n",
       "\n",
       "   Log GDP Per Capita  Social Support  Healthy Life Expectancy At Birth  \\\n",
       "0            7.647830        0.490880                         53.250000   \n",
       "1            9.455110        0.637698                         69.050003   \n",
       "2           10.068880        0.906699                         67.000000   \n",
       "3            9.434255        0.697925                         66.550003   \n",
       "4           10.787260        0.949958                         70.750000   \n",
       "\n",
       "   Freedom To Make Life Choices  Generosity  Perceptions Of Corruption  ...  \\\n",
       "0                      0.427011   -0.119410                   0.954393  ...   \n",
       "1                      0.749611   -0.030506                   0.876135  ...   \n",
       "2                      0.831966   -0.189601                   0.841052  ...   \n",
       "3                      0.613697   -0.152285                   0.864683  ...   \n",
       "4                      0.910550    0.313771                   0.411347  ...   \n",
       "\n",
       "   Confidence In National Government  Code  Year_y Schizophrenia (%)  \\\n",
       "0                           0.261179   AFG    2017          0.166158   \n",
       "1                           0.457738   ALB    2017          0.201025   \n",
       "2                           0.305430   ARG    2017          0.198094   \n",
       "3                           0.246901   ARM    2017          0.197365   \n",
       "4                           0.453407   AUS    2017          0.363326   \n",
       "\n",
       "  Bipolar disorder (%)  Eating disorders (%)  Anxiety disorders (%)  \\\n",
       "0             0.708089              0.107142               4.882481   \n",
       "1             0.704480              0.174046               3.385245   \n",
       "2             0.773376              0.404033               6.283678   \n",
       "3             0.717591              0.167047               2.592813   \n",
       "4             1.142097              0.943081               6.584301   \n",
       "\n",
       "   Drug use disorders (%)  Depression (%)  Alcohol use disorders (%)  \n",
       "0                2.473934        4.136347                   0.661217  \n",
       "1                0.517614        2.208414                   1.837955  \n",
       "2                1.008901        3.665488                   1.824515  \n",
       "3                0.504360        2.754583                   1.964988  \n",
       "4                2.315142        4.623881                   1.511935  \n",
       "\n",
       "[5 rows x 22 columns]"
      ]
     },
     "metadata": {},
     "output_type": "display_data"
    }
   ],
   "source": [
    "# reads the required datasets and displays them\n",
    "world_happiness = pd.read_csv('World Happiness Report.csv')\n",
    "world_mental = pd.read_csv('Mental health Depression disorder Data.csv')\n",
    "\n",
    "# prepares the two datasets for their merging\n",
    "# by selecting their common year, 2017, and changing a column name\n",
    "world_happiness_2017 = world_happiness.loc[world_happiness['Year'] == 2017].copy().dropna()\n",
    "world_mental_2017 = world_mental.loc[world_mental['Year'] == '2017'].copy().drop('index', axis=1).dropna()\n",
    "world_mental_2017.rename(columns={\"Entity\": \"Country Name\"}, inplace=True)\n",
    "\n",
    "# merges the DataFrames, and displays them consequently\n",
    "df = pd.merge(world_happiness_2017, world_mental_2017, on=\"Country Name\", how='inner')\n",
    "\n",
    "# seeks a possible Pearson's correlation\n",
    "print(\"The correlation between GDP per capita and Life Ladder is:\", \n",
    "      df['Log GDP Per Capita'].corr(df['Life Ladder']) )\n",
    "\n",
    "# prepares the data for the creation of bar charts\n",
    "\n",
    "numeric_columns = df.select_dtypes(include='number')\n",
    "\n",
    "df_mean = df.groupby(['Regional Indicator'])[numeric_columns.columns].mean()\n",
    "df_mean = df_mean.reset_index()\n",
    "\n",
    "df_sum = df.groupby(['Regional Indicator'])[numeric_columns.columns].sum()\n",
    "df_sum = df_sum.reset_index()\n",
    "\n",
    "# displays the disorders as floats\n",
    "data_columns= [\n",
    "            'Bipolar disorder (%)','Schizophrenia (%)','Eating disorders (%)',\n",
    "            'Anxiety disorders (%)','Drug use disorders (%)','Depression (%)',\n",
    "            'Alcohol use disorders (%)'\n",
    "]\n",
    "\n",
    "df[data_columns]= df[data_columns].astype(float)\n",
    "\n",
    "display(df.head())"
   ]
  },
  {
   "cell_type": "markdown",
   "id": "17cf3fe3-b0b2-496b-8d4f-e512119b4ed1",
   "metadata": {
    "editable": true,
    "slideshow": {
     "slide_type": ""
    },
    "tags": []
   },
   "source": [
    "## 3 Visualizations\n",
    "In this segment, visualisation of the aforementioned arguments will be shown. A short conclusion will be provided as well.\n",
    "\n",
    "By examining the relationship between happiness, socio-economic factors, and mental health disorders, we aim to shed light on the complex dynamics that influence individuals' well-being."
   ]
  },
  {
   "cell_type": "markdown",
   "id": "13f3c79a-e8e1-4512-b7e6-7addf086cb55",
   "metadata": {
    "editable": true,
    "slideshow": {
     "slide_type": ""
    },
    "tags": []
   },
   "source": [
    "### 3.1 Perspective 1: Wealth and mental health are closely related\n",
    "*<u>Argument 1: Generally speaking, countries with higher GDP tend to have lower rates of mental health disorders. This argument aims to explore the association between economic prosperity and mental well-being.</u>*\n",
    "\n",
    "According to this figure,"
   ]
  },
  {
   "cell_type": "code",
   "execution_count": 47,
   "id": "53485e40-abe8-4f08-afe3-5ddbe23044ee",
   "metadata": {
    "editable": true,
    "slideshow": {
     "slide_type": ""
    },
    "tags": [
     "hide-input"
    ]
   },
   "outputs": [
    {
     "data": {
      "application/vnd.plotly.v1+json": {
       "config": {
        "plotlyServerURL": "https://plot.ly"
       },
       "data": [
        {
         "marker": {
          "color": "rgb(252, 115, 3)"
         },
         "name": "Depression (%)",
         "type": "bar",
         "x": [
          "Central and Eastern Europe",
          "Commonwealth of Independent States",
          "East Asia",
          "Latin America and Caribbean",
          "Middle East and North Africa",
          "North America and ANZ",
          "South Asia",
          "Southeast Asia",
          "Sub-Saharan Africa",
          "Western Europe"
         ],
         "y": [
          2.7936827857142856,
          3.2177457272727277,
          3.344245666666667,
          2.98483405,
          3.82882675,
          4.354887,
          3.6930599999999996,
          2.891371142857143,
          3.7413536451612903,
          3.8662601000000003
         ]
        },
        {
         "marker": {
          "color": "rgb(14, 174, 237)"
         },
         "name": "Happiness",
         "type": "bar",
         "x": [
          "Central and Eastern Europe",
          "Commonwealth of Independent States",
          "East Asia",
          "Latin America and Caribbean",
          "Middle East and North Africa",
          "North America and ANZ",
          "South Asia",
          "Southeast Asia",
          "Sub-Saharan Africa",
          "Western Europe"
         ],
         "y": [
          5.7131471974285715,
          5.311056007,
          5.706137975,
          5.99267653225,
          5.26794195175,
          7.24771201625,
          4.3193514745,
          5.196189948571429,
          4.393276691419355,
          6.8919604778500005
         ]
        },
        {
         "marker": {
          "color": "rgb(135, 18, 219)"
         },
         "name": "GDP",
         "type": "bar",
         "x": [
          "Central and Eastern Europe",
          "Commonwealth of Independent States",
          "East Asia",
          "Latin America and Caribbean",
          "Middle East and North Africa",
          "North America and ANZ",
          "South Asia",
          "Southeast Asia",
          "Sub-Saharan Africa",
          "Western Europe"
         ],
         "y": [
          10.1062373435,
          9.344740174090909,
          10.198839825,
          9.25787265305,
          9.7160172455,
          10.8060238375,
          8.503302494666666,
          9.290584564,
          8.055150108967743,
          10.834960651500001
         ]
        }
       ],
       "layout": {
        "autosize": true,
        "template": {
         "data": {
          "bar": [
           {
            "error_x": {
             "color": "#2a3f5f"
            },
            "error_y": {
             "color": "#2a3f5f"
            },
            "marker": {
             "line": {
              "color": "#E5ECF6",
              "width": 0.5
             },
             "pattern": {
              "fillmode": "overlay",
              "size": 10,
              "solidity": 0.2
             }
            },
            "type": "bar"
           }
          ],
          "barpolar": [
           {
            "marker": {
             "line": {
              "color": "#E5ECF6",
              "width": 0.5
             },
             "pattern": {
              "fillmode": "overlay",
              "size": 10,
              "solidity": 0.2
             }
            },
            "type": "barpolar"
           }
          ],
          "carpet": [
           {
            "aaxis": {
             "endlinecolor": "#2a3f5f",
             "gridcolor": "white",
             "linecolor": "white",
             "minorgridcolor": "white",
             "startlinecolor": "#2a3f5f"
            },
            "baxis": {
             "endlinecolor": "#2a3f5f",
             "gridcolor": "white",
             "linecolor": "white",
             "minorgridcolor": "white",
             "startlinecolor": "#2a3f5f"
            },
            "type": "carpet"
           }
          ],
          "choropleth": [
           {
            "colorbar": {
             "outlinewidth": 0,
             "ticks": ""
            },
            "type": "choropleth"
           }
          ],
          "contour": [
           {
            "colorbar": {
             "outlinewidth": 0,
             "ticks": ""
            },
            "colorscale": [
             [
              0,
              "#0d0887"
             ],
             [
              0.1111111111111111,
              "#46039f"
             ],
             [
              0.2222222222222222,
              "#7201a8"
             ],
             [
              0.3333333333333333,
              "#9c179e"
             ],
             [
              0.4444444444444444,
              "#bd3786"
             ],
             [
              0.5555555555555556,
              "#d8576b"
             ],
             [
              0.6666666666666666,
              "#ed7953"
             ],
             [
              0.7777777777777778,
              "#fb9f3a"
             ],
             [
              0.8888888888888888,
              "#fdca26"
             ],
             [
              1,
              "#f0f921"
             ]
            ],
            "type": "contour"
           }
          ],
          "contourcarpet": [
           {
            "colorbar": {
             "outlinewidth": 0,
             "ticks": ""
            },
            "type": "contourcarpet"
           }
          ],
          "heatmap": [
           {
            "colorbar": {
             "outlinewidth": 0,
             "ticks": ""
            },
            "colorscale": [
             [
              0,
              "#0d0887"
             ],
             [
              0.1111111111111111,
              "#46039f"
             ],
             [
              0.2222222222222222,
              "#7201a8"
             ],
             [
              0.3333333333333333,
              "#9c179e"
             ],
             [
              0.4444444444444444,
              "#bd3786"
             ],
             [
              0.5555555555555556,
              "#d8576b"
             ],
             [
              0.6666666666666666,
              "#ed7953"
             ],
             [
              0.7777777777777778,
              "#fb9f3a"
             ],
             [
              0.8888888888888888,
              "#fdca26"
             ],
             [
              1,
              "#f0f921"
             ]
            ],
            "type": "heatmap"
           }
          ],
          "heatmapgl": [
           {
            "colorbar": {
             "outlinewidth": 0,
             "ticks": ""
            },
            "colorscale": [
             [
              0,
              "#0d0887"
             ],
             [
              0.1111111111111111,
              "#46039f"
             ],
             [
              0.2222222222222222,
              "#7201a8"
             ],
             [
              0.3333333333333333,
              "#9c179e"
             ],
             [
              0.4444444444444444,
              "#bd3786"
             ],
             [
              0.5555555555555556,
              "#d8576b"
             ],
             [
              0.6666666666666666,
              "#ed7953"
             ],
             [
              0.7777777777777778,
              "#fb9f3a"
             ],
             [
              0.8888888888888888,
              "#fdca26"
             ],
             [
              1,
              "#f0f921"
             ]
            ],
            "type": "heatmapgl"
           }
          ],
          "histogram": [
           {
            "marker": {
             "pattern": {
              "fillmode": "overlay",
              "size": 10,
              "solidity": 0.2
             }
            },
            "type": "histogram"
           }
          ],
          "histogram2d": [
           {
            "colorbar": {
             "outlinewidth": 0,
             "ticks": ""
            },
            "colorscale": [
             [
              0,
              "#0d0887"
             ],
             [
              0.1111111111111111,
              "#46039f"
             ],
             [
              0.2222222222222222,
              "#7201a8"
             ],
             [
              0.3333333333333333,
              "#9c179e"
             ],
             [
              0.4444444444444444,
              "#bd3786"
             ],
             [
              0.5555555555555556,
              "#d8576b"
             ],
             [
              0.6666666666666666,
              "#ed7953"
             ],
             [
              0.7777777777777778,
              "#fb9f3a"
             ],
             [
              0.8888888888888888,
              "#fdca26"
             ],
             [
              1,
              "#f0f921"
             ]
            ],
            "type": "histogram2d"
           }
          ],
          "histogram2dcontour": [
           {
            "colorbar": {
             "outlinewidth": 0,
             "ticks": ""
            },
            "colorscale": [
             [
              0,
              "#0d0887"
             ],
             [
              0.1111111111111111,
              "#46039f"
             ],
             [
              0.2222222222222222,
              "#7201a8"
             ],
             [
              0.3333333333333333,
              "#9c179e"
             ],
             [
              0.4444444444444444,
              "#bd3786"
             ],
             [
              0.5555555555555556,
              "#d8576b"
             ],
             [
              0.6666666666666666,
              "#ed7953"
             ],
             [
              0.7777777777777778,
              "#fb9f3a"
             ],
             [
              0.8888888888888888,
              "#fdca26"
             ],
             [
              1,
              "#f0f921"
             ]
            ],
            "type": "histogram2dcontour"
           }
          ],
          "mesh3d": [
           {
            "colorbar": {
             "outlinewidth": 0,
             "ticks": ""
            },
            "type": "mesh3d"
           }
          ],
          "parcoords": [
           {
            "line": {
             "colorbar": {
              "outlinewidth": 0,
              "ticks": ""
             }
            },
            "type": "parcoords"
           }
          ],
          "pie": [
           {
            "automargin": true,
            "type": "pie"
           }
          ],
          "scatter": [
           {
            "fillpattern": {
             "fillmode": "overlay",
             "size": 10,
             "solidity": 0.2
            },
            "type": "scatter"
           }
          ],
          "scatter3d": [
           {
            "line": {
             "colorbar": {
              "outlinewidth": 0,
              "ticks": ""
             }
            },
            "marker": {
             "colorbar": {
              "outlinewidth": 0,
              "ticks": ""
             }
            },
            "type": "scatter3d"
           }
          ],
          "scattercarpet": [
           {
            "marker": {
             "colorbar": {
              "outlinewidth": 0,
              "ticks": ""
             }
            },
            "type": "scattercarpet"
           }
          ],
          "scattergeo": [
           {
            "marker": {
             "colorbar": {
              "outlinewidth": 0,
              "ticks": ""
             }
            },
            "type": "scattergeo"
           }
          ],
          "scattergl": [
           {
            "marker": {
             "colorbar": {
              "outlinewidth": 0,
              "ticks": ""
             }
            },
            "type": "scattergl"
           }
          ],
          "scattermapbox": [
           {
            "marker": {
             "colorbar": {
              "outlinewidth": 0,
              "ticks": ""
             }
            },
            "type": "scattermapbox"
           }
          ],
          "scatterpolar": [
           {
            "marker": {
             "colorbar": {
              "outlinewidth": 0,
              "ticks": ""
             }
            },
            "type": "scatterpolar"
           }
          ],
          "scatterpolargl": [
           {
            "marker": {
             "colorbar": {
              "outlinewidth": 0,
              "ticks": ""
             }
            },
            "type": "scatterpolargl"
           }
          ],
          "scatterternary": [
           {
            "marker": {
             "colorbar": {
              "outlinewidth": 0,
              "ticks": ""
             }
            },
            "type": "scatterternary"
           }
          ],
          "surface": [
           {
            "colorbar": {
             "outlinewidth": 0,
             "ticks": ""
            },
            "colorscale": [
             [
              0,
              "#0d0887"
             ],
             [
              0.1111111111111111,
              "#46039f"
             ],
             [
              0.2222222222222222,
              "#7201a8"
             ],
             [
              0.3333333333333333,
              "#9c179e"
             ],
             [
              0.4444444444444444,
              "#bd3786"
             ],
             [
              0.5555555555555556,
              "#d8576b"
             ],
             [
              0.6666666666666666,
              "#ed7953"
             ],
             [
              0.7777777777777778,
              "#fb9f3a"
             ],
             [
              0.8888888888888888,
              "#fdca26"
             ],
             [
              1,
              "#f0f921"
             ]
            ],
            "type": "surface"
           }
          ],
          "table": [
           {
            "cells": {
             "fill": {
              "color": "#EBF0F8"
             },
             "line": {
              "color": "white"
             }
            },
            "header": {
             "fill": {
              "color": "#C8D4E3"
             },
             "line": {
              "color": "white"
             }
            },
            "type": "table"
           }
          ]
         },
         "layout": {
          "annotationdefaults": {
           "arrowcolor": "#2a3f5f",
           "arrowhead": 0,
           "arrowwidth": 1
          },
          "autotypenumbers": "strict",
          "coloraxis": {
           "colorbar": {
            "outlinewidth": 0,
            "ticks": ""
           }
          },
          "colorscale": {
           "diverging": [
            [
             0,
             "#8e0152"
            ],
            [
             0.1,
             "#c51b7d"
            ],
            [
             0.2,
             "#de77ae"
            ],
            [
             0.3,
             "#f1b6da"
            ],
            [
             0.4,
             "#fde0ef"
            ],
            [
             0.5,
             "#f7f7f7"
            ],
            [
             0.6,
             "#e6f5d0"
            ],
            [
             0.7,
             "#b8e186"
            ],
            [
             0.8,
             "#7fbc41"
            ],
            [
             0.9,
             "#4d9221"
            ],
            [
             1,
             "#276419"
            ]
           ],
           "sequential": [
            [
             0,
             "#0d0887"
            ],
            [
             0.1111111111111111,
             "#46039f"
            ],
            [
             0.2222222222222222,
             "#7201a8"
            ],
            [
             0.3333333333333333,
             "#9c179e"
            ],
            [
             0.4444444444444444,
             "#bd3786"
            ],
            [
             0.5555555555555556,
             "#d8576b"
            ],
            [
             0.6666666666666666,
             "#ed7953"
            ],
            [
             0.7777777777777778,
             "#fb9f3a"
            ],
            [
             0.8888888888888888,
             "#fdca26"
            ],
            [
             1,
             "#f0f921"
            ]
           ],
           "sequentialminus": [
            [
             0,
             "#0d0887"
            ],
            [
             0.1111111111111111,
             "#46039f"
            ],
            [
             0.2222222222222222,
             "#7201a8"
            ],
            [
             0.3333333333333333,
             "#9c179e"
            ],
            [
             0.4444444444444444,
             "#bd3786"
            ],
            [
             0.5555555555555556,
             "#d8576b"
            ],
            [
             0.6666666666666666,
             "#ed7953"
            ],
            [
             0.7777777777777778,
             "#fb9f3a"
            ],
            [
             0.8888888888888888,
             "#fdca26"
            ],
            [
             1,
             "#f0f921"
            ]
           ]
          },
          "colorway": [
           "#636efa",
           "#EF553B",
           "#00cc96",
           "#ab63fa",
           "#FFA15A",
           "#19d3f3",
           "#FF6692",
           "#B6E880",
           "#FF97FF",
           "#FECB52"
          ],
          "font": {
           "color": "#2a3f5f"
          },
          "geo": {
           "bgcolor": "white",
           "lakecolor": "white",
           "landcolor": "#E5ECF6",
           "showlakes": true,
           "showland": true,
           "subunitcolor": "white"
          },
          "hoverlabel": {
           "align": "left"
          },
          "hovermode": "closest",
          "mapbox": {
           "style": "light"
          },
          "paper_bgcolor": "white",
          "plot_bgcolor": "#E5ECF6",
          "polar": {
           "angularaxis": {
            "gridcolor": "white",
            "linecolor": "white",
            "ticks": ""
           },
           "bgcolor": "#E5ECF6",
           "radialaxis": {
            "gridcolor": "white",
            "linecolor": "white",
            "ticks": ""
           }
          },
          "scene": {
           "xaxis": {
            "backgroundcolor": "#E5ECF6",
            "gridcolor": "white",
            "gridwidth": 2,
            "linecolor": "white",
            "showbackground": true,
            "ticks": "",
            "zerolinecolor": "white"
           },
           "yaxis": {
            "backgroundcolor": "#E5ECF6",
            "gridcolor": "white",
            "gridwidth": 2,
            "linecolor": "white",
            "showbackground": true,
            "ticks": "",
            "zerolinecolor": "white"
           },
           "zaxis": {
            "backgroundcolor": "#E5ECF6",
            "gridcolor": "white",
            "gridwidth": 2,
            "linecolor": "white",
            "showbackground": true,
            "ticks": "",
            "zerolinecolor": "white"
           }
          },
          "shapedefaults": {
           "line": {
            "color": "#2a3f5f"
           }
          },
          "ternary": {
           "aaxis": {
            "gridcolor": "white",
            "linecolor": "white",
            "ticks": ""
           },
           "baxis": {
            "gridcolor": "white",
            "linecolor": "white",
            "ticks": ""
           },
           "bgcolor": "#E5ECF6",
           "caxis": {
            "gridcolor": "white",
            "linecolor": "white",
            "ticks": ""
           }
          },
          "title": {
           "x": 0.05
          },
          "xaxis": {
           "automargin": true,
           "gridcolor": "white",
           "linecolor": "white",
           "ticks": "",
           "title": {
            "standoff": 15
           },
           "zerolinecolor": "white",
           "zerolinewidth": 2
          },
          "yaxis": {
           "automargin": true,
           "gridcolor": "white",
           "linecolor": "white",
           "ticks": "",
           "title": {
            "standoff": 15
           },
           "zerolinecolor": "white",
           "zerolinewidth": 2
          }
         }
        },
        "title": {
         "text": "Depression (%), Happiness and GDP per region"
        },
        "xaxis": {
         "autorange": true,
         "range": [
          -0.5,
          9.5
         ],
         "title": {
          "text": "Regional Indicator"
         },
         "type": "category"
        },
        "yaxis": {
         "autorange": true,
         "range": [
          0,
          11.405221738421053
         ],
         "title": {
          "text": "Strength"
         },
         "type": "linear"
        }
       }
      },
      "text/html": [
       "<div>                            <div id=\"661220ca-3ecb-4999-bcce-3487ba254d7c\" class=\"plotly-graph-div\" style=\"height:525px; width:100%;\"></div>            <script type=\"text/javascript\">                require([\"plotly\"], function(Plotly) {                    window.PLOTLYENV=window.PLOTLYENV || {};                                    if (document.getElementById(\"661220ca-3ecb-4999-bcce-3487ba254d7c\")) {                    Plotly.newPlot(                        \"661220ca-3ecb-4999-bcce-3487ba254d7c\",                        [{\"marker\":{\"color\":\"rgb(252, 115, 3)\"},\"name\":\"Depression (%)\",\"x\":[\"Central and Eastern Europe\",\"Commonwealth of Independent States\",\"East Asia\",\"Latin America and Caribbean\",\"Middle East and North Africa\",\"North America and ANZ\",\"South Asia\",\"Southeast Asia\",\"Sub-Saharan Africa\",\"Western Europe\"],\"y\":[2.7936827857142856,3.2177457272727277,3.344245666666667,2.98483405,3.82882675,4.354887,3.6930599999999996,2.891371142857143,3.7413536451612903,3.8662601000000003],\"type\":\"bar\"},{\"marker\":{\"color\":\"rgb(14, 174, 237)\"},\"name\":\"Happiness\",\"x\":[\"Central and Eastern Europe\",\"Commonwealth of Independent States\",\"East Asia\",\"Latin America and Caribbean\",\"Middle East and North Africa\",\"North America and ANZ\",\"South Asia\",\"Southeast Asia\",\"Sub-Saharan Africa\",\"Western Europe\"],\"y\":[5.7131471974285715,5.311056007,5.706137975,5.99267653225,5.26794195175,7.24771201625,4.3193514745,5.196189948571429,4.393276691419355,6.8919604778500005],\"type\":\"bar\"},{\"marker\":{\"color\":\"rgb(135, 18, 219)\"},\"name\":\"GDP\",\"x\":[\"Central and Eastern Europe\",\"Commonwealth of Independent States\",\"East Asia\",\"Latin America and Caribbean\",\"Middle East and North Africa\",\"North America and ANZ\",\"South Asia\",\"Southeast Asia\",\"Sub-Saharan Africa\",\"Western Europe\"],\"y\":[10.1062373435,9.344740174090909,10.198839825,9.25787265305,9.7160172455,10.8060238375,8.503302494666666,9.290584564,8.055150108967743,10.834960651500001],\"type\":\"bar\"}],                        {\"title\":{\"text\":\"Depression (%), Happiness and GDP per region\"},\"xaxis\":{\"title\":{\"text\":\"Regional Indicator\"},\"type\":\"category\"},\"yaxis\":{\"title\":{\"text\":\"Strength\"}},\"template\":{\"data\":{\"histogram2dcontour\":[{\"type\":\"histogram2dcontour\",\"colorbar\":{\"outlinewidth\":0,\"ticks\":\"\"},\"colorscale\":[[0.0,\"#0d0887\"],[0.1111111111111111,\"#46039f\"],[0.2222222222222222,\"#7201a8\"],[0.3333333333333333,\"#9c179e\"],[0.4444444444444444,\"#bd3786\"],[0.5555555555555556,\"#d8576b\"],[0.6666666666666666,\"#ed7953\"],[0.7777777777777778,\"#fb9f3a\"],[0.8888888888888888,\"#fdca26\"],[1.0,\"#f0f921\"]]}],\"choropleth\":[{\"type\":\"choropleth\",\"colorbar\":{\"outlinewidth\":0,\"ticks\":\"\"}}],\"histogram2d\":[{\"type\":\"histogram2d\",\"colorbar\":{\"outlinewidth\":0,\"ticks\":\"\"},\"colorscale\":[[0.0,\"#0d0887\"],[0.1111111111111111,\"#46039f\"],[0.2222222222222222,\"#7201a8\"],[0.3333333333333333,\"#9c179e\"],[0.4444444444444444,\"#bd3786\"],[0.5555555555555556,\"#d8576b\"],[0.6666666666666666,\"#ed7953\"],[0.7777777777777778,\"#fb9f3a\"],[0.8888888888888888,\"#fdca26\"],[1.0,\"#f0f921\"]]}],\"heatmap\":[{\"type\":\"heatmap\",\"colorbar\":{\"outlinewidth\":0,\"ticks\":\"\"},\"colorscale\":[[0.0,\"#0d0887\"],[0.1111111111111111,\"#46039f\"],[0.2222222222222222,\"#7201a8\"],[0.3333333333333333,\"#9c179e\"],[0.4444444444444444,\"#bd3786\"],[0.5555555555555556,\"#d8576b\"],[0.6666666666666666,\"#ed7953\"],[0.7777777777777778,\"#fb9f3a\"],[0.8888888888888888,\"#fdca26\"],[1.0,\"#f0f921\"]]}],\"heatmapgl\":[{\"type\":\"heatmapgl\",\"colorbar\":{\"outlinewidth\":0,\"ticks\":\"\"},\"colorscale\":[[0.0,\"#0d0887\"],[0.1111111111111111,\"#46039f\"],[0.2222222222222222,\"#7201a8\"],[0.3333333333333333,\"#9c179e\"],[0.4444444444444444,\"#bd3786\"],[0.5555555555555556,\"#d8576b\"],[0.6666666666666666,\"#ed7953\"],[0.7777777777777778,\"#fb9f3a\"],[0.8888888888888888,\"#fdca26\"],[1.0,\"#f0f921\"]]}],\"contourcarpet\":[{\"type\":\"contourcarpet\",\"colorbar\":{\"outlinewidth\":0,\"ticks\":\"\"}}],\"contour\":[{\"type\":\"contour\",\"colorbar\":{\"outlinewidth\":0,\"ticks\":\"\"},\"colorscale\":[[0.0,\"#0d0887\"],[0.1111111111111111,\"#46039f\"],[0.2222222222222222,\"#7201a8\"],[0.3333333333333333,\"#9c179e\"],[0.4444444444444444,\"#bd3786\"],[0.5555555555555556,\"#d8576b\"],[0.6666666666666666,\"#ed7953\"],[0.7777777777777778,\"#fb9f3a\"],[0.8888888888888888,\"#fdca26\"],[1.0,\"#f0f921\"]]}],\"surface\":[{\"type\":\"surface\",\"colorbar\":{\"outlinewidth\":0,\"ticks\":\"\"},\"colorscale\":[[0.0,\"#0d0887\"],[0.1111111111111111,\"#46039f\"],[0.2222222222222222,\"#7201a8\"],[0.3333333333333333,\"#9c179e\"],[0.4444444444444444,\"#bd3786\"],[0.5555555555555556,\"#d8576b\"],[0.6666666666666666,\"#ed7953\"],[0.7777777777777778,\"#fb9f3a\"],[0.8888888888888888,\"#fdca26\"],[1.0,\"#f0f921\"]]}],\"mesh3d\":[{\"type\":\"mesh3d\",\"colorbar\":{\"outlinewidth\":0,\"ticks\":\"\"}}],\"scatter\":[{\"fillpattern\":{\"fillmode\":\"overlay\",\"size\":10,\"solidity\":0.2},\"type\":\"scatter\"}],\"parcoords\":[{\"type\":\"parcoords\",\"line\":{\"colorbar\":{\"outlinewidth\":0,\"ticks\":\"\"}}}],\"scatterpolargl\":[{\"type\":\"scatterpolargl\",\"marker\":{\"colorbar\":{\"outlinewidth\":0,\"ticks\":\"\"}}}],\"bar\":[{\"error_x\":{\"color\":\"#2a3f5f\"},\"error_y\":{\"color\":\"#2a3f5f\"},\"marker\":{\"line\":{\"color\":\"#E5ECF6\",\"width\":0.5},\"pattern\":{\"fillmode\":\"overlay\",\"size\":10,\"solidity\":0.2}},\"type\":\"bar\"}],\"scattergeo\":[{\"type\":\"scattergeo\",\"marker\":{\"colorbar\":{\"outlinewidth\":0,\"ticks\":\"\"}}}],\"scatterpolar\":[{\"type\":\"scatterpolar\",\"marker\":{\"colorbar\":{\"outlinewidth\":0,\"ticks\":\"\"}}}],\"histogram\":[{\"marker\":{\"pattern\":{\"fillmode\":\"overlay\",\"size\":10,\"solidity\":0.2}},\"type\":\"histogram\"}],\"scattergl\":[{\"type\":\"scattergl\",\"marker\":{\"colorbar\":{\"outlinewidth\":0,\"ticks\":\"\"}}}],\"scatter3d\":[{\"type\":\"scatter3d\",\"line\":{\"colorbar\":{\"outlinewidth\":0,\"ticks\":\"\"}},\"marker\":{\"colorbar\":{\"outlinewidth\":0,\"ticks\":\"\"}}}],\"scattermapbox\":[{\"type\":\"scattermapbox\",\"marker\":{\"colorbar\":{\"outlinewidth\":0,\"ticks\":\"\"}}}],\"scatterternary\":[{\"type\":\"scatterternary\",\"marker\":{\"colorbar\":{\"outlinewidth\":0,\"ticks\":\"\"}}}],\"scattercarpet\":[{\"type\":\"scattercarpet\",\"marker\":{\"colorbar\":{\"outlinewidth\":0,\"ticks\":\"\"}}}],\"carpet\":[{\"aaxis\":{\"endlinecolor\":\"#2a3f5f\",\"gridcolor\":\"white\",\"linecolor\":\"white\",\"minorgridcolor\":\"white\",\"startlinecolor\":\"#2a3f5f\"},\"baxis\":{\"endlinecolor\":\"#2a3f5f\",\"gridcolor\":\"white\",\"linecolor\":\"white\",\"minorgridcolor\":\"white\",\"startlinecolor\":\"#2a3f5f\"},\"type\":\"carpet\"}],\"table\":[{\"cells\":{\"fill\":{\"color\":\"#EBF0F8\"},\"line\":{\"color\":\"white\"}},\"header\":{\"fill\":{\"color\":\"#C8D4E3\"},\"line\":{\"color\":\"white\"}},\"type\":\"table\"}],\"barpolar\":[{\"marker\":{\"line\":{\"color\":\"#E5ECF6\",\"width\":0.5},\"pattern\":{\"fillmode\":\"overlay\",\"size\":10,\"solidity\":0.2}},\"type\":\"barpolar\"}],\"pie\":[{\"automargin\":true,\"type\":\"pie\"}]},\"layout\":{\"autotypenumbers\":\"strict\",\"colorway\":[\"#636efa\",\"#EF553B\",\"#00cc96\",\"#ab63fa\",\"#FFA15A\",\"#19d3f3\",\"#FF6692\",\"#B6E880\",\"#FF97FF\",\"#FECB52\"],\"font\":{\"color\":\"#2a3f5f\"},\"hovermode\":\"closest\",\"hoverlabel\":{\"align\":\"left\"},\"paper_bgcolor\":\"white\",\"plot_bgcolor\":\"#E5ECF6\",\"polar\":{\"bgcolor\":\"#E5ECF6\",\"angularaxis\":{\"gridcolor\":\"white\",\"linecolor\":\"white\",\"ticks\":\"\"},\"radialaxis\":{\"gridcolor\":\"white\",\"linecolor\":\"white\",\"ticks\":\"\"}},\"ternary\":{\"bgcolor\":\"#E5ECF6\",\"aaxis\":{\"gridcolor\":\"white\",\"linecolor\":\"white\",\"ticks\":\"\"},\"baxis\":{\"gridcolor\":\"white\",\"linecolor\":\"white\",\"ticks\":\"\"},\"caxis\":{\"gridcolor\":\"white\",\"linecolor\":\"white\",\"ticks\":\"\"}},\"coloraxis\":{\"colorbar\":{\"outlinewidth\":0,\"ticks\":\"\"}},\"colorscale\":{\"sequential\":[[0.0,\"#0d0887\"],[0.1111111111111111,\"#46039f\"],[0.2222222222222222,\"#7201a8\"],[0.3333333333333333,\"#9c179e\"],[0.4444444444444444,\"#bd3786\"],[0.5555555555555556,\"#d8576b\"],[0.6666666666666666,\"#ed7953\"],[0.7777777777777778,\"#fb9f3a\"],[0.8888888888888888,\"#fdca26\"],[1.0,\"#f0f921\"]],\"sequentialminus\":[[0.0,\"#0d0887\"],[0.1111111111111111,\"#46039f\"],[0.2222222222222222,\"#7201a8\"],[0.3333333333333333,\"#9c179e\"],[0.4444444444444444,\"#bd3786\"],[0.5555555555555556,\"#d8576b\"],[0.6666666666666666,\"#ed7953\"],[0.7777777777777778,\"#fb9f3a\"],[0.8888888888888888,\"#fdca26\"],[1.0,\"#f0f921\"]],\"diverging\":[[0,\"#8e0152\"],[0.1,\"#c51b7d\"],[0.2,\"#de77ae\"],[0.3,\"#f1b6da\"],[0.4,\"#fde0ef\"],[0.5,\"#f7f7f7\"],[0.6,\"#e6f5d0\"],[0.7,\"#b8e186\"],[0.8,\"#7fbc41\"],[0.9,\"#4d9221\"],[1,\"#276419\"]]},\"xaxis\":{\"gridcolor\":\"white\",\"linecolor\":\"white\",\"ticks\":\"\",\"title\":{\"standoff\":15},\"zerolinecolor\":\"white\",\"automargin\":true,\"zerolinewidth\":2},\"yaxis\":{\"gridcolor\":\"white\",\"linecolor\":\"white\",\"ticks\":\"\",\"title\":{\"standoff\":15},\"zerolinecolor\":\"white\",\"automargin\":true,\"zerolinewidth\":2},\"scene\":{\"xaxis\":{\"backgroundcolor\":\"#E5ECF6\",\"gridcolor\":\"white\",\"linecolor\":\"white\",\"showbackground\":true,\"ticks\":\"\",\"zerolinecolor\":\"white\",\"gridwidth\":2},\"yaxis\":{\"backgroundcolor\":\"#E5ECF6\",\"gridcolor\":\"white\",\"linecolor\":\"white\",\"showbackground\":true,\"ticks\":\"\",\"zerolinecolor\":\"white\",\"gridwidth\":2},\"zaxis\":{\"backgroundcolor\":\"#E5ECF6\",\"gridcolor\":\"white\",\"linecolor\":\"white\",\"showbackground\":true,\"ticks\":\"\",\"zerolinecolor\":\"white\",\"gridwidth\":2}},\"shapedefaults\":{\"line\":{\"color\":\"#2a3f5f\"}},\"annotationdefaults\":{\"arrowcolor\":\"#2a3f5f\",\"arrowhead\":0,\"arrowwidth\":1},\"geo\":{\"bgcolor\":\"white\",\"landcolor\":\"#E5ECF6\",\"subunitcolor\":\"white\",\"showland\":true,\"showlakes\":true,\"lakecolor\":\"white\"},\"title\":{\"x\":0.05},\"mapbox\":{\"style\":\"light\"}}}},                        {\"responsive\": true}                    ).then(function(){\n",
       "                            \n",
       "var gd = document.getElementById('661220ca-3ecb-4999-bcce-3487ba254d7c');\n",
       "var x = new MutationObserver(function (mutations, observer) {{\n",
       "        var display = window.getComputedStyle(gd).display;\n",
       "        if (!display || display === 'none') {{\n",
       "            console.log([gd, 'removed!']);\n",
       "            Plotly.purge(gd);\n",
       "            observer.disconnect();\n",
       "        }}\n",
       "}});\n",
       "\n",
       "// Listen for the removal of the full notebook cells\n",
       "var notebookContainer = gd.closest('#notebook-container');\n",
       "if (notebookContainer) {{\n",
       "    x.observe(notebookContainer, {childList: true});\n",
       "}}\n",
       "\n",
       "// Listen for the clearing of the current output cell\n",
       "var outputEl = gd.closest('.output');\n",
       "if (outputEl) {{\n",
       "    x.observe(outputEl, {childList: true});\n",
       "}}\n",
       "\n",
       "                        })                };                });            </script>        </div>"
      ]
     },
     "metadata": {},
     "output_type": "display_data"
    }
   ],
   "source": [
    "# Create a layout object that contains the specifications for the X and Y axes.\n",
    "layout = go.Layout(\n",
    "    title = \"Depression (%), Happiness and GDP per region\",\n",
    "    xaxis=go.layout.XAxis(\n",
    "        type='category'\n",
    "    ),\n",
    "    xaxis_title=\"Regional Indicator\",\n",
    "    yaxis_title=\"Strength\",\n",
    ")\n",
    "\n",
    "    \n",
    "trace1 = go.Bar (\n",
    "    x = df_mean[\"Regional Indicator\"],\n",
    "    y = df_mean[\"Depression (%)\"],\n",
    "    name = \"Depression (%)\",\n",
    "    marker = dict(\n",
    "        color = 'rgb(252, 115, 3)'\n",
    "    )\n",
    ")\n",
    "\n",
    "trace2 = go.Bar (\n",
    "    x = df_mean[\"Regional Indicator\"],\n",
    "    y = df_mean[\"Life Ladder\"],\n",
    "    name = \"Happiness\",\n",
    "    marker = dict(\n",
    "        color = 'rgb(14, 174, 237)'\n",
    "    )\n",
    ")\n",
    "\n",
    "trace3 = go.Bar (\n",
    "    x = df_mean[\"Regional Indicator\"],\n",
    "    y = df_mean[\"Log GDP Per Capita\"],\n",
    "    name = \"GDP\",\n",
    "    marker = dict(\n",
    "        color = 'rgb(135, 18, 219)'\n",
    "    )\n",
    ")\n",
    "\n",
    "# Create a list of the traces.\n",
    "data = [trace1, trace2, trace3]\n",
    "\n",
    "# Create a figure object with the data and layout objects.\n",
    "fig = go.Figure(data=data, layout=layout)\n",
    "\n",
    "# Show the figure.\n",
    "fig.show()"
   ]
  },
  {
   "cell_type": "markdown",
   "id": "9d0dd02c-ff38-421a-b27f-baf7978858b1",
   "metadata": {},
   "source": [
    "## Nog plaatsen"
   ]
  },
  {
   "cell_type": "code",
   "execution_count": 21,
   "id": "c898f799-0e51-4e6a-b181-4def774af04f",
   "metadata": {
    "editable": true,
    "slideshow": {
     "slide_type": ""
    },
    "tags": [
     "hide-input",
     "hide-cell"
    ]
   },
   "outputs": [
    {
     "data": {
      "application/vnd.plotly.v1+json": {
       "config": {
        "plotlyServerURL": "https://plot.ly"
       },
       "data": [
        {
         "hovertemplate": "Country Name=Afghanistan<br>Life Ladder=%{x}<br>Eating disorders (%)=%{y}<extra></extra>",
         "legendgroup": "Afghanistan",
         "marker": {
          "color": "#636efa",
          "symbol": "circle"
         },
         "mode": "markers",
         "name": "Afghanistan",
         "orientation": "v",
         "showlegend": true,
         "type": "scatter",
         "x": [
          2.66171813
         ],
         "xaxis": "x",
         "y": [
          0.107142
         ],
         "yaxis": "y"
        },
        {
         "hovertemplate": "Country Name=Albania<br>Life Ladder=%{x}<br>Eating disorders (%)=%{y}<extra></extra>",
         "legendgroup": "Albania",
         "marker": {
          "color": "#EF553B",
          "symbol": "circle"
         },
         "mode": "markers",
         "name": "Albania",
         "orientation": "v",
         "showlegend": true,
         "type": "scatter",
         "x": [
          4.639548302
         ],
         "xaxis": "x",
         "y": [
          0.174046
         ],
         "yaxis": "y"
        },
        {
         "hovertemplate": "Country Name=Argentina<br>Life Ladder=%{x}<br>Eating disorders (%)=%{y}<extra></extra>",
         "legendgroup": "Argentina",
         "marker": {
          "color": "#00cc96",
          "symbol": "circle"
         },
         "mode": "markers",
         "name": "Argentina",
         "orientation": "v",
         "showlegend": true,
         "type": "scatter",
         "x": [
          6.039330006
         ],
         "xaxis": "x",
         "y": [
          0.404033
         ],
         "yaxis": "y"
        },
        {
         "hovertemplate": "Country Name=Armenia<br>Life Ladder=%{x}<br>Eating disorders (%)=%{y}<extra></extra>",
         "legendgroup": "Armenia",
         "marker": {
          "color": "#ab63fa",
          "symbol": "circle"
         },
         "mode": "markers",
         "name": "Armenia",
         "orientation": "v",
         "showlegend": true,
         "type": "scatter",
         "x": [
          4.287736416
         ],
         "xaxis": "x",
         "y": [
          0.167047
         ],
         "yaxis": "y"
        },
        {
         "hovertemplate": "Country Name=Australia<br>Life Ladder=%{x}<br>Eating disorders (%)=%{y}<extra></extra>",
         "legendgroup": "Australia",
         "marker": {
          "color": "#FFA15A",
          "symbol": "circle"
         },
         "mode": "markers",
         "name": "Australia",
         "orientation": "v",
         "showlegend": true,
         "type": "scatter",
         "x": [
          7.25703764
         ],
         "xaxis": "x",
         "y": [
          0.943081
         ],
         "yaxis": "y"
        },
        {
         "hovertemplate": "Country Name=Austria<br>Life Ladder=%{x}<br>Eating disorders (%)=%{y}<extra></extra>",
         "legendgroup": "Austria",
         "marker": {
          "color": "#19d3f3",
          "symbol": "circle"
         },
         "mode": "markers",
         "name": "Austria",
         "orientation": "v",
         "showlegend": true,
         "type": "scatter",
         "x": [
          7.293727875
         ],
         "xaxis": "x",
         "y": [
          0.675112
         ],
         "yaxis": "y"
        },
        {
         "hovertemplate": "Country Name=Azerbaijan<br>Life Ladder=%{x}<br>Eating disorders (%)=%{y}<extra></extra>",
         "legendgroup": "Azerbaijan",
         "marker": {
          "color": "#FF6692",
          "symbol": "circle"
         },
         "mode": "markers",
         "name": "Azerbaijan",
         "orientation": "v",
         "showlegend": true,
         "type": "scatter",
         "x": [
          5.152279377
         ],
         "xaxis": "x",
         "y": [
          0.204891
         ],
         "yaxis": "y"
        },
        {
         "hovertemplate": "Country Name=Bangladesh<br>Life Ladder=%{x}<br>Eating disorders (%)=%{y}<extra></extra>",
         "legendgroup": "Bangladesh",
         "marker": {
          "color": "#B6E880",
          "symbol": "circle"
         },
         "mode": "markers",
         "name": "Bangladesh",
         "orientation": "v",
         "showlegend": true,
         "type": "scatter",
         "x": [
          4.309771061
         ],
         "xaxis": "x",
         "y": [
          0.137974
         ],
         "yaxis": "y"
        },
        {
         "hovertemplate": "Country Name=Belarus<br>Life Ladder=%{x}<br>Eating disorders (%)=%{y}<extra></extra>",
         "legendgroup": "Belarus",
         "marker": {
          "color": "#FF97FF",
          "symbol": "circle"
         },
         "mode": "markers",
         "name": "Belarus",
         "orientation": "v",
         "showlegend": true,
         "type": "scatter",
         "x": [
          5.552915096
         ],
         "xaxis": "x",
         "y": [
          0.210693
         ],
         "yaxis": "y"
        },
        {
         "hovertemplate": "Country Name=Belgium<br>Life Ladder=%{x}<br>Eating disorders (%)=%{y}<extra></extra>",
         "legendgroup": "Belgium",
         "marker": {
          "color": "#FECB52",
          "symbol": "circle"
         },
         "mode": "markers",
         "name": "Belgium",
         "orientation": "v",
         "showlegend": true,
         "type": "scatter",
         "x": [
          6.928347588
         ],
         "xaxis": "x",
         "y": [
          0.603869
         ],
         "yaxis": "y"
        },
        {
         "hovertemplate": "Country Name=Benin<br>Life Ladder=%{x}<br>Eating disorders (%)=%{y}<extra></extra>",
         "legendgroup": "Benin",
         "marker": {
          "color": "#636efa",
          "symbol": "circle"
         },
         "mode": "markers",
         "name": "Benin",
         "orientation": "v",
         "showlegend": true,
         "type": "scatter",
         "x": [
          4.853180885
         ],
         "xaxis": "x",
         "y": [
          0.12029
         ],
         "yaxis": "y"
        },
        {
         "hovertemplate": "Country Name=Bolivia<br>Life Ladder=%{x}<br>Eating disorders (%)=%{y}<extra></extra>",
         "legendgroup": "Bolivia",
         "marker": {
          "color": "#EF553B",
          "symbol": "circle"
         },
         "mode": "markers",
         "name": "Bolivia",
         "orientation": "v",
         "showlegend": true,
         "type": "scatter",
         "x": [
          5.65055275
         ],
         "xaxis": "x",
         "y": [
          0.305251
         ],
         "yaxis": "y"
        },
        {
         "hovertemplate": "Country Name=Bosnia and Herzegovina<br>Life Ladder=%{x}<br>Eating disorders (%)=%{y}<extra></extra>",
         "legendgroup": "Bosnia and Herzegovina",
         "marker": {
          "color": "#00cc96",
          "symbol": "circle"
         },
         "mode": "markers",
         "name": "Bosnia and Herzegovina",
         "orientation": "v",
         "showlegend": true,
         "type": "scatter",
         "x": [
          5.089902401
         ],
         "xaxis": "x",
         "y": [
          0.172474
         ],
         "yaxis": "y"
        },
        {
         "hovertemplate": "Country Name=Botswana<br>Life Ladder=%{x}<br>Eating disorders (%)=%{y}<extra></extra>",
         "legendgroup": "Botswana",
         "marker": {
          "color": "#ab63fa",
          "symbol": "circle"
         },
         "mode": "markers",
         "name": "Botswana",
         "orientation": "v",
         "showlegend": true,
         "type": "scatter",
         "x": [
          3.504881144
         ],
         "xaxis": "x",
         "y": [
          0.227733
         ],
         "yaxis": "y"
        },
        {
         "hovertemplate": "Country Name=Brazil<br>Life Ladder=%{x}<br>Eating disorders (%)=%{y}<extra></extra>",
         "legendgroup": "Brazil",
         "marker": {
          "color": "#FFA15A",
          "symbol": "circle"
         },
         "mode": "markers",
         "name": "Brazil",
         "orientation": "v",
         "showlegend": true,
         "type": "scatter",
         "x": [
          6.332929134
         ],
         "xaxis": "x",
         "y": [
          0.277051
         ],
         "yaxis": "y"
        },
        {
         "hovertemplate": "Country Name=Bulgaria<br>Life Ladder=%{x}<br>Eating disorders (%)=%{y}<extra></extra>",
         "legendgroup": "Bulgaria",
         "marker": {
          "color": "#19d3f3",
          "symbol": "circle"
         },
         "mode": "markers",
         "name": "Bulgaria",
         "orientation": "v",
         "showlegend": true,
         "type": "scatter",
         "x": [
          5.096901894
         ],
         "xaxis": "x",
         "y": [
          0.202411
         ],
         "yaxis": "y"
        },
        {
         "hovertemplate": "Country Name=Burkina Faso<br>Life Ladder=%{x}<br>Eating disorders (%)=%{y}<extra></extra>",
         "legendgroup": "Burkina Faso",
         "marker": {
          "color": "#FF6692",
          "symbol": "circle"
         },
         "mode": "markers",
         "name": "Burkina Faso",
         "orientation": "v",
         "showlegend": true,
         "type": "scatter",
         "x": [
          4.646891117
         ],
         "xaxis": "x",
         "y": [
          0.113354
         ],
         "yaxis": "y"
        },
        {
         "hovertemplate": "Country Name=Cambodia<br>Life Ladder=%{x}<br>Eating disorders (%)=%{y}<extra></extra>",
         "legendgroup": "Cambodia",
         "marker": {
          "color": "#B6E880",
          "symbol": "circle"
         },
         "mode": "markers",
         "name": "Cambodia",
         "orientation": "v",
         "showlegend": true,
         "type": "scatter",
         "x": [
          4.585842133
         ],
         "xaxis": "x",
         "y": [
          0.108379
         ],
         "yaxis": "y"
        },
        {
         "hovertemplate": "Country Name=Cameroon<br>Life Ladder=%{x}<br>Eating disorders (%)=%{y}<extra></extra>",
         "legendgroup": "Cameroon",
         "marker": {
          "color": "#FF97FF",
          "symbol": "circle"
         },
         "mode": "markers",
         "name": "Cameroon",
         "orientation": "v",
         "showlegend": true,
         "type": "scatter",
         "x": [
          5.07405138
         ],
         "xaxis": "x",
         "y": [
          0.13379
         ],
         "yaxis": "y"
        },
        {
         "hovertemplate": "Country Name=Canada<br>Life Ladder=%{x}<br>Eating disorders (%)=%{y}<extra></extra>",
         "legendgroup": "Canada",
         "marker": {
          "color": "#FECB52",
          "symbol": "circle"
         },
         "mode": "markers",
         "name": "Canada",
         "orientation": "v",
         "showlegend": true,
         "type": "scatter",
         "x": [
          7.414868355
         ],
         "xaxis": "x",
         "y": [
          0.477304
         ],
         "yaxis": "y"
        },
        {
         "hovertemplate": "Country Name=Chad<br>Life Ladder=%{x}<br>Eating disorders (%)=%{y}<extra></extra>",
         "legendgroup": "Chad",
         "marker": {
          "color": "#636efa",
          "symbol": "circle"
         },
         "mode": "markers",
         "name": "Chad",
         "orientation": "v",
         "showlegend": true,
         "type": "scatter",
         "x": [
          4.558937073
         ],
         "xaxis": "x",
         "y": [
          0.122129
         ],
         "yaxis": "y"
        },
        {
         "hovertemplate": "Country Name=Chile<br>Life Ladder=%{x}<br>Eating disorders (%)=%{y}<extra></extra>",
         "legendgroup": "Chile",
         "marker": {
          "color": "#EF553B",
          "symbol": "circle"
         },
         "mode": "markers",
         "name": "Chile",
         "orientation": "v",
         "showlegend": true,
         "type": "scatter",
         "x": [
          6.320119381
         ],
         "xaxis": "x",
         "y": [
          0.416123
         ],
         "yaxis": "y"
        },
        {
         "hovertemplate": "Country Name=Colombia<br>Life Ladder=%{x}<br>Eating disorders (%)=%{y}<extra></extra>",
         "legendgroup": "Colombia",
         "marker": {
          "color": "#00cc96",
          "symbol": "circle"
         },
         "mode": "markers",
         "name": "Colombia",
         "orientation": "v",
         "showlegend": true,
         "type": "scatter",
         "x": [
          6.157341957
         ],
         "xaxis": "x",
         "y": [
          0.260257
         ],
         "yaxis": "y"
        },
        {
         "hovertemplate": "Country Name=Costa Rica<br>Life Ladder=%{x}<br>Eating disorders (%)=%{y}<extra></extra>",
         "legendgroup": "Costa Rica",
         "marker": {
          "color": "#ab63fa",
          "symbol": "circle"
         },
         "mode": "markers",
         "name": "Costa Rica",
         "orientation": "v",
         "showlegend": true,
         "type": "scatter",
         "x": [
          7.22518158
         ],
         "xaxis": "x",
         "y": [
          0.289342
         ],
         "yaxis": "y"
        },
        {
         "hovertemplate": "Country Name=Croatia<br>Life Ladder=%{x}<br>Eating disorders (%)=%{y}<extra></extra>",
         "legendgroup": "Croatia",
         "marker": {
          "color": "#FFA15A",
          "symbol": "circle"
         },
         "mode": "markers",
         "name": "Croatia",
         "orientation": "v",
         "showlegend": true,
         "type": "scatter",
         "x": [
          5.343165874
         ],
         "xaxis": "x",
         "y": [
          0.217975
         ],
         "yaxis": "y"
        },
        {
         "hovertemplate": "Country Name=Cyprus<br>Life Ladder=%{x}<br>Eating disorders (%)=%{y}<extra></extra>",
         "legendgroup": "Cyprus",
         "marker": {
          "color": "#19d3f3",
          "symbol": "circle"
         },
         "mode": "markers",
         "name": "Cyprus",
         "orientation": "v",
         "showlegend": true,
         "type": "scatter",
         "x": [
          6.062051296
         ],
         "xaxis": "x",
         "y": [
          0.506721
         ],
         "yaxis": "y"
        },
        {
         "hovertemplate": "Country Name=Denmark<br>Life Ladder=%{x}<br>Eating disorders (%)=%{y}<extra></extra>",
         "legendgroup": "Denmark",
         "marker": {
          "color": "#FF6692",
          "symbol": "circle"
         },
         "mode": "markers",
         "name": "Denmark",
         "orientation": "v",
         "showlegend": true,
         "type": "scatter",
         "x": [
          7.593702316
         ],
         "xaxis": "x",
         "y": [
          0.540025
         ],
         "yaxis": "y"
        },
        {
         "hovertemplate": "Country Name=Dominican Republic<br>Life Ladder=%{x}<br>Eating disorders (%)=%{y}<extra></extra>",
         "legendgroup": "Dominican Republic",
         "marker": {
          "color": "#B6E880",
          "symbol": "circle"
         },
         "mode": "markers",
         "name": "Dominican Republic",
         "orientation": "v",
         "showlegend": true,
         "type": "scatter",
         "x": [
          5.605202675
         ],
         "xaxis": "x",
         "y": [
          0.303058
         ],
         "yaxis": "y"
        },
        {
         "hovertemplate": "Country Name=Ecuador<br>Life Ladder=%{x}<br>Eating disorders (%)=%{y}<extra></extra>",
         "legendgroup": "Ecuador",
         "marker": {
          "color": "#FF97FF",
          "symbol": "circle"
         },
         "mode": "markers",
         "name": "Ecuador",
         "orientation": "v",
         "showlegend": true,
         "type": "scatter",
         "x": [
          5.839518547
         ],
         "xaxis": "x",
         "y": [
          0.363733
         ],
         "yaxis": "y"
        },
        {
         "hovertemplate": "Country Name=El Salvador<br>Life Ladder=%{x}<br>Eating disorders (%)=%{y}<extra></extra>",
         "legendgroup": "El Salvador",
         "marker": {
          "color": "#FECB52",
          "symbol": "circle"
         },
         "mode": "markers",
         "name": "El Salvador",
         "orientation": "v",
         "showlegend": true,
         "type": "scatter",
         "x": [
          6.339318275
         ],
         "xaxis": "x",
         "y": [
          0.243873
         ],
         "yaxis": "y"
        },
        {
         "hovertemplate": "Country Name=Estonia<br>Life Ladder=%{x}<br>Eating disorders (%)=%{y}<extra></extra>",
         "legendgroup": "Estonia",
         "marker": {
          "color": "#636efa",
          "symbol": "circle"
         },
         "mode": "markers",
         "name": "Estonia",
         "orientation": "v",
         "showlegend": true,
         "type": "scatter",
         "x": [
          5.938395977
         ],
         "xaxis": "x",
         "y": [
          0.250271
         ],
         "yaxis": "y"
        },
        {
         "hovertemplate": "Country Name=Ethiopia<br>Life Ladder=%{x}<br>Eating disorders (%)=%{y}<extra></extra>",
         "legendgroup": "Ethiopia",
         "marker": {
          "color": "#EF553B",
          "symbol": "circle"
         },
         "mode": "markers",
         "name": "Ethiopia",
         "orientation": "v",
         "showlegend": true,
         "type": "scatter",
         "x": [
          4.180315495
         ],
         "xaxis": "x",
         "y": [
          0.109817
         ],
         "yaxis": "y"
        },
        {
         "hovertemplate": "Country Name=Finland<br>Life Ladder=%{x}<br>Eating disorders (%)=%{y}<extra></extra>",
         "legendgroup": "Finland",
         "marker": {
          "color": "#00cc96",
          "symbol": "circle"
         },
         "mode": "markers",
         "name": "Finland",
         "orientation": "v",
         "showlegend": true,
         "type": "scatter",
         "x": [
          7.788251877
         ],
         "xaxis": "x",
         "y": [
          0.594938
         ],
         "yaxis": "y"
        },
        {
         "hovertemplate": "Country Name=France<br>Life Ladder=%{x}<br>Eating disorders (%)=%{y}<extra></extra>",
         "legendgroup": "France",
         "marker": {
          "color": "#ab63fa",
          "symbol": "circle"
         },
         "mode": "markers",
         "name": "France",
         "orientation": "v",
         "showlegend": true,
         "type": "scatter",
         "x": [
          6.635222435
         ],
         "xaxis": "x",
         "y": [
          0.573755
         ],
         "yaxis": "y"
        },
        {
         "hovertemplate": "Country Name=Gabon<br>Life Ladder=%{x}<br>Eating disorders (%)=%{y}<extra></extra>",
         "legendgroup": "Gabon",
         "marker": {
          "color": "#FFA15A",
          "symbol": "circle"
         },
         "mode": "markers",
         "name": "Gabon",
         "orientation": "v",
         "showlegend": true,
         "type": "scatter",
         "x": [
          4.782382965
         ],
         "xaxis": "x",
         "y": [
          0.226577
         ],
         "yaxis": "y"
        },
        {
         "hovertemplate": "Country Name=Gambia<br>Life Ladder=%{x}<br>Eating disorders (%)=%{y}<extra></extra>",
         "legendgroup": "Gambia",
         "marker": {
          "color": "#19d3f3",
          "symbol": "circle"
         },
         "mode": "markers",
         "name": "Gambia",
         "orientation": "v",
         "showlegend": true,
         "type": "scatter",
         "x": [
          4.117938995
         ],
         "xaxis": "x",
         "y": [
          0.113298
         ],
         "yaxis": "y"
        },
        {
         "hovertemplate": "Country Name=Georgia<br>Life Ladder=%{x}<br>Eating disorders (%)=%{y}<extra></extra>",
         "legendgroup": "Georgia",
         "marker": {
          "color": "#FF6692",
          "symbol": "circle"
         },
         "mode": "markers",
         "name": "Georgia",
         "orientation": "v",
         "showlegend": true,
         "type": "scatter",
         "x": [
          4.45077467
         ],
         "xaxis": "x",
         "y": [
          0.17164
         ],
         "yaxis": "y"
        },
        {
         "hovertemplate": "Country Name=Germany<br>Life Ladder=%{x}<br>Eating disorders (%)=%{y}<extra></extra>",
         "legendgroup": "Germany",
         "marker": {
          "color": "#B6E880",
          "symbol": "circle"
         },
         "mode": "markers",
         "name": "Germany",
         "orientation": "v",
         "showlegend": true,
         "type": "scatter",
         "x": [
          7.074324608
         ],
         "xaxis": "x",
         "y": [
          0.522066
         ],
         "yaxis": "y"
        },
        {
         "hovertemplate": "Country Name=Ghana<br>Life Ladder=%{x}<br>Eating disorders (%)=%{y}<extra></extra>",
         "legendgroup": "Ghana",
         "marker": {
          "color": "#FF97FF",
          "symbol": "circle"
         },
         "mode": "markers",
         "name": "Ghana",
         "orientation": "v",
         "showlegend": true,
         "type": "scatter",
         "x": [
          5.481310844
         ],
         "xaxis": "x",
         "y": [
          0.147452
         ],
         "yaxis": "y"
        },
        {
         "hovertemplate": "Country Name=Greece<br>Life Ladder=%{x}<br>Eating disorders (%)=%{y}<extra></extra>",
         "legendgroup": "Greece",
         "marker": {
          "color": "#FECB52",
          "symbol": "circle"
         },
         "mode": "markers",
         "name": "Greece",
         "orientation": "v",
         "showlegend": true,
         "type": "scatter",
         "x": [
          5.14824152
         ],
         "xaxis": "x",
         "y": [
          0.559324
         ],
         "yaxis": "y"
        },
        {
         "hovertemplate": "Country Name=Guatemala<br>Life Ladder=%{x}<br>Eating disorders (%)=%{y}<extra></extra>",
         "legendgroup": "Guatemala",
         "marker": {
          "color": "#636efa",
          "symbol": "circle"
         },
         "mode": "markers",
         "name": "Guatemala",
         "orientation": "v",
         "showlegend": true,
         "type": "scatter",
         "x": [
          6.325118542
         ],
         "xaxis": "x",
         "y": [
          0.23211
         ],
         "yaxis": "y"
        },
        {
         "hovertemplate": "Country Name=Guinea<br>Life Ladder=%{x}<br>Eating disorders (%)=%{y}<extra></extra>",
         "legendgroup": "Guinea",
         "marker": {
          "color": "#EF553B",
          "symbol": "circle"
         },
         "mode": "markers",
         "name": "Guinea",
         "orientation": "v",
         "showlegend": true,
         "type": "scatter",
         "x": [
          4.873722553
         ],
         "xaxis": "x",
         "y": [
          0.112388
         ],
         "yaxis": "y"
        },
        {
         "hovertemplate": "Country Name=Haiti<br>Life Ladder=%{x}<br>Eating disorders (%)=%{y}<extra></extra>",
         "legendgroup": "Haiti",
         "marker": {
          "color": "#00cc96",
          "symbol": "circle"
         },
         "mode": "markers",
         "name": "Haiti",
         "orientation": "v",
         "showlegend": true,
         "type": "scatter",
         "x": [
          3.823865652
         ],
         "xaxis": "x",
         "y": [
          0.16079
         ],
         "yaxis": "y"
        },
        {
         "hovertemplate": "Country Name=Honduras<br>Life Ladder=%{x}<br>Eating disorders (%)=%{y}<extra></extra>",
         "legendgroup": "Honduras",
         "marker": {
          "color": "#ab63fa",
          "symbol": "circle"
         },
         "mode": "markers",
         "name": "Honduras",
         "orientation": "v",
         "showlegend": true,
         "type": "scatter",
         "x": [
          6.019985676
         ],
         "xaxis": "x",
         "y": [
          0.203339
         ],
         "yaxis": "y"
        },
        {
         "hovertemplate": "Country Name=Hungary<br>Life Ladder=%{x}<br>Eating disorders (%)=%{y}<extra></extra>",
         "legendgroup": "Hungary",
         "marker": {
          "color": "#FFA15A",
          "symbol": "circle"
         },
         "mode": "markers",
         "name": "Hungary",
         "orientation": "v",
         "showlegend": true,
         "type": "scatter",
         "x": [
          6.065038681
         ],
         "xaxis": "x",
         "y": [
          0.237686
         ],
         "yaxis": "y"
        },
        {
         "hovertemplate": "Country Name=Iceland<br>Life Ladder=%{x}<br>Eating disorders (%)=%{y}<extra></extra>",
         "legendgroup": "Iceland",
         "marker": {
          "color": "#19d3f3",
          "symbol": "circle"
         },
         "mode": "markers",
         "name": "Iceland",
         "orientation": "v",
         "showlegend": true,
         "type": "scatter",
         "x": [
          7.476213932
         ],
         "xaxis": "x",
         "y": [
          0.558014
         ],
         "yaxis": "y"
        },
        {
         "hovertemplate": "Country Name=India<br>Life Ladder=%{x}<br>Eating disorders (%)=%{y}<extra></extra>",
         "legendgroup": "India",
         "marker": {
          "color": "#FF6692",
          "symbol": "circle"
         },
         "mode": "markers",
         "name": "India",
         "orientation": "v",
         "showlegend": true,
         "type": "scatter",
         "x": [
          4.046111107
         ],
         "xaxis": "x",
         "y": [
          0.157758
         ],
         "yaxis": "y"
        },
        {
         "hovertemplate": "Country Name=Indonesia<br>Life Ladder=%{x}<br>Eating disorders (%)=%{y}<extra></extra>",
         "legendgroup": "Indonesia",
         "marker": {
          "color": "#B6E880",
          "symbol": "circle"
         },
         "mode": "markers",
         "name": "Indonesia",
         "orientation": "v",
         "showlegend": true,
         "type": "scatter",
         "x": [
          5.098401546
         ],
         "xaxis": "x",
         "y": [
          0.148782
         ],
         "yaxis": "y"
        },
        {
         "hovertemplate": "Country Name=Iraq<br>Life Ladder=%{x}<br>Eating disorders (%)=%{y}<extra></extra>",
         "legendgroup": "Iraq",
         "marker": {
          "color": "#FF97FF",
          "symbol": "circle"
         },
         "mode": "markers",
         "name": "Iraq",
         "orientation": "v",
         "showlegend": true,
         "type": "scatter",
         "x": [
          4.462399006
         ],
         "xaxis": "x",
         "y": [
          0.208672
         ],
         "yaxis": "y"
        },
        {
         "hovertemplate": "Country Name=Ireland<br>Life Ladder=%{x}<br>Eating disorders (%)=%{y}<extra></extra>",
         "legendgroup": "Ireland",
         "marker": {
          "color": "#FECB52",
          "symbol": "circle"
         },
         "mode": "markers",
         "name": "Ireland",
         "orientation": "v",
         "showlegend": true,
         "type": "scatter",
         "x": [
          7.060155392
         ],
         "xaxis": "x",
         "y": [
          0.559995
         ],
         "yaxis": "y"
        },
        {
         "hovertemplate": "Country Name=Israel<br>Life Ladder=%{x}<br>Eating disorders (%)=%{y}<extra></extra>",
         "legendgroup": "Israel",
         "marker": {
          "color": "#636efa",
          "symbol": "circle"
         },
         "mode": "markers",
         "name": "Israel",
         "orientation": "v",
         "showlegend": true,
         "type": "scatter",
         "x": [
          7.331036091
         ],
         "xaxis": "x",
         "y": [
          0.461175
         ],
         "yaxis": "y"
        },
        {
         "hovertemplate": "Country Name=Italy<br>Life Ladder=%{x}<br>Eating disorders (%)=%{y}<extra></extra>",
         "legendgroup": "Italy",
         "marker": {
          "color": "#EF553B",
          "symbol": "circle"
         },
         "mode": "markers",
         "name": "Italy",
         "orientation": "v",
         "showlegend": true,
         "type": "scatter",
         "x": [
          6.198870182
         ],
         "xaxis": "x",
         "y": [
          0.626784
         ],
         "yaxis": "y"
        },
        {
         "hovertemplate": "Country Name=Jamaica<br>Life Ladder=%{x}<br>Eating disorders (%)=%{y}<extra></extra>",
         "legendgroup": "Jamaica",
         "marker": {
          "color": "#00cc96",
          "symbol": "circle"
         },
         "mode": "markers",
         "name": "Jamaica",
         "orientation": "v",
         "showlegend": true,
         "type": "scatter",
         "x": [
          5.889759064
         ],
         "xaxis": "x",
         "y": [
          0.25965
         ],
         "yaxis": "y"
        },
        {
         "hovertemplate": "Country Name=Japan<br>Life Ladder=%{x}<br>Eating disorders (%)=%{y}<extra></extra>",
         "legendgroup": "Japan",
         "marker": {
          "color": "#ab63fa",
          "symbol": "circle"
         },
         "mode": "markers",
         "name": "Japan",
         "orientation": "v",
         "showlegend": true,
         "type": "scatter",
         "x": [
          5.910676479
         ],
         "xaxis": "x",
         "y": [
          0.454379
         ],
         "yaxis": "y"
        },
        {
         "hovertemplate": "Country Name=Kazakhstan<br>Life Ladder=%{x}<br>Eating disorders (%)=%{y}<extra></extra>",
         "legendgroup": "Kazakhstan",
         "marker": {
          "color": "#FFA15A",
          "symbol": "circle"
         },
         "mode": "markers",
         "name": "Kazakhstan",
         "orientation": "v",
         "showlegend": true,
         "type": "scatter",
         "x": [
          5.882351398
         ],
         "xaxis": "x",
         "y": [
          0.227918
         ],
         "yaxis": "y"
        },
        {
         "hovertemplate": "Country Name=Kenya<br>Life Ladder=%{x}<br>Eating disorders (%)=%{y}<extra></extra>",
         "legendgroup": "Kenya",
         "marker": {
          "color": "#19d3f3",
          "symbol": "circle"
         },
         "mode": "markers",
         "name": "Kenya",
         "orientation": "v",
         "showlegend": true,
         "type": "scatter",
         "x": [
          4.475654125
         ],
         "xaxis": "x",
         "y": [
          0.135005
         ],
         "yaxis": "y"
        },
        {
         "hovertemplate": "Country Name=Kyrgyzstan<br>Life Ladder=%{x}<br>Eating disorders (%)=%{y}<extra></extra>",
         "legendgroup": "Kyrgyzstan",
         "marker": {
          "color": "#FF6692",
          "symbol": "circle"
         },
         "mode": "markers",
         "name": "Kyrgyzstan",
         "orientation": "v",
         "showlegend": true,
         "type": "scatter",
         "x": [
          5.629536629
         ],
         "xaxis": "x",
         "y": [
          0.127525
         ],
         "yaxis": "y"
        },
        {
         "hovertemplate": "Country Name=Laos<br>Life Ladder=%{x}<br>Eating disorders (%)=%{y}<extra></extra>",
         "legendgroup": "Laos",
         "marker": {
          "color": "#B6E880",
          "symbol": "circle"
         },
         "mode": "markers",
         "name": "Laos",
         "orientation": "v",
         "showlegend": true,
         "type": "scatter",
         "x": [
          4.623140812
         ],
         "xaxis": "x",
         "y": [
          0.128172
         ],
         "yaxis": "y"
        },
        {
         "hovertemplate": "Country Name=Latvia<br>Life Ladder=%{x}<br>Eating disorders (%)=%{y}<extra></extra>",
         "legendgroup": "Latvia",
         "marker": {
          "color": "#FF97FF",
          "symbol": "circle"
         },
         "mode": "markers",
         "name": "Latvia",
         "orientation": "v",
         "showlegend": true,
         "type": "scatter",
         "x": [
          5.977817535
         ],
         "xaxis": "x",
         "y": [
          0.225275
         ],
         "yaxis": "y"
        },
        {
         "hovertemplate": "Country Name=Lebanon<br>Life Ladder=%{x}<br>Eating disorders (%)=%{y}<extra></extra>",
         "legendgroup": "Lebanon",
         "marker": {
          "color": "#FECB52",
          "symbol": "circle"
         },
         "mode": "markers",
         "name": "Lebanon",
         "orientation": "v",
         "showlegend": true,
         "type": "scatter",
         "x": [
          5.153989792
         ],
         "xaxis": "x",
         "y": [
          0.219049
         ],
         "yaxis": "y"
        },
        {
         "hovertemplate": "Country Name=Lesotho<br>Life Ladder=%{x}<br>Eating disorders (%)=%{y}<extra></extra>",
         "legendgroup": "Lesotho",
         "marker": {
          "color": "#636efa",
          "symbol": "circle"
         },
         "mode": "markers",
         "name": "Lesotho",
         "orientation": "v",
         "showlegend": true,
         "type": "scatter",
         "x": [
          3.795300722
         ],
         "xaxis": "x",
         "y": [
          0.136801
         ],
         "yaxis": "y"
        },
        {
         "hovertemplate": "Country Name=Liberia<br>Life Ladder=%{x}<br>Eating disorders (%)=%{y}<extra></extra>",
         "legendgroup": "Liberia",
         "marker": {
          "color": "#EF553B",
          "symbol": "circle"
         },
         "mode": "markers",
         "name": "Liberia",
         "orientation": "v",
         "showlegend": true,
         "type": "scatter",
         "x": [
          4.424490929
         ],
         "xaxis": "x",
         "y": [
          0.091591
         ],
         "yaxis": "y"
        },
        {
         "hovertemplate": "Country Name=Lithuania<br>Life Ladder=%{x}<br>Eating disorders (%)=%{y}<extra></extra>",
         "legendgroup": "Lithuania",
         "marker": {
          "color": "#00cc96",
          "symbol": "circle"
         },
         "mode": "markers",
         "name": "Lithuania",
         "orientation": "v",
         "showlegend": true,
         "type": "scatter",
         "x": [
          6.272940636
         ],
         "xaxis": "x",
         "y": [
          0.234095
         ],
         "yaxis": "y"
        },
        {
         "hovertemplate": "Country Name=Luxembourg<br>Life Ladder=%{x}<br>Eating disorders (%)=%{y}<extra></extra>",
         "legendgroup": "Luxembourg",
         "marker": {
          "color": "#ab63fa",
          "symbol": "circle"
         },
         "mode": "markers",
         "name": "Luxembourg",
         "orientation": "v",
         "showlegend": true,
         "type": "scatter",
         "x": [
          7.061380863
         ],
         "xaxis": "x",
         "y": [
          0.737917
         ],
         "yaxis": "y"
        },
        {
         "hovertemplate": "Country Name=Madagascar<br>Life Ladder=%{x}<br>Eating disorders (%)=%{y}<extra></extra>",
         "legendgroup": "Madagascar",
         "marker": {
          "color": "#FFA15A",
          "symbol": "circle"
         },
         "mode": "markers",
         "name": "Madagascar",
         "orientation": "v",
         "showlegend": true,
         "type": "scatter",
         "x": [
          4.078620434
         ],
         "xaxis": "x",
         "y": [
          0.106417
         ],
         "yaxis": "y"
        },
        {
         "hovertemplate": "Country Name=Malawi<br>Life Ladder=%{x}<br>Eating disorders (%)=%{y}<extra></extra>",
         "legendgroup": "Malawi",
         "marker": {
          "color": "#19d3f3",
          "symbol": "circle"
         },
         "mode": "markers",
         "name": "Malawi",
         "orientation": "v",
         "showlegend": true,
         "type": "scatter",
         "x": [
          3.416862965
         ],
         "xaxis": "x",
         "y": [
          0.100349
         ],
         "yaxis": "y"
        },
        {
         "hovertemplate": "Country Name=Mali<br>Life Ladder=%{x}<br>Eating disorders (%)=%{y}<extra></extra>",
         "legendgroup": "Mali",
         "marker": {
          "color": "#FF6692",
          "symbol": "circle"
         },
         "mode": "markers",
         "name": "Mali",
         "orientation": "v",
         "showlegend": true,
         "type": "scatter",
         "x": [
          4.741850376
         ],
         "xaxis": "x",
         "y": [
          0.116675
         ],
         "yaxis": "y"
        },
        {
         "hovertemplate": "Country Name=Malta<br>Life Ladder=%{x}<br>Eating disorders (%)=%{y}<extra></extra>",
         "legendgroup": "Malta",
         "marker": {
          "color": "#B6E880",
          "symbol": "circle"
         },
         "mode": "markers",
         "name": "Malta",
         "orientation": "v",
         "showlegend": true,
         "type": "scatter",
         "x": [
          6.675665855
         ],
         "xaxis": "x",
         "y": [
          0.51914
         ],
         "yaxis": "y"
        },
        {
         "hovertemplate": "Country Name=Mauritania<br>Life Ladder=%{x}<br>Eating disorders (%)=%{y}<extra></extra>",
         "legendgroup": "Mauritania",
         "marker": {
          "color": "#FF97FF",
          "symbol": "circle"
         },
         "mode": "markers",
         "name": "Mauritania",
         "orientation": "v",
         "showlegend": true,
         "type": "scatter",
         "x": [
          4.678159714
         ],
         "xaxis": "x",
         "y": [
          0.145276
         ],
         "yaxis": "y"
        },
        {
         "hovertemplate": "Country Name=Mauritius<br>Life Ladder=%{x}<br>Eating disorders (%)=%{y}<extra></extra>",
         "legendgroup": "Mauritius",
         "marker": {
          "color": "#FECB52",
          "symbol": "circle"
         },
         "mode": "markers",
         "name": "Mauritius",
         "orientation": "v",
         "showlegend": true,
         "type": "scatter",
         "x": [
          6.174117565
         ],
         "xaxis": "x",
         "y": [
          0.184433
         ],
         "yaxis": "y"
        },
        {
         "hovertemplate": "Country Name=Mexico<br>Life Ladder=%{x}<br>Eating disorders (%)=%{y}<extra></extra>",
         "legendgroup": "Mexico",
         "marker": {
          "color": "#636efa",
          "symbol": "circle"
         },
         "mode": "markers",
         "name": "Mexico",
         "orientation": "v",
         "showlegend": true,
         "type": "scatter",
         "x": [
          6.410299301
         ],
         "xaxis": "x",
         "y": [
          0.316975
         ],
         "yaxis": "y"
        },
        {
         "hovertemplate": "Country Name=Moldova<br>Life Ladder=%{x}<br>Eating disorders (%)=%{y}<extra></extra>",
         "legendgroup": "Moldova",
         "marker": {
          "color": "#EF553B",
          "symbol": "circle"
         },
         "mode": "markers",
         "name": "Moldova",
         "orientation": "v",
         "showlegend": true,
         "type": "scatter",
         "x": [
          5.325530529
         ],
         "xaxis": "x",
         "y": [
          0.141701
         ],
         "yaxis": "y"
        },
        {
         "hovertemplate": "Country Name=Mongolia<br>Life Ladder=%{x}<br>Eating disorders (%)=%{y}<extra></extra>",
         "legendgroup": "Mongolia",
         "marker": {
          "color": "#00cc96",
          "symbol": "circle"
         },
         "mode": "markers",
         "name": "Mongolia",
         "orientation": "v",
         "showlegend": true,
         "type": "scatter",
         "x": [
          5.333850384
         ],
         "xaxis": "x",
         "y": [
          0.180157
         ],
         "yaxis": "y"
        },
        {
         "hovertemplate": "Country Name=Montenegro<br>Life Ladder=%{x}<br>Eating disorders (%)=%{y}<extra></extra>",
         "legendgroup": "Montenegro",
         "marker": {
          "color": "#ab63fa",
          "symbol": "circle"
         },
         "mode": "markers",
         "name": "Montenegro",
         "orientation": "v",
         "showlegend": true,
         "type": "scatter",
         "x": [
          5.614798546
         ],
         "xaxis": "x",
         "y": [
          0.194161
         ],
         "yaxis": "y"
        },
        {
         "hovertemplate": "Country Name=Mozambique<br>Life Ladder=%{x}<br>Eating disorders (%)=%{y}<extra></extra>",
         "legendgroup": "Mozambique",
         "marker": {
          "color": "#FFA15A",
          "symbol": "circle"
         },
         "mode": "markers",
         "name": "Mozambique",
         "orientation": "v",
         "showlegend": true,
         "type": "scatter",
         "x": [
          4.279863358
         ],
         "xaxis": "x",
         "y": [
          0.103227
         ],
         "yaxis": "y"
        },
        {
         "hovertemplate": "Country Name=Myanmar<br>Life Ladder=%{x}<br>Eating disorders (%)=%{y}<extra></extra>",
         "legendgroup": "Myanmar",
         "marker": {
          "color": "#19d3f3",
          "symbol": "circle"
         },
         "mode": "markers",
         "name": "Myanmar",
         "orientation": "v",
         "showlegend": true,
         "type": "scatter",
         "x": [
          4.154341698
         ],
         "xaxis": "x",
         "y": [
          0.125738
         ],
         "yaxis": "y"
        },
        {
         "hovertemplate": "Country Name=Namibia<br>Life Ladder=%{x}<br>Eating disorders (%)=%{y}<extra></extra>",
         "legendgroup": "Namibia",
         "marker": {
          "color": "#FF6692",
          "symbol": "circle"
         },
         "mode": "markers",
         "name": "Namibia",
         "orientation": "v",
         "showlegend": true,
         "type": "scatter",
         "x": [
          4.441306114
         ],
         "xaxis": "x",
         "y": [
          0.200987
         ],
         "yaxis": "y"
        },
        {
         "hovertemplate": "Country Name=Nepal<br>Life Ladder=%{x}<br>Eating disorders (%)=%{y}<extra></extra>",
         "legendgroup": "Nepal",
         "marker": {
          "color": "#B6E880",
          "symbol": "circle"
         },
         "mode": "markers",
         "name": "Nepal",
         "orientation": "v",
         "showlegend": true,
         "type": "scatter",
         "x": [
          4.736692429
         ],
         "xaxis": "x",
         "y": [
          0.128495
         ],
         "yaxis": "y"
        },
        {
         "hovertemplate": "Country Name=Netherlands<br>Life Ladder=%{x}<br>Eating disorders (%)=%{y}<extra></extra>",
         "legendgroup": "Netherlands",
         "marker": {
          "color": "#FF97FF",
          "symbol": "circle"
         },
         "mode": "markers",
         "name": "Netherlands",
         "orientation": "v",
         "showlegend": true,
         "type": "scatter",
         "x": [
          7.458965302
         ],
         "xaxis": "x",
         "y": [
          0.467844
         ],
         "yaxis": "y"
        },
        {
         "hovertemplate": "Country Name=New Zealand<br>Life Ladder=%{x}<br>Eating disorders (%)=%{y}<extra></extra>",
         "legendgroup": "New Zealand",
         "marker": {
          "color": "#FECB52",
          "symbol": "circle"
         },
         "mode": "markers",
         "name": "New Zealand",
         "orientation": "v",
         "showlegend": true,
         "type": "scatter",
         "x": [
          7.32718277
         ],
         "xaxis": "x",
         "y": [
          0.67329
         ],
         "yaxis": "y"
        },
        {
         "hovertemplate": "Country Name=Nicaragua<br>Life Ladder=%{x}<br>Eating disorders (%)=%{y}<extra></extra>",
         "legendgroup": "Nicaragua",
         "marker": {
          "color": "#636efa",
          "symbol": "circle"
         },
         "mode": "markers",
         "name": "Nicaragua",
         "orientation": "v",
         "showlegend": true,
         "type": "scatter",
         "x": [
          6.476356506
         ],
         "xaxis": "x",
         "y": [
          0.205876
         ],
         "yaxis": "y"
        },
        {
         "hovertemplate": "Country Name=Niger<br>Life Ladder=%{x}<br>Eating disorders (%)=%{y}<extra></extra>",
         "legendgroup": "Niger",
         "marker": {
          "color": "#EF553B",
          "symbol": "circle"
         },
         "mode": "markers",
         "name": "Niger",
         "orientation": "v",
         "showlegend": true,
         "type": "scatter",
         "x": [
          4.615673542
         ],
         "xaxis": "x",
         "y": [
          0.096116
         ],
         "yaxis": "y"
        },
        {
         "hovertemplate": "Country Name=Nigeria<br>Life Ladder=%{x}<br>Eating disorders (%)=%{y}<extra></extra>",
         "legendgroup": "Nigeria",
         "marker": {
          "color": "#00cc96",
          "symbol": "circle"
         },
         "mode": "markers",
         "name": "Nigeria",
         "orientation": "v",
         "showlegend": true,
         "type": "scatter",
         "x": [
          5.321928024
         ],
         "xaxis": "x",
         "y": [
          0.163373
         ],
         "yaxis": "y"
        },
        {
         "hovertemplate": "Country Name=Norway<br>Life Ladder=%{x}<br>Eating disorders (%)=%{y}<extra></extra>",
         "legendgroup": "Norway",
         "marker": {
          "color": "#ab63fa",
          "symbol": "circle"
         },
         "mode": "markers",
         "name": "Norway",
         "orientation": "v",
         "showlegend": true,
         "type": "scatter",
         "x": [
          7.578744888
         ],
         "xaxis": "x",
         "y": [
          0.570363
         ],
         "yaxis": "y"
        },
        {
         "hovertemplate": "Country Name=Pakistan<br>Life Ladder=%{x}<br>Eating disorders (%)=%{y}<extra></extra>",
         "legendgroup": "Pakistan",
         "marker": {
          "color": "#FFA15A",
          "symbol": "circle"
         },
         "mode": "markers",
         "name": "Pakistan",
         "orientation": "v",
         "showlegend": true,
         "type": "scatter",
         "x": [
          5.830870628
         ],
         "xaxis": "x",
         "y": [
          0.154583
         ],
         "yaxis": "y"
        },
        {
         "hovertemplate": "Country Name=Panama<br>Life Ladder=%{x}<br>Eating disorders (%)=%{y}<extra></extra>",
         "legendgroup": "Panama",
         "marker": {
          "color": "#19d3f3",
          "symbol": "circle"
         },
         "mode": "markers",
         "name": "Panama",
         "orientation": "v",
         "showlegend": true,
         "type": "scatter",
         "x": [
          6.567658901
         ],
         "xaxis": "x",
         "y": [
          0.31665
         ],
         "yaxis": "y"
        },
        {
         "hovertemplate": "Country Name=Paraguay<br>Life Ladder=%{x}<br>Eating disorders (%)=%{y}<extra></extra>",
         "legendgroup": "Paraguay",
         "marker": {
          "color": "#FF6692",
          "symbol": "circle"
         },
         "mode": "markers",
         "name": "Paraguay",
         "orientation": "v",
         "showlegend": true,
         "type": "scatter",
         "x": [
          5.71329546
         ],
         "xaxis": "x",
         "y": [
          0.238288
         ],
         "yaxis": "y"
        },
        {
         "hovertemplate": "Country Name=Peru<br>Life Ladder=%{x}<br>Eating disorders (%)=%{y}<extra></extra>",
         "legendgroup": "Peru",
         "marker": {
          "color": "#B6E880",
          "symbol": "circle"
         },
         "mode": "markers",
         "name": "Peru",
         "orientation": "v",
         "showlegend": true,
         "type": "scatter",
         "x": [
          5.710936546
         ],
         "xaxis": "x",
         "y": [
          0.369216
         ],
         "yaxis": "y"
        },
        {
         "hovertemplate": "Country Name=Philippines<br>Life Ladder=%{x}<br>Eating disorders (%)=%{y}<extra></extra>",
         "legendgroup": "Philippines",
         "marker": {
          "color": "#FF97FF",
          "symbol": "circle"
         },
         "mode": "markers",
         "name": "Philippines",
         "orientation": "v",
         "showlegend": true,
         "type": "scatter",
         "x": [
          5.594270229
         ],
         "xaxis": "x",
         "y": [
          0.134855
         ],
         "yaxis": "y"
        },
        {
         "hovertemplate": "Country Name=Poland<br>Life Ladder=%{x}<br>Eating disorders (%)=%{y}<extra></extra>",
         "legendgroup": "Poland",
         "marker": {
          "color": "#FECB52",
          "symbol": "circle"
         },
         "mode": "markers",
         "name": "Poland",
         "orientation": "v",
         "showlegend": true,
         "type": "scatter",
         "x": [
          6.201268196
         ],
         "xaxis": "x",
         "y": [
          0.229485
         ],
         "yaxis": "y"
        },
        {
         "hovertemplate": "Country Name=Portugal<br>Life Ladder=%{x}<br>Eating disorders (%)=%{y}<extra></extra>",
         "legendgroup": "Portugal",
         "marker": {
          "color": "#636efa",
          "symbol": "circle"
         },
         "mode": "markers",
         "name": "Portugal",
         "orientation": "v",
         "showlegend": true,
         "type": "scatter",
         "x": [
          5.711499214
         ],
         "xaxis": "x",
         "y": [
          0.513079
         ],
         "yaxis": "y"
        },
        {
         "hovertemplate": "Country Name=Romania<br>Life Ladder=%{x}<br>Eating disorders (%)=%{y}<extra></extra>",
         "legendgroup": "Romania",
         "marker": {
          "color": "#EF553B",
          "symbol": "circle"
         },
         "mode": "markers",
         "name": "Romania",
         "orientation": "v",
         "showlegend": true,
         "type": "scatter",
         "x": [
          6.089904785
         ],
         "xaxis": "x",
         "y": [
          0.2007
         ],
         "yaxis": "y"
        },
        {
         "hovertemplate": "Country Name=Russia<br>Life Ladder=%{x}<br>Eating disorders (%)=%{y}<extra></extra>",
         "legendgroup": "Russia",
         "marker": {
          "color": "#00cc96",
          "symbol": "circle"
         },
         "mode": "markers",
         "name": "Russia",
         "orientation": "v",
         "showlegend": true,
         "type": "scatter",
         "x": [
          5.578742981
         ],
         "xaxis": "x",
         "y": [
          0.232375
         ],
         "yaxis": "y"
        },
        {
         "hovertemplate": "Country Name=Rwanda<br>Life Ladder=%{x}<br>Eating disorders (%)=%{y}<extra></extra>",
         "legendgroup": "Rwanda",
         "marker": {
          "color": "#ab63fa",
          "symbol": "circle"
         },
         "mode": "markers",
         "name": "Rwanda",
         "orientation": "v",
         "showlegend": true,
         "type": "scatter",
         "x": [
          3.10837388
         ],
         "xaxis": "x",
         "y": [
          0.115817
         ],
         "yaxis": "y"
        },
        {
         "hovertemplate": "Country Name=Senegal<br>Life Ladder=%{x}<br>Eating disorders (%)=%{y}<extra></extra>",
         "legendgroup": "Senegal",
         "marker": {
          "color": "#FFA15A",
          "symbol": "circle"
         },
         "mode": "markers",
         "name": "Senegal",
         "orientation": "v",
         "showlegend": true,
         "type": "scatter",
         "x": [
          4.683024883
         ],
         "xaxis": "x",
         "y": [
          0.12529
         ],
         "yaxis": "y"
        },
        {
         "hovertemplate": "Country Name=Serbia<br>Life Ladder=%{x}<br>Eating disorders (%)=%{y}<extra></extra>",
         "legendgroup": "Serbia",
         "marker": {
          "color": "#19d3f3",
          "symbol": "circle"
         },
         "mode": "markers",
         "name": "Serbia",
         "orientation": "v",
         "showlegend": true,
         "type": "scatter",
         "x": [
          5.122031212
         ],
         "xaxis": "x",
         "y": [
          0.187147
         ],
         "yaxis": "y"
        },
        {
         "hovertemplate": "Country Name=Sierra Leone<br>Life Ladder=%{x}<br>Eating disorders (%)=%{y}<extra></extra>",
         "legendgroup": "Sierra Leone",
         "marker": {
          "color": "#FF6692",
          "symbol": "circle"
         },
         "mode": "markers",
         "name": "Sierra Leone",
         "orientation": "v",
         "showlegend": true,
         "type": "scatter",
         "x": [
          4.089562416
         ],
         "xaxis": "x",
         "y": [
          0.109799
         ],
         "yaxis": "y"
        },
        {
         "hovertemplate": "Country Name=Singapore<br>Life Ladder=%{x}<br>Eating disorders (%)=%{y}<extra></extra>",
         "legendgroup": "Singapore",
         "marker": {
          "color": "#B6E880",
          "symbol": "circle"
         },
         "mode": "markers",
         "name": "Singapore",
         "orientation": "v",
         "showlegend": true,
         "type": "scatter",
         "x": [
          6.378437996
         ],
         "xaxis": "x",
         "y": [
          0.553712
         ],
         "yaxis": "y"
        },
        {
         "hovertemplate": "Country Name=Slovakia<br>Life Ladder=%{x}<br>Eating disorders (%)=%{y}<extra></extra>",
         "legendgroup": "Slovakia",
         "marker": {
          "color": "#FF97FF",
          "symbol": "circle"
         },
         "mode": "markers",
         "name": "Slovakia",
         "orientation": "v",
         "showlegend": true,
         "type": "scatter",
         "x": [
          6.365509033
         ],
         "xaxis": "x",
         "y": [
          0.235475
         ],
         "yaxis": "y"
        },
        {
         "hovertemplate": "Country Name=Slovenia<br>Life Ladder=%{x}<br>Eating disorders (%)=%{y}<extra></extra>",
         "legendgroup": "Slovenia",
         "marker": {
          "color": "#FECB52",
          "symbol": "circle"
         },
         "mode": "markers",
         "name": "Slovenia",
         "orientation": "v",
         "showlegend": true,
         "type": "scatter",
         "x": [
          6.166837692
         ],
         "xaxis": "x",
         "y": [
          0.239636
         ],
         "yaxis": "y"
        },
        {
         "hovertemplate": "Country Name=South Africa<br>Life Ladder=%{x}<br>Eating disorders (%)=%{y}<extra></extra>",
         "legendgroup": "South Africa",
         "marker": {
          "color": "#636efa",
          "symbol": "circle"
         },
         "mode": "markers",
         "name": "South Africa",
         "orientation": "v",
         "showlegend": true,
         "type": "scatter",
         "x": [
          4.513655186
         ],
         "xaxis": "x",
         "y": [
          0.214718
         ],
         "yaxis": "y"
        },
        {
         "hovertemplate": "Country Name=South Korea<br>Life Ladder=%{x}<br>Eating disorders (%)=%{y}<extra></extra>",
         "legendgroup": "South Korea",
         "marker": {
          "color": "#EF553B",
          "symbol": "circle"
         },
         "mode": "markers",
         "name": "South Korea",
         "orientation": "v",
         "showlegend": true,
         "type": "scatter",
         "x": [
          5.873887062
         ],
         "xaxis": "x",
         "y": [
          0.417103
         ],
         "yaxis": "y"
        },
        {
         "hovertemplate": "Country Name=Spain<br>Life Ladder=%{x}<br>Eating disorders (%)=%{y}<extra></extra>",
         "legendgroup": "Spain",
         "marker": {
          "color": "#00cc96",
          "symbol": "circle"
         },
         "mode": "markers",
         "name": "Spain",
         "orientation": "v",
         "showlegend": true,
         "type": "scatter",
         "x": [
          6.230173111
         ],
         "xaxis": "x",
         "y": [
          0.730626
         ],
         "yaxis": "y"
        },
        {
         "hovertemplate": "Country Name=Sri Lanka<br>Life Ladder=%{x}<br>Eating disorders (%)=%{y}<extra></extra>",
         "legendgroup": "Sri Lanka",
         "marker": {
          "color": "#ab63fa",
          "symbol": "circle"
         },
         "mode": "markers",
         "name": "Sri Lanka",
         "orientation": "v",
         "showlegend": true,
         "type": "scatter",
         "x": [
          4.330945492
         ],
         "xaxis": "x",
         "y": [
          0.159144
         ],
         "yaxis": "y"
        },
        {
         "hovertemplate": "Country Name=Sweden<br>Life Ladder=%{x}<br>Eating disorders (%)=%{y}<extra></extra>",
         "legendgroup": "Sweden",
         "marker": {
          "color": "#FFA15A",
          "symbol": "circle"
         },
         "mode": "markers",
         "name": "Sweden",
         "orientation": "v",
         "showlegend": true,
         "type": "scatter",
         "x": [
          7.286804676
         ],
         "xaxis": "x",
         "y": [
          0.574608
         ],
         "yaxis": "y"
        },
        {
         "hovertemplate": "Country Name=Switzerland<br>Life Ladder=%{x}<br>Eating disorders (%)=%{y}<extra></extra>",
         "legendgroup": "Switzerland",
         "marker": {
          "color": "#19d3f3",
          "symbol": "circle"
         },
         "mode": "markers",
         "name": "Switzerland",
         "orientation": "v",
         "showlegend": true,
         "type": "scatter",
         "x": [
          7.473593235
         ],
         "xaxis": "x",
         "y": [
          0.573969
         ],
         "yaxis": "y"
        },
        {
         "hovertemplate": "Country Name=Tajikistan<br>Life Ladder=%{x}<br>Eating disorders (%)=%{y}<extra></extra>",
         "legendgroup": "Tajikistan",
         "marker": {
          "color": "#FF6692",
          "symbol": "circle"
         },
         "mode": "markers",
         "name": "Tajikistan",
         "orientation": "v",
         "showlegend": true,
         "type": "scatter",
         "x": [
          5.829234123
         ],
         "xaxis": "x",
         "y": [
          0.118226
         ],
         "yaxis": "y"
        },
        {
         "hovertemplate": "Country Name=Tanzania<br>Life Ladder=%{x}<br>Eating disorders (%)=%{y}<extra></extra>",
         "legendgroup": "Tanzania",
         "marker": {
          "color": "#B6E880",
          "symbol": "circle"
         },
         "mode": "markers",
         "name": "Tanzania",
         "orientation": "v",
         "showlegend": true,
         "type": "scatter",
         "x": [
          3.347121239
         ],
         "xaxis": "x",
         "y": [
          0.129857
         ],
         "yaxis": "y"
        },
        {
         "hovertemplate": "Country Name=Thailand<br>Life Ladder=%{x}<br>Eating disorders (%)=%{y}<extra></extra>",
         "legendgroup": "Thailand",
         "marker": {
          "color": "#FF97FF",
          "symbol": "circle"
         },
         "mode": "markers",
         "name": "Thailand",
         "orientation": "v",
         "showlegend": true,
         "type": "scatter",
         "x": [
          5.938895226
         ],
         "xaxis": "x",
         "y": [
          0.173202
         ],
         "yaxis": "y"
        },
        {
         "hovertemplate": "Country Name=Togo<br>Life Ladder=%{x}<br>Eating disorders (%)=%{y}<extra></extra>",
         "legendgroup": "Togo",
         "marker": {
          "color": "#FECB52",
          "symbol": "circle"
         },
         "mode": "markers",
         "name": "Togo",
         "orientation": "v",
         "showlegend": true,
         "type": "scatter",
         "x": [
          4.360805035
         ],
         "xaxis": "x",
         "y": [
          0.108107
         ],
         "yaxis": "y"
        },
        {
         "hovertemplate": "Country Name=Tunisia<br>Life Ladder=%{x}<br>Eating disorders (%)=%{y}<extra></extra>",
         "legendgroup": "Tunisia",
         "marker": {
          "color": "#636efa",
          "symbol": "circle"
         },
         "mode": "markers",
         "name": "Tunisia",
         "orientation": "v",
         "showlegend": true,
         "type": "scatter",
         "x": [
          4.124342918
         ],
         "xaxis": "x",
         "y": [
          0.200172
         ],
         "yaxis": "y"
        },
        {
         "hovertemplate": "Country Name=Uganda<br>Life Ladder=%{x}<br>Eating disorders (%)=%{y}<extra></extra>",
         "legendgroup": "Uganda",
         "marker": {
          "color": "#EF553B",
          "symbol": "circle"
         },
         "mode": "markers",
         "name": "Uganda",
         "orientation": "v",
         "showlegend": true,
         "type": "scatter",
         "x": [
          4.000516891
         ],
         "xaxis": "x",
         "y": [
          0.119309
         ],
         "yaxis": "y"
        },
        {
         "hovertemplate": "Country Name=Ukraine<br>Life Ladder=%{x}<br>Eating disorders (%)=%{y}<extra></extra>",
         "legendgroup": "Ukraine",
         "marker": {
          "color": "#00cc96",
          "symbol": "circle"
         },
         "mode": "markers",
         "name": "Ukraine",
         "orientation": "v",
         "showlegend": true,
         "type": "scatter",
         "x": [
          4.311067104
         ],
         "xaxis": "x",
         "y": [
          0.172715
         ],
         "yaxis": "y"
        },
        {
         "hovertemplate": "Country Name=United Kingdom<br>Life Ladder=%{x}<br>Eating disorders (%)=%{y}<extra></extra>",
         "legendgroup": "United Kingdom",
         "marker": {
          "color": "#ab63fa",
          "symbol": "circle"
         },
         "mode": "markers",
         "name": "United Kingdom",
         "orientation": "v",
         "showlegend": true,
         "type": "scatter",
         "x": [
          7.103273392
         ],
         "xaxis": "x",
         "y": [
          0.543054
         ],
         "yaxis": "y"
        },
        {
         "hovertemplate": "Country Name=United States<br>Life Ladder=%{x}<br>Eating disorders (%)=%{y}<extra></extra>",
         "legendgroup": "United States",
         "marker": {
          "color": "#FFA15A",
          "symbol": "circle"
         },
         "mode": "markers",
         "name": "United States",
         "orientation": "v",
         "showlegend": true,
         "type": "scatter",
         "x": [
          6.9917593
         ],
         "xaxis": "x",
         "y": [
          0.512844
         ],
         "yaxis": "y"
        },
        {
         "hovertemplate": "Country Name=Uruguay<br>Life Ladder=%{x}<br>Eating disorders (%)=%{y}<extra></extra>",
         "legendgroup": "Uruguay",
         "marker": {
          "color": "#19d3f3",
          "symbol": "circle"
         },
         "mode": "markers",
         "name": "Uruguay",
         "orientation": "v",
         "showlegend": true,
         "type": "scatter",
         "x": [
          6.336009979
         ],
         "xaxis": "x",
         "y": [
          0.405502
         ],
         "yaxis": "y"
        },
        {
         "hovertemplate": "Country Name=Uzbekistan<br>Life Ladder=%{x}<br>Eating disorders (%)=%{y}<extra></extra>",
         "legendgroup": "Uzbekistan",
         "marker": {
          "color": "#FF6692",
          "symbol": "circle"
         },
         "mode": "markers",
         "name": "Uzbekistan",
         "orientation": "v",
         "showlegend": true,
         "type": "scatter",
         "x": [
          6.421447754
         ],
         "xaxis": "x",
         "y": [
          0.153735
         ],
         "yaxis": "y"
        },
        {
         "hovertemplate": "Country Name=Venezuela<br>Life Ladder=%{x}<br>Eating disorders (%)=%{y}<extra></extra>",
         "legendgroup": "Venezuela",
         "marker": {
          "color": "#B6E880",
          "symbol": "circle"
         },
         "mode": "markers",
         "name": "Venezuela",
         "orientation": "v",
         "showlegend": true,
         "type": "scatter",
         "x": [
          5.070750713
         ],
         "xaxis": "x",
         "y": [
          0.28269
         ],
         "yaxis": "y"
        },
        {
         "hovertemplate": "Country Name=Zambia<br>Life Ladder=%{x}<br>Eating disorders (%)=%{y}<extra></extra>",
         "legendgroup": "Zambia",
         "marker": {
          "color": "#FF97FF",
          "symbol": "circle"
         },
         "mode": "markers",
         "name": "Zambia",
         "orientation": "v",
         "showlegend": true,
         "type": "scatter",
         "x": [
          3.932777405
         ],
         "xaxis": "x",
         "y": [
          0.142768
         ],
         "yaxis": "y"
        },
        {
         "hovertemplate": "Country Name=Zimbabwe<br>Life Ladder=%{x}<br>Eating disorders (%)=%{y}<extra></extra>",
         "legendgroup": "Zimbabwe",
         "marker": {
          "color": "#FECB52",
          "symbol": "circle"
         },
         "mode": "markers",
         "name": "Zimbabwe",
         "orientation": "v",
         "showlegend": true,
         "type": "scatter",
         "x": [
          3.63830018
         ],
         "xaxis": "x",
         "y": [
          0.124443
         ],
         "yaxis": "y"
        },
        {
         "hovertemplate": "<b>OLS trendline</b><br>Eating disorders (%) = 0.119193 * Life Ladder + -0.378174<br>R<sup>2</sup>=0.571296<br><br>Life Ladder=%{x}<br>Eating disorders (%)=%{y} <b>(trend)</b><extra></extra>",
         "legendgroup": "Overall Trendline",
         "line": {
          "color": "#636efa"
         },
         "mode": "lines",
         "name": "Overall Trendline",
         "showlegend": true,
         "type": "scatter",
         "x": [
          2.66171813,
          3.10837388,
          3.347121239,
          3.416862965,
          3.504881144,
          3.63830018,
          3.795300722,
          3.823865652,
          3.932777405,
          4.000516891,
          4.046111107,
          4.078620434,
          4.089562416,
          4.117938995,
          4.124342918,
          4.154341698,
          4.180315495,
          4.279863358,
          4.287736416,
          4.309771061,
          4.311067104,
          4.330945492,
          4.360805035,
          4.424490929,
          4.441306114,
          4.45077467,
          4.462399006,
          4.475654125,
          4.513655186,
          4.558937073,
          4.585842133,
          4.615673542,
          4.623140812,
          4.639548302,
          4.646891117,
          4.678159714,
          4.683024883,
          4.736692429,
          4.741850376,
          4.782382965,
          4.853180885,
          4.873722553,
          5.070750713,
          5.07405138,
          5.089902401,
          5.096901894,
          5.098401546,
          5.122031212,
          5.14824152,
          5.152279377,
          5.153989792,
          5.321928024,
          5.325530529,
          5.333850384,
          5.343165874,
          5.481310844,
          5.552915096,
          5.578742981,
          5.594270229,
          5.605202675,
          5.614798546,
          5.629536629,
          5.65055275,
          5.710936546,
          5.711499214,
          5.71329546,
          5.829234123,
          5.830870628,
          5.839518547,
          5.873887062,
          5.882351398,
          5.889759064,
          5.910676479,
          5.938395977,
          5.938895226,
          5.977817535,
          6.019985676,
          6.039330006,
          6.062051296,
          6.065038681,
          6.089904785,
          6.157341957,
          6.166837692,
          6.174117565,
          6.198870182,
          6.201268196,
          6.230173111,
          6.272940636,
          6.320119381,
          6.325118542,
          6.332929134,
          6.336009979,
          6.339318275,
          6.365509033,
          6.378437996,
          6.410299301,
          6.421447754,
          6.476356506,
          6.567658901,
          6.635222435,
          6.675665855,
          6.928347588,
          6.9917593,
          7.060155392,
          7.061380863,
          7.074324608,
          7.103273392,
          7.22518158,
          7.25703764,
          7.286804676,
          7.293727875,
          7.32718277,
          7.331036091,
          7.414868355,
          7.458965302,
          7.473593235,
          7.476213932,
          7.578744888,
          7.593702316,
          7.788251877
         ],
         "xaxis": "x",
         "y": [
          -0.06091427197014147,
          -0.007675851699439099,
          0.020781259256733,
          0.02909401313752863,
          0.039585199705850914,
          0.05548786906738934,
          0.07420129845394502,
          0.07760604976038894,
          0.09058761258283764,
          0.09866171265787166,
          0.10409624256892992,
          0.10797113998946849,
          0.10927535209534742,
          0.11265765320452785,
          0.11342095860036167,
          0.11699661537237976,
          0.12009252071046608,
          0.13195796958791653,
          0.13289638618866473,
          0.13552277058207224,
          0.13567725036190917,
          0.13804662313870217,
          0.14160568377841215,
          0.14919662241535434,
          0.15120088159249376,
          0.15232947103455224,
          0.1537150152379703,
          0.15529493802203875,
          0.15982441392434293,
          0.16522171627801563,
          0.16842862202520115,
          0.17198432927761914,
          0.17287437862442553,
          0.17483004324579746,
          0.17570525837722706,
          0.17943226896280945,
          0.18001216502797812,
          0.1864089826416442,
          0.18702377591391273,
          0.1918549932615941,
          0.20029363850292725,
          0.2027420698822283,
          0.22622652740290985,
          0.226619945145589,
          0.22850928233136955,
          0.2293435757441732,
          0.22952232437426645,
          0.2323388247537294,
          0.23546292064352503,
          0.2359442065733692,
          0.2361480767633473,
          0.2561652066776823,
          0.2565946015197218,
          0.2575862733768093,
          0.25869661836094426,
          0.27516258789373005,
          0.2836973425927243,
          0.28677585618251544,
          0.2886266017615691,
          0.289929677239126,
          0.2910734417897031,
          0.29283012410430115,
          0.29533510715278516,
          0.30253245748128393,
          0.30259952379680066,
          0.302813624476032,
          0.3166327486369038,
          0.31682780924222487,
          0.3178585841649455,
          0.32195508453609245,
          0.32296397757571066,
          0.32384692251872993,
          0.32634014046285514,
          0.32964412184945296,
          0.3297036290383377,
          0.33434291162777746,
          0.33936907598946375,
          0.34167479257409333,
          0.3443830205239462,
          0.3447390971179235,
          0.34770297275424294,
          0.3557410389938551,
          0.35687286799350243,
          0.35774058085355487,
          0.36069092958777743,
          0.36097675704471044,
          0.36442203232138365,
          0.36951963930369114,
          0.37514303462358634,
          0.37573890165164747,
          0.37666987271707975,
          0.3770370891268067,
          0.37743141619598225,
          0.38055318185468534,
          0.3820942289941397,
          0.3858918864651631,
          0.38722070855282714,
          0.3937654697375108,
          0.4046481131977857,
          0.4127012409546004,
          0.4175218299454385,
          0.44763982640285216,
          0.4551980843532776,
          0.46335044753402616,
          0.46349651559679605,
          0.46503932465318193,
          0.4684898288253946,
          0.4830204810048052,
          0.4868175133064127,
          0.49036554772168917,
          0.49119074739275514,
          0.4951783502840696,
          0.495637640739495,
          0.5056298938406283,
          0.5108859591594804,
          0.5126295123203782,
          0.5129418821225987,
          0.5251628960159269,
          0.5269457228082222,
          0.550134747671327
         ],
         "yaxis": "y"
        }
       ],
       "layout": {
        "autosize": true,
        "legend": {
         "title": {
          "text": "Country Name"
         },
         "tracegroupgap": 0
        },
        "template": {
         "data": {
          "bar": [
           {
            "error_x": {
             "color": "#2a3f5f"
            },
            "error_y": {
             "color": "#2a3f5f"
            },
            "marker": {
             "line": {
              "color": "#E5ECF6",
              "width": 0.5
             },
             "pattern": {
              "fillmode": "overlay",
              "size": 10,
              "solidity": 0.2
             }
            },
            "type": "bar"
           }
          ],
          "barpolar": [
           {
            "marker": {
             "line": {
              "color": "#E5ECF6",
              "width": 0.5
             },
             "pattern": {
              "fillmode": "overlay",
              "size": 10,
              "solidity": 0.2
             }
            },
            "type": "barpolar"
           }
          ],
          "carpet": [
           {
            "aaxis": {
             "endlinecolor": "#2a3f5f",
             "gridcolor": "white",
             "linecolor": "white",
             "minorgridcolor": "white",
             "startlinecolor": "#2a3f5f"
            },
            "baxis": {
             "endlinecolor": "#2a3f5f",
             "gridcolor": "white",
             "linecolor": "white",
             "minorgridcolor": "white",
             "startlinecolor": "#2a3f5f"
            },
            "type": "carpet"
           }
          ],
          "choropleth": [
           {
            "colorbar": {
             "outlinewidth": 0,
             "ticks": ""
            },
            "type": "choropleth"
           }
          ],
          "contour": [
           {
            "colorbar": {
             "outlinewidth": 0,
             "ticks": ""
            },
            "colorscale": [
             [
              0,
              "#0d0887"
             ],
             [
              0.1111111111111111,
              "#46039f"
             ],
             [
              0.2222222222222222,
              "#7201a8"
             ],
             [
              0.3333333333333333,
              "#9c179e"
             ],
             [
              0.4444444444444444,
              "#bd3786"
             ],
             [
              0.5555555555555556,
              "#d8576b"
             ],
             [
              0.6666666666666666,
              "#ed7953"
             ],
             [
              0.7777777777777778,
              "#fb9f3a"
             ],
             [
              0.8888888888888888,
              "#fdca26"
             ],
             [
              1,
              "#f0f921"
             ]
            ],
            "type": "contour"
           }
          ],
          "contourcarpet": [
           {
            "colorbar": {
             "outlinewidth": 0,
             "ticks": ""
            },
            "type": "contourcarpet"
           }
          ],
          "heatmap": [
           {
            "colorbar": {
             "outlinewidth": 0,
             "ticks": ""
            },
            "colorscale": [
             [
              0,
              "#0d0887"
             ],
             [
              0.1111111111111111,
              "#46039f"
             ],
             [
              0.2222222222222222,
              "#7201a8"
             ],
             [
              0.3333333333333333,
              "#9c179e"
             ],
             [
              0.4444444444444444,
              "#bd3786"
             ],
             [
              0.5555555555555556,
              "#d8576b"
             ],
             [
              0.6666666666666666,
              "#ed7953"
             ],
             [
              0.7777777777777778,
              "#fb9f3a"
             ],
             [
              0.8888888888888888,
              "#fdca26"
             ],
             [
              1,
              "#f0f921"
             ]
            ],
            "type": "heatmap"
           }
          ],
          "heatmapgl": [
           {
            "colorbar": {
             "outlinewidth": 0,
             "ticks": ""
            },
            "colorscale": [
             [
              0,
              "#0d0887"
             ],
             [
              0.1111111111111111,
              "#46039f"
             ],
             [
              0.2222222222222222,
              "#7201a8"
             ],
             [
              0.3333333333333333,
              "#9c179e"
             ],
             [
              0.4444444444444444,
              "#bd3786"
             ],
             [
              0.5555555555555556,
              "#d8576b"
             ],
             [
              0.6666666666666666,
              "#ed7953"
             ],
             [
              0.7777777777777778,
              "#fb9f3a"
             ],
             [
              0.8888888888888888,
              "#fdca26"
             ],
             [
              1,
              "#f0f921"
             ]
            ],
            "type": "heatmapgl"
           }
          ],
          "histogram": [
           {
            "marker": {
             "pattern": {
              "fillmode": "overlay",
              "size": 10,
              "solidity": 0.2
             }
            },
            "type": "histogram"
           }
          ],
          "histogram2d": [
           {
            "colorbar": {
             "outlinewidth": 0,
             "ticks": ""
            },
            "colorscale": [
             [
              0,
              "#0d0887"
             ],
             [
              0.1111111111111111,
              "#46039f"
             ],
             [
              0.2222222222222222,
              "#7201a8"
             ],
             [
              0.3333333333333333,
              "#9c179e"
             ],
             [
              0.4444444444444444,
              "#bd3786"
             ],
             [
              0.5555555555555556,
              "#d8576b"
             ],
             [
              0.6666666666666666,
              "#ed7953"
             ],
             [
              0.7777777777777778,
              "#fb9f3a"
             ],
             [
              0.8888888888888888,
              "#fdca26"
             ],
             [
              1,
              "#f0f921"
             ]
            ],
            "type": "histogram2d"
           }
          ],
          "histogram2dcontour": [
           {
            "colorbar": {
             "outlinewidth": 0,
             "ticks": ""
            },
            "colorscale": [
             [
              0,
              "#0d0887"
             ],
             [
              0.1111111111111111,
              "#46039f"
             ],
             [
              0.2222222222222222,
              "#7201a8"
             ],
             [
              0.3333333333333333,
              "#9c179e"
             ],
             [
              0.4444444444444444,
              "#bd3786"
             ],
             [
              0.5555555555555556,
              "#d8576b"
             ],
             [
              0.6666666666666666,
              "#ed7953"
             ],
             [
              0.7777777777777778,
              "#fb9f3a"
             ],
             [
              0.8888888888888888,
              "#fdca26"
             ],
             [
              1,
              "#f0f921"
             ]
            ],
            "type": "histogram2dcontour"
           }
          ],
          "mesh3d": [
           {
            "colorbar": {
             "outlinewidth": 0,
             "ticks": ""
            },
            "type": "mesh3d"
           }
          ],
          "parcoords": [
           {
            "line": {
             "colorbar": {
              "outlinewidth": 0,
              "ticks": ""
             }
            },
            "type": "parcoords"
           }
          ],
          "pie": [
           {
            "automargin": true,
            "type": "pie"
           }
          ],
          "scatter": [
           {
            "fillpattern": {
             "fillmode": "overlay",
             "size": 10,
             "solidity": 0.2
            },
            "type": "scatter"
           }
          ],
          "scatter3d": [
           {
            "line": {
             "colorbar": {
              "outlinewidth": 0,
              "ticks": ""
             }
            },
            "marker": {
             "colorbar": {
              "outlinewidth": 0,
              "ticks": ""
             }
            },
            "type": "scatter3d"
           }
          ],
          "scattercarpet": [
           {
            "marker": {
             "colorbar": {
              "outlinewidth": 0,
              "ticks": ""
             }
            },
            "type": "scattercarpet"
           }
          ],
          "scattergeo": [
           {
            "marker": {
             "colorbar": {
              "outlinewidth": 0,
              "ticks": ""
             }
            },
            "type": "scattergeo"
           }
          ],
          "scattergl": [
           {
            "marker": {
             "colorbar": {
              "outlinewidth": 0,
              "ticks": ""
             }
            },
            "type": "scattergl"
           }
          ],
          "scattermapbox": [
           {
            "marker": {
             "colorbar": {
              "outlinewidth": 0,
              "ticks": ""
             }
            },
            "type": "scattermapbox"
           }
          ],
          "scatterpolar": [
           {
            "marker": {
             "colorbar": {
              "outlinewidth": 0,
              "ticks": ""
             }
            },
            "type": "scatterpolar"
           }
          ],
          "scatterpolargl": [
           {
            "marker": {
             "colorbar": {
              "outlinewidth": 0,
              "ticks": ""
             }
            },
            "type": "scatterpolargl"
           }
          ],
          "scatterternary": [
           {
            "marker": {
             "colorbar": {
              "outlinewidth": 0,
              "ticks": ""
             }
            },
            "type": "scatterternary"
           }
          ],
          "surface": [
           {
            "colorbar": {
             "outlinewidth": 0,
             "ticks": ""
            },
            "colorscale": [
             [
              0,
              "#0d0887"
             ],
             [
              0.1111111111111111,
              "#46039f"
             ],
             [
              0.2222222222222222,
              "#7201a8"
             ],
             [
              0.3333333333333333,
              "#9c179e"
             ],
             [
              0.4444444444444444,
              "#bd3786"
             ],
             [
              0.5555555555555556,
              "#d8576b"
             ],
             [
              0.6666666666666666,
              "#ed7953"
             ],
             [
              0.7777777777777778,
              "#fb9f3a"
             ],
             [
              0.8888888888888888,
              "#fdca26"
             ],
             [
              1,
              "#f0f921"
             ]
            ],
            "type": "surface"
           }
          ],
          "table": [
           {
            "cells": {
             "fill": {
              "color": "#EBF0F8"
             },
             "line": {
              "color": "white"
             }
            },
            "header": {
             "fill": {
              "color": "#C8D4E3"
             },
             "line": {
              "color": "white"
             }
            },
            "type": "table"
           }
          ]
         },
         "layout": {
          "annotationdefaults": {
           "arrowcolor": "#2a3f5f",
           "arrowhead": 0,
           "arrowwidth": 1
          },
          "autotypenumbers": "strict",
          "coloraxis": {
           "colorbar": {
            "outlinewidth": 0,
            "ticks": ""
           }
          },
          "colorscale": {
           "diverging": [
            [
             0,
             "#8e0152"
            ],
            [
             0.1,
             "#c51b7d"
            ],
            [
             0.2,
             "#de77ae"
            ],
            [
             0.3,
             "#f1b6da"
            ],
            [
             0.4,
             "#fde0ef"
            ],
            [
             0.5,
             "#f7f7f7"
            ],
            [
             0.6,
             "#e6f5d0"
            ],
            [
             0.7,
             "#b8e186"
            ],
            [
             0.8,
             "#7fbc41"
            ],
            [
             0.9,
             "#4d9221"
            ],
            [
             1,
             "#276419"
            ]
           ],
           "sequential": [
            [
             0,
             "#0d0887"
            ],
            [
             0.1111111111111111,
             "#46039f"
            ],
            [
             0.2222222222222222,
             "#7201a8"
            ],
            [
             0.3333333333333333,
             "#9c179e"
            ],
            [
             0.4444444444444444,
             "#bd3786"
            ],
            [
             0.5555555555555556,
             "#d8576b"
            ],
            [
             0.6666666666666666,
             "#ed7953"
            ],
            [
             0.7777777777777778,
             "#fb9f3a"
            ],
            [
             0.8888888888888888,
             "#fdca26"
            ],
            [
             1,
             "#f0f921"
            ]
           ],
           "sequentialminus": [
            [
             0,
             "#0d0887"
            ],
            [
             0.1111111111111111,
             "#46039f"
            ],
            [
             0.2222222222222222,
             "#7201a8"
            ],
            [
             0.3333333333333333,
             "#9c179e"
            ],
            [
             0.4444444444444444,
             "#bd3786"
            ],
            [
             0.5555555555555556,
             "#d8576b"
            ],
            [
             0.6666666666666666,
             "#ed7953"
            ],
            [
             0.7777777777777778,
             "#fb9f3a"
            ],
            [
             0.8888888888888888,
             "#fdca26"
            ],
            [
             1,
             "#f0f921"
            ]
           ]
          },
          "colorway": [
           "#636efa",
           "#EF553B",
           "#00cc96",
           "#ab63fa",
           "#FFA15A",
           "#19d3f3",
           "#FF6692",
           "#B6E880",
           "#FF97FF",
           "#FECB52"
          ],
          "font": {
           "color": "#2a3f5f"
          },
          "geo": {
           "bgcolor": "white",
           "lakecolor": "white",
           "landcolor": "#E5ECF6",
           "showlakes": true,
           "showland": true,
           "subunitcolor": "white"
          },
          "hoverlabel": {
           "align": "left"
          },
          "hovermode": "closest",
          "mapbox": {
           "style": "light"
          },
          "paper_bgcolor": "white",
          "plot_bgcolor": "#E5ECF6",
          "polar": {
           "angularaxis": {
            "gridcolor": "white",
            "linecolor": "white",
            "ticks": ""
           },
           "bgcolor": "#E5ECF6",
           "radialaxis": {
            "gridcolor": "white",
            "linecolor": "white",
            "ticks": ""
           }
          },
          "scene": {
           "xaxis": {
            "backgroundcolor": "#E5ECF6",
            "gridcolor": "white",
            "gridwidth": 2,
            "linecolor": "white",
            "showbackground": true,
            "ticks": "",
            "zerolinecolor": "white"
           },
           "yaxis": {
            "backgroundcolor": "#E5ECF6",
            "gridcolor": "white",
            "gridwidth": 2,
            "linecolor": "white",
            "showbackground": true,
            "ticks": "",
            "zerolinecolor": "white"
           },
           "zaxis": {
            "backgroundcolor": "#E5ECF6",
            "gridcolor": "white",
            "gridwidth": 2,
            "linecolor": "white",
            "showbackground": true,
            "ticks": "",
            "zerolinecolor": "white"
           }
          },
          "shapedefaults": {
           "line": {
            "color": "#2a3f5f"
           }
          },
          "ternary": {
           "aaxis": {
            "gridcolor": "white",
            "linecolor": "white",
            "ticks": ""
           },
           "baxis": {
            "gridcolor": "white",
            "linecolor": "white",
            "ticks": ""
           },
           "bgcolor": "#E5ECF6",
           "caxis": {
            "gridcolor": "white",
            "linecolor": "white",
            "ticks": ""
           }
          },
          "title": {
           "x": 0.05
          },
          "xaxis": {
           "automargin": true,
           "gridcolor": "white",
           "linecolor": "white",
           "ticks": "",
           "title": {
            "standoff": 15
           },
           "zerolinecolor": "white",
           "zerolinewidth": 2
          },
          "yaxis": {
           "automargin": true,
           "gridcolor": "white",
           "linecolor": "white",
           "ticks": "",
           "title": {
            "standoff": 15
           },
           "zerolinecolor": "white",
           "zerolinewidth": 2
          }
         }
        },
        "title": {
         "text": "Relationship between Eating disorders and Life ladder"
        },
        "xaxis": {
         "anchor": "y",
         "autorange": true,
         "domain": [
          0,
          1
         ],
         "range": [
          2.337398015039956,
          8.112571991960046
         ],
         "title": {
          "text": "Life Ladder"
         },
         "type": "linear"
        },
        "yaxis": {
         "anchor": "x",
         "autorange": true,
         "domain": [
          0,
          1
         ],
         "range": [
          -0.11869817251518558,
          1.0369798383856965
         ],
         "title": {
          "text": "Eating disorders (%)"
         },
         "type": "linear"
        }
       }
      },
      "text/html": [
       "<div>                            <div id=\"023205ab-598f-4cf2-a3b1-fb519cca2ff3\" class=\"plotly-graph-div\" style=\"height:300px; width:100%;\"></div>            <script type=\"text/javascript\">                require([\"plotly\"], function(Plotly) {                    window.PLOTLYENV=window.PLOTLYENV || {};                                    if (document.getElementById(\"023205ab-598f-4cf2-a3b1-fb519cca2ff3\")) {                    Plotly.newPlot(                        \"023205ab-598f-4cf2-a3b1-fb519cca2ff3\",                        [{\"hovertemplate\":\"Country Name=Afghanistan\\u003cbr\\u003eLife Ladder=%{x}\\u003cbr\\u003eEating disorders (%)=%{y}\\u003cextra\\u003e\\u003c\\u002fextra\\u003e\",\"legendgroup\":\"Afghanistan\",\"marker\":{\"color\":\"#636efa\",\"symbol\":\"circle\"},\"mode\":\"markers\",\"name\":\"Afghanistan\",\"orientation\":\"v\",\"showlegend\":true,\"x\":[2.66171813],\"xaxis\":\"x\",\"y\":[0.107142],\"yaxis\":\"y\",\"type\":\"scatter\"},{\"hovertemplate\":\"Country Name=Albania\\u003cbr\\u003eLife Ladder=%{x}\\u003cbr\\u003eEating disorders (%)=%{y}\\u003cextra\\u003e\\u003c\\u002fextra\\u003e\",\"legendgroup\":\"Albania\",\"marker\":{\"color\":\"#EF553B\",\"symbol\":\"circle\"},\"mode\":\"markers\",\"name\":\"Albania\",\"orientation\":\"v\",\"showlegend\":true,\"x\":[4.639548302],\"xaxis\":\"x\",\"y\":[0.174046],\"yaxis\":\"y\",\"type\":\"scatter\"},{\"hovertemplate\":\"Country Name=Argentina\\u003cbr\\u003eLife Ladder=%{x}\\u003cbr\\u003eEating disorders (%)=%{y}\\u003cextra\\u003e\\u003c\\u002fextra\\u003e\",\"legendgroup\":\"Argentina\",\"marker\":{\"color\":\"#00cc96\",\"symbol\":\"circle\"},\"mode\":\"markers\",\"name\":\"Argentina\",\"orientation\":\"v\",\"showlegend\":true,\"x\":[6.039330006],\"xaxis\":\"x\",\"y\":[0.404033],\"yaxis\":\"y\",\"type\":\"scatter\"},{\"hovertemplate\":\"Country Name=Armenia\\u003cbr\\u003eLife Ladder=%{x}\\u003cbr\\u003eEating disorders (%)=%{y}\\u003cextra\\u003e\\u003c\\u002fextra\\u003e\",\"legendgroup\":\"Armenia\",\"marker\":{\"color\":\"#ab63fa\",\"symbol\":\"circle\"},\"mode\":\"markers\",\"name\":\"Armenia\",\"orientation\":\"v\",\"showlegend\":true,\"x\":[4.287736416],\"xaxis\":\"x\",\"y\":[0.167047],\"yaxis\":\"y\",\"type\":\"scatter\"},{\"hovertemplate\":\"Country Name=Australia\\u003cbr\\u003eLife Ladder=%{x}\\u003cbr\\u003eEating disorders (%)=%{y}\\u003cextra\\u003e\\u003c\\u002fextra\\u003e\",\"legendgroup\":\"Australia\",\"marker\":{\"color\":\"#FFA15A\",\"symbol\":\"circle\"},\"mode\":\"markers\",\"name\":\"Australia\",\"orientation\":\"v\",\"showlegend\":true,\"x\":[7.25703764],\"xaxis\":\"x\",\"y\":[0.943081],\"yaxis\":\"y\",\"type\":\"scatter\"},{\"hovertemplate\":\"Country Name=Austria\\u003cbr\\u003eLife Ladder=%{x}\\u003cbr\\u003eEating disorders (%)=%{y}\\u003cextra\\u003e\\u003c\\u002fextra\\u003e\",\"legendgroup\":\"Austria\",\"marker\":{\"color\":\"#19d3f3\",\"symbol\":\"circle\"},\"mode\":\"markers\",\"name\":\"Austria\",\"orientation\":\"v\",\"showlegend\":true,\"x\":[7.293727875],\"xaxis\":\"x\",\"y\":[0.675112],\"yaxis\":\"y\",\"type\":\"scatter\"},{\"hovertemplate\":\"Country Name=Azerbaijan\\u003cbr\\u003eLife Ladder=%{x}\\u003cbr\\u003eEating disorders (%)=%{y}\\u003cextra\\u003e\\u003c\\u002fextra\\u003e\",\"legendgroup\":\"Azerbaijan\",\"marker\":{\"color\":\"#FF6692\",\"symbol\":\"circle\"},\"mode\":\"markers\",\"name\":\"Azerbaijan\",\"orientation\":\"v\",\"showlegend\":true,\"x\":[5.152279377],\"xaxis\":\"x\",\"y\":[0.204891],\"yaxis\":\"y\",\"type\":\"scatter\"},{\"hovertemplate\":\"Country Name=Bangladesh\\u003cbr\\u003eLife Ladder=%{x}\\u003cbr\\u003eEating disorders (%)=%{y}\\u003cextra\\u003e\\u003c\\u002fextra\\u003e\",\"legendgroup\":\"Bangladesh\",\"marker\":{\"color\":\"#B6E880\",\"symbol\":\"circle\"},\"mode\":\"markers\",\"name\":\"Bangladesh\",\"orientation\":\"v\",\"showlegend\":true,\"x\":[4.309771061],\"xaxis\":\"x\",\"y\":[0.137974],\"yaxis\":\"y\",\"type\":\"scatter\"},{\"hovertemplate\":\"Country Name=Belarus\\u003cbr\\u003eLife Ladder=%{x}\\u003cbr\\u003eEating disorders (%)=%{y}\\u003cextra\\u003e\\u003c\\u002fextra\\u003e\",\"legendgroup\":\"Belarus\",\"marker\":{\"color\":\"#FF97FF\",\"symbol\":\"circle\"},\"mode\":\"markers\",\"name\":\"Belarus\",\"orientation\":\"v\",\"showlegend\":true,\"x\":[5.552915096],\"xaxis\":\"x\",\"y\":[0.210693],\"yaxis\":\"y\",\"type\":\"scatter\"},{\"hovertemplate\":\"Country Name=Belgium\\u003cbr\\u003eLife Ladder=%{x}\\u003cbr\\u003eEating disorders (%)=%{y}\\u003cextra\\u003e\\u003c\\u002fextra\\u003e\",\"legendgroup\":\"Belgium\",\"marker\":{\"color\":\"#FECB52\",\"symbol\":\"circle\"},\"mode\":\"markers\",\"name\":\"Belgium\",\"orientation\":\"v\",\"showlegend\":true,\"x\":[6.928347588],\"xaxis\":\"x\",\"y\":[0.603869],\"yaxis\":\"y\",\"type\":\"scatter\"},{\"hovertemplate\":\"Country Name=Benin\\u003cbr\\u003eLife Ladder=%{x}\\u003cbr\\u003eEating disorders (%)=%{y}\\u003cextra\\u003e\\u003c\\u002fextra\\u003e\",\"legendgroup\":\"Benin\",\"marker\":{\"color\":\"#636efa\",\"symbol\":\"circle\"},\"mode\":\"markers\",\"name\":\"Benin\",\"orientation\":\"v\",\"showlegend\":true,\"x\":[4.853180885],\"xaxis\":\"x\",\"y\":[0.12029],\"yaxis\":\"y\",\"type\":\"scatter\"},{\"hovertemplate\":\"Country Name=Bolivia\\u003cbr\\u003eLife Ladder=%{x}\\u003cbr\\u003eEating disorders (%)=%{y}\\u003cextra\\u003e\\u003c\\u002fextra\\u003e\",\"legendgroup\":\"Bolivia\",\"marker\":{\"color\":\"#EF553B\",\"symbol\":\"circle\"},\"mode\":\"markers\",\"name\":\"Bolivia\",\"orientation\":\"v\",\"showlegend\":true,\"x\":[5.65055275],\"xaxis\":\"x\",\"y\":[0.305251],\"yaxis\":\"y\",\"type\":\"scatter\"},{\"hovertemplate\":\"Country Name=Bosnia and Herzegovina\\u003cbr\\u003eLife Ladder=%{x}\\u003cbr\\u003eEating disorders (%)=%{y}\\u003cextra\\u003e\\u003c\\u002fextra\\u003e\",\"legendgroup\":\"Bosnia and Herzegovina\",\"marker\":{\"color\":\"#00cc96\",\"symbol\":\"circle\"},\"mode\":\"markers\",\"name\":\"Bosnia and Herzegovina\",\"orientation\":\"v\",\"showlegend\":true,\"x\":[5.089902401],\"xaxis\":\"x\",\"y\":[0.172474],\"yaxis\":\"y\",\"type\":\"scatter\"},{\"hovertemplate\":\"Country Name=Botswana\\u003cbr\\u003eLife Ladder=%{x}\\u003cbr\\u003eEating disorders (%)=%{y}\\u003cextra\\u003e\\u003c\\u002fextra\\u003e\",\"legendgroup\":\"Botswana\",\"marker\":{\"color\":\"#ab63fa\",\"symbol\":\"circle\"},\"mode\":\"markers\",\"name\":\"Botswana\",\"orientation\":\"v\",\"showlegend\":true,\"x\":[3.504881144],\"xaxis\":\"x\",\"y\":[0.227733],\"yaxis\":\"y\",\"type\":\"scatter\"},{\"hovertemplate\":\"Country Name=Brazil\\u003cbr\\u003eLife Ladder=%{x}\\u003cbr\\u003eEating disorders (%)=%{y}\\u003cextra\\u003e\\u003c\\u002fextra\\u003e\",\"legendgroup\":\"Brazil\",\"marker\":{\"color\":\"#FFA15A\",\"symbol\":\"circle\"},\"mode\":\"markers\",\"name\":\"Brazil\",\"orientation\":\"v\",\"showlegend\":true,\"x\":[6.332929134],\"xaxis\":\"x\",\"y\":[0.277051],\"yaxis\":\"y\",\"type\":\"scatter\"},{\"hovertemplate\":\"Country Name=Bulgaria\\u003cbr\\u003eLife Ladder=%{x}\\u003cbr\\u003eEating disorders (%)=%{y}\\u003cextra\\u003e\\u003c\\u002fextra\\u003e\",\"legendgroup\":\"Bulgaria\",\"marker\":{\"color\":\"#19d3f3\",\"symbol\":\"circle\"},\"mode\":\"markers\",\"name\":\"Bulgaria\",\"orientation\":\"v\",\"showlegend\":true,\"x\":[5.096901894],\"xaxis\":\"x\",\"y\":[0.202411],\"yaxis\":\"y\",\"type\":\"scatter\"},{\"hovertemplate\":\"Country Name=Burkina Faso\\u003cbr\\u003eLife Ladder=%{x}\\u003cbr\\u003eEating disorders (%)=%{y}\\u003cextra\\u003e\\u003c\\u002fextra\\u003e\",\"legendgroup\":\"Burkina Faso\",\"marker\":{\"color\":\"#FF6692\",\"symbol\":\"circle\"},\"mode\":\"markers\",\"name\":\"Burkina Faso\",\"orientation\":\"v\",\"showlegend\":true,\"x\":[4.646891117],\"xaxis\":\"x\",\"y\":[0.113354],\"yaxis\":\"y\",\"type\":\"scatter\"},{\"hovertemplate\":\"Country Name=Cambodia\\u003cbr\\u003eLife Ladder=%{x}\\u003cbr\\u003eEating disorders (%)=%{y}\\u003cextra\\u003e\\u003c\\u002fextra\\u003e\",\"legendgroup\":\"Cambodia\",\"marker\":{\"color\":\"#B6E880\",\"symbol\":\"circle\"},\"mode\":\"markers\",\"name\":\"Cambodia\",\"orientation\":\"v\",\"showlegend\":true,\"x\":[4.585842133],\"xaxis\":\"x\",\"y\":[0.108379],\"yaxis\":\"y\",\"type\":\"scatter\"},{\"hovertemplate\":\"Country Name=Cameroon\\u003cbr\\u003eLife Ladder=%{x}\\u003cbr\\u003eEating disorders (%)=%{y}\\u003cextra\\u003e\\u003c\\u002fextra\\u003e\",\"legendgroup\":\"Cameroon\",\"marker\":{\"color\":\"#FF97FF\",\"symbol\":\"circle\"},\"mode\":\"markers\",\"name\":\"Cameroon\",\"orientation\":\"v\",\"showlegend\":true,\"x\":[5.07405138],\"xaxis\":\"x\",\"y\":[0.13379],\"yaxis\":\"y\",\"type\":\"scatter\"},{\"hovertemplate\":\"Country Name=Canada\\u003cbr\\u003eLife Ladder=%{x}\\u003cbr\\u003eEating disorders (%)=%{y}\\u003cextra\\u003e\\u003c\\u002fextra\\u003e\",\"legendgroup\":\"Canada\",\"marker\":{\"color\":\"#FECB52\",\"symbol\":\"circle\"},\"mode\":\"markers\",\"name\":\"Canada\",\"orientation\":\"v\",\"showlegend\":true,\"x\":[7.414868355],\"xaxis\":\"x\",\"y\":[0.477304],\"yaxis\":\"y\",\"type\":\"scatter\"},{\"hovertemplate\":\"Country Name=Chad\\u003cbr\\u003eLife Ladder=%{x}\\u003cbr\\u003eEating disorders (%)=%{y}\\u003cextra\\u003e\\u003c\\u002fextra\\u003e\",\"legendgroup\":\"Chad\",\"marker\":{\"color\":\"#636efa\",\"symbol\":\"circle\"},\"mode\":\"markers\",\"name\":\"Chad\",\"orientation\":\"v\",\"showlegend\":true,\"x\":[4.558937073],\"xaxis\":\"x\",\"y\":[0.122129],\"yaxis\":\"y\",\"type\":\"scatter\"},{\"hovertemplate\":\"Country Name=Chile\\u003cbr\\u003eLife Ladder=%{x}\\u003cbr\\u003eEating disorders (%)=%{y}\\u003cextra\\u003e\\u003c\\u002fextra\\u003e\",\"legendgroup\":\"Chile\",\"marker\":{\"color\":\"#EF553B\",\"symbol\":\"circle\"},\"mode\":\"markers\",\"name\":\"Chile\",\"orientation\":\"v\",\"showlegend\":true,\"x\":[6.320119381],\"xaxis\":\"x\",\"y\":[0.416123],\"yaxis\":\"y\",\"type\":\"scatter\"},{\"hovertemplate\":\"Country Name=Colombia\\u003cbr\\u003eLife Ladder=%{x}\\u003cbr\\u003eEating disorders (%)=%{y}\\u003cextra\\u003e\\u003c\\u002fextra\\u003e\",\"legendgroup\":\"Colombia\",\"marker\":{\"color\":\"#00cc96\",\"symbol\":\"circle\"},\"mode\":\"markers\",\"name\":\"Colombia\",\"orientation\":\"v\",\"showlegend\":true,\"x\":[6.157341957],\"xaxis\":\"x\",\"y\":[0.260257],\"yaxis\":\"y\",\"type\":\"scatter\"},{\"hovertemplate\":\"Country Name=Costa Rica\\u003cbr\\u003eLife Ladder=%{x}\\u003cbr\\u003eEating disorders (%)=%{y}\\u003cextra\\u003e\\u003c\\u002fextra\\u003e\",\"legendgroup\":\"Costa Rica\",\"marker\":{\"color\":\"#ab63fa\",\"symbol\":\"circle\"},\"mode\":\"markers\",\"name\":\"Costa Rica\",\"orientation\":\"v\",\"showlegend\":true,\"x\":[7.22518158],\"xaxis\":\"x\",\"y\":[0.289342],\"yaxis\":\"y\",\"type\":\"scatter\"},{\"hovertemplate\":\"Country Name=Croatia\\u003cbr\\u003eLife Ladder=%{x}\\u003cbr\\u003eEating disorders (%)=%{y}\\u003cextra\\u003e\\u003c\\u002fextra\\u003e\",\"legendgroup\":\"Croatia\",\"marker\":{\"color\":\"#FFA15A\",\"symbol\":\"circle\"},\"mode\":\"markers\",\"name\":\"Croatia\",\"orientation\":\"v\",\"showlegend\":true,\"x\":[5.343165874],\"xaxis\":\"x\",\"y\":[0.217975],\"yaxis\":\"y\",\"type\":\"scatter\"},{\"hovertemplate\":\"Country Name=Cyprus\\u003cbr\\u003eLife Ladder=%{x}\\u003cbr\\u003eEating disorders (%)=%{y}\\u003cextra\\u003e\\u003c\\u002fextra\\u003e\",\"legendgroup\":\"Cyprus\",\"marker\":{\"color\":\"#19d3f3\",\"symbol\":\"circle\"},\"mode\":\"markers\",\"name\":\"Cyprus\",\"orientation\":\"v\",\"showlegend\":true,\"x\":[6.062051296],\"xaxis\":\"x\",\"y\":[0.506721],\"yaxis\":\"y\",\"type\":\"scatter\"},{\"hovertemplate\":\"Country Name=Denmark\\u003cbr\\u003eLife Ladder=%{x}\\u003cbr\\u003eEating disorders (%)=%{y}\\u003cextra\\u003e\\u003c\\u002fextra\\u003e\",\"legendgroup\":\"Denmark\",\"marker\":{\"color\":\"#FF6692\",\"symbol\":\"circle\"},\"mode\":\"markers\",\"name\":\"Denmark\",\"orientation\":\"v\",\"showlegend\":true,\"x\":[7.593702316],\"xaxis\":\"x\",\"y\":[0.540025],\"yaxis\":\"y\",\"type\":\"scatter\"},{\"hovertemplate\":\"Country Name=Dominican Republic\\u003cbr\\u003eLife Ladder=%{x}\\u003cbr\\u003eEating disorders (%)=%{y}\\u003cextra\\u003e\\u003c\\u002fextra\\u003e\",\"legendgroup\":\"Dominican Republic\",\"marker\":{\"color\":\"#B6E880\",\"symbol\":\"circle\"},\"mode\":\"markers\",\"name\":\"Dominican Republic\",\"orientation\":\"v\",\"showlegend\":true,\"x\":[5.605202675],\"xaxis\":\"x\",\"y\":[0.303058],\"yaxis\":\"y\",\"type\":\"scatter\"},{\"hovertemplate\":\"Country Name=Ecuador\\u003cbr\\u003eLife Ladder=%{x}\\u003cbr\\u003eEating disorders (%)=%{y}\\u003cextra\\u003e\\u003c\\u002fextra\\u003e\",\"legendgroup\":\"Ecuador\",\"marker\":{\"color\":\"#FF97FF\",\"symbol\":\"circle\"},\"mode\":\"markers\",\"name\":\"Ecuador\",\"orientation\":\"v\",\"showlegend\":true,\"x\":[5.839518547],\"xaxis\":\"x\",\"y\":[0.363733],\"yaxis\":\"y\",\"type\":\"scatter\"},{\"hovertemplate\":\"Country Name=El Salvador\\u003cbr\\u003eLife Ladder=%{x}\\u003cbr\\u003eEating disorders (%)=%{y}\\u003cextra\\u003e\\u003c\\u002fextra\\u003e\",\"legendgroup\":\"El Salvador\",\"marker\":{\"color\":\"#FECB52\",\"symbol\":\"circle\"},\"mode\":\"markers\",\"name\":\"El Salvador\",\"orientation\":\"v\",\"showlegend\":true,\"x\":[6.339318275],\"xaxis\":\"x\",\"y\":[0.243873],\"yaxis\":\"y\",\"type\":\"scatter\"},{\"hovertemplate\":\"Country Name=Estonia\\u003cbr\\u003eLife Ladder=%{x}\\u003cbr\\u003eEating disorders (%)=%{y}\\u003cextra\\u003e\\u003c\\u002fextra\\u003e\",\"legendgroup\":\"Estonia\",\"marker\":{\"color\":\"#636efa\",\"symbol\":\"circle\"},\"mode\":\"markers\",\"name\":\"Estonia\",\"orientation\":\"v\",\"showlegend\":true,\"x\":[5.938395977],\"xaxis\":\"x\",\"y\":[0.250271],\"yaxis\":\"y\",\"type\":\"scatter\"},{\"hovertemplate\":\"Country Name=Ethiopia\\u003cbr\\u003eLife Ladder=%{x}\\u003cbr\\u003eEating disorders (%)=%{y}\\u003cextra\\u003e\\u003c\\u002fextra\\u003e\",\"legendgroup\":\"Ethiopia\",\"marker\":{\"color\":\"#EF553B\",\"symbol\":\"circle\"},\"mode\":\"markers\",\"name\":\"Ethiopia\",\"orientation\":\"v\",\"showlegend\":true,\"x\":[4.180315495],\"xaxis\":\"x\",\"y\":[0.109817],\"yaxis\":\"y\",\"type\":\"scatter\"},{\"hovertemplate\":\"Country Name=Finland\\u003cbr\\u003eLife Ladder=%{x}\\u003cbr\\u003eEating disorders (%)=%{y}\\u003cextra\\u003e\\u003c\\u002fextra\\u003e\",\"legendgroup\":\"Finland\",\"marker\":{\"color\":\"#00cc96\",\"symbol\":\"circle\"},\"mode\":\"markers\",\"name\":\"Finland\",\"orientation\":\"v\",\"showlegend\":true,\"x\":[7.788251877],\"xaxis\":\"x\",\"y\":[0.594938],\"yaxis\":\"y\",\"type\":\"scatter\"},{\"hovertemplate\":\"Country Name=France\\u003cbr\\u003eLife Ladder=%{x}\\u003cbr\\u003eEating disorders (%)=%{y}\\u003cextra\\u003e\\u003c\\u002fextra\\u003e\",\"legendgroup\":\"France\",\"marker\":{\"color\":\"#ab63fa\",\"symbol\":\"circle\"},\"mode\":\"markers\",\"name\":\"France\",\"orientation\":\"v\",\"showlegend\":true,\"x\":[6.635222435],\"xaxis\":\"x\",\"y\":[0.573755],\"yaxis\":\"y\",\"type\":\"scatter\"},{\"hovertemplate\":\"Country Name=Gabon\\u003cbr\\u003eLife Ladder=%{x}\\u003cbr\\u003eEating disorders (%)=%{y}\\u003cextra\\u003e\\u003c\\u002fextra\\u003e\",\"legendgroup\":\"Gabon\",\"marker\":{\"color\":\"#FFA15A\",\"symbol\":\"circle\"},\"mode\":\"markers\",\"name\":\"Gabon\",\"orientation\":\"v\",\"showlegend\":true,\"x\":[4.782382965],\"xaxis\":\"x\",\"y\":[0.226577],\"yaxis\":\"y\",\"type\":\"scatter\"},{\"hovertemplate\":\"Country Name=Gambia\\u003cbr\\u003eLife Ladder=%{x}\\u003cbr\\u003eEating disorders (%)=%{y}\\u003cextra\\u003e\\u003c\\u002fextra\\u003e\",\"legendgroup\":\"Gambia\",\"marker\":{\"color\":\"#19d3f3\",\"symbol\":\"circle\"},\"mode\":\"markers\",\"name\":\"Gambia\",\"orientation\":\"v\",\"showlegend\":true,\"x\":[4.117938995],\"xaxis\":\"x\",\"y\":[0.113298],\"yaxis\":\"y\",\"type\":\"scatter\"},{\"hovertemplate\":\"Country Name=Georgia\\u003cbr\\u003eLife Ladder=%{x}\\u003cbr\\u003eEating disorders (%)=%{y}\\u003cextra\\u003e\\u003c\\u002fextra\\u003e\",\"legendgroup\":\"Georgia\",\"marker\":{\"color\":\"#FF6692\",\"symbol\":\"circle\"},\"mode\":\"markers\",\"name\":\"Georgia\",\"orientation\":\"v\",\"showlegend\":true,\"x\":[4.45077467],\"xaxis\":\"x\",\"y\":[0.17164],\"yaxis\":\"y\",\"type\":\"scatter\"},{\"hovertemplate\":\"Country Name=Germany\\u003cbr\\u003eLife Ladder=%{x}\\u003cbr\\u003eEating disorders (%)=%{y}\\u003cextra\\u003e\\u003c\\u002fextra\\u003e\",\"legendgroup\":\"Germany\",\"marker\":{\"color\":\"#B6E880\",\"symbol\":\"circle\"},\"mode\":\"markers\",\"name\":\"Germany\",\"orientation\":\"v\",\"showlegend\":true,\"x\":[7.074324608],\"xaxis\":\"x\",\"y\":[0.522066],\"yaxis\":\"y\",\"type\":\"scatter\"},{\"hovertemplate\":\"Country Name=Ghana\\u003cbr\\u003eLife Ladder=%{x}\\u003cbr\\u003eEating disorders (%)=%{y}\\u003cextra\\u003e\\u003c\\u002fextra\\u003e\",\"legendgroup\":\"Ghana\",\"marker\":{\"color\":\"#FF97FF\",\"symbol\":\"circle\"},\"mode\":\"markers\",\"name\":\"Ghana\",\"orientation\":\"v\",\"showlegend\":true,\"x\":[5.481310844],\"xaxis\":\"x\",\"y\":[0.147452],\"yaxis\":\"y\",\"type\":\"scatter\"},{\"hovertemplate\":\"Country Name=Greece\\u003cbr\\u003eLife Ladder=%{x}\\u003cbr\\u003eEating disorders (%)=%{y}\\u003cextra\\u003e\\u003c\\u002fextra\\u003e\",\"legendgroup\":\"Greece\",\"marker\":{\"color\":\"#FECB52\",\"symbol\":\"circle\"},\"mode\":\"markers\",\"name\":\"Greece\",\"orientation\":\"v\",\"showlegend\":true,\"x\":[5.14824152],\"xaxis\":\"x\",\"y\":[0.559324],\"yaxis\":\"y\",\"type\":\"scatter\"},{\"hovertemplate\":\"Country Name=Guatemala\\u003cbr\\u003eLife Ladder=%{x}\\u003cbr\\u003eEating disorders (%)=%{y}\\u003cextra\\u003e\\u003c\\u002fextra\\u003e\",\"legendgroup\":\"Guatemala\",\"marker\":{\"color\":\"#636efa\",\"symbol\":\"circle\"},\"mode\":\"markers\",\"name\":\"Guatemala\",\"orientation\":\"v\",\"showlegend\":true,\"x\":[6.325118542],\"xaxis\":\"x\",\"y\":[0.23211],\"yaxis\":\"y\",\"type\":\"scatter\"},{\"hovertemplate\":\"Country Name=Guinea\\u003cbr\\u003eLife Ladder=%{x}\\u003cbr\\u003eEating disorders (%)=%{y}\\u003cextra\\u003e\\u003c\\u002fextra\\u003e\",\"legendgroup\":\"Guinea\",\"marker\":{\"color\":\"#EF553B\",\"symbol\":\"circle\"},\"mode\":\"markers\",\"name\":\"Guinea\",\"orientation\":\"v\",\"showlegend\":true,\"x\":[4.873722553],\"xaxis\":\"x\",\"y\":[0.112388],\"yaxis\":\"y\",\"type\":\"scatter\"},{\"hovertemplate\":\"Country Name=Haiti\\u003cbr\\u003eLife Ladder=%{x}\\u003cbr\\u003eEating disorders (%)=%{y}\\u003cextra\\u003e\\u003c\\u002fextra\\u003e\",\"legendgroup\":\"Haiti\",\"marker\":{\"color\":\"#00cc96\",\"symbol\":\"circle\"},\"mode\":\"markers\",\"name\":\"Haiti\",\"orientation\":\"v\",\"showlegend\":true,\"x\":[3.823865652],\"xaxis\":\"x\",\"y\":[0.16079],\"yaxis\":\"y\",\"type\":\"scatter\"},{\"hovertemplate\":\"Country Name=Honduras\\u003cbr\\u003eLife Ladder=%{x}\\u003cbr\\u003eEating disorders (%)=%{y}\\u003cextra\\u003e\\u003c\\u002fextra\\u003e\",\"legendgroup\":\"Honduras\",\"marker\":{\"color\":\"#ab63fa\",\"symbol\":\"circle\"},\"mode\":\"markers\",\"name\":\"Honduras\",\"orientation\":\"v\",\"showlegend\":true,\"x\":[6.019985676],\"xaxis\":\"x\",\"y\":[0.203339],\"yaxis\":\"y\",\"type\":\"scatter\"},{\"hovertemplate\":\"Country Name=Hungary\\u003cbr\\u003eLife Ladder=%{x}\\u003cbr\\u003eEating disorders (%)=%{y}\\u003cextra\\u003e\\u003c\\u002fextra\\u003e\",\"legendgroup\":\"Hungary\",\"marker\":{\"color\":\"#FFA15A\",\"symbol\":\"circle\"},\"mode\":\"markers\",\"name\":\"Hungary\",\"orientation\":\"v\",\"showlegend\":true,\"x\":[6.065038681],\"xaxis\":\"x\",\"y\":[0.237686],\"yaxis\":\"y\",\"type\":\"scatter\"},{\"hovertemplate\":\"Country Name=Iceland\\u003cbr\\u003eLife Ladder=%{x}\\u003cbr\\u003eEating disorders (%)=%{y}\\u003cextra\\u003e\\u003c\\u002fextra\\u003e\",\"legendgroup\":\"Iceland\",\"marker\":{\"color\":\"#19d3f3\",\"symbol\":\"circle\"},\"mode\":\"markers\",\"name\":\"Iceland\",\"orientation\":\"v\",\"showlegend\":true,\"x\":[7.476213932],\"xaxis\":\"x\",\"y\":[0.558014],\"yaxis\":\"y\",\"type\":\"scatter\"},{\"hovertemplate\":\"Country Name=India\\u003cbr\\u003eLife Ladder=%{x}\\u003cbr\\u003eEating disorders (%)=%{y}\\u003cextra\\u003e\\u003c\\u002fextra\\u003e\",\"legendgroup\":\"India\",\"marker\":{\"color\":\"#FF6692\",\"symbol\":\"circle\"},\"mode\":\"markers\",\"name\":\"India\",\"orientation\":\"v\",\"showlegend\":true,\"x\":[4.046111107],\"xaxis\":\"x\",\"y\":[0.157758],\"yaxis\":\"y\",\"type\":\"scatter\"},{\"hovertemplate\":\"Country Name=Indonesia\\u003cbr\\u003eLife Ladder=%{x}\\u003cbr\\u003eEating disorders (%)=%{y}\\u003cextra\\u003e\\u003c\\u002fextra\\u003e\",\"legendgroup\":\"Indonesia\",\"marker\":{\"color\":\"#B6E880\",\"symbol\":\"circle\"},\"mode\":\"markers\",\"name\":\"Indonesia\",\"orientation\":\"v\",\"showlegend\":true,\"x\":[5.098401546],\"xaxis\":\"x\",\"y\":[0.148782],\"yaxis\":\"y\",\"type\":\"scatter\"},{\"hovertemplate\":\"Country Name=Iraq\\u003cbr\\u003eLife Ladder=%{x}\\u003cbr\\u003eEating disorders (%)=%{y}\\u003cextra\\u003e\\u003c\\u002fextra\\u003e\",\"legendgroup\":\"Iraq\",\"marker\":{\"color\":\"#FF97FF\",\"symbol\":\"circle\"},\"mode\":\"markers\",\"name\":\"Iraq\",\"orientation\":\"v\",\"showlegend\":true,\"x\":[4.462399006],\"xaxis\":\"x\",\"y\":[0.208672],\"yaxis\":\"y\",\"type\":\"scatter\"},{\"hovertemplate\":\"Country Name=Ireland\\u003cbr\\u003eLife Ladder=%{x}\\u003cbr\\u003eEating disorders (%)=%{y}\\u003cextra\\u003e\\u003c\\u002fextra\\u003e\",\"legendgroup\":\"Ireland\",\"marker\":{\"color\":\"#FECB52\",\"symbol\":\"circle\"},\"mode\":\"markers\",\"name\":\"Ireland\",\"orientation\":\"v\",\"showlegend\":true,\"x\":[7.060155392],\"xaxis\":\"x\",\"y\":[0.559995],\"yaxis\":\"y\",\"type\":\"scatter\"},{\"hovertemplate\":\"Country Name=Israel\\u003cbr\\u003eLife Ladder=%{x}\\u003cbr\\u003eEating disorders (%)=%{y}\\u003cextra\\u003e\\u003c\\u002fextra\\u003e\",\"legendgroup\":\"Israel\",\"marker\":{\"color\":\"#636efa\",\"symbol\":\"circle\"},\"mode\":\"markers\",\"name\":\"Israel\",\"orientation\":\"v\",\"showlegend\":true,\"x\":[7.331036091],\"xaxis\":\"x\",\"y\":[0.461175],\"yaxis\":\"y\",\"type\":\"scatter\"},{\"hovertemplate\":\"Country Name=Italy\\u003cbr\\u003eLife Ladder=%{x}\\u003cbr\\u003eEating disorders (%)=%{y}\\u003cextra\\u003e\\u003c\\u002fextra\\u003e\",\"legendgroup\":\"Italy\",\"marker\":{\"color\":\"#EF553B\",\"symbol\":\"circle\"},\"mode\":\"markers\",\"name\":\"Italy\",\"orientation\":\"v\",\"showlegend\":true,\"x\":[6.198870182],\"xaxis\":\"x\",\"y\":[0.626784],\"yaxis\":\"y\",\"type\":\"scatter\"},{\"hovertemplate\":\"Country Name=Jamaica\\u003cbr\\u003eLife Ladder=%{x}\\u003cbr\\u003eEating disorders (%)=%{y}\\u003cextra\\u003e\\u003c\\u002fextra\\u003e\",\"legendgroup\":\"Jamaica\",\"marker\":{\"color\":\"#00cc96\",\"symbol\":\"circle\"},\"mode\":\"markers\",\"name\":\"Jamaica\",\"orientation\":\"v\",\"showlegend\":true,\"x\":[5.889759064],\"xaxis\":\"x\",\"y\":[0.25965],\"yaxis\":\"y\",\"type\":\"scatter\"},{\"hovertemplate\":\"Country Name=Japan\\u003cbr\\u003eLife Ladder=%{x}\\u003cbr\\u003eEating disorders (%)=%{y}\\u003cextra\\u003e\\u003c\\u002fextra\\u003e\",\"legendgroup\":\"Japan\",\"marker\":{\"color\":\"#ab63fa\",\"symbol\":\"circle\"},\"mode\":\"markers\",\"name\":\"Japan\",\"orientation\":\"v\",\"showlegend\":true,\"x\":[5.910676479],\"xaxis\":\"x\",\"y\":[0.454379],\"yaxis\":\"y\",\"type\":\"scatter\"},{\"hovertemplate\":\"Country Name=Kazakhstan\\u003cbr\\u003eLife Ladder=%{x}\\u003cbr\\u003eEating disorders (%)=%{y}\\u003cextra\\u003e\\u003c\\u002fextra\\u003e\",\"legendgroup\":\"Kazakhstan\",\"marker\":{\"color\":\"#FFA15A\",\"symbol\":\"circle\"},\"mode\":\"markers\",\"name\":\"Kazakhstan\",\"orientation\":\"v\",\"showlegend\":true,\"x\":[5.882351398],\"xaxis\":\"x\",\"y\":[0.227918],\"yaxis\":\"y\",\"type\":\"scatter\"},{\"hovertemplate\":\"Country Name=Kenya\\u003cbr\\u003eLife Ladder=%{x}\\u003cbr\\u003eEating disorders (%)=%{y}\\u003cextra\\u003e\\u003c\\u002fextra\\u003e\",\"legendgroup\":\"Kenya\",\"marker\":{\"color\":\"#19d3f3\",\"symbol\":\"circle\"},\"mode\":\"markers\",\"name\":\"Kenya\",\"orientation\":\"v\",\"showlegend\":true,\"x\":[4.475654125],\"xaxis\":\"x\",\"y\":[0.135005],\"yaxis\":\"y\",\"type\":\"scatter\"},{\"hovertemplate\":\"Country Name=Kyrgyzstan\\u003cbr\\u003eLife Ladder=%{x}\\u003cbr\\u003eEating disorders (%)=%{y}\\u003cextra\\u003e\\u003c\\u002fextra\\u003e\",\"legendgroup\":\"Kyrgyzstan\",\"marker\":{\"color\":\"#FF6692\",\"symbol\":\"circle\"},\"mode\":\"markers\",\"name\":\"Kyrgyzstan\",\"orientation\":\"v\",\"showlegend\":true,\"x\":[5.629536629],\"xaxis\":\"x\",\"y\":[0.127525],\"yaxis\":\"y\",\"type\":\"scatter\"},{\"hovertemplate\":\"Country Name=Laos\\u003cbr\\u003eLife Ladder=%{x}\\u003cbr\\u003eEating disorders (%)=%{y}\\u003cextra\\u003e\\u003c\\u002fextra\\u003e\",\"legendgroup\":\"Laos\",\"marker\":{\"color\":\"#B6E880\",\"symbol\":\"circle\"},\"mode\":\"markers\",\"name\":\"Laos\",\"orientation\":\"v\",\"showlegend\":true,\"x\":[4.623140812],\"xaxis\":\"x\",\"y\":[0.128172],\"yaxis\":\"y\",\"type\":\"scatter\"},{\"hovertemplate\":\"Country Name=Latvia\\u003cbr\\u003eLife Ladder=%{x}\\u003cbr\\u003eEating disorders (%)=%{y}\\u003cextra\\u003e\\u003c\\u002fextra\\u003e\",\"legendgroup\":\"Latvia\",\"marker\":{\"color\":\"#FF97FF\",\"symbol\":\"circle\"},\"mode\":\"markers\",\"name\":\"Latvia\",\"orientation\":\"v\",\"showlegend\":true,\"x\":[5.977817535],\"xaxis\":\"x\",\"y\":[0.225275],\"yaxis\":\"y\",\"type\":\"scatter\"},{\"hovertemplate\":\"Country Name=Lebanon\\u003cbr\\u003eLife Ladder=%{x}\\u003cbr\\u003eEating disorders (%)=%{y}\\u003cextra\\u003e\\u003c\\u002fextra\\u003e\",\"legendgroup\":\"Lebanon\",\"marker\":{\"color\":\"#FECB52\",\"symbol\":\"circle\"},\"mode\":\"markers\",\"name\":\"Lebanon\",\"orientation\":\"v\",\"showlegend\":true,\"x\":[5.153989792],\"xaxis\":\"x\",\"y\":[0.219049],\"yaxis\":\"y\",\"type\":\"scatter\"},{\"hovertemplate\":\"Country Name=Lesotho\\u003cbr\\u003eLife Ladder=%{x}\\u003cbr\\u003eEating disorders (%)=%{y}\\u003cextra\\u003e\\u003c\\u002fextra\\u003e\",\"legendgroup\":\"Lesotho\",\"marker\":{\"color\":\"#636efa\",\"symbol\":\"circle\"},\"mode\":\"markers\",\"name\":\"Lesotho\",\"orientation\":\"v\",\"showlegend\":true,\"x\":[3.795300722],\"xaxis\":\"x\",\"y\":[0.136801],\"yaxis\":\"y\",\"type\":\"scatter\"},{\"hovertemplate\":\"Country Name=Liberia\\u003cbr\\u003eLife Ladder=%{x}\\u003cbr\\u003eEating disorders (%)=%{y}\\u003cextra\\u003e\\u003c\\u002fextra\\u003e\",\"legendgroup\":\"Liberia\",\"marker\":{\"color\":\"#EF553B\",\"symbol\":\"circle\"},\"mode\":\"markers\",\"name\":\"Liberia\",\"orientation\":\"v\",\"showlegend\":true,\"x\":[4.424490929],\"xaxis\":\"x\",\"y\":[0.091591],\"yaxis\":\"y\",\"type\":\"scatter\"},{\"hovertemplate\":\"Country Name=Lithuania\\u003cbr\\u003eLife Ladder=%{x}\\u003cbr\\u003eEating disorders (%)=%{y}\\u003cextra\\u003e\\u003c\\u002fextra\\u003e\",\"legendgroup\":\"Lithuania\",\"marker\":{\"color\":\"#00cc96\",\"symbol\":\"circle\"},\"mode\":\"markers\",\"name\":\"Lithuania\",\"orientation\":\"v\",\"showlegend\":true,\"x\":[6.272940636],\"xaxis\":\"x\",\"y\":[0.234095],\"yaxis\":\"y\",\"type\":\"scatter\"},{\"hovertemplate\":\"Country Name=Luxembourg\\u003cbr\\u003eLife Ladder=%{x}\\u003cbr\\u003eEating disorders (%)=%{y}\\u003cextra\\u003e\\u003c\\u002fextra\\u003e\",\"legendgroup\":\"Luxembourg\",\"marker\":{\"color\":\"#ab63fa\",\"symbol\":\"circle\"},\"mode\":\"markers\",\"name\":\"Luxembourg\",\"orientation\":\"v\",\"showlegend\":true,\"x\":[7.061380863],\"xaxis\":\"x\",\"y\":[0.737917],\"yaxis\":\"y\",\"type\":\"scatter\"},{\"hovertemplate\":\"Country Name=Madagascar\\u003cbr\\u003eLife Ladder=%{x}\\u003cbr\\u003eEating disorders (%)=%{y}\\u003cextra\\u003e\\u003c\\u002fextra\\u003e\",\"legendgroup\":\"Madagascar\",\"marker\":{\"color\":\"#FFA15A\",\"symbol\":\"circle\"},\"mode\":\"markers\",\"name\":\"Madagascar\",\"orientation\":\"v\",\"showlegend\":true,\"x\":[4.078620434],\"xaxis\":\"x\",\"y\":[0.106417],\"yaxis\":\"y\",\"type\":\"scatter\"},{\"hovertemplate\":\"Country Name=Malawi\\u003cbr\\u003eLife Ladder=%{x}\\u003cbr\\u003eEating disorders (%)=%{y}\\u003cextra\\u003e\\u003c\\u002fextra\\u003e\",\"legendgroup\":\"Malawi\",\"marker\":{\"color\":\"#19d3f3\",\"symbol\":\"circle\"},\"mode\":\"markers\",\"name\":\"Malawi\",\"orientation\":\"v\",\"showlegend\":true,\"x\":[3.416862965],\"xaxis\":\"x\",\"y\":[0.100349],\"yaxis\":\"y\",\"type\":\"scatter\"},{\"hovertemplate\":\"Country Name=Mali\\u003cbr\\u003eLife Ladder=%{x}\\u003cbr\\u003eEating disorders (%)=%{y}\\u003cextra\\u003e\\u003c\\u002fextra\\u003e\",\"legendgroup\":\"Mali\",\"marker\":{\"color\":\"#FF6692\",\"symbol\":\"circle\"},\"mode\":\"markers\",\"name\":\"Mali\",\"orientation\":\"v\",\"showlegend\":true,\"x\":[4.741850376],\"xaxis\":\"x\",\"y\":[0.116675],\"yaxis\":\"y\",\"type\":\"scatter\"},{\"hovertemplate\":\"Country Name=Malta\\u003cbr\\u003eLife Ladder=%{x}\\u003cbr\\u003eEating disorders (%)=%{y}\\u003cextra\\u003e\\u003c\\u002fextra\\u003e\",\"legendgroup\":\"Malta\",\"marker\":{\"color\":\"#B6E880\",\"symbol\":\"circle\"},\"mode\":\"markers\",\"name\":\"Malta\",\"orientation\":\"v\",\"showlegend\":true,\"x\":[6.675665855],\"xaxis\":\"x\",\"y\":[0.51914],\"yaxis\":\"y\",\"type\":\"scatter\"},{\"hovertemplate\":\"Country Name=Mauritania\\u003cbr\\u003eLife Ladder=%{x}\\u003cbr\\u003eEating disorders (%)=%{y}\\u003cextra\\u003e\\u003c\\u002fextra\\u003e\",\"legendgroup\":\"Mauritania\",\"marker\":{\"color\":\"#FF97FF\",\"symbol\":\"circle\"},\"mode\":\"markers\",\"name\":\"Mauritania\",\"orientation\":\"v\",\"showlegend\":true,\"x\":[4.678159714],\"xaxis\":\"x\",\"y\":[0.145276],\"yaxis\":\"y\",\"type\":\"scatter\"},{\"hovertemplate\":\"Country Name=Mauritius\\u003cbr\\u003eLife Ladder=%{x}\\u003cbr\\u003eEating disorders (%)=%{y}\\u003cextra\\u003e\\u003c\\u002fextra\\u003e\",\"legendgroup\":\"Mauritius\",\"marker\":{\"color\":\"#FECB52\",\"symbol\":\"circle\"},\"mode\":\"markers\",\"name\":\"Mauritius\",\"orientation\":\"v\",\"showlegend\":true,\"x\":[6.174117565],\"xaxis\":\"x\",\"y\":[0.184433],\"yaxis\":\"y\",\"type\":\"scatter\"},{\"hovertemplate\":\"Country Name=Mexico\\u003cbr\\u003eLife Ladder=%{x}\\u003cbr\\u003eEating disorders (%)=%{y}\\u003cextra\\u003e\\u003c\\u002fextra\\u003e\",\"legendgroup\":\"Mexico\",\"marker\":{\"color\":\"#636efa\",\"symbol\":\"circle\"},\"mode\":\"markers\",\"name\":\"Mexico\",\"orientation\":\"v\",\"showlegend\":true,\"x\":[6.410299301],\"xaxis\":\"x\",\"y\":[0.316975],\"yaxis\":\"y\",\"type\":\"scatter\"},{\"hovertemplate\":\"Country Name=Moldova\\u003cbr\\u003eLife Ladder=%{x}\\u003cbr\\u003eEating disorders (%)=%{y}\\u003cextra\\u003e\\u003c\\u002fextra\\u003e\",\"legendgroup\":\"Moldova\",\"marker\":{\"color\":\"#EF553B\",\"symbol\":\"circle\"},\"mode\":\"markers\",\"name\":\"Moldova\",\"orientation\":\"v\",\"showlegend\":true,\"x\":[5.325530529],\"xaxis\":\"x\",\"y\":[0.141701],\"yaxis\":\"y\",\"type\":\"scatter\"},{\"hovertemplate\":\"Country Name=Mongolia\\u003cbr\\u003eLife Ladder=%{x}\\u003cbr\\u003eEating disorders (%)=%{y}\\u003cextra\\u003e\\u003c\\u002fextra\\u003e\",\"legendgroup\":\"Mongolia\",\"marker\":{\"color\":\"#00cc96\",\"symbol\":\"circle\"},\"mode\":\"markers\",\"name\":\"Mongolia\",\"orientation\":\"v\",\"showlegend\":true,\"x\":[5.333850384],\"xaxis\":\"x\",\"y\":[0.180157],\"yaxis\":\"y\",\"type\":\"scatter\"},{\"hovertemplate\":\"Country Name=Montenegro\\u003cbr\\u003eLife Ladder=%{x}\\u003cbr\\u003eEating disorders (%)=%{y}\\u003cextra\\u003e\\u003c\\u002fextra\\u003e\",\"legendgroup\":\"Montenegro\",\"marker\":{\"color\":\"#ab63fa\",\"symbol\":\"circle\"},\"mode\":\"markers\",\"name\":\"Montenegro\",\"orientation\":\"v\",\"showlegend\":true,\"x\":[5.614798546],\"xaxis\":\"x\",\"y\":[0.194161],\"yaxis\":\"y\",\"type\":\"scatter\"},{\"hovertemplate\":\"Country Name=Mozambique\\u003cbr\\u003eLife Ladder=%{x}\\u003cbr\\u003eEating disorders (%)=%{y}\\u003cextra\\u003e\\u003c\\u002fextra\\u003e\",\"legendgroup\":\"Mozambique\",\"marker\":{\"color\":\"#FFA15A\",\"symbol\":\"circle\"},\"mode\":\"markers\",\"name\":\"Mozambique\",\"orientation\":\"v\",\"showlegend\":true,\"x\":[4.279863358],\"xaxis\":\"x\",\"y\":[0.103227],\"yaxis\":\"y\",\"type\":\"scatter\"},{\"hovertemplate\":\"Country Name=Myanmar\\u003cbr\\u003eLife Ladder=%{x}\\u003cbr\\u003eEating disorders (%)=%{y}\\u003cextra\\u003e\\u003c\\u002fextra\\u003e\",\"legendgroup\":\"Myanmar\",\"marker\":{\"color\":\"#19d3f3\",\"symbol\":\"circle\"},\"mode\":\"markers\",\"name\":\"Myanmar\",\"orientation\":\"v\",\"showlegend\":true,\"x\":[4.154341698],\"xaxis\":\"x\",\"y\":[0.125738],\"yaxis\":\"y\",\"type\":\"scatter\"},{\"hovertemplate\":\"Country Name=Namibia\\u003cbr\\u003eLife Ladder=%{x}\\u003cbr\\u003eEating disorders (%)=%{y}\\u003cextra\\u003e\\u003c\\u002fextra\\u003e\",\"legendgroup\":\"Namibia\",\"marker\":{\"color\":\"#FF6692\",\"symbol\":\"circle\"},\"mode\":\"markers\",\"name\":\"Namibia\",\"orientation\":\"v\",\"showlegend\":true,\"x\":[4.441306114],\"xaxis\":\"x\",\"y\":[0.200987],\"yaxis\":\"y\",\"type\":\"scatter\"},{\"hovertemplate\":\"Country Name=Nepal\\u003cbr\\u003eLife Ladder=%{x}\\u003cbr\\u003eEating disorders (%)=%{y}\\u003cextra\\u003e\\u003c\\u002fextra\\u003e\",\"legendgroup\":\"Nepal\",\"marker\":{\"color\":\"#B6E880\",\"symbol\":\"circle\"},\"mode\":\"markers\",\"name\":\"Nepal\",\"orientation\":\"v\",\"showlegend\":true,\"x\":[4.736692429],\"xaxis\":\"x\",\"y\":[0.128495],\"yaxis\":\"y\",\"type\":\"scatter\"},{\"hovertemplate\":\"Country Name=Netherlands\\u003cbr\\u003eLife Ladder=%{x}\\u003cbr\\u003eEating disorders (%)=%{y}\\u003cextra\\u003e\\u003c\\u002fextra\\u003e\",\"legendgroup\":\"Netherlands\",\"marker\":{\"color\":\"#FF97FF\",\"symbol\":\"circle\"},\"mode\":\"markers\",\"name\":\"Netherlands\",\"orientation\":\"v\",\"showlegend\":true,\"x\":[7.458965302],\"xaxis\":\"x\",\"y\":[0.467844],\"yaxis\":\"y\",\"type\":\"scatter\"},{\"hovertemplate\":\"Country Name=New Zealand\\u003cbr\\u003eLife Ladder=%{x}\\u003cbr\\u003eEating disorders (%)=%{y}\\u003cextra\\u003e\\u003c\\u002fextra\\u003e\",\"legendgroup\":\"New Zealand\",\"marker\":{\"color\":\"#FECB52\",\"symbol\":\"circle\"},\"mode\":\"markers\",\"name\":\"New Zealand\",\"orientation\":\"v\",\"showlegend\":true,\"x\":[7.32718277],\"xaxis\":\"x\",\"y\":[0.67329],\"yaxis\":\"y\",\"type\":\"scatter\"},{\"hovertemplate\":\"Country Name=Nicaragua\\u003cbr\\u003eLife Ladder=%{x}\\u003cbr\\u003eEating disorders (%)=%{y}\\u003cextra\\u003e\\u003c\\u002fextra\\u003e\",\"legendgroup\":\"Nicaragua\",\"marker\":{\"color\":\"#636efa\",\"symbol\":\"circle\"},\"mode\":\"markers\",\"name\":\"Nicaragua\",\"orientation\":\"v\",\"showlegend\":true,\"x\":[6.476356506],\"xaxis\":\"x\",\"y\":[0.205876],\"yaxis\":\"y\",\"type\":\"scatter\"},{\"hovertemplate\":\"Country Name=Niger\\u003cbr\\u003eLife Ladder=%{x}\\u003cbr\\u003eEating disorders (%)=%{y}\\u003cextra\\u003e\\u003c\\u002fextra\\u003e\",\"legendgroup\":\"Niger\",\"marker\":{\"color\":\"#EF553B\",\"symbol\":\"circle\"},\"mode\":\"markers\",\"name\":\"Niger\",\"orientation\":\"v\",\"showlegend\":true,\"x\":[4.615673542],\"xaxis\":\"x\",\"y\":[0.096116],\"yaxis\":\"y\",\"type\":\"scatter\"},{\"hovertemplate\":\"Country Name=Nigeria\\u003cbr\\u003eLife Ladder=%{x}\\u003cbr\\u003eEating disorders (%)=%{y}\\u003cextra\\u003e\\u003c\\u002fextra\\u003e\",\"legendgroup\":\"Nigeria\",\"marker\":{\"color\":\"#00cc96\",\"symbol\":\"circle\"},\"mode\":\"markers\",\"name\":\"Nigeria\",\"orientation\":\"v\",\"showlegend\":true,\"x\":[5.321928024],\"xaxis\":\"x\",\"y\":[0.163373],\"yaxis\":\"y\",\"type\":\"scatter\"},{\"hovertemplate\":\"Country Name=Norway\\u003cbr\\u003eLife Ladder=%{x}\\u003cbr\\u003eEating disorders (%)=%{y}\\u003cextra\\u003e\\u003c\\u002fextra\\u003e\",\"legendgroup\":\"Norway\",\"marker\":{\"color\":\"#ab63fa\",\"symbol\":\"circle\"},\"mode\":\"markers\",\"name\":\"Norway\",\"orientation\":\"v\",\"showlegend\":true,\"x\":[7.578744888],\"xaxis\":\"x\",\"y\":[0.570363],\"yaxis\":\"y\",\"type\":\"scatter\"},{\"hovertemplate\":\"Country Name=Pakistan\\u003cbr\\u003eLife Ladder=%{x}\\u003cbr\\u003eEating disorders (%)=%{y}\\u003cextra\\u003e\\u003c\\u002fextra\\u003e\",\"legendgroup\":\"Pakistan\",\"marker\":{\"color\":\"#FFA15A\",\"symbol\":\"circle\"},\"mode\":\"markers\",\"name\":\"Pakistan\",\"orientation\":\"v\",\"showlegend\":true,\"x\":[5.830870628],\"xaxis\":\"x\",\"y\":[0.154583],\"yaxis\":\"y\",\"type\":\"scatter\"},{\"hovertemplate\":\"Country Name=Panama\\u003cbr\\u003eLife Ladder=%{x}\\u003cbr\\u003eEating disorders (%)=%{y}\\u003cextra\\u003e\\u003c\\u002fextra\\u003e\",\"legendgroup\":\"Panama\",\"marker\":{\"color\":\"#19d3f3\",\"symbol\":\"circle\"},\"mode\":\"markers\",\"name\":\"Panama\",\"orientation\":\"v\",\"showlegend\":true,\"x\":[6.567658901],\"xaxis\":\"x\",\"y\":[0.31665],\"yaxis\":\"y\",\"type\":\"scatter\"},{\"hovertemplate\":\"Country Name=Paraguay\\u003cbr\\u003eLife Ladder=%{x}\\u003cbr\\u003eEating disorders (%)=%{y}\\u003cextra\\u003e\\u003c\\u002fextra\\u003e\",\"legendgroup\":\"Paraguay\",\"marker\":{\"color\":\"#FF6692\",\"symbol\":\"circle\"},\"mode\":\"markers\",\"name\":\"Paraguay\",\"orientation\":\"v\",\"showlegend\":true,\"x\":[5.71329546],\"xaxis\":\"x\",\"y\":[0.238288],\"yaxis\":\"y\",\"type\":\"scatter\"},{\"hovertemplate\":\"Country Name=Peru\\u003cbr\\u003eLife Ladder=%{x}\\u003cbr\\u003eEating disorders (%)=%{y}\\u003cextra\\u003e\\u003c\\u002fextra\\u003e\",\"legendgroup\":\"Peru\",\"marker\":{\"color\":\"#B6E880\",\"symbol\":\"circle\"},\"mode\":\"markers\",\"name\":\"Peru\",\"orientation\":\"v\",\"showlegend\":true,\"x\":[5.710936546],\"xaxis\":\"x\",\"y\":[0.369216],\"yaxis\":\"y\",\"type\":\"scatter\"},{\"hovertemplate\":\"Country Name=Philippines\\u003cbr\\u003eLife Ladder=%{x}\\u003cbr\\u003eEating disorders (%)=%{y}\\u003cextra\\u003e\\u003c\\u002fextra\\u003e\",\"legendgroup\":\"Philippines\",\"marker\":{\"color\":\"#FF97FF\",\"symbol\":\"circle\"},\"mode\":\"markers\",\"name\":\"Philippines\",\"orientation\":\"v\",\"showlegend\":true,\"x\":[5.594270229],\"xaxis\":\"x\",\"y\":[0.134855],\"yaxis\":\"y\",\"type\":\"scatter\"},{\"hovertemplate\":\"Country Name=Poland\\u003cbr\\u003eLife Ladder=%{x}\\u003cbr\\u003eEating disorders (%)=%{y}\\u003cextra\\u003e\\u003c\\u002fextra\\u003e\",\"legendgroup\":\"Poland\",\"marker\":{\"color\":\"#FECB52\",\"symbol\":\"circle\"},\"mode\":\"markers\",\"name\":\"Poland\",\"orientation\":\"v\",\"showlegend\":true,\"x\":[6.201268196],\"xaxis\":\"x\",\"y\":[0.229485],\"yaxis\":\"y\",\"type\":\"scatter\"},{\"hovertemplate\":\"Country Name=Portugal\\u003cbr\\u003eLife Ladder=%{x}\\u003cbr\\u003eEating disorders (%)=%{y}\\u003cextra\\u003e\\u003c\\u002fextra\\u003e\",\"legendgroup\":\"Portugal\",\"marker\":{\"color\":\"#636efa\",\"symbol\":\"circle\"},\"mode\":\"markers\",\"name\":\"Portugal\",\"orientation\":\"v\",\"showlegend\":true,\"x\":[5.711499214],\"xaxis\":\"x\",\"y\":[0.513079],\"yaxis\":\"y\",\"type\":\"scatter\"},{\"hovertemplate\":\"Country Name=Romania\\u003cbr\\u003eLife Ladder=%{x}\\u003cbr\\u003eEating disorders (%)=%{y}\\u003cextra\\u003e\\u003c\\u002fextra\\u003e\",\"legendgroup\":\"Romania\",\"marker\":{\"color\":\"#EF553B\",\"symbol\":\"circle\"},\"mode\":\"markers\",\"name\":\"Romania\",\"orientation\":\"v\",\"showlegend\":true,\"x\":[6.089904785],\"xaxis\":\"x\",\"y\":[0.2007],\"yaxis\":\"y\",\"type\":\"scatter\"},{\"hovertemplate\":\"Country Name=Russia\\u003cbr\\u003eLife Ladder=%{x}\\u003cbr\\u003eEating disorders (%)=%{y}\\u003cextra\\u003e\\u003c\\u002fextra\\u003e\",\"legendgroup\":\"Russia\",\"marker\":{\"color\":\"#00cc96\",\"symbol\":\"circle\"},\"mode\":\"markers\",\"name\":\"Russia\",\"orientation\":\"v\",\"showlegend\":true,\"x\":[5.578742981],\"xaxis\":\"x\",\"y\":[0.232375],\"yaxis\":\"y\",\"type\":\"scatter\"},{\"hovertemplate\":\"Country Name=Rwanda\\u003cbr\\u003eLife Ladder=%{x}\\u003cbr\\u003eEating disorders (%)=%{y}\\u003cextra\\u003e\\u003c\\u002fextra\\u003e\",\"legendgroup\":\"Rwanda\",\"marker\":{\"color\":\"#ab63fa\",\"symbol\":\"circle\"},\"mode\":\"markers\",\"name\":\"Rwanda\",\"orientation\":\"v\",\"showlegend\":true,\"x\":[3.10837388],\"xaxis\":\"x\",\"y\":[0.115817],\"yaxis\":\"y\",\"type\":\"scatter\"},{\"hovertemplate\":\"Country Name=Senegal\\u003cbr\\u003eLife Ladder=%{x}\\u003cbr\\u003eEating disorders (%)=%{y}\\u003cextra\\u003e\\u003c\\u002fextra\\u003e\",\"legendgroup\":\"Senegal\",\"marker\":{\"color\":\"#FFA15A\",\"symbol\":\"circle\"},\"mode\":\"markers\",\"name\":\"Senegal\",\"orientation\":\"v\",\"showlegend\":true,\"x\":[4.683024883],\"xaxis\":\"x\",\"y\":[0.12529],\"yaxis\":\"y\",\"type\":\"scatter\"},{\"hovertemplate\":\"Country Name=Serbia\\u003cbr\\u003eLife Ladder=%{x}\\u003cbr\\u003eEating disorders (%)=%{y}\\u003cextra\\u003e\\u003c\\u002fextra\\u003e\",\"legendgroup\":\"Serbia\",\"marker\":{\"color\":\"#19d3f3\",\"symbol\":\"circle\"},\"mode\":\"markers\",\"name\":\"Serbia\",\"orientation\":\"v\",\"showlegend\":true,\"x\":[5.122031212],\"xaxis\":\"x\",\"y\":[0.187147],\"yaxis\":\"y\",\"type\":\"scatter\"},{\"hovertemplate\":\"Country Name=Sierra Leone\\u003cbr\\u003eLife Ladder=%{x}\\u003cbr\\u003eEating disorders (%)=%{y}\\u003cextra\\u003e\\u003c\\u002fextra\\u003e\",\"legendgroup\":\"Sierra Leone\",\"marker\":{\"color\":\"#FF6692\",\"symbol\":\"circle\"},\"mode\":\"markers\",\"name\":\"Sierra Leone\",\"orientation\":\"v\",\"showlegend\":true,\"x\":[4.089562416],\"xaxis\":\"x\",\"y\":[0.109799],\"yaxis\":\"y\",\"type\":\"scatter\"},{\"hovertemplate\":\"Country Name=Singapore\\u003cbr\\u003eLife Ladder=%{x}\\u003cbr\\u003eEating disorders (%)=%{y}\\u003cextra\\u003e\\u003c\\u002fextra\\u003e\",\"legendgroup\":\"Singapore\",\"marker\":{\"color\":\"#B6E880\",\"symbol\":\"circle\"},\"mode\":\"markers\",\"name\":\"Singapore\",\"orientation\":\"v\",\"showlegend\":true,\"x\":[6.378437996],\"xaxis\":\"x\",\"y\":[0.553712],\"yaxis\":\"y\",\"type\":\"scatter\"},{\"hovertemplate\":\"Country Name=Slovakia\\u003cbr\\u003eLife Ladder=%{x}\\u003cbr\\u003eEating disorders (%)=%{y}\\u003cextra\\u003e\\u003c\\u002fextra\\u003e\",\"legendgroup\":\"Slovakia\",\"marker\":{\"color\":\"#FF97FF\",\"symbol\":\"circle\"},\"mode\":\"markers\",\"name\":\"Slovakia\",\"orientation\":\"v\",\"showlegend\":true,\"x\":[6.365509033],\"xaxis\":\"x\",\"y\":[0.235475],\"yaxis\":\"y\",\"type\":\"scatter\"},{\"hovertemplate\":\"Country Name=Slovenia\\u003cbr\\u003eLife Ladder=%{x}\\u003cbr\\u003eEating disorders (%)=%{y}\\u003cextra\\u003e\\u003c\\u002fextra\\u003e\",\"legendgroup\":\"Slovenia\",\"marker\":{\"color\":\"#FECB52\",\"symbol\":\"circle\"},\"mode\":\"markers\",\"name\":\"Slovenia\",\"orientation\":\"v\",\"showlegend\":true,\"x\":[6.166837692],\"xaxis\":\"x\",\"y\":[0.239636],\"yaxis\":\"y\",\"type\":\"scatter\"},{\"hovertemplate\":\"Country Name=South Africa\\u003cbr\\u003eLife Ladder=%{x}\\u003cbr\\u003eEating disorders (%)=%{y}\\u003cextra\\u003e\\u003c\\u002fextra\\u003e\",\"legendgroup\":\"South Africa\",\"marker\":{\"color\":\"#636efa\",\"symbol\":\"circle\"},\"mode\":\"markers\",\"name\":\"South Africa\",\"orientation\":\"v\",\"showlegend\":true,\"x\":[4.513655186],\"xaxis\":\"x\",\"y\":[0.214718],\"yaxis\":\"y\",\"type\":\"scatter\"},{\"hovertemplate\":\"Country Name=South Korea\\u003cbr\\u003eLife Ladder=%{x}\\u003cbr\\u003eEating disorders (%)=%{y}\\u003cextra\\u003e\\u003c\\u002fextra\\u003e\",\"legendgroup\":\"South Korea\",\"marker\":{\"color\":\"#EF553B\",\"symbol\":\"circle\"},\"mode\":\"markers\",\"name\":\"South Korea\",\"orientation\":\"v\",\"showlegend\":true,\"x\":[5.873887062],\"xaxis\":\"x\",\"y\":[0.417103],\"yaxis\":\"y\",\"type\":\"scatter\"},{\"hovertemplate\":\"Country Name=Spain\\u003cbr\\u003eLife Ladder=%{x}\\u003cbr\\u003eEating disorders (%)=%{y}\\u003cextra\\u003e\\u003c\\u002fextra\\u003e\",\"legendgroup\":\"Spain\",\"marker\":{\"color\":\"#00cc96\",\"symbol\":\"circle\"},\"mode\":\"markers\",\"name\":\"Spain\",\"orientation\":\"v\",\"showlegend\":true,\"x\":[6.230173111],\"xaxis\":\"x\",\"y\":[0.730626],\"yaxis\":\"y\",\"type\":\"scatter\"},{\"hovertemplate\":\"Country Name=Sri Lanka\\u003cbr\\u003eLife Ladder=%{x}\\u003cbr\\u003eEating disorders (%)=%{y}\\u003cextra\\u003e\\u003c\\u002fextra\\u003e\",\"legendgroup\":\"Sri Lanka\",\"marker\":{\"color\":\"#ab63fa\",\"symbol\":\"circle\"},\"mode\":\"markers\",\"name\":\"Sri Lanka\",\"orientation\":\"v\",\"showlegend\":true,\"x\":[4.330945492],\"xaxis\":\"x\",\"y\":[0.159144],\"yaxis\":\"y\",\"type\":\"scatter\"},{\"hovertemplate\":\"Country Name=Sweden\\u003cbr\\u003eLife Ladder=%{x}\\u003cbr\\u003eEating disorders (%)=%{y}\\u003cextra\\u003e\\u003c\\u002fextra\\u003e\",\"legendgroup\":\"Sweden\",\"marker\":{\"color\":\"#FFA15A\",\"symbol\":\"circle\"},\"mode\":\"markers\",\"name\":\"Sweden\",\"orientation\":\"v\",\"showlegend\":true,\"x\":[7.286804676],\"xaxis\":\"x\",\"y\":[0.574608],\"yaxis\":\"y\",\"type\":\"scatter\"},{\"hovertemplate\":\"Country Name=Switzerland\\u003cbr\\u003eLife Ladder=%{x}\\u003cbr\\u003eEating disorders (%)=%{y}\\u003cextra\\u003e\\u003c\\u002fextra\\u003e\",\"legendgroup\":\"Switzerland\",\"marker\":{\"color\":\"#19d3f3\",\"symbol\":\"circle\"},\"mode\":\"markers\",\"name\":\"Switzerland\",\"orientation\":\"v\",\"showlegend\":true,\"x\":[7.473593235],\"xaxis\":\"x\",\"y\":[0.573969],\"yaxis\":\"y\",\"type\":\"scatter\"},{\"hovertemplate\":\"Country Name=Tajikistan\\u003cbr\\u003eLife Ladder=%{x}\\u003cbr\\u003eEating disorders (%)=%{y}\\u003cextra\\u003e\\u003c\\u002fextra\\u003e\",\"legendgroup\":\"Tajikistan\",\"marker\":{\"color\":\"#FF6692\",\"symbol\":\"circle\"},\"mode\":\"markers\",\"name\":\"Tajikistan\",\"orientation\":\"v\",\"showlegend\":true,\"x\":[5.829234123],\"xaxis\":\"x\",\"y\":[0.118226],\"yaxis\":\"y\",\"type\":\"scatter\"},{\"hovertemplate\":\"Country Name=Tanzania\\u003cbr\\u003eLife Ladder=%{x}\\u003cbr\\u003eEating disorders (%)=%{y}\\u003cextra\\u003e\\u003c\\u002fextra\\u003e\",\"legendgroup\":\"Tanzania\",\"marker\":{\"color\":\"#B6E880\",\"symbol\":\"circle\"},\"mode\":\"markers\",\"name\":\"Tanzania\",\"orientation\":\"v\",\"showlegend\":true,\"x\":[3.347121239],\"xaxis\":\"x\",\"y\":[0.129857],\"yaxis\":\"y\",\"type\":\"scatter\"},{\"hovertemplate\":\"Country Name=Thailand\\u003cbr\\u003eLife Ladder=%{x}\\u003cbr\\u003eEating disorders (%)=%{y}\\u003cextra\\u003e\\u003c\\u002fextra\\u003e\",\"legendgroup\":\"Thailand\",\"marker\":{\"color\":\"#FF97FF\",\"symbol\":\"circle\"},\"mode\":\"markers\",\"name\":\"Thailand\",\"orientation\":\"v\",\"showlegend\":true,\"x\":[5.938895226],\"xaxis\":\"x\",\"y\":[0.173202],\"yaxis\":\"y\",\"type\":\"scatter\"},{\"hovertemplate\":\"Country Name=Togo\\u003cbr\\u003eLife Ladder=%{x}\\u003cbr\\u003eEating disorders (%)=%{y}\\u003cextra\\u003e\\u003c\\u002fextra\\u003e\",\"legendgroup\":\"Togo\",\"marker\":{\"color\":\"#FECB52\",\"symbol\":\"circle\"},\"mode\":\"markers\",\"name\":\"Togo\",\"orientation\":\"v\",\"showlegend\":true,\"x\":[4.360805035],\"xaxis\":\"x\",\"y\":[0.108107],\"yaxis\":\"y\",\"type\":\"scatter\"},{\"hovertemplate\":\"Country Name=Tunisia\\u003cbr\\u003eLife Ladder=%{x}\\u003cbr\\u003eEating disorders (%)=%{y}\\u003cextra\\u003e\\u003c\\u002fextra\\u003e\",\"legendgroup\":\"Tunisia\",\"marker\":{\"color\":\"#636efa\",\"symbol\":\"circle\"},\"mode\":\"markers\",\"name\":\"Tunisia\",\"orientation\":\"v\",\"showlegend\":true,\"x\":[4.124342918],\"xaxis\":\"x\",\"y\":[0.200172],\"yaxis\":\"y\",\"type\":\"scatter\"},{\"hovertemplate\":\"Country Name=Uganda\\u003cbr\\u003eLife Ladder=%{x}\\u003cbr\\u003eEating disorders (%)=%{y}\\u003cextra\\u003e\\u003c\\u002fextra\\u003e\",\"legendgroup\":\"Uganda\",\"marker\":{\"color\":\"#EF553B\",\"symbol\":\"circle\"},\"mode\":\"markers\",\"name\":\"Uganda\",\"orientation\":\"v\",\"showlegend\":true,\"x\":[4.000516891],\"xaxis\":\"x\",\"y\":[0.119309],\"yaxis\":\"y\",\"type\":\"scatter\"},{\"hovertemplate\":\"Country Name=Ukraine\\u003cbr\\u003eLife Ladder=%{x}\\u003cbr\\u003eEating disorders (%)=%{y}\\u003cextra\\u003e\\u003c\\u002fextra\\u003e\",\"legendgroup\":\"Ukraine\",\"marker\":{\"color\":\"#00cc96\",\"symbol\":\"circle\"},\"mode\":\"markers\",\"name\":\"Ukraine\",\"orientation\":\"v\",\"showlegend\":true,\"x\":[4.311067104],\"xaxis\":\"x\",\"y\":[0.172715],\"yaxis\":\"y\",\"type\":\"scatter\"},{\"hovertemplate\":\"Country Name=United Kingdom\\u003cbr\\u003eLife Ladder=%{x}\\u003cbr\\u003eEating disorders (%)=%{y}\\u003cextra\\u003e\\u003c\\u002fextra\\u003e\",\"legendgroup\":\"United Kingdom\",\"marker\":{\"color\":\"#ab63fa\",\"symbol\":\"circle\"},\"mode\":\"markers\",\"name\":\"United Kingdom\",\"orientation\":\"v\",\"showlegend\":true,\"x\":[7.103273392],\"xaxis\":\"x\",\"y\":[0.543054],\"yaxis\":\"y\",\"type\":\"scatter\"},{\"hovertemplate\":\"Country Name=United States\\u003cbr\\u003eLife Ladder=%{x}\\u003cbr\\u003eEating disorders (%)=%{y}\\u003cextra\\u003e\\u003c\\u002fextra\\u003e\",\"legendgroup\":\"United States\",\"marker\":{\"color\":\"#FFA15A\",\"symbol\":\"circle\"},\"mode\":\"markers\",\"name\":\"United States\",\"orientation\":\"v\",\"showlegend\":true,\"x\":[6.9917593],\"xaxis\":\"x\",\"y\":[0.512844],\"yaxis\":\"y\",\"type\":\"scatter\"},{\"hovertemplate\":\"Country Name=Uruguay\\u003cbr\\u003eLife Ladder=%{x}\\u003cbr\\u003eEating disorders (%)=%{y}\\u003cextra\\u003e\\u003c\\u002fextra\\u003e\",\"legendgroup\":\"Uruguay\",\"marker\":{\"color\":\"#19d3f3\",\"symbol\":\"circle\"},\"mode\":\"markers\",\"name\":\"Uruguay\",\"orientation\":\"v\",\"showlegend\":true,\"x\":[6.336009979],\"xaxis\":\"x\",\"y\":[0.405502],\"yaxis\":\"y\",\"type\":\"scatter\"},{\"hovertemplate\":\"Country Name=Uzbekistan\\u003cbr\\u003eLife Ladder=%{x}\\u003cbr\\u003eEating disorders (%)=%{y}\\u003cextra\\u003e\\u003c\\u002fextra\\u003e\",\"legendgroup\":\"Uzbekistan\",\"marker\":{\"color\":\"#FF6692\",\"symbol\":\"circle\"},\"mode\":\"markers\",\"name\":\"Uzbekistan\",\"orientation\":\"v\",\"showlegend\":true,\"x\":[6.421447754],\"xaxis\":\"x\",\"y\":[0.153735],\"yaxis\":\"y\",\"type\":\"scatter\"},{\"hovertemplate\":\"Country Name=Venezuela\\u003cbr\\u003eLife Ladder=%{x}\\u003cbr\\u003eEating disorders (%)=%{y}\\u003cextra\\u003e\\u003c\\u002fextra\\u003e\",\"legendgroup\":\"Venezuela\",\"marker\":{\"color\":\"#B6E880\",\"symbol\":\"circle\"},\"mode\":\"markers\",\"name\":\"Venezuela\",\"orientation\":\"v\",\"showlegend\":true,\"x\":[5.070750713],\"xaxis\":\"x\",\"y\":[0.28269],\"yaxis\":\"y\",\"type\":\"scatter\"},{\"hovertemplate\":\"Country Name=Zambia\\u003cbr\\u003eLife Ladder=%{x}\\u003cbr\\u003eEating disorders (%)=%{y}\\u003cextra\\u003e\\u003c\\u002fextra\\u003e\",\"legendgroup\":\"Zambia\",\"marker\":{\"color\":\"#FF97FF\",\"symbol\":\"circle\"},\"mode\":\"markers\",\"name\":\"Zambia\",\"orientation\":\"v\",\"showlegend\":true,\"x\":[3.932777405],\"xaxis\":\"x\",\"y\":[0.142768],\"yaxis\":\"y\",\"type\":\"scatter\"},{\"hovertemplate\":\"Country Name=Zimbabwe\\u003cbr\\u003eLife Ladder=%{x}\\u003cbr\\u003eEating disorders (%)=%{y}\\u003cextra\\u003e\\u003c\\u002fextra\\u003e\",\"legendgroup\":\"Zimbabwe\",\"marker\":{\"color\":\"#FECB52\",\"symbol\":\"circle\"},\"mode\":\"markers\",\"name\":\"Zimbabwe\",\"orientation\":\"v\",\"showlegend\":true,\"x\":[3.63830018],\"xaxis\":\"x\",\"y\":[0.124443],\"yaxis\":\"y\",\"type\":\"scatter\"},{\"hovertemplate\":\"\\u003cb\\u003eOLS trendline\\u003c\\u002fb\\u003e\\u003cbr\\u003eEating disorders (%) = 0.119193 * Life Ladder + -0.378174\\u003cbr\\u003eR\\u003csup\\u003e2\\u003c\\u002fsup\\u003e=0.571296\\u003cbr\\u003e\\u003cbr\\u003eLife Ladder=%{x}\\u003cbr\\u003eEating disorders (%)=%{y} \\u003cb\\u003e(trend)\\u003c\\u002fb\\u003e\\u003cextra\\u003e\\u003c\\u002fextra\\u003e\",\"legendgroup\":\"Overall Trendline\",\"line\":{\"color\":\"#636efa\"},\"mode\":\"lines\",\"name\":\"Overall Trendline\",\"showlegend\":true,\"x\":[2.66171813,3.10837388,3.347121239,3.416862965,3.504881144,3.63830018,3.795300722,3.823865652,3.932777405,4.000516891,4.046111107,4.078620434,4.089562416,4.117938995,4.124342918,4.154341698,4.180315495,4.279863358,4.287736416,4.309771061,4.311067104,4.330945492,4.360805035,4.424490929,4.441306114,4.45077467,4.462399006,4.475654125,4.513655186,4.558937073,4.585842133,4.615673542,4.623140812,4.639548302,4.646891117,4.678159714,4.683024883,4.736692429,4.741850376,4.782382965,4.853180885,4.873722553,5.070750713,5.07405138,5.089902401,5.096901894,5.098401546,5.122031212,5.14824152,5.152279377,5.153989792,5.321928024,5.325530529,5.333850384,5.343165874,5.481310844,5.552915096,5.578742981,5.594270229,5.605202675,5.614798546,5.629536629,5.65055275,5.710936546,5.711499214,5.71329546,5.829234123,5.830870628,5.839518547,5.873887062,5.882351398,5.889759064,5.910676479,5.938395977,5.938895226,5.977817535,6.019985676,6.039330006,6.062051296,6.065038681,6.089904785,6.157341957,6.166837692,6.174117565,6.198870182,6.201268196,6.230173111,6.272940636,6.320119381,6.325118542,6.332929134,6.336009979,6.339318275,6.365509033,6.378437996,6.410299301,6.421447754,6.476356506,6.567658901,6.635222435,6.675665855,6.928347588,6.9917593,7.060155392,7.061380863,7.074324608,7.103273392,7.22518158,7.25703764,7.286804676,7.293727875,7.32718277,7.331036091,7.414868355,7.458965302,7.473593235,7.476213932,7.578744888,7.593702316,7.788251877],\"y\":[-0.06091427197014147,-0.007675851699439099,0.020781259256733,0.02909401313752863,0.039585199705850914,0.05548786906738934,0.07420129845394502,0.07760604976038894,0.09058761258283764,0.09866171265787166,0.10409624256892992,0.10797113998946849,0.10927535209534742,0.11265765320452785,0.11342095860036167,0.11699661537237976,0.12009252071046608,0.13195796958791653,0.13289638618866473,0.13552277058207224,0.13567725036190917,0.13804662313870217,0.14160568377841215,0.14919662241535434,0.15120088159249376,0.15232947103455224,0.1537150152379703,0.15529493802203875,0.15982441392434293,0.16522171627801563,0.16842862202520115,0.17198432927761914,0.17287437862442553,0.17483004324579746,0.17570525837722706,0.17943226896280945,0.18001216502797812,0.1864089826416442,0.18702377591391273,0.1918549932615941,0.20029363850292725,0.2027420698822283,0.22622652740290985,0.226619945145589,0.22850928233136955,0.2293435757441732,0.22952232437426645,0.2323388247537294,0.23546292064352503,0.2359442065733692,0.2361480767633473,0.2561652066776823,0.2565946015197218,0.2575862733768093,0.25869661836094426,0.27516258789373005,0.2836973425927243,0.28677585618251544,0.2886266017615691,0.289929677239126,0.2910734417897031,0.29283012410430115,0.29533510715278516,0.30253245748128393,0.30259952379680066,0.302813624476032,0.3166327486369038,0.31682780924222487,0.3178585841649455,0.32195508453609245,0.32296397757571066,0.32384692251872993,0.32634014046285514,0.32964412184945296,0.3297036290383377,0.33434291162777746,0.33936907598946375,0.34167479257409333,0.3443830205239462,0.3447390971179235,0.34770297275424294,0.3557410389938551,0.35687286799350243,0.35774058085355487,0.36069092958777743,0.36097675704471044,0.36442203232138365,0.36951963930369114,0.37514303462358634,0.37573890165164747,0.37666987271707975,0.3770370891268067,0.37743141619598225,0.38055318185468534,0.3820942289941397,0.3858918864651631,0.38722070855282714,0.3937654697375108,0.4046481131977857,0.4127012409546004,0.4175218299454385,0.44763982640285216,0.4551980843532776,0.46335044753402616,0.46349651559679605,0.46503932465318193,0.4684898288253946,0.4830204810048052,0.4868175133064127,0.49036554772168917,0.49119074739275514,0.4951783502840696,0.495637640739495,0.5056298938406283,0.5108859591594804,0.5126295123203782,0.5129418821225987,0.5251628960159269,0.5269457228082222,0.550134747671327],\"type\":\"scatter\",\"xaxis\":\"x\",\"yaxis\":\"y\"}],                        {\"template\":{\"data\":{\"histogram2dcontour\":[{\"type\":\"histogram2dcontour\",\"colorbar\":{\"outlinewidth\":0,\"ticks\":\"\"},\"colorscale\":[[0.0,\"#0d0887\"],[0.1111111111111111,\"#46039f\"],[0.2222222222222222,\"#7201a8\"],[0.3333333333333333,\"#9c179e\"],[0.4444444444444444,\"#bd3786\"],[0.5555555555555556,\"#d8576b\"],[0.6666666666666666,\"#ed7953\"],[0.7777777777777778,\"#fb9f3a\"],[0.8888888888888888,\"#fdca26\"],[1.0,\"#f0f921\"]]}],\"choropleth\":[{\"type\":\"choropleth\",\"colorbar\":{\"outlinewidth\":0,\"ticks\":\"\"}}],\"histogram2d\":[{\"type\":\"histogram2d\",\"colorbar\":{\"outlinewidth\":0,\"ticks\":\"\"},\"colorscale\":[[0.0,\"#0d0887\"],[0.1111111111111111,\"#46039f\"],[0.2222222222222222,\"#7201a8\"],[0.3333333333333333,\"#9c179e\"],[0.4444444444444444,\"#bd3786\"],[0.5555555555555556,\"#d8576b\"],[0.6666666666666666,\"#ed7953\"],[0.7777777777777778,\"#fb9f3a\"],[0.8888888888888888,\"#fdca26\"],[1.0,\"#f0f921\"]]}],\"heatmap\":[{\"type\":\"heatmap\",\"colorbar\":{\"outlinewidth\":0,\"ticks\":\"\"},\"colorscale\":[[0.0,\"#0d0887\"],[0.1111111111111111,\"#46039f\"],[0.2222222222222222,\"#7201a8\"],[0.3333333333333333,\"#9c179e\"],[0.4444444444444444,\"#bd3786\"],[0.5555555555555556,\"#d8576b\"],[0.6666666666666666,\"#ed7953\"],[0.7777777777777778,\"#fb9f3a\"],[0.8888888888888888,\"#fdca26\"],[1.0,\"#f0f921\"]]}],\"heatmapgl\":[{\"type\":\"heatmapgl\",\"colorbar\":{\"outlinewidth\":0,\"ticks\":\"\"},\"colorscale\":[[0.0,\"#0d0887\"],[0.1111111111111111,\"#46039f\"],[0.2222222222222222,\"#7201a8\"],[0.3333333333333333,\"#9c179e\"],[0.4444444444444444,\"#bd3786\"],[0.5555555555555556,\"#d8576b\"],[0.6666666666666666,\"#ed7953\"],[0.7777777777777778,\"#fb9f3a\"],[0.8888888888888888,\"#fdca26\"],[1.0,\"#f0f921\"]]}],\"contourcarpet\":[{\"type\":\"contourcarpet\",\"colorbar\":{\"outlinewidth\":0,\"ticks\":\"\"}}],\"contour\":[{\"type\":\"contour\",\"colorbar\":{\"outlinewidth\":0,\"ticks\":\"\"},\"colorscale\":[[0.0,\"#0d0887\"],[0.1111111111111111,\"#46039f\"],[0.2222222222222222,\"#7201a8\"],[0.3333333333333333,\"#9c179e\"],[0.4444444444444444,\"#bd3786\"],[0.5555555555555556,\"#d8576b\"],[0.6666666666666666,\"#ed7953\"],[0.7777777777777778,\"#fb9f3a\"],[0.8888888888888888,\"#fdca26\"],[1.0,\"#f0f921\"]]}],\"surface\":[{\"type\":\"surface\",\"colorbar\":{\"outlinewidth\":0,\"ticks\":\"\"},\"colorscale\":[[0.0,\"#0d0887\"],[0.1111111111111111,\"#46039f\"],[0.2222222222222222,\"#7201a8\"],[0.3333333333333333,\"#9c179e\"],[0.4444444444444444,\"#bd3786\"],[0.5555555555555556,\"#d8576b\"],[0.6666666666666666,\"#ed7953\"],[0.7777777777777778,\"#fb9f3a\"],[0.8888888888888888,\"#fdca26\"],[1.0,\"#f0f921\"]]}],\"mesh3d\":[{\"type\":\"mesh3d\",\"colorbar\":{\"outlinewidth\":0,\"ticks\":\"\"}}],\"scatter\":[{\"fillpattern\":{\"fillmode\":\"overlay\",\"size\":10,\"solidity\":0.2},\"type\":\"scatter\"}],\"parcoords\":[{\"type\":\"parcoords\",\"line\":{\"colorbar\":{\"outlinewidth\":0,\"ticks\":\"\"}}}],\"scatterpolargl\":[{\"type\":\"scatterpolargl\",\"marker\":{\"colorbar\":{\"outlinewidth\":0,\"ticks\":\"\"}}}],\"bar\":[{\"error_x\":{\"color\":\"#2a3f5f\"},\"error_y\":{\"color\":\"#2a3f5f\"},\"marker\":{\"line\":{\"color\":\"#E5ECF6\",\"width\":0.5},\"pattern\":{\"fillmode\":\"overlay\",\"size\":10,\"solidity\":0.2}},\"type\":\"bar\"}],\"scattergeo\":[{\"type\":\"scattergeo\",\"marker\":{\"colorbar\":{\"outlinewidth\":0,\"ticks\":\"\"}}}],\"scatterpolar\":[{\"type\":\"scatterpolar\",\"marker\":{\"colorbar\":{\"outlinewidth\":0,\"ticks\":\"\"}}}],\"histogram\":[{\"marker\":{\"pattern\":{\"fillmode\":\"overlay\",\"size\":10,\"solidity\":0.2}},\"type\":\"histogram\"}],\"scattergl\":[{\"type\":\"scattergl\",\"marker\":{\"colorbar\":{\"outlinewidth\":0,\"ticks\":\"\"}}}],\"scatter3d\":[{\"type\":\"scatter3d\",\"line\":{\"colorbar\":{\"outlinewidth\":0,\"ticks\":\"\"}},\"marker\":{\"colorbar\":{\"outlinewidth\":0,\"ticks\":\"\"}}}],\"scattermapbox\":[{\"type\":\"scattermapbox\",\"marker\":{\"colorbar\":{\"outlinewidth\":0,\"ticks\":\"\"}}}],\"scatterternary\":[{\"type\":\"scatterternary\",\"marker\":{\"colorbar\":{\"outlinewidth\":0,\"ticks\":\"\"}}}],\"scattercarpet\":[{\"type\":\"scattercarpet\",\"marker\":{\"colorbar\":{\"outlinewidth\":0,\"ticks\":\"\"}}}],\"carpet\":[{\"aaxis\":{\"endlinecolor\":\"#2a3f5f\",\"gridcolor\":\"white\",\"linecolor\":\"white\",\"minorgridcolor\":\"white\",\"startlinecolor\":\"#2a3f5f\"},\"baxis\":{\"endlinecolor\":\"#2a3f5f\",\"gridcolor\":\"white\",\"linecolor\":\"white\",\"minorgridcolor\":\"white\",\"startlinecolor\":\"#2a3f5f\"},\"type\":\"carpet\"}],\"table\":[{\"cells\":{\"fill\":{\"color\":\"#EBF0F8\"},\"line\":{\"color\":\"white\"}},\"header\":{\"fill\":{\"color\":\"#C8D4E3\"},\"line\":{\"color\":\"white\"}},\"type\":\"table\"}],\"barpolar\":[{\"marker\":{\"line\":{\"color\":\"#E5ECF6\",\"width\":0.5},\"pattern\":{\"fillmode\":\"overlay\",\"size\":10,\"solidity\":0.2}},\"type\":\"barpolar\"}],\"pie\":[{\"automargin\":true,\"type\":\"pie\"}]},\"layout\":{\"autotypenumbers\":\"strict\",\"colorway\":[\"#636efa\",\"#EF553B\",\"#00cc96\",\"#ab63fa\",\"#FFA15A\",\"#19d3f3\",\"#FF6692\",\"#B6E880\",\"#FF97FF\",\"#FECB52\"],\"font\":{\"color\":\"#2a3f5f\"},\"hovermode\":\"closest\",\"hoverlabel\":{\"align\":\"left\"},\"paper_bgcolor\":\"white\",\"plot_bgcolor\":\"#E5ECF6\",\"polar\":{\"bgcolor\":\"#E5ECF6\",\"angularaxis\":{\"gridcolor\":\"white\",\"linecolor\":\"white\",\"ticks\":\"\"},\"radialaxis\":{\"gridcolor\":\"white\",\"linecolor\":\"white\",\"ticks\":\"\"}},\"ternary\":{\"bgcolor\":\"#E5ECF6\",\"aaxis\":{\"gridcolor\":\"white\",\"linecolor\":\"white\",\"ticks\":\"\"},\"baxis\":{\"gridcolor\":\"white\",\"linecolor\":\"white\",\"ticks\":\"\"},\"caxis\":{\"gridcolor\":\"white\",\"linecolor\":\"white\",\"ticks\":\"\"}},\"coloraxis\":{\"colorbar\":{\"outlinewidth\":0,\"ticks\":\"\"}},\"colorscale\":{\"sequential\":[[0.0,\"#0d0887\"],[0.1111111111111111,\"#46039f\"],[0.2222222222222222,\"#7201a8\"],[0.3333333333333333,\"#9c179e\"],[0.4444444444444444,\"#bd3786\"],[0.5555555555555556,\"#d8576b\"],[0.6666666666666666,\"#ed7953\"],[0.7777777777777778,\"#fb9f3a\"],[0.8888888888888888,\"#fdca26\"],[1.0,\"#f0f921\"]],\"sequentialminus\":[[0.0,\"#0d0887\"],[0.1111111111111111,\"#46039f\"],[0.2222222222222222,\"#7201a8\"],[0.3333333333333333,\"#9c179e\"],[0.4444444444444444,\"#bd3786\"],[0.5555555555555556,\"#d8576b\"],[0.6666666666666666,\"#ed7953\"],[0.7777777777777778,\"#fb9f3a\"],[0.8888888888888888,\"#fdca26\"],[1.0,\"#f0f921\"]],\"diverging\":[[0,\"#8e0152\"],[0.1,\"#c51b7d\"],[0.2,\"#de77ae\"],[0.3,\"#f1b6da\"],[0.4,\"#fde0ef\"],[0.5,\"#f7f7f7\"],[0.6,\"#e6f5d0\"],[0.7,\"#b8e186\"],[0.8,\"#7fbc41\"],[0.9,\"#4d9221\"],[1,\"#276419\"]]},\"xaxis\":{\"gridcolor\":\"white\",\"linecolor\":\"white\",\"ticks\":\"\",\"title\":{\"standoff\":15},\"zerolinecolor\":\"white\",\"automargin\":true,\"zerolinewidth\":2},\"yaxis\":{\"gridcolor\":\"white\",\"linecolor\":\"white\",\"ticks\":\"\",\"title\":{\"standoff\":15},\"zerolinecolor\":\"white\",\"automargin\":true,\"zerolinewidth\":2},\"scene\":{\"xaxis\":{\"backgroundcolor\":\"#E5ECF6\",\"gridcolor\":\"white\",\"linecolor\":\"white\",\"showbackground\":true,\"ticks\":\"\",\"zerolinecolor\":\"white\",\"gridwidth\":2},\"yaxis\":{\"backgroundcolor\":\"#E5ECF6\",\"gridcolor\":\"white\",\"linecolor\":\"white\",\"showbackground\":true,\"ticks\":\"\",\"zerolinecolor\":\"white\",\"gridwidth\":2},\"zaxis\":{\"backgroundcolor\":\"#E5ECF6\",\"gridcolor\":\"white\",\"linecolor\":\"white\",\"showbackground\":true,\"ticks\":\"\",\"zerolinecolor\":\"white\",\"gridwidth\":2}},\"shapedefaults\":{\"line\":{\"color\":\"#2a3f5f\"}},\"annotationdefaults\":{\"arrowcolor\":\"#2a3f5f\",\"arrowhead\":0,\"arrowwidth\":1},\"geo\":{\"bgcolor\":\"white\",\"landcolor\":\"#E5ECF6\",\"subunitcolor\":\"white\",\"showland\":true,\"showlakes\":true,\"lakecolor\":\"white\"},\"title\":{\"x\":0.05},\"mapbox\":{\"style\":\"light\"}}},\"xaxis\":{\"anchor\":\"y\",\"domain\":[0.0,1.0],\"title\":{\"text\":\"Life Ladder\"}},\"yaxis\":{\"anchor\":\"x\",\"domain\":[0.0,1.0],\"title\":{\"text\":\"Eating disorders (%)\"}},\"legend\":{\"title\":{\"text\":\"Country Name\"},\"tracegroupgap\":0},\"title\":{\"text\":\"Relationship between Eating disorders and Life ladder\"},\"height\":300},                        {\"responsive\": true}                    ).then(function(){\n",
       "                            \n",
       "var gd = document.getElementById('023205ab-598f-4cf2-a3b1-fb519cca2ff3');\n",
       "var x = new MutationObserver(function (mutations, observer) {{\n",
       "        var display = window.getComputedStyle(gd).display;\n",
       "        if (!display || display === 'none') {{\n",
       "            console.log([gd, 'removed!']);\n",
       "            Plotly.purge(gd);\n",
       "            observer.disconnect();\n",
       "        }}\n",
       "}});\n",
       "\n",
       "// Listen for the removal of the full notebook cells\n",
       "var notebookContainer = gd.closest('#notebook-container');\n",
       "if (notebookContainer) {{\n",
       "    x.observe(notebookContainer, {childList: true});\n",
       "}}\n",
       "\n",
       "// Listen for the clearing of the current output cell\n",
       "var outputEl = gd.closest('.output');\n",
       "if (outputEl) {{\n",
       "    x.observe(outputEl, {childList: true});\n",
       "}}\n",
       "\n",
       "                        })                };                });            </script>        </div>"
      ]
     },
     "metadata": {},
     "output_type": "display_data"
    },
    {
     "data": {
      "application/vnd.plotly.v1+json": {
       "config": {
        "plotlyServerURL": "https://plot.ly"
       },
       "data": [
        {
         "hovertemplate": "Country Name=Afghanistan<br>Log GDP Per Capita=%{x}<br>Eating disorders (%)=%{y}<extra></extra>",
         "legendgroup": "Afghanistan",
         "marker": {
          "color": "#636efa",
          "symbol": "circle"
         },
         "mode": "markers",
         "name": "Afghanistan",
         "orientation": "v",
         "showlegend": true,
         "type": "scatter",
         "x": [
          7.647830486
         ],
         "xaxis": "x",
         "y": [
          0.107142
         ],
         "yaxis": "y"
        },
        {
         "hovertemplate": "Country Name=Albania<br>Log GDP Per Capita=%{x}<br>Eating disorders (%)=%{y}<extra></extra>",
         "legendgroup": "Albania",
         "marker": {
          "color": "#EF553B",
          "symbol": "circle"
         },
         "mode": "markers",
         "name": "Albania",
         "orientation": "v",
         "showlegend": true,
         "type": "scatter",
         "x": [
          9.455109596
         ],
         "xaxis": "x",
         "y": [
          0.174046
         ],
         "yaxis": "y"
        },
        {
         "hovertemplate": "Country Name=Argentina<br>Log GDP Per Capita=%{x}<br>Eating disorders (%)=%{y}<extra></extra>",
         "legendgroup": "Argentina",
         "marker": {
          "color": "#00cc96",
          "symbol": "circle"
         },
         "mode": "markers",
         "name": "Argentina",
         "orientation": "v",
         "showlegend": true,
         "type": "scatter",
         "x": [
          10.06888008
         ],
         "xaxis": "x",
         "y": [
          0.404033
         ],
         "yaxis": "y"
        },
        {
         "hovertemplate": "Country Name=Armenia<br>Log GDP Per Capita=%{x}<br>Eating disorders (%)=%{y}<extra></extra>",
         "legendgroup": "Armenia",
         "marker": {
          "color": "#ab63fa",
          "symbol": "circle"
         },
         "mode": "markers",
         "name": "Armenia",
         "orientation": "v",
         "showlegend": true,
         "type": "scatter",
         "x": [
          9.434254646
         ],
         "xaxis": "x",
         "y": [
          0.167047
         ],
         "yaxis": "y"
        },
        {
         "hovertemplate": "Country Name=Australia<br>Log GDP Per Capita=%{x}<br>Eating disorders (%)=%{y}<extra></extra>",
         "legendgroup": "Australia",
         "marker": {
          "color": "#FFA15A",
          "symbol": "circle"
         },
         "mode": "markers",
         "name": "Australia",
         "orientation": "v",
         "showlegend": true,
         "type": "scatter",
         "x": [
          10.78726006
         ],
         "xaxis": "x",
         "y": [
          0.943081
         ],
         "yaxis": "y"
        },
        {
         "hovertemplate": "Country Name=Austria<br>Log GDP Per Capita=%{x}<br>Eating disorders (%)=%{y}<extra></extra>",
         "legendgroup": "Austria",
         "marker": {
          "color": "#19d3f3",
          "symbol": "circle"
         },
         "mode": "markers",
         "name": "Austria",
         "orientation": "v",
         "showlegend": true,
         "type": "scatter",
         "x": [
          10.89993763
         ],
         "xaxis": "x",
         "y": [
          0.675112
         ],
         "yaxis": "y"
        },
        {
         "hovertemplate": "Country Name=Azerbaijan<br>Log GDP Per Capita=%{x}<br>Eating disorders (%)=%{y}<extra></extra>",
         "legendgroup": "Azerbaijan",
         "marker": {
          "color": "#FF6692",
          "symbol": "circle"
         },
         "mode": "markers",
         "name": "Azerbaijan",
         "orientation": "v",
         "showlegend": true,
         "type": "scatter",
         "x": [
          9.555447578
         ],
         "xaxis": "x",
         "y": [
          0.204891
         ],
         "yaxis": "y"
        },
        {
         "hovertemplate": "Country Name=Bangladesh<br>Log GDP Per Capita=%{x}<br>Eating disorders (%)=%{y}<extra></extra>",
         "legendgroup": "Bangladesh",
         "marker": {
          "color": "#B6E880",
          "symbol": "circle"
         },
         "mode": "markers",
         "name": "Bangladesh",
         "orientation": "v",
         "showlegend": true,
         "type": "scatter",
         "x": [
          8.482762337
         ],
         "xaxis": "x",
         "y": [
          0.137974
         ],
         "yaxis": "y"
        },
        {
         "hovertemplate": "Country Name=Belarus<br>Log GDP Per Capita=%{x}<br>Eating disorders (%)=%{y}<extra></extra>",
         "legendgroup": "Belarus",
         "marker": {
          "color": "#FF97FF",
          "symbol": "circle"
         },
         "mode": "markers",
         "name": "Belarus",
         "orientation": "v",
         "showlegend": true,
         "type": "scatter",
         "x": [
          9.817717552
         ],
         "xaxis": "x",
         "y": [
          0.210693
         ],
         "yaxis": "y"
        },
        {
         "hovertemplate": "Country Name=Belgium<br>Log GDP Per Capita=%{x}<br>Eating disorders (%)=%{y}<extra></extra>",
         "legendgroup": "Belgium",
         "marker": {
          "color": "#FECB52",
          "symbol": "circle"
         },
         "mode": "markers",
         "name": "Belgium",
         "orientation": "v",
         "showlegend": true,
         "type": "scatter",
         "x": [
          10.82858467
         ],
         "xaxis": "x",
         "y": [
          0.603869
         ],
         "yaxis": "y"
        },
        {
         "hovertemplate": "Country Name=Benin<br>Log GDP Per Capita=%{x}<br>Eating disorders (%)=%{y}<extra></extra>",
         "legendgroup": "Benin",
         "marker": {
          "color": "#636efa",
          "symbol": "circle"
         },
         "mode": "markers",
         "name": "Benin",
         "orientation": "v",
         "showlegend": true,
         "type": "scatter",
         "x": [
          7.984066486
         ],
         "xaxis": "x",
         "y": [
          0.12029
         ],
         "yaxis": "y"
        },
        {
         "hovertemplate": "Country Name=Bolivia<br>Log GDP Per Capita=%{x}<br>Eating disorders (%)=%{y}<extra></extra>",
         "legendgroup": "Bolivia",
         "marker": {
          "color": "#EF553B",
          "symbol": "circle"
         },
         "mode": "markers",
         "name": "Bolivia",
         "orientation": "v",
         "showlegend": true,
         "type": "scatter",
         "x": [
          9.017354012
         ],
         "xaxis": "x",
         "y": [
          0.305251
         ],
         "yaxis": "y"
        },
        {
         "hovertemplate": "Country Name=Bosnia and Herzegovina<br>Log GDP Per Capita=%{x}<br>Eating disorders (%)=%{y}<extra></extra>",
         "legendgroup": "Bosnia and Herzegovina",
         "marker": {
          "color": "#00cc96",
          "symbol": "circle"
         },
         "mode": "markers",
         "name": "Bosnia and Herzegovina",
         "orientation": "v",
         "showlegend": true,
         "type": "scatter",
         "x": [
          9.503191948
         ],
         "xaxis": "x",
         "y": [
          0.172474
         ],
         "yaxis": "y"
        },
        {
         "hovertemplate": "Country Name=Botswana<br>Log GDP Per Capita=%{x}<br>Eating disorders (%)=%{y}<extra></extra>",
         "legendgroup": "Botswana",
         "marker": {
          "color": "#ab63fa",
          "symbol": "circle"
         },
         "mode": "markers",
         "name": "Botswana",
         "orientation": "v",
         "showlegend": true,
         "type": "scatter",
         "x": [
          9.592658043
         ],
         "xaxis": "x",
         "y": [
          0.227733
         ],
         "yaxis": "y"
        },
        {
         "hovertemplate": "Country Name=Brazil<br>Log GDP Per Capita=%{x}<br>Eating disorders (%)=%{y}<extra></extra>",
         "legendgroup": "Brazil",
         "marker": {
          "color": "#FFA15A",
          "symbol": "circle"
         },
         "mode": "markers",
         "name": "Brazil",
         "orientation": "v",
         "showlegend": true,
         "type": "scatter",
         "x": [
          9.580375671
         ],
         "xaxis": "x",
         "y": [
          0.277051
         ],
         "yaxis": "y"
        },
        {
         "hovertemplate": "Country Name=Bulgaria<br>Log GDP Per Capita=%{x}<br>Eating disorders (%)=%{y}<extra></extra>",
         "legendgroup": "Bulgaria",
         "marker": {
          "color": "#19d3f3",
          "symbol": "circle"
         },
         "mode": "markers",
         "name": "Bulgaria",
         "orientation": "v",
         "showlegend": true,
         "type": "scatter",
         "x": [
          9.974589348
         ],
         "xaxis": "x",
         "y": [
          0.202411
         ],
         "yaxis": "y"
        },
        {
         "hovertemplate": "Country Name=Burkina Faso<br>Log GDP Per Capita=%{x}<br>Eating disorders (%)=%{y}<extra></extra>",
         "legendgroup": "Burkina Faso",
         "marker": {
          "color": "#FF6692",
          "symbol": "circle"
         },
         "mode": "markers",
         "name": "Burkina Faso",
         "orientation": "v",
         "showlegend": true,
         "type": "scatter",
         "x": [
          7.589920044
         ],
         "xaxis": "x",
         "y": [
          0.113354
         ],
         "yaxis": "y"
        },
        {
         "hovertemplate": "Country Name=Cambodia<br>Log GDP Per Capita=%{x}<br>Eating disorders (%)=%{y}<extra></extra>",
         "legendgroup": "Cambodia",
         "marker": {
          "color": "#B6E880",
          "symbol": "circle"
         },
         "mode": "markers",
         "name": "Cambodia",
         "orientation": "v",
         "showlegend": true,
         "type": "scatter",
         "x": [
          8.287207603
         ],
         "xaxis": "x",
         "y": [
          0.108379
         ],
         "yaxis": "y"
        },
        {
         "hovertemplate": "Country Name=Cameroon<br>Log GDP Per Capita=%{x}<br>Eating disorders (%)=%{y}<extra></extra>",
         "legendgroup": "Cameroon",
         "marker": {
          "color": "#FF97FF",
          "symbol": "circle"
         },
         "mode": "markers",
         "name": "Cameroon",
         "orientation": "v",
         "showlegend": true,
         "type": "scatter",
         "x": [
          8.21367836
         ],
         "xaxis": "x",
         "y": [
          0.13379
         ],
         "yaxis": "y"
        },
        {
         "hovertemplate": "Country Name=Canada<br>Log GDP Per Capita=%{x}<br>Eating disorders (%)=%{y}<extra></extra>",
         "legendgroup": "Canada",
         "marker": {
          "color": "#FECB52",
          "symbol": "circle"
         },
         "mode": "markers",
         "name": "Canada",
         "orientation": "v",
         "showlegend": true,
         "type": "scatter",
         "x": [
          10.78554249
         ],
         "xaxis": "x",
         "y": [
          0.477304
         ],
         "yaxis": "y"
        },
        {
         "hovertemplate": "Country Name=Chad<br>Log GDP Per Capita=%{x}<br>Eating disorders (%)=%{y}<extra></extra>",
         "legendgroup": "Chad",
         "marker": {
          "color": "#636efa",
          "symbol": "circle"
         },
         "mode": "markers",
         "name": "Chad",
         "orientation": "v",
         "showlegend": true,
         "type": "scatter",
         "x": [
          7.365028381
         ],
         "xaxis": "x",
         "y": [
          0.122129
         ],
         "yaxis": "y"
        },
        {
         "hovertemplate": "Country Name=Chile<br>Log GDP Per Capita=%{x}<br>Eating disorders (%)=%{y}<extra></extra>",
         "legendgroup": "Chile",
         "marker": {
          "color": "#EF553B",
          "symbol": "circle"
         },
         "mode": "markers",
         "name": "Chile",
         "orientation": "v",
         "showlegend": true,
         "type": "scatter",
         "x": [
          10.10834122
         ],
         "xaxis": "x",
         "y": [
          0.416123
         ],
         "yaxis": "y"
        },
        {
         "hovertemplate": "Country Name=Colombia<br>Log GDP Per Capita=%{x}<br>Eating disorders (%)=%{y}<extra></extra>",
         "legendgroup": "Colombia",
         "marker": {
          "color": "#00cc96",
          "symbol": "circle"
         },
         "mode": "markers",
         "name": "Colombia",
         "orientation": "v",
         "showlegend": true,
         "type": "scatter",
         "x": [
          9.570453644
         ],
         "xaxis": "x",
         "y": [
          0.260257
         ],
         "yaxis": "y"
        },
        {
         "hovertemplate": "Country Name=Costa Rica<br>Log GDP Per Capita=%{x}<br>Eating disorders (%)=%{y}<extra></extra>",
         "legendgroup": "Costa Rica",
         "marker": {
          "color": "#ab63fa",
          "symbol": "circle"
         },
         "mode": "markers",
         "name": "Costa Rica",
         "orientation": "v",
         "showlegend": true,
         "type": "scatter",
         "x": [
          9.911863327
         ],
         "xaxis": "x",
         "y": [
          0.289342
         ],
         "yaxis": "y"
        },
        {
         "hovertemplate": "Country Name=Croatia<br>Log GDP Per Capita=%{x}<br>Eating disorders (%)=%{y}<extra></extra>",
         "legendgroup": "Croatia",
         "marker": {
          "color": "#FFA15A",
          "symbol": "circle"
         },
         "mode": "markers",
         "name": "Croatia",
         "orientation": "v",
         "showlegend": true,
         "type": "scatter",
         "x": [
          10.21140671
         ],
         "xaxis": "x",
         "y": [
          0.217975
         ],
         "yaxis": "y"
        },
        {
         "hovertemplate": "Country Name=Cyprus<br>Log GDP Per Capita=%{x}<br>Eating disorders (%)=%{y}<extra></extra>",
         "legendgroup": "Cyprus",
         "marker": {
          "color": "#19d3f3",
          "symbol": "circle"
         },
         "mode": "markers",
         "name": "Cyprus",
         "orientation": "v",
         "showlegend": true,
         "type": "scatter",
         "x": [
          10.55638504
         ],
         "xaxis": "x",
         "y": [
          0.506721
         ],
         "yaxis": "y"
        },
        {
         "hovertemplate": "Country Name=Denmark<br>Log GDP Per Capita=%{x}<br>Eating disorders (%)=%{y}<extra></extra>",
         "legendgroup": "Denmark",
         "marker": {
          "color": "#FF6692",
          "symbol": "circle"
         },
         "mode": "markers",
         "name": "Denmark",
         "orientation": "v",
         "showlegend": true,
         "type": "scatter",
         "x": [
          10.92155266
         ],
         "xaxis": "x",
         "y": [
          0.540025
         ],
         "yaxis": "y"
        },
        {
         "hovertemplate": "Country Name=Dominican Republic<br>Log GDP Per Capita=%{x}<br>Eating disorders (%)=%{y}<extra></extra>",
         "legendgroup": "Dominican Republic",
         "marker": {
          "color": "#B6E880",
          "symbol": "circle"
         },
         "mode": "markers",
         "name": "Dominican Republic",
         "orientation": "v",
         "showlegend": true,
         "type": "scatter",
         "x": [
          9.712601662
         ],
         "xaxis": "x",
         "y": [
          0.303058
         ],
         "yaxis": "y"
        },
        {
         "hovertemplate": "Country Name=Ecuador<br>Log GDP Per Capita=%{x}<br>Eating disorders (%)=%{y}<extra></extra>",
         "legendgroup": "Ecuador",
         "marker": {
          "color": "#FF97FF",
          "symbol": "circle"
         },
         "mode": "markers",
         "name": "Ecuador",
         "orientation": "v",
         "showlegend": true,
         "type": "scatter",
         "x": [
          9.365584373
         ],
         "xaxis": "x",
         "y": [
          0.363733
         ],
         "yaxis": "y"
        },
        {
         "hovertemplate": "Country Name=El Salvador<br>Log GDP Per Capita=%{x}<br>Eating disorders (%)=%{y}<extra></extra>",
         "legendgroup": "El Salvador",
         "marker": {
          "color": "#FECB52",
          "symbol": "circle"
         },
         "mode": "markers",
         "name": "El Salvador",
         "orientation": "v",
         "showlegend": true,
         "type": "scatter",
         "x": [
          9.061598778
         ],
         "xaxis": "x",
         "y": [
          0.243873
         ],
         "yaxis": "y"
        },
        {
         "hovertemplate": "Country Name=Estonia<br>Log GDP Per Capita=%{x}<br>Eating disorders (%)=%{y}<extra></extra>",
         "legendgroup": "Estonia",
         "marker": {
          "color": "#636efa",
          "symbol": "circle"
         },
         "mode": "markers",
         "name": "Estonia",
         "orientation": "v",
         "showlegend": true,
         "type": "scatter",
         "x": [
          10.42886448
         ],
         "xaxis": "x",
         "y": [
          0.250271
         ],
         "yaxis": "y"
        },
        {
         "hovertemplate": "Country Name=Ethiopia<br>Log GDP Per Capita=%{x}<br>Eating disorders (%)=%{y}<extra></extra>",
         "legendgroup": "Ethiopia",
         "marker": {
          "color": "#EF553B",
          "symbol": "circle"
         },
         "mode": "markers",
         "name": "Ethiopia",
         "orientation": "v",
         "showlegend": true,
         "type": "scatter",
         "x": [
          7.59486866
         ],
         "xaxis": "x",
         "y": [
          0.109817
         ],
         "yaxis": "y"
        },
        {
         "hovertemplate": "Country Name=Finland<br>Log GDP Per Capita=%{x}<br>Eating disorders (%)=%{y}<extra></extra>",
         "legendgroup": "Finland",
         "marker": {
          "color": "#00cc96",
          "symbol": "circle"
         },
         "mode": "markers",
         "name": "Finland",
         "orientation": "v",
         "showlegend": true,
         "type": "scatter",
         "x": [
          10.7699604
         ],
         "xaxis": "x",
         "y": [
          0.594938
         ],
         "yaxis": "y"
        },
        {
         "hovertemplate": "Country Name=France<br>Log GDP Per Capita=%{x}<br>Eating disorders (%)=%{y}<extra></extra>",
         "legendgroup": "France",
         "marker": {
          "color": "#ab63fa",
          "symbol": "circle"
         },
         "mode": "markers",
         "name": "France",
         "orientation": "v",
         "showlegend": true,
         "type": "scatter",
         "x": [
          10.70497513
         ],
         "xaxis": "x",
         "y": [
          0.573755
         ],
         "yaxis": "y"
        },
        {
         "hovertemplate": "Country Name=Gabon<br>Log GDP Per Capita=%{x}<br>Eating disorders (%)=%{y}<extra></extra>",
         "legendgroup": "Gabon",
         "marker": {
          "color": "#FFA15A",
          "symbol": "circle"
         },
         "mode": "markers",
         "name": "Gabon",
         "orientation": "v",
         "showlegend": true,
         "type": "scatter",
         "x": [
          9.580394745
         ],
         "xaxis": "x",
         "y": [
          0.226577
         ],
         "yaxis": "y"
        },
        {
         "hovertemplate": "Country Name=Gambia<br>Log GDP Per Capita=%{x}<br>Eating disorders (%)=%{y}<extra></extra>",
         "legendgroup": "Gambia",
         "marker": {
          "color": "#19d3f3",
          "symbol": "circle"
         },
         "mode": "markers",
         "name": "Gambia",
         "orientation": "v",
         "showlegend": true,
         "type": "scatter",
         "x": [
          7.563740253
         ],
         "xaxis": "x",
         "y": [
          0.113298
         ],
         "yaxis": "y"
        },
        {
         "hovertemplate": "Country Name=Georgia<br>Log GDP Per Capita=%{x}<br>Eating disorders (%)=%{y}<extra></extra>",
         "legendgroup": "Georgia",
         "marker": {
          "color": "#FF6692",
          "symbol": "circle"
         },
         "mode": "markers",
         "name": "Georgia",
         "orientation": "v",
         "showlegend": true,
         "type": "scatter",
         "x": [
          9.517067909
         ],
         "xaxis": "x",
         "y": [
          0.17164
         ],
         "yaxis": "y"
        },
        {
         "hovertemplate": "Country Name=Germany<br>Log GDP Per Capita=%{x}<br>Eating disorders (%)=%{y}<extra></extra>",
         "legendgroup": "Germany",
         "marker": {
          "color": "#B6E880",
          "symbol": "circle"
         },
         "mode": "markers",
         "name": "Germany",
         "orientation": "v",
         "showlegend": true,
         "type": "scatter",
         "x": [
          10.87939453
         ],
         "xaxis": "x",
         "y": [
          0.522066
         ],
         "yaxis": "y"
        },
        {
         "hovertemplate": "Country Name=Ghana<br>Log GDP Per Capita=%{x}<br>Eating disorders (%)=%{y}<extra></extra>",
         "legendgroup": "Ghana",
         "marker": {
          "color": "#FF97FF",
          "symbol": "circle"
         },
         "mode": "markers",
         "name": "Ghana",
         "orientation": "v",
         "showlegend": true,
         "type": "scatter",
         "x": [
          8.503006935
         ],
         "xaxis": "x",
         "y": [
          0.147452
         ],
         "yaxis": "y"
        },
        {
         "hovertemplate": "Country Name=Greece<br>Log GDP Per Capita=%{x}<br>Eating disorders (%)=%{y}<extra></extra>",
         "legendgroup": "Greece",
         "marker": {
          "color": "#FECB52",
          "symbol": "circle"
         },
         "mode": "markers",
         "name": "Greece",
         "orientation": "v",
         "showlegend": true,
         "type": "scatter",
         "x": [
          10.26133156
         ],
         "xaxis": "x",
         "y": [
          0.559324
         ],
         "yaxis": "y"
        },
        {
         "hovertemplate": "Country Name=Guatemala<br>Log GDP Per Capita=%{x}<br>Eating disorders (%)=%{y}<extra></extra>",
         "legendgroup": "Guatemala",
         "marker": {
          "color": "#636efa",
          "symbol": "circle"
         },
         "mode": "markers",
         "name": "Guatemala",
         "orientation": "v",
         "showlegend": true,
         "type": "scatter",
         "x": [
          9.026683807
         ],
         "xaxis": "x",
         "y": [
          0.23211
         ],
         "yaxis": "y"
        },
        {
         "hovertemplate": "Country Name=Guinea<br>Log GDP Per Capita=%{x}<br>Eating disorders (%)=%{y}<extra></extra>",
         "legendgroup": "Guinea",
         "marker": {
          "color": "#EF553B",
          "symbol": "circle"
         },
         "mode": "markers",
         "name": "Guinea",
         "orientation": "v",
         "showlegend": true,
         "type": "scatter",
         "x": [
          7.776358128
         ],
         "xaxis": "x",
         "y": [
          0.112388
         ],
         "yaxis": "y"
        },
        {
         "hovertemplate": "Country Name=Haiti<br>Log GDP Per Capita=%{x}<br>Eating disorders (%)=%{y}<extra></extra>",
         "legendgroup": "Haiti",
         "marker": {
          "color": "#00cc96",
          "symbol": "circle"
         },
         "mode": "markers",
         "name": "Haiti",
         "orientation": "v",
         "showlegend": true,
         "type": "scatter",
         "x": [
          8.067083359
         ],
         "xaxis": "x",
         "y": [
          0.16079
         ],
         "yaxis": "y"
        },
        {
         "hovertemplate": "Country Name=Honduras<br>Log GDP Per Capita=%{x}<br>Eating disorders (%)=%{y}<extra></extra>",
         "legendgroup": "Honduras",
         "marker": {
          "color": "#ab63fa",
          "symbol": "circle"
         },
         "mode": "markers",
         "name": "Honduras",
         "orientation": "v",
         "showlegend": true,
         "type": "scatter",
         "x": [
          8.602948189
         ],
         "xaxis": "x",
         "y": [
          0.203339
         ],
         "yaxis": "y"
        },
        {
         "hovertemplate": "Country Name=Hungary<br>Log GDP Per Capita=%{x}<br>Eating disorders (%)=%{y}<extra></extra>",
         "legendgroup": "Hungary",
         "marker": {
          "color": "#FFA15A",
          "symbol": "circle"
         },
         "mode": "markers",
         "name": "Hungary",
         "orientation": "v",
         "showlegend": true,
         "type": "scatter",
         "x": [
          10.29218388
         ],
         "xaxis": "x",
         "y": [
          0.237686
         ],
         "yaxis": "y"
        },
        {
         "hovertemplate": "Country Name=Iceland<br>Log GDP Per Capita=%{x}<br>Eating disorders (%)=%{y}<extra></extra>",
         "legendgroup": "Iceland",
         "marker": {
          "color": "#19d3f3",
          "symbol": "circle"
         },
         "mode": "markers",
         "name": "Iceland",
         "orientation": "v",
         "showlegend": true,
         "type": "scatter",
         "x": [
          10.92663097
         ],
         "xaxis": "x",
         "y": [
          0.558014
         ],
         "yaxis": "y"
        },
        {
         "hovertemplate": "Country Name=India<br>Log GDP Per Capita=%{x}<br>Eating disorders (%)=%{y}<extra></extra>",
         "legendgroup": "India",
         "marker": {
          "color": "#FF6692",
          "symbol": "circle"
         },
         "mode": "markers",
         "name": "India",
         "orientation": "v",
         "showlegend": true,
         "type": "scatter",
         "x": [
          8.718020439
         ],
         "xaxis": "x",
         "y": [
          0.157758
         ],
         "yaxis": "y"
        },
        {
         "hovertemplate": "Country Name=Indonesia<br>Log GDP Per Capita=%{x}<br>Eating disorders (%)=%{y}<extra></extra>",
         "legendgroup": "Indonesia",
         "marker": {
          "color": "#B6E880",
          "symbol": "circle"
         },
         "mode": "markers",
         "name": "Indonesia",
         "orientation": "v",
         "showlegend": true,
         "type": "scatter",
         "x": [
          9.300356865
         ],
         "xaxis": "x",
         "y": [
          0.148782
         ],
         "yaxis": "y"
        },
        {
         "hovertemplate": "Country Name=Iraq<br>Log GDP Per Capita=%{x}<br>Eating disorders (%)=%{y}<extra></extra>",
         "legendgroup": "Iraq",
         "marker": {
          "color": "#FF97FF",
          "symbol": "circle"
         },
         "mode": "markers",
         "name": "Iraq",
         "orientation": "v",
         "showlegend": true,
         "type": "scatter",
         "x": [
          9.208023071
         ],
         "xaxis": "x",
         "y": [
          0.208672
         ],
         "yaxis": "y"
        },
        {
         "hovertemplate": "Country Name=Ireland<br>Log GDP Per Capita=%{x}<br>Eating disorders (%)=%{y}<extra></extra>",
         "legendgroup": "Ireland",
         "marker": {
          "color": "#FECB52",
          "symbol": "circle"
         },
         "mode": "markers",
         "name": "Ireland",
         "orientation": "v",
         "showlegend": true,
         "type": "scatter",
         "x": [
          11.26124382
         ],
         "xaxis": "x",
         "y": [
          0.559995
         ],
         "yaxis": "y"
        },
        {
         "hovertemplate": "Country Name=Israel<br>Log GDP Per Capita=%{x}<br>Eating disorders (%)=%{y}<extra></extra>",
         "legendgroup": "Israel",
         "marker": {
          "color": "#636efa",
          "symbol": "circle"
         },
         "mode": "markers",
         "name": "Israel",
         "orientation": "v",
         "showlegend": true,
         "type": "scatter",
         "x": [
          10.57442188
         ],
         "xaxis": "x",
         "y": [
          0.461175
         ],
         "yaxis": "y"
        },
        {
         "hovertemplate": "Country Name=Italy<br>Log GDP Per Capita=%{x}<br>Eating disorders (%)=%{y}<extra></extra>",
         "legendgroup": "Italy",
         "marker": {
          "color": "#EF553B",
          "symbol": "circle"
         },
         "mode": "markers",
         "name": "Italy",
         "orientation": "v",
         "showlegend": true,
         "type": "scatter",
         "x": [
          10.63540173
         ],
         "xaxis": "x",
         "y": [
          0.626784
         ],
         "yaxis": "y"
        },
        {
         "hovertemplate": "Country Name=Jamaica<br>Log GDP Per Capita=%{x}<br>Eating disorders (%)=%{y}<extra></extra>",
         "legendgroup": "Jamaica",
         "marker": {
          "color": "#00cc96",
          "symbol": "circle"
         },
         "mode": "markers",
         "name": "Jamaica",
         "orientation": "v",
         "showlegend": true,
         "type": "scatter",
         "x": [
          9.208796501
         ],
         "xaxis": "x",
         "y": [
          0.25965
         ],
         "yaxis": "y"
        },
        {
         "hovertemplate": "Country Name=Japan<br>Log GDP Per Capita=%{x}<br>Eating disorders (%)=%{y}<extra></extra>",
         "legendgroup": "Japan",
         "marker": {
          "color": "#ab63fa",
          "symbol": "circle"
         },
         "mode": "markers",
         "name": "Japan",
         "orientation": "v",
         "showlegend": true,
         "type": "scatter",
         "x": [
          10.63210392
         ],
         "xaxis": "x",
         "y": [
          0.454379
         ],
         "yaxis": "y"
        },
        {
         "hovertemplate": "Country Name=Kazakhstan<br>Log GDP Per Capita=%{x}<br>Eating disorders (%)=%{y}<extra></extra>",
         "legendgroup": "Kazakhstan",
         "marker": {
          "color": "#FFA15A",
          "symbol": "circle"
         },
         "mode": "markers",
         "name": "Kazakhstan",
         "orientation": "v",
         "showlegend": true,
         "type": "scatter",
         "x": [
          10.12113476
         ],
         "xaxis": "x",
         "y": [
          0.227918
         ],
         "yaxis": "y"
        },
        {
         "hovertemplate": "Country Name=Kenya<br>Log GDP Per Capita=%{x}<br>Eating disorders (%)=%{y}<extra></extra>",
         "legendgroup": "Kenya",
         "marker": {
          "color": "#19d3f3",
          "symbol": "circle"
         },
         "mode": "markers",
         "name": "Kenya",
         "orientation": "v",
         "showlegend": true,
         "type": "scatter",
         "x": [
          8.369367599
         ],
         "xaxis": "x",
         "y": [
          0.135005
         ],
         "yaxis": "y"
        },
        {
         "hovertemplate": "Country Name=Kyrgyzstan<br>Log GDP Per Capita=%{x}<br>Eating disorders (%)=%{y}<extra></extra>",
         "legendgroup": "Kyrgyzstan",
         "marker": {
          "color": "#FF6692",
          "symbol": "circle"
         },
         "mode": "markers",
         "name": "Kyrgyzstan",
         "orientation": "v",
         "showlegend": true,
         "type": "scatter",
         "x": [
          8.526488304
         ],
         "xaxis": "x",
         "y": [
          0.127525
         ],
         "yaxis": "y"
        },
        {
         "hovertemplate": "Country Name=Laos<br>Log GDP Per Capita=%{x}<br>Eating disorders (%)=%{y}<extra></extra>",
         "legendgroup": "Laos",
         "marker": {
          "color": "#B6E880",
          "symbol": "circle"
         },
         "mode": "markers",
         "name": "Laos",
         "orientation": "v",
         "showlegend": true,
         "type": "scatter",
         "x": [
          8.88339901
         ],
         "xaxis": "x",
         "y": [
          0.128172
         ],
         "yaxis": "y"
        },
        {
         "hovertemplate": "Country Name=Latvia<br>Log GDP Per Capita=%{x}<br>Eating disorders (%)=%{y}<extra></extra>",
         "legendgroup": "Latvia",
         "marker": {
          "color": "#FF97FF",
          "symbol": "circle"
         },
         "mode": "markers",
         "name": "Latvia",
         "orientation": "v",
         "showlegend": true,
         "type": "scatter",
         "x": [
          10.263731
         ],
         "xaxis": "x",
         "y": [
          0.225275
         ],
         "yaxis": "y"
        },
        {
         "hovertemplate": "Country Name=Lebanon<br>Log GDP Per Capita=%{x}<br>Eating disorders (%)=%{y}<extra></extra>",
         "legendgroup": "Lebanon",
         "marker": {
          "color": "#FECB52",
          "symbol": "circle"
         },
         "mode": "markers",
         "name": "Lebanon",
         "orientation": "v",
         "showlegend": true,
         "type": "scatter",
         "x": [
          9.787406921
         ],
         "xaxis": "x",
         "y": [
          0.219049
         ],
         "yaxis": "y"
        },
        {
         "hovertemplate": "Country Name=Lesotho<br>Log GDP Per Capita=%{x}<br>Eating disorders (%)=%{y}<extra></extra>",
         "legendgroup": "Lesotho",
         "marker": {
          "color": "#636efa",
          "symbol": "circle"
         },
         "mode": "markers",
         "name": "Lesotho",
         "orientation": "v",
         "showlegend": true,
         "type": "scatter",
         "x": [
          7.852320194
         ],
         "xaxis": "x",
         "y": [
          0.136801
         ],
         "yaxis": "y"
        },
        {
         "hovertemplate": "Country Name=Liberia<br>Log GDP Per Capita=%{x}<br>Eating disorders (%)=%{y}<extra></extra>",
         "legendgroup": "Liberia",
         "marker": {
          "color": "#EF553B",
          "symbol": "circle"
         },
         "mode": "markers",
         "name": "Liberia",
         "orientation": "v",
         "showlegend": true,
         "type": "scatter",
         "x": [
          7.335249901
         ],
         "xaxis": "x",
         "y": [
          0.091591
         ],
         "yaxis": "y"
        },
        {
         "hovertemplate": "Country Name=Lithuania<br>Log GDP Per Capita=%{x}<br>Eating disorders (%)=%{y}<extra></extra>",
         "legendgroup": "Lithuania",
         "marker": {
          "color": "#00cc96",
          "symbol": "circle"
         },
         "mode": "markers",
         "name": "Lithuania",
         "orientation": "v",
         "showlegend": true,
         "type": "scatter",
         "x": [
          10.42708778
         ],
         "xaxis": "x",
         "y": [
          0.234095
         ],
         "yaxis": "y"
        },
        {
         "hovertemplate": "Country Name=Luxembourg<br>Log GDP Per Capita=%{x}<br>Eating disorders (%)=%{y}<extra></extra>",
         "legendgroup": "Luxembourg",
         "marker": {
          "color": "#ab63fa",
          "symbol": "circle"
         },
         "mode": "markers",
         "name": "Luxembourg",
         "orientation": "v",
         "showlegend": true,
         "type": "scatter",
         "x": [
          11.65256405
         ],
         "xaxis": "x",
         "y": [
          0.737917
         ],
         "yaxis": "y"
        },
        {
         "hovertemplate": "Country Name=Madagascar<br>Log GDP Per Capita=%{x}<br>Eating disorders (%)=%{y}<extra></extra>",
         "legendgroup": "Madagascar",
         "marker": {
          "color": "#FFA15A",
          "symbol": "circle"
         },
         "mode": "markers",
         "name": "Madagascar",
         "orientation": "v",
         "showlegend": true,
         "type": "scatter",
         "x": [
          7.344820023
         ],
         "xaxis": "x",
         "y": [
          0.106417
         ],
         "yaxis": "y"
        },
        {
         "hovertemplate": "Country Name=Malawi<br>Log GDP Per Capita=%{x}<br>Eating disorders (%)=%{y}<extra></extra>",
         "legendgroup": "Malawi",
         "marker": {
          "color": "#19d3f3",
          "symbol": "circle"
         },
         "mode": "markers",
         "name": "Malawi",
         "orientation": "v",
         "showlegend": true,
         "type": "scatter",
         "x": [
          7.282608032
         ],
         "xaxis": "x",
         "y": [
          0.100349
         ],
         "yaxis": "y"
        },
        {
         "hovertemplate": "Country Name=Mali<br>Log GDP Per Capita=%{x}<br>Eating disorders (%)=%{y}<extra></extra>",
         "legendgroup": "Mali",
         "marker": {
          "color": "#FF6692",
          "symbol": "circle"
         },
         "mode": "markers",
         "name": "Mali",
         "orientation": "v",
         "showlegend": true,
         "type": "scatter",
         "x": [
          7.675010204
         ],
         "xaxis": "x",
         "y": [
          0.116675
         ],
         "yaxis": "y"
        },
        {
         "hovertemplate": "Country Name=Malta<br>Log GDP Per Capita=%{x}<br>Eating disorders (%)=%{y}<extra></extra>",
         "legendgroup": "Malta",
         "marker": {
          "color": "#B6E880",
          "symbol": "circle"
         },
         "mode": "markers",
         "name": "Malta",
         "orientation": "v",
         "showlegend": true,
         "type": "scatter",
         "x": [
          10.68089676
         ],
         "xaxis": "x",
         "y": [
          0.51914
         ],
         "yaxis": "y"
        },
        {
         "hovertemplate": "Country Name=Mauritania<br>Log GDP Per Capita=%{x}<br>Eating disorders (%)=%{y}<extra></extra>",
         "legendgroup": "Mauritania",
         "marker": {
          "color": "#FF97FF",
          "symbol": "circle"
         },
         "mode": "markers",
         "name": "Mauritania",
         "orientation": "v",
         "showlegend": true,
         "type": "scatter",
         "x": [
          8.567708969
         ],
         "xaxis": "x",
         "y": [
          0.145276
         ],
         "yaxis": "y"
        },
        {
         "hovertemplate": "Country Name=Mauritius<br>Log GDP Per Capita=%{x}<br>Eating disorders (%)=%{y}<extra></extra>",
         "legendgroup": "Mauritius",
         "marker": {
          "color": "#FECB52",
          "symbol": "circle"
         },
         "mode": "markers",
         "name": "Mauritius",
         "orientation": "v",
         "showlegend": true,
         "type": "scatter",
         "x": [
          10.00553036
         ],
         "xaxis": "x",
         "y": [
          0.184433
         ],
         "yaxis": "y"
        },
        {
         "hovertemplate": "Country Name=Mexico<br>Log GDP Per Capita=%{x}<br>Eating disorders (%)=%{y}<extra></extra>",
         "legendgroup": "Mexico",
         "marker": {
          "color": "#636efa",
          "symbol": "circle"
         },
         "mode": "markers",
         "name": "Mexico",
         "orientation": "v",
         "showlegend": true,
         "type": "scatter",
         "x": [
          9.905106544
         ],
         "xaxis": "x",
         "y": [
          0.316975
         ],
         "yaxis": "y"
        },
        {
         "hovertemplate": "Country Name=Moldova<br>Log GDP Per Capita=%{x}<br>Eating disorders (%)=%{y}<extra></extra>",
         "legendgroup": "Moldova",
         "marker": {
          "color": "#EF553B",
          "symbol": "circle"
         },
         "mode": "markers",
         "name": "Moldova",
         "orientation": "v",
         "showlegend": true,
         "type": "scatter",
         "x": [
          9.363162994
         ],
         "xaxis": "x",
         "y": [
          0.141701
         ],
         "yaxis": "y"
        },
        {
         "hovertemplate": "Country Name=Mongolia<br>Log GDP Per Capita=%{x}<br>Eating disorders (%)=%{y}<extra></extra>",
         "legendgroup": "Mongolia",
         "marker": {
          "color": "#00cc96",
          "symbol": "circle"
         },
         "mode": "markers",
         "name": "Mongolia",
         "orientation": "v",
         "showlegend": true,
         "type": "scatter",
         "x": [
          9.344127655
         ],
         "xaxis": "x",
         "y": [
          0.180157
         ],
         "yaxis": "y"
        },
        {
         "hovertemplate": "Country Name=Montenegro<br>Log GDP Per Capita=%{x}<br>Eating disorders (%)=%{y}<extra></extra>",
         "legendgroup": "Montenegro",
         "marker": {
          "color": "#ab63fa",
          "symbol": "circle"
         },
         "mode": "markers",
         "name": "Montenegro",
         "orientation": "v",
         "showlegend": true,
         "type": "scatter",
         "x": [
          9.887653351
         ],
         "xaxis": "x",
         "y": [
          0.194161
         ],
         "yaxis": "y"
        },
        {
         "hovertemplate": "Country Name=Mozambique<br>Log GDP Per Capita=%{x}<br>Eating disorders (%)=%{y}<extra></extra>",
         "legendgroup": "Mozambique",
         "marker": {
          "color": "#FFA15A",
          "symbol": "circle"
         },
         "mode": "markers",
         "name": "Mozambique",
         "orientation": "v",
         "showlegend": true,
         "type": "scatter",
         "x": [
          7.160251617
         ],
         "xaxis": "x",
         "y": [
          0.103227
         ],
         "yaxis": "y"
        },
        {
         "hovertemplate": "Country Name=Myanmar<br>Log GDP Per Capita=%{x}<br>Eating disorders (%)=%{y}<extra></extra>",
         "legendgroup": "Myanmar",
         "marker": {
          "color": "#19d3f3",
          "symbol": "circle"
         },
         "mode": "markers",
         "name": "Myanmar",
         "orientation": "v",
         "showlegend": true,
         "type": "scatter",
         "x": [
          8.369377136
         ],
         "xaxis": "x",
         "y": [
          0.125738
         ],
         "yaxis": "y"
        },
        {
         "hovertemplate": "Country Name=Namibia<br>Log GDP Per Capita=%{x}<br>Eating disorders (%)=%{y}<extra></extra>",
         "legendgroup": "Namibia",
         "marker": {
          "color": "#FF6692",
          "symbol": "circle"
         },
         "mode": "markers",
         "name": "Namibia",
         "orientation": "v",
         "showlegend": true,
         "type": "scatter",
         "x": [
          9.243317604
         ],
         "xaxis": "x",
         "y": [
          0.200987
         ],
         "yaxis": "y"
        },
        {
         "hovertemplate": "Country Name=Nepal<br>Log GDP Per Capita=%{x}<br>Eating disorders (%)=%{y}<extra></extra>",
         "legendgroup": "Nepal",
         "marker": {
          "color": "#B6E880",
          "symbol": "circle"
         },
         "mode": "markers",
         "name": "Nepal",
         "orientation": "v",
         "showlegend": true,
         "type": "scatter",
         "x": [
          8.159239769
         ],
         "xaxis": "x",
         "y": [
          0.128495
         ],
         "yaxis": "y"
        },
        {
         "hovertemplate": "Country Name=Netherlands<br>Log GDP Per Capita=%{x}<br>Eating disorders (%)=%{y}<extra></extra>",
         "legendgroup": "Netherlands",
         "marker": {
          "color": "#FF97FF",
          "symbol": "circle"
         },
         "mode": "markers",
         "name": "Netherlands",
         "orientation": "v",
         "showlegend": true,
         "type": "scatter",
         "x": [
          10.91669846
         ],
         "xaxis": "x",
         "y": [
          0.467844
         ],
         "yaxis": "y"
        },
        {
         "hovertemplate": "Country Name=New Zealand<br>Log GDP Per Capita=%{x}<br>Eating disorders (%)=%{y}<extra></extra>",
         "legendgroup": "New Zealand",
         "marker": {
          "color": "#FECB52",
          "symbol": "circle"
         },
         "mode": "markers",
         "name": "New Zealand",
         "orientation": "v",
         "showlegend": true,
         "type": "scatter",
         "x": [
          10.65061474
         ],
         "xaxis": "x",
         "y": [
          0.67329
         ],
         "yaxis": "y"
        },
        {
         "hovertemplate": "Country Name=Nicaragua<br>Log GDP Per Capita=%{x}<br>Eating disorders (%)=%{y}<extra></extra>",
         "legendgroup": "Nicaragua",
         "marker": {
          "color": "#636efa",
          "symbol": "circle"
         },
         "mode": "markers",
         "name": "Nicaragua",
         "orientation": "v",
         "showlegend": true,
         "type": "scatter",
         "x": [
          8.685310364
         ],
         "xaxis": "x",
         "y": [
          0.205876
         ],
         "yaxis": "y"
        },
        {
         "hovertemplate": "Country Name=Niger<br>Log GDP Per Capita=%{x}<br>Eating disorders (%)=%{y}<extra></extra>",
         "legendgroup": "Niger",
         "marker": {
          "color": "#EF553B",
          "symbol": "circle"
         },
         "mode": "markers",
         "name": "Niger",
         "orientation": "v",
         "showlegend": true,
         "type": "scatter",
         "x": [
          7.052698135
         ],
         "xaxis": "x",
         "y": [
          0.096116
         ],
         "yaxis": "y"
        },
        {
         "hovertemplate": "Country Name=Nigeria<br>Log GDP Per Capita=%{x}<br>Eating disorders (%)=%{y}<extra></extra>",
         "legendgroup": "Nigeria",
         "marker": {
          "color": "#00cc96",
          "symbol": "circle"
         },
         "mode": "markers",
         "name": "Nigeria",
         "orientation": "v",
         "showlegend": true,
         "type": "scatter",
         "x": [
          8.540910721
         ],
         "xaxis": "x",
         "y": [
          0.163373
         ],
         "yaxis": "y"
        },
        {
         "hovertemplate": "Country Name=Norway<br>Log GDP Per Capita=%{x}<br>Eating disorders (%)=%{y}<extra></extra>",
         "legendgroup": "Norway",
         "marker": {
          "color": "#ab63fa",
          "symbol": "circle"
         },
         "mode": "markers",
         "name": "Norway",
         "orientation": "v",
         "showlegend": true,
         "type": "scatter",
         "x": [
          11.06743145
         ],
         "xaxis": "x",
         "y": [
          0.570363
         ],
         "yaxis": "y"
        },
        {
         "hovertemplate": "Country Name=Pakistan<br>Log GDP Per Capita=%{x}<br>Eating disorders (%)=%{y}<extra></extra>",
         "legendgroup": "Pakistan",
         "marker": {
          "color": "#FFA15A",
          "symbol": "circle"
         },
         "mode": "markers",
         "name": "Pakistan",
         "orientation": "v",
         "showlegend": true,
         "type": "scatter",
         "x": [
          8.495299339
         ],
         "xaxis": "x",
         "y": [
          0.154583
         ],
         "yaxis": "y"
        },
        {
         "hovertemplate": "Country Name=Panama<br>Log GDP Per Capita=%{x}<br>Eating disorders (%)=%{y}<extra></extra>",
         "legendgroup": "Panama",
         "marker": {
          "color": "#19d3f3",
          "symbol": "circle"
         },
         "mode": "markers",
         "name": "Panama",
         "orientation": "v",
         "showlegend": true,
         "type": "scatter",
         "x": [
          10.3263464
         ],
         "xaxis": "x",
         "y": [
          0.31665
         ],
         "yaxis": "y"
        },
        {
         "hovertemplate": "Country Name=Paraguay<br>Log GDP Per Capita=%{x}<br>Eating disorders (%)=%{y}<extra></extra>",
         "legendgroup": "Paraguay",
         "marker": {
          "color": "#FF6692",
          "symbol": "circle"
         },
         "mode": "markers",
         "name": "Paraguay",
         "orientation": "v",
         "showlegend": true,
         "type": "scatter",
         "x": [
          9.51813221
         ],
         "xaxis": "x",
         "y": [
          0.238288
         ],
         "yaxis": "y"
        },
        {
         "hovertemplate": "Country Name=Peru<br>Log GDP Per Capita=%{x}<br>Eating disorders (%)=%{y}<extra></extra>",
         "legendgroup": "Peru",
         "marker": {
          "color": "#B6E880",
          "symbol": "circle"
         },
         "mode": "markers",
         "name": "Peru",
         "orientation": "v",
         "showlegend": true,
         "type": "scatter",
         "x": [
          9.428893089
         ],
         "xaxis": "x",
         "y": [
          0.369216
         ],
         "yaxis": "y"
        },
        {
         "hovertemplate": "Country Name=Philippines<br>Log GDP Per Capita=%{x}<br>Eating disorders (%)=%{y}<extra></extra>",
         "legendgroup": "Philippines",
         "marker": {
          "color": "#FF97FF",
          "symbol": "circle"
         },
         "mode": "markers",
         "name": "Philippines",
         "orientation": "v",
         "showlegend": true,
         "type": "scatter",
         "x": [
          8.987416267
         ],
         "xaxis": "x",
         "y": [
          0.134855
         ],
         "yaxis": "y"
        },
        {
         "hovertemplate": "Country Name=Poland<br>Log GDP Per Capita=%{x}<br>Eating disorders (%)=%{y}<extra></extra>",
         "legendgroup": "Poland",
         "marker": {
          "color": "#FECB52",
          "symbol": "circle"
         },
         "mode": "markers",
         "name": "Poland",
         "orientation": "v",
         "showlegend": true,
         "type": "scatter",
         "x": [
          10.30755615
         ],
         "xaxis": "x",
         "y": [
          0.229485
         ],
         "yaxis": "y"
        },
        {
         "hovertemplate": "Country Name=Portugal<br>Log GDP Per Capita=%{x}<br>Eating disorders (%)=%{y}<extra></extra>",
         "legendgroup": "Portugal",
         "marker": {
          "color": "#636efa",
          "symbol": "circle"
         },
         "mode": "markers",
         "name": "Portugal",
         "orientation": "v",
         "showlegend": true,
         "type": "scatter",
         "x": [
          10.40561676
         ],
         "xaxis": "x",
         "y": [
          0.513079
         ],
         "yaxis": "y"
        },
        {
         "hovertemplate": "Country Name=Romania<br>Log GDP Per Capita=%{x}<br>Eating disorders (%)=%{y}<extra></extra>",
         "legendgroup": "Romania",
         "marker": {
          "color": "#EF553B",
          "symbol": "circle"
         },
         "mode": "markers",
         "name": "Romania",
         "orientation": "v",
         "showlegend": true,
         "type": "scatter",
         "x": [
          10.20167065
         ],
         "xaxis": "x",
         "y": [
          0.2007
         ],
         "yaxis": "y"
        },
        {
         "hovertemplate": "Country Name=Russia<br>Log GDP Per Capita=%{x}<br>Eating disorders (%)=%{y}<extra></extra>",
         "legendgroup": "Russia",
         "marker": {
          "color": "#00cc96",
          "symbol": "circle"
         },
         "mode": "markers",
         "name": "Russia",
         "orientation": "v",
         "showlegend": true,
         "type": "scatter",
         "x": [
          10.16301918
         ],
         "xaxis": "x",
         "y": [
          0.232375
         ],
         "yaxis": "y"
        },
        {
         "hovertemplate": "Country Name=Rwanda<br>Log GDP Per Capita=%{x}<br>Eating disorders (%)=%{y}<extra></extra>",
         "legendgroup": "Rwanda",
         "marker": {
          "color": "#ab63fa",
          "symbol": "circle"
         },
         "mode": "markers",
         "name": "Rwanda",
         "orientation": "v",
         "showlegend": true,
         "type": "scatter",
         "x": [
          7.567848682
         ],
         "xaxis": "x",
         "y": [
          0.115817
         ],
         "yaxis": "y"
        },
        {
         "hovertemplate": "Country Name=Senegal<br>Log GDP Per Capita=%{x}<br>Eating disorders (%)=%{y}<extra></extra>",
         "legendgroup": "Senegal",
         "marker": {
          "color": "#FFA15A",
          "symbol": "circle"
         },
         "mode": "markers",
         "name": "Senegal",
         "orientation": "v",
         "showlegend": true,
         "type": "scatter",
         "x": [
          8.089234352
         ],
         "xaxis": "x",
         "y": [
          0.12529
         ],
         "yaxis": "y"
        },
        {
         "hovertemplate": "Country Name=Serbia<br>Log GDP Per Capita=%{x}<br>Eating disorders (%)=%{y}<extra></extra>",
         "legendgroup": "Serbia",
         "marker": {
          "color": "#19d3f3",
          "symbol": "circle"
         },
         "mode": "markers",
         "name": "Serbia",
         "orientation": "v",
         "showlegend": true,
         "type": "scatter",
         "x": [
          9.718001366
         ],
         "xaxis": "x",
         "y": [
          0.187147
         ],
         "yaxis": "y"
        },
        {
         "hovertemplate": "Country Name=Sierra Leone<br>Log GDP Per Capita=%{x}<br>Eating disorders (%)=%{y}<extra></extra>",
         "legendgroup": "Sierra Leone",
         "marker": {
          "color": "#FF6692",
          "symbol": "circle"
         },
         "mode": "markers",
         "name": "Sierra Leone",
         "orientation": "v",
         "showlegend": true,
         "type": "scatter",
         "x": [
          7.373677731
         ],
         "xaxis": "x",
         "y": [
          0.109799
         ],
         "yaxis": "y"
        },
        {
         "hovertemplate": "Country Name=Singapore<br>Log GDP Per Capita=%{x}<br>Eating disorders (%)=%{y}<extra></extra>",
         "legendgroup": "Singapore",
         "marker": {
          "color": "#B6E880",
          "symbol": "circle"
         },
         "mode": "markers",
         "name": "Singapore",
         "orientation": "v",
         "showlegend": true,
         "type": "scatter",
         "x": [
          11.46489334
         ],
         "xaxis": "x",
         "y": [
          0.553712
         ],
         "yaxis": "y"
        },
        {
         "hovertemplate": "Country Name=Slovakia<br>Log GDP Per Capita=%{x}<br>Eating disorders (%)=%{y}<extra></extra>",
         "legendgroup": "Slovakia",
         "marker": {
          "color": "#FF97FF",
          "symbol": "circle"
         },
         "mode": "markers",
         "name": "Slovakia",
         "orientation": "v",
         "showlegend": true,
         "type": "scatter",
         "x": [
          10.31100178
         ],
         "xaxis": "x",
         "y": [
          0.235475
         ],
         "yaxis": "y"
        },
        {
         "hovertemplate": "Country Name=Slovenia<br>Log GDP Per Capita=%{x}<br>Eating disorders (%)=%{y}<extra></extra>",
         "legendgroup": "Slovenia",
         "marker": {
          "color": "#FECB52",
          "symbol": "circle"
         },
         "mode": "markers",
         "name": "Slovenia",
         "orientation": "v",
         "showlegend": true,
         "type": "scatter",
         "x": [
          10.50527477
         ],
         "xaxis": "x",
         "y": [
          0.239636
         ],
         "yaxis": "y"
        },
        {
         "hovertemplate": "Country Name=South Africa<br>Log GDP Per Capita=%{x}<br>Eating disorders (%)=%{y}<extra></extra>",
         "legendgroup": "South Africa",
         "marker": {
          "color": "#636efa",
          "symbol": "circle"
         },
         "mode": "markers",
         "name": "South Africa",
         "orientation": "v",
         "showlegend": true,
         "type": "scatter",
         "x": [
          9.54326725
         ],
         "xaxis": "x",
         "y": [
          0.214718
         ],
         "yaxis": "y"
        },
        {
         "hovertemplate": "Country Name=South Korea<br>Log GDP Per Capita=%{x}<br>Eating disorders (%)=%{y}<extra></extra>",
         "legendgroup": "South Korea",
         "marker": {
          "color": "#EF553B",
          "symbol": "circle"
         },
         "mode": "markers",
         "name": "South Korea",
         "orientation": "v",
         "showlegend": true,
         "type": "scatter",
         "x": [
          10.6202879
         ],
         "xaxis": "x",
         "y": [
          0.417103
         ],
         "yaxis": "y"
        },
        {
         "hovertemplate": "Country Name=Spain<br>Log GDP Per Capita=%{x}<br>Eating disorders (%)=%{y}<extra></extra>",
         "legendgroup": "Spain",
         "marker": {
          "color": "#00cc96",
          "symbol": "circle"
         },
         "mode": "markers",
         "name": "Spain",
         "orientation": "v",
         "showlegend": true,
         "type": "scatter",
         "x": [
          10.58478832
         ],
         "xaxis": "x",
         "y": [
          0.730626
         ],
         "yaxis": "y"
        },
        {
         "hovertemplate": "Country Name=Sri Lanka<br>Log GDP Per Capita=%{x}<br>Eating disorders (%)=%{y}<extra></extra>",
         "legendgroup": "Sri Lanka",
         "marker": {
          "color": "#ab63fa",
          "symbol": "circle"
         },
         "mode": "markers",
         "name": "Sri Lanka",
         "orientation": "v",
         "showlegend": true,
         "type": "scatter",
         "x": [
          9.516662598
         ],
         "xaxis": "x",
         "y": [
          0.159144
         ],
         "yaxis": "y"
        },
        {
         "hovertemplate": "Country Name=Sweden<br>Log GDP Per Capita=%{x}<br>Eating disorders (%)=%{y}<extra></extra>",
         "legendgroup": "Sweden",
         "marker": {
          "color": "#FFA15A",
          "symbol": "circle"
         },
         "mode": "markers",
         "name": "Sweden",
         "orientation": "v",
         "showlegend": true,
         "type": "scatter",
         "x": [
          10.85799789
         ],
         "xaxis": "x",
         "y": [
          0.574608
         ],
         "yaxis": "y"
        },
        {
         "hovertemplate": "Country Name=Switzerland<br>Log GDP Per Capita=%{x}<br>Eating disorders (%)=%{y}<extra></extra>",
         "legendgroup": "Switzerland",
         "marker": {
          "color": "#19d3f3",
          "symbol": "circle"
         },
         "mode": "markers",
         "name": "Switzerland",
         "orientation": "v",
         "showlegend": true,
         "type": "scatter",
         "x": [
          11.14336205
         ],
         "xaxis": "x",
         "y": [
          0.573969
         ],
         "yaxis": "y"
        },
        {
         "hovertemplate": "Country Name=Tajikistan<br>Log GDP Per Capita=%{x}<br>Eating disorders (%)=%{y}<extra></extra>",
         "legendgroup": "Tajikistan",
         "marker": {
          "color": "#FF6692",
          "symbol": "circle"
         },
         "mode": "markers",
         "name": "Tajikistan",
         "orientation": "v",
         "showlegend": true,
         "type": "scatter",
         "x": [
          8.082228661
         ],
         "xaxis": "x",
         "y": [
          0.118226
         ],
         "yaxis": "y"
        },
        {
         "hovertemplate": "Country Name=Tanzania<br>Log GDP Per Capita=%{x}<br>Eating disorders (%)=%{y}<extra></extra>",
         "legendgroup": "Tanzania",
         "marker": {
          "color": "#B6E880",
          "symbol": "circle"
         },
         "mode": "markers",
         "name": "Tanzania",
         "orientation": "v",
         "showlegend": true,
         "type": "scatter",
         "x": [
          7.80724287
         ],
         "xaxis": "x",
         "y": [
          0.129857
         ],
         "yaxis": "y"
        },
        {
         "hovertemplate": "Country Name=Thailand<br>Log GDP Per Capita=%{x}<br>Eating disorders (%)=%{y}<extra></extra>",
         "legendgroup": "Thailand",
         "marker": {
          "color": "#FF97FF",
          "symbol": "circle"
         },
         "mode": "markers",
         "name": "Thailand",
         "orientation": "v",
         "showlegend": true,
         "type": "scatter",
         "x": [
          9.741441727
         ],
         "xaxis": "x",
         "y": [
          0.173202
         ],
         "yaxis": "y"
        },
        {
         "hovertemplate": "Country Name=Togo<br>Log GDP Per Capita=%{x}<br>Eating disorders (%)=%{y}<extra></extra>",
         "legendgroup": "Togo",
         "marker": {
          "color": "#FECB52",
          "symbol": "circle"
         },
         "mode": "markers",
         "name": "Togo",
         "orientation": "v",
         "showlegend": true,
         "type": "scatter",
         "x": [
          7.587156773
         ],
         "xaxis": "x",
         "y": [
          0.108107
         ],
         "yaxis": "y"
        },
        {
         "hovertemplate": "Country Name=Tunisia<br>Log GDP Per Capita=%{x}<br>Eating disorders (%)=%{y}<extra></extra>",
         "legendgroup": "Tunisia",
         "marker": {
          "color": "#636efa",
          "symbol": "circle"
         },
         "mode": "markers",
         "name": "Tunisia",
         "orientation": "v",
         "showlegend": true,
         "type": "scatter",
         "x": [
          9.29421711
         ],
         "xaxis": "x",
         "y": [
          0.200172
         ],
         "yaxis": "y"
        },
        {
         "hovertemplate": "Country Name=Uganda<br>Log GDP Per Capita=%{x}<br>Eating disorders (%)=%{y}<extra></extra>",
         "legendgroup": "Uganda",
         "marker": {
          "color": "#EF553B",
          "symbol": "circle"
         },
         "mode": "markers",
         "name": "Uganda",
         "orientation": "v",
         "showlegend": true,
         "type": "scatter",
         "x": [
          7.663124561
         ],
         "xaxis": "x",
         "y": [
          0.119309
         ],
         "yaxis": "y"
        },
        {
         "hovertemplate": "Country Name=Ukraine<br>Log GDP Per Capita=%{x}<br>Eating disorders (%)=%{y}<extra></extra>",
         "legendgroup": "Ukraine",
         "marker": {
          "color": "#00cc96",
          "symbol": "circle"
         },
         "mode": "markers",
         "name": "Ukraine",
         "orientation": "v",
         "showlegend": true,
         "type": "scatter",
         "x": [
          9.380973816
         ],
         "xaxis": "x",
         "y": [
          0.172715
         ],
         "yaxis": "y"
        },
        {
         "hovertemplate": "Country Name=United Kingdom<br>Log GDP Per Capita=%{x}<br>Eating disorders (%)=%{y}<extra></extra>",
         "legendgroup": "United Kingdom",
         "marker": {
          "color": "#ab63fa",
          "symbol": "circle"
         },
         "mode": "markers",
         "name": "United Kingdom",
         "orientation": "v",
         "showlegend": true,
         "type": "scatter",
         "x": [
          10.74445915
         ],
         "xaxis": "x",
         "y": [
          0.543054
         ],
         "yaxis": "y"
        },
        {
         "hovertemplate": "Country Name=United States<br>Log GDP Per Capita=%{x}<br>Eating disorders (%)=%{y}<extra></extra>",
         "legendgroup": "United States",
         "marker": {
          "color": "#FFA15A",
          "symbol": "circle"
         },
         "mode": "markers",
         "name": "United States",
         "orientation": "v",
         "showlegend": true,
         "type": "scatter",
         "x": [
          11.00067806
         ],
         "xaxis": "x",
         "y": [
          0.512844
         ],
         "yaxis": "y"
        },
        {
         "hovertemplate": "Country Name=Uruguay<br>Log GDP Per Capita=%{x}<br>Eating disorders (%)=%{y}<extra></extra>",
         "legendgroup": "Uruguay",
         "marker": {
          "color": "#19d3f3",
          "symbol": "circle"
         },
         "mode": "markers",
         "name": "Uruguay",
         "orientation": "v",
         "showlegend": true,
         "type": "scatter",
         "x": [
          10.04789066
         ],
         "xaxis": "x",
         "y": [
          0.405502
         ],
         "yaxis": "y"
        },
        {
         "hovertemplate": "Country Name=Uzbekistan<br>Log GDP Per Capita=%{x}<br>Eating disorders (%)=%{y}<extra></extra>",
         "legendgroup": "Uzbekistan",
         "marker": {
          "color": "#FF6692",
          "symbol": "circle"
         },
         "mode": "markers",
         "name": "Uzbekistan",
         "orientation": "v",
         "showlegend": true,
         "type": "scatter",
         "x": [
          8.830646515
         ],
         "xaxis": "x",
         "y": [
          0.153735
         ],
         "yaxis": "y"
        },
        {
         "hovertemplate": "Country Name=Venezuela<br>Log GDP Per Capita=%{x}<br>Eating disorders (%)=%{y}<extra></extra>",
         "legendgroup": "Venezuela",
         "marker": {
          "color": "#B6E880",
          "symbol": "circle"
         },
         "mode": "markers",
         "name": "Venezuela",
         "orientation": "v",
         "showlegend": true,
         "type": "scatter",
         "x": [
          5.943209171
         ],
         "xaxis": "x",
         "y": [
          0.28269
         ],
         "yaxis": "y"
        },
        {
         "hovertemplate": "Country Name=Zambia<br>Log GDP Per Capita=%{x}<br>Eating disorders (%)=%{y}<extra></extra>",
         "legendgroup": "Zambia",
         "marker": {
          "color": "#FF97FF",
          "symbol": "circle"
         },
         "mode": "markers",
         "name": "Zambia",
         "orientation": "v",
         "showlegend": true,
         "type": "scatter",
         "x": [
          8.130200386
         ],
         "xaxis": "x",
         "y": [
          0.142768
         ],
         "yaxis": "y"
        },
        {
         "hovertemplate": "Country Name=Zimbabwe<br>Log GDP Per Capita=%{x}<br>Eating disorders (%)=%{y}<extra></extra>",
         "legendgroup": "Zimbabwe",
         "marker": {
          "color": "#FECB52",
          "symbol": "circle"
         },
         "mode": "markers",
         "name": "Zimbabwe",
         "orientation": "v",
         "showlegend": true,
         "type": "scatter",
         "x": [
          7.754387379
         ],
         "xaxis": "x",
         "y": [
          0.124443
         ],
         "yaxis": "y"
        },
        {
         "hovertemplate": "<b>OLS trendline</b><br>Eating disorders (%) = 0.116379 * Log GDP Per Capita + -0.811514<br>R<sup>2</sup>=0.597299<br><br>Log GDP Per Capita=%{x}<br>Eating disorders (%)=%{y} <b>(trend)</b><extra></extra>",
         "legendgroup": "Overall Trendline",
         "line": {
          "color": "#636efa"
         },
         "mode": "lines",
         "name": "Overall Trendline",
         "showlegend": true,
         "type": "scatter",
         "x": [
          5.943209171,
          7.052698135,
          7.160251617,
          7.282608032,
          7.335249901,
          7.344820023,
          7.365028381,
          7.373677731,
          7.563740253,
          7.567848682,
          7.587156773,
          7.589920044,
          7.59486866,
          7.647830486,
          7.663124561,
          7.675010204,
          7.754387379,
          7.776358128,
          7.80724287,
          7.852320194,
          7.984066486,
          8.067083359,
          8.082228661,
          8.089234352,
          8.130200386,
          8.159239769,
          8.21367836,
          8.287207603,
          8.369367599,
          8.369377136,
          8.482762337,
          8.495299339,
          8.503006935,
          8.526488304,
          8.540910721,
          8.567708969,
          8.602948189,
          8.685310364,
          8.718020439,
          8.830646515,
          8.88339901,
          8.987416267,
          9.017354012,
          9.026683807,
          9.061598778,
          9.208023071,
          9.208796501,
          9.243317604,
          9.29421711,
          9.300356865,
          9.344127655,
          9.363162994,
          9.365584373,
          9.380973816,
          9.428893089,
          9.434254646,
          9.455109596,
          9.503191948,
          9.516662598,
          9.517067909,
          9.51813221,
          9.54326725,
          9.555447578,
          9.570453644,
          9.580375671,
          9.580394745,
          9.592658043,
          9.712601662,
          9.718001366,
          9.741441727,
          9.787406921,
          9.817717552,
          9.887653351,
          9.905106544,
          9.911863327,
          9.974589348,
          10.00553036,
          10.04789066,
          10.06888008,
          10.10834122,
          10.12113476,
          10.16301918,
          10.20167065,
          10.21140671,
          10.26133156,
          10.263731,
          10.29218388,
          10.30755615,
          10.31100178,
          10.3263464,
          10.40561676,
          10.42708778,
          10.42886448,
          10.50527477,
          10.55638504,
          10.57442188,
          10.58478832,
          10.6202879,
          10.63210392,
          10.63540173,
          10.65061474,
          10.68089676,
          10.70497513,
          10.74445915,
          10.7699604,
          10.78554249,
          10.78726006,
          10.82858467,
          10.85799789,
          10.87939453,
          10.89993763,
          10.91669846,
          10.92155266,
          10.92663097,
          11.00067806,
          11.06743145,
          11.14336205,
          11.26124382,
          11.46489334,
          11.65256405
         ],
         "xaxis": "x",
         "y": [
          -0.11984764215879783,
          0.00927395667905008,
          0.021790960459195582,
          0.03603071988492989,
          0.0421571461150628,
          0.04327091064432693,
          0.045622746110486355,
          0.04662935179756024,
          0.06874870360374336,
          0.06922683987945653,
          0.07147390286189344,
          0.07179549053073866,
          0.07237140721913086,
          0.07853506983532961,
          0.08031498426514627,
          0.08169822761156312,
          0.09093609124049018,
          0.09349303261674086,
          0.09708737865904576,
          0.102333448097382,
          0.11766599525735352,
          0.12732744455526523,
          0.12909004488079864,
          0.12990536261016353,
          0.13467296281148078,
          0.13805254718220417,
          0.14438807474171914,
          0.1529453598752888,
          0.1625070863892545,
          0.16250819629906715,
          0.1757038917162509,
          0.17716293979640224,
          0.1780599447698705,
          0.18079269111215998,
          0.18247116255493315,
          0.1855899251024561,
          0.1896910424419149,
          0.19927629841545935,
          0.20308307551658425,
          0.2161904244635477,
          0.22232972527509282,
          0.2344351855062118,
          0.2379193206580057,
          0.2390051160884407,
          0.24306849754168536,
          0.2601092608429248,
          0.2601992721196744,
          0.26421681547308984,
          0.27014046663865177,
          0.2708550073035849,
          0.27594902317087183,
          0.27816434345422025,
          0.2784461419560687,
          0.2802371552512525,
          0.2858139688525345,
          0.28643794334400147,
          0.28886502876355813,
          0.2944608213920319,
          0.29602852681481884,
          0.2960756966434919,
          0.2961995592966807,
          0.29912475878668054,
          0.3005422973803583,
          0.3022886935114209,
          0.3034434125140628,
          0.30344563233368793,
          0.3048728269216145,
          0.3188317867294182,
          0.31946020074375614,
          0.3221881746018687,
          0.3275375737691884,
          0.3310651051493959,
          0.3392041876242014,
          0.34123537879248556,
          0.34202172877186254,
          0.34932174200593413,
          0.3529226367139783,
          0.3578525006790343,
          0.36029523562910365,
          0.3648876972525112,
          0.36637660105705233,
          0.37125108241944266,
          0.3757493151786405,
          0.3768823914636438,
          0.38269261280239314,
          0.38297185805779294,
          0.38628318559357666,
          0.3880722003062702,
          0.38847320046854283,
          0.39025899729234903,
          0.3994844298615473,
          0.40198321310413543,
          0.40218998428627317,
          0.4110825637824164,
          0.41703074352423325,
          0.4191298591480479,
          0.4203362986445084,
          0.42446771651021337,
          0.4258428571774982,
          0.4262266541450031,
          0.427997134283223,
          0.4315213359339928,
          0.43432356086158497,
          0.4389186852444047,
          0.44188650401431145,
          0.44369993744115815,
          0.4438998271126303,
          0.4487091581539353,
          0.4521322494298296,
          0.4546223763767417,
          0.4570131688975817,
          0.45896378331347165,
          0.45952871192963296,
          0.4601197223207866,
          0.4687372741489903,
          0.47650598994907506,
          0.4853427434372486,
          0.4990617466090868,
          0.5227623443420808,
          0.5446033386345073
         ],
         "yaxis": "y"
        }
       ],
       "layout": {
        "autosize": true,
        "legend": {
         "title": {
          "text": "Country Name"
         },
         "tracegroupgap": 0
        },
        "template": {
         "data": {
          "bar": [
           {
            "error_x": {
             "color": "#2a3f5f"
            },
            "error_y": {
             "color": "#2a3f5f"
            },
            "marker": {
             "line": {
              "color": "#E5ECF6",
              "width": 0.5
             },
             "pattern": {
              "fillmode": "overlay",
              "size": 10,
              "solidity": 0.2
             }
            },
            "type": "bar"
           }
          ],
          "barpolar": [
           {
            "marker": {
             "line": {
              "color": "#E5ECF6",
              "width": 0.5
             },
             "pattern": {
              "fillmode": "overlay",
              "size": 10,
              "solidity": 0.2
             }
            },
            "type": "barpolar"
           }
          ],
          "carpet": [
           {
            "aaxis": {
             "endlinecolor": "#2a3f5f",
             "gridcolor": "white",
             "linecolor": "white",
             "minorgridcolor": "white",
             "startlinecolor": "#2a3f5f"
            },
            "baxis": {
             "endlinecolor": "#2a3f5f",
             "gridcolor": "white",
             "linecolor": "white",
             "minorgridcolor": "white",
             "startlinecolor": "#2a3f5f"
            },
            "type": "carpet"
           }
          ],
          "choropleth": [
           {
            "colorbar": {
             "outlinewidth": 0,
             "ticks": ""
            },
            "type": "choropleth"
           }
          ],
          "contour": [
           {
            "colorbar": {
             "outlinewidth": 0,
             "ticks": ""
            },
            "colorscale": [
             [
              0,
              "#0d0887"
             ],
             [
              0.1111111111111111,
              "#46039f"
             ],
             [
              0.2222222222222222,
              "#7201a8"
             ],
             [
              0.3333333333333333,
              "#9c179e"
             ],
             [
              0.4444444444444444,
              "#bd3786"
             ],
             [
              0.5555555555555556,
              "#d8576b"
             ],
             [
              0.6666666666666666,
              "#ed7953"
             ],
             [
              0.7777777777777778,
              "#fb9f3a"
             ],
             [
              0.8888888888888888,
              "#fdca26"
             ],
             [
              1,
              "#f0f921"
             ]
            ],
            "type": "contour"
           }
          ],
          "contourcarpet": [
           {
            "colorbar": {
             "outlinewidth": 0,
             "ticks": ""
            },
            "type": "contourcarpet"
           }
          ],
          "heatmap": [
           {
            "colorbar": {
             "outlinewidth": 0,
             "ticks": ""
            },
            "colorscale": [
             [
              0,
              "#0d0887"
             ],
             [
              0.1111111111111111,
              "#46039f"
             ],
             [
              0.2222222222222222,
              "#7201a8"
             ],
             [
              0.3333333333333333,
              "#9c179e"
             ],
             [
              0.4444444444444444,
              "#bd3786"
             ],
             [
              0.5555555555555556,
              "#d8576b"
             ],
             [
              0.6666666666666666,
              "#ed7953"
             ],
             [
              0.7777777777777778,
              "#fb9f3a"
             ],
             [
              0.8888888888888888,
              "#fdca26"
             ],
             [
              1,
              "#f0f921"
             ]
            ],
            "type": "heatmap"
           }
          ],
          "heatmapgl": [
           {
            "colorbar": {
             "outlinewidth": 0,
             "ticks": ""
            },
            "colorscale": [
             [
              0,
              "#0d0887"
             ],
             [
              0.1111111111111111,
              "#46039f"
             ],
             [
              0.2222222222222222,
              "#7201a8"
             ],
             [
              0.3333333333333333,
              "#9c179e"
             ],
             [
              0.4444444444444444,
              "#bd3786"
             ],
             [
              0.5555555555555556,
              "#d8576b"
             ],
             [
              0.6666666666666666,
              "#ed7953"
             ],
             [
              0.7777777777777778,
              "#fb9f3a"
             ],
             [
              0.8888888888888888,
              "#fdca26"
             ],
             [
              1,
              "#f0f921"
             ]
            ],
            "type": "heatmapgl"
           }
          ],
          "histogram": [
           {
            "marker": {
             "pattern": {
              "fillmode": "overlay",
              "size": 10,
              "solidity": 0.2
             }
            },
            "type": "histogram"
           }
          ],
          "histogram2d": [
           {
            "colorbar": {
             "outlinewidth": 0,
             "ticks": ""
            },
            "colorscale": [
             [
              0,
              "#0d0887"
             ],
             [
              0.1111111111111111,
              "#46039f"
             ],
             [
              0.2222222222222222,
              "#7201a8"
             ],
             [
              0.3333333333333333,
              "#9c179e"
             ],
             [
              0.4444444444444444,
              "#bd3786"
             ],
             [
              0.5555555555555556,
              "#d8576b"
             ],
             [
              0.6666666666666666,
              "#ed7953"
             ],
             [
              0.7777777777777778,
              "#fb9f3a"
             ],
             [
              0.8888888888888888,
              "#fdca26"
             ],
             [
              1,
              "#f0f921"
             ]
            ],
            "type": "histogram2d"
           }
          ],
          "histogram2dcontour": [
           {
            "colorbar": {
             "outlinewidth": 0,
             "ticks": ""
            },
            "colorscale": [
             [
              0,
              "#0d0887"
             ],
             [
              0.1111111111111111,
              "#46039f"
             ],
             [
              0.2222222222222222,
              "#7201a8"
             ],
             [
              0.3333333333333333,
              "#9c179e"
             ],
             [
              0.4444444444444444,
              "#bd3786"
             ],
             [
              0.5555555555555556,
              "#d8576b"
             ],
             [
              0.6666666666666666,
              "#ed7953"
             ],
             [
              0.7777777777777778,
              "#fb9f3a"
             ],
             [
              0.8888888888888888,
              "#fdca26"
             ],
             [
              1,
              "#f0f921"
             ]
            ],
            "type": "histogram2dcontour"
           }
          ],
          "mesh3d": [
           {
            "colorbar": {
             "outlinewidth": 0,
             "ticks": ""
            },
            "type": "mesh3d"
           }
          ],
          "parcoords": [
           {
            "line": {
             "colorbar": {
              "outlinewidth": 0,
              "ticks": ""
             }
            },
            "type": "parcoords"
           }
          ],
          "pie": [
           {
            "automargin": true,
            "type": "pie"
           }
          ],
          "scatter": [
           {
            "fillpattern": {
             "fillmode": "overlay",
             "size": 10,
             "solidity": 0.2
            },
            "type": "scatter"
           }
          ],
          "scatter3d": [
           {
            "line": {
             "colorbar": {
              "outlinewidth": 0,
              "ticks": ""
             }
            },
            "marker": {
             "colorbar": {
              "outlinewidth": 0,
              "ticks": ""
             }
            },
            "type": "scatter3d"
           }
          ],
          "scattercarpet": [
           {
            "marker": {
             "colorbar": {
              "outlinewidth": 0,
              "ticks": ""
             }
            },
            "type": "scattercarpet"
           }
          ],
          "scattergeo": [
           {
            "marker": {
             "colorbar": {
              "outlinewidth": 0,
              "ticks": ""
             }
            },
            "type": "scattergeo"
           }
          ],
          "scattergl": [
           {
            "marker": {
             "colorbar": {
              "outlinewidth": 0,
              "ticks": ""
             }
            },
            "type": "scattergl"
           }
          ],
          "scattermapbox": [
           {
            "marker": {
             "colorbar": {
              "outlinewidth": 0,
              "ticks": ""
             }
            },
            "type": "scattermapbox"
           }
          ],
          "scatterpolar": [
           {
            "marker": {
             "colorbar": {
              "outlinewidth": 0,
              "ticks": ""
             }
            },
            "type": "scatterpolar"
           }
          ],
          "scatterpolargl": [
           {
            "marker": {
             "colorbar": {
              "outlinewidth": 0,
              "ticks": ""
             }
            },
            "type": "scatterpolargl"
           }
          ],
          "scatterternary": [
           {
            "marker": {
             "colorbar": {
              "outlinewidth": 0,
              "ticks": ""
             }
            },
            "type": "scatterternary"
           }
          ],
          "surface": [
           {
            "colorbar": {
             "outlinewidth": 0,
             "ticks": ""
            },
            "colorscale": [
             [
              0,
              "#0d0887"
             ],
             [
              0.1111111111111111,
              "#46039f"
             ],
             [
              0.2222222222222222,
              "#7201a8"
             ],
             [
              0.3333333333333333,
              "#9c179e"
             ],
             [
              0.4444444444444444,
              "#bd3786"
             ],
             [
              0.5555555555555556,
              "#d8576b"
             ],
             [
              0.6666666666666666,
              "#ed7953"
             ],
             [
              0.7777777777777778,
              "#fb9f3a"
             ],
             [
              0.8888888888888888,
              "#fdca26"
             ],
             [
              1,
              "#f0f921"
             ]
            ],
            "type": "surface"
           }
          ],
          "table": [
           {
            "cells": {
             "fill": {
              "color": "#EBF0F8"
             },
             "line": {
              "color": "white"
             }
            },
            "header": {
             "fill": {
              "color": "#C8D4E3"
             },
             "line": {
              "color": "white"
             }
            },
            "type": "table"
           }
          ]
         },
         "layout": {
          "annotationdefaults": {
           "arrowcolor": "#2a3f5f",
           "arrowhead": 0,
           "arrowwidth": 1
          },
          "autotypenumbers": "strict",
          "coloraxis": {
           "colorbar": {
            "outlinewidth": 0,
            "ticks": ""
           }
          },
          "colorscale": {
           "diverging": [
            [
             0,
             "#8e0152"
            ],
            [
             0.1,
             "#c51b7d"
            ],
            [
             0.2,
             "#de77ae"
            ],
            [
             0.3,
             "#f1b6da"
            ],
            [
             0.4,
             "#fde0ef"
            ],
            [
             0.5,
             "#f7f7f7"
            ],
            [
             0.6,
             "#e6f5d0"
            ],
            [
             0.7,
             "#b8e186"
            ],
            [
             0.8,
             "#7fbc41"
            ],
            [
             0.9,
             "#4d9221"
            ],
            [
             1,
             "#276419"
            ]
           ],
           "sequential": [
            [
             0,
             "#0d0887"
            ],
            [
             0.1111111111111111,
             "#46039f"
            ],
            [
             0.2222222222222222,
             "#7201a8"
            ],
            [
             0.3333333333333333,
             "#9c179e"
            ],
            [
             0.4444444444444444,
             "#bd3786"
            ],
            [
             0.5555555555555556,
             "#d8576b"
            ],
            [
             0.6666666666666666,
             "#ed7953"
            ],
            [
             0.7777777777777778,
             "#fb9f3a"
            ],
            [
             0.8888888888888888,
             "#fdca26"
            ],
            [
             1,
             "#f0f921"
            ]
           ],
           "sequentialminus": [
            [
             0,
             "#0d0887"
            ],
            [
             0.1111111111111111,
             "#46039f"
            ],
            [
             0.2222222222222222,
             "#7201a8"
            ],
            [
             0.3333333333333333,
             "#9c179e"
            ],
            [
             0.4444444444444444,
             "#bd3786"
            ],
            [
             0.5555555555555556,
             "#d8576b"
            ],
            [
             0.6666666666666666,
             "#ed7953"
            ],
            [
             0.7777777777777778,
             "#fb9f3a"
            ],
            [
             0.8888888888888888,
             "#fdca26"
            ],
            [
             1,
             "#f0f921"
            ]
           ]
          },
          "colorway": [
           "#636efa",
           "#EF553B",
           "#00cc96",
           "#ab63fa",
           "#FFA15A",
           "#19d3f3",
           "#FF6692",
           "#B6E880",
           "#FF97FF",
           "#FECB52"
          ],
          "font": {
           "color": "#2a3f5f"
          },
          "geo": {
           "bgcolor": "white",
           "lakecolor": "white",
           "landcolor": "#E5ECF6",
           "showlakes": true,
           "showland": true,
           "subunitcolor": "white"
          },
          "hoverlabel": {
           "align": "left"
          },
          "hovermode": "closest",
          "mapbox": {
           "style": "light"
          },
          "paper_bgcolor": "white",
          "plot_bgcolor": "#E5ECF6",
          "polar": {
           "angularaxis": {
            "gridcolor": "white",
            "linecolor": "white",
            "ticks": ""
           },
           "bgcolor": "#E5ECF6",
           "radialaxis": {
            "gridcolor": "white",
            "linecolor": "white",
            "ticks": ""
           }
          },
          "scene": {
           "xaxis": {
            "backgroundcolor": "#E5ECF6",
            "gridcolor": "white",
            "gridwidth": 2,
            "linecolor": "white",
            "showbackground": true,
            "ticks": "",
            "zerolinecolor": "white"
           },
           "yaxis": {
            "backgroundcolor": "#E5ECF6",
            "gridcolor": "white",
            "gridwidth": 2,
            "linecolor": "white",
            "showbackground": true,
            "ticks": "",
            "zerolinecolor": "white"
           },
           "zaxis": {
            "backgroundcolor": "#E5ECF6",
            "gridcolor": "white",
            "gridwidth": 2,
            "linecolor": "white",
            "showbackground": true,
            "ticks": "",
            "zerolinecolor": "white"
           }
          },
          "shapedefaults": {
           "line": {
            "color": "#2a3f5f"
           }
          },
          "ternary": {
           "aaxis": {
            "gridcolor": "white",
            "linecolor": "white",
            "ticks": ""
           },
           "baxis": {
            "gridcolor": "white",
            "linecolor": "white",
            "ticks": ""
           },
           "bgcolor": "#E5ECF6",
           "caxis": {
            "gridcolor": "white",
            "linecolor": "white",
            "ticks": ""
           }
          },
          "title": {
           "x": 0.05
          },
          "xaxis": {
           "automargin": true,
           "gridcolor": "white",
           "linecolor": "white",
           "ticks": "",
           "title": {
            "standoff": 15
           },
           "zerolinecolor": "white",
           "zerolinewidth": 2
          },
          "yaxis": {
           "automargin": true,
           "gridcolor": "white",
           "linecolor": "white",
           "ticks": "",
           "title": {
            "standoff": 15
           },
           "zerolinecolor": "white",
           "zerolinewidth": 2
          }
         }
        },
        "title": {
         "text": "Relationship between Eating disorders and GDP per Capita"
        },
        "xaxis": {
         "anchor": "y",
         "autorange": true,
         "domain": [
          0,
          1
         ],
         "range": [
          5.582018018832409,
          12.013755202167593
         ],
         "title": {
          "text": "GDP per Capita"
         },
         "type": "linear"
        },
        "yaxis": {
         "anchor": "x",
         "autorange": true,
         "domain": [
          0,
          1
         ],
         "range": [
          -0.18102339134779338,
          1.0424915924321176
         ],
         "title": {
          "text": "Eating disorders (%)"
         },
         "type": "linear"
        }
       }
      },
      "text/html": [
       "<div>                            <div id=\"f6a89192-93d7-4a00-9d22-8242945e5667\" class=\"plotly-graph-div\" style=\"height:300px; width:100%;\"></div>            <script type=\"text/javascript\">                require([\"plotly\"], function(Plotly) {                    window.PLOTLYENV=window.PLOTLYENV || {};                                    if (document.getElementById(\"f6a89192-93d7-4a00-9d22-8242945e5667\")) {                    Plotly.newPlot(                        \"f6a89192-93d7-4a00-9d22-8242945e5667\",                        [{\"hovertemplate\":\"Country Name=Afghanistan\\u003cbr\\u003eLog GDP Per Capita=%{x}\\u003cbr\\u003eEating disorders (%)=%{y}\\u003cextra\\u003e\\u003c\\u002fextra\\u003e\",\"legendgroup\":\"Afghanistan\",\"marker\":{\"color\":\"#636efa\",\"symbol\":\"circle\"},\"mode\":\"markers\",\"name\":\"Afghanistan\",\"orientation\":\"v\",\"showlegend\":true,\"x\":[7.647830486],\"xaxis\":\"x\",\"y\":[0.107142],\"yaxis\":\"y\",\"type\":\"scatter\"},{\"hovertemplate\":\"Country Name=Albania\\u003cbr\\u003eLog GDP Per Capita=%{x}\\u003cbr\\u003eEating disorders (%)=%{y}\\u003cextra\\u003e\\u003c\\u002fextra\\u003e\",\"legendgroup\":\"Albania\",\"marker\":{\"color\":\"#EF553B\",\"symbol\":\"circle\"},\"mode\":\"markers\",\"name\":\"Albania\",\"orientation\":\"v\",\"showlegend\":true,\"x\":[9.455109596],\"xaxis\":\"x\",\"y\":[0.174046],\"yaxis\":\"y\",\"type\":\"scatter\"},{\"hovertemplate\":\"Country Name=Argentina\\u003cbr\\u003eLog GDP Per Capita=%{x}\\u003cbr\\u003eEating disorders (%)=%{y}\\u003cextra\\u003e\\u003c\\u002fextra\\u003e\",\"legendgroup\":\"Argentina\",\"marker\":{\"color\":\"#00cc96\",\"symbol\":\"circle\"},\"mode\":\"markers\",\"name\":\"Argentina\",\"orientation\":\"v\",\"showlegend\":true,\"x\":[10.06888008],\"xaxis\":\"x\",\"y\":[0.404033],\"yaxis\":\"y\",\"type\":\"scatter\"},{\"hovertemplate\":\"Country Name=Armenia\\u003cbr\\u003eLog GDP Per Capita=%{x}\\u003cbr\\u003eEating disorders (%)=%{y}\\u003cextra\\u003e\\u003c\\u002fextra\\u003e\",\"legendgroup\":\"Armenia\",\"marker\":{\"color\":\"#ab63fa\",\"symbol\":\"circle\"},\"mode\":\"markers\",\"name\":\"Armenia\",\"orientation\":\"v\",\"showlegend\":true,\"x\":[9.434254646],\"xaxis\":\"x\",\"y\":[0.167047],\"yaxis\":\"y\",\"type\":\"scatter\"},{\"hovertemplate\":\"Country Name=Australia\\u003cbr\\u003eLog GDP Per Capita=%{x}\\u003cbr\\u003eEating disorders (%)=%{y}\\u003cextra\\u003e\\u003c\\u002fextra\\u003e\",\"legendgroup\":\"Australia\",\"marker\":{\"color\":\"#FFA15A\",\"symbol\":\"circle\"},\"mode\":\"markers\",\"name\":\"Australia\",\"orientation\":\"v\",\"showlegend\":true,\"x\":[10.78726006],\"xaxis\":\"x\",\"y\":[0.943081],\"yaxis\":\"y\",\"type\":\"scatter\"},{\"hovertemplate\":\"Country Name=Austria\\u003cbr\\u003eLog GDP Per Capita=%{x}\\u003cbr\\u003eEating disorders (%)=%{y}\\u003cextra\\u003e\\u003c\\u002fextra\\u003e\",\"legendgroup\":\"Austria\",\"marker\":{\"color\":\"#19d3f3\",\"symbol\":\"circle\"},\"mode\":\"markers\",\"name\":\"Austria\",\"orientation\":\"v\",\"showlegend\":true,\"x\":[10.89993763],\"xaxis\":\"x\",\"y\":[0.675112],\"yaxis\":\"y\",\"type\":\"scatter\"},{\"hovertemplate\":\"Country Name=Azerbaijan\\u003cbr\\u003eLog GDP Per Capita=%{x}\\u003cbr\\u003eEating disorders (%)=%{y}\\u003cextra\\u003e\\u003c\\u002fextra\\u003e\",\"legendgroup\":\"Azerbaijan\",\"marker\":{\"color\":\"#FF6692\",\"symbol\":\"circle\"},\"mode\":\"markers\",\"name\":\"Azerbaijan\",\"orientation\":\"v\",\"showlegend\":true,\"x\":[9.555447578],\"xaxis\":\"x\",\"y\":[0.204891],\"yaxis\":\"y\",\"type\":\"scatter\"},{\"hovertemplate\":\"Country Name=Bangladesh\\u003cbr\\u003eLog GDP Per Capita=%{x}\\u003cbr\\u003eEating disorders (%)=%{y}\\u003cextra\\u003e\\u003c\\u002fextra\\u003e\",\"legendgroup\":\"Bangladesh\",\"marker\":{\"color\":\"#B6E880\",\"symbol\":\"circle\"},\"mode\":\"markers\",\"name\":\"Bangladesh\",\"orientation\":\"v\",\"showlegend\":true,\"x\":[8.482762337],\"xaxis\":\"x\",\"y\":[0.137974],\"yaxis\":\"y\",\"type\":\"scatter\"},{\"hovertemplate\":\"Country Name=Belarus\\u003cbr\\u003eLog GDP Per Capita=%{x}\\u003cbr\\u003eEating disorders (%)=%{y}\\u003cextra\\u003e\\u003c\\u002fextra\\u003e\",\"legendgroup\":\"Belarus\",\"marker\":{\"color\":\"#FF97FF\",\"symbol\":\"circle\"},\"mode\":\"markers\",\"name\":\"Belarus\",\"orientation\":\"v\",\"showlegend\":true,\"x\":[9.817717552],\"xaxis\":\"x\",\"y\":[0.210693],\"yaxis\":\"y\",\"type\":\"scatter\"},{\"hovertemplate\":\"Country Name=Belgium\\u003cbr\\u003eLog GDP Per Capita=%{x}\\u003cbr\\u003eEating disorders (%)=%{y}\\u003cextra\\u003e\\u003c\\u002fextra\\u003e\",\"legendgroup\":\"Belgium\",\"marker\":{\"color\":\"#FECB52\",\"symbol\":\"circle\"},\"mode\":\"markers\",\"name\":\"Belgium\",\"orientation\":\"v\",\"showlegend\":true,\"x\":[10.82858467],\"xaxis\":\"x\",\"y\":[0.603869],\"yaxis\":\"y\",\"type\":\"scatter\"},{\"hovertemplate\":\"Country Name=Benin\\u003cbr\\u003eLog GDP Per Capita=%{x}\\u003cbr\\u003eEating disorders (%)=%{y}\\u003cextra\\u003e\\u003c\\u002fextra\\u003e\",\"legendgroup\":\"Benin\",\"marker\":{\"color\":\"#636efa\",\"symbol\":\"circle\"},\"mode\":\"markers\",\"name\":\"Benin\",\"orientation\":\"v\",\"showlegend\":true,\"x\":[7.984066486],\"xaxis\":\"x\",\"y\":[0.12029],\"yaxis\":\"y\",\"type\":\"scatter\"},{\"hovertemplate\":\"Country Name=Bolivia\\u003cbr\\u003eLog GDP Per Capita=%{x}\\u003cbr\\u003eEating disorders (%)=%{y}\\u003cextra\\u003e\\u003c\\u002fextra\\u003e\",\"legendgroup\":\"Bolivia\",\"marker\":{\"color\":\"#EF553B\",\"symbol\":\"circle\"},\"mode\":\"markers\",\"name\":\"Bolivia\",\"orientation\":\"v\",\"showlegend\":true,\"x\":[9.017354012],\"xaxis\":\"x\",\"y\":[0.305251],\"yaxis\":\"y\",\"type\":\"scatter\"},{\"hovertemplate\":\"Country Name=Bosnia and Herzegovina\\u003cbr\\u003eLog GDP Per Capita=%{x}\\u003cbr\\u003eEating disorders (%)=%{y}\\u003cextra\\u003e\\u003c\\u002fextra\\u003e\",\"legendgroup\":\"Bosnia and Herzegovina\",\"marker\":{\"color\":\"#00cc96\",\"symbol\":\"circle\"},\"mode\":\"markers\",\"name\":\"Bosnia and Herzegovina\",\"orientation\":\"v\",\"showlegend\":true,\"x\":[9.503191948],\"xaxis\":\"x\",\"y\":[0.172474],\"yaxis\":\"y\",\"type\":\"scatter\"},{\"hovertemplate\":\"Country Name=Botswana\\u003cbr\\u003eLog GDP Per Capita=%{x}\\u003cbr\\u003eEating disorders (%)=%{y}\\u003cextra\\u003e\\u003c\\u002fextra\\u003e\",\"legendgroup\":\"Botswana\",\"marker\":{\"color\":\"#ab63fa\",\"symbol\":\"circle\"},\"mode\":\"markers\",\"name\":\"Botswana\",\"orientation\":\"v\",\"showlegend\":true,\"x\":[9.592658043],\"xaxis\":\"x\",\"y\":[0.227733],\"yaxis\":\"y\",\"type\":\"scatter\"},{\"hovertemplate\":\"Country Name=Brazil\\u003cbr\\u003eLog GDP Per Capita=%{x}\\u003cbr\\u003eEating disorders (%)=%{y}\\u003cextra\\u003e\\u003c\\u002fextra\\u003e\",\"legendgroup\":\"Brazil\",\"marker\":{\"color\":\"#FFA15A\",\"symbol\":\"circle\"},\"mode\":\"markers\",\"name\":\"Brazil\",\"orientation\":\"v\",\"showlegend\":true,\"x\":[9.580375671],\"xaxis\":\"x\",\"y\":[0.277051],\"yaxis\":\"y\",\"type\":\"scatter\"},{\"hovertemplate\":\"Country Name=Bulgaria\\u003cbr\\u003eLog GDP Per Capita=%{x}\\u003cbr\\u003eEating disorders (%)=%{y}\\u003cextra\\u003e\\u003c\\u002fextra\\u003e\",\"legendgroup\":\"Bulgaria\",\"marker\":{\"color\":\"#19d3f3\",\"symbol\":\"circle\"},\"mode\":\"markers\",\"name\":\"Bulgaria\",\"orientation\":\"v\",\"showlegend\":true,\"x\":[9.974589348],\"xaxis\":\"x\",\"y\":[0.202411],\"yaxis\":\"y\",\"type\":\"scatter\"},{\"hovertemplate\":\"Country Name=Burkina Faso\\u003cbr\\u003eLog GDP Per Capita=%{x}\\u003cbr\\u003eEating disorders (%)=%{y}\\u003cextra\\u003e\\u003c\\u002fextra\\u003e\",\"legendgroup\":\"Burkina Faso\",\"marker\":{\"color\":\"#FF6692\",\"symbol\":\"circle\"},\"mode\":\"markers\",\"name\":\"Burkina Faso\",\"orientation\":\"v\",\"showlegend\":true,\"x\":[7.589920044],\"xaxis\":\"x\",\"y\":[0.113354],\"yaxis\":\"y\",\"type\":\"scatter\"},{\"hovertemplate\":\"Country Name=Cambodia\\u003cbr\\u003eLog GDP Per Capita=%{x}\\u003cbr\\u003eEating disorders (%)=%{y}\\u003cextra\\u003e\\u003c\\u002fextra\\u003e\",\"legendgroup\":\"Cambodia\",\"marker\":{\"color\":\"#B6E880\",\"symbol\":\"circle\"},\"mode\":\"markers\",\"name\":\"Cambodia\",\"orientation\":\"v\",\"showlegend\":true,\"x\":[8.287207603],\"xaxis\":\"x\",\"y\":[0.108379],\"yaxis\":\"y\",\"type\":\"scatter\"},{\"hovertemplate\":\"Country Name=Cameroon\\u003cbr\\u003eLog GDP Per Capita=%{x}\\u003cbr\\u003eEating disorders (%)=%{y}\\u003cextra\\u003e\\u003c\\u002fextra\\u003e\",\"legendgroup\":\"Cameroon\",\"marker\":{\"color\":\"#FF97FF\",\"symbol\":\"circle\"},\"mode\":\"markers\",\"name\":\"Cameroon\",\"orientation\":\"v\",\"showlegend\":true,\"x\":[8.21367836],\"xaxis\":\"x\",\"y\":[0.13379],\"yaxis\":\"y\",\"type\":\"scatter\"},{\"hovertemplate\":\"Country Name=Canada\\u003cbr\\u003eLog GDP Per Capita=%{x}\\u003cbr\\u003eEating disorders (%)=%{y}\\u003cextra\\u003e\\u003c\\u002fextra\\u003e\",\"legendgroup\":\"Canada\",\"marker\":{\"color\":\"#FECB52\",\"symbol\":\"circle\"},\"mode\":\"markers\",\"name\":\"Canada\",\"orientation\":\"v\",\"showlegend\":true,\"x\":[10.78554249],\"xaxis\":\"x\",\"y\":[0.477304],\"yaxis\":\"y\",\"type\":\"scatter\"},{\"hovertemplate\":\"Country Name=Chad\\u003cbr\\u003eLog GDP Per Capita=%{x}\\u003cbr\\u003eEating disorders (%)=%{y}\\u003cextra\\u003e\\u003c\\u002fextra\\u003e\",\"legendgroup\":\"Chad\",\"marker\":{\"color\":\"#636efa\",\"symbol\":\"circle\"},\"mode\":\"markers\",\"name\":\"Chad\",\"orientation\":\"v\",\"showlegend\":true,\"x\":[7.365028381],\"xaxis\":\"x\",\"y\":[0.122129],\"yaxis\":\"y\",\"type\":\"scatter\"},{\"hovertemplate\":\"Country Name=Chile\\u003cbr\\u003eLog GDP Per Capita=%{x}\\u003cbr\\u003eEating disorders (%)=%{y}\\u003cextra\\u003e\\u003c\\u002fextra\\u003e\",\"legendgroup\":\"Chile\",\"marker\":{\"color\":\"#EF553B\",\"symbol\":\"circle\"},\"mode\":\"markers\",\"name\":\"Chile\",\"orientation\":\"v\",\"showlegend\":true,\"x\":[10.10834122],\"xaxis\":\"x\",\"y\":[0.416123],\"yaxis\":\"y\",\"type\":\"scatter\"},{\"hovertemplate\":\"Country Name=Colombia\\u003cbr\\u003eLog GDP Per Capita=%{x}\\u003cbr\\u003eEating disorders (%)=%{y}\\u003cextra\\u003e\\u003c\\u002fextra\\u003e\",\"legendgroup\":\"Colombia\",\"marker\":{\"color\":\"#00cc96\",\"symbol\":\"circle\"},\"mode\":\"markers\",\"name\":\"Colombia\",\"orientation\":\"v\",\"showlegend\":true,\"x\":[9.570453644],\"xaxis\":\"x\",\"y\":[0.260257],\"yaxis\":\"y\",\"type\":\"scatter\"},{\"hovertemplate\":\"Country Name=Costa Rica\\u003cbr\\u003eLog GDP Per Capita=%{x}\\u003cbr\\u003eEating disorders (%)=%{y}\\u003cextra\\u003e\\u003c\\u002fextra\\u003e\",\"legendgroup\":\"Costa Rica\",\"marker\":{\"color\":\"#ab63fa\",\"symbol\":\"circle\"},\"mode\":\"markers\",\"name\":\"Costa Rica\",\"orientation\":\"v\",\"showlegend\":true,\"x\":[9.911863327],\"xaxis\":\"x\",\"y\":[0.289342],\"yaxis\":\"y\",\"type\":\"scatter\"},{\"hovertemplate\":\"Country Name=Croatia\\u003cbr\\u003eLog GDP Per Capita=%{x}\\u003cbr\\u003eEating disorders (%)=%{y}\\u003cextra\\u003e\\u003c\\u002fextra\\u003e\",\"legendgroup\":\"Croatia\",\"marker\":{\"color\":\"#FFA15A\",\"symbol\":\"circle\"},\"mode\":\"markers\",\"name\":\"Croatia\",\"orientation\":\"v\",\"showlegend\":true,\"x\":[10.21140671],\"xaxis\":\"x\",\"y\":[0.217975],\"yaxis\":\"y\",\"type\":\"scatter\"},{\"hovertemplate\":\"Country Name=Cyprus\\u003cbr\\u003eLog GDP Per Capita=%{x}\\u003cbr\\u003eEating disorders (%)=%{y}\\u003cextra\\u003e\\u003c\\u002fextra\\u003e\",\"legendgroup\":\"Cyprus\",\"marker\":{\"color\":\"#19d3f3\",\"symbol\":\"circle\"},\"mode\":\"markers\",\"name\":\"Cyprus\",\"orientation\":\"v\",\"showlegend\":true,\"x\":[10.55638504],\"xaxis\":\"x\",\"y\":[0.506721],\"yaxis\":\"y\",\"type\":\"scatter\"},{\"hovertemplate\":\"Country Name=Denmark\\u003cbr\\u003eLog GDP Per Capita=%{x}\\u003cbr\\u003eEating disorders (%)=%{y}\\u003cextra\\u003e\\u003c\\u002fextra\\u003e\",\"legendgroup\":\"Denmark\",\"marker\":{\"color\":\"#FF6692\",\"symbol\":\"circle\"},\"mode\":\"markers\",\"name\":\"Denmark\",\"orientation\":\"v\",\"showlegend\":true,\"x\":[10.92155266],\"xaxis\":\"x\",\"y\":[0.540025],\"yaxis\":\"y\",\"type\":\"scatter\"},{\"hovertemplate\":\"Country Name=Dominican Republic\\u003cbr\\u003eLog GDP Per Capita=%{x}\\u003cbr\\u003eEating disorders (%)=%{y}\\u003cextra\\u003e\\u003c\\u002fextra\\u003e\",\"legendgroup\":\"Dominican Republic\",\"marker\":{\"color\":\"#B6E880\",\"symbol\":\"circle\"},\"mode\":\"markers\",\"name\":\"Dominican Republic\",\"orientation\":\"v\",\"showlegend\":true,\"x\":[9.712601662],\"xaxis\":\"x\",\"y\":[0.303058],\"yaxis\":\"y\",\"type\":\"scatter\"},{\"hovertemplate\":\"Country Name=Ecuador\\u003cbr\\u003eLog GDP Per Capita=%{x}\\u003cbr\\u003eEating disorders (%)=%{y}\\u003cextra\\u003e\\u003c\\u002fextra\\u003e\",\"legendgroup\":\"Ecuador\",\"marker\":{\"color\":\"#FF97FF\",\"symbol\":\"circle\"},\"mode\":\"markers\",\"name\":\"Ecuador\",\"orientation\":\"v\",\"showlegend\":true,\"x\":[9.365584373],\"xaxis\":\"x\",\"y\":[0.363733],\"yaxis\":\"y\",\"type\":\"scatter\"},{\"hovertemplate\":\"Country Name=El Salvador\\u003cbr\\u003eLog GDP Per Capita=%{x}\\u003cbr\\u003eEating disorders (%)=%{y}\\u003cextra\\u003e\\u003c\\u002fextra\\u003e\",\"legendgroup\":\"El Salvador\",\"marker\":{\"color\":\"#FECB52\",\"symbol\":\"circle\"},\"mode\":\"markers\",\"name\":\"El Salvador\",\"orientation\":\"v\",\"showlegend\":true,\"x\":[9.061598778],\"xaxis\":\"x\",\"y\":[0.243873],\"yaxis\":\"y\",\"type\":\"scatter\"},{\"hovertemplate\":\"Country Name=Estonia\\u003cbr\\u003eLog GDP Per Capita=%{x}\\u003cbr\\u003eEating disorders (%)=%{y}\\u003cextra\\u003e\\u003c\\u002fextra\\u003e\",\"legendgroup\":\"Estonia\",\"marker\":{\"color\":\"#636efa\",\"symbol\":\"circle\"},\"mode\":\"markers\",\"name\":\"Estonia\",\"orientation\":\"v\",\"showlegend\":true,\"x\":[10.42886448],\"xaxis\":\"x\",\"y\":[0.250271],\"yaxis\":\"y\",\"type\":\"scatter\"},{\"hovertemplate\":\"Country Name=Ethiopia\\u003cbr\\u003eLog GDP Per Capita=%{x}\\u003cbr\\u003eEating disorders (%)=%{y}\\u003cextra\\u003e\\u003c\\u002fextra\\u003e\",\"legendgroup\":\"Ethiopia\",\"marker\":{\"color\":\"#EF553B\",\"symbol\":\"circle\"},\"mode\":\"markers\",\"name\":\"Ethiopia\",\"orientation\":\"v\",\"showlegend\":true,\"x\":[7.59486866],\"xaxis\":\"x\",\"y\":[0.109817],\"yaxis\":\"y\",\"type\":\"scatter\"},{\"hovertemplate\":\"Country Name=Finland\\u003cbr\\u003eLog GDP Per Capita=%{x}\\u003cbr\\u003eEating disorders (%)=%{y}\\u003cextra\\u003e\\u003c\\u002fextra\\u003e\",\"legendgroup\":\"Finland\",\"marker\":{\"color\":\"#00cc96\",\"symbol\":\"circle\"},\"mode\":\"markers\",\"name\":\"Finland\",\"orientation\":\"v\",\"showlegend\":true,\"x\":[10.7699604],\"xaxis\":\"x\",\"y\":[0.594938],\"yaxis\":\"y\",\"type\":\"scatter\"},{\"hovertemplate\":\"Country Name=France\\u003cbr\\u003eLog GDP Per Capita=%{x}\\u003cbr\\u003eEating disorders (%)=%{y}\\u003cextra\\u003e\\u003c\\u002fextra\\u003e\",\"legendgroup\":\"France\",\"marker\":{\"color\":\"#ab63fa\",\"symbol\":\"circle\"},\"mode\":\"markers\",\"name\":\"France\",\"orientation\":\"v\",\"showlegend\":true,\"x\":[10.70497513],\"xaxis\":\"x\",\"y\":[0.573755],\"yaxis\":\"y\",\"type\":\"scatter\"},{\"hovertemplate\":\"Country Name=Gabon\\u003cbr\\u003eLog GDP Per Capita=%{x}\\u003cbr\\u003eEating disorders (%)=%{y}\\u003cextra\\u003e\\u003c\\u002fextra\\u003e\",\"legendgroup\":\"Gabon\",\"marker\":{\"color\":\"#FFA15A\",\"symbol\":\"circle\"},\"mode\":\"markers\",\"name\":\"Gabon\",\"orientation\":\"v\",\"showlegend\":true,\"x\":[9.580394745],\"xaxis\":\"x\",\"y\":[0.226577],\"yaxis\":\"y\",\"type\":\"scatter\"},{\"hovertemplate\":\"Country Name=Gambia\\u003cbr\\u003eLog GDP Per Capita=%{x}\\u003cbr\\u003eEating disorders (%)=%{y}\\u003cextra\\u003e\\u003c\\u002fextra\\u003e\",\"legendgroup\":\"Gambia\",\"marker\":{\"color\":\"#19d3f3\",\"symbol\":\"circle\"},\"mode\":\"markers\",\"name\":\"Gambia\",\"orientation\":\"v\",\"showlegend\":true,\"x\":[7.563740253],\"xaxis\":\"x\",\"y\":[0.113298],\"yaxis\":\"y\",\"type\":\"scatter\"},{\"hovertemplate\":\"Country Name=Georgia\\u003cbr\\u003eLog GDP Per Capita=%{x}\\u003cbr\\u003eEating disorders (%)=%{y}\\u003cextra\\u003e\\u003c\\u002fextra\\u003e\",\"legendgroup\":\"Georgia\",\"marker\":{\"color\":\"#FF6692\",\"symbol\":\"circle\"},\"mode\":\"markers\",\"name\":\"Georgia\",\"orientation\":\"v\",\"showlegend\":true,\"x\":[9.517067909],\"xaxis\":\"x\",\"y\":[0.17164],\"yaxis\":\"y\",\"type\":\"scatter\"},{\"hovertemplate\":\"Country Name=Germany\\u003cbr\\u003eLog GDP Per Capita=%{x}\\u003cbr\\u003eEating disorders (%)=%{y}\\u003cextra\\u003e\\u003c\\u002fextra\\u003e\",\"legendgroup\":\"Germany\",\"marker\":{\"color\":\"#B6E880\",\"symbol\":\"circle\"},\"mode\":\"markers\",\"name\":\"Germany\",\"orientation\":\"v\",\"showlegend\":true,\"x\":[10.87939453],\"xaxis\":\"x\",\"y\":[0.522066],\"yaxis\":\"y\",\"type\":\"scatter\"},{\"hovertemplate\":\"Country Name=Ghana\\u003cbr\\u003eLog GDP Per Capita=%{x}\\u003cbr\\u003eEating disorders (%)=%{y}\\u003cextra\\u003e\\u003c\\u002fextra\\u003e\",\"legendgroup\":\"Ghana\",\"marker\":{\"color\":\"#FF97FF\",\"symbol\":\"circle\"},\"mode\":\"markers\",\"name\":\"Ghana\",\"orientation\":\"v\",\"showlegend\":true,\"x\":[8.503006935],\"xaxis\":\"x\",\"y\":[0.147452],\"yaxis\":\"y\",\"type\":\"scatter\"},{\"hovertemplate\":\"Country Name=Greece\\u003cbr\\u003eLog GDP Per Capita=%{x}\\u003cbr\\u003eEating disorders (%)=%{y}\\u003cextra\\u003e\\u003c\\u002fextra\\u003e\",\"legendgroup\":\"Greece\",\"marker\":{\"color\":\"#FECB52\",\"symbol\":\"circle\"},\"mode\":\"markers\",\"name\":\"Greece\",\"orientation\":\"v\",\"showlegend\":true,\"x\":[10.26133156],\"xaxis\":\"x\",\"y\":[0.559324],\"yaxis\":\"y\",\"type\":\"scatter\"},{\"hovertemplate\":\"Country Name=Guatemala\\u003cbr\\u003eLog GDP Per Capita=%{x}\\u003cbr\\u003eEating disorders (%)=%{y}\\u003cextra\\u003e\\u003c\\u002fextra\\u003e\",\"legendgroup\":\"Guatemala\",\"marker\":{\"color\":\"#636efa\",\"symbol\":\"circle\"},\"mode\":\"markers\",\"name\":\"Guatemala\",\"orientation\":\"v\",\"showlegend\":true,\"x\":[9.026683807],\"xaxis\":\"x\",\"y\":[0.23211],\"yaxis\":\"y\",\"type\":\"scatter\"},{\"hovertemplate\":\"Country Name=Guinea\\u003cbr\\u003eLog GDP Per Capita=%{x}\\u003cbr\\u003eEating disorders (%)=%{y}\\u003cextra\\u003e\\u003c\\u002fextra\\u003e\",\"legendgroup\":\"Guinea\",\"marker\":{\"color\":\"#EF553B\",\"symbol\":\"circle\"},\"mode\":\"markers\",\"name\":\"Guinea\",\"orientation\":\"v\",\"showlegend\":true,\"x\":[7.776358128],\"xaxis\":\"x\",\"y\":[0.112388],\"yaxis\":\"y\",\"type\":\"scatter\"},{\"hovertemplate\":\"Country Name=Haiti\\u003cbr\\u003eLog GDP Per Capita=%{x}\\u003cbr\\u003eEating disorders (%)=%{y}\\u003cextra\\u003e\\u003c\\u002fextra\\u003e\",\"legendgroup\":\"Haiti\",\"marker\":{\"color\":\"#00cc96\",\"symbol\":\"circle\"},\"mode\":\"markers\",\"name\":\"Haiti\",\"orientation\":\"v\",\"showlegend\":true,\"x\":[8.067083359],\"xaxis\":\"x\",\"y\":[0.16079],\"yaxis\":\"y\",\"type\":\"scatter\"},{\"hovertemplate\":\"Country Name=Honduras\\u003cbr\\u003eLog GDP Per Capita=%{x}\\u003cbr\\u003eEating disorders (%)=%{y}\\u003cextra\\u003e\\u003c\\u002fextra\\u003e\",\"legendgroup\":\"Honduras\",\"marker\":{\"color\":\"#ab63fa\",\"symbol\":\"circle\"},\"mode\":\"markers\",\"name\":\"Honduras\",\"orientation\":\"v\",\"showlegend\":true,\"x\":[8.602948189],\"xaxis\":\"x\",\"y\":[0.203339],\"yaxis\":\"y\",\"type\":\"scatter\"},{\"hovertemplate\":\"Country Name=Hungary\\u003cbr\\u003eLog GDP Per Capita=%{x}\\u003cbr\\u003eEating disorders (%)=%{y}\\u003cextra\\u003e\\u003c\\u002fextra\\u003e\",\"legendgroup\":\"Hungary\",\"marker\":{\"color\":\"#FFA15A\",\"symbol\":\"circle\"},\"mode\":\"markers\",\"name\":\"Hungary\",\"orientation\":\"v\",\"showlegend\":true,\"x\":[10.29218388],\"xaxis\":\"x\",\"y\":[0.237686],\"yaxis\":\"y\",\"type\":\"scatter\"},{\"hovertemplate\":\"Country Name=Iceland\\u003cbr\\u003eLog GDP Per Capita=%{x}\\u003cbr\\u003eEating disorders (%)=%{y}\\u003cextra\\u003e\\u003c\\u002fextra\\u003e\",\"legendgroup\":\"Iceland\",\"marker\":{\"color\":\"#19d3f3\",\"symbol\":\"circle\"},\"mode\":\"markers\",\"name\":\"Iceland\",\"orientation\":\"v\",\"showlegend\":true,\"x\":[10.92663097],\"xaxis\":\"x\",\"y\":[0.558014],\"yaxis\":\"y\",\"type\":\"scatter\"},{\"hovertemplate\":\"Country Name=India\\u003cbr\\u003eLog GDP Per Capita=%{x}\\u003cbr\\u003eEating disorders (%)=%{y}\\u003cextra\\u003e\\u003c\\u002fextra\\u003e\",\"legendgroup\":\"India\",\"marker\":{\"color\":\"#FF6692\",\"symbol\":\"circle\"},\"mode\":\"markers\",\"name\":\"India\",\"orientation\":\"v\",\"showlegend\":true,\"x\":[8.718020439],\"xaxis\":\"x\",\"y\":[0.157758],\"yaxis\":\"y\",\"type\":\"scatter\"},{\"hovertemplate\":\"Country Name=Indonesia\\u003cbr\\u003eLog GDP Per Capita=%{x}\\u003cbr\\u003eEating disorders (%)=%{y}\\u003cextra\\u003e\\u003c\\u002fextra\\u003e\",\"legendgroup\":\"Indonesia\",\"marker\":{\"color\":\"#B6E880\",\"symbol\":\"circle\"},\"mode\":\"markers\",\"name\":\"Indonesia\",\"orientation\":\"v\",\"showlegend\":true,\"x\":[9.300356865],\"xaxis\":\"x\",\"y\":[0.148782],\"yaxis\":\"y\",\"type\":\"scatter\"},{\"hovertemplate\":\"Country Name=Iraq\\u003cbr\\u003eLog GDP Per Capita=%{x}\\u003cbr\\u003eEating disorders (%)=%{y}\\u003cextra\\u003e\\u003c\\u002fextra\\u003e\",\"legendgroup\":\"Iraq\",\"marker\":{\"color\":\"#FF97FF\",\"symbol\":\"circle\"},\"mode\":\"markers\",\"name\":\"Iraq\",\"orientation\":\"v\",\"showlegend\":true,\"x\":[9.208023071],\"xaxis\":\"x\",\"y\":[0.208672],\"yaxis\":\"y\",\"type\":\"scatter\"},{\"hovertemplate\":\"Country Name=Ireland\\u003cbr\\u003eLog GDP Per Capita=%{x}\\u003cbr\\u003eEating disorders (%)=%{y}\\u003cextra\\u003e\\u003c\\u002fextra\\u003e\",\"legendgroup\":\"Ireland\",\"marker\":{\"color\":\"#FECB52\",\"symbol\":\"circle\"},\"mode\":\"markers\",\"name\":\"Ireland\",\"orientation\":\"v\",\"showlegend\":true,\"x\":[11.26124382],\"xaxis\":\"x\",\"y\":[0.559995],\"yaxis\":\"y\",\"type\":\"scatter\"},{\"hovertemplate\":\"Country Name=Israel\\u003cbr\\u003eLog GDP Per Capita=%{x}\\u003cbr\\u003eEating disorders (%)=%{y}\\u003cextra\\u003e\\u003c\\u002fextra\\u003e\",\"legendgroup\":\"Israel\",\"marker\":{\"color\":\"#636efa\",\"symbol\":\"circle\"},\"mode\":\"markers\",\"name\":\"Israel\",\"orientation\":\"v\",\"showlegend\":true,\"x\":[10.57442188],\"xaxis\":\"x\",\"y\":[0.461175],\"yaxis\":\"y\",\"type\":\"scatter\"},{\"hovertemplate\":\"Country Name=Italy\\u003cbr\\u003eLog GDP Per Capita=%{x}\\u003cbr\\u003eEating disorders (%)=%{y}\\u003cextra\\u003e\\u003c\\u002fextra\\u003e\",\"legendgroup\":\"Italy\",\"marker\":{\"color\":\"#EF553B\",\"symbol\":\"circle\"},\"mode\":\"markers\",\"name\":\"Italy\",\"orientation\":\"v\",\"showlegend\":true,\"x\":[10.63540173],\"xaxis\":\"x\",\"y\":[0.626784],\"yaxis\":\"y\",\"type\":\"scatter\"},{\"hovertemplate\":\"Country Name=Jamaica\\u003cbr\\u003eLog GDP Per Capita=%{x}\\u003cbr\\u003eEating disorders (%)=%{y}\\u003cextra\\u003e\\u003c\\u002fextra\\u003e\",\"legendgroup\":\"Jamaica\",\"marker\":{\"color\":\"#00cc96\",\"symbol\":\"circle\"},\"mode\":\"markers\",\"name\":\"Jamaica\",\"orientation\":\"v\",\"showlegend\":true,\"x\":[9.208796501],\"xaxis\":\"x\",\"y\":[0.25965],\"yaxis\":\"y\",\"type\":\"scatter\"},{\"hovertemplate\":\"Country Name=Japan\\u003cbr\\u003eLog GDP Per Capita=%{x}\\u003cbr\\u003eEating disorders (%)=%{y}\\u003cextra\\u003e\\u003c\\u002fextra\\u003e\",\"legendgroup\":\"Japan\",\"marker\":{\"color\":\"#ab63fa\",\"symbol\":\"circle\"},\"mode\":\"markers\",\"name\":\"Japan\",\"orientation\":\"v\",\"showlegend\":true,\"x\":[10.63210392],\"xaxis\":\"x\",\"y\":[0.454379],\"yaxis\":\"y\",\"type\":\"scatter\"},{\"hovertemplate\":\"Country Name=Kazakhstan\\u003cbr\\u003eLog GDP Per Capita=%{x}\\u003cbr\\u003eEating disorders (%)=%{y}\\u003cextra\\u003e\\u003c\\u002fextra\\u003e\",\"legendgroup\":\"Kazakhstan\",\"marker\":{\"color\":\"#FFA15A\",\"symbol\":\"circle\"},\"mode\":\"markers\",\"name\":\"Kazakhstan\",\"orientation\":\"v\",\"showlegend\":true,\"x\":[10.12113476],\"xaxis\":\"x\",\"y\":[0.227918],\"yaxis\":\"y\",\"type\":\"scatter\"},{\"hovertemplate\":\"Country Name=Kenya\\u003cbr\\u003eLog GDP Per Capita=%{x}\\u003cbr\\u003eEating disorders (%)=%{y}\\u003cextra\\u003e\\u003c\\u002fextra\\u003e\",\"legendgroup\":\"Kenya\",\"marker\":{\"color\":\"#19d3f3\",\"symbol\":\"circle\"},\"mode\":\"markers\",\"name\":\"Kenya\",\"orientation\":\"v\",\"showlegend\":true,\"x\":[8.369367599],\"xaxis\":\"x\",\"y\":[0.135005],\"yaxis\":\"y\",\"type\":\"scatter\"},{\"hovertemplate\":\"Country Name=Kyrgyzstan\\u003cbr\\u003eLog GDP Per Capita=%{x}\\u003cbr\\u003eEating disorders (%)=%{y}\\u003cextra\\u003e\\u003c\\u002fextra\\u003e\",\"legendgroup\":\"Kyrgyzstan\",\"marker\":{\"color\":\"#FF6692\",\"symbol\":\"circle\"},\"mode\":\"markers\",\"name\":\"Kyrgyzstan\",\"orientation\":\"v\",\"showlegend\":true,\"x\":[8.526488304],\"xaxis\":\"x\",\"y\":[0.127525],\"yaxis\":\"y\",\"type\":\"scatter\"},{\"hovertemplate\":\"Country Name=Laos\\u003cbr\\u003eLog GDP Per Capita=%{x}\\u003cbr\\u003eEating disorders (%)=%{y}\\u003cextra\\u003e\\u003c\\u002fextra\\u003e\",\"legendgroup\":\"Laos\",\"marker\":{\"color\":\"#B6E880\",\"symbol\":\"circle\"},\"mode\":\"markers\",\"name\":\"Laos\",\"orientation\":\"v\",\"showlegend\":true,\"x\":[8.88339901],\"xaxis\":\"x\",\"y\":[0.128172],\"yaxis\":\"y\",\"type\":\"scatter\"},{\"hovertemplate\":\"Country Name=Latvia\\u003cbr\\u003eLog GDP Per Capita=%{x}\\u003cbr\\u003eEating disorders (%)=%{y}\\u003cextra\\u003e\\u003c\\u002fextra\\u003e\",\"legendgroup\":\"Latvia\",\"marker\":{\"color\":\"#FF97FF\",\"symbol\":\"circle\"},\"mode\":\"markers\",\"name\":\"Latvia\",\"orientation\":\"v\",\"showlegend\":true,\"x\":[10.263731],\"xaxis\":\"x\",\"y\":[0.225275],\"yaxis\":\"y\",\"type\":\"scatter\"},{\"hovertemplate\":\"Country Name=Lebanon\\u003cbr\\u003eLog GDP Per Capita=%{x}\\u003cbr\\u003eEating disorders (%)=%{y}\\u003cextra\\u003e\\u003c\\u002fextra\\u003e\",\"legendgroup\":\"Lebanon\",\"marker\":{\"color\":\"#FECB52\",\"symbol\":\"circle\"},\"mode\":\"markers\",\"name\":\"Lebanon\",\"orientation\":\"v\",\"showlegend\":true,\"x\":[9.787406921],\"xaxis\":\"x\",\"y\":[0.219049],\"yaxis\":\"y\",\"type\":\"scatter\"},{\"hovertemplate\":\"Country Name=Lesotho\\u003cbr\\u003eLog GDP Per Capita=%{x}\\u003cbr\\u003eEating disorders (%)=%{y}\\u003cextra\\u003e\\u003c\\u002fextra\\u003e\",\"legendgroup\":\"Lesotho\",\"marker\":{\"color\":\"#636efa\",\"symbol\":\"circle\"},\"mode\":\"markers\",\"name\":\"Lesotho\",\"orientation\":\"v\",\"showlegend\":true,\"x\":[7.852320194],\"xaxis\":\"x\",\"y\":[0.136801],\"yaxis\":\"y\",\"type\":\"scatter\"},{\"hovertemplate\":\"Country Name=Liberia\\u003cbr\\u003eLog GDP Per Capita=%{x}\\u003cbr\\u003eEating disorders (%)=%{y}\\u003cextra\\u003e\\u003c\\u002fextra\\u003e\",\"legendgroup\":\"Liberia\",\"marker\":{\"color\":\"#EF553B\",\"symbol\":\"circle\"},\"mode\":\"markers\",\"name\":\"Liberia\",\"orientation\":\"v\",\"showlegend\":true,\"x\":[7.335249901],\"xaxis\":\"x\",\"y\":[0.091591],\"yaxis\":\"y\",\"type\":\"scatter\"},{\"hovertemplate\":\"Country Name=Lithuania\\u003cbr\\u003eLog GDP Per Capita=%{x}\\u003cbr\\u003eEating disorders (%)=%{y}\\u003cextra\\u003e\\u003c\\u002fextra\\u003e\",\"legendgroup\":\"Lithuania\",\"marker\":{\"color\":\"#00cc96\",\"symbol\":\"circle\"},\"mode\":\"markers\",\"name\":\"Lithuania\",\"orientation\":\"v\",\"showlegend\":true,\"x\":[10.42708778],\"xaxis\":\"x\",\"y\":[0.234095],\"yaxis\":\"y\",\"type\":\"scatter\"},{\"hovertemplate\":\"Country Name=Luxembourg\\u003cbr\\u003eLog GDP Per Capita=%{x}\\u003cbr\\u003eEating disorders (%)=%{y}\\u003cextra\\u003e\\u003c\\u002fextra\\u003e\",\"legendgroup\":\"Luxembourg\",\"marker\":{\"color\":\"#ab63fa\",\"symbol\":\"circle\"},\"mode\":\"markers\",\"name\":\"Luxembourg\",\"orientation\":\"v\",\"showlegend\":true,\"x\":[11.65256405],\"xaxis\":\"x\",\"y\":[0.737917],\"yaxis\":\"y\",\"type\":\"scatter\"},{\"hovertemplate\":\"Country Name=Madagascar\\u003cbr\\u003eLog GDP Per Capita=%{x}\\u003cbr\\u003eEating disorders (%)=%{y}\\u003cextra\\u003e\\u003c\\u002fextra\\u003e\",\"legendgroup\":\"Madagascar\",\"marker\":{\"color\":\"#FFA15A\",\"symbol\":\"circle\"},\"mode\":\"markers\",\"name\":\"Madagascar\",\"orientation\":\"v\",\"showlegend\":true,\"x\":[7.344820023],\"xaxis\":\"x\",\"y\":[0.106417],\"yaxis\":\"y\",\"type\":\"scatter\"},{\"hovertemplate\":\"Country Name=Malawi\\u003cbr\\u003eLog GDP Per Capita=%{x}\\u003cbr\\u003eEating disorders (%)=%{y}\\u003cextra\\u003e\\u003c\\u002fextra\\u003e\",\"legendgroup\":\"Malawi\",\"marker\":{\"color\":\"#19d3f3\",\"symbol\":\"circle\"},\"mode\":\"markers\",\"name\":\"Malawi\",\"orientation\":\"v\",\"showlegend\":true,\"x\":[7.282608032],\"xaxis\":\"x\",\"y\":[0.100349],\"yaxis\":\"y\",\"type\":\"scatter\"},{\"hovertemplate\":\"Country Name=Mali\\u003cbr\\u003eLog GDP Per Capita=%{x}\\u003cbr\\u003eEating disorders (%)=%{y}\\u003cextra\\u003e\\u003c\\u002fextra\\u003e\",\"legendgroup\":\"Mali\",\"marker\":{\"color\":\"#FF6692\",\"symbol\":\"circle\"},\"mode\":\"markers\",\"name\":\"Mali\",\"orientation\":\"v\",\"showlegend\":true,\"x\":[7.675010204],\"xaxis\":\"x\",\"y\":[0.116675],\"yaxis\":\"y\",\"type\":\"scatter\"},{\"hovertemplate\":\"Country Name=Malta\\u003cbr\\u003eLog GDP Per Capita=%{x}\\u003cbr\\u003eEating disorders (%)=%{y}\\u003cextra\\u003e\\u003c\\u002fextra\\u003e\",\"legendgroup\":\"Malta\",\"marker\":{\"color\":\"#B6E880\",\"symbol\":\"circle\"},\"mode\":\"markers\",\"name\":\"Malta\",\"orientation\":\"v\",\"showlegend\":true,\"x\":[10.68089676],\"xaxis\":\"x\",\"y\":[0.51914],\"yaxis\":\"y\",\"type\":\"scatter\"},{\"hovertemplate\":\"Country Name=Mauritania\\u003cbr\\u003eLog GDP Per Capita=%{x}\\u003cbr\\u003eEating disorders (%)=%{y}\\u003cextra\\u003e\\u003c\\u002fextra\\u003e\",\"legendgroup\":\"Mauritania\",\"marker\":{\"color\":\"#FF97FF\",\"symbol\":\"circle\"},\"mode\":\"markers\",\"name\":\"Mauritania\",\"orientation\":\"v\",\"showlegend\":true,\"x\":[8.567708969],\"xaxis\":\"x\",\"y\":[0.145276],\"yaxis\":\"y\",\"type\":\"scatter\"},{\"hovertemplate\":\"Country Name=Mauritius\\u003cbr\\u003eLog GDP Per Capita=%{x}\\u003cbr\\u003eEating disorders (%)=%{y}\\u003cextra\\u003e\\u003c\\u002fextra\\u003e\",\"legendgroup\":\"Mauritius\",\"marker\":{\"color\":\"#FECB52\",\"symbol\":\"circle\"},\"mode\":\"markers\",\"name\":\"Mauritius\",\"orientation\":\"v\",\"showlegend\":true,\"x\":[10.00553036],\"xaxis\":\"x\",\"y\":[0.184433],\"yaxis\":\"y\",\"type\":\"scatter\"},{\"hovertemplate\":\"Country Name=Mexico\\u003cbr\\u003eLog GDP Per Capita=%{x}\\u003cbr\\u003eEating disorders (%)=%{y}\\u003cextra\\u003e\\u003c\\u002fextra\\u003e\",\"legendgroup\":\"Mexico\",\"marker\":{\"color\":\"#636efa\",\"symbol\":\"circle\"},\"mode\":\"markers\",\"name\":\"Mexico\",\"orientation\":\"v\",\"showlegend\":true,\"x\":[9.905106544],\"xaxis\":\"x\",\"y\":[0.316975],\"yaxis\":\"y\",\"type\":\"scatter\"},{\"hovertemplate\":\"Country Name=Moldova\\u003cbr\\u003eLog GDP Per Capita=%{x}\\u003cbr\\u003eEating disorders (%)=%{y}\\u003cextra\\u003e\\u003c\\u002fextra\\u003e\",\"legendgroup\":\"Moldova\",\"marker\":{\"color\":\"#EF553B\",\"symbol\":\"circle\"},\"mode\":\"markers\",\"name\":\"Moldova\",\"orientation\":\"v\",\"showlegend\":true,\"x\":[9.363162994],\"xaxis\":\"x\",\"y\":[0.141701],\"yaxis\":\"y\",\"type\":\"scatter\"},{\"hovertemplate\":\"Country Name=Mongolia\\u003cbr\\u003eLog GDP Per Capita=%{x}\\u003cbr\\u003eEating disorders (%)=%{y}\\u003cextra\\u003e\\u003c\\u002fextra\\u003e\",\"legendgroup\":\"Mongolia\",\"marker\":{\"color\":\"#00cc96\",\"symbol\":\"circle\"},\"mode\":\"markers\",\"name\":\"Mongolia\",\"orientation\":\"v\",\"showlegend\":true,\"x\":[9.344127655],\"xaxis\":\"x\",\"y\":[0.180157],\"yaxis\":\"y\",\"type\":\"scatter\"},{\"hovertemplate\":\"Country Name=Montenegro\\u003cbr\\u003eLog GDP Per Capita=%{x}\\u003cbr\\u003eEating disorders (%)=%{y}\\u003cextra\\u003e\\u003c\\u002fextra\\u003e\",\"legendgroup\":\"Montenegro\",\"marker\":{\"color\":\"#ab63fa\",\"symbol\":\"circle\"},\"mode\":\"markers\",\"name\":\"Montenegro\",\"orientation\":\"v\",\"showlegend\":true,\"x\":[9.887653351],\"xaxis\":\"x\",\"y\":[0.194161],\"yaxis\":\"y\",\"type\":\"scatter\"},{\"hovertemplate\":\"Country Name=Mozambique\\u003cbr\\u003eLog GDP Per Capita=%{x}\\u003cbr\\u003eEating disorders (%)=%{y}\\u003cextra\\u003e\\u003c\\u002fextra\\u003e\",\"legendgroup\":\"Mozambique\",\"marker\":{\"color\":\"#FFA15A\",\"symbol\":\"circle\"},\"mode\":\"markers\",\"name\":\"Mozambique\",\"orientation\":\"v\",\"showlegend\":true,\"x\":[7.160251617],\"xaxis\":\"x\",\"y\":[0.103227],\"yaxis\":\"y\",\"type\":\"scatter\"},{\"hovertemplate\":\"Country Name=Myanmar\\u003cbr\\u003eLog GDP Per Capita=%{x}\\u003cbr\\u003eEating disorders (%)=%{y}\\u003cextra\\u003e\\u003c\\u002fextra\\u003e\",\"legendgroup\":\"Myanmar\",\"marker\":{\"color\":\"#19d3f3\",\"symbol\":\"circle\"},\"mode\":\"markers\",\"name\":\"Myanmar\",\"orientation\":\"v\",\"showlegend\":true,\"x\":[8.369377136],\"xaxis\":\"x\",\"y\":[0.125738],\"yaxis\":\"y\",\"type\":\"scatter\"},{\"hovertemplate\":\"Country Name=Namibia\\u003cbr\\u003eLog GDP Per Capita=%{x}\\u003cbr\\u003eEating disorders (%)=%{y}\\u003cextra\\u003e\\u003c\\u002fextra\\u003e\",\"legendgroup\":\"Namibia\",\"marker\":{\"color\":\"#FF6692\",\"symbol\":\"circle\"},\"mode\":\"markers\",\"name\":\"Namibia\",\"orientation\":\"v\",\"showlegend\":true,\"x\":[9.243317604],\"xaxis\":\"x\",\"y\":[0.200987],\"yaxis\":\"y\",\"type\":\"scatter\"},{\"hovertemplate\":\"Country Name=Nepal\\u003cbr\\u003eLog GDP Per Capita=%{x}\\u003cbr\\u003eEating disorders (%)=%{y}\\u003cextra\\u003e\\u003c\\u002fextra\\u003e\",\"legendgroup\":\"Nepal\",\"marker\":{\"color\":\"#B6E880\",\"symbol\":\"circle\"},\"mode\":\"markers\",\"name\":\"Nepal\",\"orientation\":\"v\",\"showlegend\":true,\"x\":[8.159239769],\"xaxis\":\"x\",\"y\":[0.128495],\"yaxis\":\"y\",\"type\":\"scatter\"},{\"hovertemplate\":\"Country Name=Netherlands\\u003cbr\\u003eLog GDP Per Capita=%{x}\\u003cbr\\u003eEating disorders (%)=%{y}\\u003cextra\\u003e\\u003c\\u002fextra\\u003e\",\"legendgroup\":\"Netherlands\",\"marker\":{\"color\":\"#FF97FF\",\"symbol\":\"circle\"},\"mode\":\"markers\",\"name\":\"Netherlands\",\"orientation\":\"v\",\"showlegend\":true,\"x\":[10.91669846],\"xaxis\":\"x\",\"y\":[0.467844],\"yaxis\":\"y\",\"type\":\"scatter\"},{\"hovertemplate\":\"Country Name=New Zealand\\u003cbr\\u003eLog GDP Per Capita=%{x}\\u003cbr\\u003eEating disorders (%)=%{y}\\u003cextra\\u003e\\u003c\\u002fextra\\u003e\",\"legendgroup\":\"New Zealand\",\"marker\":{\"color\":\"#FECB52\",\"symbol\":\"circle\"},\"mode\":\"markers\",\"name\":\"New Zealand\",\"orientation\":\"v\",\"showlegend\":true,\"x\":[10.65061474],\"xaxis\":\"x\",\"y\":[0.67329],\"yaxis\":\"y\",\"type\":\"scatter\"},{\"hovertemplate\":\"Country Name=Nicaragua\\u003cbr\\u003eLog GDP Per Capita=%{x}\\u003cbr\\u003eEating disorders (%)=%{y}\\u003cextra\\u003e\\u003c\\u002fextra\\u003e\",\"legendgroup\":\"Nicaragua\",\"marker\":{\"color\":\"#636efa\",\"symbol\":\"circle\"},\"mode\":\"markers\",\"name\":\"Nicaragua\",\"orientation\":\"v\",\"showlegend\":true,\"x\":[8.685310364],\"xaxis\":\"x\",\"y\":[0.205876],\"yaxis\":\"y\",\"type\":\"scatter\"},{\"hovertemplate\":\"Country Name=Niger\\u003cbr\\u003eLog GDP Per Capita=%{x}\\u003cbr\\u003eEating disorders (%)=%{y}\\u003cextra\\u003e\\u003c\\u002fextra\\u003e\",\"legendgroup\":\"Niger\",\"marker\":{\"color\":\"#EF553B\",\"symbol\":\"circle\"},\"mode\":\"markers\",\"name\":\"Niger\",\"orientation\":\"v\",\"showlegend\":true,\"x\":[7.052698135],\"xaxis\":\"x\",\"y\":[0.096116],\"yaxis\":\"y\",\"type\":\"scatter\"},{\"hovertemplate\":\"Country Name=Nigeria\\u003cbr\\u003eLog GDP Per Capita=%{x}\\u003cbr\\u003eEating disorders (%)=%{y}\\u003cextra\\u003e\\u003c\\u002fextra\\u003e\",\"legendgroup\":\"Nigeria\",\"marker\":{\"color\":\"#00cc96\",\"symbol\":\"circle\"},\"mode\":\"markers\",\"name\":\"Nigeria\",\"orientation\":\"v\",\"showlegend\":true,\"x\":[8.540910721],\"xaxis\":\"x\",\"y\":[0.163373],\"yaxis\":\"y\",\"type\":\"scatter\"},{\"hovertemplate\":\"Country Name=Norway\\u003cbr\\u003eLog GDP Per Capita=%{x}\\u003cbr\\u003eEating disorders (%)=%{y}\\u003cextra\\u003e\\u003c\\u002fextra\\u003e\",\"legendgroup\":\"Norway\",\"marker\":{\"color\":\"#ab63fa\",\"symbol\":\"circle\"},\"mode\":\"markers\",\"name\":\"Norway\",\"orientation\":\"v\",\"showlegend\":true,\"x\":[11.06743145],\"xaxis\":\"x\",\"y\":[0.570363],\"yaxis\":\"y\",\"type\":\"scatter\"},{\"hovertemplate\":\"Country Name=Pakistan\\u003cbr\\u003eLog GDP Per Capita=%{x}\\u003cbr\\u003eEating disorders (%)=%{y}\\u003cextra\\u003e\\u003c\\u002fextra\\u003e\",\"legendgroup\":\"Pakistan\",\"marker\":{\"color\":\"#FFA15A\",\"symbol\":\"circle\"},\"mode\":\"markers\",\"name\":\"Pakistan\",\"orientation\":\"v\",\"showlegend\":true,\"x\":[8.495299339],\"xaxis\":\"x\",\"y\":[0.154583],\"yaxis\":\"y\",\"type\":\"scatter\"},{\"hovertemplate\":\"Country Name=Panama\\u003cbr\\u003eLog GDP Per Capita=%{x}\\u003cbr\\u003eEating disorders (%)=%{y}\\u003cextra\\u003e\\u003c\\u002fextra\\u003e\",\"legendgroup\":\"Panama\",\"marker\":{\"color\":\"#19d3f3\",\"symbol\":\"circle\"},\"mode\":\"markers\",\"name\":\"Panama\",\"orientation\":\"v\",\"showlegend\":true,\"x\":[10.3263464],\"xaxis\":\"x\",\"y\":[0.31665],\"yaxis\":\"y\",\"type\":\"scatter\"},{\"hovertemplate\":\"Country Name=Paraguay\\u003cbr\\u003eLog GDP Per Capita=%{x}\\u003cbr\\u003eEating disorders (%)=%{y}\\u003cextra\\u003e\\u003c\\u002fextra\\u003e\",\"legendgroup\":\"Paraguay\",\"marker\":{\"color\":\"#FF6692\",\"symbol\":\"circle\"},\"mode\":\"markers\",\"name\":\"Paraguay\",\"orientation\":\"v\",\"showlegend\":true,\"x\":[9.51813221],\"xaxis\":\"x\",\"y\":[0.238288],\"yaxis\":\"y\",\"type\":\"scatter\"},{\"hovertemplate\":\"Country Name=Peru\\u003cbr\\u003eLog GDP Per Capita=%{x}\\u003cbr\\u003eEating disorders (%)=%{y}\\u003cextra\\u003e\\u003c\\u002fextra\\u003e\",\"legendgroup\":\"Peru\",\"marker\":{\"color\":\"#B6E880\",\"symbol\":\"circle\"},\"mode\":\"markers\",\"name\":\"Peru\",\"orientation\":\"v\",\"showlegend\":true,\"x\":[9.428893089],\"xaxis\":\"x\",\"y\":[0.369216],\"yaxis\":\"y\",\"type\":\"scatter\"},{\"hovertemplate\":\"Country Name=Philippines\\u003cbr\\u003eLog GDP Per Capita=%{x}\\u003cbr\\u003eEating disorders (%)=%{y}\\u003cextra\\u003e\\u003c\\u002fextra\\u003e\",\"legendgroup\":\"Philippines\",\"marker\":{\"color\":\"#FF97FF\",\"symbol\":\"circle\"},\"mode\":\"markers\",\"name\":\"Philippines\",\"orientation\":\"v\",\"showlegend\":true,\"x\":[8.987416267],\"xaxis\":\"x\",\"y\":[0.134855],\"yaxis\":\"y\",\"type\":\"scatter\"},{\"hovertemplate\":\"Country Name=Poland\\u003cbr\\u003eLog GDP Per Capita=%{x}\\u003cbr\\u003eEating disorders (%)=%{y}\\u003cextra\\u003e\\u003c\\u002fextra\\u003e\",\"legendgroup\":\"Poland\",\"marker\":{\"color\":\"#FECB52\",\"symbol\":\"circle\"},\"mode\":\"markers\",\"name\":\"Poland\",\"orientation\":\"v\",\"showlegend\":true,\"x\":[10.30755615],\"xaxis\":\"x\",\"y\":[0.229485],\"yaxis\":\"y\",\"type\":\"scatter\"},{\"hovertemplate\":\"Country Name=Portugal\\u003cbr\\u003eLog GDP Per Capita=%{x}\\u003cbr\\u003eEating disorders (%)=%{y}\\u003cextra\\u003e\\u003c\\u002fextra\\u003e\",\"legendgroup\":\"Portugal\",\"marker\":{\"color\":\"#636efa\",\"symbol\":\"circle\"},\"mode\":\"markers\",\"name\":\"Portugal\",\"orientation\":\"v\",\"showlegend\":true,\"x\":[10.40561676],\"xaxis\":\"x\",\"y\":[0.513079],\"yaxis\":\"y\",\"type\":\"scatter\"},{\"hovertemplate\":\"Country Name=Romania\\u003cbr\\u003eLog GDP Per Capita=%{x}\\u003cbr\\u003eEating disorders (%)=%{y}\\u003cextra\\u003e\\u003c\\u002fextra\\u003e\",\"legendgroup\":\"Romania\",\"marker\":{\"color\":\"#EF553B\",\"symbol\":\"circle\"},\"mode\":\"markers\",\"name\":\"Romania\",\"orientation\":\"v\",\"showlegend\":true,\"x\":[10.20167065],\"xaxis\":\"x\",\"y\":[0.2007],\"yaxis\":\"y\",\"type\":\"scatter\"},{\"hovertemplate\":\"Country Name=Russia\\u003cbr\\u003eLog GDP Per Capita=%{x}\\u003cbr\\u003eEating disorders (%)=%{y}\\u003cextra\\u003e\\u003c\\u002fextra\\u003e\",\"legendgroup\":\"Russia\",\"marker\":{\"color\":\"#00cc96\",\"symbol\":\"circle\"},\"mode\":\"markers\",\"name\":\"Russia\",\"orientation\":\"v\",\"showlegend\":true,\"x\":[10.16301918],\"xaxis\":\"x\",\"y\":[0.232375],\"yaxis\":\"y\",\"type\":\"scatter\"},{\"hovertemplate\":\"Country Name=Rwanda\\u003cbr\\u003eLog GDP Per Capita=%{x}\\u003cbr\\u003eEating disorders (%)=%{y}\\u003cextra\\u003e\\u003c\\u002fextra\\u003e\",\"legendgroup\":\"Rwanda\",\"marker\":{\"color\":\"#ab63fa\",\"symbol\":\"circle\"},\"mode\":\"markers\",\"name\":\"Rwanda\",\"orientation\":\"v\",\"showlegend\":true,\"x\":[7.567848682],\"xaxis\":\"x\",\"y\":[0.115817],\"yaxis\":\"y\",\"type\":\"scatter\"},{\"hovertemplate\":\"Country Name=Senegal\\u003cbr\\u003eLog GDP Per Capita=%{x}\\u003cbr\\u003eEating disorders (%)=%{y}\\u003cextra\\u003e\\u003c\\u002fextra\\u003e\",\"legendgroup\":\"Senegal\",\"marker\":{\"color\":\"#FFA15A\",\"symbol\":\"circle\"},\"mode\":\"markers\",\"name\":\"Senegal\",\"orientation\":\"v\",\"showlegend\":true,\"x\":[8.089234352],\"xaxis\":\"x\",\"y\":[0.12529],\"yaxis\":\"y\",\"type\":\"scatter\"},{\"hovertemplate\":\"Country Name=Serbia\\u003cbr\\u003eLog GDP Per Capita=%{x}\\u003cbr\\u003eEating disorders (%)=%{y}\\u003cextra\\u003e\\u003c\\u002fextra\\u003e\",\"legendgroup\":\"Serbia\",\"marker\":{\"color\":\"#19d3f3\",\"symbol\":\"circle\"},\"mode\":\"markers\",\"name\":\"Serbia\",\"orientation\":\"v\",\"showlegend\":true,\"x\":[9.718001366],\"xaxis\":\"x\",\"y\":[0.187147],\"yaxis\":\"y\",\"type\":\"scatter\"},{\"hovertemplate\":\"Country Name=Sierra Leone\\u003cbr\\u003eLog GDP Per Capita=%{x}\\u003cbr\\u003eEating disorders (%)=%{y}\\u003cextra\\u003e\\u003c\\u002fextra\\u003e\",\"legendgroup\":\"Sierra Leone\",\"marker\":{\"color\":\"#FF6692\",\"symbol\":\"circle\"},\"mode\":\"markers\",\"name\":\"Sierra Leone\",\"orientation\":\"v\",\"showlegend\":true,\"x\":[7.373677731],\"xaxis\":\"x\",\"y\":[0.109799],\"yaxis\":\"y\",\"type\":\"scatter\"},{\"hovertemplate\":\"Country Name=Singapore\\u003cbr\\u003eLog GDP Per Capita=%{x}\\u003cbr\\u003eEating disorders (%)=%{y}\\u003cextra\\u003e\\u003c\\u002fextra\\u003e\",\"legendgroup\":\"Singapore\",\"marker\":{\"color\":\"#B6E880\",\"symbol\":\"circle\"},\"mode\":\"markers\",\"name\":\"Singapore\",\"orientation\":\"v\",\"showlegend\":true,\"x\":[11.46489334],\"xaxis\":\"x\",\"y\":[0.553712],\"yaxis\":\"y\",\"type\":\"scatter\"},{\"hovertemplate\":\"Country Name=Slovakia\\u003cbr\\u003eLog GDP Per Capita=%{x}\\u003cbr\\u003eEating disorders (%)=%{y}\\u003cextra\\u003e\\u003c\\u002fextra\\u003e\",\"legendgroup\":\"Slovakia\",\"marker\":{\"color\":\"#FF97FF\",\"symbol\":\"circle\"},\"mode\":\"markers\",\"name\":\"Slovakia\",\"orientation\":\"v\",\"showlegend\":true,\"x\":[10.31100178],\"xaxis\":\"x\",\"y\":[0.235475],\"yaxis\":\"y\",\"type\":\"scatter\"},{\"hovertemplate\":\"Country Name=Slovenia\\u003cbr\\u003eLog GDP Per Capita=%{x}\\u003cbr\\u003eEating disorders (%)=%{y}\\u003cextra\\u003e\\u003c\\u002fextra\\u003e\",\"legendgroup\":\"Slovenia\",\"marker\":{\"color\":\"#FECB52\",\"symbol\":\"circle\"},\"mode\":\"markers\",\"name\":\"Slovenia\",\"orientation\":\"v\",\"showlegend\":true,\"x\":[10.50527477],\"xaxis\":\"x\",\"y\":[0.239636],\"yaxis\":\"y\",\"type\":\"scatter\"},{\"hovertemplate\":\"Country Name=South Africa\\u003cbr\\u003eLog GDP Per Capita=%{x}\\u003cbr\\u003eEating disorders (%)=%{y}\\u003cextra\\u003e\\u003c\\u002fextra\\u003e\",\"legendgroup\":\"South Africa\",\"marker\":{\"color\":\"#636efa\",\"symbol\":\"circle\"},\"mode\":\"markers\",\"name\":\"South Africa\",\"orientation\":\"v\",\"showlegend\":true,\"x\":[9.54326725],\"xaxis\":\"x\",\"y\":[0.214718],\"yaxis\":\"y\",\"type\":\"scatter\"},{\"hovertemplate\":\"Country Name=South Korea\\u003cbr\\u003eLog GDP Per Capita=%{x}\\u003cbr\\u003eEating disorders (%)=%{y}\\u003cextra\\u003e\\u003c\\u002fextra\\u003e\",\"legendgroup\":\"South Korea\",\"marker\":{\"color\":\"#EF553B\",\"symbol\":\"circle\"},\"mode\":\"markers\",\"name\":\"South Korea\",\"orientation\":\"v\",\"showlegend\":true,\"x\":[10.6202879],\"xaxis\":\"x\",\"y\":[0.417103],\"yaxis\":\"y\",\"type\":\"scatter\"},{\"hovertemplate\":\"Country Name=Spain\\u003cbr\\u003eLog GDP Per Capita=%{x}\\u003cbr\\u003eEating disorders (%)=%{y}\\u003cextra\\u003e\\u003c\\u002fextra\\u003e\",\"legendgroup\":\"Spain\",\"marker\":{\"color\":\"#00cc96\",\"symbol\":\"circle\"},\"mode\":\"markers\",\"name\":\"Spain\",\"orientation\":\"v\",\"showlegend\":true,\"x\":[10.58478832],\"xaxis\":\"x\",\"y\":[0.730626],\"yaxis\":\"y\",\"type\":\"scatter\"},{\"hovertemplate\":\"Country Name=Sri Lanka\\u003cbr\\u003eLog GDP Per Capita=%{x}\\u003cbr\\u003eEating disorders (%)=%{y}\\u003cextra\\u003e\\u003c\\u002fextra\\u003e\",\"legendgroup\":\"Sri Lanka\",\"marker\":{\"color\":\"#ab63fa\",\"symbol\":\"circle\"},\"mode\":\"markers\",\"name\":\"Sri Lanka\",\"orientation\":\"v\",\"showlegend\":true,\"x\":[9.516662598],\"xaxis\":\"x\",\"y\":[0.159144],\"yaxis\":\"y\",\"type\":\"scatter\"},{\"hovertemplate\":\"Country Name=Sweden\\u003cbr\\u003eLog GDP Per Capita=%{x}\\u003cbr\\u003eEating disorders (%)=%{y}\\u003cextra\\u003e\\u003c\\u002fextra\\u003e\",\"legendgroup\":\"Sweden\",\"marker\":{\"color\":\"#FFA15A\",\"symbol\":\"circle\"},\"mode\":\"markers\",\"name\":\"Sweden\",\"orientation\":\"v\",\"showlegend\":true,\"x\":[10.85799789],\"xaxis\":\"x\",\"y\":[0.574608],\"yaxis\":\"y\",\"type\":\"scatter\"},{\"hovertemplate\":\"Country Name=Switzerland\\u003cbr\\u003eLog GDP Per Capita=%{x}\\u003cbr\\u003eEating disorders (%)=%{y}\\u003cextra\\u003e\\u003c\\u002fextra\\u003e\",\"legendgroup\":\"Switzerland\",\"marker\":{\"color\":\"#19d3f3\",\"symbol\":\"circle\"},\"mode\":\"markers\",\"name\":\"Switzerland\",\"orientation\":\"v\",\"showlegend\":true,\"x\":[11.14336205],\"xaxis\":\"x\",\"y\":[0.573969],\"yaxis\":\"y\",\"type\":\"scatter\"},{\"hovertemplate\":\"Country Name=Tajikistan\\u003cbr\\u003eLog GDP Per Capita=%{x}\\u003cbr\\u003eEating disorders (%)=%{y}\\u003cextra\\u003e\\u003c\\u002fextra\\u003e\",\"legendgroup\":\"Tajikistan\",\"marker\":{\"color\":\"#FF6692\",\"symbol\":\"circle\"},\"mode\":\"markers\",\"name\":\"Tajikistan\",\"orientation\":\"v\",\"showlegend\":true,\"x\":[8.082228661],\"xaxis\":\"x\",\"y\":[0.118226],\"yaxis\":\"y\",\"type\":\"scatter\"},{\"hovertemplate\":\"Country Name=Tanzania\\u003cbr\\u003eLog GDP Per Capita=%{x}\\u003cbr\\u003eEating disorders (%)=%{y}\\u003cextra\\u003e\\u003c\\u002fextra\\u003e\",\"legendgroup\":\"Tanzania\",\"marker\":{\"color\":\"#B6E880\",\"symbol\":\"circle\"},\"mode\":\"markers\",\"name\":\"Tanzania\",\"orientation\":\"v\",\"showlegend\":true,\"x\":[7.80724287],\"xaxis\":\"x\",\"y\":[0.129857],\"yaxis\":\"y\",\"type\":\"scatter\"},{\"hovertemplate\":\"Country Name=Thailand\\u003cbr\\u003eLog GDP Per Capita=%{x}\\u003cbr\\u003eEating disorders (%)=%{y}\\u003cextra\\u003e\\u003c\\u002fextra\\u003e\",\"legendgroup\":\"Thailand\",\"marker\":{\"color\":\"#FF97FF\",\"symbol\":\"circle\"},\"mode\":\"markers\",\"name\":\"Thailand\",\"orientation\":\"v\",\"showlegend\":true,\"x\":[9.741441727],\"xaxis\":\"x\",\"y\":[0.173202],\"yaxis\":\"y\",\"type\":\"scatter\"},{\"hovertemplate\":\"Country Name=Togo\\u003cbr\\u003eLog GDP Per Capita=%{x}\\u003cbr\\u003eEating disorders (%)=%{y}\\u003cextra\\u003e\\u003c\\u002fextra\\u003e\",\"legendgroup\":\"Togo\",\"marker\":{\"color\":\"#FECB52\",\"symbol\":\"circle\"},\"mode\":\"markers\",\"name\":\"Togo\",\"orientation\":\"v\",\"showlegend\":true,\"x\":[7.587156773],\"xaxis\":\"x\",\"y\":[0.108107],\"yaxis\":\"y\",\"type\":\"scatter\"},{\"hovertemplate\":\"Country Name=Tunisia\\u003cbr\\u003eLog GDP Per Capita=%{x}\\u003cbr\\u003eEating disorders (%)=%{y}\\u003cextra\\u003e\\u003c\\u002fextra\\u003e\",\"legendgroup\":\"Tunisia\",\"marker\":{\"color\":\"#636efa\",\"symbol\":\"circle\"},\"mode\":\"markers\",\"name\":\"Tunisia\",\"orientation\":\"v\",\"showlegend\":true,\"x\":[9.29421711],\"xaxis\":\"x\",\"y\":[0.200172],\"yaxis\":\"y\",\"type\":\"scatter\"},{\"hovertemplate\":\"Country Name=Uganda\\u003cbr\\u003eLog GDP Per Capita=%{x}\\u003cbr\\u003eEating disorders (%)=%{y}\\u003cextra\\u003e\\u003c\\u002fextra\\u003e\",\"legendgroup\":\"Uganda\",\"marker\":{\"color\":\"#EF553B\",\"symbol\":\"circle\"},\"mode\":\"markers\",\"name\":\"Uganda\",\"orientation\":\"v\",\"showlegend\":true,\"x\":[7.663124561],\"xaxis\":\"x\",\"y\":[0.119309],\"yaxis\":\"y\",\"type\":\"scatter\"},{\"hovertemplate\":\"Country Name=Ukraine\\u003cbr\\u003eLog GDP Per Capita=%{x}\\u003cbr\\u003eEating disorders (%)=%{y}\\u003cextra\\u003e\\u003c\\u002fextra\\u003e\",\"legendgroup\":\"Ukraine\",\"marker\":{\"color\":\"#00cc96\",\"symbol\":\"circle\"},\"mode\":\"markers\",\"name\":\"Ukraine\",\"orientation\":\"v\",\"showlegend\":true,\"x\":[9.380973816],\"xaxis\":\"x\",\"y\":[0.172715],\"yaxis\":\"y\",\"type\":\"scatter\"},{\"hovertemplate\":\"Country Name=United Kingdom\\u003cbr\\u003eLog GDP Per Capita=%{x}\\u003cbr\\u003eEating disorders (%)=%{y}\\u003cextra\\u003e\\u003c\\u002fextra\\u003e\",\"legendgroup\":\"United Kingdom\",\"marker\":{\"color\":\"#ab63fa\",\"symbol\":\"circle\"},\"mode\":\"markers\",\"name\":\"United Kingdom\",\"orientation\":\"v\",\"showlegend\":true,\"x\":[10.74445915],\"xaxis\":\"x\",\"y\":[0.543054],\"yaxis\":\"y\",\"type\":\"scatter\"},{\"hovertemplate\":\"Country Name=United States\\u003cbr\\u003eLog GDP Per Capita=%{x}\\u003cbr\\u003eEating disorders (%)=%{y}\\u003cextra\\u003e\\u003c\\u002fextra\\u003e\",\"legendgroup\":\"United States\",\"marker\":{\"color\":\"#FFA15A\",\"symbol\":\"circle\"},\"mode\":\"markers\",\"name\":\"United States\",\"orientation\":\"v\",\"showlegend\":true,\"x\":[11.00067806],\"xaxis\":\"x\",\"y\":[0.512844],\"yaxis\":\"y\",\"type\":\"scatter\"},{\"hovertemplate\":\"Country Name=Uruguay\\u003cbr\\u003eLog GDP Per Capita=%{x}\\u003cbr\\u003eEating disorders (%)=%{y}\\u003cextra\\u003e\\u003c\\u002fextra\\u003e\",\"legendgroup\":\"Uruguay\",\"marker\":{\"color\":\"#19d3f3\",\"symbol\":\"circle\"},\"mode\":\"markers\",\"name\":\"Uruguay\",\"orientation\":\"v\",\"showlegend\":true,\"x\":[10.04789066],\"xaxis\":\"x\",\"y\":[0.405502],\"yaxis\":\"y\",\"type\":\"scatter\"},{\"hovertemplate\":\"Country Name=Uzbekistan\\u003cbr\\u003eLog GDP Per Capita=%{x}\\u003cbr\\u003eEating disorders (%)=%{y}\\u003cextra\\u003e\\u003c\\u002fextra\\u003e\",\"legendgroup\":\"Uzbekistan\",\"marker\":{\"color\":\"#FF6692\",\"symbol\":\"circle\"},\"mode\":\"markers\",\"name\":\"Uzbekistan\",\"orientation\":\"v\",\"showlegend\":true,\"x\":[8.830646515],\"xaxis\":\"x\",\"y\":[0.153735],\"yaxis\":\"y\",\"type\":\"scatter\"},{\"hovertemplate\":\"Country Name=Venezuela\\u003cbr\\u003eLog GDP Per Capita=%{x}\\u003cbr\\u003eEating disorders (%)=%{y}\\u003cextra\\u003e\\u003c\\u002fextra\\u003e\",\"legendgroup\":\"Venezuela\",\"marker\":{\"color\":\"#B6E880\",\"symbol\":\"circle\"},\"mode\":\"markers\",\"name\":\"Venezuela\",\"orientation\":\"v\",\"showlegend\":true,\"x\":[5.943209171],\"xaxis\":\"x\",\"y\":[0.28269],\"yaxis\":\"y\",\"type\":\"scatter\"},{\"hovertemplate\":\"Country Name=Zambia\\u003cbr\\u003eLog GDP Per Capita=%{x}\\u003cbr\\u003eEating disorders (%)=%{y}\\u003cextra\\u003e\\u003c\\u002fextra\\u003e\",\"legendgroup\":\"Zambia\",\"marker\":{\"color\":\"#FF97FF\",\"symbol\":\"circle\"},\"mode\":\"markers\",\"name\":\"Zambia\",\"orientation\":\"v\",\"showlegend\":true,\"x\":[8.130200386],\"xaxis\":\"x\",\"y\":[0.142768],\"yaxis\":\"y\",\"type\":\"scatter\"},{\"hovertemplate\":\"Country Name=Zimbabwe\\u003cbr\\u003eLog GDP Per Capita=%{x}\\u003cbr\\u003eEating disorders (%)=%{y}\\u003cextra\\u003e\\u003c\\u002fextra\\u003e\",\"legendgroup\":\"Zimbabwe\",\"marker\":{\"color\":\"#FECB52\",\"symbol\":\"circle\"},\"mode\":\"markers\",\"name\":\"Zimbabwe\",\"orientation\":\"v\",\"showlegend\":true,\"x\":[7.754387379],\"xaxis\":\"x\",\"y\":[0.124443],\"yaxis\":\"y\",\"type\":\"scatter\"},{\"hovertemplate\":\"\\u003cb\\u003eOLS trendline\\u003c\\u002fb\\u003e\\u003cbr\\u003eEating disorders (%) = 0.116379 * Log GDP Per Capita + -0.811514\\u003cbr\\u003eR\\u003csup\\u003e2\\u003c\\u002fsup\\u003e=0.597299\\u003cbr\\u003e\\u003cbr\\u003eLog GDP Per Capita=%{x}\\u003cbr\\u003eEating disorders (%)=%{y} \\u003cb\\u003e(trend)\\u003c\\u002fb\\u003e\\u003cextra\\u003e\\u003c\\u002fextra\\u003e\",\"legendgroup\":\"Overall Trendline\",\"line\":{\"color\":\"#636efa\"},\"mode\":\"lines\",\"name\":\"Overall Trendline\",\"showlegend\":true,\"x\":[5.943209171,7.052698135,7.160251617,7.282608032,7.335249901,7.344820023,7.365028381,7.373677731,7.563740253,7.567848682,7.587156773,7.589920044,7.59486866,7.647830486,7.663124561,7.675010204,7.754387379,7.776358128,7.80724287,7.852320194,7.984066486,8.067083359,8.082228661,8.089234352,8.130200386,8.159239769,8.21367836,8.287207603,8.369367599,8.369377136,8.482762337,8.495299339,8.503006935,8.526488304,8.540910721,8.567708969,8.602948189,8.685310364,8.718020439,8.830646515,8.88339901,8.987416267,9.017354012,9.026683807,9.061598778,9.208023071,9.208796501,9.243317604,9.29421711,9.300356865,9.344127655,9.363162994,9.365584373,9.380973816,9.428893089,9.434254646,9.455109596,9.503191948,9.516662598,9.517067909,9.51813221,9.54326725,9.555447578,9.570453644,9.580375671,9.580394745,9.592658043,9.712601662,9.718001366,9.741441727,9.787406921,9.817717552,9.887653351,9.905106544,9.911863327,9.974589348,10.00553036,10.04789066,10.06888008,10.10834122,10.12113476,10.16301918,10.20167065,10.21140671,10.26133156,10.263731,10.29218388,10.30755615,10.31100178,10.3263464,10.40561676,10.42708778,10.42886448,10.50527477,10.55638504,10.57442188,10.58478832,10.6202879,10.63210392,10.63540173,10.65061474,10.68089676,10.70497513,10.74445915,10.7699604,10.78554249,10.78726006,10.82858467,10.85799789,10.87939453,10.89993763,10.91669846,10.92155266,10.92663097,11.00067806,11.06743145,11.14336205,11.26124382,11.46489334,11.65256405],\"y\":[-0.11984764215879783,0.00927395667905008,0.021790960459195582,0.03603071988492989,0.0421571461150628,0.04327091064432693,0.045622746110486355,0.04662935179756024,0.06874870360374336,0.06922683987945653,0.07147390286189344,0.07179549053073866,0.07237140721913086,0.07853506983532961,0.08031498426514627,0.08169822761156312,0.09093609124049018,0.09349303261674086,0.09708737865904576,0.102333448097382,0.11766599525735352,0.12732744455526523,0.12909004488079864,0.12990536261016353,0.13467296281148078,0.13805254718220417,0.14438807474171914,0.1529453598752888,0.1625070863892545,0.16250819629906715,0.1757038917162509,0.17716293979640224,0.1780599447698705,0.18079269111215998,0.18247116255493315,0.1855899251024561,0.1896910424419149,0.19927629841545935,0.20308307551658425,0.2161904244635477,0.22232972527509282,0.2344351855062118,0.2379193206580057,0.2390051160884407,0.24306849754168536,0.2601092608429248,0.2601992721196744,0.26421681547308984,0.27014046663865177,0.2708550073035849,0.27594902317087183,0.27816434345422025,0.2784461419560687,0.2802371552512525,0.2858139688525345,0.28643794334400147,0.28886502876355813,0.2944608213920319,0.29602852681481884,0.2960756966434919,0.2961995592966807,0.29912475878668054,0.3005422973803583,0.3022886935114209,0.3034434125140628,0.30344563233368793,0.3048728269216145,0.3188317867294182,0.31946020074375614,0.3221881746018687,0.3275375737691884,0.3310651051493959,0.3392041876242014,0.34123537879248556,0.34202172877186254,0.34932174200593413,0.3529226367139783,0.3578525006790343,0.36029523562910365,0.3648876972525112,0.36637660105705233,0.37125108241944266,0.3757493151786405,0.3768823914636438,0.38269261280239314,0.38297185805779294,0.38628318559357666,0.3880722003062702,0.38847320046854283,0.39025899729234903,0.3994844298615473,0.40198321310413543,0.40218998428627317,0.4110825637824164,0.41703074352423325,0.4191298591480479,0.4203362986445084,0.42446771651021337,0.4258428571774982,0.4262266541450031,0.427997134283223,0.4315213359339928,0.43432356086158497,0.4389186852444047,0.44188650401431145,0.44369993744115815,0.4438998271126303,0.4487091581539353,0.4521322494298296,0.4546223763767417,0.4570131688975817,0.45896378331347165,0.45952871192963296,0.4601197223207866,0.4687372741489903,0.47650598994907506,0.4853427434372486,0.4990617466090868,0.5227623443420808,0.5446033386345073],\"type\":\"scatter\",\"xaxis\":\"x\",\"yaxis\":\"y\"}],                        {\"template\":{\"data\":{\"histogram2dcontour\":[{\"type\":\"histogram2dcontour\",\"colorbar\":{\"outlinewidth\":0,\"ticks\":\"\"},\"colorscale\":[[0.0,\"#0d0887\"],[0.1111111111111111,\"#46039f\"],[0.2222222222222222,\"#7201a8\"],[0.3333333333333333,\"#9c179e\"],[0.4444444444444444,\"#bd3786\"],[0.5555555555555556,\"#d8576b\"],[0.6666666666666666,\"#ed7953\"],[0.7777777777777778,\"#fb9f3a\"],[0.8888888888888888,\"#fdca26\"],[1.0,\"#f0f921\"]]}],\"choropleth\":[{\"type\":\"choropleth\",\"colorbar\":{\"outlinewidth\":0,\"ticks\":\"\"}}],\"histogram2d\":[{\"type\":\"histogram2d\",\"colorbar\":{\"outlinewidth\":0,\"ticks\":\"\"},\"colorscale\":[[0.0,\"#0d0887\"],[0.1111111111111111,\"#46039f\"],[0.2222222222222222,\"#7201a8\"],[0.3333333333333333,\"#9c179e\"],[0.4444444444444444,\"#bd3786\"],[0.5555555555555556,\"#d8576b\"],[0.6666666666666666,\"#ed7953\"],[0.7777777777777778,\"#fb9f3a\"],[0.8888888888888888,\"#fdca26\"],[1.0,\"#f0f921\"]]}],\"heatmap\":[{\"type\":\"heatmap\",\"colorbar\":{\"outlinewidth\":0,\"ticks\":\"\"},\"colorscale\":[[0.0,\"#0d0887\"],[0.1111111111111111,\"#46039f\"],[0.2222222222222222,\"#7201a8\"],[0.3333333333333333,\"#9c179e\"],[0.4444444444444444,\"#bd3786\"],[0.5555555555555556,\"#d8576b\"],[0.6666666666666666,\"#ed7953\"],[0.7777777777777778,\"#fb9f3a\"],[0.8888888888888888,\"#fdca26\"],[1.0,\"#f0f921\"]]}],\"heatmapgl\":[{\"type\":\"heatmapgl\",\"colorbar\":{\"outlinewidth\":0,\"ticks\":\"\"},\"colorscale\":[[0.0,\"#0d0887\"],[0.1111111111111111,\"#46039f\"],[0.2222222222222222,\"#7201a8\"],[0.3333333333333333,\"#9c179e\"],[0.4444444444444444,\"#bd3786\"],[0.5555555555555556,\"#d8576b\"],[0.6666666666666666,\"#ed7953\"],[0.7777777777777778,\"#fb9f3a\"],[0.8888888888888888,\"#fdca26\"],[1.0,\"#f0f921\"]]}],\"contourcarpet\":[{\"type\":\"contourcarpet\",\"colorbar\":{\"outlinewidth\":0,\"ticks\":\"\"}}],\"contour\":[{\"type\":\"contour\",\"colorbar\":{\"outlinewidth\":0,\"ticks\":\"\"},\"colorscale\":[[0.0,\"#0d0887\"],[0.1111111111111111,\"#46039f\"],[0.2222222222222222,\"#7201a8\"],[0.3333333333333333,\"#9c179e\"],[0.4444444444444444,\"#bd3786\"],[0.5555555555555556,\"#d8576b\"],[0.6666666666666666,\"#ed7953\"],[0.7777777777777778,\"#fb9f3a\"],[0.8888888888888888,\"#fdca26\"],[1.0,\"#f0f921\"]]}],\"surface\":[{\"type\":\"surface\",\"colorbar\":{\"outlinewidth\":0,\"ticks\":\"\"},\"colorscale\":[[0.0,\"#0d0887\"],[0.1111111111111111,\"#46039f\"],[0.2222222222222222,\"#7201a8\"],[0.3333333333333333,\"#9c179e\"],[0.4444444444444444,\"#bd3786\"],[0.5555555555555556,\"#d8576b\"],[0.6666666666666666,\"#ed7953\"],[0.7777777777777778,\"#fb9f3a\"],[0.8888888888888888,\"#fdca26\"],[1.0,\"#f0f921\"]]}],\"mesh3d\":[{\"type\":\"mesh3d\",\"colorbar\":{\"outlinewidth\":0,\"ticks\":\"\"}}],\"scatter\":[{\"fillpattern\":{\"fillmode\":\"overlay\",\"size\":10,\"solidity\":0.2},\"type\":\"scatter\"}],\"parcoords\":[{\"type\":\"parcoords\",\"line\":{\"colorbar\":{\"outlinewidth\":0,\"ticks\":\"\"}}}],\"scatterpolargl\":[{\"type\":\"scatterpolargl\",\"marker\":{\"colorbar\":{\"outlinewidth\":0,\"ticks\":\"\"}}}],\"bar\":[{\"error_x\":{\"color\":\"#2a3f5f\"},\"error_y\":{\"color\":\"#2a3f5f\"},\"marker\":{\"line\":{\"color\":\"#E5ECF6\",\"width\":0.5},\"pattern\":{\"fillmode\":\"overlay\",\"size\":10,\"solidity\":0.2}},\"type\":\"bar\"}],\"scattergeo\":[{\"type\":\"scattergeo\",\"marker\":{\"colorbar\":{\"outlinewidth\":0,\"ticks\":\"\"}}}],\"scatterpolar\":[{\"type\":\"scatterpolar\",\"marker\":{\"colorbar\":{\"outlinewidth\":0,\"ticks\":\"\"}}}],\"histogram\":[{\"marker\":{\"pattern\":{\"fillmode\":\"overlay\",\"size\":10,\"solidity\":0.2}},\"type\":\"histogram\"}],\"scattergl\":[{\"type\":\"scattergl\",\"marker\":{\"colorbar\":{\"outlinewidth\":0,\"ticks\":\"\"}}}],\"scatter3d\":[{\"type\":\"scatter3d\",\"line\":{\"colorbar\":{\"outlinewidth\":0,\"ticks\":\"\"}},\"marker\":{\"colorbar\":{\"outlinewidth\":0,\"ticks\":\"\"}}}],\"scattermapbox\":[{\"type\":\"scattermapbox\",\"marker\":{\"colorbar\":{\"outlinewidth\":0,\"ticks\":\"\"}}}],\"scatterternary\":[{\"type\":\"scatterternary\",\"marker\":{\"colorbar\":{\"outlinewidth\":0,\"ticks\":\"\"}}}],\"scattercarpet\":[{\"type\":\"scattercarpet\",\"marker\":{\"colorbar\":{\"outlinewidth\":0,\"ticks\":\"\"}}}],\"carpet\":[{\"aaxis\":{\"endlinecolor\":\"#2a3f5f\",\"gridcolor\":\"white\",\"linecolor\":\"white\",\"minorgridcolor\":\"white\",\"startlinecolor\":\"#2a3f5f\"},\"baxis\":{\"endlinecolor\":\"#2a3f5f\",\"gridcolor\":\"white\",\"linecolor\":\"white\",\"minorgridcolor\":\"white\",\"startlinecolor\":\"#2a3f5f\"},\"type\":\"carpet\"}],\"table\":[{\"cells\":{\"fill\":{\"color\":\"#EBF0F8\"},\"line\":{\"color\":\"white\"}},\"header\":{\"fill\":{\"color\":\"#C8D4E3\"},\"line\":{\"color\":\"white\"}},\"type\":\"table\"}],\"barpolar\":[{\"marker\":{\"line\":{\"color\":\"#E5ECF6\",\"width\":0.5},\"pattern\":{\"fillmode\":\"overlay\",\"size\":10,\"solidity\":0.2}},\"type\":\"barpolar\"}],\"pie\":[{\"automargin\":true,\"type\":\"pie\"}]},\"layout\":{\"autotypenumbers\":\"strict\",\"colorway\":[\"#636efa\",\"#EF553B\",\"#00cc96\",\"#ab63fa\",\"#FFA15A\",\"#19d3f3\",\"#FF6692\",\"#B6E880\",\"#FF97FF\",\"#FECB52\"],\"font\":{\"color\":\"#2a3f5f\"},\"hovermode\":\"closest\",\"hoverlabel\":{\"align\":\"left\"},\"paper_bgcolor\":\"white\",\"plot_bgcolor\":\"#E5ECF6\",\"polar\":{\"bgcolor\":\"#E5ECF6\",\"angularaxis\":{\"gridcolor\":\"white\",\"linecolor\":\"white\",\"ticks\":\"\"},\"radialaxis\":{\"gridcolor\":\"white\",\"linecolor\":\"white\",\"ticks\":\"\"}},\"ternary\":{\"bgcolor\":\"#E5ECF6\",\"aaxis\":{\"gridcolor\":\"white\",\"linecolor\":\"white\",\"ticks\":\"\"},\"baxis\":{\"gridcolor\":\"white\",\"linecolor\":\"white\",\"ticks\":\"\"},\"caxis\":{\"gridcolor\":\"white\",\"linecolor\":\"white\",\"ticks\":\"\"}},\"coloraxis\":{\"colorbar\":{\"outlinewidth\":0,\"ticks\":\"\"}},\"colorscale\":{\"sequential\":[[0.0,\"#0d0887\"],[0.1111111111111111,\"#46039f\"],[0.2222222222222222,\"#7201a8\"],[0.3333333333333333,\"#9c179e\"],[0.4444444444444444,\"#bd3786\"],[0.5555555555555556,\"#d8576b\"],[0.6666666666666666,\"#ed7953\"],[0.7777777777777778,\"#fb9f3a\"],[0.8888888888888888,\"#fdca26\"],[1.0,\"#f0f921\"]],\"sequentialminus\":[[0.0,\"#0d0887\"],[0.1111111111111111,\"#46039f\"],[0.2222222222222222,\"#7201a8\"],[0.3333333333333333,\"#9c179e\"],[0.4444444444444444,\"#bd3786\"],[0.5555555555555556,\"#d8576b\"],[0.6666666666666666,\"#ed7953\"],[0.7777777777777778,\"#fb9f3a\"],[0.8888888888888888,\"#fdca26\"],[1.0,\"#f0f921\"]],\"diverging\":[[0,\"#8e0152\"],[0.1,\"#c51b7d\"],[0.2,\"#de77ae\"],[0.3,\"#f1b6da\"],[0.4,\"#fde0ef\"],[0.5,\"#f7f7f7\"],[0.6,\"#e6f5d0\"],[0.7,\"#b8e186\"],[0.8,\"#7fbc41\"],[0.9,\"#4d9221\"],[1,\"#276419\"]]},\"xaxis\":{\"gridcolor\":\"white\",\"linecolor\":\"white\",\"ticks\":\"\",\"title\":{\"standoff\":15},\"zerolinecolor\":\"white\",\"automargin\":true,\"zerolinewidth\":2},\"yaxis\":{\"gridcolor\":\"white\",\"linecolor\":\"white\",\"ticks\":\"\",\"title\":{\"standoff\":15},\"zerolinecolor\":\"white\",\"automargin\":true,\"zerolinewidth\":2},\"scene\":{\"xaxis\":{\"backgroundcolor\":\"#E5ECF6\",\"gridcolor\":\"white\",\"linecolor\":\"white\",\"showbackground\":true,\"ticks\":\"\",\"zerolinecolor\":\"white\",\"gridwidth\":2},\"yaxis\":{\"backgroundcolor\":\"#E5ECF6\",\"gridcolor\":\"white\",\"linecolor\":\"white\",\"showbackground\":true,\"ticks\":\"\",\"zerolinecolor\":\"white\",\"gridwidth\":2},\"zaxis\":{\"backgroundcolor\":\"#E5ECF6\",\"gridcolor\":\"white\",\"linecolor\":\"white\",\"showbackground\":true,\"ticks\":\"\",\"zerolinecolor\":\"white\",\"gridwidth\":2}},\"shapedefaults\":{\"line\":{\"color\":\"#2a3f5f\"}},\"annotationdefaults\":{\"arrowcolor\":\"#2a3f5f\",\"arrowhead\":0,\"arrowwidth\":1},\"geo\":{\"bgcolor\":\"white\",\"landcolor\":\"#E5ECF6\",\"subunitcolor\":\"white\",\"showland\":true,\"showlakes\":true,\"lakecolor\":\"white\"},\"title\":{\"x\":0.05},\"mapbox\":{\"style\":\"light\"}}},\"xaxis\":{\"anchor\":\"y\",\"domain\":[0.0,1.0],\"title\":{\"text\":\"GDP per Capita\"}},\"yaxis\":{\"anchor\":\"x\",\"domain\":[0.0,1.0],\"title\":{\"text\":\"Eating disorders (%)\"}},\"legend\":{\"title\":{\"text\":\"Country Name\"},\"tracegroupgap\":0},\"title\":{\"text\":\"Relationship between Eating disorders and GDP per Capita\"},\"height\":300},                        {\"responsive\": true}                    ).then(function(){\n",
       "                            \n",
       "var gd = document.getElementById('f6a89192-93d7-4a00-9d22-8242945e5667');\n",
       "var x = new MutationObserver(function (mutations, observer) {{\n",
       "        var display = window.getComputedStyle(gd).display;\n",
       "        if (!display || display === 'none') {{\n",
       "            console.log([gd, 'removed!']);\n",
       "            Plotly.purge(gd);\n",
       "            observer.disconnect();\n",
       "        }}\n",
       "}});\n",
       "\n",
       "// Listen for the removal of the full notebook cells\n",
       "var notebookContainer = gd.closest('#notebook-container');\n",
       "if (notebookContainer) {{\n",
       "    x.observe(notebookContainer, {childList: true});\n",
       "}}\n",
       "\n",
       "// Listen for the clearing of the current output cell\n",
       "var outputEl = gd.closest('.output');\n",
       "if (outputEl) {{\n",
       "    x.observe(outputEl, {childList: true});\n",
       "}}\n",
       "\n",
       "                        })                };                });            </script>        </div>"
      ]
     },
     "metadata": {},
     "output_type": "display_data"
    }
   ],
   "source": [
    "scatter2d = px.scatter(\n",
    "                        df, \n",
    "                        x= 'Life Ladder', \n",
    "                        y= 'Eating disorders (%)', \n",
    "                        color= 'Country Name',\n",
    "                        trendline='ols',\n",
    "                        trendline_scope='overall',\n",
    "                        title='Relationship between Eating disorders and Life ladder',\n",
    "                        height= 300\n",
    ")\n",
    "\n",
    "scatter2d.update_layout(xaxis_title='Life Ladder')\n",
    "\n",
    "scatter2d.show()\n",
    "\n",
    "\n",
    "\n",
    "scatter2d = px.scatter(\n",
    "                        df, \n",
    "                        x= 'Log GDP Per Capita', \n",
    "                        y= 'Eating disorders (%)', \n",
    "                        color= 'Country Name',\n",
    "                        trendline='ols',\n",
    "                        trendline_scope='overall',\n",
    "                        title='Relationship between Eating disorders and GDP per Capita',\n",
    "                        height= 300\n",
    ")\n",
    "\n",
    "scatter2d.update_layout(xaxis_title='GDP per Capita')\n",
    "\n",
    "scatter2d.show()"
   ]
  },
  {
   "cell_type": "markdown",
   "id": "24d061c8-938a-41b2-a956-c026e884ec13",
   "metadata": {
    "editable": true,
    "slideshow": {
     "slide_type": ""
    },
    "tags": []
   },
   "source": [
    "*<u>Argument 2: Western countries are more developed and therefore happier; people outside those countries are more depressed. This argument highlights the potential role of development in the state of mental well-being.</u>*\n",
    "\n",
    "According to this figure,"
   ]
  },
  {
   "cell_type": "code",
   "execution_count": 23,
   "id": "175d8a53-da3b-4a75-831c-8df04320edfd",
   "metadata": {
    "editable": true,
    "slideshow": {
     "slide_type": ""
    },
    "tags": [
     "hide-input"
    ]
   },
   "outputs": [
    {
     "data": {
      "application/vnd.plotly.v1+json": {
       "config": {
        "plotlyServerURL": "https://plot.ly"
       },
       "data": [
        {
         "hovertemplate": "Country Name=Afghanistan<br>Life Ladder=%{x}<br>Log GDP Per Capita=%{y}<br>Schizophrenia (%)=%{z}<extra></extra>",
         "legendgroup": "Afghanistan",
         "marker": {
          "color": "#636efa",
          "opacity": 0.7,
          "symbol": "circle"
         },
         "mode": "markers",
         "name": "Afghanistan",
         "scene": "scene",
         "showlegend": true,
         "type": "scatter3d",
         "x": [
          2.66171813
         ],
         "y": [
          7.647830486
         ],
         "z": [
          0.166158
         ]
        },
        {
         "hovertemplate": "Country Name=Albania<br>Life Ladder=%{x}<br>Log GDP Per Capita=%{y}<br>Schizophrenia (%)=%{z}<extra></extra>",
         "legendgroup": "Albania",
         "marker": {
          "color": "#EF553B",
          "opacity": 0.7,
          "symbol": "circle"
         },
         "mode": "markers",
         "name": "Albania",
         "scene": "scene",
         "showlegend": true,
         "type": "scatter3d",
         "x": [
          4.639548302
         ],
         "y": [
          9.455109596
         ],
         "z": [
          0.201025
         ]
        },
        {
         "hovertemplate": "Country Name=Argentina<br>Life Ladder=%{x}<br>Log GDP Per Capita=%{y}<br>Schizophrenia (%)=%{z}<extra></extra>",
         "legendgroup": "Argentina",
         "marker": {
          "color": "#00cc96",
          "opacity": 0.7,
          "symbol": "circle"
         },
         "mode": "markers",
         "name": "Argentina",
         "scene": "scene",
         "showlegend": true,
         "type": "scatter3d",
         "x": [
          6.039330006
         ],
         "y": [
          10.06888008
         ],
         "z": [
          0.198094
         ]
        },
        {
         "hovertemplate": "Country Name=Armenia<br>Life Ladder=%{x}<br>Log GDP Per Capita=%{y}<br>Schizophrenia (%)=%{z}<extra></extra>",
         "legendgroup": "Armenia",
         "marker": {
          "color": "#ab63fa",
          "opacity": 0.7,
          "symbol": "circle"
         },
         "mode": "markers",
         "name": "Armenia",
         "scene": "scene",
         "showlegend": true,
         "type": "scatter3d",
         "x": [
          4.287736416
         ],
         "y": [
          9.434254646
         ],
         "z": [
          0.197365
         ]
        },
        {
         "hovertemplate": "Country Name=Australia<br>Life Ladder=%{x}<br>Log GDP Per Capita=%{y}<br>Schizophrenia (%)=%{z}<extra></extra>",
         "legendgroup": "Australia",
         "marker": {
          "color": "#FFA15A",
          "opacity": 0.7,
          "symbol": "circle"
         },
         "mode": "markers",
         "name": "Australia",
         "scene": "scene",
         "showlegend": true,
         "type": "scatter3d",
         "x": [
          7.25703764
         ],
         "y": [
          10.78726006
         ],
         "z": [
          0.363326
         ]
        },
        {
         "hovertemplate": "Country Name=Austria<br>Life Ladder=%{x}<br>Log GDP Per Capita=%{y}<br>Schizophrenia (%)=%{z}<extra></extra>",
         "legendgroup": "Austria",
         "marker": {
          "color": "#19d3f3",
          "opacity": 0.7,
          "symbol": "circle"
         },
         "mode": "markers",
         "name": "Austria",
         "scene": "scene",
         "showlegend": true,
         "type": "scatter3d",
         "x": [
          7.293727875
         ],
         "y": [
          10.89993763
         ],
         "z": [
          0.256958
         ]
        },
        {
         "hovertemplate": "Country Name=Azerbaijan<br>Life Ladder=%{x}<br>Log GDP Per Capita=%{y}<br>Schizophrenia (%)=%{z}<extra></extra>",
         "legendgroup": "Azerbaijan",
         "marker": {
          "color": "#FF6692",
          "opacity": 0.7,
          "symbol": "circle"
         },
         "mode": "markers",
         "name": "Azerbaijan",
         "scene": "scene",
         "showlegend": true,
         "type": "scatter3d",
         "x": [
          5.152279377
         ],
         "y": [
          9.555447578
         ],
         "z": [
          0.199998
         ]
        },
        {
         "hovertemplate": "Country Name=Bangladesh<br>Life Ladder=%{x}<br>Log GDP Per Capita=%{y}<br>Schizophrenia (%)=%{z}<extra></extra>",
         "legendgroup": "Bangladesh",
         "marker": {
          "color": "#B6E880",
          "opacity": 0.7,
          "symbol": "circle"
         },
         "mode": "markers",
         "name": "Bangladesh",
         "scene": "scene",
         "showlegend": true,
         "type": "scatter3d",
         "x": [
          4.309771061
         ],
         "y": [
          8.482762337
         ],
         "z": [
          0.2526
         ]
        },
        {
         "hovertemplate": "Country Name=Belarus<br>Life Ladder=%{x}<br>Log GDP Per Capita=%{y}<br>Schizophrenia (%)=%{z}<extra></extra>",
         "legendgroup": "Belarus",
         "marker": {
          "color": "#FF97FF",
          "opacity": 0.7,
          "symbol": "circle"
         },
         "mode": "markers",
         "name": "Belarus",
         "scene": "scene",
         "showlegend": true,
         "type": "scatter3d",
         "x": [
          5.552915096
         ],
         "y": [
          9.817717552
         ],
         "z": [
          0.19765
         ]
        },
        {
         "hovertemplate": "Country Name=Belgium<br>Life Ladder=%{x}<br>Log GDP Per Capita=%{y}<br>Schizophrenia (%)=%{z}<extra></extra>",
         "legendgroup": "Belgium",
         "marker": {
          "color": "#FECB52",
          "opacity": 0.7,
          "symbol": "circle"
         },
         "mode": "markers",
         "name": "Belgium",
         "scene": "scene",
         "showlegend": true,
         "type": "scatter3d",
         "x": [
          6.928347588
         ],
         "y": [
          10.82858467
         ],
         "z": [
          0.258073
         ]
        },
        {
         "hovertemplate": "Country Name=Benin<br>Life Ladder=%{x}<br>Log GDP Per Capita=%{y}<br>Schizophrenia (%)=%{z}<extra></extra>",
         "legendgroup": "Benin",
         "marker": {
          "color": "#636efa",
          "opacity": 0.7,
          "symbol": "circle"
         },
         "mode": "markers",
         "name": "Benin",
         "scene": "scene",
         "showlegend": true,
         "type": "scatter3d",
         "x": [
          4.853180885
         ],
         "y": [
          7.984066486
         ],
         "z": [
          0.170322
         ]
        },
        {
         "hovertemplate": "Country Name=Bolivia<br>Life Ladder=%{x}<br>Log GDP Per Capita=%{y}<br>Schizophrenia (%)=%{z}<extra></extra>",
         "legendgroup": "Bolivia",
         "marker": {
          "color": "#EF553B",
          "opacity": 0.7,
          "symbol": "circle"
         },
         "mode": "markers",
         "name": "Bolivia",
         "scene": "scene",
         "showlegend": true,
         "type": "scatter3d",
         "x": [
          5.65055275
         ],
         "y": [
          9.017354012
         ],
         "z": [
          0.193936
         ]
        },
        {
         "hovertemplate": "Country Name=Bosnia and Herzegovina<br>Life Ladder=%{x}<br>Log GDP Per Capita=%{y}<br>Schizophrenia (%)=%{z}<extra></extra>",
         "legendgroup": "Bosnia and Herzegovina",
         "marker": {
          "color": "#00cc96",
          "opacity": 0.7,
          "symbol": "circle"
         },
         "mode": "markers",
         "name": "Bosnia and Herzegovina",
         "scene": "scene",
         "showlegend": true,
         "type": "scatter3d",
         "x": [
          5.089902401
         ],
         "y": [
          9.503191948
         ],
         "z": [
          0.200703
         ]
        },
        {
         "hovertemplate": "Country Name=Botswana<br>Life Ladder=%{x}<br>Log GDP Per Capita=%{y}<br>Schizophrenia (%)=%{z}<extra></extra>",
         "legendgroup": "Botswana",
         "marker": {
          "color": "#ab63fa",
          "opacity": 0.7,
          "symbol": "circle"
         },
         "mode": "markers",
         "name": "Botswana",
         "scene": "scene",
         "showlegend": true,
         "type": "scatter3d",
         "x": [
          3.504881144
         ],
         "y": [
          9.592658043
         ],
         "z": [
          0.181928
         ]
        },
        {
         "hovertemplate": "Country Name=Brazil<br>Life Ladder=%{x}<br>Log GDP Per Capita=%{y}<br>Schizophrenia (%)=%{z}<extra></extra>",
         "legendgroup": "Brazil",
         "marker": {
          "color": "#FFA15A",
          "opacity": 0.7,
          "symbol": "circle"
         },
         "mode": "markers",
         "name": "Brazil",
         "scene": "scene",
         "showlegend": true,
         "type": "scatter3d",
         "x": [
          6.332929134
         ],
         "y": [
          9.580375671
         ],
         "z": [
          0.205534
         ]
        },
        {
         "hovertemplate": "Country Name=Bulgaria<br>Life Ladder=%{x}<br>Log GDP Per Capita=%{y}<br>Schizophrenia (%)=%{z}<extra></extra>",
         "legendgroup": "Bulgaria",
         "marker": {
          "color": "#19d3f3",
          "opacity": 0.7,
          "symbol": "circle"
         },
         "mode": "markers",
         "name": "Bulgaria",
         "scene": "scene",
         "showlegend": true,
         "type": "scatter3d",
         "x": [
          5.096901894
         ],
         "y": [
          9.974589348
         ],
         "z": [
          0.202455
         ]
        },
        {
         "hovertemplate": "Country Name=Burkina Faso<br>Life Ladder=%{x}<br>Log GDP Per Capita=%{y}<br>Schizophrenia (%)=%{z}<extra></extra>",
         "legendgroup": "Burkina Faso",
         "marker": {
          "color": "#FF6692",
          "opacity": 0.7,
          "symbol": "circle"
         },
         "mode": "markers",
         "name": "Burkina Faso",
         "scene": "scene",
         "showlegend": true,
         "type": "scatter3d",
         "x": [
          4.646891117
         ],
         "y": [
          7.589920044
         ],
         "z": [
          0.164745
         ]
        },
        {
         "hovertemplate": "Country Name=Cambodia<br>Life Ladder=%{x}<br>Log GDP Per Capita=%{y}<br>Schizophrenia (%)=%{z}<extra></extra>",
         "legendgroup": "Cambodia",
         "marker": {
          "color": "#B6E880",
          "opacity": 0.7,
          "symbol": "circle"
         },
         "mode": "markers",
         "name": "Cambodia",
         "scene": "scene",
         "showlegend": true,
         "type": "scatter3d",
         "x": [
          4.585842133
         ],
         "y": [
          8.287207603
         ],
         "z": [
          0.208266
         ]
        },
        {
         "hovertemplate": "Country Name=Cameroon<br>Life Ladder=%{x}<br>Log GDP Per Capita=%{y}<br>Schizophrenia (%)=%{z}<extra></extra>",
         "legendgroup": "Cameroon",
         "marker": {
          "color": "#FF97FF",
          "opacity": 0.7,
          "symbol": "circle"
         },
         "mode": "markers",
         "name": "Cameroon",
         "scene": "scene",
         "showlegend": true,
         "type": "scatter3d",
         "x": [
          5.07405138
         ],
         "y": [
          8.21367836
         ],
         "z": [
          0.170796
         ]
        },
        {
         "hovertemplate": "Country Name=Canada<br>Life Ladder=%{x}<br>Log GDP Per Capita=%{y}<br>Schizophrenia (%)=%{z}<extra></extra>",
         "legendgroup": "Canada",
         "marker": {
          "color": "#FECB52",
          "opacity": 0.7,
          "symbol": "circle"
         },
         "mode": "markers",
         "name": "Canada",
         "scene": "scene",
         "showlegend": true,
         "type": "scatter3d",
         "x": [
          7.414868355
         ],
         "y": [
          10.78554249
         ],
         "z": [
          0.315588
         ]
        },
        {
         "hovertemplate": "Country Name=Chad<br>Life Ladder=%{x}<br>Log GDP Per Capita=%{y}<br>Schizophrenia (%)=%{z}<extra></extra>",
         "legendgroup": "Chad",
         "marker": {
          "color": "#636efa",
          "opacity": 0.7,
          "symbol": "circle"
         },
         "mode": "markers",
         "name": "Chad",
         "scene": "scene",
         "showlegend": true,
         "type": "scatter3d",
         "x": [
          4.558937073
         ],
         "y": [
          7.365028381
         ],
         "z": [
          0.168019
         ]
        },
        {
         "hovertemplate": "Country Name=Chile<br>Life Ladder=%{x}<br>Log GDP Per Capita=%{y}<br>Schizophrenia (%)=%{z}<extra></extra>",
         "legendgroup": "Chile",
         "marker": {
          "color": "#EF553B",
          "opacity": 0.7,
          "symbol": "circle"
         },
         "mode": "markers",
         "name": "Chile",
         "scene": "scene",
         "showlegend": true,
         "type": "scatter3d",
         "x": [
          6.320119381
         ],
         "y": [
          10.10834122
         ],
         "z": [
          0.20143
         ]
        },
        {
         "hovertemplate": "Country Name=Colombia<br>Life Ladder=%{x}<br>Log GDP Per Capita=%{y}<br>Schizophrenia (%)=%{z}<extra></extra>",
         "legendgroup": "Colombia",
         "marker": {
          "color": "#00cc96",
          "opacity": 0.7,
          "symbol": "circle"
         },
         "mode": "markers",
         "name": "Colombia",
         "scene": "scene",
         "showlegend": true,
         "type": "scatter3d",
         "x": [
          6.157341957
         ],
         "y": [
          9.570453644
         ],
         "z": [
          0.207211
         ]
        },
        {
         "hovertemplate": "Country Name=Costa Rica<br>Life Ladder=%{x}<br>Log GDP Per Capita=%{y}<br>Schizophrenia (%)=%{z}<extra></extra>",
         "legendgroup": "Costa Rica",
         "marker": {
          "color": "#ab63fa",
          "opacity": 0.7,
          "symbol": "circle"
         },
         "mode": "markers",
         "name": "Costa Rica",
         "scene": "scene",
         "showlegend": true,
         "type": "scatter3d",
         "x": [
          7.22518158
         ],
         "y": [
          9.911863327
         ],
         "z": [
          0.21389
         ]
        },
        {
         "hovertemplate": "Country Name=Croatia<br>Life Ladder=%{x}<br>Log GDP Per Capita=%{y}<br>Schizophrenia (%)=%{z}<extra></extra>",
         "legendgroup": "Croatia",
         "marker": {
          "color": "#FFA15A",
          "opacity": 0.7,
          "symbol": "circle"
         },
         "mode": "markers",
         "name": "Croatia",
         "scene": "scene",
         "showlegend": true,
         "type": "scatter3d",
         "x": [
          5.343165874
         ],
         "y": [
          10.21140671
         ],
         "z": [
          0.207565
         ]
        },
        {
         "hovertemplate": "Country Name=Cyprus<br>Life Ladder=%{x}<br>Log GDP Per Capita=%{y}<br>Schizophrenia (%)=%{z}<extra></extra>",
         "legendgroup": "Cyprus",
         "marker": {
          "color": "#19d3f3",
          "opacity": 0.7,
          "symbol": "circle"
         },
         "mode": "markers",
         "name": "Cyprus",
         "scene": "scene",
         "showlegend": true,
         "type": "scatter3d",
         "x": [
          6.062051296
         ],
         "y": [
          10.55638504
         ],
         "z": [
          0.252272
         ]
        },
        {
         "hovertemplate": "Country Name=Denmark<br>Life Ladder=%{x}<br>Log GDP Per Capita=%{y}<br>Schizophrenia (%)=%{z}<extra></extra>",
         "legendgroup": "Denmark",
         "marker": {
          "color": "#FF6692",
          "opacity": 0.7,
          "symbol": "circle"
         },
         "mode": "markers",
         "name": "Denmark",
         "scene": "scene",
         "showlegend": true,
         "type": "scatter3d",
         "x": [
          7.593702316
         ],
         "y": [
          10.92155266
         ],
         "z": [
          0.254017
         ]
        },
        {
         "hovertemplate": "Country Name=Dominican Republic<br>Life Ladder=%{x}<br>Log GDP Per Capita=%{y}<br>Schizophrenia (%)=%{z}<extra></extra>",
         "legendgroup": "Dominican Republic",
         "marker": {
          "color": "#B6E880",
          "opacity": 0.7,
          "symbol": "circle"
         },
         "mode": "markers",
         "name": "Dominican Republic",
         "scene": "scene",
         "showlegend": true,
         "type": "scatter3d",
         "x": [
          5.605202675
         ],
         "y": [
          9.712601662
         ],
         "z": [
          0.199462
         ]
        },
        {
         "hovertemplate": "Country Name=Ecuador<br>Life Ladder=%{x}<br>Log GDP Per Capita=%{y}<br>Schizophrenia (%)=%{z}<extra></extra>",
         "legendgroup": "Ecuador",
         "marker": {
          "color": "#FF97FF",
          "opacity": 0.7,
          "symbol": "circle"
         },
         "mode": "markers",
         "name": "Ecuador",
         "scene": "scene",
         "showlegend": true,
         "type": "scatter3d",
         "x": [
          5.839518547
         ],
         "y": [
          9.365584373
         ],
         "z": [
          0.202912
         ]
        },
        {
         "hovertemplate": "Country Name=El Salvador<br>Life Ladder=%{x}<br>Log GDP Per Capita=%{y}<br>Schizophrenia (%)=%{z}<extra></extra>",
         "legendgroup": "El Salvador",
         "marker": {
          "color": "#FECB52",
          "opacity": 0.7,
          "symbol": "circle"
         },
         "mode": "markers",
         "name": "El Salvador",
         "scene": "scene",
         "showlegend": true,
         "type": "scatter3d",
         "x": [
          6.339318275
         ],
         "y": [
          9.061598778
         ],
         "z": [
          0.197831
         ]
        },
        {
         "hovertemplate": "Country Name=Estonia<br>Life Ladder=%{x}<br>Log GDP Per Capita=%{y}<br>Schizophrenia (%)=%{z}<extra></extra>",
         "legendgroup": "Estonia",
         "marker": {
          "color": "#636efa",
          "opacity": 0.7,
          "symbol": "circle"
         },
         "mode": "markers",
         "name": "Estonia",
         "scene": "scene",
         "showlegend": true,
         "type": "scatter3d",
         "x": [
          5.938395977
         ],
         "y": [
          10.42886448
         ],
         "z": [
          0.203978
         ]
        },
        {
         "hovertemplate": "Country Name=Ethiopia<br>Life Ladder=%{x}<br>Log GDP Per Capita=%{y}<br>Schizophrenia (%)=%{z}<extra></extra>",
         "legendgroup": "Ethiopia",
         "marker": {
          "color": "#EF553B",
          "opacity": 0.7,
          "symbol": "circle"
         },
         "mode": "markers",
         "name": "Ethiopia",
         "scene": "scene",
         "showlegend": true,
         "type": "scatter3d",
         "x": [
          4.180315495
         ],
         "y": [
          7.59486866
         ],
         "z": [
          0.164823
         ]
        },
        {
         "hovertemplate": "Country Name=Finland<br>Life Ladder=%{x}<br>Log GDP Per Capita=%{y}<br>Schizophrenia (%)=%{z}<extra></extra>",
         "legendgroup": "Finland",
         "marker": {
          "color": "#00cc96",
          "opacity": 0.7,
          "symbol": "circle"
         },
         "mode": "markers",
         "name": "Finland",
         "scene": "scene",
         "showlegend": true,
         "type": "scatter3d",
         "x": [
          7.788251877
         ],
         "y": [
          10.7699604
         ],
         "z": [
          0.257444
         ]
        },
        {
         "hovertemplate": "Country Name=France<br>Life Ladder=%{x}<br>Log GDP Per Capita=%{y}<br>Schizophrenia (%)=%{z}<extra></extra>",
         "legendgroup": "France",
         "marker": {
          "color": "#ab63fa",
          "opacity": 0.7,
          "symbol": "circle"
         },
         "mode": "markers",
         "name": "France",
         "scene": "scene",
         "showlegend": true,
         "type": "scatter3d",
         "x": [
          6.635222435
         ],
         "y": [
          10.70497513
         ],
         "z": [
          0.256238
         ]
        },
        {
         "hovertemplate": "Country Name=Gabon<br>Life Ladder=%{x}<br>Log GDP Per Capita=%{y}<br>Schizophrenia (%)=%{z}<extra></extra>",
         "legendgroup": "Gabon",
         "marker": {
          "color": "#FFA15A",
          "opacity": 0.7,
          "symbol": "circle"
         },
         "mode": "markers",
         "name": "Gabon",
         "scene": "scene",
         "showlegend": true,
         "type": "scatter3d",
         "x": [
          4.782382965
         ],
         "y": [
          9.580394745
         ],
         "z": [
          0.181546
         ]
        },
        {
         "hovertemplate": "Country Name=Gambia<br>Life Ladder=%{x}<br>Log GDP Per Capita=%{y}<br>Schizophrenia (%)=%{z}<extra></extra>",
         "legendgroup": "Gambia",
         "marker": {
          "color": "#19d3f3",
          "opacity": 0.7,
          "symbol": "circle"
         },
         "mode": "markers",
         "name": "Gambia",
         "scene": "scene",
         "showlegend": true,
         "type": "scatter3d",
         "x": [
          4.117938995
         ],
         "y": [
          7.563740253
         ],
         "z": [
          0.169677
         ]
        },
        {
         "hovertemplate": "Country Name=Georgia<br>Life Ladder=%{x}<br>Log GDP Per Capita=%{y}<br>Schizophrenia (%)=%{z}<extra></extra>",
         "legendgroup": "Georgia",
         "marker": {
          "color": "#FF6692",
          "opacity": 0.7,
          "symbol": "circle"
         },
         "mode": "markers",
         "name": "Georgia",
         "scene": "scene",
         "showlegend": true,
         "type": "scatter3d",
         "x": [
          4.45077467
         ],
         "y": [
          9.517067909
         ],
         "z": [
          0.196776
         ]
        },
        {
         "hovertemplate": "Country Name=Germany<br>Life Ladder=%{x}<br>Log GDP Per Capita=%{y}<br>Schizophrenia (%)=%{z}<extra></extra>",
         "legendgroup": "Germany",
         "marker": {
          "color": "#B6E880",
          "opacity": 0.7,
          "symbol": "circle"
         },
         "mode": "markers",
         "name": "Germany",
         "scene": "scene",
         "showlegend": true,
         "type": "scatter3d",
         "x": [
          7.074324608
         ],
         "y": [
          10.87939453
         ],
         "z": [
          0.252269
         ]
        },
        {
         "hovertemplate": "Country Name=Ghana<br>Life Ladder=%{x}<br>Log GDP Per Capita=%{y}<br>Schizophrenia (%)=%{z}<extra></extra>",
         "legendgroup": "Ghana",
         "marker": {
          "color": "#FF97FF",
          "opacity": 0.7,
          "symbol": "circle"
         },
         "mode": "markers",
         "name": "Ghana",
         "scene": "scene",
         "showlegend": true,
         "type": "scatter3d",
         "x": [
          5.481310844
         ],
         "y": [
          8.503006935
         ],
         "z": [
          0.175606
         ]
        },
        {
         "hovertemplate": "Country Name=Greece<br>Life Ladder=%{x}<br>Log GDP Per Capita=%{y}<br>Schizophrenia (%)=%{z}<extra></extra>",
         "legendgroup": "Greece",
         "marker": {
          "color": "#FECB52",
          "opacity": 0.7,
          "symbol": "circle"
         },
         "mode": "markers",
         "name": "Greece",
         "scene": "scene",
         "showlegend": true,
         "type": "scatter3d",
         "x": [
          5.14824152
         ],
         "y": [
          10.26133156
         ],
         "z": [
          0.252701
         ]
        },
        {
         "hovertemplate": "Country Name=Guatemala<br>Life Ladder=%{x}<br>Log GDP Per Capita=%{y}<br>Schizophrenia (%)=%{z}<extra></extra>",
         "legendgroup": "Guatemala",
         "marker": {
          "color": "#636efa",
          "opacity": 0.7,
          "symbol": "circle"
         },
         "mode": "markers",
         "name": "Guatemala",
         "scene": "scene",
         "showlegend": true,
         "type": "scatter3d",
         "x": [
          6.325118542
         ],
         "y": [
          9.026683807
         ],
         "z": [
          0.193344
         ]
        },
        {
         "hovertemplate": "Country Name=Guinea<br>Life Ladder=%{x}<br>Log GDP Per Capita=%{y}<br>Schizophrenia (%)=%{z}<extra></extra>",
         "legendgroup": "Guinea",
         "marker": {
          "color": "#EF553B",
          "opacity": 0.7,
          "symbol": "circle"
         },
         "mode": "markers",
         "name": "Guinea",
         "scene": "scene",
         "showlegend": true,
         "type": "scatter3d",
         "x": [
          4.873722553
         ],
         "y": [
          7.776358128
         ],
         "z": [
          0.166393
         ]
        },
        {
         "hovertemplate": "Country Name=Haiti<br>Life Ladder=%{x}<br>Log GDP Per Capita=%{y}<br>Schizophrenia (%)=%{z}<extra></extra>",
         "legendgroup": "Haiti",
         "marker": {
          "color": "#00cc96",
          "opacity": 0.7,
          "symbol": "circle"
         },
         "mode": "markers",
         "name": "Haiti",
         "scene": "scene",
         "showlegend": true,
         "type": "scatter3d",
         "x": [
          3.823865652
         ],
         "y": [
          8.067083359
         ],
         "z": [
          0.172298
         ]
        },
        {
         "hovertemplate": "Country Name=Honduras<br>Life Ladder=%{x}<br>Log GDP Per Capita=%{y}<br>Schizophrenia (%)=%{z}<extra></extra>",
         "legendgroup": "Honduras",
         "marker": {
          "color": "#ab63fa",
          "opacity": 0.7,
          "symbol": "circle"
         },
         "mode": "markers",
         "name": "Honduras",
         "scene": "scene",
         "showlegend": true,
         "type": "scatter3d",
         "x": [
          6.019985676
         ],
         "y": [
          8.602948189
         ],
         "z": [
          0.189815
         ]
        },
        {
         "hovertemplate": "Country Name=Hungary<br>Life Ladder=%{x}<br>Log GDP Per Capita=%{y}<br>Schizophrenia (%)=%{z}<extra></extra>",
         "legendgroup": "Hungary",
         "marker": {
          "color": "#FFA15A",
          "opacity": 0.7,
          "symbol": "circle"
         },
         "mode": "markers",
         "name": "Hungary",
         "scene": "scene",
         "showlegend": true,
         "type": "scatter3d",
         "x": [
          6.065038681
         ],
         "y": [
          10.29218388
         ],
         "z": [
          0.205524
         ]
        },
        {
         "hovertemplate": "Country Name=Iceland<br>Life Ladder=%{x}<br>Log GDP Per Capita=%{y}<br>Schizophrenia (%)=%{z}<extra></extra>",
         "legendgroup": "Iceland",
         "marker": {
          "color": "#19d3f3",
          "opacity": 0.7,
          "symbol": "circle"
         },
         "mode": "markers",
         "name": "Iceland",
         "scene": "scene",
         "showlegend": true,
         "type": "scatter3d",
         "x": [
          7.476213932
         ],
         "y": [
          10.92663097
         ],
         "z": [
          0.257617
         ]
        },
        {
         "hovertemplate": "Country Name=India<br>Life Ladder=%{x}<br>Log GDP Per Capita=%{y}<br>Schizophrenia (%)=%{z}<extra></extra>",
         "legendgroup": "India",
         "marker": {
          "color": "#FF6692",
          "opacity": 0.7,
          "symbol": "circle"
         },
         "mode": "markers",
         "name": "India",
         "scene": "scene",
         "showlegend": true,
         "type": "scatter3d",
         "x": [
          4.046111107
         ],
         "y": [
          8.718020439
         ],
         "z": [
          0.257864
         ]
        },
        {
         "hovertemplate": "Country Name=Indonesia<br>Life Ladder=%{x}<br>Log GDP Per Capita=%{y}<br>Schizophrenia (%)=%{z}<extra></extra>",
         "legendgroup": "Indonesia",
         "marker": {
          "color": "#B6E880",
          "opacity": 0.7,
          "symbol": "circle"
         },
         "mode": "markers",
         "name": "Indonesia",
         "scene": "scene",
         "showlegend": true,
         "type": "scatter3d",
         "x": [
          5.098401546
         ],
         "y": [
          9.300356865
         ],
         "z": [
          0.230297
         ]
        },
        {
         "hovertemplate": "Country Name=Iraq<br>Life Ladder=%{x}<br>Log GDP Per Capita=%{y}<br>Schizophrenia (%)=%{z}<extra></extra>",
         "legendgroup": "Iraq",
         "marker": {
          "color": "#FF97FF",
          "opacity": 0.7,
          "symbol": "circle"
         },
         "mode": "markers",
         "name": "Iraq",
         "scene": "scene",
         "showlegend": true,
         "type": "scatter3d",
         "x": [
          4.462399006
         ],
         "y": [
          9.208023071
         ],
         "z": [
          0.189729
         ]
        },
        {
         "hovertemplate": "Country Name=Ireland<br>Life Ladder=%{x}<br>Log GDP Per Capita=%{y}<br>Schizophrenia (%)=%{z}<extra></extra>",
         "legendgroup": "Ireland",
         "marker": {
          "color": "#FECB52",
          "opacity": 0.7,
          "symbol": "circle"
         },
         "mode": "markers",
         "name": "Ireland",
         "scene": "scene",
         "showlegend": true,
         "type": "scatter3d",
         "x": [
          7.060155392
         ],
         "y": [
          11.26124382
         ],
         "z": [
          0.328008
         ]
        },
        {
         "hovertemplate": "Country Name=Israel<br>Life Ladder=%{x}<br>Log GDP Per Capita=%{y}<br>Schizophrenia (%)=%{z}<extra></extra>",
         "legendgroup": "Israel",
         "marker": {
          "color": "#636efa",
          "opacity": 0.7,
          "symbol": "circle"
         },
         "mode": "markers",
         "name": "Israel",
         "scene": "scene",
         "showlegend": true,
         "type": "scatter3d",
         "x": [
          7.331036091
         ],
         "y": [
          10.57442188
         ],
         "z": [
          0.259139
         ]
        },
        {
         "hovertemplate": "Country Name=Italy<br>Life Ladder=%{x}<br>Log GDP Per Capita=%{y}<br>Schizophrenia (%)=%{z}<extra></extra>",
         "legendgroup": "Italy",
         "marker": {
          "color": "#EF553B",
          "opacity": 0.7,
          "symbol": "circle"
         },
         "mode": "markers",
         "name": "Italy",
         "scene": "scene",
         "showlegend": true,
         "type": "scatter3d",
         "x": [
          6.198870182
         ],
         "y": [
          10.63540173
         ],
         "z": [
          0.236197
         ]
        },
        {
         "hovertemplate": "Country Name=Jamaica<br>Life Ladder=%{x}<br>Log GDP Per Capita=%{y}<br>Schizophrenia (%)=%{z}<extra></extra>",
         "legendgroup": "Jamaica",
         "marker": {
          "color": "#00cc96",
          "opacity": 0.7,
          "symbol": "circle"
         },
         "mode": "markers",
         "name": "Jamaica",
         "scene": "scene",
         "showlegend": true,
         "type": "scatter3d",
         "x": [
          5.889759064
         ],
         "y": [
          9.208796501
         ],
         "z": [
          0.19927
         ]
        },
        {
         "hovertemplate": "Country Name=Japan<br>Life Ladder=%{x}<br>Log GDP Per Capita=%{y}<br>Schizophrenia (%)=%{z}<extra></extra>",
         "legendgroup": "Japan",
         "marker": {
          "color": "#ab63fa",
          "opacity": 0.7,
          "symbol": "circle"
         },
         "mode": "markers",
         "name": "Japan",
         "scene": "scene",
         "showlegend": true,
         "type": "scatter3d",
         "x": [
          5.910676479
         ],
         "y": [
          10.63210392
         ],
         "z": [
          0.295578
         ]
        },
        {
         "hovertemplate": "Country Name=Kazakhstan<br>Life Ladder=%{x}<br>Log GDP Per Capita=%{y}<br>Schizophrenia (%)=%{z}<extra></extra>",
         "legendgroup": "Kazakhstan",
         "marker": {
          "color": "#FFA15A",
          "opacity": 0.7,
          "symbol": "circle"
         },
         "mode": "markers",
         "name": "Kazakhstan",
         "scene": "scene",
         "showlegend": true,
         "type": "scatter3d",
         "x": [
          5.882351398
         ],
         "y": [
          10.12113476
         ],
         "z": [
          0.199892
         ]
        },
        {
         "hovertemplate": "Country Name=Kenya<br>Life Ladder=%{x}<br>Log GDP Per Capita=%{y}<br>Schizophrenia (%)=%{z}<extra></extra>",
         "legendgroup": "Kenya",
         "marker": {
          "color": "#19d3f3",
          "opacity": 0.7,
          "symbol": "circle"
         },
         "mode": "markers",
         "name": "Kenya",
         "scene": "scene",
         "showlegend": true,
         "type": "scatter3d",
         "x": [
          4.475654125
         ],
         "y": [
          8.369367599
         ],
         "z": [
          0.170836
         ]
        },
        {
         "hovertemplate": "Country Name=Kyrgyzstan<br>Life Ladder=%{x}<br>Log GDP Per Capita=%{y}<br>Schizophrenia (%)=%{z}<extra></extra>",
         "legendgroup": "Kyrgyzstan",
         "marker": {
          "color": "#FF6692",
          "opacity": 0.7,
          "symbol": "circle"
         },
         "mode": "markers",
         "name": "Kyrgyzstan",
         "scene": "scene",
         "showlegend": true,
         "type": "scatter3d",
         "x": [
          5.629536629
         ],
         "y": [
          8.526488304
         ],
         "z": [
          0.182097
         ]
        },
        {
         "hovertemplate": "Country Name=Laos<br>Life Ladder=%{x}<br>Log GDP Per Capita=%{y}<br>Schizophrenia (%)=%{z}<extra></extra>",
         "legendgroup": "Laos",
         "marker": {
          "color": "#B6E880",
          "opacity": 0.7,
          "symbol": "circle"
         },
         "mode": "markers",
         "name": "Laos",
         "scene": "scene",
         "showlegend": true,
         "type": "scatter3d",
         "x": [
          4.623140812
         ],
         "y": [
          8.88339901
         ],
         "z": [
          0.216455
         ]
        },
        {
         "hovertemplate": "Country Name=Latvia<br>Life Ladder=%{x}<br>Log GDP Per Capita=%{y}<br>Schizophrenia (%)=%{z}<extra></extra>",
         "legendgroup": "Latvia",
         "marker": {
          "color": "#FF97FF",
          "opacity": 0.7,
          "symbol": "circle"
         },
         "mode": "markers",
         "name": "Latvia",
         "scene": "scene",
         "showlegend": true,
         "type": "scatter3d",
         "x": [
          5.977817535
         ],
         "y": [
          10.263731
         ],
         "z": [
          0.19951
         ]
        },
        {
         "hovertemplate": "Country Name=Lebanon<br>Life Ladder=%{x}<br>Log GDP Per Capita=%{y}<br>Schizophrenia (%)=%{z}<extra></extra>",
         "legendgroup": "Lebanon",
         "marker": {
          "color": "#FECB52",
          "opacity": 0.7,
          "symbol": "circle"
         },
         "mode": "markers",
         "name": "Lebanon",
         "scene": "scene",
         "showlegend": true,
         "type": "scatter3d",
         "x": [
          5.153989792
         ],
         "y": [
          9.787406921
         ],
         "z": [
          0.198376
         ]
        },
        {
         "hovertemplate": "Country Name=Lesotho<br>Life Ladder=%{x}<br>Log GDP Per Capita=%{y}<br>Schizophrenia (%)=%{z}<extra></extra>",
         "legendgroup": "Lesotho",
         "marker": {
          "color": "#636efa",
          "opacity": 0.7,
          "symbol": "circle"
         },
         "mode": "markers",
         "name": "Lesotho",
         "scene": "scene",
         "showlegend": true,
         "type": "scatter3d",
         "x": [
          3.795300722
         ],
         "y": [
          7.852320194
         ],
         "z": [
          0.161376
         ]
        },
        {
         "hovertemplate": "Country Name=Liberia<br>Life Ladder=%{x}<br>Log GDP Per Capita=%{y}<br>Schizophrenia (%)=%{z}<extra></extra>",
         "legendgroup": "Liberia",
         "marker": {
          "color": "#EF553B",
          "opacity": 0.7,
          "symbol": "circle"
         },
         "mode": "markers",
         "name": "Liberia",
         "scene": "scene",
         "showlegend": true,
         "type": "scatter3d",
         "x": [
          4.424490929
         ],
         "y": [
          7.335249901
         ],
         "z": [
          0.161454
         ]
        },
        {
         "hovertemplate": "Country Name=Lithuania<br>Life Ladder=%{x}<br>Log GDP Per Capita=%{y}<br>Schizophrenia (%)=%{z}<extra></extra>",
         "legendgroup": "Lithuania",
         "marker": {
          "color": "#00cc96",
          "opacity": 0.7,
          "symbol": "circle"
         },
         "mode": "markers",
         "name": "Lithuania",
         "scene": "scene",
         "showlegend": true,
         "type": "scatter3d",
         "x": [
          6.272940636
         ],
         "y": [
          10.42708778
         ],
         "z": [
          0.200982
         ]
        },
        {
         "hovertemplate": "Country Name=Luxembourg<br>Life Ladder=%{x}<br>Log GDP Per Capita=%{y}<br>Schizophrenia (%)=%{z}<extra></extra>",
         "legendgroup": "Luxembourg",
         "marker": {
          "color": "#ab63fa",
          "opacity": 0.7,
          "symbol": "circle"
         },
         "mode": "markers",
         "name": "Luxembourg",
         "scene": "scene",
         "showlegend": true,
         "type": "scatter3d",
         "x": [
          7.061380863
         ],
         "y": [
          11.65256405
         ],
         "z": [
          0.263622
         ]
        },
        {
         "hovertemplate": "Country Name=Madagascar<br>Life Ladder=%{x}<br>Log GDP Per Capita=%{y}<br>Schizophrenia (%)=%{z}<extra></extra>",
         "legendgroup": "Madagascar",
         "marker": {
          "color": "#FFA15A",
          "opacity": 0.7,
          "symbol": "circle"
         },
         "mode": "markers",
         "name": "Madagascar",
         "scene": "scene",
         "showlegend": true,
         "type": "scatter3d",
         "x": [
          4.078620434
         ],
         "y": [
          7.344820023
         ],
         "z": [
          0.16428
         ]
        },
        {
         "hovertemplate": "Country Name=Malawi<br>Life Ladder=%{x}<br>Log GDP Per Capita=%{y}<br>Schizophrenia (%)=%{z}<extra></extra>",
         "legendgroup": "Malawi",
         "marker": {
          "color": "#19d3f3",
          "opacity": 0.7,
          "symbol": "circle"
         },
         "mode": "markers",
         "name": "Malawi",
         "scene": "scene",
         "showlegend": true,
         "type": "scatter3d",
         "x": [
          3.416862965
         ],
         "y": [
          7.282608032
         ],
         "z": [
          0.154533
         ]
        },
        {
         "hovertemplate": "Country Name=Mali<br>Life Ladder=%{x}<br>Log GDP Per Capita=%{y}<br>Schizophrenia (%)=%{z}<extra></extra>",
         "legendgroup": "Mali",
         "marker": {
          "color": "#FF6692",
          "opacity": 0.7,
          "symbol": "circle"
         },
         "mode": "markers",
         "name": "Mali",
         "scene": "scene",
         "showlegend": true,
         "type": "scatter3d",
         "x": [
          4.741850376
         ],
         "y": [
          7.675010204
         ],
         "z": [
          0.167751
         ]
        },
        {
         "hovertemplate": "Country Name=Malta<br>Life Ladder=%{x}<br>Log GDP Per Capita=%{y}<br>Schizophrenia (%)=%{z}<extra></extra>",
         "legendgroup": "Malta",
         "marker": {
          "color": "#B6E880",
          "opacity": 0.7,
          "symbol": "circle"
         },
         "mode": "markers",
         "name": "Malta",
         "scene": "scene",
         "showlegend": true,
         "type": "scatter3d",
         "x": [
          6.675665855
         ],
         "y": [
          10.68089676
         ],
         "z": [
          0.257632
         ]
        },
        {
         "hovertemplate": "Country Name=Mauritania<br>Life Ladder=%{x}<br>Log GDP Per Capita=%{y}<br>Schizophrenia (%)=%{z}<extra></extra>",
         "legendgroup": "Mauritania",
         "marker": {
          "color": "#FF97FF",
          "opacity": 0.7,
          "symbol": "circle"
         },
         "mode": "markers",
         "name": "Mauritania",
         "scene": "scene",
         "showlegend": true,
         "type": "scatter3d",
         "x": [
          4.678159714
         ],
         "y": [
          8.567708969
         ],
         "z": [
          0.179205
         ]
        },
        {
         "hovertemplate": "Country Name=Mauritius<br>Life Ladder=%{x}<br>Log GDP Per Capita=%{y}<br>Schizophrenia (%)=%{z}<extra></extra>",
         "legendgroup": "Mauritius",
         "marker": {
          "color": "#FECB52",
          "opacity": 0.7,
          "symbol": "circle"
         },
         "mode": "markers",
         "name": "Mauritius",
         "scene": "scene",
         "showlegend": true,
         "type": "scatter3d",
         "x": [
          6.174117565
         ],
         "y": [
          10.00553036
         ],
         "z": [
          0.242185
         ]
        },
        {
         "hovertemplate": "Country Name=Mexico<br>Life Ladder=%{x}<br>Log GDP Per Capita=%{y}<br>Schizophrenia (%)=%{z}<extra></extra>",
         "legendgroup": "Mexico",
         "marker": {
          "color": "#636efa",
          "opacity": 0.7,
          "symbol": "circle"
         },
         "mode": "markers",
         "name": "Mexico",
         "scene": "scene",
         "showlegend": true,
         "type": "scatter3d",
         "x": [
          6.410299301
         ],
         "y": [
          9.905106544
         ],
         "z": [
          0.211765
         ]
        },
        {
         "hovertemplate": "Country Name=Moldova<br>Life Ladder=%{x}<br>Log GDP Per Capita=%{y}<br>Schizophrenia (%)=%{z}<extra></extra>",
         "legendgroup": "Moldova",
         "marker": {
          "color": "#EF553B",
          "opacity": 0.7,
          "symbol": "circle"
         },
         "mode": "markers",
         "name": "Moldova",
         "scene": "scene",
         "showlegend": true,
         "type": "scatter3d",
         "x": [
          5.325530529
         ],
         "y": [
          9.363162994
         ],
         "z": [
          0.18371
         ]
        },
        {
         "hovertemplate": "Country Name=Mongolia<br>Life Ladder=%{x}<br>Log GDP Per Capita=%{y}<br>Schizophrenia (%)=%{z}<extra></extra>",
         "legendgroup": "Mongolia",
         "marker": {
          "color": "#00cc96",
          "opacity": 0.7,
          "symbol": "circle"
         },
         "mode": "markers",
         "name": "Mongolia",
         "scene": "scene",
         "showlegend": true,
         "type": "scatter3d",
         "x": [
          5.333850384
         ],
         "y": [
          9.344127655
         ],
         "z": [
          0.190648
         ]
        },
        {
         "hovertemplate": "Country Name=Montenegro<br>Life Ladder=%{x}<br>Log GDP Per Capita=%{y}<br>Schizophrenia (%)=%{z}<extra></extra>",
         "legendgroup": "Montenegro",
         "marker": {
          "color": "#ab63fa",
          "opacity": 0.7,
          "symbol": "circle"
         },
         "mode": "markers",
         "name": "Montenegro",
         "scene": "scene",
         "showlegend": true,
         "type": "scatter3d",
         "x": [
          5.614798546
         ],
         "y": [
          9.887653351
         ],
         "z": [
          0.203248
         ]
        },
        {
         "hovertemplate": "Country Name=Mozambique<br>Life Ladder=%{x}<br>Log GDP Per Capita=%{y}<br>Schizophrenia (%)=%{z}<extra></extra>",
         "legendgroup": "Mozambique",
         "marker": {
          "color": "#FFA15A",
          "opacity": 0.7,
          "symbol": "circle"
         },
         "mode": "markers",
         "name": "Mozambique",
         "scene": "scene",
         "showlegend": true,
         "type": "scatter3d",
         "x": [
          4.279863358
         ],
         "y": [
          7.160251617
         ],
         "z": [
          0.156176
         ]
        },
        {
         "hovertemplate": "Country Name=Myanmar<br>Life Ladder=%{x}<br>Log GDP Per Capita=%{y}<br>Schizophrenia (%)=%{z}<extra></extra>",
         "legendgroup": "Myanmar",
         "marker": {
          "color": "#19d3f3",
          "opacity": 0.7,
          "symbol": "circle"
         },
         "mode": "markers",
         "name": "Myanmar",
         "scene": "scene",
         "showlegend": true,
         "type": "scatter3d",
         "x": [
          4.154341698
         ],
         "y": [
          8.369377136
         ],
         "z": [
          0.213915
         ]
        },
        {
         "hovertemplate": "Country Name=Namibia<br>Life Ladder=%{x}<br>Log GDP Per Capita=%{y}<br>Schizophrenia (%)=%{z}<extra></extra>",
         "legendgroup": "Namibia",
         "marker": {
          "color": "#FF6692",
          "opacity": 0.7,
          "symbol": "circle"
         },
         "mode": "markers",
         "name": "Namibia",
         "scene": "scene",
         "showlegend": true,
         "type": "scatter3d",
         "x": [
          4.441306114
         ],
         "y": [
          9.243317604
         ],
         "z": [
          0.177365
         ]
        },
        {
         "hovertemplate": "Country Name=Nepal<br>Life Ladder=%{x}<br>Log GDP Per Capita=%{y}<br>Schizophrenia (%)=%{z}<extra></extra>",
         "legendgroup": "Nepal",
         "marker": {
          "color": "#B6E880",
          "opacity": 0.7,
          "symbol": "circle"
         },
         "mode": "markers",
         "name": "Nepal",
         "scene": "scene",
         "showlegend": true,
         "type": "scatter3d",
         "x": [
          4.736692429
         ],
         "y": [
          8.159239769
         ],
         "z": [
          0.246394
         ]
        },
        {
         "hovertemplate": "Country Name=Netherlands<br>Life Ladder=%{x}<br>Log GDP Per Capita=%{y}<br>Schizophrenia (%)=%{z}<extra></extra>",
         "legendgroup": "Netherlands",
         "marker": {
          "color": "#FF97FF",
          "opacity": 0.7,
          "symbol": "circle"
         },
         "mode": "markers",
         "name": "Netherlands",
         "scene": "scene",
         "showlegend": true,
         "type": "scatter3d",
         "x": [
          7.458965302
         ],
         "y": [
          10.91669846
         ],
         "z": [
          0.358487
         ]
        },
        {
         "hovertemplate": "Country Name=New Zealand<br>Life Ladder=%{x}<br>Log GDP Per Capita=%{y}<br>Schizophrenia (%)=%{z}<extra></extra>",
         "legendgroup": "New Zealand",
         "marker": {
          "color": "#FECB52",
          "opacity": 0.7,
          "symbol": "circle"
         },
         "mode": "markers",
         "name": "New Zealand",
         "scene": "scene",
         "showlegend": true,
         "type": "scatter3d",
         "x": [
          7.32718277
         ],
         "y": [
          10.65061474
         ],
         "z": [
          0.341051
         ]
        },
        {
         "hovertemplate": "Country Name=Nicaragua<br>Life Ladder=%{x}<br>Log GDP Per Capita=%{y}<br>Schizophrenia (%)=%{z}<extra></extra>",
         "legendgroup": "Nicaragua",
         "marker": {
          "color": "#636efa",
          "opacity": 0.7,
          "symbol": "circle"
         },
         "mode": "markers",
         "name": "Nicaragua",
         "scene": "scene",
         "showlegend": true,
         "type": "scatter3d",
         "x": [
          6.476356506
         ],
         "y": [
          8.685310364
         ],
         "z": [
          0.199563
         ]
        },
        {
         "hovertemplate": "Country Name=Niger<br>Life Ladder=%{x}<br>Log GDP Per Capita=%{y}<br>Schizophrenia (%)=%{z}<extra></extra>",
         "legendgroup": "Niger",
         "marker": {
          "color": "#EF553B",
          "opacity": 0.7,
          "symbol": "circle"
         },
         "mode": "markers",
         "name": "Niger",
         "scene": "scene",
         "showlegend": true,
         "type": "scatter3d",
         "x": [
          4.615673542
         ],
         "y": [
          7.052698135
         ],
         "z": [
          0.163845
         ]
        },
        {
         "hovertemplate": "Country Name=Nigeria<br>Life Ladder=%{x}<br>Log GDP Per Capita=%{y}<br>Schizophrenia (%)=%{z}<extra></extra>",
         "legendgroup": "Nigeria",
         "marker": {
          "color": "#00cc96",
          "opacity": 0.7,
          "symbol": "circle"
         },
         "mode": "markers",
         "name": "Nigeria",
         "scene": "scene",
         "showlegend": true,
         "type": "scatter3d",
         "x": [
          5.321928024
         ],
         "y": [
          8.540910721
         ],
         "z": [
          0.182126
         ]
        },
        {
         "hovertemplate": "Country Name=Norway<br>Life Ladder=%{x}<br>Log GDP Per Capita=%{y}<br>Schizophrenia (%)=%{z}<extra></extra>",
         "legendgroup": "Norway",
         "marker": {
          "color": "#ab63fa",
          "opacity": 0.7,
          "symbol": "circle"
         },
         "mode": "markers",
         "name": "Norway",
         "scene": "scene",
         "showlegend": true,
         "type": "scatter3d",
         "x": [
          7.578744888
         ],
         "y": [
          11.06743145
         ],
         "z": [
          0.211484
         ]
        },
        {
         "hovertemplate": "Country Name=Pakistan<br>Life Ladder=%{x}<br>Log GDP Per Capita=%{y}<br>Schizophrenia (%)=%{z}<extra></extra>",
         "legendgroup": "Pakistan",
         "marker": {
          "color": "#FFA15A",
          "opacity": 0.7,
          "symbol": "circle"
         },
         "mode": "markers",
         "name": "Pakistan",
         "scene": "scene",
         "showlegend": true,
         "type": "scatter3d",
         "x": [
          5.830870628
         ],
         "y": [
          8.495299339
         ],
         "z": [
          0.256442
         ]
        },
        {
         "hovertemplate": "Country Name=Panama<br>Life Ladder=%{x}<br>Log GDP Per Capita=%{y}<br>Schizophrenia (%)=%{z}<extra></extra>",
         "legendgroup": "Panama",
         "marker": {
          "color": "#19d3f3",
          "opacity": 0.7,
          "symbol": "circle"
         },
         "mode": "markers",
         "name": "Panama",
         "scene": "scene",
         "showlegend": true,
         "type": "scatter3d",
         "x": [
          6.567658901
         ],
         "y": [
          10.3263464
         ],
         "z": [
          0.213259
         ]
        },
        {
         "hovertemplate": "Country Name=Paraguay<br>Life Ladder=%{x}<br>Log GDP Per Capita=%{y}<br>Schizophrenia (%)=%{z}<extra></extra>",
         "legendgroup": "Paraguay",
         "marker": {
          "color": "#FF6692",
          "opacity": 0.7,
          "symbol": "circle"
         },
         "mode": "markers",
         "name": "Paraguay",
         "scene": "scene",
         "showlegend": true,
         "type": "scatter3d",
         "x": [
          5.71329546
         ],
         "y": [
          9.51813221
         ],
         "z": [
          0.202426
         ]
        },
        {
         "hovertemplate": "Country Name=Peru<br>Life Ladder=%{x}<br>Log GDP Per Capita=%{y}<br>Schizophrenia (%)=%{z}<extra></extra>",
         "legendgroup": "Peru",
         "marker": {
          "color": "#B6E880",
          "opacity": 0.7,
          "symbol": "circle"
         },
         "mode": "markers",
         "name": "Peru",
         "scene": "scene",
         "showlegend": true,
         "type": "scatter3d",
         "x": [
          5.710936546
         ],
         "y": [
          9.428893089
         ],
         "z": [
          0.203293
         ]
        },
        {
         "hovertemplate": "Country Name=Philippines<br>Life Ladder=%{x}<br>Log GDP Per Capita=%{y}<br>Schizophrenia (%)=%{z}<extra></extra>",
         "legendgroup": "Philippines",
         "marker": {
          "color": "#FF97FF",
          "opacity": 0.7,
          "symbol": "circle"
         },
         "mode": "markers",
         "name": "Philippines",
         "scene": "scene",
         "showlegend": true,
         "type": "scatter3d",
         "x": [
          5.594270229
         ],
         "y": [
          8.987416267
         ],
         "z": [
          0.224422
         ]
        },
        {
         "hovertemplate": "Country Name=Poland<br>Life Ladder=%{x}<br>Log GDP Per Capita=%{y}<br>Schizophrenia (%)=%{z}<extra></extra>",
         "legendgroup": "Poland",
         "marker": {
          "color": "#FECB52",
          "opacity": 0.7,
          "symbol": "circle"
         },
         "mode": "markers",
         "name": "Poland",
         "scene": "scene",
         "showlegend": true,
         "type": "scatter3d",
         "x": [
          6.201268196
         ],
         "y": [
          10.30755615
         ],
         "z": [
          0.20781
         ]
        },
        {
         "hovertemplate": "Country Name=Portugal<br>Life Ladder=%{x}<br>Log GDP Per Capita=%{y}<br>Schizophrenia (%)=%{z}<extra></extra>",
         "legendgroup": "Portugal",
         "marker": {
          "color": "#636efa",
          "opacity": 0.7,
          "symbol": "circle"
         },
         "mode": "markers",
         "name": "Portugal",
         "scene": "scene",
         "showlegend": true,
         "type": "scatter3d",
         "x": [
          5.711499214
         ],
         "y": [
          10.40561676
         ],
         "z": [
          0.249372
         ]
        },
        {
         "hovertemplate": "Country Name=Romania<br>Life Ladder=%{x}<br>Log GDP Per Capita=%{y}<br>Schizophrenia (%)=%{z}<extra></extra>",
         "legendgroup": "Romania",
         "marker": {
          "color": "#EF553B",
          "opacity": 0.7,
          "symbol": "circle"
         },
         "mode": "markers",
         "name": "Romania",
         "scene": "scene",
         "showlegend": true,
         "type": "scatter3d",
         "x": [
          6.089904785
         ],
         "y": [
          10.20167065
         ],
         "z": [
          0.201195
         ]
        },
        {
         "hovertemplate": "Country Name=Russia<br>Life Ladder=%{x}<br>Log GDP Per Capita=%{y}<br>Schizophrenia (%)=%{z}<extra></extra>",
         "legendgroup": "Russia",
         "marker": {
          "color": "#00cc96",
          "opacity": 0.7,
          "symbol": "circle"
         },
         "mode": "markers",
         "name": "Russia",
         "scene": "scene",
         "showlegend": true,
         "type": "scatter3d",
         "x": [
          5.578742981
         ],
         "y": [
          10.16301918
         ],
         "z": [
          0.1984
         ]
        },
        {
         "hovertemplate": "Country Name=Rwanda<br>Life Ladder=%{x}<br>Log GDP Per Capita=%{y}<br>Schizophrenia (%)=%{z}<extra></extra>",
         "legendgroup": "Rwanda",
         "marker": {
          "color": "#ab63fa",
          "opacity": 0.7,
          "symbol": "circle"
         },
         "mode": "markers",
         "name": "Rwanda",
         "scene": "scene",
         "showlegend": true,
         "type": "scatter3d",
         "x": [
          3.10837388
         ],
         "y": [
          7.567848682
         ],
         "z": [
          0.163688
         ]
        },
        {
         "hovertemplate": "Country Name=Senegal<br>Life Ladder=%{x}<br>Log GDP Per Capita=%{y}<br>Schizophrenia (%)=%{z}<extra></extra>",
         "legendgroup": "Senegal",
         "marker": {
          "color": "#FFA15A",
          "opacity": 0.7,
          "symbol": "circle"
         },
         "mode": "markers",
         "name": "Senegal",
         "scene": "scene",
         "showlegend": true,
         "type": "scatter3d",
         "x": [
          4.683024883
         ],
         "y": [
          8.089234352
         ],
         "z": [
          0.173616
         ]
        },
        {
         "hovertemplate": "Country Name=Serbia<br>Life Ladder=%{x}<br>Log GDP Per Capita=%{y}<br>Schizophrenia (%)=%{z}<extra></extra>",
         "legendgroup": "Serbia",
         "marker": {
          "color": "#19d3f3",
          "opacity": 0.7,
          "symbol": "circle"
         },
         "mode": "markers",
         "name": "Serbia",
         "scene": "scene",
         "showlegend": true,
         "type": "scatter3d",
         "x": [
          5.122031212
         ],
         "y": [
          9.718001366
         ],
         "z": [
          0.200264
         ]
        },
        {
         "hovertemplate": "Country Name=Sierra Leone<br>Life Ladder=%{x}<br>Log GDP Per Capita=%{y}<br>Schizophrenia (%)=%{z}<extra></extra>",
         "legendgroup": "Sierra Leone",
         "marker": {
          "color": "#FF6692",
          "opacity": 0.7,
          "symbol": "circle"
         },
         "mode": "markers",
         "name": "Sierra Leone",
         "scene": "scene",
         "showlegend": true,
         "type": "scatter3d",
         "x": [
          4.089562416
         ],
         "y": [
          7.373677731
         ],
         "z": [
          0.165455
         ]
        },
        {
         "hovertemplate": "Country Name=Singapore<br>Life Ladder=%{x}<br>Log GDP Per Capita=%{y}<br>Schizophrenia (%)=%{z}<extra></extra>",
         "legendgroup": "Singapore",
         "marker": {
          "color": "#B6E880",
          "opacity": 0.7,
          "symbol": "circle"
         },
         "mode": "markers",
         "name": "Singapore",
         "scene": "scene",
         "showlegend": true,
         "type": "scatter3d",
         "x": [
          6.378437996
         ],
         "y": [
          11.46489334
         ],
         "z": [
          0.27409
         ]
        },
        {
         "hovertemplate": "Country Name=Slovakia<br>Life Ladder=%{x}<br>Log GDP Per Capita=%{y}<br>Schizophrenia (%)=%{z}<extra></extra>",
         "legendgroup": "Slovakia",
         "marker": {
          "color": "#FF97FF",
          "opacity": 0.7,
          "symbol": "circle"
         },
         "mode": "markers",
         "name": "Slovakia",
         "scene": "scene",
         "showlegend": true,
         "type": "scatter3d",
         "x": [
          6.365509033
         ],
         "y": [
          10.31100178
         ],
         "z": [
          0.208419
         ]
        },
        {
         "hovertemplate": "Country Name=Slovenia<br>Life Ladder=%{x}<br>Log GDP Per Capita=%{y}<br>Schizophrenia (%)=%{z}<extra></extra>",
         "legendgroup": "Slovenia",
         "marker": {
          "color": "#FECB52",
          "opacity": 0.7,
          "symbol": "circle"
         },
         "mode": "markers",
         "name": "Slovenia",
         "scene": "scene",
         "showlegend": true,
         "type": "scatter3d",
         "x": [
          6.166837692
         ],
         "y": [
          10.50527477
         ],
         "z": [
          0.211824
         ]
        },
        {
         "hovertemplate": "Country Name=South Africa<br>Life Ladder=%{x}<br>Log GDP Per Capita=%{y}<br>Schizophrenia (%)=%{z}<extra></extra>",
         "legendgroup": "South Africa",
         "marker": {
          "color": "#636efa",
          "opacity": 0.7,
          "symbol": "circle"
         },
         "mode": "markers",
         "name": "South Africa",
         "scene": "scene",
         "showlegend": true,
         "type": "scatter3d",
         "x": [
          4.513655186
         ],
         "y": [
          9.54326725
         ],
         "z": [
          0.181937
         ]
        },
        {
         "hovertemplate": "Country Name=South Korea<br>Life Ladder=%{x}<br>Log GDP Per Capita=%{y}<br>Schizophrenia (%)=%{z}<extra></extra>",
         "legendgroup": "South Korea",
         "marker": {
          "color": "#EF553B",
          "opacity": 0.7,
          "symbol": "circle"
         },
         "mode": "markers",
         "name": "South Korea",
         "scene": "scene",
         "showlegend": true,
         "type": "scatter3d",
         "x": [
          5.873887062
         ],
         "y": [
          10.6202879
         ],
         "z": [
          0.263994
         ]
        },
        {
         "hovertemplate": "Country Name=Spain<br>Life Ladder=%{x}<br>Log GDP Per Capita=%{y}<br>Schizophrenia (%)=%{z}<extra></extra>",
         "legendgroup": "Spain",
         "marker": {
          "color": "#00cc96",
          "opacity": 0.7,
          "symbol": "circle"
         },
         "mode": "markers",
         "name": "Spain",
         "scene": "scene",
         "showlegend": true,
         "type": "scatter3d",
         "x": [
          6.230173111
         ],
         "y": [
          10.58478832
         ],
         "z": [
          0.281539
         ]
        },
        {
         "hovertemplate": "Country Name=Sri Lanka<br>Life Ladder=%{x}<br>Log GDP Per Capita=%{y}<br>Schizophrenia (%)=%{z}<extra></extra>",
         "legendgroup": "Sri Lanka",
         "marker": {
          "color": "#ab63fa",
          "opacity": 0.7,
          "symbol": "circle"
         },
         "mode": "markers",
         "name": "Sri Lanka",
         "scene": "scene",
         "showlegend": true,
         "type": "scatter3d",
         "x": [
          4.330945492
         ],
         "y": [
          9.516662598
         ],
         "z": [
          0.238045
         ]
        },
        {
         "hovertemplate": "Country Name=Sweden<br>Life Ladder=%{x}<br>Log GDP Per Capita=%{y}<br>Schizophrenia (%)=%{z}<extra></extra>",
         "legendgroup": "Sweden",
         "marker": {
          "color": "#FFA15A",
          "opacity": 0.7,
          "symbol": "circle"
         },
         "mode": "markers",
         "name": "Sweden",
         "scene": "scene",
         "showlegend": true,
         "type": "scatter3d",
         "x": [
          7.286804676
         ],
         "y": [
          10.85799789
         ],
         "z": [
          0.270392
         ]
        },
        {
         "hovertemplate": "Country Name=Switzerland<br>Life Ladder=%{x}<br>Log GDP Per Capita=%{y}<br>Schizophrenia (%)=%{z}<extra></extra>",
         "legendgroup": "Switzerland",
         "marker": {
          "color": "#19d3f3",
          "opacity": 0.7,
          "symbol": "circle"
         },
         "mode": "markers",
         "name": "Switzerland",
         "scene": "scene",
         "showlegend": true,
         "type": "scatter3d",
         "x": [
          7.473593235
         ],
         "y": [
          11.14336205
         ],
         "z": [
          0.262487
         ]
        },
        {
         "hovertemplate": "Country Name=Tajikistan<br>Life Ladder=%{x}<br>Log GDP Per Capita=%{y}<br>Schizophrenia (%)=%{z}<extra></extra>",
         "legendgroup": "Tajikistan",
         "marker": {
          "color": "#FF6692",
          "opacity": 0.7,
          "symbol": "circle"
         },
         "mode": "markers",
         "name": "Tajikistan",
         "scene": "scene",
         "showlegend": true,
         "type": "scatter3d",
         "x": [
          5.829234123
         ],
         "y": [
          8.082228661
         ],
         "z": [
          0.182117
         ]
        },
        {
         "hovertemplate": "Country Name=Tanzania<br>Life Ladder=%{x}<br>Log GDP Per Capita=%{y}<br>Schizophrenia (%)=%{z}<extra></extra>",
         "legendgroup": "Tanzania",
         "marker": {
          "color": "#B6E880",
          "opacity": 0.7,
          "symbol": "circle"
         },
         "mode": "markers",
         "name": "Tanzania",
         "scene": "scene",
         "showlegend": true,
         "type": "scatter3d",
         "x": [
          3.347121239
         ],
         "y": [
          7.80724287
         ],
         "z": [
          0.165215
         ]
        },
        {
         "hovertemplate": "Country Name=Thailand<br>Life Ladder=%{x}<br>Log GDP Per Capita=%{y}<br>Schizophrenia (%)=%{z}<extra></extra>",
         "legendgroup": "Thailand",
         "marker": {
          "color": "#FF97FF",
          "opacity": 0.7,
          "symbol": "circle"
         },
         "mode": "markers",
         "name": "Thailand",
         "scene": "scene",
         "showlegend": true,
         "type": "scatter3d",
         "x": [
          5.938895226
         ],
         "y": [
          9.741441727
         ],
         "z": [
          0.234879
         ]
        },
        {
         "hovertemplate": "Country Name=Togo<br>Life Ladder=%{x}<br>Log GDP Per Capita=%{y}<br>Schizophrenia (%)=%{z}<extra></extra>",
         "legendgroup": "Togo",
         "marker": {
          "color": "#FECB52",
          "opacity": 0.7,
          "symbol": "circle"
         },
         "mode": "markers",
         "name": "Togo",
         "scene": "scene",
         "showlegend": true,
         "type": "scatter3d",
         "x": [
          4.360805035
         ],
         "y": [
          7.587156773
         ],
         "z": [
          0.164575
         ]
        },
        {
         "hovertemplate": "Country Name=Tunisia<br>Life Ladder=%{x}<br>Log GDP Per Capita=%{y}<br>Schizophrenia (%)=%{z}<extra></extra>",
         "legendgroup": "Tunisia",
         "marker": {
          "color": "#636efa",
          "opacity": 0.7,
          "symbol": "circle"
         },
         "mode": "markers",
         "name": "Tunisia",
         "scene": "scene",
         "showlegend": true,
         "type": "scatter3d",
         "x": [
          4.124342918
         ],
         "y": [
          9.29421711
         ],
         "z": [
          0.198099
         ]
        },
        {
         "hovertemplate": "Country Name=Uganda<br>Life Ladder=%{x}<br>Log GDP Per Capita=%{y}<br>Schizophrenia (%)=%{z}<extra></extra>",
         "legendgroup": "Uganda",
         "marker": {
          "color": "#EF553B",
          "opacity": 0.7,
          "symbol": "circle"
         },
         "mode": "markers",
         "name": "Uganda",
         "scene": "scene",
         "showlegend": true,
         "type": "scatter3d",
         "x": [
          4.000516891
         ],
         "y": [
          7.663124561
         ],
         "z": [
          0.160208
         ]
        },
        {
         "hovertemplate": "Country Name=Ukraine<br>Life Ladder=%{x}<br>Log GDP Per Capita=%{y}<br>Schizophrenia (%)=%{z}<extra></extra>",
         "legendgroup": "Ukraine",
         "marker": {
          "color": "#00cc96",
          "opacity": 0.7,
          "symbol": "circle"
         },
         "mode": "markers",
         "name": "Ukraine",
         "scene": "scene",
         "showlegend": true,
         "type": "scatter3d",
         "x": [
          4.311067104
         ],
         "y": [
          9.380973816
         ],
         "z": [
          0.190966
         ]
        },
        {
         "hovertemplate": "Country Name=United Kingdom<br>Life Ladder=%{x}<br>Log GDP Per Capita=%{y}<br>Schizophrenia (%)=%{z}<extra></extra>",
         "legendgroup": "United Kingdom",
         "marker": {
          "color": "#ab63fa",
          "opacity": 0.7,
          "symbol": "circle"
         },
         "mode": "markers",
         "name": "United Kingdom",
         "scene": "scene",
         "showlegend": true,
         "type": "scatter3d",
         "x": [
          7.103273392
         ],
         "y": [
          10.74445915
         ],
         "z": [
          0.262952
         ]
        },
        {
         "hovertemplate": "Country Name=United States<br>Life Ladder=%{x}<br>Log GDP Per Capita=%{y}<br>Schizophrenia (%)=%{z}<extra></extra>",
         "legendgroup": "United States",
         "marker": {
          "color": "#FFA15A",
          "opacity": 0.7,
          "symbol": "circle"
         },
         "mode": "markers",
         "name": "United States",
         "scene": "scene",
         "showlegend": true,
         "type": "scatter3d",
         "x": [
          6.9917593
         ],
         "y": [
          11.00067806
         ],
         "z": [
          0.33389
         ]
        },
        {
         "hovertemplate": "Country Name=Uruguay<br>Life Ladder=%{x}<br>Log GDP Per Capita=%{y}<br>Schizophrenia (%)=%{z}<extra></extra>",
         "legendgroup": "Uruguay",
         "marker": {
          "color": "#19d3f3",
          "opacity": 0.7,
          "symbol": "circle"
         },
         "mode": "markers",
         "name": "Uruguay",
         "scene": "scene",
         "showlegend": true,
         "type": "scatter3d",
         "x": [
          6.336009979
         ],
         "y": [
          10.04789066
         ],
         "z": [
          0.198965
         ]
        },
        {
         "hovertemplate": "Country Name=Uzbekistan<br>Life Ladder=%{x}<br>Log GDP Per Capita=%{y}<br>Schizophrenia (%)=%{z}<extra></extra>",
         "legendgroup": "Uzbekistan",
         "marker": {
          "color": "#FF6692",
          "opacity": 0.7,
          "symbol": "circle"
         },
         "mode": "markers",
         "name": "Uzbekistan",
         "scene": "scene",
         "showlegend": true,
         "type": "scatter3d",
         "x": [
          6.421447754
         ],
         "y": [
          8.830646515
         ],
         "z": [
          0.188464
         ]
        },
        {
         "hovertemplate": "Country Name=Venezuela<br>Life Ladder=%{x}<br>Log GDP Per Capita=%{y}<br>Schizophrenia (%)=%{z}<extra></extra>",
         "legendgroup": "Venezuela",
         "marker": {
          "color": "#B6E880",
          "opacity": 0.7,
          "symbol": "circle"
         },
         "mode": "markers",
         "name": "Venezuela",
         "scene": "scene",
         "showlegend": true,
         "type": "scatter3d",
         "x": [
          5.070750713
         ],
         "y": [
          5.943209171
         ],
         "z": [
          0.205537
         ]
        },
        {
         "hovertemplate": "Country Name=Zambia<br>Life Ladder=%{x}<br>Log GDP Per Capita=%{y}<br>Schizophrenia (%)=%{z}<extra></extra>",
         "legendgroup": "Zambia",
         "marker": {
          "color": "#FF97FF",
          "opacity": 0.7,
          "symbol": "circle"
         },
         "mode": "markers",
         "name": "Zambia",
         "scene": "scene",
         "showlegend": true,
         "type": "scatter3d",
         "x": [
          3.932777405
         ],
         "y": [
          8.130200386
         ],
         "z": [
          0.165866
         ]
        },
        {
         "hovertemplate": "Country Name=Zimbabwe<br>Life Ladder=%{x}<br>Log GDP Per Capita=%{y}<br>Schizophrenia (%)=%{z}<extra></extra>",
         "legendgroup": "Zimbabwe",
         "marker": {
          "color": "#FECB52",
          "opacity": 0.7,
          "symbol": "circle"
         },
         "mode": "markers",
         "name": "Zimbabwe",
         "scene": "scene",
         "showlegend": true,
         "type": "scatter3d",
         "x": [
          3.63830018
         ],
         "y": [
          7.754387379
         ],
         "z": [
          0.157963
         ]
        }
       ],
       "layout": {
        "autosize": true,
        "legend": {
         "title": {
          "text": "Country Name"
         },
         "tracegroupgap": 0
        },
        "margin": {
         "t": 60
        },
        "scene": {
         "aspectmode": "auto",
         "aspectratio": {
          "x": 1,
          "y": 1,
          "z": 1
         },
         "camera": {
          "center": {
           "x": 0,
           "y": 0,
           "z": 0
          },
          "eye": {
           "x": -0.25593450931096856,
           "y": 0.0034306768641653024,
           "z": -0.4673675835473905
          },
          "projection": {
           "type": "perspective"
          },
          "up": {
           "x": 0.7116091876162045,
           "y": -0.5817327742446986,
           "z": -0.3939534788141519
          }
         },
         "domain": {
          "x": [
           0,
           1
          ],
          "y": [
           0,
           1
          ]
         },
         "xaxis": {
          "title": {
           "text": "Life Ladder"
          },
          "type": "linear"
         },
         "yaxis": {
          "title": {
           "text": "Log GDP Per Capita"
          },
          "type": "linear"
         },
         "zaxis": {
          "title": {
           "text": "Schizophrenia (%)"
          },
          "type": "linear"
         }
        },
        "template": {
         "data": {
          "bar": [
           {
            "error_x": {
             "color": "#2a3f5f"
            },
            "error_y": {
             "color": "#2a3f5f"
            },
            "marker": {
             "line": {
              "color": "#E5ECF6",
              "width": 0.5
             },
             "pattern": {
              "fillmode": "overlay",
              "size": 10,
              "solidity": 0.2
             }
            },
            "type": "bar"
           }
          ],
          "barpolar": [
           {
            "marker": {
             "line": {
              "color": "#E5ECF6",
              "width": 0.5
             },
             "pattern": {
              "fillmode": "overlay",
              "size": 10,
              "solidity": 0.2
             }
            },
            "type": "barpolar"
           }
          ],
          "carpet": [
           {
            "aaxis": {
             "endlinecolor": "#2a3f5f",
             "gridcolor": "white",
             "linecolor": "white",
             "minorgridcolor": "white",
             "startlinecolor": "#2a3f5f"
            },
            "baxis": {
             "endlinecolor": "#2a3f5f",
             "gridcolor": "white",
             "linecolor": "white",
             "minorgridcolor": "white",
             "startlinecolor": "#2a3f5f"
            },
            "type": "carpet"
           }
          ],
          "choropleth": [
           {
            "colorbar": {
             "outlinewidth": 0,
             "ticks": ""
            },
            "type": "choropleth"
           }
          ],
          "contour": [
           {
            "colorbar": {
             "outlinewidth": 0,
             "ticks": ""
            },
            "colorscale": [
             [
              0,
              "#0d0887"
             ],
             [
              0.1111111111111111,
              "#46039f"
             ],
             [
              0.2222222222222222,
              "#7201a8"
             ],
             [
              0.3333333333333333,
              "#9c179e"
             ],
             [
              0.4444444444444444,
              "#bd3786"
             ],
             [
              0.5555555555555556,
              "#d8576b"
             ],
             [
              0.6666666666666666,
              "#ed7953"
             ],
             [
              0.7777777777777778,
              "#fb9f3a"
             ],
             [
              0.8888888888888888,
              "#fdca26"
             ],
             [
              1,
              "#f0f921"
             ]
            ],
            "type": "contour"
           }
          ],
          "contourcarpet": [
           {
            "colorbar": {
             "outlinewidth": 0,
             "ticks": ""
            },
            "type": "contourcarpet"
           }
          ],
          "heatmap": [
           {
            "colorbar": {
             "outlinewidth": 0,
             "ticks": ""
            },
            "colorscale": [
             [
              0,
              "#0d0887"
             ],
             [
              0.1111111111111111,
              "#46039f"
             ],
             [
              0.2222222222222222,
              "#7201a8"
             ],
             [
              0.3333333333333333,
              "#9c179e"
             ],
             [
              0.4444444444444444,
              "#bd3786"
             ],
             [
              0.5555555555555556,
              "#d8576b"
             ],
             [
              0.6666666666666666,
              "#ed7953"
             ],
             [
              0.7777777777777778,
              "#fb9f3a"
             ],
             [
              0.8888888888888888,
              "#fdca26"
             ],
             [
              1,
              "#f0f921"
             ]
            ],
            "type": "heatmap"
           }
          ],
          "heatmapgl": [
           {
            "colorbar": {
             "outlinewidth": 0,
             "ticks": ""
            },
            "colorscale": [
             [
              0,
              "#0d0887"
             ],
             [
              0.1111111111111111,
              "#46039f"
             ],
             [
              0.2222222222222222,
              "#7201a8"
             ],
             [
              0.3333333333333333,
              "#9c179e"
             ],
             [
              0.4444444444444444,
              "#bd3786"
             ],
             [
              0.5555555555555556,
              "#d8576b"
             ],
             [
              0.6666666666666666,
              "#ed7953"
             ],
             [
              0.7777777777777778,
              "#fb9f3a"
             ],
             [
              0.8888888888888888,
              "#fdca26"
             ],
             [
              1,
              "#f0f921"
             ]
            ],
            "type": "heatmapgl"
           }
          ],
          "histogram": [
           {
            "marker": {
             "pattern": {
              "fillmode": "overlay",
              "size": 10,
              "solidity": 0.2
             }
            },
            "type": "histogram"
           }
          ],
          "histogram2d": [
           {
            "colorbar": {
             "outlinewidth": 0,
             "ticks": ""
            },
            "colorscale": [
             [
              0,
              "#0d0887"
             ],
             [
              0.1111111111111111,
              "#46039f"
             ],
             [
              0.2222222222222222,
              "#7201a8"
             ],
             [
              0.3333333333333333,
              "#9c179e"
             ],
             [
              0.4444444444444444,
              "#bd3786"
             ],
             [
              0.5555555555555556,
              "#d8576b"
             ],
             [
              0.6666666666666666,
              "#ed7953"
             ],
             [
              0.7777777777777778,
              "#fb9f3a"
             ],
             [
              0.8888888888888888,
              "#fdca26"
             ],
             [
              1,
              "#f0f921"
             ]
            ],
            "type": "histogram2d"
           }
          ],
          "histogram2dcontour": [
           {
            "colorbar": {
             "outlinewidth": 0,
             "ticks": ""
            },
            "colorscale": [
             [
              0,
              "#0d0887"
             ],
             [
              0.1111111111111111,
              "#46039f"
             ],
             [
              0.2222222222222222,
              "#7201a8"
             ],
             [
              0.3333333333333333,
              "#9c179e"
             ],
             [
              0.4444444444444444,
              "#bd3786"
             ],
             [
              0.5555555555555556,
              "#d8576b"
             ],
             [
              0.6666666666666666,
              "#ed7953"
             ],
             [
              0.7777777777777778,
              "#fb9f3a"
             ],
             [
              0.8888888888888888,
              "#fdca26"
             ],
             [
              1,
              "#f0f921"
             ]
            ],
            "type": "histogram2dcontour"
           }
          ],
          "mesh3d": [
           {
            "colorbar": {
             "outlinewidth": 0,
             "ticks": ""
            },
            "type": "mesh3d"
           }
          ],
          "parcoords": [
           {
            "line": {
             "colorbar": {
              "outlinewidth": 0,
              "ticks": ""
             }
            },
            "type": "parcoords"
           }
          ],
          "pie": [
           {
            "automargin": true,
            "type": "pie"
           }
          ],
          "scatter": [
           {
            "fillpattern": {
             "fillmode": "overlay",
             "size": 10,
             "solidity": 0.2
            },
            "type": "scatter"
           }
          ],
          "scatter3d": [
           {
            "line": {
             "colorbar": {
              "outlinewidth": 0,
              "ticks": ""
             }
            },
            "marker": {
             "colorbar": {
              "outlinewidth": 0,
              "ticks": ""
             }
            },
            "type": "scatter3d"
           }
          ],
          "scattercarpet": [
           {
            "marker": {
             "colorbar": {
              "outlinewidth": 0,
              "ticks": ""
             }
            },
            "type": "scattercarpet"
           }
          ],
          "scattergeo": [
           {
            "marker": {
             "colorbar": {
              "outlinewidth": 0,
              "ticks": ""
             }
            },
            "type": "scattergeo"
           }
          ],
          "scattergl": [
           {
            "marker": {
             "colorbar": {
              "outlinewidth": 0,
              "ticks": ""
             }
            },
            "type": "scattergl"
           }
          ],
          "scattermapbox": [
           {
            "marker": {
             "colorbar": {
              "outlinewidth": 0,
              "ticks": ""
             }
            },
            "type": "scattermapbox"
           }
          ],
          "scatterpolar": [
           {
            "marker": {
             "colorbar": {
              "outlinewidth": 0,
              "ticks": ""
             }
            },
            "type": "scatterpolar"
           }
          ],
          "scatterpolargl": [
           {
            "marker": {
             "colorbar": {
              "outlinewidth": 0,
              "ticks": ""
             }
            },
            "type": "scatterpolargl"
           }
          ],
          "scatterternary": [
           {
            "marker": {
             "colorbar": {
              "outlinewidth": 0,
              "ticks": ""
             }
            },
            "type": "scatterternary"
           }
          ],
          "surface": [
           {
            "colorbar": {
             "outlinewidth": 0,
             "ticks": ""
            },
            "colorscale": [
             [
              0,
              "#0d0887"
             ],
             [
              0.1111111111111111,
              "#46039f"
             ],
             [
              0.2222222222222222,
              "#7201a8"
             ],
             [
              0.3333333333333333,
              "#9c179e"
             ],
             [
              0.4444444444444444,
              "#bd3786"
             ],
             [
              0.5555555555555556,
              "#d8576b"
             ],
             [
              0.6666666666666666,
              "#ed7953"
             ],
             [
              0.7777777777777778,
              "#fb9f3a"
             ],
             [
              0.8888888888888888,
              "#fdca26"
             ],
             [
              1,
              "#f0f921"
             ]
            ],
            "type": "surface"
           }
          ],
          "table": [
           {
            "cells": {
             "fill": {
              "color": "#EBF0F8"
             },
             "line": {
              "color": "white"
             }
            },
            "header": {
             "fill": {
              "color": "#C8D4E3"
             },
             "line": {
              "color": "white"
             }
            },
            "type": "table"
           }
          ]
         },
         "layout": {
          "annotationdefaults": {
           "arrowcolor": "#2a3f5f",
           "arrowhead": 0,
           "arrowwidth": 1
          },
          "autotypenumbers": "strict",
          "coloraxis": {
           "colorbar": {
            "outlinewidth": 0,
            "ticks": ""
           }
          },
          "colorscale": {
           "diverging": [
            [
             0,
             "#8e0152"
            ],
            [
             0.1,
             "#c51b7d"
            ],
            [
             0.2,
             "#de77ae"
            ],
            [
             0.3,
             "#f1b6da"
            ],
            [
             0.4,
             "#fde0ef"
            ],
            [
             0.5,
             "#f7f7f7"
            ],
            [
             0.6,
             "#e6f5d0"
            ],
            [
             0.7,
             "#b8e186"
            ],
            [
             0.8,
             "#7fbc41"
            ],
            [
             0.9,
             "#4d9221"
            ],
            [
             1,
             "#276419"
            ]
           ],
           "sequential": [
            [
             0,
             "#0d0887"
            ],
            [
             0.1111111111111111,
             "#46039f"
            ],
            [
             0.2222222222222222,
             "#7201a8"
            ],
            [
             0.3333333333333333,
             "#9c179e"
            ],
            [
             0.4444444444444444,
             "#bd3786"
            ],
            [
             0.5555555555555556,
             "#d8576b"
            ],
            [
             0.6666666666666666,
             "#ed7953"
            ],
            [
             0.7777777777777778,
             "#fb9f3a"
            ],
            [
             0.8888888888888888,
             "#fdca26"
            ],
            [
             1,
             "#f0f921"
            ]
           ],
           "sequentialminus": [
            [
             0,
             "#0d0887"
            ],
            [
             0.1111111111111111,
             "#46039f"
            ],
            [
             0.2222222222222222,
             "#7201a8"
            ],
            [
             0.3333333333333333,
             "#9c179e"
            ],
            [
             0.4444444444444444,
             "#bd3786"
            ],
            [
             0.5555555555555556,
             "#d8576b"
            ],
            [
             0.6666666666666666,
             "#ed7953"
            ],
            [
             0.7777777777777778,
             "#fb9f3a"
            ],
            [
             0.8888888888888888,
             "#fdca26"
            ],
            [
             1,
             "#f0f921"
            ]
           ]
          },
          "colorway": [
           "#636efa",
           "#EF553B",
           "#00cc96",
           "#ab63fa",
           "#FFA15A",
           "#19d3f3",
           "#FF6692",
           "#B6E880",
           "#FF97FF",
           "#FECB52"
          ],
          "font": {
           "color": "#2a3f5f"
          },
          "geo": {
           "bgcolor": "white",
           "lakecolor": "white",
           "landcolor": "#E5ECF6",
           "showlakes": true,
           "showland": true,
           "subunitcolor": "white"
          },
          "hoverlabel": {
           "align": "left"
          },
          "hovermode": "closest",
          "mapbox": {
           "style": "light"
          },
          "paper_bgcolor": "white",
          "plot_bgcolor": "#E5ECF6",
          "polar": {
           "angularaxis": {
            "gridcolor": "white",
            "linecolor": "white",
            "ticks": ""
           },
           "bgcolor": "#E5ECF6",
           "radialaxis": {
            "gridcolor": "white",
            "linecolor": "white",
            "ticks": ""
           }
          },
          "scene": {
           "xaxis": {
            "backgroundcolor": "#E5ECF6",
            "gridcolor": "white",
            "gridwidth": 2,
            "linecolor": "white",
            "showbackground": true,
            "ticks": "",
            "zerolinecolor": "white"
           },
           "yaxis": {
            "backgroundcolor": "#E5ECF6",
            "gridcolor": "white",
            "gridwidth": 2,
            "linecolor": "white",
            "showbackground": true,
            "ticks": "",
            "zerolinecolor": "white"
           },
           "zaxis": {
            "backgroundcolor": "#E5ECF6",
            "gridcolor": "white",
            "gridwidth": 2,
            "linecolor": "white",
            "showbackground": true,
            "ticks": "",
            "zerolinecolor": "white"
           }
          },
          "shapedefaults": {
           "line": {
            "color": "#2a3f5f"
           }
          },
          "ternary": {
           "aaxis": {
            "gridcolor": "white",
            "linecolor": "white",
            "ticks": ""
           },
           "baxis": {
            "gridcolor": "white",
            "linecolor": "white",
            "ticks": ""
           },
           "bgcolor": "#E5ECF6",
           "caxis": {
            "gridcolor": "white",
            "linecolor": "white",
            "ticks": ""
           }
          },
          "title": {
           "x": 0.05
          },
          "xaxis": {
           "automargin": true,
           "gridcolor": "white",
           "linecolor": "white",
           "ticks": "",
           "title": {
            "standoff": 15
           },
           "zerolinecolor": "white",
           "zerolinewidth": 2
          },
          "yaxis": {
           "automargin": true,
           "gridcolor": "white",
           "linecolor": "white",
           "ticks": "",
           "title": {
            "standoff": 15
           },
           "zerolinecolor": "white",
           "zerolinewidth": 2
          }
         }
        },
        "title": {
         "text": "Relationship between Schizophrenia, GDP and life ladder per country"
        }
       }
      },
      "text/html": [
       "<div>                            <div id=\"7ba25845-8d75-4a8f-9830-122057d4e372\" class=\"plotly-graph-div\" style=\"height:525px; width:100%;\"></div>            <script type=\"text/javascript\">                require([\"plotly\"], function(Plotly) {                    window.PLOTLYENV=window.PLOTLYENV || {};                                    if (document.getElementById(\"7ba25845-8d75-4a8f-9830-122057d4e372\")) {                    Plotly.newPlot(                        \"7ba25845-8d75-4a8f-9830-122057d4e372\",                        [{\"hovertemplate\":\"Country Name=Afghanistan\\u003cbr\\u003eLife Ladder=%{x}\\u003cbr\\u003eLog GDP Per Capita=%{y}\\u003cbr\\u003eSchizophrenia (%)=%{z}\\u003cextra\\u003e\\u003c\\u002fextra\\u003e\",\"legendgroup\":\"Afghanistan\",\"marker\":{\"color\":\"#636efa\",\"opacity\":0.7,\"symbol\":\"circle\"},\"mode\":\"markers\",\"name\":\"Afghanistan\",\"scene\":\"scene\",\"showlegend\":true,\"x\":[2.66171813],\"y\":[7.647830486],\"z\":[0.166158],\"type\":\"scatter3d\"},{\"hovertemplate\":\"Country Name=Albania\\u003cbr\\u003eLife Ladder=%{x}\\u003cbr\\u003eLog GDP Per Capita=%{y}\\u003cbr\\u003eSchizophrenia (%)=%{z}\\u003cextra\\u003e\\u003c\\u002fextra\\u003e\",\"legendgroup\":\"Albania\",\"marker\":{\"color\":\"#EF553B\",\"opacity\":0.7,\"symbol\":\"circle\"},\"mode\":\"markers\",\"name\":\"Albania\",\"scene\":\"scene\",\"showlegend\":true,\"x\":[4.639548302],\"y\":[9.455109596],\"z\":[0.201025],\"type\":\"scatter3d\"},{\"hovertemplate\":\"Country Name=Argentina\\u003cbr\\u003eLife Ladder=%{x}\\u003cbr\\u003eLog GDP Per Capita=%{y}\\u003cbr\\u003eSchizophrenia (%)=%{z}\\u003cextra\\u003e\\u003c\\u002fextra\\u003e\",\"legendgroup\":\"Argentina\",\"marker\":{\"color\":\"#00cc96\",\"opacity\":0.7,\"symbol\":\"circle\"},\"mode\":\"markers\",\"name\":\"Argentina\",\"scene\":\"scene\",\"showlegend\":true,\"x\":[6.039330006],\"y\":[10.06888008],\"z\":[0.198094],\"type\":\"scatter3d\"},{\"hovertemplate\":\"Country Name=Armenia\\u003cbr\\u003eLife Ladder=%{x}\\u003cbr\\u003eLog GDP Per Capita=%{y}\\u003cbr\\u003eSchizophrenia (%)=%{z}\\u003cextra\\u003e\\u003c\\u002fextra\\u003e\",\"legendgroup\":\"Armenia\",\"marker\":{\"color\":\"#ab63fa\",\"opacity\":0.7,\"symbol\":\"circle\"},\"mode\":\"markers\",\"name\":\"Armenia\",\"scene\":\"scene\",\"showlegend\":true,\"x\":[4.287736416],\"y\":[9.434254646],\"z\":[0.197365],\"type\":\"scatter3d\"},{\"hovertemplate\":\"Country Name=Australia\\u003cbr\\u003eLife Ladder=%{x}\\u003cbr\\u003eLog GDP Per Capita=%{y}\\u003cbr\\u003eSchizophrenia (%)=%{z}\\u003cextra\\u003e\\u003c\\u002fextra\\u003e\",\"legendgroup\":\"Australia\",\"marker\":{\"color\":\"#FFA15A\",\"opacity\":0.7,\"symbol\":\"circle\"},\"mode\":\"markers\",\"name\":\"Australia\",\"scene\":\"scene\",\"showlegend\":true,\"x\":[7.25703764],\"y\":[10.78726006],\"z\":[0.363326],\"type\":\"scatter3d\"},{\"hovertemplate\":\"Country Name=Austria\\u003cbr\\u003eLife Ladder=%{x}\\u003cbr\\u003eLog GDP Per Capita=%{y}\\u003cbr\\u003eSchizophrenia (%)=%{z}\\u003cextra\\u003e\\u003c\\u002fextra\\u003e\",\"legendgroup\":\"Austria\",\"marker\":{\"color\":\"#19d3f3\",\"opacity\":0.7,\"symbol\":\"circle\"},\"mode\":\"markers\",\"name\":\"Austria\",\"scene\":\"scene\",\"showlegend\":true,\"x\":[7.293727875],\"y\":[10.89993763],\"z\":[0.256958],\"type\":\"scatter3d\"},{\"hovertemplate\":\"Country Name=Azerbaijan\\u003cbr\\u003eLife Ladder=%{x}\\u003cbr\\u003eLog GDP Per Capita=%{y}\\u003cbr\\u003eSchizophrenia (%)=%{z}\\u003cextra\\u003e\\u003c\\u002fextra\\u003e\",\"legendgroup\":\"Azerbaijan\",\"marker\":{\"color\":\"#FF6692\",\"opacity\":0.7,\"symbol\":\"circle\"},\"mode\":\"markers\",\"name\":\"Azerbaijan\",\"scene\":\"scene\",\"showlegend\":true,\"x\":[5.152279377],\"y\":[9.555447578],\"z\":[0.199998],\"type\":\"scatter3d\"},{\"hovertemplate\":\"Country Name=Bangladesh\\u003cbr\\u003eLife Ladder=%{x}\\u003cbr\\u003eLog GDP Per Capita=%{y}\\u003cbr\\u003eSchizophrenia (%)=%{z}\\u003cextra\\u003e\\u003c\\u002fextra\\u003e\",\"legendgroup\":\"Bangladesh\",\"marker\":{\"color\":\"#B6E880\",\"opacity\":0.7,\"symbol\":\"circle\"},\"mode\":\"markers\",\"name\":\"Bangladesh\",\"scene\":\"scene\",\"showlegend\":true,\"x\":[4.309771061],\"y\":[8.482762337],\"z\":[0.2526],\"type\":\"scatter3d\"},{\"hovertemplate\":\"Country Name=Belarus\\u003cbr\\u003eLife Ladder=%{x}\\u003cbr\\u003eLog GDP Per Capita=%{y}\\u003cbr\\u003eSchizophrenia (%)=%{z}\\u003cextra\\u003e\\u003c\\u002fextra\\u003e\",\"legendgroup\":\"Belarus\",\"marker\":{\"color\":\"#FF97FF\",\"opacity\":0.7,\"symbol\":\"circle\"},\"mode\":\"markers\",\"name\":\"Belarus\",\"scene\":\"scene\",\"showlegend\":true,\"x\":[5.552915096],\"y\":[9.817717552],\"z\":[0.19765],\"type\":\"scatter3d\"},{\"hovertemplate\":\"Country Name=Belgium\\u003cbr\\u003eLife Ladder=%{x}\\u003cbr\\u003eLog GDP Per Capita=%{y}\\u003cbr\\u003eSchizophrenia (%)=%{z}\\u003cextra\\u003e\\u003c\\u002fextra\\u003e\",\"legendgroup\":\"Belgium\",\"marker\":{\"color\":\"#FECB52\",\"opacity\":0.7,\"symbol\":\"circle\"},\"mode\":\"markers\",\"name\":\"Belgium\",\"scene\":\"scene\",\"showlegend\":true,\"x\":[6.928347588],\"y\":[10.82858467],\"z\":[0.258073],\"type\":\"scatter3d\"},{\"hovertemplate\":\"Country Name=Benin\\u003cbr\\u003eLife Ladder=%{x}\\u003cbr\\u003eLog GDP Per Capita=%{y}\\u003cbr\\u003eSchizophrenia (%)=%{z}\\u003cextra\\u003e\\u003c\\u002fextra\\u003e\",\"legendgroup\":\"Benin\",\"marker\":{\"color\":\"#636efa\",\"opacity\":0.7,\"symbol\":\"circle\"},\"mode\":\"markers\",\"name\":\"Benin\",\"scene\":\"scene\",\"showlegend\":true,\"x\":[4.853180885],\"y\":[7.984066486],\"z\":[0.170322],\"type\":\"scatter3d\"},{\"hovertemplate\":\"Country Name=Bolivia\\u003cbr\\u003eLife Ladder=%{x}\\u003cbr\\u003eLog GDP Per Capita=%{y}\\u003cbr\\u003eSchizophrenia (%)=%{z}\\u003cextra\\u003e\\u003c\\u002fextra\\u003e\",\"legendgroup\":\"Bolivia\",\"marker\":{\"color\":\"#EF553B\",\"opacity\":0.7,\"symbol\":\"circle\"},\"mode\":\"markers\",\"name\":\"Bolivia\",\"scene\":\"scene\",\"showlegend\":true,\"x\":[5.65055275],\"y\":[9.017354012],\"z\":[0.193936],\"type\":\"scatter3d\"},{\"hovertemplate\":\"Country Name=Bosnia and Herzegovina\\u003cbr\\u003eLife Ladder=%{x}\\u003cbr\\u003eLog GDP Per Capita=%{y}\\u003cbr\\u003eSchizophrenia (%)=%{z}\\u003cextra\\u003e\\u003c\\u002fextra\\u003e\",\"legendgroup\":\"Bosnia and Herzegovina\",\"marker\":{\"color\":\"#00cc96\",\"opacity\":0.7,\"symbol\":\"circle\"},\"mode\":\"markers\",\"name\":\"Bosnia and Herzegovina\",\"scene\":\"scene\",\"showlegend\":true,\"x\":[5.089902401],\"y\":[9.503191948],\"z\":[0.200703],\"type\":\"scatter3d\"},{\"hovertemplate\":\"Country Name=Botswana\\u003cbr\\u003eLife Ladder=%{x}\\u003cbr\\u003eLog GDP Per Capita=%{y}\\u003cbr\\u003eSchizophrenia (%)=%{z}\\u003cextra\\u003e\\u003c\\u002fextra\\u003e\",\"legendgroup\":\"Botswana\",\"marker\":{\"color\":\"#ab63fa\",\"opacity\":0.7,\"symbol\":\"circle\"},\"mode\":\"markers\",\"name\":\"Botswana\",\"scene\":\"scene\",\"showlegend\":true,\"x\":[3.504881144],\"y\":[9.592658043],\"z\":[0.181928],\"type\":\"scatter3d\"},{\"hovertemplate\":\"Country Name=Brazil\\u003cbr\\u003eLife Ladder=%{x}\\u003cbr\\u003eLog GDP Per Capita=%{y}\\u003cbr\\u003eSchizophrenia (%)=%{z}\\u003cextra\\u003e\\u003c\\u002fextra\\u003e\",\"legendgroup\":\"Brazil\",\"marker\":{\"color\":\"#FFA15A\",\"opacity\":0.7,\"symbol\":\"circle\"},\"mode\":\"markers\",\"name\":\"Brazil\",\"scene\":\"scene\",\"showlegend\":true,\"x\":[6.332929134],\"y\":[9.580375671],\"z\":[0.205534],\"type\":\"scatter3d\"},{\"hovertemplate\":\"Country Name=Bulgaria\\u003cbr\\u003eLife Ladder=%{x}\\u003cbr\\u003eLog GDP Per Capita=%{y}\\u003cbr\\u003eSchizophrenia (%)=%{z}\\u003cextra\\u003e\\u003c\\u002fextra\\u003e\",\"legendgroup\":\"Bulgaria\",\"marker\":{\"color\":\"#19d3f3\",\"opacity\":0.7,\"symbol\":\"circle\"},\"mode\":\"markers\",\"name\":\"Bulgaria\",\"scene\":\"scene\",\"showlegend\":true,\"x\":[5.096901894],\"y\":[9.974589348],\"z\":[0.202455],\"type\":\"scatter3d\"},{\"hovertemplate\":\"Country Name=Burkina Faso\\u003cbr\\u003eLife Ladder=%{x}\\u003cbr\\u003eLog GDP Per Capita=%{y}\\u003cbr\\u003eSchizophrenia (%)=%{z}\\u003cextra\\u003e\\u003c\\u002fextra\\u003e\",\"legendgroup\":\"Burkina Faso\",\"marker\":{\"color\":\"#FF6692\",\"opacity\":0.7,\"symbol\":\"circle\"},\"mode\":\"markers\",\"name\":\"Burkina Faso\",\"scene\":\"scene\",\"showlegend\":true,\"x\":[4.646891117],\"y\":[7.589920044],\"z\":[0.164745],\"type\":\"scatter3d\"},{\"hovertemplate\":\"Country Name=Cambodia\\u003cbr\\u003eLife Ladder=%{x}\\u003cbr\\u003eLog GDP Per Capita=%{y}\\u003cbr\\u003eSchizophrenia (%)=%{z}\\u003cextra\\u003e\\u003c\\u002fextra\\u003e\",\"legendgroup\":\"Cambodia\",\"marker\":{\"color\":\"#B6E880\",\"opacity\":0.7,\"symbol\":\"circle\"},\"mode\":\"markers\",\"name\":\"Cambodia\",\"scene\":\"scene\",\"showlegend\":true,\"x\":[4.585842133],\"y\":[8.287207603],\"z\":[0.208266],\"type\":\"scatter3d\"},{\"hovertemplate\":\"Country Name=Cameroon\\u003cbr\\u003eLife Ladder=%{x}\\u003cbr\\u003eLog GDP Per Capita=%{y}\\u003cbr\\u003eSchizophrenia (%)=%{z}\\u003cextra\\u003e\\u003c\\u002fextra\\u003e\",\"legendgroup\":\"Cameroon\",\"marker\":{\"color\":\"#FF97FF\",\"opacity\":0.7,\"symbol\":\"circle\"},\"mode\":\"markers\",\"name\":\"Cameroon\",\"scene\":\"scene\",\"showlegend\":true,\"x\":[5.07405138],\"y\":[8.21367836],\"z\":[0.170796],\"type\":\"scatter3d\"},{\"hovertemplate\":\"Country Name=Canada\\u003cbr\\u003eLife Ladder=%{x}\\u003cbr\\u003eLog GDP Per Capita=%{y}\\u003cbr\\u003eSchizophrenia (%)=%{z}\\u003cextra\\u003e\\u003c\\u002fextra\\u003e\",\"legendgroup\":\"Canada\",\"marker\":{\"color\":\"#FECB52\",\"opacity\":0.7,\"symbol\":\"circle\"},\"mode\":\"markers\",\"name\":\"Canada\",\"scene\":\"scene\",\"showlegend\":true,\"x\":[7.414868355],\"y\":[10.78554249],\"z\":[0.315588],\"type\":\"scatter3d\"},{\"hovertemplate\":\"Country Name=Chad\\u003cbr\\u003eLife Ladder=%{x}\\u003cbr\\u003eLog GDP Per Capita=%{y}\\u003cbr\\u003eSchizophrenia (%)=%{z}\\u003cextra\\u003e\\u003c\\u002fextra\\u003e\",\"legendgroup\":\"Chad\",\"marker\":{\"color\":\"#636efa\",\"opacity\":0.7,\"symbol\":\"circle\"},\"mode\":\"markers\",\"name\":\"Chad\",\"scene\":\"scene\",\"showlegend\":true,\"x\":[4.558937073],\"y\":[7.365028381],\"z\":[0.168019],\"type\":\"scatter3d\"},{\"hovertemplate\":\"Country Name=Chile\\u003cbr\\u003eLife Ladder=%{x}\\u003cbr\\u003eLog GDP Per Capita=%{y}\\u003cbr\\u003eSchizophrenia (%)=%{z}\\u003cextra\\u003e\\u003c\\u002fextra\\u003e\",\"legendgroup\":\"Chile\",\"marker\":{\"color\":\"#EF553B\",\"opacity\":0.7,\"symbol\":\"circle\"},\"mode\":\"markers\",\"name\":\"Chile\",\"scene\":\"scene\",\"showlegend\":true,\"x\":[6.320119381],\"y\":[10.10834122],\"z\":[0.20143],\"type\":\"scatter3d\"},{\"hovertemplate\":\"Country Name=Colombia\\u003cbr\\u003eLife Ladder=%{x}\\u003cbr\\u003eLog GDP Per Capita=%{y}\\u003cbr\\u003eSchizophrenia (%)=%{z}\\u003cextra\\u003e\\u003c\\u002fextra\\u003e\",\"legendgroup\":\"Colombia\",\"marker\":{\"color\":\"#00cc96\",\"opacity\":0.7,\"symbol\":\"circle\"},\"mode\":\"markers\",\"name\":\"Colombia\",\"scene\":\"scene\",\"showlegend\":true,\"x\":[6.157341957],\"y\":[9.570453644],\"z\":[0.207211],\"type\":\"scatter3d\"},{\"hovertemplate\":\"Country Name=Costa Rica\\u003cbr\\u003eLife Ladder=%{x}\\u003cbr\\u003eLog GDP Per Capita=%{y}\\u003cbr\\u003eSchizophrenia (%)=%{z}\\u003cextra\\u003e\\u003c\\u002fextra\\u003e\",\"legendgroup\":\"Costa Rica\",\"marker\":{\"color\":\"#ab63fa\",\"opacity\":0.7,\"symbol\":\"circle\"},\"mode\":\"markers\",\"name\":\"Costa Rica\",\"scene\":\"scene\",\"showlegend\":true,\"x\":[7.22518158],\"y\":[9.911863327],\"z\":[0.21389],\"type\":\"scatter3d\"},{\"hovertemplate\":\"Country Name=Croatia\\u003cbr\\u003eLife Ladder=%{x}\\u003cbr\\u003eLog GDP Per Capita=%{y}\\u003cbr\\u003eSchizophrenia (%)=%{z}\\u003cextra\\u003e\\u003c\\u002fextra\\u003e\",\"legendgroup\":\"Croatia\",\"marker\":{\"color\":\"#FFA15A\",\"opacity\":0.7,\"symbol\":\"circle\"},\"mode\":\"markers\",\"name\":\"Croatia\",\"scene\":\"scene\",\"showlegend\":true,\"x\":[5.343165874],\"y\":[10.21140671],\"z\":[0.207565],\"type\":\"scatter3d\"},{\"hovertemplate\":\"Country Name=Cyprus\\u003cbr\\u003eLife Ladder=%{x}\\u003cbr\\u003eLog GDP Per Capita=%{y}\\u003cbr\\u003eSchizophrenia (%)=%{z}\\u003cextra\\u003e\\u003c\\u002fextra\\u003e\",\"legendgroup\":\"Cyprus\",\"marker\":{\"color\":\"#19d3f3\",\"opacity\":0.7,\"symbol\":\"circle\"},\"mode\":\"markers\",\"name\":\"Cyprus\",\"scene\":\"scene\",\"showlegend\":true,\"x\":[6.062051296],\"y\":[10.55638504],\"z\":[0.252272],\"type\":\"scatter3d\"},{\"hovertemplate\":\"Country Name=Denmark\\u003cbr\\u003eLife Ladder=%{x}\\u003cbr\\u003eLog GDP Per Capita=%{y}\\u003cbr\\u003eSchizophrenia (%)=%{z}\\u003cextra\\u003e\\u003c\\u002fextra\\u003e\",\"legendgroup\":\"Denmark\",\"marker\":{\"color\":\"#FF6692\",\"opacity\":0.7,\"symbol\":\"circle\"},\"mode\":\"markers\",\"name\":\"Denmark\",\"scene\":\"scene\",\"showlegend\":true,\"x\":[7.593702316],\"y\":[10.92155266],\"z\":[0.254017],\"type\":\"scatter3d\"},{\"hovertemplate\":\"Country Name=Dominican Republic\\u003cbr\\u003eLife Ladder=%{x}\\u003cbr\\u003eLog GDP Per Capita=%{y}\\u003cbr\\u003eSchizophrenia (%)=%{z}\\u003cextra\\u003e\\u003c\\u002fextra\\u003e\",\"legendgroup\":\"Dominican Republic\",\"marker\":{\"color\":\"#B6E880\",\"opacity\":0.7,\"symbol\":\"circle\"},\"mode\":\"markers\",\"name\":\"Dominican Republic\",\"scene\":\"scene\",\"showlegend\":true,\"x\":[5.605202675],\"y\":[9.712601662],\"z\":[0.199462],\"type\":\"scatter3d\"},{\"hovertemplate\":\"Country Name=Ecuador\\u003cbr\\u003eLife Ladder=%{x}\\u003cbr\\u003eLog GDP Per Capita=%{y}\\u003cbr\\u003eSchizophrenia (%)=%{z}\\u003cextra\\u003e\\u003c\\u002fextra\\u003e\",\"legendgroup\":\"Ecuador\",\"marker\":{\"color\":\"#FF97FF\",\"opacity\":0.7,\"symbol\":\"circle\"},\"mode\":\"markers\",\"name\":\"Ecuador\",\"scene\":\"scene\",\"showlegend\":true,\"x\":[5.839518547],\"y\":[9.365584373],\"z\":[0.202912],\"type\":\"scatter3d\"},{\"hovertemplate\":\"Country Name=El Salvador\\u003cbr\\u003eLife Ladder=%{x}\\u003cbr\\u003eLog GDP Per Capita=%{y}\\u003cbr\\u003eSchizophrenia (%)=%{z}\\u003cextra\\u003e\\u003c\\u002fextra\\u003e\",\"legendgroup\":\"El Salvador\",\"marker\":{\"color\":\"#FECB52\",\"opacity\":0.7,\"symbol\":\"circle\"},\"mode\":\"markers\",\"name\":\"El Salvador\",\"scene\":\"scene\",\"showlegend\":true,\"x\":[6.339318275],\"y\":[9.061598778],\"z\":[0.197831],\"type\":\"scatter3d\"},{\"hovertemplate\":\"Country Name=Estonia\\u003cbr\\u003eLife Ladder=%{x}\\u003cbr\\u003eLog GDP Per Capita=%{y}\\u003cbr\\u003eSchizophrenia (%)=%{z}\\u003cextra\\u003e\\u003c\\u002fextra\\u003e\",\"legendgroup\":\"Estonia\",\"marker\":{\"color\":\"#636efa\",\"opacity\":0.7,\"symbol\":\"circle\"},\"mode\":\"markers\",\"name\":\"Estonia\",\"scene\":\"scene\",\"showlegend\":true,\"x\":[5.938395977],\"y\":[10.42886448],\"z\":[0.203978],\"type\":\"scatter3d\"},{\"hovertemplate\":\"Country Name=Ethiopia\\u003cbr\\u003eLife Ladder=%{x}\\u003cbr\\u003eLog GDP Per Capita=%{y}\\u003cbr\\u003eSchizophrenia (%)=%{z}\\u003cextra\\u003e\\u003c\\u002fextra\\u003e\",\"legendgroup\":\"Ethiopia\",\"marker\":{\"color\":\"#EF553B\",\"opacity\":0.7,\"symbol\":\"circle\"},\"mode\":\"markers\",\"name\":\"Ethiopia\",\"scene\":\"scene\",\"showlegend\":true,\"x\":[4.180315495],\"y\":[7.59486866],\"z\":[0.164823],\"type\":\"scatter3d\"},{\"hovertemplate\":\"Country Name=Finland\\u003cbr\\u003eLife Ladder=%{x}\\u003cbr\\u003eLog GDP Per Capita=%{y}\\u003cbr\\u003eSchizophrenia (%)=%{z}\\u003cextra\\u003e\\u003c\\u002fextra\\u003e\",\"legendgroup\":\"Finland\",\"marker\":{\"color\":\"#00cc96\",\"opacity\":0.7,\"symbol\":\"circle\"},\"mode\":\"markers\",\"name\":\"Finland\",\"scene\":\"scene\",\"showlegend\":true,\"x\":[7.788251877],\"y\":[10.7699604],\"z\":[0.257444],\"type\":\"scatter3d\"},{\"hovertemplate\":\"Country Name=France\\u003cbr\\u003eLife Ladder=%{x}\\u003cbr\\u003eLog GDP Per Capita=%{y}\\u003cbr\\u003eSchizophrenia (%)=%{z}\\u003cextra\\u003e\\u003c\\u002fextra\\u003e\",\"legendgroup\":\"France\",\"marker\":{\"color\":\"#ab63fa\",\"opacity\":0.7,\"symbol\":\"circle\"},\"mode\":\"markers\",\"name\":\"France\",\"scene\":\"scene\",\"showlegend\":true,\"x\":[6.635222435],\"y\":[10.70497513],\"z\":[0.256238],\"type\":\"scatter3d\"},{\"hovertemplate\":\"Country Name=Gabon\\u003cbr\\u003eLife Ladder=%{x}\\u003cbr\\u003eLog GDP Per Capita=%{y}\\u003cbr\\u003eSchizophrenia (%)=%{z}\\u003cextra\\u003e\\u003c\\u002fextra\\u003e\",\"legendgroup\":\"Gabon\",\"marker\":{\"color\":\"#FFA15A\",\"opacity\":0.7,\"symbol\":\"circle\"},\"mode\":\"markers\",\"name\":\"Gabon\",\"scene\":\"scene\",\"showlegend\":true,\"x\":[4.782382965],\"y\":[9.580394745],\"z\":[0.181546],\"type\":\"scatter3d\"},{\"hovertemplate\":\"Country Name=Gambia\\u003cbr\\u003eLife Ladder=%{x}\\u003cbr\\u003eLog GDP Per Capita=%{y}\\u003cbr\\u003eSchizophrenia (%)=%{z}\\u003cextra\\u003e\\u003c\\u002fextra\\u003e\",\"legendgroup\":\"Gambia\",\"marker\":{\"color\":\"#19d3f3\",\"opacity\":0.7,\"symbol\":\"circle\"},\"mode\":\"markers\",\"name\":\"Gambia\",\"scene\":\"scene\",\"showlegend\":true,\"x\":[4.117938995],\"y\":[7.563740253],\"z\":[0.169677],\"type\":\"scatter3d\"},{\"hovertemplate\":\"Country Name=Georgia\\u003cbr\\u003eLife Ladder=%{x}\\u003cbr\\u003eLog GDP Per Capita=%{y}\\u003cbr\\u003eSchizophrenia (%)=%{z}\\u003cextra\\u003e\\u003c\\u002fextra\\u003e\",\"legendgroup\":\"Georgia\",\"marker\":{\"color\":\"#FF6692\",\"opacity\":0.7,\"symbol\":\"circle\"},\"mode\":\"markers\",\"name\":\"Georgia\",\"scene\":\"scene\",\"showlegend\":true,\"x\":[4.45077467],\"y\":[9.517067909],\"z\":[0.196776],\"type\":\"scatter3d\"},{\"hovertemplate\":\"Country Name=Germany\\u003cbr\\u003eLife Ladder=%{x}\\u003cbr\\u003eLog GDP Per Capita=%{y}\\u003cbr\\u003eSchizophrenia (%)=%{z}\\u003cextra\\u003e\\u003c\\u002fextra\\u003e\",\"legendgroup\":\"Germany\",\"marker\":{\"color\":\"#B6E880\",\"opacity\":0.7,\"symbol\":\"circle\"},\"mode\":\"markers\",\"name\":\"Germany\",\"scene\":\"scene\",\"showlegend\":true,\"x\":[7.074324608],\"y\":[10.87939453],\"z\":[0.252269],\"type\":\"scatter3d\"},{\"hovertemplate\":\"Country Name=Ghana\\u003cbr\\u003eLife Ladder=%{x}\\u003cbr\\u003eLog GDP Per Capita=%{y}\\u003cbr\\u003eSchizophrenia (%)=%{z}\\u003cextra\\u003e\\u003c\\u002fextra\\u003e\",\"legendgroup\":\"Ghana\",\"marker\":{\"color\":\"#FF97FF\",\"opacity\":0.7,\"symbol\":\"circle\"},\"mode\":\"markers\",\"name\":\"Ghana\",\"scene\":\"scene\",\"showlegend\":true,\"x\":[5.481310844],\"y\":[8.503006935],\"z\":[0.175606],\"type\":\"scatter3d\"},{\"hovertemplate\":\"Country Name=Greece\\u003cbr\\u003eLife Ladder=%{x}\\u003cbr\\u003eLog GDP Per Capita=%{y}\\u003cbr\\u003eSchizophrenia (%)=%{z}\\u003cextra\\u003e\\u003c\\u002fextra\\u003e\",\"legendgroup\":\"Greece\",\"marker\":{\"color\":\"#FECB52\",\"opacity\":0.7,\"symbol\":\"circle\"},\"mode\":\"markers\",\"name\":\"Greece\",\"scene\":\"scene\",\"showlegend\":true,\"x\":[5.14824152],\"y\":[10.26133156],\"z\":[0.252701],\"type\":\"scatter3d\"},{\"hovertemplate\":\"Country Name=Guatemala\\u003cbr\\u003eLife Ladder=%{x}\\u003cbr\\u003eLog GDP Per Capita=%{y}\\u003cbr\\u003eSchizophrenia (%)=%{z}\\u003cextra\\u003e\\u003c\\u002fextra\\u003e\",\"legendgroup\":\"Guatemala\",\"marker\":{\"color\":\"#636efa\",\"opacity\":0.7,\"symbol\":\"circle\"},\"mode\":\"markers\",\"name\":\"Guatemala\",\"scene\":\"scene\",\"showlegend\":true,\"x\":[6.325118542],\"y\":[9.026683807],\"z\":[0.193344],\"type\":\"scatter3d\"},{\"hovertemplate\":\"Country Name=Guinea\\u003cbr\\u003eLife Ladder=%{x}\\u003cbr\\u003eLog GDP Per Capita=%{y}\\u003cbr\\u003eSchizophrenia (%)=%{z}\\u003cextra\\u003e\\u003c\\u002fextra\\u003e\",\"legendgroup\":\"Guinea\",\"marker\":{\"color\":\"#EF553B\",\"opacity\":0.7,\"symbol\":\"circle\"},\"mode\":\"markers\",\"name\":\"Guinea\",\"scene\":\"scene\",\"showlegend\":true,\"x\":[4.873722553],\"y\":[7.776358128],\"z\":[0.166393],\"type\":\"scatter3d\"},{\"hovertemplate\":\"Country Name=Haiti\\u003cbr\\u003eLife Ladder=%{x}\\u003cbr\\u003eLog GDP Per Capita=%{y}\\u003cbr\\u003eSchizophrenia (%)=%{z}\\u003cextra\\u003e\\u003c\\u002fextra\\u003e\",\"legendgroup\":\"Haiti\",\"marker\":{\"color\":\"#00cc96\",\"opacity\":0.7,\"symbol\":\"circle\"},\"mode\":\"markers\",\"name\":\"Haiti\",\"scene\":\"scene\",\"showlegend\":true,\"x\":[3.823865652],\"y\":[8.067083359],\"z\":[0.172298],\"type\":\"scatter3d\"},{\"hovertemplate\":\"Country Name=Honduras\\u003cbr\\u003eLife Ladder=%{x}\\u003cbr\\u003eLog GDP Per Capita=%{y}\\u003cbr\\u003eSchizophrenia (%)=%{z}\\u003cextra\\u003e\\u003c\\u002fextra\\u003e\",\"legendgroup\":\"Honduras\",\"marker\":{\"color\":\"#ab63fa\",\"opacity\":0.7,\"symbol\":\"circle\"},\"mode\":\"markers\",\"name\":\"Honduras\",\"scene\":\"scene\",\"showlegend\":true,\"x\":[6.019985676],\"y\":[8.602948189],\"z\":[0.189815],\"type\":\"scatter3d\"},{\"hovertemplate\":\"Country Name=Hungary\\u003cbr\\u003eLife Ladder=%{x}\\u003cbr\\u003eLog GDP Per Capita=%{y}\\u003cbr\\u003eSchizophrenia (%)=%{z}\\u003cextra\\u003e\\u003c\\u002fextra\\u003e\",\"legendgroup\":\"Hungary\",\"marker\":{\"color\":\"#FFA15A\",\"opacity\":0.7,\"symbol\":\"circle\"},\"mode\":\"markers\",\"name\":\"Hungary\",\"scene\":\"scene\",\"showlegend\":true,\"x\":[6.065038681],\"y\":[10.29218388],\"z\":[0.205524],\"type\":\"scatter3d\"},{\"hovertemplate\":\"Country Name=Iceland\\u003cbr\\u003eLife Ladder=%{x}\\u003cbr\\u003eLog GDP Per Capita=%{y}\\u003cbr\\u003eSchizophrenia (%)=%{z}\\u003cextra\\u003e\\u003c\\u002fextra\\u003e\",\"legendgroup\":\"Iceland\",\"marker\":{\"color\":\"#19d3f3\",\"opacity\":0.7,\"symbol\":\"circle\"},\"mode\":\"markers\",\"name\":\"Iceland\",\"scene\":\"scene\",\"showlegend\":true,\"x\":[7.476213932],\"y\":[10.92663097],\"z\":[0.257617],\"type\":\"scatter3d\"},{\"hovertemplate\":\"Country Name=India\\u003cbr\\u003eLife Ladder=%{x}\\u003cbr\\u003eLog GDP Per Capita=%{y}\\u003cbr\\u003eSchizophrenia (%)=%{z}\\u003cextra\\u003e\\u003c\\u002fextra\\u003e\",\"legendgroup\":\"India\",\"marker\":{\"color\":\"#FF6692\",\"opacity\":0.7,\"symbol\":\"circle\"},\"mode\":\"markers\",\"name\":\"India\",\"scene\":\"scene\",\"showlegend\":true,\"x\":[4.046111107],\"y\":[8.718020439],\"z\":[0.257864],\"type\":\"scatter3d\"},{\"hovertemplate\":\"Country Name=Indonesia\\u003cbr\\u003eLife Ladder=%{x}\\u003cbr\\u003eLog GDP Per Capita=%{y}\\u003cbr\\u003eSchizophrenia (%)=%{z}\\u003cextra\\u003e\\u003c\\u002fextra\\u003e\",\"legendgroup\":\"Indonesia\",\"marker\":{\"color\":\"#B6E880\",\"opacity\":0.7,\"symbol\":\"circle\"},\"mode\":\"markers\",\"name\":\"Indonesia\",\"scene\":\"scene\",\"showlegend\":true,\"x\":[5.098401546],\"y\":[9.300356865],\"z\":[0.230297],\"type\":\"scatter3d\"},{\"hovertemplate\":\"Country Name=Iraq\\u003cbr\\u003eLife Ladder=%{x}\\u003cbr\\u003eLog GDP Per Capita=%{y}\\u003cbr\\u003eSchizophrenia (%)=%{z}\\u003cextra\\u003e\\u003c\\u002fextra\\u003e\",\"legendgroup\":\"Iraq\",\"marker\":{\"color\":\"#FF97FF\",\"opacity\":0.7,\"symbol\":\"circle\"},\"mode\":\"markers\",\"name\":\"Iraq\",\"scene\":\"scene\",\"showlegend\":true,\"x\":[4.462399006],\"y\":[9.208023071],\"z\":[0.189729],\"type\":\"scatter3d\"},{\"hovertemplate\":\"Country Name=Ireland\\u003cbr\\u003eLife Ladder=%{x}\\u003cbr\\u003eLog GDP Per Capita=%{y}\\u003cbr\\u003eSchizophrenia (%)=%{z}\\u003cextra\\u003e\\u003c\\u002fextra\\u003e\",\"legendgroup\":\"Ireland\",\"marker\":{\"color\":\"#FECB52\",\"opacity\":0.7,\"symbol\":\"circle\"},\"mode\":\"markers\",\"name\":\"Ireland\",\"scene\":\"scene\",\"showlegend\":true,\"x\":[7.060155392],\"y\":[11.26124382],\"z\":[0.328008],\"type\":\"scatter3d\"},{\"hovertemplate\":\"Country Name=Israel\\u003cbr\\u003eLife Ladder=%{x}\\u003cbr\\u003eLog GDP Per Capita=%{y}\\u003cbr\\u003eSchizophrenia (%)=%{z}\\u003cextra\\u003e\\u003c\\u002fextra\\u003e\",\"legendgroup\":\"Israel\",\"marker\":{\"color\":\"#636efa\",\"opacity\":0.7,\"symbol\":\"circle\"},\"mode\":\"markers\",\"name\":\"Israel\",\"scene\":\"scene\",\"showlegend\":true,\"x\":[7.331036091],\"y\":[10.57442188],\"z\":[0.259139],\"type\":\"scatter3d\"},{\"hovertemplate\":\"Country Name=Italy\\u003cbr\\u003eLife Ladder=%{x}\\u003cbr\\u003eLog GDP Per Capita=%{y}\\u003cbr\\u003eSchizophrenia (%)=%{z}\\u003cextra\\u003e\\u003c\\u002fextra\\u003e\",\"legendgroup\":\"Italy\",\"marker\":{\"color\":\"#EF553B\",\"opacity\":0.7,\"symbol\":\"circle\"},\"mode\":\"markers\",\"name\":\"Italy\",\"scene\":\"scene\",\"showlegend\":true,\"x\":[6.198870182],\"y\":[10.63540173],\"z\":[0.236197],\"type\":\"scatter3d\"},{\"hovertemplate\":\"Country Name=Jamaica\\u003cbr\\u003eLife Ladder=%{x}\\u003cbr\\u003eLog GDP Per Capita=%{y}\\u003cbr\\u003eSchizophrenia (%)=%{z}\\u003cextra\\u003e\\u003c\\u002fextra\\u003e\",\"legendgroup\":\"Jamaica\",\"marker\":{\"color\":\"#00cc96\",\"opacity\":0.7,\"symbol\":\"circle\"},\"mode\":\"markers\",\"name\":\"Jamaica\",\"scene\":\"scene\",\"showlegend\":true,\"x\":[5.889759064],\"y\":[9.208796501],\"z\":[0.19927],\"type\":\"scatter3d\"},{\"hovertemplate\":\"Country Name=Japan\\u003cbr\\u003eLife Ladder=%{x}\\u003cbr\\u003eLog GDP Per Capita=%{y}\\u003cbr\\u003eSchizophrenia (%)=%{z}\\u003cextra\\u003e\\u003c\\u002fextra\\u003e\",\"legendgroup\":\"Japan\",\"marker\":{\"color\":\"#ab63fa\",\"opacity\":0.7,\"symbol\":\"circle\"},\"mode\":\"markers\",\"name\":\"Japan\",\"scene\":\"scene\",\"showlegend\":true,\"x\":[5.910676479],\"y\":[10.63210392],\"z\":[0.295578],\"type\":\"scatter3d\"},{\"hovertemplate\":\"Country Name=Kazakhstan\\u003cbr\\u003eLife Ladder=%{x}\\u003cbr\\u003eLog GDP Per Capita=%{y}\\u003cbr\\u003eSchizophrenia (%)=%{z}\\u003cextra\\u003e\\u003c\\u002fextra\\u003e\",\"legendgroup\":\"Kazakhstan\",\"marker\":{\"color\":\"#FFA15A\",\"opacity\":0.7,\"symbol\":\"circle\"},\"mode\":\"markers\",\"name\":\"Kazakhstan\",\"scene\":\"scene\",\"showlegend\":true,\"x\":[5.882351398],\"y\":[10.12113476],\"z\":[0.199892],\"type\":\"scatter3d\"},{\"hovertemplate\":\"Country Name=Kenya\\u003cbr\\u003eLife Ladder=%{x}\\u003cbr\\u003eLog GDP Per Capita=%{y}\\u003cbr\\u003eSchizophrenia (%)=%{z}\\u003cextra\\u003e\\u003c\\u002fextra\\u003e\",\"legendgroup\":\"Kenya\",\"marker\":{\"color\":\"#19d3f3\",\"opacity\":0.7,\"symbol\":\"circle\"},\"mode\":\"markers\",\"name\":\"Kenya\",\"scene\":\"scene\",\"showlegend\":true,\"x\":[4.475654125],\"y\":[8.369367599],\"z\":[0.170836],\"type\":\"scatter3d\"},{\"hovertemplate\":\"Country Name=Kyrgyzstan\\u003cbr\\u003eLife Ladder=%{x}\\u003cbr\\u003eLog GDP Per Capita=%{y}\\u003cbr\\u003eSchizophrenia (%)=%{z}\\u003cextra\\u003e\\u003c\\u002fextra\\u003e\",\"legendgroup\":\"Kyrgyzstan\",\"marker\":{\"color\":\"#FF6692\",\"opacity\":0.7,\"symbol\":\"circle\"},\"mode\":\"markers\",\"name\":\"Kyrgyzstan\",\"scene\":\"scene\",\"showlegend\":true,\"x\":[5.629536629],\"y\":[8.526488304],\"z\":[0.182097],\"type\":\"scatter3d\"},{\"hovertemplate\":\"Country Name=Laos\\u003cbr\\u003eLife Ladder=%{x}\\u003cbr\\u003eLog GDP Per Capita=%{y}\\u003cbr\\u003eSchizophrenia (%)=%{z}\\u003cextra\\u003e\\u003c\\u002fextra\\u003e\",\"legendgroup\":\"Laos\",\"marker\":{\"color\":\"#B6E880\",\"opacity\":0.7,\"symbol\":\"circle\"},\"mode\":\"markers\",\"name\":\"Laos\",\"scene\":\"scene\",\"showlegend\":true,\"x\":[4.623140812],\"y\":[8.88339901],\"z\":[0.216455],\"type\":\"scatter3d\"},{\"hovertemplate\":\"Country Name=Latvia\\u003cbr\\u003eLife Ladder=%{x}\\u003cbr\\u003eLog GDP Per Capita=%{y}\\u003cbr\\u003eSchizophrenia (%)=%{z}\\u003cextra\\u003e\\u003c\\u002fextra\\u003e\",\"legendgroup\":\"Latvia\",\"marker\":{\"color\":\"#FF97FF\",\"opacity\":0.7,\"symbol\":\"circle\"},\"mode\":\"markers\",\"name\":\"Latvia\",\"scene\":\"scene\",\"showlegend\":true,\"x\":[5.977817535],\"y\":[10.263731],\"z\":[0.19951],\"type\":\"scatter3d\"},{\"hovertemplate\":\"Country Name=Lebanon\\u003cbr\\u003eLife Ladder=%{x}\\u003cbr\\u003eLog GDP Per Capita=%{y}\\u003cbr\\u003eSchizophrenia (%)=%{z}\\u003cextra\\u003e\\u003c\\u002fextra\\u003e\",\"legendgroup\":\"Lebanon\",\"marker\":{\"color\":\"#FECB52\",\"opacity\":0.7,\"symbol\":\"circle\"},\"mode\":\"markers\",\"name\":\"Lebanon\",\"scene\":\"scene\",\"showlegend\":true,\"x\":[5.153989792],\"y\":[9.787406921],\"z\":[0.198376],\"type\":\"scatter3d\"},{\"hovertemplate\":\"Country Name=Lesotho\\u003cbr\\u003eLife Ladder=%{x}\\u003cbr\\u003eLog GDP Per Capita=%{y}\\u003cbr\\u003eSchizophrenia (%)=%{z}\\u003cextra\\u003e\\u003c\\u002fextra\\u003e\",\"legendgroup\":\"Lesotho\",\"marker\":{\"color\":\"#636efa\",\"opacity\":0.7,\"symbol\":\"circle\"},\"mode\":\"markers\",\"name\":\"Lesotho\",\"scene\":\"scene\",\"showlegend\":true,\"x\":[3.795300722],\"y\":[7.852320194],\"z\":[0.161376],\"type\":\"scatter3d\"},{\"hovertemplate\":\"Country Name=Liberia\\u003cbr\\u003eLife Ladder=%{x}\\u003cbr\\u003eLog GDP Per Capita=%{y}\\u003cbr\\u003eSchizophrenia (%)=%{z}\\u003cextra\\u003e\\u003c\\u002fextra\\u003e\",\"legendgroup\":\"Liberia\",\"marker\":{\"color\":\"#EF553B\",\"opacity\":0.7,\"symbol\":\"circle\"},\"mode\":\"markers\",\"name\":\"Liberia\",\"scene\":\"scene\",\"showlegend\":true,\"x\":[4.424490929],\"y\":[7.335249901],\"z\":[0.161454],\"type\":\"scatter3d\"},{\"hovertemplate\":\"Country Name=Lithuania\\u003cbr\\u003eLife Ladder=%{x}\\u003cbr\\u003eLog GDP Per Capita=%{y}\\u003cbr\\u003eSchizophrenia (%)=%{z}\\u003cextra\\u003e\\u003c\\u002fextra\\u003e\",\"legendgroup\":\"Lithuania\",\"marker\":{\"color\":\"#00cc96\",\"opacity\":0.7,\"symbol\":\"circle\"},\"mode\":\"markers\",\"name\":\"Lithuania\",\"scene\":\"scene\",\"showlegend\":true,\"x\":[6.272940636],\"y\":[10.42708778],\"z\":[0.200982],\"type\":\"scatter3d\"},{\"hovertemplate\":\"Country Name=Luxembourg\\u003cbr\\u003eLife Ladder=%{x}\\u003cbr\\u003eLog GDP Per Capita=%{y}\\u003cbr\\u003eSchizophrenia (%)=%{z}\\u003cextra\\u003e\\u003c\\u002fextra\\u003e\",\"legendgroup\":\"Luxembourg\",\"marker\":{\"color\":\"#ab63fa\",\"opacity\":0.7,\"symbol\":\"circle\"},\"mode\":\"markers\",\"name\":\"Luxembourg\",\"scene\":\"scene\",\"showlegend\":true,\"x\":[7.061380863],\"y\":[11.65256405],\"z\":[0.263622],\"type\":\"scatter3d\"},{\"hovertemplate\":\"Country Name=Madagascar\\u003cbr\\u003eLife Ladder=%{x}\\u003cbr\\u003eLog GDP Per Capita=%{y}\\u003cbr\\u003eSchizophrenia (%)=%{z}\\u003cextra\\u003e\\u003c\\u002fextra\\u003e\",\"legendgroup\":\"Madagascar\",\"marker\":{\"color\":\"#FFA15A\",\"opacity\":0.7,\"symbol\":\"circle\"},\"mode\":\"markers\",\"name\":\"Madagascar\",\"scene\":\"scene\",\"showlegend\":true,\"x\":[4.078620434],\"y\":[7.344820023],\"z\":[0.16428],\"type\":\"scatter3d\"},{\"hovertemplate\":\"Country Name=Malawi\\u003cbr\\u003eLife Ladder=%{x}\\u003cbr\\u003eLog GDP Per Capita=%{y}\\u003cbr\\u003eSchizophrenia (%)=%{z}\\u003cextra\\u003e\\u003c\\u002fextra\\u003e\",\"legendgroup\":\"Malawi\",\"marker\":{\"color\":\"#19d3f3\",\"opacity\":0.7,\"symbol\":\"circle\"},\"mode\":\"markers\",\"name\":\"Malawi\",\"scene\":\"scene\",\"showlegend\":true,\"x\":[3.416862965],\"y\":[7.282608032],\"z\":[0.154533],\"type\":\"scatter3d\"},{\"hovertemplate\":\"Country Name=Mali\\u003cbr\\u003eLife Ladder=%{x}\\u003cbr\\u003eLog GDP Per Capita=%{y}\\u003cbr\\u003eSchizophrenia (%)=%{z}\\u003cextra\\u003e\\u003c\\u002fextra\\u003e\",\"legendgroup\":\"Mali\",\"marker\":{\"color\":\"#FF6692\",\"opacity\":0.7,\"symbol\":\"circle\"},\"mode\":\"markers\",\"name\":\"Mali\",\"scene\":\"scene\",\"showlegend\":true,\"x\":[4.741850376],\"y\":[7.675010204],\"z\":[0.167751],\"type\":\"scatter3d\"},{\"hovertemplate\":\"Country Name=Malta\\u003cbr\\u003eLife Ladder=%{x}\\u003cbr\\u003eLog GDP Per Capita=%{y}\\u003cbr\\u003eSchizophrenia (%)=%{z}\\u003cextra\\u003e\\u003c\\u002fextra\\u003e\",\"legendgroup\":\"Malta\",\"marker\":{\"color\":\"#B6E880\",\"opacity\":0.7,\"symbol\":\"circle\"},\"mode\":\"markers\",\"name\":\"Malta\",\"scene\":\"scene\",\"showlegend\":true,\"x\":[6.675665855],\"y\":[10.68089676],\"z\":[0.257632],\"type\":\"scatter3d\"},{\"hovertemplate\":\"Country Name=Mauritania\\u003cbr\\u003eLife Ladder=%{x}\\u003cbr\\u003eLog GDP Per Capita=%{y}\\u003cbr\\u003eSchizophrenia (%)=%{z}\\u003cextra\\u003e\\u003c\\u002fextra\\u003e\",\"legendgroup\":\"Mauritania\",\"marker\":{\"color\":\"#FF97FF\",\"opacity\":0.7,\"symbol\":\"circle\"},\"mode\":\"markers\",\"name\":\"Mauritania\",\"scene\":\"scene\",\"showlegend\":true,\"x\":[4.678159714],\"y\":[8.567708969],\"z\":[0.179205],\"type\":\"scatter3d\"},{\"hovertemplate\":\"Country Name=Mauritius\\u003cbr\\u003eLife Ladder=%{x}\\u003cbr\\u003eLog GDP Per Capita=%{y}\\u003cbr\\u003eSchizophrenia (%)=%{z}\\u003cextra\\u003e\\u003c\\u002fextra\\u003e\",\"legendgroup\":\"Mauritius\",\"marker\":{\"color\":\"#FECB52\",\"opacity\":0.7,\"symbol\":\"circle\"},\"mode\":\"markers\",\"name\":\"Mauritius\",\"scene\":\"scene\",\"showlegend\":true,\"x\":[6.174117565],\"y\":[10.00553036],\"z\":[0.242185],\"type\":\"scatter3d\"},{\"hovertemplate\":\"Country Name=Mexico\\u003cbr\\u003eLife Ladder=%{x}\\u003cbr\\u003eLog GDP Per Capita=%{y}\\u003cbr\\u003eSchizophrenia (%)=%{z}\\u003cextra\\u003e\\u003c\\u002fextra\\u003e\",\"legendgroup\":\"Mexico\",\"marker\":{\"color\":\"#636efa\",\"opacity\":0.7,\"symbol\":\"circle\"},\"mode\":\"markers\",\"name\":\"Mexico\",\"scene\":\"scene\",\"showlegend\":true,\"x\":[6.410299301],\"y\":[9.905106544],\"z\":[0.211765],\"type\":\"scatter3d\"},{\"hovertemplate\":\"Country Name=Moldova\\u003cbr\\u003eLife Ladder=%{x}\\u003cbr\\u003eLog GDP Per Capita=%{y}\\u003cbr\\u003eSchizophrenia (%)=%{z}\\u003cextra\\u003e\\u003c\\u002fextra\\u003e\",\"legendgroup\":\"Moldova\",\"marker\":{\"color\":\"#EF553B\",\"opacity\":0.7,\"symbol\":\"circle\"},\"mode\":\"markers\",\"name\":\"Moldova\",\"scene\":\"scene\",\"showlegend\":true,\"x\":[5.325530529],\"y\":[9.363162994],\"z\":[0.18371],\"type\":\"scatter3d\"},{\"hovertemplate\":\"Country Name=Mongolia\\u003cbr\\u003eLife Ladder=%{x}\\u003cbr\\u003eLog GDP Per Capita=%{y}\\u003cbr\\u003eSchizophrenia (%)=%{z}\\u003cextra\\u003e\\u003c\\u002fextra\\u003e\",\"legendgroup\":\"Mongolia\",\"marker\":{\"color\":\"#00cc96\",\"opacity\":0.7,\"symbol\":\"circle\"},\"mode\":\"markers\",\"name\":\"Mongolia\",\"scene\":\"scene\",\"showlegend\":true,\"x\":[5.333850384],\"y\":[9.344127655],\"z\":[0.190648],\"type\":\"scatter3d\"},{\"hovertemplate\":\"Country Name=Montenegro\\u003cbr\\u003eLife Ladder=%{x}\\u003cbr\\u003eLog GDP Per Capita=%{y}\\u003cbr\\u003eSchizophrenia (%)=%{z}\\u003cextra\\u003e\\u003c\\u002fextra\\u003e\",\"legendgroup\":\"Montenegro\",\"marker\":{\"color\":\"#ab63fa\",\"opacity\":0.7,\"symbol\":\"circle\"},\"mode\":\"markers\",\"name\":\"Montenegro\",\"scene\":\"scene\",\"showlegend\":true,\"x\":[5.614798546],\"y\":[9.887653351],\"z\":[0.203248],\"type\":\"scatter3d\"},{\"hovertemplate\":\"Country Name=Mozambique\\u003cbr\\u003eLife Ladder=%{x}\\u003cbr\\u003eLog GDP Per Capita=%{y}\\u003cbr\\u003eSchizophrenia (%)=%{z}\\u003cextra\\u003e\\u003c\\u002fextra\\u003e\",\"legendgroup\":\"Mozambique\",\"marker\":{\"color\":\"#FFA15A\",\"opacity\":0.7,\"symbol\":\"circle\"},\"mode\":\"markers\",\"name\":\"Mozambique\",\"scene\":\"scene\",\"showlegend\":true,\"x\":[4.279863358],\"y\":[7.160251617],\"z\":[0.156176],\"type\":\"scatter3d\"},{\"hovertemplate\":\"Country Name=Myanmar\\u003cbr\\u003eLife Ladder=%{x}\\u003cbr\\u003eLog GDP Per Capita=%{y}\\u003cbr\\u003eSchizophrenia (%)=%{z}\\u003cextra\\u003e\\u003c\\u002fextra\\u003e\",\"legendgroup\":\"Myanmar\",\"marker\":{\"color\":\"#19d3f3\",\"opacity\":0.7,\"symbol\":\"circle\"},\"mode\":\"markers\",\"name\":\"Myanmar\",\"scene\":\"scene\",\"showlegend\":true,\"x\":[4.154341698],\"y\":[8.369377136],\"z\":[0.213915],\"type\":\"scatter3d\"},{\"hovertemplate\":\"Country Name=Namibia\\u003cbr\\u003eLife Ladder=%{x}\\u003cbr\\u003eLog GDP Per Capita=%{y}\\u003cbr\\u003eSchizophrenia (%)=%{z}\\u003cextra\\u003e\\u003c\\u002fextra\\u003e\",\"legendgroup\":\"Namibia\",\"marker\":{\"color\":\"#FF6692\",\"opacity\":0.7,\"symbol\":\"circle\"},\"mode\":\"markers\",\"name\":\"Namibia\",\"scene\":\"scene\",\"showlegend\":true,\"x\":[4.441306114],\"y\":[9.243317604],\"z\":[0.177365],\"type\":\"scatter3d\"},{\"hovertemplate\":\"Country Name=Nepal\\u003cbr\\u003eLife Ladder=%{x}\\u003cbr\\u003eLog GDP Per Capita=%{y}\\u003cbr\\u003eSchizophrenia (%)=%{z}\\u003cextra\\u003e\\u003c\\u002fextra\\u003e\",\"legendgroup\":\"Nepal\",\"marker\":{\"color\":\"#B6E880\",\"opacity\":0.7,\"symbol\":\"circle\"},\"mode\":\"markers\",\"name\":\"Nepal\",\"scene\":\"scene\",\"showlegend\":true,\"x\":[4.736692429],\"y\":[8.159239769],\"z\":[0.246394],\"type\":\"scatter3d\"},{\"hovertemplate\":\"Country Name=Netherlands\\u003cbr\\u003eLife Ladder=%{x}\\u003cbr\\u003eLog GDP Per Capita=%{y}\\u003cbr\\u003eSchizophrenia (%)=%{z}\\u003cextra\\u003e\\u003c\\u002fextra\\u003e\",\"legendgroup\":\"Netherlands\",\"marker\":{\"color\":\"#FF97FF\",\"opacity\":0.7,\"symbol\":\"circle\"},\"mode\":\"markers\",\"name\":\"Netherlands\",\"scene\":\"scene\",\"showlegend\":true,\"x\":[7.458965302],\"y\":[10.91669846],\"z\":[0.358487],\"type\":\"scatter3d\"},{\"hovertemplate\":\"Country Name=New Zealand\\u003cbr\\u003eLife Ladder=%{x}\\u003cbr\\u003eLog GDP Per Capita=%{y}\\u003cbr\\u003eSchizophrenia (%)=%{z}\\u003cextra\\u003e\\u003c\\u002fextra\\u003e\",\"legendgroup\":\"New Zealand\",\"marker\":{\"color\":\"#FECB52\",\"opacity\":0.7,\"symbol\":\"circle\"},\"mode\":\"markers\",\"name\":\"New Zealand\",\"scene\":\"scene\",\"showlegend\":true,\"x\":[7.32718277],\"y\":[10.65061474],\"z\":[0.341051],\"type\":\"scatter3d\"},{\"hovertemplate\":\"Country Name=Nicaragua\\u003cbr\\u003eLife Ladder=%{x}\\u003cbr\\u003eLog GDP Per Capita=%{y}\\u003cbr\\u003eSchizophrenia (%)=%{z}\\u003cextra\\u003e\\u003c\\u002fextra\\u003e\",\"legendgroup\":\"Nicaragua\",\"marker\":{\"color\":\"#636efa\",\"opacity\":0.7,\"symbol\":\"circle\"},\"mode\":\"markers\",\"name\":\"Nicaragua\",\"scene\":\"scene\",\"showlegend\":true,\"x\":[6.476356506],\"y\":[8.685310364],\"z\":[0.199563],\"type\":\"scatter3d\"},{\"hovertemplate\":\"Country Name=Niger\\u003cbr\\u003eLife Ladder=%{x}\\u003cbr\\u003eLog GDP Per Capita=%{y}\\u003cbr\\u003eSchizophrenia (%)=%{z}\\u003cextra\\u003e\\u003c\\u002fextra\\u003e\",\"legendgroup\":\"Niger\",\"marker\":{\"color\":\"#EF553B\",\"opacity\":0.7,\"symbol\":\"circle\"},\"mode\":\"markers\",\"name\":\"Niger\",\"scene\":\"scene\",\"showlegend\":true,\"x\":[4.615673542],\"y\":[7.052698135],\"z\":[0.163845],\"type\":\"scatter3d\"},{\"hovertemplate\":\"Country Name=Nigeria\\u003cbr\\u003eLife Ladder=%{x}\\u003cbr\\u003eLog GDP Per Capita=%{y}\\u003cbr\\u003eSchizophrenia (%)=%{z}\\u003cextra\\u003e\\u003c\\u002fextra\\u003e\",\"legendgroup\":\"Nigeria\",\"marker\":{\"color\":\"#00cc96\",\"opacity\":0.7,\"symbol\":\"circle\"},\"mode\":\"markers\",\"name\":\"Nigeria\",\"scene\":\"scene\",\"showlegend\":true,\"x\":[5.321928024],\"y\":[8.540910721],\"z\":[0.182126],\"type\":\"scatter3d\"},{\"hovertemplate\":\"Country Name=Norway\\u003cbr\\u003eLife Ladder=%{x}\\u003cbr\\u003eLog GDP Per Capita=%{y}\\u003cbr\\u003eSchizophrenia (%)=%{z}\\u003cextra\\u003e\\u003c\\u002fextra\\u003e\",\"legendgroup\":\"Norway\",\"marker\":{\"color\":\"#ab63fa\",\"opacity\":0.7,\"symbol\":\"circle\"},\"mode\":\"markers\",\"name\":\"Norway\",\"scene\":\"scene\",\"showlegend\":true,\"x\":[7.578744888],\"y\":[11.06743145],\"z\":[0.211484],\"type\":\"scatter3d\"},{\"hovertemplate\":\"Country Name=Pakistan\\u003cbr\\u003eLife Ladder=%{x}\\u003cbr\\u003eLog GDP Per Capita=%{y}\\u003cbr\\u003eSchizophrenia (%)=%{z}\\u003cextra\\u003e\\u003c\\u002fextra\\u003e\",\"legendgroup\":\"Pakistan\",\"marker\":{\"color\":\"#FFA15A\",\"opacity\":0.7,\"symbol\":\"circle\"},\"mode\":\"markers\",\"name\":\"Pakistan\",\"scene\":\"scene\",\"showlegend\":true,\"x\":[5.830870628],\"y\":[8.495299339],\"z\":[0.256442],\"type\":\"scatter3d\"},{\"hovertemplate\":\"Country Name=Panama\\u003cbr\\u003eLife Ladder=%{x}\\u003cbr\\u003eLog GDP Per Capita=%{y}\\u003cbr\\u003eSchizophrenia (%)=%{z}\\u003cextra\\u003e\\u003c\\u002fextra\\u003e\",\"legendgroup\":\"Panama\",\"marker\":{\"color\":\"#19d3f3\",\"opacity\":0.7,\"symbol\":\"circle\"},\"mode\":\"markers\",\"name\":\"Panama\",\"scene\":\"scene\",\"showlegend\":true,\"x\":[6.567658901],\"y\":[10.3263464],\"z\":[0.213259],\"type\":\"scatter3d\"},{\"hovertemplate\":\"Country Name=Paraguay\\u003cbr\\u003eLife Ladder=%{x}\\u003cbr\\u003eLog GDP Per Capita=%{y}\\u003cbr\\u003eSchizophrenia (%)=%{z}\\u003cextra\\u003e\\u003c\\u002fextra\\u003e\",\"legendgroup\":\"Paraguay\",\"marker\":{\"color\":\"#FF6692\",\"opacity\":0.7,\"symbol\":\"circle\"},\"mode\":\"markers\",\"name\":\"Paraguay\",\"scene\":\"scene\",\"showlegend\":true,\"x\":[5.71329546],\"y\":[9.51813221],\"z\":[0.202426],\"type\":\"scatter3d\"},{\"hovertemplate\":\"Country Name=Peru\\u003cbr\\u003eLife Ladder=%{x}\\u003cbr\\u003eLog GDP Per Capita=%{y}\\u003cbr\\u003eSchizophrenia (%)=%{z}\\u003cextra\\u003e\\u003c\\u002fextra\\u003e\",\"legendgroup\":\"Peru\",\"marker\":{\"color\":\"#B6E880\",\"opacity\":0.7,\"symbol\":\"circle\"},\"mode\":\"markers\",\"name\":\"Peru\",\"scene\":\"scene\",\"showlegend\":true,\"x\":[5.710936546],\"y\":[9.428893089],\"z\":[0.203293],\"type\":\"scatter3d\"},{\"hovertemplate\":\"Country Name=Philippines\\u003cbr\\u003eLife Ladder=%{x}\\u003cbr\\u003eLog GDP Per Capita=%{y}\\u003cbr\\u003eSchizophrenia (%)=%{z}\\u003cextra\\u003e\\u003c\\u002fextra\\u003e\",\"legendgroup\":\"Philippines\",\"marker\":{\"color\":\"#FF97FF\",\"opacity\":0.7,\"symbol\":\"circle\"},\"mode\":\"markers\",\"name\":\"Philippines\",\"scene\":\"scene\",\"showlegend\":true,\"x\":[5.594270229],\"y\":[8.987416267],\"z\":[0.224422],\"type\":\"scatter3d\"},{\"hovertemplate\":\"Country Name=Poland\\u003cbr\\u003eLife Ladder=%{x}\\u003cbr\\u003eLog GDP Per Capita=%{y}\\u003cbr\\u003eSchizophrenia (%)=%{z}\\u003cextra\\u003e\\u003c\\u002fextra\\u003e\",\"legendgroup\":\"Poland\",\"marker\":{\"color\":\"#FECB52\",\"opacity\":0.7,\"symbol\":\"circle\"},\"mode\":\"markers\",\"name\":\"Poland\",\"scene\":\"scene\",\"showlegend\":true,\"x\":[6.201268196],\"y\":[10.30755615],\"z\":[0.20781],\"type\":\"scatter3d\"},{\"hovertemplate\":\"Country Name=Portugal\\u003cbr\\u003eLife Ladder=%{x}\\u003cbr\\u003eLog GDP Per Capita=%{y}\\u003cbr\\u003eSchizophrenia (%)=%{z}\\u003cextra\\u003e\\u003c\\u002fextra\\u003e\",\"legendgroup\":\"Portugal\",\"marker\":{\"color\":\"#636efa\",\"opacity\":0.7,\"symbol\":\"circle\"},\"mode\":\"markers\",\"name\":\"Portugal\",\"scene\":\"scene\",\"showlegend\":true,\"x\":[5.711499214],\"y\":[10.40561676],\"z\":[0.249372],\"type\":\"scatter3d\"},{\"hovertemplate\":\"Country Name=Romania\\u003cbr\\u003eLife Ladder=%{x}\\u003cbr\\u003eLog GDP Per Capita=%{y}\\u003cbr\\u003eSchizophrenia (%)=%{z}\\u003cextra\\u003e\\u003c\\u002fextra\\u003e\",\"legendgroup\":\"Romania\",\"marker\":{\"color\":\"#EF553B\",\"opacity\":0.7,\"symbol\":\"circle\"},\"mode\":\"markers\",\"name\":\"Romania\",\"scene\":\"scene\",\"showlegend\":true,\"x\":[6.089904785],\"y\":[10.20167065],\"z\":[0.201195],\"type\":\"scatter3d\"},{\"hovertemplate\":\"Country Name=Russia\\u003cbr\\u003eLife Ladder=%{x}\\u003cbr\\u003eLog GDP Per Capita=%{y}\\u003cbr\\u003eSchizophrenia (%)=%{z}\\u003cextra\\u003e\\u003c\\u002fextra\\u003e\",\"legendgroup\":\"Russia\",\"marker\":{\"color\":\"#00cc96\",\"opacity\":0.7,\"symbol\":\"circle\"},\"mode\":\"markers\",\"name\":\"Russia\",\"scene\":\"scene\",\"showlegend\":true,\"x\":[5.578742981],\"y\":[10.16301918],\"z\":[0.1984],\"type\":\"scatter3d\"},{\"hovertemplate\":\"Country Name=Rwanda\\u003cbr\\u003eLife Ladder=%{x}\\u003cbr\\u003eLog GDP Per Capita=%{y}\\u003cbr\\u003eSchizophrenia (%)=%{z}\\u003cextra\\u003e\\u003c\\u002fextra\\u003e\",\"legendgroup\":\"Rwanda\",\"marker\":{\"color\":\"#ab63fa\",\"opacity\":0.7,\"symbol\":\"circle\"},\"mode\":\"markers\",\"name\":\"Rwanda\",\"scene\":\"scene\",\"showlegend\":true,\"x\":[3.10837388],\"y\":[7.567848682],\"z\":[0.163688],\"type\":\"scatter3d\"},{\"hovertemplate\":\"Country Name=Senegal\\u003cbr\\u003eLife Ladder=%{x}\\u003cbr\\u003eLog GDP Per Capita=%{y}\\u003cbr\\u003eSchizophrenia (%)=%{z}\\u003cextra\\u003e\\u003c\\u002fextra\\u003e\",\"legendgroup\":\"Senegal\",\"marker\":{\"color\":\"#FFA15A\",\"opacity\":0.7,\"symbol\":\"circle\"},\"mode\":\"markers\",\"name\":\"Senegal\",\"scene\":\"scene\",\"showlegend\":true,\"x\":[4.683024883],\"y\":[8.089234352],\"z\":[0.173616],\"type\":\"scatter3d\"},{\"hovertemplate\":\"Country Name=Serbia\\u003cbr\\u003eLife Ladder=%{x}\\u003cbr\\u003eLog GDP Per Capita=%{y}\\u003cbr\\u003eSchizophrenia (%)=%{z}\\u003cextra\\u003e\\u003c\\u002fextra\\u003e\",\"legendgroup\":\"Serbia\",\"marker\":{\"color\":\"#19d3f3\",\"opacity\":0.7,\"symbol\":\"circle\"},\"mode\":\"markers\",\"name\":\"Serbia\",\"scene\":\"scene\",\"showlegend\":true,\"x\":[5.122031212],\"y\":[9.718001366],\"z\":[0.200264],\"type\":\"scatter3d\"},{\"hovertemplate\":\"Country Name=Sierra Leone\\u003cbr\\u003eLife Ladder=%{x}\\u003cbr\\u003eLog GDP Per Capita=%{y}\\u003cbr\\u003eSchizophrenia (%)=%{z}\\u003cextra\\u003e\\u003c\\u002fextra\\u003e\",\"legendgroup\":\"Sierra Leone\",\"marker\":{\"color\":\"#FF6692\",\"opacity\":0.7,\"symbol\":\"circle\"},\"mode\":\"markers\",\"name\":\"Sierra Leone\",\"scene\":\"scene\",\"showlegend\":true,\"x\":[4.089562416],\"y\":[7.373677731],\"z\":[0.165455],\"type\":\"scatter3d\"},{\"hovertemplate\":\"Country Name=Singapore\\u003cbr\\u003eLife Ladder=%{x}\\u003cbr\\u003eLog GDP Per Capita=%{y}\\u003cbr\\u003eSchizophrenia (%)=%{z}\\u003cextra\\u003e\\u003c\\u002fextra\\u003e\",\"legendgroup\":\"Singapore\",\"marker\":{\"color\":\"#B6E880\",\"opacity\":0.7,\"symbol\":\"circle\"},\"mode\":\"markers\",\"name\":\"Singapore\",\"scene\":\"scene\",\"showlegend\":true,\"x\":[6.378437996],\"y\":[11.46489334],\"z\":[0.27409],\"type\":\"scatter3d\"},{\"hovertemplate\":\"Country Name=Slovakia\\u003cbr\\u003eLife Ladder=%{x}\\u003cbr\\u003eLog GDP Per Capita=%{y}\\u003cbr\\u003eSchizophrenia (%)=%{z}\\u003cextra\\u003e\\u003c\\u002fextra\\u003e\",\"legendgroup\":\"Slovakia\",\"marker\":{\"color\":\"#FF97FF\",\"opacity\":0.7,\"symbol\":\"circle\"},\"mode\":\"markers\",\"name\":\"Slovakia\",\"scene\":\"scene\",\"showlegend\":true,\"x\":[6.365509033],\"y\":[10.31100178],\"z\":[0.208419],\"type\":\"scatter3d\"},{\"hovertemplate\":\"Country Name=Slovenia\\u003cbr\\u003eLife Ladder=%{x}\\u003cbr\\u003eLog GDP Per Capita=%{y}\\u003cbr\\u003eSchizophrenia (%)=%{z}\\u003cextra\\u003e\\u003c\\u002fextra\\u003e\",\"legendgroup\":\"Slovenia\",\"marker\":{\"color\":\"#FECB52\",\"opacity\":0.7,\"symbol\":\"circle\"},\"mode\":\"markers\",\"name\":\"Slovenia\",\"scene\":\"scene\",\"showlegend\":true,\"x\":[6.166837692],\"y\":[10.50527477],\"z\":[0.211824],\"type\":\"scatter3d\"},{\"hovertemplate\":\"Country Name=South Africa\\u003cbr\\u003eLife Ladder=%{x}\\u003cbr\\u003eLog GDP Per Capita=%{y}\\u003cbr\\u003eSchizophrenia (%)=%{z}\\u003cextra\\u003e\\u003c\\u002fextra\\u003e\",\"legendgroup\":\"South Africa\",\"marker\":{\"color\":\"#636efa\",\"opacity\":0.7,\"symbol\":\"circle\"},\"mode\":\"markers\",\"name\":\"South Africa\",\"scene\":\"scene\",\"showlegend\":true,\"x\":[4.513655186],\"y\":[9.54326725],\"z\":[0.181937],\"type\":\"scatter3d\"},{\"hovertemplate\":\"Country Name=South Korea\\u003cbr\\u003eLife Ladder=%{x}\\u003cbr\\u003eLog GDP Per Capita=%{y}\\u003cbr\\u003eSchizophrenia (%)=%{z}\\u003cextra\\u003e\\u003c\\u002fextra\\u003e\",\"legendgroup\":\"South Korea\",\"marker\":{\"color\":\"#EF553B\",\"opacity\":0.7,\"symbol\":\"circle\"},\"mode\":\"markers\",\"name\":\"South Korea\",\"scene\":\"scene\",\"showlegend\":true,\"x\":[5.873887062],\"y\":[10.6202879],\"z\":[0.263994],\"type\":\"scatter3d\"},{\"hovertemplate\":\"Country Name=Spain\\u003cbr\\u003eLife Ladder=%{x}\\u003cbr\\u003eLog GDP Per Capita=%{y}\\u003cbr\\u003eSchizophrenia (%)=%{z}\\u003cextra\\u003e\\u003c\\u002fextra\\u003e\",\"legendgroup\":\"Spain\",\"marker\":{\"color\":\"#00cc96\",\"opacity\":0.7,\"symbol\":\"circle\"},\"mode\":\"markers\",\"name\":\"Spain\",\"scene\":\"scene\",\"showlegend\":true,\"x\":[6.230173111],\"y\":[10.58478832],\"z\":[0.281539],\"type\":\"scatter3d\"},{\"hovertemplate\":\"Country Name=Sri Lanka\\u003cbr\\u003eLife Ladder=%{x}\\u003cbr\\u003eLog GDP Per Capita=%{y}\\u003cbr\\u003eSchizophrenia (%)=%{z}\\u003cextra\\u003e\\u003c\\u002fextra\\u003e\",\"legendgroup\":\"Sri Lanka\",\"marker\":{\"color\":\"#ab63fa\",\"opacity\":0.7,\"symbol\":\"circle\"},\"mode\":\"markers\",\"name\":\"Sri Lanka\",\"scene\":\"scene\",\"showlegend\":true,\"x\":[4.330945492],\"y\":[9.516662598],\"z\":[0.238045],\"type\":\"scatter3d\"},{\"hovertemplate\":\"Country Name=Sweden\\u003cbr\\u003eLife Ladder=%{x}\\u003cbr\\u003eLog GDP Per Capita=%{y}\\u003cbr\\u003eSchizophrenia (%)=%{z}\\u003cextra\\u003e\\u003c\\u002fextra\\u003e\",\"legendgroup\":\"Sweden\",\"marker\":{\"color\":\"#FFA15A\",\"opacity\":0.7,\"symbol\":\"circle\"},\"mode\":\"markers\",\"name\":\"Sweden\",\"scene\":\"scene\",\"showlegend\":true,\"x\":[7.286804676],\"y\":[10.85799789],\"z\":[0.270392],\"type\":\"scatter3d\"},{\"hovertemplate\":\"Country Name=Switzerland\\u003cbr\\u003eLife Ladder=%{x}\\u003cbr\\u003eLog GDP Per Capita=%{y}\\u003cbr\\u003eSchizophrenia (%)=%{z}\\u003cextra\\u003e\\u003c\\u002fextra\\u003e\",\"legendgroup\":\"Switzerland\",\"marker\":{\"color\":\"#19d3f3\",\"opacity\":0.7,\"symbol\":\"circle\"},\"mode\":\"markers\",\"name\":\"Switzerland\",\"scene\":\"scene\",\"showlegend\":true,\"x\":[7.473593235],\"y\":[11.14336205],\"z\":[0.262487],\"type\":\"scatter3d\"},{\"hovertemplate\":\"Country Name=Tajikistan\\u003cbr\\u003eLife Ladder=%{x}\\u003cbr\\u003eLog GDP Per Capita=%{y}\\u003cbr\\u003eSchizophrenia (%)=%{z}\\u003cextra\\u003e\\u003c\\u002fextra\\u003e\",\"legendgroup\":\"Tajikistan\",\"marker\":{\"color\":\"#FF6692\",\"opacity\":0.7,\"symbol\":\"circle\"},\"mode\":\"markers\",\"name\":\"Tajikistan\",\"scene\":\"scene\",\"showlegend\":true,\"x\":[5.829234123],\"y\":[8.082228661],\"z\":[0.182117],\"type\":\"scatter3d\"},{\"hovertemplate\":\"Country Name=Tanzania\\u003cbr\\u003eLife Ladder=%{x}\\u003cbr\\u003eLog GDP Per Capita=%{y}\\u003cbr\\u003eSchizophrenia (%)=%{z}\\u003cextra\\u003e\\u003c\\u002fextra\\u003e\",\"legendgroup\":\"Tanzania\",\"marker\":{\"color\":\"#B6E880\",\"opacity\":0.7,\"symbol\":\"circle\"},\"mode\":\"markers\",\"name\":\"Tanzania\",\"scene\":\"scene\",\"showlegend\":true,\"x\":[3.347121239],\"y\":[7.80724287],\"z\":[0.165215],\"type\":\"scatter3d\"},{\"hovertemplate\":\"Country Name=Thailand\\u003cbr\\u003eLife Ladder=%{x}\\u003cbr\\u003eLog GDP Per Capita=%{y}\\u003cbr\\u003eSchizophrenia (%)=%{z}\\u003cextra\\u003e\\u003c\\u002fextra\\u003e\",\"legendgroup\":\"Thailand\",\"marker\":{\"color\":\"#FF97FF\",\"opacity\":0.7,\"symbol\":\"circle\"},\"mode\":\"markers\",\"name\":\"Thailand\",\"scene\":\"scene\",\"showlegend\":true,\"x\":[5.938895226],\"y\":[9.741441727],\"z\":[0.234879],\"type\":\"scatter3d\"},{\"hovertemplate\":\"Country Name=Togo\\u003cbr\\u003eLife Ladder=%{x}\\u003cbr\\u003eLog GDP Per Capita=%{y}\\u003cbr\\u003eSchizophrenia (%)=%{z}\\u003cextra\\u003e\\u003c\\u002fextra\\u003e\",\"legendgroup\":\"Togo\",\"marker\":{\"color\":\"#FECB52\",\"opacity\":0.7,\"symbol\":\"circle\"},\"mode\":\"markers\",\"name\":\"Togo\",\"scene\":\"scene\",\"showlegend\":true,\"x\":[4.360805035],\"y\":[7.587156773],\"z\":[0.164575],\"type\":\"scatter3d\"},{\"hovertemplate\":\"Country Name=Tunisia\\u003cbr\\u003eLife Ladder=%{x}\\u003cbr\\u003eLog GDP Per Capita=%{y}\\u003cbr\\u003eSchizophrenia (%)=%{z}\\u003cextra\\u003e\\u003c\\u002fextra\\u003e\",\"legendgroup\":\"Tunisia\",\"marker\":{\"color\":\"#636efa\",\"opacity\":0.7,\"symbol\":\"circle\"},\"mode\":\"markers\",\"name\":\"Tunisia\",\"scene\":\"scene\",\"showlegend\":true,\"x\":[4.124342918],\"y\":[9.29421711],\"z\":[0.198099],\"type\":\"scatter3d\"},{\"hovertemplate\":\"Country Name=Uganda\\u003cbr\\u003eLife Ladder=%{x}\\u003cbr\\u003eLog GDP Per Capita=%{y}\\u003cbr\\u003eSchizophrenia (%)=%{z}\\u003cextra\\u003e\\u003c\\u002fextra\\u003e\",\"legendgroup\":\"Uganda\",\"marker\":{\"color\":\"#EF553B\",\"opacity\":0.7,\"symbol\":\"circle\"},\"mode\":\"markers\",\"name\":\"Uganda\",\"scene\":\"scene\",\"showlegend\":true,\"x\":[4.000516891],\"y\":[7.663124561],\"z\":[0.160208],\"type\":\"scatter3d\"},{\"hovertemplate\":\"Country Name=Ukraine\\u003cbr\\u003eLife Ladder=%{x}\\u003cbr\\u003eLog GDP Per Capita=%{y}\\u003cbr\\u003eSchizophrenia (%)=%{z}\\u003cextra\\u003e\\u003c\\u002fextra\\u003e\",\"legendgroup\":\"Ukraine\",\"marker\":{\"color\":\"#00cc96\",\"opacity\":0.7,\"symbol\":\"circle\"},\"mode\":\"markers\",\"name\":\"Ukraine\",\"scene\":\"scene\",\"showlegend\":true,\"x\":[4.311067104],\"y\":[9.380973816],\"z\":[0.190966],\"type\":\"scatter3d\"},{\"hovertemplate\":\"Country Name=United Kingdom\\u003cbr\\u003eLife Ladder=%{x}\\u003cbr\\u003eLog GDP Per Capita=%{y}\\u003cbr\\u003eSchizophrenia (%)=%{z}\\u003cextra\\u003e\\u003c\\u002fextra\\u003e\",\"legendgroup\":\"United Kingdom\",\"marker\":{\"color\":\"#ab63fa\",\"opacity\":0.7,\"symbol\":\"circle\"},\"mode\":\"markers\",\"name\":\"United Kingdom\",\"scene\":\"scene\",\"showlegend\":true,\"x\":[7.103273392],\"y\":[10.74445915],\"z\":[0.262952],\"type\":\"scatter3d\"},{\"hovertemplate\":\"Country Name=United States\\u003cbr\\u003eLife Ladder=%{x}\\u003cbr\\u003eLog GDP Per Capita=%{y}\\u003cbr\\u003eSchizophrenia (%)=%{z}\\u003cextra\\u003e\\u003c\\u002fextra\\u003e\",\"legendgroup\":\"United States\",\"marker\":{\"color\":\"#FFA15A\",\"opacity\":0.7,\"symbol\":\"circle\"},\"mode\":\"markers\",\"name\":\"United States\",\"scene\":\"scene\",\"showlegend\":true,\"x\":[6.9917593],\"y\":[11.00067806],\"z\":[0.33389],\"type\":\"scatter3d\"},{\"hovertemplate\":\"Country Name=Uruguay\\u003cbr\\u003eLife Ladder=%{x}\\u003cbr\\u003eLog GDP Per Capita=%{y}\\u003cbr\\u003eSchizophrenia (%)=%{z}\\u003cextra\\u003e\\u003c\\u002fextra\\u003e\",\"legendgroup\":\"Uruguay\",\"marker\":{\"color\":\"#19d3f3\",\"opacity\":0.7,\"symbol\":\"circle\"},\"mode\":\"markers\",\"name\":\"Uruguay\",\"scene\":\"scene\",\"showlegend\":true,\"x\":[6.336009979],\"y\":[10.04789066],\"z\":[0.198965],\"type\":\"scatter3d\"},{\"hovertemplate\":\"Country Name=Uzbekistan\\u003cbr\\u003eLife Ladder=%{x}\\u003cbr\\u003eLog GDP Per Capita=%{y}\\u003cbr\\u003eSchizophrenia (%)=%{z}\\u003cextra\\u003e\\u003c\\u002fextra\\u003e\",\"legendgroup\":\"Uzbekistan\",\"marker\":{\"color\":\"#FF6692\",\"opacity\":0.7,\"symbol\":\"circle\"},\"mode\":\"markers\",\"name\":\"Uzbekistan\",\"scene\":\"scene\",\"showlegend\":true,\"x\":[6.421447754],\"y\":[8.830646515],\"z\":[0.188464],\"type\":\"scatter3d\"},{\"hovertemplate\":\"Country Name=Venezuela\\u003cbr\\u003eLife Ladder=%{x}\\u003cbr\\u003eLog GDP Per Capita=%{y}\\u003cbr\\u003eSchizophrenia (%)=%{z}\\u003cextra\\u003e\\u003c\\u002fextra\\u003e\",\"legendgroup\":\"Venezuela\",\"marker\":{\"color\":\"#B6E880\",\"opacity\":0.7,\"symbol\":\"circle\"},\"mode\":\"markers\",\"name\":\"Venezuela\",\"scene\":\"scene\",\"showlegend\":true,\"x\":[5.070750713],\"y\":[5.943209171],\"z\":[0.205537],\"type\":\"scatter3d\"},{\"hovertemplate\":\"Country Name=Zambia\\u003cbr\\u003eLife Ladder=%{x}\\u003cbr\\u003eLog GDP Per Capita=%{y}\\u003cbr\\u003eSchizophrenia (%)=%{z}\\u003cextra\\u003e\\u003c\\u002fextra\\u003e\",\"legendgroup\":\"Zambia\",\"marker\":{\"color\":\"#FF97FF\",\"opacity\":0.7,\"symbol\":\"circle\"},\"mode\":\"markers\",\"name\":\"Zambia\",\"scene\":\"scene\",\"showlegend\":true,\"x\":[3.932777405],\"y\":[8.130200386],\"z\":[0.165866],\"type\":\"scatter3d\"},{\"hovertemplate\":\"Country Name=Zimbabwe\\u003cbr\\u003eLife Ladder=%{x}\\u003cbr\\u003eLog GDP Per Capita=%{y}\\u003cbr\\u003eSchizophrenia (%)=%{z}\\u003cextra\\u003e\\u003c\\u002fextra\\u003e\",\"legendgroup\":\"Zimbabwe\",\"marker\":{\"color\":\"#FECB52\",\"opacity\":0.7,\"symbol\":\"circle\"},\"mode\":\"markers\",\"name\":\"Zimbabwe\",\"scene\":\"scene\",\"showlegend\":true,\"x\":[3.63830018],\"y\":[7.754387379],\"z\":[0.157963],\"type\":\"scatter3d\"}],                        {\"template\":{\"data\":{\"histogram2dcontour\":[{\"type\":\"histogram2dcontour\",\"colorbar\":{\"outlinewidth\":0,\"ticks\":\"\"},\"colorscale\":[[0.0,\"#0d0887\"],[0.1111111111111111,\"#46039f\"],[0.2222222222222222,\"#7201a8\"],[0.3333333333333333,\"#9c179e\"],[0.4444444444444444,\"#bd3786\"],[0.5555555555555556,\"#d8576b\"],[0.6666666666666666,\"#ed7953\"],[0.7777777777777778,\"#fb9f3a\"],[0.8888888888888888,\"#fdca26\"],[1.0,\"#f0f921\"]]}],\"choropleth\":[{\"type\":\"choropleth\",\"colorbar\":{\"outlinewidth\":0,\"ticks\":\"\"}}],\"histogram2d\":[{\"type\":\"histogram2d\",\"colorbar\":{\"outlinewidth\":0,\"ticks\":\"\"},\"colorscale\":[[0.0,\"#0d0887\"],[0.1111111111111111,\"#46039f\"],[0.2222222222222222,\"#7201a8\"],[0.3333333333333333,\"#9c179e\"],[0.4444444444444444,\"#bd3786\"],[0.5555555555555556,\"#d8576b\"],[0.6666666666666666,\"#ed7953\"],[0.7777777777777778,\"#fb9f3a\"],[0.8888888888888888,\"#fdca26\"],[1.0,\"#f0f921\"]]}],\"heatmap\":[{\"type\":\"heatmap\",\"colorbar\":{\"outlinewidth\":0,\"ticks\":\"\"},\"colorscale\":[[0.0,\"#0d0887\"],[0.1111111111111111,\"#46039f\"],[0.2222222222222222,\"#7201a8\"],[0.3333333333333333,\"#9c179e\"],[0.4444444444444444,\"#bd3786\"],[0.5555555555555556,\"#d8576b\"],[0.6666666666666666,\"#ed7953\"],[0.7777777777777778,\"#fb9f3a\"],[0.8888888888888888,\"#fdca26\"],[1.0,\"#f0f921\"]]}],\"heatmapgl\":[{\"type\":\"heatmapgl\",\"colorbar\":{\"outlinewidth\":0,\"ticks\":\"\"},\"colorscale\":[[0.0,\"#0d0887\"],[0.1111111111111111,\"#46039f\"],[0.2222222222222222,\"#7201a8\"],[0.3333333333333333,\"#9c179e\"],[0.4444444444444444,\"#bd3786\"],[0.5555555555555556,\"#d8576b\"],[0.6666666666666666,\"#ed7953\"],[0.7777777777777778,\"#fb9f3a\"],[0.8888888888888888,\"#fdca26\"],[1.0,\"#f0f921\"]]}],\"contourcarpet\":[{\"type\":\"contourcarpet\",\"colorbar\":{\"outlinewidth\":0,\"ticks\":\"\"}}],\"contour\":[{\"type\":\"contour\",\"colorbar\":{\"outlinewidth\":0,\"ticks\":\"\"},\"colorscale\":[[0.0,\"#0d0887\"],[0.1111111111111111,\"#46039f\"],[0.2222222222222222,\"#7201a8\"],[0.3333333333333333,\"#9c179e\"],[0.4444444444444444,\"#bd3786\"],[0.5555555555555556,\"#d8576b\"],[0.6666666666666666,\"#ed7953\"],[0.7777777777777778,\"#fb9f3a\"],[0.8888888888888888,\"#fdca26\"],[1.0,\"#f0f921\"]]}],\"surface\":[{\"type\":\"surface\",\"colorbar\":{\"outlinewidth\":0,\"ticks\":\"\"},\"colorscale\":[[0.0,\"#0d0887\"],[0.1111111111111111,\"#46039f\"],[0.2222222222222222,\"#7201a8\"],[0.3333333333333333,\"#9c179e\"],[0.4444444444444444,\"#bd3786\"],[0.5555555555555556,\"#d8576b\"],[0.6666666666666666,\"#ed7953\"],[0.7777777777777778,\"#fb9f3a\"],[0.8888888888888888,\"#fdca26\"],[1.0,\"#f0f921\"]]}],\"mesh3d\":[{\"type\":\"mesh3d\",\"colorbar\":{\"outlinewidth\":0,\"ticks\":\"\"}}],\"scatter\":[{\"fillpattern\":{\"fillmode\":\"overlay\",\"size\":10,\"solidity\":0.2},\"type\":\"scatter\"}],\"parcoords\":[{\"type\":\"parcoords\",\"line\":{\"colorbar\":{\"outlinewidth\":0,\"ticks\":\"\"}}}],\"scatterpolargl\":[{\"type\":\"scatterpolargl\",\"marker\":{\"colorbar\":{\"outlinewidth\":0,\"ticks\":\"\"}}}],\"bar\":[{\"error_x\":{\"color\":\"#2a3f5f\"},\"error_y\":{\"color\":\"#2a3f5f\"},\"marker\":{\"line\":{\"color\":\"#E5ECF6\",\"width\":0.5},\"pattern\":{\"fillmode\":\"overlay\",\"size\":10,\"solidity\":0.2}},\"type\":\"bar\"}],\"scattergeo\":[{\"type\":\"scattergeo\",\"marker\":{\"colorbar\":{\"outlinewidth\":0,\"ticks\":\"\"}}}],\"scatterpolar\":[{\"type\":\"scatterpolar\",\"marker\":{\"colorbar\":{\"outlinewidth\":0,\"ticks\":\"\"}}}],\"histogram\":[{\"marker\":{\"pattern\":{\"fillmode\":\"overlay\",\"size\":10,\"solidity\":0.2}},\"type\":\"histogram\"}],\"scattergl\":[{\"type\":\"scattergl\",\"marker\":{\"colorbar\":{\"outlinewidth\":0,\"ticks\":\"\"}}}],\"scatter3d\":[{\"type\":\"scatter3d\",\"line\":{\"colorbar\":{\"outlinewidth\":0,\"ticks\":\"\"}},\"marker\":{\"colorbar\":{\"outlinewidth\":0,\"ticks\":\"\"}}}],\"scattermapbox\":[{\"type\":\"scattermapbox\",\"marker\":{\"colorbar\":{\"outlinewidth\":0,\"ticks\":\"\"}}}],\"scatterternary\":[{\"type\":\"scatterternary\",\"marker\":{\"colorbar\":{\"outlinewidth\":0,\"ticks\":\"\"}}}],\"scattercarpet\":[{\"type\":\"scattercarpet\",\"marker\":{\"colorbar\":{\"outlinewidth\":0,\"ticks\":\"\"}}}],\"carpet\":[{\"aaxis\":{\"endlinecolor\":\"#2a3f5f\",\"gridcolor\":\"white\",\"linecolor\":\"white\",\"minorgridcolor\":\"white\",\"startlinecolor\":\"#2a3f5f\"},\"baxis\":{\"endlinecolor\":\"#2a3f5f\",\"gridcolor\":\"white\",\"linecolor\":\"white\",\"minorgridcolor\":\"white\",\"startlinecolor\":\"#2a3f5f\"},\"type\":\"carpet\"}],\"table\":[{\"cells\":{\"fill\":{\"color\":\"#EBF0F8\"},\"line\":{\"color\":\"white\"}},\"header\":{\"fill\":{\"color\":\"#C8D4E3\"},\"line\":{\"color\":\"white\"}},\"type\":\"table\"}],\"barpolar\":[{\"marker\":{\"line\":{\"color\":\"#E5ECF6\",\"width\":0.5},\"pattern\":{\"fillmode\":\"overlay\",\"size\":10,\"solidity\":0.2}},\"type\":\"barpolar\"}],\"pie\":[{\"automargin\":true,\"type\":\"pie\"}]},\"layout\":{\"autotypenumbers\":\"strict\",\"colorway\":[\"#636efa\",\"#EF553B\",\"#00cc96\",\"#ab63fa\",\"#FFA15A\",\"#19d3f3\",\"#FF6692\",\"#B6E880\",\"#FF97FF\",\"#FECB52\"],\"font\":{\"color\":\"#2a3f5f\"},\"hovermode\":\"closest\",\"hoverlabel\":{\"align\":\"left\"},\"paper_bgcolor\":\"white\",\"plot_bgcolor\":\"#E5ECF6\",\"polar\":{\"bgcolor\":\"#E5ECF6\",\"angularaxis\":{\"gridcolor\":\"white\",\"linecolor\":\"white\",\"ticks\":\"\"},\"radialaxis\":{\"gridcolor\":\"white\",\"linecolor\":\"white\",\"ticks\":\"\"}},\"ternary\":{\"bgcolor\":\"#E5ECF6\",\"aaxis\":{\"gridcolor\":\"white\",\"linecolor\":\"white\",\"ticks\":\"\"},\"baxis\":{\"gridcolor\":\"white\",\"linecolor\":\"white\",\"ticks\":\"\"},\"caxis\":{\"gridcolor\":\"white\",\"linecolor\":\"white\",\"ticks\":\"\"}},\"coloraxis\":{\"colorbar\":{\"outlinewidth\":0,\"ticks\":\"\"}},\"colorscale\":{\"sequential\":[[0.0,\"#0d0887\"],[0.1111111111111111,\"#46039f\"],[0.2222222222222222,\"#7201a8\"],[0.3333333333333333,\"#9c179e\"],[0.4444444444444444,\"#bd3786\"],[0.5555555555555556,\"#d8576b\"],[0.6666666666666666,\"#ed7953\"],[0.7777777777777778,\"#fb9f3a\"],[0.8888888888888888,\"#fdca26\"],[1.0,\"#f0f921\"]],\"sequentialminus\":[[0.0,\"#0d0887\"],[0.1111111111111111,\"#46039f\"],[0.2222222222222222,\"#7201a8\"],[0.3333333333333333,\"#9c179e\"],[0.4444444444444444,\"#bd3786\"],[0.5555555555555556,\"#d8576b\"],[0.6666666666666666,\"#ed7953\"],[0.7777777777777778,\"#fb9f3a\"],[0.8888888888888888,\"#fdca26\"],[1.0,\"#f0f921\"]],\"diverging\":[[0,\"#8e0152\"],[0.1,\"#c51b7d\"],[0.2,\"#de77ae\"],[0.3,\"#f1b6da\"],[0.4,\"#fde0ef\"],[0.5,\"#f7f7f7\"],[0.6,\"#e6f5d0\"],[0.7,\"#b8e186\"],[0.8,\"#7fbc41\"],[0.9,\"#4d9221\"],[1,\"#276419\"]]},\"xaxis\":{\"gridcolor\":\"white\",\"linecolor\":\"white\",\"ticks\":\"\",\"title\":{\"standoff\":15},\"zerolinecolor\":\"white\",\"automargin\":true,\"zerolinewidth\":2},\"yaxis\":{\"gridcolor\":\"white\",\"linecolor\":\"white\",\"ticks\":\"\",\"title\":{\"standoff\":15},\"zerolinecolor\":\"white\",\"automargin\":true,\"zerolinewidth\":2},\"scene\":{\"xaxis\":{\"backgroundcolor\":\"#E5ECF6\",\"gridcolor\":\"white\",\"linecolor\":\"white\",\"showbackground\":true,\"ticks\":\"\",\"zerolinecolor\":\"white\",\"gridwidth\":2},\"yaxis\":{\"backgroundcolor\":\"#E5ECF6\",\"gridcolor\":\"white\",\"linecolor\":\"white\",\"showbackground\":true,\"ticks\":\"\",\"zerolinecolor\":\"white\",\"gridwidth\":2},\"zaxis\":{\"backgroundcolor\":\"#E5ECF6\",\"gridcolor\":\"white\",\"linecolor\":\"white\",\"showbackground\":true,\"ticks\":\"\",\"zerolinecolor\":\"white\",\"gridwidth\":2}},\"shapedefaults\":{\"line\":{\"color\":\"#2a3f5f\"}},\"annotationdefaults\":{\"arrowcolor\":\"#2a3f5f\",\"arrowhead\":0,\"arrowwidth\":1},\"geo\":{\"bgcolor\":\"white\",\"landcolor\":\"#E5ECF6\",\"subunitcolor\":\"white\",\"showland\":true,\"showlakes\":true,\"lakecolor\":\"white\"},\"title\":{\"x\":0.05},\"mapbox\":{\"style\":\"light\"}}},\"scene\":{\"domain\":{\"x\":[0.0,1.0],\"y\":[0.0,1.0]},\"xaxis\":{\"title\":{\"text\":\"Life Ladder\"}},\"yaxis\":{\"title\":{\"text\":\"Log GDP Per Capita\"}},\"zaxis\":{\"title\":{\"text\":\"Schizophrenia (%)\"}}},\"legend\":{\"title\":{\"text\":\"Country Name\"},\"tracegroupgap\":0},\"margin\":{\"t\":60},\"title\":{\"text\":\"Relationship between Schizophrenia, GDP and life ladder per country\"}},                        {\"responsive\": true}                    ).then(function(){\n",
       "                            \n",
       "var gd = document.getElementById('7ba25845-8d75-4a8f-9830-122057d4e372');\n",
       "var x = new MutationObserver(function (mutations, observer) {{\n",
       "        var display = window.getComputedStyle(gd).display;\n",
       "        if (!display || display === 'none') {{\n",
       "            console.log([gd, 'removed!']);\n",
       "            Plotly.purge(gd);\n",
       "            observer.disconnect();\n",
       "        }}\n",
       "}});\n",
       "\n",
       "// Listen for the removal of the full notebook cells\n",
       "var notebookContainer = gd.closest('#notebook-container');\n",
       "if (notebookContainer) {{\n",
       "    x.observe(notebookContainer, {childList: true});\n",
       "}}\n",
       "\n",
       "// Listen for the clearing of the current output cell\n",
       "var outputEl = gd.closest('.output');\n",
       "if (outputEl) {{\n",
       "    x.observe(outputEl, {childList: true});\n",
       "}}\n",
       "\n",
       "                        })                };                });            </script>        </div>"
      ]
     },
     "metadata": {},
     "output_type": "display_data"
    },
    {
     "data": {
      "application/vnd.plotly.v1+json": {
       "config": {
        "plotlyServerURL": "https://plot.ly"
       },
       "data": [
        {
         "hovertemplate": "Country Name=Afghanistan<br>Life Ladder=%{x}<br>Social Support=%{y}<br>Eating disorders (%)=%{z}<extra></extra>",
         "legendgroup": "Afghanistan",
         "marker": {
          "color": "#636efa",
          "opacity": 0.7,
          "symbol": "circle"
         },
         "mode": "markers",
         "name": "Afghanistan",
         "scene": "scene",
         "showlegend": true,
         "type": "scatter3d",
         "x": [
          2.66171813
         ],
         "y": [
          0.490880072
         ],
         "z": [
          0.107142
         ]
        },
        {
         "hovertemplate": "Country Name=Albania<br>Life Ladder=%{x}<br>Social Support=%{y}<br>Eating disorders (%)=%{z}<extra></extra>",
         "legendgroup": "Albania",
         "marker": {
          "color": "#EF553B",
          "opacity": 0.7,
          "symbol": "circle"
         },
         "mode": "markers",
         "name": "Albania",
         "scene": "scene",
         "showlegend": true,
         "type": "scatter3d",
         "x": [
          4.639548302
         ],
         "y": [
          0.637698293
         ],
         "z": [
          0.174046
         ]
        },
        {
         "hovertemplate": "Country Name=Argentina<br>Life Ladder=%{x}<br>Social Support=%{y}<br>Eating disorders (%)=%{z}<extra></extra>",
         "legendgroup": "Argentina",
         "marker": {
          "color": "#00cc96",
          "opacity": 0.7,
          "symbol": "circle"
         },
         "mode": "markers",
         "name": "Argentina",
         "scene": "scene",
         "showlegend": true,
         "type": "scatter3d",
         "x": [
          6.039330006
         ],
         "y": [
          0.906699121
         ],
         "z": [
          0.404033
         ]
        },
        {
         "hovertemplate": "Country Name=Armenia<br>Life Ladder=%{x}<br>Social Support=%{y}<br>Eating disorders (%)=%{z}<extra></extra>",
         "legendgroup": "Armenia",
         "marker": {
          "color": "#ab63fa",
          "opacity": 0.7,
          "symbol": "circle"
         },
         "mode": "markers",
         "name": "Armenia",
         "scene": "scene",
         "showlegend": true,
         "type": "scatter3d",
         "x": [
          4.287736416
         ],
         "y": [
          0.697924912
         ],
         "z": [
          0.167047
         ]
        },
        {
         "hovertemplate": "Country Name=Australia<br>Life Ladder=%{x}<br>Social Support=%{y}<br>Eating disorders (%)=%{z}<extra></extra>",
         "legendgroup": "Australia",
         "marker": {
          "color": "#FFA15A",
          "opacity": 0.7,
          "symbol": "circle"
         },
         "mode": "markers",
         "name": "Australia",
         "scene": "scene",
         "showlegend": true,
         "type": "scatter3d",
         "x": [
          7.25703764
         ],
         "y": [
          0.949957848
         ],
         "z": [
          0.943081
         ]
        },
        {
         "hovertemplate": "Country Name=Austria<br>Life Ladder=%{x}<br>Social Support=%{y}<br>Eating disorders (%)=%{z}<extra></extra>",
         "legendgroup": "Austria",
         "marker": {
          "color": "#19d3f3",
          "opacity": 0.7,
          "symbol": "circle"
         },
         "mode": "markers",
         "name": "Austria",
         "scene": "scene",
         "showlegend": true,
         "type": "scatter3d",
         "x": [
          7.293727875
         ],
         "y": [
          0.906217813
         ],
         "z": [
          0.675112
         ]
        },
        {
         "hovertemplate": "Country Name=Azerbaijan<br>Life Ladder=%{x}<br>Social Support=%{y}<br>Eating disorders (%)=%{z}<extra></extra>",
         "legendgroup": "Azerbaijan",
         "marker": {
          "color": "#FF6692",
          "opacity": 0.7,
          "symbol": "circle"
         },
         "mode": "markers",
         "name": "Azerbaijan",
         "scene": "scene",
         "showlegend": true,
         "type": "scatter3d",
         "x": [
          5.152279377
         ],
         "y": [
          0.787039399
         ],
         "z": [
          0.204891
         ]
        },
        {
         "hovertemplate": "Country Name=Bangladesh<br>Life Ladder=%{x}<br>Social Support=%{y}<br>Eating disorders (%)=%{z}<extra></extra>",
         "legendgroup": "Bangladesh",
         "marker": {
          "color": "#B6E880",
          "opacity": 0.7,
          "symbol": "circle"
         },
         "mode": "markers",
         "name": "Bangladesh",
         "scene": "scene",
         "showlegend": true,
         "type": "scatter3d",
         "x": [
          4.309771061
         ],
         "y": [
          0.712552786
         ],
         "z": [
          0.137974
         ]
        },
        {
         "hovertemplate": "Country Name=Belarus<br>Life Ladder=%{x}<br>Social Support=%{y}<br>Eating disorders (%)=%{z}<extra></extra>",
         "legendgroup": "Belarus",
         "marker": {
          "color": "#FF97FF",
          "opacity": 0.7,
          "symbol": "circle"
         },
         "mode": "markers",
         "name": "Belarus",
         "scene": "scene",
         "showlegend": true,
         "type": "scatter3d",
         "x": [
          5.552915096
         ],
         "y": [
          0.900255799
         ],
         "z": [
          0.210693
         ]
        },
        {
         "hovertemplate": "Country Name=Belgium<br>Life Ladder=%{x}<br>Social Support=%{y}<br>Eating disorders (%)=%{z}<extra></extra>",
         "legendgroup": "Belgium",
         "marker": {
          "color": "#FECB52",
          "opacity": 0.7,
          "symbol": "circle"
         },
         "mode": "markers",
         "name": "Belgium",
         "scene": "scene",
         "showlegend": true,
         "type": "scatter3d",
         "x": [
          6.928347588
         ],
         "y": [
          0.921639085
         ],
         "z": [
          0.603869
         ]
        },
        {
         "hovertemplate": "Country Name=Benin<br>Life Ladder=%{x}<br>Social Support=%{y}<br>Eating disorders (%)=%{z}<extra></extra>",
         "legendgroup": "Benin",
         "marker": {
          "color": "#636efa",
          "opacity": 0.7,
          "symbol": "circle"
         },
         "mode": "markers",
         "name": "Benin",
         "scene": "scene",
         "showlegend": true,
         "type": "scatter3d",
         "x": [
          4.853180885
         ],
         "y": [
          0.435878992
         ],
         "z": [
          0.12029
         ]
        },
        {
         "hovertemplate": "Country Name=Bolivia<br>Life Ladder=%{x}<br>Social Support=%{y}<br>Eating disorders (%)=%{z}<extra></extra>",
         "legendgroup": "Bolivia",
         "marker": {
          "color": "#EF553B",
          "opacity": 0.7,
          "symbol": "circle"
         },
         "mode": "markers",
         "name": "Bolivia",
         "scene": "scene",
         "showlegend": true,
         "type": "scatter3d",
         "x": [
          5.65055275
         ],
         "y": [
          0.778661788
         ],
         "z": [
          0.305251
         ]
        },
        {
         "hovertemplate": "Country Name=Bosnia and Herzegovina<br>Life Ladder=%{x}<br>Social Support=%{y}<br>Eating disorders (%)=%{z}<extra></extra>",
         "legendgroup": "Bosnia and Herzegovina",
         "marker": {
          "color": "#00cc96",
          "opacity": 0.7,
          "symbol": "circle"
         },
         "mode": "markers",
         "name": "Bosnia and Herzegovina",
         "scene": "scene",
         "showlegend": true,
         "type": "scatter3d",
         "x": [
          5.089902401
         ],
         "y": [
          0.775295258
         ],
         "z": [
          0.172474
         ]
        },
        {
         "hovertemplate": "Country Name=Botswana<br>Life Ladder=%{x}<br>Social Support=%{y}<br>Eating disorders (%)=%{z}<extra></extra>",
         "legendgroup": "Botswana",
         "marker": {
          "color": "#ab63fa",
          "opacity": 0.7,
          "symbol": "circle"
         },
         "mode": "markers",
         "name": "Botswana",
         "scene": "scene",
         "showlegend": true,
         "type": "scatter3d",
         "x": [
          3.504881144
         ],
         "y": [
          0.768258631
         ],
         "z": [
          0.227733
         ]
        },
        {
         "hovertemplate": "Country Name=Brazil<br>Life Ladder=%{x}<br>Social Support=%{y}<br>Eating disorders (%)=%{z}<extra></extra>",
         "legendgroup": "Brazil",
         "marker": {
          "color": "#FFA15A",
          "opacity": 0.7,
          "symbol": "circle"
         },
         "mode": "markers",
         "name": "Brazil",
         "scene": "scene",
         "showlegend": true,
         "type": "scatter3d",
         "x": [
          6.332929134
         ],
         "y": [
          0.904694259
         ],
         "z": [
          0.277051
         ]
        },
        {
         "hovertemplate": "Country Name=Bulgaria<br>Life Ladder=%{x}<br>Social Support=%{y}<br>Eating disorders (%)=%{z}<extra></extra>",
         "legendgroup": "Bulgaria",
         "marker": {
          "color": "#19d3f3",
          "opacity": 0.7,
          "symbol": "circle"
         },
         "mode": "markers",
         "name": "Bulgaria",
         "scene": "scene",
         "showlegend": true,
         "type": "scatter3d",
         "x": [
          5.096901894
         ],
         "y": [
          0.94175458
         ],
         "z": [
          0.202411
         ]
        },
        {
         "hovertemplate": "Country Name=Burkina Faso<br>Life Ladder=%{x}<br>Social Support=%{y}<br>Eating disorders (%)=%{z}<extra></extra>",
         "legendgroup": "Burkina Faso",
         "marker": {
          "color": "#FF6692",
          "opacity": 0.7,
          "symbol": "circle"
         },
         "mode": "markers",
         "name": "Burkina Faso",
         "scene": "scene",
         "showlegend": true,
         "type": "scatter3d",
         "x": [
          4.646891117
         ],
         "y": [
          0.784761369
         ],
         "z": [
          0.113354
         ]
        },
        {
         "hovertemplate": "Country Name=Cambodia<br>Life Ladder=%{x}<br>Social Support=%{y}<br>Eating disorders (%)=%{z}<extra></extra>",
         "legendgroup": "Cambodia",
         "marker": {
          "color": "#B6E880",
          "opacity": 0.7,
          "symbol": "circle"
         },
         "mode": "markers",
         "name": "Cambodia",
         "scene": "scene",
         "showlegend": true,
         "type": "scatter3d",
         "x": [
          4.585842133
         ],
         "y": [
          0.765094936
         ],
         "z": [
          0.108379
         ]
        },
        {
         "hovertemplate": "Country Name=Cameroon<br>Life Ladder=%{x}<br>Social Support=%{y}<br>Eating disorders (%)=%{z}<extra></extra>",
         "legendgroup": "Cameroon",
         "marker": {
          "color": "#FF97FF",
          "opacity": 0.7,
          "symbol": "circle"
         },
         "mode": "markers",
         "name": "Cameroon",
         "scene": "scene",
         "showlegend": true,
         "type": "scatter3d",
         "x": [
          5.07405138
         ],
         "y": [
          0.69459641
         ],
         "z": [
          0.13379
         ]
        },
        {
         "hovertemplate": "Country Name=Canada<br>Life Ladder=%{x}<br>Social Support=%{y}<br>Eating disorders (%)=%{z}<extra></extra>",
         "legendgroup": "Canada",
         "marker": {
          "color": "#FECB52",
          "opacity": 0.7,
          "symbol": "circle"
         },
         "mode": "markers",
         "name": "Canada",
         "scene": "scene",
         "showlegend": true,
         "type": "scatter3d",
         "x": [
          7.414868355
         ],
         "y": [
          0.93374896
         ],
         "z": [
          0.477304
         ]
        },
        {
         "hovertemplate": "Country Name=Chad<br>Life Ladder=%{x}<br>Social Support=%{y}<br>Eating disorders (%)=%{z}<extra></extra>",
         "legendgroup": "Chad",
         "marker": {
          "color": "#636efa",
          "opacity": 0.7,
          "symbol": "circle"
         },
         "mode": "markers",
         "name": "Chad",
         "scene": "scene",
         "showlegend": true,
         "type": "scatter3d",
         "x": [
          4.558937073
         ],
         "y": [
          0.660615563
         ],
         "z": [
          0.122129
         ]
        },
        {
         "hovertemplate": "Country Name=Chile<br>Life Ladder=%{x}<br>Social Support=%{y}<br>Eating disorders (%)=%{z}<extra></extra>",
         "legendgroup": "Chile",
         "marker": {
          "color": "#EF553B",
          "opacity": 0.7,
          "symbol": "circle"
         },
         "mode": "markers",
         "name": "Chile",
         "scene": "scene",
         "showlegend": true,
         "type": "scatter3d",
         "x": [
          6.320119381
         ],
         "y": [
          0.879840791
         ],
         "z": [
          0.416123
         ]
        },
        {
         "hovertemplate": "Country Name=Colombia<br>Life Ladder=%{x}<br>Social Support=%{y}<br>Eating disorders (%)=%{z}<extra></extra>",
         "legendgroup": "Colombia",
         "marker": {
          "color": "#00cc96",
          "opacity": 0.7,
          "symbol": "circle"
         },
         "mode": "markers",
         "name": "Colombia",
         "scene": "scene",
         "showlegend": true,
         "type": "scatter3d",
         "x": [
          6.157341957
         ],
         "y": [
          0.909249961
         ],
         "z": [
          0.260257
         ]
        },
        {
         "hovertemplate": "Country Name=Costa Rica<br>Life Ladder=%{x}<br>Social Support=%{y}<br>Eating disorders (%)=%{z}<extra></extra>",
         "legendgroup": "Costa Rica",
         "marker": {
          "color": "#ab63fa",
          "opacity": 0.7,
          "symbol": "circle"
         },
         "mode": "markers",
         "name": "Costa Rica",
         "scene": "scene",
         "showlegend": true,
         "type": "scatter3d",
         "x": [
          7.22518158
         ],
         "y": [
          0.92169714
         ],
         "z": [
          0.289342
         ]
        },
        {
         "hovertemplate": "Country Name=Croatia<br>Life Ladder=%{x}<br>Social Support=%{y}<br>Eating disorders (%)=%{z}<extra></extra>",
         "legendgroup": "Croatia",
         "marker": {
          "color": "#FFA15A",
          "opacity": 0.7,
          "symbol": "circle"
         },
         "mode": "markers",
         "name": "Croatia",
         "scene": "scene",
         "showlegend": true,
         "type": "scatter3d",
         "x": [
          5.343165874
         ],
         "y": [
          0.770309687
         ],
         "z": [
          0.217975
         ]
        },
        {
         "hovertemplate": "Country Name=Cyprus<br>Life Ladder=%{x}<br>Social Support=%{y}<br>Eating disorders (%)=%{z}<extra></extra>",
         "legendgroup": "Cyprus",
         "marker": {
          "color": "#19d3f3",
          "opacity": 0.7,
          "symbol": "circle"
         },
         "mode": "markers",
         "name": "Cyprus",
         "scene": "scene",
         "showlegend": true,
         "type": "scatter3d",
         "x": [
          6.062051296
         ],
         "y": [
          0.818671048
         ],
         "z": [
          0.506721
         ]
        },
        {
         "hovertemplate": "Country Name=Denmark<br>Life Ladder=%{x}<br>Social Support=%{y}<br>Eating disorders (%)=%{z}<extra></extra>",
         "legendgroup": "Denmark",
         "marker": {
          "color": "#FF6692",
          "opacity": 0.7,
          "symbol": "circle"
         },
         "mode": "markers",
         "name": "Denmark",
         "scene": "scene",
         "showlegend": true,
         "type": "scatter3d",
         "x": [
          7.593702316
         ],
         "y": [
          0.952100098
         ],
         "z": [
          0.540025
         ]
        },
        {
         "hovertemplate": "Country Name=Dominican Republic<br>Life Ladder=%{x}<br>Social Support=%{y}<br>Eating disorders (%)=%{z}<extra></extra>",
         "legendgroup": "Dominican Republic",
         "marker": {
          "color": "#B6E880",
          "opacity": 0.7,
          "symbol": "circle"
         },
         "mode": "markers",
         "name": "Dominican Republic",
         "scene": "scene",
         "showlegend": true,
         "type": "scatter3d",
         "x": [
          5.605202675
         ],
         "y": [
          0.894368112
         ],
         "z": [
          0.303058
         ]
        },
        {
         "hovertemplate": "Country Name=Ecuador<br>Life Ladder=%{x}<br>Social Support=%{y}<br>Eating disorders (%)=%{z}<extra></extra>",
         "legendgroup": "Ecuador",
         "marker": {
          "color": "#FF97FF",
          "opacity": 0.7,
          "symbol": "circle"
         },
         "mode": "markers",
         "name": "Ecuador",
         "scene": "scene",
         "showlegend": true,
         "type": "scatter3d",
         "x": [
          5.839518547
         ],
         "y": [
          0.848941743
         ],
         "z": [
          0.363733
         ]
        },
        {
         "hovertemplate": "Country Name=El Salvador<br>Life Ladder=%{x}<br>Social Support=%{y}<br>Eating disorders (%)=%{z}<extra></extra>",
         "legendgroup": "El Salvador",
         "marker": {
          "color": "#FECB52",
          "opacity": 0.7,
          "symbol": "circle"
         },
         "mode": "markers",
         "name": "El Salvador",
         "scene": "scene",
         "showlegend": true,
         "type": "scatter3d",
         "x": [
          6.339318275
         ],
         "y": [
          0.82895261
         ],
         "z": [
          0.243873
         ]
        },
        {
         "hovertemplate": "Country Name=Estonia<br>Life Ladder=%{x}<br>Social Support=%{y}<br>Eating disorders (%)=%{z}<extra></extra>",
         "legendgroup": "Estonia",
         "marker": {
          "color": "#636efa",
          "opacity": 0.7,
          "symbol": "circle"
         },
         "mode": "markers",
         "name": "Estonia",
         "scene": "scene",
         "showlegend": true,
         "type": "scatter3d",
         "x": [
          5.938395977
         ],
         "y": [
          0.93568635
         ],
         "z": [
          0.250271
         ]
        },
        {
         "hovertemplate": "Country Name=Ethiopia<br>Life Ladder=%{x}<br>Social Support=%{y}<br>Eating disorders (%)=%{z}<extra></extra>",
         "legendgroup": "Ethiopia",
         "marker": {
          "color": "#EF553B",
          "opacity": 0.7,
          "symbol": "circle"
         },
         "mode": "markers",
         "name": "Ethiopia",
         "scene": "scene",
         "showlegend": true,
         "type": "scatter3d",
         "x": [
          4.180315495
         ],
         "y": [
          0.73353976
         ],
         "z": [
          0.109817
         ]
        },
        {
         "hovertemplate": "Country Name=Finland<br>Life Ladder=%{x}<br>Social Support=%{y}<br>Eating disorders (%)=%{z}<extra></extra>",
         "legendgroup": "Finland",
         "marker": {
          "color": "#00cc96",
          "opacity": 0.7,
          "symbol": "circle"
         },
         "mode": "markers",
         "name": "Finland",
         "scene": "scene",
         "showlegend": true,
         "type": "scatter3d",
         "x": [
          7.788251877
         ],
         "y": [
          0.963826418
         ],
         "z": [
          0.594938
         ]
        },
        {
         "hovertemplate": "Country Name=France<br>Life Ladder=%{x}<br>Social Support=%{y}<br>Eating disorders (%)=%{z}<extra></extra>",
         "legendgroup": "France",
         "marker": {
          "color": "#ab63fa",
          "opacity": 0.7,
          "symbol": "circle"
         },
         "mode": "markers",
         "name": "France",
         "scene": "scene",
         "showlegend": true,
         "type": "scatter3d",
         "x": [
          6.635222435
         ],
         "y": [
          0.931494594
         ],
         "z": [
          0.573755
         ]
        },
        {
         "hovertemplate": "Country Name=Gabon<br>Life Ladder=%{x}<br>Social Support=%{y}<br>Eating disorders (%)=%{z}<extra></extra>",
         "legendgroup": "Gabon",
         "marker": {
          "color": "#FFA15A",
          "opacity": 0.7,
          "symbol": "circle"
         },
         "mode": "markers",
         "name": "Gabon",
         "scene": "scene",
         "showlegend": true,
         "type": "scatter3d",
         "x": [
          4.782382965
         ],
         "y": [
          0.806941152
         ],
         "z": [
          0.226577
         ]
        },
        {
         "hovertemplate": "Country Name=Gambia<br>Life Ladder=%{x}<br>Social Support=%{y}<br>Eating disorders (%)=%{z}<extra></extra>",
         "legendgroup": "Gambia",
         "marker": {
          "color": "#19d3f3",
          "opacity": 0.7,
          "symbol": "circle"
         },
         "mode": "markers",
         "name": "Gambia",
         "scene": "scene",
         "showlegend": true,
         "type": "scatter3d",
         "x": [
          4.117938995
         ],
         "y": [
          0.697001517
         ],
         "z": [
          0.113298
         ]
        },
        {
         "hovertemplate": "Country Name=Georgia<br>Life Ladder=%{x}<br>Social Support=%{y}<br>Eating disorders (%)=%{z}<extra></extra>",
         "legendgroup": "Georgia",
         "marker": {
          "color": "#FF6692",
          "opacity": 0.7,
          "symbol": "circle"
         },
         "mode": "markers",
         "name": "Georgia",
         "scene": "scene",
         "showlegend": true,
         "type": "scatter3d",
         "x": [
          4.45077467
         ],
         "y": [
          0.590495169
         ],
         "z": [
          0.17164
         ]
        },
        {
         "hovertemplate": "Country Name=Germany<br>Life Ladder=%{x}<br>Social Support=%{y}<br>Eating disorders (%)=%{z}<extra></extra>",
         "legendgroup": "Germany",
         "marker": {
          "color": "#B6E880",
          "opacity": 0.7,
          "symbol": "circle"
         },
         "mode": "markers",
         "name": "Germany",
         "scene": "scene",
         "showlegend": true,
         "type": "scatter3d",
         "x": [
          7.074324608
         ],
         "y": [
          0.892166078
         ],
         "z": [
          0.522066
         ]
        },
        {
         "hovertemplate": "Country Name=Ghana<br>Life Ladder=%{x}<br>Social Support=%{y}<br>Eating disorders (%)=%{z}<extra></extra>",
         "legendgroup": "Ghana",
         "marker": {
          "color": "#FF97FF",
          "opacity": 0.7,
          "symbol": "circle"
         },
         "mode": "markers",
         "name": "Ghana",
         "scene": "scene",
         "showlegend": true,
         "type": "scatter3d",
         "x": [
          5.481310844
         ],
         "y": [
          0.669111073
         ],
         "z": [
          0.147452
         ]
        },
        {
         "hovertemplate": "Country Name=Greece<br>Life Ladder=%{x}<br>Social Support=%{y}<br>Eating disorders (%)=%{z}<extra></extra>",
         "legendgroup": "Greece",
         "marker": {
          "color": "#FECB52",
          "opacity": 0.7,
          "symbol": "circle"
         },
         "mode": "markers",
         "name": "Greece",
         "scene": "scene",
         "showlegend": true,
         "type": "scatter3d",
         "x": [
          5.14824152
         ],
         "y": [
          0.752899528
         ],
         "z": [
          0.559324
         ]
        },
        {
         "hovertemplate": "Country Name=Guatemala<br>Life Ladder=%{x}<br>Social Support=%{y}<br>Eating disorders (%)=%{z}<extra></extra>",
         "legendgroup": "Guatemala",
         "marker": {
          "color": "#636efa",
          "opacity": 0.7,
          "symbol": "circle"
         },
         "mode": "markers",
         "name": "Guatemala",
         "scene": "scene",
         "showlegend": true,
         "type": "scatter3d",
         "x": [
          6.325118542
         ],
         "y": [
          0.826492071
         ],
         "z": [
          0.23211
         ]
        },
        {
         "hovertemplate": "Country Name=Guinea<br>Life Ladder=%{x}<br>Social Support=%{y}<br>Eating disorders (%)=%{z}<extra></extra>",
         "legendgroup": "Guinea",
         "marker": {
          "color": "#EF553B",
          "opacity": 0.7,
          "symbol": "circle"
         },
         "mode": "markers",
         "name": "Guinea",
         "scene": "scene",
         "showlegend": true,
         "type": "scatter3d",
         "x": [
          4.873722553
         ],
         "y": [
          0.634025574
         ],
         "z": [
          0.112388
         ]
        },
        {
         "hovertemplate": "Country Name=Haiti<br>Life Ladder=%{x}<br>Social Support=%{y}<br>Eating disorders (%)=%{z}<extra></extra>",
         "legendgroup": "Haiti",
         "marker": {
          "color": "#00cc96",
          "opacity": 0.7,
          "symbol": "circle"
         },
         "mode": "markers",
         "name": "Haiti",
         "scene": "scene",
         "showlegend": true,
         "type": "scatter3d",
         "x": [
          3.823865652
         ],
         "y": [
          0.646984994
         ],
         "z": [
          0.16079
         ]
        },
        {
         "hovertemplate": "Country Name=Honduras<br>Life Ladder=%{x}<br>Social Support=%{y}<br>Eating disorders (%)=%{z}<extra></extra>",
         "legendgroup": "Honduras",
         "marker": {
          "color": "#ab63fa",
          "opacity": 0.7,
          "symbol": "circle"
         },
         "mode": "markers",
         "name": "Honduras",
         "scene": "scene",
         "showlegend": true,
         "type": "scatter3d",
         "x": [
          6.019985676
         ],
         "y": [
          0.84335494
         ],
         "z": [
          0.203339
         ]
        },
        {
         "hovertemplate": "Country Name=Hungary<br>Life Ladder=%{x}<br>Social Support=%{y}<br>Eating disorders (%)=%{z}<extra></extra>",
         "legendgroup": "Hungary",
         "marker": {
          "color": "#FFA15A",
          "opacity": 0.7,
          "symbol": "circle"
         },
         "mode": "markers",
         "name": "Hungary",
         "scene": "scene",
         "showlegend": true,
         "type": "scatter3d",
         "x": [
          6.065038681
         ],
         "y": [
          0.876747549
         ],
         "z": [
          0.237686
         ]
        },
        {
         "hovertemplate": "Country Name=Iceland<br>Life Ladder=%{x}<br>Social Support=%{y}<br>Eating disorders (%)=%{z}<extra></extra>",
         "legendgroup": "Iceland",
         "marker": {
          "color": "#19d3f3",
          "opacity": 0.7,
          "symbol": "circle"
         },
         "mode": "markers",
         "name": "Iceland",
         "scene": "scene",
         "showlegend": true,
         "type": "scatter3d",
         "x": [
          7.476213932
         ],
         "y": [
          0.966752827
         ],
         "z": [
          0.558014
         ]
        },
        {
         "hovertemplate": "Country Name=India<br>Life Ladder=%{x}<br>Social Support=%{y}<br>Eating disorders (%)=%{z}<extra></extra>",
         "legendgroup": "India",
         "marker": {
          "color": "#FF6692",
          "opacity": 0.7,
          "symbol": "circle"
         },
         "mode": "markers",
         "name": "India",
         "scene": "scene",
         "showlegend": true,
         "type": "scatter3d",
         "x": [
          4.046111107
         ],
         "y": [
          0.606767476
         ],
         "z": [
          0.157758
         ]
        },
        {
         "hovertemplate": "Country Name=Indonesia<br>Life Ladder=%{x}<br>Social Support=%{y}<br>Eating disorders (%)=%{z}<extra></extra>",
         "legendgroup": "Indonesia",
         "marker": {
          "color": "#B6E880",
          "opacity": 0.7,
          "symbol": "circle"
         },
         "mode": "markers",
         "name": "Indonesia",
         "scene": "scene",
         "showlegend": true,
         "type": "scatter3d",
         "x": [
          5.098401546
         ],
         "y": [
          0.795589209
         ],
         "z": [
          0.148782
         ]
        },
        {
         "hovertemplate": "Country Name=Iraq<br>Life Ladder=%{x}<br>Social Support=%{y}<br>Eating disorders (%)=%{z}<extra></extra>",
         "legendgroup": "Iraq",
         "marker": {
          "color": "#FF97FF",
          "opacity": 0.7,
          "symbol": "circle"
         },
         "mode": "markers",
         "name": "Iraq",
         "scene": "scene",
         "showlegend": true,
         "type": "scatter3d",
         "x": [
          4.462399006
         ],
         "y": [
          0.695109367
         ],
         "z": [
          0.208672
         ]
        },
        {
         "hovertemplate": "Country Name=Ireland<br>Life Ladder=%{x}<br>Social Support=%{y}<br>Eating disorders (%)=%{z}<extra></extra>",
         "legendgroup": "Ireland",
         "marker": {
          "color": "#FECB52",
          "opacity": 0.7,
          "symbol": "circle"
         },
         "mode": "markers",
         "name": "Ireland",
         "scene": "scene",
         "showlegend": true,
         "type": "scatter3d",
         "x": [
          7.060155392
         ],
         "y": [
          0.943481982
         ],
         "z": [
          0.559995
         ]
        },
        {
         "hovertemplate": "Country Name=Israel<br>Life Ladder=%{x}<br>Social Support=%{y}<br>Eating disorders (%)=%{z}<extra></extra>",
         "legendgroup": "Israel",
         "marker": {
          "color": "#636efa",
          "opacity": 0.7,
          "symbol": "circle"
         },
         "mode": "markers",
         "name": "Israel",
         "scene": "scene",
         "showlegend": true,
         "type": "scatter3d",
         "x": [
          7.331036091
         ],
         "y": [
          0.916440845
         ],
         "z": [
          0.461175
         ]
        },
        {
         "hovertemplate": "Country Name=Italy<br>Life Ladder=%{x}<br>Social Support=%{y}<br>Eating disorders (%)=%{z}<extra></extra>",
         "legendgroup": "Italy",
         "marker": {
          "color": "#EF553B",
          "opacity": 0.7,
          "symbol": "circle"
         },
         "mode": "markers",
         "name": "Italy",
         "scene": "scene",
         "showlegend": true,
         "type": "scatter3d",
         "x": [
          6.198870182
         ],
         "y": [
          0.919791222
         ],
         "z": [
          0.626784
         ]
        },
        {
         "hovertemplate": "Country Name=Jamaica<br>Life Ladder=%{x}<br>Social Support=%{y}<br>Eating disorders (%)=%{z}<extra></extra>",
         "legendgroup": "Jamaica",
         "marker": {
          "color": "#00cc96",
          "opacity": 0.7,
          "symbol": "circle"
         },
         "mode": "markers",
         "name": "Jamaica",
         "scene": "scene",
         "showlegend": true,
         "type": "scatter3d",
         "x": [
          5.889759064
         ],
         "y": [
          0.91302985
         ],
         "z": [
          0.25965
         ]
        },
        {
         "hovertemplate": "Country Name=Japan<br>Life Ladder=%{x}<br>Social Support=%{y}<br>Eating disorders (%)=%{z}<extra></extra>",
         "legendgroup": "Japan",
         "marker": {
          "color": "#ab63fa",
          "opacity": 0.7,
          "symbol": "circle"
         },
         "mode": "markers",
         "name": "Japan",
         "scene": "scene",
         "showlegend": true,
         "type": "scatter3d",
         "x": [
          5.910676479
         ],
         "y": [
          0.881961286
         ],
         "z": [
          0.454379
         ]
        },
        {
         "hovertemplate": "Country Name=Kazakhstan<br>Life Ladder=%{x}<br>Social Support=%{y}<br>Eating disorders (%)=%{z}<extra></extra>",
         "legendgroup": "Kazakhstan",
         "marker": {
          "color": "#FFA15A",
          "opacity": 0.7,
          "symbol": "circle"
         },
         "mode": "markers",
         "name": "Kazakhstan",
         "scene": "scene",
         "showlegend": true,
         "type": "scatter3d",
         "x": [
          5.882351398
         ],
         "y": [
          0.914093196
         ],
         "z": [
          0.227918
         ]
        },
        {
         "hovertemplate": "Country Name=Kenya<br>Life Ladder=%{x}<br>Social Support=%{y}<br>Eating disorders (%)=%{z}<extra></extra>",
         "legendgroup": "Kenya",
         "marker": {
          "color": "#19d3f3",
          "opacity": 0.7,
          "symbol": "circle"
         },
         "mode": "markers",
         "name": "Kenya",
         "scene": "scene",
         "showlegend": true,
         "type": "scatter3d",
         "x": [
          4.475654125
         ],
         "y": [
          0.714604318
         ],
         "z": [
          0.135005
         ]
        },
        {
         "hovertemplate": "Country Name=Kyrgyzstan<br>Life Ladder=%{x}<br>Social Support=%{y}<br>Eating disorders (%)=%{z}<extra></extra>",
         "legendgroup": "Kyrgyzstan",
         "marker": {
          "color": "#FF6692",
          "opacity": 0.7,
          "symbol": "circle"
         },
         "mode": "markers",
         "name": "Kyrgyzstan",
         "scene": "scene",
         "showlegend": true,
         "type": "scatter3d",
         "x": [
          5.629536629
         ],
         "y": [
          0.882586658
         ],
         "z": [
          0.127525
         ]
        },
        {
         "hovertemplate": "Country Name=Laos<br>Life Ladder=%{x}<br>Social Support=%{y}<br>Eating disorders (%)=%{z}<extra></extra>",
         "legendgroup": "Laos",
         "marker": {
          "color": "#B6E880",
          "opacity": 0.7,
          "symbol": "circle"
         },
         "mode": "markers",
         "name": "Laos",
         "scene": "scene",
         "showlegend": true,
         "type": "scatter3d",
         "x": [
          4.623140812
         ],
         "y": [
          0.70733577
         ],
         "z": [
          0.128172
         ]
        },
        {
         "hovertemplate": "Country Name=Latvia<br>Life Ladder=%{x}<br>Social Support=%{y}<br>Eating disorders (%)=%{z}<extra></extra>",
         "legendgroup": "Latvia",
         "marker": {
          "color": "#FF97FF",
          "opacity": 0.7,
          "symbol": "circle"
         },
         "mode": "markers",
         "name": "Latvia",
         "scene": "scene",
         "showlegend": true,
         "type": "scatter3d",
         "x": [
          5.977817535
         ],
         "y": [
          0.895098746
         ],
         "z": [
          0.225275
         ]
        },
        {
         "hovertemplate": "Country Name=Lebanon<br>Life Ladder=%{x}<br>Social Support=%{y}<br>Eating disorders (%)=%{z}<extra></extra>",
         "legendgroup": "Lebanon",
         "marker": {
          "color": "#FECB52",
          "opacity": 0.7,
          "symbol": "circle"
         },
         "mode": "markers",
         "name": "Lebanon",
         "scene": "scene",
         "showlegend": true,
         "type": "scatter3d",
         "x": [
          5.153989792
         ],
         "y": [
          0.776583016
         ],
         "z": [
          0.219049
         ]
        },
        {
         "hovertemplate": "Country Name=Lesotho<br>Life Ladder=%{x}<br>Social Support=%{y}<br>Eating disorders (%)=%{z}<extra></extra>",
         "legendgroup": "Lesotho",
         "marker": {
          "color": "#636efa",
          "opacity": 0.7,
          "symbol": "circle"
         },
         "mode": "markers",
         "name": "Lesotho",
         "scene": "scene",
         "showlegend": true,
         "type": "scatter3d",
         "x": [
          3.795300722
         ],
         "y": [
          0.768551648
         ],
         "z": [
          0.136801
         ]
        },
        {
         "hovertemplate": "Country Name=Liberia<br>Life Ladder=%{x}<br>Social Support=%{y}<br>Eating disorders (%)=%{z}<extra></extra>",
         "legendgroup": "Liberia",
         "marker": {
          "color": "#EF553B",
          "opacity": 0.7,
          "symbol": "circle"
         },
         "mode": "markers",
         "name": "Liberia",
         "scene": "scene",
         "showlegend": true,
         "type": "scatter3d",
         "x": [
          4.424490929
         ],
         "y": [
          0.684866846
         ],
         "z": [
          0.091591
         ]
        },
        {
         "hovertemplate": "Country Name=Lithuania<br>Life Ladder=%{x}<br>Social Support=%{y}<br>Eating disorders (%)=%{z}<extra></extra>",
         "legendgroup": "Lithuania",
         "marker": {
          "color": "#00cc96",
          "opacity": 0.7,
          "symbol": "circle"
         },
         "mode": "markers",
         "name": "Lithuania",
         "scene": "scene",
         "showlegend": true,
         "type": "scatter3d",
         "x": [
          6.272940636
         ],
         "y": [
          0.926316619
         ],
         "z": [
          0.234095
         ]
        },
        {
         "hovertemplate": "Country Name=Luxembourg<br>Life Ladder=%{x}<br>Social Support=%{y}<br>Eating disorders (%)=%{z}<extra></extra>",
         "legendgroup": "Luxembourg",
         "marker": {
          "color": "#ab63fa",
          "opacity": 0.7,
          "symbol": "circle"
         },
         "mode": "markers",
         "name": "Luxembourg",
         "scene": "scene",
         "showlegend": true,
         "type": "scatter3d",
         "x": [
          7.061380863
         ],
         "y": [
          0.905435503
         ],
         "z": [
          0.737917
         ]
        },
        {
         "hovertemplate": "Country Name=Madagascar<br>Life Ladder=%{x}<br>Social Support=%{y}<br>Eating disorders (%)=%{z}<extra></extra>",
         "legendgroup": "Madagascar",
         "marker": {
          "color": "#FFA15A",
          "opacity": 0.7,
          "symbol": "circle"
         },
         "mode": "markers",
         "name": "Madagascar",
         "scene": "scene",
         "showlegend": true,
         "type": "scatter3d",
         "x": [
          4.078620434
         ],
         "y": [
          0.626331985
         ],
         "z": [
          0.106417
         ]
        },
        {
         "hovertemplate": "Country Name=Malawi<br>Life Ladder=%{x}<br>Social Support=%{y}<br>Eating disorders (%)=%{z}<extra></extra>",
         "legendgroup": "Malawi",
         "marker": {
          "color": "#19d3f3",
          "opacity": 0.7,
          "symbol": "circle"
         },
         "mode": "markers",
         "name": "Malawi",
         "scene": "scene",
         "showlegend": true,
         "type": "scatter3d",
         "x": [
          3.416862965
         ],
         "y": [
          0.555422723
         ],
         "z": [
          0.100349
         ]
        },
        {
         "hovertemplate": "Country Name=Mali<br>Life Ladder=%{x}<br>Social Support=%{y}<br>Eating disorders (%)=%{z}<extra></extra>",
         "legendgroup": "Mali",
         "marker": {
          "color": "#FF6692",
          "opacity": 0.7,
          "symbol": "circle"
         },
         "mode": "markers",
         "name": "Mali",
         "scene": "scene",
         "showlegend": true,
         "type": "scatter3d",
         "x": [
          4.741850376
         ],
         "y": [
          0.741359413
         ],
         "z": [
          0.116675
         ]
        },
        {
         "hovertemplate": "Country Name=Malta<br>Life Ladder=%{x}<br>Social Support=%{y}<br>Eating disorders (%)=%{z}<extra></extra>",
         "legendgroup": "Malta",
         "marker": {
          "color": "#B6E880",
          "opacity": 0.7,
          "symbol": "circle"
         },
         "mode": "markers",
         "name": "Malta",
         "scene": "scene",
         "showlegend": true,
         "type": "scatter3d",
         "x": [
          6.675665855
         ],
         "y": [
          0.937331796
         ],
         "z": [
          0.51914
         ]
        },
        {
         "hovertemplate": "Country Name=Mauritania<br>Life Ladder=%{x}<br>Social Support=%{y}<br>Eating disorders (%)=%{z}<extra></extra>",
         "legendgroup": "Mauritania",
         "marker": {
          "color": "#FF97FF",
          "opacity": 0.7,
          "symbol": "circle"
         },
         "mode": "markers",
         "name": "Mauritania",
         "scene": "scene",
         "showlegend": true,
         "type": "scatter3d",
         "x": [
          4.678159714
         ],
         "y": [
          0.77922523
         ],
         "z": [
          0.145276
         ]
        },
        {
         "hovertemplate": "Country Name=Mauritius<br>Life Ladder=%{x}<br>Social Support=%{y}<br>Eating disorders (%)=%{z}<extra></extra>",
         "legendgroup": "Mauritius",
         "marker": {
          "color": "#FECB52",
          "opacity": 0.7,
          "symbol": "circle"
         },
         "mode": "markers",
         "name": "Mauritius",
         "scene": "scene",
         "showlegend": true,
         "type": "scatter3d",
         "x": [
          6.174117565
         ],
         "y": [
          0.910142243
         ],
         "z": [
          0.184433
         ]
        },
        {
         "hovertemplate": "Country Name=Mexico<br>Life Ladder=%{x}<br>Social Support=%{y}<br>Eating disorders (%)=%{z}<extra></extra>",
         "legendgroup": "Mexico",
         "marker": {
          "color": "#636efa",
          "opacity": 0.7,
          "symbol": "circle"
         },
         "mode": "markers",
         "name": "Mexico",
         "scene": "scene",
         "showlegend": true,
         "type": "scatter3d",
         "x": [
          6.410299301
         ],
         "y": [
          0.799839377
         ],
         "z": [
          0.316975
         ]
        },
        {
         "hovertemplate": "Country Name=Moldova<br>Life Ladder=%{x}<br>Social Support=%{y}<br>Eating disorders (%)=%{z}<extra></extra>",
         "legendgroup": "Moldova",
         "marker": {
          "color": "#EF553B",
          "opacity": 0.7,
          "symbol": "circle"
         },
         "mode": "markers",
         "name": "Moldova",
         "scene": "scene",
         "showlegend": true,
         "type": "scatter3d",
         "x": [
          5.325530529
         ],
         "y": [
          0.83076793
         ],
         "z": [
          0.141701
         ]
        },
        {
         "hovertemplate": "Country Name=Mongolia<br>Life Ladder=%{x}<br>Social Support=%{y}<br>Eating disorders (%)=%{z}<extra></extra>",
         "legendgroup": "Mongolia",
         "marker": {
          "color": "#00cc96",
          "opacity": 0.7,
          "symbol": "circle"
         },
         "mode": "markers",
         "name": "Mongolia",
         "scene": "scene",
         "showlegend": true,
         "type": "scatter3d",
         "x": [
          5.333850384
         ],
         "y": [
          0.924250782
         ],
         "z": [
          0.180157
         ]
        },
        {
         "hovertemplate": "Country Name=Montenegro<br>Life Ladder=%{x}<br>Social Support=%{y}<br>Eating disorders (%)=%{z}<extra></extra>",
         "legendgroup": "Montenegro",
         "marker": {
          "color": "#ab63fa",
          "opacity": 0.7,
          "symbol": "circle"
         },
         "mode": "markers",
         "name": "Montenegro",
         "scene": "scene",
         "showlegend": true,
         "type": "scatter3d",
         "x": [
          5.614798546
         ],
         "y": [
          0.881199837
         ],
         "z": [
          0.194161
         ]
        },
        {
         "hovertemplate": "Country Name=Mozambique<br>Life Ladder=%{x}<br>Social Support=%{y}<br>Eating disorders (%)=%{z}<extra></extra>",
         "legendgroup": "Mozambique",
         "marker": {
          "color": "#FFA15A",
          "opacity": 0.7,
          "symbol": "circle"
         },
         "mode": "markers",
         "name": "Mozambique",
         "scene": "scene",
         "showlegend": true,
         "type": "scatter3d",
         "x": [
          4.279863358
         ],
         "y": [
          0.678463697
         ],
         "z": [
          0.103227
         ]
        },
        {
         "hovertemplate": "Country Name=Myanmar<br>Life Ladder=%{x}<br>Social Support=%{y}<br>Eating disorders (%)=%{z}<extra></extra>",
         "legendgroup": "Myanmar",
         "marker": {
          "color": "#19d3f3",
          "opacity": 0.7,
          "symbol": "circle"
         },
         "mode": "markers",
         "name": "Myanmar",
         "scene": "scene",
         "showlegend": true,
         "type": "scatter3d",
         "x": [
          4.154341698
         ],
         "y": [
          0.795183837
         ],
         "z": [
          0.125738
         ]
        },
        {
         "hovertemplate": "Country Name=Namibia<br>Life Ladder=%{x}<br>Social Support=%{y}<br>Eating disorders (%)=%{z}<extra></extra>",
         "legendgroup": "Namibia",
         "marker": {
          "color": "#FF6692",
          "opacity": 0.7,
          "symbol": "circle"
         },
         "mode": "markers",
         "name": "Namibia",
         "scene": "scene",
         "showlegend": true,
         "type": "scatter3d",
         "x": [
          4.441306114
         ],
         "y": [
          0.82833904
         ],
         "z": [
          0.200987
         ]
        },
        {
         "hovertemplate": "Country Name=Nepal<br>Life Ladder=%{x}<br>Social Support=%{y}<br>Eating disorders (%)=%{z}<extra></extra>",
         "legendgroup": "Nepal",
         "marker": {
          "color": "#B6E880",
          "opacity": 0.7,
          "symbol": "circle"
         },
         "mode": "markers",
         "name": "Nepal",
         "scene": "scene",
         "showlegend": true,
         "type": "scatter3d",
         "x": [
          4.736692429
         ],
         "y": [
          0.816383302
         ],
         "z": [
          0.128495
         ]
        },
        {
         "hovertemplate": "Country Name=Netherlands<br>Life Ladder=%{x}<br>Social Support=%{y}<br>Eating disorders (%)=%{z}<extra></extra>",
         "legendgroup": "Netherlands",
         "marker": {
          "color": "#FF97FF",
          "opacity": 0.7,
          "symbol": "circle"
         },
         "mode": "markers",
         "name": "Netherlands",
         "scene": "scene",
         "showlegend": true,
         "type": "scatter3d",
         "x": [
          7.458965302
         ],
         "y": [
          0.936501324
         ],
         "z": [
          0.467844
         ]
        },
        {
         "hovertemplate": "Country Name=New Zealand<br>Life Ladder=%{x}<br>Social Support=%{y}<br>Eating disorders (%)=%{z}<extra></extra>",
         "legendgroup": "New Zealand",
         "marker": {
          "color": "#FECB52",
          "opacity": 0.7,
          "symbol": "circle"
         },
         "mode": "markers",
         "name": "New Zealand",
         "scene": "scene",
         "showlegend": true,
         "type": "scatter3d",
         "x": [
          7.32718277
         ],
         "y": [
          0.95492065
         ],
         "z": [
          0.67329
         ]
        },
        {
         "hovertemplate": "Country Name=Nicaragua<br>Life Ladder=%{x}<br>Social Support=%{y}<br>Eating disorders (%)=%{z}<extra></extra>",
         "legendgroup": "Nicaragua",
         "marker": {
          "color": "#636efa",
          "opacity": 0.7,
          "symbol": "circle"
         },
         "mode": "markers",
         "name": "Nicaragua",
         "scene": "scene",
         "showlegend": true,
         "type": "scatter3d",
         "x": [
          6.476356506
         ],
         "y": [
          0.83804369
         ],
         "z": [
          0.205876
         ]
        },
        {
         "hovertemplate": "Country Name=Niger<br>Life Ladder=%{x}<br>Social Support=%{y}<br>Eating disorders (%)=%{z}<extra></extra>",
         "legendgroup": "Niger",
         "marker": {
          "color": "#EF553B",
          "opacity": 0.7,
          "symbol": "circle"
         },
         "mode": "markers",
         "name": "Niger",
         "scene": "scene",
         "showlegend": true,
         "type": "scatter3d",
         "x": [
          4.615673542
         ],
         "y": [
          0.582109571
         ],
         "z": [
          0.096116
         ]
        },
        {
         "hovertemplate": "Country Name=Nigeria<br>Life Ladder=%{x}<br>Social Support=%{y}<br>Eating disorders (%)=%{z}<extra></extra>",
         "legendgroup": "Nigeria",
         "marker": {
          "color": "#00cc96",
          "opacity": 0.7,
          "symbol": "circle"
         },
         "mode": "markers",
         "name": "Nigeria",
         "scene": "scene",
         "showlegend": true,
         "type": "scatter3d",
         "x": [
          5.321928024
         ],
         "y": [
          0.733468533
         ],
         "z": [
          0.163373
         ]
        },
        {
         "hovertemplate": "Country Name=Norway<br>Life Ladder=%{x}<br>Social Support=%{y}<br>Eating disorders (%)=%{z}<extra></extra>",
         "legendgroup": "Norway",
         "marker": {
          "color": "#ab63fa",
          "opacity": 0.7,
          "symbol": "circle"
         },
         "mode": "markers",
         "name": "Norway",
         "scene": "scene",
         "showlegend": true,
         "type": "scatter3d",
         "x": [
          7.578744888
         ],
         "y": [
          0.950127661
         ],
         "z": [
          0.570363
         ]
        },
        {
         "hovertemplate": "Country Name=Pakistan<br>Life Ladder=%{x}<br>Social Support=%{y}<br>Eating disorders (%)=%{z}<extra></extra>",
         "legendgroup": "Pakistan",
         "marker": {
          "color": "#FFA15A",
          "opacity": 0.7,
          "symbol": "circle"
         },
         "mode": "markers",
         "name": "Pakistan",
         "scene": "scene",
         "showlegend": true,
         "type": "scatter3d",
         "x": [
          5.830870628
         ],
         "y": [
          0.690263569
         ],
         "z": [
          0.154583
         ]
        },
        {
         "hovertemplate": "Country Name=Panama<br>Life Ladder=%{x}<br>Social Support=%{y}<br>Eating disorders (%)=%{z}<extra></extra>",
         "legendgroup": "Panama",
         "marker": {
          "color": "#19d3f3",
          "opacity": 0.7,
          "symbol": "circle"
         },
         "mode": "markers",
         "name": "Panama",
         "scene": "scene",
         "showlegend": true,
         "type": "scatter3d",
         "x": [
          6.567658901
         ],
         "y": [
          0.911904812
         ],
         "z": [
          0.31665
         ]
        },
        {
         "hovertemplate": "Country Name=Paraguay<br>Life Ladder=%{x}<br>Social Support=%{y}<br>Eating disorders (%)=%{z}<extra></extra>",
         "legendgroup": "Paraguay",
         "marker": {
          "color": "#FF6692",
          "opacity": 0.7,
          "symbol": "circle"
         },
         "mode": "markers",
         "name": "Paraguay",
         "scene": "scene",
         "showlegend": true,
         "type": "scatter3d",
         "x": [
          5.71329546
         ],
         "y": [
          0.902042508
         ],
         "z": [
          0.238288
         ]
        },
        {
         "hovertemplate": "Country Name=Peru<br>Life Ladder=%{x}<br>Social Support=%{y}<br>Eating disorders (%)=%{z}<extra></extra>",
         "legendgroup": "Peru",
         "marker": {
          "color": "#B6E880",
          "opacity": 0.7,
          "symbol": "circle"
         },
         "mode": "markers",
         "name": "Peru",
         "scene": "scene",
         "showlegend": true,
         "type": "scatter3d",
         "x": [
          5.710936546
         ],
         "y": [
          0.830123365
         ],
         "z": [
          0.369216
         ]
        },
        {
         "hovertemplate": "Country Name=Philippines<br>Life Ladder=%{x}<br>Social Support=%{y}<br>Eating disorders (%)=%{z}<extra></extra>",
         "legendgroup": "Philippines",
         "marker": {
          "color": "#FF97FF",
          "opacity": 0.7,
          "symbol": "circle"
         },
         "mode": "markers",
         "name": "Philippines",
         "scene": "scene",
         "showlegend": true,
         "type": "scatter3d",
         "x": [
          5.594270229
         ],
         "y": [
          0.851028562
         ],
         "z": [
          0.134855
         ]
        },
        {
         "hovertemplate": "Country Name=Poland<br>Life Ladder=%{x}<br>Social Support=%{y}<br>Eating disorders (%)=%{z}<extra></extra>",
         "legendgroup": "Poland",
         "marker": {
          "color": "#FECB52",
          "opacity": 0.7,
          "symbol": "circle"
         },
         "mode": "markers",
         "name": "Poland",
         "scene": "scene",
         "showlegend": true,
         "type": "scatter3d",
         "x": [
          6.201268196
         ],
         "y": [
          0.881854117
         ],
         "z": [
          0.229485
         ]
        },
        {
         "hovertemplate": "Country Name=Portugal<br>Life Ladder=%{x}<br>Social Support=%{y}<br>Eating disorders (%)=%{z}<extra></extra>",
         "legendgroup": "Portugal",
         "marker": {
          "color": "#636efa",
          "opacity": 0.7,
          "symbol": "circle"
         },
         "mode": "markers",
         "name": "Portugal",
         "scene": "scene",
         "showlegend": true,
         "type": "scatter3d",
         "x": [
          5.711499214
         ],
         "y": [
          0.899984837
         ],
         "z": [
          0.513079
         ]
        },
        {
         "hovertemplate": "Country Name=Romania<br>Life Ladder=%{x}<br>Social Support=%{y}<br>Eating disorders (%)=%{z}<extra></extra>",
         "legendgroup": "Romania",
         "marker": {
          "color": "#EF553B",
          "opacity": 0.7,
          "symbol": "circle"
         },
         "mode": "markers",
         "name": "Romania",
         "scene": "scene",
         "showlegend": true,
         "type": "scatter3d",
         "x": [
          6.089904785
         ],
         "y": [
          0.811240137
         ],
         "z": [
          0.2007
         ]
        },
        {
         "hovertemplate": "Country Name=Russia<br>Life Ladder=%{x}<br>Social Support=%{y}<br>Eating disorders (%)=%{z}<extra></extra>",
         "legendgroup": "Russia",
         "marker": {
          "color": "#00cc96",
          "opacity": 0.7,
          "symbol": "circle"
         },
         "mode": "markers",
         "name": "Russia",
         "scene": "scene",
         "showlegend": true,
         "type": "scatter3d",
         "x": [
          5.578742981
         ],
         "y": [
          0.896151304
         ],
         "z": [
          0.232375
         ]
        },
        {
         "hovertemplate": "Country Name=Rwanda<br>Life Ladder=%{x}<br>Social Support=%{y}<br>Eating disorders (%)=%{z}<extra></extra>",
         "legendgroup": "Rwanda",
         "marker": {
          "color": "#ab63fa",
          "opacity": 0.7,
          "symbol": "circle"
         },
         "mode": "markers",
         "name": "Rwanda",
         "scene": "scene",
         "showlegend": true,
         "type": "scatter3d",
         "x": [
          3.10837388
         ],
         "y": [
          0.516550004
         ],
         "z": [
          0.115817
         ]
        },
        {
         "hovertemplate": "Country Name=Senegal<br>Life Ladder=%{x}<br>Social Support=%{y}<br>Eating disorders (%)=%{z}<extra></extra>",
         "legendgroup": "Senegal",
         "marker": {
          "color": "#FFA15A",
          "opacity": 0.7,
          "symbol": "circle"
         },
         "mode": "markers",
         "name": "Senegal",
         "scene": "scene",
         "showlegend": true,
         "type": "scatter3d",
         "x": [
          4.683024883
         ],
         "y": [
          0.743759334
         ],
         "z": [
          0.12529
         ]
        },
        {
         "hovertemplate": "Country Name=Serbia<br>Life Ladder=%{x}<br>Social Support=%{y}<br>Eating disorders (%)=%{z}<extra></extra>",
         "legendgroup": "Serbia",
         "marker": {
          "color": "#19d3f3",
          "opacity": 0.7,
          "symbol": "circle"
         },
         "mode": "markers",
         "name": "Serbia",
         "scene": "scene",
         "showlegend": true,
         "type": "scatter3d",
         "x": [
          5.122031212
         ],
         "y": [
          0.883770406
         ],
         "z": [
          0.187147
         ]
        },
        {
         "hovertemplate": "Country Name=Sierra Leone<br>Life Ladder=%{x}<br>Social Support=%{y}<br>Eating disorders (%)=%{z}<extra></extra>",
         "legendgroup": "Sierra Leone",
         "marker": {
          "color": "#FF6692",
          "opacity": 0.7,
          "symbol": "circle"
         },
         "mode": "markers",
         "name": "Sierra Leone",
         "scene": "scene",
         "showlegend": true,
         "type": "scatter3d",
         "x": [
          4.089562416
         ],
         "y": [
          0.652287126
         ],
         "z": [
          0.109799
         ]
        },
        {
         "hovertemplate": "Country Name=Singapore<br>Life Ladder=%{x}<br>Social Support=%{y}<br>Eating disorders (%)=%{z}<extra></extra>",
         "legendgroup": "Singapore",
         "marker": {
          "color": "#B6E880",
          "opacity": 0.7,
          "symbol": "circle"
         },
         "mode": "markers",
         "name": "Singapore",
         "scene": "scene",
         "showlegend": true,
         "type": "scatter3d",
         "x": [
          6.378437996
         ],
         "y": [
          0.897349894
         ],
         "z": [
          0.553712
         ]
        },
        {
         "hovertemplate": "Country Name=Slovakia<br>Life Ladder=%{x}<br>Social Support=%{y}<br>Eating disorders (%)=%{z}<extra></extra>",
         "legendgroup": "Slovakia",
         "marker": {
          "color": "#FF97FF",
          "opacity": 0.7,
          "symbol": "circle"
         },
         "mode": "markers",
         "name": "Slovakia",
         "scene": "scene",
         "showlegend": true,
         "type": "scatter3d",
         "x": [
          6.365509033
         ],
         "y": [
          0.913386643
         ],
         "z": [
          0.235475
         ]
        },
        {
         "hovertemplate": "Country Name=Slovenia<br>Life Ladder=%{x}<br>Social Support=%{y}<br>Eating disorders (%)=%{z}<extra></extra>",
         "legendgroup": "Slovenia",
         "marker": {
          "color": "#FECB52",
          "opacity": 0.7,
          "symbol": "circle"
         },
         "mode": "markers",
         "name": "Slovenia",
         "scene": "scene",
         "showlegend": true,
         "type": "scatter3d",
         "x": [
          6.166837692
         ],
         "y": [
          0.928187847
         ],
         "z": [
          0.239636
         ]
        },
        {
         "hovertemplate": "Country Name=South Africa<br>Life Ladder=%{x}<br>Social Support=%{y}<br>Eating disorders (%)=%{z}<extra></extra>",
         "legendgroup": "South Africa",
         "marker": {
          "color": "#636efa",
          "opacity": 0.7,
          "symbol": "circle"
         },
         "mode": "markers",
         "name": "South Africa",
         "scene": "scene",
         "showlegend": true,
         "type": "scatter3d",
         "x": [
          4.513655186
         ],
         "y": [
          0.870313287
         ],
         "z": [
          0.214718
         ]
        },
        {
         "hovertemplate": "Country Name=South Korea<br>Life Ladder=%{x}<br>Social Support=%{y}<br>Eating disorders (%)=%{z}<extra></extra>",
         "legendgroup": "South Korea",
         "marker": {
          "color": "#EF553B",
          "opacity": 0.7,
          "symbol": "circle"
         },
         "mode": "markers",
         "name": "South Korea",
         "scene": "scene",
         "showlegend": true,
         "type": "scatter3d",
         "x": [
          5.873887062
         ],
         "y": [
          0.806929946
         ],
         "z": [
          0.417103
         ]
        },
        {
         "hovertemplate": "Country Name=Spain<br>Life Ladder=%{x}<br>Social Support=%{y}<br>Eating disorders (%)=%{z}<extra></extra>",
         "legendgroup": "Spain",
         "marker": {
          "color": "#00cc96",
          "opacity": 0.7,
          "symbol": "circle"
         },
         "mode": "markers",
         "name": "Spain",
         "scene": "scene",
         "showlegend": true,
         "type": "scatter3d",
         "x": [
          6.230173111
         ],
         "y": [
          0.903158188
         ],
         "z": [
          0.730626
         ]
        },
        {
         "hovertemplate": "Country Name=Sri Lanka<br>Life Ladder=%{x}<br>Social Support=%{y}<br>Eating disorders (%)=%{z}<extra></extra>",
         "legendgroup": "Sri Lanka",
         "marker": {
          "color": "#ab63fa",
          "opacity": 0.7,
          "symbol": "circle"
         },
         "mode": "markers",
         "name": "Sri Lanka",
         "scene": "scene",
         "showlegend": true,
         "type": "scatter3d",
         "x": [
          4.330945492
         ],
         "y": [
          0.822770596
         ],
         "z": [
          0.159144
         ]
        },
        {
         "hovertemplate": "Country Name=Sweden<br>Life Ladder=%{x}<br>Social Support=%{y}<br>Eating disorders (%)=%{z}<extra></extra>",
         "legendgroup": "Sweden",
         "marker": {
          "color": "#FFA15A",
          "opacity": 0.7,
          "symbol": "circle"
         },
         "mode": "markers",
         "name": "Sweden",
         "scene": "scene",
         "showlegend": true,
         "type": "scatter3d",
         "x": [
          7.286804676
         ],
         "y": [
          0.914016783
         ],
         "z": [
          0.574608
         ]
        },
        {
         "hovertemplate": "Country Name=Switzerland<br>Life Ladder=%{x}<br>Social Support=%{y}<br>Eating disorders (%)=%{z}<extra></extra>",
         "legendgroup": "Switzerland",
         "marker": {
          "color": "#19d3f3",
          "opacity": 0.7,
          "symbol": "circle"
         },
         "mode": "markers",
         "name": "Switzerland",
         "scene": "scene",
         "showlegend": true,
         "type": "scatter3d",
         "x": [
          7.473593235
         ],
         "y": [
          0.949661374
         ],
         "z": [
          0.573969
         ]
        },
        {
         "hovertemplate": "Country Name=Tajikistan<br>Life Ladder=%{x}<br>Social Support=%{y}<br>Eating disorders (%)=%{z}<extra></extra>",
         "legendgroup": "Tajikistan",
         "marker": {
          "color": "#FF6692",
          "opacity": 0.7,
          "symbol": "circle"
         },
         "mode": "markers",
         "name": "Tajikistan",
         "scene": "scene",
         "showlegend": true,
         "type": "scatter3d",
         "x": [
          5.829234123
         ],
         "y": [
          0.662693322
         ],
         "z": [
          0.118226
         ]
        },
        {
         "hovertemplate": "Country Name=Tanzania<br>Life Ladder=%{x}<br>Social Support=%{y}<br>Eating disorders (%)=%{z}<extra></extra>",
         "legendgroup": "Tanzania",
         "marker": {
          "color": "#B6E880",
          "opacity": 0.7,
          "symbol": "circle"
         },
         "mode": "markers",
         "name": "Tanzania",
         "scene": "scene",
         "showlegend": true,
         "type": "scatter3d",
         "x": [
          3.347121239
         ],
         "y": [
          0.705010295
         ],
         "z": [
          0.129857
         ]
        },
        {
         "hovertemplate": "Country Name=Thailand<br>Life Ladder=%{x}<br>Social Support=%{y}<br>Eating disorders (%)=%{z}<extra></extra>",
         "legendgroup": "Thailand",
         "marker": {
          "color": "#FF97FF",
          "opacity": 0.7,
          "symbol": "circle"
         },
         "mode": "markers",
         "name": "Thailand",
         "scene": "scene",
         "showlegend": true,
         "type": "scatter3d",
         "x": [
          5.938895226
         ],
         "y": [
          0.877268732
         ],
         "z": [
          0.173202
         ]
        },
        {
         "hovertemplate": "Country Name=Togo<br>Life Ladder=%{x}<br>Social Support=%{y}<br>Eating disorders (%)=%{z}<extra></extra>",
         "legendgroup": "Togo",
         "marker": {
          "color": "#FECB52",
          "opacity": 0.7,
          "symbol": "circle"
         },
         "mode": "markers",
         "name": "Togo",
         "scene": "scene",
         "showlegend": true,
         "type": "scatter3d",
         "x": [
          4.360805035
         ],
         "y": [
          0.507805228
         ],
         "z": [
          0.108107
         ]
        },
        {
         "hovertemplate": "Country Name=Tunisia<br>Life Ladder=%{x}<br>Social Support=%{y}<br>Eating disorders (%)=%{z}<extra></extra>",
         "legendgroup": "Tunisia",
         "marker": {
          "color": "#636efa",
          "opacity": 0.7,
          "symbol": "circle"
         },
         "mode": "markers",
         "name": "Tunisia",
         "scene": "scene",
         "showlegend": true,
         "type": "scatter3d",
         "x": [
          4.124342918
         ],
         "y": [
          0.717381597
         ],
         "z": [
          0.200172
         ]
        },
        {
         "hovertemplate": "Country Name=Uganda<br>Life Ladder=%{x}<br>Social Support=%{y}<br>Eating disorders (%)=%{z}<extra></extra>",
         "legendgroup": "Uganda",
         "marker": {
          "color": "#EF553B",
          "opacity": 0.7,
          "symbol": "circle"
         },
         "mode": "markers",
         "name": "Uganda",
         "scene": "scene",
         "showlegend": true,
         "type": "scatter3d",
         "x": [
          4.000516891
         ],
         "y": [
          0.739956141
         ],
         "z": [
          0.119309
         ]
        },
        {
         "hovertemplate": "Country Name=Ukraine<br>Life Ladder=%{x}<br>Social Support=%{y}<br>Eating disorders (%)=%{z}<extra></extra>",
         "legendgroup": "Ukraine",
         "marker": {
          "color": "#00cc96",
          "opacity": 0.7,
          "symbol": "circle"
         },
         "mode": "markers",
         "name": "Ukraine",
         "scene": "scene",
         "showlegend": true,
         "type": "scatter3d",
         "x": [
          4.311067104
         ],
         "y": [
          0.858324885
         ],
         "z": [
          0.172715
         ]
        },
        {
         "hovertemplate": "Country Name=United Kingdom<br>Life Ladder=%{x}<br>Social Support=%{y}<br>Eating disorders (%)=%{z}<extra></extra>",
         "legendgroup": "United Kingdom",
         "marker": {
          "color": "#ab63fa",
          "opacity": 0.7,
          "symbol": "circle"
         },
         "mode": "markers",
         "name": "United Kingdom",
         "scene": "scene",
         "showlegend": true,
         "type": "scatter3d",
         "x": [
          7.103273392
         ],
         "y": [
          0.937495291
         ],
         "z": [
          0.543054
         ]
        },
        {
         "hovertemplate": "Country Name=United States<br>Life Ladder=%{x}<br>Social Support=%{y}<br>Eating disorders (%)=%{z}<extra></extra>",
         "legendgroup": "United States",
         "marker": {
          "color": "#FFA15A",
          "opacity": 0.7,
          "symbol": "circle"
         },
         "mode": "markers",
         "name": "United States",
         "scene": "scene",
         "showlegend": true,
         "type": "scatter3d",
         "x": [
          6.9917593
         ],
         "y": [
          0.921002865
         ],
         "z": [
          0.512844
         ]
        },
        {
         "hovertemplate": "Country Name=Uruguay<br>Life Ladder=%{x}<br>Social Support=%{y}<br>Eating disorders (%)=%{z}<extra></extra>",
         "legendgroup": "Uruguay",
         "marker": {
          "color": "#19d3f3",
          "opacity": 0.7,
          "symbol": "circle"
         },
         "mode": "markers",
         "name": "Uruguay",
         "scene": "scene",
         "showlegend": true,
         "type": "scatter3d",
         "x": [
          6.336009979
         ],
         "y": [
          0.91380167
         ],
         "z": [
          0.405502
         ]
        },
        {
         "hovertemplate": "Country Name=Uzbekistan<br>Life Ladder=%{x}<br>Social Support=%{y}<br>Eating disorders (%)=%{z}<extra></extra>",
         "legendgroup": "Uzbekistan",
         "marker": {
          "color": "#FF6692",
          "opacity": 0.7,
          "symbol": "circle"
         },
         "mode": "markers",
         "name": "Uzbekistan",
         "scene": "scene",
         "showlegend": true,
         "type": "scatter3d",
         "x": [
          6.421447754
         ],
         "y": [
          0.942131102
         ],
         "z": [
          0.153735
         ]
        },
        {
         "hovertemplate": "Country Name=Venezuela<br>Life Ladder=%{x}<br>Social Support=%{y}<br>Eating disorders (%)=%{z}<extra></extra>",
         "legendgroup": "Venezuela",
         "marker": {
          "color": "#B6E880",
          "opacity": 0.7,
          "symbol": "circle"
         },
         "mode": "markers",
         "name": "Venezuela",
         "scene": "scene",
         "showlegend": true,
         "type": "scatter3d",
         "x": [
          5.070750713
         ],
         "y": [
          0.895879328
         ],
         "z": [
          0.28269
         ]
        },
        {
         "hovertemplate": "Country Name=Zambia<br>Life Ladder=%{x}<br>Social Support=%{y}<br>Eating disorders (%)=%{z}<extra></extra>",
         "legendgroup": "Zambia",
         "marker": {
          "color": "#FF97FF",
          "opacity": 0.7,
          "symbol": "circle"
         },
         "mode": "markers",
         "name": "Zambia",
         "scene": "scene",
         "showlegend": true,
         "type": "scatter3d",
         "x": [
          3.932777405
         ],
         "y": [
          0.74375391
         ],
         "z": [
          0.142768
         ]
        },
        {
         "hovertemplate": "Country Name=Zimbabwe<br>Life Ladder=%{x}<br>Social Support=%{y}<br>Eating disorders (%)=%{z}<extra></extra>",
         "legendgroup": "Zimbabwe",
         "marker": {
          "color": "#FECB52",
          "opacity": 0.7,
          "symbol": "circle"
         },
         "mode": "markers",
         "name": "Zimbabwe",
         "scene": "scene",
         "showlegend": true,
         "type": "scatter3d",
         "x": [
          3.63830018
         ],
         "y": [
          0.754147053
         ],
         "z": [
          0.124443
         ]
        }
       ],
       "layout": {
        "autosize": true,
        "legend": {
         "title": {
          "text": "Country Name"
         },
         "tracegroupgap": 0
        },
        "margin": {
         "t": 60
        },
        "scene": {
         "aspectmode": "auto",
         "aspectratio": {
          "x": 1,
          "y": 1,
          "z": 1
         },
         "camera": {
          "center": {
           "x": 0,
           "y": 0,
           "z": 0
          },
          "eye": {
           "x": 0.005773502691896266,
           "y": 0.005773502691896258,
           "z": 0.005773502691896258
          },
          "projection": {
           "type": "perspective"
          },
          "up": {
           "x": 0.008253137540589135,
           "y": -0.00818557628910352,
           "z": 0.9999324387485143
          }
         },
         "domain": {
          "x": [
           0,
           1
          ],
          "y": [
           0,
           1
          ]
         },
         "xaxis": {
          "title": {
           "text": "Life Ladder"
          },
          "type": "linear"
         },
         "yaxis": {
          "title": {
           "text": "Social Support"
          },
          "type": "linear"
         },
         "zaxis": {
          "title": {
           "text": "Eating disorders (%)"
          },
          "type": "linear"
         }
        },
        "template": {
         "data": {
          "bar": [
           {
            "error_x": {
             "color": "#2a3f5f"
            },
            "error_y": {
             "color": "#2a3f5f"
            },
            "marker": {
             "line": {
              "color": "#E5ECF6",
              "width": 0.5
             },
             "pattern": {
              "fillmode": "overlay",
              "size": 10,
              "solidity": 0.2
             }
            },
            "type": "bar"
           }
          ],
          "barpolar": [
           {
            "marker": {
             "line": {
              "color": "#E5ECF6",
              "width": 0.5
             },
             "pattern": {
              "fillmode": "overlay",
              "size": 10,
              "solidity": 0.2
             }
            },
            "type": "barpolar"
           }
          ],
          "carpet": [
           {
            "aaxis": {
             "endlinecolor": "#2a3f5f",
             "gridcolor": "white",
             "linecolor": "white",
             "minorgridcolor": "white",
             "startlinecolor": "#2a3f5f"
            },
            "baxis": {
             "endlinecolor": "#2a3f5f",
             "gridcolor": "white",
             "linecolor": "white",
             "minorgridcolor": "white",
             "startlinecolor": "#2a3f5f"
            },
            "type": "carpet"
           }
          ],
          "choropleth": [
           {
            "colorbar": {
             "outlinewidth": 0,
             "ticks": ""
            },
            "type": "choropleth"
           }
          ],
          "contour": [
           {
            "colorbar": {
             "outlinewidth": 0,
             "ticks": ""
            },
            "colorscale": [
             [
              0,
              "#0d0887"
             ],
             [
              0.1111111111111111,
              "#46039f"
             ],
             [
              0.2222222222222222,
              "#7201a8"
             ],
             [
              0.3333333333333333,
              "#9c179e"
             ],
             [
              0.4444444444444444,
              "#bd3786"
             ],
             [
              0.5555555555555556,
              "#d8576b"
             ],
             [
              0.6666666666666666,
              "#ed7953"
             ],
             [
              0.7777777777777778,
              "#fb9f3a"
             ],
             [
              0.8888888888888888,
              "#fdca26"
             ],
             [
              1,
              "#f0f921"
             ]
            ],
            "type": "contour"
           }
          ],
          "contourcarpet": [
           {
            "colorbar": {
             "outlinewidth": 0,
             "ticks": ""
            },
            "type": "contourcarpet"
           }
          ],
          "heatmap": [
           {
            "colorbar": {
             "outlinewidth": 0,
             "ticks": ""
            },
            "colorscale": [
             [
              0,
              "#0d0887"
             ],
             [
              0.1111111111111111,
              "#46039f"
             ],
             [
              0.2222222222222222,
              "#7201a8"
             ],
             [
              0.3333333333333333,
              "#9c179e"
             ],
             [
              0.4444444444444444,
              "#bd3786"
             ],
             [
              0.5555555555555556,
              "#d8576b"
             ],
             [
              0.6666666666666666,
              "#ed7953"
             ],
             [
              0.7777777777777778,
              "#fb9f3a"
             ],
             [
              0.8888888888888888,
              "#fdca26"
             ],
             [
              1,
              "#f0f921"
             ]
            ],
            "type": "heatmap"
           }
          ],
          "heatmapgl": [
           {
            "colorbar": {
             "outlinewidth": 0,
             "ticks": ""
            },
            "colorscale": [
             [
              0,
              "#0d0887"
             ],
             [
              0.1111111111111111,
              "#46039f"
             ],
             [
              0.2222222222222222,
              "#7201a8"
             ],
             [
              0.3333333333333333,
              "#9c179e"
             ],
             [
              0.4444444444444444,
              "#bd3786"
             ],
             [
              0.5555555555555556,
              "#d8576b"
             ],
             [
              0.6666666666666666,
              "#ed7953"
             ],
             [
              0.7777777777777778,
              "#fb9f3a"
             ],
             [
              0.8888888888888888,
              "#fdca26"
             ],
             [
              1,
              "#f0f921"
             ]
            ],
            "type": "heatmapgl"
           }
          ],
          "histogram": [
           {
            "marker": {
             "pattern": {
              "fillmode": "overlay",
              "size": 10,
              "solidity": 0.2
             }
            },
            "type": "histogram"
           }
          ],
          "histogram2d": [
           {
            "colorbar": {
             "outlinewidth": 0,
             "ticks": ""
            },
            "colorscale": [
             [
              0,
              "#0d0887"
             ],
             [
              0.1111111111111111,
              "#46039f"
             ],
             [
              0.2222222222222222,
              "#7201a8"
             ],
             [
              0.3333333333333333,
              "#9c179e"
             ],
             [
              0.4444444444444444,
              "#bd3786"
             ],
             [
              0.5555555555555556,
              "#d8576b"
             ],
             [
              0.6666666666666666,
              "#ed7953"
             ],
             [
              0.7777777777777778,
              "#fb9f3a"
             ],
             [
              0.8888888888888888,
              "#fdca26"
             ],
             [
              1,
              "#f0f921"
             ]
            ],
            "type": "histogram2d"
           }
          ],
          "histogram2dcontour": [
           {
            "colorbar": {
             "outlinewidth": 0,
             "ticks": ""
            },
            "colorscale": [
             [
              0,
              "#0d0887"
             ],
             [
              0.1111111111111111,
              "#46039f"
             ],
             [
              0.2222222222222222,
              "#7201a8"
             ],
             [
              0.3333333333333333,
              "#9c179e"
             ],
             [
              0.4444444444444444,
              "#bd3786"
             ],
             [
              0.5555555555555556,
              "#d8576b"
             ],
             [
              0.6666666666666666,
              "#ed7953"
             ],
             [
              0.7777777777777778,
              "#fb9f3a"
             ],
             [
              0.8888888888888888,
              "#fdca26"
             ],
             [
              1,
              "#f0f921"
             ]
            ],
            "type": "histogram2dcontour"
           }
          ],
          "mesh3d": [
           {
            "colorbar": {
             "outlinewidth": 0,
             "ticks": ""
            },
            "type": "mesh3d"
           }
          ],
          "parcoords": [
           {
            "line": {
             "colorbar": {
              "outlinewidth": 0,
              "ticks": ""
             }
            },
            "type": "parcoords"
           }
          ],
          "pie": [
           {
            "automargin": true,
            "type": "pie"
           }
          ],
          "scatter": [
           {
            "fillpattern": {
             "fillmode": "overlay",
             "size": 10,
             "solidity": 0.2
            },
            "type": "scatter"
           }
          ],
          "scatter3d": [
           {
            "line": {
             "colorbar": {
              "outlinewidth": 0,
              "ticks": ""
             }
            },
            "marker": {
             "colorbar": {
              "outlinewidth": 0,
              "ticks": ""
             }
            },
            "type": "scatter3d"
           }
          ],
          "scattercarpet": [
           {
            "marker": {
             "colorbar": {
              "outlinewidth": 0,
              "ticks": ""
             }
            },
            "type": "scattercarpet"
           }
          ],
          "scattergeo": [
           {
            "marker": {
             "colorbar": {
              "outlinewidth": 0,
              "ticks": ""
             }
            },
            "type": "scattergeo"
           }
          ],
          "scattergl": [
           {
            "marker": {
             "colorbar": {
              "outlinewidth": 0,
              "ticks": ""
             }
            },
            "type": "scattergl"
           }
          ],
          "scattermapbox": [
           {
            "marker": {
             "colorbar": {
              "outlinewidth": 0,
              "ticks": ""
             }
            },
            "type": "scattermapbox"
           }
          ],
          "scatterpolar": [
           {
            "marker": {
             "colorbar": {
              "outlinewidth": 0,
              "ticks": ""
             }
            },
            "type": "scatterpolar"
           }
          ],
          "scatterpolargl": [
           {
            "marker": {
             "colorbar": {
              "outlinewidth": 0,
              "ticks": ""
             }
            },
            "type": "scatterpolargl"
           }
          ],
          "scatterternary": [
           {
            "marker": {
             "colorbar": {
              "outlinewidth": 0,
              "ticks": ""
             }
            },
            "type": "scatterternary"
           }
          ],
          "surface": [
           {
            "colorbar": {
             "outlinewidth": 0,
             "ticks": ""
            },
            "colorscale": [
             [
              0,
              "#0d0887"
             ],
             [
              0.1111111111111111,
              "#46039f"
             ],
             [
              0.2222222222222222,
              "#7201a8"
             ],
             [
              0.3333333333333333,
              "#9c179e"
             ],
             [
              0.4444444444444444,
              "#bd3786"
             ],
             [
              0.5555555555555556,
              "#d8576b"
             ],
             [
              0.6666666666666666,
              "#ed7953"
             ],
             [
              0.7777777777777778,
              "#fb9f3a"
             ],
             [
              0.8888888888888888,
              "#fdca26"
             ],
             [
              1,
              "#f0f921"
             ]
            ],
            "type": "surface"
           }
          ],
          "table": [
           {
            "cells": {
             "fill": {
              "color": "#EBF0F8"
             },
             "line": {
              "color": "white"
             }
            },
            "header": {
             "fill": {
              "color": "#C8D4E3"
             },
             "line": {
              "color": "white"
             }
            },
            "type": "table"
           }
          ]
         },
         "layout": {
          "annotationdefaults": {
           "arrowcolor": "#2a3f5f",
           "arrowhead": 0,
           "arrowwidth": 1
          },
          "autotypenumbers": "strict",
          "coloraxis": {
           "colorbar": {
            "outlinewidth": 0,
            "ticks": ""
           }
          },
          "colorscale": {
           "diverging": [
            [
             0,
             "#8e0152"
            ],
            [
             0.1,
             "#c51b7d"
            ],
            [
             0.2,
             "#de77ae"
            ],
            [
             0.3,
             "#f1b6da"
            ],
            [
             0.4,
             "#fde0ef"
            ],
            [
             0.5,
             "#f7f7f7"
            ],
            [
             0.6,
             "#e6f5d0"
            ],
            [
             0.7,
             "#b8e186"
            ],
            [
             0.8,
             "#7fbc41"
            ],
            [
             0.9,
             "#4d9221"
            ],
            [
             1,
             "#276419"
            ]
           ],
           "sequential": [
            [
             0,
             "#0d0887"
            ],
            [
             0.1111111111111111,
             "#46039f"
            ],
            [
             0.2222222222222222,
             "#7201a8"
            ],
            [
             0.3333333333333333,
             "#9c179e"
            ],
            [
             0.4444444444444444,
             "#bd3786"
            ],
            [
             0.5555555555555556,
             "#d8576b"
            ],
            [
             0.6666666666666666,
             "#ed7953"
            ],
            [
             0.7777777777777778,
             "#fb9f3a"
            ],
            [
             0.8888888888888888,
             "#fdca26"
            ],
            [
             1,
             "#f0f921"
            ]
           ],
           "sequentialminus": [
            [
             0,
             "#0d0887"
            ],
            [
             0.1111111111111111,
             "#46039f"
            ],
            [
             0.2222222222222222,
             "#7201a8"
            ],
            [
             0.3333333333333333,
             "#9c179e"
            ],
            [
             0.4444444444444444,
             "#bd3786"
            ],
            [
             0.5555555555555556,
             "#d8576b"
            ],
            [
             0.6666666666666666,
             "#ed7953"
            ],
            [
             0.7777777777777778,
             "#fb9f3a"
            ],
            [
             0.8888888888888888,
             "#fdca26"
            ],
            [
             1,
             "#f0f921"
            ]
           ]
          },
          "colorway": [
           "#636efa",
           "#EF553B",
           "#00cc96",
           "#ab63fa",
           "#FFA15A",
           "#19d3f3",
           "#FF6692",
           "#B6E880",
           "#FF97FF",
           "#FECB52"
          ],
          "font": {
           "color": "#2a3f5f"
          },
          "geo": {
           "bgcolor": "white",
           "lakecolor": "white",
           "landcolor": "#E5ECF6",
           "showlakes": true,
           "showland": true,
           "subunitcolor": "white"
          },
          "hoverlabel": {
           "align": "left"
          },
          "hovermode": "closest",
          "mapbox": {
           "style": "light"
          },
          "paper_bgcolor": "white",
          "plot_bgcolor": "#E5ECF6",
          "polar": {
           "angularaxis": {
            "gridcolor": "white",
            "linecolor": "white",
            "ticks": ""
           },
           "bgcolor": "#E5ECF6",
           "radialaxis": {
            "gridcolor": "white",
            "linecolor": "white",
            "ticks": ""
           }
          },
          "scene": {
           "xaxis": {
            "backgroundcolor": "#E5ECF6",
            "gridcolor": "white",
            "gridwidth": 2,
            "linecolor": "white",
            "showbackground": true,
            "ticks": "",
            "zerolinecolor": "white"
           },
           "yaxis": {
            "backgroundcolor": "#E5ECF6",
            "gridcolor": "white",
            "gridwidth": 2,
            "linecolor": "white",
            "showbackground": true,
            "ticks": "",
            "zerolinecolor": "white"
           },
           "zaxis": {
            "backgroundcolor": "#E5ECF6",
            "gridcolor": "white",
            "gridwidth": 2,
            "linecolor": "white",
            "showbackground": true,
            "ticks": "",
            "zerolinecolor": "white"
           }
          },
          "shapedefaults": {
           "line": {
            "color": "#2a3f5f"
           }
          },
          "ternary": {
           "aaxis": {
            "gridcolor": "white",
            "linecolor": "white",
            "ticks": ""
           },
           "baxis": {
            "gridcolor": "white",
            "linecolor": "white",
            "ticks": ""
           },
           "bgcolor": "#E5ECF6",
           "caxis": {
            "gridcolor": "white",
            "linecolor": "white",
            "ticks": ""
           }
          },
          "title": {
           "x": 0.05
          },
          "xaxis": {
           "automargin": true,
           "gridcolor": "white",
           "linecolor": "white",
           "ticks": "",
           "title": {
            "standoff": 15
           },
           "zerolinecolor": "white",
           "zerolinewidth": 2
          },
          "yaxis": {
           "automargin": true,
           "gridcolor": "white",
           "linecolor": "white",
           "ticks": "",
           "title": {
            "standoff": 15
           },
           "zerolinecolor": "white",
           "zerolinewidth": 2
          }
         }
        },
        "title": {
         "text": "Relationship between Eating disorders, Social Support and life ladder per country"
        }
       }
      },
      "text/html": [
       "<div>                            <div id=\"d814f089-fe32-4775-bc24-922b12b3dc00\" class=\"plotly-graph-div\" style=\"height:525px; width:100%;\"></div>            <script type=\"text/javascript\">                require([\"plotly\"], function(Plotly) {                    window.PLOTLYENV=window.PLOTLYENV || {};                                    if (document.getElementById(\"d814f089-fe32-4775-bc24-922b12b3dc00\")) {                    Plotly.newPlot(                        \"d814f089-fe32-4775-bc24-922b12b3dc00\",                        [{\"hovertemplate\":\"Country Name=Afghanistan\\u003cbr\\u003eLife Ladder=%{x}\\u003cbr\\u003eSocial Support=%{y}\\u003cbr\\u003eEating disorders (%)=%{z}\\u003cextra\\u003e\\u003c\\u002fextra\\u003e\",\"legendgroup\":\"Afghanistan\",\"marker\":{\"color\":\"#636efa\",\"opacity\":0.7,\"symbol\":\"circle\"},\"mode\":\"markers\",\"name\":\"Afghanistan\",\"scene\":\"scene\",\"showlegend\":true,\"x\":[2.66171813],\"y\":[0.490880072],\"z\":[0.107142],\"type\":\"scatter3d\"},{\"hovertemplate\":\"Country Name=Albania\\u003cbr\\u003eLife Ladder=%{x}\\u003cbr\\u003eSocial Support=%{y}\\u003cbr\\u003eEating disorders (%)=%{z}\\u003cextra\\u003e\\u003c\\u002fextra\\u003e\",\"legendgroup\":\"Albania\",\"marker\":{\"color\":\"#EF553B\",\"opacity\":0.7,\"symbol\":\"circle\"},\"mode\":\"markers\",\"name\":\"Albania\",\"scene\":\"scene\",\"showlegend\":true,\"x\":[4.639548302],\"y\":[0.637698293],\"z\":[0.174046],\"type\":\"scatter3d\"},{\"hovertemplate\":\"Country Name=Argentina\\u003cbr\\u003eLife Ladder=%{x}\\u003cbr\\u003eSocial Support=%{y}\\u003cbr\\u003eEating disorders (%)=%{z}\\u003cextra\\u003e\\u003c\\u002fextra\\u003e\",\"legendgroup\":\"Argentina\",\"marker\":{\"color\":\"#00cc96\",\"opacity\":0.7,\"symbol\":\"circle\"},\"mode\":\"markers\",\"name\":\"Argentina\",\"scene\":\"scene\",\"showlegend\":true,\"x\":[6.039330006],\"y\":[0.906699121],\"z\":[0.404033],\"type\":\"scatter3d\"},{\"hovertemplate\":\"Country Name=Armenia\\u003cbr\\u003eLife Ladder=%{x}\\u003cbr\\u003eSocial Support=%{y}\\u003cbr\\u003eEating disorders (%)=%{z}\\u003cextra\\u003e\\u003c\\u002fextra\\u003e\",\"legendgroup\":\"Armenia\",\"marker\":{\"color\":\"#ab63fa\",\"opacity\":0.7,\"symbol\":\"circle\"},\"mode\":\"markers\",\"name\":\"Armenia\",\"scene\":\"scene\",\"showlegend\":true,\"x\":[4.287736416],\"y\":[0.697924912],\"z\":[0.167047],\"type\":\"scatter3d\"},{\"hovertemplate\":\"Country Name=Australia\\u003cbr\\u003eLife Ladder=%{x}\\u003cbr\\u003eSocial Support=%{y}\\u003cbr\\u003eEating disorders (%)=%{z}\\u003cextra\\u003e\\u003c\\u002fextra\\u003e\",\"legendgroup\":\"Australia\",\"marker\":{\"color\":\"#FFA15A\",\"opacity\":0.7,\"symbol\":\"circle\"},\"mode\":\"markers\",\"name\":\"Australia\",\"scene\":\"scene\",\"showlegend\":true,\"x\":[7.25703764],\"y\":[0.949957848],\"z\":[0.943081],\"type\":\"scatter3d\"},{\"hovertemplate\":\"Country Name=Austria\\u003cbr\\u003eLife Ladder=%{x}\\u003cbr\\u003eSocial Support=%{y}\\u003cbr\\u003eEating disorders (%)=%{z}\\u003cextra\\u003e\\u003c\\u002fextra\\u003e\",\"legendgroup\":\"Austria\",\"marker\":{\"color\":\"#19d3f3\",\"opacity\":0.7,\"symbol\":\"circle\"},\"mode\":\"markers\",\"name\":\"Austria\",\"scene\":\"scene\",\"showlegend\":true,\"x\":[7.293727875],\"y\":[0.906217813],\"z\":[0.675112],\"type\":\"scatter3d\"},{\"hovertemplate\":\"Country Name=Azerbaijan\\u003cbr\\u003eLife Ladder=%{x}\\u003cbr\\u003eSocial Support=%{y}\\u003cbr\\u003eEating disorders (%)=%{z}\\u003cextra\\u003e\\u003c\\u002fextra\\u003e\",\"legendgroup\":\"Azerbaijan\",\"marker\":{\"color\":\"#FF6692\",\"opacity\":0.7,\"symbol\":\"circle\"},\"mode\":\"markers\",\"name\":\"Azerbaijan\",\"scene\":\"scene\",\"showlegend\":true,\"x\":[5.152279377],\"y\":[0.787039399],\"z\":[0.204891],\"type\":\"scatter3d\"},{\"hovertemplate\":\"Country Name=Bangladesh\\u003cbr\\u003eLife Ladder=%{x}\\u003cbr\\u003eSocial Support=%{y}\\u003cbr\\u003eEating disorders (%)=%{z}\\u003cextra\\u003e\\u003c\\u002fextra\\u003e\",\"legendgroup\":\"Bangladesh\",\"marker\":{\"color\":\"#B6E880\",\"opacity\":0.7,\"symbol\":\"circle\"},\"mode\":\"markers\",\"name\":\"Bangladesh\",\"scene\":\"scene\",\"showlegend\":true,\"x\":[4.309771061],\"y\":[0.712552786],\"z\":[0.137974],\"type\":\"scatter3d\"},{\"hovertemplate\":\"Country Name=Belarus\\u003cbr\\u003eLife Ladder=%{x}\\u003cbr\\u003eSocial Support=%{y}\\u003cbr\\u003eEating disorders (%)=%{z}\\u003cextra\\u003e\\u003c\\u002fextra\\u003e\",\"legendgroup\":\"Belarus\",\"marker\":{\"color\":\"#FF97FF\",\"opacity\":0.7,\"symbol\":\"circle\"},\"mode\":\"markers\",\"name\":\"Belarus\",\"scene\":\"scene\",\"showlegend\":true,\"x\":[5.552915096],\"y\":[0.900255799],\"z\":[0.210693],\"type\":\"scatter3d\"},{\"hovertemplate\":\"Country Name=Belgium\\u003cbr\\u003eLife Ladder=%{x}\\u003cbr\\u003eSocial Support=%{y}\\u003cbr\\u003eEating disorders (%)=%{z}\\u003cextra\\u003e\\u003c\\u002fextra\\u003e\",\"legendgroup\":\"Belgium\",\"marker\":{\"color\":\"#FECB52\",\"opacity\":0.7,\"symbol\":\"circle\"},\"mode\":\"markers\",\"name\":\"Belgium\",\"scene\":\"scene\",\"showlegend\":true,\"x\":[6.928347588],\"y\":[0.921639085],\"z\":[0.603869],\"type\":\"scatter3d\"},{\"hovertemplate\":\"Country Name=Benin\\u003cbr\\u003eLife Ladder=%{x}\\u003cbr\\u003eSocial Support=%{y}\\u003cbr\\u003eEating disorders (%)=%{z}\\u003cextra\\u003e\\u003c\\u002fextra\\u003e\",\"legendgroup\":\"Benin\",\"marker\":{\"color\":\"#636efa\",\"opacity\":0.7,\"symbol\":\"circle\"},\"mode\":\"markers\",\"name\":\"Benin\",\"scene\":\"scene\",\"showlegend\":true,\"x\":[4.853180885],\"y\":[0.435878992],\"z\":[0.12029],\"type\":\"scatter3d\"},{\"hovertemplate\":\"Country Name=Bolivia\\u003cbr\\u003eLife Ladder=%{x}\\u003cbr\\u003eSocial Support=%{y}\\u003cbr\\u003eEating disorders (%)=%{z}\\u003cextra\\u003e\\u003c\\u002fextra\\u003e\",\"legendgroup\":\"Bolivia\",\"marker\":{\"color\":\"#EF553B\",\"opacity\":0.7,\"symbol\":\"circle\"},\"mode\":\"markers\",\"name\":\"Bolivia\",\"scene\":\"scene\",\"showlegend\":true,\"x\":[5.65055275],\"y\":[0.778661788],\"z\":[0.305251],\"type\":\"scatter3d\"},{\"hovertemplate\":\"Country Name=Bosnia and Herzegovina\\u003cbr\\u003eLife Ladder=%{x}\\u003cbr\\u003eSocial Support=%{y}\\u003cbr\\u003eEating disorders (%)=%{z}\\u003cextra\\u003e\\u003c\\u002fextra\\u003e\",\"legendgroup\":\"Bosnia and Herzegovina\",\"marker\":{\"color\":\"#00cc96\",\"opacity\":0.7,\"symbol\":\"circle\"},\"mode\":\"markers\",\"name\":\"Bosnia and Herzegovina\",\"scene\":\"scene\",\"showlegend\":true,\"x\":[5.089902401],\"y\":[0.775295258],\"z\":[0.172474],\"type\":\"scatter3d\"},{\"hovertemplate\":\"Country Name=Botswana\\u003cbr\\u003eLife Ladder=%{x}\\u003cbr\\u003eSocial Support=%{y}\\u003cbr\\u003eEating disorders (%)=%{z}\\u003cextra\\u003e\\u003c\\u002fextra\\u003e\",\"legendgroup\":\"Botswana\",\"marker\":{\"color\":\"#ab63fa\",\"opacity\":0.7,\"symbol\":\"circle\"},\"mode\":\"markers\",\"name\":\"Botswana\",\"scene\":\"scene\",\"showlegend\":true,\"x\":[3.504881144],\"y\":[0.768258631],\"z\":[0.227733],\"type\":\"scatter3d\"},{\"hovertemplate\":\"Country Name=Brazil\\u003cbr\\u003eLife Ladder=%{x}\\u003cbr\\u003eSocial Support=%{y}\\u003cbr\\u003eEating disorders (%)=%{z}\\u003cextra\\u003e\\u003c\\u002fextra\\u003e\",\"legendgroup\":\"Brazil\",\"marker\":{\"color\":\"#FFA15A\",\"opacity\":0.7,\"symbol\":\"circle\"},\"mode\":\"markers\",\"name\":\"Brazil\",\"scene\":\"scene\",\"showlegend\":true,\"x\":[6.332929134],\"y\":[0.904694259],\"z\":[0.277051],\"type\":\"scatter3d\"},{\"hovertemplate\":\"Country Name=Bulgaria\\u003cbr\\u003eLife Ladder=%{x}\\u003cbr\\u003eSocial Support=%{y}\\u003cbr\\u003eEating disorders (%)=%{z}\\u003cextra\\u003e\\u003c\\u002fextra\\u003e\",\"legendgroup\":\"Bulgaria\",\"marker\":{\"color\":\"#19d3f3\",\"opacity\":0.7,\"symbol\":\"circle\"},\"mode\":\"markers\",\"name\":\"Bulgaria\",\"scene\":\"scene\",\"showlegend\":true,\"x\":[5.096901894],\"y\":[0.94175458],\"z\":[0.202411],\"type\":\"scatter3d\"},{\"hovertemplate\":\"Country Name=Burkina Faso\\u003cbr\\u003eLife Ladder=%{x}\\u003cbr\\u003eSocial Support=%{y}\\u003cbr\\u003eEating disorders (%)=%{z}\\u003cextra\\u003e\\u003c\\u002fextra\\u003e\",\"legendgroup\":\"Burkina Faso\",\"marker\":{\"color\":\"#FF6692\",\"opacity\":0.7,\"symbol\":\"circle\"},\"mode\":\"markers\",\"name\":\"Burkina Faso\",\"scene\":\"scene\",\"showlegend\":true,\"x\":[4.646891117],\"y\":[0.784761369],\"z\":[0.113354],\"type\":\"scatter3d\"},{\"hovertemplate\":\"Country Name=Cambodia\\u003cbr\\u003eLife Ladder=%{x}\\u003cbr\\u003eSocial Support=%{y}\\u003cbr\\u003eEating disorders (%)=%{z}\\u003cextra\\u003e\\u003c\\u002fextra\\u003e\",\"legendgroup\":\"Cambodia\",\"marker\":{\"color\":\"#B6E880\",\"opacity\":0.7,\"symbol\":\"circle\"},\"mode\":\"markers\",\"name\":\"Cambodia\",\"scene\":\"scene\",\"showlegend\":true,\"x\":[4.585842133],\"y\":[0.765094936],\"z\":[0.108379],\"type\":\"scatter3d\"},{\"hovertemplate\":\"Country Name=Cameroon\\u003cbr\\u003eLife Ladder=%{x}\\u003cbr\\u003eSocial Support=%{y}\\u003cbr\\u003eEating disorders (%)=%{z}\\u003cextra\\u003e\\u003c\\u002fextra\\u003e\",\"legendgroup\":\"Cameroon\",\"marker\":{\"color\":\"#FF97FF\",\"opacity\":0.7,\"symbol\":\"circle\"},\"mode\":\"markers\",\"name\":\"Cameroon\",\"scene\":\"scene\",\"showlegend\":true,\"x\":[5.07405138],\"y\":[0.69459641],\"z\":[0.13379],\"type\":\"scatter3d\"},{\"hovertemplate\":\"Country Name=Canada\\u003cbr\\u003eLife Ladder=%{x}\\u003cbr\\u003eSocial Support=%{y}\\u003cbr\\u003eEating disorders (%)=%{z}\\u003cextra\\u003e\\u003c\\u002fextra\\u003e\",\"legendgroup\":\"Canada\",\"marker\":{\"color\":\"#FECB52\",\"opacity\":0.7,\"symbol\":\"circle\"},\"mode\":\"markers\",\"name\":\"Canada\",\"scene\":\"scene\",\"showlegend\":true,\"x\":[7.414868355],\"y\":[0.93374896],\"z\":[0.477304],\"type\":\"scatter3d\"},{\"hovertemplate\":\"Country Name=Chad\\u003cbr\\u003eLife Ladder=%{x}\\u003cbr\\u003eSocial Support=%{y}\\u003cbr\\u003eEating disorders (%)=%{z}\\u003cextra\\u003e\\u003c\\u002fextra\\u003e\",\"legendgroup\":\"Chad\",\"marker\":{\"color\":\"#636efa\",\"opacity\":0.7,\"symbol\":\"circle\"},\"mode\":\"markers\",\"name\":\"Chad\",\"scene\":\"scene\",\"showlegend\":true,\"x\":[4.558937073],\"y\":[0.660615563],\"z\":[0.122129],\"type\":\"scatter3d\"},{\"hovertemplate\":\"Country Name=Chile\\u003cbr\\u003eLife Ladder=%{x}\\u003cbr\\u003eSocial Support=%{y}\\u003cbr\\u003eEating disorders (%)=%{z}\\u003cextra\\u003e\\u003c\\u002fextra\\u003e\",\"legendgroup\":\"Chile\",\"marker\":{\"color\":\"#EF553B\",\"opacity\":0.7,\"symbol\":\"circle\"},\"mode\":\"markers\",\"name\":\"Chile\",\"scene\":\"scene\",\"showlegend\":true,\"x\":[6.320119381],\"y\":[0.879840791],\"z\":[0.416123],\"type\":\"scatter3d\"},{\"hovertemplate\":\"Country Name=Colombia\\u003cbr\\u003eLife Ladder=%{x}\\u003cbr\\u003eSocial Support=%{y}\\u003cbr\\u003eEating disorders (%)=%{z}\\u003cextra\\u003e\\u003c\\u002fextra\\u003e\",\"legendgroup\":\"Colombia\",\"marker\":{\"color\":\"#00cc96\",\"opacity\":0.7,\"symbol\":\"circle\"},\"mode\":\"markers\",\"name\":\"Colombia\",\"scene\":\"scene\",\"showlegend\":true,\"x\":[6.157341957],\"y\":[0.909249961],\"z\":[0.260257],\"type\":\"scatter3d\"},{\"hovertemplate\":\"Country Name=Costa Rica\\u003cbr\\u003eLife Ladder=%{x}\\u003cbr\\u003eSocial Support=%{y}\\u003cbr\\u003eEating disorders (%)=%{z}\\u003cextra\\u003e\\u003c\\u002fextra\\u003e\",\"legendgroup\":\"Costa Rica\",\"marker\":{\"color\":\"#ab63fa\",\"opacity\":0.7,\"symbol\":\"circle\"},\"mode\":\"markers\",\"name\":\"Costa Rica\",\"scene\":\"scene\",\"showlegend\":true,\"x\":[7.22518158],\"y\":[0.92169714],\"z\":[0.289342],\"type\":\"scatter3d\"},{\"hovertemplate\":\"Country Name=Croatia\\u003cbr\\u003eLife Ladder=%{x}\\u003cbr\\u003eSocial Support=%{y}\\u003cbr\\u003eEating disorders (%)=%{z}\\u003cextra\\u003e\\u003c\\u002fextra\\u003e\",\"legendgroup\":\"Croatia\",\"marker\":{\"color\":\"#FFA15A\",\"opacity\":0.7,\"symbol\":\"circle\"},\"mode\":\"markers\",\"name\":\"Croatia\",\"scene\":\"scene\",\"showlegend\":true,\"x\":[5.343165874],\"y\":[0.770309687],\"z\":[0.217975],\"type\":\"scatter3d\"},{\"hovertemplate\":\"Country Name=Cyprus\\u003cbr\\u003eLife Ladder=%{x}\\u003cbr\\u003eSocial Support=%{y}\\u003cbr\\u003eEating disorders (%)=%{z}\\u003cextra\\u003e\\u003c\\u002fextra\\u003e\",\"legendgroup\":\"Cyprus\",\"marker\":{\"color\":\"#19d3f3\",\"opacity\":0.7,\"symbol\":\"circle\"},\"mode\":\"markers\",\"name\":\"Cyprus\",\"scene\":\"scene\",\"showlegend\":true,\"x\":[6.062051296],\"y\":[0.818671048],\"z\":[0.506721],\"type\":\"scatter3d\"},{\"hovertemplate\":\"Country Name=Denmark\\u003cbr\\u003eLife Ladder=%{x}\\u003cbr\\u003eSocial Support=%{y}\\u003cbr\\u003eEating disorders (%)=%{z}\\u003cextra\\u003e\\u003c\\u002fextra\\u003e\",\"legendgroup\":\"Denmark\",\"marker\":{\"color\":\"#FF6692\",\"opacity\":0.7,\"symbol\":\"circle\"},\"mode\":\"markers\",\"name\":\"Denmark\",\"scene\":\"scene\",\"showlegend\":true,\"x\":[7.593702316],\"y\":[0.952100098],\"z\":[0.540025],\"type\":\"scatter3d\"},{\"hovertemplate\":\"Country Name=Dominican Republic\\u003cbr\\u003eLife Ladder=%{x}\\u003cbr\\u003eSocial Support=%{y}\\u003cbr\\u003eEating disorders (%)=%{z}\\u003cextra\\u003e\\u003c\\u002fextra\\u003e\",\"legendgroup\":\"Dominican Republic\",\"marker\":{\"color\":\"#B6E880\",\"opacity\":0.7,\"symbol\":\"circle\"},\"mode\":\"markers\",\"name\":\"Dominican Republic\",\"scene\":\"scene\",\"showlegend\":true,\"x\":[5.605202675],\"y\":[0.894368112],\"z\":[0.303058],\"type\":\"scatter3d\"},{\"hovertemplate\":\"Country Name=Ecuador\\u003cbr\\u003eLife Ladder=%{x}\\u003cbr\\u003eSocial Support=%{y}\\u003cbr\\u003eEating disorders (%)=%{z}\\u003cextra\\u003e\\u003c\\u002fextra\\u003e\",\"legendgroup\":\"Ecuador\",\"marker\":{\"color\":\"#FF97FF\",\"opacity\":0.7,\"symbol\":\"circle\"},\"mode\":\"markers\",\"name\":\"Ecuador\",\"scene\":\"scene\",\"showlegend\":true,\"x\":[5.839518547],\"y\":[0.848941743],\"z\":[0.363733],\"type\":\"scatter3d\"},{\"hovertemplate\":\"Country Name=El Salvador\\u003cbr\\u003eLife Ladder=%{x}\\u003cbr\\u003eSocial Support=%{y}\\u003cbr\\u003eEating disorders (%)=%{z}\\u003cextra\\u003e\\u003c\\u002fextra\\u003e\",\"legendgroup\":\"El Salvador\",\"marker\":{\"color\":\"#FECB52\",\"opacity\":0.7,\"symbol\":\"circle\"},\"mode\":\"markers\",\"name\":\"El Salvador\",\"scene\":\"scene\",\"showlegend\":true,\"x\":[6.339318275],\"y\":[0.82895261],\"z\":[0.243873],\"type\":\"scatter3d\"},{\"hovertemplate\":\"Country Name=Estonia\\u003cbr\\u003eLife Ladder=%{x}\\u003cbr\\u003eSocial Support=%{y}\\u003cbr\\u003eEating disorders (%)=%{z}\\u003cextra\\u003e\\u003c\\u002fextra\\u003e\",\"legendgroup\":\"Estonia\",\"marker\":{\"color\":\"#636efa\",\"opacity\":0.7,\"symbol\":\"circle\"},\"mode\":\"markers\",\"name\":\"Estonia\",\"scene\":\"scene\",\"showlegend\":true,\"x\":[5.938395977],\"y\":[0.93568635],\"z\":[0.250271],\"type\":\"scatter3d\"},{\"hovertemplate\":\"Country Name=Ethiopia\\u003cbr\\u003eLife Ladder=%{x}\\u003cbr\\u003eSocial Support=%{y}\\u003cbr\\u003eEating disorders (%)=%{z}\\u003cextra\\u003e\\u003c\\u002fextra\\u003e\",\"legendgroup\":\"Ethiopia\",\"marker\":{\"color\":\"#EF553B\",\"opacity\":0.7,\"symbol\":\"circle\"},\"mode\":\"markers\",\"name\":\"Ethiopia\",\"scene\":\"scene\",\"showlegend\":true,\"x\":[4.180315495],\"y\":[0.73353976],\"z\":[0.109817],\"type\":\"scatter3d\"},{\"hovertemplate\":\"Country Name=Finland\\u003cbr\\u003eLife Ladder=%{x}\\u003cbr\\u003eSocial Support=%{y}\\u003cbr\\u003eEating disorders (%)=%{z}\\u003cextra\\u003e\\u003c\\u002fextra\\u003e\",\"legendgroup\":\"Finland\",\"marker\":{\"color\":\"#00cc96\",\"opacity\":0.7,\"symbol\":\"circle\"},\"mode\":\"markers\",\"name\":\"Finland\",\"scene\":\"scene\",\"showlegend\":true,\"x\":[7.788251877],\"y\":[0.963826418],\"z\":[0.594938],\"type\":\"scatter3d\"},{\"hovertemplate\":\"Country Name=France\\u003cbr\\u003eLife Ladder=%{x}\\u003cbr\\u003eSocial Support=%{y}\\u003cbr\\u003eEating disorders (%)=%{z}\\u003cextra\\u003e\\u003c\\u002fextra\\u003e\",\"legendgroup\":\"France\",\"marker\":{\"color\":\"#ab63fa\",\"opacity\":0.7,\"symbol\":\"circle\"},\"mode\":\"markers\",\"name\":\"France\",\"scene\":\"scene\",\"showlegend\":true,\"x\":[6.635222435],\"y\":[0.931494594],\"z\":[0.573755],\"type\":\"scatter3d\"},{\"hovertemplate\":\"Country Name=Gabon\\u003cbr\\u003eLife Ladder=%{x}\\u003cbr\\u003eSocial Support=%{y}\\u003cbr\\u003eEating disorders (%)=%{z}\\u003cextra\\u003e\\u003c\\u002fextra\\u003e\",\"legendgroup\":\"Gabon\",\"marker\":{\"color\":\"#FFA15A\",\"opacity\":0.7,\"symbol\":\"circle\"},\"mode\":\"markers\",\"name\":\"Gabon\",\"scene\":\"scene\",\"showlegend\":true,\"x\":[4.782382965],\"y\":[0.806941152],\"z\":[0.226577],\"type\":\"scatter3d\"},{\"hovertemplate\":\"Country Name=Gambia\\u003cbr\\u003eLife Ladder=%{x}\\u003cbr\\u003eSocial Support=%{y}\\u003cbr\\u003eEating disorders (%)=%{z}\\u003cextra\\u003e\\u003c\\u002fextra\\u003e\",\"legendgroup\":\"Gambia\",\"marker\":{\"color\":\"#19d3f3\",\"opacity\":0.7,\"symbol\":\"circle\"},\"mode\":\"markers\",\"name\":\"Gambia\",\"scene\":\"scene\",\"showlegend\":true,\"x\":[4.117938995],\"y\":[0.697001517],\"z\":[0.113298],\"type\":\"scatter3d\"},{\"hovertemplate\":\"Country Name=Georgia\\u003cbr\\u003eLife Ladder=%{x}\\u003cbr\\u003eSocial Support=%{y}\\u003cbr\\u003eEating disorders (%)=%{z}\\u003cextra\\u003e\\u003c\\u002fextra\\u003e\",\"legendgroup\":\"Georgia\",\"marker\":{\"color\":\"#FF6692\",\"opacity\":0.7,\"symbol\":\"circle\"},\"mode\":\"markers\",\"name\":\"Georgia\",\"scene\":\"scene\",\"showlegend\":true,\"x\":[4.45077467],\"y\":[0.590495169],\"z\":[0.17164],\"type\":\"scatter3d\"},{\"hovertemplate\":\"Country Name=Germany\\u003cbr\\u003eLife Ladder=%{x}\\u003cbr\\u003eSocial Support=%{y}\\u003cbr\\u003eEating disorders (%)=%{z}\\u003cextra\\u003e\\u003c\\u002fextra\\u003e\",\"legendgroup\":\"Germany\",\"marker\":{\"color\":\"#B6E880\",\"opacity\":0.7,\"symbol\":\"circle\"},\"mode\":\"markers\",\"name\":\"Germany\",\"scene\":\"scene\",\"showlegend\":true,\"x\":[7.074324608],\"y\":[0.892166078],\"z\":[0.522066],\"type\":\"scatter3d\"},{\"hovertemplate\":\"Country Name=Ghana\\u003cbr\\u003eLife Ladder=%{x}\\u003cbr\\u003eSocial Support=%{y}\\u003cbr\\u003eEating disorders (%)=%{z}\\u003cextra\\u003e\\u003c\\u002fextra\\u003e\",\"legendgroup\":\"Ghana\",\"marker\":{\"color\":\"#FF97FF\",\"opacity\":0.7,\"symbol\":\"circle\"},\"mode\":\"markers\",\"name\":\"Ghana\",\"scene\":\"scene\",\"showlegend\":true,\"x\":[5.481310844],\"y\":[0.669111073],\"z\":[0.147452],\"type\":\"scatter3d\"},{\"hovertemplate\":\"Country Name=Greece\\u003cbr\\u003eLife Ladder=%{x}\\u003cbr\\u003eSocial Support=%{y}\\u003cbr\\u003eEating disorders (%)=%{z}\\u003cextra\\u003e\\u003c\\u002fextra\\u003e\",\"legendgroup\":\"Greece\",\"marker\":{\"color\":\"#FECB52\",\"opacity\":0.7,\"symbol\":\"circle\"},\"mode\":\"markers\",\"name\":\"Greece\",\"scene\":\"scene\",\"showlegend\":true,\"x\":[5.14824152],\"y\":[0.752899528],\"z\":[0.559324],\"type\":\"scatter3d\"},{\"hovertemplate\":\"Country Name=Guatemala\\u003cbr\\u003eLife Ladder=%{x}\\u003cbr\\u003eSocial Support=%{y}\\u003cbr\\u003eEating disorders (%)=%{z}\\u003cextra\\u003e\\u003c\\u002fextra\\u003e\",\"legendgroup\":\"Guatemala\",\"marker\":{\"color\":\"#636efa\",\"opacity\":0.7,\"symbol\":\"circle\"},\"mode\":\"markers\",\"name\":\"Guatemala\",\"scene\":\"scene\",\"showlegend\":true,\"x\":[6.325118542],\"y\":[0.826492071],\"z\":[0.23211],\"type\":\"scatter3d\"},{\"hovertemplate\":\"Country Name=Guinea\\u003cbr\\u003eLife Ladder=%{x}\\u003cbr\\u003eSocial Support=%{y}\\u003cbr\\u003eEating disorders (%)=%{z}\\u003cextra\\u003e\\u003c\\u002fextra\\u003e\",\"legendgroup\":\"Guinea\",\"marker\":{\"color\":\"#EF553B\",\"opacity\":0.7,\"symbol\":\"circle\"},\"mode\":\"markers\",\"name\":\"Guinea\",\"scene\":\"scene\",\"showlegend\":true,\"x\":[4.873722553],\"y\":[0.634025574],\"z\":[0.112388],\"type\":\"scatter3d\"},{\"hovertemplate\":\"Country Name=Haiti\\u003cbr\\u003eLife Ladder=%{x}\\u003cbr\\u003eSocial Support=%{y}\\u003cbr\\u003eEating disorders (%)=%{z}\\u003cextra\\u003e\\u003c\\u002fextra\\u003e\",\"legendgroup\":\"Haiti\",\"marker\":{\"color\":\"#00cc96\",\"opacity\":0.7,\"symbol\":\"circle\"},\"mode\":\"markers\",\"name\":\"Haiti\",\"scene\":\"scene\",\"showlegend\":true,\"x\":[3.823865652],\"y\":[0.646984994],\"z\":[0.16079],\"type\":\"scatter3d\"},{\"hovertemplate\":\"Country Name=Honduras\\u003cbr\\u003eLife Ladder=%{x}\\u003cbr\\u003eSocial Support=%{y}\\u003cbr\\u003eEating disorders (%)=%{z}\\u003cextra\\u003e\\u003c\\u002fextra\\u003e\",\"legendgroup\":\"Honduras\",\"marker\":{\"color\":\"#ab63fa\",\"opacity\":0.7,\"symbol\":\"circle\"},\"mode\":\"markers\",\"name\":\"Honduras\",\"scene\":\"scene\",\"showlegend\":true,\"x\":[6.019985676],\"y\":[0.84335494],\"z\":[0.203339],\"type\":\"scatter3d\"},{\"hovertemplate\":\"Country Name=Hungary\\u003cbr\\u003eLife Ladder=%{x}\\u003cbr\\u003eSocial Support=%{y}\\u003cbr\\u003eEating disorders (%)=%{z}\\u003cextra\\u003e\\u003c\\u002fextra\\u003e\",\"legendgroup\":\"Hungary\",\"marker\":{\"color\":\"#FFA15A\",\"opacity\":0.7,\"symbol\":\"circle\"},\"mode\":\"markers\",\"name\":\"Hungary\",\"scene\":\"scene\",\"showlegend\":true,\"x\":[6.065038681],\"y\":[0.876747549],\"z\":[0.237686],\"type\":\"scatter3d\"},{\"hovertemplate\":\"Country Name=Iceland\\u003cbr\\u003eLife Ladder=%{x}\\u003cbr\\u003eSocial Support=%{y}\\u003cbr\\u003eEating disorders (%)=%{z}\\u003cextra\\u003e\\u003c\\u002fextra\\u003e\",\"legendgroup\":\"Iceland\",\"marker\":{\"color\":\"#19d3f3\",\"opacity\":0.7,\"symbol\":\"circle\"},\"mode\":\"markers\",\"name\":\"Iceland\",\"scene\":\"scene\",\"showlegend\":true,\"x\":[7.476213932],\"y\":[0.966752827],\"z\":[0.558014],\"type\":\"scatter3d\"},{\"hovertemplate\":\"Country Name=India\\u003cbr\\u003eLife Ladder=%{x}\\u003cbr\\u003eSocial Support=%{y}\\u003cbr\\u003eEating disorders (%)=%{z}\\u003cextra\\u003e\\u003c\\u002fextra\\u003e\",\"legendgroup\":\"India\",\"marker\":{\"color\":\"#FF6692\",\"opacity\":0.7,\"symbol\":\"circle\"},\"mode\":\"markers\",\"name\":\"India\",\"scene\":\"scene\",\"showlegend\":true,\"x\":[4.046111107],\"y\":[0.606767476],\"z\":[0.157758],\"type\":\"scatter3d\"},{\"hovertemplate\":\"Country Name=Indonesia\\u003cbr\\u003eLife Ladder=%{x}\\u003cbr\\u003eSocial Support=%{y}\\u003cbr\\u003eEating disorders (%)=%{z}\\u003cextra\\u003e\\u003c\\u002fextra\\u003e\",\"legendgroup\":\"Indonesia\",\"marker\":{\"color\":\"#B6E880\",\"opacity\":0.7,\"symbol\":\"circle\"},\"mode\":\"markers\",\"name\":\"Indonesia\",\"scene\":\"scene\",\"showlegend\":true,\"x\":[5.098401546],\"y\":[0.795589209],\"z\":[0.148782],\"type\":\"scatter3d\"},{\"hovertemplate\":\"Country Name=Iraq\\u003cbr\\u003eLife Ladder=%{x}\\u003cbr\\u003eSocial Support=%{y}\\u003cbr\\u003eEating disorders (%)=%{z}\\u003cextra\\u003e\\u003c\\u002fextra\\u003e\",\"legendgroup\":\"Iraq\",\"marker\":{\"color\":\"#FF97FF\",\"opacity\":0.7,\"symbol\":\"circle\"},\"mode\":\"markers\",\"name\":\"Iraq\",\"scene\":\"scene\",\"showlegend\":true,\"x\":[4.462399006],\"y\":[0.695109367],\"z\":[0.208672],\"type\":\"scatter3d\"},{\"hovertemplate\":\"Country Name=Ireland\\u003cbr\\u003eLife Ladder=%{x}\\u003cbr\\u003eSocial Support=%{y}\\u003cbr\\u003eEating disorders (%)=%{z}\\u003cextra\\u003e\\u003c\\u002fextra\\u003e\",\"legendgroup\":\"Ireland\",\"marker\":{\"color\":\"#FECB52\",\"opacity\":0.7,\"symbol\":\"circle\"},\"mode\":\"markers\",\"name\":\"Ireland\",\"scene\":\"scene\",\"showlegend\":true,\"x\":[7.060155392],\"y\":[0.943481982],\"z\":[0.559995],\"type\":\"scatter3d\"},{\"hovertemplate\":\"Country Name=Israel\\u003cbr\\u003eLife Ladder=%{x}\\u003cbr\\u003eSocial Support=%{y}\\u003cbr\\u003eEating disorders (%)=%{z}\\u003cextra\\u003e\\u003c\\u002fextra\\u003e\",\"legendgroup\":\"Israel\",\"marker\":{\"color\":\"#636efa\",\"opacity\":0.7,\"symbol\":\"circle\"},\"mode\":\"markers\",\"name\":\"Israel\",\"scene\":\"scene\",\"showlegend\":true,\"x\":[7.331036091],\"y\":[0.916440845],\"z\":[0.461175],\"type\":\"scatter3d\"},{\"hovertemplate\":\"Country Name=Italy\\u003cbr\\u003eLife Ladder=%{x}\\u003cbr\\u003eSocial Support=%{y}\\u003cbr\\u003eEating disorders (%)=%{z}\\u003cextra\\u003e\\u003c\\u002fextra\\u003e\",\"legendgroup\":\"Italy\",\"marker\":{\"color\":\"#EF553B\",\"opacity\":0.7,\"symbol\":\"circle\"},\"mode\":\"markers\",\"name\":\"Italy\",\"scene\":\"scene\",\"showlegend\":true,\"x\":[6.198870182],\"y\":[0.919791222],\"z\":[0.626784],\"type\":\"scatter3d\"},{\"hovertemplate\":\"Country Name=Jamaica\\u003cbr\\u003eLife Ladder=%{x}\\u003cbr\\u003eSocial Support=%{y}\\u003cbr\\u003eEating disorders (%)=%{z}\\u003cextra\\u003e\\u003c\\u002fextra\\u003e\",\"legendgroup\":\"Jamaica\",\"marker\":{\"color\":\"#00cc96\",\"opacity\":0.7,\"symbol\":\"circle\"},\"mode\":\"markers\",\"name\":\"Jamaica\",\"scene\":\"scene\",\"showlegend\":true,\"x\":[5.889759064],\"y\":[0.91302985],\"z\":[0.25965],\"type\":\"scatter3d\"},{\"hovertemplate\":\"Country Name=Japan\\u003cbr\\u003eLife Ladder=%{x}\\u003cbr\\u003eSocial Support=%{y}\\u003cbr\\u003eEating disorders (%)=%{z}\\u003cextra\\u003e\\u003c\\u002fextra\\u003e\",\"legendgroup\":\"Japan\",\"marker\":{\"color\":\"#ab63fa\",\"opacity\":0.7,\"symbol\":\"circle\"},\"mode\":\"markers\",\"name\":\"Japan\",\"scene\":\"scene\",\"showlegend\":true,\"x\":[5.910676479],\"y\":[0.881961286],\"z\":[0.454379],\"type\":\"scatter3d\"},{\"hovertemplate\":\"Country Name=Kazakhstan\\u003cbr\\u003eLife Ladder=%{x}\\u003cbr\\u003eSocial Support=%{y}\\u003cbr\\u003eEating disorders (%)=%{z}\\u003cextra\\u003e\\u003c\\u002fextra\\u003e\",\"legendgroup\":\"Kazakhstan\",\"marker\":{\"color\":\"#FFA15A\",\"opacity\":0.7,\"symbol\":\"circle\"},\"mode\":\"markers\",\"name\":\"Kazakhstan\",\"scene\":\"scene\",\"showlegend\":true,\"x\":[5.882351398],\"y\":[0.914093196],\"z\":[0.227918],\"type\":\"scatter3d\"},{\"hovertemplate\":\"Country Name=Kenya\\u003cbr\\u003eLife Ladder=%{x}\\u003cbr\\u003eSocial Support=%{y}\\u003cbr\\u003eEating disorders (%)=%{z}\\u003cextra\\u003e\\u003c\\u002fextra\\u003e\",\"legendgroup\":\"Kenya\",\"marker\":{\"color\":\"#19d3f3\",\"opacity\":0.7,\"symbol\":\"circle\"},\"mode\":\"markers\",\"name\":\"Kenya\",\"scene\":\"scene\",\"showlegend\":true,\"x\":[4.475654125],\"y\":[0.714604318],\"z\":[0.135005],\"type\":\"scatter3d\"},{\"hovertemplate\":\"Country Name=Kyrgyzstan\\u003cbr\\u003eLife Ladder=%{x}\\u003cbr\\u003eSocial Support=%{y}\\u003cbr\\u003eEating disorders (%)=%{z}\\u003cextra\\u003e\\u003c\\u002fextra\\u003e\",\"legendgroup\":\"Kyrgyzstan\",\"marker\":{\"color\":\"#FF6692\",\"opacity\":0.7,\"symbol\":\"circle\"},\"mode\":\"markers\",\"name\":\"Kyrgyzstan\",\"scene\":\"scene\",\"showlegend\":true,\"x\":[5.629536629],\"y\":[0.882586658],\"z\":[0.127525],\"type\":\"scatter3d\"},{\"hovertemplate\":\"Country Name=Laos\\u003cbr\\u003eLife Ladder=%{x}\\u003cbr\\u003eSocial Support=%{y}\\u003cbr\\u003eEating disorders (%)=%{z}\\u003cextra\\u003e\\u003c\\u002fextra\\u003e\",\"legendgroup\":\"Laos\",\"marker\":{\"color\":\"#B6E880\",\"opacity\":0.7,\"symbol\":\"circle\"},\"mode\":\"markers\",\"name\":\"Laos\",\"scene\":\"scene\",\"showlegend\":true,\"x\":[4.623140812],\"y\":[0.70733577],\"z\":[0.128172],\"type\":\"scatter3d\"},{\"hovertemplate\":\"Country Name=Latvia\\u003cbr\\u003eLife Ladder=%{x}\\u003cbr\\u003eSocial Support=%{y}\\u003cbr\\u003eEating disorders (%)=%{z}\\u003cextra\\u003e\\u003c\\u002fextra\\u003e\",\"legendgroup\":\"Latvia\",\"marker\":{\"color\":\"#FF97FF\",\"opacity\":0.7,\"symbol\":\"circle\"},\"mode\":\"markers\",\"name\":\"Latvia\",\"scene\":\"scene\",\"showlegend\":true,\"x\":[5.977817535],\"y\":[0.895098746],\"z\":[0.225275],\"type\":\"scatter3d\"},{\"hovertemplate\":\"Country Name=Lebanon\\u003cbr\\u003eLife Ladder=%{x}\\u003cbr\\u003eSocial Support=%{y}\\u003cbr\\u003eEating disorders (%)=%{z}\\u003cextra\\u003e\\u003c\\u002fextra\\u003e\",\"legendgroup\":\"Lebanon\",\"marker\":{\"color\":\"#FECB52\",\"opacity\":0.7,\"symbol\":\"circle\"},\"mode\":\"markers\",\"name\":\"Lebanon\",\"scene\":\"scene\",\"showlegend\":true,\"x\":[5.153989792],\"y\":[0.776583016],\"z\":[0.219049],\"type\":\"scatter3d\"},{\"hovertemplate\":\"Country Name=Lesotho\\u003cbr\\u003eLife Ladder=%{x}\\u003cbr\\u003eSocial Support=%{y}\\u003cbr\\u003eEating disorders (%)=%{z}\\u003cextra\\u003e\\u003c\\u002fextra\\u003e\",\"legendgroup\":\"Lesotho\",\"marker\":{\"color\":\"#636efa\",\"opacity\":0.7,\"symbol\":\"circle\"},\"mode\":\"markers\",\"name\":\"Lesotho\",\"scene\":\"scene\",\"showlegend\":true,\"x\":[3.795300722],\"y\":[0.768551648],\"z\":[0.136801],\"type\":\"scatter3d\"},{\"hovertemplate\":\"Country Name=Liberia\\u003cbr\\u003eLife Ladder=%{x}\\u003cbr\\u003eSocial Support=%{y}\\u003cbr\\u003eEating disorders (%)=%{z}\\u003cextra\\u003e\\u003c\\u002fextra\\u003e\",\"legendgroup\":\"Liberia\",\"marker\":{\"color\":\"#EF553B\",\"opacity\":0.7,\"symbol\":\"circle\"},\"mode\":\"markers\",\"name\":\"Liberia\",\"scene\":\"scene\",\"showlegend\":true,\"x\":[4.424490929],\"y\":[0.684866846],\"z\":[0.091591],\"type\":\"scatter3d\"},{\"hovertemplate\":\"Country Name=Lithuania\\u003cbr\\u003eLife Ladder=%{x}\\u003cbr\\u003eSocial Support=%{y}\\u003cbr\\u003eEating disorders (%)=%{z}\\u003cextra\\u003e\\u003c\\u002fextra\\u003e\",\"legendgroup\":\"Lithuania\",\"marker\":{\"color\":\"#00cc96\",\"opacity\":0.7,\"symbol\":\"circle\"},\"mode\":\"markers\",\"name\":\"Lithuania\",\"scene\":\"scene\",\"showlegend\":true,\"x\":[6.272940636],\"y\":[0.926316619],\"z\":[0.234095],\"type\":\"scatter3d\"},{\"hovertemplate\":\"Country Name=Luxembourg\\u003cbr\\u003eLife Ladder=%{x}\\u003cbr\\u003eSocial Support=%{y}\\u003cbr\\u003eEating disorders (%)=%{z}\\u003cextra\\u003e\\u003c\\u002fextra\\u003e\",\"legendgroup\":\"Luxembourg\",\"marker\":{\"color\":\"#ab63fa\",\"opacity\":0.7,\"symbol\":\"circle\"},\"mode\":\"markers\",\"name\":\"Luxembourg\",\"scene\":\"scene\",\"showlegend\":true,\"x\":[7.061380863],\"y\":[0.905435503],\"z\":[0.737917],\"type\":\"scatter3d\"},{\"hovertemplate\":\"Country Name=Madagascar\\u003cbr\\u003eLife Ladder=%{x}\\u003cbr\\u003eSocial Support=%{y}\\u003cbr\\u003eEating disorders (%)=%{z}\\u003cextra\\u003e\\u003c\\u002fextra\\u003e\",\"legendgroup\":\"Madagascar\",\"marker\":{\"color\":\"#FFA15A\",\"opacity\":0.7,\"symbol\":\"circle\"},\"mode\":\"markers\",\"name\":\"Madagascar\",\"scene\":\"scene\",\"showlegend\":true,\"x\":[4.078620434],\"y\":[0.626331985],\"z\":[0.106417],\"type\":\"scatter3d\"},{\"hovertemplate\":\"Country Name=Malawi\\u003cbr\\u003eLife Ladder=%{x}\\u003cbr\\u003eSocial Support=%{y}\\u003cbr\\u003eEating disorders (%)=%{z}\\u003cextra\\u003e\\u003c\\u002fextra\\u003e\",\"legendgroup\":\"Malawi\",\"marker\":{\"color\":\"#19d3f3\",\"opacity\":0.7,\"symbol\":\"circle\"},\"mode\":\"markers\",\"name\":\"Malawi\",\"scene\":\"scene\",\"showlegend\":true,\"x\":[3.416862965],\"y\":[0.555422723],\"z\":[0.100349],\"type\":\"scatter3d\"},{\"hovertemplate\":\"Country Name=Mali\\u003cbr\\u003eLife Ladder=%{x}\\u003cbr\\u003eSocial Support=%{y}\\u003cbr\\u003eEating disorders (%)=%{z}\\u003cextra\\u003e\\u003c\\u002fextra\\u003e\",\"legendgroup\":\"Mali\",\"marker\":{\"color\":\"#FF6692\",\"opacity\":0.7,\"symbol\":\"circle\"},\"mode\":\"markers\",\"name\":\"Mali\",\"scene\":\"scene\",\"showlegend\":true,\"x\":[4.741850376],\"y\":[0.741359413],\"z\":[0.116675],\"type\":\"scatter3d\"},{\"hovertemplate\":\"Country Name=Malta\\u003cbr\\u003eLife Ladder=%{x}\\u003cbr\\u003eSocial Support=%{y}\\u003cbr\\u003eEating disorders (%)=%{z}\\u003cextra\\u003e\\u003c\\u002fextra\\u003e\",\"legendgroup\":\"Malta\",\"marker\":{\"color\":\"#B6E880\",\"opacity\":0.7,\"symbol\":\"circle\"},\"mode\":\"markers\",\"name\":\"Malta\",\"scene\":\"scene\",\"showlegend\":true,\"x\":[6.675665855],\"y\":[0.937331796],\"z\":[0.51914],\"type\":\"scatter3d\"},{\"hovertemplate\":\"Country Name=Mauritania\\u003cbr\\u003eLife Ladder=%{x}\\u003cbr\\u003eSocial Support=%{y}\\u003cbr\\u003eEating disorders (%)=%{z}\\u003cextra\\u003e\\u003c\\u002fextra\\u003e\",\"legendgroup\":\"Mauritania\",\"marker\":{\"color\":\"#FF97FF\",\"opacity\":0.7,\"symbol\":\"circle\"},\"mode\":\"markers\",\"name\":\"Mauritania\",\"scene\":\"scene\",\"showlegend\":true,\"x\":[4.678159714],\"y\":[0.77922523],\"z\":[0.145276],\"type\":\"scatter3d\"},{\"hovertemplate\":\"Country Name=Mauritius\\u003cbr\\u003eLife Ladder=%{x}\\u003cbr\\u003eSocial Support=%{y}\\u003cbr\\u003eEating disorders (%)=%{z}\\u003cextra\\u003e\\u003c\\u002fextra\\u003e\",\"legendgroup\":\"Mauritius\",\"marker\":{\"color\":\"#FECB52\",\"opacity\":0.7,\"symbol\":\"circle\"},\"mode\":\"markers\",\"name\":\"Mauritius\",\"scene\":\"scene\",\"showlegend\":true,\"x\":[6.174117565],\"y\":[0.910142243],\"z\":[0.184433],\"type\":\"scatter3d\"},{\"hovertemplate\":\"Country Name=Mexico\\u003cbr\\u003eLife Ladder=%{x}\\u003cbr\\u003eSocial Support=%{y}\\u003cbr\\u003eEating disorders (%)=%{z}\\u003cextra\\u003e\\u003c\\u002fextra\\u003e\",\"legendgroup\":\"Mexico\",\"marker\":{\"color\":\"#636efa\",\"opacity\":0.7,\"symbol\":\"circle\"},\"mode\":\"markers\",\"name\":\"Mexico\",\"scene\":\"scene\",\"showlegend\":true,\"x\":[6.410299301],\"y\":[0.799839377],\"z\":[0.316975],\"type\":\"scatter3d\"},{\"hovertemplate\":\"Country Name=Moldova\\u003cbr\\u003eLife Ladder=%{x}\\u003cbr\\u003eSocial Support=%{y}\\u003cbr\\u003eEating disorders (%)=%{z}\\u003cextra\\u003e\\u003c\\u002fextra\\u003e\",\"legendgroup\":\"Moldova\",\"marker\":{\"color\":\"#EF553B\",\"opacity\":0.7,\"symbol\":\"circle\"},\"mode\":\"markers\",\"name\":\"Moldova\",\"scene\":\"scene\",\"showlegend\":true,\"x\":[5.325530529],\"y\":[0.83076793],\"z\":[0.141701],\"type\":\"scatter3d\"},{\"hovertemplate\":\"Country Name=Mongolia\\u003cbr\\u003eLife Ladder=%{x}\\u003cbr\\u003eSocial Support=%{y}\\u003cbr\\u003eEating disorders (%)=%{z}\\u003cextra\\u003e\\u003c\\u002fextra\\u003e\",\"legendgroup\":\"Mongolia\",\"marker\":{\"color\":\"#00cc96\",\"opacity\":0.7,\"symbol\":\"circle\"},\"mode\":\"markers\",\"name\":\"Mongolia\",\"scene\":\"scene\",\"showlegend\":true,\"x\":[5.333850384],\"y\":[0.924250782],\"z\":[0.180157],\"type\":\"scatter3d\"},{\"hovertemplate\":\"Country Name=Montenegro\\u003cbr\\u003eLife Ladder=%{x}\\u003cbr\\u003eSocial Support=%{y}\\u003cbr\\u003eEating disorders (%)=%{z}\\u003cextra\\u003e\\u003c\\u002fextra\\u003e\",\"legendgroup\":\"Montenegro\",\"marker\":{\"color\":\"#ab63fa\",\"opacity\":0.7,\"symbol\":\"circle\"},\"mode\":\"markers\",\"name\":\"Montenegro\",\"scene\":\"scene\",\"showlegend\":true,\"x\":[5.614798546],\"y\":[0.881199837],\"z\":[0.194161],\"type\":\"scatter3d\"},{\"hovertemplate\":\"Country Name=Mozambique\\u003cbr\\u003eLife Ladder=%{x}\\u003cbr\\u003eSocial Support=%{y}\\u003cbr\\u003eEating disorders (%)=%{z}\\u003cextra\\u003e\\u003c\\u002fextra\\u003e\",\"legendgroup\":\"Mozambique\",\"marker\":{\"color\":\"#FFA15A\",\"opacity\":0.7,\"symbol\":\"circle\"},\"mode\":\"markers\",\"name\":\"Mozambique\",\"scene\":\"scene\",\"showlegend\":true,\"x\":[4.279863358],\"y\":[0.678463697],\"z\":[0.103227],\"type\":\"scatter3d\"},{\"hovertemplate\":\"Country Name=Myanmar\\u003cbr\\u003eLife Ladder=%{x}\\u003cbr\\u003eSocial Support=%{y}\\u003cbr\\u003eEating disorders (%)=%{z}\\u003cextra\\u003e\\u003c\\u002fextra\\u003e\",\"legendgroup\":\"Myanmar\",\"marker\":{\"color\":\"#19d3f3\",\"opacity\":0.7,\"symbol\":\"circle\"},\"mode\":\"markers\",\"name\":\"Myanmar\",\"scene\":\"scene\",\"showlegend\":true,\"x\":[4.154341698],\"y\":[0.795183837],\"z\":[0.125738],\"type\":\"scatter3d\"},{\"hovertemplate\":\"Country Name=Namibia\\u003cbr\\u003eLife Ladder=%{x}\\u003cbr\\u003eSocial Support=%{y}\\u003cbr\\u003eEating disorders (%)=%{z}\\u003cextra\\u003e\\u003c\\u002fextra\\u003e\",\"legendgroup\":\"Namibia\",\"marker\":{\"color\":\"#FF6692\",\"opacity\":0.7,\"symbol\":\"circle\"},\"mode\":\"markers\",\"name\":\"Namibia\",\"scene\":\"scene\",\"showlegend\":true,\"x\":[4.441306114],\"y\":[0.82833904],\"z\":[0.200987],\"type\":\"scatter3d\"},{\"hovertemplate\":\"Country Name=Nepal\\u003cbr\\u003eLife Ladder=%{x}\\u003cbr\\u003eSocial Support=%{y}\\u003cbr\\u003eEating disorders (%)=%{z}\\u003cextra\\u003e\\u003c\\u002fextra\\u003e\",\"legendgroup\":\"Nepal\",\"marker\":{\"color\":\"#B6E880\",\"opacity\":0.7,\"symbol\":\"circle\"},\"mode\":\"markers\",\"name\":\"Nepal\",\"scene\":\"scene\",\"showlegend\":true,\"x\":[4.736692429],\"y\":[0.816383302],\"z\":[0.128495],\"type\":\"scatter3d\"},{\"hovertemplate\":\"Country Name=Netherlands\\u003cbr\\u003eLife Ladder=%{x}\\u003cbr\\u003eSocial Support=%{y}\\u003cbr\\u003eEating disorders (%)=%{z}\\u003cextra\\u003e\\u003c\\u002fextra\\u003e\",\"legendgroup\":\"Netherlands\",\"marker\":{\"color\":\"#FF97FF\",\"opacity\":0.7,\"symbol\":\"circle\"},\"mode\":\"markers\",\"name\":\"Netherlands\",\"scene\":\"scene\",\"showlegend\":true,\"x\":[7.458965302],\"y\":[0.936501324],\"z\":[0.467844],\"type\":\"scatter3d\"},{\"hovertemplate\":\"Country Name=New Zealand\\u003cbr\\u003eLife Ladder=%{x}\\u003cbr\\u003eSocial Support=%{y}\\u003cbr\\u003eEating disorders (%)=%{z}\\u003cextra\\u003e\\u003c\\u002fextra\\u003e\",\"legendgroup\":\"New Zealand\",\"marker\":{\"color\":\"#FECB52\",\"opacity\":0.7,\"symbol\":\"circle\"},\"mode\":\"markers\",\"name\":\"New Zealand\",\"scene\":\"scene\",\"showlegend\":true,\"x\":[7.32718277],\"y\":[0.95492065],\"z\":[0.67329],\"type\":\"scatter3d\"},{\"hovertemplate\":\"Country Name=Nicaragua\\u003cbr\\u003eLife Ladder=%{x}\\u003cbr\\u003eSocial Support=%{y}\\u003cbr\\u003eEating disorders (%)=%{z}\\u003cextra\\u003e\\u003c\\u002fextra\\u003e\",\"legendgroup\":\"Nicaragua\",\"marker\":{\"color\":\"#636efa\",\"opacity\":0.7,\"symbol\":\"circle\"},\"mode\":\"markers\",\"name\":\"Nicaragua\",\"scene\":\"scene\",\"showlegend\":true,\"x\":[6.476356506],\"y\":[0.83804369],\"z\":[0.205876],\"type\":\"scatter3d\"},{\"hovertemplate\":\"Country Name=Niger\\u003cbr\\u003eLife Ladder=%{x}\\u003cbr\\u003eSocial Support=%{y}\\u003cbr\\u003eEating disorders (%)=%{z}\\u003cextra\\u003e\\u003c\\u002fextra\\u003e\",\"legendgroup\":\"Niger\",\"marker\":{\"color\":\"#EF553B\",\"opacity\":0.7,\"symbol\":\"circle\"},\"mode\":\"markers\",\"name\":\"Niger\",\"scene\":\"scene\",\"showlegend\":true,\"x\":[4.615673542],\"y\":[0.582109571],\"z\":[0.096116],\"type\":\"scatter3d\"},{\"hovertemplate\":\"Country Name=Nigeria\\u003cbr\\u003eLife Ladder=%{x}\\u003cbr\\u003eSocial Support=%{y}\\u003cbr\\u003eEating disorders (%)=%{z}\\u003cextra\\u003e\\u003c\\u002fextra\\u003e\",\"legendgroup\":\"Nigeria\",\"marker\":{\"color\":\"#00cc96\",\"opacity\":0.7,\"symbol\":\"circle\"},\"mode\":\"markers\",\"name\":\"Nigeria\",\"scene\":\"scene\",\"showlegend\":true,\"x\":[5.321928024],\"y\":[0.733468533],\"z\":[0.163373],\"type\":\"scatter3d\"},{\"hovertemplate\":\"Country Name=Norway\\u003cbr\\u003eLife Ladder=%{x}\\u003cbr\\u003eSocial Support=%{y}\\u003cbr\\u003eEating disorders (%)=%{z}\\u003cextra\\u003e\\u003c\\u002fextra\\u003e\",\"legendgroup\":\"Norway\",\"marker\":{\"color\":\"#ab63fa\",\"opacity\":0.7,\"symbol\":\"circle\"},\"mode\":\"markers\",\"name\":\"Norway\",\"scene\":\"scene\",\"showlegend\":true,\"x\":[7.578744888],\"y\":[0.950127661],\"z\":[0.570363],\"type\":\"scatter3d\"},{\"hovertemplate\":\"Country Name=Pakistan\\u003cbr\\u003eLife Ladder=%{x}\\u003cbr\\u003eSocial Support=%{y}\\u003cbr\\u003eEating disorders (%)=%{z}\\u003cextra\\u003e\\u003c\\u002fextra\\u003e\",\"legendgroup\":\"Pakistan\",\"marker\":{\"color\":\"#FFA15A\",\"opacity\":0.7,\"symbol\":\"circle\"},\"mode\":\"markers\",\"name\":\"Pakistan\",\"scene\":\"scene\",\"showlegend\":true,\"x\":[5.830870628],\"y\":[0.690263569],\"z\":[0.154583],\"type\":\"scatter3d\"},{\"hovertemplate\":\"Country Name=Panama\\u003cbr\\u003eLife Ladder=%{x}\\u003cbr\\u003eSocial Support=%{y}\\u003cbr\\u003eEating disorders (%)=%{z}\\u003cextra\\u003e\\u003c\\u002fextra\\u003e\",\"legendgroup\":\"Panama\",\"marker\":{\"color\":\"#19d3f3\",\"opacity\":0.7,\"symbol\":\"circle\"},\"mode\":\"markers\",\"name\":\"Panama\",\"scene\":\"scene\",\"showlegend\":true,\"x\":[6.567658901],\"y\":[0.911904812],\"z\":[0.31665],\"type\":\"scatter3d\"},{\"hovertemplate\":\"Country Name=Paraguay\\u003cbr\\u003eLife Ladder=%{x}\\u003cbr\\u003eSocial Support=%{y}\\u003cbr\\u003eEating disorders (%)=%{z}\\u003cextra\\u003e\\u003c\\u002fextra\\u003e\",\"legendgroup\":\"Paraguay\",\"marker\":{\"color\":\"#FF6692\",\"opacity\":0.7,\"symbol\":\"circle\"},\"mode\":\"markers\",\"name\":\"Paraguay\",\"scene\":\"scene\",\"showlegend\":true,\"x\":[5.71329546],\"y\":[0.902042508],\"z\":[0.238288],\"type\":\"scatter3d\"},{\"hovertemplate\":\"Country Name=Peru\\u003cbr\\u003eLife Ladder=%{x}\\u003cbr\\u003eSocial Support=%{y}\\u003cbr\\u003eEating disorders (%)=%{z}\\u003cextra\\u003e\\u003c\\u002fextra\\u003e\",\"legendgroup\":\"Peru\",\"marker\":{\"color\":\"#B6E880\",\"opacity\":0.7,\"symbol\":\"circle\"},\"mode\":\"markers\",\"name\":\"Peru\",\"scene\":\"scene\",\"showlegend\":true,\"x\":[5.710936546],\"y\":[0.830123365],\"z\":[0.369216],\"type\":\"scatter3d\"},{\"hovertemplate\":\"Country Name=Philippines\\u003cbr\\u003eLife Ladder=%{x}\\u003cbr\\u003eSocial Support=%{y}\\u003cbr\\u003eEating disorders (%)=%{z}\\u003cextra\\u003e\\u003c\\u002fextra\\u003e\",\"legendgroup\":\"Philippines\",\"marker\":{\"color\":\"#FF97FF\",\"opacity\":0.7,\"symbol\":\"circle\"},\"mode\":\"markers\",\"name\":\"Philippines\",\"scene\":\"scene\",\"showlegend\":true,\"x\":[5.594270229],\"y\":[0.851028562],\"z\":[0.134855],\"type\":\"scatter3d\"},{\"hovertemplate\":\"Country Name=Poland\\u003cbr\\u003eLife Ladder=%{x}\\u003cbr\\u003eSocial Support=%{y}\\u003cbr\\u003eEating disorders (%)=%{z}\\u003cextra\\u003e\\u003c\\u002fextra\\u003e\",\"legendgroup\":\"Poland\",\"marker\":{\"color\":\"#FECB52\",\"opacity\":0.7,\"symbol\":\"circle\"},\"mode\":\"markers\",\"name\":\"Poland\",\"scene\":\"scene\",\"showlegend\":true,\"x\":[6.201268196],\"y\":[0.881854117],\"z\":[0.229485],\"type\":\"scatter3d\"},{\"hovertemplate\":\"Country Name=Portugal\\u003cbr\\u003eLife Ladder=%{x}\\u003cbr\\u003eSocial Support=%{y}\\u003cbr\\u003eEating disorders (%)=%{z}\\u003cextra\\u003e\\u003c\\u002fextra\\u003e\",\"legendgroup\":\"Portugal\",\"marker\":{\"color\":\"#636efa\",\"opacity\":0.7,\"symbol\":\"circle\"},\"mode\":\"markers\",\"name\":\"Portugal\",\"scene\":\"scene\",\"showlegend\":true,\"x\":[5.711499214],\"y\":[0.899984837],\"z\":[0.513079],\"type\":\"scatter3d\"},{\"hovertemplate\":\"Country Name=Romania\\u003cbr\\u003eLife Ladder=%{x}\\u003cbr\\u003eSocial Support=%{y}\\u003cbr\\u003eEating disorders (%)=%{z}\\u003cextra\\u003e\\u003c\\u002fextra\\u003e\",\"legendgroup\":\"Romania\",\"marker\":{\"color\":\"#EF553B\",\"opacity\":0.7,\"symbol\":\"circle\"},\"mode\":\"markers\",\"name\":\"Romania\",\"scene\":\"scene\",\"showlegend\":true,\"x\":[6.089904785],\"y\":[0.811240137],\"z\":[0.2007],\"type\":\"scatter3d\"},{\"hovertemplate\":\"Country Name=Russia\\u003cbr\\u003eLife Ladder=%{x}\\u003cbr\\u003eSocial Support=%{y}\\u003cbr\\u003eEating disorders (%)=%{z}\\u003cextra\\u003e\\u003c\\u002fextra\\u003e\",\"legendgroup\":\"Russia\",\"marker\":{\"color\":\"#00cc96\",\"opacity\":0.7,\"symbol\":\"circle\"},\"mode\":\"markers\",\"name\":\"Russia\",\"scene\":\"scene\",\"showlegend\":true,\"x\":[5.578742981],\"y\":[0.896151304],\"z\":[0.232375],\"type\":\"scatter3d\"},{\"hovertemplate\":\"Country Name=Rwanda\\u003cbr\\u003eLife Ladder=%{x}\\u003cbr\\u003eSocial Support=%{y}\\u003cbr\\u003eEating disorders (%)=%{z}\\u003cextra\\u003e\\u003c\\u002fextra\\u003e\",\"legendgroup\":\"Rwanda\",\"marker\":{\"color\":\"#ab63fa\",\"opacity\":0.7,\"symbol\":\"circle\"},\"mode\":\"markers\",\"name\":\"Rwanda\",\"scene\":\"scene\",\"showlegend\":true,\"x\":[3.10837388],\"y\":[0.516550004],\"z\":[0.115817],\"type\":\"scatter3d\"},{\"hovertemplate\":\"Country Name=Senegal\\u003cbr\\u003eLife Ladder=%{x}\\u003cbr\\u003eSocial Support=%{y}\\u003cbr\\u003eEating disorders (%)=%{z}\\u003cextra\\u003e\\u003c\\u002fextra\\u003e\",\"legendgroup\":\"Senegal\",\"marker\":{\"color\":\"#FFA15A\",\"opacity\":0.7,\"symbol\":\"circle\"},\"mode\":\"markers\",\"name\":\"Senegal\",\"scene\":\"scene\",\"showlegend\":true,\"x\":[4.683024883],\"y\":[0.743759334],\"z\":[0.12529],\"type\":\"scatter3d\"},{\"hovertemplate\":\"Country Name=Serbia\\u003cbr\\u003eLife Ladder=%{x}\\u003cbr\\u003eSocial Support=%{y}\\u003cbr\\u003eEating disorders (%)=%{z}\\u003cextra\\u003e\\u003c\\u002fextra\\u003e\",\"legendgroup\":\"Serbia\",\"marker\":{\"color\":\"#19d3f3\",\"opacity\":0.7,\"symbol\":\"circle\"},\"mode\":\"markers\",\"name\":\"Serbia\",\"scene\":\"scene\",\"showlegend\":true,\"x\":[5.122031212],\"y\":[0.883770406],\"z\":[0.187147],\"type\":\"scatter3d\"},{\"hovertemplate\":\"Country Name=Sierra Leone\\u003cbr\\u003eLife Ladder=%{x}\\u003cbr\\u003eSocial Support=%{y}\\u003cbr\\u003eEating disorders (%)=%{z}\\u003cextra\\u003e\\u003c\\u002fextra\\u003e\",\"legendgroup\":\"Sierra Leone\",\"marker\":{\"color\":\"#FF6692\",\"opacity\":0.7,\"symbol\":\"circle\"},\"mode\":\"markers\",\"name\":\"Sierra Leone\",\"scene\":\"scene\",\"showlegend\":true,\"x\":[4.089562416],\"y\":[0.652287126],\"z\":[0.109799],\"type\":\"scatter3d\"},{\"hovertemplate\":\"Country Name=Singapore\\u003cbr\\u003eLife Ladder=%{x}\\u003cbr\\u003eSocial Support=%{y}\\u003cbr\\u003eEating disorders (%)=%{z}\\u003cextra\\u003e\\u003c\\u002fextra\\u003e\",\"legendgroup\":\"Singapore\",\"marker\":{\"color\":\"#B6E880\",\"opacity\":0.7,\"symbol\":\"circle\"},\"mode\":\"markers\",\"name\":\"Singapore\",\"scene\":\"scene\",\"showlegend\":true,\"x\":[6.378437996],\"y\":[0.897349894],\"z\":[0.553712],\"type\":\"scatter3d\"},{\"hovertemplate\":\"Country Name=Slovakia\\u003cbr\\u003eLife Ladder=%{x}\\u003cbr\\u003eSocial Support=%{y}\\u003cbr\\u003eEating disorders (%)=%{z}\\u003cextra\\u003e\\u003c\\u002fextra\\u003e\",\"legendgroup\":\"Slovakia\",\"marker\":{\"color\":\"#FF97FF\",\"opacity\":0.7,\"symbol\":\"circle\"},\"mode\":\"markers\",\"name\":\"Slovakia\",\"scene\":\"scene\",\"showlegend\":true,\"x\":[6.365509033],\"y\":[0.913386643],\"z\":[0.235475],\"type\":\"scatter3d\"},{\"hovertemplate\":\"Country Name=Slovenia\\u003cbr\\u003eLife Ladder=%{x}\\u003cbr\\u003eSocial Support=%{y}\\u003cbr\\u003eEating disorders (%)=%{z}\\u003cextra\\u003e\\u003c\\u002fextra\\u003e\",\"legendgroup\":\"Slovenia\",\"marker\":{\"color\":\"#FECB52\",\"opacity\":0.7,\"symbol\":\"circle\"},\"mode\":\"markers\",\"name\":\"Slovenia\",\"scene\":\"scene\",\"showlegend\":true,\"x\":[6.166837692],\"y\":[0.928187847],\"z\":[0.239636],\"type\":\"scatter3d\"},{\"hovertemplate\":\"Country Name=South Africa\\u003cbr\\u003eLife Ladder=%{x}\\u003cbr\\u003eSocial Support=%{y}\\u003cbr\\u003eEating disorders (%)=%{z}\\u003cextra\\u003e\\u003c\\u002fextra\\u003e\",\"legendgroup\":\"South Africa\",\"marker\":{\"color\":\"#636efa\",\"opacity\":0.7,\"symbol\":\"circle\"},\"mode\":\"markers\",\"name\":\"South Africa\",\"scene\":\"scene\",\"showlegend\":true,\"x\":[4.513655186],\"y\":[0.870313287],\"z\":[0.214718],\"type\":\"scatter3d\"},{\"hovertemplate\":\"Country Name=South Korea\\u003cbr\\u003eLife Ladder=%{x}\\u003cbr\\u003eSocial Support=%{y}\\u003cbr\\u003eEating disorders (%)=%{z}\\u003cextra\\u003e\\u003c\\u002fextra\\u003e\",\"legendgroup\":\"South Korea\",\"marker\":{\"color\":\"#EF553B\",\"opacity\":0.7,\"symbol\":\"circle\"},\"mode\":\"markers\",\"name\":\"South Korea\",\"scene\":\"scene\",\"showlegend\":true,\"x\":[5.873887062],\"y\":[0.806929946],\"z\":[0.417103],\"type\":\"scatter3d\"},{\"hovertemplate\":\"Country Name=Spain\\u003cbr\\u003eLife Ladder=%{x}\\u003cbr\\u003eSocial Support=%{y}\\u003cbr\\u003eEating disorders (%)=%{z}\\u003cextra\\u003e\\u003c\\u002fextra\\u003e\",\"legendgroup\":\"Spain\",\"marker\":{\"color\":\"#00cc96\",\"opacity\":0.7,\"symbol\":\"circle\"},\"mode\":\"markers\",\"name\":\"Spain\",\"scene\":\"scene\",\"showlegend\":true,\"x\":[6.230173111],\"y\":[0.903158188],\"z\":[0.730626],\"type\":\"scatter3d\"},{\"hovertemplate\":\"Country Name=Sri Lanka\\u003cbr\\u003eLife Ladder=%{x}\\u003cbr\\u003eSocial Support=%{y}\\u003cbr\\u003eEating disorders (%)=%{z}\\u003cextra\\u003e\\u003c\\u002fextra\\u003e\",\"legendgroup\":\"Sri Lanka\",\"marker\":{\"color\":\"#ab63fa\",\"opacity\":0.7,\"symbol\":\"circle\"},\"mode\":\"markers\",\"name\":\"Sri Lanka\",\"scene\":\"scene\",\"showlegend\":true,\"x\":[4.330945492],\"y\":[0.822770596],\"z\":[0.159144],\"type\":\"scatter3d\"},{\"hovertemplate\":\"Country Name=Sweden\\u003cbr\\u003eLife Ladder=%{x}\\u003cbr\\u003eSocial Support=%{y}\\u003cbr\\u003eEating disorders (%)=%{z}\\u003cextra\\u003e\\u003c\\u002fextra\\u003e\",\"legendgroup\":\"Sweden\",\"marker\":{\"color\":\"#FFA15A\",\"opacity\":0.7,\"symbol\":\"circle\"},\"mode\":\"markers\",\"name\":\"Sweden\",\"scene\":\"scene\",\"showlegend\":true,\"x\":[7.286804676],\"y\":[0.914016783],\"z\":[0.574608],\"type\":\"scatter3d\"},{\"hovertemplate\":\"Country Name=Switzerland\\u003cbr\\u003eLife Ladder=%{x}\\u003cbr\\u003eSocial Support=%{y}\\u003cbr\\u003eEating disorders (%)=%{z}\\u003cextra\\u003e\\u003c\\u002fextra\\u003e\",\"legendgroup\":\"Switzerland\",\"marker\":{\"color\":\"#19d3f3\",\"opacity\":0.7,\"symbol\":\"circle\"},\"mode\":\"markers\",\"name\":\"Switzerland\",\"scene\":\"scene\",\"showlegend\":true,\"x\":[7.473593235],\"y\":[0.949661374],\"z\":[0.573969],\"type\":\"scatter3d\"},{\"hovertemplate\":\"Country Name=Tajikistan\\u003cbr\\u003eLife Ladder=%{x}\\u003cbr\\u003eSocial Support=%{y}\\u003cbr\\u003eEating disorders (%)=%{z}\\u003cextra\\u003e\\u003c\\u002fextra\\u003e\",\"legendgroup\":\"Tajikistan\",\"marker\":{\"color\":\"#FF6692\",\"opacity\":0.7,\"symbol\":\"circle\"},\"mode\":\"markers\",\"name\":\"Tajikistan\",\"scene\":\"scene\",\"showlegend\":true,\"x\":[5.829234123],\"y\":[0.662693322],\"z\":[0.118226],\"type\":\"scatter3d\"},{\"hovertemplate\":\"Country Name=Tanzania\\u003cbr\\u003eLife Ladder=%{x}\\u003cbr\\u003eSocial Support=%{y}\\u003cbr\\u003eEating disorders (%)=%{z}\\u003cextra\\u003e\\u003c\\u002fextra\\u003e\",\"legendgroup\":\"Tanzania\",\"marker\":{\"color\":\"#B6E880\",\"opacity\":0.7,\"symbol\":\"circle\"},\"mode\":\"markers\",\"name\":\"Tanzania\",\"scene\":\"scene\",\"showlegend\":true,\"x\":[3.347121239],\"y\":[0.705010295],\"z\":[0.129857],\"type\":\"scatter3d\"},{\"hovertemplate\":\"Country Name=Thailand\\u003cbr\\u003eLife Ladder=%{x}\\u003cbr\\u003eSocial Support=%{y}\\u003cbr\\u003eEating disorders (%)=%{z}\\u003cextra\\u003e\\u003c\\u002fextra\\u003e\",\"legendgroup\":\"Thailand\",\"marker\":{\"color\":\"#FF97FF\",\"opacity\":0.7,\"symbol\":\"circle\"},\"mode\":\"markers\",\"name\":\"Thailand\",\"scene\":\"scene\",\"showlegend\":true,\"x\":[5.938895226],\"y\":[0.877268732],\"z\":[0.173202],\"type\":\"scatter3d\"},{\"hovertemplate\":\"Country Name=Togo\\u003cbr\\u003eLife Ladder=%{x}\\u003cbr\\u003eSocial Support=%{y}\\u003cbr\\u003eEating disorders (%)=%{z}\\u003cextra\\u003e\\u003c\\u002fextra\\u003e\",\"legendgroup\":\"Togo\",\"marker\":{\"color\":\"#FECB52\",\"opacity\":0.7,\"symbol\":\"circle\"},\"mode\":\"markers\",\"name\":\"Togo\",\"scene\":\"scene\",\"showlegend\":true,\"x\":[4.360805035],\"y\":[0.507805228],\"z\":[0.108107],\"type\":\"scatter3d\"},{\"hovertemplate\":\"Country Name=Tunisia\\u003cbr\\u003eLife Ladder=%{x}\\u003cbr\\u003eSocial Support=%{y}\\u003cbr\\u003eEating disorders (%)=%{z}\\u003cextra\\u003e\\u003c\\u002fextra\\u003e\",\"legendgroup\":\"Tunisia\",\"marker\":{\"color\":\"#636efa\",\"opacity\":0.7,\"symbol\":\"circle\"},\"mode\":\"markers\",\"name\":\"Tunisia\",\"scene\":\"scene\",\"showlegend\":true,\"x\":[4.124342918],\"y\":[0.717381597],\"z\":[0.200172],\"type\":\"scatter3d\"},{\"hovertemplate\":\"Country Name=Uganda\\u003cbr\\u003eLife Ladder=%{x}\\u003cbr\\u003eSocial Support=%{y}\\u003cbr\\u003eEating disorders (%)=%{z}\\u003cextra\\u003e\\u003c\\u002fextra\\u003e\",\"legendgroup\":\"Uganda\",\"marker\":{\"color\":\"#EF553B\",\"opacity\":0.7,\"symbol\":\"circle\"},\"mode\":\"markers\",\"name\":\"Uganda\",\"scene\":\"scene\",\"showlegend\":true,\"x\":[4.000516891],\"y\":[0.739956141],\"z\":[0.119309],\"type\":\"scatter3d\"},{\"hovertemplate\":\"Country Name=Ukraine\\u003cbr\\u003eLife Ladder=%{x}\\u003cbr\\u003eSocial Support=%{y}\\u003cbr\\u003eEating disorders (%)=%{z}\\u003cextra\\u003e\\u003c\\u002fextra\\u003e\",\"legendgroup\":\"Ukraine\",\"marker\":{\"color\":\"#00cc96\",\"opacity\":0.7,\"symbol\":\"circle\"},\"mode\":\"markers\",\"name\":\"Ukraine\",\"scene\":\"scene\",\"showlegend\":true,\"x\":[4.311067104],\"y\":[0.858324885],\"z\":[0.172715],\"type\":\"scatter3d\"},{\"hovertemplate\":\"Country Name=United Kingdom\\u003cbr\\u003eLife Ladder=%{x}\\u003cbr\\u003eSocial Support=%{y}\\u003cbr\\u003eEating disorders (%)=%{z}\\u003cextra\\u003e\\u003c\\u002fextra\\u003e\",\"legendgroup\":\"United Kingdom\",\"marker\":{\"color\":\"#ab63fa\",\"opacity\":0.7,\"symbol\":\"circle\"},\"mode\":\"markers\",\"name\":\"United Kingdom\",\"scene\":\"scene\",\"showlegend\":true,\"x\":[7.103273392],\"y\":[0.937495291],\"z\":[0.543054],\"type\":\"scatter3d\"},{\"hovertemplate\":\"Country Name=United States\\u003cbr\\u003eLife Ladder=%{x}\\u003cbr\\u003eSocial Support=%{y}\\u003cbr\\u003eEating disorders (%)=%{z}\\u003cextra\\u003e\\u003c\\u002fextra\\u003e\",\"legendgroup\":\"United States\",\"marker\":{\"color\":\"#FFA15A\",\"opacity\":0.7,\"symbol\":\"circle\"},\"mode\":\"markers\",\"name\":\"United States\",\"scene\":\"scene\",\"showlegend\":true,\"x\":[6.9917593],\"y\":[0.921002865],\"z\":[0.512844],\"type\":\"scatter3d\"},{\"hovertemplate\":\"Country Name=Uruguay\\u003cbr\\u003eLife Ladder=%{x}\\u003cbr\\u003eSocial Support=%{y}\\u003cbr\\u003eEating disorders (%)=%{z}\\u003cextra\\u003e\\u003c\\u002fextra\\u003e\",\"legendgroup\":\"Uruguay\",\"marker\":{\"color\":\"#19d3f3\",\"opacity\":0.7,\"symbol\":\"circle\"},\"mode\":\"markers\",\"name\":\"Uruguay\",\"scene\":\"scene\",\"showlegend\":true,\"x\":[6.336009979],\"y\":[0.91380167],\"z\":[0.405502],\"type\":\"scatter3d\"},{\"hovertemplate\":\"Country Name=Uzbekistan\\u003cbr\\u003eLife Ladder=%{x}\\u003cbr\\u003eSocial Support=%{y}\\u003cbr\\u003eEating disorders (%)=%{z}\\u003cextra\\u003e\\u003c\\u002fextra\\u003e\",\"legendgroup\":\"Uzbekistan\",\"marker\":{\"color\":\"#FF6692\",\"opacity\":0.7,\"symbol\":\"circle\"},\"mode\":\"markers\",\"name\":\"Uzbekistan\",\"scene\":\"scene\",\"showlegend\":true,\"x\":[6.421447754],\"y\":[0.942131102],\"z\":[0.153735],\"type\":\"scatter3d\"},{\"hovertemplate\":\"Country Name=Venezuela\\u003cbr\\u003eLife Ladder=%{x}\\u003cbr\\u003eSocial Support=%{y}\\u003cbr\\u003eEating disorders (%)=%{z}\\u003cextra\\u003e\\u003c\\u002fextra\\u003e\",\"legendgroup\":\"Venezuela\",\"marker\":{\"color\":\"#B6E880\",\"opacity\":0.7,\"symbol\":\"circle\"},\"mode\":\"markers\",\"name\":\"Venezuela\",\"scene\":\"scene\",\"showlegend\":true,\"x\":[5.070750713],\"y\":[0.895879328],\"z\":[0.28269],\"type\":\"scatter3d\"},{\"hovertemplate\":\"Country Name=Zambia\\u003cbr\\u003eLife Ladder=%{x}\\u003cbr\\u003eSocial Support=%{y}\\u003cbr\\u003eEating disorders (%)=%{z}\\u003cextra\\u003e\\u003c\\u002fextra\\u003e\",\"legendgroup\":\"Zambia\",\"marker\":{\"color\":\"#FF97FF\",\"opacity\":0.7,\"symbol\":\"circle\"},\"mode\":\"markers\",\"name\":\"Zambia\",\"scene\":\"scene\",\"showlegend\":true,\"x\":[3.932777405],\"y\":[0.74375391],\"z\":[0.142768],\"type\":\"scatter3d\"},{\"hovertemplate\":\"Country Name=Zimbabwe\\u003cbr\\u003eLife Ladder=%{x}\\u003cbr\\u003eSocial Support=%{y}\\u003cbr\\u003eEating disorders (%)=%{z}\\u003cextra\\u003e\\u003c\\u002fextra\\u003e\",\"legendgroup\":\"Zimbabwe\",\"marker\":{\"color\":\"#FECB52\",\"opacity\":0.7,\"symbol\":\"circle\"},\"mode\":\"markers\",\"name\":\"Zimbabwe\",\"scene\":\"scene\",\"showlegend\":true,\"x\":[3.63830018],\"y\":[0.754147053],\"z\":[0.124443],\"type\":\"scatter3d\"}],                        {\"template\":{\"data\":{\"histogram2dcontour\":[{\"type\":\"histogram2dcontour\",\"colorbar\":{\"outlinewidth\":0,\"ticks\":\"\"},\"colorscale\":[[0.0,\"#0d0887\"],[0.1111111111111111,\"#46039f\"],[0.2222222222222222,\"#7201a8\"],[0.3333333333333333,\"#9c179e\"],[0.4444444444444444,\"#bd3786\"],[0.5555555555555556,\"#d8576b\"],[0.6666666666666666,\"#ed7953\"],[0.7777777777777778,\"#fb9f3a\"],[0.8888888888888888,\"#fdca26\"],[1.0,\"#f0f921\"]]}],\"choropleth\":[{\"type\":\"choropleth\",\"colorbar\":{\"outlinewidth\":0,\"ticks\":\"\"}}],\"histogram2d\":[{\"type\":\"histogram2d\",\"colorbar\":{\"outlinewidth\":0,\"ticks\":\"\"},\"colorscale\":[[0.0,\"#0d0887\"],[0.1111111111111111,\"#46039f\"],[0.2222222222222222,\"#7201a8\"],[0.3333333333333333,\"#9c179e\"],[0.4444444444444444,\"#bd3786\"],[0.5555555555555556,\"#d8576b\"],[0.6666666666666666,\"#ed7953\"],[0.7777777777777778,\"#fb9f3a\"],[0.8888888888888888,\"#fdca26\"],[1.0,\"#f0f921\"]]}],\"heatmap\":[{\"type\":\"heatmap\",\"colorbar\":{\"outlinewidth\":0,\"ticks\":\"\"},\"colorscale\":[[0.0,\"#0d0887\"],[0.1111111111111111,\"#46039f\"],[0.2222222222222222,\"#7201a8\"],[0.3333333333333333,\"#9c179e\"],[0.4444444444444444,\"#bd3786\"],[0.5555555555555556,\"#d8576b\"],[0.6666666666666666,\"#ed7953\"],[0.7777777777777778,\"#fb9f3a\"],[0.8888888888888888,\"#fdca26\"],[1.0,\"#f0f921\"]]}],\"heatmapgl\":[{\"type\":\"heatmapgl\",\"colorbar\":{\"outlinewidth\":0,\"ticks\":\"\"},\"colorscale\":[[0.0,\"#0d0887\"],[0.1111111111111111,\"#46039f\"],[0.2222222222222222,\"#7201a8\"],[0.3333333333333333,\"#9c179e\"],[0.4444444444444444,\"#bd3786\"],[0.5555555555555556,\"#d8576b\"],[0.6666666666666666,\"#ed7953\"],[0.7777777777777778,\"#fb9f3a\"],[0.8888888888888888,\"#fdca26\"],[1.0,\"#f0f921\"]]}],\"contourcarpet\":[{\"type\":\"contourcarpet\",\"colorbar\":{\"outlinewidth\":0,\"ticks\":\"\"}}],\"contour\":[{\"type\":\"contour\",\"colorbar\":{\"outlinewidth\":0,\"ticks\":\"\"},\"colorscale\":[[0.0,\"#0d0887\"],[0.1111111111111111,\"#46039f\"],[0.2222222222222222,\"#7201a8\"],[0.3333333333333333,\"#9c179e\"],[0.4444444444444444,\"#bd3786\"],[0.5555555555555556,\"#d8576b\"],[0.6666666666666666,\"#ed7953\"],[0.7777777777777778,\"#fb9f3a\"],[0.8888888888888888,\"#fdca26\"],[1.0,\"#f0f921\"]]}],\"surface\":[{\"type\":\"surface\",\"colorbar\":{\"outlinewidth\":0,\"ticks\":\"\"},\"colorscale\":[[0.0,\"#0d0887\"],[0.1111111111111111,\"#46039f\"],[0.2222222222222222,\"#7201a8\"],[0.3333333333333333,\"#9c179e\"],[0.4444444444444444,\"#bd3786\"],[0.5555555555555556,\"#d8576b\"],[0.6666666666666666,\"#ed7953\"],[0.7777777777777778,\"#fb9f3a\"],[0.8888888888888888,\"#fdca26\"],[1.0,\"#f0f921\"]]}],\"mesh3d\":[{\"type\":\"mesh3d\",\"colorbar\":{\"outlinewidth\":0,\"ticks\":\"\"}}],\"scatter\":[{\"fillpattern\":{\"fillmode\":\"overlay\",\"size\":10,\"solidity\":0.2},\"type\":\"scatter\"}],\"parcoords\":[{\"type\":\"parcoords\",\"line\":{\"colorbar\":{\"outlinewidth\":0,\"ticks\":\"\"}}}],\"scatterpolargl\":[{\"type\":\"scatterpolargl\",\"marker\":{\"colorbar\":{\"outlinewidth\":0,\"ticks\":\"\"}}}],\"bar\":[{\"error_x\":{\"color\":\"#2a3f5f\"},\"error_y\":{\"color\":\"#2a3f5f\"},\"marker\":{\"line\":{\"color\":\"#E5ECF6\",\"width\":0.5},\"pattern\":{\"fillmode\":\"overlay\",\"size\":10,\"solidity\":0.2}},\"type\":\"bar\"}],\"scattergeo\":[{\"type\":\"scattergeo\",\"marker\":{\"colorbar\":{\"outlinewidth\":0,\"ticks\":\"\"}}}],\"scatterpolar\":[{\"type\":\"scatterpolar\",\"marker\":{\"colorbar\":{\"outlinewidth\":0,\"ticks\":\"\"}}}],\"histogram\":[{\"marker\":{\"pattern\":{\"fillmode\":\"overlay\",\"size\":10,\"solidity\":0.2}},\"type\":\"histogram\"}],\"scattergl\":[{\"type\":\"scattergl\",\"marker\":{\"colorbar\":{\"outlinewidth\":0,\"ticks\":\"\"}}}],\"scatter3d\":[{\"type\":\"scatter3d\",\"line\":{\"colorbar\":{\"outlinewidth\":0,\"ticks\":\"\"}},\"marker\":{\"colorbar\":{\"outlinewidth\":0,\"ticks\":\"\"}}}],\"scattermapbox\":[{\"type\":\"scattermapbox\",\"marker\":{\"colorbar\":{\"outlinewidth\":0,\"ticks\":\"\"}}}],\"scatterternary\":[{\"type\":\"scatterternary\",\"marker\":{\"colorbar\":{\"outlinewidth\":0,\"ticks\":\"\"}}}],\"scattercarpet\":[{\"type\":\"scattercarpet\",\"marker\":{\"colorbar\":{\"outlinewidth\":0,\"ticks\":\"\"}}}],\"carpet\":[{\"aaxis\":{\"endlinecolor\":\"#2a3f5f\",\"gridcolor\":\"white\",\"linecolor\":\"white\",\"minorgridcolor\":\"white\",\"startlinecolor\":\"#2a3f5f\"},\"baxis\":{\"endlinecolor\":\"#2a3f5f\",\"gridcolor\":\"white\",\"linecolor\":\"white\",\"minorgridcolor\":\"white\",\"startlinecolor\":\"#2a3f5f\"},\"type\":\"carpet\"}],\"table\":[{\"cells\":{\"fill\":{\"color\":\"#EBF0F8\"},\"line\":{\"color\":\"white\"}},\"header\":{\"fill\":{\"color\":\"#C8D4E3\"},\"line\":{\"color\":\"white\"}},\"type\":\"table\"}],\"barpolar\":[{\"marker\":{\"line\":{\"color\":\"#E5ECF6\",\"width\":0.5},\"pattern\":{\"fillmode\":\"overlay\",\"size\":10,\"solidity\":0.2}},\"type\":\"barpolar\"}],\"pie\":[{\"automargin\":true,\"type\":\"pie\"}]},\"layout\":{\"autotypenumbers\":\"strict\",\"colorway\":[\"#636efa\",\"#EF553B\",\"#00cc96\",\"#ab63fa\",\"#FFA15A\",\"#19d3f3\",\"#FF6692\",\"#B6E880\",\"#FF97FF\",\"#FECB52\"],\"font\":{\"color\":\"#2a3f5f\"},\"hovermode\":\"closest\",\"hoverlabel\":{\"align\":\"left\"},\"paper_bgcolor\":\"white\",\"plot_bgcolor\":\"#E5ECF6\",\"polar\":{\"bgcolor\":\"#E5ECF6\",\"angularaxis\":{\"gridcolor\":\"white\",\"linecolor\":\"white\",\"ticks\":\"\"},\"radialaxis\":{\"gridcolor\":\"white\",\"linecolor\":\"white\",\"ticks\":\"\"}},\"ternary\":{\"bgcolor\":\"#E5ECF6\",\"aaxis\":{\"gridcolor\":\"white\",\"linecolor\":\"white\",\"ticks\":\"\"},\"baxis\":{\"gridcolor\":\"white\",\"linecolor\":\"white\",\"ticks\":\"\"},\"caxis\":{\"gridcolor\":\"white\",\"linecolor\":\"white\",\"ticks\":\"\"}},\"coloraxis\":{\"colorbar\":{\"outlinewidth\":0,\"ticks\":\"\"}},\"colorscale\":{\"sequential\":[[0.0,\"#0d0887\"],[0.1111111111111111,\"#46039f\"],[0.2222222222222222,\"#7201a8\"],[0.3333333333333333,\"#9c179e\"],[0.4444444444444444,\"#bd3786\"],[0.5555555555555556,\"#d8576b\"],[0.6666666666666666,\"#ed7953\"],[0.7777777777777778,\"#fb9f3a\"],[0.8888888888888888,\"#fdca26\"],[1.0,\"#f0f921\"]],\"sequentialminus\":[[0.0,\"#0d0887\"],[0.1111111111111111,\"#46039f\"],[0.2222222222222222,\"#7201a8\"],[0.3333333333333333,\"#9c179e\"],[0.4444444444444444,\"#bd3786\"],[0.5555555555555556,\"#d8576b\"],[0.6666666666666666,\"#ed7953\"],[0.7777777777777778,\"#fb9f3a\"],[0.8888888888888888,\"#fdca26\"],[1.0,\"#f0f921\"]],\"diverging\":[[0,\"#8e0152\"],[0.1,\"#c51b7d\"],[0.2,\"#de77ae\"],[0.3,\"#f1b6da\"],[0.4,\"#fde0ef\"],[0.5,\"#f7f7f7\"],[0.6,\"#e6f5d0\"],[0.7,\"#b8e186\"],[0.8,\"#7fbc41\"],[0.9,\"#4d9221\"],[1,\"#276419\"]]},\"xaxis\":{\"gridcolor\":\"white\",\"linecolor\":\"white\",\"ticks\":\"\",\"title\":{\"standoff\":15},\"zerolinecolor\":\"white\",\"automargin\":true,\"zerolinewidth\":2},\"yaxis\":{\"gridcolor\":\"white\",\"linecolor\":\"white\",\"ticks\":\"\",\"title\":{\"standoff\":15},\"zerolinecolor\":\"white\",\"automargin\":true,\"zerolinewidth\":2},\"scene\":{\"xaxis\":{\"backgroundcolor\":\"#E5ECF6\",\"gridcolor\":\"white\",\"linecolor\":\"white\",\"showbackground\":true,\"ticks\":\"\",\"zerolinecolor\":\"white\",\"gridwidth\":2},\"yaxis\":{\"backgroundcolor\":\"#E5ECF6\",\"gridcolor\":\"white\",\"linecolor\":\"white\",\"showbackground\":true,\"ticks\":\"\",\"zerolinecolor\":\"white\",\"gridwidth\":2},\"zaxis\":{\"backgroundcolor\":\"#E5ECF6\",\"gridcolor\":\"white\",\"linecolor\":\"white\",\"showbackground\":true,\"ticks\":\"\",\"zerolinecolor\":\"white\",\"gridwidth\":2}},\"shapedefaults\":{\"line\":{\"color\":\"#2a3f5f\"}},\"annotationdefaults\":{\"arrowcolor\":\"#2a3f5f\",\"arrowhead\":0,\"arrowwidth\":1},\"geo\":{\"bgcolor\":\"white\",\"landcolor\":\"#E5ECF6\",\"subunitcolor\":\"white\",\"showland\":true,\"showlakes\":true,\"lakecolor\":\"white\"},\"title\":{\"x\":0.05},\"mapbox\":{\"style\":\"light\"}}},\"scene\":{\"domain\":{\"x\":[0.0,1.0],\"y\":[0.0,1.0]},\"xaxis\":{\"title\":{\"text\":\"Life Ladder\"}},\"yaxis\":{\"title\":{\"text\":\"Social Support\"}},\"zaxis\":{\"title\":{\"text\":\"Eating disorders (%)\"}}},\"legend\":{\"title\":{\"text\":\"Country Name\"},\"tracegroupgap\":0},\"margin\":{\"t\":60},\"title\":{\"text\":\"Relationship between Eating disorders, Social Support and life ladder per country\"}},                        {\"responsive\": true}                    ).then(function(){\n",
       "                            \n",
       "var gd = document.getElementById('d814f089-fe32-4775-bc24-922b12b3dc00');\n",
       "var x = new MutationObserver(function (mutations, observer) {{\n",
       "        var display = window.getComputedStyle(gd).display;\n",
       "        if (!display || display === 'none') {{\n",
       "            console.log([gd, 'removed!']);\n",
       "            Plotly.purge(gd);\n",
       "            observer.disconnect();\n",
       "        }}\n",
       "}});\n",
       "\n",
       "// Listen for the removal of the full notebook cells\n",
       "var notebookContainer = gd.closest('#notebook-container');\n",
       "if (notebookContainer) {{\n",
       "    x.observe(notebookContainer, {childList: true});\n",
       "}}\n",
       "\n",
       "// Listen for the clearing of the current output cell\n",
       "var outputEl = gd.closest('.output');\n",
       "if (outputEl) {{\n",
       "    x.observe(outputEl, {childList: true});\n",
       "}}\n",
       "\n",
       "                        })                };                });            </script>        </div>"
      ]
     },
     "metadata": {},
     "output_type": "display_data"
    }
   ],
   "source": [
    "scatter = px.scatter_3d(\n",
    "                       df,\n",
    "                       x= 'Life Ladder',\n",
    "                       y='Log GDP Per Capita',\n",
    "                       z='Schizophrenia (%)',\n",
    "                       color='Country Name',\n",
    "                       opacity= 0.7,\n",
    ")\n",
    "\n",
    "scatter.update_layout(\n",
    "    title='Relationship between Schizophrenia, GDP and life ladder per country'\n",
    ")\n",
    "\n",
    "scatter.show()\n",
    "\n",
    "\n",
    "\n",
    "\n",
    "\n",
    "\n",
    "scatter = px.scatter_3d(\n",
    "                       df,\n",
    "                       x= 'Life Ladder',\n",
    "                       y='Social Support',\n",
    "                       z='Eating disorders (%)',\n",
    "                       color='Country Name',\n",
    "                       opacity= 0.7,\n",
    ")\n",
    "\n",
    "scatter.update_layout(\n",
    "    title='Relationship between Eating disorders, Social Support and life ladder per country'\n",
    ")\n",
    "\n",
    "scatter.show()"
   ]
  },
  {
   "cell_type": "markdown",
   "id": "40ed385a-65a0-4935-9326-7c8c6ae1f324",
   "metadata": {
    "editable": true,
    "slideshow": {
     "slide_type": ""
    },
    "tags": []
   },
   "source": [
    "### 3.2 Perspective 2: There is no significant correlation between wealth and mental health.\n",
    "*<u>Argument 1: Countries with a higher GDP tend to have more mental health disorders like depression income/productivity and mental health.</u>*\n",
    "\n",
    "According to this figure, **NOG DOEN**"
   ]
  },
  {
   "cell_type": "code",
   "execution_count": 24,
   "id": "997be711-6627-40d7-a407-52170fd5306c",
   "metadata": {
    "editable": true,
    "slideshow": {
     "slide_type": ""
    },
    "tags": [
     "hide-input"
    ]
   },
   "outputs": [
    {
     "data": {
      "application/vnd.plotly.v1+json": {
       "config": {
        "plotlyServerURL": "https://plot.ly"
       },
       "data": [
        {
         "coloraxis": "coloraxis",
         "geo": "geo",
         "hovertemplate": "<b>%{hovertext}</b><br><br>Code=%{location}<br>Depression=%{z}<extra></extra>",
         "hovertext": [
          "Afghanistan",
          "Albania",
          "Argentina",
          "Armenia",
          "Australia",
          "Austria",
          "Azerbaijan",
          "Bangladesh",
          "Belarus",
          "Belgium",
          "Benin",
          "Bolivia",
          "Bosnia and Herzegovina",
          "Botswana",
          "Brazil",
          "Bulgaria",
          "Burkina Faso",
          "Cambodia",
          "Cameroon",
          "Canada",
          "Chad",
          "Chile",
          "Colombia",
          "Costa Rica",
          "Croatia",
          "Cyprus",
          "Denmark",
          "Dominican Republic",
          "Ecuador",
          "El Salvador",
          "Estonia",
          "Ethiopia",
          "Finland",
          "France",
          "Gabon",
          "Gambia",
          "Georgia",
          "Germany",
          "Ghana",
          "Greece",
          "Guatemala",
          "Guinea",
          "Haiti",
          "Honduras",
          "Hungary",
          "Iceland",
          "India",
          "Indonesia",
          "Iraq",
          "Ireland",
          "Israel",
          "Italy",
          "Jamaica",
          "Japan",
          "Kazakhstan",
          "Kenya",
          "Kyrgyzstan",
          "Laos",
          "Latvia",
          "Lebanon",
          "Lesotho",
          "Liberia",
          "Lithuania",
          "Luxembourg",
          "Madagascar",
          "Malawi",
          "Mali",
          "Malta",
          "Mauritania",
          "Mauritius",
          "Mexico",
          "Moldova",
          "Mongolia",
          "Montenegro",
          "Mozambique",
          "Myanmar",
          "Namibia",
          "Nepal",
          "Netherlands",
          "New Zealand",
          "Nicaragua",
          "Niger",
          "Nigeria",
          "Norway",
          "Pakistan",
          "Panama",
          "Paraguay",
          "Peru",
          "Philippines",
          "Poland",
          "Portugal",
          "Romania",
          "Russia",
          "Rwanda",
          "Senegal",
          "Serbia",
          "Sierra Leone",
          "Singapore",
          "Slovakia",
          "Slovenia",
          "South Africa",
          "South Korea",
          "Spain",
          "Sri Lanka",
          "Sweden",
          "Switzerland",
          "Tajikistan",
          "Tanzania",
          "Thailand",
          "Togo",
          "Tunisia",
          "Uganda",
          "Ukraine",
          "United Kingdom",
          "United States",
          "Uruguay",
          "Uzbekistan",
          "Venezuela",
          "Zambia",
          "Zimbabwe"
         ],
         "locations": [
          "AFG",
          "ALB",
          "ARG",
          "ARM",
          "AUS",
          "AUT",
          "AZE",
          "BGD",
          "BLR",
          "BEL",
          "BEN",
          "BOL",
          "BIH",
          "BWA",
          "BRA",
          "BGR",
          "BFA",
          "KHM",
          "CMR",
          "CAN",
          "TCD",
          "CHL",
          "COL",
          "CRI",
          "HRV",
          "CYP",
          "DNK",
          "DOM",
          "ECU",
          "SLV",
          "EST",
          "ETH",
          "FIN",
          "FRA",
          "GAB",
          "GMB",
          "GEO",
          "DEU",
          "GHA",
          "GRC",
          "GTM",
          "GIN",
          "HTI",
          "HND",
          "HUN",
          "ISL",
          "IND",
          "IDN",
          "IRQ",
          "IRL",
          "ISR",
          "ITA",
          "JAM",
          "JPN",
          "KAZ",
          "KEN",
          "KGZ",
          "LAO",
          "LVA",
          "LBN",
          "LSO",
          "LBR",
          "LTU",
          "LUX",
          "MDG",
          "MWI",
          "MLI",
          "MLT",
          "MRT",
          "MUS",
          "MEX",
          "MDA",
          "MNG",
          "MNE",
          "MOZ",
          "MMR",
          "NAM",
          "NPL",
          "NLD",
          "NZL",
          "NIC",
          "NER",
          "NGA",
          "NOR",
          "PAK",
          "PAN",
          "PRY",
          "PER",
          "PHL",
          "POL",
          "PRT",
          "ROU",
          "RUS",
          "RWA",
          "SEN",
          "SRB",
          "SLE",
          "SGP",
          "SVK",
          "SVN",
          "ZAF",
          "KOR",
          "ESP",
          "LKA",
          "SWE",
          "CHE",
          "TJK",
          "TZA",
          "THA",
          "TGO",
          "TUN",
          "UGA",
          "UKR",
          "GBR",
          "USA",
          "URY",
          "UZB",
          "VEN",
          "ZMB",
          "ZWE"
         ],
         "name": "",
         "type": "choropleth",
         "z": [
          4.136347,
          2.208414,
          3.665488,
          2.754583,
          4.623881,
          3.26097,
          2.592293,
          4.110611,
          4.022226,
          4.109186,
          3.629899,
          3.085905,
          2.31961,
          3.968129,
          3.297368,
          2.543141,
          3.694254,
          3.094945,
          3.745647,
          3.988792,
          3.874837,
          4.057723,
          2.196154,
          2.904788,
          2.779842,
          3.328111,
          3.291885,
          2.978523,
          2.977117,
          3.025887,
          3.848854,
          3.816266,
          4.792736,
          4.253807,
          4.049029,
          4.158517,
          2.797379,
          3.959866,
          3.396647,
          4.185864,
          3.216025,
          3.560933,
          2.957782,
          2.752301,
          2.765242,
          3.361665,
          3.529853,
          2.642736,
          3.891163,
          4.250921,
          3.832221,
          3.464256,
          2.592385,
          3.341565,
          3.511775,
          3.508419,
          3.053673,
          2.912431,
          3.499571,
          3.676734,
          5.636661,
          3.803038,
          4.143254,
          3.617719,
          3.708514,
          3.446137,
          3.00742,
          3.374137,
          3.094161,
          3.478524,
          2.788807,
          3.432549,
          3.525488,
          2.55864,
          3.901795,
          2.300982,
          3.45997,
          3.606939,
          4.026854,
          3.971265,
          2.854084,
          3.463055,
          3.917691,
          3.77191,
          3.33128,
          2.679025,
          2.95884,
          2.276321,
          2.765176,
          2.250472,
          4.421461,
          2.359174,
          3.707925,
          3.86945,
          3.370497,
          2.570068,
          3.581501,
          3.438271,
          2.401999,
          2.863278,
          3.745871,
          3.165684,
          3.538359,
          3.44333,
          4.487911,
          3.70806,
          2.563961,
          3.685748,
          3.085057,
          3.656725,
          3.915189,
          4.918028,
          4.071915,
          4.119524,
          4.83561,
          3.617574,
          2.886924,
          2.814584,
          3.641811,
          3.192789
         ]
        }
       ],
       "layout": {
        "autosize": true,
        "coloraxis": {
         "colorbar": {
          "title": {
           "text": "Depression"
          }
         },
         "colorscale": [
          [
           0,
           "#fde725"
          ],
          [
           0.1111111111111111,
           "#b5de2b"
          ],
          [
           0.2222222222222222,
           "#6ece58"
          ],
          [
           0.3333333333333333,
           "#35b779"
          ],
          [
           0.4444444444444444,
           "#1f9e89"
          ],
          [
           0.5555555555555556,
           "#26828e"
          ],
          [
           0.6666666666666666,
           "#31688e"
          ],
          [
           0.7777777777777778,
           "#3e4989"
          ],
          [
           0.8888888888888888,
           "#482878"
          ],
          [
           1,
           "#440154"
          ]
         ]
        },
        "geo": {
         "center": {
          "lat": -36.78073724321483,
          "lon": 151.52728804171616
         },
         "domain": {
          "x": [
           0,
           1
          ],
          "y": [
           0,
           1
          ]
         },
         "projection": {
          "rotation": {
           "lon": -208.47271195828384
          },
          "scale": 0.45754958406396445
         }
        },
        "legend": {
         "tracegroupgap": 0
        },
        "margin": {
         "t": 60
        },
        "template": {
         "data": {
          "bar": [
           {
            "error_x": {
             "color": "#2a3f5f"
            },
            "error_y": {
             "color": "#2a3f5f"
            },
            "marker": {
             "line": {
              "color": "#E5ECF6",
              "width": 0.5
             },
             "pattern": {
              "fillmode": "overlay",
              "size": 10,
              "solidity": 0.2
             }
            },
            "type": "bar"
           }
          ],
          "barpolar": [
           {
            "marker": {
             "line": {
              "color": "#E5ECF6",
              "width": 0.5
             },
             "pattern": {
              "fillmode": "overlay",
              "size": 10,
              "solidity": 0.2
             }
            },
            "type": "barpolar"
           }
          ],
          "carpet": [
           {
            "aaxis": {
             "endlinecolor": "#2a3f5f",
             "gridcolor": "white",
             "linecolor": "white",
             "minorgridcolor": "white",
             "startlinecolor": "#2a3f5f"
            },
            "baxis": {
             "endlinecolor": "#2a3f5f",
             "gridcolor": "white",
             "linecolor": "white",
             "minorgridcolor": "white",
             "startlinecolor": "#2a3f5f"
            },
            "type": "carpet"
           }
          ],
          "choropleth": [
           {
            "colorbar": {
             "outlinewidth": 0,
             "ticks": ""
            },
            "type": "choropleth"
           }
          ],
          "contour": [
           {
            "colorbar": {
             "outlinewidth": 0,
             "ticks": ""
            },
            "colorscale": [
             [
              0,
              "#0d0887"
             ],
             [
              0.1111111111111111,
              "#46039f"
             ],
             [
              0.2222222222222222,
              "#7201a8"
             ],
             [
              0.3333333333333333,
              "#9c179e"
             ],
             [
              0.4444444444444444,
              "#bd3786"
             ],
             [
              0.5555555555555556,
              "#d8576b"
             ],
             [
              0.6666666666666666,
              "#ed7953"
             ],
             [
              0.7777777777777778,
              "#fb9f3a"
             ],
             [
              0.8888888888888888,
              "#fdca26"
             ],
             [
              1,
              "#f0f921"
             ]
            ],
            "type": "contour"
           }
          ],
          "contourcarpet": [
           {
            "colorbar": {
             "outlinewidth": 0,
             "ticks": ""
            },
            "type": "contourcarpet"
           }
          ],
          "heatmap": [
           {
            "colorbar": {
             "outlinewidth": 0,
             "ticks": ""
            },
            "colorscale": [
             [
              0,
              "#0d0887"
             ],
             [
              0.1111111111111111,
              "#46039f"
             ],
             [
              0.2222222222222222,
              "#7201a8"
             ],
             [
              0.3333333333333333,
              "#9c179e"
             ],
             [
              0.4444444444444444,
              "#bd3786"
             ],
             [
              0.5555555555555556,
              "#d8576b"
             ],
             [
              0.6666666666666666,
              "#ed7953"
             ],
             [
              0.7777777777777778,
              "#fb9f3a"
             ],
             [
              0.8888888888888888,
              "#fdca26"
             ],
             [
              1,
              "#f0f921"
             ]
            ],
            "type": "heatmap"
           }
          ],
          "heatmapgl": [
           {
            "colorbar": {
             "outlinewidth": 0,
             "ticks": ""
            },
            "colorscale": [
             [
              0,
              "#0d0887"
             ],
             [
              0.1111111111111111,
              "#46039f"
             ],
             [
              0.2222222222222222,
              "#7201a8"
             ],
             [
              0.3333333333333333,
              "#9c179e"
             ],
             [
              0.4444444444444444,
              "#bd3786"
             ],
             [
              0.5555555555555556,
              "#d8576b"
             ],
             [
              0.6666666666666666,
              "#ed7953"
             ],
             [
              0.7777777777777778,
              "#fb9f3a"
             ],
             [
              0.8888888888888888,
              "#fdca26"
             ],
             [
              1,
              "#f0f921"
             ]
            ],
            "type": "heatmapgl"
           }
          ],
          "histogram": [
           {
            "marker": {
             "pattern": {
              "fillmode": "overlay",
              "size": 10,
              "solidity": 0.2
             }
            },
            "type": "histogram"
           }
          ],
          "histogram2d": [
           {
            "colorbar": {
             "outlinewidth": 0,
             "ticks": ""
            },
            "colorscale": [
             [
              0,
              "#0d0887"
             ],
             [
              0.1111111111111111,
              "#46039f"
             ],
             [
              0.2222222222222222,
              "#7201a8"
             ],
             [
              0.3333333333333333,
              "#9c179e"
             ],
             [
              0.4444444444444444,
              "#bd3786"
             ],
             [
              0.5555555555555556,
              "#d8576b"
             ],
             [
              0.6666666666666666,
              "#ed7953"
             ],
             [
              0.7777777777777778,
              "#fb9f3a"
             ],
             [
              0.8888888888888888,
              "#fdca26"
             ],
             [
              1,
              "#f0f921"
             ]
            ],
            "type": "histogram2d"
           }
          ],
          "histogram2dcontour": [
           {
            "colorbar": {
             "outlinewidth": 0,
             "ticks": ""
            },
            "colorscale": [
             [
              0,
              "#0d0887"
             ],
             [
              0.1111111111111111,
              "#46039f"
             ],
             [
              0.2222222222222222,
              "#7201a8"
             ],
             [
              0.3333333333333333,
              "#9c179e"
             ],
             [
              0.4444444444444444,
              "#bd3786"
             ],
             [
              0.5555555555555556,
              "#d8576b"
             ],
             [
              0.6666666666666666,
              "#ed7953"
             ],
             [
              0.7777777777777778,
              "#fb9f3a"
             ],
             [
              0.8888888888888888,
              "#fdca26"
             ],
             [
              1,
              "#f0f921"
             ]
            ],
            "type": "histogram2dcontour"
           }
          ],
          "mesh3d": [
           {
            "colorbar": {
             "outlinewidth": 0,
             "ticks": ""
            },
            "type": "mesh3d"
           }
          ],
          "parcoords": [
           {
            "line": {
             "colorbar": {
              "outlinewidth": 0,
              "ticks": ""
             }
            },
            "type": "parcoords"
           }
          ],
          "pie": [
           {
            "automargin": true,
            "type": "pie"
           }
          ],
          "scatter": [
           {
            "fillpattern": {
             "fillmode": "overlay",
             "size": 10,
             "solidity": 0.2
            },
            "type": "scatter"
           }
          ],
          "scatter3d": [
           {
            "line": {
             "colorbar": {
              "outlinewidth": 0,
              "ticks": ""
             }
            },
            "marker": {
             "colorbar": {
              "outlinewidth": 0,
              "ticks": ""
             }
            },
            "type": "scatter3d"
           }
          ],
          "scattercarpet": [
           {
            "marker": {
             "colorbar": {
              "outlinewidth": 0,
              "ticks": ""
             }
            },
            "type": "scattercarpet"
           }
          ],
          "scattergeo": [
           {
            "marker": {
             "colorbar": {
              "outlinewidth": 0,
              "ticks": ""
             }
            },
            "type": "scattergeo"
           }
          ],
          "scattergl": [
           {
            "marker": {
             "colorbar": {
              "outlinewidth": 0,
              "ticks": ""
             }
            },
            "type": "scattergl"
           }
          ],
          "scattermapbox": [
           {
            "marker": {
             "colorbar": {
              "outlinewidth": 0,
              "ticks": ""
             }
            },
            "type": "scattermapbox"
           }
          ],
          "scatterpolar": [
           {
            "marker": {
             "colorbar": {
              "outlinewidth": 0,
              "ticks": ""
             }
            },
            "type": "scatterpolar"
           }
          ],
          "scatterpolargl": [
           {
            "marker": {
             "colorbar": {
              "outlinewidth": 0,
              "ticks": ""
             }
            },
            "type": "scatterpolargl"
           }
          ],
          "scatterternary": [
           {
            "marker": {
             "colorbar": {
              "outlinewidth": 0,
              "ticks": ""
             }
            },
            "type": "scatterternary"
           }
          ],
          "surface": [
           {
            "colorbar": {
             "outlinewidth": 0,
             "ticks": ""
            },
            "colorscale": [
             [
              0,
              "#0d0887"
             ],
             [
              0.1111111111111111,
              "#46039f"
             ],
             [
              0.2222222222222222,
              "#7201a8"
             ],
             [
              0.3333333333333333,
              "#9c179e"
             ],
             [
              0.4444444444444444,
              "#bd3786"
             ],
             [
              0.5555555555555556,
              "#d8576b"
             ],
             [
              0.6666666666666666,
              "#ed7953"
             ],
             [
              0.7777777777777778,
              "#fb9f3a"
             ],
             [
              0.8888888888888888,
              "#fdca26"
             ],
             [
              1,
              "#f0f921"
             ]
            ],
            "type": "surface"
           }
          ],
          "table": [
           {
            "cells": {
             "fill": {
              "color": "#EBF0F8"
             },
             "line": {
              "color": "white"
             }
            },
            "header": {
             "fill": {
              "color": "#C8D4E3"
             },
             "line": {
              "color": "white"
             }
            },
            "type": "table"
           }
          ]
         },
         "layout": {
          "annotationdefaults": {
           "arrowcolor": "#2a3f5f",
           "arrowhead": 0,
           "arrowwidth": 1
          },
          "autotypenumbers": "strict",
          "coloraxis": {
           "colorbar": {
            "outlinewidth": 0,
            "ticks": ""
           }
          },
          "colorscale": {
           "diverging": [
            [
             0,
             "#8e0152"
            ],
            [
             0.1,
             "#c51b7d"
            ],
            [
             0.2,
             "#de77ae"
            ],
            [
             0.3,
             "#f1b6da"
            ],
            [
             0.4,
             "#fde0ef"
            ],
            [
             0.5,
             "#f7f7f7"
            ],
            [
             0.6,
             "#e6f5d0"
            ],
            [
             0.7,
             "#b8e186"
            ],
            [
             0.8,
             "#7fbc41"
            ],
            [
             0.9,
             "#4d9221"
            ],
            [
             1,
             "#276419"
            ]
           ],
           "sequential": [
            [
             0,
             "#0d0887"
            ],
            [
             0.1111111111111111,
             "#46039f"
            ],
            [
             0.2222222222222222,
             "#7201a8"
            ],
            [
             0.3333333333333333,
             "#9c179e"
            ],
            [
             0.4444444444444444,
             "#bd3786"
            ],
            [
             0.5555555555555556,
             "#d8576b"
            ],
            [
             0.6666666666666666,
             "#ed7953"
            ],
            [
             0.7777777777777778,
             "#fb9f3a"
            ],
            [
             0.8888888888888888,
             "#fdca26"
            ],
            [
             1,
             "#f0f921"
            ]
           ],
           "sequentialminus": [
            [
             0,
             "#0d0887"
            ],
            [
             0.1111111111111111,
             "#46039f"
            ],
            [
             0.2222222222222222,
             "#7201a8"
            ],
            [
             0.3333333333333333,
             "#9c179e"
            ],
            [
             0.4444444444444444,
             "#bd3786"
            ],
            [
             0.5555555555555556,
             "#d8576b"
            ],
            [
             0.6666666666666666,
             "#ed7953"
            ],
            [
             0.7777777777777778,
             "#fb9f3a"
            ],
            [
             0.8888888888888888,
             "#fdca26"
            ],
            [
             1,
             "#f0f921"
            ]
           ]
          },
          "colorway": [
           "#636efa",
           "#EF553B",
           "#00cc96",
           "#ab63fa",
           "#FFA15A",
           "#19d3f3",
           "#FF6692",
           "#B6E880",
           "#FF97FF",
           "#FECB52"
          ],
          "font": {
           "color": "#2a3f5f"
          },
          "geo": {
           "bgcolor": "white",
           "lakecolor": "white",
           "landcolor": "#E5ECF6",
           "showlakes": true,
           "showland": true,
           "subunitcolor": "white"
          },
          "hoverlabel": {
           "align": "left"
          },
          "hovermode": "closest",
          "mapbox": {
           "style": "light"
          },
          "paper_bgcolor": "white",
          "plot_bgcolor": "#E5ECF6",
          "polar": {
           "angularaxis": {
            "gridcolor": "white",
            "linecolor": "white",
            "ticks": ""
           },
           "bgcolor": "#E5ECF6",
           "radialaxis": {
            "gridcolor": "white",
            "linecolor": "white",
            "ticks": ""
           }
          },
          "scene": {
           "xaxis": {
            "backgroundcolor": "#E5ECF6",
            "gridcolor": "white",
            "gridwidth": 2,
            "linecolor": "white",
            "showbackground": true,
            "ticks": "",
            "zerolinecolor": "white"
           },
           "yaxis": {
            "backgroundcolor": "#E5ECF6",
            "gridcolor": "white",
            "gridwidth": 2,
            "linecolor": "white",
            "showbackground": true,
            "ticks": "",
            "zerolinecolor": "white"
           },
           "zaxis": {
            "backgroundcolor": "#E5ECF6",
            "gridcolor": "white",
            "gridwidth": 2,
            "linecolor": "white",
            "showbackground": true,
            "ticks": "",
            "zerolinecolor": "white"
           }
          },
          "shapedefaults": {
           "line": {
            "color": "#2a3f5f"
           }
          },
          "ternary": {
           "aaxis": {
            "gridcolor": "white",
            "linecolor": "white",
            "ticks": ""
           },
           "baxis": {
            "gridcolor": "white",
            "linecolor": "white",
            "ticks": ""
           },
           "bgcolor": "#E5ECF6",
           "caxis": {
            "gridcolor": "white",
            "linecolor": "white",
            "ticks": ""
           }
          },
          "title": {
           "x": 0.05
          },
          "xaxis": {
           "automargin": true,
           "gridcolor": "white",
           "linecolor": "white",
           "ticks": "",
           "title": {
            "standoff": 15
           },
           "zerolinecolor": "white",
           "zerolinewidth": 2
          },
          "yaxis": {
           "automargin": true,
           "gridcolor": "white",
           "linecolor": "white",
           "ticks": "",
           "title": {
            "standoff": 15
           },
           "zerolinecolor": "white",
           "zerolinewidth": 2
          }
         }
        },
        "title": {
         "text": "World mental health condition in terms of depression"
        }
       }
      },
      "text/html": [
       "<div>                            <div id=\"32248b08-bcd7-443d-abf0-65f8a70323fc\" class=\"plotly-graph-div\" style=\"height:600px; width:100%;\"></div>            <script type=\"text/javascript\">                require([\"plotly\"], function(Plotly) {                    window.PLOTLYENV=window.PLOTLYENV || {};                                    if (document.getElementById(\"32248b08-bcd7-443d-abf0-65f8a70323fc\")) {                    Plotly.newPlot(                        \"32248b08-bcd7-443d-abf0-65f8a70323fc\",                        [{\"coloraxis\":\"coloraxis\",\"geo\":\"geo\",\"hovertemplate\":\"\\u003cb\\u003e%{hovertext}\\u003c\\u002fb\\u003e\\u003cbr\\u003e\\u003cbr\\u003eCode=%{location}\\u003cbr\\u003eDepression=%{z}\\u003cextra\\u003e\\u003c\\u002fextra\\u003e\",\"hovertext\":[\"Afghanistan\",\"Albania\",\"Argentina\",\"Armenia\",\"Australia\",\"Austria\",\"Azerbaijan\",\"Bangladesh\",\"Belarus\",\"Belgium\",\"Benin\",\"Bolivia\",\"Bosnia and Herzegovina\",\"Botswana\",\"Brazil\",\"Bulgaria\",\"Burkina Faso\",\"Cambodia\",\"Cameroon\",\"Canada\",\"Chad\",\"Chile\",\"Colombia\",\"Costa Rica\",\"Croatia\",\"Cyprus\",\"Denmark\",\"Dominican Republic\",\"Ecuador\",\"El Salvador\",\"Estonia\",\"Ethiopia\",\"Finland\",\"France\",\"Gabon\",\"Gambia\",\"Georgia\",\"Germany\",\"Ghana\",\"Greece\",\"Guatemala\",\"Guinea\",\"Haiti\",\"Honduras\",\"Hungary\",\"Iceland\",\"India\",\"Indonesia\",\"Iraq\",\"Ireland\",\"Israel\",\"Italy\",\"Jamaica\",\"Japan\",\"Kazakhstan\",\"Kenya\",\"Kyrgyzstan\",\"Laos\",\"Latvia\",\"Lebanon\",\"Lesotho\",\"Liberia\",\"Lithuania\",\"Luxembourg\",\"Madagascar\",\"Malawi\",\"Mali\",\"Malta\",\"Mauritania\",\"Mauritius\",\"Mexico\",\"Moldova\",\"Mongolia\",\"Montenegro\",\"Mozambique\",\"Myanmar\",\"Namibia\",\"Nepal\",\"Netherlands\",\"New Zealand\",\"Nicaragua\",\"Niger\",\"Nigeria\",\"Norway\",\"Pakistan\",\"Panama\",\"Paraguay\",\"Peru\",\"Philippines\",\"Poland\",\"Portugal\",\"Romania\",\"Russia\",\"Rwanda\",\"Senegal\",\"Serbia\",\"Sierra Leone\",\"Singapore\",\"Slovakia\",\"Slovenia\",\"South Africa\",\"South Korea\",\"Spain\",\"Sri Lanka\",\"Sweden\",\"Switzerland\",\"Tajikistan\",\"Tanzania\",\"Thailand\",\"Togo\",\"Tunisia\",\"Uganda\",\"Ukraine\",\"United Kingdom\",\"United States\",\"Uruguay\",\"Uzbekistan\",\"Venezuela\",\"Zambia\",\"Zimbabwe\"],\"locations\":[\"AFG\",\"ALB\",\"ARG\",\"ARM\",\"AUS\",\"AUT\",\"AZE\",\"BGD\",\"BLR\",\"BEL\",\"BEN\",\"BOL\",\"BIH\",\"BWA\",\"BRA\",\"BGR\",\"BFA\",\"KHM\",\"CMR\",\"CAN\",\"TCD\",\"CHL\",\"COL\",\"CRI\",\"HRV\",\"CYP\",\"DNK\",\"DOM\",\"ECU\",\"SLV\",\"EST\",\"ETH\",\"FIN\",\"FRA\",\"GAB\",\"GMB\",\"GEO\",\"DEU\",\"GHA\",\"GRC\",\"GTM\",\"GIN\",\"HTI\",\"HND\",\"HUN\",\"ISL\",\"IND\",\"IDN\",\"IRQ\",\"IRL\",\"ISR\",\"ITA\",\"JAM\",\"JPN\",\"KAZ\",\"KEN\",\"KGZ\",\"LAO\",\"LVA\",\"LBN\",\"LSO\",\"LBR\",\"LTU\",\"LUX\",\"MDG\",\"MWI\",\"MLI\",\"MLT\",\"MRT\",\"MUS\",\"MEX\",\"MDA\",\"MNG\",\"MNE\",\"MOZ\",\"MMR\",\"NAM\",\"NPL\",\"NLD\",\"NZL\",\"NIC\",\"NER\",\"NGA\",\"NOR\",\"PAK\",\"PAN\",\"PRY\",\"PER\",\"PHL\",\"POL\",\"PRT\",\"ROU\",\"RUS\",\"RWA\",\"SEN\",\"SRB\",\"SLE\",\"SGP\",\"SVK\",\"SVN\",\"ZAF\",\"KOR\",\"ESP\",\"LKA\",\"SWE\",\"CHE\",\"TJK\",\"TZA\",\"THA\",\"TGO\",\"TUN\",\"UGA\",\"UKR\",\"GBR\",\"USA\",\"URY\",\"UZB\",\"VEN\",\"ZMB\",\"ZWE\"],\"name\":\"\",\"z\":[4.136347,2.208414,3.665488,2.754583,4.623881,3.26097,2.592293,4.110611,4.022226,4.109186,3.629899,3.085905,2.31961,3.968129,3.297368,2.543141,3.694254,3.094945,3.745647,3.988792,3.874837,4.057723,2.196154,2.904788,2.779842,3.328111,3.291885,2.978523,2.977117,3.025887,3.848854,3.816266,4.792736,4.253807,4.049029,4.158517,2.797379,3.959866,3.396647,4.185864,3.216025,3.560933,2.957782,2.752301,2.765242,3.361665,3.529853,2.642736,3.891163,4.250921,3.832221,3.464256,2.592385,3.341565,3.511775,3.508419,3.053673,2.912431,3.499571,3.676734,5.636661,3.803038,4.143254,3.617719,3.708514,3.446137,3.00742,3.374137,3.094161,3.478524,2.788807,3.432549,3.525488,2.55864,3.901795,2.300982,3.45997,3.606939,4.026854,3.971265,2.854084,3.463055,3.917691,3.77191,3.33128,2.679025,2.95884,2.276321,2.765176,2.250472,4.421461,2.359174,3.707925,3.86945,3.370497,2.570068,3.581501,3.438271,2.401999,2.863278,3.745871,3.165684,3.538359,3.44333,4.487911,3.70806,2.563961,3.685748,3.085057,3.656725,3.915189,4.918028,4.071915,4.119524,4.83561,3.617574,2.886924,2.814584,3.641811,3.192789],\"type\":\"choropleth\"}],                        {\"template\":{\"data\":{\"histogram2dcontour\":[{\"type\":\"histogram2dcontour\",\"colorbar\":{\"outlinewidth\":0,\"ticks\":\"\"},\"colorscale\":[[0.0,\"#0d0887\"],[0.1111111111111111,\"#46039f\"],[0.2222222222222222,\"#7201a8\"],[0.3333333333333333,\"#9c179e\"],[0.4444444444444444,\"#bd3786\"],[0.5555555555555556,\"#d8576b\"],[0.6666666666666666,\"#ed7953\"],[0.7777777777777778,\"#fb9f3a\"],[0.8888888888888888,\"#fdca26\"],[1.0,\"#f0f921\"]]}],\"choropleth\":[{\"type\":\"choropleth\",\"colorbar\":{\"outlinewidth\":0,\"ticks\":\"\"}}],\"histogram2d\":[{\"type\":\"histogram2d\",\"colorbar\":{\"outlinewidth\":0,\"ticks\":\"\"},\"colorscale\":[[0.0,\"#0d0887\"],[0.1111111111111111,\"#46039f\"],[0.2222222222222222,\"#7201a8\"],[0.3333333333333333,\"#9c179e\"],[0.4444444444444444,\"#bd3786\"],[0.5555555555555556,\"#d8576b\"],[0.6666666666666666,\"#ed7953\"],[0.7777777777777778,\"#fb9f3a\"],[0.8888888888888888,\"#fdca26\"],[1.0,\"#f0f921\"]]}],\"heatmap\":[{\"type\":\"heatmap\",\"colorbar\":{\"outlinewidth\":0,\"ticks\":\"\"},\"colorscale\":[[0.0,\"#0d0887\"],[0.1111111111111111,\"#46039f\"],[0.2222222222222222,\"#7201a8\"],[0.3333333333333333,\"#9c179e\"],[0.4444444444444444,\"#bd3786\"],[0.5555555555555556,\"#d8576b\"],[0.6666666666666666,\"#ed7953\"],[0.7777777777777778,\"#fb9f3a\"],[0.8888888888888888,\"#fdca26\"],[1.0,\"#f0f921\"]]}],\"heatmapgl\":[{\"type\":\"heatmapgl\",\"colorbar\":{\"outlinewidth\":0,\"ticks\":\"\"},\"colorscale\":[[0.0,\"#0d0887\"],[0.1111111111111111,\"#46039f\"],[0.2222222222222222,\"#7201a8\"],[0.3333333333333333,\"#9c179e\"],[0.4444444444444444,\"#bd3786\"],[0.5555555555555556,\"#d8576b\"],[0.6666666666666666,\"#ed7953\"],[0.7777777777777778,\"#fb9f3a\"],[0.8888888888888888,\"#fdca26\"],[1.0,\"#f0f921\"]]}],\"contourcarpet\":[{\"type\":\"contourcarpet\",\"colorbar\":{\"outlinewidth\":0,\"ticks\":\"\"}}],\"contour\":[{\"type\":\"contour\",\"colorbar\":{\"outlinewidth\":0,\"ticks\":\"\"},\"colorscale\":[[0.0,\"#0d0887\"],[0.1111111111111111,\"#46039f\"],[0.2222222222222222,\"#7201a8\"],[0.3333333333333333,\"#9c179e\"],[0.4444444444444444,\"#bd3786\"],[0.5555555555555556,\"#d8576b\"],[0.6666666666666666,\"#ed7953\"],[0.7777777777777778,\"#fb9f3a\"],[0.8888888888888888,\"#fdca26\"],[1.0,\"#f0f921\"]]}],\"surface\":[{\"type\":\"surface\",\"colorbar\":{\"outlinewidth\":0,\"ticks\":\"\"},\"colorscale\":[[0.0,\"#0d0887\"],[0.1111111111111111,\"#46039f\"],[0.2222222222222222,\"#7201a8\"],[0.3333333333333333,\"#9c179e\"],[0.4444444444444444,\"#bd3786\"],[0.5555555555555556,\"#d8576b\"],[0.6666666666666666,\"#ed7953\"],[0.7777777777777778,\"#fb9f3a\"],[0.8888888888888888,\"#fdca26\"],[1.0,\"#f0f921\"]]}],\"mesh3d\":[{\"type\":\"mesh3d\",\"colorbar\":{\"outlinewidth\":0,\"ticks\":\"\"}}],\"scatter\":[{\"fillpattern\":{\"fillmode\":\"overlay\",\"size\":10,\"solidity\":0.2},\"type\":\"scatter\"}],\"parcoords\":[{\"type\":\"parcoords\",\"line\":{\"colorbar\":{\"outlinewidth\":0,\"ticks\":\"\"}}}],\"scatterpolargl\":[{\"type\":\"scatterpolargl\",\"marker\":{\"colorbar\":{\"outlinewidth\":0,\"ticks\":\"\"}}}],\"bar\":[{\"error_x\":{\"color\":\"#2a3f5f\"},\"error_y\":{\"color\":\"#2a3f5f\"},\"marker\":{\"line\":{\"color\":\"#E5ECF6\",\"width\":0.5},\"pattern\":{\"fillmode\":\"overlay\",\"size\":10,\"solidity\":0.2}},\"type\":\"bar\"}],\"scattergeo\":[{\"type\":\"scattergeo\",\"marker\":{\"colorbar\":{\"outlinewidth\":0,\"ticks\":\"\"}}}],\"scatterpolar\":[{\"type\":\"scatterpolar\",\"marker\":{\"colorbar\":{\"outlinewidth\":0,\"ticks\":\"\"}}}],\"histogram\":[{\"marker\":{\"pattern\":{\"fillmode\":\"overlay\",\"size\":10,\"solidity\":0.2}},\"type\":\"histogram\"}],\"scattergl\":[{\"type\":\"scattergl\",\"marker\":{\"colorbar\":{\"outlinewidth\":0,\"ticks\":\"\"}}}],\"scatter3d\":[{\"type\":\"scatter3d\",\"line\":{\"colorbar\":{\"outlinewidth\":0,\"ticks\":\"\"}},\"marker\":{\"colorbar\":{\"outlinewidth\":0,\"ticks\":\"\"}}}],\"scattermapbox\":[{\"type\":\"scattermapbox\",\"marker\":{\"colorbar\":{\"outlinewidth\":0,\"ticks\":\"\"}}}],\"scatterternary\":[{\"type\":\"scatterternary\",\"marker\":{\"colorbar\":{\"outlinewidth\":0,\"ticks\":\"\"}}}],\"scattercarpet\":[{\"type\":\"scattercarpet\",\"marker\":{\"colorbar\":{\"outlinewidth\":0,\"ticks\":\"\"}}}],\"carpet\":[{\"aaxis\":{\"endlinecolor\":\"#2a3f5f\",\"gridcolor\":\"white\",\"linecolor\":\"white\",\"minorgridcolor\":\"white\",\"startlinecolor\":\"#2a3f5f\"},\"baxis\":{\"endlinecolor\":\"#2a3f5f\",\"gridcolor\":\"white\",\"linecolor\":\"white\",\"minorgridcolor\":\"white\",\"startlinecolor\":\"#2a3f5f\"},\"type\":\"carpet\"}],\"table\":[{\"cells\":{\"fill\":{\"color\":\"#EBF0F8\"},\"line\":{\"color\":\"white\"}},\"header\":{\"fill\":{\"color\":\"#C8D4E3\"},\"line\":{\"color\":\"white\"}},\"type\":\"table\"}],\"barpolar\":[{\"marker\":{\"line\":{\"color\":\"#E5ECF6\",\"width\":0.5},\"pattern\":{\"fillmode\":\"overlay\",\"size\":10,\"solidity\":0.2}},\"type\":\"barpolar\"}],\"pie\":[{\"automargin\":true,\"type\":\"pie\"}]},\"layout\":{\"autotypenumbers\":\"strict\",\"colorway\":[\"#636efa\",\"#EF553B\",\"#00cc96\",\"#ab63fa\",\"#FFA15A\",\"#19d3f3\",\"#FF6692\",\"#B6E880\",\"#FF97FF\",\"#FECB52\"],\"font\":{\"color\":\"#2a3f5f\"},\"hovermode\":\"closest\",\"hoverlabel\":{\"align\":\"left\"},\"paper_bgcolor\":\"white\",\"plot_bgcolor\":\"#E5ECF6\",\"polar\":{\"bgcolor\":\"#E5ECF6\",\"angularaxis\":{\"gridcolor\":\"white\",\"linecolor\":\"white\",\"ticks\":\"\"},\"radialaxis\":{\"gridcolor\":\"white\",\"linecolor\":\"white\",\"ticks\":\"\"}},\"ternary\":{\"bgcolor\":\"#E5ECF6\",\"aaxis\":{\"gridcolor\":\"white\",\"linecolor\":\"white\",\"ticks\":\"\"},\"baxis\":{\"gridcolor\":\"white\",\"linecolor\":\"white\",\"ticks\":\"\"},\"caxis\":{\"gridcolor\":\"white\",\"linecolor\":\"white\",\"ticks\":\"\"}},\"coloraxis\":{\"colorbar\":{\"outlinewidth\":0,\"ticks\":\"\"}},\"colorscale\":{\"sequential\":[[0.0,\"#0d0887\"],[0.1111111111111111,\"#46039f\"],[0.2222222222222222,\"#7201a8\"],[0.3333333333333333,\"#9c179e\"],[0.4444444444444444,\"#bd3786\"],[0.5555555555555556,\"#d8576b\"],[0.6666666666666666,\"#ed7953\"],[0.7777777777777778,\"#fb9f3a\"],[0.8888888888888888,\"#fdca26\"],[1.0,\"#f0f921\"]],\"sequentialminus\":[[0.0,\"#0d0887\"],[0.1111111111111111,\"#46039f\"],[0.2222222222222222,\"#7201a8\"],[0.3333333333333333,\"#9c179e\"],[0.4444444444444444,\"#bd3786\"],[0.5555555555555556,\"#d8576b\"],[0.6666666666666666,\"#ed7953\"],[0.7777777777777778,\"#fb9f3a\"],[0.8888888888888888,\"#fdca26\"],[1.0,\"#f0f921\"]],\"diverging\":[[0,\"#8e0152\"],[0.1,\"#c51b7d\"],[0.2,\"#de77ae\"],[0.3,\"#f1b6da\"],[0.4,\"#fde0ef\"],[0.5,\"#f7f7f7\"],[0.6,\"#e6f5d0\"],[0.7,\"#b8e186\"],[0.8,\"#7fbc41\"],[0.9,\"#4d9221\"],[1,\"#276419\"]]},\"xaxis\":{\"gridcolor\":\"white\",\"linecolor\":\"white\",\"ticks\":\"\",\"title\":{\"standoff\":15},\"zerolinecolor\":\"white\",\"automargin\":true,\"zerolinewidth\":2},\"yaxis\":{\"gridcolor\":\"white\",\"linecolor\":\"white\",\"ticks\":\"\",\"title\":{\"standoff\":15},\"zerolinecolor\":\"white\",\"automargin\":true,\"zerolinewidth\":2},\"scene\":{\"xaxis\":{\"backgroundcolor\":\"#E5ECF6\",\"gridcolor\":\"white\",\"linecolor\":\"white\",\"showbackground\":true,\"ticks\":\"\",\"zerolinecolor\":\"white\",\"gridwidth\":2},\"yaxis\":{\"backgroundcolor\":\"#E5ECF6\",\"gridcolor\":\"white\",\"linecolor\":\"white\",\"showbackground\":true,\"ticks\":\"\",\"zerolinecolor\":\"white\",\"gridwidth\":2},\"zaxis\":{\"backgroundcolor\":\"#E5ECF6\",\"gridcolor\":\"white\",\"linecolor\":\"white\",\"showbackground\":true,\"ticks\":\"\",\"zerolinecolor\":\"white\",\"gridwidth\":2}},\"shapedefaults\":{\"line\":{\"color\":\"#2a3f5f\"}},\"annotationdefaults\":{\"arrowcolor\":\"#2a3f5f\",\"arrowhead\":0,\"arrowwidth\":1},\"geo\":{\"bgcolor\":\"white\",\"landcolor\":\"#E5ECF6\",\"subunitcolor\":\"white\",\"showland\":true,\"showlakes\":true,\"lakecolor\":\"white\"},\"title\":{\"x\":0.05},\"mapbox\":{\"style\":\"light\"}}},\"geo\":{\"domain\":{\"x\":[0.0,1.0],\"y\":[0.0,1.0]},\"center\":{}},\"coloraxis\":{\"colorbar\":{\"title\":{\"text\":\"Depression\"}},\"colorscale\":[[0.0,\"#fde725\"],[0.1111111111111111,\"#b5de2b\"],[0.2222222222222222,\"#6ece58\"],[0.3333333333333333,\"#35b779\"],[0.4444444444444444,\"#1f9e89\"],[0.5555555555555556,\"#26828e\"],[0.6666666666666666,\"#31688e\"],[0.7777777777777778,\"#3e4989\"],[0.8888888888888888,\"#482878\"],[1.0,\"#440154\"]]},\"legend\":{\"tracegroupgap\":0},\"margin\":{\"t\":60},\"title\":{\"text\":\"World mental health condition in terms of depression\"},\"height\":600},                        {\"responsive\": true}                    ).then(function(){\n",
       "                            \n",
       "var gd = document.getElementById('32248b08-bcd7-443d-abf0-65f8a70323fc');\n",
       "var x = new MutationObserver(function (mutations, observer) {{\n",
       "        var display = window.getComputedStyle(gd).display;\n",
       "        if (!display || display === 'none') {{\n",
       "            console.log([gd, 'removed!']);\n",
       "            Plotly.purge(gd);\n",
       "            observer.disconnect();\n",
       "        }}\n",
       "}});\n",
       "\n",
       "// Listen for the removal of the full notebook cells\n",
       "var notebookContainer = gd.closest('#notebook-container');\n",
       "if (notebookContainer) {{\n",
       "    x.observe(notebookContainer, {childList: true});\n",
       "}}\n",
       "\n",
       "// Listen for the clearing of the current output cell\n",
       "var outputEl = gd.closest('.output');\n",
       "if (outputEl) {{\n",
       "    x.observe(outputEl, {childList: true});\n",
       "}}\n",
       "\n",
       "                        })                };                });            </script>        </div>"
      ]
     },
     "metadata": {},
     "output_type": "display_data"
    }
   ],
   "source": [
    "#displays the world's depression as a gradiant world map\n",
    "fig = px.choropleth(\n",
    "                    df,\n",
    "                    locations='Code',\n",
    "                    color='Depression (%)',\n",
    "                    hover_name='Country Name',\n",
    "                    color_continuous_scale='Viridis_r',\n",
    "                    labels={'Depression (%)': 'Depression'},\n",
    "                    )\n",
    "\n",
    "fig.update_layout(\n",
    "    title='World mental health condition in terms of depression',\n",
    "    height=600\n",
    ")\n",
    "\n",
    "fig.show()"
   ]
  },
  {
   "cell_type": "code",
   "execution_count": 25,
   "id": "87aad754-c398-46db-958c-bc6355dd3fc3",
   "metadata": {
    "editable": true,
    "slideshow": {
     "slide_type": ""
    },
    "tags": [
     "hide-input"
    ]
   },
   "outputs": [
    {
     "data": {
      "application/vnd.plotly.v1+json": {
       "config": {
        "plotlyServerURL": "https://plot.ly"
       },
       "data": [
        {
         "hovertemplate": "Country Name=Afghanistan<br>Log GDP Per Capita=%{x}<br>Depression (%)=%{y}<extra></extra>",
         "legendgroup": "Afghanistan",
         "marker": {
          "color": "#636efa",
          "symbol": "circle"
         },
         "mode": "markers",
         "name": "Afghanistan",
         "orientation": "v",
         "showlegend": true,
         "type": "scatter",
         "x": [
          7.647830486
         ],
         "xaxis": "x",
         "y": [
          4.136347
         ],
         "yaxis": "y"
        },
        {
         "hovertemplate": "Country Name=Albania<br>Log GDP Per Capita=%{x}<br>Depression (%)=%{y}<extra></extra>",
         "legendgroup": "Albania",
         "marker": {
          "color": "#EF553B",
          "symbol": "circle"
         },
         "mode": "markers",
         "name": "Albania",
         "orientation": "v",
         "showlegend": true,
         "type": "scatter",
         "x": [
          9.455109596
         ],
         "xaxis": "x",
         "y": [
          2.208414
         ],
         "yaxis": "y"
        },
        {
         "hovertemplate": "Country Name=Argentina<br>Log GDP Per Capita=%{x}<br>Depression (%)=%{y}<extra></extra>",
         "legendgroup": "Argentina",
         "marker": {
          "color": "#00cc96",
          "symbol": "circle"
         },
         "mode": "markers",
         "name": "Argentina",
         "orientation": "v",
         "showlegend": true,
         "type": "scatter",
         "x": [
          10.06888008
         ],
         "xaxis": "x",
         "y": [
          3.665488
         ],
         "yaxis": "y"
        },
        {
         "hovertemplate": "Country Name=Armenia<br>Log GDP Per Capita=%{x}<br>Depression (%)=%{y}<extra></extra>",
         "legendgroup": "Armenia",
         "marker": {
          "color": "#ab63fa",
          "symbol": "circle"
         },
         "mode": "markers",
         "name": "Armenia",
         "orientation": "v",
         "showlegend": true,
         "type": "scatter",
         "x": [
          9.434254646
         ],
         "xaxis": "x",
         "y": [
          2.754583
         ],
         "yaxis": "y"
        },
        {
         "hovertemplate": "Country Name=Australia<br>Log GDP Per Capita=%{x}<br>Depression (%)=%{y}<extra></extra>",
         "legendgroup": "Australia",
         "marker": {
          "color": "#FFA15A",
          "symbol": "circle"
         },
         "mode": "markers",
         "name": "Australia",
         "orientation": "v",
         "showlegend": true,
         "type": "scatter",
         "x": [
          10.78726006
         ],
         "xaxis": "x",
         "y": [
          4.623881
         ],
         "yaxis": "y"
        },
        {
         "hovertemplate": "Country Name=Austria<br>Log GDP Per Capita=%{x}<br>Depression (%)=%{y}<extra></extra>",
         "legendgroup": "Austria",
         "marker": {
          "color": "#19d3f3",
          "symbol": "circle"
         },
         "mode": "markers",
         "name": "Austria",
         "orientation": "v",
         "showlegend": true,
         "type": "scatter",
         "x": [
          10.89993763
         ],
         "xaxis": "x",
         "y": [
          3.26097
         ],
         "yaxis": "y"
        },
        {
         "hovertemplate": "Country Name=Azerbaijan<br>Log GDP Per Capita=%{x}<br>Depression (%)=%{y}<extra></extra>",
         "legendgroup": "Azerbaijan",
         "marker": {
          "color": "#FF6692",
          "symbol": "circle"
         },
         "mode": "markers",
         "name": "Azerbaijan",
         "orientation": "v",
         "showlegend": true,
         "type": "scatter",
         "x": [
          9.555447578
         ],
         "xaxis": "x",
         "y": [
          2.592293
         ],
         "yaxis": "y"
        },
        {
         "hovertemplate": "Country Name=Bangladesh<br>Log GDP Per Capita=%{x}<br>Depression (%)=%{y}<extra></extra>",
         "legendgroup": "Bangladesh",
         "marker": {
          "color": "#B6E880",
          "symbol": "circle"
         },
         "mode": "markers",
         "name": "Bangladesh",
         "orientation": "v",
         "showlegend": true,
         "type": "scatter",
         "x": [
          8.482762337
         ],
         "xaxis": "x",
         "y": [
          4.110611
         ],
         "yaxis": "y"
        },
        {
         "hovertemplate": "Country Name=Belarus<br>Log GDP Per Capita=%{x}<br>Depression (%)=%{y}<extra></extra>",
         "legendgroup": "Belarus",
         "marker": {
          "color": "#FF97FF",
          "symbol": "circle"
         },
         "mode": "markers",
         "name": "Belarus",
         "orientation": "v",
         "showlegend": true,
         "type": "scatter",
         "x": [
          9.817717552
         ],
         "xaxis": "x",
         "y": [
          4.022226
         ],
         "yaxis": "y"
        },
        {
         "hovertemplate": "Country Name=Belgium<br>Log GDP Per Capita=%{x}<br>Depression (%)=%{y}<extra></extra>",
         "legendgroup": "Belgium",
         "marker": {
          "color": "#FECB52",
          "symbol": "circle"
         },
         "mode": "markers",
         "name": "Belgium",
         "orientation": "v",
         "showlegend": true,
         "type": "scatter",
         "x": [
          10.82858467
         ],
         "xaxis": "x",
         "y": [
          4.109186
         ],
         "yaxis": "y"
        },
        {
         "hovertemplate": "Country Name=Benin<br>Log GDP Per Capita=%{x}<br>Depression (%)=%{y}<extra></extra>",
         "legendgroup": "Benin",
         "marker": {
          "color": "#636efa",
          "symbol": "circle"
         },
         "mode": "markers",
         "name": "Benin",
         "orientation": "v",
         "showlegend": true,
         "type": "scatter",
         "x": [
          7.984066486
         ],
         "xaxis": "x",
         "y": [
          3.629899
         ],
         "yaxis": "y"
        },
        {
         "hovertemplate": "Country Name=Bolivia<br>Log GDP Per Capita=%{x}<br>Depression (%)=%{y}<extra></extra>",
         "legendgroup": "Bolivia",
         "marker": {
          "color": "#EF553B",
          "symbol": "circle"
         },
         "mode": "markers",
         "name": "Bolivia",
         "orientation": "v",
         "showlegend": true,
         "type": "scatter",
         "x": [
          9.017354012
         ],
         "xaxis": "x",
         "y": [
          3.085905
         ],
         "yaxis": "y"
        },
        {
         "hovertemplate": "Country Name=Bosnia and Herzegovina<br>Log GDP Per Capita=%{x}<br>Depression (%)=%{y}<extra></extra>",
         "legendgroup": "Bosnia and Herzegovina",
         "marker": {
          "color": "#00cc96",
          "symbol": "circle"
         },
         "mode": "markers",
         "name": "Bosnia and Herzegovina",
         "orientation": "v",
         "showlegend": true,
         "type": "scatter",
         "x": [
          9.503191948
         ],
         "xaxis": "x",
         "y": [
          2.31961
         ],
         "yaxis": "y"
        },
        {
         "hovertemplate": "Country Name=Botswana<br>Log GDP Per Capita=%{x}<br>Depression (%)=%{y}<extra></extra>",
         "legendgroup": "Botswana",
         "marker": {
          "color": "#ab63fa",
          "symbol": "circle"
         },
         "mode": "markers",
         "name": "Botswana",
         "orientation": "v",
         "showlegend": true,
         "type": "scatter",
         "x": [
          9.592658043
         ],
         "xaxis": "x",
         "y": [
          3.968129
         ],
         "yaxis": "y"
        },
        {
         "hovertemplate": "Country Name=Brazil<br>Log GDP Per Capita=%{x}<br>Depression (%)=%{y}<extra></extra>",
         "legendgroup": "Brazil",
         "marker": {
          "color": "#FFA15A",
          "symbol": "circle"
         },
         "mode": "markers",
         "name": "Brazil",
         "orientation": "v",
         "showlegend": true,
         "type": "scatter",
         "x": [
          9.580375671
         ],
         "xaxis": "x",
         "y": [
          3.297368
         ],
         "yaxis": "y"
        },
        {
         "hovertemplate": "Country Name=Bulgaria<br>Log GDP Per Capita=%{x}<br>Depression (%)=%{y}<extra></extra>",
         "legendgroup": "Bulgaria",
         "marker": {
          "color": "#19d3f3",
          "symbol": "circle"
         },
         "mode": "markers",
         "name": "Bulgaria",
         "orientation": "v",
         "showlegend": true,
         "type": "scatter",
         "x": [
          9.974589348
         ],
         "xaxis": "x",
         "y": [
          2.543141
         ],
         "yaxis": "y"
        },
        {
         "hovertemplate": "Country Name=Burkina Faso<br>Log GDP Per Capita=%{x}<br>Depression (%)=%{y}<extra></extra>",
         "legendgroup": "Burkina Faso",
         "marker": {
          "color": "#FF6692",
          "symbol": "circle"
         },
         "mode": "markers",
         "name": "Burkina Faso",
         "orientation": "v",
         "showlegend": true,
         "type": "scatter",
         "x": [
          7.589920044
         ],
         "xaxis": "x",
         "y": [
          3.694254
         ],
         "yaxis": "y"
        },
        {
         "hovertemplate": "Country Name=Cambodia<br>Log GDP Per Capita=%{x}<br>Depression (%)=%{y}<extra></extra>",
         "legendgroup": "Cambodia",
         "marker": {
          "color": "#B6E880",
          "symbol": "circle"
         },
         "mode": "markers",
         "name": "Cambodia",
         "orientation": "v",
         "showlegend": true,
         "type": "scatter",
         "x": [
          8.287207603
         ],
         "xaxis": "x",
         "y": [
          3.094945
         ],
         "yaxis": "y"
        },
        {
         "hovertemplate": "Country Name=Cameroon<br>Log GDP Per Capita=%{x}<br>Depression (%)=%{y}<extra></extra>",
         "legendgroup": "Cameroon",
         "marker": {
          "color": "#FF97FF",
          "symbol": "circle"
         },
         "mode": "markers",
         "name": "Cameroon",
         "orientation": "v",
         "showlegend": true,
         "type": "scatter",
         "x": [
          8.21367836
         ],
         "xaxis": "x",
         "y": [
          3.745647
         ],
         "yaxis": "y"
        },
        {
         "hovertemplate": "Country Name=Canada<br>Log GDP Per Capita=%{x}<br>Depression (%)=%{y}<extra></extra>",
         "legendgroup": "Canada",
         "marker": {
          "color": "#FECB52",
          "symbol": "circle"
         },
         "mode": "markers",
         "name": "Canada",
         "orientation": "v",
         "showlegend": true,
         "type": "scatter",
         "x": [
          10.78554249
         ],
         "xaxis": "x",
         "y": [
          3.988792
         ],
         "yaxis": "y"
        },
        {
         "hovertemplate": "Country Name=Chad<br>Log GDP Per Capita=%{x}<br>Depression (%)=%{y}<extra></extra>",
         "legendgroup": "Chad",
         "marker": {
          "color": "#636efa",
          "symbol": "circle"
         },
         "mode": "markers",
         "name": "Chad",
         "orientation": "v",
         "showlegend": true,
         "type": "scatter",
         "x": [
          7.365028381
         ],
         "xaxis": "x",
         "y": [
          3.874837
         ],
         "yaxis": "y"
        },
        {
         "hovertemplate": "Country Name=Chile<br>Log GDP Per Capita=%{x}<br>Depression (%)=%{y}<extra></extra>",
         "legendgroup": "Chile",
         "marker": {
          "color": "#EF553B",
          "symbol": "circle"
         },
         "mode": "markers",
         "name": "Chile",
         "orientation": "v",
         "showlegend": true,
         "type": "scatter",
         "x": [
          10.10834122
         ],
         "xaxis": "x",
         "y": [
          4.057723
         ],
         "yaxis": "y"
        },
        {
         "hovertemplate": "Country Name=Colombia<br>Log GDP Per Capita=%{x}<br>Depression (%)=%{y}<extra></extra>",
         "legendgroup": "Colombia",
         "marker": {
          "color": "#00cc96",
          "symbol": "circle"
         },
         "mode": "markers",
         "name": "Colombia",
         "orientation": "v",
         "showlegend": true,
         "type": "scatter",
         "x": [
          9.570453644
         ],
         "xaxis": "x",
         "y": [
          2.196154
         ],
         "yaxis": "y"
        },
        {
         "hovertemplate": "Country Name=Costa Rica<br>Log GDP Per Capita=%{x}<br>Depression (%)=%{y}<extra></extra>",
         "legendgroup": "Costa Rica",
         "marker": {
          "color": "#ab63fa",
          "symbol": "circle"
         },
         "mode": "markers",
         "name": "Costa Rica",
         "orientation": "v",
         "showlegend": true,
         "type": "scatter",
         "x": [
          9.911863327
         ],
         "xaxis": "x",
         "y": [
          2.904788
         ],
         "yaxis": "y"
        },
        {
         "hovertemplate": "Country Name=Croatia<br>Log GDP Per Capita=%{x}<br>Depression (%)=%{y}<extra></extra>",
         "legendgroup": "Croatia",
         "marker": {
          "color": "#FFA15A",
          "symbol": "circle"
         },
         "mode": "markers",
         "name": "Croatia",
         "orientation": "v",
         "showlegend": true,
         "type": "scatter",
         "x": [
          10.21140671
         ],
         "xaxis": "x",
         "y": [
          2.779842
         ],
         "yaxis": "y"
        },
        {
         "hovertemplate": "Country Name=Cyprus<br>Log GDP Per Capita=%{x}<br>Depression (%)=%{y}<extra></extra>",
         "legendgroup": "Cyprus",
         "marker": {
          "color": "#19d3f3",
          "symbol": "circle"
         },
         "mode": "markers",
         "name": "Cyprus",
         "orientation": "v",
         "showlegend": true,
         "type": "scatter",
         "x": [
          10.55638504
         ],
         "xaxis": "x",
         "y": [
          3.328111
         ],
         "yaxis": "y"
        },
        {
         "hovertemplate": "Country Name=Denmark<br>Log GDP Per Capita=%{x}<br>Depression (%)=%{y}<extra></extra>",
         "legendgroup": "Denmark",
         "marker": {
          "color": "#FF6692",
          "symbol": "circle"
         },
         "mode": "markers",
         "name": "Denmark",
         "orientation": "v",
         "showlegend": true,
         "type": "scatter",
         "x": [
          10.92155266
         ],
         "xaxis": "x",
         "y": [
          3.291885
         ],
         "yaxis": "y"
        },
        {
         "hovertemplate": "Country Name=Dominican Republic<br>Log GDP Per Capita=%{x}<br>Depression (%)=%{y}<extra></extra>",
         "legendgroup": "Dominican Republic",
         "marker": {
          "color": "#B6E880",
          "symbol": "circle"
         },
         "mode": "markers",
         "name": "Dominican Republic",
         "orientation": "v",
         "showlegend": true,
         "type": "scatter",
         "x": [
          9.712601662
         ],
         "xaxis": "x",
         "y": [
          2.978523
         ],
         "yaxis": "y"
        },
        {
         "hovertemplate": "Country Name=Ecuador<br>Log GDP Per Capita=%{x}<br>Depression (%)=%{y}<extra></extra>",
         "legendgroup": "Ecuador",
         "marker": {
          "color": "#FF97FF",
          "symbol": "circle"
         },
         "mode": "markers",
         "name": "Ecuador",
         "orientation": "v",
         "showlegend": true,
         "type": "scatter",
         "x": [
          9.365584373
         ],
         "xaxis": "x",
         "y": [
          2.977117
         ],
         "yaxis": "y"
        },
        {
         "hovertemplate": "Country Name=El Salvador<br>Log GDP Per Capita=%{x}<br>Depression (%)=%{y}<extra></extra>",
         "legendgroup": "El Salvador",
         "marker": {
          "color": "#FECB52",
          "symbol": "circle"
         },
         "mode": "markers",
         "name": "El Salvador",
         "orientation": "v",
         "showlegend": true,
         "type": "scatter",
         "x": [
          9.061598778
         ],
         "xaxis": "x",
         "y": [
          3.025887
         ],
         "yaxis": "y"
        },
        {
         "hovertemplate": "Country Name=Estonia<br>Log GDP Per Capita=%{x}<br>Depression (%)=%{y}<extra></extra>",
         "legendgroup": "Estonia",
         "marker": {
          "color": "#636efa",
          "symbol": "circle"
         },
         "mode": "markers",
         "name": "Estonia",
         "orientation": "v",
         "showlegend": true,
         "type": "scatter",
         "x": [
          10.42886448
         ],
         "xaxis": "x",
         "y": [
          3.848854
         ],
         "yaxis": "y"
        },
        {
         "hovertemplate": "Country Name=Ethiopia<br>Log GDP Per Capita=%{x}<br>Depression (%)=%{y}<extra></extra>",
         "legendgroup": "Ethiopia",
         "marker": {
          "color": "#EF553B",
          "symbol": "circle"
         },
         "mode": "markers",
         "name": "Ethiopia",
         "orientation": "v",
         "showlegend": true,
         "type": "scatter",
         "x": [
          7.59486866
         ],
         "xaxis": "x",
         "y": [
          3.816266
         ],
         "yaxis": "y"
        },
        {
         "hovertemplate": "Country Name=Finland<br>Log GDP Per Capita=%{x}<br>Depression (%)=%{y}<extra></extra>",
         "legendgroup": "Finland",
         "marker": {
          "color": "#00cc96",
          "symbol": "circle"
         },
         "mode": "markers",
         "name": "Finland",
         "orientation": "v",
         "showlegend": true,
         "type": "scatter",
         "x": [
          10.7699604
         ],
         "xaxis": "x",
         "y": [
          4.792736
         ],
         "yaxis": "y"
        },
        {
         "hovertemplate": "Country Name=France<br>Log GDP Per Capita=%{x}<br>Depression (%)=%{y}<extra></extra>",
         "legendgroup": "France",
         "marker": {
          "color": "#ab63fa",
          "symbol": "circle"
         },
         "mode": "markers",
         "name": "France",
         "orientation": "v",
         "showlegend": true,
         "type": "scatter",
         "x": [
          10.70497513
         ],
         "xaxis": "x",
         "y": [
          4.253807
         ],
         "yaxis": "y"
        },
        {
         "hovertemplate": "Country Name=Gabon<br>Log GDP Per Capita=%{x}<br>Depression (%)=%{y}<extra></extra>",
         "legendgroup": "Gabon",
         "marker": {
          "color": "#FFA15A",
          "symbol": "circle"
         },
         "mode": "markers",
         "name": "Gabon",
         "orientation": "v",
         "showlegend": true,
         "type": "scatter",
         "x": [
          9.580394745
         ],
         "xaxis": "x",
         "y": [
          4.049029
         ],
         "yaxis": "y"
        },
        {
         "hovertemplate": "Country Name=Gambia<br>Log GDP Per Capita=%{x}<br>Depression (%)=%{y}<extra></extra>",
         "legendgroup": "Gambia",
         "marker": {
          "color": "#19d3f3",
          "symbol": "circle"
         },
         "mode": "markers",
         "name": "Gambia",
         "orientation": "v",
         "showlegend": true,
         "type": "scatter",
         "x": [
          7.563740253
         ],
         "xaxis": "x",
         "y": [
          4.158517
         ],
         "yaxis": "y"
        },
        {
         "hovertemplate": "Country Name=Georgia<br>Log GDP Per Capita=%{x}<br>Depression (%)=%{y}<extra></extra>",
         "legendgroup": "Georgia",
         "marker": {
          "color": "#FF6692",
          "symbol": "circle"
         },
         "mode": "markers",
         "name": "Georgia",
         "orientation": "v",
         "showlegend": true,
         "type": "scatter",
         "x": [
          9.517067909
         ],
         "xaxis": "x",
         "y": [
          2.797379
         ],
         "yaxis": "y"
        },
        {
         "hovertemplate": "Country Name=Germany<br>Log GDP Per Capita=%{x}<br>Depression (%)=%{y}<extra></extra>",
         "legendgroup": "Germany",
         "marker": {
          "color": "#B6E880",
          "symbol": "circle"
         },
         "mode": "markers",
         "name": "Germany",
         "orientation": "v",
         "showlegend": true,
         "type": "scatter",
         "x": [
          10.87939453
         ],
         "xaxis": "x",
         "y": [
          3.959866
         ],
         "yaxis": "y"
        },
        {
         "hovertemplate": "Country Name=Ghana<br>Log GDP Per Capita=%{x}<br>Depression (%)=%{y}<extra></extra>",
         "legendgroup": "Ghana",
         "marker": {
          "color": "#FF97FF",
          "symbol": "circle"
         },
         "mode": "markers",
         "name": "Ghana",
         "orientation": "v",
         "showlegend": true,
         "type": "scatter",
         "x": [
          8.503006935
         ],
         "xaxis": "x",
         "y": [
          3.396647
         ],
         "yaxis": "y"
        },
        {
         "hovertemplate": "Country Name=Greece<br>Log GDP Per Capita=%{x}<br>Depression (%)=%{y}<extra></extra>",
         "legendgroup": "Greece",
         "marker": {
          "color": "#FECB52",
          "symbol": "circle"
         },
         "mode": "markers",
         "name": "Greece",
         "orientation": "v",
         "showlegend": true,
         "type": "scatter",
         "x": [
          10.26133156
         ],
         "xaxis": "x",
         "y": [
          4.185864
         ],
         "yaxis": "y"
        },
        {
         "hovertemplate": "Country Name=Guatemala<br>Log GDP Per Capita=%{x}<br>Depression (%)=%{y}<extra></extra>",
         "legendgroup": "Guatemala",
         "marker": {
          "color": "#636efa",
          "symbol": "circle"
         },
         "mode": "markers",
         "name": "Guatemala",
         "orientation": "v",
         "showlegend": true,
         "type": "scatter",
         "x": [
          9.026683807
         ],
         "xaxis": "x",
         "y": [
          3.216025
         ],
         "yaxis": "y"
        },
        {
         "hovertemplate": "Country Name=Guinea<br>Log GDP Per Capita=%{x}<br>Depression (%)=%{y}<extra></extra>",
         "legendgroup": "Guinea",
         "marker": {
          "color": "#EF553B",
          "symbol": "circle"
         },
         "mode": "markers",
         "name": "Guinea",
         "orientation": "v",
         "showlegend": true,
         "type": "scatter",
         "x": [
          7.776358128
         ],
         "xaxis": "x",
         "y": [
          3.560933
         ],
         "yaxis": "y"
        },
        {
         "hovertemplate": "Country Name=Haiti<br>Log GDP Per Capita=%{x}<br>Depression (%)=%{y}<extra></extra>",
         "legendgroup": "Haiti",
         "marker": {
          "color": "#00cc96",
          "symbol": "circle"
         },
         "mode": "markers",
         "name": "Haiti",
         "orientation": "v",
         "showlegend": true,
         "type": "scatter",
         "x": [
          8.067083359
         ],
         "xaxis": "x",
         "y": [
          2.957782
         ],
         "yaxis": "y"
        },
        {
         "hovertemplate": "Country Name=Honduras<br>Log GDP Per Capita=%{x}<br>Depression (%)=%{y}<extra></extra>",
         "legendgroup": "Honduras",
         "marker": {
          "color": "#ab63fa",
          "symbol": "circle"
         },
         "mode": "markers",
         "name": "Honduras",
         "orientation": "v",
         "showlegend": true,
         "type": "scatter",
         "x": [
          8.602948189
         ],
         "xaxis": "x",
         "y": [
          2.752301
         ],
         "yaxis": "y"
        },
        {
         "hovertemplate": "Country Name=Hungary<br>Log GDP Per Capita=%{x}<br>Depression (%)=%{y}<extra></extra>",
         "legendgroup": "Hungary",
         "marker": {
          "color": "#FFA15A",
          "symbol": "circle"
         },
         "mode": "markers",
         "name": "Hungary",
         "orientation": "v",
         "showlegend": true,
         "type": "scatter",
         "x": [
          10.29218388
         ],
         "xaxis": "x",
         "y": [
          2.765242
         ],
         "yaxis": "y"
        },
        {
         "hovertemplate": "Country Name=Iceland<br>Log GDP Per Capita=%{x}<br>Depression (%)=%{y}<extra></extra>",
         "legendgroup": "Iceland",
         "marker": {
          "color": "#19d3f3",
          "symbol": "circle"
         },
         "mode": "markers",
         "name": "Iceland",
         "orientation": "v",
         "showlegend": true,
         "type": "scatter",
         "x": [
          10.92663097
         ],
         "xaxis": "x",
         "y": [
          3.361665
         ],
         "yaxis": "y"
        },
        {
         "hovertemplate": "Country Name=India<br>Log GDP Per Capita=%{x}<br>Depression (%)=%{y}<extra></extra>",
         "legendgroup": "India",
         "marker": {
          "color": "#FF6692",
          "symbol": "circle"
         },
         "mode": "markers",
         "name": "India",
         "orientation": "v",
         "showlegend": true,
         "type": "scatter",
         "x": [
          8.718020439
         ],
         "xaxis": "x",
         "y": [
          3.529853
         ],
         "yaxis": "y"
        },
        {
         "hovertemplate": "Country Name=Indonesia<br>Log GDP Per Capita=%{x}<br>Depression (%)=%{y}<extra></extra>",
         "legendgroup": "Indonesia",
         "marker": {
          "color": "#B6E880",
          "symbol": "circle"
         },
         "mode": "markers",
         "name": "Indonesia",
         "orientation": "v",
         "showlegend": true,
         "type": "scatter",
         "x": [
          9.300356865
         ],
         "xaxis": "x",
         "y": [
          2.642736
         ],
         "yaxis": "y"
        },
        {
         "hovertemplate": "Country Name=Iraq<br>Log GDP Per Capita=%{x}<br>Depression (%)=%{y}<extra></extra>",
         "legendgroup": "Iraq",
         "marker": {
          "color": "#FF97FF",
          "symbol": "circle"
         },
         "mode": "markers",
         "name": "Iraq",
         "orientation": "v",
         "showlegend": true,
         "type": "scatter",
         "x": [
          9.208023071
         ],
         "xaxis": "x",
         "y": [
          3.891163
         ],
         "yaxis": "y"
        },
        {
         "hovertemplate": "Country Name=Ireland<br>Log GDP Per Capita=%{x}<br>Depression (%)=%{y}<extra></extra>",
         "legendgroup": "Ireland",
         "marker": {
          "color": "#FECB52",
          "symbol": "circle"
         },
         "mode": "markers",
         "name": "Ireland",
         "orientation": "v",
         "showlegend": true,
         "type": "scatter",
         "x": [
          11.26124382
         ],
         "xaxis": "x",
         "y": [
          4.250921
         ],
         "yaxis": "y"
        },
        {
         "hovertemplate": "Country Name=Israel<br>Log GDP Per Capita=%{x}<br>Depression (%)=%{y}<extra></extra>",
         "legendgroup": "Israel",
         "marker": {
          "color": "#636efa",
          "symbol": "circle"
         },
         "mode": "markers",
         "name": "Israel",
         "orientation": "v",
         "showlegend": true,
         "type": "scatter",
         "x": [
          10.57442188
         ],
         "xaxis": "x",
         "y": [
          3.832221
         ],
         "yaxis": "y"
        },
        {
         "hovertemplate": "Country Name=Italy<br>Log GDP Per Capita=%{x}<br>Depression (%)=%{y}<extra></extra>",
         "legendgroup": "Italy",
         "marker": {
          "color": "#EF553B",
          "symbol": "circle"
         },
         "mode": "markers",
         "name": "Italy",
         "orientation": "v",
         "showlegend": true,
         "type": "scatter",
         "x": [
          10.63540173
         ],
         "xaxis": "x",
         "y": [
          3.464256
         ],
         "yaxis": "y"
        },
        {
         "hovertemplate": "Country Name=Jamaica<br>Log GDP Per Capita=%{x}<br>Depression (%)=%{y}<extra></extra>",
         "legendgroup": "Jamaica",
         "marker": {
          "color": "#00cc96",
          "symbol": "circle"
         },
         "mode": "markers",
         "name": "Jamaica",
         "orientation": "v",
         "showlegend": true,
         "type": "scatter",
         "x": [
          9.208796501
         ],
         "xaxis": "x",
         "y": [
          2.592385
         ],
         "yaxis": "y"
        },
        {
         "hovertemplate": "Country Name=Japan<br>Log GDP Per Capita=%{x}<br>Depression (%)=%{y}<extra></extra>",
         "legendgroup": "Japan",
         "marker": {
          "color": "#ab63fa",
          "symbol": "circle"
         },
         "mode": "markers",
         "name": "Japan",
         "orientation": "v",
         "showlegend": true,
         "type": "scatter",
         "x": [
          10.63210392
         ],
         "xaxis": "x",
         "y": [
          3.341565
         ],
         "yaxis": "y"
        },
        {
         "hovertemplate": "Country Name=Kazakhstan<br>Log GDP Per Capita=%{x}<br>Depression (%)=%{y}<extra></extra>",
         "legendgroup": "Kazakhstan",
         "marker": {
          "color": "#FFA15A",
          "symbol": "circle"
         },
         "mode": "markers",
         "name": "Kazakhstan",
         "orientation": "v",
         "showlegend": true,
         "type": "scatter",
         "x": [
          10.12113476
         ],
         "xaxis": "x",
         "y": [
          3.511775
         ],
         "yaxis": "y"
        },
        {
         "hovertemplate": "Country Name=Kenya<br>Log GDP Per Capita=%{x}<br>Depression (%)=%{y}<extra></extra>",
         "legendgroup": "Kenya",
         "marker": {
          "color": "#19d3f3",
          "symbol": "circle"
         },
         "mode": "markers",
         "name": "Kenya",
         "orientation": "v",
         "showlegend": true,
         "type": "scatter",
         "x": [
          8.369367599
         ],
         "xaxis": "x",
         "y": [
          3.508419
         ],
         "yaxis": "y"
        },
        {
         "hovertemplate": "Country Name=Kyrgyzstan<br>Log GDP Per Capita=%{x}<br>Depression (%)=%{y}<extra></extra>",
         "legendgroup": "Kyrgyzstan",
         "marker": {
          "color": "#FF6692",
          "symbol": "circle"
         },
         "mode": "markers",
         "name": "Kyrgyzstan",
         "orientation": "v",
         "showlegend": true,
         "type": "scatter",
         "x": [
          8.526488304
         ],
         "xaxis": "x",
         "y": [
          3.053673
         ],
         "yaxis": "y"
        },
        {
         "hovertemplate": "Country Name=Laos<br>Log GDP Per Capita=%{x}<br>Depression (%)=%{y}<extra></extra>",
         "legendgroup": "Laos",
         "marker": {
          "color": "#B6E880",
          "symbol": "circle"
         },
         "mode": "markers",
         "name": "Laos",
         "orientation": "v",
         "showlegend": true,
         "type": "scatter",
         "x": [
          8.88339901
         ],
         "xaxis": "x",
         "y": [
          2.912431
         ],
         "yaxis": "y"
        },
        {
         "hovertemplate": "Country Name=Latvia<br>Log GDP Per Capita=%{x}<br>Depression (%)=%{y}<extra></extra>",
         "legendgroup": "Latvia",
         "marker": {
          "color": "#FF97FF",
          "symbol": "circle"
         },
         "mode": "markers",
         "name": "Latvia",
         "orientation": "v",
         "showlegend": true,
         "type": "scatter",
         "x": [
          10.263731
         ],
         "xaxis": "x",
         "y": [
          3.499571
         ],
         "yaxis": "y"
        },
        {
         "hovertemplate": "Country Name=Lebanon<br>Log GDP Per Capita=%{x}<br>Depression (%)=%{y}<extra></extra>",
         "legendgroup": "Lebanon",
         "marker": {
          "color": "#FECB52",
          "symbol": "circle"
         },
         "mode": "markers",
         "name": "Lebanon",
         "orientation": "v",
         "showlegend": true,
         "type": "scatter",
         "x": [
          9.787406921
         ],
         "xaxis": "x",
         "y": [
          3.676734
         ],
         "yaxis": "y"
        },
        {
         "hovertemplate": "Country Name=Lesotho<br>Log GDP Per Capita=%{x}<br>Depression (%)=%{y}<extra></extra>",
         "legendgroup": "Lesotho",
         "marker": {
          "color": "#636efa",
          "symbol": "circle"
         },
         "mode": "markers",
         "name": "Lesotho",
         "orientation": "v",
         "showlegend": true,
         "type": "scatter",
         "x": [
          7.852320194
         ],
         "xaxis": "x",
         "y": [
          5.636661
         ],
         "yaxis": "y"
        },
        {
         "hovertemplate": "Country Name=Liberia<br>Log GDP Per Capita=%{x}<br>Depression (%)=%{y}<extra></extra>",
         "legendgroup": "Liberia",
         "marker": {
          "color": "#EF553B",
          "symbol": "circle"
         },
         "mode": "markers",
         "name": "Liberia",
         "orientation": "v",
         "showlegend": true,
         "type": "scatter",
         "x": [
          7.335249901
         ],
         "xaxis": "x",
         "y": [
          3.803038
         ],
         "yaxis": "y"
        },
        {
         "hovertemplate": "Country Name=Lithuania<br>Log GDP Per Capita=%{x}<br>Depression (%)=%{y}<extra></extra>",
         "legendgroup": "Lithuania",
         "marker": {
          "color": "#00cc96",
          "symbol": "circle"
         },
         "mode": "markers",
         "name": "Lithuania",
         "orientation": "v",
         "showlegend": true,
         "type": "scatter",
         "x": [
          10.42708778
         ],
         "xaxis": "x",
         "y": [
          4.143254
         ],
         "yaxis": "y"
        },
        {
         "hovertemplate": "Country Name=Luxembourg<br>Log GDP Per Capita=%{x}<br>Depression (%)=%{y}<extra></extra>",
         "legendgroup": "Luxembourg",
         "marker": {
          "color": "#ab63fa",
          "symbol": "circle"
         },
         "mode": "markers",
         "name": "Luxembourg",
         "orientation": "v",
         "showlegend": true,
         "type": "scatter",
         "x": [
          11.65256405
         ],
         "xaxis": "x",
         "y": [
          3.617719
         ],
         "yaxis": "y"
        },
        {
         "hovertemplate": "Country Name=Madagascar<br>Log GDP Per Capita=%{x}<br>Depression (%)=%{y}<extra></extra>",
         "legendgroup": "Madagascar",
         "marker": {
          "color": "#FFA15A",
          "symbol": "circle"
         },
         "mode": "markers",
         "name": "Madagascar",
         "orientation": "v",
         "showlegend": true,
         "type": "scatter",
         "x": [
          7.344820023
         ],
         "xaxis": "x",
         "y": [
          3.708514
         ],
         "yaxis": "y"
        },
        {
         "hovertemplate": "Country Name=Malawi<br>Log GDP Per Capita=%{x}<br>Depression (%)=%{y}<extra></extra>",
         "legendgroup": "Malawi",
         "marker": {
          "color": "#19d3f3",
          "symbol": "circle"
         },
         "mode": "markers",
         "name": "Malawi",
         "orientation": "v",
         "showlegend": true,
         "type": "scatter",
         "x": [
          7.282608032
         ],
         "xaxis": "x",
         "y": [
          3.446137
         ],
         "yaxis": "y"
        },
        {
         "hovertemplate": "Country Name=Mali<br>Log GDP Per Capita=%{x}<br>Depression (%)=%{y}<extra></extra>",
         "legendgroup": "Mali",
         "marker": {
          "color": "#FF6692",
          "symbol": "circle"
         },
         "mode": "markers",
         "name": "Mali",
         "orientation": "v",
         "showlegend": true,
         "type": "scatter",
         "x": [
          7.675010204
         ],
         "xaxis": "x",
         "y": [
          3.00742
         ],
         "yaxis": "y"
        },
        {
         "hovertemplate": "Country Name=Malta<br>Log GDP Per Capita=%{x}<br>Depression (%)=%{y}<extra></extra>",
         "legendgroup": "Malta",
         "marker": {
          "color": "#B6E880",
          "symbol": "circle"
         },
         "mode": "markers",
         "name": "Malta",
         "orientation": "v",
         "showlegend": true,
         "type": "scatter",
         "x": [
          10.68089676
         ],
         "xaxis": "x",
         "y": [
          3.374137
         ],
         "yaxis": "y"
        },
        {
         "hovertemplate": "Country Name=Mauritania<br>Log GDP Per Capita=%{x}<br>Depression (%)=%{y}<extra></extra>",
         "legendgroup": "Mauritania",
         "marker": {
          "color": "#FF97FF",
          "symbol": "circle"
         },
         "mode": "markers",
         "name": "Mauritania",
         "orientation": "v",
         "showlegend": true,
         "type": "scatter",
         "x": [
          8.567708969
         ],
         "xaxis": "x",
         "y": [
          3.094161
         ],
         "yaxis": "y"
        },
        {
         "hovertemplate": "Country Name=Mauritius<br>Log GDP Per Capita=%{x}<br>Depression (%)=%{y}<extra></extra>",
         "legendgroup": "Mauritius",
         "marker": {
          "color": "#FECB52",
          "symbol": "circle"
         },
         "mode": "markers",
         "name": "Mauritius",
         "orientation": "v",
         "showlegend": true,
         "type": "scatter",
         "x": [
          10.00553036
         ],
         "xaxis": "x",
         "y": [
          3.478524
         ],
         "yaxis": "y"
        },
        {
         "hovertemplate": "Country Name=Mexico<br>Log GDP Per Capita=%{x}<br>Depression (%)=%{y}<extra></extra>",
         "legendgroup": "Mexico",
         "marker": {
          "color": "#636efa",
          "symbol": "circle"
         },
         "mode": "markers",
         "name": "Mexico",
         "orientation": "v",
         "showlegend": true,
         "type": "scatter",
         "x": [
          9.905106544
         ],
         "xaxis": "x",
         "y": [
          2.788807
         ],
         "yaxis": "y"
        },
        {
         "hovertemplate": "Country Name=Moldova<br>Log GDP Per Capita=%{x}<br>Depression (%)=%{y}<extra></extra>",
         "legendgroup": "Moldova",
         "marker": {
          "color": "#EF553B",
          "symbol": "circle"
         },
         "mode": "markers",
         "name": "Moldova",
         "orientation": "v",
         "showlegend": true,
         "type": "scatter",
         "x": [
          9.363162994
         ],
         "xaxis": "x",
         "y": [
          3.432549
         ],
         "yaxis": "y"
        },
        {
         "hovertemplate": "Country Name=Mongolia<br>Log GDP Per Capita=%{x}<br>Depression (%)=%{y}<extra></extra>",
         "legendgroup": "Mongolia",
         "marker": {
          "color": "#00cc96",
          "symbol": "circle"
         },
         "mode": "markers",
         "name": "Mongolia",
         "orientation": "v",
         "showlegend": true,
         "type": "scatter",
         "x": [
          9.344127655
         ],
         "xaxis": "x",
         "y": [
          3.525488
         ],
         "yaxis": "y"
        },
        {
         "hovertemplate": "Country Name=Montenegro<br>Log GDP Per Capita=%{x}<br>Depression (%)=%{y}<extra></extra>",
         "legendgroup": "Montenegro",
         "marker": {
          "color": "#ab63fa",
          "symbol": "circle"
         },
         "mode": "markers",
         "name": "Montenegro",
         "orientation": "v",
         "showlegend": true,
         "type": "scatter",
         "x": [
          9.887653351
         ],
         "xaxis": "x",
         "y": [
          2.55864
         ],
         "yaxis": "y"
        },
        {
         "hovertemplate": "Country Name=Mozambique<br>Log GDP Per Capita=%{x}<br>Depression (%)=%{y}<extra></extra>",
         "legendgroup": "Mozambique",
         "marker": {
          "color": "#FFA15A",
          "symbol": "circle"
         },
         "mode": "markers",
         "name": "Mozambique",
         "orientation": "v",
         "showlegend": true,
         "type": "scatter",
         "x": [
          7.160251617
         ],
         "xaxis": "x",
         "y": [
          3.901795
         ],
         "yaxis": "y"
        },
        {
         "hovertemplate": "Country Name=Myanmar<br>Log GDP Per Capita=%{x}<br>Depression (%)=%{y}<extra></extra>",
         "legendgroup": "Myanmar",
         "marker": {
          "color": "#19d3f3",
          "symbol": "circle"
         },
         "mode": "markers",
         "name": "Myanmar",
         "orientation": "v",
         "showlegend": true,
         "type": "scatter",
         "x": [
          8.369377136
         ],
         "xaxis": "x",
         "y": [
          2.300982
         ],
         "yaxis": "y"
        },
        {
         "hovertemplate": "Country Name=Namibia<br>Log GDP Per Capita=%{x}<br>Depression (%)=%{y}<extra></extra>",
         "legendgroup": "Namibia",
         "marker": {
          "color": "#FF6692",
          "symbol": "circle"
         },
         "mode": "markers",
         "name": "Namibia",
         "orientation": "v",
         "showlegend": true,
         "type": "scatter",
         "x": [
          9.243317604
         ],
         "xaxis": "x",
         "y": [
          3.45997
         ],
         "yaxis": "y"
        },
        {
         "hovertemplate": "Country Name=Nepal<br>Log GDP Per Capita=%{x}<br>Depression (%)=%{y}<extra></extra>",
         "legendgroup": "Nepal",
         "marker": {
          "color": "#B6E880",
          "symbol": "circle"
         },
         "mode": "markers",
         "name": "Nepal",
         "orientation": "v",
         "showlegend": true,
         "type": "scatter",
         "x": [
          8.159239769
         ],
         "xaxis": "x",
         "y": [
          3.606939
         ],
         "yaxis": "y"
        },
        {
         "hovertemplate": "Country Name=Netherlands<br>Log GDP Per Capita=%{x}<br>Depression (%)=%{y}<extra></extra>",
         "legendgroup": "Netherlands",
         "marker": {
          "color": "#FF97FF",
          "symbol": "circle"
         },
         "mode": "markers",
         "name": "Netherlands",
         "orientation": "v",
         "showlegend": true,
         "type": "scatter",
         "x": [
          10.91669846
         ],
         "xaxis": "x",
         "y": [
          4.026854
         ],
         "yaxis": "y"
        },
        {
         "hovertemplate": "Country Name=New Zealand<br>Log GDP Per Capita=%{x}<br>Depression (%)=%{y}<extra></extra>",
         "legendgroup": "New Zealand",
         "marker": {
          "color": "#FECB52",
          "symbol": "circle"
         },
         "mode": "markers",
         "name": "New Zealand",
         "orientation": "v",
         "showlegend": true,
         "type": "scatter",
         "x": [
          10.65061474
         ],
         "xaxis": "x",
         "y": [
          3.971265
         ],
         "yaxis": "y"
        },
        {
         "hovertemplate": "Country Name=Nicaragua<br>Log GDP Per Capita=%{x}<br>Depression (%)=%{y}<extra></extra>",
         "legendgroup": "Nicaragua",
         "marker": {
          "color": "#636efa",
          "symbol": "circle"
         },
         "mode": "markers",
         "name": "Nicaragua",
         "orientation": "v",
         "showlegend": true,
         "type": "scatter",
         "x": [
          8.685310364
         ],
         "xaxis": "x",
         "y": [
          2.854084
         ],
         "yaxis": "y"
        },
        {
         "hovertemplate": "Country Name=Niger<br>Log GDP Per Capita=%{x}<br>Depression (%)=%{y}<extra></extra>",
         "legendgroup": "Niger",
         "marker": {
          "color": "#EF553B",
          "symbol": "circle"
         },
         "mode": "markers",
         "name": "Niger",
         "orientation": "v",
         "showlegend": true,
         "type": "scatter",
         "x": [
          7.052698135
         ],
         "xaxis": "x",
         "y": [
          3.463055
         ],
         "yaxis": "y"
        },
        {
         "hovertemplate": "Country Name=Nigeria<br>Log GDP Per Capita=%{x}<br>Depression (%)=%{y}<extra></extra>",
         "legendgroup": "Nigeria",
         "marker": {
          "color": "#00cc96",
          "symbol": "circle"
         },
         "mode": "markers",
         "name": "Nigeria",
         "orientation": "v",
         "showlegend": true,
         "type": "scatter",
         "x": [
          8.540910721
         ],
         "xaxis": "x",
         "y": [
          3.917691
         ],
         "yaxis": "y"
        },
        {
         "hovertemplate": "Country Name=Norway<br>Log GDP Per Capita=%{x}<br>Depression (%)=%{y}<extra></extra>",
         "legendgroup": "Norway",
         "marker": {
          "color": "#ab63fa",
          "symbol": "circle"
         },
         "mode": "markers",
         "name": "Norway",
         "orientation": "v",
         "showlegend": true,
         "type": "scatter",
         "x": [
          11.06743145
         ],
         "xaxis": "x",
         "y": [
          3.77191
         ],
         "yaxis": "y"
        },
        {
         "hovertemplate": "Country Name=Pakistan<br>Log GDP Per Capita=%{x}<br>Depression (%)=%{y}<extra></extra>",
         "legendgroup": "Pakistan",
         "marker": {
          "color": "#FFA15A",
          "symbol": "circle"
         },
         "mode": "markers",
         "name": "Pakistan",
         "orientation": "v",
         "showlegend": true,
         "type": "scatter",
         "x": [
          8.495299339
         ],
         "xaxis": "x",
         "y": [
          3.33128
         ],
         "yaxis": "y"
        },
        {
         "hovertemplate": "Country Name=Panama<br>Log GDP Per Capita=%{x}<br>Depression (%)=%{y}<extra></extra>",
         "legendgroup": "Panama",
         "marker": {
          "color": "#19d3f3",
          "symbol": "circle"
         },
         "mode": "markers",
         "name": "Panama",
         "orientation": "v",
         "showlegend": true,
         "type": "scatter",
         "x": [
          10.3263464
         ],
         "xaxis": "x",
         "y": [
          2.679025
         ],
         "yaxis": "y"
        },
        {
         "hovertemplate": "Country Name=Paraguay<br>Log GDP Per Capita=%{x}<br>Depression (%)=%{y}<extra></extra>",
         "legendgroup": "Paraguay",
         "marker": {
          "color": "#FF6692",
          "symbol": "circle"
         },
         "mode": "markers",
         "name": "Paraguay",
         "orientation": "v",
         "showlegend": true,
         "type": "scatter",
         "x": [
          9.51813221
         ],
         "xaxis": "x",
         "y": [
          2.95884
         ],
         "yaxis": "y"
        },
        {
         "hovertemplate": "Country Name=Peru<br>Log GDP Per Capita=%{x}<br>Depression (%)=%{y}<extra></extra>",
         "legendgroup": "Peru",
         "marker": {
          "color": "#B6E880",
          "symbol": "circle"
         },
         "mode": "markers",
         "name": "Peru",
         "orientation": "v",
         "showlegend": true,
         "type": "scatter",
         "x": [
          9.428893089
         ],
         "xaxis": "x",
         "y": [
          2.276321
         ],
         "yaxis": "y"
        },
        {
         "hovertemplate": "Country Name=Philippines<br>Log GDP Per Capita=%{x}<br>Depression (%)=%{y}<extra></extra>",
         "legendgroup": "Philippines",
         "marker": {
          "color": "#FF97FF",
          "symbol": "circle"
         },
         "mode": "markers",
         "name": "Philippines",
         "orientation": "v",
         "showlegend": true,
         "type": "scatter",
         "x": [
          8.987416267
         ],
         "xaxis": "x",
         "y": [
          2.765176
         ],
         "yaxis": "y"
        },
        {
         "hovertemplate": "Country Name=Poland<br>Log GDP Per Capita=%{x}<br>Depression (%)=%{y}<extra></extra>",
         "legendgroup": "Poland",
         "marker": {
          "color": "#FECB52",
          "symbol": "circle"
         },
         "mode": "markers",
         "name": "Poland",
         "orientation": "v",
         "showlegend": true,
         "type": "scatter",
         "x": [
          10.30755615
         ],
         "xaxis": "x",
         "y": [
          2.250472
         ],
         "yaxis": "y"
        },
        {
         "hovertemplate": "Country Name=Portugal<br>Log GDP Per Capita=%{x}<br>Depression (%)=%{y}<extra></extra>",
         "legendgroup": "Portugal",
         "marker": {
          "color": "#636efa",
          "symbol": "circle"
         },
         "mode": "markers",
         "name": "Portugal",
         "orientation": "v",
         "showlegend": true,
         "type": "scatter",
         "x": [
          10.40561676
         ],
         "xaxis": "x",
         "y": [
          4.421461
         ],
         "yaxis": "y"
        },
        {
         "hovertemplate": "Country Name=Romania<br>Log GDP Per Capita=%{x}<br>Depression (%)=%{y}<extra></extra>",
         "legendgroup": "Romania",
         "marker": {
          "color": "#EF553B",
          "symbol": "circle"
         },
         "mode": "markers",
         "name": "Romania",
         "orientation": "v",
         "showlegend": true,
         "type": "scatter",
         "x": [
          10.20167065
         ],
         "xaxis": "x",
         "y": [
          2.359174
         ],
         "yaxis": "y"
        },
        {
         "hovertemplate": "Country Name=Russia<br>Log GDP Per Capita=%{x}<br>Depression (%)=%{y}<extra></extra>",
         "legendgroup": "Russia",
         "marker": {
          "color": "#00cc96",
          "symbol": "circle"
         },
         "mode": "markers",
         "name": "Russia",
         "orientation": "v",
         "showlegend": true,
         "type": "scatter",
         "x": [
          10.16301918
         ],
         "xaxis": "x",
         "y": [
          3.707925
         ],
         "yaxis": "y"
        },
        {
         "hovertemplate": "Country Name=Rwanda<br>Log GDP Per Capita=%{x}<br>Depression (%)=%{y}<extra></extra>",
         "legendgroup": "Rwanda",
         "marker": {
          "color": "#ab63fa",
          "symbol": "circle"
         },
         "mode": "markers",
         "name": "Rwanda",
         "orientation": "v",
         "showlegend": true,
         "type": "scatter",
         "x": [
          7.567848682
         ],
         "xaxis": "x",
         "y": [
          3.86945
         ],
         "yaxis": "y"
        },
        {
         "hovertemplate": "Country Name=Senegal<br>Log GDP Per Capita=%{x}<br>Depression (%)=%{y}<extra></extra>",
         "legendgroup": "Senegal",
         "marker": {
          "color": "#FFA15A",
          "symbol": "circle"
         },
         "mode": "markers",
         "name": "Senegal",
         "orientation": "v",
         "showlegend": true,
         "type": "scatter",
         "x": [
          8.089234352
         ],
         "xaxis": "x",
         "y": [
          3.370497
         ],
         "yaxis": "y"
        },
        {
         "hovertemplate": "Country Name=Serbia<br>Log GDP Per Capita=%{x}<br>Depression (%)=%{y}<extra></extra>",
         "legendgroup": "Serbia",
         "marker": {
          "color": "#19d3f3",
          "symbol": "circle"
         },
         "mode": "markers",
         "name": "Serbia",
         "orientation": "v",
         "showlegend": true,
         "type": "scatter",
         "x": [
          9.718001366
         ],
         "xaxis": "x",
         "y": [
          2.570068
         ],
         "yaxis": "y"
        },
        {
         "hovertemplate": "Country Name=Sierra Leone<br>Log GDP Per Capita=%{x}<br>Depression (%)=%{y}<extra></extra>",
         "legendgroup": "Sierra Leone",
         "marker": {
          "color": "#FF6692",
          "symbol": "circle"
         },
         "mode": "markers",
         "name": "Sierra Leone",
         "orientation": "v",
         "showlegend": true,
         "type": "scatter",
         "x": [
          7.373677731
         ],
         "xaxis": "x",
         "y": [
          3.581501
         ],
         "yaxis": "y"
        },
        {
         "hovertemplate": "Country Name=Singapore<br>Log GDP Per Capita=%{x}<br>Depression (%)=%{y}<extra></extra>",
         "legendgroup": "Singapore",
         "marker": {
          "color": "#B6E880",
          "symbol": "circle"
         },
         "mode": "markers",
         "name": "Singapore",
         "orientation": "v",
         "showlegend": true,
         "type": "scatter",
         "x": [
          11.46489334
         ],
         "xaxis": "x",
         "y": [
          3.438271
         ],
         "yaxis": "y"
        },
        {
         "hovertemplate": "Country Name=Slovakia<br>Log GDP Per Capita=%{x}<br>Depression (%)=%{y}<extra></extra>",
         "legendgroup": "Slovakia",
         "marker": {
          "color": "#FF97FF",
          "symbol": "circle"
         },
         "mode": "markers",
         "name": "Slovakia",
         "orientation": "v",
         "showlegend": true,
         "type": "scatter",
         "x": [
          10.31100178
         ],
         "xaxis": "x",
         "y": [
          2.401999
         ],
         "yaxis": "y"
        },
        {
         "hovertemplate": "Country Name=Slovenia<br>Log GDP Per Capita=%{x}<br>Depression (%)=%{y}<extra></extra>",
         "legendgroup": "Slovenia",
         "marker": {
          "color": "#FECB52",
          "symbol": "circle"
         },
         "mode": "markers",
         "name": "Slovenia",
         "orientation": "v",
         "showlegend": true,
         "type": "scatter",
         "x": [
          10.50527477
         ],
         "xaxis": "x",
         "y": [
          2.863278
         ],
         "yaxis": "y"
        },
        {
         "hovertemplate": "Country Name=South Africa<br>Log GDP Per Capita=%{x}<br>Depression (%)=%{y}<extra></extra>",
         "legendgroup": "South Africa",
         "marker": {
          "color": "#636efa",
          "symbol": "circle"
         },
         "mode": "markers",
         "name": "South Africa",
         "orientation": "v",
         "showlegend": true,
         "type": "scatter",
         "x": [
          9.54326725
         ],
         "xaxis": "x",
         "y": [
          3.745871
         ],
         "yaxis": "y"
        },
        {
         "hovertemplate": "Country Name=South Korea<br>Log GDP Per Capita=%{x}<br>Depression (%)=%{y}<extra></extra>",
         "legendgroup": "South Korea",
         "marker": {
          "color": "#EF553B",
          "symbol": "circle"
         },
         "mode": "markers",
         "name": "South Korea",
         "orientation": "v",
         "showlegend": true,
         "type": "scatter",
         "x": [
          10.6202879
         ],
         "xaxis": "x",
         "y": [
          3.165684
         ],
         "yaxis": "y"
        },
        {
         "hovertemplate": "Country Name=Spain<br>Log GDP Per Capita=%{x}<br>Depression (%)=%{y}<extra></extra>",
         "legendgroup": "Spain",
         "marker": {
          "color": "#00cc96",
          "symbol": "circle"
         },
         "mode": "markers",
         "name": "Spain",
         "orientation": "v",
         "showlegend": true,
         "type": "scatter",
         "x": [
          10.58478832
         ],
         "xaxis": "x",
         "y": [
          3.538359
         ],
         "yaxis": "y"
        },
        {
         "hovertemplate": "Country Name=Sri Lanka<br>Log GDP Per Capita=%{x}<br>Depression (%)=%{y}<extra></extra>",
         "legendgroup": "Sri Lanka",
         "marker": {
          "color": "#ab63fa",
          "symbol": "circle"
         },
         "mode": "markers",
         "name": "Sri Lanka",
         "orientation": "v",
         "showlegend": true,
         "type": "scatter",
         "x": [
          9.516662598
         ],
         "xaxis": "x",
         "y": [
          3.44333
         ],
         "yaxis": "y"
        },
        {
         "hovertemplate": "Country Name=Sweden<br>Log GDP Per Capita=%{x}<br>Depression (%)=%{y}<extra></extra>",
         "legendgroup": "Sweden",
         "marker": {
          "color": "#FFA15A",
          "symbol": "circle"
         },
         "mode": "markers",
         "name": "Sweden",
         "orientation": "v",
         "showlegend": true,
         "type": "scatter",
         "x": [
          10.85799789
         ],
         "xaxis": "x",
         "y": [
          4.487911
         ],
         "yaxis": "y"
        },
        {
         "hovertemplate": "Country Name=Switzerland<br>Log GDP Per Capita=%{x}<br>Depression (%)=%{y}<extra></extra>",
         "legendgroup": "Switzerland",
         "marker": {
          "color": "#19d3f3",
          "symbol": "circle"
         },
         "mode": "markers",
         "name": "Switzerland",
         "orientation": "v",
         "showlegend": true,
         "type": "scatter",
         "x": [
          11.14336205
         ],
         "xaxis": "x",
         "y": [
          3.70806
         ],
         "yaxis": "y"
        },
        {
         "hovertemplate": "Country Name=Tajikistan<br>Log GDP Per Capita=%{x}<br>Depression (%)=%{y}<extra></extra>",
         "legendgroup": "Tajikistan",
         "marker": {
          "color": "#FF6692",
          "symbol": "circle"
         },
         "mode": "markers",
         "name": "Tajikistan",
         "orientation": "v",
         "showlegend": true,
         "type": "scatter",
         "x": [
          8.082228661
         ],
         "xaxis": "x",
         "y": [
          2.563961
         ],
         "yaxis": "y"
        },
        {
         "hovertemplate": "Country Name=Tanzania<br>Log GDP Per Capita=%{x}<br>Depression (%)=%{y}<extra></extra>",
         "legendgroup": "Tanzania",
         "marker": {
          "color": "#B6E880",
          "symbol": "circle"
         },
         "mode": "markers",
         "name": "Tanzania",
         "orientation": "v",
         "showlegend": true,
         "type": "scatter",
         "x": [
          7.80724287
         ],
         "xaxis": "x",
         "y": [
          3.685748
         ],
         "yaxis": "y"
        },
        {
         "hovertemplate": "Country Name=Thailand<br>Log GDP Per Capita=%{x}<br>Depression (%)=%{y}<extra></extra>",
         "legendgroup": "Thailand",
         "marker": {
          "color": "#FF97FF",
          "symbol": "circle"
         },
         "mode": "markers",
         "name": "Thailand",
         "orientation": "v",
         "showlegend": true,
         "type": "scatter",
         "x": [
          9.741441727
         ],
         "xaxis": "x",
         "y": [
          3.085057
         ],
         "yaxis": "y"
        },
        {
         "hovertemplate": "Country Name=Togo<br>Log GDP Per Capita=%{x}<br>Depression (%)=%{y}<extra></extra>",
         "legendgroup": "Togo",
         "marker": {
          "color": "#FECB52",
          "symbol": "circle"
         },
         "mode": "markers",
         "name": "Togo",
         "orientation": "v",
         "showlegend": true,
         "type": "scatter",
         "x": [
          7.587156773
         ],
         "xaxis": "x",
         "y": [
          3.656725
         ],
         "yaxis": "y"
        },
        {
         "hovertemplate": "Country Name=Tunisia<br>Log GDP Per Capita=%{x}<br>Depression (%)=%{y}<extra></extra>",
         "legendgroup": "Tunisia",
         "marker": {
          "color": "#636efa",
          "symbol": "circle"
         },
         "mode": "markers",
         "name": "Tunisia",
         "orientation": "v",
         "showlegend": true,
         "type": "scatter",
         "x": [
          9.29421711
         ],
         "xaxis": "x",
         "y": [
          3.915189
         ],
         "yaxis": "y"
        },
        {
         "hovertemplate": "Country Name=Uganda<br>Log GDP Per Capita=%{x}<br>Depression (%)=%{y}<extra></extra>",
         "legendgroup": "Uganda",
         "marker": {
          "color": "#EF553B",
          "symbol": "circle"
         },
         "mode": "markers",
         "name": "Uganda",
         "orientation": "v",
         "showlegend": true,
         "type": "scatter",
         "x": [
          7.663124561
         ],
         "xaxis": "x",
         "y": [
          4.918028
         ],
         "yaxis": "y"
        },
        {
         "hovertemplate": "Country Name=Ukraine<br>Log GDP Per Capita=%{x}<br>Depression (%)=%{y}<extra></extra>",
         "legendgroup": "Ukraine",
         "marker": {
          "color": "#00cc96",
          "symbol": "circle"
         },
         "mode": "markers",
         "name": "Ukraine",
         "orientation": "v",
         "showlegend": true,
         "type": "scatter",
         "x": [
          9.380973816
         ],
         "xaxis": "x",
         "y": [
          4.071915
         ],
         "yaxis": "y"
        },
        {
         "hovertemplate": "Country Name=United Kingdom<br>Log GDP Per Capita=%{x}<br>Depression (%)=%{y}<extra></extra>",
         "legendgroup": "United Kingdom",
         "marker": {
          "color": "#ab63fa",
          "symbol": "circle"
         },
         "mode": "markers",
         "name": "United Kingdom",
         "orientation": "v",
         "showlegend": true,
         "type": "scatter",
         "x": [
          10.74445915
         ],
         "xaxis": "x",
         "y": [
          4.119524
         ],
         "yaxis": "y"
        },
        {
         "hovertemplate": "Country Name=United States<br>Log GDP Per Capita=%{x}<br>Depression (%)=%{y}<extra></extra>",
         "legendgroup": "United States",
         "marker": {
          "color": "#FFA15A",
          "symbol": "circle"
         },
         "mode": "markers",
         "name": "United States",
         "orientation": "v",
         "showlegend": true,
         "type": "scatter",
         "x": [
          11.00067806
         ],
         "xaxis": "x",
         "y": [
          4.83561
         ],
         "yaxis": "y"
        },
        {
         "hovertemplate": "Country Name=Uruguay<br>Log GDP Per Capita=%{x}<br>Depression (%)=%{y}<extra></extra>",
         "legendgroup": "Uruguay",
         "marker": {
          "color": "#19d3f3",
          "symbol": "circle"
         },
         "mode": "markers",
         "name": "Uruguay",
         "orientation": "v",
         "showlegend": true,
         "type": "scatter",
         "x": [
          10.04789066
         ],
         "xaxis": "x",
         "y": [
          3.617574
         ],
         "yaxis": "y"
        },
        {
         "hovertemplate": "Country Name=Uzbekistan<br>Log GDP Per Capita=%{x}<br>Depression (%)=%{y}<extra></extra>",
         "legendgroup": "Uzbekistan",
         "marker": {
          "color": "#FF6692",
          "symbol": "circle"
         },
         "mode": "markers",
         "name": "Uzbekistan",
         "orientation": "v",
         "showlegend": true,
         "type": "scatter",
         "x": [
          8.830646515
         ],
         "xaxis": "x",
         "y": [
          2.886924
         ],
         "yaxis": "y"
        },
        {
         "hovertemplate": "Country Name=Venezuela<br>Log GDP Per Capita=%{x}<br>Depression (%)=%{y}<extra></extra>",
         "legendgroup": "Venezuela",
         "marker": {
          "color": "#B6E880",
          "symbol": "circle"
         },
         "mode": "markers",
         "name": "Venezuela",
         "orientation": "v",
         "showlegend": true,
         "type": "scatter",
         "x": [
          5.943209171
         ],
         "xaxis": "x",
         "y": [
          2.814584
         ],
         "yaxis": "y"
        },
        {
         "hovertemplate": "Country Name=Zambia<br>Log GDP Per Capita=%{x}<br>Depression (%)=%{y}<extra></extra>",
         "legendgroup": "Zambia",
         "marker": {
          "color": "#FF97FF",
          "symbol": "circle"
         },
         "mode": "markers",
         "name": "Zambia",
         "orientation": "v",
         "showlegend": true,
         "type": "scatter",
         "x": [
          8.130200386
         ],
         "xaxis": "x",
         "y": [
          3.641811
         ],
         "yaxis": "y"
        },
        {
         "hovertemplate": "Country Name=Zimbabwe<br>Log GDP Per Capita=%{x}<br>Depression (%)=%{y}<extra></extra>",
         "legendgroup": "Zimbabwe",
         "marker": {
          "color": "#FECB52",
          "symbol": "circle"
         },
         "mode": "markers",
         "name": "Zimbabwe",
         "orientation": "v",
         "showlegend": true,
         "type": "scatter",
         "x": [
          7.754387379
         ],
         "xaxis": "x",
         "y": [
          3.192789
         ],
         "yaxis": "y"
        },
        {
         "hovertemplate": "<b>OLS trendline</b><br>Depression (%) = 0.0244789 * Log GDP Per Capita + 3.20956<br>R<sup>2</sup>=0.002166<br><br>Log GDP Per Capita=%{x}<br>Depression (%)=%{y} <b>(trend)</b><extra></extra>",
         "legendgroup": "Overall Trendline",
         "line": {
          "color": "#636efa"
         },
         "mode": "lines",
         "name": "Overall Trendline",
         "showlegend": true,
         "type": "scatter",
         "x": [
          5.943209171,
          7.052698135,
          7.160251617,
          7.282608032,
          7.335249901,
          7.344820023,
          7.365028381,
          7.373677731,
          7.563740253,
          7.567848682,
          7.587156773,
          7.589920044,
          7.59486866,
          7.647830486,
          7.663124561,
          7.675010204,
          7.754387379,
          7.776358128,
          7.80724287,
          7.852320194,
          7.984066486,
          8.067083359,
          8.082228661,
          8.089234352,
          8.130200386,
          8.159239769,
          8.21367836,
          8.287207603,
          8.369367599,
          8.369377136,
          8.482762337,
          8.495299339,
          8.503006935,
          8.526488304,
          8.540910721,
          8.567708969,
          8.602948189,
          8.685310364,
          8.718020439,
          8.830646515,
          8.88339901,
          8.987416267,
          9.017354012,
          9.026683807,
          9.061598778,
          9.208023071,
          9.208796501,
          9.243317604,
          9.29421711,
          9.300356865,
          9.344127655,
          9.363162994,
          9.365584373,
          9.380973816,
          9.428893089,
          9.434254646,
          9.455109596,
          9.503191948,
          9.516662598,
          9.517067909,
          9.51813221,
          9.54326725,
          9.555447578,
          9.570453644,
          9.580375671,
          9.580394745,
          9.592658043,
          9.712601662,
          9.718001366,
          9.741441727,
          9.787406921,
          9.817717552,
          9.887653351,
          9.905106544,
          9.911863327,
          9.974589348,
          10.00553036,
          10.04789066,
          10.06888008,
          10.10834122,
          10.12113476,
          10.16301918,
          10.20167065,
          10.21140671,
          10.26133156,
          10.263731,
          10.29218388,
          10.30755615,
          10.31100178,
          10.3263464,
          10.40561676,
          10.42708778,
          10.42886448,
          10.50527477,
          10.55638504,
          10.57442188,
          10.58478832,
          10.6202879,
          10.63210392,
          10.63540173,
          10.65061474,
          10.68089676,
          10.70497513,
          10.74445915,
          10.7699604,
          10.78554249,
          10.78726006,
          10.82858467,
          10.85799789,
          10.87939453,
          10.89993763,
          10.91669846,
          10.92155266,
          10.92663097,
          11.00067806,
          11.06743145,
          11.14336205,
          11.26124382,
          11.46489334,
          11.65256405
         ],
         "xaxis": "x",
         "y": [
          3.355046255184939,
          3.3822053399034493,
          3.3848381323188668,
          3.387833284455268,
          3.389121900229108,
          3.3893561664206593,
          3.389850845074303,
          3.390062571767431,
          3.394715095861228,
          3.3948156657405972,
          3.3952883068359454,
          3.3953559487085774,
          3.3954770854531002,
          3.396773533426765,
          3.397147915770433,
          3.3974388634009594,
          3.3993819304259514,
          3.3999197504969767,
          3.4006757754343164,
          3.4017792193631196,
          3.405004225489253,
          3.407036388367867,
          3.4074071289100916,
          3.407578620616232,
          3.408581424631494,
          3.409292277184931,
          3.4106248747617425,
          3.412424790763363,
          3.414435978223752,
          3.4144362116791527,
          3.4172117582413124,
          3.4175186504326565,
          3.4177073240107925,
          3.4182821224185913,
          3.418635167521209,
          3.4192911595241537,
          3.420153777353126,
          3.422169913935829,
          3.422970621042343,
          3.4257275850490596,
          3.4270189088272183,
          3.4295651382956622,
          3.4302979817750647,
          3.4305263650226974,
          3.431381045588347,
          3.4349653532358047,
          3.4349842859621096,
          3.435829325066936,
          3.43707528968708,
          3.4372255842205153,
          3.4382970456161477,
          3.438763010038797,
          3.43882228276663,
          3.4391989996153502,
          3.4403720113687655,
          3.4405032564604343,
          3.4410137629839137,
          3.4421907667341136,
          3.4425205136143746,
          3.4425304351874084,
          3.442556488119851,
          3.4431717665975223,
          3.4434699277967638,
          3.4438372599929457,
          3.4440801404366597,
          3.4440806073474617,
          3.4443807995621816,
          3.4473168890732673,
          3.4474490679620615,
          3.4480228625385627,
          3.449148040560567,
          3.4498900118842224,
          3.4516019642799,
          3.4520291994869874,
          3.4521945981956503,
          3.4537300630571055,
          3.454487465422925,
          3.455524399555423,
          3.456038197758442,
          3.45700416360319,
          3.457317335566124,
          3.45834262067312,
          3.459288766675727,
          3.4595270948492773,
          3.460749200949207,
          3.4608079366341498,
          3.4615044322312034,
          3.4618807287035365,
          3.461965073983314,
          3.4623406936136805,
          3.4642811459234943,
          3.464806733171402,
          3.4648502248575612,
          3.466720665760366,
          3.4679717896542996,
          3.468413311905993,
          3.4686670710972285,
          3.469536062256199,
          3.4698253055913093,
          3.469906032398048,
          3.4702784303585688,
          3.4710197013160213,
          3.4716091136598415,
          3.4725756395821374,
          3.4731998824828336,
          3.4735813151208617,
          3.4736233593688475,
          3.474634940935106,
          3.475354944612244,
          3.475878711118543,
          3.476381583892752,
          3.4767918708056396,
          3.476910696349037,
          3.477035007861807,
          3.4788476001955053,
          3.4804816506755762,
          3.4823403492882172,
          3.4852259669753507,
          3.4902110860220725,
          3.494805061156081
         ],
         "yaxis": "y"
        }
       ],
       "layout": {
        "autosize": true,
        "legend": {
         "title": {
          "text": "Country Name"
         },
         "tracegroupgap": 0
        },
        "template": {
         "data": {
          "bar": [
           {
            "error_x": {
             "color": "#2a3f5f"
            },
            "error_y": {
             "color": "#2a3f5f"
            },
            "marker": {
             "line": {
              "color": "#E5ECF6",
              "width": 0.5
             },
             "pattern": {
              "fillmode": "overlay",
              "size": 10,
              "solidity": 0.2
             }
            },
            "type": "bar"
           }
          ],
          "barpolar": [
           {
            "marker": {
             "line": {
              "color": "#E5ECF6",
              "width": 0.5
             },
             "pattern": {
              "fillmode": "overlay",
              "size": 10,
              "solidity": 0.2
             }
            },
            "type": "barpolar"
           }
          ],
          "carpet": [
           {
            "aaxis": {
             "endlinecolor": "#2a3f5f",
             "gridcolor": "white",
             "linecolor": "white",
             "minorgridcolor": "white",
             "startlinecolor": "#2a3f5f"
            },
            "baxis": {
             "endlinecolor": "#2a3f5f",
             "gridcolor": "white",
             "linecolor": "white",
             "minorgridcolor": "white",
             "startlinecolor": "#2a3f5f"
            },
            "type": "carpet"
           }
          ],
          "choropleth": [
           {
            "colorbar": {
             "outlinewidth": 0,
             "ticks": ""
            },
            "type": "choropleth"
           }
          ],
          "contour": [
           {
            "colorbar": {
             "outlinewidth": 0,
             "ticks": ""
            },
            "colorscale": [
             [
              0,
              "#0d0887"
             ],
             [
              0.1111111111111111,
              "#46039f"
             ],
             [
              0.2222222222222222,
              "#7201a8"
             ],
             [
              0.3333333333333333,
              "#9c179e"
             ],
             [
              0.4444444444444444,
              "#bd3786"
             ],
             [
              0.5555555555555556,
              "#d8576b"
             ],
             [
              0.6666666666666666,
              "#ed7953"
             ],
             [
              0.7777777777777778,
              "#fb9f3a"
             ],
             [
              0.8888888888888888,
              "#fdca26"
             ],
             [
              1,
              "#f0f921"
             ]
            ],
            "type": "contour"
           }
          ],
          "contourcarpet": [
           {
            "colorbar": {
             "outlinewidth": 0,
             "ticks": ""
            },
            "type": "contourcarpet"
           }
          ],
          "heatmap": [
           {
            "colorbar": {
             "outlinewidth": 0,
             "ticks": ""
            },
            "colorscale": [
             [
              0,
              "#0d0887"
             ],
             [
              0.1111111111111111,
              "#46039f"
             ],
             [
              0.2222222222222222,
              "#7201a8"
             ],
             [
              0.3333333333333333,
              "#9c179e"
             ],
             [
              0.4444444444444444,
              "#bd3786"
             ],
             [
              0.5555555555555556,
              "#d8576b"
             ],
             [
              0.6666666666666666,
              "#ed7953"
             ],
             [
              0.7777777777777778,
              "#fb9f3a"
             ],
             [
              0.8888888888888888,
              "#fdca26"
             ],
             [
              1,
              "#f0f921"
             ]
            ],
            "type": "heatmap"
           }
          ],
          "heatmapgl": [
           {
            "colorbar": {
             "outlinewidth": 0,
             "ticks": ""
            },
            "colorscale": [
             [
              0,
              "#0d0887"
             ],
             [
              0.1111111111111111,
              "#46039f"
             ],
             [
              0.2222222222222222,
              "#7201a8"
             ],
             [
              0.3333333333333333,
              "#9c179e"
             ],
             [
              0.4444444444444444,
              "#bd3786"
             ],
             [
              0.5555555555555556,
              "#d8576b"
             ],
             [
              0.6666666666666666,
              "#ed7953"
             ],
             [
              0.7777777777777778,
              "#fb9f3a"
             ],
             [
              0.8888888888888888,
              "#fdca26"
             ],
             [
              1,
              "#f0f921"
             ]
            ],
            "type": "heatmapgl"
           }
          ],
          "histogram": [
           {
            "marker": {
             "pattern": {
              "fillmode": "overlay",
              "size": 10,
              "solidity": 0.2
             }
            },
            "type": "histogram"
           }
          ],
          "histogram2d": [
           {
            "colorbar": {
             "outlinewidth": 0,
             "ticks": ""
            },
            "colorscale": [
             [
              0,
              "#0d0887"
             ],
             [
              0.1111111111111111,
              "#46039f"
             ],
             [
              0.2222222222222222,
              "#7201a8"
             ],
             [
              0.3333333333333333,
              "#9c179e"
             ],
             [
              0.4444444444444444,
              "#bd3786"
             ],
             [
              0.5555555555555556,
              "#d8576b"
             ],
             [
              0.6666666666666666,
              "#ed7953"
             ],
             [
              0.7777777777777778,
              "#fb9f3a"
             ],
             [
              0.8888888888888888,
              "#fdca26"
             ],
             [
              1,
              "#f0f921"
             ]
            ],
            "type": "histogram2d"
           }
          ],
          "histogram2dcontour": [
           {
            "colorbar": {
             "outlinewidth": 0,
             "ticks": ""
            },
            "colorscale": [
             [
              0,
              "#0d0887"
             ],
             [
              0.1111111111111111,
              "#46039f"
             ],
             [
              0.2222222222222222,
              "#7201a8"
             ],
             [
              0.3333333333333333,
              "#9c179e"
             ],
             [
              0.4444444444444444,
              "#bd3786"
             ],
             [
              0.5555555555555556,
              "#d8576b"
             ],
             [
              0.6666666666666666,
              "#ed7953"
             ],
             [
              0.7777777777777778,
              "#fb9f3a"
             ],
             [
              0.8888888888888888,
              "#fdca26"
             ],
             [
              1,
              "#f0f921"
             ]
            ],
            "type": "histogram2dcontour"
           }
          ],
          "mesh3d": [
           {
            "colorbar": {
             "outlinewidth": 0,
             "ticks": ""
            },
            "type": "mesh3d"
           }
          ],
          "parcoords": [
           {
            "line": {
             "colorbar": {
              "outlinewidth": 0,
              "ticks": ""
             }
            },
            "type": "parcoords"
           }
          ],
          "pie": [
           {
            "automargin": true,
            "type": "pie"
           }
          ],
          "scatter": [
           {
            "fillpattern": {
             "fillmode": "overlay",
             "size": 10,
             "solidity": 0.2
            },
            "type": "scatter"
           }
          ],
          "scatter3d": [
           {
            "line": {
             "colorbar": {
              "outlinewidth": 0,
              "ticks": ""
             }
            },
            "marker": {
             "colorbar": {
              "outlinewidth": 0,
              "ticks": ""
             }
            },
            "type": "scatter3d"
           }
          ],
          "scattercarpet": [
           {
            "marker": {
             "colorbar": {
              "outlinewidth": 0,
              "ticks": ""
             }
            },
            "type": "scattercarpet"
           }
          ],
          "scattergeo": [
           {
            "marker": {
             "colorbar": {
              "outlinewidth": 0,
              "ticks": ""
             }
            },
            "type": "scattergeo"
           }
          ],
          "scattergl": [
           {
            "marker": {
             "colorbar": {
              "outlinewidth": 0,
              "ticks": ""
             }
            },
            "type": "scattergl"
           }
          ],
          "scattermapbox": [
           {
            "marker": {
             "colorbar": {
              "outlinewidth": 0,
              "ticks": ""
             }
            },
            "type": "scattermapbox"
           }
          ],
          "scatterpolar": [
           {
            "marker": {
             "colorbar": {
              "outlinewidth": 0,
              "ticks": ""
             }
            },
            "type": "scatterpolar"
           }
          ],
          "scatterpolargl": [
           {
            "marker": {
             "colorbar": {
              "outlinewidth": 0,
              "ticks": ""
             }
            },
            "type": "scatterpolargl"
           }
          ],
          "scatterternary": [
           {
            "marker": {
             "colorbar": {
              "outlinewidth": 0,
              "ticks": ""
             }
            },
            "type": "scatterternary"
           }
          ],
          "surface": [
           {
            "colorbar": {
             "outlinewidth": 0,
             "ticks": ""
            },
            "colorscale": [
             [
              0,
              "#0d0887"
             ],
             [
              0.1111111111111111,
              "#46039f"
             ],
             [
              0.2222222222222222,
              "#7201a8"
             ],
             [
              0.3333333333333333,
              "#9c179e"
             ],
             [
              0.4444444444444444,
              "#bd3786"
             ],
             [
              0.5555555555555556,
              "#d8576b"
             ],
             [
              0.6666666666666666,
              "#ed7953"
             ],
             [
              0.7777777777777778,
              "#fb9f3a"
             ],
             [
              0.8888888888888888,
              "#fdca26"
             ],
             [
              1,
              "#f0f921"
             ]
            ],
            "type": "surface"
           }
          ],
          "table": [
           {
            "cells": {
             "fill": {
              "color": "#EBF0F8"
             },
             "line": {
              "color": "white"
             }
            },
            "header": {
             "fill": {
              "color": "#C8D4E3"
             },
             "line": {
              "color": "white"
             }
            },
            "type": "table"
           }
          ]
         },
         "layout": {
          "annotationdefaults": {
           "arrowcolor": "#2a3f5f",
           "arrowhead": 0,
           "arrowwidth": 1
          },
          "autotypenumbers": "strict",
          "coloraxis": {
           "colorbar": {
            "outlinewidth": 0,
            "ticks": ""
           }
          },
          "colorscale": {
           "diverging": [
            [
             0,
             "#8e0152"
            ],
            [
             0.1,
             "#c51b7d"
            ],
            [
             0.2,
             "#de77ae"
            ],
            [
             0.3,
             "#f1b6da"
            ],
            [
             0.4,
             "#fde0ef"
            ],
            [
             0.5,
             "#f7f7f7"
            ],
            [
             0.6,
             "#e6f5d0"
            ],
            [
             0.7,
             "#b8e186"
            ],
            [
             0.8,
             "#7fbc41"
            ],
            [
             0.9,
             "#4d9221"
            ],
            [
             1,
             "#276419"
            ]
           ],
           "sequential": [
            [
             0,
             "#0d0887"
            ],
            [
             0.1111111111111111,
             "#46039f"
            ],
            [
             0.2222222222222222,
             "#7201a8"
            ],
            [
             0.3333333333333333,
             "#9c179e"
            ],
            [
             0.4444444444444444,
             "#bd3786"
            ],
            [
             0.5555555555555556,
             "#d8576b"
            ],
            [
             0.6666666666666666,
             "#ed7953"
            ],
            [
             0.7777777777777778,
             "#fb9f3a"
            ],
            [
             0.8888888888888888,
             "#fdca26"
            ],
            [
             1,
             "#f0f921"
            ]
           ],
           "sequentialminus": [
            [
             0,
             "#0d0887"
            ],
            [
             0.1111111111111111,
             "#46039f"
            ],
            [
             0.2222222222222222,
             "#7201a8"
            ],
            [
             0.3333333333333333,
             "#9c179e"
            ],
            [
             0.4444444444444444,
             "#bd3786"
            ],
            [
             0.5555555555555556,
             "#d8576b"
            ],
            [
             0.6666666666666666,
             "#ed7953"
            ],
            [
             0.7777777777777778,
             "#fb9f3a"
            ],
            [
             0.8888888888888888,
             "#fdca26"
            ],
            [
             1,
             "#f0f921"
            ]
           ]
          },
          "colorway": [
           "#636efa",
           "#EF553B",
           "#00cc96",
           "#ab63fa",
           "#FFA15A",
           "#19d3f3",
           "#FF6692",
           "#B6E880",
           "#FF97FF",
           "#FECB52"
          ],
          "font": {
           "color": "#2a3f5f"
          },
          "geo": {
           "bgcolor": "white",
           "lakecolor": "white",
           "landcolor": "#E5ECF6",
           "showlakes": true,
           "showland": true,
           "subunitcolor": "white"
          },
          "hoverlabel": {
           "align": "left"
          },
          "hovermode": "closest",
          "mapbox": {
           "style": "light"
          },
          "paper_bgcolor": "white",
          "plot_bgcolor": "#E5ECF6",
          "polar": {
           "angularaxis": {
            "gridcolor": "white",
            "linecolor": "white",
            "ticks": ""
           },
           "bgcolor": "#E5ECF6",
           "radialaxis": {
            "gridcolor": "white",
            "linecolor": "white",
            "ticks": ""
           }
          },
          "scene": {
           "xaxis": {
            "backgroundcolor": "#E5ECF6",
            "gridcolor": "white",
            "gridwidth": 2,
            "linecolor": "white",
            "showbackground": true,
            "ticks": "",
            "zerolinecolor": "white"
           },
           "yaxis": {
            "backgroundcolor": "#E5ECF6",
            "gridcolor": "white",
            "gridwidth": 2,
            "linecolor": "white",
            "showbackground": true,
            "ticks": "",
            "zerolinecolor": "white"
           },
           "zaxis": {
            "backgroundcolor": "#E5ECF6",
            "gridcolor": "white",
            "gridwidth": 2,
            "linecolor": "white",
            "showbackground": true,
            "ticks": "",
            "zerolinecolor": "white"
           }
          },
          "shapedefaults": {
           "line": {
            "color": "#2a3f5f"
           }
          },
          "ternary": {
           "aaxis": {
            "gridcolor": "white",
            "linecolor": "white",
            "ticks": ""
           },
           "baxis": {
            "gridcolor": "white",
            "linecolor": "white",
            "ticks": ""
           },
           "bgcolor": "#E5ECF6",
           "caxis": {
            "gridcolor": "white",
            "linecolor": "white",
            "ticks": ""
           }
          },
          "title": {
           "x": 0.05
          },
          "xaxis": {
           "automargin": true,
           "gridcolor": "white",
           "linecolor": "white",
           "ticks": "",
           "title": {
            "standoff": 15
           },
           "zerolinecolor": "white",
           "zerolinewidth": 2
          },
          "yaxis": {
           "automargin": true,
           "gridcolor": "white",
           "linecolor": "white",
           "ticks": "",
           "title": {
            "standoff": 15
           },
           "zerolinecolor": "white",
           "zerolinewidth": 2
          }
         }
        },
        "title": {
         "text": "Relationship between depression and GDP per capita of countries"
        },
        "xaxis": {
         "anchor": "y",
         "autorange": true,
         "domain": [
          0,
          1
         ],
         "range": [
          5.582018018832409,
          12.013755202167593
         ],
         "title": {
          "text": "GDP per capita"
         },
         "type": "linear"
        },
        "yaxis": {
         "anchor": "x",
         "autorange": true,
         "domain": [
          0,
          1
         ],
         "range": [
          1.8623734701492536,
          5.9704415298507465
         ],
         "title": {
          "text": "Depression (%)"
         },
         "type": "linear"
        }
       }
      },
      "text/html": [
       "<div>                            <div id=\"d3e17d0d-3067-4794-b09d-05939c68f4f7\" class=\"plotly-graph-div\" style=\"height:300px; width:100%;\"></div>            <script type=\"text/javascript\">                require([\"plotly\"], function(Plotly) {                    window.PLOTLYENV=window.PLOTLYENV || {};                                    if (document.getElementById(\"d3e17d0d-3067-4794-b09d-05939c68f4f7\")) {                    Plotly.newPlot(                        \"d3e17d0d-3067-4794-b09d-05939c68f4f7\",                        [{\"hovertemplate\":\"Country Name=Afghanistan\\u003cbr\\u003eLog GDP Per Capita=%{x}\\u003cbr\\u003eDepression (%)=%{y}\\u003cextra\\u003e\\u003c\\u002fextra\\u003e\",\"legendgroup\":\"Afghanistan\",\"marker\":{\"color\":\"#636efa\",\"symbol\":\"circle\"},\"mode\":\"markers\",\"name\":\"Afghanistan\",\"orientation\":\"v\",\"showlegend\":true,\"x\":[7.647830486],\"xaxis\":\"x\",\"y\":[4.136347],\"yaxis\":\"y\",\"type\":\"scatter\"},{\"hovertemplate\":\"Country Name=Albania\\u003cbr\\u003eLog GDP Per Capita=%{x}\\u003cbr\\u003eDepression (%)=%{y}\\u003cextra\\u003e\\u003c\\u002fextra\\u003e\",\"legendgroup\":\"Albania\",\"marker\":{\"color\":\"#EF553B\",\"symbol\":\"circle\"},\"mode\":\"markers\",\"name\":\"Albania\",\"orientation\":\"v\",\"showlegend\":true,\"x\":[9.455109596],\"xaxis\":\"x\",\"y\":[2.208414],\"yaxis\":\"y\",\"type\":\"scatter\"},{\"hovertemplate\":\"Country Name=Argentina\\u003cbr\\u003eLog GDP Per Capita=%{x}\\u003cbr\\u003eDepression (%)=%{y}\\u003cextra\\u003e\\u003c\\u002fextra\\u003e\",\"legendgroup\":\"Argentina\",\"marker\":{\"color\":\"#00cc96\",\"symbol\":\"circle\"},\"mode\":\"markers\",\"name\":\"Argentina\",\"orientation\":\"v\",\"showlegend\":true,\"x\":[10.06888008],\"xaxis\":\"x\",\"y\":[3.665488],\"yaxis\":\"y\",\"type\":\"scatter\"},{\"hovertemplate\":\"Country Name=Armenia\\u003cbr\\u003eLog GDP Per Capita=%{x}\\u003cbr\\u003eDepression (%)=%{y}\\u003cextra\\u003e\\u003c\\u002fextra\\u003e\",\"legendgroup\":\"Armenia\",\"marker\":{\"color\":\"#ab63fa\",\"symbol\":\"circle\"},\"mode\":\"markers\",\"name\":\"Armenia\",\"orientation\":\"v\",\"showlegend\":true,\"x\":[9.434254646],\"xaxis\":\"x\",\"y\":[2.754583],\"yaxis\":\"y\",\"type\":\"scatter\"},{\"hovertemplate\":\"Country Name=Australia\\u003cbr\\u003eLog GDP Per Capita=%{x}\\u003cbr\\u003eDepression (%)=%{y}\\u003cextra\\u003e\\u003c\\u002fextra\\u003e\",\"legendgroup\":\"Australia\",\"marker\":{\"color\":\"#FFA15A\",\"symbol\":\"circle\"},\"mode\":\"markers\",\"name\":\"Australia\",\"orientation\":\"v\",\"showlegend\":true,\"x\":[10.78726006],\"xaxis\":\"x\",\"y\":[4.623881],\"yaxis\":\"y\",\"type\":\"scatter\"},{\"hovertemplate\":\"Country Name=Austria\\u003cbr\\u003eLog GDP Per Capita=%{x}\\u003cbr\\u003eDepression (%)=%{y}\\u003cextra\\u003e\\u003c\\u002fextra\\u003e\",\"legendgroup\":\"Austria\",\"marker\":{\"color\":\"#19d3f3\",\"symbol\":\"circle\"},\"mode\":\"markers\",\"name\":\"Austria\",\"orientation\":\"v\",\"showlegend\":true,\"x\":[10.89993763],\"xaxis\":\"x\",\"y\":[3.26097],\"yaxis\":\"y\",\"type\":\"scatter\"},{\"hovertemplate\":\"Country Name=Azerbaijan\\u003cbr\\u003eLog GDP Per Capita=%{x}\\u003cbr\\u003eDepression (%)=%{y}\\u003cextra\\u003e\\u003c\\u002fextra\\u003e\",\"legendgroup\":\"Azerbaijan\",\"marker\":{\"color\":\"#FF6692\",\"symbol\":\"circle\"},\"mode\":\"markers\",\"name\":\"Azerbaijan\",\"orientation\":\"v\",\"showlegend\":true,\"x\":[9.555447578],\"xaxis\":\"x\",\"y\":[2.592293],\"yaxis\":\"y\",\"type\":\"scatter\"},{\"hovertemplate\":\"Country Name=Bangladesh\\u003cbr\\u003eLog GDP Per Capita=%{x}\\u003cbr\\u003eDepression (%)=%{y}\\u003cextra\\u003e\\u003c\\u002fextra\\u003e\",\"legendgroup\":\"Bangladesh\",\"marker\":{\"color\":\"#B6E880\",\"symbol\":\"circle\"},\"mode\":\"markers\",\"name\":\"Bangladesh\",\"orientation\":\"v\",\"showlegend\":true,\"x\":[8.482762337],\"xaxis\":\"x\",\"y\":[4.110611],\"yaxis\":\"y\",\"type\":\"scatter\"},{\"hovertemplate\":\"Country Name=Belarus\\u003cbr\\u003eLog GDP Per Capita=%{x}\\u003cbr\\u003eDepression (%)=%{y}\\u003cextra\\u003e\\u003c\\u002fextra\\u003e\",\"legendgroup\":\"Belarus\",\"marker\":{\"color\":\"#FF97FF\",\"symbol\":\"circle\"},\"mode\":\"markers\",\"name\":\"Belarus\",\"orientation\":\"v\",\"showlegend\":true,\"x\":[9.817717552],\"xaxis\":\"x\",\"y\":[4.022226],\"yaxis\":\"y\",\"type\":\"scatter\"},{\"hovertemplate\":\"Country Name=Belgium\\u003cbr\\u003eLog GDP Per Capita=%{x}\\u003cbr\\u003eDepression (%)=%{y}\\u003cextra\\u003e\\u003c\\u002fextra\\u003e\",\"legendgroup\":\"Belgium\",\"marker\":{\"color\":\"#FECB52\",\"symbol\":\"circle\"},\"mode\":\"markers\",\"name\":\"Belgium\",\"orientation\":\"v\",\"showlegend\":true,\"x\":[10.82858467],\"xaxis\":\"x\",\"y\":[4.109186],\"yaxis\":\"y\",\"type\":\"scatter\"},{\"hovertemplate\":\"Country Name=Benin\\u003cbr\\u003eLog GDP Per Capita=%{x}\\u003cbr\\u003eDepression (%)=%{y}\\u003cextra\\u003e\\u003c\\u002fextra\\u003e\",\"legendgroup\":\"Benin\",\"marker\":{\"color\":\"#636efa\",\"symbol\":\"circle\"},\"mode\":\"markers\",\"name\":\"Benin\",\"orientation\":\"v\",\"showlegend\":true,\"x\":[7.984066486],\"xaxis\":\"x\",\"y\":[3.629899],\"yaxis\":\"y\",\"type\":\"scatter\"},{\"hovertemplate\":\"Country Name=Bolivia\\u003cbr\\u003eLog GDP Per Capita=%{x}\\u003cbr\\u003eDepression (%)=%{y}\\u003cextra\\u003e\\u003c\\u002fextra\\u003e\",\"legendgroup\":\"Bolivia\",\"marker\":{\"color\":\"#EF553B\",\"symbol\":\"circle\"},\"mode\":\"markers\",\"name\":\"Bolivia\",\"orientation\":\"v\",\"showlegend\":true,\"x\":[9.017354012],\"xaxis\":\"x\",\"y\":[3.085905],\"yaxis\":\"y\",\"type\":\"scatter\"},{\"hovertemplate\":\"Country Name=Bosnia and Herzegovina\\u003cbr\\u003eLog GDP Per Capita=%{x}\\u003cbr\\u003eDepression (%)=%{y}\\u003cextra\\u003e\\u003c\\u002fextra\\u003e\",\"legendgroup\":\"Bosnia and Herzegovina\",\"marker\":{\"color\":\"#00cc96\",\"symbol\":\"circle\"},\"mode\":\"markers\",\"name\":\"Bosnia and Herzegovina\",\"orientation\":\"v\",\"showlegend\":true,\"x\":[9.503191948],\"xaxis\":\"x\",\"y\":[2.31961],\"yaxis\":\"y\",\"type\":\"scatter\"},{\"hovertemplate\":\"Country Name=Botswana\\u003cbr\\u003eLog GDP Per Capita=%{x}\\u003cbr\\u003eDepression (%)=%{y}\\u003cextra\\u003e\\u003c\\u002fextra\\u003e\",\"legendgroup\":\"Botswana\",\"marker\":{\"color\":\"#ab63fa\",\"symbol\":\"circle\"},\"mode\":\"markers\",\"name\":\"Botswana\",\"orientation\":\"v\",\"showlegend\":true,\"x\":[9.592658043],\"xaxis\":\"x\",\"y\":[3.968129],\"yaxis\":\"y\",\"type\":\"scatter\"},{\"hovertemplate\":\"Country Name=Brazil\\u003cbr\\u003eLog GDP Per Capita=%{x}\\u003cbr\\u003eDepression (%)=%{y}\\u003cextra\\u003e\\u003c\\u002fextra\\u003e\",\"legendgroup\":\"Brazil\",\"marker\":{\"color\":\"#FFA15A\",\"symbol\":\"circle\"},\"mode\":\"markers\",\"name\":\"Brazil\",\"orientation\":\"v\",\"showlegend\":true,\"x\":[9.580375671],\"xaxis\":\"x\",\"y\":[3.297368],\"yaxis\":\"y\",\"type\":\"scatter\"},{\"hovertemplate\":\"Country Name=Bulgaria\\u003cbr\\u003eLog GDP Per Capita=%{x}\\u003cbr\\u003eDepression (%)=%{y}\\u003cextra\\u003e\\u003c\\u002fextra\\u003e\",\"legendgroup\":\"Bulgaria\",\"marker\":{\"color\":\"#19d3f3\",\"symbol\":\"circle\"},\"mode\":\"markers\",\"name\":\"Bulgaria\",\"orientation\":\"v\",\"showlegend\":true,\"x\":[9.974589348],\"xaxis\":\"x\",\"y\":[2.543141],\"yaxis\":\"y\",\"type\":\"scatter\"},{\"hovertemplate\":\"Country Name=Burkina Faso\\u003cbr\\u003eLog GDP Per Capita=%{x}\\u003cbr\\u003eDepression (%)=%{y}\\u003cextra\\u003e\\u003c\\u002fextra\\u003e\",\"legendgroup\":\"Burkina Faso\",\"marker\":{\"color\":\"#FF6692\",\"symbol\":\"circle\"},\"mode\":\"markers\",\"name\":\"Burkina Faso\",\"orientation\":\"v\",\"showlegend\":true,\"x\":[7.589920044],\"xaxis\":\"x\",\"y\":[3.694254],\"yaxis\":\"y\",\"type\":\"scatter\"},{\"hovertemplate\":\"Country Name=Cambodia\\u003cbr\\u003eLog GDP Per Capita=%{x}\\u003cbr\\u003eDepression (%)=%{y}\\u003cextra\\u003e\\u003c\\u002fextra\\u003e\",\"legendgroup\":\"Cambodia\",\"marker\":{\"color\":\"#B6E880\",\"symbol\":\"circle\"},\"mode\":\"markers\",\"name\":\"Cambodia\",\"orientation\":\"v\",\"showlegend\":true,\"x\":[8.287207603],\"xaxis\":\"x\",\"y\":[3.094945],\"yaxis\":\"y\",\"type\":\"scatter\"},{\"hovertemplate\":\"Country Name=Cameroon\\u003cbr\\u003eLog GDP Per Capita=%{x}\\u003cbr\\u003eDepression (%)=%{y}\\u003cextra\\u003e\\u003c\\u002fextra\\u003e\",\"legendgroup\":\"Cameroon\",\"marker\":{\"color\":\"#FF97FF\",\"symbol\":\"circle\"},\"mode\":\"markers\",\"name\":\"Cameroon\",\"orientation\":\"v\",\"showlegend\":true,\"x\":[8.21367836],\"xaxis\":\"x\",\"y\":[3.745647],\"yaxis\":\"y\",\"type\":\"scatter\"},{\"hovertemplate\":\"Country Name=Canada\\u003cbr\\u003eLog GDP Per Capita=%{x}\\u003cbr\\u003eDepression (%)=%{y}\\u003cextra\\u003e\\u003c\\u002fextra\\u003e\",\"legendgroup\":\"Canada\",\"marker\":{\"color\":\"#FECB52\",\"symbol\":\"circle\"},\"mode\":\"markers\",\"name\":\"Canada\",\"orientation\":\"v\",\"showlegend\":true,\"x\":[10.78554249],\"xaxis\":\"x\",\"y\":[3.988792],\"yaxis\":\"y\",\"type\":\"scatter\"},{\"hovertemplate\":\"Country Name=Chad\\u003cbr\\u003eLog GDP Per Capita=%{x}\\u003cbr\\u003eDepression (%)=%{y}\\u003cextra\\u003e\\u003c\\u002fextra\\u003e\",\"legendgroup\":\"Chad\",\"marker\":{\"color\":\"#636efa\",\"symbol\":\"circle\"},\"mode\":\"markers\",\"name\":\"Chad\",\"orientation\":\"v\",\"showlegend\":true,\"x\":[7.365028381],\"xaxis\":\"x\",\"y\":[3.874837],\"yaxis\":\"y\",\"type\":\"scatter\"},{\"hovertemplate\":\"Country Name=Chile\\u003cbr\\u003eLog GDP Per Capita=%{x}\\u003cbr\\u003eDepression (%)=%{y}\\u003cextra\\u003e\\u003c\\u002fextra\\u003e\",\"legendgroup\":\"Chile\",\"marker\":{\"color\":\"#EF553B\",\"symbol\":\"circle\"},\"mode\":\"markers\",\"name\":\"Chile\",\"orientation\":\"v\",\"showlegend\":true,\"x\":[10.10834122],\"xaxis\":\"x\",\"y\":[4.057723],\"yaxis\":\"y\",\"type\":\"scatter\"},{\"hovertemplate\":\"Country Name=Colombia\\u003cbr\\u003eLog GDP Per Capita=%{x}\\u003cbr\\u003eDepression (%)=%{y}\\u003cextra\\u003e\\u003c\\u002fextra\\u003e\",\"legendgroup\":\"Colombia\",\"marker\":{\"color\":\"#00cc96\",\"symbol\":\"circle\"},\"mode\":\"markers\",\"name\":\"Colombia\",\"orientation\":\"v\",\"showlegend\":true,\"x\":[9.570453644],\"xaxis\":\"x\",\"y\":[2.196154],\"yaxis\":\"y\",\"type\":\"scatter\"},{\"hovertemplate\":\"Country Name=Costa Rica\\u003cbr\\u003eLog GDP Per Capita=%{x}\\u003cbr\\u003eDepression (%)=%{y}\\u003cextra\\u003e\\u003c\\u002fextra\\u003e\",\"legendgroup\":\"Costa Rica\",\"marker\":{\"color\":\"#ab63fa\",\"symbol\":\"circle\"},\"mode\":\"markers\",\"name\":\"Costa Rica\",\"orientation\":\"v\",\"showlegend\":true,\"x\":[9.911863327],\"xaxis\":\"x\",\"y\":[2.904788],\"yaxis\":\"y\",\"type\":\"scatter\"},{\"hovertemplate\":\"Country Name=Croatia\\u003cbr\\u003eLog GDP Per Capita=%{x}\\u003cbr\\u003eDepression (%)=%{y}\\u003cextra\\u003e\\u003c\\u002fextra\\u003e\",\"legendgroup\":\"Croatia\",\"marker\":{\"color\":\"#FFA15A\",\"symbol\":\"circle\"},\"mode\":\"markers\",\"name\":\"Croatia\",\"orientation\":\"v\",\"showlegend\":true,\"x\":[10.21140671],\"xaxis\":\"x\",\"y\":[2.779842],\"yaxis\":\"y\",\"type\":\"scatter\"},{\"hovertemplate\":\"Country Name=Cyprus\\u003cbr\\u003eLog GDP Per Capita=%{x}\\u003cbr\\u003eDepression (%)=%{y}\\u003cextra\\u003e\\u003c\\u002fextra\\u003e\",\"legendgroup\":\"Cyprus\",\"marker\":{\"color\":\"#19d3f3\",\"symbol\":\"circle\"},\"mode\":\"markers\",\"name\":\"Cyprus\",\"orientation\":\"v\",\"showlegend\":true,\"x\":[10.55638504],\"xaxis\":\"x\",\"y\":[3.328111],\"yaxis\":\"y\",\"type\":\"scatter\"},{\"hovertemplate\":\"Country Name=Denmark\\u003cbr\\u003eLog GDP Per Capita=%{x}\\u003cbr\\u003eDepression (%)=%{y}\\u003cextra\\u003e\\u003c\\u002fextra\\u003e\",\"legendgroup\":\"Denmark\",\"marker\":{\"color\":\"#FF6692\",\"symbol\":\"circle\"},\"mode\":\"markers\",\"name\":\"Denmark\",\"orientation\":\"v\",\"showlegend\":true,\"x\":[10.92155266],\"xaxis\":\"x\",\"y\":[3.291885],\"yaxis\":\"y\",\"type\":\"scatter\"},{\"hovertemplate\":\"Country Name=Dominican Republic\\u003cbr\\u003eLog GDP Per Capita=%{x}\\u003cbr\\u003eDepression (%)=%{y}\\u003cextra\\u003e\\u003c\\u002fextra\\u003e\",\"legendgroup\":\"Dominican Republic\",\"marker\":{\"color\":\"#B6E880\",\"symbol\":\"circle\"},\"mode\":\"markers\",\"name\":\"Dominican Republic\",\"orientation\":\"v\",\"showlegend\":true,\"x\":[9.712601662],\"xaxis\":\"x\",\"y\":[2.978523],\"yaxis\":\"y\",\"type\":\"scatter\"},{\"hovertemplate\":\"Country Name=Ecuador\\u003cbr\\u003eLog GDP Per Capita=%{x}\\u003cbr\\u003eDepression (%)=%{y}\\u003cextra\\u003e\\u003c\\u002fextra\\u003e\",\"legendgroup\":\"Ecuador\",\"marker\":{\"color\":\"#FF97FF\",\"symbol\":\"circle\"},\"mode\":\"markers\",\"name\":\"Ecuador\",\"orientation\":\"v\",\"showlegend\":true,\"x\":[9.365584373],\"xaxis\":\"x\",\"y\":[2.977117],\"yaxis\":\"y\",\"type\":\"scatter\"},{\"hovertemplate\":\"Country Name=El Salvador\\u003cbr\\u003eLog GDP Per Capita=%{x}\\u003cbr\\u003eDepression (%)=%{y}\\u003cextra\\u003e\\u003c\\u002fextra\\u003e\",\"legendgroup\":\"El Salvador\",\"marker\":{\"color\":\"#FECB52\",\"symbol\":\"circle\"},\"mode\":\"markers\",\"name\":\"El Salvador\",\"orientation\":\"v\",\"showlegend\":true,\"x\":[9.061598778],\"xaxis\":\"x\",\"y\":[3.025887],\"yaxis\":\"y\",\"type\":\"scatter\"},{\"hovertemplate\":\"Country Name=Estonia\\u003cbr\\u003eLog GDP Per Capita=%{x}\\u003cbr\\u003eDepression (%)=%{y}\\u003cextra\\u003e\\u003c\\u002fextra\\u003e\",\"legendgroup\":\"Estonia\",\"marker\":{\"color\":\"#636efa\",\"symbol\":\"circle\"},\"mode\":\"markers\",\"name\":\"Estonia\",\"orientation\":\"v\",\"showlegend\":true,\"x\":[10.42886448],\"xaxis\":\"x\",\"y\":[3.848854],\"yaxis\":\"y\",\"type\":\"scatter\"},{\"hovertemplate\":\"Country Name=Ethiopia\\u003cbr\\u003eLog GDP Per Capita=%{x}\\u003cbr\\u003eDepression (%)=%{y}\\u003cextra\\u003e\\u003c\\u002fextra\\u003e\",\"legendgroup\":\"Ethiopia\",\"marker\":{\"color\":\"#EF553B\",\"symbol\":\"circle\"},\"mode\":\"markers\",\"name\":\"Ethiopia\",\"orientation\":\"v\",\"showlegend\":true,\"x\":[7.59486866],\"xaxis\":\"x\",\"y\":[3.816266],\"yaxis\":\"y\",\"type\":\"scatter\"},{\"hovertemplate\":\"Country Name=Finland\\u003cbr\\u003eLog GDP Per Capita=%{x}\\u003cbr\\u003eDepression (%)=%{y}\\u003cextra\\u003e\\u003c\\u002fextra\\u003e\",\"legendgroup\":\"Finland\",\"marker\":{\"color\":\"#00cc96\",\"symbol\":\"circle\"},\"mode\":\"markers\",\"name\":\"Finland\",\"orientation\":\"v\",\"showlegend\":true,\"x\":[10.7699604],\"xaxis\":\"x\",\"y\":[4.792736],\"yaxis\":\"y\",\"type\":\"scatter\"},{\"hovertemplate\":\"Country Name=France\\u003cbr\\u003eLog GDP Per Capita=%{x}\\u003cbr\\u003eDepression (%)=%{y}\\u003cextra\\u003e\\u003c\\u002fextra\\u003e\",\"legendgroup\":\"France\",\"marker\":{\"color\":\"#ab63fa\",\"symbol\":\"circle\"},\"mode\":\"markers\",\"name\":\"France\",\"orientation\":\"v\",\"showlegend\":true,\"x\":[10.70497513],\"xaxis\":\"x\",\"y\":[4.253807],\"yaxis\":\"y\",\"type\":\"scatter\"},{\"hovertemplate\":\"Country Name=Gabon\\u003cbr\\u003eLog GDP Per Capita=%{x}\\u003cbr\\u003eDepression (%)=%{y}\\u003cextra\\u003e\\u003c\\u002fextra\\u003e\",\"legendgroup\":\"Gabon\",\"marker\":{\"color\":\"#FFA15A\",\"symbol\":\"circle\"},\"mode\":\"markers\",\"name\":\"Gabon\",\"orientation\":\"v\",\"showlegend\":true,\"x\":[9.580394745],\"xaxis\":\"x\",\"y\":[4.049029],\"yaxis\":\"y\",\"type\":\"scatter\"},{\"hovertemplate\":\"Country Name=Gambia\\u003cbr\\u003eLog GDP Per Capita=%{x}\\u003cbr\\u003eDepression (%)=%{y}\\u003cextra\\u003e\\u003c\\u002fextra\\u003e\",\"legendgroup\":\"Gambia\",\"marker\":{\"color\":\"#19d3f3\",\"symbol\":\"circle\"},\"mode\":\"markers\",\"name\":\"Gambia\",\"orientation\":\"v\",\"showlegend\":true,\"x\":[7.563740253],\"xaxis\":\"x\",\"y\":[4.158517],\"yaxis\":\"y\",\"type\":\"scatter\"},{\"hovertemplate\":\"Country Name=Georgia\\u003cbr\\u003eLog GDP Per Capita=%{x}\\u003cbr\\u003eDepression (%)=%{y}\\u003cextra\\u003e\\u003c\\u002fextra\\u003e\",\"legendgroup\":\"Georgia\",\"marker\":{\"color\":\"#FF6692\",\"symbol\":\"circle\"},\"mode\":\"markers\",\"name\":\"Georgia\",\"orientation\":\"v\",\"showlegend\":true,\"x\":[9.517067909],\"xaxis\":\"x\",\"y\":[2.797379],\"yaxis\":\"y\",\"type\":\"scatter\"},{\"hovertemplate\":\"Country Name=Germany\\u003cbr\\u003eLog GDP Per Capita=%{x}\\u003cbr\\u003eDepression (%)=%{y}\\u003cextra\\u003e\\u003c\\u002fextra\\u003e\",\"legendgroup\":\"Germany\",\"marker\":{\"color\":\"#B6E880\",\"symbol\":\"circle\"},\"mode\":\"markers\",\"name\":\"Germany\",\"orientation\":\"v\",\"showlegend\":true,\"x\":[10.87939453],\"xaxis\":\"x\",\"y\":[3.959866],\"yaxis\":\"y\",\"type\":\"scatter\"},{\"hovertemplate\":\"Country Name=Ghana\\u003cbr\\u003eLog GDP Per Capita=%{x}\\u003cbr\\u003eDepression (%)=%{y}\\u003cextra\\u003e\\u003c\\u002fextra\\u003e\",\"legendgroup\":\"Ghana\",\"marker\":{\"color\":\"#FF97FF\",\"symbol\":\"circle\"},\"mode\":\"markers\",\"name\":\"Ghana\",\"orientation\":\"v\",\"showlegend\":true,\"x\":[8.503006935],\"xaxis\":\"x\",\"y\":[3.396647],\"yaxis\":\"y\",\"type\":\"scatter\"},{\"hovertemplate\":\"Country Name=Greece\\u003cbr\\u003eLog GDP Per Capita=%{x}\\u003cbr\\u003eDepression (%)=%{y}\\u003cextra\\u003e\\u003c\\u002fextra\\u003e\",\"legendgroup\":\"Greece\",\"marker\":{\"color\":\"#FECB52\",\"symbol\":\"circle\"},\"mode\":\"markers\",\"name\":\"Greece\",\"orientation\":\"v\",\"showlegend\":true,\"x\":[10.26133156],\"xaxis\":\"x\",\"y\":[4.185864],\"yaxis\":\"y\",\"type\":\"scatter\"},{\"hovertemplate\":\"Country Name=Guatemala\\u003cbr\\u003eLog GDP Per Capita=%{x}\\u003cbr\\u003eDepression (%)=%{y}\\u003cextra\\u003e\\u003c\\u002fextra\\u003e\",\"legendgroup\":\"Guatemala\",\"marker\":{\"color\":\"#636efa\",\"symbol\":\"circle\"},\"mode\":\"markers\",\"name\":\"Guatemala\",\"orientation\":\"v\",\"showlegend\":true,\"x\":[9.026683807],\"xaxis\":\"x\",\"y\":[3.216025],\"yaxis\":\"y\",\"type\":\"scatter\"},{\"hovertemplate\":\"Country Name=Guinea\\u003cbr\\u003eLog GDP Per Capita=%{x}\\u003cbr\\u003eDepression (%)=%{y}\\u003cextra\\u003e\\u003c\\u002fextra\\u003e\",\"legendgroup\":\"Guinea\",\"marker\":{\"color\":\"#EF553B\",\"symbol\":\"circle\"},\"mode\":\"markers\",\"name\":\"Guinea\",\"orientation\":\"v\",\"showlegend\":true,\"x\":[7.776358128],\"xaxis\":\"x\",\"y\":[3.560933],\"yaxis\":\"y\",\"type\":\"scatter\"},{\"hovertemplate\":\"Country Name=Haiti\\u003cbr\\u003eLog GDP Per Capita=%{x}\\u003cbr\\u003eDepression (%)=%{y}\\u003cextra\\u003e\\u003c\\u002fextra\\u003e\",\"legendgroup\":\"Haiti\",\"marker\":{\"color\":\"#00cc96\",\"symbol\":\"circle\"},\"mode\":\"markers\",\"name\":\"Haiti\",\"orientation\":\"v\",\"showlegend\":true,\"x\":[8.067083359],\"xaxis\":\"x\",\"y\":[2.957782],\"yaxis\":\"y\",\"type\":\"scatter\"},{\"hovertemplate\":\"Country Name=Honduras\\u003cbr\\u003eLog GDP Per Capita=%{x}\\u003cbr\\u003eDepression (%)=%{y}\\u003cextra\\u003e\\u003c\\u002fextra\\u003e\",\"legendgroup\":\"Honduras\",\"marker\":{\"color\":\"#ab63fa\",\"symbol\":\"circle\"},\"mode\":\"markers\",\"name\":\"Honduras\",\"orientation\":\"v\",\"showlegend\":true,\"x\":[8.602948189],\"xaxis\":\"x\",\"y\":[2.752301],\"yaxis\":\"y\",\"type\":\"scatter\"},{\"hovertemplate\":\"Country Name=Hungary\\u003cbr\\u003eLog GDP Per Capita=%{x}\\u003cbr\\u003eDepression (%)=%{y}\\u003cextra\\u003e\\u003c\\u002fextra\\u003e\",\"legendgroup\":\"Hungary\",\"marker\":{\"color\":\"#FFA15A\",\"symbol\":\"circle\"},\"mode\":\"markers\",\"name\":\"Hungary\",\"orientation\":\"v\",\"showlegend\":true,\"x\":[10.29218388],\"xaxis\":\"x\",\"y\":[2.765242],\"yaxis\":\"y\",\"type\":\"scatter\"},{\"hovertemplate\":\"Country Name=Iceland\\u003cbr\\u003eLog GDP Per Capita=%{x}\\u003cbr\\u003eDepression (%)=%{y}\\u003cextra\\u003e\\u003c\\u002fextra\\u003e\",\"legendgroup\":\"Iceland\",\"marker\":{\"color\":\"#19d3f3\",\"symbol\":\"circle\"},\"mode\":\"markers\",\"name\":\"Iceland\",\"orientation\":\"v\",\"showlegend\":true,\"x\":[10.92663097],\"xaxis\":\"x\",\"y\":[3.361665],\"yaxis\":\"y\",\"type\":\"scatter\"},{\"hovertemplate\":\"Country Name=India\\u003cbr\\u003eLog GDP Per Capita=%{x}\\u003cbr\\u003eDepression (%)=%{y}\\u003cextra\\u003e\\u003c\\u002fextra\\u003e\",\"legendgroup\":\"India\",\"marker\":{\"color\":\"#FF6692\",\"symbol\":\"circle\"},\"mode\":\"markers\",\"name\":\"India\",\"orientation\":\"v\",\"showlegend\":true,\"x\":[8.718020439],\"xaxis\":\"x\",\"y\":[3.529853],\"yaxis\":\"y\",\"type\":\"scatter\"},{\"hovertemplate\":\"Country Name=Indonesia\\u003cbr\\u003eLog GDP Per Capita=%{x}\\u003cbr\\u003eDepression (%)=%{y}\\u003cextra\\u003e\\u003c\\u002fextra\\u003e\",\"legendgroup\":\"Indonesia\",\"marker\":{\"color\":\"#B6E880\",\"symbol\":\"circle\"},\"mode\":\"markers\",\"name\":\"Indonesia\",\"orientation\":\"v\",\"showlegend\":true,\"x\":[9.300356865],\"xaxis\":\"x\",\"y\":[2.642736],\"yaxis\":\"y\",\"type\":\"scatter\"},{\"hovertemplate\":\"Country Name=Iraq\\u003cbr\\u003eLog GDP Per Capita=%{x}\\u003cbr\\u003eDepression (%)=%{y}\\u003cextra\\u003e\\u003c\\u002fextra\\u003e\",\"legendgroup\":\"Iraq\",\"marker\":{\"color\":\"#FF97FF\",\"symbol\":\"circle\"},\"mode\":\"markers\",\"name\":\"Iraq\",\"orientation\":\"v\",\"showlegend\":true,\"x\":[9.208023071],\"xaxis\":\"x\",\"y\":[3.891163],\"yaxis\":\"y\",\"type\":\"scatter\"},{\"hovertemplate\":\"Country Name=Ireland\\u003cbr\\u003eLog GDP Per Capita=%{x}\\u003cbr\\u003eDepression (%)=%{y}\\u003cextra\\u003e\\u003c\\u002fextra\\u003e\",\"legendgroup\":\"Ireland\",\"marker\":{\"color\":\"#FECB52\",\"symbol\":\"circle\"},\"mode\":\"markers\",\"name\":\"Ireland\",\"orientation\":\"v\",\"showlegend\":true,\"x\":[11.26124382],\"xaxis\":\"x\",\"y\":[4.250921],\"yaxis\":\"y\",\"type\":\"scatter\"},{\"hovertemplate\":\"Country Name=Israel\\u003cbr\\u003eLog GDP Per Capita=%{x}\\u003cbr\\u003eDepression (%)=%{y}\\u003cextra\\u003e\\u003c\\u002fextra\\u003e\",\"legendgroup\":\"Israel\",\"marker\":{\"color\":\"#636efa\",\"symbol\":\"circle\"},\"mode\":\"markers\",\"name\":\"Israel\",\"orientation\":\"v\",\"showlegend\":true,\"x\":[10.57442188],\"xaxis\":\"x\",\"y\":[3.832221],\"yaxis\":\"y\",\"type\":\"scatter\"},{\"hovertemplate\":\"Country Name=Italy\\u003cbr\\u003eLog GDP Per Capita=%{x}\\u003cbr\\u003eDepression (%)=%{y}\\u003cextra\\u003e\\u003c\\u002fextra\\u003e\",\"legendgroup\":\"Italy\",\"marker\":{\"color\":\"#EF553B\",\"symbol\":\"circle\"},\"mode\":\"markers\",\"name\":\"Italy\",\"orientation\":\"v\",\"showlegend\":true,\"x\":[10.63540173],\"xaxis\":\"x\",\"y\":[3.464256],\"yaxis\":\"y\",\"type\":\"scatter\"},{\"hovertemplate\":\"Country Name=Jamaica\\u003cbr\\u003eLog GDP Per Capita=%{x}\\u003cbr\\u003eDepression (%)=%{y}\\u003cextra\\u003e\\u003c\\u002fextra\\u003e\",\"legendgroup\":\"Jamaica\",\"marker\":{\"color\":\"#00cc96\",\"symbol\":\"circle\"},\"mode\":\"markers\",\"name\":\"Jamaica\",\"orientation\":\"v\",\"showlegend\":true,\"x\":[9.208796501],\"xaxis\":\"x\",\"y\":[2.592385],\"yaxis\":\"y\",\"type\":\"scatter\"},{\"hovertemplate\":\"Country Name=Japan\\u003cbr\\u003eLog GDP Per Capita=%{x}\\u003cbr\\u003eDepression (%)=%{y}\\u003cextra\\u003e\\u003c\\u002fextra\\u003e\",\"legendgroup\":\"Japan\",\"marker\":{\"color\":\"#ab63fa\",\"symbol\":\"circle\"},\"mode\":\"markers\",\"name\":\"Japan\",\"orientation\":\"v\",\"showlegend\":true,\"x\":[10.63210392],\"xaxis\":\"x\",\"y\":[3.341565],\"yaxis\":\"y\",\"type\":\"scatter\"},{\"hovertemplate\":\"Country Name=Kazakhstan\\u003cbr\\u003eLog GDP Per Capita=%{x}\\u003cbr\\u003eDepression (%)=%{y}\\u003cextra\\u003e\\u003c\\u002fextra\\u003e\",\"legendgroup\":\"Kazakhstan\",\"marker\":{\"color\":\"#FFA15A\",\"symbol\":\"circle\"},\"mode\":\"markers\",\"name\":\"Kazakhstan\",\"orientation\":\"v\",\"showlegend\":true,\"x\":[10.12113476],\"xaxis\":\"x\",\"y\":[3.511775],\"yaxis\":\"y\",\"type\":\"scatter\"},{\"hovertemplate\":\"Country Name=Kenya\\u003cbr\\u003eLog GDP Per Capita=%{x}\\u003cbr\\u003eDepression (%)=%{y}\\u003cextra\\u003e\\u003c\\u002fextra\\u003e\",\"legendgroup\":\"Kenya\",\"marker\":{\"color\":\"#19d3f3\",\"symbol\":\"circle\"},\"mode\":\"markers\",\"name\":\"Kenya\",\"orientation\":\"v\",\"showlegend\":true,\"x\":[8.369367599],\"xaxis\":\"x\",\"y\":[3.508419],\"yaxis\":\"y\",\"type\":\"scatter\"},{\"hovertemplate\":\"Country Name=Kyrgyzstan\\u003cbr\\u003eLog GDP Per Capita=%{x}\\u003cbr\\u003eDepression (%)=%{y}\\u003cextra\\u003e\\u003c\\u002fextra\\u003e\",\"legendgroup\":\"Kyrgyzstan\",\"marker\":{\"color\":\"#FF6692\",\"symbol\":\"circle\"},\"mode\":\"markers\",\"name\":\"Kyrgyzstan\",\"orientation\":\"v\",\"showlegend\":true,\"x\":[8.526488304],\"xaxis\":\"x\",\"y\":[3.053673],\"yaxis\":\"y\",\"type\":\"scatter\"},{\"hovertemplate\":\"Country Name=Laos\\u003cbr\\u003eLog GDP Per Capita=%{x}\\u003cbr\\u003eDepression (%)=%{y}\\u003cextra\\u003e\\u003c\\u002fextra\\u003e\",\"legendgroup\":\"Laos\",\"marker\":{\"color\":\"#B6E880\",\"symbol\":\"circle\"},\"mode\":\"markers\",\"name\":\"Laos\",\"orientation\":\"v\",\"showlegend\":true,\"x\":[8.88339901],\"xaxis\":\"x\",\"y\":[2.912431],\"yaxis\":\"y\",\"type\":\"scatter\"},{\"hovertemplate\":\"Country Name=Latvia\\u003cbr\\u003eLog GDP Per Capita=%{x}\\u003cbr\\u003eDepression (%)=%{y}\\u003cextra\\u003e\\u003c\\u002fextra\\u003e\",\"legendgroup\":\"Latvia\",\"marker\":{\"color\":\"#FF97FF\",\"symbol\":\"circle\"},\"mode\":\"markers\",\"name\":\"Latvia\",\"orientation\":\"v\",\"showlegend\":true,\"x\":[10.263731],\"xaxis\":\"x\",\"y\":[3.499571],\"yaxis\":\"y\",\"type\":\"scatter\"},{\"hovertemplate\":\"Country Name=Lebanon\\u003cbr\\u003eLog GDP Per Capita=%{x}\\u003cbr\\u003eDepression (%)=%{y}\\u003cextra\\u003e\\u003c\\u002fextra\\u003e\",\"legendgroup\":\"Lebanon\",\"marker\":{\"color\":\"#FECB52\",\"symbol\":\"circle\"},\"mode\":\"markers\",\"name\":\"Lebanon\",\"orientation\":\"v\",\"showlegend\":true,\"x\":[9.787406921],\"xaxis\":\"x\",\"y\":[3.676734],\"yaxis\":\"y\",\"type\":\"scatter\"},{\"hovertemplate\":\"Country Name=Lesotho\\u003cbr\\u003eLog GDP Per Capita=%{x}\\u003cbr\\u003eDepression (%)=%{y}\\u003cextra\\u003e\\u003c\\u002fextra\\u003e\",\"legendgroup\":\"Lesotho\",\"marker\":{\"color\":\"#636efa\",\"symbol\":\"circle\"},\"mode\":\"markers\",\"name\":\"Lesotho\",\"orientation\":\"v\",\"showlegend\":true,\"x\":[7.852320194],\"xaxis\":\"x\",\"y\":[5.636661],\"yaxis\":\"y\",\"type\":\"scatter\"},{\"hovertemplate\":\"Country Name=Liberia\\u003cbr\\u003eLog GDP Per Capita=%{x}\\u003cbr\\u003eDepression (%)=%{y}\\u003cextra\\u003e\\u003c\\u002fextra\\u003e\",\"legendgroup\":\"Liberia\",\"marker\":{\"color\":\"#EF553B\",\"symbol\":\"circle\"},\"mode\":\"markers\",\"name\":\"Liberia\",\"orientation\":\"v\",\"showlegend\":true,\"x\":[7.335249901],\"xaxis\":\"x\",\"y\":[3.803038],\"yaxis\":\"y\",\"type\":\"scatter\"},{\"hovertemplate\":\"Country Name=Lithuania\\u003cbr\\u003eLog GDP Per Capita=%{x}\\u003cbr\\u003eDepression (%)=%{y}\\u003cextra\\u003e\\u003c\\u002fextra\\u003e\",\"legendgroup\":\"Lithuania\",\"marker\":{\"color\":\"#00cc96\",\"symbol\":\"circle\"},\"mode\":\"markers\",\"name\":\"Lithuania\",\"orientation\":\"v\",\"showlegend\":true,\"x\":[10.42708778],\"xaxis\":\"x\",\"y\":[4.143254],\"yaxis\":\"y\",\"type\":\"scatter\"},{\"hovertemplate\":\"Country Name=Luxembourg\\u003cbr\\u003eLog GDP Per Capita=%{x}\\u003cbr\\u003eDepression (%)=%{y}\\u003cextra\\u003e\\u003c\\u002fextra\\u003e\",\"legendgroup\":\"Luxembourg\",\"marker\":{\"color\":\"#ab63fa\",\"symbol\":\"circle\"},\"mode\":\"markers\",\"name\":\"Luxembourg\",\"orientation\":\"v\",\"showlegend\":true,\"x\":[11.65256405],\"xaxis\":\"x\",\"y\":[3.617719],\"yaxis\":\"y\",\"type\":\"scatter\"},{\"hovertemplate\":\"Country Name=Madagascar\\u003cbr\\u003eLog GDP Per Capita=%{x}\\u003cbr\\u003eDepression (%)=%{y}\\u003cextra\\u003e\\u003c\\u002fextra\\u003e\",\"legendgroup\":\"Madagascar\",\"marker\":{\"color\":\"#FFA15A\",\"symbol\":\"circle\"},\"mode\":\"markers\",\"name\":\"Madagascar\",\"orientation\":\"v\",\"showlegend\":true,\"x\":[7.344820023],\"xaxis\":\"x\",\"y\":[3.708514],\"yaxis\":\"y\",\"type\":\"scatter\"},{\"hovertemplate\":\"Country Name=Malawi\\u003cbr\\u003eLog GDP Per Capita=%{x}\\u003cbr\\u003eDepression (%)=%{y}\\u003cextra\\u003e\\u003c\\u002fextra\\u003e\",\"legendgroup\":\"Malawi\",\"marker\":{\"color\":\"#19d3f3\",\"symbol\":\"circle\"},\"mode\":\"markers\",\"name\":\"Malawi\",\"orientation\":\"v\",\"showlegend\":true,\"x\":[7.282608032],\"xaxis\":\"x\",\"y\":[3.446137],\"yaxis\":\"y\",\"type\":\"scatter\"},{\"hovertemplate\":\"Country Name=Mali\\u003cbr\\u003eLog GDP Per Capita=%{x}\\u003cbr\\u003eDepression (%)=%{y}\\u003cextra\\u003e\\u003c\\u002fextra\\u003e\",\"legendgroup\":\"Mali\",\"marker\":{\"color\":\"#FF6692\",\"symbol\":\"circle\"},\"mode\":\"markers\",\"name\":\"Mali\",\"orientation\":\"v\",\"showlegend\":true,\"x\":[7.675010204],\"xaxis\":\"x\",\"y\":[3.00742],\"yaxis\":\"y\",\"type\":\"scatter\"},{\"hovertemplate\":\"Country Name=Malta\\u003cbr\\u003eLog GDP Per Capita=%{x}\\u003cbr\\u003eDepression (%)=%{y}\\u003cextra\\u003e\\u003c\\u002fextra\\u003e\",\"legendgroup\":\"Malta\",\"marker\":{\"color\":\"#B6E880\",\"symbol\":\"circle\"},\"mode\":\"markers\",\"name\":\"Malta\",\"orientation\":\"v\",\"showlegend\":true,\"x\":[10.68089676],\"xaxis\":\"x\",\"y\":[3.374137],\"yaxis\":\"y\",\"type\":\"scatter\"},{\"hovertemplate\":\"Country Name=Mauritania\\u003cbr\\u003eLog GDP Per Capita=%{x}\\u003cbr\\u003eDepression (%)=%{y}\\u003cextra\\u003e\\u003c\\u002fextra\\u003e\",\"legendgroup\":\"Mauritania\",\"marker\":{\"color\":\"#FF97FF\",\"symbol\":\"circle\"},\"mode\":\"markers\",\"name\":\"Mauritania\",\"orientation\":\"v\",\"showlegend\":true,\"x\":[8.567708969],\"xaxis\":\"x\",\"y\":[3.094161],\"yaxis\":\"y\",\"type\":\"scatter\"},{\"hovertemplate\":\"Country Name=Mauritius\\u003cbr\\u003eLog GDP Per Capita=%{x}\\u003cbr\\u003eDepression (%)=%{y}\\u003cextra\\u003e\\u003c\\u002fextra\\u003e\",\"legendgroup\":\"Mauritius\",\"marker\":{\"color\":\"#FECB52\",\"symbol\":\"circle\"},\"mode\":\"markers\",\"name\":\"Mauritius\",\"orientation\":\"v\",\"showlegend\":true,\"x\":[10.00553036],\"xaxis\":\"x\",\"y\":[3.478524],\"yaxis\":\"y\",\"type\":\"scatter\"},{\"hovertemplate\":\"Country Name=Mexico\\u003cbr\\u003eLog GDP Per Capita=%{x}\\u003cbr\\u003eDepression (%)=%{y}\\u003cextra\\u003e\\u003c\\u002fextra\\u003e\",\"legendgroup\":\"Mexico\",\"marker\":{\"color\":\"#636efa\",\"symbol\":\"circle\"},\"mode\":\"markers\",\"name\":\"Mexico\",\"orientation\":\"v\",\"showlegend\":true,\"x\":[9.905106544],\"xaxis\":\"x\",\"y\":[2.788807],\"yaxis\":\"y\",\"type\":\"scatter\"},{\"hovertemplate\":\"Country Name=Moldova\\u003cbr\\u003eLog GDP Per Capita=%{x}\\u003cbr\\u003eDepression (%)=%{y}\\u003cextra\\u003e\\u003c\\u002fextra\\u003e\",\"legendgroup\":\"Moldova\",\"marker\":{\"color\":\"#EF553B\",\"symbol\":\"circle\"},\"mode\":\"markers\",\"name\":\"Moldova\",\"orientation\":\"v\",\"showlegend\":true,\"x\":[9.363162994],\"xaxis\":\"x\",\"y\":[3.432549],\"yaxis\":\"y\",\"type\":\"scatter\"},{\"hovertemplate\":\"Country Name=Mongolia\\u003cbr\\u003eLog GDP Per Capita=%{x}\\u003cbr\\u003eDepression (%)=%{y}\\u003cextra\\u003e\\u003c\\u002fextra\\u003e\",\"legendgroup\":\"Mongolia\",\"marker\":{\"color\":\"#00cc96\",\"symbol\":\"circle\"},\"mode\":\"markers\",\"name\":\"Mongolia\",\"orientation\":\"v\",\"showlegend\":true,\"x\":[9.344127655],\"xaxis\":\"x\",\"y\":[3.525488],\"yaxis\":\"y\",\"type\":\"scatter\"},{\"hovertemplate\":\"Country Name=Montenegro\\u003cbr\\u003eLog GDP Per Capita=%{x}\\u003cbr\\u003eDepression (%)=%{y}\\u003cextra\\u003e\\u003c\\u002fextra\\u003e\",\"legendgroup\":\"Montenegro\",\"marker\":{\"color\":\"#ab63fa\",\"symbol\":\"circle\"},\"mode\":\"markers\",\"name\":\"Montenegro\",\"orientation\":\"v\",\"showlegend\":true,\"x\":[9.887653351],\"xaxis\":\"x\",\"y\":[2.55864],\"yaxis\":\"y\",\"type\":\"scatter\"},{\"hovertemplate\":\"Country Name=Mozambique\\u003cbr\\u003eLog GDP Per Capita=%{x}\\u003cbr\\u003eDepression (%)=%{y}\\u003cextra\\u003e\\u003c\\u002fextra\\u003e\",\"legendgroup\":\"Mozambique\",\"marker\":{\"color\":\"#FFA15A\",\"symbol\":\"circle\"},\"mode\":\"markers\",\"name\":\"Mozambique\",\"orientation\":\"v\",\"showlegend\":true,\"x\":[7.160251617],\"xaxis\":\"x\",\"y\":[3.901795],\"yaxis\":\"y\",\"type\":\"scatter\"},{\"hovertemplate\":\"Country Name=Myanmar\\u003cbr\\u003eLog GDP Per Capita=%{x}\\u003cbr\\u003eDepression (%)=%{y}\\u003cextra\\u003e\\u003c\\u002fextra\\u003e\",\"legendgroup\":\"Myanmar\",\"marker\":{\"color\":\"#19d3f3\",\"symbol\":\"circle\"},\"mode\":\"markers\",\"name\":\"Myanmar\",\"orientation\":\"v\",\"showlegend\":true,\"x\":[8.369377136],\"xaxis\":\"x\",\"y\":[2.300982],\"yaxis\":\"y\",\"type\":\"scatter\"},{\"hovertemplate\":\"Country Name=Namibia\\u003cbr\\u003eLog GDP Per Capita=%{x}\\u003cbr\\u003eDepression (%)=%{y}\\u003cextra\\u003e\\u003c\\u002fextra\\u003e\",\"legendgroup\":\"Namibia\",\"marker\":{\"color\":\"#FF6692\",\"symbol\":\"circle\"},\"mode\":\"markers\",\"name\":\"Namibia\",\"orientation\":\"v\",\"showlegend\":true,\"x\":[9.243317604],\"xaxis\":\"x\",\"y\":[3.45997],\"yaxis\":\"y\",\"type\":\"scatter\"},{\"hovertemplate\":\"Country Name=Nepal\\u003cbr\\u003eLog GDP Per Capita=%{x}\\u003cbr\\u003eDepression (%)=%{y}\\u003cextra\\u003e\\u003c\\u002fextra\\u003e\",\"legendgroup\":\"Nepal\",\"marker\":{\"color\":\"#B6E880\",\"symbol\":\"circle\"},\"mode\":\"markers\",\"name\":\"Nepal\",\"orientation\":\"v\",\"showlegend\":true,\"x\":[8.159239769],\"xaxis\":\"x\",\"y\":[3.606939],\"yaxis\":\"y\",\"type\":\"scatter\"},{\"hovertemplate\":\"Country Name=Netherlands\\u003cbr\\u003eLog GDP Per Capita=%{x}\\u003cbr\\u003eDepression (%)=%{y}\\u003cextra\\u003e\\u003c\\u002fextra\\u003e\",\"legendgroup\":\"Netherlands\",\"marker\":{\"color\":\"#FF97FF\",\"symbol\":\"circle\"},\"mode\":\"markers\",\"name\":\"Netherlands\",\"orientation\":\"v\",\"showlegend\":true,\"x\":[10.91669846],\"xaxis\":\"x\",\"y\":[4.026854],\"yaxis\":\"y\",\"type\":\"scatter\"},{\"hovertemplate\":\"Country Name=New Zealand\\u003cbr\\u003eLog GDP Per Capita=%{x}\\u003cbr\\u003eDepression (%)=%{y}\\u003cextra\\u003e\\u003c\\u002fextra\\u003e\",\"legendgroup\":\"New Zealand\",\"marker\":{\"color\":\"#FECB52\",\"symbol\":\"circle\"},\"mode\":\"markers\",\"name\":\"New Zealand\",\"orientation\":\"v\",\"showlegend\":true,\"x\":[10.65061474],\"xaxis\":\"x\",\"y\":[3.971265],\"yaxis\":\"y\",\"type\":\"scatter\"},{\"hovertemplate\":\"Country Name=Nicaragua\\u003cbr\\u003eLog GDP Per Capita=%{x}\\u003cbr\\u003eDepression (%)=%{y}\\u003cextra\\u003e\\u003c\\u002fextra\\u003e\",\"legendgroup\":\"Nicaragua\",\"marker\":{\"color\":\"#636efa\",\"symbol\":\"circle\"},\"mode\":\"markers\",\"name\":\"Nicaragua\",\"orientation\":\"v\",\"showlegend\":true,\"x\":[8.685310364],\"xaxis\":\"x\",\"y\":[2.854084],\"yaxis\":\"y\",\"type\":\"scatter\"},{\"hovertemplate\":\"Country Name=Niger\\u003cbr\\u003eLog GDP Per Capita=%{x}\\u003cbr\\u003eDepression (%)=%{y}\\u003cextra\\u003e\\u003c\\u002fextra\\u003e\",\"legendgroup\":\"Niger\",\"marker\":{\"color\":\"#EF553B\",\"symbol\":\"circle\"},\"mode\":\"markers\",\"name\":\"Niger\",\"orientation\":\"v\",\"showlegend\":true,\"x\":[7.052698135],\"xaxis\":\"x\",\"y\":[3.463055],\"yaxis\":\"y\",\"type\":\"scatter\"},{\"hovertemplate\":\"Country Name=Nigeria\\u003cbr\\u003eLog GDP Per Capita=%{x}\\u003cbr\\u003eDepression (%)=%{y}\\u003cextra\\u003e\\u003c\\u002fextra\\u003e\",\"legendgroup\":\"Nigeria\",\"marker\":{\"color\":\"#00cc96\",\"symbol\":\"circle\"},\"mode\":\"markers\",\"name\":\"Nigeria\",\"orientation\":\"v\",\"showlegend\":true,\"x\":[8.540910721],\"xaxis\":\"x\",\"y\":[3.917691],\"yaxis\":\"y\",\"type\":\"scatter\"},{\"hovertemplate\":\"Country Name=Norway\\u003cbr\\u003eLog GDP Per Capita=%{x}\\u003cbr\\u003eDepression (%)=%{y}\\u003cextra\\u003e\\u003c\\u002fextra\\u003e\",\"legendgroup\":\"Norway\",\"marker\":{\"color\":\"#ab63fa\",\"symbol\":\"circle\"},\"mode\":\"markers\",\"name\":\"Norway\",\"orientation\":\"v\",\"showlegend\":true,\"x\":[11.06743145],\"xaxis\":\"x\",\"y\":[3.77191],\"yaxis\":\"y\",\"type\":\"scatter\"},{\"hovertemplate\":\"Country Name=Pakistan\\u003cbr\\u003eLog GDP Per Capita=%{x}\\u003cbr\\u003eDepression (%)=%{y}\\u003cextra\\u003e\\u003c\\u002fextra\\u003e\",\"legendgroup\":\"Pakistan\",\"marker\":{\"color\":\"#FFA15A\",\"symbol\":\"circle\"},\"mode\":\"markers\",\"name\":\"Pakistan\",\"orientation\":\"v\",\"showlegend\":true,\"x\":[8.495299339],\"xaxis\":\"x\",\"y\":[3.33128],\"yaxis\":\"y\",\"type\":\"scatter\"},{\"hovertemplate\":\"Country Name=Panama\\u003cbr\\u003eLog GDP Per Capita=%{x}\\u003cbr\\u003eDepression (%)=%{y}\\u003cextra\\u003e\\u003c\\u002fextra\\u003e\",\"legendgroup\":\"Panama\",\"marker\":{\"color\":\"#19d3f3\",\"symbol\":\"circle\"},\"mode\":\"markers\",\"name\":\"Panama\",\"orientation\":\"v\",\"showlegend\":true,\"x\":[10.3263464],\"xaxis\":\"x\",\"y\":[2.679025],\"yaxis\":\"y\",\"type\":\"scatter\"},{\"hovertemplate\":\"Country Name=Paraguay\\u003cbr\\u003eLog GDP Per Capita=%{x}\\u003cbr\\u003eDepression (%)=%{y}\\u003cextra\\u003e\\u003c\\u002fextra\\u003e\",\"legendgroup\":\"Paraguay\",\"marker\":{\"color\":\"#FF6692\",\"symbol\":\"circle\"},\"mode\":\"markers\",\"name\":\"Paraguay\",\"orientation\":\"v\",\"showlegend\":true,\"x\":[9.51813221],\"xaxis\":\"x\",\"y\":[2.95884],\"yaxis\":\"y\",\"type\":\"scatter\"},{\"hovertemplate\":\"Country Name=Peru\\u003cbr\\u003eLog GDP Per Capita=%{x}\\u003cbr\\u003eDepression (%)=%{y}\\u003cextra\\u003e\\u003c\\u002fextra\\u003e\",\"legendgroup\":\"Peru\",\"marker\":{\"color\":\"#B6E880\",\"symbol\":\"circle\"},\"mode\":\"markers\",\"name\":\"Peru\",\"orientation\":\"v\",\"showlegend\":true,\"x\":[9.428893089],\"xaxis\":\"x\",\"y\":[2.276321],\"yaxis\":\"y\",\"type\":\"scatter\"},{\"hovertemplate\":\"Country Name=Philippines\\u003cbr\\u003eLog GDP Per Capita=%{x}\\u003cbr\\u003eDepression (%)=%{y}\\u003cextra\\u003e\\u003c\\u002fextra\\u003e\",\"legendgroup\":\"Philippines\",\"marker\":{\"color\":\"#FF97FF\",\"symbol\":\"circle\"},\"mode\":\"markers\",\"name\":\"Philippines\",\"orientation\":\"v\",\"showlegend\":true,\"x\":[8.987416267],\"xaxis\":\"x\",\"y\":[2.765176],\"yaxis\":\"y\",\"type\":\"scatter\"},{\"hovertemplate\":\"Country Name=Poland\\u003cbr\\u003eLog GDP Per Capita=%{x}\\u003cbr\\u003eDepression (%)=%{y}\\u003cextra\\u003e\\u003c\\u002fextra\\u003e\",\"legendgroup\":\"Poland\",\"marker\":{\"color\":\"#FECB52\",\"symbol\":\"circle\"},\"mode\":\"markers\",\"name\":\"Poland\",\"orientation\":\"v\",\"showlegend\":true,\"x\":[10.30755615],\"xaxis\":\"x\",\"y\":[2.250472],\"yaxis\":\"y\",\"type\":\"scatter\"},{\"hovertemplate\":\"Country Name=Portugal\\u003cbr\\u003eLog GDP Per Capita=%{x}\\u003cbr\\u003eDepression (%)=%{y}\\u003cextra\\u003e\\u003c\\u002fextra\\u003e\",\"legendgroup\":\"Portugal\",\"marker\":{\"color\":\"#636efa\",\"symbol\":\"circle\"},\"mode\":\"markers\",\"name\":\"Portugal\",\"orientation\":\"v\",\"showlegend\":true,\"x\":[10.40561676],\"xaxis\":\"x\",\"y\":[4.421461],\"yaxis\":\"y\",\"type\":\"scatter\"},{\"hovertemplate\":\"Country Name=Romania\\u003cbr\\u003eLog GDP Per Capita=%{x}\\u003cbr\\u003eDepression (%)=%{y}\\u003cextra\\u003e\\u003c\\u002fextra\\u003e\",\"legendgroup\":\"Romania\",\"marker\":{\"color\":\"#EF553B\",\"symbol\":\"circle\"},\"mode\":\"markers\",\"name\":\"Romania\",\"orientation\":\"v\",\"showlegend\":true,\"x\":[10.20167065],\"xaxis\":\"x\",\"y\":[2.359174],\"yaxis\":\"y\",\"type\":\"scatter\"},{\"hovertemplate\":\"Country Name=Russia\\u003cbr\\u003eLog GDP Per Capita=%{x}\\u003cbr\\u003eDepression (%)=%{y}\\u003cextra\\u003e\\u003c\\u002fextra\\u003e\",\"legendgroup\":\"Russia\",\"marker\":{\"color\":\"#00cc96\",\"symbol\":\"circle\"},\"mode\":\"markers\",\"name\":\"Russia\",\"orientation\":\"v\",\"showlegend\":true,\"x\":[10.16301918],\"xaxis\":\"x\",\"y\":[3.707925],\"yaxis\":\"y\",\"type\":\"scatter\"},{\"hovertemplate\":\"Country Name=Rwanda\\u003cbr\\u003eLog GDP Per Capita=%{x}\\u003cbr\\u003eDepression (%)=%{y}\\u003cextra\\u003e\\u003c\\u002fextra\\u003e\",\"legendgroup\":\"Rwanda\",\"marker\":{\"color\":\"#ab63fa\",\"symbol\":\"circle\"},\"mode\":\"markers\",\"name\":\"Rwanda\",\"orientation\":\"v\",\"showlegend\":true,\"x\":[7.567848682],\"xaxis\":\"x\",\"y\":[3.86945],\"yaxis\":\"y\",\"type\":\"scatter\"},{\"hovertemplate\":\"Country Name=Senegal\\u003cbr\\u003eLog GDP Per Capita=%{x}\\u003cbr\\u003eDepression (%)=%{y}\\u003cextra\\u003e\\u003c\\u002fextra\\u003e\",\"legendgroup\":\"Senegal\",\"marker\":{\"color\":\"#FFA15A\",\"symbol\":\"circle\"},\"mode\":\"markers\",\"name\":\"Senegal\",\"orientation\":\"v\",\"showlegend\":true,\"x\":[8.089234352],\"xaxis\":\"x\",\"y\":[3.370497],\"yaxis\":\"y\",\"type\":\"scatter\"},{\"hovertemplate\":\"Country Name=Serbia\\u003cbr\\u003eLog GDP Per Capita=%{x}\\u003cbr\\u003eDepression (%)=%{y}\\u003cextra\\u003e\\u003c\\u002fextra\\u003e\",\"legendgroup\":\"Serbia\",\"marker\":{\"color\":\"#19d3f3\",\"symbol\":\"circle\"},\"mode\":\"markers\",\"name\":\"Serbia\",\"orientation\":\"v\",\"showlegend\":true,\"x\":[9.718001366],\"xaxis\":\"x\",\"y\":[2.570068],\"yaxis\":\"y\",\"type\":\"scatter\"},{\"hovertemplate\":\"Country Name=Sierra Leone\\u003cbr\\u003eLog GDP Per Capita=%{x}\\u003cbr\\u003eDepression (%)=%{y}\\u003cextra\\u003e\\u003c\\u002fextra\\u003e\",\"legendgroup\":\"Sierra Leone\",\"marker\":{\"color\":\"#FF6692\",\"symbol\":\"circle\"},\"mode\":\"markers\",\"name\":\"Sierra Leone\",\"orientation\":\"v\",\"showlegend\":true,\"x\":[7.373677731],\"xaxis\":\"x\",\"y\":[3.581501],\"yaxis\":\"y\",\"type\":\"scatter\"},{\"hovertemplate\":\"Country Name=Singapore\\u003cbr\\u003eLog GDP Per Capita=%{x}\\u003cbr\\u003eDepression (%)=%{y}\\u003cextra\\u003e\\u003c\\u002fextra\\u003e\",\"legendgroup\":\"Singapore\",\"marker\":{\"color\":\"#B6E880\",\"symbol\":\"circle\"},\"mode\":\"markers\",\"name\":\"Singapore\",\"orientation\":\"v\",\"showlegend\":true,\"x\":[11.46489334],\"xaxis\":\"x\",\"y\":[3.438271],\"yaxis\":\"y\",\"type\":\"scatter\"},{\"hovertemplate\":\"Country Name=Slovakia\\u003cbr\\u003eLog GDP Per Capita=%{x}\\u003cbr\\u003eDepression (%)=%{y}\\u003cextra\\u003e\\u003c\\u002fextra\\u003e\",\"legendgroup\":\"Slovakia\",\"marker\":{\"color\":\"#FF97FF\",\"symbol\":\"circle\"},\"mode\":\"markers\",\"name\":\"Slovakia\",\"orientation\":\"v\",\"showlegend\":true,\"x\":[10.31100178],\"xaxis\":\"x\",\"y\":[2.401999],\"yaxis\":\"y\",\"type\":\"scatter\"},{\"hovertemplate\":\"Country Name=Slovenia\\u003cbr\\u003eLog GDP Per Capita=%{x}\\u003cbr\\u003eDepression (%)=%{y}\\u003cextra\\u003e\\u003c\\u002fextra\\u003e\",\"legendgroup\":\"Slovenia\",\"marker\":{\"color\":\"#FECB52\",\"symbol\":\"circle\"},\"mode\":\"markers\",\"name\":\"Slovenia\",\"orientation\":\"v\",\"showlegend\":true,\"x\":[10.50527477],\"xaxis\":\"x\",\"y\":[2.863278],\"yaxis\":\"y\",\"type\":\"scatter\"},{\"hovertemplate\":\"Country Name=South Africa\\u003cbr\\u003eLog GDP Per Capita=%{x}\\u003cbr\\u003eDepression (%)=%{y}\\u003cextra\\u003e\\u003c\\u002fextra\\u003e\",\"legendgroup\":\"South Africa\",\"marker\":{\"color\":\"#636efa\",\"symbol\":\"circle\"},\"mode\":\"markers\",\"name\":\"South Africa\",\"orientation\":\"v\",\"showlegend\":true,\"x\":[9.54326725],\"xaxis\":\"x\",\"y\":[3.745871],\"yaxis\":\"y\",\"type\":\"scatter\"},{\"hovertemplate\":\"Country Name=South Korea\\u003cbr\\u003eLog GDP Per Capita=%{x}\\u003cbr\\u003eDepression (%)=%{y}\\u003cextra\\u003e\\u003c\\u002fextra\\u003e\",\"legendgroup\":\"South Korea\",\"marker\":{\"color\":\"#EF553B\",\"symbol\":\"circle\"},\"mode\":\"markers\",\"name\":\"South Korea\",\"orientation\":\"v\",\"showlegend\":true,\"x\":[10.6202879],\"xaxis\":\"x\",\"y\":[3.165684],\"yaxis\":\"y\",\"type\":\"scatter\"},{\"hovertemplate\":\"Country Name=Spain\\u003cbr\\u003eLog GDP Per Capita=%{x}\\u003cbr\\u003eDepression (%)=%{y}\\u003cextra\\u003e\\u003c\\u002fextra\\u003e\",\"legendgroup\":\"Spain\",\"marker\":{\"color\":\"#00cc96\",\"symbol\":\"circle\"},\"mode\":\"markers\",\"name\":\"Spain\",\"orientation\":\"v\",\"showlegend\":true,\"x\":[10.58478832],\"xaxis\":\"x\",\"y\":[3.538359],\"yaxis\":\"y\",\"type\":\"scatter\"},{\"hovertemplate\":\"Country Name=Sri Lanka\\u003cbr\\u003eLog GDP Per Capita=%{x}\\u003cbr\\u003eDepression (%)=%{y}\\u003cextra\\u003e\\u003c\\u002fextra\\u003e\",\"legendgroup\":\"Sri Lanka\",\"marker\":{\"color\":\"#ab63fa\",\"symbol\":\"circle\"},\"mode\":\"markers\",\"name\":\"Sri Lanka\",\"orientation\":\"v\",\"showlegend\":true,\"x\":[9.516662598],\"xaxis\":\"x\",\"y\":[3.44333],\"yaxis\":\"y\",\"type\":\"scatter\"},{\"hovertemplate\":\"Country Name=Sweden\\u003cbr\\u003eLog GDP Per Capita=%{x}\\u003cbr\\u003eDepression (%)=%{y}\\u003cextra\\u003e\\u003c\\u002fextra\\u003e\",\"legendgroup\":\"Sweden\",\"marker\":{\"color\":\"#FFA15A\",\"symbol\":\"circle\"},\"mode\":\"markers\",\"name\":\"Sweden\",\"orientation\":\"v\",\"showlegend\":true,\"x\":[10.85799789],\"xaxis\":\"x\",\"y\":[4.487911],\"yaxis\":\"y\",\"type\":\"scatter\"},{\"hovertemplate\":\"Country Name=Switzerland\\u003cbr\\u003eLog GDP Per Capita=%{x}\\u003cbr\\u003eDepression (%)=%{y}\\u003cextra\\u003e\\u003c\\u002fextra\\u003e\",\"legendgroup\":\"Switzerland\",\"marker\":{\"color\":\"#19d3f3\",\"symbol\":\"circle\"},\"mode\":\"markers\",\"name\":\"Switzerland\",\"orientation\":\"v\",\"showlegend\":true,\"x\":[11.14336205],\"xaxis\":\"x\",\"y\":[3.70806],\"yaxis\":\"y\",\"type\":\"scatter\"},{\"hovertemplate\":\"Country Name=Tajikistan\\u003cbr\\u003eLog GDP Per Capita=%{x}\\u003cbr\\u003eDepression (%)=%{y}\\u003cextra\\u003e\\u003c\\u002fextra\\u003e\",\"legendgroup\":\"Tajikistan\",\"marker\":{\"color\":\"#FF6692\",\"symbol\":\"circle\"},\"mode\":\"markers\",\"name\":\"Tajikistan\",\"orientation\":\"v\",\"showlegend\":true,\"x\":[8.082228661],\"xaxis\":\"x\",\"y\":[2.563961],\"yaxis\":\"y\",\"type\":\"scatter\"},{\"hovertemplate\":\"Country Name=Tanzania\\u003cbr\\u003eLog GDP Per Capita=%{x}\\u003cbr\\u003eDepression (%)=%{y}\\u003cextra\\u003e\\u003c\\u002fextra\\u003e\",\"legendgroup\":\"Tanzania\",\"marker\":{\"color\":\"#B6E880\",\"symbol\":\"circle\"},\"mode\":\"markers\",\"name\":\"Tanzania\",\"orientation\":\"v\",\"showlegend\":true,\"x\":[7.80724287],\"xaxis\":\"x\",\"y\":[3.685748],\"yaxis\":\"y\",\"type\":\"scatter\"},{\"hovertemplate\":\"Country Name=Thailand\\u003cbr\\u003eLog GDP Per Capita=%{x}\\u003cbr\\u003eDepression (%)=%{y}\\u003cextra\\u003e\\u003c\\u002fextra\\u003e\",\"legendgroup\":\"Thailand\",\"marker\":{\"color\":\"#FF97FF\",\"symbol\":\"circle\"},\"mode\":\"markers\",\"name\":\"Thailand\",\"orientation\":\"v\",\"showlegend\":true,\"x\":[9.741441727],\"xaxis\":\"x\",\"y\":[3.085057],\"yaxis\":\"y\",\"type\":\"scatter\"},{\"hovertemplate\":\"Country Name=Togo\\u003cbr\\u003eLog GDP Per Capita=%{x}\\u003cbr\\u003eDepression (%)=%{y}\\u003cextra\\u003e\\u003c\\u002fextra\\u003e\",\"legendgroup\":\"Togo\",\"marker\":{\"color\":\"#FECB52\",\"symbol\":\"circle\"},\"mode\":\"markers\",\"name\":\"Togo\",\"orientation\":\"v\",\"showlegend\":true,\"x\":[7.587156773],\"xaxis\":\"x\",\"y\":[3.656725],\"yaxis\":\"y\",\"type\":\"scatter\"},{\"hovertemplate\":\"Country Name=Tunisia\\u003cbr\\u003eLog GDP Per Capita=%{x}\\u003cbr\\u003eDepression (%)=%{y}\\u003cextra\\u003e\\u003c\\u002fextra\\u003e\",\"legendgroup\":\"Tunisia\",\"marker\":{\"color\":\"#636efa\",\"symbol\":\"circle\"},\"mode\":\"markers\",\"name\":\"Tunisia\",\"orientation\":\"v\",\"showlegend\":true,\"x\":[9.29421711],\"xaxis\":\"x\",\"y\":[3.915189],\"yaxis\":\"y\",\"type\":\"scatter\"},{\"hovertemplate\":\"Country Name=Uganda\\u003cbr\\u003eLog GDP Per Capita=%{x}\\u003cbr\\u003eDepression (%)=%{y}\\u003cextra\\u003e\\u003c\\u002fextra\\u003e\",\"legendgroup\":\"Uganda\",\"marker\":{\"color\":\"#EF553B\",\"symbol\":\"circle\"},\"mode\":\"markers\",\"name\":\"Uganda\",\"orientation\":\"v\",\"showlegend\":true,\"x\":[7.663124561],\"xaxis\":\"x\",\"y\":[4.918028],\"yaxis\":\"y\",\"type\":\"scatter\"},{\"hovertemplate\":\"Country Name=Ukraine\\u003cbr\\u003eLog GDP Per Capita=%{x}\\u003cbr\\u003eDepression (%)=%{y}\\u003cextra\\u003e\\u003c\\u002fextra\\u003e\",\"legendgroup\":\"Ukraine\",\"marker\":{\"color\":\"#00cc96\",\"symbol\":\"circle\"},\"mode\":\"markers\",\"name\":\"Ukraine\",\"orientation\":\"v\",\"showlegend\":true,\"x\":[9.380973816],\"xaxis\":\"x\",\"y\":[4.071915],\"yaxis\":\"y\",\"type\":\"scatter\"},{\"hovertemplate\":\"Country Name=United Kingdom\\u003cbr\\u003eLog GDP Per Capita=%{x}\\u003cbr\\u003eDepression (%)=%{y}\\u003cextra\\u003e\\u003c\\u002fextra\\u003e\",\"legendgroup\":\"United Kingdom\",\"marker\":{\"color\":\"#ab63fa\",\"symbol\":\"circle\"},\"mode\":\"markers\",\"name\":\"United Kingdom\",\"orientation\":\"v\",\"showlegend\":true,\"x\":[10.74445915],\"xaxis\":\"x\",\"y\":[4.119524],\"yaxis\":\"y\",\"type\":\"scatter\"},{\"hovertemplate\":\"Country Name=United States\\u003cbr\\u003eLog GDP Per Capita=%{x}\\u003cbr\\u003eDepression (%)=%{y}\\u003cextra\\u003e\\u003c\\u002fextra\\u003e\",\"legendgroup\":\"United States\",\"marker\":{\"color\":\"#FFA15A\",\"symbol\":\"circle\"},\"mode\":\"markers\",\"name\":\"United States\",\"orientation\":\"v\",\"showlegend\":true,\"x\":[11.00067806],\"xaxis\":\"x\",\"y\":[4.83561],\"yaxis\":\"y\",\"type\":\"scatter\"},{\"hovertemplate\":\"Country Name=Uruguay\\u003cbr\\u003eLog GDP Per Capita=%{x}\\u003cbr\\u003eDepression (%)=%{y}\\u003cextra\\u003e\\u003c\\u002fextra\\u003e\",\"legendgroup\":\"Uruguay\",\"marker\":{\"color\":\"#19d3f3\",\"symbol\":\"circle\"},\"mode\":\"markers\",\"name\":\"Uruguay\",\"orientation\":\"v\",\"showlegend\":true,\"x\":[10.04789066],\"xaxis\":\"x\",\"y\":[3.617574],\"yaxis\":\"y\",\"type\":\"scatter\"},{\"hovertemplate\":\"Country Name=Uzbekistan\\u003cbr\\u003eLog GDP Per Capita=%{x}\\u003cbr\\u003eDepression (%)=%{y}\\u003cextra\\u003e\\u003c\\u002fextra\\u003e\",\"legendgroup\":\"Uzbekistan\",\"marker\":{\"color\":\"#FF6692\",\"symbol\":\"circle\"},\"mode\":\"markers\",\"name\":\"Uzbekistan\",\"orientation\":\"v\",\"showlegend\":true,\"x\":[8.830646515],\"xaxis\":\"x\",\"y\":[2.886924],\"yaxis\":\"y\",\"type\":\"scatter\"},{\"hovertemplate\":\"Country Name=Venezuela\\u003cbr\\u003eLog GDP Per Capita=%{x}\\u003cbr\\u003eDepression (%)=%{y}\\u003cextra\\u003e\\u003c\\u002fextra\\u003e\",\"legendgroup\":\"Venezuela\",\"marker\":{\"color\":\"#B6E880\",\"symbol\":\"circle\"},\"mode\":\"markers\",\"name\":\"Venezuela\",\"orientation\":\"v\",\"showlegend\":true,\"x\":[5.943209171],\"xaxis\":\"x\",\"y\":[2.814584],\"yaxis\":\"y\",\"type\":\"scatter\"},{\"hovertemplate\":\"Country Name=Zambia\\u003cbr\\u003eLog GDP Per Capita=%{x}\\u003cbr\\u003eDepression (%)=%{y}\\u003cextra\\u003e\\u003c\\u002fextra\\u003e\",\"legendgroup\":\"Zambia\",\"marker\":{\"color\":\"#FF97FF\",\"symbol\":\"circle\"},\"mode\":\"markers\",\"name\":\"Zambia\",\"orientation\":\"v\",\"showlegend\":true,\"x\":[8.130200386],\"xaxis\":\"x\",\"y\":[3.641811],\"yaxis\":\"y\",\"type\":\"scatter\"},{\"hovertemplate\":\"Country Name=Zimbabwe\\u003cbr\\u003eLog GDP Per Capita=%{x}\\u003cbr\\u003eDepression (%)=%{y}\\u003cextra\\u003e\\u003c\\u002fextra\\u003e\",\"legendgroup\":\"Zimbabwe\",\"marker\":{\"color\":\"#FECB52\",\"symbol\":\"circle\"},\"mode\":\"markers\",\"name\":\"Zimbabwe\",\"orientation\":\"v\",\"showlegend\":true,\"x\":[7.754387379],\"xaxis\":\"x\",\"y\":[3.192789],\"yaxis\":\"y\",\"type\":\"scatter\"},{\"hovertemplate\":\"\\u003cb\\u003eOLS trendline\\u003c\\u002fb\\u003e\\u003cbr\\u003eDepression (%) = 0.0244789 * Log GDP Per Capita + 3.20956\\u003cbr\\u003eR\\u003csup\\u003e2\\u003c\\u002fsup\\u003e=0.002166\\u003cbr\\u003e\\u003cbr\\u003eLog GDP Per Capita=%{x}\\u003cbr\\u003eDepression (%)=%{y} \\u003cb\\u003e(trend)\\u003c\\u002fb\\u003e\\u003cextra\\u003e\\u003c\\u002fextra\\u003e\",\"legendgroup\":\"Overall Trendline\",\"line\":{\"color\":\"#636efa\"},\"mode\":\"lines\",\"name\":\"Overall Trendline\",\"showlegend\":true,\"x\":[5.943209171,7.052698135,7.160251617,7.282608032,7.335249901,7.344820023,7.365028381,7.373677731,7.563740253,7.567848682,7.587156773,7.589920044,7.59486866,7.647830486,7.663124561,7.675010204,7.754387379,7.776358128,7.80724287,7.852320194,7.984066486,8.067083359,8.082228661,8.089234352,8.130200386,8.159239769,8.21367836,8.287207603,8.369367599,8.369377136,8.482762337,8.495299339,8.503006935,8.526488304,8.540910721,8.567708969,8.602948189,8.685310364,8.718020439,8.830646515,8.88339901,8.987416267,9.017354012,9.026683807,9.061598778,9.208023071,9.208796501,9.243317604,9.29421711,9.300356865,9.344127655,9.363162994,9.365584373,9.380973816,9.428893089,9.434254646,9.455109596,9.503191948,9.516662598,9.517067909,9.51813221,9.54326725,9.555447578,9.570453644,9.580375671,9.580394745,9.592658043,9.712601662,9.718001366,9.741441727,9.787406921,9.817717552,9.887653351,9.905106544,9.911863327,9.974589348,10.00553036,10.04789066,10.06888008,10.10834122,10.12113476,10.16301918,10.20167065,10.21140671,10.26133156,10.263731,10.29218388,10.30755615,10.31100178,10.3263464,10.40561676,10.42708778,10.42886448,10.50527477,10.55638504,10.57442188,10.58478832,10.6202879,10.63210392,10.63540173,10.65061474,10.68089676,10.70497513,10.74445915,10.7699604,10.78554249,10.78726006,10.82858467,10.85799789,10.87939453,10.89993763,10.91669846,10.92155266,10.92663097,11.00067806,11.06743145,11.14336205,11.26124382,11.46489334,11.65256405],\"y\":[3.355046255184939,3.3822053399034493,3.3848381323188668,3.387833284455268,3.389121900229108,3.3893561664206593,3.389850845074303,3.390062571767431,3.394715095861228,3.3948156657405972,3.3952883068359454,3.3953559487085774,3.3954770854531002,3.396773533426765,3.397147915770433,3.3974388634009594,3.3993819304259514,3.3999197504969767,3.4006757754343164,3.4017792193631196,3.405004225489253,3.407036388367867,3.4074071289100916,3.407578620616232,3.408581424631494,3.409292277184931,3.4106248747617425,3.412424790763363,3.414435978223752,3.4144362116791527,3.4172117582413124,3.4175186504326565,3.4177073240107925,3.4182821224185913,3.418635167521209,3.4192911595241537,3.420153777353126,3.422169913935829,3.422970621042343,3.4257275850490596,3.4270189088272183,3.4295651382956622,3.4302979817750647,3.4305263650226974,3.431381045588347,3.4349653532358047,3.4349842859621096,3.435829325066936,3.43707528968708,3.4372255842205153,3.4382970456161477,3.438763010038797,3.43882228276663,3.4391989996153502,3.4403720113687655,3.4405032564604343,3.4410137629839137,3.4421907667341136,3.4425205136143746,3.4425304351874084,3.442556488119851,3.4431717665975223,3.4434699277967638,3.4438372599929457,3.4440801404366597,3.4440806073474617,3.4443807995621816,3.4473168890732673,3.4474490679620615,3.4480228625385627,3.449148040560567,3.4498900118842224,3.4516019642799,3.4520291994869874,3.4521945981956503,3.4537300630571055,3.454487465422925,3.455524399555423,3.456038197758442,3.45700416360319,3.457317335566124,3.45834262067312,3.459288766675727,3.4595270948492773,3.460749200949207,3.4608079366341498,3.4615044322312034,3.4618807287035365,3.461965073983314,3.4623406936136805,3.4642811459234943,3.464806733171402,3.4648502248575612,3.466720665760366,3.4679717896542996,3.468413311905993,3.4686670710972285,3.469536062256199,3.4698253055913093,3.469906032398048,3.4702784303585688,3.4710197013160213,3.4716091136598415,3.4725756395821374,3.4731998824828336,3.4735813151208617,3.4736233593688475,3.474634940935106,3.475354944612244,3.475878711118543,3.476381583892752,3.4767918708056396,3.476910696349037,3.477035007861807,3.4788476001955053,3.4804816506755762,3.4823403492882172,3.4852259669753507,3.4902110860220725,3.494805061156081],\"type\":\"scatter\",\"xaxis\":\"x\",\"yaxis\":\"y\"}],                        {\"template\":{\"data\":{\"histogram2dcontour\":[{\"type\":\"histogram2dcontour\",\"colorbar\":{\"outlinewidth\":0,\"ticks\":\"\"},\"colorscale\":[[0.0,\"#0d0887\"],[0.1111111111111111,\"#46039f\"],[0.2222222222222222,\"#7201a8\"],[0.3333333333333333,\"#9c179e\"],[0.4444444444444444,\"#bd3786\"],[0.5555555555555556,\"#d8576b\"],[0.6666666666666666,\"#ed7953\"],[0.7777777777777778,\"#fb9f3a\"],[0.8888888888888888,\"#fdca26\"],[1.0,\"#f0f921\"]]}],\"choropleth\":[{\"type\":\"choropleth\",\"colorbar\":{\"outlinewidth\":0,\"ticks\":\"\"}}],\"histogram2d\":[{\"type\":\"histogram2d\",\"colorbar\":{\"outlinewidth\":0,\"ticks\":\"\"},\"colorscale\":[[0.0,\"#0d0887\"],[0.1111111111111111,\"#46039f\"],[0.2222222222222222,\"#7201a8\"],[0.3333333333333333,\"#9c179e\"],[0.4444444444444444,\"#bd3786\"],[0.5555555555555556,\"#d8576b\"],[0.6666666666666666,\"#ed7953\"],[0.7777777777777778,\"#fb9f3a\"],[0.8888888888888888,\"#fdca26\"],[1.0,\"#f0f921\"]]}],\"heatmap\":[{\"type\":\"heatmap\",\"colorbar\":{\"outlinewidth\":0,\"ticks\":\"\"},\"colorscale\":[[0.0,\"#0d0887\"],[0.1111111111111111,\"#46039f\"],[0.2222222222222222,\"#7201a8\"],[0.3333333333333333,\"#9c179e\"],[0.4444444444444444,\"#bd3786\"],[0.5555555555555556,\"#d8576b\"],[0.6666666666666666,\"#ed7953\"],[0.7777777777777778,\"#fb9f3a\"],[0.8888888888888888,\"#fdca26\"],[1.0,\"#f0f921\"]]}],\"heatmapgl\":[{\"type\":\"heatmapgl\",\"colorbar\":{\"outlinewidth\":0,\"ticks\":\"\"},\"colorscale\":[[0.0,\"#0d0887\"],[0.1111111111111111,\"#46039f\"],[0.2222222222222222,\"#7201a8\"],[0.3333333333333333,\"#9c179e\"],[0.4444444444444444,\"#bd3786\"],[0.5555555555555556,\"#d8576b\"],[0.6666666666666666,\"#ed7953\"],[0.7777777777777778,\"#fb9f3a\"],[0.8888888888888888,\"#fdca26\"],[1.0,\"#f0f921\"]]}],\"contourcarpet\":[{\"type\":\"contourcarpet\",\"colorbar\":{\"outlinewidth\":0,\"ticks\":\"\"}}],\"contour\":[{\"type\":\"contour\",\"colorbar\":{\"outlinewidth\":0,\"ticks\":\"\"},\"colorscale\":[[0.0,\"#0d0887\"],[0.1111111111111111,\"#46039f\"],[0.2222222222222222,\"#7201a8\"],[0.3333333333333333,\"#9c179e\"],[0.4444444444444444,\"#bd3786\"],[0.5555555555555556,\"#d8576b\"],[0.6666666666666666,\"#ed7953\"],[0.7777777777777778,\"#fb9f3a\"],[0.8888888888888888,\"#fdca26\"],[1.0,\"#f0f921\"]]}],\"surface\":[{\"type\":\"surface\",\"colorbar\":{\"outlinewidth\":0,\"ticks\":\"\"},\"colorscale\":[[0.0,\"#0d0887\"],[0.1111111111111111,\"#46039f\"],[0.2222222222222222,\"#7201a8\"],[0.3333333333333333,\"#9c179e\"],[0.4444444444444444,\"#bd3786\"],[0.5555555555555556,\"#d8576b\"],[0.6666666666666666,\"#ed7953\"],[0.7777777777777778,\"#fb9f3a\"],[0.8888888888888888,\"#fdca26\"],[1.0,\"#f0f921\"]]}],\"mesh3d\":[{\"type\":\"mesh3d\",\"colorbar\":{\"outlinewidth\":0,\"ticks\":\"\"}}],\"scatter\":[{\"fillpattern\":{\"fillmode\":\"overlay\",\"size\":10,\"solidity\":0.2},\"type\":\"scatter\"}],\"parcoords\":[{\"type\":\"parcoords\",\"line\":{\"colorbar\":{\"outlinewidth\":0,\"ticks\":\"\"}}}],\"scatterpolargl\":[{\"type\":\"scatterpolargl\",\"marker\":{\"colorbar\":{\"outlinewidth\":0,\"ticks\":\"\"}}}],\"bar\":[{\"error_x\":{\"color\":\"#2a3f5f\"},\"error_y\":{\"color\":\"#2a3f5f\"},\"marker\":{\"line\":{\"color\":\"#E5ECF6\",\"width\":0.5},\"pattern\":{\"fillmode\":\"overlay\",\"size\":10,\"solidity\":0.2}},\"type\":\"bar\"}],\"scattergeo\":[{\"type\":\"scattergeo\",\"marker\":{\"colorbar\":{\"outlinewidth\":0,\"ticks\":\"\"}}}],\"scatterpolar\":[{\"type\":\"scatterpolar\",\"marker\":{\"colorbar\":{\"outlinewidth\":0,\"ticks\":\"\"}}}],\"histogram\":[{\"marker\":{\"pattern\":{\"fillmode\":\"overlay\",\"size\":10,\"solidity\":0.2}},\"type\":\"histogram\"}],\"scattergl\":[{\"type\":\"scattergl\",\"marker\":{\"colorbar\":{\"outlinewidth\":0,\"ticks\":\"\"}}}],\"scatter3d\":[{\"type\":\"scatter3d\",\"line\":{\"colorbar\":{\"outlinewidth\":0,\"ticks\":\"\"}},\"marker\":{\"colorbar\":{\"outlinewidth\":0,\"ticks\":\"\"}}}],\"scattermapbox\":[{\"type\":\"scattermapbox\",\"marker\":{\"colorbar\":{\"outlinewidth\":0,\"ticks\":\"\"}}}],\"scatterternary\":[{\"type\":\"scatterternary\",\"marker\":{\"colorbar\":{\"outlinewidth\":0,\"ticks\":\"\"}}}],\"scattercarpet\":[{\"type\":\"scattercarpet\",\"marker\":{\"colorbar\":{\"outlinewidth\":0,\"ticks\":\"\"}}}],\"carpet\":[{\"aaxis\":{\"endlinecolor\":\"#2a3f5f\",\"gridcolor\":\"white\",\"linecolor\":\"white\",\"minorgridcolor\":\"white\",\"startlinecolor\":\"#2a3f5f\"},\"baxis\":{\"endlinecolor\":\"#2a3f5f\",\"gridcolor\":\"white\",\"linecolor\":\"white\",\"minorgridcolor\":\"white\",\"startlinecolor\":\"#2a3f5f\"},\"type\":\"carpet\"}],\"table\":[{\"cells\":{\"fill\":{\"color\":\"#EBF0F8\"},\"line\":{\"color\":\"white\"}},\"header\":{\"fill\":{\"color\":\"#C8D4E3\"},\"line\":{\"color\":\"white\"}},\"type\":\"table\"}],\"barpolar\":[{\"marker\":{\"line\":{\"color\":\"#E5ECF6\",\"width\":0.5},\"pattern\":{\"fillmode\":\"overlay\",\"size\":10,\"solidity\":0.2}},\"type\":\"barpolar\"}],\"pie\":[{\"automargin\":true,\"type\":\"pie\"}]},\"layout\":{\"autotypenumbers\":\"strict\",\"colorway\":[\"#636efa\",\"#EF553B\",\"#00cc96\",\"#ab63fa\",\"#FFA15A\",\"#19d3f3\",\"#FF6692\",\"#B6E880\",\"#FF97FF\",\"#FECB52\"],\"font\":{\"color\":\"#2a3f5f\"},\"hovermode\":\"closest\",\"hoverlabel\":{\"align\":\"left\"},\"paper_bgcolor\":\"white\",\"plot_bgcolor\":\"#E5ECF6\",\"polar\":{\"bgcolor\":\"#E5ECF6\",\"angularaxis\":{\"gridcolor\":\"white\",\"linecolor\":\"white\",\"ticks\":\"\"},\"radialaxis\":{\"gridcolor\":\"white\",\"linecolor\":\"white\",\"ticks\":\"\"}},\"ternary\":{\"bgcolor\":\"#E5ECF6\",\"aaxis\":{\"gridcolor\":\"white\",\"linecolor\":\"white\",\"ticks\":\"\"},\"baxis\":{\"gridcolor\":\"white\",\"linecolor\":\"white\",\"ticks\":\"\"},\"caxis\":{\"gridcolor\":\"white\",\"linecolor\":\"white\",\"ticks\":\"\"}},\"coloraxis\":{\"colorbar\":{\"outlinewidth\":0,\"ticks\":\"\"}},\"colorscale\":{\"sequential\":[[0.0,\"#0d0887\"],[0.1111111111111111,\"#46039f\"],[0.2222222222222222,\"#7201a8\"],[0.3333333333333333,\"#9c179e\"],[0.4444444444444444,\"#bd3786\"],[0.5555555555555556,\"#d8576b\"],[0.6666666666666666,\"#ed7953\"],[0.7777777777777778,\"#fb9f3a\"],[0.8888888888888888,\"#fdca26\"],[1.0,\"#f0f921\"]],\"sequentialminus\":[[0.0,\"#0d0887\"],[0.1111111111111111,\"#46039f\"],[0.2222222222222222,\"#7201a8\"],[0.3333333333333333,\"#9c179e\"],[0.4444444444444444,\"#bd3786\"],[0.5555555555555556,\"#d8576b\"],[0.6666666666666666,\"#ed7953\"],[0.7777777777777778,\"#fb9f3a\"],[0.8888888888888888,\"#fdca26\"],[1.0,\"#f0f921\"]],\"diverging\":[[0,\"#8e0152\"],[0.1,\"#c51b7d\"],[0.2,\"#de77ae\"],[0.3,\"#f1b6da\"],[0.4,\"#fde0ef\"],[0.5,\"#f7f7f7\"],[0.6,\"#e6f5d0\"],[0.7,\"#b8e186\"],[0.8,\"#7fbc41\"],[0.9,\"#4d9221\"],[1,\"#276419\"]]},\"xaxis\":{\"gridcolor\":\"white\",\"linecolor\":\"white\",\"ticks\":\"\",\"title\":{\"standoff\":15},\"zerolinecolor\":\"white\",\"automargin\":true,\"zerolinewidth\":2},\"yaxis\":{\"gridcolor\":\"white\",\"linecolor\":\"white\",\"ticks\":\"\",\"title\":{\"standoff\":15},\"zerolinecolor\":\"white\",\"automargin\":true,\"zerolinewidth\":2},\"scene\":{\"xaxis\":{\"backgroundcolor\":\"#E5ECF6\",\"gridcolor\":\"white\",\"linecolor\":\"white\",\"showbackground\":true,\"ticks\":\"\",\"zerolinecolor\":\"white\",\"gridwidth\":2},\"yaxis\":{\"backgroundcolor\":\"#E5ECF6\",\"gridcolor\":\"white\",\"linecolor\":\"white\",\"showbackground\":true,\"ticks\":\"\",\"zerolinecolor\":\"white\",\"gridwidth\":2},\"zaxis\":{\"backgroundcolor\":\"#E5ECF6\",\"gridcolor\":\"white\",\"linecolor\":\"white\",\"showbackground\":true,\"ticks\":\"\",\"zerolinecolor\":\"white\",\"gridwidth\":2}},\"shapedefaults\":{\"line\":{\"color\":\"#2a3f5f\"}},\"annotationdefaults\":{\"arrowcolor\":\"#2a3f5f\",\"arrowhead\":0,\"arrowwidth\":1},\"geo\":{\"bgcolor\":\"white\",\"landcolor\":\"#E5ECF6\",\"subunitcolor\":\"white\",\"showland\":true,\"showlakes\":true,\"lakecolor\":\"white\"},\"title\":{\"x\":0.05},\"mapbox\":{\"style\":\"light\"}}},\"xaxis\":{\"anchor\":\"y\",\"domain\":[0.0,1.0],\"title\":{\"text\":\"GDP per capita\"}},\"yaxis\":{\"anchor\":\"x\",\"domain\":[0.0,1.0],\"title\":{\"text\":\"Depression (%)\"}},\"legend\":{\"title\":{\"text\":\"Country Name\"},\"tracegroupgap\":0},\"title\":{\"text\":\"Relationship between depression and GDP per capita of countries\"},\"height\":300},                        {\"responsive\": true}                    ).then(function(){\n",
       "                            \n",
       "var gd = document.getElementById('d3e17d0d-3067-4794-b09d-05939c68f4f7');\n",
       "var x = new MutationObserver(function (mutations, observer) {{\n",
       "        var display = window.getComputedStyle(gd).display;\n",
       "        if (!display || display === 'none') {{\n",
       "            console.log([gd, 'removed!']);\n",
       "            Plotly.purge(gd);\n",
       "            observer.disconnect();\n",
       "        }}\n",
       "}});\n",
       "\n",
       "// Listen for the removal of the full notebook cells\n",
       "var notebookContainer = gd.closest('#notebook-container');\n",
       "if (notebookContainer) {{\n",
       "    x.observe(notebookContainer, {childList: true});\n",
       "}}\n",
       "\n",
       "// Listen for the clearing of the current output cell\n",
       "var outputEl = gd.closest('.output');\n",
       "if (outputEl) {{\n",
       "    x.observe(outputEl, {childList: true});\n",
       "}}\n",
       "\n",
       "                        })                };                });            </script>        </div>"
      ]
     },
     "metadata": {},
     "output_type": "display_data"
    }
   ],
   "source": [
    "# displays relationship between depression and GDP per capita in countries as a 2d plot\n",
    "scatter2d = px.scatter(\n",
    "                        df, \n",
    "                        x= 'Log GDP Per Capita', \n",
    "                        y= 'Depression (%)', \n",
    "                        color= 'Country Name',\n",
    "                        trendline='ols',\n",
    "                        trendline_scope='overall',\n",
    "                        title='Relationship between depression and GDP per capita of countries',\n",
    "                        height= 300\n",
    ")\n",
    "\n",
    "scatter2d.update_layout(xaxis_title='GDP per capita')\n",
    "\n",
    "scatter2d.show()"
   ]
  },
  {
   "cell_type": "markdown",
   "id": "e9521162-1147-42fa-85bb-2329bb1dadb8",
   "metadata": {
    "editable": true,
    "slideshow": {
     "slide_type": ""
    },
    "tags": []
   },
   "source": [
    "*<u>Argument 2: Mental health is effected by so many different factors that there is no such thing as a significant relationship between a country's mental health state and its GDP per capita.</u>*\n",
    "\n",
    "According to this figure, **NOG DOEN**"
   ]
  },
  {
   "cell_type": "code",
   "execution_count": 38,
   "id": "d8673cc2-5144-4e73-8ce3-3ad9798b66bc",
   "metadata": {
    "editable": true,
    "slideshow": {
     "slide_type": ""
    },
    "tags": [
     "hide-input"
    ]
   },
   "outputs": [
    {
     "data": {
      "application/vnd.plotly.v1+json": {
       "config": {
        "plotlyServerURL": "https://plot.ly"
       },
       "data": [
        {
         "marker": {
          "color": "rgb(252, 115, 3)"
         },
         "name": "Anxiety disorders (%)",
         "type": "bar",
         "x": [
          "Central and Eastern Europe",
          "Commonwealth of Independent States",
          "East Asia",
          "Latin America and Caribbean",
          "Middle East and North Africa",
          "North America and ANZ",
          "South Asia",
          "Southeast Asia",
          "Sub-Saharan Africa",
          "Western Europe"
         ],
         "y": [
          3.323786214285714,
          2.705037818181818,
          3.307413,
          4.17288035,
          4.733117,
          6.73437625,
          3.923526666666667,
          3.4911394285714286,
          3.243001322580645,
          5.5723018
         ]
        },
        {
         "marker": {
          "color": "rgb(14, 174, 237)"
         },
         "name": "Happiness",
         "type": "bar",
         "x": [
          "Central and Eastern Europe",
          "Commonwealth of Independent States",
          "East Asia",
          "Latin America and Caribbean",
          "Middle East and North Africa",
          "North America and ANZ",
          "South Asia",
          "Southeast Asia",
          "Sub-Saharan Africa",
          "Western Europe"
         ],
         "y": [
          5.7131471974285715,
          5.311056007,
          5.706137975,
          5.99267653225,
          5.26794195175,
          7.24771201625,
          4.3193514745,
          5.196189948571429,
          4.393276691419355,
          6.8919604778500005
         ]
        },
        {
         "marker": {
          "color": "rgb(135, 18, 219)"
         },
         "name": "GDP",
         "type": "bar",
         "x": [
          "Central and Eastern Europe",
          "Commonwealth of Independent States",
          "East Asia",
          "Latin America and Caribbean",
          "Middle East and North Africa",
          "North America and ANZ",
          "South Asia",
          "Southeast Asia",
          "Sub-Saharan Africa",
          "Western Europe"
         ],
         "y": [
          10.1062373435,
          9.344740174090909,
          10.198839825,
          9.25787265305,
          9.7160172455,
          10.8060238375,
          8.503302494666666,
          9.290584564,
          8.055150108967743,
          10.834960651500001
         ]
        },
        {
         "marker": {
          "color": "rgb(252, 115, 3)"
         },
         "name": "Drug use disorders (%)",
         "type": "bar",
         "visible": false,
         "x": [
          "Central and Eastern Europe",
          "Commonwealth of Independent States",
          "East Asia",
          "Latin America and Caribbean",
          "Middle East and North Africa",
          "North America and ANZ",
          "South Asia",
          "Southeast Asia",
          "Sub-Saharan Africa",
          "Western Europe"
         ],
         "y": [
          0.6961287857142857,
          0.6011135454545454,
          0.787599,
          0.7915127,
          1.554734,
          2.5232915,
          0.8896336666666667,
          0.6863207142857143,
          0.5605263548387097,
          0.9446536999999999
         ]
        },
        {
         "marker": {
          "color": "rgb(14, 174, 237)"
         },
         "name": "Happiness",
         "type": "bar",
         "visible": false,
         "x": [
          "Central and Eastern Europe",
          "Commonwealth of Independent States",
          "East Asia",
          "Latin America and Caribbean",
          "Middle East and North Africa",
          "North America and ANZ",
          "South Asia",
          "Southeast Asia",
          "Sub-Saharan Africa",
          "Western Europe"
         ],
         "y": [
          5.7131471974285715,
          5.311056007,
          5.706137975,
          5.99267653225,
          5.26794195175,
          7.24771201625,
          4.3193514745,
          5.196189948571429,
          4.393276691419355,
          6.8919604778500005
         ]
        },
        {
         "marker": {
          "color": "rgb(135, 18, 219)"
         },
         "name": "GDP",
         "type": "bar",
         "visible": false,
         "x": [
          "Central and Eastern Europe",
          "Commonwealth of Independent States",
          "East Asia",
          "Latin America and Caribbean",
          "Middle East and North Africa",
          "North America and ANZ",
          "South Asia",
          "Southeast Asia",
          "Sub-Saharan Africa",
          "Western Europe"
         ],
         "y": [
          10.1062373435,
          9.344740174090909,
          10.198839825,
          9.25787265305,
          9.7160172455,
          10.8060238375,
          8.503302494666666,
          9.290584564,
          8.055150108967743,
          10.834960651500001
         ]
        },
        {
         "marker": {
          "color": "rgb(252, 115, 3)"
         },
         "name": "Depression (%)",
         "type": "bar",
         "visible": false,
         "x": [
          "Central and Eastern Europe",
          "Commonwealth of Independent States",
          "East Asia",
          "Latin America and Caribbean",
          "Middle East and North Africa",
          "North America and ANZ",
          "South Asia",
          "Southeast Asia",
          "Sub-Saharan Africa",
          "Western Europe"
         ],
         "y": [
          2.7936827857142856,
          3.2177457272727277,
          3.344245666666667,
          2.98483405,
          3.82882675,
          4.354887,
          3.6930599999999996,
          2.891371142857143,
          3.7413536451612903,
          3.8662601000000003
         ]
        },
        {
         "marker": {
          "color": "rgb(14, 174, 237)"
         },
         "name": "Happiness",
         "type": "bar",
         "visible": false,
         "x": [
          "Central and Eastern Europe",
          "Commonwealth of Independent States",
          "East Asia",
          "Latin America and Caribbean",
          "Middle East and North Africa",
          "North America and ANZ",
          "South Asia",
          "Southeast Asia",
          "Sub-Saharan Africa",
          "Western Europe"
         ],
         "y": [
          5.7131471974285715,
          5.311056007,
          5.706137975,
          5.99267653225,
          5.26794195175,
          7.24771201625,
          4.3193514745,
          5.196189948571429,
          4.393276691419355,
          6.8919604778500005
         ]
        },
        {
         "marker": {
          "color": "rgb(135, 18, 219)"
         },
         "name": "GDP",
         "type": "bar",
         "visible": false,
         "x": [
          "Central and Eastern Europe",
          "Commonwealth of Independent States",
          "East Asia",
          "Latin America and Caribbean",
          "Middle East and North Africa",
          "North America and ANZ",
          "South Asia",
          "Southeast Asia",
          "Sub-Saharan Africa",
          "Western Europe"
         ],
         "y": [
          10.1062373435,
          9.344740174090909,
          10.198839825,
          9.25787265305,
          9.7160172455,
          10.8060238375,
          8.503302494666666,
          9.290584564,
          8.055150108967743,
          10.834960651500001
         ]
        },
        {
         "marker": {
          "color": "rgb(252, 115, 3)"
         },
         "name": "Alcohol use disorders (%)",
         "type": "bar",
         "visible": false,
         "x": [
          "Central and Eastern Europe",
          "Commonwealth of Independent States",
          "East Asia",
          "Latin America and Caribbean",
          "Middle East and North Africa",
          "North America and ANZ",
          "South Asia",
          "Southeast Asia",
          "Sub-Saharan Africa",
          "Western Europe"
         ],
         "y": [
          2.612415142857143,
          3.213696181818182,
          2.0270126666666664,
          1.83909035,
          0.6154685,
          1.8408410000000002,
          1.2100635000000002,
          0.7973257142857142,
          1.285931935483871,
          1.42883535
         ]
        },
        {
         "marker": {
          "color": "rgb(14, 174, 237)"
         },
         "name": "Happiness",
         "type": "bar",
         "visible": false,
         "x": [
          "Central and Eastern Europe",
          "Commonwealth of Independent States",
          "East Asia",
          "Latin America and Caribbean",
          "Middle East and North Africa",
          "North America and ANZ",
          "South Asia",
          "Southeast Asia",
          "Sub-Saharan Africa",
          "Western Europe"
         ],
         "y": [
          5.7131471974285715,
          5.311056007,
          5.706137975,
          5.99267653225,
          5.26794195175,
          7.24771201625,
          4.3193514745,
          5.196189948571429,
          4.393276691419355,
          6.8919604778500005
         ]
        },
        {
         "marker": {
          "color": "rgb(135, 18, 219)"
         },
         "name": "GDP",
         "type": "bar",
         "visible": false,
         "x": [
          "Central and Eastern Europe",
          "Commonwealth of Independent States",
          "East Asia",
          "Latin America and Caribbean",
          "Middle East and North Africa",
          "North America and ANZ",
          "South Asia",
          "Southeast Asia",
          "Sub-Saharan Africa",
          "Western Europe"
         ],
         "y": [
          10.1062373435,
          9.344740174090909,
          10.198839825,
          9.25787265305,
          9.7160172455,
          10.8060238375,
          8.503302494666666,
          9.290584564,
          8.055150108967743,
          10.834960651500001
         ]
        }
       ],
       "layout": {
        "autosize": true,
        "template": {
         "data": {
          "bar": [
           {
            "error_x": {
             "color": "#2a3f5f"
            },
            "error_y": {
             "color": "#2a3f5f"
            },
            "marker": {
             "line": {
              "color": "#E5ECF6",
              "width": 0.5
             },
             "pattern": {
              "fillmode": "overlay",
              "size": 10,
              "solidity": 0.2
             }
            },
            "type": "bar"
           }
          ],
          "barpolar": [
           {
            "marker": {
             "line": {
              "color": "#E5ECF6",
              "width": 0.5
             },
             "pattern": {
              "fillmode": "overlay",
              "size": 10,
              "solidity": 0.2
             }
            },
            "type": "barpolar"
           }
          ],
          "carpet": [
           {
            "aaxis": {
             "endlinecolor": "#2a3f5f",
             "gridcolor": "white",
             "linecolor": "white",
             "minorgridcolor": "white",
             "startlinecolor": "#2a3f5f"
            },
            "baxis": {
             "endlinecolor": "#2a3f5f",
             "gridcolor": "white",
             "linecolor": "white",
             "minorgridcolor": "white",
             "startlinecolor": "#2a3f5f"
            },
            "type": "carpet"
           }
          ],
          "choropleth": [
           {
            "colorbar": {
             "outlinewidth": 0,
             "ticks": ""
            },
            "type": "choropleth"
           }
          ],
          "contour": [
           {
            "colorbar": {
             "outlinewidth": 0,
             "ticks": ""
            },
            "colorscale": [
             [
              0,
              "#0d0887"
             ],
             [
              0.1111111111111111,
              "#46039f"
             ],
             [
              0.2222222222222222,
              "#7201a8"
             ],
             [
              0.3333333333333333,
              "#9c179e"
             ],
             [
              0.4444444444444444,
              "#bd3786"
             ],
             [
              0.5555555555555556,
              "#d8576b"
             ],
             [
              0.6666666666666666,
              "#ed7953"
             ],
             [
              0.7777777777777778,
              "#fb9f3a"
             ],
             [
              0.8888888888888888,
              "#fdca26"
             ],
             [
              1,
              "#f0f921"
             ]
            ],
            "type": "contour"
           }
          ],
          "contourcarpet": [
           {
            "colorbar": {
             "outlinewidth": 0,
             "ticks": ""
            },
            "type": "contourcarpet"
           }
          ],
          "heatmap": [
           {
            "colorbar": {
             "outlinewidth": 0,
             "ticks": ""
            },
            "colorscale": [
             [
              0,
              "#0d0887"
             ],
             [
              0.1111111111111111,
              "#46039f"
             ],
             [
              0.2222222222222222,
              "#7201a8"
             ],
             [
              0.3333333333333333,
              "#9c179e"
             ],
             [
              0.4444444444444444,
              "#bd3786"
             ],
             [
              0.5555555555555556,
              "#d8576b"
             ],
             [
              0.6666666666666666,
              "#ed7953"
             ],
             [
              0.7777777777777778,
              "#fb9f3a"
             ],
             [
              0.8888888888888888,
              "#fdca26"
             ],
             [
              1,
              "#f0f921"
             ]
            ],
            "type": "heatmap"
           }
          ],
          "heatmapgl": [
           {
            "colorbar": {
             "outlinewidth": 0,
             "ticks": ""
            },
            "colorscale": [
             [
              0,
              "#0d0887"
             ],
             [
              0.1111111111111111,
              "#46039f"
             ],
             [
              0.2222222222222222,
              "#7201a8"
             ],
             [
              0.3333333333333333,
              "#9c179e"
             ],
             [
              0.4444444444444444,
              "#bd3786"
             ],
             [
              0.5555555555555556,
              "#d8576b"
             ],
             [
              0.6666666666666666,
              "#ed7953"
             ],
             [
              0.7777777777777778,
              "#fb9f3a"
             ],
             [
              0.8888888888888888,
              "#fdca26"
             ],
             [
              1,
              "#f0f921"
             ]
            ],
            "type": "heatmapgl"
           }
          ],
          "histogram": [
           {
            "marker": {
             "pattern": {
              "fillmode": "overlay",
              "size": 10,
              "solidity": 0.2
             }
            },
            "type": "histogram"
           }
          ],
          "histogram2d": [
           {
            "colorbar": {
             "outlinewidth": 0,
             "ticks": ""
            },
            "colorscale": [
             [
              0,
              "#0d0887"
             ],
             [
              0.1111111111111111,
              "#46039f"
             ],
             [
              0.2222222222222222,
              "#7201a8"
             ],
             [
              0.3333333333333333,
              "#9c179e"
             ],
             [
              0.4444444444444444,
              "#bd3786"
             ],
             [
              0.5555555555555556,
              "#d8576b"
             ],
             [
              0.6666666666666666,
              "#ed7953"
             ],
             [
              0.7777777777777778,
              "#fb9f3a"
             ],
             [
              0.8888888888888888,
              "#fdca26"
             ],
             [
              1,
              "#f0f921"
             ]
            ],
            "type": "histogram2d"
           }
          ],
          "histogram2dcontour": [
           {
            "colorbar": {
             "outlinewidth": 0,
             "ticks": ""
            },
            "colorscale": [
             [
              0,
              "#0d0887"
             ],
             [
              0.1111111111111111,
              "#46039f"
             ],
             [
              0.2222222222222222,
              "#7201a8"
             ],
             [
              0.3333333333333333,
              "#9c179e"
             ],
             [
              0.4444444444444444,
              "#bd3786"
             ],
             [
              0.5555555555555556,
              "#d8576b"
             ],
             [
              0.6666666666666666,
              "#ed7953"
             ],
             [
              0.7777777777777778,
              "#fb9f3a"
             ],
             [
              0.8888888888888888,
              "#fdca26"
             ],
             [
              1,
              "#f0f921"
             ]
            ],
            "type": "histogram2dcontour"
           }
          ],
          "mesh3d": [
           {
            "colorbar": {
             "outlinewidth": 0,
             "ticks": ""
            },
            "type": "mesh3d"
           }
          ],
          "parcoords": [
           {
            "line": {
             "colorbar": {
              "outlinewidth": 0,
              "ticks": ""
             }
            },
            "type": "parcoords"
           }
          ],
          "pie": [
           {
            "automargin": true,
            "type": "pie"
           }
          ],
          "scatter": [
           {
            "fillpattern": {
             "fillmode": "overlay",
             "size": 10,
             "solidity": 0.2
            },
            "type": "scatter"
           }
          ],
          "scatter3d": [
           {
            "line": {
             "colorbar": {
              "outlinewidth": 0,
              "ticks": ""
             }
            },
            "marker": {
             "colorbar": {
              "outlinewidth": 0,
              "ticks": ""
             }
            },
            "type": "scatter3d"
           }
          ],
          "scattercarpet": [
           {
            "marker": {
             "colorbar": {
              "outlinewidth": 0,
              "ticks": ""
             }
            },
            "type": "scattercarpet"
           }
          ],
          "scattergeo": [
           {
            "marker": {
             "colorbar": {
              "outlinewidth": 0,
              "ticks": ""
             }
            },
            "type": "scattergeo"
           }
          ],
          "scattergl": [
           {
            "marker": {
             "colorbar": {
              "outlinewidth": 0,
              "ticks": ""
             }
            },
            "type": "scattergl"
           }
          ],
          "scattermapbox": [
           {
            "marker": {
             "colorbar": {
              "outlinewidth": 0,
              "ticks": ""
             }
            },
            "type": "scattermapbox"
           }
          ],
          "scatterpolar": [
           {
            "marker": {
             "colorbar": {
              "outlinewidth": 0,
              "ticks": ""
             }
            },
            "type": "scatterpolar"
           }
          ],
          "scatterpolargl": [
           {
            "marker": {
             "colorbar": {
              "outlinewidth": 0,
              "ticks": ""
             }
            },
            "type": "scatterpolargl"
           }
          ],
          "scatterternary": [
           {
            "marker": {
             "colorbar": {
              "outlinewidth": 0,
              "ticks": ""
             }
            },
            "type": "scatterternary"
           }
          ],
          "surface": [
           {
            "colorbar": {
             "outlinewidth": 0,
             "ticks": ""
            },
            "colorscale": [
             [
              0,
              "#0d0887"
             ],
             [
              0.1111111111111111,
              "#46039f"
             ],
             [
              0.2222222222222222,
              "#7201a8"
             ],
             [
              0.3333333333333333,
              "#9c179e"
             ],
             [
              0.4444444444444444,
              "#bd3786"
             ],
             [
              0.5555555555555556,
              "#d8576b"
             ],
             [
              0.6666666666666666,
              "#ed7953"
             ],
             [
              0.7777777777777778,
              "#fb9f3a"
             ],
             [
              0.8888888888888888,
              "#fdca26"
             ],
             [
              1,
              "#f0f921"
             ]
            ],
            "type": "surface"
           }
          ],
          "table": [
           {
            "cells": {
             "fill": {
              "color": "#EBF0F8"
             },
             "line": {
              "color": "white"
             }
            },
            "header": {
             "fill": {
              "color": "#C8D4E3"
             },
             "line": {
              "color": "white"
             }
            },
            "type": "table"
           }
          ]
         },
         "layout": {
          "annotationdefaults": {
           "arrowcolor": "#2a3f5f",
           "arrowhead": 0,
           "arrowwidth": 1
          },
          "autotypenumbers": "strict",
          "coloraxis": {
           "colorbar": {
            "outlinewidth": 0,
            "ticks": ""
           }
          },
          "colorscale": {
           "diverging": [
            [
             0,
             "#8e0152"
            ],
            [
             0.1,
             "#c51b7d"
            ],
            [
             0.2,
             "#de77ae"
            ],
            [
             0.3,
             "#f1b6da"
            ],
            [
             0.4,
             "#fde0ef"
            ],
            [
             0.5,
             "#f7f7f7"
            ],
            [
             0.6,
             "#e6f5d0"
            ],
            [
             0.7,
             "#b8e186"
            ],
            [
             0.8,
             "#7fbc41"
            ],
            [
             0.9,
             "#4d9221"
            ],
            [
             1,
             "#276419"
            ]
           ],
           "sequential": [
            [
             0,
             "#0d0887"
            ],
            [
             0.1111111111111111,
             "#46039f"
            ],
            [
             0.2222222222222222,
             "#7201a8"
            ],
            [
             0.3333333333333333,
             "#9c179e"
            ],
            [
             0.4444444444444444,
             "#bd3786"
            ],
            [
             0.5555555555555556,
             "#d8576b"
            ],
            [
             0.6666666666666666,
             "#ed7953"
            ],
            [
             0.7777777777777778,
             "#fb9f3a"
            ],
            [
             0.8888888888888888,
             "#fdca26"
            ],
            [
             1,
             "#f0f921"
            ]
           ],
           "sequentialminus": [
            [
             0,
             "#0d0887"
            ],
            [
             0.1111111111111111,
             "#46039f"
            ],
            [
             0.2222222222222222,
             "#7201a8"
            ],
            [
             0.3333333333333333,
             "#9c179e"
            ],
            [
             0.4444444444444444,
             "#bd3786"
            ],
            [
             0.5555555555555556,
             "#d8576b"
            ],
            [
             0.6666666666666666,
             "#ed7953"
            ],
            [
             0.7777777777777778,
             "#fb9f3a"
            ],
            [
             0.8888888888888888,
             "#fdca26"
            ],
            [
             1,
             "#f0f921"
            ]
           ]
          },
          "colorway": [
           "#636efa",
           "#EF553B",
           "#00cc96",
           "#ab63fa",
           "#FFA15A",
           "#19d3f3",
           "#FF6692",
           "#B6E880",
           "#FF97FF",
           "#FECB52"
          ],
          "font": {
           "color": "#2a3f5f"
          },
          "geo": {
           "bgcolor": "white",
           "lakecolor": "white",
           "landcolor": "#E5ECF6",
           "showlakes": true,
           "showland": true,
           "subunitcolor": "white"
          },
          "hoverlabel": {
           "align": "left"
          },
          "hovermode": "closest",
          "mapbox": {
           "style": "light"
          },
          "paper_bgcolor": "white",
          "plot_bgcolor": "#E5ECF6",
          "polar": {
           "angularaxis": {
            "gridcolor": "white",
            "linecolor": "white",
            "ticks": ""
           },
           "bgcolor": "#E5ECF6",
           "radialaxis": {
            "gridcolor": "white",
            "linecolor": "white",
            "ticks": ""
           }
          },
          "scene": {
           "xaxis": {
            "backgroundcolor": "#E5ECF6",
            "gridcolor": "white",
            "gridwidth": 2,
            "linecolor": "white",
            "showbackground": true,
            "ticks": "",
            "zerolinecolor": "white"
           },
           "yaxis": {
            "backgroundcolor": "#E5ECF6",
            "gridcolor": "white",
            "gridwidth": 2,
            "linecolor": "white",
            "showbackground": true,
            "ticks": "",
            "zerolinecolor": "white"
           },
           "zaxis": {
            "backgroundcolor": "#E5ECF6",
            "gridcolor": "white",
            "gridwidth": 2,
            "linecolor": "white",
            "showbackground": true,
            "ticks": "",
            "zerolinecolor": "white"
           }
          },
          "shapedefaults": {
           "line": {
            "color": "#2a3f5f"
           }
          },
          "ternary": {
           "aaxis": {
            "gridcolor": "white",
            "linecolor": "white",
            "ticks": ""
           },
           "baxis": {
            "gridcolor": "white",
            "linecolor": "white",
            "ticks": ""
           },
           "bgcolor": "#E5ECF6",
           "caxis": {
            "gridcolor": "white",
            "linecolor": "white",
            "ticks": ""
           }
          },
          "title": {
           "x": 0.05
          },
          "xaxis": {
           "automargin": true,
           "gridcolor": "white",
           "linecolor": "white",
           "ticks": "",
           "title": {
            "standoff": 15
           },
           "zerolinecolor": "white",
           "zerolinewidth": 2
          },
          "yaxis": {
           "automargin": true,
           "gridcolor": "white",
           "linecolor": "white",
           "ticks": "",
           "title": {
            "standoff": 15
           },
           "zerolinecolor": "white",
           "zerolinewidth": 2
          }
         }
        },
        "title": {
         "text": "Different Mental Disorders by Region"
        },
        "updatemenus": [
         {
          "buttons": [
           {
            "args": [
             {
              "visible": [
               true,
               true,
               true,
               false,
               false,
               false,
               false,
               false,
               false,
               false,
               false,
               false
              ]
             },
             {
              "title": "Anxiety disorders (%), Happiness and GDP per region"
             }
            ],
            "label": "Anxiety disorders (%)",
            "method": "update"
           },
           {
            "args": [
             {
              "visible": [
               false,
               false,
               false,
               true,
               true,
               true,
               false,
               false,
               false,
               false,
               false,
               false
              ]
             },
             {
              "title": "Drug use disorders (%), Happiness and GDP per region"
             }
            ],
            "label": "Drug use disorders (%)",
            "method": "update"
           },
           {
            "args": [
             {
              "visible": [
               false,
               false,
               false,
               false,
               false,
               false,
               true,
               true,
               true,
               false,
               false,
               false
              ]
             },
             {
              "title": "Depression (%), Happiness and GDP per region"
             }
            ],
            "label": "Depression (%)",
            "method": "update"
           },
           {
            "args": [
             {
              "visible": [
               false,
               false,
               false,
               false,
               false,
               false,
               false,
               false,
               false,
               true,
               true,
               true
              ]
             },
             {
              "title": "Alcohol use disorders (%), Happiness and GDP per region"
             }
            ],
            "label": "Alcohol use disorders (%)",
            "method": "update"
           }
          ],
          "direction": "down",
          "showactive": true
         }
        ],
        "xaxis": {
         "autorange": true,
         "range": [
          -0.5,
          9.5
         ],
         "title": {
          "text": "Regional Indicator"
         },
         "type": "category"
        },
        "yaxis": {
         "autorange": true,
         "range": [
          0,
          11.405221738421053
         ],
         "title": {
          "text": "Strength"
         },
         "type": "linear"
        }
       }
      },
      "text/html": [
       "<div>                            <div id=\"9cd26d09-6190-4829-9eb5-0990f298eaa0\" class=\"plotly-graph-div\" style=\"height:525px; width:100%;\"></div>            <script type=\"text/javascript\">                require([\"plotly\"], function(Plotly) {                    window.PLOTLYENV=window.PLOTLYENV || {};                                    if (document.getElementById(\"9cd26d09-6190-4829-9eb5-0990f298eaa0\")) {                    Plotly.newPlot(                        \"9cd26d09-6190-4829-9eb5-0990f298eaa0\",                        [{\"marker\":{\"color\":\"rgb(252, 115, 3)\"},\"name\":\"Anxiety disorders (%)\",\"x\":[\"Central and Eastern Europe\",\"Commonwealth of Independent States\",\"East Asia\",\"Latin America and Caribbean\",\"Middle East and North Africa\",\"North America and ANZ\",\"South Asia\",\"Southeast Asia\",\"Sub-Saharan Africa\",\"Western Europe\"],\"y\":[3.323786214285714,2.705037818181818,3.307413,4.17288035,4.733117,6.73437625,3.923526666666667,3.4911394285714286,3.243001322580645,5.5723018],\"type\":\"bar\"},{\"marker\":{\"color\":\"rgb(14, 174, 237)\"},\"name\":\"Happiness\",\"x\":[\"Central and Eastern Europe\",\"Commonwealth of Independent States\",\"East Asia\",\"Latin America and Caribbean\",\"Middle East and North Africa\",\"North America and ANZ\",\"South Asia\",\"Southeast Asia\",\"Sub-Saharan Africa\",\"Western Europe\"],\"y\":[5.7131471974285715,5.311056007,5.706137975,5.99267653225,5.26794195175,7.24771201625,4.3193514745,5.196189948571429,4.393276691419355,6.8919604778500005],\"type\":\"bar\"},{\"marker\":{\"color\":\"rgb(135, 18, 219)\"},\"name\":\"GDP\",\"x\":[\"Central and Eastern Europe\",\"Commonwealth of Independent States\",\"East Asia\",\"Latin America and Caribbean\",\"Middle East and North Africa\",\"North America and ANZ\",\"South Asia\",\"Southeast Asia\",\"Sub-Saharan Africa\",\"Western Europe\"],\"y\":[10.1062373435,9.344740174090909,10.198839825,9.25787265305,9.7160172455,10.8060238375,8.503302494666666,9.290584564,8.055150108967743,10.834960651500001],\"type\":\"bar\"},{\"marker\":{\"color\":\"rgb(252, 115, 3)\"},\"name\":\"Drug use disorders (%)\",\"x\":[\"Central and Eastern Europe\",\"Commonwealth of Independent States\",\"East Asia\",\"Latin America and Caribbean\",\"Middle East and North Africa\",\"North America and ANZ\",\"South Asia\",\"Southeast Asia\",\"Sub-Saharan Africa\",\"Western Europe\"],\"y\":[0.6961287857142857,0.6011135454545454,0.787599,0.7915127,1.554734,2.5232915,0.8896336666666667,0.6863207142857143,0.5605263548387097,0.9446536999999999],\"type\":\"bar\",\"visible\":false},{\"marker\":{\"color\":\"rgb(14, 174, 237)\"},\"name\":\"Happiness\",\"x\":[\"Central and Eastern Europe\",\"Commonwealth of Independent States\",\"East Asia\",\"Latin America and Caribbean\",\"Middle East and North Africa\",\"North America and ANZ\",\"South Asia\",\"Southeast Asia\",\"Sub-Saharan Africa\",\"Western Europe\"],\"y\":[5.7131471974285715,5.311056007,5.706137975,5.99267653225,5.26794195175,7.24771201625,4.3193514745,5.196189948571429,4.393276691419355,6.8919604778500005],\"type\":\"bar\",\"visible\":false},{\"marker\":{\"color\":\"rgb(135, 18, 219)\"},\"name\":\"GDP\",\"x\":[\"Central and Eastern Europe\",\"Commonwealth of Independent States\",\"East Asia\",\"Latin America and Caribbean\",\"Middle East and North Africa\",\"North America and ANZ\",\"South Asia\",\"Southeast Asia\",\"Sub-Saharan Africa\",\"Western Europe\"],\"y\":[10.1062373435,9.344740174090909,10.198839825,9.25787265305,9.7160172455,10.8060238375,8.503302494666666,9.290584564,8.055150108967743,10.834960651500001],\"type\":\"bar\",\"visible\":false},{\"marker\":{\"color\":\"rgb(252, 115, 3)\"},\"name\":\"Depression (%)\",\"x\":[\"Central and Eastern Europe\",\"Commonwealth of Independent States\",\"East Asia\",\"Latin America and Caribbean\",\"Middle East and North Africa\",\"North America and ANZ\",\"South Asia\",\"Southeast Asia\",\"Sub-Saharan Africa\",\"Western Europe\"],\"y\":[2.7936827857142856,3.2177457272727277,3.344245666666667,2.98483405,3.82882675,4.354887,3.6930599999999996,2.891371142857143,3.7413536451612903,3.8662601000000003],\"type\":\"bar\",\"visible\":false},{\"marker\":{\"color\":\"rgb(14, 174, 237)\"},\"name\":\"Happiness\",\"x\":[\"Central and Eastern Europe\",\"Commonwealth of Independent States\",\"East Asia\",\"Latin America and Caribbean\",\"Middle East and North Africa\",\"North America and ANZ\",\"South Asia\",\"Southeast Asia\",\"Sub-Saharan Africa\",\"Western Europe\"],\"y\":[5.7131471974285715,5.311056007,5.706137975,5.99267653225,5.26794195175,7.24771201625,4.3193514745,5.196189948571429,4.393276691419355,6.8919604778500005],\"type\":\"bar\",\"visible\":false},{\"marker\":{\"color\":\"rgb(135, 18, 219)\"},\"name\":\"GDP\",\"x\":[\"Central and Eastern Europe\",\"Commonwealth of Independent States\",\"East Asia\",\"Latin America and Caribbean\",\"Middle East and North Africa\",\"North America and ANZ\",\"South Asia\",\"Southeast Asia\",\"Sub-Saharan Africa\",\"Western Europe\"],\"y\":[10.1062373435,9.344740174090909,10.198839825,9.25787265305,9.7160172455,10.8060238375,8.503302494666666,9.290584564,8.055150108967743,10.834960651500001],\"type\":\"bar\",\"visible\":false},{\"marker\":{\"color\":\"rgb(252, 115, 3)\"},\"name\":\"Alcohol use disorders (%)\",\"x\":[\"Central and Eastern Europe\",\"Commonwealth of Independent States\",\"East Asia\",\"Latin America and Caribbean\",\"Middle East and North Africa\",\"North America and ANZ\",\"South Asia\",\"Southeast Asia\",\"Sub-Saharan Africa\",\"Western Europe\"],\"y\":[2.612415142857143,3.213696181818182,2.0270126666666664,1.83909035,0.6154685,1.8408410000000002,1.2100635000000002,0.7973257142857142,1.285931935483871,1.42883535],\"type\":\"bar\",\"visible\":false},{\"marker\":{\"color\":\"rgb(14, 174, 237)\"},\"name\":\"Happiness\",\"x\":[\"Central and Eastern Europe\",\"Commonwealth of Independent States\",\"East Asia\",\"Latin America and Caribbean\",\"Middle East and North Africa\",\"North America and ANZ\",\"South Asia\",\"Southeast Asia\",\"Sub-Saharan Africa\",\"Western Europe\"],\"y\":[5.7131471974285715,5.311056007,5.706137975,5.99267653225,5.26794195175,7.24771201625,4.3193514745,5.196189948571429,4.393276691419355,6.8919604778500005],\"type\":\"bar\",\"visible\":false},{\"marker\":{\"color\":\"rgb(135, 18, 219)\"},\"name\":\"GDP\",\"x\":[\"Central and Eastern Europe\",\"Commonwealth of Independent States\",\"East Asia\",\"Latin America and Caribbean\",\"Middle East and North Africa\",\"North America and ANZ\",\"South Asia\",\"Southeast Asia\",\"Sub-Saharan Africa\",\"Western Europe\"],\"y\":[10.1062373435,9.344740174090909,10.198839825,9.25787265305,9.7160172455,10.8060238375,8.503302494666666,9.290584564,8.055150108967743,10.834960651500001],\"type\":\"bar\",\"visible\":false}],                        {\"template\":{\"data\":{\"histogram2dcontour\":[{\"type\":\"histogram2dcontour\",\"colorbar\":{\"outlinewidth\":0,\"ticks\":\"\"},\"colorscale\":[[0.0,\"#0d0887\"],[0.1111111111111111,\"#46039f\"],[0.2222222222222222,\"#7201a8\"],[0.3333333333333333,\"#9c179e\"],[0.4444444444444444,\"#bd3786\"],[0.5555555555555556,\"#d8576b\"],[0.6666666666666666,\"#ed7953\"],[0.7777777777777778,\"#fb9f3a\"],[0.8888888888888888,\"#fdca26\"],[1.0,\"#f0f921\"]]}],\"choropleth\":[{\"type\":\"choropleth\",\"colorbar\":{\"outlinewidth\":0,\"ticks\":\"\"}}],\"histogram2d\":[{\"type\":\"histogram2d\",\"colorbar\":{\"outlinewidth\":0,\"ticks\":\"\"},\"colorscale\":[[0.0,\"#0d0887\"],[0.1111111111111111,\"#46039f\"],[0.2222222222222222,\"#7201a8\"],[0.3333333333333333,\"#9c179e\"],[0.4444444444444444,\"#bd3786\"],[0.5555555555555556,\"#d8576b\"],[0.6666666666666666,\"#ed7953\"],[0.7777777777777778,\"#fb9f3a\"],[0.8888888888888888,\"#fdca26\"],[1.0,\"#f0f921\"]]}],\"heatmap\":[{\"type\":\"heatmap\",\"colorbar\":{\"outlinewidth\":0,\"ticks\":\"\"},\"colorscale\":[[0.0,\"#0d0887\"],[0.1111111111111111,\"#46039f\"],[0.2222222222222222,\"#7201a8\"],[0.3333333333333333,\"#9c179e\"],[0.4444444444444444,\"#bd3786\"],[0.5555555555555556,\"#d8576b\"],[0.6666666666666666,\"#ed7953\"],[0.7777777777777778,\"#fb9f3a\"],[0.8888888888888888,\"#fdca26\"],[1.0,\"#f0f921\"]]}],\"heatmapgl\":[{\"type\":\"heatmapgl\",\"colorbar\":{\"outlinewidth\":0,\"ticks\":\"\"},\"colorscale\":[[0.0,\"#0d0887\"],[0.1111111111111111,\"#46039f\"],[0.2222222222222222,\"#7201a8\"],[0.3333333333333333,\"#9c179e\"],[0.4444444444444444,\"#bd3786\"],[0.5555555555555556,\"#d8576b\"],[0.6666666666666666,\"#ed7953\"],[0.7777777777777778,\"#fb9f3a\"],[0.8888888888888888,\"#fdca26\"],[1.0,\"#f0f921\"]]}],\"contourcarpet\":[{\"type\":\"contourcarpet\",\"colorbar\":{\"outlinewidth\":0,\"ticks\":\"\"}}],\"contour\":[{\"type\":\"contour\",\"colorbar\":{\"outlinewidth\":0,\"ticks\":\"\"},\"colorscale\":[[0.0,\"#0d0887\"],[0.1111111111111111,\"#46039f\"],[0.2222222222222222,\"#7201a8\"],[0.3333333333333333,\"#9c179e\"],[0.4444444444444444,\"#bd3786\"],[0.5555555555555556,\"#d8576b\"],[0.6666666666666666,\"#ed7953\"],[0.7777777777777778,\"#fb9f3a\"],[0.8888888888888888,\"#fdca26\"],[1.0,\"#f0f921\"]]}],\"surface\":[{\"type\":\"surface\",\"colorbar\":{\"outlinewidth\":0,\"ticks\":\"\"},\"colorscale\":[[0.0,\"#0d0887\"],[0.1111111111111111,\"#46039f\"],[0.2222222222222222,\"#7201a8\"],[0.3333333333333333,\"#9c179e\"],[0.4444444444444444,\"#bd3786\"],[0.5555555555555556,\"#d8576b\"],[0.6666666666666666,\"#ed7953\"],[0.7777777777777778,\"#fb9f3a\"],[0.8888888888888888,\"#fdca26\"],[1.0,\"#f0f921\"]]}],\"mesh3d\":[{\"type\":\"mesh3d\",\"colorbar\":{\"outlinewidth\":0,\"ticks\":\"\"}}],\"scatter\":[{\"fillpattern\":{\"fillmode\":\"overlay\",\"size\":10,\"solidity\":0.2},\"type\":\"scatter\"}],\"parcoords\":[{\"type\":\"parcoords\",\"line\":{\"colorbar\":{\"outlinewidth\":0,\"ticks\":\"\"}}}],\"scatterpolargl\":[{\"type\":\"scatterpolargl\",\"marker\":{\"colorbar\":{\"outlinewidth\":0,\"ticks\":\"\"}}}],\"bar\":[{\"error_x\":{\"color\":\"#2a3f5f\"},\"error_y\":{\"color\":\"#2a3f5f\"},\"marker\":{\"line\":{\"color\":\"#E5ECF6\",\"width\":0.5},\"pattern\":{\"fillmode\":\"overlay\",\"size\":10,\"solidity\":0.2}},\"type\":\"bar\"}],\"scattergeo\":[{\"type\":\"scattergeo\",\"marker\":{\"colorbar\":{\"outlinewidth\":0,\"ticks\":\"\"}}}],\"scatterpolar\":[{\"type\":\"scatterpolar\",\"marker\":{\"colorbar\":{\"outlinewidth\":0,\"ticks\":\"\"}}}],\"histogram\":[{\"marker\":{\"pattern\":{\"fillmode\":\"overlay\",\"size\":10,\"solidity\":0.2}},\"type\":\"histogram\"}],\"scattergl\":[{\"type\":\"scattergl\",\"marker\":{\"colorbar\":{\"outlinewidth\":0,\"ticks\":\"\"}}}],\"scatter3d\":[{\"type\":\"scatter3d\",\"line\":{\"colorbar\":{\"outlinewidth\":0,\"ticks\":\"\"}},\"marker\":{\"colorbar\":{\"outlinewidth\":0,\"ticks\":\"\"}}}],\"scattermapbox\":[{\"type\":\"scattermapbox\",\"marker\":{\"colorbar\":{\"outlinewidth\":0,\"ticks\":\"\"}}}],\"scatterternary\":[{\"type\":\"scatterternary\",\"marker\":{\"colorbar\":{\"outlinewidth\":0,\"ticks\":\"\"}}}],\"scattercarpet\":[{\"type\":\"scattercarpet\",\"marker\":{\"colorbar\":{\"outlinewidth\":0,\"ticks\":\"\"}}}],\"carpet\":[{\"aaxis\":{\"endlinecolor\":\"#2a3f5f\",\"gridcolor\":\"white\",\"linecolor\":\"white\",\"minorgridcolor\":\"white\",\"startlinecolor\":\"#2a3f5f\"},\"baxis\":{\"endlinecolor\":\"#2a3f5f\",\"gridcolor\":\"white\",\"linecolor\":\"white\",\"minorgridcolor\":\"white\",\"startlinecolor\":\"#2a3f5f\"},\"type\":\"carpet\"}],\"table\":[{\"cells\":{\"fill\":{\"color\":\"#EBF0F8\"},\"line\":{\"color\":\"white\"}},\"header\":{\"fill\":{\"color\":\"#C8D4E3\"},\"line\":{\"color\":\"white\"}},\"type\":\"table\"}],\"barpolar\":[{\"marker\":{\"line\":{\"color\":\"#E5ECF6\",\"width\":0.5},\"pattern\":{\"fillmode\":\"overlay\",\"size\":10,\"solidity\":0.2}},\"type\":\"barpolar\"}],\"pie\":[{\"automargin\":true,\"type\":\"pie\"}]},\"layout\":{\"autotypenumbers\":\"strict\",\"colorway\":[\"#636efa\",\"#EF553B\",\"#00cc96\",\"#ab63fa\",\"#FFA15A\",\"#19d3f3\",\"#FF6692\",\"#B6E880\",\"#FF97FF\",\"#FECB52\"],\"font\":{\"color\":\"#2a3f5f\"},\"hovermode\":\"closest\",\"hoverlabel\":{\"align\":\"left\"},\"paper_bgcolor\":\"white\",\"plot_bgcolor\":\"#E5ECF6\",\"polar\":{\"bgcolor\":\"#E5ECF6\",\"angularaxis\":{\"gridcolor\":\"white\",\"linecolor\":\"white\",\"ticks\":\"\"},\"radialaxis\":{\"gridcolor\":\"white\",\"linecolor\":\"white\",\"ticks\":\"\"}},\"ternary\":{\"bgcolor\":\"#E5ECF6\",\"aaxis\":{\"gridcolor\":\"white\",\"linecolor\":\"white\",\"ticks\":\"\"},\"baxis\":{\"gridcolor\":\"white\",\"linecolor\":\"white\",\"ticks\":\"\"},\"caxis\":{\"gridcolor\":\"white\",\"linecolor\":\"white\",\"ticks\":\"\"}},\"coloraxis\":{\"colorbar\":{\"outlinewidth\":0,\"ticks\":\"\"}},\"colorscale\":{\"sequential\":[[0.0,\"#0d0887\"],[0.1111111111111111,\"#46039f\"],[0.2222222222222222,\"#7201a8\"],[0.3333333333333333,\"#9c179e\"],[0.4444444444444444,\"#bd3786\"],[0.5555555555555556,\"#d8576b\"],[0.6666666666666666,\"#ed7953\"],[0.7777777777777778,\"#fb9f3a\"],[0.8888888888888888,\"#fdca26\"],[1.0,\"#f0f921\"]],\"sequentialminus\":[[0.0,\"#0d0887\"],[0.1111111111111111,\"#46039f\"],[0.2222222222222222,\"#7201a8\"],[0.3333333333333333,\"#9c179e\"],[0.4444444444444444,\"#bd3786\"],[0.5555555555555556,\"#d8576b\"],[0.6666666666666666,\"#ed7953\"],[0.7777777777777778,\"#fb9f3a\"],[0.8888888888888888,\"#fdca26\"],[1.0,\"#f0f921\"]],\"diverging\":[[0,\"#8e0152\"],[0.1,\"#c51b7d\"],[0.2,\"#de77ae\"],[0.3,\"#f1b6da\"],[0.4,\"#fde0ef\"],[0.5,\"#f7f7f7\"],[0.6,\"#e6f5d0\"],[0.7,\"#b8e186\"],[0.8,\"#7fbc41\"],[0.9,\"#4d9221\"],[1,\"#276419\"]]},\"xaxis\":{\"gridcolor\":\"white\",\"linecolor\":\"white\",\"ticks\":\"\",\"title\":{\"standoff\":15},\"zerolinecolor\":\"white\",\"automargin\":true,\"zerolinewidth\":2},\"yaxis\":{\"gridcolor\":\"white\",\"linecolor\":\"white\",\"ticks\":\"\",\"title\":{\"standoff\":15},\"zerolinecolor\":\"white\",\"automargin\":true,\"zerolinewidth\":2},\"scene\":{\"xaxis\":{\"backgroundcolor\":\"#E5ECF6\",\"gridcolor\":\"white\",\"linecolor\":\"white\",\"showbackground\":true,\"ticks\":\"\",\"zerolinecolor\":\"white\",\"gridwidth\":2},\"yaxis\":{\"backgroundcolor\":\"#E5ECF6\",\"gridcolor\":\"white\",\"linecolor\":\"white\",\"showbackground\":true,\"ticks\":\"\",\"zerolinecolor\":\"white\",\"gridwidth\":2},\"zaxis\":{\"backgroundcolor\":\"#E5ECF6\",\"gridcolor\":\"white\",\"linecolor\":\"white\",\"showbackground\":true,\"ticks\":\"\",\"zerolinecolor\":\"white\",\"gridwidth\":2}},\"shapedefaults\":{\"line\":{\"color\":\"#2a3f5f\"}},\"annotationdefaults\":{\"arrowcolor\":\"#2a3f5f\",\"arrowhead\":0,\"arrowwidth\":1},\"geo\":{\"bgcolor\":\"white\",\"landcolor\":\"#E5ECF6\",\"subunitcolor\":\"white\",\"showland\":true,\"showlakes\":true,\"lakecolor\":\"white\"},\"title\":{\"x\":0.05},\"mapbox\":{\"style\":\"light\"}}},\"updatemenus\":[{\"buttons\":[{\"args\":[{\"visible\":[true,true,true,false,false,false,false,false,false,false,false,false]},{\"title\":\"Anxiety disorders (%), Happiness and GDP per region\"}],\"label\":\"Anxiety disorders (%)\",\"method\":\"update\"},{\"args\":[{\"visible\":[false,false,false,true,true,true,false,false,false,false,false,false]},{\"title\":\"Drug use disorders (%), Happiness and GDP per region\"}],\"label\":\"Drug use disorders (%)\",\"method\":\"update\"},{\"args\":[{\"visible\":[false,false,false,false,false,false,true,true,true,false,false,false]},{\"title\":\"Depression (%), Happiness and GDP per region\"}],\"label\":\"Depression (%)\",\"method\":\"update\"},{\"args\":[{\"visible\":[false,false,false,false,false,false,false,false,false,true,true,true]},{\"title\":\"Alcohol use disorders (%), Happiness and GDP per region\"}],\"label\":\"Alcohol use disorders (%)\",\"method\":\"update\"}],\"direction\":\"down\",\"showactive\":true}],\"title\":{\"text\":\"Different Mental Disorders by Region\"},\"xaxis\":{\"title\":{\"text\":\"Regional Indicator\"}},\"yaxis\":{\"title\":{\"text\":\"Strength\"}}},                        {\"responsive\": true}                    ).then(function(){\n",
       "                            \n",
       "var gd = document.getElementById('9cd26d09-6190-4829-9eb5-0990f298eaa0');\n",
       "var x = new MutationObserver(function (mutations, observer) {{\n",
       "        var display = window.getComputedStyle(gd).display;\n",
       "        if (!display || display === 'none') {{\n",
       "            console.log([gd, 'removed!']);\n",
       "            Plotly.purge(gd);\n",
       "            observer.disconnect();\n",
       "        }}\n",
       "}});\n",
       "\n",
       "// Listen for the removal of the full notebook cells\n",
       "var notebookContainer = gd.closest('#notebook-container');\n",
       "if (notebookContainer) {{\n",
       "    x.observe(notebookContainer, {childList: true});\n",
       "}}\n",
       "\n",
       "// Listen for the clearing of the current output cell\n",
       "var outputEl = gd.closest('.output');\n",
       "if (outputEl) {{\n",
       "    x.observe(outputEl, {childList: true});\n",
       "}}\n",
       "\n",
       "                        })                };                });            </script>        </div>"
      ]
     },
     "metadata": {},
     "output_type": "display_data"
    }
   ],
   "source": [
    "# Create an empty figure\n",
    "fig4 = go.Figure()\n",
    "\n",
    "mental = ['Anxiety disorders (%)', 'Drug use disorders (%)', 'Depression (%)', 'Alcohol use disorders (%)']\n",
    "colors = ['rgb(252, 115, 3)', 'rgb(14, 174, 237)', 'rgb(135, 18, 219)']\n",
    "\n",
    "trace2 = go.Bar(\n",
    "    x=df_mean[\"Regional Indicator\"],\n",
    "    y=df_mean[\"Life Ladder\"],\n",
    "    name=\"Happiness\",\n",
    "    marker=dict(\n",
    "        color='rgb(14, 174, 237)'\n",
    "    )\n",
    ")\n",
    "\n",
    "trace3 = go.Bar(\n",
    "    x=df_mean[\"Regional Indicator\"],\n",
    "    y=df_mean[\"Log GDP Per Capita\"],\n",
    "    name=\"GDP\",\n",
    "    marker=dict(\n",
    "        color='rgb(135, 18, 219)'\n",
    "    )\n",
    ")\n",
    "\n",
    "\n",
    "for var in mental:\n",
    "    trace1 = go.Bar(\n",
    "        x=df_mean[\"Regional Indicator\"],\n",
    "        y=df_mean[var],\n",
    "        name=var,\n",
    "        marker=dict(\n",
    "            color='rgb(252, 115, 3)'\n",
    "        )\n",
    "    )\n",
    "\n",
    "    fig4.add_trace(trace1)\n",
    "    fig4.add_trace(trace2)\n",
    "    fig4.add_trace(trace3)\n",
    "\n",
    "# Only display the first bar plot initially\n",
    "for i in range(3, len(fig4.data)):\n",
    "    fig4.data[i].visible = False\n",
    "\n",
    "# Create a dropdown menu\n",
    "dropdown = [{\"label\": var, \"method\": \"update\",\n",
    "             \"args\": [{\"visible\": [j == 3*i or j == 3*i+1 or j == 3*i+2 for j in range(len(mental) * 3)]},\n",
    "                      {\"title\": f\"{var}, Happiness and GDP per region\"}]}\n",
    "            for i, var in enumerate(mental)]\n",
    "\n",
    "# Customize the plot layout\n",
    "fig4.update_layout(\n",
    "    updatemenus=[\n",
    "        go.layout.Updatemenu(\n",
    "            buttons=dropdown,\n",
    "            direction=\"down\",\n",
    "            showactive=True\n",
    "        ),\n",
    "    ],\n",
    "    title=\"Different Mental Disorders by Region\",\n",
    "    xaxis_title=\"Regional Indicator\",\n",
    "    yaxis_title=\"Strength\",\n",
    ")\n",
    "\n",
    "# Show the plot\n",
    "fig4.show()"
   ]
  },
  {
   "cell_type": "code",
   "execution_count": 27,
   "id": "2aaab284",
   "metadata": {
    "editable": true,
    "slideshow": {
     "slide_type": ""
    },
    "tags": [
     "hide-cell"
    ]
   },
   "outputs": [],
   "source": [
    "## Code dump:\n",
    "\n",
    "# # displays the relations between three mental health measurements as a 3d plot\n",
    "\n",
    "# scatter = go.Figure(px.scatter_3d(\n",
    "#                        df,\n",
    "#                        x= 'Life Ladder',\n",
    "#                        y='Log GDP Per Capita',\n",
    "#                        z='Anxiety disorders (%)',\n",
    "#                        color='Country Name',\n",
    "#                        opacity= 0.7,\n",
    "                       \n",
    "#     )\n",
    "# )\n",
    "\n",
    "# scatter.update_layout(\n",
    "#     title='Relationship Anxiety, GDP and depression per country',\n",
    "# )\n",
    "\n",
    "# go_scatter= go.Figure(scatter)\n",
    "\n",
    "# go_scatter.show()\n",
    "\n",
    "## barplot perspectief 2 :\n",
    "\n",
    "# bar= px.bar(df_mean, x='Regional Indicator', y='Depression (%)', color='Regional Indicator')\n",
    "\n",
    "# bar.update_layout(\n",
    "#     title='Depression (%) per Region'\n",
    "# )\n",
    "\n",
    "# bar.show()\n",
    "\n",
    "# # Create a layout object that contains the specifications for the X and Y axes.\n",
    "# layout = go.Layout(\n",
    "#     title = \"Depression (%), Happiness and GDP per region\",\n",
    "#     xaxis=go.layout.XAxis(\n",
    "#         type='category'\n",
    "#     ),\n",
    "#     xaxis_title=\"Regional Indicator\",\n",
    "#     yaxis_title=\"Strength\",\n",
    "# )\n",
    "\n",
    "    \n",
    "# trace1 = go.Bar (\n",
    "#     x = df_mean[\"Regional Indicator\"],\n",
    "#     y = df_mean[\"Depression (%)\"],\n",
    "#     name = \"Depression (%)\",\n",
    "#     marker = dict(\n",
    "#         color = 'rgb(252, 115, 3)'\n",
    "#     )\n",
    "# )\n",
    "\n",
    "# trace2 = go.Bar (\n",
    "#     x = df_mean[\"Regional Indicator\"],\n",
    "#     y = df_mean[\"Life Ladder\"],\n",
    "#     name = \"Happiness\",\n",
    "#     marker = dict(\n",
    "#         color = 'rgb(14, 174, 237)'\n",
    "#     )\n",
    "# )\n",
    "\n",
    "# trace3 = go.Bar (\n",
    "#     x = df_mean[\"Regional Indicator\"],\n",
    "#     y = df_mean[\"Log GDP Per Capita\"],\n",
    "#     name = \"GDP\",\n",
    "#     marker = dict(\n",
    "#         color = 'rgb(135, 18, 219)'\n",
    "#     )\n",
    "# )\n",
    "\n",
    "# # Create a list of the traces.\n",
    "# data = [trace1, trace2, trace3]\n",
    "\n",
    "# # Create a figure object with the data and layout objects.\n",
    "# fig = go.Figure(data=data, layout=layout)\n",
    "\n",
    "# # Show the figure.\n",
    "# fig.show()"
   ]
  }
 ],
 "metadata": {
  "kernelspec": {
   "display_name": "Python 3 (ipykernel)",
   "language": "python",
   "name": "python3"
  },
  "language_info": {
   "codemirror_mode": {
    "name": "ipython",
    "version": 3
   },
   "file_extension": ".py",
   "mimetype": "text/x-python",
   "name": "python",
   "nbconvert_exporter": "python",
   "pygments_lexer": "ipython3",
   "version": "3.11.3"
  }
 },
 "nbformat": 4,
 "nbformat_minor": 5
}
