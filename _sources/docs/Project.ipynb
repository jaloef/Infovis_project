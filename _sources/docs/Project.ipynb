{
 "cells": [
  {
   "cell_type": "markdown",
   "id": "d550e419-fb1d-4195-8536-e867cdc9e111",
   "metadata": {},
   "source": [
    "Final deliverable - Informatievisualisatie – Julia Bakker (14599740), John-Anthony (14673207), Marijn Versluis (13263668) & Joah Goedhart (14307170) – Bachelor Informatiekunde – Jaar 1 - Groep G2"
   ]
  },
  {
   "cell_type": "markdown",
   "id": "1f6e942c-c0ff-4047-aa09-4d115be3b74f",
   "metadata": {},
   "source": [
    "# Beyond Borders: The Interplay of Mental Health and Socio-Economic Factors Worldwide"
   ]
  },
  {
   "attachments": {},
   "cell_type": "markdown",
   "id": "3859ed1b-9fe6-4c48-abe0-2437bb426085",
   "metadata": {},
   "source": [
    "![sad.jpeg](sad.jpeg)"
   ]
  },
  {
   "cell_type": "markdown",
   "id": "f39958f6-867f-43ab-a5da-9f1e378e0f66",
   "metadata": {},
   "source": [
    "## 1 Introduction\n",
    "\n",
    "In this analysis, we will be highlighting the happiness levels and mental health disorders around the world. We will use two datasets to explore the relationship between happiness and mental health from different angles. The first dataset consists of the happiness scores of each country from 2005 to 2022, consisting of various metrics such as GDP, social support, healthy life expectancy and more. The dataset allows us to do an extensive analysis of multiple factors that could influence the happiness of people, considering the potential impact of economic and health related factors.\n",
    "\n",
    "The second dataset focuses on the global rating regarding the prevalence of mental health disorders, for each country from 1960 to 2017. It provides insight into the prevalence of disorders such as schizophrenia, bipolar disorder, eating disorders, anxiety disorders, depression, and substance use disorders. This dataset allows us to do an extensive analysis of multiple factors that could influence the happiness and healthy life expectancy of people."
   ]
  },
  {
   "cell_type": "markdown",
   "id": "5a3d0002-376a-49f3-8a9c-6ae8709629a9",
   "metadata": {},
   "source": [
    "### 1.1 The analysis of the following perspectives:\r\n",
    "> **Wealth and mental health are closely related:** This perspective focuses on how socio-economic factors such as  GDP per capita and happiness can influence mental health disorders.And wWhether countries with higher scoresin this area  tend to have lower rates of mental health disorders and vice versa will be explored. It is surmised that there is a correlation`.\n",
    "\n",
    "> **There is no significant correlation between wealth and mental health:** From this perspective, we aim to investigate the correlation between GDP per capita, happiness and the prevalence of mental health disorders. The idea is to see if higher happiness scores correlate with lower mental health issues and if this connection holds true across different regions and cultures. It is assumed that there is no significant correlation: some will point towards a relation; others will refute there is one."
   ]
  },
  {
   "cell_type": "markdown",
   "id": "ca7b4697-c4c1-4e56-871e-cf0a6263a335",
   "metadata": {},
   "source": [
    "### 1.2 Argumentation perspectives\n",
    "\n",
    "*<u>Perspective 1: Wealth and mental health are closely related:</u>*\n",
    "\n",
    "* **Argument 1:** Generally speaking, countries with higher GDP tend to have lower rates of mental health disorders. This argument aims to explore the association between economic prosperity and mental well-being. The visualization of this association can include a scatter plot where GDP is plotted on the x-axis, the prevalence of depression on the y-axis, and each data point represents a country.\n",
    "\n",
    "* **Argument 2:** Western countries are more developed and therefore happier; people outside those countries are more depressed. This argument highlights the potential role of development in the state of mental well-being. The visualization of this role can show a world map with gradients that show the severity of — for example — depression to display the most depressing regions in the world.\n",
    "\n",
    "*<u>Perspective 2: There is no significcorrelation between wealth and mental health</u>*\n",
    "\n",
    "* **Argument 1:** Countries with higher happiness scores tend to have lower rates of mental health disorders like depression and anxiety. This argument explores the relationship between subjective well-being and mental health. The visualization of this relationship could include a 3d plot of the variables that shows whether they cluster or not.\n",
    "\n",
    "* **Argument 2:** Family plays a crucial role in the correlation between happiness and mental health. This argument highlights the impact of Family on mental well-being. The visualization of this correlation could show a scatter plot comparing happiness scores, prevalence rates of mental health disorders, and levels of Family meaning across countries. \n",
    "\n",
    "By examining the relationship between happiness, socio-economic factors, and mental health disorders, we aim to shed light on the complex dynamics that influence individuals' well-being.  \n"
   ]
  },
  {
   "cell_type": "markdown",
   "id": "61afdb08-5531-4c01-998a-68414a921220",
   "metadata": {},
   "source": [
    "## 2 Dataset and preprocessing\n",
    "\n",
    "<u>*World Happiness Report, 2005–Present*</u>\n",
    "\n",
    "The World Happiness Report dataset is used in this analysis to provide information of each country from 2005 until 2022. The dataset includes various metrics such as GDP, social support, healthy life expectancy, and more. The dataset can be downloaded from https://www.kaggle.com/datasets/usamabuttar/world-happiness-report-2005-present.\n",
    "\n",
    "1. For the processing of the dataset multiple steps were taken:\n",
    "2. The dataset was obtained in CSV format and loaded into Jupyter Notebook for analysis.\n",
    "3. The original dataset is copied to apply modifications and remove unnecessary columns without changing the original dataset. \n",
    "4. From the copied dataset the year 2017 is selected and the missing values are removed. \n",
    "5. The dataset is merged with the Global Trends in Mental Health Disorder on the column “Country Name”.\n",
    "6. The merged dataset is used to create multiple visualizations that supports the established perspectives \n",
    "\n",
    "*<u>Global Trends in Mental Health Disorder</u>*\n",
    "\n",
    "The Global Trends in Mental Health Disorder dataset is used in this analysis to provide information of each country from 1960 until 2017. The dataset provides global data on the prevalence of various mental health disorders, including schizophrenia, bipolar disorder, eating disorders, anxiety disorders, depression, and substance use disorders. The dataset can be downloaded from https://www.kaggle.com/datasets/thedevastator/uncover-global-trends-in-mental-health-disorder.\n",
    "\n",
    "For the processing of the dataset several steps were taken:\n",
    "1. The dataset was obtained in CSV format and loaded into Jupyter Notebook for analysis.\n",
    "2. The original dataset is copied to apply modifications and remove unnecessary columns without changing the original dataset. \n",
    "3. From the copied dataset the year 2017 is selected and the missing values are removed.\n",
    "4. The column “Entity” is renamed to “Country Name” to merge the dataset with the World Happiness dataset. \n",
    "5. The merged dataset is used to create multiple visualizations that supports the established perspectives\n"
   ]
  },
  {
   "cell_type": "code",
   "execution_count": 70,
   "id": "f8cb65e7-2369-4d25-9131-d6cdfe726157",
   "metadata": {},
   "outputs": [
    {
     "name": "stderr",
     "output_type": "stream",
     "text": [
      "/var/folders/26/857cdtq51v5b981sk9klpqzm0000gn/T/ipykernel_1553/3689259187.py:12: DtypeWarning:\n",
      "\n",
      "Columns (5,6) have mixed types. Specify dtype option on import or set low_memory=False.\n",
      "\n"
     ]
    },
    {
     "data": {
      "text/html": [
       "<div>\n",
       "<style scoped>\n",
       "    .dataframe tbody tr th:only-of-type {\n",
       "        vertical-align: middle;\n",
       "    }\n",
       "\n",
       "    .dataframe tbody tr th {\n",
       "        vertical-align: top;\n",
       "    }\n",
       "\n",
       "    .dataframe thead th {\n",
       "        text-align: right;\n",
       "    }\n",
       "</style>\n",
       "<table border=\"1\" class=\"dataframe\">\n",
       "  <thead>\n",
       "    <tr style=\"text-align: right;\">\n",
       "      <th></th>\n",
       "      <th>Year</th>\n",
       "      <th>Life Ladder</th>\n",
       "      <th>Log GDP Per Capita</th>\n",
       "      <th>Social Support</th>\n",
       "      <th>Healthy Life Expectancy At Birth</th>\n",
       "      <th>Freedom To Make Life Choices</th>\n",
       "      <th>Generosity</th>\n",
       "      <th>Perceptions Of Corruption</th>\n",
       "      <th>Positive Affect</th>\n",
       "      <th>Negative Affect</th>\n",
       "      <th>Confidence In National Government</th>\n",
       "      <th>Anxiety disorders (%)</th>\n",
       "      <th>Drug use disorders (%)</th>\n",
       "      <th>Depression (%)</th>\n",
       "      <th>Alcohol use disorders (%)</th>\n",
       "    </tr>\n",
       "  </thead>\n",
       "  <tbody>\n",
       "    <tr>\n",
       "      <th>5</th>\n",
       "      <td>2010</td>\n",
       "      <td>5.560864</td>\n",
       "      <td>9.350572</td>\n",
       "      <td>0.837288</td>\n",
       "      <td>62.552128</td>\n",
       "      <td>0.724073</td>\n",
       "      <td>0.012497</td>\n",
       "      <td>0.761702</td>\n",
       "      <td>0.665107</td>\n",
       "      <td>0.231896</td>\n",
       "      <td>0.488597</td>\n",
       "      <td>3.994957</td>\n",
       "      <td>0.828502</td>\n",
       "      <td>3.460453</td>\n",
       "      <td>1.720266</td>\n",
       "    </tr>\n",
       "    <tr>\n",
       "      <th>6</th>\n",
       "      <td>2011</td>\n",
       "      <td>5.451530</td>\n",
       "      <td>9.250415</td>\n",
       "      <td>0.807743</td>\n",
       "      <td>61.975926</td>\n",
       "      <td>0.748110</td>\n",
       "      <td>-0.006469</td>\n",
       "      <td>0.760274</td>\n",
       "      <td>0.650344</td>\n",
       "      <td>0.244354</td>\n",
       "      <td>0.493954</td>\n",
       "      <td>3.979309</td>\n",
       "      <td>0.828403</td>\n",
       "      <td>3.482798</td>\n",
       "      <td>1.692661</td>\n",
       "    </tr>\n",
       "    <tr>\n",
       "      <th>7</th>\n",
       "      <td>2012</td>\n",
       "      <td>5.486983</td>\n",
       "      <td>9.370522</td>\n",
       "      <td>0.813222</td>\n",
       "      <td>62.959238</td>\n",
       "      <td>0.712109</td>\n",
       "      <td>-0.005051</td>\n",
       "      <td>0.773718</td>\n",
       "      <td>0.653406</td>\n",
       "      <td>0.256916</td>\n",
       "      <td>0.453265</td>\n",
       "      <td>3.999363</td>\n",
       "      <td>0.821389</td>\n",
       "      <td>3.443430</td>\n",
       "      <td>1.733549</td>\n",
       "    </tr>\n",
       "    <tr>\n",
       "      <th>8</th>\n",
       "      <td>2013</td>\n",
       "      <td>5.428115</td>\n",
       "      <td>9.384268</td>\n",
       "      <td>0.807617</td>\n",
       "      <td>63.302727</td>\n",
       "      <td>0.732529</td>\n",
       "      <td>-0.010205</td>\n",
       "      <td>0.768873</td>\n",
       "      <td>0.660743</td>\n",
       "      <td>0.265242</td>\n",
       "      <td>0.448652</td>\n",
       "      <td>3.976533</td>\n",
       "      <td>0.826093</td>\n",
       "      <td>3.444910</td>\n",
       "      <td>1.753412</td>\n",
       "    </tr>\n",
       "    <tr>\n",
       "      <th>9</th>\n",
       "      <td>2014</td>\n",
       "      <td>5.447636</td>\n",
       "      <td>9.413191</td>\n",
       "      <td>0.812937</td>\n",
       "      <td>63.500348</td>\n",
       "      <td>0.743002</td>\n",
       "      <td>0.025594</td>\n",
       "      <td>0.744088</td>\n",
       "      <td>0.663836</td>\n",
       "      <td>0.271646</td>\n",
       "      <td>0.469956</td>\n",
       "      <td>4.025175</td>\n",
       "      <td>0.842039</td>\n",
       "      <td>3.421128</td>\n",
       "      <td>1.717615</td>\n",
       "    </tr>\n",
       "    <tr>\n",
       "      <th>10</th>\n",
       "      <td>2015</td>\n",
       "      <td>5.430145</td>\n",
       "      <td>9.387671</td>\n",
       "      <td>0.803893</td>\n",
       "      <td>63.678632</td>\n",
       "      <td>0.750786</td>\n",
       "      <td>0.020382</td>\n",
       "      <td>0.739079</td>\n",
       "      <td>0.665474</td>\n",
       "      <td>0.274322</td>\n",
       "      <td>0.476988</td>\n",
       "      <td>4.018937</td>\n",
       "      <td>0.831862</td>\n",
       "      <td>3.438602</td>\n",
       "      <td>1.707572</td>\n",
       "    </tr>\n",
       "    <tr>\n",
       "      <th>11</th>\n",
       "      <td>2016</td>\n",
       "      <td>5.430657</td>\n",
       "      <td>9.407031</td>\n",
       "      <td>0.818334</td>\n",
       "      <td>63.800653</td>\n",
       "      <td>0.762541</td>\n",
       "      <td>0.005290</td>\n",
       "      <td>0.744516</td>\n",
       "      <td>0.663490</td>\n",
       "      <td>0.286647</td>\n",
       "      <td>0.473800</td>\n",
       "      <td>4.016532</td>\n",
       "      <td>0.834015</td>\n",
       "      <td>3.457056</td>\n",
       "      <td>1.726332</td>\n",
       "    </tr>\n",
       "    <tr>\n",
       "      <th>12</th>\n",
       "      <td>2017</td>\n",
       "      <td>5.514671</td>\n",
       "      <td>9.371536</td>\n",
       "      <td>0.812886</td>\n",
       "      <td>63.769167</td>\n",
       "      <td>0.788361</td>\n",
       "      <td>-0.001075</td>\n",
       "      <td>0.722245</td>\n",
       "      <td>0.661297</td>\n",
       "      <td>0.283762</td>\n",
       "      <td>0.510320</td>\n",
       "      <td>3.962470</td>\n",
       "      <td>0.810622</td>\n",
       "      <td>3.438968</td>\n",
       "      <td>1.715790</td>\n",
       "    </tr>\n",
       "  </tbody>\n",
       "</table>\n",
       "</div>"
      ],
      "text/plain": [
       "    Year  Life Ladder  Log GDP Per Capita  Social Support  \\\n",
       "5   2010     5.560864            9.350572        0.837288   \n",
       "6   2011     5.451530            9.250415        0.807743   \n",
       "7   2012     5.486983            9.370522        0.813222   \n",
       "8   2013     5.428115            9.384268        0.807617   \n",
       "9   2014     5.447636            9.413191        0.812937   \n",
       "10  2015     5.430145            9.387671        0.803893   \n",
       "11  2016     5.430657            9.407031        0.818334   \n",
       "12  2017     5.514671            9.371536        0.812886   \n",
       "\n",
       "    Healthy Life Expectancy At Birth  Freedom To Make Life Choices  \\\n",
       "5                          62.552128                      0.724073   \n",
       "6                          61.975926                      0.748110   \n",
       "7                          62.959238                      0.712109   \n",
       "8                          63.302727                      0.732529   \n",
       "9                          63.500348                      0.743002   \n",
       "10                         63.678632                      0.750786   \n",
       "11                         63.800653                      0.762541   \n",
       "12                         63.769167                      0.788361   \n",
       "\n",
       "    Generosity  Perceptions Of Corruption  Positive Affect  Negative Affect  \\\n",
       "5     0.012497                   0.761702         0.665107         0.231896   \n",
       "6    -0.006469                   0.760274         0.650344         0.244354   \n",
       "7    -0.005051                   0.773718         0.653406         0.256916   \n",
       "8    -0.010205                   0.768873         0.660743         0.265242   \n",
       "9     0.025594                   0.744088         0.663836         0.271646   \n",
       "10    0.020382                   0.739079         0.665474         0.274322   \n",
       "11    0.005290                   0.744516         0.663490         0.286647   \n",
       "12   -0.001075                   0.722245         0.661297         0.283762   \n",
       "\n",
       "    Confidence In National Government  Anxiety disorders (%)  \\\n",
       "5                            0.488597               3.994957   \n",
       "6                            0.493954               3.979309   \n",
       "7                            0.453265               3.999363   \n",
       "8                            0.448652               3.976533   \n",
       "9                            0.469956               4.025175   \n",
       "10                           0.476988               4.018937   \n",
       "11                           0.473800               4.016532   \n",
       "12                           0.510320               3.962470   \n",
       "\n",
       "    Drug use disorders (%)  Depression (%)  Alcohol use disorders (%)  \n",
       "5                 0.828502        3.460453                   1.720266  \n",
       "6                 0.828403        3.482798                   1.692661  \n",
       "7                 0.821389        3.443430                   1.733549  \n",
       "8                 0.826093        3.444910                   1.753412  \n",
       "9                 0.842039        3.421128                   1.717615  \n",
       "10                0.831862        3.438602                   1.707572  \n",
       "11                0.834015        3.457056                   1.726332  \n",
       "12                0.810622        3.438968                   1.715790  "
      ]
     },
     "metadata": {},
     "output_type": "display_data"
    },
    {
     "data": {
      "application/vnd.plotly.v1+json": {
       "config": {
        "plotlyServerURL": "https://plot.ly"
       },
       "data": [
        {
         "mode": "lines",
         "name": "Life Ladder",
         "type": "scatter",
         "x": [
          2010,
          2011,
          2012,
          2013,
          2014,
          2015,
          2016,
          2017
         ],
         "y": [
          5.560863811925532,
          5.451530021657407,
          5.486982702085715,
          5.428115372245455,
          5.447636345165217,
          5.430145373743589,
          5.430656530504348,
          5.514670523008333
         ]
        },
        {
         "mode": "lines",
         "name": "Log GDP Per Capita",
         "type": "scatter",
         "x": [
          2010,
          2011,
          2012,
          2013,
          2014,
          2015,
          2016,
          2017
         ],
         "y": [
          9.350572058765957,
          9.250415108777778,
          9.370522035533334,
          9.38426765959091,
          9.413191388930434,
          9.387671104119658,
          9.407031249913045,
          9.371536457633333
         ]
        },
        {
         "mode": "lines",
         "name": "Anxiety disorders (%)",
         "type": "scatter",
         "x": [
          2010,
          2011,
          2012,
          2013,
          2014,
          2015,
          2016,
          2017
         ],
         "y": [
          3.9949569255319153,
          3.9793085462962967,
          3.9993627333333333,
          3.9765326636363634,
          4.025175243478261,
          4.018937341880342,
          4.016531652173913,
          3.9624704583333337
         ]
        },
        {
         "mode": "lines",
         "name": "Drug use disorders (%)",
         "type": "scatter",
         "x": [
          2010,
          2011,
          2012,
          2013,
          2014,
          2015,
          2016,
          2017
         ],
         "y": [
          0.8285018617021277,
          0.8284025092592593,
          0.8213885238095239,
          0.8260931272727273,
          0.8420390869565217,
          0.8318616581196582,
          0.8340151652173913,
          0.810622025
         ]
        },
        {
         "mode": "lines",
         "name": "Depression (%)",
         "type": "scatter",
         "x": [
          2010,
          2011,
          2012,
          2013,
          2014,
          2015,
          2016,
          2017
         ],
         "y": [
          3.460453308510638,
          3.482798314814815,
          3.4434300095238095,
          3.4449099454545453,
          3.4211282521739133,
          3.4386017264957265,
          3.4570556,
          3.4389679833333333
         ]
        },
        {
         "mode": "lines",
         "name": "Alcohol use disorders (%)",
         "type": "scatter",
         "x": [
          2010,
          2011,
          2012,
          2013,
          2014,
          2015,
          2016,
          2017
         ],
         "y": [
          1.7202656702127659,
          1.6926608148148148,
          1.733549123809524,
          1.7534116545454546,
          1.7176145391304347,
          1.7075722136752136,
          1.7263321652173913,
          1.7157900916666666
         ]
        }
       ],
       "layout": {
        "autosize": true,
        "template": {
         "data": {
          "bar": [
           {
            "error_x": {
             "color": "#2a3f5f"
            },
            "error_y": {
             "color": "#2a3f5f"
            },
            "marker": {
             "line": {
              "color": "#E5ECF6",
              "width": 0.5
             },
             "pattern": {
              "fillmode": "overlay",
              "size": 10,
              "solidity": 0.2
             }
            },
            "type": "bar"
           }
          ],
          "barpolar": [
           {
            "marker": {
             "line": {
              "color": "#E5ECF6",
              "width": 0.5
             },
             "pattern": {
              "fillmode": "overlay",
              "size": 10,
              "solidity": 0.2
             }
            },
            "type": "barpolar"
           }
          ],
          "carpet": [
           {
            "aaxis": {
             "endlinecolor": "#2a3f5f",
             "gridcolor": "white",
             "linecolor": "white",
             "minorgridcolor": "white",
             "startlinecolor": "#2a3f5f"
            },
            "baxis": {
             "endlinecolor": "#2a3f5f",
             "gridcolor": "white",
             "linecolor": "white",
             "minorgridcolor": "white",
             "startlinecolor": "#2a3f5f"
            },
            "type": "carpet"
           }
          ],
          "choropleth": [
           {
            "colorbar": {
             "outlinewidth": 0,
             "ticks": ""
            },
            "type": "choropleth"
           }
          ],
          "contour": [
           {
            "colorbar": {
             "outlinewidth": 0,
             "ticks": ""
            },
            "colorscale": [
             [
              0,
              "#0d0887"
             ],
             [
              0.1111111111111111,
              "#46039f"
             ],
             [
              0.2222222222222222,
              "#7201a8"
             ],
             [
              0.3333333333333333,
              "#9c179e"
             ],
             [
              0.4444444444444444,
              "#bd3786"
             ],
             [
              0.5555555555555556,
              "#d8576b"
             ],
             [
              0.6666666666666666,
              "#ed7953"
             ],
             [
              0.7777777777777778,
              "#fb9f3a"
             ],
             [
              0.8888888888888888,
              "#fdca26"
             ],
             [
              1,
              "#f0f921"
             ]
            ],
            "type": "contour"
           }
          ],
          "contourcarpet": [
           {
            "colorbar": {
             "outlinewidth": 0,
             "ticks": ""
            },
            "type": "contourcarpet"
           }
          ],
          "heatmap": [
           {
            "colorbar": {
             "outlinewidth": 0,
             "ticks": ""
            },
            "colorscale": [
             [
              0,
              "#0d0887"
             ],
             [
              0.1111111111111111,
              "#46039f"
             ],
             [
              0.2222222222222222,
              "#7201a8"
             ],
             [
              0.3333333333333333,
              "#9c179e"
             ],
             [
              0.4444444444444444,
              "#bd3786"
             ],
             [
              0.5555555555555556,
              "#d8576b"
             ],
             [
              0.6666666666666666,
              "#ed7953"
             ],
             [
              0.7777777777777778,
              "#fb9f3a"
             ],
             [
              0.8888888888888888,
              "#fdca26"
             ],
             [
              1,
              "#f0f921"
             ]
            ],
            "type": "heatmap"
           }
          ],
          "heatmapgl": [
           {
            "colorbar": {
             "outlinewidth": 0,
             "ticks": ""
            },
            "colorscale": [
             [
              0,
              "#0d0887"
             ],
             [
              0.1111111111111111,
              "#46039f"
             ],
             [
              0.2222222222222222,
              "#7201a8"
             ],
             [
              0.3333333333333333,
              "#9c179e"
             ],
             [
              0.4444444444444444,
              "#bd3786"
             ],
             [
              0.5555555555555556,
              "#d8576b"
             ],
             [
              0.6666666666666666,
              "#ed7953"
             ],
             [
              0.7777777777777778,
              "#fb9f3a"
             ],
             [
              0.8888888888888888,
              "#fdca26"
             ],
             [
              1,
              "#f0f921"
             ]
            ],
            "type": "heatmapgl"
           }
          ],
          "histogram": [
           {
            "marker": {
             "pattern": {
              "fillmode": "overlay",
              "size": 10,
              "solidity": 0.2
             }
            },
            "type": "histogram"
           }
          ],
          "histogram2d": [
           {
            "colorbar": {
             "outlinewidth": 0,
             "ticks": ""
            },
            "colorscale": [
             [
              0,
              "#0d0887"
             ],
             [
              0.1111111111111111,
              "#46039f"
             ],
             [
              0.2222222222222222,
              "#7201a8"
             ],
             [
              0.3333333333333333,
              "#9c179e"
             ],
             [
              0.4444444444444444,
              "#bd3786"
             ],
             [
              0.5555555555555556,
              "#d8576b"
             ],
             [
              0.6666666666666666,
              "#ed7953"
             ],
             [
              0.7777777777777778,
              "#fb9f3a"
             ],
             [
              0.8888888888888888,
              "#fdca26"
             ],
             [
              1,
              "#f0f921"
             ]
            ],
            "type": "histogram2d"
           }
          ],
          "histogram2dcontour": [
           {
            "colorbar": {
             "outlinewidth": 0,
             "ticks": ""
            },
            "colorscale": [
             [
              0,
              "#0d0887"
             ],
             [
              0.1111111111111111,
              "#46039f"
             ],
             [
              0.2222222222222222,
              "#7201a8"
             ],
             [
              0.3333333333333333,
              "#9c179e"
             ],
             [
              0.4444444444444444,
              "#bd3786"
             ],
             [
              0.5555555555555556,
              "#d8576b"
             ],
             [
              0.6666666666666666,
              "#ed7953"
             ],
             [
              0.7777777777777778,
              "#fb9f3a"
             ],
             [
              0.8888888888888888,
              "#fdca26"
             ],
             [
              1,
              "#f0f921"
             ]
            ],
            "type": "histogram2dcontour"
           }
          ],
          "mesh3d": [
           {
            "colorbar": {
             "outlinewidth": 0,
             "ticks": ""
            },
            "type": "mesh3d"
           }
          ],
          "parcoords": [
           {
            "line": {
             "colorbar": {
              "outlinewidth": 0,
              "ticks": ""
             }
            },
            "type": "parcoords"
           }
          ],
          "pie": [
           {
            "automargin": true,
            "type": "pie"
           }
          ],
          "scatter": [
           {
            "fillpattern": {
             "fillmode": "overlay",
             "size": 10,
             "solidity": 0.2
            },
            "type": "scatter"
           }
          ],
          "scatter3d": [
           {
            "line": {
             "colorbar": {
              "outlinewidth": 0,
              "ticks": ""
             }
            },
            "marker": {
             "colorbar": {
              "outlinewidth": 0,
              "ticks": ""
             }
            },
            "type": "scatter3d"
           }
          ],
          "scattercarpet": [
           {
            "marker": {
             "colorbar": {
              "outlinewidth": 0,
              "ticks": ""
             }
            },
            "type": "scattercarpet"
           }
          ],
          "scattergeo": [
           {
            "marker": {
             "colorbar": {
              "outlinewidth": 0,
              "ticks": ""
             }
            },
            "type": "scattergeo"
           }
          ],
          "scattergl": [
           {
            "marker": {
             "colorbar": {
              "outlinewidth": 0,
              "ticks": ""
             }
            },
            "type": "scattergl"
           }
          ],
          "scattermapbox": [
           {
            "marker": {
             "colorbar": {
              "outlinewidth": 0,
              "ticks": ""
             }
            },
            "type": "scattermapbox"
           }
          ],
          "scatterpolar": [
           {
            "marker": {
             "colorbar": {
              "outlinewidth": 0,
              "ticks": ""
             }
            },
            "type": "scatterpolar"
           }
          ],
          "scatterpolargl": [
           {
            "marker": {
             "colorbar": {
              "outlinewidth": 0,
              "ticks": ""
             }
            },
            "type": "scatterpolargl"
           }
          ],
          "scatterternary": [
           {
            "marker": {
             "colorbar": {
              "outlinewidth": 0,
              "ticks": ""
             }
            },
            "type": "scatterternary"
           }
          ],
          "surface": [
           {
            "colorbar": {
             "outlinewidth": 0,
             "ticks": ""
            },
            "colorscale": [
             [
              0,
              "#0d0887"
             ],
             [
              0.1111111111111111,
              "#46039f"
             ],
             [
              0.2222222222222222,
              "#7201a8"
             ],
             [
              0.3333333333333333,
              "#9c179e"
             ],
             [
              0.4444444444444444,
              "#bd3786"
             ],
             [
              0.5555555555555556,
              "#d8576b"
             ],
             [
              0.6666666666666666,
              "#ed7953"
             ],
             [
              0.7777777777777778,
              "#fb9f3a"
             ],
             [
              0.8888888888888888,
              "#fdca26"
             ],
             [
              1,
              "#f0f921"
             ]
            ],
            "type": "surface"
           }
          ],
          "table": [
           {
            "cells": {
             "fill": {
              "color": "#EBF0F8"
             },
             "line": {
              "color": "white"
             }
            },
            "header": {
             "fill": {
              "color": "#C8D4E3"
             },
             "line": {
              "color": "white"
             }
            },
            "type": "table"
           }
          ]
         },
         "layout": {
          "annotationdefaults": {
           "arrowcolor": "#2a3f5f",
           "arrowhead": 0,
           "arrowwidth": 1
          },
          "autotypenumbers": "strict",
          "coloraxis": {
           "colorbar": {
            "outlinewidth": 0,
            "ticks": ""
           }
          },
          "colorscale": {
           "diverging": [
            [
             0,
             "#8e0152"
            ],
            [
             0.1,
             "#c51b7d"
            ],
            [
             0.2,
             "#de77ae"
            ],
            [
             0.3,
             "#f1b6da"
            ],
            [
             0.4,
             "#fde0ef"
            ],
            [
             0.5,
             "#f7f7f7"
            ],
            [
             0.6,
             "#e6f5d0"
            ],
            [
             0.7,
             "#b8e186"
            ],
            [
             0.8,
             "#7fbc41"
            ],
            [
             0.9,
             "#4d9221"
            ],
            [
             1,
             "#276419"
            ]
           ],
           "sequential": [
            [
             0,
             "#0d0887"
            ],
            [
             0.1111111111111111,
             "#46039f"
            ],
            [
             0.2222222222222222,
             "#7201a8"
            ],
            [
             0.3333333333333333,
             "#9c179e"
            ],
            [
             0.4444444444444444,
             "#bd3786"
            ],
            [
             0.5555555555555556,
             "#d8576b"
            ],
            [
             0.6666666666666666,
             "#ed7953"
            ],
            [
             0.7777777777777778,
             "#fb9f3a"
            ],
            [
             0.8888888888888888,
             "#fdca26"
            ],
            [
             1,
             "#f0f921"
            ]
           ],
           "sequentialminus": [
            [
             0,
             "#0d0887"
            ],
            [
             0.1111111111111111,
             "#46039f"
            ],
            [
             0.2222222222222222,
             "#7201a8"
            ],
            [
             0.3333333333333333,
             "#9c179e"
            ],
            [
             0.4444444444444444,
             "#bd3786"
            ],
            [
             0.5555555555555556,
             "#d8576b"
            ],
            [
             0.6666666666666666,
             "#ed7953"
            ],
            [
             0.7777777777777778,
             "#fb9f3a"
            ],
            [
             0.8888888888888888,
             "#fdca26"
            ],
            [
             1,
             "#f0f921"
            ]
           ]
          },
          "colorway": [
           "#636efa",
           "#EF553B",
           "#00cc96",
           "#ab63fa",
           "#FFA15A",
           "#19d3f3",
           "#FF6692",
           "#B6E880",
           "#FF97FF",
           "#FECB52"
          ],
          "font": {
           "color": "#2a3f5f"
          },
          "geo": {
           "bgcolor": "white",
           "lakecolor": "white",
           "landcolor": "#E5ECF6",
           "showlakes": true,
           "showland": true,
           "subunitcolor": "white"
          },
          "hoverlabel": {
           "align": "left"
          },
          "hovermode": "closest",
          "mapbox": {
           "style": "light"
          },
          "paper_bgcolor": "white",
          "plot_bgcolor": "#E5ECF6",
          "polar": {
           "angularaxis": {
            "gridcolor": "white",
            "linecolor": "white",
            "ticks": ""
           },
           "bgcolor": "#E5ECF6",
           "radialaxis": {
            "gridcolor": "white",
            "linecolor": "white",
            "ticks": ""
           }
          },
          "scene": {
           "xaxis": {
            "backgroundcolor": "#E5ECF6",
            "gridcolor": "white",
            "gridwidth": 2,
            "linecolor": "white",
            "showbackground": true,
            "ticks": "",
            "zerolinecolor": "white"
           },
           "yaxis": {
            "backgroundcolor": "#E5ECF6",
            "gridcolor": "white",
            "gridwidth": 2,
            "linecolor": "white",
            "showbackground": true,
            "ticks": "",
            "zerolinecolor": "white"
           },
           "zaxis": {
            "backgroundcolor": "#E5ECF6",
            "gridcolor": "white",
            "gridwidth": 2,
            "linecolor": "white",
            "showbackground": true,
            "ticks": "",
            "zerolinecolor": "white"
           }
          },
          "shapedefaults": {
           "line": {
            "color": "#2a3f5f"
           }
          },
          "ternary": {
           "aaxis": {
            "gridcolor": "white",
            "linecolor": "white",
            "ticks": ""
           },
           "baxis": {
            "gridcolor": "white",
            "linecolor": "white",
            "ticks": ""
           },
           "bgcolor": "#E5ECF6",
           "caxis": {
            "gridcolor": "white",
            "linecolor": "white",
            "ticks": ""
           }
          },
          "title": {
           "x": 0.05
          },
          "xaxis": {
           "automargin": true,
           "gridcolor": "white",
           "linecolor": "white",
           "ticks": "",
           "title": {
            "standoff": 15
           },
           "zerolinecolor": "white",
           "zerolinewidth": 2
          },
          "yaxis": {
           "automargin": true,
           "gridcolor": "white",
           "linecolor": "white",
           "ticks": "",
           "title": {
            "standoff": 15
           },
           "zerolinecolor": "white",
           "zerolinewidth": 2
          }
         }
        },
        "xaxis": {
         "autorange": true,
         "range": [
          2010,
          2017
         ],
         "type": "linear"
        },
        "yaxis": {
         "autorange": true,
         "range": [
          0.3327015047816426,
          9.89111190914879
         ],
         "type": "linear"
        }
       }
      },
      "text/html": [
       "<div>                            <div id=\"b9e5b747-cfe5-44ee-91e3-f1edded2a259\" class=\"plotly-graph-div\" style=\"height:525px; width:100%;\"></div>            <script type=\"text/javascript\">                require([\"plotly\"], function(Plotly) {                    window.PLOTLYENV=window.PLOTLYENV || {};                                    if (document.getElementById(\"b9e5b747-cfe5-44ee-91e3-f1edded2a259\")) {                    Plotly.newPlot(                        \"b9e5b747-cfe5-44ee-91e3-f1edded2a259\",                        [{\"mode\":\"lines\",\"name\":\"Life Ladder\",\"x\":[2010,2011,2012,2013,2014,2015,2016,2017],\"y\":[5.560863811925532,5.451530021657407,5.486982702085715,5.428115372245455,5.447636345165217,5.430145373743589,5.430656530504348,5.514670523008333],\"type\":\"scatter\"},{\"mode\":\"lines\",\"name\":\"Log GDP Per Capita\",\"x\":[2010,2011,2012,2013,2014,2015,2016,2017],\"y\":[9.350572058765957,9.250415108777778,9.370522035533334,9.38426765959091,9.413191388930434,9.387671104119658,9.407031249913045,9.371536457633333],\"type\":\"scatter\"},{\"mode\":\"lines\",\"name\":\"Anxiety disorders (%)\",\"x\":[2010,2011,2012,2013,2014,2015,2016,2017],\"y\":[3.9949569255319153,3.9793085462962967,3.9993627333333333,3.9765326636363634,4.025175243478261,4.018937341880342,4.016531652173913,3.9624704583333337],\"type\":\"scatter\"},{\"mode\":\"lines\",\"name\":\"Drug use disorders (%)\",\"x\":[2010,2011,2012,2013,2014,2015,2016,2017],\"y\":[0.8285018617021277,0.8284025092592593,0.8213885238095239,0.8260931272727273,0.8420390869565217,0.8318616581196582,0.8340151652173913,0.810622025],\"type\":\"scatter\"},{\"mode\":\"lines\",\"name\":\"Depression (%)\",\"x\":[2010,2011,2012,2013,2014,2015,2016,2017],\"y\":[3.460453308510638,3.482798314814815,3.4434300095238095,3.4449099454545453,3.4211282521739133,3.4386017264957265,3.4570556,3.4389679833333333],\"type\":\"scatter\"},{\"mode\":\"lines\",\"name\":\"Alcohol use disorders (%)\",\"x\":[2010,2011,2012,2013,2014,2015,2016,2017],\"y\":[1.7202656702127659,1.6926608148148148,1.733549123809524,1.7534116545454546,1.7176145391304347,1.7075722136752136,1.7263321652173913,1.7157900916666666],\"type\":\"scatter\"}],                        {\"template\":{\"data\":{\"histogram2dcontour\":[{\"type\":\"histogram2dcontour\",\"colorbar\":{\"outlinewidth\":0,\"ticks\":\"\"},\"colorscale\":[[0.0,\"#0d0887\"],[0.1111111111111111,\"#46039f\"],[0.2222222222222222,\"#7201a8\"],[0.3333333333333333,\"#9c179e\"],[0.4444444444444444,\"#bd3786\"],[0.5555555555555556,\"#d8576b\"],[0.6666666666666666,\"#ed7953\"],[0.7777777777777778,\"#fb9f3a\"],[0.8888888888888888,\"#fdca26\"],[1.0,\"#f0f921\"]]}],\"choropleth\":[{\"type\":\"choropleth\",\"colorbar\":{\"outlinewidth\":0,\"ticks\":\"\"}}],\"histogram2d\":[{\"type\":\"histogram2d\",\"colorbar\":{\"outlinewidth\":0,\"ticks\":\"\"},\"colorscale\":[[0.0,\"#0d0887\"],[0.1111111111111111,\"#46039f\"],[0.2222222222222222,\"#7201a8\"],[0.3333333333333333,\"#9c179e\"],[0.4444444444444444,\"#bd3786\"],[0.5555555555555556,\"#d8576b\"],[0.6666666666666666,\"#ed7953\"],[0.7777777777777778,\"#fb9f3a\"],[0.8888888888888888,\"#fdca26\"],[1.0,\"#f0f921\"]]}],\"heatmap\":[{\"type\":\"heatmap\",\"colorbar\":{\"outlinewidth\":0,\"ticks\":\"\"},\"colorscale\":[[0.0,\"#0d0887\"],[0.1111111111111111,\"#46039f\"],[0.2222222222222222,\"#7201a8\"],[0.3333333333333333,\"#9c179e\"],[0.4444444444444444,\"#bd3786\"],[0.5555555555555556,\"#d8576b\"],[0.6666666666666666,\"#ed7953\"],[0.7777777777777778,\"#fb9f3a\"],[0.8888888888888888,\"#fdca26\"],[1.0,\"#f0f921\"]]}],\"heatmapgl\":[{\"type\":\"heatmapgl\",\"colorbar\":{\"outlinewidth\":0,\"ticks\":\"\"},\"colorscale\":[[0.0,\"#0d0887\"],[0.1111111111111111,\"#46039f\"],[0.2222222222222222,\"#7201a8\"],[0.3333333333333333,\"#9c179e\"],[0.4444444444444444,\"#bd3786\"],[0.5555555555555556,\"#d8576b\"],[0.6666666666666666,\"#ed7953\"],[0.7777777777777778,\"#fb9f3a\"],[0.8888888888888888,\"#fdca26\"],[1.0,\"#f0f921\"]]}],\"contourcarpet\":[{\"type\":\"contourcarpet\",\"colorbar\":{\"outlinewidth\":0,\"ticks\":\"\"}}],\"contour\":[{\"type\":\"contour\",\"colorbar\":{\"outlinewidth\":0,\"ticks\":\"\"},\"colorscale\":[[0.0,\"#0d0887\"],[0.1111111111111111,\"#46039f\"],[0.2222222222222222,\"#7201a8\"],[0.3333333333333333,\"#9c179e\"],[0.4444444444444444,\"#bd3786\"],[0.5555555555555556,\"#d8576b\"],[0.6666666666666666,\"#ed7953\"],[0.7777777777777778,\"#fb9f3a\"],[0.8888888888888888,\"#fdca26\"],[1.0,\"#f0f921\"]]}],\"surface\":[{\"type\":\"surface\",\"colorbar\":{\"outlinewidth\":0,\"ticks\":\"\"},\"colorscale\":[[0.0,\"#0d0887\"],[0.1111111111111111,\"#46039f\"],[0.2222222222222222,\"#7201a8\"],[0.3333333333333333,\"#9c179e\"],[0.4444444444444444,\"#bd3786\"],[0.5555555555555556,\"#d8576b\"],[0.6666666666666666,\"#ed7953\"],[0.7777777777777778,\"#fb9f3a\"],[0.8888888888888888,\"#fdca26\"],[1.0,\"#f0f921\"]]}],\"mesh3d\":[{\"type\":\"mesh3d\",\"colorbar\":{\"outlinewidth\":0,\"ticks\":\"\"}}],\"scatter\":[{\"fillpattern\":{\"fillmode\":\"overlay\",\"size\":10,\"solidity\":0.2},\"type\":\"scatter\"}],\"parcoords\":[{\"type\":\"parcoords\",\"line\":{\"colorbar\":{\"outlinewidth\":0,\"ticks\":\"\"}}}],\"scatterpolargl\":[{\"type\":\"scatterpolargl\",\"marker\":{\"colorbar\":{\"outlinewidth\":0,\"ticks\":\"\"}}}],\"bar\":[{\"error_x\":{\"color\":\"#2a3f5f\"},\"error_y\":{\"color\":\"#2a3f5f\"},\"marker\":{\"line\":{\"color\":\"#E5ECF6\",\"width\":0.5},\"pattern\":{\"fillmode\":\"overlay\",\"size\":10,\"solidity\":0.2}},\"type\":\"bar\"}],\"scattergeo\":[{\"type\":\"scattergeo\",\"marker\":{\"colorbar\":{\"outlinewidth\":0,\"ticks\":\"\"}}}],\"scatterpolar\":[{\"type\":\"scatterpolar\",\"marker\":{\"colorbar\":{\"outlinewidth\":0,\"ticks\":\"\"}}}],\"histogram\":[{\"marker\":{\"pattern\":{\"fillmode\":\"overlay\",\"size\":10,\"solidity\":0.2}},\"type\":\"histogram\"}],\"scattergl\":[{\"type\":\"scattergl\",\"marker\":{\"colorbar\":{\"outlinewidth\":0,\"ticks\":\"\"}}}],\"scatter3d\":[{\"type\":\"scatter3d\",\"line\":{\"colorbar\":{\"outlinewidth\":0,\"ticks\":\"\"}},\"marker\":{\"colorbar\":{\"outlinewidth\":0,\"ticks\":\"\"}}}],\"scattermapbox\":[{\"type\":\"scattermapbox\",\"marker\":{\"colorbar\":{\"outlinewidth\":0,\"ticks\":\"\"}}}],\"scatterternary\":[{\"type\":\"scatterternary\",\"marker\":{\"colorbar\":{\"outlinewidth\":0,\"ticks\":\"\"}}}],\"scattercarpet\":[{\"type\":\"scattercarpet\",\"marker\":{\"colorbar\":{\"outlinewidth\":0,\"ticks\":\"\"}}}],\"carpet\":[{\"aaxis\":{\"endlinecolor\":\"#2a3f5f\",\"gridcolor\":\"white\",\"linecolor\":\"white\",\"minorgridcolor\":\"white\",\"startlinecolor\":\"#2a3f5f\"},\"baxis\":{\"endlinecolor\":\"#2a3f5f\",\"gridcolor\":\"white\",\"linecolor\":\"white\",\"minorgridcolor\":\"white\",\"startlinecolor\":\"#2a3f5f\"},\"type\":\"carpet\"}],\"table\":[{\"cells\":{\"fill\":{\"color\":\"#EBF0F8\"},\"line\":{\"color\":\"white\"}},\"header\":{\"fill\":{\"color\":\"#C8D4E3\"},\"line\":{\"color\":\"white\"}},\"type\":\"table\"}],\"barpolar\":[{\"marker\":{\"line\":{\"color\":\"#E5ECF6\",\"width\":0.5},\"pattern\":{\"fillmode\":\"overlay\",\"size\":10,\"solidity\":0.2}},\"type\":\"barpolar\"}],\"pie\":[{\"automargin\":true,\"type\":\"pie\"}]},\"layout\":{\"autotypenumbers\":\"strict\",\"colorway\":[\"#636efa\",\"#EF553B\",\"#00cc96\",\"#ab63fa\",\"#FFA15A\",\"#19d3f3\",\"#FF6692\",\"#B6E880\",\"#FF97FF\",\"#FECB52\"],\"font\":{\"color\":\"#2a3f5f\"},\"hovermode\":\"closest\",\"hoverlabel\":{\"align\":\"left\"},\"paper_bgcolor\":\"white\",\"plot_bgcolor\":\"#E5ECF6\",\"polar\":{\"bgcolor\":\"#E5ECF6\",\"angularaxis\":{\"gridcolor\":\"white\",\"linecolor\":\"white\",\"ticks\":\"\"},\"radialaxis\":{\"gridcolor\":\"white\",\"linecolor\":\"white\",\"ticks\":\"\"}},\"ternary\":{\"bgcolor\":\"#E5ECF6\",\"aaxis\":{\"gridcolor\":\"white\",\"linecolor\":\"white\",\"ticks\":\"\"},\"baxis\":{\"gridcolor\":\"white\",\"linecolor\":\"white\",\"ticks\":\"\"},\"caxis\":{\"gridcolor\":\"white\",\"linecolor\":\"white\",\"ticks\":\"\"}},\"coloraxis\":{\"colorbar\":{\"outlinewidth\":0,\"ticks\":\"\"}},\"colorscale\":{\"sequential\":[[0.0,\"#0d0887\"],[0.1111111111111111,\"#46039f\"],[0.2222222222222222,\"#7201a8\"],[0.3333333333333333,\"#9c179e\"],[0.4444444444444444,\"#bd3786\"],[0.5555555555555556,\"#d8576b\"],[0.6666666666666666,\"#ed7953\"],[0.7777777777777778,\"#fb9f3a\"],[0.8888888888888888,\"#fdca26\"],[1.0,\"#f0f921\"]],\"sequentialminus\":[[0.0,\"#0d0887\"],[0.1111111111111111,\"#46039f\"],[0.2222222222222222,\"#7201a8\"],[0.3333333333333333,\"#9c179e\"],[0.4444444444444444,\"#bd3786\"],[0.5555555555555556,\"#d8576b\"],[0.6666666666666666,\"#ed7953\"],[0.7777777777777778,\"#fb9f3a\"],[0.8888888888888888,\"#fdca26\"],[1.0,\"#f0f921\"]],\"diverging\":[[0,\"#8e0152\"],[0.1,\"#c51b7d\"],[0.2,\"#de77ae\"],[0.3,\"#f1b6da\"],[0.4,\"#fde0ef\"],[0.5,\"#f7f7f7\"],[0.6,\"#e6f5d0\"],[0.7,\"#b8e186\"],[0.8,\"#7fbc41\"],[0.9,\"#4d9221\"],[1,\"#276419\"]]},\"xaxis\":{\"gridcolor\":\"white\",\"linecolor\":\"white\",\"ticks\":\"\",\"title\":{\"standoff\":15},\"zerolinecolor\":\"white\",\"automargin\":true,\"zerolinewidth\":2},\"yaxis\":{\"gridcolor\":\"white\",\"linecolor\":\"white\",\"ticks\":\"\",\"title\":{\"standoff\":15},\"zerolinecolor\":\"white\",\"automargin\":true,\"zerolinewidth\":2},\"scene\":{\"xaxis\":{\"backgroundcolor\":\"#E5ECF6\",\"gridcolor\":\"white\",\"linecolor\":\"white\",\"showbackground\":true,\"ticks\":\"\",\"zerolinecolor\":\"white\",\"gridwidth\":2},\"yaxis\":{\"backgroundcolor\":\"#E5ECF6\",\"gridcolor\":\"white\",\"linecolor\":\"white\",\"showbackground\":true,\"ticks\":\"\",\"zerolinecolor\":\"white\",\"gridwidth\":2},\"zaxis\":{\"backgroundcolor\":\"#E5ECF6\",\"gridcolor\":\"white\",\"linecolor\":\"white\",\"showbackground\":true,\"ticks\":\"\",\"zerolinecolor\":\"white\",\"gridwidth\":2}},\"shapedefaults\":{\"line\":{\"color\":\"#2a3f5f\"}},\"annotationdefaults\":{\"arrowcolor\":\"#2a3f5f\",\"arrowhead\":0,\"arrowwidth\":1},\"geo\":{\"bgcolor\":\"white\",\"landcolor\":\"#E5ECF6\",\"subunitcolor\":\"white\",\"showland\":true,\"showlakes\":true,\"lakecolor\":\"white\"},\"title\":{\"x\":0.05},\"mapbox\":{\"style\":\"light\"}}}},                        {\"responsive\": true}                    ).then(function(){\n",
       "                            \n",
       "var gd = document.getElementById('b9e5b747-cfe5-44ee-91e3-f1edded2a259');\n",
       "var x = new MutationObserver(function (mutations, observer) {{\n",
       "        var display = window.getComputedStyle(gd).display;\n",
       "        if (!display || display === 'none') {{\n",
       "            console.log([gd, 'removed!']);\n",
       "            Plotly.purge(gd);\n",
       "            observer.disconnect();\n",
       "        }}\n",
       "}});\n",
       "\n",
       "// Listen for the removal of the full notebook cells\n",
       "var notebookContainer = gd.closest('#notebook-container');\n",
       "if (notebookContainer) {{\n",
       "    x.observe(notebookContainer, {childList: true});\n",
       "}}\n",
       "\n",
       "// Listen for the clearing of the current output cell\n",
       "var outputEl = gd.closest('.output');\n",
       "if (outputEl) {{\n",
       "    x.observe(outputEl, {childList: true});\n",
       "}}\n",
       "\n",
       "                        })                };                });            </script>        </div>"
      ]
     },
     "metadata": {},
     "output_type": "display_data"
    },
    {
     "data": {
      "text/html": [
       "<div>\n",
       "<style scoped>\n",
       "    .dataframe tbody tr th:only-of-type {\n",
       "        vertical-align: middle;\n",
       "    }\n",
       "\n",
       "    .dataframe tbody tr th {\n",
       "        vertical-align: top;\n",
       "    }\n",
       "\n",
       "    .dataframe thead th {\n",
       "        text-align: right;\n",
       "    }\n",
       "</style>\n",
       "<table border=\"1\" class=\"dataframe\">\n",
       "  <thead>\n",
       "    <tr style=\"text-align: right;\">\n",
       "      <th></th>\n",
       "      <th>Country Name</th>\n",
       "      <th>Regional Indicator</th>\n",
       "      <th>Year_x</th>\n",
       "      <th>Life Ladder</th>\n",
       "      <th>Log GDP Per Capita</th>\n",
       "      <th>Social Support</th>\n",
       "      <th>Healthy Life Expectancy At Birth</th>\n",
       "      <th>Freedom To Make Life Choices</th>\n",
       "      <th>Generosity</th>\n",
       "      <th>Perceptions Of Corruption</th>\n",
       "      <th>...</th>\n",
       "      <th>Confidence In National Government</th>\n",
       "      <th>Code</th>\n",
       "      <th>Year_y</th>\n",
       "      <th>Schizophrenia (%)</th>\n",
       "      <th>Bipolar disorder (%)</th>\n",
       "      <th>Eating disorders (%)</th>\n",
       "      <th>Anxiety disorders (%)</th>\n",
       "      <th>Drug use disorders (%)</th>\n",
       "      <th>Depression (%)</th>\n",
       "      <th>Alcohol use disorders (%)</th>\n",
       "    </tr>\n",
       "  </thead>\n",
       "  <tbody>\n",
       "    <tr>\n",
       "      <th>0</th>\n",
       "      <td>Afghanistan</td>\n",
       "      <td>South Asia</td>\n",
       "      <td>2017</td>\n",
       "      <td>2.661718</td>\n",
       "      <td>7.647830</td>\n",
       "      <td>0.490880</td>\n",
       "      <td>53.250000</td>\n",
       "      <td>0.427011</td>\n",
       "      <td>-0.119410</td>\n",
       "      <td>0.954393</td>\n",
       "      <td>...</td>\n",
       "      <td>0.261179</td>\n",
       "      <td>AFG</td>\n",
       "      <td>2017</td>\n",
       "      <td>0.166158</td>\n",
       "      <td>0.708089</td>\n",
       "      <td>0.107142</td>\n",
       "      <td>4.882481</td>\n",
       "      <td>2.473934</td>\n",
       "      <td>4.136347</td>\n",
       "      <td>0.661217</td>\n",
       "    </tr>\n",
       "    <tr>\n",
       "      <th>1</th>\n",
       "      <td>Albania</td>\n",
       "      <td>Central and Eastern Europe</td>\n",
       "      <td>2017</td>\n",
       "      <td>4.639548</td>\n",
       "      <td>9.455110</td>\n",
       "      <td>0.637698</td>\n",
       "      <td>69.050003</td>\n",
       "      <td>0.749611</td>\n",
       "      <td>-0.030506</td>\n",
       "      <td>0.876135</td>\n",
       "      <td>...</td>\n",
       "      <td>0.457738</td>\n",
       "      <td>ALB</td>\n",
       "      <td>2017</td>\n",
       "      <td>0.201025</td>\n",
       "      <td>0.704480</td>\n",
       "      <td>0.174046</td>\n",
       "      <td>3.385245</td>\n",
       "      <td>0.517614</td>\n",
       "      <td>2.208414</td>\n",
       "      <td>1.837955</td>\n",
       "    </tr>\n",
       "    <tr>\n",
       "      <th>2</th>\n",
       "      <td>Argentina</td>\n",
       "      <td>Latin America and Caribbean</td>\n",
       "      <td>2017</td>\n",
       "      <td>6.039330</td>\n",
       "      <td>10.068880</td>\n",
       "      <td>0.906699</td>\n",
       "      <td>67.000000</td>\n",
       "      <td>0.831966</td>\n",
       "      <td>-0.189601</td>\n",
       "      <td>0.841052</td>\n",
       "      <td>...</td>\n",
       "      <td>0.305430</td>\n",
       "      <td>ARG</td>\n",
       "      <td>2017</td>\n",
       "      <td>0.198094</td>\n",
       "      <td>0.773376</td>\n",
       "      <td>0.404033</td>\n",
       "      <td>6.283678</td>\n",
       "      <td>1.008901</td>\n",
       "      <td>3.665488</td>\n",
       "      <td>1.824515</td>\n",
       "    </tr>\n",
       "    <tr>\n",
       "      <th>3</th>\n",
       "      <td>Armenia</td>\n",
       "      <td>Commonwealth of Independent States</td>\n",
       "      <td>2017</td>\n",
       "      <td>4.287736</td>\n",
       "      <td>9.434255</td>\n",
       "      <td>0.697925</td>\n",
       "      <td>66.550003</td>\n",
       "      <td>0.613697</td>\n",
       "      <td>-0.152285</td>\n",
       "      <td>0.864683</td>\n",
       "      <td>...</td>\n",
       "      <td>0.246901</td>\n",
       "      <td>ARM</td>\n",
       "      <td>2017</td>\n",
       "      <td>0.197365</td>\n",
       "      <td>0.717591</td>\n",
       "      <td>0.167047</td>\n",
       "      <td>2.592813</td>\n",
       "      <td>0.504360</td>\n",
       "      <td>2.754583</td>\n",
       "      <td>1.964988</td>\n",
       "    </tr>\n",
       "    <tr>\n",
       "      <th>4</th>\n",
       "      <td>Australia</td>\n",
       "      <td>North America and ANZ</td>\n",
       "      <td>2017</td>\n",
       "      <td>7.257038</td>\n",
       "      <td>10.787260</td>\n",
       "      <td>0.949958</td>\n",
       "      <td>70.750000</td>\n",
       "      <td>0.910550</td>\n",
       "      <td>0.313771</td>\n",
       "      <td>0.411347</td>\n",
       "      <td>...</td>\n",
       "      <td>0.453407</td>\n",
       "      <td>AUS</td>\n",
       "      <td>2017</td>\n",
       "      <td>0.363326</td>\n",
       "      <td>1.142097</td>\n",
       "      <td>0.943081</td>\n",
       "      <td>6.584301</td>\n",
       "      <td>2.315142</td>\n",
       "      <td>4.623881</td>\n",
       "      <td>1.511935</td>\n",
       "    </tr>\n",
       "  </tbody>\n",
       "</table>\n",
       "<p>5 rows × 22 columns</p>\n",
       "</div>"
      ],
      "text/plain": [
       "  Country Name                  Regional Indicator  Year_x  Life Ladder  \\\n",
       "0  Afghanistan                          South Asia    2017     2.661718   \n",
       "1      Albania          Central and Eastern Europe    2017     4.639548   \n",
       "2    Argentina         Latin America and Caribbean    2017     6.039330   \n",
       "3      Armenia  Commonwealth of Independent States    2017     4.287736   \n",
       "4    Australia               North America and ANZ    2017     7.257038   \n",
       "\n",
       "   Log GDP Per Capita  Social Support  Healthy Life Expectancy At Birth  \\\n",
       "0            7.647830        0.490880                         53.250000   \n",
       "1            9.455110        0.637698                         69.050003   \n",
       "2           10.068880        0.906699                         67.000000   \n",
       "3            9.434255        0.697925                         66.550003   \n",
       "4           10.787260        0.949958                         70.750000   \n",
       "\n",
       "   Freedom To Make Life Choices  Generosity  Perceptions Of Corruption  ...  \\\n",
       "0                      0.427011   -0.119410                   0.954393  ...   \n",
       "1                      0.749611   -0.030506                   0.876135  ...   \n",
       "2                      0.831966   -0.189601                   0.841052  ...   \n",
       "3                      0.613697   -0.152285                   0.864683  ...   \n",
       "4                      0.910550    0.313771                   0.411347  ...   \n",
       "\n",
       "   Confidence In National Government  Code  Year_y Schizophrenia (%)  \\\n",
       "0                           0.261179   AFG    2017          0.166158   \n",
       "1                           0.457738   ALB    2017          0.201025   \n",
       "2                           0.305430   ARG    2017          0.198094   \n",
       "3                           0.246901   ARM    2017          0.197365   \n",
       "4                           0.453407   AUS    2017          0.363326   \n",
       "\n",
       "  Bipolar disorder (%)  Eating disorders (%)  Anxiety disorders (%)  \\\n",
       "0             0.708089              0.107142               4.882481   \n",
       "1             0.704480              0.174046               3.385245   \n",
       "2             0.773376              0.404033               6.283678   \n",
       "3             0.717591              0.167047               2.592813   \n",
       "4             1.142097              0.943081               6.584301   \n",
       "\n",
       "   Drug use disorders (%)  Depression (%)  Alcohol use disorders (%)  \n",
       "0                2.473934        4.136347                   0.661217  \n",
       "1                0.517614        2.208414                   1.837955  \n",
       "2                1.008901        3.665488                   1.824515  \n",
       "3                0.504360        2.754583                   1.964988  \n",
       "4                2.315142        4.623881                   1.511935  \n",
       "\n",
       "[5 rows x 22 columns]"
      ]
     },
     "metadata": {},
     "output_type": "display_data"
    }
   ],
   "source": [
    "# reads the necessary modules/libraries\n",
    "import geopandas as gpd\n",
    "import pandas as pd\n",
    "import plotly.express as px\n",
    "import random\n",
    "import seaborn as sns\n",
    "import numpy as np\n",
    "import plotly.graph_objects as go\n",
    "\n",
    "# reads the required datasets and displays them\n",
    "world_happiness = pd.read_csv('World Happiness Report.csv')\n",
    "world_mental = pd.read_csv('Mental health Depression disorder Data.csv')\n",
    "world_mental.rename(columns={\"Entity\": \"Country Name\"}, inplace=True)\n",
    "\n",
    "# prepares the two datasets for their merging\n",
    "# by selecting their common year, 2017, and changing a column name\n",
    "world_happiness_2017 = world_happiness.loc[world_happiness['Year'] == 2017].copy().dropna()\n",
    "world_mental_2017 = world_mental.loc[world_mental['Year'] == '2017'].copy().drop('index', axis=1).dropna()\n",
    "world_mental_2017.rename(columns={\"Entity\": \"Country Name\"}, inplace=True)\n",
    "\n",
    "# merges the DataFrames, and displays them consequently\n",
    "df = pd.merge(world_happiness_2017, world_mental_2017, on=\"Country Name\", how='inner')\n",
    "\n",
    "\n",
    "# Convert the \"Year\" column to numeric values\n",
    "world_mental[\"Year\"] = pd.to_numeric(world_mental[\"Year\"], errors='coerce')\n",
    "\n",
    "# Drop any rows with NaN values in the \"Year\" column\n",
    "world_mental = world_mental.dropna(subset=[\"Year\"])\n",
    "\n",
    "# Convert the \"Year\" column to integers\n",
    "world_mental[\"Year\"] = world_mental[\"Year\"].astype(int)\n",
    "\n",
    "df_years = pd.merge(world_happiness, world_mental, on=[\"Country Name\", \"Year\"], how='inner').dropna()\n",
    "\n",
    "df_years.drop([\"Country Name\", \"Regional Indicator\", \"Code\", \"index\"], axis=1, inplace=True) \n",
    "\n",
    "numeric_columns_years = df_years.select_dtypes(include='number')\n",
    "\n",
    "df_years_mean = df_years.groupby(['Year'])[numeric_columns_years.columns].mean()\n",
    "df_years_mean.drop([\"Year\"], axis=1, inplace=True) \n",
    "df_years_mean = df_years_mean.reset_index()\n",
    "\n",
    "df_years_mean.drop(df_years_mean[df_years_mean['Year'] < 2010].index, inplace = True)\n",
    "\n",
    "display(df_years_mean)\n",
    "\n",
    "fig = go.Figure()\n",
    "\n",
    "fig.add_trace(go.Scatter(x=df_years_mean[\"Year\"], y=df_years_mean[\"Life Ladder\"], mode=\"lines\", name=\"Life Ladder\"))\n",
    "fig.add_trace(go.Scatter(x=df_years_mean[\"Year\"], y=df_years_mean[\"Log GDP Per Capita\"], mode=\"lines\", name=\"Log GDP Per Capita\"))\n",
    "fig.add_trace(go.Scatter(x=df_years_mean[\"Year\"], y=df_years_mean[\"Anxiety disorders (%)\"], mode=\"lines\", name=\"Anxiety disorders (%)\"))\n",
    "fig.add_trace(go.Scatter(x=df_years_mean[\"Year\"], y=df_years_mean[\"Drug use disorders (%)\"], mode=\"lines\", name=\"Drug use disorders (%)\"))\n",
    "fig.add_trace(go.Scatter(x=df_years_mean[\"Year\"], y=df_years_mean[\"Depression (%)\"], mode=\"lines\", name=\"Depression (%)\"))\n",
    "fig.add_trace(go.Scatter(x=df_years_mean[\"Year\"], y=df_years_mean[\"Alcohol use disorders (%)\"], mode=\"lines\", name=\"Alcohol use disorders (%)\"))\n",
    "# fig.add_trace(go.Scatter(x=df_years_mean[\"Year\"], y=df_years_mean[\"Schizophrenia (%)\"], mode=\"lines\", name=\"Schizophrenia (%)\"))\n",
    "# fig.add_trace(go.Scatter(x=df_years_mean[\"Year\"], y=df_years_mean[\"Bipolar disorder (%)\"], mode=\"lines\", name=\"Bipolar disorder (%)\"))\n",
    "# fig.add_trace(go.Scatter(x=df_years_mean[\"Year\"], y=df_years_mean[\"Eating disorders (%)\"], mode=\"lines\", name=\"Eating disorders (%)\"))\n",
    "\n",
    "fig.show()\n",
    "\n",
    "# # seeks a possible Pearson's correlation\n",
    "# print(\"The correlation between GDP per capita and Life Ladder is:\", \n",
    "#       df['Log GDP Per Capita'].corr(df['Life Ladder']) )\n",
    "\n",
    "# prepares the data for the creation of bar charts\n",
    "\n",
    "numeric_columns = df.select_dtypes(include='number')\n",
    "\n",
    "df_mean = df.groupby(['Regional Indicator'])[numeric_columns.columns].mean()\n",
    "df_mean = df_mean.reset_index()\n",
    "\n",
    "df_sum = df.groupby(['Regional Indicator'])[numeric_columns.columns].sum()\n",
    "df_sum = df_sum.reset_index()\n",
    "\n",
    "# displays the disorders as floats\n",
    "data_columns= [\n",
    "            'Bipolar disorder (%)','Schizophrenia (%)','Eating disorders (%)',\n",
    "            'Anxiety disorders (%)','Drug use disorders (%)','Depression (%)',\n",
    "            'Alcohol use disorders (%)'\n",
    "]\n",
    "\n",
    "df[data_columns]= df[data_columns].astype(float)\n",
    "\n",
    "display(df.head())"
   ]
  },
  {
   "cell_type": "code",
   "execution_count": 90,
   "id": "24811bfb-8e09-4780-b3e4-caf8eaf050b0",
   "metadata": {
    "editable": true,
    "slideshow": {
     "slide_type": ""
    },
    "tags": [
     "hide-cell"
    ]
   },
   "outputs": [
    {
     "name": "stderr",
     "output_type": "stream",
     "text": [
      "/var/folders/26/857cdtq51v5b981sk9klpqzm0000gn/T/ipykernel_1553/2067420588.py:12: DtypeWarning:\n",
      "\n",
      "Columns (5,6) have mixed types. Specify dtype option on import or set low_memory=False.\n",
      "\n"
     ]
    },
    {
     "data": {
      "text/html": [
       "<div>\n",
       "<style scoped>\n",
       "    .dataframe tbody tr th:only-of-type {\n",
       "        vertical-align: middle;\n",
       "    }\n",
       "\n",
       "    .dataframe tbody tr th {\n",
       "        vertical-align: top;\n",
       "    }\n",
       "\n",
       "    .dataframe thead th {\n",
       "        text-align: right;\n",
       "    }\n",
       "</style>\n",
       "<table border=\"1\" class=\"dataframe\">\n",
       "  <thead>\n",
       "    <tr style=\"text-align: right;\">\n",
       "      <th></th>\n",
       "      <th>Country Name</th>\n",
       "      <th>Regional Indicator</th>\n",
       "      <th>Year_x</th>\n",
       "      <th>Life Ladder</th>\n",
       "      <th>Log GDP Per Capita</th>\n",
       "      <th>Social Support</th>\n",
       "      <th>Healthy Life Expectancy At Birth</th>\n",
       "      <th>Freedom To Make Life Choices</th>\n",
       "      <th>Generosity</th>\n",
       "      <th>Perceptions Of Corruption</th>\n",
       "      <th>...</th>\n",
       "      <th>Confidence In National Government</th>\n",
       "      <th>Code</th>\n",
       "      <th>Year_y</th>\n",
       "      <th>Schizophrenia (%)</th>\n",
       "      <th>Bipolar disorder (%)</th>\n",
       "      <th>Eating disorders (%)</th>\n",
       "      <th>Anxiety disorders (%)</th>\n",
       "      <th>Drug use disorders (%)</th>\n",
       "      <th>Depression (%)</th>\n",
       "      <th>Alcohol use disorders (%)</th>\n",
       "    </tr>\n",
       "  </thead>\n",
       "  <tbody>\n",
       "    <tr>\n",
       "      <th>0</th>\n",
       "      <td>Afghanistan</td>\n",
       "      <td>South Asia</td>\n",
       "      <td>2017</td>\n",
       "      <td>2.661718</td>\n",
       "      <td>7.647830</td>\n",
       "      <td>0.490880</td>\n",
       "      <td>53.250000</td>\n",
       "      <td>0.427011</td>\n",
       "      <td>-0.119410</td>\n",
       "      <td>0.954393</td>\n",
       "      <td>...</td>\n",
       "      <td>0.261179</td>\n",
       "      <td>AFG</td>\n",
       "      <td>2017</td>\n",
       "      <td>0.166158</td>\n",
       "      <td>0.708089</td>\n",
       "      <td>0.107142</td>\n",
       "      <td>4.882481</td>\n",
       "      <td>2.473934</td>\n",
       "      <td>4.136347</td>\n",
       "      <td>0.661217</td>\n",
       "    </tr>\n",
       "    <tr>\n",
       "      <th>1</th>\n",
       "      <td>Albania</td>\n",
       "      <td>Central and Eastern Europe</td>\n",
       "      <td>2017</td>\n",
       "      <td>4.639548</td>\n",
       "      <td>9.455110</td>\n",
       "      <td>0.637698</td>\n",
       "      <td>69.050003</td>\n",
       "      <td>0.749611</td>\n",
       "      <td>-0.030506</td>\n",
       "      <td>0.876135</td>\n",
       "      <td>...</td>\n",
       "      <td>0.457738</td>\n",
       "      <td>ALB</td>\n",
       "      <td>2017</td>\n",
       "      <td>0.201025</td>\n",
       "      <td>0.704480</td>\n",
       "      <td>0.174046</td>\n",
       "      <td>3.385245</td>\n",
       "      <td>0.517614</td>\n",
       "      <td>2.208414</td>\n",
       "      <td>1.837955</td>\n",
       "    </tr>\n",
       "    <tr>\n",
       "      <th>2</th>\n",
       "      <td>Argentina</td>\n",
       "      <td>Latin America and Caribbean</td>\n",
       "      <td>2017</td>\n",
       "      <td>6.039330</td>\n",
       "      <td>10.068880</td>\n",
       "      <td>0.906699</td>\n",
       "      <td>67.000000</td>\n",
       "      <td>0.831966</td>\n",
       "      <td>-0.189601</td>\n",
       "      <td>0.841052</td>\n",
       "      <td>...</td>\n",
       "      <td>0.305430</td>\n",
       "      <td>ARG</td>\n",
       "      <td>2017</td>\n",
       "      <td>0.198094</td>\n",
       "      <td>0.773376</td>\n",
       "      <td>0.404033</td>\n",
       "      <td>6.283678</td>\n",
       "      <td>1.008901</td>\n",
       "      <td>3.665488</td>\n",
       "      <td>1.824515</td>\n",
       "    </tr>\n",
       "    <tr>\n",
       "      <th>3</th>\n",
       "      <td>Armenia</td>\n",
       "      <td>Commonwealth of Independent States</td>\n",
       "      <td>2017</td>\n",
       "      <td>4.287736</td>\n",
       "      <td>9.434255</td>\n",
       "      <td>0.697925</td>\n",
       "      <td>66.550003</td>\n",
       "      <td>0.613697</td>\n",
       "      <td>-0.152285</td>\n",
       "      <td>0.864683</td>\n",
       "      <td>...</td>\n",
       "      <td>0.246901</td>\n",
       "      <td>ARM</td>\n",
       "      <td>2017</td>\n",
       "      <td>0.197365</td>\n",
       "      <td>0.717591</td>\n",
       "      <td>0.167047</td>\n",
       "      <td>2.592813</td>\n",
       "      <td>0.504360</td>\n",
       "      <td>2.754583</td>\n",
       "      <td>1.964988</td>\n",
       "    </tr>\n",
       "    <tr>\n",
       "      <th>4</th>\n",
       "      <td>Australia</td>\n",
       "      <td>North America and ANZ</td>\n",
       "      <td>2017</td>\n",
       "      <td>7.257038</td>\n",
       "      <td>10.787260</td>\n",
       "      <td>0.949958</td>\n",
       "      <td>70.750000</td>\n",
       "      <td>0.910550</td>\n",
       "      <td>0.313771</td>\n",
       "      <td>0.411347</td>\n",
       "      <td>...</td>\n",
       "      <td>0.453407</td>\n",
       "      <td>AUS</td>\n",
       "      <td>2017</td>\n",
       "      <td>0.363326</td>\n",
       "      <td>1.142097</td>\n",
       "      <td>0.943081</td>\n",
       "      <td>6.584301</td>\n",
       "      <td>2.315142</td>\n",
       "      <td>4.623881</td>\n",
       "      <td>1.511935</td>\n",
       "    </tr>\n",
       "  </tbody>\n",
       "</table>\n",
       "<p>5 rows × 22 columns</p>\n",
       "</div>"
      ],
      "text/plain": [
       "  Country Name                  Regional Indicator  Year_x  Life Ladder  \\\n",
       "0  Afghanistan                          South Asia    2017     2.661718   \n",
       "1      Albania          Central and Eastern Europe    2017     4.639548   \n",
       "2    Argentina         Latin America and Caribbean    2017     6.039330   \n",
       "3      Armenia  Commonwealth of Independent States    2017     4.287736   \n",
       "4    Australia               North America and ANZ    2017     7.257038   \n",
       "\n",
       "   Log GDP Per Capita  Social Support  Healthy Life Expectancy At Birth  \\\n",
       "0            7.647830        0.490880                         53.250000   \n",
       "1            9.455110        0.637698                         69.050003   \n",
       "2           10.068880        0.906699                         67.000000   \n",
       "3            9.434255        0.697925                         66.550003   \n",
       "4           10.787260        0.949958                         70.750000   \n",
       "\n",
       "   Freedom To Make Life Choices  Generosity  Perceptions Of Corruption  ...  \\\n",
       "0                      0.427011   -0.119410                   0.954393  ...   \n",
       "1                      0.749611   -0.030506                   0.876135  ...   \n",
       "2                      0.831966   -0.189601                   0.841052  ...   \n",
       "3                      0.613697   -0.152285                   0.864683  ...   \n",
       "4                      0.910550    0.313771                   0.411347  ...   \n",
       "\n",
       "   Confidence In National Government  Code  Year_y Schizophrenia (%)  \\\n",
       "0                           0.261179   AFG    2017          0.166158   \n",
       "1                           0.457738   ALB    2017          0.201025   \n",
       "2                           0.305430   ARG    2017          0.198094   \n",
       "3                           0.246901   ARM    2017          0.197365   \n",
       "4                           0.453407   AUS    2017          0.363326   \n",
       "\n",
       "  Bipolar disorder (%)  Eating disorders (%)  Anxiety disorders (%)  \\\n",
       "0             0.708089              0.107142               4.882481   \n",
       "1             0.704480              0.174046               3.385245   \n",
       "2             0.773376              0.404033               6.283678   \n",
       "3             0.717591              0.167047               2.592813   \n",
       "4             1.142097              0.943081               6.584301   \n",
       "\n",
       "   Drug use disorders (%)  Depression (%)  Alcohol use disorders (%)  \n",
       "0                2.473934        4.136347                   0.661217  \n",
       "1                0.517614        2.208414                   1.837955  \n",
       "2                1.008901        3.665488                   1.824515  \n",
       "3                0.504360        2.754583                   1.964988  \n",
       "4                2.315142        4.623881                   1.511935  \n",
       "\n",
       "[5 rows x 22 columns]"
      ]
     },
     "metadata": {},
     "output_type": "display_data"
    }
   ],
   "source": [
    "# reads the necessary modules/libraries\n",
    "import geopandas as gpd\n",
    "import pandas as pd\n",
    "import plotly.express as px\n",
    "import random\n",
    "import seaborn as sns\n",
    "import numpy as np\n",
    "import plotly.graph_objects as go\n",
    "\n",
    "# reads the required datasets and displays them\n",
    "world_happiness = pd.read_csv('World Happiness Report.csv')\n",
    "world_mental = pd.read_csv('Mental health Depression disorder Data.csv')\n",
    "\n",
    "# prepares the two datasets for their merging\n",
    "# by selecting their common year, 2017, and changing a column name\n",
    "world_happiness_2017 = world_happiness.loc[world_happiness['Year'] == 2017].copy().dropna()\n",
    "world_mental_2017 = world_mental.loc[world_mental['Year'] == '2017'].copy().drop('index', axis=1).dropna()\n",
    "world_mental_2017.rename(columns={\"Entity\": \"Country Name\"}, inplace=True)\n",
    "\n",
    "# merges the DataFrames, and displays them consequently\n",
    "df = pd.merge(world_happiness_2017, world_mental_2017, on=\"Country Name\", how='inner')\n",
    "\n",
    "# # seeks a possible Pearson's correlation\n",
    "# print(\"The correlation between GDP per capita and Life Ladder is:\", \n",
    "#       df['Log GDP Per Capita'].corr(df['Life Ladder']) )\n",
    "\n",
    "# prepares the data for the creation of bar charts\n",
    "\n",
    "# displays the disorders as floats\n",
    "\n",
    "data_columns= [\n",
    "            'Bipolar disorder (%)','Schizophrenia (%)','Eating disorders (%)',\n",
    "            'Anxiety disorders (%)','Drug use disorders (%)','Depression (%)',\n",
    "            'Alcohol use disorders (%)'\n",
    "]\n",
    "\n",
    "df[data_columns]= df[data_columns].astype(float)\n",
    "\n",
    "numeric_columns = df.select_dtypes(include='number')\n",
    "\n",
    "df_mean = df.groupby(['Regional Indicator'])[numeric_columns.columns].mean()\n",
    "df_mean = df_mean.reset_index()\n",
    "\n",
    "df_sum = df.groupby(['Regional Indicator'])[numeric_columns.columns].sum()\n",
    "df_sum = df_sum.reset_index()\n",
    "\n",
    "display(df.head())"
   ]
  },
  {
   "cell_type": "markdown",
   "id": "17cf3fe3-b0b2-496b-8d4f-e512119b4ed1",
   "metadata": {
    "editable": true,
    "slideshow": {
     "slide_type": ""
    },
    "tags": []
   },
   "source": [
    "## 3 Visualizations\n",
    "In this segment, visualisation of the aforementioned arguments will be shown. A short conclusion will be provided as well.\n",
    "\n",
    "By examining the relationship between happiness, socio-economic factors, and mental health disorders, we aim to shed light on the complex dynamics that influence individuals' well-being."
   ]
  },
  {
   "cell_type": "markdown",
   "id": "13f3c79a-e8e1-4512-b7e6-7addf086cb55",
   "metadata": {
    "editable": true,
    "slideshow": {
     "slide_type": ""
    },
    "tags": []
   },
   "source": [
    "### 3.1 Perspective 1: Wealth and mental health are closely related\n",
    "\n"
   ]
  },
  {
   "cell_type": "code",
   "execution_count": 92,
   "id": "1b86f8f5-75ed-4e68-a8b8-2b3b6140f26f",
   "metadata": {
    "editable": true,
    "slideshow": {
     "slide_type": ""
    },
    "tags": [
     "hide-input"
    ]
   },
   "outputs": [
    {
     "name": "stderr",
     "output_type": "stream",
     "text": [
      "/var/folders/26/857cdtq51v5b981sk9klpqzm0000gn/T/ipykernel_1553/3467132866.py:12: DtypeWarning:\n",
      "\n",
      "Columns (5,6) have mixed types. Specify dtype option on import or set low_memory=False.\n",
      "\n"
     ]
    },
    {
     "data": {
      "application/vnd.plotly.v1+json": {
       "config": {
        "plotlyServerURL": "https://plot.ly"
       },
       "data": [
        {
         "line": {
          "color": "rgb(235, 64, 52)"
         },
         "mode": "lines",
         "name": "Life Ladder",
         "type": "scatter",
         "x": [
          2010,
          2011,
          2012,
          2013,
          2014,
          2015,
          2016,
          2017
         ],
         "y": [
          5.560863811925532,
          5.451530021657407,
          5.486982702085715,
          5.428115372245455,
          5.447636345165217,
          5.430145373743589,
          5.430656530504348,
          5.514670523008333
         ]
        },
        {
         "line": {
          "color": "rgb(235, 231, 45)"
         },
         "mode": "lines",
         "name": "Log GDP Per Capita",
         "type": "scatter",
         "visible": false,
         "x": [
          2010,
          2011,
          2012,
          2013,
          2014,
          2015,
          2016,
          2017
         ],
         "y": [
          9.350572058765957,
          9.250415108777778,
          9.370522035533334,
          9.38426765959091,
          9.413191388930434,
          9.387671104119658,
          9.407031249913045,
          9.371536457633333
         ]
        },
        {
         "line": {
          "color": "rgb(36, 64, 52)"
         },
         "mode": "lines",
         "name": "Anxiety disorders (%)",
         "type": "scatter",
         "visible": false,
         "x": [
          2010,
          2011,
          2012,
          2013,
          2014,
          2015,
          2016,
          2017
         ],
         "y": [
          3.9949569255319153,
          3.9793085462962967,
          3.9993627333333333,
          3.9765326636363634,
          4.025175243478261,
          4.018937341880342,
          4.016531652173913,
          3.9624704583333337
         ]
        },
        {
         "line": {
          "color": "rgb(135, 18, 219)"
         },
         "mode": "lines",
         "name": "Drug use disorders (%)",
         "type": "scatter",
         "visible": false,
         "x": [
          2010,
          2011,
          2012,
          2013,
          2014,
          2015,
          2016,
          2017
         ],
         "y": [
          0.8285018617021277,
          0.8284025092592593,
          0.8213885238095239,
          0.8260931272727273,
          0.8420390869565217,
          0.8318616581196582,
          0.8340151652173913,
          0.810622025
         ]
        },
        {
         "line": {
          "color": "rgb(22, 245, 34)"
         },
         "mode": "lines",
         "name": "Depression (%)",
         "type": "scatter",
         "visible": false,
         "x": [
          2010,
          2011,
          2012,
          2013,
          2014,
          2015,
          2016,
          2017
         ],
         "y": [
          3.460453308510638,
          3.482798314814815,
          3.4434300095238095,
          3.4449099454545453,
          3.4211282521739133,
          3.4386017264957265,
          3.4570556,
          3.4389679833333333
         ]
        },
        {
         "line": {
          "color": "rgb(66, 64, 234)"
         },
         "mode": "lines",
         "name": "Alcohol use disorders (%)",
         "type": "scatter",
         "visible": false,
         "x": [
          2010,
          2011,
          2012,
          2013,
          2014,
          2015,
          2016,
          2017
         ],
         "y": [
          1.7202656702127659,
          1.6926608148148148,
          1.733549123809524,
          1.7534116545454546,
          1.7176145391304347,
          1.7075722136752136,
          1.7263321652173913,
          1.7157900916666666
         ]
        }
       ],
       "layout": {
        "autosize": true,
        "template": {
         "data": {
          "bar": [
           {
            "error_x": {
             "color": "#2a3f5f"
            },
            "error_y": {
             "color": "#2a3f5f"
            },
            "marker": {
             "line": {
              "color": "#E5ECF6",
              "width": 0.5
             },
             "pattern": {
              "fillmode": "overlay",
              "size": 10,
              "solidity": 0.2
             }
            },
            "type": "bar"
           }
          ],
          "barpolar": [
           {
            "marker": {
             "line": {
              "color": "#E5ECF6",
              "width": 0.5
             },
             "pattern": {
              "fillmode": "overlay",
              "size": 10,
              "solidity": 0.2
             }
            },
            "type": "barpolar"
           }
          ],
          "carpet": [
           {
            "aaxis": {
             "endlinecolor": "#2a3f5f",
             "gridcolor": "white",
             "linecolor": "white",
             "minorgridcolor": "white",
             "startlinecolor": "#2a3f5f"
            },
            "baxis": {
             "endlinecolor": "#2a3f5f",
             "gridcolor": "white",
             "linecolor": "white",
             "minorgridcolor": "white",
             "startlinecolor": "#2a3f5f"
            },
            "type": "carpet"
           }
          ],
          "choropleth": [
           {
            "colorbar": {
             "outlinewidth": 0,
             "ticks": ""
            },
            "type": "choropleth"
           }
          ],
          "contour": [
           {
            "colorbar": {
             "outlinewidth": 0,
             "ticks": ""
            },
            "colorscale": [
             [
              0,
              "#0d0887"
             ],
             [
              0.1111111111111111,
              "#46039f"
             ],
             [
              0.2222222222222222,
              "#7201a8"
             ],
             [
              0.3333333333333333,
              "#9c179e"
             ],
             [
              0.4444444444444444,
              "#bd3786"
             ],
             [
              0.5555555555555556,
              "#d8576b"
             ],
             [
              0.6666666666666666,
              "#ed7953"
             ],
             [
              0.7777777777777778,
              "#fb9f3a"
             ],
             [
              0.8888888888888888,
              "#fdca26"
             ],
             [
              1,
              "#f0f921"
             ]
            ],
            "type": "contour"
           }
          ],
          "contourcarpet": [
           {
            "colorbar": {
             "outlinewidth": 0,
             "ticks": ""
            },
            "type": "contourcarpet"
           }
          ],
          "heatmap": [
           {
            "colorbar": {
             "outlinewidth": 0,
             "ticks": ""
            },
            "colorscale": [
             [
              0,
              "#0d0887"
             ],
             [
              0.1111111111111111,
              "#46039f"
             ],
             [
              0.2222222222222222,
              "#7201a8"
             ],
             [
              0.3333333333333333,
              "#9c179e"
             ],
             [
              0.4444444444444444,
              "#bd3786"
             ],
             [
              0.5555555555555556,
              "#d8576b"
             ],
             [
              0.6666666666666666,
              "#ed7953"
             ],
             [
              0.7777777777777778,
              "#fb9f3a"
             ],
             [
              0.8888888888888888,
              "#fdca26"
             ],
             [
              1,
              "#f0f921"
             ]
            ],
            "type": "heatmap"
           }
          ],
          "heatmapgl": [
           {
            "colorbar": {
             "outlinewidth": 0,
             "ticks": ""
            },
            "colorscale": [
             [
              0,
              "#0d0887"
             ],
             [
              0.1111111111111111,
              "#46039f"
             ],
             [
              0.2222222222222222,
              "#7201a8"
             ],
             [
              0.3333333333333333,
              "#9c179e"
             ],
             [
              0.4444444444444444,
              "#bd3786"
             ],
             [
              0.5555555555555556,
              "#d8576b"
             ],
             [
              0.6666666666666666,
              "#ed7953"
             ],
             [
              0.7777777777777778,
              "#fb9f3a"
             ],
             [
              0.8888888888888888,
              "#fdca26"
             ],
             [
              1,
              "#f0f921"
             ]
            ],
            "type": "heatmapgl"
           }
          ],
          "histogram": [
           {
            "marker": {
             "pattern": {
              "fillmode": "overlay",
              "size": 10,
              "solidity": 0.2
             }
            },
            "type": "histogram"
           }
          ],
          "histogram2d": [
           {
            "colorbar": {
             "outlinewidth": 0,
             "ticks": ""
            },
            "colorscale": [
             [
              0,
              "#0d0887"
             ],
             [
              0.1111111111111111,
              "#46039f"
             ],
             [
              0.2222222222222222,
              "#7201a8"
             ],
             [
              0.3333333333333333,
              "#9c179e"
             ],
             [
              0.4444444444444444,
              "#bd3786"
             ],
             [
              0.5555555555555556,
              "#d8576b"
             ],
             [
              0.6666666666666666,
              "#ed7953"
             ],
             [
              0.7777777777777778,
              "#fb9f3a"
             ],
             [
              0.8888888888888888,
              "#fdca26"
             ],
             [
              1,
              "#f0f921"
             ]
            ],
            "type": "histogram2d"
           }
          ],
          "histogram2dcontour": [
           {
            "colorbar": {
             "outlinewidth": 0,
             "ticks": ""
            },
            "colorscale": [
             [
              0,
              "#0d0887"
             ],
             [
              0.1111111111111111,
              "#46039f"
             ],
             [
              0.2222222222222222,
              "#7201a8"
             ],
             [
              0.3333333333333333,
              "#9c179e"
             ],
             [
              0.4444444444444444,
              "#bd3786"
             ],
             [
              0.5555555555555556,
              "#d8576b"
             ],
             [
              0.6666666666666666,
              "#ed7953"
             ],
             [
              0.7777777777777778,
              "#fb9f3a"
             ],
             [
              0.8888888888888888,
              "#fdca26"
             ],
             [
              1,
              "#f0f921"
             ]
            ],
            "type": "histogram2dcontour"
           }
          ],
          "mesh3d": [
           {
            "colorbar": {
             "outlinewidth": 0,
             "ticks": ""
            },
            "type": "mesh3d"
           }
          ],
          "parcoords": [
           {
            "line": {
             "colorbar": {
              "outlinewidth": 0,
              "ticks": ""
             }
            },
            "type": "parcoords"
           }
          ],
          "pie": [
           {
            "automargin": true,
            "type": "pie"
           }
          ],
          "scatter": [
           {
            "fillpattern": {
             "fillmode": "overlay",
             "size": 10,
             "solidity": 0.2
            },
            "type": "scatter"
           }
          ],
          "scatter3d": [
           {
            "line": {
             "colorbar": {
              "outlinewidth": 0,
              "ticks": ""
             }
            },
            "marker": {
             "colorbar": {
              "outlinewidth": 0,
              "ticks": ""
             }
            },
            "type": "scatter3d"
           }
          ],
          "scattercarpet": [
           {
            "marker": {
             "colorbar": {
              "outlinewidth": 0,
              "ticks": ""
             }
            },
            "type": "scattercarpet"
           }
          ],
          "scattergeo": [
           {
            "marker": {
             "colorbar": {
              "outlinewidth": 0,
              "ticks": ""
             }
            },
            "type": "scattergeo"
           }
          ],
          "scattergl": [
           {
            "marker": {
             "colorbar": {
              "outlinewidth": 0,
              "ticks": ""
             }
            },
            "type": "scattergl"
           }
          ],
          "scattermapbox": [
           {
            "marker": {
             "colorbar": {
              "outlinewidth": 0,
              "ticks": ""
             }
            },
            "type": "scattermapbox"
           }
          ],
          "scatterpolar": [
           {
            "marker": {
             "colorbar": {
              "outlinewidth": 0,
              "ticks": ""
             }
            },
            "type": "scatterpolar"
           }
          ],
          "scatterpolargl": [
           {
            "marker": {
             "colorbar": {
              "outlinewidth": 0,
              "ticks": ""
             }
            },
            "type": "scatterpolargl"
           }
          ],
          "scatterternary": [
           {
            "marker": {
             "colorbar": {
              "outlinewidth": 0,
              "ticks": ""
             }
            },
            "type": "scatterternary"
           }
          ],
          "surface": [
           {
            "colorbar": {
             "outlinewidth": 0,
             "ticks": ""
            },
            "colorscale": [
             [
              0,
              "#0d0887"
             ],
             [
              0.1111111111111111,
              "#46039f"
             ],
             [
              0.2222222222222222,
              "#7201a8"
             ],
             [
              0.3333333333333333,
              "#9c179e"
             ],
             [
              0.4444444444444444,
              "#bd3786"
             ],
             [
              0.5555555555555556,
              "#d8576b"
             ],
             [
              0.6666666666666666,
              "#ed7953"
             ],
             [
              0.7777777777777778,
              "#fb9f3a"
             ],
             [
              0.8888888888888888,
              "#fdca26"
             ],
             [
              1,
              "#f0f921"
             ]
            ],
            "type": "surface"
           }
          ],
          "table": [
           {
            "cells": {
             "fill": {
              "color": "#EBF0F8"
             },
             "line": {
              "color": "white"
             }
            },
            "header": {
             "fill": {
              "color": "#C8D4E3"
             },
             "line": {
              "color": "white"
             }
            },
            "type": "table"
           }
          ]
         },
         "layout": {
          "annotationdefaults": {
           "arrowcolor": "#2a3f5f",
           "arrowhead": 0,
           "arrowwidth": 1
          },
          "autotypenumbers": "strict",
          "coloraxis": {
           "colorbar": {
            "outlinewidth": 0,
            "ticks": ""
           }
          },
          "colorscale": {
           "diverging": [
            [
             0,
             "#8e0152"
            ],
            [
             0.1,
             "#c51b7d"
            ],
            [
             0.2,
             "#de77ae"
            ],
            [
             0.3,
             "#f1b6da"
            ],
            [
             0.4,
             "#fde0ef"
            ],
            [
             0.5,
             "#f7f7f7"
            ],
            [
             0.6,
             "#e6f5d0"
            ],
            [
             0.7,
             "#b8e186"
            ],
            [
             0.8,
             "#7fbc41"
            ],
            [
             0.9,
             "#4d9221"
            ],
            [
             1,
             "#276419"
            ]
           ],
           "sequential": [
            [
             0,
             "#0d0887"
            ],
            [
             0.1111111111111111,
             "#46039f"
            ],
            [
             0.2222222222222222,
             "#7201a8"
            ],
            [
             0.3333333333333333,
             "#9c179e"
            ],
            [
             0.4444444444444444,
             "#bd3786"
            ],
            [
             0.5555555555555556,
             "#d8576b"
            ],
            [
             0.6666666666666666,
             "#ed7953"
            ],
            [
             0.7777777777777778,
             "#fb9f3a"
            ],
            [
             0.8888888888888888,
             "#fdca26"
            ],
            [
             1,
             "#f0f921"
            ]
           ],
           "sequentialminus": [
            [
             0,
             "#0d0887"
            ],
            [
             0.1111111111111111,
             "#46039f"
            ],
            [
             0.2222222222222222,
             "#7201a8"
            ],
            [
             0.3333333333333333,
             "#9c179e"
            ],
            [
             0.4444444444444444,
             "#bd3786"
            ],
            [
             0.5555555555555556,
             "#d8576b"
            ],
            [
             0.6666666666666666,
             "#ed7953"
            ],
            [
             0.7777777777777778,
             "#fb9f3a"
            ],
            [
             0.8888888888888888,
             "#fdca26"
            ],
            [
             1,
             "#f0f921"
            ]
           ]
          },
          "colorway": [
           "#636efa",
           "#EF553B",
           "#00cc96",
           "#ab63fa",
           "#FFA15A",
           "#19d3f3",
           "#FF6692",
           "#B6E880",
           "#FF97FF",
           "#FECB52"
          ],
          "font": {
           "color": "#2a3f5f"
          },
          "geo": {
           "bgcolor": "white",
           "lakecolor": "white",
           "landcolor": "#E5ECF6",
           "showlakes": true,
           "showland": true,
           "subunitcolor": "white"
          },
          "hoverlabel": {
           "align": "left"
          },
          "hovermode": "closest",
          "mapbox": {
           "style": "light"
          },
          "paper_bgcolor": "white",
          "plot_bgcolor": "#E5ECF6",
          "polar": {
           "angularaxis": {
            "gridcolor": "white",
            "linecolor": "white",
            "ticks": ""
           },
           "bgcolor": "#E5ECF6",
           "radialaxis": {
            "gridcolor": "white",
            "linecolor": "white",
            "ticks": ""
           }
          },
          "scene": {
           "xaxis": {
            "backgroundcolor": "#E5ECF6",
            "gridcolor": "white",
            "gridwidth": 2,
            "linecolor": "white",
            "showbackground": true,
            "ticks": "",
            "zerolinecolor": "white"
           },
           "yaxis": {
            "backgroundcolor": "#E5ECF6",
            "gridcolor": "white",
            "gridwidth": 2,
            "linecolor": "white",
            "showbackground": true,
            "ticks": "",
            "zerolinecolor": "white"
           },
           "zaxis": {
            "backgroundcolor": "#E5ECF6",
            "gridcolor": "white",
            "gridwidth": 2,
            "linecolor": "white",
            "showbackground": true,
            "ticks": "",
            "zerolinecolor": "white"
           }
          },
          "shapedefaults": {
           "line": {
            "color": "#2a3f5f"
           }
          },
          "ternary": {
           "aaxis": {
            "gridcolor": "white",
            "linecolor": "white",
            "ticks": ""
           },
           "baxis": {
            "gridcolor": "white",
            "linecolor": "white",
            "ticks": ""
           },
           "bgcolor": "#E5ECF6",
           "caxis": {
            "gridcolor": "white",
            "linecolor": "white",
            "ticks": ""
           }
          },
          "title": {
           "x": 0.05
          },
          "xaxis": {
           "automargin": true,
           "gridcolor": "white",
           "linecolor": "white",
           "ticks": "",
           "title": {
            "standoff": 15
           },
           "zerolinecolor": "white",
           "zerolinewidth": 2
          },
          "yaxis": {
           "automargin": true,
           "gridcolor": "white",
           "linecolor": "white",
           "ticks": "",
           "title": {
            "standoff": 15
           },
           "zerolinecolor": "white",
           "zerolinewidth": 2
          }
         }
        },
        "title": {
         "text": "Progression mental health, happiness, and GDP over the years"
        },
        "updatemenus": [
         {
          "buttons": [
           {
            "args": [
             {
              "visible": [
               true,
               false,
               false,
               false,
               false,
               false
              ]
             },
             {
              "title": "Life Ladder"
             }
            ],
            "label": "Life Ladder",
            "method": "update"
           },
           {
            "args": [
             {
              "visible": [
               false,
               true,
               false,
               false,
               false,
               false
              ]
             },
             {
              "title": "Log GDP Per Capita"
             }
            ],
            "label": "Log GDP Per Capita",
            "method": "update"
           },
           {
            "args": [
             {
              "visible": [
               false,
               false,
               true,
               false,
               false,
               false
              ]
             },
             {
              "title": "Anxiety disorders (%)"
             }
            ],
            "label": "Anxiety disorders (%)",
            "method": "update"
           },
           {
            "args": [
             {
              "visible": [
               false,
               false,
               false,
               true,
               false,
               false
              ]
             },
             {
              "title": "Drug use disorders (%)"
             }
            ],
            "label": "Drug use disorders (%)",
            "method": "update"
           },
           {
            "args": [
             {
              "visible": [
               false,
               false,
               false,
               false,
               true,
               false
              ]
             },
             {
              "title": "Depression (%)"
             }
            ],
            "label": "Depression (%)",
            "method": "update"
           },
           {
            "args": [
             {
              "visible": [
               false,
               false,
               false,
               false,
               false,
               true
              ]
             },
             {
              "title": "Alcohol use disorders (%)"
             }
            ],
            "label": "Alcohol use disorders (%)",
            "method": "update"
           }
          ],
          "direction": "down",
          "showactive": true
         }
        ],
        "xaxis": {
         "autorange": true,
         "range": [
          2010,
          2017
         ],
         "title": {
          "text": "Year"
         },
         "type": "linear"
        },
        "yaxis": {
         "autorange": true,
         "range": [
          5.420740458929895,
          5.568238725241091
         ],
         "title": {
          "text": "Strength"
         },
         "type": "linear"
        }
       }
      },
      "text/html": [
       "<div>                            <div id=\"43b43bb3-c4d5-4d1d-a81f-8bc3972d837f\" class=\"plotly-graph-div\" style=\"height:525px; width:100%;\"></div>            <script type=\"text/javascript\">                require([\"plotly\"], function(Plotly) {                    window.PLOTLYENV=window.PLOTLYENV || {};                                    if (document.getElementById(\"43b43bb3-c4d5-4d1d-a81f-8bc3972d837f\")) {                    Plotly.newPlot(                        \"43b43bb3-c4d5-4d1d-a81f-8bc3972d837f\",                        [{\"line\":{\"color\":\"rgb(235, 64, 52)\"},\"mode\":\"lines\",\"name\":\"Life Ladder\",\"x\":[2010.0,2011.0,2012.0,2013.0,2014.0,2015.0,2016.0,2017.0],\"y\":[5.560863811925532,5.451530021657407,5.486982702085715,5.428115372245455,5.447636345165217,5.430145373743589,5.430656530504348,5.514670523008333],\"type\":\"scatter\"},{\"line\":{\"color\":\"rgb(235, 231, 45)\"},\"mode\":\"lines\",\"name\":\"Log GDP Per Capita\",\"x\":[2010.0,2011.0,2012.0,2013.0,2014.0,2015.0,2016.0,2017.0],\"y\":[9.350572058765957,9.250415108777778,9.370522035533334,9.38426765959091,9.413191388930434,9.387671104119658,9.407031249913045,9.371536457633333],\"type\":\"scatter\",\"visible\":false},{\"line\":{\"color\":\"rgb(36, 64, 52)\"},\"mode\":\"lines\",\"name\":\"Anxiety disorders (%)\",\"x\":[2010.0,2011.0,2012.0,2013.0,2014.0,2015.0,2016.0,2017.0],\"y\":[3.9949569255319153,3.9793085462962967,3.9993627333333333,3.9765326636363634,4.025175243478261,4.018937341880342,4.016531652173913,3.9624704583333337],\"type\":\"scatter\",\"visible\":false},{\"line\":{\"color\":\"rgb(135, 18, 219)\"},\"mode\":\"lines\",\"name\":\"Drug use disorders (%)\",\"x\":[2010.0,2011.0,2012.0,2013.0,2014.0,2015.0,2016.0,2017.0],\"y\":[0.8285018617021277,0.8284025092592593,0.8213885238095239,0.8260931272727273,0.8420390869565217,0.8318616581196582,0.8340151652173913,0.810622025],\"type\":\"scatter\",\"visible\":false},{\"line\":{\"color\":\"rgb(22, 245, 34)\"},\"mode\":\"lines\",\"name\":\"Depression (%)\",\"x\":[2010.0,2011.0,2012.0,2013.0,2014.0,2015.0,2016.0,2017.0],\"y\":[3.460453308510638,3.482798314814815,3.4434300095238095,3.4449099454545453,3.4211282521739133,3.4386017264957265,3.4570556,3.4389679833333333],\"type\":\"scatter\",\"visible\":false},{\"line\":{\"color\":\"rgb(66, 64, 234)\"},\"mode\":\"lines\",\"name\":\"Alcohol use disorders (%)\",\"x\":[2010.0,2011.0,2012.0,2013.0,2014.0,2015.0,2016.0,2017.0],\"y\":[1.7202656702127659,1.6926608148148148,1.733549123809524,1.7534116545454546,1.7176145391304347,1.7075722136752136,1.7263321652173913,1.7157900916666666],\"type\":\"scatter\",\"visible\":false}],                        {\"template\":{\"data\":{\"histogram2dcontour\":[{\"type\":\"histogram2dcontour\",\"colorbar\":{\"outlinewidth\":0,\"ticks\":\"\"},\"colorscale\":[[0.0,\"#0d0887\"],[0.1111111111111111,\"#46039f\"],[0.2222222222222222,\"#7201a8\"],[0.3333333333333333,\"#9c179e\"],[0.4444444444444444,\"#bd3786\"],[0.5555555555555556,\"#d8576b\"],[0.6666666666666666,\"#ed7953\"],[0.7777777777777778,\"#fb9f3a\"],[0.8888888888888888,\"#fdca26\"],[1.0,\"#f0f921\"]]}],\"choropleth\":[{\"type\":\"choropleth\",\"colorbar\":{\"outlinewidth\":0,\"ticks\":\"\"}}],\"histogram2d\":[{\"type\":\"histogram2d\",\"colorbar\":{\"outlinewidth\":0,\"ticks\":\"\"},\"colorscale\":[[0.0,\"#0d0887\"],[0.1111111111111111,\"#46039f\"],[0.2222222222222222,\"#7201a8\"],[0.3333333333333333,\"#9c179e\"],[0.4444444444444444,\"#bd3786\"],[0.5555555555555556,\"#d8576b\"],[0.6666666666666666,\"#ed7953\"],[0.7777777777777778,\"#fb9f3a\"],[0.8888888888888888,\"#fdca26\"],[1.0,\"#f0f921\"]]}],\"heatmap\":[{\"type\":\"heatmap\",\"colorbar\":{\"outlinewidth\":0,\"ticks\":\"\"},\"colorscale\":[[0.0,\"#0d0887\"],[0.1111111111111111,\"#46039f\"],[0.2222222222222222,\"#7201a8\"],[0.3333333333333333,\"#9c179e\"],[0.4444444444444444,\"#bd3786\"],[0.5555555555555556,\"#d8576b\"],[0.6666666666666666,\"#ed7953\"],[0.7777777777777778,\"#fb9f3a\"],[0.8888888888888888,\"#fdca26\"],[1.0,\"#f0f921\"]]}],\"heatmapgl\":[{\"type\":\"heatmapgl\",\"colorbar\":{\"outlinewidth\":0,\"ticks\":\"\"},\"colorscale\":[[0.0,\"#0d0887\"],[0.1111111111111111,\"#46039f\"],[0.2222222222222222,\"#7201a8\"],[0.3333333333333333,\"#9c179e\"],[0.4444444444444444,\"#bd3786\"],[0.5555555555555556,\"#d8576b\"],[0.6666666666666666,\"#ed7953\"],[0.7777777777777778,\"#fb9f3a\"],[0.8888888888888888,\"#fdca26\"],[1.0,\"#f0f921\"]]}],\"contourcarpet\":[{\"type\":\"contourcarpet\",\"colorbar\":{\"outlinewidth\":0,\"ticks\":\"\"}}],\"contour\":[{\"type\":\"contour\",\"colorbar\":{\"outlinewidth\":0,\"ticks\":\"\"},\"colorscale\":[[0.0,\"#0d0887\"],[0.1111111111111111,\"#46039f\"],[0.2222222222222222,\"#7201a8\"],[0.3333333333333333,\"#9c179e\"],[0.4444444444444444,\"#bd3786\"],[0.5555555555555556,\"#d8576b\"],[0.6666666666666666,\"#ed7953\"],[0.7777777777777778,\"#fb9f3a\"],[0.8888888888888888,\"#fdca26\"],[1.0,\"#f0f921\"]]}],\"surface\":[{\"type\":\"surface\",\"colorbar\":{\"outlinewidth\":0,\"ticks\":\"\"},\"colorscale\":[[0.0,\"#0d0887\"],[0.1111111111111111,\"#46039f\"],[0.2222222222222222,\"#7201a8\"],[0.3333333333333333,\"#9c179e\"],[0.4444444444444444,\"#bd3786\"],[0.5555555555555556,\"#d8576b\"],[0.6666666666666666,\"#ed7953\"],[0.7777777777777778,\"#fb9f3a\"],[0.8888888888888888,\"#fdca26\"],[1.0,\"#f0f921\"]]}],\"mesh3d\":[{\"type\":\"mesh3d\",\"colorbar\":{\"outlinewidth\":0,\"ticks\":\"\"}}],\"scatter\":[{\"fillpattern\":{\"fillmode\":\"overlay\",\"size\":10,\"solidity\":0.2},\"type\":\"scatter\"}],\"parcoords\":[{\"type\":\"parcoords\",\"line\":{\"colorbar\":{\"outlinewidth\":0,\"ticks\":\"\"}}}],\"scatterpolargl\":[{\"type\":\"scatterpolargl\",\"marker\":{\"colorbar\":{\"outlinewidth\":0,\"ticks\":\"\"}}}],\"bar\":[{\"error_x\":{\"color\":\"#2a3f5f\"},\"error_y\":{\"color\":\"#2a3f5f\"},\"marker\":{\"line\":{\"color\":\"#E5ECF6\",\"width\":0.5},\"pattern\":{\"fillmode\":\"overlay\",\"size\":10,\"solidity\":0.2}},\"type\":\"bar\"}],\"scattergeo\":[{\"type\":\"scattergeo\",\"marker\":{\"colorbar\":{\"outlinewidth\":0,\"ticks\":\"\"}}}],\"scatterpolar\":[{\"type\":\"scatterpolar\",\"marker\":{\"colorbar\":{\"outlinewidth\":0,\"ticks\":\"\"}}}],\"histogram\":[{\"marker\":{\"pattern\":{\"fillmode\":\"overlay\",\"size\":10,\"solidity\":0.2}},\"type\":\"histogram\"}],\"scattergl\":[{\"type\":\"scattergl\",\"marker\":{\"colorbar\":{\"outlinewidth\":0,\"ticks\":\"\"}}}],\"scatter3d\":[{\"type\":\"scatter3d\",\"line\":{\"colorbar\":{\"outlinewidth\":0,\"ticks\":\"\"}},\"marker\":{\"colorbar\":{\"outlinewidth\":0,\"ticks\":\"\"}}}],\"scattermapbox\":[{\"type\":\"scattermapbox\",\"marker\":{\"colorbar\":{\"outlinewidth\":0,\"ticks\":\"\"}}}],\"scatterternary\":[{\"type\":\"scatterternary\",\"marker\":{\"colorbar\":{\"outlinewidth\":0,\"ticks\":\"\"}}}],\"scattercarpet\":[{\"type\":\"scattercarpet\",\"marker\":{\"colorbar\":{\"outlinewidth\":0,\"ticks\":\"\"}}}],\"carpet\":[{\"aaxis\":{\"endlinecolor\":\"#2a3f5f\",\"gridcolor\":\"white\",\"linecolor\":\"white\",\"minorgridcolor\":\"white\",\"startlinecolor\":\"#2a3f5f\"},\"baxis\":{\"endlinecolor\":\"#2a3f5f\",\"gridcolor\":\"white\",\"linecolor\":\"white\",\"minorgridcolor\":\"white\",\"startlinecolor\":\"#2a3f5f\"},\"type\":\"carpet\"}],\"table\":[{\"cells\":{\"fill\":{\"color\":\"#EBF0F8\"},\"line\":{\"color\":\"white\"}},\"header\":{\"fill\":{\"color\":\"#C8D4E3\"},\"line\":{\"color\":\"white\"}},\"type\":\"table\"}],\"barpolar\":[{\"marker\":{\"line\":{\"color\":\"#E5ECF6\",\"width\":0.5},\"pattern\":{\"fillmode\":\"overlay\",\"size\":10,\"solidity\":0.2}},\"type\":\"barpolar\"}],\"pie\":[{\"automargin\":true,\"type\":\"pie\"}]},\"layout\":{\"autotypenumbers\":\"strict\",\"colorway\":[\"#636efa\",\"#EF553B\",\"#00cc96\",\"#ab63fa\",\"#FFA15A\",\"#19d3f3\",\"#FF6692\",\"#B6E880\",\"#FF97FF\",\"#FECB52\"],\"font\":{\"color\":\"#2a3f5f\"},\"hovermode\":\"closest\",\"hoverlabel\":{\"align\":\"left\"},\"paper_bgcolor\":\"white\",\"plot_bgcolor\":\"#E5ECF6\",\"polar\":{\"bgcolor\":\"#E5ECF6\",\"angularaxis\":{\"gridcolor\":\"white\",\"linecolor\":\"white\",\"ticks\":\"\"},\"radialaxis\":{\"gridcolor\":\"white\",\"linecolor\":\"white\",\"ticks\":\"\"}},\"ternary\":{\"bgcolor\":\"#E5ECF6\",\"aaxis\":{\"gridcolor\":\"white\",\"linecolor\":\"white\",\"ticks\":\"\"},\"baxis\":{\"gridcolor\":\"white\",\"linecolor\":\"white\",\"ticks\":\"\"},\"caxis\":{\"gridcolor\":\"white\",\"linecolor\":\"white\",\"ticks\":\"\"}},\"coloraxis\":{\"colorbar\":{\"outlinewidth\":0,\"ticks\":\"\"}},\"colorscale\":{\"sequential\":[[0.0,\"#0d0887\"],[0.1111111111111111,\"#46039f\"],[0.2222222222222222,\"#7201a8\"],[0.3333333333333333,\"#9c179e\"],[0.4444444444444444,\"#bd3786\"],[0.5555555555555556,\"#d8576b\"],[0.6666666666666666,\"#ed7953\"],[0.7777777777777778,\"#fb9f3a\"],[0.8888888888888888,\"#fdca26\"],[1.0,\"#f0f921\"]],\"sequentialminus\":[[0.0,\"#0d0887\"],[0.1111111111111111,\"#46039f\"],[0.2222222222222222,\"#7201a8\"],[0.3333333333333333,\"#9c179e\"],[0.4444444444444444,\"#bd3786\"],[0.5555555555555556,\"#d8576b\"],[0.6666666666666666,\"#ed7953\"],[0.7777777777777778,\"#fb9f3a\"],[0.8888888888888888,\"#fdca26\"],[1.0,\"#f0f921\"]],\"diverging\":[[0,\"#8e0152\"],[0.1,\"#c51b7d\"],[0.2,\"#de77ae\"],[0.3,\"#f1b6da\"],[0.4,\"#fde0ef\"],[0.5,\"#f7f7f7\"],[0.6,\"#e6f5d0\"],[0.7,\"#b8e186\"],[0.8,\"#7fbc41\"],[0.9,\"#4d9221\"],[1,\"#276419\"]]},\"xaxis\":{\"gridcolor\":\"white\",\"linecolor\":\"white\",\"ticks\":\"\",\"title\":{\"standoff\":15},\"zerolinecolor\":\"white\",\"automargin\":true,\"zerolinewidth\":2},\"yaxis\":{\"gridcolor\":\"white\",\"linecolor\":\"white\",\"ticks\":\"\",\"title\":{\"standoff\":15},\"zerolinecolor\":\"white\",\"automargin\":true,\"zerolinewidth\":2},\"scene\":{\"xaxis\":{\"backgroundcolor\":\"#E5ECF6\",\"gridcolor\":\"white\",\"linecolor\":\"white\",\"showbackground\":true,\"ticks\":\"\",\"zerolinecolor\":\"white\",\"gridwidth\":2},\"yaxis\":{\"backgroundcolor\":\"#E5ECF6\",\"gridcolor\":\"white\",\"linecolor\":\"white\",\"showbackground\":true,\"ticks\":\"\",\"zerolinecolor\":\"white\",\"gridwidth\":2},\"zaxis\":{\"backgroundcolor\":\"#E5ECF6\",\"gridcolor\":\"white\",\"linecolor\":\"white\",\"showbackground\":true,\"ticks\":\"\",\"zerolinecolor\":\"white\",\"gridwidth\":2}},\"shapedefaults\":{\"line\":{\"color\":\"#2a3f5f\"}},\"annotationdefaults\":{\"arrowcolor\":\"#2a3f5f\",\"arrowhead\":0,\"arrowwidth\":1},\"geo\":{\"bgcolor\":\"white\",\"landcolor\":\"#E5ECF6\",\"subunitcolor\":\"white\",\"showland\":true,\"showlakes\":true,\"lakecolor\":\"white\"},\"title\":{\"x\":0.05},\"mapbox\":{\"style\":\"light\"}}},\"updatemenus\":[{\"buttons\":[{\"args\":[{\"visible\":[true,false,false,false,false,false]},{\"title\":\"Life Ladder\"}],\"label\":\"Life Ladder\",\"method\":\"update\"},{\"args\":[{\"visible\":[false,true,false,false,false,false]},{\"title\":\"Log GDP Per Capita\"}],\"label\":\"Log GDP Per Capita\",\"method\":\"update\"},{\"args\":[{\"visible\":[false,false,true,false,false,false]},{\"title\":\"Anxiety disorders (%)\"}],\"label\":\"Anxiety disorders (%)\",\"method\":\"update\"},{\"args\":[{\"visible\":[false,false,false,true,false,false]},{\"title\":\"Drug use disorders (%)\"}],\"label\":\"Drug use disorders (%)\",\"method\":\"update\"},{\"args\":[{\"visible\":[false,false,false,false,true,false]},{\"title\":\"Depression (%)\"}],\"label\":\"Depression (%)\",\"method\":\"update\"},{\"args\":[{\"visible\":[false,false,false,false,false,true]},{\"title\":\"Alcohol use disorders (%)\"}],\"label\":\"Alcohol use disorders (%)\",\"method\":\"update\"}],\"direction\":\"down\",\"showactive\":true}],\"title\":{\"text\":\"Progression mental health, happiness, and GDP over the years\"},\"xaxis\":{\"title\":{\"text\":\"Year\"}},\"yaxis\":{\"title\":{\"text\":\"Strength\"}}},                        {\"responsive\": true}                    ).then(function(){\n",
       "                            \n",
       "var gd = document.getElementById('43b43bb3-c4d5-4d1d-a81f-8bc3972d837f');\n",
       "var x = new MutationObserver(function (mutations, observer) {{\n",
       "        var display = window.getComputedStyle(gd).display;\n",
       "        if (!display || display === 'none') {{\n",
       "            console.log([gd, 'removed!']);\n",
       "            Plotly.purge(gd);\n",
       "            observer.disconnect();\n",
       "        }}\n",
       "}});\n",
       "\n",
       "// Listen for the removal of the full notebook cells\n",
       "var notebookContainer = gd.closest('#notebook-container');\n",
       "if (notebookContainer) {{\n",
       "    x.observe(notebookContainer, {childList: true});\n",
       "}}\n",
       "\n",
       "// Listen for the clearing of the current output cell\n",
       "var outputEl = gd.closest('.output');\n",
       "if (outputEl) {{\n",
       "    x.observe(outputEl, {childList: true});\n",
       "}}\n",
       "\n",
       "                        })                };                });            </script>        </div>"
      ]
     },
     "metadata": {},
     "output_type": "display_data"
    }
   ],
   "source": [
    "# reads the necessary modules/libraries\n",
    "import geopandas as gpd\n",
    "import pandas as pd\n",
    "import plotly.express as px\n",
    "import random\n",
    "import seaborn as sns\n",
    "import numpy as np\n",
    "import plotly.graph_objects as go\n",
    "\n",
    "# reads the required datasets and displays them\n",
    "world_happiness = pd.read_csv('World Happiness Report.csv')\n",
    "world_mental = pd.read_csv('Mental health Depression disorder Data.csv')\n",
    "world_mental.rename(columns={\"Entity\": \"Country Name\"}, inplace=True)\n",
    "\n",
    "# prepares the two datasets for their merging\n",
    "# by selecting their common year, 2017, and changing a column name\n",
    "world_happiness_2017 = world_happiness.loc[world_happiness['Year'] == 2017].copy().dropna()\n",
    "world_mental_2017 = world_mental.loc[world_mental['Year'] == '2017'].copy().drop('index', axis=1).dropna()\n",
    "world_mental_2017.rename(columns={\"Entity\": \"Country Name\"}, inplace=True)\n",
    "\n",
    "# merges the DataFrames, and displays them consequently\n",
    "df = pd.merge(world_happiness_2017, world_mental_2017, on=\"Country Name\", how='inner')\n",
    "\n",
    "\n",
    "# Convert the \"Year\" column to numeric values\n",
    "world_mental[\"Year\"] = pd.to_numeric(world_mental[\"Year\"], errors='coerce')\n",
    "\n",
    "# Drop any rows with NaN values in the \"Year\" column\n",
    "world_mental = world_mental.dropna(subset=[\"Year\"])\n",
    "\n",
    "# Convert the \"Year\" column to integers\n",
    "world_mental[\"Year\"] = world_mental[\"Year\"].astype(int)\n",
    "\n",
    "df_years = pd.merge(world_happiness, world_mental, on=[\"Country Name\", \"Year\"], how='inner').dropna()\n",
    "\n",
    "df_years.drop([\"Country Name\", \"Regional Indicator\", \"Code\", \"index\"], axis=1, inplace=True) \n",
    "\n",
    "\n",
    "\n",
    "df_years= df_years.astype(float)\n",
    "\n",
    "numeric_columns = df_years.select_dtypes(include='number')\n",
    "\n",
    "numeric_columns_years = df_years.select_dtypes(include='number')\n",
    "\n",
    "df_years_mean = df_years.groupby(['Year'])[numeric_columns_years.columns].mean()\n",
    "df_years_mean.drop([\"Year\"], axis=1, inplace=True) \n",
    "df_years_mean = df_years_mean.reset_index()\n",
    "\n",
    "df_years_mean.drop(df_years_mean[df_years_mean['Year'] < 2010].index, inplace = True)\n",
    "\n",
    "fig = go.Figure()\n",
    "\n",
    "hap_gdp_mental = [\"Life Ladder\", \"Log GDP Per Capita\", 'Anxiety disorders (%)', 'Drug use disorders (%)', 'Depression (%)', 'Alcohol use disorders (%)']\n",
    "\n",
    "fig.add_trace(go.Scatter(x=df_years_mean[\"Year\"], y=df_years_mean[\"Life Ladder\"], mode=\"lines\", name=\"Life Ladder\", line=dict(color=\"rgb(235, 64, 52)\")))\n",
    "fig.add_trace(go.Scatter(x=df_years_mean[\"Year\"], y=df_years_mean[\"Log GDP Per Capita\"], mode=\"lines\", name=\"Log GDP Per Capita\", line=dict(color=\"rgb(235, 231, 45)\")))\n",
    "fig.add_trace(go.Scatter(x=df_years_mean[\"Year\"], y=df_years_mean[\"Anxiety disorders (%)\"], mode=\"lines\", name=\"Anxiety disorders (%)\", line=dict(color=\"rgb(36, 64, 52)\")))\n",
    "fig.add_trace(go.Scatter(x=df_years_mean[\"Year\"], y=df_years_mean[\"Drug use disorders (%)\"], mode=\"lines\", name=\"Drug use disorders (%)\", line=dict(color=\"rgb(135, 18, 219)\")))\n",
    "fig.add_trace(go.Scatter(x=df_years_mean[\"Year\"], y=df_years_mean[\"Depression (%)\"], mode=\"lines\", name=\"Depression (%)\", line=dict(color=\"rgb(22, 245, 34)\")))\n",
    "fig.add_trace(go.Scatter(x=df_years_mean[\"Year\"], y=df_years_mean[\"Alcohol use disorders (%)\"], mode=\"lines\", name=\"Alcohol use disorders (%)\", line=dict(color=\"rgb(66, 64, 234)\")))\n",
    "# fig.add_trace(go.Scatter(x=df_years_mean[\"Year\"], y=df_years_mean[\"Schizophrenia (%)\"], mode=\"lines\", name=\"Schizophrenia (%)\"))\n",
    "# fig.add_trace(go.Scatter(x=df_years_mean[\"Year\"], y=df_years_mean[\"Bipolar disorder (%)\"], mode=\"lines\", name=\"Bipolar disorder (%)\"))\n",
    "# fig.add_trace(go.Scatter(x=df_years_mean[\"Year\"], y=df_years_mean[\"Eating disorders (%)\"], mode=\"lines\", name=\"Eating disorders (%)\"))\n",
    "\n",
    "\n",
    "# Only display the first bar plot initially\n",
    "for i in range(1, len(fig.data)):\n",
    "    fig.data[i].visible = False\n",
    "\n",
    "# Create a dropdown menu\n",
    "dropdown = [{\"label\": var, \"method\": \"update\",\n",
    "             \"args\": [{\"visible\": [j == i for j in range(len(hap_gdp_mental))]},\n",
    "                      {\"title\": var}]}\n",
    "            for i, var in enumerate(hap_gdp_mental)]\n",
    "\n",
    "# Customize the plot layout\n",
    "fig.update_layout(\n",
    "    updatemenus=[\n",
    "        go.layout.Updatemenu(\n",
    "            buttons=dropdown,\n",
    "            direction=\"down\",\n",
    "            showactive=True\n",
    "        ),\n",
    "    ],\n",
    "    title=\"Progression mental health, happiness, and GDP over the years\",\n",
    "    xaxis_title=\"Year\",\n",
    "    yaxis_title=\"Strength\",\n",
    ")\n",
    "\n",
    "fig.show()\n",
    "\n",
    "# # seeks a possible Pearson's correlation\n",
    "# print(\"The correlation between GDP per capita and Life Ladder is:\", \n",
    "#       df['Log GDP Per Capita'].corr(df['Life Ladder']) )\n",
    "\n",
    "# prepares the data for the creation of bar charts\n",
    "\n",
    "numeric_columns = df.select_dtypes(include='number')\n",
    "\n",
    "df_mean_year = df.groupby(['Regional Indicator'])[numeric_columns.columns].mean()\n",
    "df_mean_year = df_mean.reset_index()\n",
    "\n",
    "df_sum_year = df.groupby(['Regional Indicator'])[numeric_columns.columns].sum()\n",
    "df_sum_year = df_sum.reset_index()\n",
    "\n",
    "# displays the disorders as floats\n",
    "data_columns= [\n",
    "            'Bipolar disorder (%)','Schizophrenia (%)','Eating disorders (%)',\n",
    "            'Anxiety disorders (%)','Drug use disorders (%)','Depression (%)',\n",
    "            'Alcohol use disorders (%)'\n",
    "]\n",
    "\n",
    "df[data_columns]= df[data_columns].astype(float)"
   ]
  },
  {
   "cell_type": "code",
   "execution_count": 77,
   "id": "a24539e1-4d68-4173-be03-3fcb6b81092a",
   "metadata": {
    "editable": true,
    "slideshow": {
     "slide_type": ""
    },
    "tags": [
     "hide-input"
    ]
   },
   "outputs": [
    {
     "data": {
      "application/vnd.plotly.v1+json": {
       "config": {
        "plotlyServerURL": "https://plot.ly"
       },
       "data": [
        {
         "hovertemplate": "Country Name=Afghanistan<br>Life Ladder=%{x}<br>Eating disorders (%)=%{y}<extra></extra>",
         "legendgroup": "Afghanistan",
         "marker": {
          "color": "#636efa",
          "symbol": "circle"
         },
         "mode": "markers",
         "name": "Afghanistan",
         "orientation": "v",
         "showlegend": true,
         "type": "scatter",
         "x": [
          2.66171813
         ],
         "xaxis": "x",
         "y": [
          0.107142
         ],
         "yaxis": "y"
        },
        {
         "hovertemplate": "Country Name=Albania<br>Life Ladder=%{x}<br>Eating disorders (%)=%{y}<extra></extra>",
         "legendgroup": "Albania",
         "marker": {
          "color": "#EF553B",
          "symbol": "circle"
         },
         "mode": "markers",
         "name": "Albania",
         "orientation": "v",
         "showlegend": true,
         "type": "scatter",
         "x": [
          4.639548302
         ],
         "xaxis": "x",
         "y": [
          0.174046
         ],
         "yaxis": "y"
        },
        {
         "hovertemplate": "Country Name=Argentina<br>Life Ladder=%{x}<br>Eating disorders (%)=%{y}<extra></extra>",
         "legendgroup": "Argentina",
         "marker": {
          "color": "#00cc96",
          "symbol": "circle"
         },
         "mode": "markers",
         "name": "Argentina",
         "orientation": "v",
         "showlegend": true,
         "type": "scatter",
         "x": [
          6.039330006
         ],
         "xaxis": "x",
         "y": [
          0.404033
         ],
         "yaxis": "y"
        },
        {
         "hovertemplate": "Country Name=Armenia<br>Life Ladder=%{x}<br>Eating disorders (%)=%{y}<extra></extra>",
         "legendgroup": "Armenia",
         "marker": {
          "color": "#ab63fa",
          "symbol": "circle"
         },
         "mode": "markers",
         "name": "Armenia",
         "orientation": "v",
         "showlegend": true,
         "type": "scatter",
         "x": [
          4.287736416
         ],
         "xaxis": "x",
         "y": [
          0.167047
         ],
         "yaxis": "y"
        },
        {
         "hovertemplate": "Country Name=Australia<br>Life Ladder=%{x}<br>Eating disorders (%)=%{y}<extra></extra>",
         "legendgroup": "Australia",
         "marker": {
          "color": "#FFA15A",
          "symbol": "circle"
         },
         "mode": "markers",
         "name": "Australia",
         "orientation": "v",
         "showlegend": true,
         "type": "scatter",
         "x": [
          7.25703764
         ],
         "xaxis": "x",
         "y": [
          0.943081
         ],
         "yaxis": "y"
        },
        {
         "hovertemplate": "Country Name=Austria<br>Life Ladder=%{x}<br>Eating disorders (%)=%{y}<extra></extra>",
         "legendgroup": "Austria",
         "marker": {
          "color": "#19d3f3",
          "symbol": "circle"
         },
         "mode": "markers",
         "name": "Austria",
         "orientation": "v",
         "showlegend": true,
         "type": "scatter",
         "x": [
          7.293727875
         ],
         "xaxis": "x",
         "y": [
          0.675112
         ],
         "yaxis": "y"
        },
        {
         "hovertemplate": "Country Name=Azerbaijan<br>Life Ladder=%{x}<br>Eating disorders (%)=%{y}<extra></extra>",
         "legendgroup": "Azerbaijan",
         "marker": {
          "color": "#FF6692",
          "symbol": "circle"
         },
         "mode": "markers",
         "name": "Azerbaijan",
         "orientation": "v",
         "showlegend": true,
         "type": "scatter",
         "x": [
          5.152279377
         ],
         "xaxis": "x",
         "y": [
          0.204891
         ],
         "yaxis": "y"
        },
        {
         "hovertemplate": "Country Name=Bangladesh<br>Life Ladder=%{x}<br>Eating disorders (%)=%{y}<extra></extra>",
         "legendgroup": "Bangladesh",
         "marker": {
          "color": "#B6E880",
          "symbol": "circle"
         },
         "mode": "markers",
         "name": "Bangladesh",
         "orientation": "v",
         "showlegend": true,
         "type": "scatter",
         "x": [
          4.309771061
         ],
         "xaxis": "x",
         "y": [
          0.137974
         ],
         "yaxis": "y"
        },
        {
         "hovertemplate": "Country Name=Belarus<br>Life Ladder=%{x}<br>Eating disorders (%)=%{y}<extra></extra>",
         "legendgroup": "Belarus",
         "marker": {
          "color": "#FF97FF",
          "symbol": "circle"
         },
         "mode": "markers",
         "name": "Belarus",
         "orientation": "v",
         "showlegend": true,
         "type": "scatter",
         "x": [
          5.552915096
         ],
         "xaxis": "x",
         "y": [
          0.210693
         ],
         "yaxis": "y"
        },
        {
         "hovertemplate": "Country Name=Belgium<br>Life Ladder=%{x}<br>Eating disorders (%)=%{y}<extra></extra>",
         "legendgroup": "Belgium",
         "marker": {
          "color": "#FECB52",
          "symbol": "circle"
         },
         "mode": "markers",
         "name": "Belgium",
         "orientation": "v",
         "showlegend": true,
         "type": "scatter",
         "x": [
          6.928347588
         ],
         "xaxis": "x",
         "y": [
          0.603869
         ],
         "yaxis": "y"
        },
        {
         "hovertemplate": "Country Name=Benin<br>Life Ladder=%{x}<br>Eating disorders (%)=%{y}<extra></extra>",
         "legendgroup": "Benin",
         "marker": {
          "color": "#636efa",
          "symbol": "circle"
         },
         "mode": "markers",
         "name": "Benin",
         "orientation": "v",
         "showlegend": true,
         "type": "scatter",
         "x": [
          4.853180885
         ],
         "xaxis": "x",
         "y": [
          0.12029
         ],
         "yaxis": "y"
        },
        {
         "hovertemplate": "Country Name=Bolivia<br>Life Ladder=%{x}<br>Eating disorders (%)=%{y}<extra></extra>",
         "legendgroup": "Bolivia",
         "marker": {
          "color": "#EF553B",
          "symbol": "circle"
         },
         "mode": "markers",
         "name": "Bolivia",
         "orientation": "v",
         "showlegend": true,
         "type": "scatter",
         "x": [
          5.65055275
         ],
         "xaxis": "x",
         "y": [
          0.305251
         ],
         "yaxis": "y"
        },
        {
         "hovertemplate": "Country Name=Bosnia and Herzegovina<br>Life Ladder=%{x}<br>Eating disorders (%)=%{y}<extra></extra>",
         "legendgroup": "Bosnia and Herzegovina",
         "marker": {
          "color": "#00cc96",
          "symbol": "circle"
         },
         "mode": "markers",
         "name": "Bosnia and Herzegovina",
         "orientation": "v",
         "showlegend": true,
         "type": "scatter",
         "x": [
          5.089902401
         ],
         "xaxis": "x",
         "y": [
          0.172474
         ],
         "yaxis": "y"
        },
        {
         "hovertemplate": "Country Name=Botswana<br>Life Ladder=%{x}<br>Eating disorders (%)=%{y}<extra></extra>",
         "legendgroup": "Botswana",
         "marker": {
          "color": "#ab63fa",
          "symbol": "circle"
         },
         "mode": "markers",
         "name": "Botswana",
         "orientation": "v",
         "showlegend": true,
         "type": "scatter",
         "x": [
          3.504881144
         ],
         "xaxis": "x",
         "y": [
          0.227733
         ],
         "yaxis": "y"
        },
        {
         "hovertemplate": "Country Name=Brazil<br>Life Ladder=%{x}<br>Eating disorders (%)=%{y}<extra></extra>",
         "legendgroup": "Brazil",
         "marker": {
          "color": "#FFA15A",
          "symbol": "circle"
         },
         "mode": "markers",
         "name": "Brazil",
         "orientation": "v",
         "showlegend": true,
         "type": "scatter",
         "x": [
          6.332929134
         ],
         "xaxis": "x",
         "y": [
          0.277051
         ],
         "yaxis": "y"
        },
        {
         "hovertemplate": "Country Name=Bulgaria<br>Life Ladder=%{x}<br>Eating disorders (%)=%{y}<extra></extra>",
         "legendgroup": "Bulgaria",
         "marker": {
          "color": "#19d3f3",
          "symbol": "circle"
         },
         "mode": "markers",
         "name": "Bulgaria",
         "orientation": "v",
         "showlegend": true,
         "type": "scatter",
         "x": [
          5.096901894
         ],
         "xaxis": "x",
         "y": [
          0.202411
         ],
         "yaxis": "y"
        },
        {
         "hovertemplate": "Country Name=Burkina Faso<br>Life Ladder=%{x}<br>Eating disorders (%)=%{y}<extra></extra>",
         "legendgroup": "Burkina Faso",
         "marker": {
          "color": "#FF6692",
          "symbol": "circle"
         },
         "mode": "markers",
         "name": "Burkina Faso",
         "orientation": "v",
         "showlegend": true,
         "type": "scatter",
         "x": [
          4.646891117
         ],
         "xaxis": "x",
         "y": [
          0.113354
         ],
         "yaxis": "y"
        },
        {
         "hovertemplate": "Country Name=Cambodia<br>Life Ladder=%{x}<br>Eating disorders (%)=%{y}<extra></extra>",
         "legendgroup": "Cambodia",
         "marker": {
          "color": "#B6E880",
          "symbol": "circle"
         },
         "mode": "markers",
         "name": "Cambodia",
         "orientation": "v",
         "showlegend": true,
         "type": "scatter",
         "x": [
          4.585842133
         ],
         "xaxis": "x",
         "y": [
          0.108379
         ],
         "yaxis": "y"
        },
        {
         "hovertemplate": "Country Name=Cameroon<br>Life Ladder=%{x}<br>Eating disorders (%)=%{y}<extra></extra>",
         "legendgroup": "Cameroon",
         "marker": {
          "color": "#FF97FF",
          "symbol": "circle"
         },
         "mode": "markers",
         "name": "Cameroon",
         "orientation": "v",
         "showlegend": true,
         "type": "scatter",
         "x": [
          5.07405138
         ],
         "xaxis": "x",
         "y": [
          0.13379
         ],
         "yaxis": "y"
        },
        {
         "hovertemplate": "Country Name=Canada<br>Life Ladder=%{x}<br>Eating disorders (%)=%{y}<extra></extra>",
         "legendgroup": "Canada",
         "marker": {
          "color": "#FECB52",
          "symbol": "circle"
         },
         "mode": "markers",
         "name": "Canada",
         "orientation": "v",
         "showlegend": true,
         "type": "scatter",
         "x": [
          7.414868355
         ],
         "xaxis": "x",
         "y": [
          0.477304
         ],
         "yaxis": "y"
        },
        {
         "hovertemplate": "Country Name=Chad<br>Life Ladder=%{x}<br>Eating disorders (%)=%{y}<extra></extra>",
         "legendgroup": "Chad",
         "marker": {
          "color": "#636efa",
          "symbol": "circle"
         },
         "mode": "markers",
         "name": "Chad",
         "orientation": "v",
         "showlegend": true,
         "type": "scatter",
         "x": [
          4.558937073
         ],
         "xaxis": "x",
         "y": [
          0.122129
         ],
         "yaxis": "y"
        },
        {
         "hovertemplate": "Country Name=Chile<br>Life Ladder=%{x}<br>Eating disorders (%)=%{y}<extra></extra>",
         "legendgroup": "Chile",
         "marker": {
          "color": "#EF553B",
          "symbol": "circle"
         },
         "mode": "markers",
         "name": "Chile",
         "orientation": "v",
         "showlegend": true,
         "type": "scatter",
         "x": [
          6.320119381
         ],
         "xaxis": "x",
         "y": [
          0.416123
         ],
         "yaxis": "y"
        },
        {
         "hovertemplate": "Country Name=Colombia<br>Life Ladder=%{x}<br>Eating disorders (%)=%{y}<extra></extra>",
         "legendgroup": "Colombia",
         "marker": {
          "color": "#00cc96",
          "symbol": "circle"
         },
         "mode": "markers",
         "name": "Colombia",
         "orientation": "v",
         "showlegend": true,
         "type": "scatter",
         "x": [
          6.157341957
         ],
         "xaxis": "x",
         "y": [
          0.260257
         ],
         "yaxis": "y"
        },
        {
         "hovertemplate": "Country Name=Costa Rica<br>Life Ladder=%{x}<br>Eating disorders (%)=%{y}<extra></extra>",
         "legendgroup": "Costa Rica",
         "marker": {
          "color": "#ab63fa",
          "symbol": "circle"
         },
         "mode": "markers",
         "name": "Costa Rica",
         "orientation": "v",
         "showlegend": true,
         "type": "scatter",
         "x": [
          7.22518158
         ],
         "xaxis": "x",
         "y": [
          0.289342
         ],
         "yaxis": "y"
        },
        {
         "hovertemplate": "Country Name=Croatia<br>Life Ladder=%{x}<br>Eating disorders (%)=%{y}<extra></extra>",
         "legendgroup": "Croatia",
         "marker": {
          "color": "#FFA15A",
          "symbol": "circle"
         },
         "mode": "markers",
         "name": "Croatia",
         "orientation": "v",
         "showlegend": true,
         "type": "scatter",
         "x": [
          5.343165874
         ],
         "xaxis": "x",
         "y": [
          0.217975
         ],
         "yaxis": "y"
        },
        {
         "hovertemplate": "Country Name=Cyprus<br>Life Ladder=%{x}<br>Eating disorders (%)=%{y}<extra></extra>",
         "legendgroup": "Cyprus",
         "marker": {
          "color": "#19d3f3",
          "symbol": "circle"
         },
         "mode": "markers",
         "name": "Cyprus",
         "orientation": "v",
         "showlegend": true,
         "type": "scatter",
         "x": [
          6.062051296
         ],
         "xaxis": "x",
         "y": [
          0.506721
         ],
         "yaxis": "y"
        },
        {
         "hovertemplate": "Country Name=Denmark<br>Life Ladder=%{x}<br>Eating disorders (%)=%{y}<extra></extra>",
         "legendgroup": "Denmark",
         "marker": {
          "color": "#FF6692",
          "symbol": "circle"
         },
         "mode": "markers",
         "name": "Denmark",
         "orientation": "v",
         "showlegend": true,
         "type": "scatter",
         "x": [
          7.593702316
         ],
         "xaxis": "x",
         "y": [
          0.540025
         ],
         "yaxis": "y"
        },
        {
         "hovertemplate": "Country Name=Dominican Republic<br>Life Ladder=%{x}<br>Eating disorders (%)=%{y}<extra></extra>",
         "legendgroup": "Dominican Republic",
         "marker": {
          "color": "#B6E880",
          "symbol": "circle"
         },
         "mode": "markers",
         "name": "Dominican Republic",
         "orientation": "v",
         "showlegend": true,
         "type": "scatter",
         "x": [
          5.605202675
         ],
         "xaxis": "x",
         "y": [
          0.303058
         ],
         "yaxis": "y"
        },
        {
         "hovertemplate": "Country Name=Ecuador<br>Life Ladder=%{x}<br>Eating disorders (%)=%{y}<extra></extra>",
         "legendgroup": "Ecuador",
         "marker": {
          "color": "#FF97FF",
          "symbol": "circle"
         },
         "mode": "markers",
         "name": "Ecuador",
         "orientation": "v",
         "showlegend": true,
         "type": "scatter",
         "x": [
          5.839518547
         ],
         "xaxis": "x",
         "y": [
          0.363733
         ],
         "yaxis": "y"
        },
        {
         "hovertemplate": "Country Name=El Salvador<br>Life Ladder=%{x}<br>Eating disorders (%)=%{y}<extra></extra>",
         "legendgroup": "El Salvador",
         "marker": {
          "color": "#FECB52",
          "symbol": "circle"
         },
         "mode": "markers",
         "name": "El Salvador",
         "orientation": "v",
         "showlegend": true,
         "type": "scatter",
         "x": [
          6.339318275
         ],
         "xaxis": "x",
         "y": [
          0.243873
         ],
         "yaxis": "y"
        },
        {
         "hovertemplate": "Country Name=Estonia<br>Life Ladder=%{x}<br>Eating disorders (%)=%{y}<extra></extra>",
         "legendgroup": "Estonia",
         "marker": {
          "color": "#636efa",
          "symbol": "circle"
         },
         "mode": "markers",
         "name": "Estonia",
         "orientation": "v",
         "showlegend": true,
         "type": "scatter",
         "x": [
          5.938395977
         ],
         "xaxis": "x",
         "y": [
          0.250271
         ],
         "yaxis": "y"
        },
        {
         "hovertemplate": "Country Name=Ethiopia<br>Life Ladder=%{x}<br>Eating disorders (%)=%{y}<extra></extra>",
         "legendgroup": "Ethiopia",
         "marker": {
          "color": "#EF553B",
          "symbol": "circle"
         },
         "mode": "markers",
         "name": "Ethiopia",
         "orientation": "v",
         "showlegend": true,
         "type": "scatter",
         "x": [
          4.180315495
         ],
         "xaxis": "x",
         "y": [
          0.109817
         ],
         "yaxis": "y"
        },
        {
         "hovertemplate": "Country Name=Finland<br>Life Ladder=%{x}<br>Eating disorders (%)=%{y}<extra></extra>",
         "legendgroup": "Finland",
         "marker": {
          "color": "#00cc96",
          "symbol": "circle"
         },
         "mode": "markers",
         "name": "Finland",
         "orientation": "v",
         "showlegend": true,
         "type": "scatter",
         "x": [
          7.788251877
         ],
         "xaxis": "x",
         "y": [
          0.594938
         ],
         "yaxis": "y"
        },
        {
         "hovertemplate": "Country Name=France<br>Life Ladder=%{x}<br>Eating disorders (%)=%{y}<extra></extra>",
         "legendgroup": "France",
         "marker": {
          "color": "#ab63fa",
          "symbol": "circle"
         },
         "mode": "markers",
         "name": "France",
         "orientation": "v",
         "showlegend": true,
         "type": "scatter",
         "x": [
          6.635222435
         ],
         "xaxis": "x",
         "y": [
          0.573755
         ],
         "yaxis": "y"
        },
        {
         "hovertemplate": "Country Name=Gabon<br>Life Ladder=%{x}<br>Eating disorders (%)=%{y}<extra></extra>",
         "legendgroup": "Gabon",
         "marker": {
          "color": "#FFA15A",
          "symbol": "circle"
         },
         "mode": "markers",
         "name": "Gabon",
         "orientation": "v",
         "showlegend": true,
         "type": "scatter",
         "x": [
          4.782382965
         ],
         "xaxis": "x",
         "y": [
          0.226577
         ],
         "yaxis": "y"
        },
        {
         "hovertemplate": "Country Name=Gambia<br>Life Ladder=%{x}<br>Eating disorders (%)=%{y}<extra></extra>",
         "legendgroup": "Gambia",
         "marker": {
          "color": "#19d3f3",
          "symbol": "circle"
         },
         "mode": "markers",
         "name": "Gambia",
         "orientation": "v",
         "showlegend": true,
         "type": "scatter",
         "x": [
          4.117938995
         ],
         "xaxis": "x",
         "y": [
          0.113298
         ],
         "yaxis": "y"
        },
        {
         "hovertemplate": "Country Name=Georgia<br>Life Ladder=%{x}<br>Eating disorders (%)=%{y}<extra></extra>",
         "legendgroup": "Georgia",
         "marker": {
          "color": "#FF6692",
          "symbol": "circle"
         },
         "mode": "markers",
         "name": "Georgia",
         "orientation": "v",
         "showlegend": true,
         "type": "scatter",
         "x": [
          4.45077467
         ],
         "xaxis": "x",
         "y": [
          0.17164
         ],
         "yaxis": "y"
        },
        {
         "hovertemplate": "Country Name=Germany<br>Life Ladder=%{x}<br>Eating disorders (%)=%{y}<extra></extra>",
         "legendgroup": "Germany",
         "marker": {
          "color": "#B6E880",
          "symbol": "circle"
         },
         "mode": "markers",
         "name": "Germany",
         "orientation": "v",
         "showlegend": true,
         "type": "scatter",
         "x": [
          7.074324608
         ],
         "xaxis": "x",
         "y": [
          0.522066
         ],
         "yaxis": "y"
        },
        {
         "hovertemplate": "Country Name=Ghana<br>Life Ladder=%{x}<br>Eating disorders (%)=%{y}<extra></extra>",
         "legendgroup": "Ghana",
         "marker": {
          "color": "#FF97FF",
          "symbol": "circle"
         },
         "mode": "markers",
         "name": "Ghana",
         "orientation": "v",
         "showlegend": true,
         "type": "scatter",
         "x": [
          5.481310844
         ],
         "xaxis": "x",
         "y": [
          0.147452
         ],
         "yaxis": "y"
        },
        {
         "hovertemplate": "Country Name=Greece<br>Life Ladder=%{x}<br>Eating disorders (%)=%{y}<extra></extra>",
         "legendgroup": "Greece",
         "marker": {
          "color": "#FECB52",
          "symbol": "circle"
         },
         "mode": "markers",
         "name": "Greece",
         "orientation": "v",
         "showlegend": true,
         "type": "scatter",
         "x": [
          5.14824152
         ],
         "xaxis": "x",
         "y": [
          0.559324
         ],
         "yaxis": "y"
        },
        {
         "hovertemplate": "Country Name=Guatemala<br>Life Ladder=%{x}<br>Eating disorders (%)=%{y}<extra></extra>",
         "legendgroup": "Guatemala",
         "marker": {
          "color": "#636efa",
          "symbol": "circle"
         },
         "mode": "markers",
         "name": "Guatemala",
         "orientation": "v",
         "showlegend": true,
         "type": "scatter",
         "x": [
          6.325118542
         ],
         "xaxis": "x",
         "y": [
          0.23211
         ],
         "yaxis": "y"
        },
        {
         "hovertemplate": "Country Name=Guinea<br>Life Ladder=%{x}<br>Eating disorders (%)=%{y}<extra></extra>",
         "legendgroup": "Guinea",
         "marker": {
          "color": "#EF553B",
          "symbol": "circle"
         },
         "mode": "markers",
         "name": "Guinea",
         "orientation": "v",
         "showlegend": true,
         "type": "scatter",
         "x": [
          4.873722553
         ],
         "xaxis": "x",
         "y": [
          0.112388
         ],
         "yaxis": "y"
        },
        {
         "hovertemplate": "Country Name=Haiti<br>Life Ladder=%{x}<br>Eating disorders (%)=%{y}<extra></extra>",
         "legendgroup": "Haiti",
         "marker": {
          "color": "#00cc96",
          "symbol": "circle"
         },
         "mode": "markers",
         "name": "Haiti",
         "orientation": "v",
         "showlegend": true,
         "type": "scatter",
         "x": [
          3.823865652
         ],
         "xaxis": "x",
         "y": [
          0.16079
         ],
         "yaxis": "y"
        },
        {
         "hovertemplate": "Country Name=Honduras<br>Life Ladder=%{x}<br>Eating disorders (%)=%{y}<extra></extra>",
         "legendgroup": "Honduras",
         "marker": {
          "color": "#ab63fa",
          "symbol": "circle"
         },
         "mode": "markers",
         "name": "Honduras",
         "orientation": "v",
         "showlegend": true,
         "type": "scatter",
         "x": [
          6.019985676
         ],
         "xaxis": "x",
         "y": [
          0.203339
         ],
         "yaxis": "y"
        },
        {
         "hovertemplate": "Country Name=Hungary<br>Life Ladder=%{x}<br>Eating disorders (%)=%{y}<extra></extra>",
         "legendgroup": "Hungary",
         "marker": {
          "color": "#FFA15A",
          "symbol": "circle"
         },
         "mode": "markers",
         "name": "Hungary",
         "orientation": "v",
         "showlegend": true,
         "type": "scatter",
         "x": [
          6.065038681
         ],
         "xaxis": "x",
         "y": [
          0.237686
         ],
         "yaxis": "y"
        },
        {
         "hovertemplate": "Country Name=Iceland<br>Life Ladder=%{x}<br>Eating disorders (%)=%{y}<extra></extra>",
         "legendgroup": "Iceland",
         "marker": {
          "color": "#19d3f3",
          "symbol": "circle"
         },
         "mode": "markers",
         "name": "Iceland",
         "orientation": "v",
         "showlegend": true,
         "type": "scatter",
         "x": [
          7.476213932
         ],
         "xaxis": "x",
         "y": [
          0.558014
         ],
         "yaxis": "y"
        },
        {
         "hovertemplate": "Country Name=India<br>Life Ladder=%{x}<br>Eating disorders (%)=%{y}<extra></extra>",
         "legendgroup": "India",
         "marker": {
          "color": "#FF6692",
          "symbol": "circle"
         },
         "mode": "markers",
         "name": "India",
         "orientation": "v",
         "showlegend": true,
         "type": "scatter",
         "x": [
          4.046111107
         ],
         "xaxis": "x",
         "y": [
          0.157758
         ],
         "yaxis": "y"
        },
        {
         "hovertemplate": "Country Name=Indonesia<br>Life Ladder=%{x}<br>Eating disorders (%)=%{y}<extra></extra>",
         "legendgroup": "Indonesia",
         "marker": {
          "color": "#B6E880",
          "symbol": "circle"
         },
         "mode": "markers",
         "name": "Indonesia",
         "orientation": "v",
         "showlegend": true,
         "type": "scatter",
         "x": [
          5.098401546
         ],
         "xaxis": "x",
         "y": [
          0.148782
         ],
         "yaxis": "y"
        },
        {
         "hovertemplate": "Country Name=Iraq<br>Life Ladder=%{x}<br>Eating disorders (%)=%{y}<extra></extra>",
         "legendgroup": "Iraq",
         "marker": {
          "color": "#FF97FF",
          "symbol": "circle"
         },
         "mode": "markers",
         "name": "Iraq",
         "orientation": "v",
         "showlegend": true,
         "type": "scatter",
         "x": [
          4.462399006
         ],
         "xaxis": "x",
         "y": [
          0.208672
         ],
         "yaxis": "y"
        },
        {
         "hovertemplate": "Country Name=Ireland<br>Life Ladder=%{x}<br>Eating disorders (%)=%{y}<extra></extra>",
         "legendgroup": "Ireland",
         "marker": {
          "color": "#FECB52",
          "symbol": "circle"
         },
         "mode": "markers",
         "name": "Ireland",
         "orientation": "v",
         "showlegend": true,
         "type": "scatter",
         "x": [
          7.060155392
         ],
         "xaxis": "x",
         "y": [
          0.559995
         ],
         "yaxis": "y"
        },
        {
         "hovertemplate": "Country Name=Israel<br>Life Ladder=%{x}<br>Eating disorders (%)=%{y}<extra></extra>",
         "legendgroup": "Israel",
         "marker": {
          "color": "#636efa",
          "symbol": "circle"
         },
         "mode": "markers",
         "name": "Israel",
         "orientation": "v",
         "showlegend": true,
         "type": "scatter",
         "x": [
          7.331036091
         ],
         "xaxis": "x",
         "y": [
          0.461175
         ],
         "yaxis": "y"
        },
        {
         "hovertemplate": "Country Name=Italy<br>Life Ladder=%{x}<br>Eating disorders (%)=%{y}<extra></extra>",
         "legendgroup": "Italy",
         "marker": {
          "color": "#EF553B",
          "symbol": "circle"
         },
         "mode": "markers",
         "name": "Italy",
         "orientation": "v",
         "showlegend": true,
         "type": "scatter",
         "x": [
          6.198870182
         ],
         "xaxis": "x",
         "y": [
          0.626784
         ],
         "yaxis": "y"
        },
        {
         "hovertemplate": "Country Name=Jamaica<br>Life Ladder=%{x}<br>Eating disorders (%)=%{y}<extra></extra>",
         "legendgroup": "Jamaica",
         "marker": {
          "color": "#00cc96",
          "symbol": "circle"
         },
         "mode": "markers",
         "name": "Jamaica",
         "orientation": "v",
         "showlegend": true,
         "type": "scatter",
         "x": [
          5.889759064
         ],
         "xaxis": "x",
         "y": [
          0.25965
         ],
         "yaxis": "y"
        },
        {
         "hovertemplate": "Country Name=Japan<br>Life Ladder=%{x}<br>Eating disorders (%)=%{y}<extra></extra>",
         "legendgroup": "Japan",
         "marker": {
          "color": "#ab63fa",
          "symbol": "circle"
         },
         "mode": "markers",
         "name": "Japan",
         "orientation": "v",
         "showlegend": true,
         "type": "scatter",
         "x": [
          5.910676479
         ],
         "xaxis": "x",
         "y": [
          0.454379
         ],
         "yaxis": "y"
        },
        {
         "hovertemplate": "Country Name=Kazakhstan<br>Life Ladder=%{x}<br>Eating disorders (%)=%{y}<extra></extra>",
         "legendgroup": "Kazakhstan",
         "marker": {
          "color": "#FFA15A",
          "symbol": "circle"
         },
         "mode": "markers",
         "name": "Kazakhstan",
         "orientation": "v",
         "showlegend": true,
         "type": "scatter",
         "x": [
          5.882351398
         ],
         "xaxis": "x",
         "y": [
          0.227918
         ],
         "yaxis": "y"
        },
        {
         "hovertemplate": "Country Name=Kenya<br>Life Ladder=%{x}<br>Eating disorders (%)=%{y}<extra></extra>",
         "legendgroup": "Kenya",
         "marker": {
          "color": "#19d3f3",
          "symbol": "circle"
         },
         "mode": "markers",
         "name": "Kenya",
         "orientation": "v",
         "showlegend": true,
         "type": "scatter",
         "x": [
          4.475654125
         ],
         "xaxis": "x",
         "y": [
          0.135005
         ],
         "yaxis": "y"
        },
        {
         "hovertemplate": "Country Name=Kyrgyzstan<br>Life Ladder=%{x}<br>Eating disorders (%)=%{y}<extra></extra>",
         "legendgroup": "Kyrgyzstan",
         "marker": {
          "color": "#FF6692",
          "symbol": "circle"
         },
         "mode": "markers",
         "name": "Kyrgyzstan",
         "orientation": "v",
         "showlegend": true,
         "type": "scatter",
         "x": [
          5.629536629
         ],
         "xaxis": "x",
         "y": [
          0.127525
         ],
         "yaxis": "y"
        },
        {
         "hovertemplate": "Country Name=Laos<br>Life Ladder=%{x}<br>Eating disorders (%)=%{y}<extra></extra>",
         "legendgroup": "Laos",
         "marker": {
          "color": "#B6E880",
          "symbol": "circle"
         },
         "mode": "markers",
         "name": "Laos",
         "orientation": "v",
         "showlegend": true,
         "type": "scatter",
         "x": [
          4.623140812
         ],
         "xaxis": "x",
         "y": [
          0.128172
         ],
         "yaxis": "y"
        },
        {
         "hovertemplate": "Country Name=Latvia<br>Life Ladder=%{x}<br>Eating disorders (%)=%{y}<extra></extra>",
         "legendgroup": "Latvia",
         "marker": {
          "color": "#FF97FF",
          "symbol": "circle"
         },
         "mode": "markers",
         "name": "Latvia",
         "orientation": "v",
         "showlegend": true,
         "type": "scatter",
         "x": [
          5.977817535
         ],
         "xaxis": "x",
         "y": [
          0.225275
         ],
         "yaxis": "y"
        },
        {
         "hovertemplate": "Country Name=Lebanon<br>Life Ladder=%{x}<br>Eating disorders (%)=%{y}<extra></extra>",
         "legendgroup": "Lebanon",
         "marker": {
          "color": "#FECB52",
          "symbol": "circle"
         },
         "mode": "markers",
         "name": "Lebanon",
         "orientation": "v",
         "showlegend": true,
         "type": "scatter",
         "x": [
          5.153989792
         ],
         "xaxis": "x",
         "y": [
          0.219049
         ],
         "yaxis": "y"
        },
        {
         "hovertemplate": "Country Name=Lesotho<br>Life Ladder=%{x}<br>Eating disorders (%)=%{y}<extra></extra>",
         "legendgroup": "Lesotho",
         "marker": {
          "color": "#636efa",
          "symbol": "circle"
         },
         "mode": "markers",
         "name": "Lesotho",
         "orientation": "v",
         "showlegend": true,
         "type": "scatter",
         "x": [
          3.795300722
         ],
         "xaxis": "x",
         "y": [
          0.136801
         ],
         "yaxis": "y"
        },
        {
         "hovertemplate": "Country Name=Liberia<br>Life Ladder=%{x}<br>Eating disorders (%)=%{y}<extra></extra>",
         "legendgroup": "Liberia",
         "marker": {
          "color": "#EF553B",
          "symbol": "circle"
         },
         "mode": "markers",
         "name": "Liberia",
         "orientation": "v",
         "showlegend": true,
         "type": "scatter",
         "x": [
          4.424490929
         ],
         "xaxis": "x",
         "y": [
          0.091591
         ],
         "yaxis": "y"
        },
        {
         "hovertemplate": "Country Name=Lithuania<br>Life Ladder=%{x}<br>Eating disorders (%)=%{y}<extra></extra>",
         "legendgroup": "Lithuania",
         "marker": {
          "color": "#00cc96",
          "symbol": "circle"
         },
         "mode": "markers",
         "name": "Lithuania",
         "orientation": "v",
         "showlegend": true,
         "type": "scatter",
         "x": [
          6.272940636
         ],
         "xaxis": "x",
         "y": [
          0.234095
         ],
         "yaxis": "y"
        },
        {
         "hovertemplate": "Country Name=Luxembourg<br>Life Ladder=%{x}<br>Eating disorders (%)=%{y}<extra></extra>",
         "legendgroup": "Luxembourg",
         "marker": {
          "color": "#ab63fa",
          "symbol": "circle"
         },
         "mode": "markers",
         "name": "Luxembourg",
         "orientation": "v",
         "showlegend": true,
         "type": "scatter",
         "x": [
          7.061380863
         ],
         "xaxis": "x",
         "y": [
          0.737917
         ],
         "yaxis": "y"
        },
        {
         "hovertemplate": "Country Name=Madagascar<br>Life Ladder=%{x}<br>Eating disorders (%)=%{y}<extra></extra>",
         "legendgroup": "Madagascar",
         "marker": {
          "color": "#FFA15A",
          "symbol": "circle"
         },
         "mode": "markers",
         "name": "Madagascar",
         "orientation": "v",
         "showlegend": true,
         "type": "scatter",
         "x": [
          4.078620434
         ],
         "xaxis": "x",
         "y": [
          0.106417
         ],
         "yaxis": "y"
        },
        {
         "hovertemplate": "Country Name=Malawi<br>Life Ladder=%{x}<br>Eating disorders (%)=%{y}<extra></extra>",
         "legendgroup": "Malawi",
         "marker": {
          "color": "#19d3f3",
          "symbol": "circle"
         },
         "mode": "markers",
         "name": "Malawi",
         "orientation": "v",
         "showlegend": true,
         "type": "scatter",
         "x": [
          3.416862965
         ],
         "xaxis": "x",
         "y": [
          0.100349
         ],
         "yaxis": "y"
        },
        {
         "hovertemplate": "Country Name=Mali<br>Life Ladder=%{x}<br>Eating disorders (%)=%{y}<extra></extra>",
         "legendgroup": "Mali",
         "marker": {
          "color": "#FF6692",
          "symbol": "circle"
         },
         "mode": "markers",
         "name": "Mali",
         "orientation": "v",
         "showlegend": true,
         "type": "scatter",
         "x": [
          4.741850376
         ],
         "xaxis": "x",
         "y": [
          0.116675
         ],
         "yaxis": "y"
        },
        {
         "hovertemplate": "Country Name=Malta<br>Life Ladder=%{x}<br>Eating disorders (%)=%{y}<extra></extra>",
         "legendgroup": "Malta",
         "marker": {
          "color": "#B6E880",
          "symbol": "circle"
         },
         "mode": "markers",
         "name": "Malta",
         "orientation": "v",
         "showlegend": true,
         "type": "scatter",
         "x": [
          6.675665855
         ],
         "xaxis": "x",
         "y": [
          0.51914
         ],
         "yaxis": "y"
        },
        {
         "hovertemplate": "Country Name=Mauritania<br>Life Ladder=%{x}<br>Eating disorders (%)=%{y}<extra></extra>",
         "legendgroup": "Mauritania",
         "marker": {
          "color": "#FF97FF",
          "symbol": "circle"
         },
         "mode": "markers",
         "name": "Mauritania",
         "orientation": "v",
         "showlegend": true,
         "type": "scatter",
         "x": [
          4.678159714
         ],
         "xaxis": "x",
         "y": [
          0.145276
         ],
         "yaxis": "y"
        },
        {
         "hovertemplate": "Country Name=Mauritius<br>Life Ladder=%{x}<br>Eating disorders (%)=%{y}<extra></extra>",
         "legendgroup": "Mauritius",
         "marker": {
          "color": "#FECB52",
          "symbol": "circle"
         },
         "mode": "markers",
         "name": "Mauritius",
         "orientation": "v",
         "showlegend": true,
         "type": "scatter",
         "x": [
          6.174117565
         ],
         "xaxis": "x",
         "y": [
          0.184433
         ],
         "yaxis": "y"
        },
        {
         "hovertemplate": "Country Name=Mexico<br>Life Ladder=%{x}<br>Eating disorders (%)=%{y}<extra></extra>",
         "legendgroup": "Mexico",
         "marker": {
          "color": "#636efa",
          "symbol": "circle"
         },
         "mode": "markers",
         "name": "Mexico",
         "orientation": "v",
         "showlegend": true,
         "type": "scatter",
         "x": [
          6.410299301
         ],
         "xaxis": "x",
         "y": [
          0.316975
         ],
         "yaxis": "y"
        },
        {
         "hovertemplate": "Country Name=Moldova<br>Life Ladder=%{x}<br>Eating disorders (%)=%{y}<extra></extra>",
         "legendgroup": "Moldova",
         "marker": {
          "color": "#EF553B",
          "symbol": "circle"
         },
         "mode": "markers",
         "name": "Moldova",
         "orientation": "v",
         "showlegend": true,
         "type": "scatter",
         "x": [
          5.325530529
         ],
         "xaxis": "x",
         "y": [
          0.141701
         ],
         "yaxis": "y"
        },
        {
         "hovertemplate": "Country Name=Mongolia<br>Life Ladder=%{x}<br>Eating disorders (%)=%{y}<extra></extra>",
         "legendgroup": "Mongolia",
         "marker": {
          "color": "#00cc96",
          "symbol": "circle"
         },
         "mode": "markers",
         "name": "Mongolia",
         "orientation": "v",
         "showlegend": true,
         "type": "scatter",
         "x": [
          5.333850384
         ],
         "xaxis": "x",
         "y": [
          0.180157
         ],
         "yaxis": "y"
        },
        {
         "hovertemplate": "Country Name=Montenegro<br>Life Ladder=%{x}<br>Eating disorders (%)=%{y}<extra></extra>",
         "legendgroup": "Montenegro",
         "marker": {
          "color": "#ab63fa",
          "symbol": "circle"
         },
         "mode": "markers",
         "name": "Montenegro",
         "orientation": "v",
         "showlegend": true,
         "type": "scatter",
         "x": [
          5.614798546
         ],
         "xaxis": "x",
         "y": [
          0.194161
         ],
         "yaxis": "y"
        },
        {
         "hovertemplate": "Country Name=Mozambique<br>Life Ladder=%{x}<br>Eating disorders (%)=%{y}<extra></extra>",
         "legendgroup": "Mozambique",
         "marker": {
          "color": "#FFA15A",
          "symbol": "circle"
         },
         "mode": "markers",
         "name": "Mozambique",
         "orientation": "v",
         "showlegend": true,
         "type": "scatter",
         "x": [
          4.279863358
         ],
         "xaxis": "x",
         "y": [
          0.103227
         ],
         "yaxis": "y"
        },
        {
         "hovertemplate": "Country Name=Myanmar<br>Life Ladder=%{x}<br>Eating disorders (%)=%{y}<extra></extra>",
         "legendgroup": "Myanmar",
         "marker": {
          "color": "#19d3f3",
          "symbol": "circle"
         },
         "mode": "markers",
         "name": "Myanmar",
         "orientation": "v",
         "showlegend": true,
         "type": "scatter",
         "x": [
          4.154341698
         ],
         "xaxis": "x",
         "y": [
          0.125738
         ],
         "yaxis": "y"
        },
        {
         "hovertemplate": "Country Name=Namibia<br>Life Ladder=%{x}<br>Eating disorders (%)=%{y}<extra></extra>",
         "legendgroup": "Namibia",
         "marker": {
          "color": "#FF6692",
          "symbol": "circle"
         },
         "mode": "markers",
         "name": "Namibia",
         "orientation": "v",
         "showlegend": true,
         "type": "scatter",
         "x": [
          4.441306114
         ],
         "xaxis": "x",
         "y": [
          0.200987
         ],
         "yaxis": "y"
        },
        {
         "hovertemplate": "Country Name=Nepal<br>Life Ladder=%{x}<br>Eating disorders (%)=%{y}<extra></extra>",
         "legendgroup": "Nepal",
         "marker": {
          "color": "#B6E880",
          "symbol": "circle"
         },
         "mode": "markers",
         "name": "Nepal",
         "orientation": "v",
         "showlegend": true,
         "type": "scatter",
         "x": [
          4.736692429
         ],
         "xaxis": "x",
         "y": [
          0.128495
         ],
         "yaxis": "y"
        },
        {
         "hovertemplate": "Country Name=Netherlands<br>Life Ladder=%{x}<br>Eating disorders (%)=%{y}<extra></extra>",
         "legendgroup": "Netherlands",
         "marker": {
          "color": "#FF97FF",
          "symbol": "circle"
         },
         "mode": "markers",
         "name": "Netherlands",
         "orientation": "v",
         "showlegend": true,
         "type": "scatter",
         "x": [
          7.458965302
         ],
         "xaxis": "x",
         "y": [
          0.467844
         ],
         "yaxis": "y"
        },
        {
         "hovertemplate": "Country Name=New Zealand<br>Life Ladder=%{x}<br>Eating disorders (%)=%{y}<extra></extra>",
         "legendgroup": "New Zealand",
         "marker": {
          "color": "#FECB52",
          "symbol": "circle"
         },
         "mode": "markers",
         "name": "New Zealand",
         "orientation": "v",
         "showlegend": true,
         "type": "scatter",
         "x": [
          7.32718277
         ],
         "xaxis": "x",
         "y": [
          0.67329
         ],
         "yaxis": "y"
        },
        {
         "hovertemplate": "Country Name=Nicaragua<br>Life Ladder=%{x}<br>Eating disorders (%)=%{y}<extra></extra>",
         "legendgroup": "Nicaragua",
         "marker": {
          "color": "#636efa",
          "symbol": "circle"
         },
         "mode": "markers",
         "name": "Nicaragua",
         "orientation": "v",
         "showlegend": true,
         "type": "scatter",
         "x": [
          6.476356506
         ],
         "xaxis": "x",
         "y": [
          0.205876
         ],
         "yaxis": "y"
        },
        {
         "hovertemplate": "Country Name=Niger<br>Life Ladder=%{x}<br>Eating disorders (%)=%{y}<extra></extra>",
         "legendgroup": "Niger",
         "marker": {
          "color": "#EF553B",
          "symbol": "circle"
         },
         "mode": "markers",
         "name": "Niger",
         "orientation": "v",
         "showlegend": true,
         "type": "scatter",
         "x": [
          4.615673542
         ],
         "xaxis": "x",
         "y": [
          0.096116
         ],
         "yaxis": "y"
        },
        {
         "hovertemplate": "Country Name=Nigeria<br>Life Ladder=%{x}<br>Eating disorders (%)=%{y}<extra></extra>",
         "legendgroup": "Nigeria",
         "marker": {
          "color": "#00cc96",
          "symbol": "circle"
         },
         "mode": "markers",
         "name": "Nigeria",
         "orientation": "v",
         "showlegend": true,
         "type": "scatter",
         "x": [
          5.321928024
         ],
         "xaxis": "x",
         "y": [
          0.163373
         ],
         "yaxis": "y"
        },
        {
         "hovertemplate": "Country Name=Norway<br>Life Ladder=%{x}<br>Eating disorders (%)=%{y}<extra></extra>",
         "legendgroup": "Norway",
         "marker": {
          "color": "#ab63fa",
          "symbol": "circle"
         },
         "mode": "markers",
         "name": "Norway",
         "orientation": "v",
         "showlegend": true,
         "type": "scatter",
         "x": [
          7.578744888
         ],
         "xaxis": "x",
         "y": [
          0.570363
         ],
         "yaxis": "y"
        },
        {
         "hovertemplate": "Country Name=Pakistan<br>Life Ladder=%{x}<br>Eating disorders (%)=%{y}<extra></extra>",
         "legendgroup": "Pakistan",
         "marker": {
          "color": "#FFA15A",
          "symbol": "circle"
         },
         "mode": "markers",
         "name": "Pakistan",
         "orientation": "v",
         "showlegend": true,
         "type": "scatter",
         "x": [
          5.830870628
         ],
         "xaxis": "x",
         "y": [
          0.154583
         ],
         "yaxis": "y"
        },
        {
         "hovertemplate": "Country Name=Panama<br>Life Ladder=%{x}<br>Eating disorders (%)=%{y}<extra></extra>",
         "legendgroup": "Panama",
         "marker": {
          "color": "#19d3f3",
          "symbol": "circle"
         },
         "mode": "markers",
         "name": "Panama",
         "orientation": "v",
         "showlegend": true,
         "type": "scatter",
         "x": [
          6.567658901
         ],
         "xaxis": "x",
         "y": [
          0.31665
         ],
         "yaxis": "y"
        },
        {
         "hovertemplate": "Country Name=Paraguay<br>Life Ladder=%{x}<br>Eating disorders (%)=%{y}<extra></extra>",
         "legendgroup": "Paraguay",
         "marker": {
          "color": "#FF6692",
          "symbol": "circle"
         },
         "mode": "markers",
         "name": "Paraguay",
         "orientation": "v",
         "showlegend": true,
         "type": "scatter",
         "x": [
          5.71329546
         ],
         "xaxis": "x",
         "y": [
          0.238288
         ],
         "yaxis": "y"
        },
        {
         "hovertemplate": "Country Name=Peru<br>Life Ladder=%{x}<br>Eating disorders (%)=%{y}<extra></extra>",
         "legendgroup": "Peru",
         "marker": {
          "color": "#B6E880",
          "symbol": "circle"
         },
         "mode": "markers",
         "name": "Peru",
         "orientation": "v",
         "showlegend": true,
         "type": "scatter",
         "x": [
          5.710936546
         ],
         "xaxis": "x",
         "y": [
          0.369216
         ],
         "yaxis": "y"
        },
        {
         "hovertemplate": "Country Name=Philippines<br>Life Ladder=%{x}<br>Eating disorders (%)=%{y}<extra></extra>",
         "legendgroup": "Philippines",
         "marker": {
          "color": "#FF97FF",
          "symbol": "circle"
         },
         "mode": "markers",
         "name": "Philippines",
         "orientation": "v",
         "showlegend": true,
         "type": "scatter",
         "x": [
          5.594270229
         ],
         "xaxis": "x",
         "y": [
          0.134855
         ],
         "yaxis": "y"
        },
        {
         "hovertemplate": "Country Name=Poland<br>Life Ladder=%{x}<br>Eating disorders (%)=%{y}<extra></extra>",
         "legendgroup": "Poland",
         "marker": {
          "color": "#FECB52",
          "symbol": "circle"
         },
         "mode": "markers",
         "name": "Poland",
         "orientation": "v",
         "showlegend": true,
         "type": "scatter",
         "x": [
          6.201268196
         ],
         "xaxis": "x",
         "y": [
          0.229485
         ],
         "yaxis": "y"
        },
        {
         "hovertemplate": "Country Name=Portugal<br>Life Ladder=%{x}<br>Eating disorders (%)=%{y}<extra></extra>",
         "legendgroup": "Portugal",
         "marker": {
          "color": "#636efa",
          "symbol": "circle"
         },
         "mode": "markers",
         "name": "Portugal",
         "orientation": "v",
         "showlegend": true,
         "type": "scatter",
         "x": [
          5.711499214
         ],
         "xaxis": "x",
         "y": [
          0.513079
         ],
         "yaxis": "y"
        },
        {
         "hovertemplate": "Country Name=Romania<br>Life Ladder=%{x}<br>Eating disorders (%)=%{y}<extra></extra>",
         "legendgroup": "Romania",
         "marker": {
          "color": "#EF553B",
          "symbol": "circle"
         },
         "mode": "markers",
         "name": "Romania",
         "orientation": "v",
         "showlegend": true,
         "type": "scatter",
         "x": [
          6.089904785
         ],
         "xaxis": "x",
         "y": [
          0.2007
         ],
         "yaxis": "y"
        },
        {
         "hovertemplate": "Country Name=Russia<br>Life Ladder=%{x}<br>Eating disorders (%)=%{y}<extra></extra>",
         "legendgroup": "Russia",
         "marker": {
          "color": "#00cc96",
          "symbol": "circle"
         },
         "mode": "markers",
         "name": "Russia",
         "orientation": "v",
         "showlegend": true,
         "type": "scatter",
         "x": [
          5.578742981
         ],
         "xaxis": "x",
         "y": [
          0.232375
         ],
         "yaxis": "y"
        },
        {
         "hovertemplate": "Country Name=Rwanda<br>Life Ladder=%{x}<br>Eating disorders (%)=%{y}<extra></extra>",
         "legendgroup": "Rwanda",
         "marker": {
          "color": "#ab63fa",
          "symbol": "circle"
         },
         "mode": "markers",
         "name": "Rwanda",
         "orientation": "v",
         "showlegend": true,
         "type": "scatter",
         "x": [
          3.10837388
         ],
         "xaxis": "x",
         "y": [
          0.115817
         ],
         "yaxis": "y"
        },
        {
         "hovertemplate": "Country Name=Senegal<br>Life Ladder=%{x}<br>Eating disorders (%)=%{y}<extra></extra>",
         "legendgroup": "Senegal",
         "marker": {
          "color": "#FFA15A",
          "symbol": "circle"
         },
         "mode": "markers",
         "name": "Senegal",
         "orientation": "v",
         "showlegend": true,
         "type": "scatter",
         "x": [
          4.683024883
         ],
         "xaxis": "x",
         "y": [
          0.12529
         ],
         "yaxis": "y"
        },
        {
         "hovertemplate": "Country Name=Serbia<br>Life Ladder=%{x}<br>Eating disorders (%)=%{y}<extra></extra>",
         "legendgroup": "Serbia",
         "marker": {
          "color": "#19d3f3",
          "symbol": "circle"
         },
         "mode": "markers",
         "name": "Serbia",
         "orientation": "v",
         "showlegend": true,
         "type": "scatter",
         "x": [
          5.122031212
         ],
         "xaxis": "x",
         "y": [
          0.187147
         ],
         "yaxis": "y"
        },
        {
         "hovertemplate": "Country Name=Sierra Leone<br>Life Ladder=%{x}<br>Eating disorders (%)=%{y}<extra></extra>",
         "legendgroup": "Sierra Leone",
         "marker": {
          "color": "#FF6692",
          "symbol": "circle"
         },
         "mode": "markers",
         "name": "Sierra Leone",
         "orientation": "v",
         "showlegend": true,
         "type": "scatter",
         "x": [
          4.089562416
         ],
         "xaxis": "x",
         "y": [
          0.109799
         ],
         "yaxis": "y"
        },
        {
         "hovertemplate": "Country Name=Singapore<br>Life Ladder=%{x}<br>Eating disorders (%)=%{y}<extra></extra>",
         "legendgroup": "Singapore",
         "marker": {
          "color": "#B6E880",
          "symbol": "circle"
         },
         "mode": "markers",
         "name": "Singapore",
         "orientation": "v",
         "showlegend": true,
         "type": "scatter",
         "x": [
          6.378437996
         ],
         "xaxis": "x",
         "y": [
          0.553712
         ],
         "yaxis": "y"
        },
        {
         "hovertemplate": "Country Name=Slovakia<br>Life Ladder=%{x}<br>Eating disorders (%)=%{y}<extra></extra>",
         "legendgroup": "Slovakia",
         "marker": {
          "color": "#FF97FF",
          "symbol": "circle"
         },
         "mode": "markers",
         "name": "Slovakia",
         "orientation": "v",
         "showlegend": true,
         "type": "scatter",
         "x": [
          6.365509033
         ],
         "xaxis": "x",
         "y": [
          0.235475
         ],
         "yaxis": "y"
        },
        {
         "hovertemplate": "Country Name=Slovenia<br>Life Ladder=%{x}<br>Eating disorders (%)=%{y}<extra></extra>",
         "legendgroup": "Slovenia",
         "marker": {
          "color": "#FECB52",
          "symbol": "circle"
         },
         "mode": "markers",
         "name": "Slovenia",
         "orientation": "v",
         "showlegend": true,
         "type": "scatter",
         "x": [
          6.166837692
         ],
         "xaxis": "x",
         "y": [
          0.239636
         ],
         "yaxis": "y"
        },
        {
         "hovertemplate": "Country Name=South Africa<br>Life Ladder=%{x}<br>Eating disorders (%)=%{y}<extra></extra>",
         "legendgroup": "South Africa",
         "marker": {
          "color": "#636efa",
          "symbol": "circle"
         },
         "mode": "markers",
         "name": "South Africa",
         "orientation": "v",
         "showlegend": true,
         "type": "scatter",
         "x": [
          4.513655186
         ],
         "xaxis": "x",
         "y": [
          0.214718
         ],
         "yaxis": "y"
        },
        {
         "hovertemplate": "Country Name=South Korea<br>Life Ladder=%{x}<br>Eating disorders (%)=%{y}<extra></extra>",
         "legendgroup": "South Korea",
         "marker": {
          "color": "#EF553B",
          "symbol": "circle"
         },
         "mode": "markers",
         "name": "South Korea",
         "orientation": "v",
         "showlegend": true,
         "type": "scatter",
         "x": [
          5.873887062
         ],
         "xaxis": "x",
         "y": [
          0.417103
         ],
         "yaxis": "y"
        },
        {
         "hovertemplate": "Country Name=Spain<br>Life Ladder=%{x}<br>Eating disorders (%)=%{y}<extra></extra>",
         "legendgroup": "Spain",
         "marker": {
          "color": "#00cc96",
          "symbol": "circle"
         },
         "mode": "markers",
         "name": "Spain",
         "orientation": "v",
         "showlegend": true,
         "type": "scatter",
         "x": [
          6.230173111
         ],
         "xaxis": "x",
         "y": [
          0.730626
         ],
         "yaxis": "y"
        },
        {
         "hovertemplate": "Country Name=Sri Lanka<br>Life Ladder=%{x}<br>Eating disorders (%)=%{y}<extra></extra>",
         "legendgroup": "Sri Lanka",
         "marker": {
          "color": "#ab63fa",
          "symbol": "circle"
         },
         "mode": "markers",
         "name": "Sri Lanka",
         "orientation": "v",
         "showlegend": true,
         "type": "scatter",
         "x": [
          4.330945492
         ],
         "xaxis": "x",
         "y": [
          0.159144
         ],
         "yaxis": "y"
        },
        {
         "hovertemplate": "Country Name=Sweden<br>Life Ladder=%{x}<br>Eating disorders (%)=%{y}<extra></extra>",
         "legendgroup": "Sweden",
         "marker": {
          "color": "#FFA15A",
          "symbol": "circle"
         },
         "mode": "markers",
         "name": "Sweden",
         "orientation": "v",
         "showlegend": true,
         "type": "scatter",
         "x": [
          7.286804676
         ],
         "xaxis": "x",
         "y": [
          0.574608
         ],
         "yaxis": "y"
        },
        {
         "hovertemplate": "Country Name=Switzerland<br>Life Ladder=%{x}<br>Eating disorders (%)=%{y}<extra></extra>",
         "legendgroup": "Switzerland",
         "marker": {
          "color": "#19d3f3",
          "symbol": "circle"
         },
         "mode": "markers",
         "name": "Switzerland",
         "orientation": "v",
         "showlegend": true,
         "type": "scatter",
         "x": [
          7.473593235
         ],
         "xaxis": "x",
         "y": [
          0.573969
         ],
         "yaxis": "y"
        },
        {
         "hovertemplate": "Country Name=Tajikistan<br>Life Ladder=%{x}<br>Eating disorders (%)=%{y}<extra></extra>",
         "legendgroup": "Tajikistan",
         "marker": {
          "color": "#FF6692",
          "symbol": "circle"
         },
         "mode": "markers",
         "name": "Tajikistan",
         "orientation": "v",
         "showlegend": true,
         "type": "scatter",
         "x": [
          5.829234123
         ],
         "xaxis": "x",
         "y": [
          0.118226
         ],
         "yaxis": "y"
        },
        {
         "hovertemplate": "Country Name=Tanzania<br>Life Ladder=%{x}<br>Eating disorders (%)=%{y}<extra></extra>",
         "legendgroup": "Tanzania",
         "marker": {
          "color": "#B6E880",
          "symbol": "circle"
         },
         "mode": "markers",
         "name": "Tanzania",
         "orientation": "v",
         "showlegend": true,
         "type": "scatter",
         "x": [
          3.347121239
         ],
         "xaxis": "x",
         "y": [
          0.129857
         ],
         "yaxis": "y"
        },
        {
         "hovertemplate": "Country Name=Thailand<br>Life Ladder=%{x}<br>Eating disorders (%)=%{y}<extra></extra>",
         "legendgroup": "Thailand",
         "marker": {
          "color": "#FF97FF",
          "symbol": "circle"
         },
         "mode": "markers",
         "name": "Thailand",
         "orientation": "v",
         "showlegend": true,
         "type": "scatter",
         "x": [
          5.938895226
         ],
         "xaxis": "x",
         "y": [
          0.173202
         ],
         "yaxis": "y"
        },
        {
         "hovertemplate": "Country Name=Togo<br>Life Ladder=%{x}<br>Eating disorders (%)=%{y}<extra></extra>",
         "legendgroup": "Togo",
         "marker": {
          "color": "#FECB52",
          "symbol": "circle"
         },
         "mode": "markers",
         "name": "Togo",
         "orientation": "v",
         "showlegend": true,
         "type": "scatter",
         "x": [
          4.360805035
         ],
         "xaxis": "x",
         "y": [
          0.108107
         ],
         "yaxis": "y"
        },
        {
         "hovertemplate": "Country Name=Tunisia<br>Life Ladder=%{x}<br>Eating disorders (%)=%{y}<extra></extra>",
         "legendgroup": "Tunisia",
         "marker": {
          "color": "#636efa",
          "symbol": "circle"
         },
         "mode": "markers",
         "name": "Tunisia",
         "orientation": "v",
         "showlegend": true,
         "type": "scatter",
         "x": [
          4.124342918
         ],
         "xaxis": "x",
         "y": [
          0.200172
         ],
         "yaxis": "y"
        },
        {
         "hovertemplate": "Country Name=Uganda<br>Life Ladder=%{x}<br>Eating disorders (%)=%{y}<extra></extra>",
         "legendgroup": "Uganda",
         "marker": {
          "color": "#EF553B",
          "symbol": "circle"
         },
         "mode": "markers",
         "name": "Uganda",
         "orientation": "v",
         "showlegend": true,
         "type": "scatter",
         "x": [
          4.000516891
         ],
         "xaxis": "x",
         "y": [
          0.119309
         ],
         "yaxis": "y"
        },
        {
         "hovertemplate": "Country Name=Ukraine<br>Life Ladder=%{x}<br>Eating disorders (%)=%{y}<extra></extra>",
         "legendgroup": "Ukraine",
         "marker": {
          "color": "#00cc96",
          "symbol": "circle"
         },
         "mode": "markers",
         "name": "Ukraine",
         "orientation": "v",
         "showlegend": true,
         "type": "scatter",
         "x": [
          4.311067104
         ],
         "xaxis": "x",
         "y": [
          0.172715
         ],
         "yaxis": "y"
        },
        {
         "hovertemplate": "Country Name=United Kingdom<br>Life Ladder=%{x}<br>Eating disorders (%)=%{y}<extra></extra>",
         "legendgroup": "United Kingdom",
         "marker": {
          "color": "#ab63fa",
          "symbol": "circle"
         },
         "mode": "markers",
         "name": "United Kingdom",
         "orientation": "v",
         "showlegend": true,
         "type": "scatter",
         "x": [
          7.103273392
         ],
         "xaxis": "x",
         "y": [
          0.543054
         ],
         "yaxis": "y"
        },
        {
         "hovertemplate": "Country Name=United States<br>Life Ladder=%{x}<br>Eating disorders (%)=%{y}<extra></extra>",
         "legendgroup": "United States",
         "marker": {
          "color": "#FFA15A",
          "symbol": "circle"
         },
         "mode": "markers",
         "name": "United States",
         "orientation": "v",
         "showlegend": true,
         "type": "scatter",
         "x": [
          6.9917593
         ],
         "xaxis": "x",
         "y": [
          0.512844
         ],
         "yaxis": "y"
        },
        {
         "hovertemplate": "Country Name=Uruguay<br>Life Ladder=%{x}<br>Eating disorders (%)=%{y}<extra></extra>",
         "legendgroup": "Uruguay",
         "marker": {
          "color": "#19d3f3",
          "symbol": "circle"
         },
         "mode": "markers",
         "name": "Uruguay",
         "orientation": "v",
         "showlegend": true,
         "type": "scatter",
         "x": [
          6.336009979
         ],
         "xaxis": "x",
         "y": [
          0.405502
         ],
         "yaxis": "y"
        },
        {
         "hovertemplate": "Country Name=Uzbekistan<br>Life Ladder=%{x}<br>Eating disorders (%)=%{y}<extra></extra>",
         "legendgroup": "Uzbekistan",
         "marker": {
          "color": "#FF6692",
          "symbol": "circle"
         },
         "mode": "markers",
         "name": "Uzbekistan",
         "orientation": "v",
         "showlegend": true,
         "type": "scatter",
         "x": [
          6.421447754
         ],
         "xaxis": "x",
         "y": [
          0.153735
         ],
         "yaxis": "y"
        },
        {
         "hovertemplate": "Country Name=Venezuela<br>Life Ladder=%{x}<br>Eating disorders (%)=%{y}<extra></extra>",
         "legendgroup": "Venezuela",
         "marker": {
          "color": "#B6E880",
          "symbol": "circle"
         },
         "mode": "markers",
         "name": "Venezuela",
         "orientation": "v",
         "showlegend": true,
         "type": "scatter",
         "x": [
          5.070750713
         ],
         "xaxis": "x",
         "y": [
          0.28269
         ],
         "yaxis": "y"
        },
        {
         "hovertemplate": "Country Name=Zambia<br>Life Ladder=%{x}<br>Eating disorders (%)=%{y}<extra></extra>",
         "legendgroup": "Zambia",
         "marker": {
          "color": "#FF97FF",
          "symbol": "circle"
         },
         "mode": "markers",
         "name": "Zambia",
         "orientation": "v",
         "showlegend": true,
         "type": "scatter",
         "x": [
          3.932777405
         ],
         "xaxis": "x",
         "y": [
          0.142768
         ],
         "yaxis": "y"
        },
        {
         "hovertemplate": "Country Name=Zimbabwe<br>Life Ladder=%{x}<br>Eating disorders (%)=%{y}<extra></extra>",
         "legendgroup": "Zimbabwe",
         "marker": {
          "color": "#FECB52",
          "symbol": "circle"
         },
         "mode": "markers",
         "name": "Zimbabwe",
         "orientation": "v",
         "showlegend": true,
         "type": "scatter",
         "x": [
          3.63830018
         ],
         "xaxis": "x",
         "y": [
          0.124443
         ],
         "yaxis": "y"
        },
        {
         "hovertemplate": "<b>OLS trendline</b><br>Eating disorders (%) = 0.119193 * Life Ladder + -0.378174<br>R<sup>2</sup>=0.571296<br><br>Life Ladder=%{x}<br>Eating disorders (%)=%{y} <b>(trend)</b><extra></extra>",
         "legendgroup": "Overall Trendline",
         "line": {
          "color": "#636efa"
         },
         "mode": "lines",
         "name": "Overall Trendline",
         "showlegend": true,
         "type": "scatter",
         "x": [
          2.66171813,
          3.10837388,
          3.347121239,
          3.416862965,
          3.504881144,
          3.63830018,
          3.795300722,
          3.823865652,
          3.932777405,
          4.000516891,
          4.046111107,
          4.078620434,
          4.089562416,
          4.117938995,
          4.124342918,
          4.154341698,
          4.180315495,
          4.279863358,
          4.287736416,
          4.309771061,
          4.311067104,
          4.330945492,
          4.360805035,
          4.424490929,
          4.441306114,
          4.45077467,
          4.462399006,
          4.475654125,
          4.513655186,
          4.558937073,
          4.585842133,
          4.615673542,
          4.623140812,
          4.639548302,
          4.646891117,
          4.678159714,
          4.683024883,
          4.736692429,
          4.741850376,
          4.782382965,
          4.853180885,
          4.873722553,
          5.070750713,
          5.07405138,
          5.089902401,
          5.096901894,
          5.098401546,
          5.122031212,
          5.14824152,
          5.152279377,
          5.153989792,
          5.321928024,
          5.325530529,
          5.333850384,
          5.343165874,
          5.481310844,
          5.552915096,
          5.578742981,
          5.594270229,
          5.605202675,
          5.614798546,
          5.629536629,
          5.65055275,
          5.710936546,
          5.711499214,
          5.71329546,
          5.829234123,
          5.830870628,
          5.839518547,
          5.873887062,
          5.882351398,
          5.889759064,
          5.910676479,
          5.938395977,
          5.938895226,
          5.977817535,
          6.019985676,
          6.039330006,
          6.062051296,
          6.065038681,
          6.089904785,
          6.157341957,
          6.166837692,
          6.174117565,
          6.198870182,
          6.201268196,
          6.230173111,
          6.272940636,
          6.320119381,
          6.325118542,
          6.332929134,
          6.336009979,
          6.339318275,
          6.365509033,
          6.378437996,
          6.410299301,
          6.421447754,
          6.476356506,
          6.567658901,
          6.635222435,
          6.675665855,
          6.928347588,
          6.9917593,
          7.060155392,
          7.061380863,
          7.074324608,
          7.103273392,
          7.22518158,
          7.25703764,
          7.286804676,
          7.293727875,
          7.32718277,
          7.331036091,
          7.414868355,
          7.458965302,
          7.473593235,
          7.476213932,
          7.578744888,
          7.593702316,
          7.788251877
         ],
         "xaxis": "x",
         "y": [
          -0.06091427197014147,
          -0.007675851699439099,
          0.020781259256733,
          0.02909401313752863,
          0.039585199705850914,
          0.05548786906738934,
          0.07420129845394502,
          0.07760604976038894,
          0.09058761258283764,
          0.09866171265787166,
          0.10409624256892992,
          0.10797113998946849,
          0.10927535209534742,
          0.11265765320452785,
          0.11342095860036167,
          0.11699661537237976,
          0.12009252071046608,
          0.13195796958791653,
          0.13289638618866473,
          0.13552277058207224,
          0.13567725036190917,
          0.13804662313870217,
          0.14160568377841215,
          0.14919662241535434,
          0.15120088159249376,
          0.15232947103455224,
          0.1537150152379703,
          0.15529493802203875,
          0.15982441392434293,
          0.16522171627801563,
          0.16842862202520115,
          0.17198432927761914,
          0.17287437862442553,
          0.17483004324579746,
          0.17570525837722706,
          0.17943226896280945,
          0.18001216502797812,
          0.1864089826416442,
          0.18702377591391273,
          0.1918549932615941,
          0.20029363850292725,
          0.2027420698822283,
          0.22622652740290985,
          0.226619945145589,
          0.22850928233136955,
          0.2293435757441732,
          0.22952232437426645,
          0.2323388247537294,
          0.23546292064352503,
          0.2359442065733692,
          0.2361480767633473,
          0.2561652066776823,
          0.2565946015197218,
          0.2575862733768093,
          0.25869661836094426,
          0.27516258789373005,
          0.2836973425927243,
          0.28677585618251544,
          0.2886266017615691,
          0.289929677239126,
          0.2910734417897031,
          0.29283012410430115,
          0.29533510715278516,
          0.30253245748128393,
          0.30259952379680066,
          0.302813624476032,
          0.3166327486369038,
          0.31682780924222487,
          0.3178585841649455,
          0.32195508453609245,
          0.32296397757571066,
          0.32384692251872993,
          0.32634014046285514,
          0.32964412184945296,
          0.3297036290383377,
          0.33434291162777746,
          0.33936907598946375,
          0.34167479257409333,
          0.3443830205239462,
          0.3447390971179235,
          0.34770297275424294,
          0.3557410389938551,
          0.35687286799350243,
          0.35774058085355487,
          0.36069092958777743,
          0.36097675704471044,
          0.36442203232138365,
          0.36951963930369114,
          0.37514303462358634,
          0.37573890165164747,
          0.37666987271707975,
          0.3770370891268067,
          0.37743141619598225,
          0.38055318185468534,
          0.3820942289941397,
          0.3858918864651631,
          0.38722070855282714,
          0.3937654697375108,
          0.4046481131977857,
          0.4127012409546004,
          0.4175218299454385,
          0.44763982640285216,
          0.4551980843532776,
          0.46335044753402616,
          0.46349651559679605,
          0.46503932465318193,
          0.4684898288253946,
          0.4830204810048052,
          0.4868175133064127,
          0.49036554772168917,
          0.49119074739275514,
          0.4951783502840696,
          0.495637640739495,
          0.5056298938406283,
          0.5108859591594804,
          0.5126295123203782,
          0.5129418821225987,
          0.5251628960159269,
          0.5269457228082222,
          0.550134747671327
         ],
         "yaxis": "y"
        }
       ],
       "layout": {
        "autosize": true,
        "legend": {
         "title": {
          "text": "Country Name"
         },
         "tracegroupgap": 0
        },
        "template": {
         "data": {
          "bar": [
           {
            "error_x": {
             "color": "#2a3f5f"
            },
            "error_y": {
             "color": "#2a3f5f"
            },
            "marker": {
             "line": {
              "color": "#E5ECF6",
              "width": 0.5
             },
             "pattern": {
              "fillmode": "overlay",
              "size": 10,
              "solidity": 0.2
             }
            },
            "type": "bar"
           }
          ],
          "barpolar": [
           {
            "marker": {
             "line": {
              "color": "#E5ECF6",
              "width": 0.5
             },
             "pattern": {
              "fillmode": "overlay",
              "size": 10,
              "solidity": 0.2
             }
            },
            "type": "barpolar"
           }
          ],
          "carpet": [
           {
            "aaxis": {
             "endlinecolor": "#2a3f5f",
             "gridcolor": "white",
             "linecolor": "white",
             "minorgridcolor": "white",
             "startlinecolor": "#2a3f5f"
            },
            "baxis": {
             "endlinecolor": "#2a3f5f",
             "gridcolor": "white",
             "linecolor": "white",
             "minorgridcolor": "white",
             "startlinecolor": "#2a3f5f"
            },
            "type": "carpet"
           }
          ],
          "choropleth": [
           {
            "colorbar": {
             "outlinewidth": 0,
             "ticks": ""
            },
            "type": "choropleth"
           }
          ],
          "contour": [
           {
            "colorbar": {
             "outlinewidth": 0,
             "ticks": ""
            },
            "colorscale": [
             [
              0,
              "#0d0887"
             ],
             [
              0.1111111111111111,
              "#46039f"
             ],
             [
              0.2222222222222222,
              "#7201a8"
             ],
             [
              0.3333333333333333,
              "#9c179e"
             ],
             [
              0.4444444444444444,
              "#bd3786"
             ],
             [
              0.5555555555555556,
              "#d8576b"
             ],
             [
              0.6666666666666666,
              "#ed7953"
             ],
             [
              0.7777777777777778,
              "#fb9f3a"
             ],
             [
              0.8888888888888888,
              "#fdca26"
             ],
             [
              1,
              "#f0f921"
             ]
            ],
            "type": "contour"
           }
          ],
          "contourcarpet": [
           {
            "colorbar": {
             "outlinewidth": 0,
             "ticks": ""
            },
            "type": "contourcarpet"
           }
          ],
          "heatmap": [
           {
            "colorbar": {
             "outlinewidth": 0,
             "ticks": ""
            },
            "colorscale": [
             [
              0,
              "#0d0887"
             ],
             [
              0.1111111111111111,
              "#46039f"
             ],
             [
              0.2222222222222222,
              "#7201a8"
             ],
             [
              0.3333333333333333,
              "#9c179e"
             ],
             [
              0.4444444444444444,
              "#bd3786"
             ],
             [
              0.5555555555555556,
              "#d8576b"
             ],
             [
              0.6666666666666666,
              "#ed7953"
             ],
             [
              0.7777777777777778,
              "#fb9f3a"
             ],
             [
              0.8888888888888888,
              "#fdca26"
             ],
             [
              1,
              "#f0f921"
             ]
            ],
            "type": "heatmap"
           }
          ],
          "heatmapgl": [
           {
            "colorbar": {
             "outlinewidth": 0,
             "ticks": ""
            },
            "colorscale": [
             [
              0,
              "#0d0887"
             ],
             [
              0.1111111111111111,
              "#46039f"
             ],
             [
              0.2222222222222222,
              "#7201a8"
             ],
             [
              0.3333333333333333,
              "#9c179e"
             ],
             [
              0.4444444444444444,
              "#bd3786"
             ],
             [
              0.5555555555555556,
              "#d8576b"
             ],
             [
              0.6666666666666666,
              "#ed7953"
             ],
             [
              0.7777777777777778,
              "#fb9f3a"
             ],
             [
              0.8888888888888888,
              "#fdca26"
             ],
             [
              1,
              "#f0f921"
             ]
            ],
            "type": "heatmapgl"
           }
          ],
          "histogram": [
           {
            "marker": {
             "pattern": {
              "fillmode": "overlay",
              "size": 10,
              "solidity": 0.2
             }
            },
            "type": "histogram"
           }
          ],
          "histogram2d": [
           {
            "colorbar": {
             "outlinewidth": 0,
             "ticks": ""
            },
            "colorscale": [
             [
              0,
              "#0d0887"
             ],
             [
              0.1111111111111111,
              "#46039f"
             ],
             [
              0.2222222222222222,
              "#7201a8"
             ],
             [
              0.3333333333333333,
              "#9c179e"
             ],
             [
              0.4444444444444444,
              "#bd3786"
             ],
             [
              0.5555555555555556,
              "#d8576b"
             ],
             [
              0.6666666666666666,
              "#ed7953"
             ],
             [
              0.7777777777777778,
              "#fb9f3a"
             ],
             [
              0.8888888888888888,
              "#fdca26"
             ],
             [
              1,
              "#f0f921"
             ]
            ],
            "type": "histogram2d"
           }
          ],
          "histogram2dcontour": [
           {
            "colorbar": {
             "outlinewidth": 0,
             "ticks": ""
            },
            "colorscale": [
             [
              0,
              "#0d0887"
             ],
             [
              0.1111111111111111,
              "#46039f"
             ],
             [
              0.2222222222222222,
              "#7201a8"
             ],
             [
              0.3333333333333333,
              "#9c179e"
             ],
             [
              0.4444444444444444,
              "#bd3786"
             ],
             [
              0.5555555555555556,
              "#d8576b"
             ],
             [
              0.6666666666666666,
              "#ed7953"
             ],
             [
              0.7777777777777778,
              "#fb9f3a"
             ],
             [
              0.8888888888888888,
              "#fdca26"
             ],
             [
              1,
              "#f0f921"
             ]
            ],
            "type": "histogram2dcontour"
           }
          ],
          "mesh3d": [
           {
            "colorbar": {
             "outlinewidth": 0,
             "ticks": ""
            },
            "type": "mesh3d"
           }
          ],
          "parcoords": [
           {
            "line": {
             "colorbar": {
              "outlinewidth": 0,
              "ticks": ""
             }
            },
            "type": "parcoords"
           }
          ],
          "pie": [
           {
            "automargin": true,
            "type": "pie"
           }
          ],
          "scatter": [
           {
            "fillpattern": {
             "fillmode": "overlay",
             "size": 10,
             "solidity": 0.2
            },
            "type": "scatter"
           }
          ],
          "scatter3d": [
           {
            "line": {
             "colorbar": {
              "outlinewidth": 0,
              "ticks": ""
             }
            },
            "marker": {
             "colorbar": {
              "outlinewidth": 0,
              "ticks": ""
             }
            },
            "type": "scatter3d"
           }
          ],
          "scattercarpet": [
           {
            "marker": {
             "colorbar": {
              "outlinewidth": 0,
              "ticks": ""
             }
            },
            "type": "scattercarpet"
           }
          ],
          "scattergeo": [
           {
            "marker": {
             "colorbar": {
              "outlinewidth": 0,
              "ticks": ""
             }
            },
            "type": "scattergeo"
           }
          ],
          "scattergl": [
           {
            "marker": {
             "colorbar": {
              "outlinewidth": 0,
              "ticks": ""
             }
            },
            "type": "scattergl"
           }
          ],
          "scattermapbox": [
           {
            "marker": {
             "colorbar": {
              "outlinewidth": 0,
              "ticks": ""
             }
            },
            "type": "scattermapbox"
           }
          ],
          "scatterpolar": [
           {
            "marker": {
             "colorbar": {
              "outlinewidth": 0,
              "ticks": ""
             }
            },
            "type": "scatterpolar"
           }
          ],
          "scatterpolargl": [
           {
            "marker": {
             "colorbar": {
              "outlinewidth": 0,
              "ticks": ""
             }
            },
            "type": "scatterpolargl"
           }
          ],
          "scatterternary": [
           {
            "marker": {
             "colorbar": {
              "outlinewidth": 0,
              "ticks": ""
             }
            },
            "type": "scatterternary"
           }
          ],
          "surface": [
           {
            "colorbar": {
             "outlinewidth": 0,
             "ticks": ""
            },
            "colorscale": [
             [
              0,
              "#0d0887"
             ],
             [
              0.1111111111111111,
              "#46039f"
             ],
             [
              0.2222222222222222,
              "#7201a8"
             ],
             [
              0.3333333333333333,
              "#9c179e"
             ],
             [
              0.4444444444444444,
              "#bd3786"
             ],
             [
              0.5555555555555556,
              "#d8576b"
             ],
             [
              0.6666666666666666,
              "#ed7953"
             ],
             [
              0.7777777777777778,
              "#fb9f3a"
             ],
             [
              0.8888888888888888,
              "#fdca26"
             ],
             [
              1,
              "#f0f921"
             ]
            ],
            "type": "surface"
           }
          ],
          "table": [
           {
            "cells": {
             "fill": {
              "color": "#EBF0F8"
             },
             "line": {
              "color": "white"
             }
            },
            "header": {
             "fill": {
              "color": "#C8D4E3"
             },
             "line": {
              "color": "white"
             }
            },
            "type": "table"
           }
          ]
         },
         "layout": {
          "annotationdefaults": {
           "arrowcolor": "#2a3f5f",
           "arrowhead": 0,
           "arrowwidth": 1
          },
          "autotypenumbers": "strict",
          "coloraxis": {
           "colorbar": {
            "outlinewidth": 0,
            "ticks": ""
           }
          },
          "colorscale": {
           "diverging": [
            [
             0,
             "#8e0152"
            ],
            [
             0.1,
             "#c51b7d"
            ],
            [
             0.2,
             "#de77ae"
            ],
            [
             0.3,
             "#f1b6da"
            ],
            [
             0.4,
             "#fde0ef"
            ],
            [
             0.5,
             "#f7f7f7"
            ],
            [
             0.6,
             "#e6f5d0"
            ],
            [
             0.7,
             "#b8e186"
            ],
            [
             0.8,
             "#7fbc41"
            ],
            [
             0.9,
             "#4d9221"
            ],
            [
             1,
             "#276419"
            ]
           ],
           "sequential": [
            [
             0,
             "#0d0887"
            ],
            [
             0.1111111111111111,
             "#46039f"
            ],
            [
             0.2222222222222222,
             "#7201a8"
            ],
            [
             0.3333333333333333,
             "#9c179e"
            ],
            [
             0.4444444444444444,
             "#bd3786"
            ],
            [
             0.5555555555555556,
             "#d8576b"
            ],
            [
             0.6666666666666666,
             "#ed7953"
            ],
            [
             0.7777777777777778,
             "#fb9f3a"
            ],
            [
             0.8888888888888888,
             "#fdca26"
            ],
            [
             1,
             "#f0f921"
            ]
           ],
           "sequentialminus": [
            [
             0,
             "#0d0887"
            ],
            [
             0.1111111111111111,
             "#46039f"
            ],
            [
             0.2222222222222222,
             "#7201a8"
            ],
            [
             0.3333333333333333,
             "#9c179e"
            ],
            [
             0.4444444444444444,
             "#bd3786"
            ],
            [
             0.5555555555555556,
             "#d8576b"
            ],
            [
             0.6666666666666666,
             "#ed7953"
            ],
            [
             0.7777777777777778,
             "#fb9f3a"
            ],
            [
             0.8888888888888888,
             "#fdca26"
            ],
            [
             1,
             "#f0f921"
            ]
           ]
          },
          "colorway": [
           "#636efa",
           "#EF553B",
           "#00cc96",
           "#ab63fa",
           "#FFA15A",
           "#19d3f3",
           "#FF6692",
           "#B6E880",
           "#FF97FF",
           "#FECB52"
          ],
          "font": {
           "color": "#2a3f5f"
          },
          "geo": {
           "bgcolor": "white",
           "lakecolor": "white",
           "landcolor": "#E5ECF6",
           "showlakes": true,
           "showland": true,
           "subunitcolor": "white"
          },
          "hoverlabel": {
           "align": "left"
          },
          "hovermode": "closest",
          "mapbox": {
           "style": "light"
          },
          "paper_bgcolor": "white",
          "plot_bgcolor": "#E5ECF6",
          "polar": {
           "angularaxis": {
            "gridcolor": "white",
            "linecolor": "white",
            "ticks": ""
           },
           "bgcolor": "#E5ECF6",
           "radialaxis": {
            "gridcolor": "white",
            "linecolor": "white",
            "ticks": ""
           }
          },
          "scene": {
           "xaxis": {
            "backgroundcolor": "#E5ECF6",
            "gridcolor": "white",
            "gridwidth": 2,
            "linecolor": "white",
            "showbackground": true,
            "ticks": "",
            "zerolinecolor": "white"
           },
           "yaxis": {
            "backgroundcolor": "#E5ECF6",
            "gridcolor": "white",
            "gridwidth": 2,
            "linecolor": "white",
            "showbackground": true,
            "ticks": "",
            "zerolinecolor": "white"
           },
           "zaxis": {
            "backgroundcolor": "#E5ECF6",
            "gridcolor": "white",
            "gridwidth": 2,
            "linecolor": "white",
            "showbackground": true,
            "ticks": "",
            "zerolinecolor": "white"
           }
          },
          "shapedefaults": {
           "line": {
            "color": "#2a3f5f"
           }
          },
          "ternary": {
           "aaxis": {
            "gridcolor": "white",
            "linecolor": "white",
            "ticks": ""
           },
           "baxis": {
            "gridcolor": "white",
            "linecolor": "white",
            "ticks": ""
           },
           "bgcolor": "#E5ECF6",
           "caxis": {
            "gridcolor": "white",
            "linecolor": "white",
            "ticks": ""
           }
          },
          "title": {
           "x": 0.05
          },
          "xaxis": {
           "automargin": true,
           "gridcolor": "white",
           "linecolor": "white",
           "ticks": "",
           "title": {
            "standoff": 15
           },
           "zerolinecolor": "white",
           "zerolinewidth": 2
          },
          "yaxis": {
           "automargin": true,
           "gridcolor": "white",
           "linecolor": "white",
           "ticks": "",
           "title": {
            "standoff": 15
           },
           "zerolinecolor": "white",
           "zerolinewidth": 2
          }
         }
        },
        "title": {
         "text": "Relationship between Eating disorders and Life ladder"
        },
        "xaxis": {
         "anchor": "y",
         "autorange": true,
         "domain": [
          0,
          1
         ],
         "range": [
          2.3488453241293525,
          8.101124682870648
         ],
         "title": {
          "text": "Life Ladder"
         },
         "type": "linear"
        },
        "yaxis": {
         "anchor": "x",
         "autorange": true,
         "domain": [
          0,
          1
         ],
         "range": [
          -0.11869817251518558,
          1.0369798383856965
         ],
         "title": {
          "text": "Eating disorders (%)"
         },
         "type": "linear"
        }
       }
      },
      "text/html": [
       "<div>                            <div id=\"e65eddfe-1a32-4efa-9376-9ff197e45dcf\" class=\"plotly-graph-div\" style=\"height:300px; width:100%;\"></div>            <script type=\"text/javascript\">                require([\"plotly\"], function(Plotly) {                    window.PLOTLYENV=window.PLOTLYENV || {};                                    if (document.getElementById(\"e65eddfe-1a32-4efa-9376-9ff197e45dcf\")) {                    Plotly.newPlot(                        \"e65eddfe-1a32-4efa-9376-9ff197e45dcf\",                        [{\"hovertemplate\":\"Country Name=Afghanistan\\u003cbr\\u003eLife Ladder=%{x}\\u003cbr\\u003eEating disorders (%)=%{y}\\u003cextra\\u003e\\u003c\\u002fextra\\u003e\",\"legendgroup\":\"Afghanistan\",\"marker\":{\"color\":\"#636efa\",\"symbol\":\"circle\"},\"mode\":\"markers\",\"name\":\"Afghanistan\",\"orientation\":\"v\",\"showlegend\":true,\"x\":[2.66171813],\"xaxis\":\"x\",\"y\":[0.107142],\"yaxis\":\"y\",\"type\":\"scatter\"},{\"hovertemplate\":\"Country Name=Albania\\u003cbr\\u003eLife Ladder=%{x}\\u003cbr\\u003eEating disorders (%)=%{y}\\u003cextra\\u003e\\u003c\\u002fextra\\u003e\",\"legendgroup\":\"Albania\",\"marker\":{\"color\":\"#EF553B\",\"symbol\":\"circle\"},\"mode\":\"markers\",\"name\":\"Albania\",\"orientation\":\"v\",\"showlegend\":true,\"x\":[4.639548302],\"xaxis\":\"x\",\"y\":[0.174046],\"yaxis\":\"y\",\"type\":\"scatter\"},{\"hovertemplate\":\"Country Name=Argentina\\u003cbr\\u003eLife Ladder=%{x}\\u003cbr\\u003eEating disorders (%)=%{y}\\u003cextra\\u003e\\u003c\\u002fextra\\u003e\",\"legendgroup\":\"Argentina\",\"marker\":{\"color\":\"#00cc96\",\"symbol\":\"circle\"},\"mode\":\"markers\",\"name\":\"Argentina\",\"orientation\":\"v\",\"showlegend\":true,\"x\":[6.039330006],\"xaxis\":\"x\",\"y\":[0.404033],\"yaxis\":\"y\",\"type\":\"scatter\"},{\"hovertemplate\":\"Country Name=Armenia\\u003cbr\\u003eLife Ladder=%{x}\\u003cbr\\u003eEating disorders (%)=%{y}\\u003cextra\\u003e\\u003c\\u002fextra\\u003e\",\"legendgroup\":\"Armenia\",\"marker\":{\"color\":\"#ab63fa\",\"symbol\":\"circle\"},\"mode\":\"markers\",\"name\":\"Armenia\",\"orientation\":\"v\",\"showlegend\":true,\"x\":[4.287736416],\"xaxis\":\"x\",\"y\":[0.167047],\"yaxis\":\"y\",\"type\":\"scatter\"},{\"hovertemplate\":\"Country Name=Australia\\u003cbr\\u003eLife Ladder=%{x}\\u003cbr\\u003eEating disorders (%)=%{y}\\u003cextra\\u003e\\u003c\\u002fextra\\u003e\",\"legendgroup\":\"Australia\",\"marker\":{\"color\":\"#FFA15A\",\"symbol\":\"circle\"},\"mode\":\"markers\",\"name\":\"Australia\",\"orientation\":\"v\",\"showlegend\":true,\"x\":[7.25703764],\"xaxis\":\"x\",\"y\":[0.943081],\"yaxis\":\"y\",\"type\":\"scatter\"},{\"hovertemplate\":\"Country Name=Austria\\u003cbr\\u003eLife Ladder=%{x}\\u003cbr\\u003eEating disorders (%)=%{y}\\u003cextra\\u003e\\u003c\\u002fextra\\u003e\",\"legendgroup\":\"Austria\",\"marker\":{\"color\":\"#19d3f3\",\"symbol\":\"circle\"},\"mode\":\"markers\",\"name\":\"Austria\",\"orientation\":\"v\",\"showlegend\":true,\"x\":[7.293727875],\"xaxis\":\"x\",\"y\":[0.675112],\"yaxis\":\"y\",\"type\":\"scatter\"},{\"hovertemplate\":\"Country Name=Azerbaijan\\u003cbr\\u003eLife Ladder=%{x}\\u003cbr\\u003eEating disorders (%)=%{y}\\u003cextra\\u003e\\u003c\\u002fextra\\u003e\",\"legendgroup\":\"Azerbaijan\",\"marker\":{\"color\":\"#FF6692\",\"symbol\":\"circle\"},\"mode\":\"markers\",\"name\":\"Azerbaijan\",\"orientation\":\"v\",\"showlegend\":true,\"x\":[5.152279377],\"xaxis\":\"x\",\"y\":[0.204891],\"yaxis\":\"y\",\"type\":\"scatter\"},{\"hovertemplate\":\"Country Name=Bangladesh\\u003cbr\\u003eLife Ladder=%{x}\\u003cbr\\u003eEating disorders (%)=%{y}\\u003cextra\\u003e\\u003c\\u002fextra\\u003e\",\"legendgroup\":\"Bangladesh\",\"marker\":{\"color\":\"#B6E880\",\"symbol\":\"circle\"},\"mode\":\"markers\",\"name\":\"Bangladesh\",\"orientation\":\"v\",\"showlegend\":true,\"x\":[4.309771061],\"xaxis\":\"x\",\"y\":[0.137974],\"yaxis\":\"y\",\"type\":\"scatter\"},{\"hovertemplate\":\"Country Name=Belarus\\u003cbr\\u003eLife Ladder=%{x}\\u003cbr\\u003eEating disorders (%)=%{y}\\u003cextra\\u003e\\u003c\\u002fextra\\u003e\",\"legendgroup\":\"Belarus\",\"marker\":{\"color\":\"#FF97FF\",\"symbol\":\"circle\"},\"mode\":\"markers\",\"name\":\"Belarus\",\"orientation\":\"v\",\"showlegend\":true,\"x\":[5.552915096],\"xaxis\":\"x\",\"y\":[0.210693],\"yaxis\":\"y\",\"type\":\"scatter\"},{\"hovertemplate\":\"Country Name=Belgium\\u003cbr\\u003eLife Ladder=%{x}\\u003cbr\\u003eEating disorders (%)=%{y}\\u003cextra\\u003e\\u003c\\u002fextra\\u003e\",\"legendgroup\":\"Belgium\",\"marker\":{\"color\":\"#FECB52\",\"symbol\":\"circle\"},\"mode\":\"markers\",\"name\":\"Belgium\",\"orientation\":\"v\",\"showlegend\":true,\"x\":[6.928347588],\"xaxis\":\"x\",\"y\":[0.603869],\"yaxis\":\"y\",\"type\":\"scatter\"},{\"hovertemplate\":\"Country Name=Benin\\u003cbr\\u003eLife Ladder=%{x}\\u003cbr\\u003eEating disorders (%)=%{y}\\u003cextra\\u003e\\u003c\\u002fextra\\u003e\",\"legendgroup\":\"Benin\",\"marker\":{\"color\":\"#636efa\",\"symbol\":\"circle\"},\"mode\":\"markers\",\"name\":\"Benin\",\"orientation\":\"v\",\"showlegend\":true,\"x\":[4.853180885],\"xaxis\":\"x\",\"y\":[0.12029],\"yaxis\":\"y\",\"type\":\"scatter\"},{\"hovertemplate\":\"Country Name=Bolivia\\u003cbr\\u003eLife Ladder=%{x}\\u003cbr\\u003eEating disorders (%)=%{y}\\u003cextra\\u003e\\u003c\\u002fextra\\u003e\",\"legendgroup\":\"Bolivia\",\"marker\":{\"color\":\"#EF553B\",\"symbol\":\"circle\"},\"mode\":\"markers\",\"name\":\"Bolivia\",\"orientation\":\"v\",\"showlegend\":true,\"x\":[5.65055275],\"xaxis\":\"x\",\"y\":[0.305251],\"yaxis\":\"y\",\"type\":\"scatter\"},{\"hovertemplate\":\"Country Name=Bosnia and Herzegovina\\u003cbr\\u003eLife Ladder=%{x}\\u003cbr\\u003eEating disorders (%)=%{y}\\u003cextra\\u003e\\u003c\\u002fextra\\u003e\",\"legendgroup\":\"Bosnia and Herzegovina\",\"marker\":{\"color\":\"#00cc96\",\"symbol\":\"circle\"},\"mode\":\"markers\",\"name\":\"Bosnia and Herzegovina\",\"orientation\":\"v\",\"showlegend\":true,\"x\":[5.089902401],\"xaxis\":\"x\",\"y\":[0.172474],\"yaxis\":\"y\",\"type\":\"scatter\"},{\"hovertemplate\":\"Country Name=Botswana\\u003cbr\\u003eLife Ladder=%{x}\\u003cbr\\u003eEating disorders (%)=%{y}\\u003cextra\\u003e\\u003c\\u002fextra\\u003e\",\"legendgroup\":\"Botswana\",\"marker\":{\"color\":\"#ab63fa\",\"symbol\":\"circle\"},\"mode\":\"markers\",\"name\":\"Botswana\",\"orientation\":\"v\",\"showlegend\":true,\"x\":[3.504881144],\"xaxis\":\"x\",\"y\":[0.227733],\"yaxis\":\"y\",\"type\":\"scatter\"},{\"hovertemplate\":\"Country Name=Brazil\\u003cbr\\u003eLife Ladder=%{x}\\u003cbr\\u003eEating disorders (%)=%{y}\\u003cextra\\u003e\\u003c\\u002fextra\\u003e\",\"legendgroup\":\"Brazil\",\"marker\":{\"color\":\"#FFA15A\",\"symbol\":\"circle\"},\"mode\":\"markers\",\"name\":\"Brazil\",\"orientation\":\"v\",\"showlegend\":true,\"x\":[6.332929134],\"xaxis\":\"x\",\"y\":[0.277051],\"yaxis\":\"y\",\"type\":\"scatter\"},{\"hovertemplate\":\"Country Name=Bulgaria\\u003cbr\\u003eLife Ladder=%{x}\\u003cbr\\u003eEating disorders (%)=%{y}\\u003cextra\\u003e\\u003c\\u002fextra\\u003e\",\"legendgroup\":\"Bulgaria\",\"marker\":{\"color\":\"#19d3f3\",\"symbol\":\"circle\"},\"mode\":\"markers\",\"name\":\"Bulgaria\",\"orientation\":\"v\",\"showlegend\":true,\"x\":[5.096901894],\"xaxis\":\"x\",\"y\":[0.202411],\"yaxis\":\"y\",\"type\":\"scatter\"},{\"hovertemplate\":\"Country Name=Burkina Faso\\u003cbr\\u003eLife Ladder=%{x}\\u003cbr\\u003eEating disorders (%)=%{y}\\u003cextra\\u003e\\u003c\\u002fextra\\u003e\",\"legendgroup\":\"Burkina Faso\",\"marker\":{\"color\":\"#FF6692\",\"symbol\":\"circle\"},\"mode\":\"markers\",\"name\":\"Burkina Faso\",\"orientation\":\"v\",\"showlegend\":true,\"x\":[4.646891117],\"xaxis\":\"x\",\"y\":[0.113354],\"yaxis\":\"y\",\"type\":\"scatter\"},{\"hovertemplate\":\"Country Name=Cambodia\\u003cbr\\u003eLife Ladder=%{x}\\u003cbr\\u003eEating disorders (%)=%{y}\\u003cextra\\u003e\\u003c\\u002fextra\\u003e\",\"legendgroup\":\"Cambodia\",\"marker\":{\"color\":\"#B6E880\",\"symbol\":\"circle\"},\"mode\":\"markers\",\"name\":\"Cambodia\",\"orientation\":\"v\",\"showlegend\":true,\"x\":[4.585842133],\"xaxis\":\"x\",\"y\":[0.108379],\"yaxis\":\"y\",\"type\":\"scatter\"},{\"hovertemplate\":\"Country Name=Cameroon\\u003cbr\\u003eLife Ladder=%{x}\\u003cbr\\u003eEating disorders (%)=%{y}\\u003cextra\\u003e\\u003c\\u002fextra\\u003e\",\"legendgroup\":\"Cameroon\",\"marker\":{\"color\":\"#FF97FF\",\"symbol\":\"circle\"},\"mode\":\"markers\",\"name\":\"Cameroon\",\"orientation\":\"v\",\"showlegend\":true,\"x\":[5.07405138],\"xaxis\":\"x\",\"y\":[0.13379],\"yaxis\":\"y\",\"type\":\"scatter\"},{\"hovertemplate\":\"Country Name=Canada\\u003cbr\\u003eLife Ladder=%{x}\\u003cbr\\u003eEating disorders (%)=%{y}\\u003cextra\\u003e\\u003c\\u002fextra\\u003e\",\"legendgroup\":\"Canada\",\"marker\":{\"color\":\"#FECB52\",\"symbol\":\"circle\"},\"mode\":\"markers\",\"name\":\"Canada\",\"orientation\":\"v\",\"showlegend\":true,\"x\":[7.414868355],\"xaxis\":\"x\",\"y\":[0.477304],\"yaxis\":\"y\",\"type\":\"scatter\"},{\"hovertemplate\":\"Country Name=Chad\\u003cbr\\u003eLife Ladder=%{x}\\u003cbr\\u003eEating disorders (%)=%{y}\\u003cextra\\u003e\\u003c\\u002fextra\\u003e\",\"legendgroup\":\"Chad\",\"marker\":{\"color\":\"#636efa\",\"symbol\":\"circle\"},\"mode\":\"markers\",\"name\":\"Chad\",\"orientation\":\"v\",\"showlegend\":true,\"x\":[4.558937073],\"xaxis\":\"x\",\"y\":[0.122129],\"yaxis\":\"y\",\"type\":\"scatter\"},{\"hovertemplate\":\"Country Name=Chile\\u003cbr\\u003eLife Ladder=%{x}\\u003cbr\\u003eEating disorders (%)=%{y}\\u003cextra\\u003e\\u003c\\u002fextra\\u003e\",\"legendgroup\":\"Chile\",\"marker\":{\"color\":\"#EF553B\",\"symbol\":\"circle\"},\"mode\":\"markers\",\"name\":\"Chile\",\"orientation\":\"v\",\"showlegend\":true,\"x\":[6.320119381],\"xaxis\":\"x\",\"y\":[0.416123],\"yaxis\":\"y\",\"type\":\"scatter\"},{\"hovertemplate\":\"Country Name=Colombia\\u003cbr\\u003eLife Ladder=%{x}\\u003cbr\\u003eEating disorders (%)=%{y}\\u003cextra\\u003e\\u003c\\u002fextra\\u003e\",\"legendgroup\":\"Colombia\",\"marker\":{\"color\":\"#00cc96\",\"symbol\":\"circle\"},\"mode\":\"markers\",\"name\":\"Colombia\",\"orientation\":\"v\",\"showlegend\":true,\"x\":[6.157341957],\"xaxis\":\"x\",\"y\":[0.260257],\"yaxis\":\"y\",\"type\":\"scatter\"},{\"hovertemplate\":\"Country Name=Costa Rica\\u003cbr\\u003eLife Ladder=%{x}\\u003cbr\\u003eEating disorders (%)=%{y}\\u003cextra\\u003e\\u003c\\u002fextra\\u003e\",\"legendgroup\":\"Costa Rica\",\"marker\":{\"color\":\"#ab63fa\",\"symbol\":\"circle\"},\"mode\":\"markers\",\"name\":\"Costa Rica\",\"orientation\":\"v\",\"showlegend\":true,\"x\":[7.22518158],\"xaxis\":\"x\",\"y\":[0.289342],\"yaxis\":\"y\",\"type\":\"scatter\"},{\"hovertemplate\":\"Country Name=Croatia\\u003cbr\\u003eLife Ladder=%{x}\\u003cbr\\u003eEating disorders (%)=%{y}\\u003cextra\\u003e\\u003c\\u002fextra\\u003e\",\"legendgroup\":\"Croatia\",\"marker\":{\"color\":\"#FFA15A\",\"symbol\":\"circle\"},\"mode\":\"markers\",\"name\":\"Croatia\",\"orientation\":\"v\",\"showlegend\":true,\"x\":[5.343165874],\"xaxis\":\"x\",\"y\":[0.217975],\"yaxis\":\"y\",\"type\":\"scatter\"},{\"hovertemplate\":\"Country Name=Cyprus\\u003cbr\\u003eLife Ladder=%{x}\\u003cbr\\u003eEating disorders (%)=%{y}\\u003cextra\\u003e\\u003c\\u002fextra\\u003e\",\"legendgroup\":\"Cyprus\",\"marker\":{\"color\":\"#19d3f3\",\"symbol\":\"circle\"},\"mode\":\"markers\",\"name\":\"Cyprus\",\"orientation\":\"v\",\"showlegend\":true,\"x\":[6.062051296],\"xaxis\":\"x\",\"y\":[0.506721],\"yaxis\":\"y\",\"type\":\"scatter\"},{\"hovertemplate\":\"Country Name=Denmark\\u003cbr\\u003eLife Ladder=%{x}\\u003cbr\\u003eEating disorders (%)=%{y}\\u003cextra\\u003e\\u003c\\u002fextra\\u003e\",\"legendgroup\":\"Denmark\",\"marker\":{\"color\":\"#FF6692\",\"symbol\":\"circle\"},\"mode\":\"markers\",\"name\":\"Denmark\",\"orientation\":\"v\",\"showlegend\":true,\"x\":[7.593702316],\"xaxis\":\"x\",\"y\":[0.540025],\"yaxis\":\"y\",\"type\":\"scatter\"},{\"hovertemplate\":\"Country Name=Dominican Republic\\u003cbr\\u003eLife Ladder=%{x}\\u003cbr\\u003eEating disorders (%)=%{y}\\u003cextra\\u003e\\u003c\\u002fextra\\u003e\",\"legendgroup\":\"Dominican Republic\",\"marker\":{\"color\":\"#B6E880\",\"symbol\":\"circle\"},\"mode\":\"markers\",\"name\":\"Dominican Republic\",\"orientation\":\"v\",\"showlegend\":true,\"x\":[5.605202675],\"xaxis\":\"x\",\"y\":[0.303058],\"yaxis\":\"y\",\"type\":\"scatter\"},{\"hovertemplate\":\"Country Name=Ecuador\\u003cbr\\u003eLife Ladder=%{x}\\u003cbr\\u003eEating disorders (%)=%{y}\\u003cextra\\u003e\\u003c\\u002fextra\\u003e\",\"legendgroup\":\"Ecuador\",\"marker\":{\"color\":\"#FF97FF\",\"symbol\":\"circle\"},\"mode\":\"markers\",\"name\":\"Ecuador\",\"orientation\":\"v\",\"showlegend\":true,\"x\":[5.839518547],\"xaxis\":\"x\",\"y\":[0.363733],\"yaxis\":\"y\",\"type\":\"scatter\"},{\"hovertemplate\":\"Country Name=El Salvador\\u003cbr\\u003eLife Ladder=%{x}\\u003cbr\\u003eEating disorders (%)=%{y}\\u003cextra\\u003e\\u003c\\u002fextra\\u003e\",\"legendgroup\":\"El Salvador\",\"marker\":{\"color\":\"#FECB52\",\"symbol\":\"circle\"},\"mode\":\"markers\",\"name\":\"El Salvador\",\"orientation\":\"v\",\"showlegend\":true,\"x\":[6.339318275],\"xaxis\":\"x\",\"y\":[0.243873],\"yaxis\":\"y\",\"type\":\"scatter\"},{\"hovertemplate\":\"Country Name=Estonia\\u003cbr\\u003eLife Ladder=%{x}\\u003cbr\\u003eEating disorders (%)=%{y}\\u003cextra\\u003e\\u003c\\u002fextra\\u003e\",\"legendgroup\":\"Estonia\",\"marker\":{\"color\":\"#636efa\",\"symbol\":\"circle\"},\"mode\":\"markers\",\"name\":\"Estonia\",\"orientation\":\"v\",\"showlegend\":true,\"x\":[5.938395977],\"xaxis\":\"x\",\"y\":[0.250271],\"yaxis\":\"y\",\"type\":\"scatter\"},{\"hovertemplate\":\"Country Name=Ethiopia\\u003cbr\\u003eLife Ladder=%{x}\\u003cbr\\u003eEating disorders (%)=%{y}\\u003cextra\\u003e\\u003c\\u002fextra\\u003e\",\"legendgroup\":\"Ethiopia\",\"marker\":{\"color\":\"#EF553B\",\"symbol\":\"circle\"},\"mode\":\"markers\",\"name\":\"Ethiopia\",\"orientation\":\"v\",\"showlegend\":true,\"x\":[4.180315495],\"xaxis\":\"x\",\"y\":[0.109817],\"yaxis\":\"y\",\"type\":\"scatter\"},{\"hovertemplate\":\"Country Name=Finland\\u003cbr\\u003eLife Ladder=%{x}\\u003cbr\\u003eEating disorders (%)=%{y}\\u003cextra\\u003e\\u003c\\u002fextra\\u003e\",\"legendgroup\":\"Finland\",\"marker\":{\"color\":\"#00cc96\",\"symbol\":\"circle\"},\"mode\":\"markers\",\"name\":\"Finland\",\"orientation\":\"v\",\"showlegend\":true,\"x\":[7.788251877],\"xaxis\":\"x\",\"y\":[0.594938],\"yaxis\":\"y\",\"type\":\"scatter\"},{\"hovertemplate\":\"Country Name=France\\u003cbr\\u003eLife Ladder=%{x}\\u003cbr\\u003eEating disorders (%)=%{y}\\u003cextra\\u003e\\u003c\\u002fextra\\u003e\",\"legendgroup\":\"France\",\"marker\":{\"color\":\"#ab63fa\",\"symbol\":\"circle\"},\"mode\":\"markers\",\"name\":\"France\",\"orientation\":\"v\",\"showlegend\":true,\"x\":[6.635222435],\"xaxis\":\"x\",\"y\":[0.573755],\"yaxis\":\"y\",\"type\":\"scatter\"},{\"hovertemplate\":\"Country Name=Gabon\\u003cbr\\u003eLife Ladder=%{x}\\u003cbr\\u003eEating disorders (%)=%{y}\\u003cextra\\u003e\\u003c\\u002fextra\\u003e\",\"legendgroup\":\"Gabon\",\"marker\":{\"color\":\"#FFA15A\",\"symbol\":\"circle\"},\"mode\":\"markers\",\"name\":\"Gabon\",\"orientation\":\"v\",\"showlegend\":true,\"x\":[4.782382965],\"xaxis\":\"x\",\"y\":[0.226577],\"yaxis\":\"y\",\"type\":\"scatter\"},{\"hovertemplate\":\"Country Name=Gambia\\u003cbr\\u003eLife Ladder=%{x}\\u003cbr\\u003eEating disorders (%)=%{y}\\u003cextra\\u003e\\u003c\\u002fextra\\u003e\",\"legendgroup\":\"Gambia\",\"marker\":{\"color\":\"#19d3f3\",\"symbol\":\"circle\"},\"mode\":\"markers\",\"name\":\"Gambia\",\"orientation\":\"v\",\"showlegend\":true,\"x\":[4.117938995],\"xaxis\":\"x\",\"y\":[0.113298],\"yaxis\":\"y\",\"type\":\"scatter\"},{\"hovertemplate\":\"Country Name=Georgia\\u003cbr\\u003eLife Ladder=%{x}\\u003cbr\\u003eEating disorders (%)=%{y}\\u003cextra\\u003e\\u003c\\u002fextra\\u003e\",\"legendgroup\":\"Georgia\",\"marker\":{\"color\":\"#FF6692\",\"symbol\":\"circle\"},\"mode\":\"markers\",\"name\":\"Georgia\",\"orientation\":\"v\",\"showlegend\":true,\"x\":[4.45077467],\"xaxis\":\"x\",\"y\":[0.17164],\"yaxis\":\"y\",\"type\":\"scatter\"},{\"hovertemplate\":\"Country Name=Germany\\u003cbr\\u003eLife Ladder=%{x}\\u003cbr\\u003eEating disorders (%)=%{y}\\u003cextra\\u003e\\u003c\\u002fextra\\u003e\",\"legendgroup\":\"Germany\",\"marker\":{\"color\":\"#B6E880\",\"symbol\":\"circle\"},\"mode\":\"markers\",\"name\":\"Germany\",\"orientation\":\"v\",\"showlegend\":true,\"x\":[7.074324608],\"xaxis\":\"x\",\"y\":[0.522066],\"yaxis\":\"y\",\"type\":\"scatter\"},{\"hovertemplate\":\"Country Name=Ghana\\u003cbr\\u003eLife Ladder=%{x}\\u003cbr\\u003eEating disorders (%)=%{y}\\u003cextra\\u003e\\u003c\\u002fextra\\u003e\",\"legendgroup\":\"Ghana\",\"marker\":{\"color\":\"#FF97FF\",\"symbol\":\"circle\"},\"mode\":\"markers\",\"name\":\"Ghana\",\"orientation\":\"v\",\"showlegend\":true,\"x\":[5.481310844],\"xaxis\":\"x\",\"y\":[0.147452],\"yaxis\":\"y\",\"type\":\"scatter\"},{\"hovertemplate\":\"Country Name=Greece\\u003cbr\\u003eLife Ladder=%{x}\\u003cbr\\u003eEating disorders (%)=%{y}\\u003cextra\\u003e\\u003c\\u002fextra\\u003e\",\"legendgroup\":\"Greece\",\"marker\":{\"color\":\"#FECB52\",\"symbol\":\"circle\"},\"mode\":\"markers\",\"name\":\"Greece\",\"orientation\":\"v\",\"showlegend\":true,\"x\":[5.14824152],\"xaxis\":\"x\",\"y\":[0.559324],\"yaxis\":\"y\",\"type\":\"scatter\"},{\"hovertemplate\":\"Country Name=Guatemala\\u003cbr\\u003eLife Ladder=%{x}\\u003cbr\\u003eEating disorders (%)=%{y}\\u003cextra\\u003e\\u003c\\u002fextra\\u003e\",\"legendgroup\":\"Guatemala\",\"marker\":{\"color\":\"#636efa\",\"symbol\":\"circle\"},\"mode\":\"markers\",\"name\":\"Guatemala\",\"orientation\":\"v\",\"showlegend\":true,\"x\":[6.325118542],\"xaxis\":\"x\",\"y\":[0.23211],\"yaxis\":\"y\",\"type\":\"scatter\"},{\"hovertemplate\":\"Country Name=Guinea\\u003cbr\\u003eLife Ladder=%{x}\\u003cbr\\u003eEating disorders (%)=%{y}\\u003cextra\\u003e\\u003c\\u002fextra\\u003e\",\"legendgroup\":\"Guinea\",\"marker\":{\"color\":\"#EF553B\",\"symbol\":\"circle\"},\"mode\":\"markers\",\"name\":\"Guinea\",\"orientation\":\"v\",\"showlegend\":true,\"x\":[4.873722553],\"xaxis\":\"x\",\"y\":[0.112388],\"yaxis\":\"y\",\"type\":\"scatter\"},{\"hovertemplate\":\"Country Name=Haiti\\u003cbr\\u003eLife Ladder=%{x}\\u003cbr\\u003eEating disorders (%)=%{y}\\u003cextra\\u003e\\u003c\\u002fextra\\u003e\",\"legendgroup\":\"Haiti\",\"marker\":{\"color\":\"#00cc96\",\"symbol\":\"circle\"},\"mode\":\"markers\",\"name\":\"Haiti\",\"orientation\":\"v\",\"showlegend\":true,\"x\":[3.823865652],\"xaxis\":\"x\",\"y\":[0.16079],\"yaxis\":\"y\",\"type\":\"scatter\"},{\"hovertemplate\":\"Country Name=Honduras\\u003cbr\\u003eLife Ladder=%{x}\\u003cbr\\u003eEating disorders (%)=%{y}\\u003cextra\\u003e\\u003c\\u002fextra\\u003e\",\"legendgroup\":\"Honduras\",\"marker\":{\"color\":\"#ab63fa\",\"symbol\":\"circle\"},\"mode\":\"markers\",\"name\":\"Honduras\",\"orientation\":\"v\",\"showlegend\":true,\"x\":[6.019985676],\"xaxis\":\"x\",\"y\":[0.203339],\"yaxis\":\"y\",\"type\":\"scatter\"},{\"hovertemplate\":\"Country Name=Hungary\\u003cbr\\u003eLife Ladder=%{x}\\u003cbr\\u003eEating disorders (%)=%{y}\\u003cextra\\u003e\\u003c\\u002fextra\\u003e\",\"legendgroup\":\"Hungary\",\"marker\":{\"color\":\"#FFA15A\",\"symbol\":\"circle\"},\"mode\":\"markers\",\"name\":\"Hungary\",\"orientation\":\"v\",\"showlegend\":true,\"x\":[6.065038681],\"xaxis\":\"x\",\"y\":[0.237686],\"yaxis\":\"y\",\"type\":\"scatter\"},{\"hovertemplate\":\"Country Name=Iceland\\u003cbr\\u003eLife Ladder=%{x}\\u003cbr\\u003eEating disorders (%)=%{y}\\u003cextra\\u003e\\u003c\\u002fextra\\u003e\",\"legendgroup\":\"Iceland\",\"marker\":{\"color\":\"#19d3f3\",\"symbol\":\"circle\"},\"mode\":\"markers\",\"name\":\"Iceland\",\"orientation\":\"v\",\"showlegend\":true,\"x\":[7.476213932],\"xaxis\":\"x\",\"y\":[0.558014],\"yaxis\":\"y\",\"type\":\"scatter\"},{\"hovertemplate\":\"Country Name=India\\u003cbr\\u003eLife Ladder=%{x}\\u003cbr\\u003eEating disorders (%)=%{y}\\u003cextra\\u003e\\u003c\\u002fextra\\u003e\",\"legendgroup\":\"India\",\"marker\":{\"color\":\"#FF6692\",\"symbol\":\"circle\"},\"mode\":\"markers\",\"name\":\"India\",\"orientation\":\"v\",\"showlegend\":true,\"x\":[4.046111107],\"xaxis\":\"x\",\"y\":[0.157758],\"yaxis\":\"y\",\"type\":\"scatter\"},{\"hovertemplate\":\"Country Name=Indonesia\\u003cbr\\u003eLife Ladder=%{x}\\u003cbr\\u003eEating disorders (%)=%{y}\\u003cextra\\u003e\\u003c\\u002fextra\\u003e\",\"legendgroup\":\"Indonesia\",\"marker\":{\"color\":\"#B6E880\",\"symbol\":\"circle\"},\"mode\":\"markers\",\"name\":\"Indonesia\",\"orientation\":\"v\",\"showlegend\":true,\"x\":[5.098401546],\"xaxis\":\"x\",\"y\":[0.148782],\"yaxis\":\"y\",\"type\":\"scatter\"},{\"hovertemplate\":\"Country Name=Iraq\\u003cbr\\u003eLife Ladder=%{x}\\u003cbr\\u003eEating disorders (%)=%{y}\\u003cextra\\u003e\\u003c\\u002fextra\\u003e\",\"legendgroup\":\"Iraq\",\"marker\":{\"color\":\"#FF97FF\",\"symbol\":\"circle\"},\"mode\":\"markers\",\"name\":\"Iraq\",\"orientation\":\"v\",\"showlegend\":true,\"x\":[4.462399006],\"xaxis\":\"x\",\"y\":[0.208672],\"yaxis\":\"y\",\"type\":\"scatter\"},{\"hovertemplate\":\"Country Name=Ireland\\u003cbr\\u003eLife Ladder=%{x}\\u003cbr\\u003eEating disorders (%)=%{y}\\u003cextra\\u003e\\u003c\\u002fextra\\u003e\",\"legendgroup\":\"Ireland\",\"marker\":{\"color\":\"#FECB52\",\"symbol\":\"circle\"},\"mode\":\"markers\",\"name\":\"Ireland\",\"orientation\":\"v\",\"showlegend\":true,\"x\":[7.060155392],\"xaxis\":\"x\",\"y\":[0.559995],\"yaxis\":\"y\",\"type\":\"scatter\"},{\"hovertemplate\":\"Country Name=Israel\\u003cbr\\u003eLife Ladder=%{x}\\u003cbr\\u003eEating disorders (%)=%{y}\\u003cextra\\u003e\\u003c\\u002fextra\\u003e\",\"legendgroup\":\"Israel\",\"marker\":{\"color\":\"#636efa\",\"symbol\":\"circle\"},\"mode\":\"markers\",\"name\":\"Israel\",\"orientation\":\"v\",\"showlegend\":true,\"x\":[7.331036091],\"xaxis\":\"x\",\"y\":[0.461175],\"yaxis\":\"y\",\"type\":\"scatter\"},{\"hovertemplate\":\"Country Name=Italy\\u003cbr\\u003eLife Ladder=%{x}\\u003cbr\\u003eEating disorders (%)=%{y}\\u003cextra\\u003e\\u003c\\u002fextra\\u003e\",\"legendgroup\":\"Italy\",\"marker\":{\"color\":\"#EF553B\",\"symbol\":\"circle\"},\"mode\":\"markers\",\"name\":\"Italy\",\"orientation\":\"v\",\"showlegend\":true,\"x\":[6.198870182],\"xaxis\":\"x\",\"y\":[0.626784],\"yaxis\":\"y\",\"type\":\"scatter\"},{\"hovertemplate\":\"Country Name=Jamaica\\u003cbr\\u003eLife Ladder=%{x}\\u003cbr\\u003eEating disorders (%)=%{y}\\u003cextra\\u003e\\u003c\\u002fextra\\u003e\",\"legendgroup\":\"Jamaica\",\"marker\":{\"color\":\"#00cc96\",\"symbol\":\"circle\"},\"mode\":\"markers\",\"name\":\"Jamaica\",\"orientation\":\"v\",\"showlegend\":true,\"x\":[5.889759064],\"xaxis\":\"x\",\"y\":[0.25965],\"yaxis\":\"y\",\"type\":\"scatter\"},{\"hovertemplate\":\"Country Name=Japan\\u003cbr\\u003eLife Ladder=%{x}\\u003cbr\\u003eEating disorders (%)=%{y}\\u003cextra\\u003e\\u003c\\u002fextra\\u003e\",\"legendgroup\":\"Japan\",\"marker\":{\"color\":\"#ab63fa\",\"symbol\":\"circle\"},\"mode\":\"markers\",\"name\":\"Japan\",\"orientation\":\"v\",\"showlegend\":true,\"x\":[5.910676479],\"xaxis\":\"x\",\"y\":[0.454379],\"yaxis\":\"y\",\"type\":\"scatter\"},{\"hovertemplate\":\"Country Name=Kazakhstan\\u003cbr\\u003eLife Ladder=%{x}\\u003cbr\\u003eEating disorders (%)=%{y}\\u003cextra\\u003e\\u003c\\u002fextra\\u003e\",\"legendgroup\":\"Kazakhstan\",\"marker\":{\"color\":\"#FFA15A\",\"symbol\":\"circle\"},\"mode\":\"markers\",\"name\":\"Kazakhstan\",\"orientation\":\"v\",\"showlegend\":true,\"x\":[5.882351398],\"xaxis\":\"x\",\"y\":[0.227918],\"yaxis\":\"y\",\"type\":\"scatter\"},{\"hovertemplate\":\"Country Name=Kenya\\u003cbr\\u003eLife Ladder=%{x}\\u003cbr\\u003eEating disorders (%)=%{y}\\u003cextra\\u003e\\u003c\\u002fextra\\u003e\",\"legendgroup\":\"Kenya\",\"marker\":{\"color\":\"#19d3f3\",\"symbol\":\"circle\"},\"mode\":\"markers\",\"name\":\"Kenya\",\"orientation\":\"v\",\"showlegend\":true,\"x\":[4.475654125],\"xaxis\":\"x\",\"y\":[0.135005],\"yaxis\":\"y\",\"type\":\"scatter\"},{\"hovertemplate\":\"Country Name=Kyrgyzstan\\u003cbr\\u003eLife Ladder=%{x}\\u003cbr\\u003eEating disorders (%)=%{y}\\u003cextra\\u003e\\u003c\\u002fextra\\u003e\",\"legendgroup\":\"Kyrgyzstan\",\"marker\":{\"color\":\"#FF6692\",\"symbol\":\"circle\"},\"mode\":\"markers\",\"name\":\"Kyrgyzstan\",\"orientation\":\"v\",\"showlegend\":true,\"x\":[5.629536629],\"xaxis\":\"x\",\"y\":[0.127525],\"yaxis\":\"y\",\"type\":\"scatter\"},{\"hovertemplate\":\"Country Name=Laos\\u003cbr\\u003eLife Ladder=%{x}\\u003cbr\\u003eEating disorders (%)=%{y}\\u003cextra\\u003e\\u003c\\u002fextra\\u003e\",\"legendgroup\":\"Laos\",\"marker\":{\"color\":\"#B6E880\",\"symbol\":\"circle\"},\"mode\":\"markers\",\"name\":\"Laos\",\"orientation\":\"v\",\"showlegend\":true,\"x\":[4.623140812],\"xaxis\":\"x\",\"y\":[0.128172],\"yaxis\":\"y\",\"type\":\"scatter\"},{\"hovertemplate\":\"Country Name=Latvia\\u003cbr\\u003eLife Ladder=%{x}\\u003cbr\\u003eEating disorders (%)=%{y}\\u003cextra\\u003e\\u003c\\u002fextra\\u003e\",\"legendgroup\":\"Latvia\",\"marker\":{\"color\":\"#FF97FF\",\"symbol\":\"circle\"},\"mode\":\"markers\",\"name\":\"Latvia\",\"orientation\":\"v\",\"showlegend\":true,\"x\":[5.977817535],\"xaxis\":\"x\",\"y\":[0.225275],\"yaxis\":\"y\",\"type\":\"scatter\"},{\"hovertemplate\":\"Country Name=Lebanon\\u003cbr\\u003eLife Ladder=%{x}\\u003cbr\\u003eEating disorders (%)=%{y}\\u003cextra\\u003e\\u003c\\u002fextra\\u003e\",\"legendgroup\":\"Lebanon\",\"marker\":{\"color\":\"#FECB52\",\"symbol\":\"circle\"},\"mode\":\"markers\",\"name\":\"Lebanon\",\"orientation\":\"v\",\"showlegend\":true,\"x\":[5.153989792],\"xaxis\":\"x\",\"y\":[0.219049],\"yaxis\":\"y\",\"type\":\"scatter\"},{\"hovertemplate\":\"Country Name=Lesotho\\u003cbr\\u003eLife Ladder=%{x}\\u003cbr\\u003eEating disorders (%)=%{y}\\u003cextra\\u003e\\u003c\\u002fextra\\u003e\",\"legendgroup\":\"Lesotho\",\"marker\":{\"color\":\"#636efa\",\"symbol\":\"circle\"},\"mode\":\"markers\",\"name\":\"Lesotho\",\"orientation\":\"v\",\"showlegend\":true,\"x\":[3.795300722],\"xaxis\":\"x\",\"y\":[0.136801],\"yaxis\":\"y\",\"type\":\"scatter\"},{\"hovertemplate\":\"Country Name=Liberia\\u003cbr\\u003eLife Ladder=%{x}\\u003cbr\\u003eEating disorders (%)=%{y}\\u003cextra\\u003e\\u003c\\u002fextra\\u003e\",\"legendgroup\":\"Liberia\",\"marker\":{\"color\":\"#EF553B\",\"symbol\":\"circle\"},\"mode\":\"markers\",\"name\":\"Liberia\",\"orientation\":\"v\",\"showlegend\":true,\"x\":[4.424490929],\"xaxis\":\"x\",\"y\":[0.091591],\"yaxis\":\"y\",\"type\":\"scatter\"},{\"hovertemplate\":\"Country Name=Lithuania\\u003cbr\\u003eLife Ladder=%{x}\\u003cbr\\u003eEating disorders (%)=%{y}\\u003cextra\\u003e\\u003c\\u002fextra\\u003e\",\"legendgroup\":\"Lithuania\",\"marker\":{\"color\":\"#00cc96\",\"symbol\":\"circle\"},\"mode\":\"markers\",\"name\":\"Lithuania\",\"orientation\":\"v\",\"showlegend\":true,\"x\":[6.272940636],\"xaxis\":\"x\",\"y\":[0.234095],\"yaxis\":\"y\",\"type\":\"scatter\"},{\"hovertemplate\":\"Country Name=Luxembourg\\u003cbr\\u003eLife Ladder=%{x}\\u003cbr\\u003eEating disorders (%)=%{y}\\u003cextra\\u003e\\u003c\\u002fextra\\u003e\",\"legendgroup\":\"Luxembourg\",\"marker\":{\"color\":\"#ab63fa\",\"symbol\":\"circle\"},\"mode\":\"markers\",\"name\":\"Luxembourg\",\"orientation\":\"v\",\"showlegend\":true,\"x\":[7.061380863],\"xaxis\":\"x\",\"y\":[0.737917],\"yaxis\":\"y\",\"type\":\"scatter\"},{\"hovertemplate\":\"Country Name=Madagascar\\u003cbr\\u003eLife Ladder=%{x}\\u003cbr\\u003eEating disorders (%)=%{y}\\u003cextra\\u003e\\u003c\\u002fextra\\u003e\",\"legendgroup\":\"Madagascar\",\"marker\":{\"color\":\"#FFA15A\",\"symbol\":\"circle\"},\"mode\":\"markers\",\"name\":\"Madagascar\",\"orientation\":\"v\",\"showlegend\":true,\"x\":[4.078620434],\"xaxis\":\"x\",\"y\":[0.106417],\"yaxis\":\"y\",\"type\":\"scatter\"},{\"hovertemplate\":\"Country Name=Malawi\\u003cbr\\u003eLife Ladder=%{x}\\u003cbr\\u003eEating disorders (%)=%{y}\\u003cextra\\u003e\\u003c\\u002fextra\\u003e\",\"legendgroup\":\"Malawi\",\"marker\":{\"color\":\"#19d3f3\",\"symbol\":\"circle\"},\"mode\":\"markers\",\"name\":\"Malawi\",\"orientation\":\"v\",\"showlegend\":true,\"x\":[3.416862965],\"xaxis\":\"x\",\"y\":[0.100349],\"yaxis\":\"y\",\"type\":\"scatter\"},{\"hovertemplate\":\"Country Name=Mali\\u003cbr\\u003eLife Ladder=%{x}\\u003cbr\\u003eEating disorders (%)=%{y}\\u003cextra\\u003e\\u003c\\u002fextra\\u003e\",\"legendgroup\":\"Mali\",\"marker\":{\"color\":\"#FF6692\",\"symbol\":\"circle\"},\"mode\":\"markers\",\"name\":\"Mali\",\"orientation\":\"v\",\"showlegend\":true,\"x\":[4.741850376],\"xaxis\":\"x\",\"y\":[0.116675],\"yaxis\":\"y\",\"type\":\"scatter\"},{\"hovertemplate\":\"Country Name=Malta\\u003cbr\\u003eLife Ladder=%{x}\\u003cbr\\u003eEating disorders (%)=%{y}\\u003cextra\\u003e\\u003c\\u002fextra\\u003e\",\"legendgroup\":\"Malta\",\"marker\":{\"color\":\"#B6E880\",\"symbol\":\"circle\"},\"mode\":\"markers\",\"name\":\"Malta\",\"orientation\":\"v\",\"showlegend\":true,\"x\":[6.675665855],\"xaxis\":\"x\",\"y\":[0.51914],\"yaxis\":\"y\",\"type\":\"scatter\"},{\"hovertemplate\":\"Country Name=Mauritania\\u003cbr\\u003eLife Ladder=%{x}\\u003cbr\\u003eEating disorders (%)=%{y}\\u003cextra\\u003e\\u003c\\u002fextra\\u003e\",\"legendgroup\":\"Mauritania\",\"marker\":{\"color\":\"#FF97FF\",\"symbol\":\"circle\"},\"mode\":\"markers\",\"name\":\"Mauritania\",\"orientation\":\"v\",\"showlegend\":true,\"x\":[4.678159714],\"xaxis\":\"x\",\"y\":[0.145276],\"yaxis\":\"y\",\"type\":\"scatter\"},{\"hovertemplate\":\"Country Name=Mauritius\\u003cbr\\u003eLife Ladder=%{x}\\u003cbr\\u003eEating disorders (%)=%{y}\\u003cextra\\u003e\\u003c\\u002fextra\\u003e\",\"legendgroup\":\"Mauritius\",\"marker\":{\"color\":\"#FECB52\",\"symbol\":\"circle\"},\"mode\":\"markers\",\"name\":\"Mauritius\",\"orientation\":\"v\",\"showlegend\":true,\"x\":[6.174117565],\"xaxis\":\"x\",\"y\":[0.184433],\"yaxis\":\"y\",\"type\":\"scatter\"},{\"hovertemplate\":\"Country Name=Mexico\\u003cbr\\u003eLife Ladder=%{x}\\u003cbr\\u003eEating disorders (%)=%{y}\\u003cextra\\u003e\\u003c\\u002fextra\\u003e\",\"legendgroup\":\"Mexico\",\"marker\":{\"color\":\"#636efa\",\"symbol\":\"circle\"},\"mode\":\"markers\",\"name\":\"Mexico\",\"orientation\":\"v\",\"showlegend\":true,\"x\":[6.410299301],\"xaxis\":\"x\",\"y\":[0.316975],\"yaxis\":\"y\",\"type\":\"scatter\"},{\"hovertemplate\":\"Country Name=Moldova\\u003cbr\\u003eLife Ladder=%{x}\\u003cbr\\u003eEating disorders (%)=%{y}\\u003cextra\\u003e\\u003c\\u002fextra\\u003e\",\"legendgroup\":\"Moldova\",\"marker\":{\"color\":\"#EF553B\",\"symbol\":\"circle\"},\"mode\":\"markers\",\"name\":\"Moldova\",\"orientation\":\"v\",\"showlegend\":true,\"x\":[5.325530529],\"xaxis\":\"x\",\"y\":[0.141701],\"yaxis\":\"y\",\"type\":\"scatter\"},{\"hovertemplate\":\"Country Name=Mongolia\\u003cbr\\u003eLife Ladder=%{x}\\u003cbr\\u003eEating disorders (%)=%{y}\\u003cextra\\u003e\\u003c\\u002fextra\\u003e\",\"legendgroup\":\"Mongolia\",\"marker\":{\"color\":\"#00cc96\",\"symbol\":\"circle\"},\"mode\":\"markers\",\"name\":\"Mongolia\",\"orientation\":\"v\",\"showlegend\":true,\"x\":[5.333850384],\"xaxis\":\"x\",\"y\":[0.180157],\"yaxis\":\"y\",\"type\":\"scatter\"},{\"hovertemplate\":\"Country Name=Montenegro\\u003cbr\\u003eLife Ladder=%{x}\\u003cbr\\u003eEating disorders (%)=%{y}\\u003cextra\\u003e\\u003c\\u002fextra\\u003e\",\"legendgroup\":\"Montenegro\",\"marker\":{\"color\":\"#ab63fa\",\"symbol\":\"circle\"},\"mode\":\"markers\",\"name\":\"Montenegro\",\"orientation\":\"v\",\"showlegend\":true,\"x\":[5.614798546],\"xaxis\":\"x\",\"y\":[0.194161],\"yaxis\":\"y\",\"type\":\"scatter\"},{\"hovertemplate\":\"Country Name=Mozambique\\u003cbr\\u003eLife Ladder=%{x}\\u003cbr\\u003eEating disorders (%)=%{y}\\u003cextra\\u003e\\u003c\\u002fextra\\u003e\",\"legendgroup\":\"Mozambique\",\"marker\":{\"color\":\"#FFA15A\",\"symbol\":\"circle\"},\"mode\":\"markers\",\"name\":\"Mozambique\",\"orientation\":\"v\",\"showlegend\":true,\"x\":[4.279863358],\"xaxis\":\"x\",\"y\":[0.103227],\"yaxis\":\"y\",\"type\":\"scatter\"},{\"hovertemplate\":\"Country Name=Myanmar\\u003cbr\\u003eLife Ladder=%{x}\\u003cbr\\u003eEating disorders (%)=%{y}\\u003cextra\\u003e\\u003c\\u002fextra\\u003e\",\"legendgroup\":\"Myanmar\",\"marker\":{\"color\":\"#19d3f3\",\"symbol\":\"circle\"},\"mode\":\"markers\",\"name\":\"Myanmar\",\"orientation\":\"v\",\"showlegend\":true,\"x\":[4.154341698],\"xaxis\":\"x\",\"y\":[0.125738],\"yaxis\":\"y\",\"type\":\"scatter\"},{\"hovertemplate\":\"Country Name=Namibia\\u003cbr\\u003eLife Ladder=%{x}\\u003cbr\\u003eEating disorders (%)=%{y}\\u003cextra\\u003e\\u003c\\u002fextra\\u003e\",\"legendgroup\":\"Namibia\",\"marker\":{\"color\":\"#FF6692\",\"symbol\":\"circle\"},\"mode\":\"markers\",\"name\":\"Namibia\",\"orientation\":\"v\",\"showlegend\":true,\"x\":[4.441306114],\"xaxis\":\"x\",\"y\":[0.200987],\"yaxis\":\"y\",\"type\":\"scatter\"},{\"hovertemplate\":\"Country Name=Nepal\\u003cbr\\u003eLife Ladder=%{x}\\u003cbr\\u003eEating disorders (%)=%{y}\\u003cextra\\u003e\\u003c\\u002fextra\\u003e\",\"legendgroup\":\"Nepal\",\"marker\":{\"color\":\"#B6E880\",\"symbol\":\"circle\"},\"mode\":\"markers\",\"name\":\"Nepal\",\"orientation\":\"v\",\"showlegend\":true,\"x\":[4.736692429],\"xaxis\":\"x\",\"y\":[0.128495],\"yaxis\":\"y\",\"type\":\"scatter\"},{\"hovertemplate\":\"Country Name=Netherlands\\u003cbr\\u003eLife Ladder=%{x}\\u003cbr\\u003eEating disorders (%)=%{y}\\u003cextra\\u003e\\u003c\\u002fextra\\u003e\",\"legendgroup\":\"Netherlands\",\"marker\":{\"color\":\"#FF97FF\",\"symbol\":\"circle\"},\"mode\":\"markers\",\"name\":\"Netherlands\",\"orientation\":\"v\",\"showlegend\":true,\"x\":[7.458965302],\"xaxis\":\"x\",\"y\":[0.467844],\"yaxis\":\"y\",\"type\":\"scatter\"},{\"hovertemplate\":\"Country Name=New Zealand\\u003cbr\\u003eLife Ladder=%{x}\\u003cbr\\u003eEating disorders (%)=%{y}\\u003cextra\\u003e\\u003c\\u002fextra\\u003e\",\"legendgroup\":\"New Zealand\",\"marker\":{\"color\":\"#FECB52\",\"symbol\":\"circle\"},\"mode\":\"markers\",\"name\":\"New Zealand\",\"orientation\":\"v\",\"showlegend\":true,\"x\":[7.32718277],\"xaxis\":\"x\",\"y\":[0.67329],\"yaxis\":\"y\",\"type\":\"scatter\"},{\"hovertemplate\":\"Country Name=Nicaragua\\u003cbr\\u003eLife Ladder=%{x}\\u003cbr\\u003eEating disorders (%)=%{y}\\u003cextra\\u003e\\u003c\\u002fextra\\u003e\",\"legendgroup\":\"Nicaragua\",\"marker\":{\"color\":\"#636efa\",\"symbol\":\"circle\"},\"mode\":\"markers\",\"name\":\"Nicaragua\",\"orientation\":\"v\",\"showlegend\":true,\"x\":[6.476356506],\"xaxis\":\"x\",\"y\":[0.205876],\"yaxis\":\"y\",\"type\":\"scatter\"},{\"hovertemplate\":\"Country Name=Niger\\u003cbr\\u003eLife Ladder=%{x}\\u003cbr\\u003eEating disorders (%)=%{y}\\u003cextra\\u003e\\u003c\\u002fextra\\u003e\",\"legendgroup\":\"Niger\",\"marker\":{\"color\":\"#EF553B\",\"symbol\":\"circle\"},\"mode\":\"markers\",\"name\":\"Niger\",\"orientation\":\"v\",\"showlegend\":true,\"x\":[4.615673542],\"xaxis\":\"x\",\"y\":[0.096116],\"yaxis\":\"y\",\"type\":\"scatter\"},{\"hovertemplate\":\"Country Name=Nigeria\\u003cbr\\u003eLife Ladder=%{x}\\u003cbr\\u003eEating disorders (%)=%{y}\\u003cextra\\u003e\\u003c\\u002fextra\\u003e\",\"legendgroup\":\"Nigeria\",\"marker\":{\"color\":\"#00cc96\",\"symbol\":\"circle\"},\"mode\":\"markers\",\"name\":\"Nigeria\",\"orientation\":\"v\",\"showlegend\":true,\"x\":[5.321928024],\"xaxis\":\"x\",\"y\":[0.163373],\"yaxis\":\"y\",\"type\":\"scatter\"},{\"hovertemplate\":\"Country Name=Norway\\u003cbr\\u003eLife Ladder=%{x}\\u003cbr\\u003eEating disorders (%)=%{y}\\u003cextra\\u003e\\u003c\\u002fextra\\u003e\",\"legendgroup\":\"Norway\",\"marker\":{\"color\":\"#ab63fa\",\"symbol\":\"circle\"},\"mode\":\"markers\",\"name\":\"Norway\",\"orientation\":\"v\",\"showlegend\":true,\"x\":[7.578744888],\"xaxis\":\"x\",\"y\":[0.570363],\"yaxis\":\"y\",\"type\":\"scatter\"},{\"hovertemplate\":\"Country Name=Pakistan\\u003cbr\\u003eLife Ladder=%{x}\\u003cbr\\u003eEating disorders (%)=%{y}\\u003cextra\\u003e\\u003c\\u002fextra\\u003e\",\"legendgroup\":\"Pakistan\",\"marker\":{\"color\":\"#FFA15A\",\"symbol\":\"circle\"},\"mode\":\"markers\",\"name\":\"Pakistan\",\"orientation\":\"v\",\"showlegend\":true,\"x\":[5.830870628],\"xaxis\":\"x\",\"y\":[0.154583],\"yaxis\":\"y\",\"type\":\"scatter\"},{\"hovertemplate\":\"Country Name=Panama\\u003cbr\\u003eLife Ladder=%{x}\\u003cbr\\u003eEating disorders (%)=%{y}\\u003cextra\\u003e\\u003c\\u002fextra\\u003e\",\"legendgroup\":\"Panama\",\"marker\":{\"color\":\"#19d3f3\",\"symbol\":\"circle\"},\"mode\":\"markers\",\"name\":\"Panama\",\"orientation\":\"v\",\"showlegend\":true,\"x\":[6.567658901],\"xaxis\":\"x\",\"y\":[0.31665],\"yaxis\":\"y\",\"type\":\"scatter\"},{\"hovertemplate\":\"Country Name=Paraguay\\u003cbr\\u003eLife Ladder=%{x}\\u003cbr\\u003eEating disorders (%)=%{y}\\u003cextra\\u003e\\u003c\\u002fextra\\u003e\",\"legendgroup\":\"Paraguay\",\"marker\":{\"color\":\"#FF6692\",\"symbol\":\"circle\"},\"mode\":\"markers\",\"name\":\"Paraguay\",\"orientation\":\"v\",\"showlegend\":true,\"x\":[5.71329546],\"xaxis\":\"x\",\"y\":[0.238288],\"yaxis\":\"y\",\"type\":\"scatter\"},{\"hovertemplate\":\"Country Name=Peru\\u003cbr\\u003eLife Ladder=%{x}\\u003cbr\\u003eEating disorders (%)=%{y}\\u003cextra\\u003e\\u003c\\u002fextra\\u003e\",\"legendgroup\":\"Peru\",\"marker\":{\"color\":\"#B6E880\",\"symbol\":\"circle\"},\"mode\":\"markers\",\"name\":\"Peru\",\"orientation\":\"v\",\"showlegend\":true,\"x\":[5.710936546],\"xaxis\":\"x\",\"y\":[0.369216],\"yaxis\":\"y\",\"type\":\"scatter\"},{\"hovertemplate\":\"Country Name=Philippines\\u003cbr\\u003eLife Ladder=%{x}\\u003cbr\\u003eEating disorders (%)=%{y}\\u003cextra\\u003e\\u003c\\u002fextra\\u003e\",\"legendgroup\":\"Philippines\",\"marker\":{\"color\":\"#FF97FF\",\"symbol\":\"circle\"},\"mode\":\"markers\",\"name\":\"Philippines\",\"orientation\":\"v\",\"showlegend\":true,\"x\":[5.594270229],\"xaxis\":\"x\",\"y\":[0.134855],\"yaxis\":\"y\",\"type\":\"scatter\"},{\"hovertemplate\":\"Country Name=Poland\\u003cbr\\u003eLife Ladder=%{x}\\u003cbr\\u003eEating disorders (%)=%{y}\\u003cextra\\u003e\\u003c\\u002fextra\\u003e\",\"legendgroup\":\"Poland\",\"marker\":{\"color\":\"#FECB52\",\"symbol\":\"circle\"},\"mode\":\"markers\",\"name\":\"Poland\",\"orientation\":\"v\",\"showlegend\":true,\"x\":[6.201268196],\"xaxis\":\"x\",\"y\":[0.229485],\"yaxis\":\"y\",\"type\":\"scatter\"},{\"hovertemplate\":\"Country Name=Portugal\\u003cbr\\u003eLife Ladder=%{x}\\u003cbr\\u003eEating disorders (%)=%{y}\\u003cextra\\u003e\\u003c\\u002fextra\\u003e\",\"legendgroup\":\"Portugal\",\"marker\":{\"color\":\"#636efa\",\"symbol\":\"circle\"},\"mode\":\"markers\",\"name\":\"Portugal\",\"orientation\":\"v\",\"showlegend\":true,\"x\":[5.711499214],\"xaxis\":\"x\",\"y\":[0.513079],\"yaxis\":\"y\",\"type\":\"scatter\"},{\"hovertemplate\":\"Country Name=Romania\\u003cbr\\u003eLife Ladder=%{x}\\u003cbr\\u003eEating disorders (%)=%{y}\\u003cextra\\u003e\\u003c\\u002fextra\\u003e\",\"legendgroup\":\"Romania\",\"marker\":{\"color\":\"#EF553B\",\"symbol\":\"circle\"},\"mode\":\"markers\",\"name\":\"Romania\",\"orientation\":\"v\",\"showlegend\":true,\"x\":[6.089904785],\"xaxis\":\"x\",\"y\":[0.2007],\"yaxis\":\"y\",\"type\":\"scatter\"},{\"hovertemplate\":\"Country Name=Russia\\u003cbr\\u003eLife Ladder=%{x}\\u003cbr\\u003eEating disorders (%)=%{y}\\u003cextra\\u003e\\u003c\\u002fextra\\u003e\",\"legendgroup\":\"Russia\",\"marker\":{\"color\":\"#00cc96\",\"symbol\":\"circle\"},\"mode\":\"markers\",\"name\":\"Russia\",\"orientation\":\"v\",\"showlegend\":true,\"x\":[5.578742981],\"xaxis\":\"x\",\"y\":[0.232375],\"yaxis\":\"y\",\"type\":\"scatter\"},{\"hovertemplate\":\"Country Name=Rwanda\\u003cbr\\u003eLife Ladder=%{x}\\u003cbr\\u003eEating disorders (%)=%{y}\\u003cextra\\u003e\\u003c\\u002fextra\\u003e\",\"legendgroup\":\"Rwanda\",\"marker\":{\"color\":\"#ab63fa\",\"symbol\":\"circle\"},\"mode\":\"markers\",\"name\":\"Rwanda\",\"orientation\":\"v\",\"showlegend\":true,\"x\":[3.10837388],\"xaxis\":\"x\",\"y\":[0.115817],\"yaxis\":\"y\",\"type\":\"scatter\"},{\"hovertemplate\":\"Country Name=Senegal\\u003cbr\\u003eLife Ladder=%{x}\\u003cbr\\u003eEating disorders (%)=%{y}\\u003cextra\\u003e\\u003c\\u002fextra\\u003e\",\"legendgroup\":\"Senegal\",\"marker\":{\"color\":\"#FFA15A\",\"symbol\":\"circle\"},\"mode\":\"markers\",\"name\":\"Senegal\",\"orientation\":\"v\",\"showlegend\":true,\"x\":[4.683024883],\"xaxis\":\"x\",\"y\":[0.12529],\"yaxis\":\"y\",\"type\":\"scatter\"},{\"hovertemplate\":\"Country Name=Serbia\\u003cbr\\u003eLife Ladder=%{x}\\u003cbr\\u003eEating disorders (%)=%{y}\\u003cextra\\u003e\\u003c\\u002fextra\\u003e\",\"legendgroup\":\"Serbia\",\"marker\":{\"color\":\"#19d3f3\",\"symbol\":\"circle\"},\"mode\":\"markers\",\"name\":\"Serbia\",\"orientation\":\"v\",\"showlegend\":true,\"x\":[5.122031212],\"xaxis\":\"x\",\"y\":[0.187147],\"yaxis\":\"y\",\"type\":\"scatter\"},{\"hovertemplate\":\"Country Name=Sierra Leone\\u003cbr\\u003eLife Ladder=%{x}\\u003cbr\\u003eEating disorders (%)=%{y}\\u003cextra\\u003e\\u003c\\u002fextra\\u003e\",\"legendgroup\":\"Sierra Leone\",\"marker\":{\"color\":\"#FF6692\",\"symbol\":\"circle\"},\"mode\":\"markers\",\"name\":\"Sierra Leone\",\"orientation\":\"v\",\"showlegend\":true,\"x\":[4.089562416],\"xaxis\":\"x\",\"y\":[0.109799],\"yaxis\":\"y\",\"type\":\"scatter\"},{\"hovertemplate\":\"Country Name=Singapore\\u003cbr\\u003eLife Ladder=%{x}\\u003cbr\\u003eEating disorders (%)=%{y}\\u003cextra\\u003e\\u003c\\u002fextra\\u003e\",\"legendgroup\":\"Singapore\",\"marker\":{\"color\":\"#B6E880\",\"symbol\":\"circle\"},\"mode\":\"markers\",\"name\":\"Singapore\",\"orientation\":\"v\",\"showlegend\":true,\"x\":[6.378437996],\"xaxis\":\"x\",\"y\":[0.553712],\"yaxis\":\"y\",\"type\":\"scatter\"},{\"hovertemplate\":\"Country Name=Slovakia\\u003cbr\\u003eLife Ladder=%{x}\\u003cbr\\u003eEating disorders (%)=%{y}\\u003cextra\\u003e\\u003c\\u002fextra\\u003e\",\"legendgroup\":\"Slovakia\",\"marker\":{\"color\":\"#FF97FF\",\"symbol\":\"circle\"},\"mode\":\"markers\",\"name\":\"Slovakia\",\"orientation\":\"v\",\"showlegend\":true,\"x\":[6.365509033],\"xaxis\":\"x\",\"y\":[0.235475],\"yaxis\":\"y\",\"type\":\"scatter\"},{\"hovertemplate\":\"Country Name=Slovenia\\u003cbr\\u003eLife Ladder=%{x}\\u003cbr\\u003eEating disorders (%)=%{y}\\u003cextra\\u003e\\u003c\\u002fextra\\u003e\",\"legendgroup\":\"Slovenia\",\"marker\":{\"color\":\"#FECB52\",\"symbol\":\"circle\"},\"mode\":\"markers\",\"name\":\"Slovenia\",\"orientation\":\"v\",\"showlegend\":true,\"x\":[6.166837692],\"xaxis\":\"x\",\"y\":[0.239636],\"yaxis\":\"y\",\"type\":\"scatter\"},{\"hovertemplate\":\"Country Name=South Africa\\u003cbr\\u003eLife Ladder=%{x}\\u003cbr\\u003eEating disorders (%)=%{y}\\u003cextra\\u003e\\u003c\\u002fextra\\u003e\",\"legendgroup\":\"South Africa\",\"marker\":{\"color\":\"#636efa\",\"symbol\":\"circle\"},\"mode\":\"markers\",\"name\":\"South Africa\",\"orientation\":\"v\",\"showlegend\":true,\"x\":[4.513655186],\"xaxis\":\"x\",\"y\":[0.214718],\"yaxis\":\"y\",\"type\":\"scatter\"},{\"hovertemplate\":\"Country Name=South Korea\\u003cbr\\u003eLife Ladder=%{x}\\u003cbr\\u003eEating disorders (%)=%{y}\\u003cextra\\u003e\\u003c\\u002fextra\\u003e\",\"legendgroup\":\"South Korea\",\"marker\":{\"color\":\"#EF553B\",\"symbol\":\"circle\"},\"mode\":\"markers\",\"name\":\"South Korea\",\"orientation\":\"v\",\"showlegend\":true,\"x\":[5.873887062],\"xaxis\":\"x\",\"y\":[0.417103],\"yaxis\":\"y\",\"type\":\"scatter\"},{\"hovertemplate\":\"Country Name=Spain\\u003cbr\\u003eLife Ladder=%{x}\\u003cbr\\u003eEating disorders (%)=%{y}\\u003cextra\\u003e\\u003c\\u002fextra\\u003e\",\"legendgroup\":\"Spain\",\"marker\":{\"color\":\"#00cc96\",\"symbol\":\"circle\"},\"mode\":\"markers\",\"name\":\"Spain\",\"orientation\":\"v\",\"showlegend\":true,\"x\":[6.230173111],\"xaxis\":\"x\",\"y\":[0.730626],\"yaxis\":\"y\",\"type\":\"scatter\"},{\"hovertemplate\":\"Country Name=Sri Lanka\\u003cbr\\u003eLife Ladder=%{x}\\u003cbr\\u003eEating disorders (%)=%{y}\\u003cextra\\u003e\\u003c\\u002fextra\\u003e\",\"legendgroup\":\"Sri Lanka\",\"marker\":{\"color\":\"#ab63fa\",\"symbol\":\"circle\"},\"mode\":\"markers\",\"name\":\"Sri Lanka\",\"orientation\":\"v\",\"showlegend\":true,\"x\":[4.330945492],\"xaxis\":\"x\",\"y\":[0.159144],\"yaxis\":\"y\",\"type\":\"scatter\"},{\"hovertemplate\":\"Country Name=Sweden\\u003cbr\\u003eLife Ladder=%{x}\\u003cbr\\u003eEating disorders (%)=%{y}\\u003cextra\\u003e\\u003c\\u002fextra\\u003e\",\"legendgroup\":\"Sweden\",\"marker\":{\"color\":\"#FFA15A\",\"symbol\":\"circle\"},\"mode\":\"markers\",\"name\":\"Sweden\",\"orientation\":\"v\",\"showlegend\":true,\"x\":[7.286804676],\"xaxis\":\"x\",\"y\":[0.574608],\"yaxis\":\"y\",\"type\":\"scatter\"},{\"hovertemplate\":\"Country Name=Switzerland\\u003cbr\\u003eLife Ladder=%{x}\\u003cbr\\u003eEating disorders (%)=%{y}\\u003cextra\\u003e\\u003c\\u002fextra\\u003e\",\"legendgroup\":\"Switzerland\",\"marker\":{\"color\":\"#19d3f3\",\"symbol\":\"circle\"},\"mode\":\"markers\",\"name\":\"Switzerland\",\"orientation\":\"v\",\"showlegend\":true,\"x\":[7.473593235],\"xaxis\":\"x\",\"y\":[0.573969],\"yaxis\":\"y\",\"type\":\"scatter\"},{\"hovertemplate\":\"Country Name=Tajikistan\\u003cbr\\u003eLife Ladder=%{x}\\u003cbr\\u003eEating disorders (%)=%{y}\\u003cextra\\u003e\\u003c\\u002fextra\\u003e\",\"legendgroup\":\"Tajikistan\",\"marker\":{\"color\":\"#FF6692\",\"symbol\":\"circle\"},\"mode\":\"markers\",\"name\":\"Tajikistan\",\"orientation\":\"v\",\"showlegend\":true,\"x\":[5.829234123],\"xaxis\":\"x\",\"y\":[0.118226],\"yaxis\":\"y\",\"type\":\"scatter\"},{\"hovertemplate\":\"Country Name=Tanzania\\u003cbr\\u003eLife Ladder=%{x}\\u003cbr\\u003eEating disorders (%)=%{y}\\u003cextra\\u003e\\u003c\\u002fextra\\u003e\",\"legendgroup\":\"Tanzania\",\"marker\":{\"color\":\"#B6E880\",\"symbol\":\"circle\"},\"mode\":\"markers\",\"name\":\"Tanzania\",\"orientation\":\"v\",\"showlegend\":true,\"x\":[3.347121239],\"xaxis\":\"x\",\"y\":[0.129857],\"yaxis\":\"y\",\"type\":\"scatter\"},{\"hovertemplate\":\"Country Name=Thailand\\u003cbr\\u003eLife Ladder=%{x}\\u003cbr\\u003eEating disorders (%)=%{y}\\u003cextra\\u003e\\u003c\\u002fextra\\u003e\",\"legendgroup\":\"Thailand\",\"marker\":{\"color\":\"#FF97FF\",\"symbol\":\"circle\"},\"mode\":\"markers\",\"name\":\"Thailand\",\"orientation\":\"v\",\"showlegend\":true,\"x\":[5.938895226],\"xaxis\":\"x\",\"y\":[0.173202],\"yaxis\":\"y\",\"type\":\"scatter\"},{\"hovertemplate\":\"Country Name=Togo\\u003cbr\\u003eLife Ladder=%{x}\\u003cbr\\u003eEating disorders (%)=%{y}\\u003cextra\\u003e\\u003c\\u002fextra\\u003e\",\"legendgroup\":\"Togo\",\"marker\":{\"color\":\"#FECB52\",\"symbol\":\"circle\"},\"mode\":\"markers\",\"name\":\"Togo\",\"orientation\":\"v\",\"showlegend\":true,\"x\":[4.360805035],\"xaxis\":\"x\",\"y\":[0.108107],\"yaxis\":\"y\",\"type\":\"scatter\"},{\"hovertemplate\":\"Country Name=Tunisia\\u003cbr\\u003eLife Ladder=%{x}\\u003cbr\\u003eEating disorders (%)=%{y}\\u003cextra\\u003e\\u003c\\u002fextra\\u003e\",\"legendgroup\":\"Tunisia\",\"marker\":{\"color\":\"#636efa\",\"symbol\":\"circle\"},\"mode\":\"markers\",\"name\":\"Tunisia\",\"orientation\":\"v\",\"showlegend\":true,\"x\":[4.124342918],\"xaxis\":\"x\",\"y\":[0.200172],\"yaxis\":\"y\",\"type\":\"scatter\"},{\"hovertemplate\":\"Country Name=Uganda\\u003cbr\\u003eLife Ladder=%{x}\\u003cbr\\u003eEating disorders (%)=%{y}\\u003cextra\\u003e\\u003c\\u002fextra\\u003e\",\"legendgroup\":\"Uganda\",\"marker\":{\"color\":\"#EF553B\",\"symbol\":\"circle\"},\"mode\":\"markers\",\"name\":\"Uganda\",\"orientation\":\"v\",\"showlegend\":true,\"x\":[4.000516891],\"xaxis\":\"x\",\"y\":[0.119309],\"yaxis\":\"y\",\"type\":\"scatter\"},{\"hovertemplate\":\"Country Name=Ukraine\\u003cbr\\u003eLife Ladder=%{x}\\u003cbr\\u003eEating disorders (%)=%{y}\\u003cextra\\u003e\\u003c\\u002fextra\\u003e\",\"legendgroup\":\"Ukraine\",\"marker\":{\"color\":\"#00cc96\",\"symbol\":\"circle\"},\"mode\":\"markers\",\"name\":\"Ukraine\",\"orientation\":\"v\",\"showlegend\":true,\"x\":[4.311067104],\"xaxis\":\"x\",\"y\":[0.172715],\"yaxis\":\"y\",\"type\":\"scatter\"},{\"hovertemplate\":\"Country Name=United Kingdom\\u003cbr\\u003eLife Ladder=%{x}\\u003cbr\\u003eEating disorders (%)=%{y}\\u003cextra\\u003e\\u003c\\u002fextra\\u003e\",\"legendgroup\":\"United Kingdom\",\"marker\":{\"color\":\"#ab63fa\",\"symbol\":\"circle\"},\"mode\":\"markers\",\"name\":\"United Kingdom\",\"orientation\":\"v\",\"showlegend\":true,\"x\":[7.103273392],\"xaxis\":\"x\",\"y\":[0.543054],\"yaxis\":\"y\",\"type\":\"scatter\"},{\"hovertemplate\":\"Country Name=United States\\u003cbr\\u003eLife Ladder=%{x}\\u003cbr\\u003eEating disorders (%)=%{y}\\u003cextra\\u003e\\u003c\\u002fextra\\u003e\",\"legendgroup\":\"United States\",\"marker\":{\"color\":\"#FFA15A\",\"symbol\":\"circle\"},\"mode\":\"markers\",\"name\":\"United States\",\"orientation\":\"v\",\"showlegend\":true,\"x\":[6.9917593],\"xaxis\":\"x\",\"y\":[0.512844],\"yaxis\":\"y\",\"type\":\"scatter\"},{\"hovertemplate\":\"Country Name=Uruguay\\u003cbr\\u003eLife Ladder=%{x}\\u003cbr\\u003eEating disorders (%)=%{y}\\u003cextra\\u003e\\u003c\\u002fextra\\u003e\",\"legendgroup\":\"Uruguay\",\"marker\":{\"color\":\"#19d3f3\",\"symbol\":\"circle\"},\"mode\":\"markers\",\"name\":\"Uruguay\",\"orientation\":\"v\",\"showlegend\":true,\"x\":[6.336009979],\"xaxis\":\"x\",\"y\":[0.405502],\"yaxis\":\"y\",\"type\":\"scatter\"},{\"hovertemplate\":\"Country Name=Uzbekistan\\u003cbr\\u003eLife Ladder=%{x}\\u003cbr\\u003eEating disorders (%)=%{y}\\u003cextra\\u003e\\u003c\\u002fextra\\u003e\",\"legendgroup\":\"Uzbekistan\",\"marker\":{\"color\":\"#FF6692\",\"symbol\":\"circle\"},\"mode\":\"markers\",\"name\":\"Uzbekistan\",\"orientation\":\"v\",\"showlegend\":true,\"x\":[6.421447754],\"xaxis\":\"x\",\"y\":[0.153735],\"yaxis\":\"y\",\"type\":\"scatter\"},{\"hovertemplate\":\"Country Name=Venezuela\\u003cbr\\u003eLife Ladder=%{x}\\u003cbr\\u003eEating disorders (%)=%{y}\\u003cextra\\u003e\\u003c\\u002fextra\\u003e\",\"legendgroup\":\"Venezuela\",\"marker\":{\"color\":\"#B6E880\",\"symbol\":\"circle\"},\"mode\":\"markers\",\"name\":\"Venezuela\",\"orientation\":\"v\",\"showlegend\":true,\"x\":[5.070750713],\"xaxis\":\"x\",\"y\":[0.28269],\"yaxis\":\"y\",\"type\":\"scatter\"},{\"hovertemplate\":\"Country Name=Zambia\\u003cbr\\u003eLife Ladder=%{x}\\u003cbr\\u003eEating disorders (%)=%{y}\\u003cextra\\u003e\\u003c\\u002fextra\\u003e\",\"legendgroup\":\"Zambia\",\"marker\":{\"color\":\"#FF97FF\",\"symbol\":\"circle\"},\"mode\":\"markers\",\"name\":\"Zambia\",\"orientation\":\"v\",\"showlegend\":true,\"x\":[3.932777405],\"xaxis\":\"x\",\"y\":[0.142768],\"yaxis\":\"y\",\"type\":\"scatter\"},{\"hovertemplate\":\"Country Name=Zimbabwe\\u003cbr\\u003eLife Ladder=%{x}\\u003cbr\\u003eEating disorders (%)=%{y}\\u003cextra\\u003e\\u003c\\u002fextra\\u003e\",\"legendgroup\":\"Zimbabwe\",\"marker\":{\"color\":\"#FECB52\",\"symbol\":\"circle\"},\"mode\":\"markers\",\"name\":\"Zimbabwe\",\"orientation\":\"v\",\"showlegend\":true,\"x\":[3.63830018],\"xaxis\":\"x\",\"y\":[0.124443],\"yaxis\":\"y\",\"type\":\"scatter\"},{\"hovertemplate\":\"\\u003cb\\u003eOLS trendline\\u003c\\u002fb\\u003e\\u003cbr\\u003eEating disorders (%) = 0.119193 * Life Ladder + -0.378174\\u003cbr\\u003eR\\u003csup\\u003e2\\u003c\\u002fsup\\u003e=0.571296\\u003cbr\\u003e\\u003cbr\\u003eLife Ladder=%{x}\\u003cbr\\u003eEating disorders (%)=%{y} \\u003cb\\u003e(trend)\\u003c\\u002fb\\u003e\\u003cextra\\u003e\\u003c\\u002fextra\\u003e\",\"legendgroup\":\"Overall Trendline\",\"line\":{\"color\":\"#636efa\"},\"mode\":\"lines\",\"name\":\"Overall Trendline\",\"showlegend\":true,\"x\":[2.66171813,3.10837388,3.347121239,3.416862965,3.504881144,3.63830018,3.795300722,3.823865652,3.932777405,4.000516891,4.046111107,4.078620434,4.089562416,4.117938995,4.124342918,4.154341698,4.180315495,4.279863358,4.287736416,4.309771061,4.311067104,4.330945492,4.360805035,4.424490929,4.441306114,4.45077467,4.462399006,4.475654125,4.513655186,4.558937073,4.585842133,4.615673542,4.623140812,4.639548302,4.646891117,4.678159714,4.683024883,4.736692429,4.741850376,4.782382965,4.853180885,4.873722553,5.070750713,5.07405138,5.089902401,5.096901894,5.098401546,5.122031212,5.14824152,5.152279377,5.153989792,5.321928024,5.325530529,5.333850384,5.343165874,5.481310844,5.552915096,5.578742981,5.594270229,5.605202675,5.614798546,5.629536629,5.65055275,5.710936546,5.711499214,5.71329546,5.829234123,5.830870628,5.839518547,5.873887062,5.882351398,5.889759064,5.910676479,5.938395977,5.938895226,5.977817535,6.019985676,6.039330006,6.062051296,6.065038681,6.089904785,6.157341957,6.166837692,6.174117565,6.198870182,6.201268196,6.230173111,6.272940636,6.320119381,6.325118542,6.332929134,6.336009979,6.339318275,6.365509033,6.378437996,6.410299301,6.421447754,6.476356506,6.567658901,6.635222435,6.675665855,6.928347588,6.9917593,7.060155392,7.061380863,7.074324608,7.103273392,7.22518158,7.25703764,7.286804676,7.293727875,7.32718277,7.331036091,7.414868355,7.458965302,7.473593235,7.476213932,7.578744888,7.593702316,7.788251877],\"y\":[-0.06091427197014147,-0.007675851699439099,0.020781259256733,0.02909401313752863,0.039585199705850914,0.05548786906738934,0.07420129845394502,0.07760604976038894,0.09058761258283764,0.09866171265787166,0.10409624256892992,0.10797113998946849,0.10927535209534742,0.11265765320452785,0.11342095860036167,0.11699661537237976,0.12009252071046608,0.13195796958791653,0.13289638618866473,0.13552277058207224,0.13567725036190917,0.13804662313870217,0.14160568377841215,0.14919662241535434,0.15120088159249376,0.15232947103455224,0.1537150152379703,0.15529493802203875,0.15982441392434293,0.16522171627801563,0.16842862202520115,0.17198432927761914,0.17287437862442553,0.17483004324579746,0.17570525837722706,0.17943226896280945,0.18001216502797812,0.1864089826416442,0.18702377591391273,0.1918549932615941,0.20029363850292725,0.2027420698822283,0.22622652740290985,0.226619945145589,0.22850928233136955,0.2293435757441732,0.22952232437426645,0.2323388247537294,0.23546292064352503,0.2359442065733692,0.2361480767633473,0.2561652066776823,0.2565946015197218,0.2575862733768093,0.25869661836094426,0.27516258789373005,0.2836973425927243,0.28677585618251544,0.2886266017615691,0.289929677239126,0.2910734417897031,0.29283012410430115,0.29533510715278516,0.30253245748128393,0.30259952379680066,0.302813624476032,0.3166327486369038,0.31682780924222487,0.3178585841649455,0.32195508453609245,0.32296397757571066,0.32384692251872993,0.32634014046285514,0.32964412184945296,0.3297036290383377,0.33434291162777746,0.33936907598946375,0.34167479257409333,0.3443830205239462,0.3447390971179235,0.34770297275424294,0.3557410389938551,0.35687286799350243,0.35774058085355487,0.36069092958777743,0.36097675704471044,0.36442203232138365,0.36951963930369114,0.37514303462358634,0.37573890165164747,0.37666987271707975,0.3770370891268067,0.37743141619598225,0.38055318185468534,0.3820942289941397,0.3858918864651631,0.38722070855282714,0.3937654697375108,0.4046481131977857,0.4127012409546004,0.4175218299454385,0.44763982640285216,0.4551980843532776,0.46335044753402616,0.46349651559679605,0.46503932465318193,0.4684898288253946,0.4830204810048052,0.4868175133064127,0.49036554772168917,0.49119074739275514,0.4951783502840696,0.495637640739495,0.5056298938406283,0.5108859591594804,0.5126295123203782,0.5129418821225987,0.5251628960159269,0.5269457228082222,0.550134747671327],\"type\":\"scatter\",\"xaxis\":\"x\",\"yaxis\":\"y\"}],                        {\"template\":{\"data\":{\"histogram2dcontour\":[{\"type\":\"histogram2dcontour\",\"colorbar\":{\"outlinewidth\":0,\"ticks\":\"\"},\"colorscale\":[[0.0,\"#0d0887\"],[0.1111111111111111,\"#46039f\"],[0.2222222222222222,\"#7201a8\"],[0.3333333333333333,\"#9c179e\"],[0.4444444444444444,\"#bd3786\"],[0.5555555555555556,\"#d8576b\"],[0.6666666666666666,\"#ed7953\"],[0.7777777777777778,\"#fb9f3a\"],[0.8888888888888888,\"#fdca26\"],[1.0,\"#f0f921\"]]}],\"choropleth\":[{\"type\":\"choropleth\",\"colorbar\":{\"outlinewidth\":0,\"ticks\":\"\"}}],\"histogram2d\":[{\"type\":\"histogram2d\",\"colorbar\":{\"outlinewidth\":0,\"ticks\":\"\"},\"colorscale\":[[0.0,\"#0d0887\"],[0.1111111111111111,\"#46039f\"],[0.2222222222222222,\"#7201a8\"],[0.3333333333333333,\"#9c179e\"],[0.4444444444444444,\"#bd3786\"],[0.5555555555555556,\"#d8576b\"],[0.6666666666666666,\"#ed7953\"],[0.7777777777777778,\"#fb9f3a\"],[0.8888888888888888,\"#fdca26\"],[1.0,\"#f0f921\"]]}],\"heatmap\":[{\"type\":\"heatmap\",\"colorbar\":{\"outlinewidth\":0,\"ticks\":\"\"},\"colorscale\":[[0.0,\"#0d0887\"],[0.1111111111111111,\"#46039f\"],[0.2222222222222222,\"#7201a8\"],[0.3333333333333333,\"#9c179e\"],[0.4444444444444444,\"#bd3786\"],[0.5555555555555556,\"#d8576b\"],[0.6666666666666666,\"#ed7953\"],[0.7777777777777778,\"#fb9f3a\"],[0.8888888888888888,\"#fdca26\"],[1.0,\"#f0f921\"]]}],\"heatmapgl\":[{\"type\":\"heatmapgl\",\"colorbar\":{\"outlinewidth\":0,\"ticks\":\"\"},\"colorscale\":[[0.0,\"#0d0887\"],[0.1111111111111111,\"#46039f\"],[0.2222222222222222,\"#7201a8\"],[0.3333333333333333,\"#9c179e\"],[0.4444444444444444,\"#bd3786\"],[0.5555555555555556,\"#d8576b\"],[0.6666666666666666,\"#ed7953\"],[0.7777777777777778,\"#fb9f3a\"],[0.8888888888888888,\"#fdca26\"],[1.0,\"#f0f921\"]]}],\"contourcarpet\":[{\"type\":\"contourcarpet\",\"colorbar\":{\"outlinewidth\":0,\"ticks\":\"\"}}],\"contour\":[{\"type\":\"contour\",\"colorbar\":{\"outlinewidth\":0,\"ticks\":\"\"},\"colorscale\":[[0.0,\"#0d0887\"],[0.1111111111111111,\"#46039f\"],[0.2222222222222222,\"#7201a8\"],[0.3333333333333333,\"#9c179e\"],[0.4444444444444444,\"#bd3786\"],[0.5555555555555556,\"#d8576b\"],[0.6666666666666666,\"#ed7953\"],[0.7777777777777778,\"#fb9f3a\"],[0.8888888888888888,\"#fdca26\"],[1.0,\"#f0f921\"]]}],\"surface\":[{\"type\":\"surface\",\"colorbar\":{\"outlinewidth\":0,\"ticks\":\"\"},\"colorscale\":[[0.0,\"#0d0887\"],[0.1111111111111111,\"#46039f\"],[0.2222222222222222,\"#7201a8\"],[0.3333333333333333,\"#9c179e\"],[0.4444444444444444,\"#bd3786\"],[0.5555555555555556,\"#d8576b\"],[0.6666666666666666,\"#ed7953\"],[0.7777777777777778,\"#fb9f3a\"],[0.8888888888888888,\"#fdca26\"],[1.0,\"#f0f921\"]]}],\"mesh3d\":[{\"type\":\"mesh3d\",\"colorbar\":{\"outlinewidth\":0,\"ticks\":\"\"}}],\"scatter\":[{\"fillpattern\":{\"fillmode\":\"overlay\",\"size\":10,\"solidity\":0.2},\"type\":\"scatter\"}],\"parcoords\":[{\"type\":\"parcoords\",\"line\":{\"colorbar\":{\"outlinewidth\":0,\"ticks\":\"\"}}}],\"scatterpolargl\":[{\"type\":\"scatterpolargl\",\"marker\":{\"colorbar\":{\"outlinewidth\":0,\"ticks\":\"\"}}}],\"bar\":[{\"error_x\":{\"color\":\"#2a3f5f\"},\"error_y\":{\"color\":\"#2a3f5f\"},\"marker\":{\"line\":{\"color\":\"#E5ECF6\",\"width\":0.5},\"pattern\":{\"fillmode\":\"overlay\",\"size\":10,\"solidity\":0.2}},\"type\":\"bar\"}],\"scattergeo\":[{\"type\":\"scattergeo\",\"marker\":{\"colorbar\":{\"outlinewidth\":0,\"ticks\":\"\"}}}],\"scatterpolar\":[{\"type\":\"scatterpolar\",\"marker\":{\"colorbar\":{\"outlinewidth\":0,\"ticks\":\"\"}}}],\"histogram\":[{\"marker\":{\"pattern\":{\"fillmode\":\"overlay\",\"size\":10,\"solidity\":0.2}},\"type\":\"histogram\"}],\"scattergl\":[{\"type\":\"scattergl\",\"marker\":{\"colorbar\":{\"outlinewidth\":0,\"ticks\":\"\"}}}],\"scatter3d\":[{\"type\":\"scatter3d\",\"line\":{\"colorbar\":{\"outlinewidth\":0,\"ticks\":\"\"}},\"marker\":{\"colorbar\":{\"outlinewidth\":0,\"ticks\":\"\"}}}],\"scattermapbox\":[{\"type\":\"scattermapbox\",\"marker\":{\"colorbar\":{\"outlinewidth\":0,\"ticks\":\"\"}}}],\"scatterternary\":[{\"type\":\"scatterternary\",\"marker\":{\"colorbar\":{\"outlinewidth\":0,\"ticks\":\"\"}}}],\"scattercarpet\":[{\"type\":\"scattercarpet\",\"marker\":{\"colorbar\":{\"outlinewidth\":0,\"ticks\":\"\"}}}],\"carpet\":[{\"aaxis\":{\"endlinecolor\":\"#2a3f5f\",\"gridcolor\":\"white\",\"linecolor\":\"white\",\"minorgridcolor\":\"white\",\"startlinecolor\":\"#2a3f5f\"},\"baxis\":{\"endlinecolor\":\"#2a3f5f\",\"gridcolor\":\"white\",\"linecolor\":\"white\",\"minorgridcolor\":\"white\",\"startlinecolor\":\"#2a3f5f\"},\"type\":\"carpet\"}],\"table\":[{\"cells\":{\"fill\":{\"color\":\"#EBF0F8\"},\"line\":{\"color\":\"white\"}},\"header\":{\"fill\":{\"color\":\"#C8D4E3\"},\"line\":{\"color\":\"white\"}},\"type\":\"table\"}],\"barpolar\":[{\"marker\":{\"line\":{\"color\":\"#E5ECF6\",\"width\":0.5},\"pattern\":{\"fillmode\":\"overlay\",\"size\":10,\"solidity\":0.2}},\"type\":\"barpolar\"}],\"pie\":[{\"automargin\":true,\"type\":\"pie\"}]},\"layout\":{\"autotypenumbers\":\"strict\",\"colorway\":[\"#636efa\",\"#EF553B\",\"#00cc96\",\"#ab63fa\",\"#FFA15A\",\"#19d3f3\",\"#FF6692\",\"#B6E880\",\"#FF97FF\",\"#FECB52\"],\"font\":{\"color\":\"#2a3f5f\"},\"hovermode\":\"closest\",\"hoverlabel\":{\"align\":\"left\"},\"paper_bgcolor\":\"white\",\"plot_bgcolor\":\"#E5ECF6\",\"polar\":{\"bgcolor\":\"#E5ECF6\",\"angularaxis\":{\"gridcolor\":\"white\",\"linecolor\":\"white\",\"ticks\":\"\"},\"radialaxis\":{\"gridcolor\":\"white\",\"linecolor\":\"white\",\"ticks\":\"\"}},\"ternary\":{\"bgcolor\":\"#E5ECF6\",\"aaxis\":{\"gridcolor\":\"white\",\"linecolor\":\"white\",\"ticks\":\"\"},\"baxis\":{\"gridcolor\":\"white\",\"linecolor\":\"white\",\"ticks\":\"\"},\"caxis\":{\"gridcolor\":\"white\",\"linecolor\":\"white\",\"ticks\":\"\"}},\"coloraxis\":{\"colorbar\":{\"outlinewidth\":0,\"ticks\":\"\"}},\"colorscale\":{\"sequential\":[[0.0,\"#0d0887\"],[0.1111111111111111,\"#46039f\"],[0.2222222222222222,\"#7201a8\"],[0.3333333333333333,\"#9c179e\"],[0.4444444444444444,\"#bd3786\"],[0.5555555555555556,\"#d8576b\"],[0.6666666666666666,\"#ed7953\"],[0.7777777777777778,\"#fb9f3a\"],[0.8888888888888888,\"#fdca26\"],[1.0,\"#f0f921\"]],\"sequentialminus\":[[0.0,\"#0d0887\"],[0.1111111111111111,\"#46039f\"],[0.2222222222222222,\"#7201a8\"],[0.3333333333333333,\"#9c179e\"],[0.4444444444444444,\"#bd3786\"],[0.5555555555555556,\"#d8576b\"],[0.6666666666666666,\"#ed7953\"],[0.7777777777777778,\"#fb9f3a\"],[0.8888888888888888,\"#fdca26\"],[1.0,\"#f0f921\"]],\"diverging\":[[0,\"#8e0152\"],[0.1,\"#c51b7d\"],[0.2,\"#de77ae\"],[0.3,\"#f1b6da\"],[0.4,\"#fde0ef\"],[0.5,\"#f7f7f7\"],[0.6,\"#e6f5d0\"],[0.7,\"#b8e186\"],[0.8,\"#7fbc41\"],[0.9,\"#4d9221\"],[1,\"#276419\"]]},\"xaxis\":{\"gridcolor\":\"white\",\"linecolor\":\"white\",\"ticks\":\"\",\"title\":{\"standoff\":15},\"zerolinecolor\":\"white\",\"automargin\":true,\"zerolinewidth\":2},\"yaxis\":{\"gridcolor\":\"white\",\"linecolor\":\"white\",\"ticks\":\"\",\"title\":{\"standoff\":15},\"zerolinecolor\":\"white\",\"automargin\":true,\"zerolinewidth\":2},\"scene\":{\"xaxis\":{\"backgroundcolor\":\"#E5ECF6\",\"gridcolor\":\"white\",\"linecolor\":\"white\",\"showbackground\":true,\"ticks\":\"\",\"zerolinecolor\":\"white\",\"gridwidth\":2},\"yaxis\":{\"backgroundcolor\":\"#E5ECF6\",\"gridcolor\":\"white\",\"linecolor\":\"white\",\"showbackground\":true,\"ticks\":\"\",\"zerolinecolor\":\"white\",\"gridwidth\":2},\"zaxis\":{\"backgroundcolor\":\"#E5ECF6\",\"gridcolor\":\"white\",\"linecolor\":\"white\",\"showbackground\":true,\"ticks\":\"\",\"zerolinecolor\":\"white\",\"gridwidth\":2}},\"shapedefaults\":{\"line\":{\"color\":\"#2a3f5f\"}},\"annotationdefaults\":{\"arrowcolor\":\"#2a3f5f\",\"arrowhead\":0,\"arrowwidth\":1},\"geo\":{\"bgcolor\":\"white\",\"landcolor\":\"#E5ECF6\",\"subunitcolor\":\"white\",\"showland\":true,\"showlakes\":true,\"lakecolor\":\"white\"},\"title\":{\"x\":0.05},\"mapbox\":{\"style\":\"light\"}}},\"xaxis\":{\"anchor\":\"y\",\"domain\":[0.0,1.0],\"title\":{\"text\":\"Life Ladder\"}},\"yaxis\":{\"anchor\":\"x\",\"domain\":[0.0,1.0],\"title\":{\"text\":\"Eating disorders (%)\"}},\"legend\":{\"title\":{\"text\":\"Country Name\"},\"tracegroupgap\":0},\"title\":{\"text\":\"Relationship between Eating disorders and Life ladder\"},\"height\":300},                        {\"responsive\": true}                    ).then(function(){\n",
       "                            \n",
       "var gd = document.getElementById('e65eddfe-1a32-4efa-9376-9ff197e45dcf');\n",
       "var x = new MutationObserver(function (mutations, observer) {{\n",
       "        var display = window.getComputedStyle(gd).display;\n",
       "        if (!display || display === 'none') {{\n",
       "            console.log([gd, 'removed!']);\n",
       "            Plotly.purge(gd);\n",
       "            observer.disconnect();\n",
       "        }}\n",
       "}});\n",
       "\n",
       "// Listen for the removal of the full notebook cells\n",
       "var notebookContainer = gd.closest('#notebook-container');\n",
       "if (notebookContainer) {{\n",
       "    x.observe(notebookContainer, {childList: true});\n",
       "}}\n",
       "\n",
       "// Listen for the clearing of the current output cell\n",
       "var outputEl = gd.closest('.output');\n",
       "if (outputEl) {{\n",
       "    x.observe(outputEl, {childList: true});\n",
       "}}\n",
       "\n",
       "                        })                };                });            </script>        </div>"
      ]
     },
     "metadata": {},
     "output_type": "display_data"
    },
    {
     "data": {
      "application/vnd.plotly.v1+json": {
       "config": {
        "plotlyServerURL": "https://plot.ly"
       },
       "data": [
        {
         "hovertemplate": "Country Name=Afghanistan<br>Log GDP Per Capita=%{x}<br>Eating disorders (%)=%{y}<extra></extra>",
         "legendgroup": "Afghanistan",
         "marker": {
          "color": "#636efa",
          "symbol": "circle"
         },
         "mode": "markers",
         "name": "Afghanistan",
         "orientation": "v",
         "showlegend": true,
         "type": "scatter",
         "x": [
          7.647830486
         ],
         "xaxis": "x",
         "y": [
          0.107142
         ],
         "yaxis": "y"
        },
        {
         "hovertemplate": "Country Name=Albania<br>Log GDP Per Capita=%{x}<br>Eating disorders (%)=%{y}<extra></extra>",
         "legendgroup": "Albania",
         "marker": {
          "color": "#EF553B",
          "symbol": "circle"
         },
         "mode": "markers",
         "name": "Albania",
         "orientation": "v",
         "showlegend": true,
         "type": "scatter",
         "x": [
          9.455109596
         ],
         "xaxis": "x",
         "y": [
          0.174046
         ],
         "yaxis": "y"
        },
        {
         "hovertemplate": "Country Name=Argentina<br>Log GDP Per Capita=%{x}<br>Eating disorders (%)=%{y}<extra></extra>",
         "legendgroup": "Argentina",
         "marker": {
          "color": "#00cc96",
          "symbol": "circle"
         },
         "mode": "markers",
         "name": "Argentina",
         "orientation": "v",
         "showlegend": true,
         "type": "scatter",
         "x": [
          10.06888008
         ],
         "xaxis": "x",
         "y": [
          0.404033
         ],
         "yaxis": "y"
        },
        {
         "hovertemplate": "Country Name=Armenia<br>Log GDP Per Capita=%{x}<br>Eating disorders (%)=%{y}<extra></extra>",
         "legendgroup": "Armenia",
         "marker": {
          "color": "#ab63fa",
          "symbol": "circle"
         },
         "mode": "markers",
         "name": "Armenia",
         "orientation": "v",
         "showlegend": true,
         "type": "scatter",
         "x": [
          9.434254646
         ],
         "xaxis": "x",
         "y": [
          0.167047
         ],
         "yaxis": "y"
        },
        {
         "hovertemplate": "Country Name=Australia<br>Log GDP Per Capita=%{x}<br>Eating disorders (%)=%{y}<extra></extra>",
         "legendgroup": "Australia",
         "marker": {
          "color": "#FFA15A",
          "symbol": "circle"
         },
         "mode": "markers",
         "name": "Australia",
         "orientation": "v",
         "showlegend": true,
         "type": "scatter",
         "x": [
          10.78726006
         ],
         "xaxis": "x",
         "y": [
          0.943081
         ],
         "yaxis": "y"
        },
        {
         "hovertemplate": "Country Name=Austria<br>Log GDP Per Capita=%{x}<br>Eating disorders (%)=%{y}<extra></extra>",
         "legendgroup": "Austria",
         "marker": {
          "color": "#19d3f3",
          "symbol": "circle"
         },
         "mode": "markers",
         "name": "Austria",
         "orientation": "v",
         "showlegend": true,
         "type": "scatter",
         "x": [
          10.89993763
         ],
         "xaxis": "x",
         "y": [
          0.675112
         ],
         "yaxis": "y"
        },
        {
         "hovertemplate": "Country Name=Azerbaijan<br>Log GDP Per Capita=%{x}<br>Eating disorders (%)=%{y}<extra></extra>",
         "legendgroup": "Azerbaijan",
         "marker": {
          "color": "#FF6692",
          "symbol": "circle"
         },
         "mode": "markers",
         "name": "Azerbaijan",
         "orientation": "v",
         "showlegend": true,
         "type": "scatter",
         "x": [
          9.555447578
         ],
         "xaxis": "x",
         "y": [
          0.204891
         ],
         "yaxis": "y"
        },
        {
         "hovertemplate": "Country Name=Bangladesh<br>Log GDP Per Capita=%{x}<br>Eating disorders (%)=%{y}<extra></extra>",
         "legendgroup": "Bangladesh",
         "marker": {
          "color": "#B6E880",
          "symbol": "circle"
         },
         "mode": "markers",
         "name": "Bangladesh",
         "orientation": "v",
         "showlegend": true,
         "type": "scatter",
         "x": [
          8.482762337
         ],
         "xaxis": "x",
         "y": [
          0.137974
         ],
         "yaxis": "y"
        },
        {
         "hovertemplate": "Country Name=Belarus<br>Log GDP Per Capita=%{x}<br>Eating disorders (%)=%{y}<extra></extra>",
         "legendgroup": "Belarus",
         "marker": {
          "color": "#FF97FF",
          "symbol": "circle"
         },
         "mode": "markers",
         "name": "Belarus",
         "orientation": "v",
         "showlegend": true,
         "type": "scatter",
         "x": [
          9.817717552
         ],
         "xaxis": "x",
         "y": [
          0.210693
         ],
         "yaxis": "y"
        },
        {
         "hovertemplate": "Country Name=Belgium<br>Log GDP Per Capita=%{x}<br>Eating disorders (%)=%{y}<extra></extra>",
         "legendgroup": "Belgium",
         "marker": {
          "color": "#FECB52",
          "symbol": "circle"
         },
         "mode": "markers",
         "name": "Belgium",
         "orientation": "v",
         "showlegend": true,
         "type": "scatter",
         "x": [
          10.82858467
         ],
         "xaxis": "x",
         "y": [
          0.603869
         ],
         "yaxis": "y"
        },
        {
         "hovertemplate": "Country Name=Benin<br>Log GDP Per Capita=%{x}<br>Eating disorders (%)=%{y}<extra></extra>",
         "legendgroup": "Benin",
         "marker": {
          "color": "#636efa",
          "symbol": "circle"
         },
         "mode": "markers",
         "name": "Benin",
         "orientation": "v",
         "showlegend": true,
         "type": "scatter",
         "x": [
          7.984066486
         ],
         "xaxis": "x",
         "y": [
          0.12029
         ],
         "yaxis": "y"
        },
        {
         "hovertemplate": "Country Name=Bolivia<br>Log GDP Per Capita=%{x}<br>Eating disorders (%)=%{y}<extra></extra>",
         "legendgroup": "Bolivia",
         "marker": {
          "color": "#EF553B",
          "symbol": "circle"
         },
         "mode": "markers",
         "name": "Bolivia",
         "orientation": "v",
         "showlegend": true,
         "type": "scatter",
         "x": [
          9.017354012
         ],
         "xaxis": "x",
         "y": [
          0.305251
         ],
         "yaxis": "y"
        },
        {
         "hovertemplate": "Country Name=Bosnia and Herzegovina<br>Log GDP Per Capita=%{x}<br>Eating disorders (%)=%{y}<extra></extra>",
         "legendgroup": "Bosnia and Herzegovina",
         "marker": {
          "color": "#00cc96",
          "symbol": "circle"
         },
         "mode": "markers",
         "name": "Bosnia and Herzegovina",
         "orientation": "v",
         "showlegend": true,
         "type": "scatter",
         "x": [
          9.503191948
         ],
         "xaxis": "x",
         "y": [
          0.172474
         ],
         "yaxis": "y"
        },
        {
         "hovertemplate": "Country Name=Botswana<br>Log GDP Per Capita=%{x}<br>Eating disorders (%)=%{y}<extra></extra>",
         "legendgroup": "Botswana",
         "marker": {
          "color": "#ab63fa",
          "symbol": "circle"
         },
         "mode": "markers",
         "name": "Botswana",
         "orientation": "v",
         "showlegend": true,
         "type": "scatter",
         "x": [
          9.592658043
         ],
         "xaxis": "x",
         "y": [
          0.227733
         ],
         "yaxis": "y"
        },
        {
         "hovertemplate": "Country Name=Brazil<br>Log GDP Per Capita=%{x}<br>Eating disorders (%)=%{y}<extra></extra>",
         "legendgroup": "Brazil",
         "marker": {
          "color": "#FFA15A",
          "symbol": "circle"
         },
         "mode": "markers",
         "name": "Brazil",
         "orientation": "v",
         "showlegend": true,
         "type": "scatter",
         "x": [
          9.580375671
         ],
         "xaxis": "x",
         "y": [
          0.277051
         ],
         "yaxis": "y"
        },
        {
         "hovertemplate": "Country Name=Bulgaria<br>Log GDP Per Capita=%{x}<br>Eating disorders (%)=%{y}<extra></extra>",
         "legendgroup": "Bulgaria",
         "marker": {
          "color": "#19d3f3",
          "symbol": "circle"
         },
         "mode": "markers",
         "name": "Bulgaria",
         "orientation": "v",
         "showlegend": true,
         "type": "scatter",
         "x": [
          9.974589348
         ],
         "xaxis": "x",
         "y": [
          0.202411
         ],
         "yaxis": "y"
        },
        {
         "hovertemplate": "Country Name=Burkina Faso<br>Log GDP Per Capita=%{x}<br>Eating disorders (%)=%{y}<extra></extra>",
         "legendgroup": "Burkina Faso",
         "marker": {
          "color": "#FF6692",
          "symbol": "circle"
         },
         "mode": "markers",
         "name": "Burkina Faso",
         "orientation": "v",
         "showlegend": true,
         "type": "scatter",
         "x": [
          7.589920044
         ],
         "xaxis": "x",
         "y": [
          0.113354
         ],
         "yaxis": "y"
        },
        {
         "hovertemplate": "Country Name=Cambodia<br>Log GDP Per Capita=%{x}<br>Eating disorders (%)=%{y}<extra></extra>",
         "legendgroup": "Cambodia",
         "marker": {
          "color": "#B6E880",
          "symbol": "circle"
         },
         "mode": "markers",
         "name": "Cambodia",
         "orientation": "v",
         "showlegend": true,
         "type": "scatter",
         "x": [
          8.287207603
         ],
         "xaxis": "x",
         "y": [
          0.108379
         ],
         "yaxis": "y"
        },
        {
         "hovertemplate": "Country Name=Cameroon<br>Log GDP Per Capita=%{x}<br>Eating disorders (%)=%{y}<extra></extra>",
         "legendgroup": "Cameroon",
         "marker": {
          "color": "#FF97FF",
          "symbol": "circle"
         },
         "mode": "markers",
         "name": "Cameroon",
         "orientation": "v",
         "showlegend": true,
         "type": "scatter",
         "x": [
          8.21367836
         ],
         "xaxis": "x",
         "y": [
          0.13379
         ],
         "yaxis": "y"
        },
        {
         "hovertemplate": "Country Name=Canada<br>Log GDP Per Capita=%{x}<br>Eating disorders (%)=%{y}<extra></extra>",
         "legendgroup": "Canada",
         "marker": {
          "color": "#FECB52",
          "symbol": "circle"
         },
         "mode": "markers",
         "name": "Canada",
         "orientation": "v",
         "showlegend": true,
         "type": "scatter",
         "x": [
          10.78554249
         ],
         "xaxis": "x",
         "y": [
          0.477304
         ],
         "yaxis": "y"
        },
        {
         "hovertemplate": "Country Name=Chad<br>Log GDP Per Capita=%{x}<br>Eating disorders (%)=%{y}<extra></extra>",
         "legendgroup": "Chad",
         "marker": {
          "color": "#636efa",
          "symbol": "circle"
         },
         "mode": "markers",
         "name": "Chad",
         "orientation": "v",
         "showlegend": true,
         "type": "scatter",
         "x": [
          7.365028381
         ],
         "xaxis": "x",
         "y": [
          0.122129
         ],
         "yaxis": "y"
        },
        {
         "hovertemplate": "Country Name=Chile<br>Log GDP Per Capita=%{x}<br>Eating disorders (%)=%{y}<extra></extra>",
         "legendgroup": "Chile",
         "marker": {
          "color": "#EF553B",
          "symbol": "circle"
         },
         "mode": "markers",
         "name": "Chile",
         "orientation": "v",
         "showlegend": true,
         "type": "scatter",
         "x": [
          10.10834122
         ],
         "xaxis": "x",
         "y": [
          0.416123
         ],
         "yaxis": "y"
        },
        {
         "hovertemplate": "Country Name=Colombia<br>Log GDP Per Capita=%{x}<br>Eating disorders (%)=%{y}<extra></extra>",
         "legendgroup": "Colombia",
         "marker": {
          "color": "#00cc96",
          "symbol": "circle"
         },
         "mode": "markers",
         "name": "Colombia",
         "orientation": "v",
         "showlegend": true,
         "type": "scatter",
         "x": [
          9.570453644
         ],
         "xaxis": "x",
         "y": [
          0.260257
         ],
         "yaxis": "y"
        },
        {
         "hovertemplate": "Country Name=Costa Rica<br>Log GDP Per Capita=%{x}<br>Eating disorders (%)=%{y}<extra></extra>",
         "legendgroup": "Costa Rica",
         "marker": {
          "color": "#ab63fa",
          "symbol": "circle"
         },
         "mode": "markers",
         "name": "Costa Rica",
         "orientation": "v",
         "showlegend": true,
         "type": "scatter",
         "x": [
          9.911863327
         ],
         "xaxis": "x",
         "y": [
          0.289342
         ],
         "yaxis": "y"
        },
        {
         "hovertemplate": "Country Name=Croatia<br>Log GDP Per Capita=%{x}<br>Eating disorders (%)=%{y}<extra></extra>",
         "legendgroup": "Croatia",
         "marker": {
          "color": "#FFA15A",
          "symbol": "circle"
         },
         "mode": "markers",
         "name": "Croatia",
         "orientation": "v",
         "showlegend": true,
         "type": "scatter",
         "x": [
          10.21140671
         ],
         "xaxis": "x",
         "y": [
          0.217975
         ],
         "yaxis": "y"
        },
        {
         "hovertemplate": "Country Name=Cyprus<br>Log GDP Per Capita=%{x}<br>Eating disorders (%)=%{y}<extra></extra>",
         "legendgroup": "Cyprus",
         "marker": {
          "color": "#19d3f3",
          "symbol": "circle"
         },
         "mode": "markers",
         "name": "Cyprus",
         "orientation": "v",
         "showlegend": true,
         "type": "scatter",
         "x": [
          10.55638504
         ],
         "xaxis": "x",
         "y": [
          0.506721
         ],
         "yaxis": "y"
        },
        {
         "hovertemplate": "Country Name=Denmark<br>Log GDP Per Capita=%{x}<br>Eating disorders (%)=%{y}<extra></extra>",
         "legendgroup": "Denmark",
         "marker": {
          "color": "#FF6692",
          "symbol": "circle"
         },
         "mode": "markers",
         "name": "Denmark",
         "orientation": "v",
         "showlegend": true,
         "type": "scatter",
         "x": [
          10.92155266
         ],
         "xaxis": "x",
         "y": [
          0.540025
         ],
         "yaxis": "y"
        },
        {
         "hovertemplate": "Country Name=Dominican Republic<br>Log GDP Per Capita=%{x}<br>Eating disorders (%)=%{y}<extra></extra>",
         "legendgroup": "Dominican Republic",
         "marker": {
          "color": "#B6E880",
          "symbol": "circle"
         },
         "mode": "markers",
         "name": "Dominican Republic",
         "orientation": "v",
         "showlegend": true,
         "type": "scatter",
         "x": [
          9.712601662
         ],
         "xaxis": "x",
         "y": [
          0.303058
         ],
         "yaxis": "y"
        },
        {
         "hovertemplate": "Country Name=Ecuador<br>Log GDP Per Capita=%{x}<br>Eating disorders (%)=%{y}<extra></extra>",
         "legendgroup": "Ecuador",
         "marker": {
          "color": "#FF97FF",
          "symbol": "circle"
         },
         "mode": "markers",
         "name": "Ecuador",
         "orientation": "v",
         "showlegend": true,
         "type": "scatter",
         "x": [
          9.365584373
         ],
         "xaxis": "x",
         "y": [
          0.363733
         ],
         "yaxis": "y"
        },
        {
         "hovertemplate": "Country Name=El Salvador<br>Log GDP Per Capita=%{x}<br>Eating disorders (%)=%{y}<extra></extra>",
         "legendgroup": "El Salvador",
         "marker": {
          "color": "#FECB52",
          "symbol": "circle"
         },
         "mode": "markers",
         "name": "El Salvador",
         "orientation": "v",
         "showlegend": true,
         "type": "scatter",
         "x": [
          9.061598778
         ],
         "xaxis": "x",
         "y": [
          0.243873
         ],
         "yaxis": "y"
        },
        {
         "hovertemplate": "Country Name=Estonia<br>Log GDP Per Capita=%{x}<br>Eating disorders (%)=%{y}<extra></extra>",
         "legendgroup": "Estonia",
         "marker": {
          "color": "#636efa",
          "symbol": "circle"
         },
         "mode": "markers",
         "name": "Estonia",
         "orientation": "v",
         "showlegend": true,
         "type": "scatter",
         "x": [
          10.42886448
         ],
         "xaxis": "x",
         "y": [
          0.250271
         ],
         "yaxis": "y"
        },
        {
         "hovertemplate": "Country Name=Ethiopia<br>Log GDP Per Capita=%{x}<br>Eating disorders (%)=%{y}<extra></extra>",
         "legendgroup": "Ethiopia",
         "marker": {
          "color": "#EF553B",
          "symbol": "circle"
         },
         "mode": "markers",
         "name": "Ethiopia",
         "orientation": "v",
         "showlegend": true,
         "type": "scatter",
         "x": [
          7.59486866
         ],
         "xaxis": "x",
         "y": [
          0.109817
         ],
         "yaxis": "y"
        },
        {
         "hovertemplate": "Country Name=Finland<br>Log GDP Per Capita=%{x}<br>Eating disorders (%)=%{y}<extra></extra>",
         "legendgroup": "Finland",
         "marker": {
          "color": "#00cc96",
          "symbol": "circle"
         },
         "mode": "markers",
         "name": "Finland",
         "orientation": "v",
         "showlegend": true,
         "type": "scatter",
         "x": [
          10.7699604
         ],
         "xaxis": "x",
         "y": [
          0.594938
         ],
         "yaxis": "y"
        },
        {
         "hovertemplate": "Country Name=France<br>Log GDP Per Capita=%{x}<br>Eating disorders (%)=%{y}<extra></extra>",
         "legendgroup": "France",
         "marker": {
          "color": "#ab63fa",
          "symbol": "circle"
         },
         "mode": "markers",
         "name": "France",
         "orientation": "v",
         "showlegend": true,
         "type": "scatter",
         "x": [
          10.70497513
         ],
         "xaxis": "x",
         "y": [
          0.573755
         ],
         "yaxis": "y"
        },
        {
         "hovertemplate": "Country Name=Gabon<br>Log GDP Per Capita=%{x}<br>Eating disorders (%)=%{y}<extra></extra>",
         "legendgroup": "Gabon",
         "marker": {
          "color": "#FFA15A",
          "symbol": "circle"
         },
         "mode": "markers",
         "name": "Gabon",
         "orientation": "v",
         "showlegend": true,
         "type": "scatter",
         "x": [
          9.580394745
         ],
         "xaxis": "x",
         "y": [
          0.226577
         ],
         "yaxis": "y"
        },
        {
         "hovertemplate": "Country Name=Gambia<br>Log GDP Per Capita=%{x}<br>Eating disorders (%)=%{y}<extra></extra>",
         "legendgroup": "Gambia",
         "marker": {
          "color": "#19d3f3",
          "symbol": "circle"
         },
         "mode": "markers",
         "name": "Gambia",
         "orientation": "v",
         "showlegend": true,
         "type": "scatter",
         "x": [
          7.563740253
         ],
         "xaxis": "x",
         "y": [
          0.113298
         ],
         "yaxis": "y"
        },
        {
         "hovertemplate": "Country Name=Georgia<br>Log GDP Per Capita=%{x}<br>Eating disorders (%)=%{y}<extra></extra>",
         "legendgroup": "Georgia",
         "marker": {
          "color": "#FF6692",
          "symbol": "circle"
         },
         "mode": "markers",
         "name": "Georgia",
         "orientation": "v",
         "showlegend": true,
         "type": "scatter",
         "x": [
          9.517067909
         ],
         "xaxis": "x",
         "y": [
          0.17164
         ],
         "yaxis": "y"
        },
        {
         "hovertemplate": "Country Name=Germany<br>Log GDP Per Capita=%{x}<br>Eating disorders (%)=%{y}<extra></extra>",
         "legendgroup": "Germany",
         "marker": {
          "color": "#B6E880",
          "symbol": "circle"
         },
         "mode": "markers",
         "name": "Germany",
         "orientation": "v",
         "showlegend": true,
         "type": "scatter",
         "x": [
          10.87939453
         ],
         "xaxis": "x",
         "y": [
          0.522066
         ],
         "yaxis": "y"
        },
        {
         "hovertemplate": "Country Name=Ghana<br>Log GDP Per Capita=%{x}<br>Eating disorders (%)=%{y}<extra></extra>",
         "legendgroup": "Ghana",
         "marker": {
          "color": "#FF97FF",
          "symbol": "circle"
         },
         "mode": "markers",
         "name": "Ghana",
         "orientation": "v",
         "showlegend": true,
         "type": "scatter",
         "x": [
          8.503006935
         ],
         "xaxis": "x",
         "y": [
          0.147452
         ],
         "yaxis": "y"
        },
        {
         "hovertemplate": "Country Name=Greece<br>Log GDP Per Capita=%{x}<br>Eating disorders (%)=%{y}<extra></extra>",
         "legendgroup": "Greece",
         "marker": {
          "color": "#FECB52",
          "symbol": "circle"
         },
         "mode": "markers",
         "name": "Greece",
         "orientation": "v",
         "showlegend": true,
         "type": "scatter",
         "x": [
          10.26133156
         ],
         "xaxis": "x",
         "y": [
          0.559324
         ],
         "yaxis": "y"
        },
        {
         "hovertemplate": "Country Name=Guatemala<br>Log GDP Per Capita=%{x}<br>Eating disorders (%)=%{y}<extra></extra>",
         "legendgroup": "Guatemala",
         "marker": {
          "color": "#636efa",
          "symbol": "circle"
         },
         "mode": "markers",
         "name": "Guatemala",
         "orientation": "v",
         "showlegend": true,
         "type": "scatter",
         "x": [
          9.026683807
         ],
         "xaxis": "x",
         "y": [
          0.23211
         ],
         "yaxis": "y"
        },
        {
         "hovertemplate": "Country Name=Guinea<br>Log GDP Per Capita=%{x}<br>Eating disorders (%)=%{y}<extra></extra>",
         "legendgroup": "Guinea",
         "marker": {
          "color": "#EF553B",
          "symbol": "circle"
         },
         "mode": "markers",
         "name": "Guinea",
         "orientation": "v",
         "showlegend": true,
         "type": "scatter",
         "x": [
          7.776358128
         ],
         "xaxis": "x",
         "y": [
          0.112388
         ],
         "yaxis": "y"
        },
        {
         "hovertemplate": "Country Name=Haiti<br>Log GDP Per Capita=%{x}<br>Eating disorders (%)=%{y}<extra></extra>",
         "legendgroup": "Haiti",
         "marker": {
          "color": "#00cc96",
          "symbol": "circle"
         },
         "mode": "markers",
         "name": "Haiti",
         "orientation": "v",
         "showlegend": true,
         "type": "scatter",
         "x": [
          8.067083359
         ],
         "xaxis": "x",
         "y": [
          0.16079
         ],
         "yaxis": "y"
        },
        {
         "hovertemplate": "Country Name=Honduras<br>Log GDP Per Capita=%{x}<br>Eating disorders (%)=%{y}<extra></extra>",
         "legendgroup": "Honduras",
         "marker": {
          "color": "#ab63fa",
          "symbol": "circle"
         },
         "mode": "markers",
         "name": "Honduras",
         "orientation": "v",
         "showlegend": true,
         "type": "scatter",
         "x": [
          8.602948189
         ],
         "xaxis": "x",
         "y": [
          0.203339
         ],
         "yaxis": "y"
        },
        {
         "hovertemplate": "Country Name=Hungary<br>Log GDP Per Capita=%{x}<br>Eating disorders (%)=%{y}<extra></extra>",
         "legendgroup": "Hungary",
         "marker": {
          "color": "#FFA15A",
          "symbol": "circle"
         },
         "mode": "markers",
         "name": "Hungary",
         "orientation": "v",
         "showlegend": true,
         "type": "scatter",
         "x": [
          10.29218388
         ],
         "xaxis": "x",
         "y": [
          0.237686
         ],
         "yaxis": "y"
        },
        {
         "hovertemplate": "Country Name=Iceland<br>Log GDP Per Capita=%{x}<br>Eating disorders (%)=%{y}<extra></extra>",
         "legendgroup": "Iceland",
         "marker": {
          "color": "#19d3f3",
          "symbol": "circle"
         },
         "mode": "markers",
         "name": "Iceland",
         "orientation": "v",
         "showlegend": true,
         "type": "scatter",
         "x": [
          10.92663097
         ],
         "xaxis": "x",
         "y": [
          0.558014
         ],
         "yaxis": "y"
        },
        {
         "hovertemplate": "Country Name=India<br>Log GDP Per Capita=%{x}<br>Eating disorders (%)=%{y}<extra></extra>",
         "legendgroup": "India",
         "marker": {
          "color": "#FF6692",
          "symbol": "circle"
         },
         "mode": "markers",
         "name": "India",
         "orientation": "v",
         "showlegend": true,
         "type": "scatter",
         "x": [
          8.718020439
         ],
         "xaxis": "x",
         "y": [
          0.157758
         ],
         "yaxis": "y"
        },
        {
         "hovertemplate": "Country Name=Indonesia<br>Log GDP Per Capita=%{x}<br>Eating disorders (%)=%{y}<extra></extra>",
         "legendgroup": "Indonesia",
         "marker": {
          "color": "#B6E880",
          "symbol": "circle"
         },
         "mode": "markers",
         "name": "Indonesia",
         "orientation": "v",
         "showlegend": true,
         "type": "scatter",
         "x": [
          9.300356865
         ],
         "xaxis": "x",
         "y": [
          0.148782
         ],
         "yaxis": "y"
        },
        {
         "hovertemplate": "Country Name=Iraq<br>Log GDP Per Capita=%{x}<br>Eating disorders (%)=%{y}<extra></extra>",
         "legendgroup": "Iraq",
         "marker": {
          "color": "#FF97FF",
          "symbol": "circle"
         },
         "mode": "markers",
         "name": "Iraq",
         "orientation": "v",
         "showlegend": true,
         "type": "scatter",
         "x": [
          9.208023071
         ],
         "xaxis": "x",
         "y": [
          0.208672
         ],
         "yaxis": "y"
        },
        {
         "hovertemplate": "Country Name=Ireland<br>Log GDP Per Capita=%{x}<br>Eating disorders (%)=%{y}<extra></extra>",
         "legendgroup": "Ireland",
         "marker": {
          "color": "#FECB52",
          "symbol": "circle"
         },
         "mode": "markers",
         "name": "Ireland",
         "orientation": "v",
         "showlegend": true,
         "type": "scatter",
         "x": [
          11.26124382
         ],
         "xaxis": "x",
         "y": [
          0.559995
         ],
         "yaxis": "y"
        },
        {
         "hovertemplate": "Country Name=Israel<br>Log GDP Per Capita=%{x}<br>Eating disorders (%)=%{y}<extra></extra>",
         "legendgroup": "Israel",
         "marker": {
          "color": "#636efa",
          "symbol": "circle"
         },
         "mode": "markers",
         "name": "Israel",
         "orientation": "v",
         "showlegend": true,
         "type": "scatter",
         "x": [
          10.57442188
         ],
         "xaxis": "x",
         "y": [
          0.461175
         ],
         "yaxis": "y"
        },
        {
         "hovertemplate": "Country Name=Italy<br>Log GDP Per Capita=%{x}<br>Eating disorders (%)=%{y}<extra></extra>",
         "legendgroup": "Italy",
         "marker": {
          "color": "#EF553B",
          "symbol": "circle"
         },
         "mode": "markers",
         "name": "Italy",
         "orientation": "v",
         "showlegend": true,
         "type": "scatter",
         "x": [
          10.63540173
         ],
         "xaxis": "x",
         "y": [
          0.626784
         ],
         "yaxis": "y"
        },
        {
         "hovertemplate": "Country Name=Jamaica<br>Log GDP Per Capita=%{x}<br>Eating disorders (%)=%{y}<extra></extra>",
         "legendgroup": "Jamaica",
         "marker": {
          "color": "#00cc96",
          "symbol": "circle"
         },
         "mode": "markers",
         "name": "Jamaica",
         "orientation": "v",
         "showlegend": true,
         "type": "scatter",
         "x": [
          9.208796501
         ],
         "xaxis": "x",
         "y": [
          0.25965
         ],
         "yaxis": "y"
        },
        {
         "hovertemplate": "Country Name=Japan<br>Log GDP Per Capita=%{x}<br>Eating disorders (%)=%{y}<extra></extra>",
         "legendgroup": "Japan",
         "marker": {
          "color": "#ab63fa",
          "symbol": "circle"
         },
         "mode": "markers",
         "name": "Japan",
         "orientation": "v",
         "showlegend": true,
         "type": "scatter",
         "x": [
          10.63210392
         ],
         "xaxis": "x",
         "y": [
          0.454379
         ],
         "yaxis": "y"
        },
        {
         "hovertemplate": "Country Name=Kazakhstan<br>Log GDP Per Capita=%{x}<br>Eating disorders (%)=%{y}<extra></extra>",
         "legendgroup": "Kazakhstan",
         "marker": {
          "color": "#FFA15A",
          "symbol": "circle"
         },
         "mode": "markers",
         "name": "Kazakhstan",
         "orientation": "v",
         "showlegend": true,
         "type": "scatter",
         "x": [
          10.12113476
         ],
         "xaxis": "x",
         "y": [
          0.227918
         ],
         "yaxis": "y"
        },
        {
         "hovertemplate": "Country Name=Kenya<br>Log GDP Per Capita=%{x}<br>Eating disorders (%)=%{y}<extra></extra>",
         "legendgroup": "Kenya",
         "marker": {
          "color": "#19d3f3",
          "symbol": "circle"
         },
         "mode": "markers",
         "name": "Kenya",
         "orientation": "v",
         "showlegend": true,
         "type": "scatter",
         "x": [
          8.369367599
         ],
         "xaxis": "x",
         "y": [
          0.135005
         ],
         "yaxis": "y"
        },
        {
         "hovertemplate": "Country Name=Kyrgyzstan<br>Log GDP Per Capita=%{x}<br>Eating disorders (%)=%{y}<extra></extra>",
         "legendgroup": "Kyrgyzstan",
         "marker": {
          "color": "#FF6692",
          "symbol": "circle"
         },
         "mode": "markers",
         "name": "Kyrgyzstan",
         "orientation": "v",
         "showlegend": true,
         "type": "scatter",
         "x": [
          8.526488304
         ],
         "xaxis": "x",
         "y": [
          0.127525
         ],
         "yaxis": "y"
        },
        {
         "hovertemplate": "Country Name=Laos<br>Log GDP Per Capita=%{x}<br>Eating disorders (%)=%{y}<extra></extra>",
         "legendgroup": "Laos",
         "marker": {
          "color": "#B6E880",
          "symbol": "circle"
         },
         "mode": "markers",
         "name": "Laos",
         "orientation": "v",
         "showlegend": true,
         "type": "scatter",
         "x": [
          8.88339901
         ],
         "xaxis": "x",
         "y": [
          0.128172
         ],
         "yaxis": "y"
        },
        {
         "hovertemplate": "Country Name=Latvia<br>Log GDP Per Capita=%{x}<br>Eating disorders (%)=%{y}<extra></extra>",
         "legendgroup": "Latvia",
         "marker": {
          "color": "#FF97FF",
          "symbol": "circle"
         },
         "mode": "markers",
         "name": "Latvia",
         "orientation": "v",
         "showlegend": true,
         "type": "scatter",
         "x": [
          10.263731
         ],
         "xaxis": "x",
         "y": [
          0.225275
         ],
         "yaxis": "y"
        },
        {
         "hovertemplate": "Country Name=Lebanon<br>Log GDP Per Capita=%{x}<br>Eating disorders (%)=%{y}<extra></extra>",
         "legendgroup": "Lebanon",
         "marker": {
          "color": "#FECB52",
          "symbol": "circle"
         },
         "mode": "markers",
         "name": "Lebanon",
         "orientation": "v",
         "showlegend": true,
         "type": "scatter",
         "x": [
          9.787406921
         ],
         "xaxis": "x",
         "y": [
          0.219049
         ],
         "yaxis": "y"
        },
        {
         "hovertemplate": "Country Name=Lesotho<br>Log GDP Per Capita=%{x}<br>Eating disorders (%)=%{y}<extra></extra>",
         "legendgroup": "Lesotho",
         "marker": {
          "color": "#636efa",
          "symbol": "circle"
         },
         "mode": "markers",
         "name": "Lesotho",
         "orientation": "v",
         "showlegend": true,
         "type": "scatter",
         "x": [
          7.852320194
         ],
         "xaxis": "x",
         "y": [
          0.136801
         ],
         "yaxis": "y"
        },
        {
         "hovertemplate": "Country Name=Liberia<br>Log GDP Per Capita=%{x}<br>Eating disorders (%)=%{y}<extra></extra>",
         "legendgroup": "Liberia",
         "marker": {
          "color": "#EF553B",
          "symbol": "circle"
         },
         "mode": "markers",
         "name": "Liberia",
         "orientation": "v",
         "showlegend": true,
         "type": "scatter",
         "x": [
          7.335249901
         ],
         "xaxis": "x",
         "y": [
          0.091591
         ],
         "yaxis": "y"
        },
        {
         "hovertemplate": "Country Name=Lithuania<br>Log GDP Per Capita=%{x}<br>Eating disorders (%)=%{y}<extra></extra>",
         "legendgroup": "Lithuania",
         "marker": {
          "color": "#00cc96",
          "symbol": "circle"
         },
         "mode": "markers",
         "name": "Lithuania",
         "orientation": "v",
         "showlegend": true,
         "type": "scatter",
         "x": [
          10.42708778
         ],
         "xaxis": "x",
         "y": [
          0.234095
         ],
         "yaxis": "y"
        },
        {
         "hovertemplate": "Country Name=Luxembourg<br>Log GDP Per Capita=%{x}<br>Eating disorders (%)=%{y}<extra></extra>",
         "legendgroup": "Luxembourg",
         "marker": {
          "color": "#ab63fa",
          "symbol": "circle"
         },
         "mode": "markers",
         "name": "Luxembourg",
         "orientation": "v",
         "showlegend": true,
         "type": "scatter",
         "x": [
          11.65256405
         ],
         "xaxis": "x",
         "y": [
          0.737917
         ],
         "yaxis": "y"
        },
        {
         "hovertemplate": "Country Name=Madagascar<br>Log GDP Per Capita=%{x}<br>Eating disorders (%)=%{y}<extra></extra>",
         "legendgroup": "Madagascar",
         "marker": {
          "color": "#FFA15A",
          "symbol": "circle"
         },
         "mode": "markers",
         "name": "Madagascar",
         "orientation": "v",
         "showlegend": true,
         "type": "scatter",
         "x": [
          7.344820023
         ],
         "xaxis": "x",
         "y": [
          0.106417
         ],
         "yaxis": "y"
        },
        {
         "hovertemplate": "Country Name=Malawi<br>Log GDP Per Capita=%{x}<br>Eating disorders (%)=%{y}<extra></extra>",
         "legendgroup": "Malawi",
         "marker": {
          "color": "#19d3f3",
          "symbol": "circle"
         },
         "mode": "markers",
         "name": "Malawi",
         "orientation": "v",
         "showlegend": true,
         "type": "scatter",
         "x": [
          7.282608032
         ],
         "xaxis": "x",
         "y": [
          0.100349
         ],
         "yaxis": "y"
        },
        {
         "hovertemplate": "Country Name=Mali<br>Log GDP Per Capita=%{x}<br>Eating disorders (%)=%{y}<extra></extra>",
         "legendgroup": "Mali",
         "marker": {
          "color": "#FF6692",
          "symbol": "circle"
         },
         "mode": "markers",
         "name": "Mali",
         "orientation": "v",
         "showlegend": true,
         "type": "scatter",
         "x": [
          7.675010204
         ],
         "xaxis": "x",
         "y": [
          0.116675
         ],
         "yaxis": "y"
        },
        {
         "hovertemplate": "Country Name=Malta<br>Log GDP Per Capita=%{x}<br>Eating disorders (%)=%{y}<extra></extra>",
         "legendgroup": "Malta",
         "marker": {
          "color": "#B6E880",
          "symbol": "circle"
         },
         "mode": "markers",
         "name": "Malta",
         "orientation": "v",
         "showlegend": true,
         "type": "scatter",
         "x": [
          10.68089676
         ],
         "xaxis": "x",
         "y": [
          0.51914
         ],
         "yaxis": "y"
        },
        {
         "hovertemplate": "Country Name=Mauritania<br>Log GDP Per Capita=%{x}<br>Eating disorders (%)=%{y}<extra></extra>",
         "legendgroup": "Mauritania",
         "marker": {
          "color": "#FF97FF",
          "symbol": "circle"
         },
         "mode": "markers",
         "name": "Mauritania",
         "orientation": "v",
         "showlegend": true,
         "type": "scatter",
         "x": [
          8.567708969
         ],
         "xaxis": "x",
         "y": [
          0.145276
         ],
         "yaxis": "y"
        },
        {
         "hovertemplate": "Country Name=Mauritius<br>Log GDP Per Capita=%{x}<br>Eating disorders (%)=%{y}<extra></extra>",
         "legendgroup": "Mauritius",
         "marker": {
          "color": "#FECB52",
          "symbol": "circle"
         },
         "mode": "markers",
         "name": "Mauritius",
         "orientation": "v",
         "showlegend": true,
         "type": "scatter",
         "x": [
          10.00553036
         ],
         "xaxis": "x",
         "y": [
          0.184433
         ],
         "yaxis": "y"
        },
        {
         "hovertemplate": "Country Name=Mexico<br>Log GDP Per Capita=%{x}<br>Eating disorders (%)=%{y}<extra></extra>",
         "legendgroup": "Mexico",
         "marker": {
          "color": "#636efa",
          "symbol": "circle"
         },
         "mode": "markers",
         "name": "Mexico",
         "orientation": "v",
         "showlegend": true,
         "type": "scatter",
         "x": [
          9.905106544
         ],
         "xaxis": "x",
         "y": [
          0.316975
         ],
         "yaxis": "y"
        },
        {
         "hovertemplate": "Country Name=Moldova<br>Log GDP Per Capita=%{x}<br>Eating disorders (%)=%{y}<extra></extra>",
         "legendgroup": "Moldova",
         "marker": {
          "color": "#EF553B",
          "symbol": "circle"
         },
         "mode": "markers",
         "name": "Moldova",
         "orientation": "v",
         "showlegend": true,
         "type": "scatter",
         "x": [
          9.363162994
         ],
         "xaxis": "x",
         "y": [
          0.141701
         ],
         "yaxis": "y"
        },
        {
         "hovertemplate": "Country Name=Mongolia<br>Log GDP Per Capita=%{x}<br>Eating disorders (%)=%{y}<extra></extra>",
         "legendgroup": "Mongolia",
         "marker": {
          "color": "#00cc96",
          "symbol": "circle"
         },
         "mode": "markers",
         "name": "Mongolia",
         "orientation": "v",
         "showlegend": true,
         "type": "scatter",
         "x": [
          9.344127655
         ],
         "xaxis": "x",
         "y": [
          0.180157
         ],
         "yaxis": "y"
        },
        {
         "hovertemplate": "Country Name=Montenegro<br>Log GDP Per Capita=%{x}<br>Eating disorders (%)=%{y}<extra></extra>",
         "legendgroup": "Montenegro",
         "marker": {
          "color": "#ab63fa",
          "symbol": "circle"
         },
         "mode": "markers",
         "name": "Montenegro",
         "orientation": "v",
         "showlegend": true,
         "type": "scatter",
         "x": [
          9.887653351
         ],
         "xaxis": "x",
         "y": [
          0.194161
         ],
         "yaxis": "y"
        },
        {
         "hovertemplate": "Country Name=Mozambique<br>Log GDP Per Capita=%{x}<br>Eating disorders (%)=%{y}<extra></extra>",
         "legendgroup": "Mozambique",
         "marker": {
          "color": "#FFA15A",
          "symbol": "circle"
         },
         "mode": "markers",
         "name": "Mozambique",
         "orientation": "v",
         "showlegend": true,
         "type": "scatter",
         "x": [
          7.160251617
         ],
         "xaxis": "x",
         "y": [
          0.103227
         ],
         "yaxis": "y"
        },
        {
         "hovertemplate": "Country Name=Myanmar<br>Log GDP Per Capita=%{x}<br>Eating disorders (%)=%{y}<extra></extra>",
         "legendgroup": "Myanmar",
         "marker": {
          "color": "#19d3f3",
          "symbol": "circle"
         },
         "mode": "markers",
         "name": "Myanmar",
         "orientation": "v",
         "showlegend": true,
         "type": "scatter",
         "x": [
          8.369377136
         ],
         "xaxis": "x",
         "y": [
          0.125738
         ],
         "yaxis": "y"
        },
        {
         "hovertemplate": "Country Name=Namibia<br>Log GDP Per Capita=%{x}<br>Eating disorders (%)=%{y}<extra></extra>",
         "legendgroup": "Namibia",
         "marker": {
          "color": "#FF6692",
          "symbol": "circle"
         },
         "mode": "markers",
         "name": "Namibia",
         "orientation": "v",
         "showlegend": true,
         "type": "scatter",
         "x": [
          9.243317604
         ],
         "xaxis": "x",
         "y": [
          0.200987
         ],
         "yaxis": "y"
        },
        {
         "hovertemplate": "Country Name=Nepal<br>Log GDP Per Capita=%{x}<br>Eating disorders (%)=%{y}<extra></extra>",
         "legendgroup": "Nepal",
         "marker": {
          "color": "#B6E880",
          "symbol": "circle"
         },
         "mode": "markers",
         "name": "Nepal",
         "orientation": "v",
         "showlegend": true,
         "type": "scatter",
         "x": [
          8.159239769
         ],
         "xaxis": "x",
         "y": [
          0.128495
         ],
         "yaxis": "y"
        },
        {
         "hovertemplate": "Country Name=Netherlands<br>Log GDP Per Capita=%{x}<br>Eating disorders (%)=%{y}<extra></extra>",
         "legendgroup": "Netherlands",
         "marker": {
          "color": "#FF97FF",
          "symbol": "circle"
         },
         "mode": "markers",
         "name": "Netherlands",
         "orientation": "v",
         "showlegend": true,
         "type": "scatter",
         "x": [
          10.91669846
         ],
         "xaxis": "x",
         "y": [
          0.467844
         ],
         "yaxis": "y"
        },
        {
         "hovertemplate": "Country Name=New Zealand<br>Log GDP Per Capita=%{x}<br>Eating disorders (%)=%{y}<extra></extra>",
         "legendgroup": "New Zealand",
         "marker": {
          "color": "#FECB52",
          "symbol": "circle"
         },
         "mode": "markers",
         "name": "New Zealand",
         "orientation": "v",
         "showlegend": true,
         "type": "scatter",
         "x": [
          10.65061474
         ],
         "xaxis": "x",
         "y": [
          0.67329
         ],
         "yaxis": "y"
        },
        {
         "hovertemplate": "Country Name=Nicaragua<br>Log GDP Per Capita=%{x}<br>Eating disorders (%)=%{y}<extra></extra>",
         "legendgroup": "Nicaragua",
         "marker": {
          "color": "#636efa",
          "symbol": "circle"
         },
         "mode": "markers",
         "name": "Nicaragua",
         "orientation": "v",
         "showlegend": true,
         "type": "scatter",
         "x": [
          8.685310364
         ],
         "xaxis": "x",
         "y": [
          0.205876
         ],
         "yaxis": "y"
        },
        {
         "hovertemplate": "Country Name=Niger<br>Log GDP Per Capita=%{x}<br>Eating disorders (%)=%{y}<extra></extra>",
         "legendgroup": "Niger",
         "marker": {
          "color": "#EF553B",
          "symbol": "circle"
         },
         "mode": "markers",
         "name": "Niger",
         "orientation": "v",
         "showlegend": true,
         "type": "scatter",
         "x": [
          7.052698135
         ],
         "xaxis": "x",
         "y": [
          0.096116
         ],
         "yaxis": "y"
        },
        {
         "hovertemplate": "Country Name=Nigeria<br>Log GDP Per Capita=%{x}<br>Eating disorders (%)=%{y}<extra></extra>",
         "legendgroup": "Nigeria",
         "marker": {
          "color": "#00cc96",
          "symbol": "circle"
         },
         "mode": "markers",
         "name": "Nigeria",
         "orientation": "v",
         "showlegend": true,
         "type": "scatter",
         "x": [
          8.540910721
         ],
         "xaxis": "x",
         "y": [
          0.163373
         ],
         "yaxis": "y"
        },
        {
         "hovertemplate": "Country Name=Norway<br>Log GDP Per Capita=%{x}<br>Eating disorders (%)=%{y}<extra></extra>",
         "legendgroup": "Norway",
         "marker": {
          "color": "#ab63fa",
          "symbol": "circle"
         },
         "mode": "markers",
         "name": "Norway",
         "orientation": "v",
         "showlegend": true,
         "type": "scatter",
         "x": [
          11.06743145
         ],
         "xaxis": "x",
         "y": [
          0.570363
         ],
         "yaxis": "y"
        },
        {
         "hovertemplate": "Country Name=Pakistan<br>Log GDP Per Capita=%{x}<br>Eating disorders (%)=%{y}<extra></extra>",
         "legendgroup": "Pakistan",
         "marker": {
          "color": "#FFA15A",
          "symbol": "circle"
         },
         "mode": "markers",
         "name": "Pakistan",
         "orientation": "v",
         "showlegend": true,
         "type": "scatter",
         "x": [
          8.495299339
         ],
         "xaxis": "x",
         "y": [
          0.154583
         ],
         "yaxis": "y"
        },
        {
         "hovertemplate": "Country Name=Panama<br>Log GDP Per Capita=%{x}<br>Eating disorders (%)=%{y}<extra></extra>",
         "legendgroup": "Panama",
         "marker": {
          "color": "#19d3f3",
          "symbol": "circle"
         },
         "mode": "markers",
         "name": "Panama",
         "orientation": "v",
         "showlegend": true,
         "type": "scatter",
         "x": [
          10.3263464
         ],
         "xaxis": "x",
         "y": [
          0.31665
         ],
         "yaxis": "y"
        },
        {
         "hovertemplate": "Country Name=Paraguay<br>Log GDP Per Capita=%{x}<br>Eating disorders (%)=%{y}<extra></extra>",
         "legendgroup": "Paraguay",
         "marker": {
          "color": "#FF6692",
          "symbol": "circle"
         },
         "mode": "markers",
         "name": "Paraguay",
         "orientation": "v",
         "showlegend": true,
         "type": "scatter",
         "x": [
          9.51813221
         ],
         "xaxis": "x",
         "y": [
          0.238288
         ],
         "yaxis": "y"
        },
        {
         "hovertemplate": "Country Name=Peru<br>Log GDP Per Capita=%{x}<br>Eating disorders (%)=%{y}<extra></extra>",
         "legendgroup": "Peru",
         "marker": {
          "color": "#B6E880",
          "symbol": "circle"
         },
         "mode": "markers",
         "name": "Peru",
         "orientation": "v",
         "showlegend": true,
         "type": "scatter",
         "x": [
          9.428893089
         ],
         "xaxis": "x",
         "y": [
          0.369216
         ],
         "yaxis": "y"
        },
        {
         "hovertemplate": "Country Name=Philippines<br>Log GDP Per Capita=%{x}<br>Eating disorders (%)=%{y}<extra></extra>",
         "legendgroup": "Philippines",
         "marker": {
          "color": "#FF97FF",
          "symbol": "circle"
         },
         "mode": "markers",
         "name": "Philippines",
         "orientation": "v",
         "showlegend": true,
         "type": "scatter",
         "x": [
          8.987416267
         ],
         "xaxis": "x",
         "y": [
          0.134855
         ],
         "yaxis": "y"
        },
        {
         "hovertemplate": "Country Name=Poland<br>Log GDP Per Capita=%{x}<br>Eating disorders (%)=%{y}<extra></extra>",
         "legendgroup": "Poland",
         "marker": {
          "color": "#FECB52",
          "symbol": "circle"
         },
         "mode": "markers",
         "name": "Poland",
         "orientation": "v",
         "showlegend": true,
         "type": "scatter",
         "x": [
          10.30755615
         ],
         "xaxis": "x",
         "y": [
          0.229485
         ],
         "yaxis": "y"
        },
        {
         "hovertemplate": "Country Name=Portugal<br>Log GDP Per Capita=%{x}<br>Eating disorders (%)=%{y}<extra></extra>",
         "legendgroup": "Portugal",
         "marker": {
          "color": "#636efa",
          "symbol": "circle"
         },
         "mode": "markers",
         "name": "Portugal",
         "orientation": "v",
         "showlegend": true,
         "type": "scatter",
         "x": [
          10.40561676
         ],
         "xaxis": "x",
         "y": [
          0.513079
         ],
         "yaxis": "y"
        },
        {
         "hovertemplate": "Country Name=Romania<br>Log GDP Per Capita=%{x}<br>Eating disorders (%)=%{y}<extra></extra>",
         "legendgroup": "Romania",
         "marker": {
          "color": "#EF553B",
          "symbol": "circle"
         },
         "mode": "markers",
         "name": "Romania",
         "orientation": "v",
         "showlegend": true,
         "type": "scatter",
         "x": [
          10.20167065
         ],
         "xaxis": "x",
         "y": [
          0.2007
         ],
         "yaxis": "y"
        },
        {
         "hovertemplate": "Country Name=Russia<br>Log GDP Per Capita=%{x}<br>Eating disorders (%)=%{y}<extra></extra>",
         "legendgroup": "Russia",
         "marker": {
          "color": "#00cc96",
          "symbol": "circle"
         },
         "mode": "markers",
         "name": "Russia",
         "orientation": "v",
         "showlegend": true,
         "type": "scatter",
         "x": [
          10.16301918
         ],
         "xaxis": "x",
         "y": [
          0.232375
         ],
         "yaxis": "y"
        },
        {
         "hovertemplate": "Country Name=Rwanda<br>Log GDP Per Capita=%{x}<br>Eating disorders (%)=%{y}<extra></extra>",
         "legendgroup": "Rwanda",
         "marker": {
          "color": "#ab63fa",
          "symbol": "circle"
         },
         "mode": "markers",
         "name": "Rwanda",
         "orientation": "v",
         "showlegend": true,
         "type": "scatter",
         "x": [
          7.567848682
         ],
         "xaxis": "x",
         "y": [
          0.115817
         ],
         "yaxis": "y"
        },
        {
         "hovertemplate": "Country Name=Senegal<br>Log GDP Per Capita=%{x}<br>Eating disorders (%)=%{y}<extra></extra>",
         "legendgroup": "Senegal",
         "marker": {
          "color": "#FFA15A",
          "symbol": "circle"
         },
         "mode": "markers",
         "name": "Senegal",
         "orientation": "v",
         "showlegend": true,
         "type": "scatter",
         "x": [
          8.089234352
         ],
         "xaxis": "x",
         "y": [
          0.12529
         ],
         "yaxis": "y"
        },
        {
         "hovertemplate": "Country Name=Serbia<br>Log GDP Per Capita=%{x}<br>Eating disorders (%)=%{y}<extra></extra>",
         "legendgroup": "Serbia",
         "marker": {
          "color": "#19d3f3",
          "symbol": "circle"
         },
         "mode": "markers",
         "name": "Serbia",
         "orientation": "v",
         "showlegend": true,
         "type": "scatter",
         "x": [
          9.718001366
         ],
         "xaxis": "x",
         "y": [
          0.187147
         ],
         "yaxis": "y"
        },
        {
         "hovertemplate": "Country Name=Sierra Leone<br>Log GDP Per Capita=%{x}<br>Eating disorders (%)=%{y}<extra></extra>",
         "legendgroup": "Sierra Leone",
         "marker": {
          "color": "#FF6692",
          "symbol": "circle"
         },
         "mode": "markers",
         "name": "Sierra Leone",
         "orientation": "v",
         "showlegend": true,
         "type": "scatter",
         "x": [
          7.373677731
         ],
         "xaxis": "x",
         "y": [
          0.109799
         ],
         "yaxis": "y"
        },
        {
         "hovertemplate": "Country Name=Singapore<br>Log GDP Per Capita=%{x}<br>Eating disorders (%)=%{y}<extra></extra>",
         "legendgroup": "Singapore",
         "marker": {
          "color": "#B6E880",
          "symbol": "circle"
         },
         "mode": "markers",
         "name": "Singapore",
         "orientation": "v",
         "showlegend": true,
         "type": "scatter",
         "x": [
          11.46489334
         ],
         "xaxis": "x",
         "y": [
          0.553712
         ],
         "yaxis": "y"
        },
        {
         "hovertemplate": "Country Name=Slovakia<br>Log GDP Per Capita=%{x}<br>Eating disorders (%)=%{y}<extra></extra>",
         "legendgroup": "Slovakia",
         "marker": {
          "color": "#FF97FF",
          "symbol": "circle"
         },
         "mode": "markers",
         "name": "Slovakia",
         "orientation": "v",
         "showlegend": true,
         "type": "scatter",
         "x": [
          10.31100178
         ],
         "xaxis": "x",
         "y": [
          0.235475
         ],
         "yaxis": "y"
        },
        {
         "hovertemplate": "Country Name=Slovenia<br>Log GDP Per Capita=%{x}<br>Eating disorders (%)=%{y}<extra></extra>",
         "legendgroup": "Slovenia",
         "marker": {
          "color": "#FECB52",
          "symbol": "circle"
         },
         "mode": "markers",
         "name": "Slovenia",
         "orientation": "v",
         "showlegend": true,
         "type": "scatter",
         "x": [
          10.50527477
         ],
         "xaxis": "x",
         "y": [
          0.239636
         ],
         "yaxis": "y"
        },
        {
         "hovertemplate": "Country Name=South Africa<br>Log GDP Per Capita=%{x}<br>Eating disorders (%)=%{y}<extra></extra>",
         "legendgroup": "South Africa",
         "marker": {
          "color": "#636efa",
          "symbol": "circle"
         },
         "mode": "markers",
         "name": "South Africa",
         "orientation": "v",
         "showlegend": true,
         "type": "scatter",
         "x": [
          9.54326725
         ],
         "xaxis": "x",
         "y": [
          0.214718
         ],
         "yaxis": "y"
        },
        {
         "hovertemplate": "Country Name=South Korea<br>Log GDP Per Capita=%{x}<br>Eating disorders (%)=%{y}<extra></extra>",
         "legendgroup": "South Korea",
         "marker": {
          "color": "#EF553B",
          "symbol": "circle"
         },
         "mode": "markers",
         "name": "South Korea",
         "orientation": "v",
         "showlegend": true,
         "type": "scatter",
         "x": [
          10.6202879
         ],
         "xaxis": "x",
         "y": [
          0.417103
         ],
         "yaxis": "y"
        },
        {
         "hovertemplate": "Country Name=Spain<br>Log GDP Per Capita=%{x}<br>Eating disorders (%)=%{y}<extra></extra>",
         "legendgroup": "Spain",
         "marker": {
          "color": "#00cc96",
          "symbol": "circle"
         },
         "mode": "markers",
         "name": "Spain",
         "orientation": "v",
         "showlegend": true,
         "type": "scatter",
         "x": [
          10.58478832
         ],
         "xaxis": "x",
         "y": [
          0.730626
         ],
         "yaxis": "y"
        },
        {
         "hovertemplate": "Country Name=Sri Lanka<br>Log GDP Per Capita=%{x}<br>Eating disorders (%)=%{y}<extra></extra>",
         "legendgroup": "Sri Lanka",
         "marker": {
          "color": "#ab63fa",
          "symbol": "circle"
         },
         "mode": "markers",
         "name": "Sri Lanka",
         "orientation": "v",
         "showlegend": true,
         "type": "scatter",
         "x": [
          9.516662598
         ],
         "xaxis": "x",
         "y": [
          0.159144
         ],
         "yaxis": "y"
        },
        {
         "hovertemplate": "Country Name=Sweden<br>Log GDP Per Capita=%{x}<br>Eating disorders (%)=%{y}<extra></extra>",
         "legendgroup": "Sweden",
         "marker": {
          "color": "#FFA15A",
          "symbol": "circle"
         },
         "mode": "markers",
         "name": "Sweden",
         "orientation": "v",
         "showlegend": true,
         "type": "scatter",
         "x": [
          10.85799789
         ],
         "xaxis": "x",
         "y": [
          0.574608
         ],
         "yaxis": "y"
        },
        {
         "hovertemplate": "Country Name=Switzerland<br>Log GDP Per Capita=%{x}<br>Eating disorders (%)=%{y}<extra></extra>",
         "legendgroup": "Switzerland",
         "marker": {
          "color": "#19d3f3",
          "symbol": "circle"
         },
         "mode": "markers",
         "name": "Switzerland",
         "orientation": "v",
         "showlegend": true,
         "type": "scatter",
         "x": [
          11.14336205
         ],
         "xaxis": "x",
         "y": [
          0.573969
         ],
         "yaxis": "y"
        },
        {
         "hovertemplate": "Country Name=Tajikistan<br>Log GDP Per Capita=%{x}<br>Eating disorders (%)=%{y}<extra></extra>",
         "legendgroup": "Tajikistan",
         "marker": {
          "color": "#FF6692",
          "symbol": "circle"
         },
         "mode": "markers",
         "name": "Tajikistan",
         "orientation": "v",
         "showlegend": true,
         "type": "scatter",
         "x": [
          8.082228661
         ],
         "xaxis": "x",
         "y": [
          0.118226
         ],
         "yaxis": "y"
        },
        {
         "hovertemplate": "Country Name=Tanzania<br>Log GDP Per Capita=%{x}<br>Eating disorders (%)=%{y}<extra></extra>",
         "legendgroup": "Tanzania",
         "marker": {
          "color": "#B6E880",
          "symbol": "circle"
         },
         "mode": "markers",
         "name": "Tanzania",
         "orientation": "v",
         "showlegend": true,
         "type": "scatter",
         "x": [
          7.80724287
         ],
         "xaxis": "x",
         "y": [
          0.129857
         ],
         "yaxis": "y"
        },
        {
         "hovertemplate": "Country Name=Thailand<br>Log GDP Per Capita=%{x}<br>Eating disorders (%)=%{y}<extra></extra>",
         "legendgroup": "Thailand",
         "marker": {
          "color": "#FF97FF",
          "symbol": "circle"
         },
         "mode": "markers",
         "name": "Thailand",
         "orientation": "v",
         "showlegend": true,
         "type": "scatter",
         "x": [
          9.741441727
         ],
         "xaxis": "x",
         "y": [
          0.173202
         ],
         "yaxis": "y"
        },
        {
         "hovertemplate": "Country Name=Togo<br>Log GDP Per Capita=%{x}<br>Eating disorders (%)=%{y}<extra></extra>",
         "legendgroup": "Togo",
         "marker": {
          "color": "#FECB52",
          "symbol": "circle"
         },
         "mode": "markers",
         "name": "Togo",
         "orientation": "v",
         "showlegend": true,
         "type": "scatter",
         "x": [
          7.587156773
         ],
         "xaxis": "x",
         "y": [
          0.108107
         ],
         "yaxis": "y"
        },
        {
         "hovertemplate": "Country Name=Tunisia<br>Log GDP Per Capita=%{x}<br>Eating disorders (%)=%{y}<extra></extra>",
         "legendgroup": "Tunisia",
         "marker": {
          "color": "#636efa",
          "symbol": "circle"
         },
         "mode": "markers",
         "name": "Tunisia",
         "orientation": "v",
         "showlegend": true,
         "type": "scatter",
         "x": [
          9.29421711
         ],
         "xaxis": "x",
         "y": [
          0.200172
         ],
         "yaxis": "y"
        },
        {
         "hovertemplate": "Country Name=Uganda<br>Log GDP Per Capita=%{x}<br>Eating disorders (%)=%{y}<extra></extra>",
         "legendgroup": "Uganda",
         "marker": {
          "color": "#EF553B",
          "symbol": "circle"
         },
         "mode": "markers",
         "name": "Uganda",
         "orientation": "v",
         "showlegend": true,
         "type": "scatter",
         "x": [
          7.663124561
         ],
         "xaxis": "x",
         "y": [
          0.119309
         ],
         "yaxis": "y"
        },
        {
         "hovertemplate": "Country Name=Ukraine<br>Log GDP Per Capita=%{x}<br>Eating disorders (%)=%{y}<extra></extra>",
         "legendgroup": "Ukraine",
         "marker": {
          "color": "#00cc96",
          "symbol": "circle"
         },
         "mode": "markers",
         "name": "Ukraine",
         "orientation": "v",
         "showlegend": true,
         "type": "scatter",
         "x": [
          9.380973816
         ],
         "xaxis": "x",
         "y": [
          0.172715
         ],
         "yaxis": "y"
        },
        {
         "hovertemplate": "Country Name=United Kingdom<br>Log GDP Per Capita=%{x}<br>Eating disorders (%)=%{y}<extra></extra>",
         "legendgroup": "United Kingdom",
         "marker": {
          "color": "#ab63fa",
          "symbol": "circle"
         },
         "mode": "markers",
         "name": "United Kingdom",
         "orientation": "v",
         "showlegend": true,
         "type": "scatter",
         "x": [
          10.74445915
         ],
         "xaxis": "x",
         "y": [
          0.543054
         ],
         "yaxis": "y"
        },
        {
         "hovertemplate": "Country Name=United States<br>Log GDP Per Capita=%{x}<br>Eating disorders (%)=%{y}<extra></extra>",
         "legendgroup": "United States",
         "marker": {
          "color": "#FFA15A",
          "symbol": "circle"
         },
         "mode": "markers",
         "name": "United States",
         "orientation": "v",
         "showlegend": true,
         "type": "scatter",
         "x": [
          11.00067806
         ],
         "xaxis": "x",
         "y": [
          0.512844
         ],
         "yaxis": "y"
        },
        {
         "hovertemplate": "Country Name=Uruguay<br>Log GDP Per Capita=%{x}<br>Eating disorders (%)=%{y}<extra></extra>",
         "legendgroup": "Uruguay",
         "marker": {
          "color": "#19d3f3",
          "symbol": "circle"
         },
         "mode": "markers",
         "name": "Uruguay",
         "orientation": "v",
         "showlegend": true,
         "type": "scatter",
         "x": [
          10.04789066
         ],
         "xaxis": "x",
         "y": [
          0.405502
         ],
         "yaxis": "y"
        },
        {
         "hovertemplate": "Country Name=Uzbekistan<br>Log GDP Per Capita=%{x}<br>Eating disorders (%)=%{y}<extra></extra>",
         "legendgroup": "Uzbekistan",
         "marker": {
          "color": "#FF6692",
          "symbol": "circle"
         },
         "mode": "markers",
         "name": "Uzbekistan",
         "orientation": "v",
         "showlegend": true,
         "type": "scatter",
         "x": [
          8.830646515
         ],
         "xaxis": "x",
         "y": [
          0.153735
         ],
         "yaxis": "y"
        },
        {
         "hovertemplate": "Country Name=Venezuela<br>Log GDP Per Capita=%{x}<br>Eating disorders (%)=%{y}<extra></extra>",
         "legendgroup": "Venezuela",
         "marker": {
          "color": "#B6E880",
          "symbol": "circle"
         },
         "mode": "markers",
         "name": "Venezuela",
         "orientation": "v",
         "showlegend": true,
         "type": "scatter",
         "x": [
          5.943209171
         ],
         "xaxis": "x",
         "y": [
          0.28269
         ],
         "yaxis": "y"
        },
        {
         "hovertemplate": "Country Name=Zambia<br>Log GDP Per Capita=%{x}<br>Eating disorders (%)=%{y}<extra></extra>",
         "legendgroup": "Zambia",
         "marker": {
          "color": "#FF97FF",
          "symbol": "circle"
         },
         "mode": "markers",
         "name": "Zambia",
         "orientation": "v",
         "showlegend": true,
         "type": "scatter",
         "x": [
          8.130200386
         ],
         "xaxis": "x",
         "y": [
          0.142768
         ],
         "yaxis": "y"
        },
        {
         "hovertemplate": "Country Name=Zimbabwe<br>Log GDP Per Capita=%{x}<br>Eating disorders (%)=%{y}<extra></extra>",
         "legendgroup": "Zimbabwe",
         "marker": {
          "color": "#FECB52",
          "symbol": "circle"
         },
         "mode": "markers",
         "name": "Zimbabwe",
         "orientation": "v",
         "showlegend": true,
         "type": "scatter",
         "x": [
          7.754387379
         ],
         "xaxis": "x",
         "y": [
          0.124443
         ],
         "yaxis": "y"
        },
        {
         "hovertemplate": "<b>OLS trendline</b><br>Eating disorders (%) = 0.116379 * Log GDP Per Capita + -0.811514<br>R<sup>2</sup>=0.597299<br><br>Log GDP Per Capita=%{x}<br>Eating disorders (%)=%{y} <b>(trend)</b><extra></extra>",
         "legendgroup": "Overall Trendline",
         "line": {
          "color": "#636efa"
         },
         "mode": "lines",
         "name": "Overall Trendline",
         "showlegend": true,
         "type": "scatter",
         "x": [
          5.943209171,
          7.052698135,
          7.160251617,
          7.282608032,
          7.335249901,
          7.344820023,
          7.365028381,
          7.373677731,
          7.563740253,
          7.567848682,
          7.587156773,
          7.589920044,
          7.59486866,
          7.647830486,
          7.663124561,
          7.675010204,
          7.754387379,
          7.776358128,
          7.80724287,
          7.852320194,
          7.984066486,
          8.067083359,
          8.082228661,
          8.089234352,
          8.130200386,
          8.159239769,
          8.21367836,
          8.287207603,
          8.369367599,
          8.369377136,
          8.482762337,
          8.495299339,
          8.503006935,
          8.526488304,
          8.540910721,
          8.567708969,
          8.602948189,
          8.685310364,
          8.718020439,
          8.830646515,
          8.88339901,
          8.987416267,
          9.017354012,
          9.026683807,
          9.061598778,
          9.208023071,
          9.208796501,
          9.243317604,
          9.29421711,
          9.300356865,
          9.344127655,
          9.363162994,
          9.365584373,
          9.380973816,
          9.428893089,
          9.434254646,
          9.455109596,
          9.503191948,
          9.516662598,
          9.517067909,
          9.51813221,
          9.54326725,
          9.555447578,
          9.570453644,
          9.580375671,
          9.580394745,
          9.592658043,
          9.712601662,
          9.718001366,
          9.741441727,
          9.787406921,
          9.817717552,
          9.887653351,
          9.905106544,
          9.911863327,
          9.974589348,
          10.00553036,
          10.04789066,
          10.06888008,
          10.10834122,
          10.12113476,
          10.16301918,
          10.20167065,
          10.21140671,
          10.26133156,
          10.263731,
          10.29218388,
          10.30755615,
          10.31100178,
          10.3263464,
          10.40561676,
          10.42708778,
          10.42886448,
          10.50527477,
          10.55638504,
          10.57442188,
          10.58478832,
          10.6202879,
          10.63210392,
          10.63540173,
          10.65061474,
          10.68089676,
          10.70497513,
          10.74445915,
          10.7699604,
          10.78554249,
          10.78726006,
          10.82858467,
          10.85799789,
          10.87939453,
          10.89993763,
          10.91669846,
          10.92155266,
          10.92663097,
          11.00067806,
          11.06743145,
          11.14336205,
          11.26124382,
          11.46489334,
          11.65256405
         ],
         "xaxis": "x",
         "y": [
          -0.11984764215879783,
          0.00927395667905008,
          0.021790960459195582,
          0.03603071988492989,
          0.0421571461150628,
          0.04327091064432693,
          0.045622746110486355,
          0.04662935179756024,
          0.06874870360374336,
          0.06922683987945653,
          0.07147390286189344,
          0.07179549053073866,
          0.07237140721913086,
          0.07853506983532961,
          0.08031498426514627,
          0.08169822761156312,
          0.09093609124049018,
          0.09349303261674086,
          0.09708737865904576,
          0.102333448097382,
          0.11766599525735352,
          0.12732744455526523,
          0.12909004488079864,
          0.12990536261016353,
          0.13467296281148078,
          0.13805254718220417,
          0.14438807474171914,
          0.1529453598752888,
          0.1625070863892545,
          0.16250819629906715,
          0.1757038917162509,
          0.17716293979640224,
          0.1780599447698705,
          0.18079269111215998,
          0.18247116255493315,
          0.1855899251024561,
          0.1896910424419149,
          0.19927629841545935,
          0.20308307551658425,
          0.2161904244635477,
          0.22232972527509282,
          0.2344351855062118,
          0.2379193206580057,
          0.2390051160884407,
          0.24306849754168536,
          0.2601092608429248,
          0.2601992721196744,
          0.26421681547308984,
          0.27014046663865177,
          0.2708550073035849,
          0.27594902317087183,
          0.27816434345422025,
          0.2784461419560687,
          0.2802371552512525,
          0.2858139688525345,
          0.28643794334400147,
          0.28886502876355813,
          0.2944608213920319,
          0.29602852681481884,
          0.2960756966434919,
          0.2961995592966807,
          0.29912475878668054,
          0.3005422973803583,
          0.3022886935114209,
          0.3034434125140628,
          0.30344563233368793,
          0.3048728269216145,
          0.3188317867294182,
          0.31946020074375614,
          0.3221881746018687,
          0.3275375737691884,
          0.3310651051493959,
          0.3392041876242014,
          0.34123537879248556,
          0.34202172877186254,
          0.34932174200593413,
          0.3529226367139783,
          0.3578525006790343,
          0.36029523562910365,
          0.3648876972525112,
          0.36637660105705233,
          0.37125108241944266,
          0.3757493151786405,
          0.3768823914636438,
          0.38269261280239314,
          0.38297185805779294,
          0.38628318559357666,
          0.3880722003062702,
          0.38847320046854283,
          0.39025899729234903,
          0.3994844298615473,
          0.40198321310413543,
          0.40218998428627317,
          0.4110825637824164,
          0.41703074352423325,
          0.4191298591480479,
          0.4203362986445084,
          0.42446771651021337,
          0.4258428571774982,
          0.4262266541450031,
          0.427997134283223,
          0.4315213359339928,
          0.43432356086158497,
          0.4389186852444047,
          0.44188650401431145,
          0.44369993744115815,
          0.4438998271126303,
          0.4487091581539353,
          0.4521322494298296,
          0.4546223763767417,
          0.4570131688975817,
          0.45896378331347165,
          0.45952871192963296,
          0.4601197223207866,
          0.4687372741489903,
          0.47650598994907506,
          0.4853427434372486,
          0.4990617466090868,
          0.5227623443420808,
          0.5446033386345073
         ],
         "yaxis": "y"
        }
       ],
       "layout": {
        "autosize": true,
        "legend": {
         "title": {
          "text": "Country Name"
         },
         "tracegroupgap": 0
        },
        "template": {
         "data": {
          "bar": [
           {
            "error_x": {
             "color": "#2a3f5f"
            },
            "error_y": {
             "color": "#2a3f5f"
            },
            "marker": {
             "line": {
              "color": "#E5ECF6",
              "width": 0.5
             },
             "pattern": {
              "fillmode": "overlay",
              "size": 10,
              "solidity": 0.2
             }
            },
            "type": "bar"
           }
          ],
          "barpolar": [
           {
            "marker": {
             "line": {
              "color": "#E5ECF6",
              "width": 0.5
             },
             "pattern": {
              "fillmode": "overlay",
              "size": 10,
              "solidity": 0.2
             }
            },
            "type": "barpolar"
           }
          ],
          "carpet": [
           {
            "aaxis": {
             "endlinecolor": "#2a3f5f",
             "gridcolor": "white",
             "linecolor": "white",
             "minorgridcolor": "white",
             "startlinecolor": "#2a3f5f"
            },
            "baxis": {
             "endlinecolor": "#2a3f5f",
             "gridcolor": "white",
             "linecolor": "white",
             "minorgridcolor": "white",
             "startlinecolor": "#2a3f5f"
            },
            "type": "carpet"
           }
          ],
          "choropleth": [
           {
            "colorbar": {
             "outlinewidth": 0,
             "ticks": ""
            },
            "type": "choropleth"
           }
          ],
          "contour": [
           {
            "colorbar": {
             "outlinewidth": 0,
             "ticks": ""
            },
            "colorscale": [
             [
              0,
              "#0d0887"
             ],
             [
              0.1111111111111111,
              "#46039f"
             ],
             [
              0.2222222222222222,
              "#7201a8"
             ],
             [
              0.3333333333333333,
              "#9c179e"
             ],
             [
              0.4444444444444444,
              "#bd3786"
             ],
             [
              0.5555555555555556,
              "#d8576b"
             ],
             [
              0.6666666666666666,
              "#ed7953"
             ],
             [
              0.7777777777777778,
              "#fb9f3a"
             ],
             [
              0.8888888888888888,
              "#fdca26"
             ],
             [
              1,
              "#f0f921"
             ]
            ],
            "type": "contour"
           }
          ],
          "contourcarpet": [
           {
            "colorbar": {
             "outlinewidth": 0,
             "ticks": ""
            },
            "type": "contourcarpet"
           }
          ],
          "heatmap": [
           {
            "colorbar": {
             "outlinewidth": 0,
             "ticks": ""
            },
            "colorscale": [
             [
              0,
              "#0d0887"
             ],
             [
              0.1111111111111111,
              "#46039f"
             ],
             [
              0.2222222222222222,
              "#7201a8"
             ],
             [
              0.3333333333333333,
              "#9c179e"
             ],
             [
              0.4444444444444444,
              "#bd3786"
             ],
             [
              0.5555555555555556,
              "#d8576b"
             ],
             [
              0.6666666666666666,
              "#ed7953"
             ],
             [
              0.7777777777777778,
              "#fb9f3a"
             ],
             [
              0.8888888888888888,
              "#fdca26"
             ],
             [
              1,
              "#f0f921"
             ]
            ],
            "type": "heatmap"
           }
          ],
          "heatmapgl": [
           {
            "colorbar": {
             "outlinewidth": 0,
             "ticks": ""
            },
            "colorscale": [
             [
              0,
              "#0d0887"
             ],
             [
              0.1111111111111111,
              "#46039f"
             ],
             [
              0.2222222222222222,
              "#7201a8"
             ],
             [
              0.3333333333333333,
              "#9c179e"
             ],
             [
              0.4444444444444444,
              "#bd3786"
             ],
             [
              0.5555555555555556,
              "#d8576b"
             ],
             [
              0.6666666666666666,
              "#ed7953"
             ],
             [
              0.7777777777777778,
              "#fb9f3a"
             ],
             [
              0.8888888888888888,
              "#fdca26"
             ],
             [
              1,
              "#f0f921"
             ]
            ],
            "type": "heatmapgl"
           }
          ],
          "histogram": [
           {
            "marker": {
             "pattern": {
              "fillmode": "overlay",
              "size": 10,
              "solidity": 0.2
             }
            },
            "type": "histogram"
           }
          ],
          "histogram2d": [
           {
            "colorbar": {
             "outlinewidth": 0,
             "ticks": ""
            },
            "colorscale": [
             [
              0,
              "#0d0887"
             ],
             [
              0.1111111111111111,
              "#46039f"
             ],
             [
              0.2222222222222222,
              "#7201a8"
             ],
             [
              0.3333333333333333,
              "#9c179e"
             ],
             [
              0.4444444444444444,
              "#bd3786"
             ],
             [
              0.5555555555555556,
              "#d8576b"
             ],
             [
              0.6666666666666666,
              "#ed7953"
             ],
             [
              0.7777777777777778,
              "#fb9f3a"
             ],
             [
              0.8888888888888888,
              "#fdca26"
             ],
             [
              1,
              "#f0f921"
             ]
            ],
            "type": "histogram2d"
           }
          ],
          "histogram2dcontour": [
           {
            "colorbar": {
             "outlinewidth": 0,
             "ticks": ""
            },
            "colorscale": [
             [
              0,
              "#0d0887"
             ],
             [
              0.1111111111111111,
              "#46039f"
             ],
             [
              0.2222222222222222,
              "#7201a8"
             ],
             [
              0.3333333333333333,
              "#9c179e"
             ],
             [
              0.4444444444444444,
              "#bd3786"
             ],
             [
              0.5555555555555556,
              "#d8576b"
             ],
             [
              0.6666666666666666,
              "#ed7953"
             ],
             [
              0.7777777777777778,
              "#fb9f3a"
             ],
             [
              0.8888888888888888,
              "#fdca26"
             ],
             [
              1,
              "#f0f921"
             ]
            ],
            "type": "histogram2dcontour"
           }
          ],
          "mesh3d": [
           {
            "colorbar": {
             "outlinewidth": 0,
             "ticks": ""
            },
            "type": "mesh3d"
           }
          ],
          "parcoords": [
           {
            "line": {
             "colorbar": {
              "outlinewidth": 0,
              "ticks": ""
             }
            },
            "type": "parcoords"
           }
          ],
          "pie": [
           {
            "automargin": true,
            "type": "pie"
           }
          ],
          "scatter": [
           {
            "fillpattern": {
             "fillmode": "overlay",
             "size": 10,
             "solidity": 0.2
            },
            "type": "scatter"
           }
          ],
          "scatter3d": [
           {
            "line": {
             "colorbar": {
              "outlinewidth": 0,
              "ticks": ""
             }
            },
            "marker": {
             "colorbar": {
              "outlinewidth": 0,
              "ticks": ""
             }
            },
            "type": "scatter3d"
           }
          ],
          "scattercarpet": [
           {
            "marker": {
             "colorbar": {
              "outlinewidth": 0,
              "ticks": ""
             }
            },
            "type": "scattercarpet"
           }
          ],
          "scattergeo": [
           {
            "marker": {
             "colorbar": {
              "outlinewidth": 0,
              "ticks": ""
             }
            },
            "type": "scattergeo"
           }
          ],
          "scattergl": [
           {
            "marker": {
             "colorbar": {
              "outlinewidth": 0,
              "ticks": ""
             }
            },
            "type": "scattergl"
           }
          ],
          "scattermapbox": [
           {
            "marker": {
             "colorbar": {
              "outlinewidth": 0,
              "ticks": ""
             }
            },
            "type": "scattermapbox"
           }
          ],
          "scatterpolar": [
           {
            "marker": {
             "colorbar": {
              "outlinewidth": 0,
              "ticks": ""
             }
            },
            "type": "scatterpolar"
           }
          ],
          "scatterpolargl": [
           {
            "marker": {
             "colorbar": {
              "outlinewidth": 0,
              "ticks": ""
             }
            },
            "type": "scatterpolargl"
           }
          ],
          "scatterternary": [
           {
            "marker": {
             "colorbar": {
              "outlinewidth": 0,
              "ticks": ""
             }
            },
            "type": "scatterternary"
           }
          ],
          "surface": [
           {
            "colorbar": {
             "outlinewidth": 0,
             "ticks": ""
            },
            "colorscale": [
             [
              0,
              "#0d0887"
             ],
             [
              0.1111111111111111,
              "#46039f"
             ],
             [
              0.2222222222222222,
              "#7201a8"
             ],
             [
              0.3333333333333333,
              "#9c179e"
             ],
             [
              0.4444444444444444,
              "#bd3786"
             ],
             [
              0.5555555555555556,
              "#d8576b"
             ],
             [
              0.6666666666666666,
              "#ed7953"
             ],
             [
              0.7777777777777778,
              "#fb9f3a"
             ],
             [
              0.8888888888888888,
              "#fdca26"
             ],
             [
              1,
              "#f0f921"
             ]
            ],
            "type": "surface"
           }
          ],
          "table": [
           {
            "cells": {
             "fill": {
              "color": "#EBF0F8"
             },
             "line": {
              "color": "white"
             }
            },
            "header": {
             "fill": {
              "color": "#C8D4E3"
             },
             "line": {
              "color": "white"
             }
            },
            "type": "table"
           }
          ]
         },
         "layout": {
          "annotationdefaults": {
           "arrowcolor": "#2a3f5f",
           "arrowhead": 0,
           "arrowwidth": 1
          },
          "autotypenumbers": "strict",
          "coloraxis": {
           "colorbar": {
            "outlinewidth": 0,
            "ticks": ""
           }
          },
          "colorscale": {
           "diverging": [
            [
             0,
             "#8e0152"
            ],
            [
             0.1,
             "#c51b7d"
            ],
            [
             0.2,
             "#de77ae"
            ],
            [
             0.3,
             "#f1b6da"
            ],
            [
             0.4,
             "#fde0ef"
            ],
            [
             0.5,
             "#f7f7f7"
            ],
            [
             0.6,
             "#e6f5d0"
            ],
            [
             0.7,
             "#b8e186"
            ],
            [
             0.8,
             "#7fbc41"
            ],
            [
             0.9,
             "#4d9221"
            ],
            [
             1,
             "#276419"
            ]
           ],
           "sequential": [
            [
             0,
             "#0d0887"
            ],
            [
             0.1111111111111111,
             "#46039f"
            ],
            [
             0.2222222222222222,
             "#7201a8"
            ],
            [
             0.3333333333333333,
             "#9c179e"
            ],
            [
             0.4444444444444444,
             "#bd3786"
            ],
            [
             0.5555555555555556,
             "#d8576b"
            ],
            [
             0.6666666666666666,
             "#ed7953"
            ],
            [
             0.7777777777777778,
             "#fb9f3a"
            ],
            [
             0.8888888888888888,
             "#fdca26"
            ],
            [
             1,
             "#f0f921"
            ]
           ],
           "sequentialminus": [
            [
             0,
             "#0d0887"
            ],
            [
             0.1111111111111111,
             "#46039f"
            ],
            [
             0.2222222222222222,
             "#7201a8"
            ],
            [
             0.3333333333333333,
             "#9c179e"
            ],
            [
             0.4444444444444444,
             "#bd3786"
            ],
            [
             0.5555555555555556,
             "#d8576b"
            ],
            [
             0.6666666666666666,
             "#ed7953"
            ],
            [
             0.7777777777777778,
             "#fb9f3a"
            ],
            [
             0.8888888888888888,
             "#fdca26"
            ],
            [
             1,
             "#f0f921"
            ]
           ]
          },
          "colorway": [
           "#636efa",
           "#EF553B",
           "#00cc96",
           "#ab63fa",
           "#FFA15A",
           "#19d3f3",
           "#FF6692",
           "#B6E880",
           "#FF97FF",
           "#FECB52"
          ],
          "font": {
           "color": "#2a3f5f"
          },
          "geo": {
           "bgcolor": "white",
           "lakecolor": "white",
           "landcolor": "#E5ECF6",
           "showlakes": true,
           "showland": true,
           "subunitcolor": "white"
          },
          "hoverlabel": {
           "align": "left"
          },
          "hovermode": "closest",
          "mapbox": {
           "style": "light"
          },
          "paper_bgcolor": "white",
          "plot_bgcolor": "#E5ECF6",
          "polar": {
           "angularaxis": {
            "gridcolor": "white",
            "linecolor": "white",
            "ticks": ""
           },
           "bgcolor": "#E5ECF6",
           "radialaxis": {
            "gridcolor": "white",
            "linecolor": "white",
            "ticks": ""
           }
          },
          "scene": {
           "xaxis": {
            "backgroundcolor": "#E5ECF6",
            "gridcolor": "white",
            "gridwidth": 2,
            "linecolor": "white",
            "showbackground": true,
            "ticks": "",
            "zerolinecolor": "white"
           },
           "yaxis": {
            "backgroundcolor": "#E5ECF6",
            "gridcolor": "white",
            "gridwidth": 2,
            "linecolor": "white",
            "showbackground": true,
            "ticks": "",
            "zerolinecolor": "white"
           },
           "zaxis": {
            "backgroundcolor": "#E5ECF6",
            "gridcolor": "white",
            "gridwidth": 2,
            "linecolor": "white",
            "showbackground": true,
            "ticks": "",
            "zerolinecolor": "white"
           }
          },
          "shapedefaults": {
           "line": {
            "color": "#2a3f5f"
           }
          },
          "ternary": {
           "aaxis": {
            "gridcolor": "white",
            "linecolor": "white",
            "ticks": ""
           },
           "baxis": {
            "gridcolor": "white",
            "linecolor": "white",
            "ticks": ""
           },
           "bgcolor": "#E5ECF6",
           "caxis": {
            "gridcolor": "white",
            "linecolor": "white",
            "ticks": ""
           }
          },
          "title": {
           "x": 0.05
          },
          "xaxis": {
           "automargin": true,
           "gridcolor": "white",
           "linecolor": "white",
           "ticks": "",
           "title": {
            "standoff": 15
           },
           "zerolinecolor": "white",
           "zerolinewidth": 2
          },
          "yaxis": {
           "automargin": true,
           "gridcolor": "white",
           "linecolor": "white",
           "ticks": "",
           "title": {
            "standoff": 15
           },
           "zerolinecolor": "white",
           "zerolinewidth": 2
          }
         }
        },
        "title": {
         "text": "Relationship between Eating disorders and GDP per Capita"
        },
        "xaxis": {
         "anchor": "y",
         "autorange": true,
         "domain": [
          0,
          1
         ],
         "range": [
          5.594766740137367,
          12.001006480862634
         ],
         "title": {
          "text": "GDP per Capita"
         },
         "type": "linear"
        },
        "yaxis": {
         "anchor": "x",
         "autorange": true,
         "domain": [
          0,
          1
         ],
         "range": [
          -0.18102339134779338,
          1.0424915924321176
         ],
         "title": {
          "text": "Eating disorders (%)"
         },
         "type": "linear"
        }
       }
      },
      "text/html": [
       "<div>                            <div id=\"08ca8da9-8163-4d99-8ffa-4162eb064446\" class=\"plotly-graph-div\" style=\"height:300px; width:100%;\"></div>            <script type=\"text/javascript\">                require([\"plotly\"], function(Plotly) {                    window.PLOTLYENV=window.PLOTLYENV || {};                                    if (document.getElementById(\"08ca8da9-8163-4d99-8ffa-4162eb064446\")) {                    Plotly.newPlot(                        \"08ca8da9-8163-4d99-8ffa-4162eb064446\",                        [{\"hovertemplate\":\"Country Name=Afghanistan\\u003cbr\\u003eLog GDP Per Capita=%{x}\\u003cbr\\u003eEating disorders (%)=%{y}\\u003cextra\\u003e\\u003c\\u002fextra\\u003e\",\"legendgroup\":\"Afghanistan\",\"marker\":{\"color\":\"#636efa\",\"symbol\":\"circle\"},\"mode\":\"markers\",\"name\":\"Afghanistan\",\"orientation\":\"v\",\"showlegend\":true,\"x\":[7.647830486],\"xaxis\":\"x\",\"y\":[0.107142],\"yaxis\":\"y\",\"type\":\"scatter\"},{\"hovertemplate\":\"Country Name=Albania\\u003cbr\\u003eLog GDP Per Capita=%{x}\\u003cbr\\u003eEating disorders (%)=%{y}\\u003cextra\\u003e\\u003c\\u002fextra\\u003e\",\"legendgroup\":\"Albania\",\"marker\":{\"color\":\"#EF553B\",\"symbol\":\"circle\"},\"mode\":\"markers\",\"name\":\"Albania\",\"orientation\":\"v\",\"showlegend\":true,\"x\":[9.455109596],\"xaxis\":\"x\",\"y\":[0.174046],\"yaxis\":\"y\",\"type\":\"scatter\"},{\"hovertemplate\":\"Country Name=Argentina\\u003cbr\\u003eLog GDP Per Capita=%{x}\\u003cbr\\u003eEating disorders (%)=%{y}\\u003cextra\\u003e\\u003c\\u002fextra\\u003e\",\"legendgroup\":\"Argentina\",\"marker\":{\"color\":\"#00cc96\",\"symbol\":\"circle\"},\"mode\":\"markers\",\"name\":\"Argentina\",\"orientation\":\"v\",\"showlegend\":true,\"x\":[10.06888008],\"xaxis\":\"x\",\"y\":[0.404033],\"yaxis\":\"y\",\"type\":\"scatter\"},{\"hovertemplate\":\"Country Name=Armenia\\u003cbr\\u003eLog GDP Per Capita=%{x}\\u003cbr\\u003eEating disorders (%)=%{y}\\u003cextra\\u003e\\u003c\\u002fextra\\u003e\",\"legendgroup\":\"Armenia\",\"marker\":{\"color\":\"#ab63fa\",\"symbol\":\"circle\"},\"mode\":\"markers\",\"name\":\"Armenia\",\"orientation\":\"v\",\"showlegend\":true,\"x\":[9.434254646],\"xaxis\":\"x\",\"y\":[0.167047],\"yaxis\":\"y\",\"type\":\"scatter\"},{\"hovertemplate\":\"Country Name=Australia\\u003cbr\\u003eLog GDP Per Capita=%{x}\\u003cbr\\u003eEating disorders (%)=%{y}\\u003cextra\\u003e\\u003c\\u002fextra\\u003e\",\"legendgroup\":\"Australia\",\"marker\":{\"color\":\"#FFA15A\",\"symbol\":\"circle\"},\"mode\":\"markers\",\"name\":\"Australia\",\"orientation\":\"v\",\"showlegend\":true,\"x\":[10.78726006],\"xaxis\":\"x\",\"y\":[0.943081],\"yaxis\":\"y\",\"type\":\"scatter\"},{\"hovertemplate\":\"Country Name=Austria\\u003cbr\\u003eLog GDP Per Capita=%{x}\\u003cbr\\u003eEating disorders (%)=%{y}\\u003cextra\\u003e\\u003c\\u002fextra\\u003e\",\"legendgroup\":\"Austria\",\"marker\":{\"color\":\"#19d3f3\",\"symbol\":\"circle\"},\"mode\":\"markers\",\"name\":\"Austria\",\"orientation\":\"v\",\"showlegend\":true,\"x\":[10.89993763],\"xaxis\":\"x\",\"y\":[0.675112],\"yaxis\":\"y\",\"type\":\"scatter\"},{\"hovertemplate\":\"Country Name=Azerbaijan\\u003cbr\\u003eLog GDP Per Capita=%{x}\\u003cbr\\u003eEating disorders (%)=%{y}\\u003cextra\\u003e\\u003c\\u002fextra\\u003e\",\"legendgroup\":\"Azerbaijan\",\"marker\":{\"color\":\"#FF6692\",\"symbol\":\"circle\"},\"mode\":\"markers\",\"name\":\"Azerbaijan\",\"orientation\":\"v\",\"showlegend\":true,\"x\":[9.555447578],\"xaxis\":\"x\",\"y\":[0.204891],\"yaxis\":\"y\",\"type\":\"scatter\"},{\"hovertemplate\":\"Country Name=Bangladesh\\u003cbr\\u003eLog GDP Per Capita=%{x}\\u003cbr\\u003eEating disorders (%)=%{y}\\u003cextra\\u003e\\u003c\\u002fextra\\u003e\",\"legendgroup\":\"Bangladesh\",\"marker\":{\"color\":\"#B6E880\",\"symbol\":\"circle\"},\"mode\":\"markers\",\"name\":\"Bangladesh\",\"orientation\":\"v\",\"showlegend\":true,\"x\":[8.482762337],\"xaxis\":\"x\",\"y\":[0.137974],\"yaxis\":\"y\",\"type\":\"scatter\"},{\"hovertemplate\":\"Country Name=Belarus\\u003cbr\\u003eLog GDP Per Capita=%{x}\\u003cbr\\u003eEating disorders (%)=%{y}\\u003cextra\\u003e\\u003c\\u002fextra\\u003e\",\"legendgroup\":\"Belarus\",\"marker\":{\"color\":\"#FF97FF\",\"symbol\":\"circle\"},\"mode\":\"markers\",\"name\":\"Belarus\",\"orientation\":\"v\",\"showlegend\":true,\"x\":[9.817717552],\"xaxis\":\"x\",\"y\":[0.210693],\"yaxis\":\"y\",\"type\":\"scatter\"},{\"hovertemplate\":\"Country Name=Belgium\\u003cbr\\u003eLog GDP Per Capita=%{x}\\u003cbr\\u003eEating disorders (%)=%{y}\\u003cextra\\u003e\\u003c\\u002fextra\\u003e\",\"legendgroup\":\"Belgium\",\"marker\":{\"color\":\"#FECB52\",\"symbol\":\"circle\"},\"mode\":\"markers\",\"name\":\"Belgium\",\"orientation\":\"v\",\"showlegend\":true,\"x\":[10.82858467],\"xaxis\":\"x\",\"y\":[0.603869],\"yaxis\":\"y\",\"type\":\"scatter\"},{\"hovertemplate\":\"Country Name=Benin\\u003cbr\\u003eLog GDP Per Capita=%{x}\\u003cbr\\u003eEating disorders (%)=%{y}\\u003cextra\\u003e\\u003c\\u002fextra\\u003e\",\"legendgroup\":\"Benin\",\"marker\":{\"color\":\"#636efa\",\"symbol\":\"circle\"},\"mode\":\"markers\",\"name\":\"Benin\",\"orientation\":\"v\",\"showlegend\":true,\"x\":[7.984066486],\"xaxis\":\"x\",\"y\":[0.12029],\"yaxis\":\"y\",\"type\":\"scatter\"},{\"hovertemplate\":\"Country Name=Bolivia\\u003cbr\\u003eLog GDP Per Capita=%{x}\\u003cbr\\u003eEating disorders (%)=%{y}\\u003cextra\\u003e\\u003c\\u002fextra\\u003e\",\"legendgroup\":\"Bolivia\",\"marker\":{\"color\":\"#EF553B\",\"symbol\":\"circle\"},\"mode\":\"markers\",\"name\":\"Bolivia\",\"orientation\":\"v\",\"showlegend\":true,\"x\":[9.017354012],\"xaxis\":\"x\",\"y\":[0.305251],\"yaxis\":\"y\",\"type\":\"scatter\"},{\"hovertemplate\":\"Country Name=Bosnia and Herzegovina\\u003cbr\\u003eLog GDP Per Capita=%{x}\\u003cbr\\u003eEating disorders (%)=%{y}\\u003cextra\\u003e\\u003c\\u002fextra\\u003e\",\"legendgroup\":\"Bosnia and Herzegovina\",\"marker\":{\"color\":\"#00cc96\",\"symbol\":\"circle\"},\"mode\":\"markers\",\"name\":\"Bosnia and Herzegovina\",\"orientation\":\"v\",\"showlegend\":true,\"x\":[9.503191948],\"xaxis\":\"x\",\"y\":[0.172474],\"yaxis\":\"y\",\"type\":\"scatter\"},{\"hovertemplate\":\"Country Name=Botswana\\u003cbr\\u003eLog GDP Per Capita=%{x}\\u003cbr\\u003eEating disorders (%)=%{y}\\u003cextra\\u003e\\u003c\\u002fextra\\u003e\",\"legendgroup\":\"Botswana\",\"marker\":{\"color\":\"#ab63fa\",\"symbol\":\"circle\"},\"mode\":\"markers\",\"name\":\"Botswana\",\"orientation\":\"v\",\"showlegend\":true,\"x\":[9.592658043],\"xaxis\":\"x\",\"y\":[0.227733],\"yaxis\":\"y\",\"type\":\"scatter\"},{\"hovertemplate\":\"Country Name=Brazil\\u003cbr\\u003eLog GDP Per Capita=%{x}\\u003cbr\\u003eEating disorders (%)=%{y}\\u003cextra\\u003e\\u003c\\u002fextra\\u003e\",\"legendgroup\":\"Brazil\",\"marker\":{\"color\":\"#FFA15A\",\"symbol\":\"circle\"},\"mode\":\"markers\",\"name\":\"Brazil\",\"orientation\":\"v\",\"showlegend\":true,\"x\":[9.580375671],\"xaxis\":\"x\",\"y\":[0.277051],\"yaxis\":\"y\",\"type\":\"scatter\"},{\"hovertemplate\":\"Country Name=Bulgaria\\u003cbr\\u003eLog GDP Per Capita=%{x}\\u003cbr\\u003eEating disorders (%)=%{y}\\u003cextra\\u003e\\u003c\\u002fextra\\u003e\",\"legendgroup\":\"Bulgaria\",\"marker\":{\"color\":\"#19d3f3\",\"symbol\":\"circle\"},\"mode\":\"markers\",\"name\":\"Bulgaria\",\"orientation\":\"v\",\"showlegend\":true,\"x\":[9.974589348],\"xaxis\":\"x\",\"y\":[0.202411],\"yaxis\":\"y\",\"type\":\"scatter\"},{\"hovertemplate\":\"Country Name=Burkina Faso\\u003cbr\\u003eLog GDP Per Capita=%{x}\\u003cbr\\u003eEating disorders (%)=%{y}\\u003cextra\\u003e\\u003c\\u002fextra\\u003e\",\"legendgroup\":\"Burkina Faso\",\"marker\":{\"color\":\"#FF6692\",\"symbol\":\"circle\"},\"mode\":\"markers\",\"name\":\"Burkina Faso\",\"orientation\":\"v\",\"showlegend\":true,\"x\":[7.589920044],\"xaxis\":\"x\",\"y\":[0.113354],\"yaxis\":\"y\",\"type\":\"scatter\"},{\"hovertemplate\":\"Country Name=Cambodia\\u003cbr\\u003eLog GDP Per Capita=%{x}\\u003cbr\\u003eEating disorders (%)=%{y}\\u003cextra\\u003e\\u003c\\u002fextra\\u003e\",\"legendgroup\":\"Cambodia\",\"marker\":{\"color\":\"#B6E880\",\"symbol\":\"circle\"},\"mode\":\"markers\",\"name\":\"Cambodia\",\"orientation\":\"v\",\"showlegend\":true,\"x\":[8.287207603],\"xaxis\":\"x\",\"y\":[0.108379],\"yaxis\":\"y\",\"type\":\"scatter\"},{\"hovertemplate\":\"Country Name=Cameroon\\u003cbr\\u003eLog GDP Per Capita=%{x}\\u003cbr\\u003eEating disorders (%)=%{y}\\u003cextra\\u003e\\u003c\\u002fextra\\u003e\",\"legendgroup\":\"Cameroon\",\"marker\":{\"color\":\"#FF97FF\",\"symbol\":\"circle\"},\"mode\":\"markers\",\"name\":\"Cameroon\",\"orientation\":\"v\",\"showlegend\":true,\"x\":[8.21367836],\"xaxis\":\"x\",\"y\":[0.13379],\"yaxis\":\"y\",\"type\":\"scatter\"},{\"hovertemplate\":\"Country Name=Canada\\u003cbr\\u003eLog GDP Per Capita=%{x}\\u003cbr\\u003eEating disorders (%)=%{y}\\u003cextra\\u003e\\u003c\\u002fextra\\u003e\",\"legendgroup\":\"Canada\",\"marker\":{\"color\":\"#FECB52\",\"symbol\":\"circle\"},\"mode\":\"markers\",\"name\":\"Canada\",\"orientation\":\"v\",\"showlegend\":true,\"x\":[10.78554249],\"xaxis\":\"x\",\"y\":[0.477304],\"yaxis\":\"y\",\"type\":\"scatter\"},{\"hovertemplate\":\"Country Name=Chad\\u003cbr\\u003eLog GDP Per Capita=%{x}\\u003cbr\\u003eEating disorders (%)=%{y}\\u003cextra\\u003e\\u003c\\u002fextra\\u003e\",\"legendgroup\":\"Chad\",\"marker\":{\"color\":\"#636efa\",\"symbol\":\"circle\"},\"mode\":\"markers\",\"name\":\"Chad\",\"orientation\":\"v\",\"showlegend\":true,\"x\":[7.365028381],\"xaxis\":\"x\",\"y\":[0.122129],\"yaxis\":\"y\",\"type\":\"scatter\"},{\"hovertemplate\":\"Country Name=Chile\\u003cbr\\u003eLog GDP Per Capita=%{x}\\u003cbr\\u003eEating disorders (%)=%{y}\\u003cextra\\u003e\\u003c\\u002fextra\\u003e\",\"legendgroup\":\"Chile\",\"marker\":{\"color\":\"#EF553B\",\"symbol\":\"circle\"},\"mode\":\"markers\",\"name\":\"Chile\",\"orientation\":\"v\",\"showlegend\":true,\"x\":[10.10834122],\"xaxis\":\"x\",\"y\":[0.416123],\"yaxis\":\"y\",\"type\":\"scatter\"},{\"hovertemplate\":\"Country Name=Colombia\\u003cbr\\u003eLog GDP Per Capita=%{x}\\u003cbr\\u003eEating disorders (%)=%{y}\\u003cextra\\u003e\\u003c\\u002fextra\\u003e\",\"legendgroup\":\"Colombia\",\"marker\":{\"color\":\"#00cc96\",\"symbol\":\"circle\"},\"mode\":\"markers\",\"name\":\"Colombia\",\"orientation\":\"v\",\"showlegend\":true,\"x\":[9.570453644],\"xaxis\":\"x\",\"y\":[0.260257],\"yaxis\":\"y\",\"type\":\"scatter\"},{\"hovertemplate\":\"Country Name=Costa Rica\\u003cbr\\u003eLog GDP Per Capita=%{x}\\u003cbr\\u003eEating disorders (%)=%{y}\\u003cextra\\u003e\\u003c\\u002fextra\\u003e\",\"legendgroup\":\"Costa Rica\",\"marker\":{\"color\":\"#ab63fa\",\"symbol\":\"circle\"},\"mode\":\"markers\",\"name\":\"Costa Rica\",\"orientation\":\"v\",\"showlegend\":true,\"x\":[9.911863327],\"xaxis\":\"x\",\"y\":[0.289342],\"yaxis\":\"y\",\"type\":\"scatter\"},{\"hovertemplate\":\"Country Name=Croatia\\u003cbr\\u003eLog GDP Per Capita=%{x}\\u003cbr\\u003eEating disorders (%)=%{y}\\u003cextra\\u003e\\u003c\\u002fextra\\u003e\",\"legendgroup\":\"Croatia\",\"marker\":{\"color\":\"#FFA15A\",\"symbol\":\"circle\"},\"mode\":\"markers\",\"name\":\"Croatia\",\"orientation\":\"v\",\"showlegend\":true,\"x\":[10.21140671],\"xaxis\":\"x\",\"y\":[0.217975],\"yaxis\":\"y\",\"type\":\"scatter\"},{\"hovertemplate\":\"Country Name=Cyprus\\u003cbr\\u003eLog GDP Per Capita=%{x}\\u003cbr\\u003eEating disorders (%)=%{y}\\u003cextra\\u003e\\u003c\\u002fextra\\u003e\",\"legendgroup\":\"Cyprus\",\"marker\":{\"color\":\"#19d3f3\",\"symbol\":\"circle\"},\"mode\":\"markers\",\"name\":\"Cyprus\",\"orientation\":\"v\",\"showlegend\":true,\"x\":[10.55638504],\"xaxis\":\"x\",\"y\":[0.506721],\"yaxis\":\"y\",\"type\":\"scatter\"},{\"hovertemplate\":\"Country Name=Denmark\\u003cbr\\u003eLog GDP Per Capita=%{x}\\u003cbr\\u003eEating disorders (%)=%{y}\\u003cextra\\u003e\\u003c\\u002fextra\\u003e\",\"legendgroup\":\"Denmark\",\"marker\":{\"color\":\"#FF6692\",\"symbol\":\"circle\"},\"mode\":\"markers\",\"name\":\"Denmark\",\"orientation\":\"v\",\"showlegend\":true,\"x\":[10.92155266],\"xaxis\":\"x\",\"y\":[0.540025],\"yaxis\":\"y\",\"type\":\"scatter\"},{\"hovertemplate\":\"Country Name=Dominican Republic\\u003cbr\\u003eLog GDP Per Capita=%{x}\\u003cbr\\u003eEating disorders (%)=%{y}\\u003cextra\\u003e\\u003c\\u002fextra\\u003e\",\"legendgroup\":\"Dominican Republic\",\"marker\":{\"color\":\"#B6E880\",\"symbol\":\"circle\"},\"mode\":\"markers\",\"name\":\"Dominican Republic\",\"orientation\":\"v\",\"showlegend\":true,\"x\":[9.712601662],\"xaxis\":\"x\",\"y\":[0.303058],\"yaxis\":\"y\",\"type\":\"scatter\"},{\"hovertemplate\":\"Country Name=Ecuador\\u003cbr\\u003eLog GDP Per Capita=%{x}\\u003cbr\\u003eEating disorders (%)=%{y}\\u003cextra\\u003e\\u003c\\u002fextra\\u003e\",\"legendgroup\":\"Ecuador\",\"marker\":{\"color\":\"#FF97FF\",\"symbol\":\"circle\"},\"mode\":\"markers\",\"name\":\"Ecuador\",\"orientation\":\"v\",\"showlegend\":true,\"x\":[9.365584373],\"xaxis\":\"x\",\"y\":[0.363733],\"yaxis\":\"y\",\"type\":\"scatter\"},{\"hovertemplate\":\"Country Name=El Salvador\\u003cbr\\u003eLog GDP Per Capita=%{x}\\u003cbr\\u003eEating disorders (%)=%{y}\\u003cextra\\u003e\\u003c\\u002fextra\\u003e\",\"legendgroup\":\"El Salvador\",\"marker\":{\"color\":\"#FECB52\",\"symbol\":\"circle\"},\"mode\":\"markers\",\"name\":\"El Salvador\",\"orientation\":\"v\",\"showlegend\":true,\"x\":[9.061598778],\"xaxis\":\"x\",\"y\":[0.243873],\"yaxis\":\"y\",\"type\":\"scatter\"},{\"hovertemplate\":\"Country Name=Estonia\\u003cbr\\u003eLog GDP Per Capita=%{x}\\u003cbr\\u003eEating disorders (%)=%{y}\\u003cextra\\u003e\\u003c\\u002fextra\\u003e\",\"legendgroup\":\"Estonia\",\"marker\":{\"color\":\"#636efa\",\"symbol\":\"circle\"},\"mode\":\"markers\",\"name\":\"Estonia\",\"orientation\":\"v\",\"showlegend\":true,\"x\":[10.42886448],\"xaxis\":\"x\",\"y\":[0.250271],\"yaxis\":\"y\",\"type\":\"scatter\"},{\"hovertemplate\":\"Country Name=Ethiopia\\u003cbr\\u003eLog GDP Per Capita=%{x}\\u003cbr\\u003eEating disorders (%)=%{y}\\u003cextra\\u003e\\u003c\\u002fextra\\u003e\",\"legendgroup\":\"Ethiopia\",\"marker\":{\"color\":\"#EF553B\",\"symbol\":\"circle\"},\"mode\":\"markers\",\"name\":\"Ethiopia\",\"orientation\":\"v\",\"showlegend\":true,\"x\":[7.59486866],\"xaxis\":\"x\",\"y\":[0.109817],\"yaxis\":\"y\",\"type\":\"scatter\"},{\"hovertemplate\":\"Country Name=Finland\\u003cbr\\u003eLog GDP Per Capita=%{x}\\u003cbr\\u003eEating disorders (%)=%{y}\\u003cextra\\u003e\\u003c\\u002fextra\\u003e\",\"legendgroup\":\"Finland\",\"marker\":{\"color\":\"#00cc96\",\"symbol\":\"circle\"},\"mode\":\"markers\",\"name\":\"Finland\",\"orientation\":\"v\",\"showlegend\":true,\"x\":[10.7699604],\"xaxis\":\"x\",\"y\":[0.594938],\"yaxis\":\"y\",\"type\":\"scatter\"},{\"hovertemplate\":\"Country Name=France\\u003cbr\\u003eLog GDP Per Capita=%{x}\\u003cbr\\u003eEating disorders (%)=%{y}\\u003cextra\\u003e\\u003c\\u002fextra\\u003e\",\"legendgroup\":\"France\",\"marker\":{\"color\":\"#ab63fa\",\"symbol\":\"circle\"},\"mode\":\"markers\",\"name\":\"France\",\"orientation\":\"v\",\"showlegend\":true,\"x\":[10.70497513],\"xaxis\":\"x\",\"y\":[0.573755],\"yaxis\":\"y\",\"type\":\"scatter\"},{\"hovertemplate\":\"Country Name=Gabon\\u003cbr\\u003eLog GDP Per Capita=%{x}\\u003cbr\\u003eEating disorders (%)=%{y}\\u003cextra\\u003e\\u003c\\u002fextra\\u003e\",\"legendgroup\":\"Gabon\",\"marker\":{\"color\":\"#FFA15A\",\"symbol\":\"circle\"},\"mode\":\"markers\",\"name\":\"Gabon\",\"orientation\":\"v\",\"showlegend\":true,\"x\":[9.580394745],\"xaxis\":\"x\",\"y\":[0.226577],\"yaxis\":\"y\",\"type\":\"scatter\"},{\"hovertemplate\":\"Country Name=Gambia\\u003cbr\\u003eLog GDP Per Capita=%{x}\\u003cbr\\u003eEating disorders (%)=%{y}\\u003cextra\\u003e\\u003c\\u002fextra\\u003e\",\"legendgroup\":\"Gambia\",\"marker\":{\"color\":\"#19d3f3\",\"symbol\":\"circle\"},\"mode\":\"markers\",\"name\":\"Gambia\",\"orientation\":\"v\",\"showlegend\":true,\"x\":[7.563740253],\"xaxis\":\"x\",\"y\":[0.113298],\"yaxis\":\"y\",\"type\":\"scatter\"},{\"hovertemplate\":\"Country Name=Georgia\\u003cbr\\u003eLog GDP Per Capita=%{x}\\u003cbr\\u003eEating disorders (%)=%{y}\\u003cextra\\u003e\\u003c\\u002fextra\\u003e\",\"legendgroup\":\"Georgia\",\"marker\":{\"color\":\"#FF6692\",\"symbol\":\"circle\"},\"mode\":\"markers\",\"name\":\"Georgia\",\"orientation\":\"v\",\"showlegend\":true,\"x\":[9.517067909],\"xaxis\":\"x\",\"y\":[0.17164],\"yaxis\":\"y\",\"type\":\"scatter\"},{\"hovertemplate\":\"Country Name=Germany\\u003cbr\\u003eLog GDP Per Capita=%{x}\\u003cbr\\u003eEating disorders (%)=%{y}\\u003cextra\\u003e\\u003c\\u002fextra\\u003e\",\"legendgroup\":\"Germany\",\"marker\":{\"color\":\"#B6E880\",\"symbol\":\"circle\"},\"mode\":\"markers\",\"name\":\"Germany\",\"orientation\":\"v\",\"showlegend\":true,\"x\":[10.87939453],\"xaxis\":\"x\",\"y\":[0.522066],\"yaxis\":\"y\",\"type\":\"scatter\"},{\"hovertemplate\":\"Country Name=Ghana\\u003cbr\\u003eLog GDP Per Capita=%{x}\\u003cbr\\u003eEating disorders (%)=%{y}\\u003cextra\\u003e\\u003c\\u002fextra\\u003e\",\"legendgroup\":\"Ghana\",\"marker\":{\"color\":\"#FF97FF\",\"symbol\":\"circle\"},\"mode\":\"markers\",\"name\":\"Ghana\",\"orientation\":\"v\",\"showlegend\":true,\"x\":[8.503006935],\"xaxis\":\"x\",\"y\":[0.147452],\"yaxis\":\"y\",\"type\":\"scatter\"},{\"hovertemplate\":\"Country Name=Greece\\u003cbr\\u003eLog GDP Per Capita=%{x}\\u003cbr\\u003eEating disorders (%)=%{y}\\u003cextra\\u003e\\u003c\\u002fextra\\u003e\",\"legendgroup\":\"Greece\",\"marker\":{\"color\":\"#FECB52\",\"symbol\":\"circle\"},\"mode\":\"markers\",\"name\":\"Greece\",\"orientation\":\"v\",\"showlegend\":true,\"x\":[10.26133156],\"xaxis\":\"x\",\"y\":[0.559324],\"yaxis\":\"y\",\"type\":\"scatter\"},{\"hovertemplate\":\"Country Name=Guatemala\\u003cbr\\u003eLog GDP Per Capita=%{x}\\u003cbr\\u003eEating disorders (%)=%{y}\\u003cextra\\u003e\\u003c\\u002fextra\\u003e\",\"legendgroup\":\"Guatemala\",\"marker\":{\"color\":\"#636efa\",\"symbol\":\"circle\"},\"mode\":\"markers\",\"name\":\"Guatemala\",\"orientation\":\"v\",\"showlegend\":true,\"x\":[9.026683807],\"xaxis\":\"x\",\"y\":[0.23211],\"yaxis\":\"y\",\"type\":\"scatter\"},{\"hovertemplate\":\"Country Name=Guinea\\u003cbr\\u003eLog GDP Per Capita=%{x}\\u003cbr\\u003eEating disorders (%)=%{y}\\u003cextra\\u003e\\u003c\\u002fextra\\u003e\",\"legendgroup\":\"Guinea\",\"marker\":{\"color\":\"#EF553B\",\"symbol\":\"circle\"},\"mode\":\"markers\",\"name\":\"Guinea\",\"orientation\":\"v\",\"showlegend\":true,\"x\":[7.776358128],\"xaxis\":\"x\",\"y\":[0.112388],\"yaxis\":\"y\",\"type\":\"scatter\"},{\"hovertemplate\":\"Country Name=Haiti\\u003cbr\\u003eLog GDP Per Capita=%{x}\\u003cbr\\u003eEating disorders (%)=%{y}\\u003cextra\\u003e\\u003c\\u002fextra\\u003e\",\"legendgroup\":\"Haiti\",\"marker\":{\"color\":\"#00cc96\",\"symbol\":\"circle\"},\"mode\":\"markers\",\"name\":\"Haiti\",\"orientation\":\"v\",\"showlegend\":true,\"x\":[8.067083359],\"xaxis\":\"x\",\"y\":[0.16079],\"yaxis\":\"y\",\"type\":\"scatter\"},{\"hovertemplate\":\"Country Name=Honduras\\u003cbr\\u003eLog GDP Per Capita=%{x}\\u003cbr\\u003eEating disorders (%)=%{y}\\u003cextra\\u003e\\u003c\\u002fextra\\u003e\",\"legendgroup\":\"Honduras\",\"marker\":{\"color\":\"#ab63fa\",\"symbol\":\"circle\"},\"mode\":\"markers\",\"name\":\"Honduras\",\"orientation\":\"v\",\"showlegend\":true,\"x\":[8.602948189],\"xaxis\":\"x\",\"y\":[0.203339],\"yaxis\":\"y\",\"type\":\"scatter\"},{\"hovertemplate\":\"Country Name=Hungary\\u003cbr\\u003eLog GDP Per Capita=%{x}\\u003cbr\\u003eEating disorders (%)=%{y}\\u003cextra\\u003e\\u003c\\u002fextra\\u003e\",\"legendgroup\":\"Hungary\",\"marker\":{\"color\":\"#FFA15A\",\"symbol\":\"circle\"},\"mode\":\"markers\",\"name\":\"Hungary\",\"orientation\":\"v\",\"showlegend\":true,\"x\":[10.29218388],\"xaxis\":\"x\",\"y\":[0.237686],\"yaxis\":\"y\",\"type\":\"scatter\"},{\"hovertemplate\":\"Country Name=Iceland\\u003cbr\\u003eLog GDP Per Capita=%{x}\\u003cbr\\u003eEating disorders (%)=%{y}\\u003cextra\\u003e\\u003c\\u002fextra\\u003e\",\"legendgroup\":\"Iceland\",\"marker\":{\"color\":\"#19d3f3\",\"symbol\":\"circle\"},\"mode\":\"markers\",\"name\":\"Iceland\",\"orientation\":\"v\",\"showlegend\":true,\"x\":[10.92663097],\"xaxis\":\"x\",\"y\":[0.558014],\"yaxis\":\"y\",\"type\":\"scatter\"},{\"hovertemplate\":\"Country Name=India\\u003cbr\\u003eLog GDP Per Capita=%{x}\\u003cbr\\u003eEating disorders (%)=%{y}\\u003cextra\\u003e\\u003c\\u002fextra\\u003e\",\"legendgroup\":\"India\",\"marker\":{\"color\":\"#FF6692\",\"symbol\":\"circle\"},\"mode\":\"markers\",\"name\":\"India\",\"orientation\":\"v\",\"showlegend\":true,\"x\":[8.718020439],\"xaxis\":\"x\",\"y\":[0.157758],\"yaxis\":\"y\",\"type\":\"scatter\"},{\"hovertemplate\":\"Country Name=Indonesia\\u003cbr\\u003eLog GDP Per Capita=%{x}\\u003cbr\\u003eEating disorders (%)=%{y}\\u003cextra\\u003e\\u003c\\u002fextra\\u003e\",\"legendgroup\":\"Indonesia\",\"marker\":{\"color\":\"#B6E880\",\"symbol\":\"circle\"},\"mode\":\"markers\",\"name\":\"Indonesia\",\"orientation\":\"v\",\"showlegend\":true,\"x\":[9.300356865],\"xaxis\":\"x\",\"y\":[0.148782],\"yaxis\":\"y\",\"type\":\"scatter\"},{\"hovertemplate\":\"Country Name=Iraq\\u003cbr\\u003eLog GDP Per Capita=%{x}\\u003cbr\\u003eEating disorders (%)=%{y}\\u003cextra\\u003e\\u003c\\u002fextra\\u003e\",\"legendgroup\":\"Iraq\",\"marker\":{\"color\":\"#FF97FF\",\"symbol\":\"circle\"},\"mode\":\"markers\",\"name\":\"Iraq\",\"orientation\":\"v\",\"showlegend\":true,\"x\":[9.208023071],\"xaxis\":\"x\",\"y\":[0.208672],\"yaxis\":\"y\",\"type\":\"scatter\"},{\"hovertemplate\":\"Country Name=Ireland\\u003cbr\\u003eLog GDP Per Capita=%{x}\\u003cbr\\u003eEating disorders (%)=%{y}\\u003cextra\\u003e\\u003c\\u002fextra\\u003e\",\"legendgroup\":\"Ireland\",\"marker\":{\"color\":\"#FECB52\",\"symbol\":\"circle\"},\"mode\":\"markers\",\"name\":\"Ireland\",\"orientation\":\"v\",\"showlegend\":true,\"x\":[11.26124382],\"xaxis\":\"x\",\"y\":[0.559995],\"yaxis\":\"y\",\"type\":\"scatter\"},{\"hovertemplate\":\"Country Name=Israel\\u003cbr\\u003eLog GDP Per Capita=%{x}\\u003cbr\\u003eEating disorders (%)=%{y}\\u003cextra\\u003e\\u003c\\u002fextra\\u003e\",\"legendgroup\":\"Israel\",\"marker\":{\"color\":\"#636efa\",\"symbol\":\"circle\"},\"mode\":\"markers\",\"name\":\"Israel\",\"orientation\":\"v\",\"showlegend\":true,\"x\":[10.57442188],\"xaxis\":\"x\",\"y\":[0.461175],\"yaxis\":\"y\",\"type\":\"scatter\"},{\"hovertemplate\":\"Country Name=Italy\\u003cbr\\u003eLog GDP Per Capita=%{x}\\u003cbr\\u003eEating disorders (%)=%{y}\\u003cextra\\u003e\\u003c\\u002fextra\\u003e\",\"legendgroup\":\"Italy\",\"marker\":{\"color\":\"#EF553B\",\"symbol\":\"circle\"},\"mode\":\"markers\",\"name\":\"Italy\",\"orientation\":\"v\",\"showlegend\":true,\"x\":[10.63540173],\"xaxis\":\"x\",\"y\":[0.626784],\"yaxis\":\"y\",\"type\":\"scatter\"},{\"hovertemplate\":\"Country Name=Jamaica\\u003cbr\\u003eLog GDP Per Capita=%{x}\\u003cbr\\u003eEating disorders (%)=%{y}\\u003cextra\\u003e\\u003c\\u002fextra\\u003e\",\"legendgroup\":\"Jamaica\",\"marker\":{\"color\":\"#00cc96\",\"symbol\":\"circle\"},\"mode\":\"markers\",\"name\":\"Jamaica\",\"orientation\":\"v\",\"showlegend\":true,\"x\":[9.208796501],\"xaxis\":\"x\",\"y\":[0.25965],\"yaxis\":\"y\",\"type\":\"scatter\"},{\"hovertemplate\":\"Country Name=Japan\\u003cbr\\u003eLog GDP Per Capita=%{x}\\u003cbr\\u003eEating disorders (%)=%{y}\\u003cextra\\u003e\\u003c\\u002fextra\\u003e\",\"legendgroup\":\"Japan\",\"marker\":{\"color\":\"#ab63fa\",\"symbol\":\"circle\"},\"mode\":\"markers\",\"name\":\"Japan\",\"orientation\":\"v\",\"showlegend\":true,\"x\":[10.63210392],\"xaxis\":\"x\",\"y\":[0.454379],\"yaxis\":\"y\",\"type\":\"scatter\"},{\"hovertemplate\":\"Country Name=Kazakhstan\\u003cbr\\u003eLog GDP Per Capita=%{x}\\u003cbr\\u003eEating disorders (%)=%{y}\\u003cextra\\u003e\\u003c\\u002fextra\\u003e\",\"legendgroup\":\"Kazakhstan\",\"marker\":{\"color\":\"#FFA15A\",\"symbol\":\"circle\"},\"mode\":\"markers\",\"name\":\"Kazakhstan\",\"orientation\":\"v\",\"showlegend\":true,\"x\":[10.12113476],\"xaxis\":\"x\",\"y\":[0.227918],\"yaxis\":\"y\",\"type\":\"scatter\"},{\"hovertemplate\":\"Country Name=Kenya\\u003cbr\\u003eLog GDP Per Capita=%{x}\\u003cbr\\u003eEating disorders (%)=%{y}\\u003cextra\\u003e\\u003c\\u002fextra\\u003e\",\"legendgroup\":\"Kenya\",\"marker\":{\"color\":\"#19d3f3\",\"symbol\":\"circle\"},\"mode\":\"markers\",\"name\":\"Kenya\",\"orientation\":\"v\",\"showlegend\":true,\"x\":[8.369367599],\"xaxis\":\"x\",\"y\":[0.135005],\"yaxis\":\"y\",\"type\":\"scatter\"},{\"hovertemplate\":\"Country Name=Kyrgyzstan\\u003cbr\\u003eLog GDP Per Capita=%{x}\\u003cbr\\u003eEating disorders (%)=%{y}\\u003cextra\\u003e\\u003c\\u002fextra\\u003e\",\"legendgroup\":\"Kyrgyzstan\",\"marker\":{\"color\":\"#FF6692\",\"symbol\":\"circle\"},\"mode\":\"markers\",\"name\":\"Kyrgyzstan\",\"orientation\":\"v\",\"showlegend\":true,\"x\":[8.526488304],\"xaxis\":\"x\",\"y\":[0.127525],\"yaxis\":\"y\",\"type\":\"scatter\"},{\"hovertemplate\":\"Country Name=Laos\\u003cbr\\u003eLog GDP Per Capita=%{x}\\u003cbr\\u003eEating disorders (%)=%{y}\\u003cextra\\u003e\\u003c\\u002fextra\\u003e\",\"legendgroup\":\"Laos\",\"marker\":{\"color\":\"#B6E880\",\"symbol\":\"circle\"},\"mode\":\"markers\",\"name\":\"Laos\",\"orientation\":\"v\",\"showlegend\":true,\"x\":[8.88339901],\"xaxis\":\"x\",\"y\":[0.128172],\"yaxis\":\"y\",\"type\":\"scatter\"},{\"hovertemplate\":\"Country Name=Latvia\\u003cbr\\u003eLog GDP Per Capita=%{x}\\u003cbr\\u003eEating disorders (%)=%{y}\\u003cextra\\u003e\\u003c\\u002fextra\\u003e\",\"legendgroup\":\"Latvia\",\"marker\":{\"color\":\"#FF97FF\",\"symbol\":\"circle\"},\"mode\":\"markers\",\"name\":\"Latvia\",\"orientation\":\"v\",\"showlegend\":true,\"x\":[10.263731],\"xaxis\":\"x\",\"y\":[0.225275],\"yaxis\":\"y\",\"type\":\"scatter\"},{\"hovertemplate\":\"Country Name=Lebanon\\u003cbr\\u003eLog GDP Per Capita=%{x}\\u003cbr\\u003eEating disorders (%)=%{y}\\u003cextra\\u003e\\u003c\\u002fextra\\u003e\",\"legendgroup\":\"Lebanon\",\"marker\":{\"color\":\"#FECB52\",\"symbol\":\"circle\"},\"mode\":\"markers\",\"name\":\"Lebanon\",\"orientation\":\"v\",\"showlegend\":true,\"x\":[9.787406921],\"xaxis\":\"x\",\"y\":[0.219049],\"yaxis\":\"y\",\"type\":\"scatter\"},{\"hovertemplate\":\"Country Name=Lesotho\\u003cbr\\u003eLog GDP Per Capita=%{x}\\u003cbr\\u003eEating disorders (%)=%{y}\\u003cextra\\u003e\\u003c\\u002fextra\\u003e\",\"legendgroup\":\"Lesotho\",\"marker\":{\"color\":\"#636efa\",\"symbol\":\"circle\"},\"mode\":\"markers\",\"name\":\"Lesotho\",\"orientation\":\"v\",\"showlegend\":true,\"x\":[7.852320194],\"xaxis\":\"x\",\"y\":[0.136801],\"yaxis\":\"y\",\"type\":\"scatter\"},{\"hovertemplate\":\"Country Name=Liberia\\u003cbr\\u003eLog GDP Per Capita=%{x}\\u003cbr\\u003eEating disorders (%)=%{y}\\u003cextra\\u003e\\u003c\\u002fextra\\u003e\",\"legendgroup\":\"Liberia\",\"marker\":{\"color\":\"#EF553B\",\"symbol\":\"circle\"},\"mode\":\"markers\",\"name\":\"Liberia\",\"orientation\":\"v\",\"showlegend\":true,\"x\":[7.335249901],\"xaxis\":\"x\",\"y\":[0.091591],\"yaxis\":\"y\",\"type\":\"scatter\"},{\"hovertemplate\":\"Country Name=Lithuania\\u003cbr\\u003eLog GDP Per Capita=%{x}\\u003cbr\\u003eEating disorders (%)=%{y}\\u003cextra\\u003e\\u003c\\u002fextra\\u003e\",\"legendgroup\":\"Lithuania\",\"marker\":{\"color\":\"#00cc96\",\"symbol\":\"circle\"},\"mode\":\"markers\",\"name\":\"Lithuania\",\"orientation\":\"v\",\"showlegend\":true,\"x\":[10.42708778],\"xaxis\":\"x\",\"y\":[0.234095],\"yaxis\":\"y\",\"type\":\"scatter\"},{\"hovertemplate\":\"Country Name=Luxembourg\\u003cbr\\u003eLog GDP Per Capita=%{x}\\u003cbr\\u003eEating disorders (%)=%{y}\\u003cextra\\u003e\\u003c\\u002fextra\\u003e\",\"legendgroup\":\"Luxembourg\",\"marker\":{\"color\":\"#ab63fa\",\"symbol\":\"circle\"},\"mode\":\"markers\",\"name\":\"Luxembourg\",\"orientation\":\"v\",\"showlegend\":true,\"x\":[11.65256405],\"xaxis\":\"x\",\"y\":[0.737917],\"yaxis\":\"y\",\"type\":\"scatter\"},{\"hovertemplate\":\"Country Name=Madagascar\\u003cbr\\u003eLog GDP Per Capita=%{x}\\u003cbr\\u003eEating disorders (%)=%{y}\\u003cextra\\u003e\\u003c\\u002fextra\\u003e\",\"legendgroup\":\"Madagascar\",\"marker\":{\"color\":\"#FFA15A\",\"symbol\":\"circle\"},\"mode\":\"markers\",\"name\":\"Madagascar\",\"orientation\":\"v\",\"showlegend\":true,\"x\":[7.344820023],\"xaxis\":\"x\",\"y\":[0.106417],\"yaxis\":\"y\",\"type\":\"scatter\"},{\"hovertemplate\":\"Country Name=Malawi\\u003cbr\\u003eLog GDP Per Capita=%{x}\\u003cbr\\u003eEating disorders (%)=%{y}\\u003cextra\\u003e\\u003c\\u002fextra\\u003e\",\"legendgroup\":\"Malawi\",\"marker\":{\"color\":\"#19d3f3\",\"symbol\":\"circle\"},\"mode\":\"markers\",\"name\":\"Malawi\",\"orientation\":\"v\",\"showlegend\":true,\"x\":[7.282608032],\"xaxis\":\"x\",\"y\":[0.100349],\"yaxis\":\"y\",\"type\":\"scatter\"},{\"hovertemplate\":\"Country Name=Mali\\u003cbr\\u003eLog GDP Per Capita=%{x}\\u003cbr\\u003eEating disorders (%)=%{y}\\u003cextra\\u003e\\u003c\\u002fextra\\u003e\",\"legendgroup\":\"Mali\",\"marker\":{\"color\":\"#FF6692\",\"symbol\":\"circle\"},\"mode\":\"markers\",\"name\":\"Mali\",\"orientation\":\"v\",\"showlegend\":true,\"x\":[7.675010204],\"xaxis\":\"x\",\"y\":[0.116675],\"yaxis\":\"y\",\"type\":\"scatter\"},{\"hovertemplate\":\"Country Name=Malta\\u003cbr\\u003eLog GDP Per Capita=%{x}\\u003cbr\\u003eEating disorders (%)=%{y}\\u003cextra\\u003e\\u003c\\u002fextra\\u003e\",\"legendgroup\":\"Malta\",\"marker\":{\"color\":\"#B6E880\",\"symbol\":\"circle\"},\"mode\":\"markers\",\"name\":\"Malta\",\"orientation\":\"v\",\"showlegend\":true,\"x\":[10.68089676],\"xaxis\":\"x\",\"y\":[0.51914],\"yaxis\":\"y\",\"type\":\"scatter\"},{\"hovertemplate\":\"Country Name=Mauritania\\u003cbr\\u003eLog GDP Per Capita=%{x}\\u003cbr\\u003eEating disorders (%)=%{y}\\u003cextra\\u003e\\u003c\\u002fextra\\u003e\",\"legendgroup\":\"Mauritania\",\"marker\":{\"color\":\"#FF97FF\",\"symbol\":\"circle\"},\"mode\":\"markers\",\"name\":\"Mauritania\",\"orientation\":\"v\",\"showlegend\":true,\"x\":[8.567708969],\"xaxis\":\"x\",\"y\":[0.145276],\"yaxis\":\"y\",\"type\":\"scatter\"},{\"hovertemplate\":\"Country Name=Mauritius\\u003cbr\\u003eLog GDP Per Capita=%{x}\\u003cbr\\u003eEating disorders (%)=%{y}\\u003cextra\\u003e\\u003c\\u002fextra\\u003e\",\"legendgroup\":\"Mauritius\",\"marker\":{\"color\":\"#FECB52\",\"symbol\":\"circle\"},\"mode\":\"markers\",\"name\":\"Mauritius\",\"orientation\":\"v\",\"showlegend\":true,\"x\":[10.00553036],\"xaxis\":\"x\",\"y\":[0.184433],\"yaxis\":\"y\",\"type\":\"scatter\"},{\"hovertemplate\":\"Country Name=Mexico\\u003cbr\\u003eLog GDP Per Capita=%{x}\\u003cbr\\u003eEating disorders (%)=%{y}\\u003cextra\\u003e\\u003c\\u002fextra\\u003e\",\"legendgroup\":\"Mexico\",\"marker\":{\"color\":\"#636efa\",\"symbol\":\"circle\"},\"mode\":\"markers\",\"name\":\"Mexico\",\"orientation\":\"v\",\"showlegend\":true,\"x\":[9.905106544],\"xaxis\":\"x\",\"y\":[0.316975],\"yaxis\":\"y\",\"type\":\"scatter\"},{\"hovertemplate\":\"Country Name=Moldova\\u003cbr\\u003eLog GDP Per Capita=%{x}\\u003cbr\\u003eEating disorders (%)=%{y}\\u003cextra\\u003e\\u003c\\u002fextra\\u003e\",\"legendgroup\":\"Moldova\",\"marker\":{\"color\":\"#EF553B\",\"symbol\":\"circle\"},\"mode\":\"markers\",\"name\":\"Moldova\",\"orientation\":\"v\",\"showlegend\":true,\"x\":[9.363162994],\"xaxis\":\"x\",\"y\":[0.141701],\"yaxis\":\"y\",\"type\":\"scatter\"},{\"hovertemplate\":\"Country Name=Mongolia\\u003cbr\\u003eLog GDP Per Capita=%{x}\\u003cbr\\u003eEating disorders (%)=%{y}\\u003cextra\\u003e\\u003c\\u002fextra\\u003e\",\"legendgroup\":\"Mongolia\",\"marker\":{\"color\":\"#00cc96\",\"symbol\":\"circle\"},\"mode\":\"markers\",\"name\":\"Mongolia\",\"orientation\":\"v\",\"showlegend\":true,\"x\":[9.344127655],\"xaxis\":\"x\",\"y\":[0.180157],\"yaxis\":\"y\",\"type\":\"scatter\"},{\"hovertemplate\":\"Country Name=Montenegro\\u003cbr\\u003eLog GDP Per Capita=%{x}\\u003cbr\\u003eEating disorders (%)=%{y}\\u003cextra\\u003e\\u003c\\u002fextra\\u003e\",\"legendgroup\":\"Montenegro\",\"marker\":{\"color\":\"#ab63fa\",\"symbol\":\"circle\"},\"mode\":\"markers\",\"name\":\"Montenegro\",\"orientation\":\"v\",\"showlegend\":true,\"x\":[9.887653351],\"xaxis\":\"x\",\"y\":[0.194161],\"yaxis\":\"y\",\"type\":\"scatter\"},{\"hovertemplate\":\"Country Name=Mozambique\\u003cbr\\u003eLog GDP Per Capita=%{x}\\u003cbr\\u003eEating disorders (%)=%{y}\\u003cextra\\u003e\\u003c\\u002fextra\\u003e\",\"legendgroup\":\"Mozambique\",\"marker\":{\"color\":\"#FFA15A\",\"symbol\":\"circle\"},\"mode\":\"markers\",\"name\":\"Mozambique\",\"orientation\":\"v\",\"showlegend\":true,\"x\":[7.160251617],\"xaxis\":\"x\",\"y\":[0.103227],\"yaxis\":\"y\",\"type\":\"scatter\"},{\"hovertemplate\":\"Country Name=Myanmar\\u003cbr\\u003eLog GDP Per Capita=%{x}\\u003cbr\\u003eEating disorders (%)=%{y}\\u003cextra\\u003e\\u003c\\u002fextra\\u003e\",\"legendgroup\":\"Myanmar\",\"marker\":{\"color\":\"#19d3f3\",\"symbol\":\"circle\"},\"mode\":\"markers\",\"name\":\"Myanmar\",\"orientation\":\"v\",\"showlegend\":true,\"x\":[8.369377136],\"xaxis\":\"x\",\"y\":[0.125738],\"yaxis\":\"y\",\"type\":\"scatter\"},{\"hovertemplate\":\"Country Name=Namibia\\u003cbr\\u003eLog GDP Per Capita=%{x}\\u003cbr\\u003eEating disorders (%)=%{y}\\u003cextra\\u003e\\u003c\\u002fextra\\u003e\",\"legendgroup\":\"Namibia\",\"marker\":{\"color\":\"#FF6692\",\"symbol\":\"circle\"},\"mode\":\"markers\",\"name\":\"Namibia\",\"orientation\":\"v\",\"showlegend\":true,\"x\":[9.243317604],\"xaxis\":\"x\",\"y\":[0.200987],\"yaxis\":\"y\",\"type\":\"scatter\"},{\"hovertemplate\":\"Country Name=Nepal\\u003cbr\\u003eLog GDP Per Capita=%{x}\\u003cbr\\u003eEating disorders (%)=%{y}\\u003cextra\\u003e\\u003c\\u002fextra\\u003e\",\"legendgroup\":\"Nepal\",\"marker\":{\"color\":\"#B6E880\",\"symbol\":\"circle\"},\"mode\":\"markers\",\"name\":\"Nepal\",\"orientation\":\"v\",\"showlegend\":true,\"x\":[8.159239769],\"xaxis\":\"x\",\"y\":[0.128495],\"yaxis\":\"y\",\"type\":\"scatter\"},{\"hovertemplate\":\"Country Name=Netherlands\\u003cbr\\u003eLog GDP Per Capita=%{x}\\u003cbr\\u003eEating disorders (%)=%{y}\\u003cextra\\u003e\\u003c\\u002fextra\\u003e\",\"legendgroup\":\"Netherlands\",\"marker\":{\"color\":\"#FF97FF\",\"symbol\":\"circle\"},\"mode\":\"markers\",\"name\":\"Netherlands\",\"orientation\":\"v\",\"showlegend\":true,\"x\":[10.91669846],\"xaxis\":\"x\",\"y\":[0.467844],\"yaxis\":\"y\",\"type\":\"scatter\"},{\"hovertemplate\":\"Country Name=New Zealand\\u003cbr\\u003eLog GDP Per Capita=%{x}\\u003cbr\\u003eEating disorders (%)=%{y}\\u003cextra\\u003e\\u003c\\u002fextra\\u003e\",\"legendgroup\":\"New Zealand\",\"marker\":{\"color\":\"#FECB52\",\"symbol\":\"circle\"},\"mode\":\"markers\",\"name\":\"New Zealand\",\"orientation\":\"v\",\"showlegend\":true,\"x\":[10.65061474],\"xaxis\":\"x\",\"y\":[0.67329],\"yaxis\":\"y\",\"type\":\"scatter\"},{\"hovertemplate\":\"Country Name=Nicaragua\\u003cbr\\u003eLog GDP Per Capita=%{x}\\u003cbr\\u003eEating disorders (%)=%{y}\\u003cextra\\u003e\\u003c\\u002fextra\\u003e\",\"legendgroup\":\"Nicaragua\",\"marker\":{\"color\":\"#636efa\",\"symbol\":\"circle\"},\"mode\":\"markers\",\"name\":\"Nicaragua\",\"orientation\":\"v\",\"showlegend\":true,\"x\":[8.685310364],\"xaxis\":\"x\",\"y\":[0.205876],\"yaxis\":\"y\",\"type\":\"scatter\"},{\"hovertemplate\":\"Country Name=Niger\\u003cbr\\u003eLog GDP Per Capita=%{x}\\u003cbr\\u003eEating disorders (%)=%{y}\\u003cextra\\u003e\\u003c\\u002fextra\\u003e\",\"legendgroup\":\"Niger\",\"marker\":{\"color\":\"#EF553B\",\"symbol\":\"circle\"},\"mode\":\"markers\",\"name\":\"Niger\",\"orientation\":\"v\",\"showlegend\":true,\"x\":[7.052698135],\"xaxis\":\"x\",\"y\":[0.096116],\"yaxis\":\"y\",\"type\":\"scatter\"},{\"hovertemplate\":\"Country Name=Nigeria\\u003cbr\\u003eLog GDP Per Capita=%{x}\\u003cbr\\u003eEating disorders (%)=%{y}\\u003cextra\\u003e\\u003c\\u002fextra\\u003e\",\"legendgroup\":\"Nigeria\",\"marker\":{\"color\":\"#00cc96\",\"symbol\":\"circle\"},\"mode\":\"markers\",\"name\":\"Nigeria\",\"orientation\":\"v\",\"showlegend\":true,\"x\":[8.540910721],\"xaxis\":\"x\",\"y\":[0.163373],\"yaxis\":\"y\",\"type\":\"scatter\"},{\"hovertemplate\":\"Country Name=Norway\\u003cbr\\u003eLog GDP Per Capita=%{x}\\u003cbr\\u003eEating disorders (%)=%{y}\\u003cextra\\u003e\\u003c\\u002fextra\\u003e\",\"legendgroup\":\"Norway\",\"marker\":{\"color\":\"#ab63fa\",\"symbol\":\"circle\"},\"mode\":\"markers\",\"name\":\"Norway\",\"orientation\":\"v\",\"showlegend\":true,\"x\":[11.06743145],\"xaxis\":\"x\",\"y\":[0.570363],\"yaxis\":\"y\",\"type\":\"scatter\"},{\"hovertemplate\":\"Country Name=Pakistan\\u003cbr\\u003eLog GDP Per Capita=%{x}\\u003cbr\\u003eEating disorders (%)=%{y}\\u003cextra\\u003e\\u003c\\u002fextra\\u003e\",\"legendgroup\":\"Pakistan\",\"marker\":{\"color\":\"#FFA15A\",\"symbol\":\"circle\"},\"mode\":\"markers\",\"name\":\"Pakistan\",\"orientation\":\"v\",\"showlegend\":true,\"x\":[8.495299339],\"xaxis\":\"x\",\"y\":[0.154583],\"yaxis\":\"y\",\"type\":\"scatter\"},{\"hovertemplate\":\"Country Name=Panama\\u003cbr\\u003eLog GDP Per Capita=%{x}\\u003cbr\\u003eEating disorders (%)=%{y}\\u003cextra\\u003e\\u003c\\u002fextra\\u003e\",\"legendgroup\":\"Panama\",\"marker\":{\"color\":\"#19d3f3\",\"symbol\":\"circle\"},\"mode\":\"markers\",\"name\":\"Panama\",\"orientation\":\"v\",\"showlegend\":true,\"x\":[10.3263464],\"xaxis\":\"x\",\"y\":[0.31665],\"yaxis\":\"y\",\"type\":\"scatter\"},{\"hovertemplate\":\"Country Name=Paraguay\\u003cbr\\u003eLog GDP Per Capita=%{x}\\u003cbr\\u003eEating disorders (%)=%{y}\\u003cextra\\u003e\\u003c\\u002fextra\\u003e\",\"legendgroup\":\"Paraguay\",\"marker\":{\"color\":\"#FF6692\",\"symbol\":\"circle\"},\"mode\":\"markers\",\"name\":\"Paraguay\",\"orientation\":\"v\",\"showlegend\":true,\"x\":[9.51813221],\"xaxis\":\"x\",\"y\":[0.238288],\"yaxis\":\"y\",\"type\":\"scatter\"},{\"hovertemplate\":\"Country Name=Peru\\u003cbr\\u003eLog GDP Per Capita=%{x}\\u003cbr\\u003eEating disorders (%)=%{y}\\u003cextra\\u003e\\u003c\\u002fextra\\u003e\",\"legendgroup\":\"Peru\",\"marker\":{\"color\":\"#B6E880\",\"symbol\":\"circle\"},\"mode\":\"markers\",\"name\":\"Peru\",\"orientation\":\"v\",\"showlegend\":true,\"x\":[9.428893089],\"xaxis\":\"x\",\"y\":[0.369216],\"yaxis\":\"y\",\"type\":\"scatter\"},{\"hovertemplate\":\"Country Name=Philippines\\u003cbr\\u003eLog GDP Per Capita=%{x}\\u003cbr\\u003eEating disorders (%)=%{y}\\u003cextra\\u003e\\u003c\\u002fextra\\u003e\",\"legendgroup\":\"Philippines\",\"marker\":{\"color\":\"#FF97FF\",\"symbol\":\"circle\"},\"mode\":\"markers\",\"name\":\"Philippines\",\"orientation\":\"v\",\"showlegend\":true,\"x\":[8.987416267],\"xaxis\":\"x\",\"y\":[0.134855],\"yaxis\":\"y\",\"type\":\"scatter\"},{\"hovertemplate\":\"Country Name=Poland\\u003cbr\\u003eLog GDP Per Capita=%{x}\\u003cbr\\u003eEating disorders (%)=%{y}\\u003cextra\\u003e\\u003c\\u002fextra\\u003e\",\"legendgroup\":\"Poland\",\"marker\":{\"color\":\"#FECB52\",\"symbol\":\"circle\"},\"mode\":\"markers\",\"name\":\"Poland\",\"orientation\":\"v\",\"showlegend\":true,\"x\":[10.30755615],\"xaxis\":\"x\",\"y\":[0.229485],\"yaxis\":\"y\",\"type\":\"scatter\"},{\"hovertemplate\":\"Country Name=Portugal\\u003cbr\\u003eLog GDP Per Capita=%{x}\\u003cbr\\u003eEating disorders (%)=%{y}\\u003cextra\\u003e\\u003c\\u002fextra\\u003e\",\"legendgroup\":\"Portugal\",\"marker\":{\"color\":\"#636efa\",\"symbol\":\"circle\"},\"mode\":\"markers\",\"name\":\"Portugal\",\"orientation\":\"v\",\"showlegend\":true,\"x\":[10.40561676],\"xaxis\":\"x\",\"y\":[0.513079],\"yaxis\":\"y\",\"type\":\"scatter\"},{\"hovertemplate\":\"Country Name=Romania\\u003cbr\\u003eLog GDP Per Capita=%{x}\\u003cbr\\u003eEating disorders (%)=%{y}\\u003cextra\\u003e\\u003c\\u002fextra\\u003e\",\"legendgroup\":\"Romania\",\"marker\":{\"color\":\"#EF553B\",\"symbol\":\"circle\"},\"mode\":\"markers\",\"name\":\"Romania\",\"orientation\":\"v\",\"showlegend\":true,\"x\":[10.20167065],\"xaxis\":\"x\",\"y\":[0.2007],\"yaxis\":\"y\",\"type\":\"scatter\"},{\"hovertemplate\":\"Country Name=Russia\\u003cbr\\u003eLog GDP Per Capita=%{x}\\u003cbr\\u003eEating disorders (%)=%{y}\\u003cextra\\u003e\\u003c\\u002fextra\\u003e\",\"legendgroup\":\"Russia\",\"marker\":{\"color\":\"#00cc96\",\"symbol\":\"circle\"},\"mode\":\"markers\",\"name\":\"Russia\",\"orientation\":\"v\",\"showlegend\":true,\"x\":[10.16301918],\"xaxis\":\"x\",\"y\":[0.232375],\"yaxis\":\"y\",\"type\":\"scatter\"},{\"hovertemplate\":\"Country Name=Rwanda\\u003cbr\\u003eLog GDP Per Capita=%{x}\\u003cbr\\u003eEating disorders (%)=%{y}\\u003cextra\\u003e\\u003c\\u002fextra\\u003e\",\"legendgroup\":\"Rwanda\",\"marker\":{\"color\":\"#ab63fa\",\"symbol\":\"circle\"},\"mode\":\"markers\",\"name\":\"Rwanda\",\"orientation\":\"v\",\"showlegend\":true,\"x\":[7.567848682],\"xaxis\":\"x\",\"y\":[0.115817],\"yaxis\":\"y\",\"type\":\"scatter\"},{\"hovertemplate\":\"Country Name=Senegal\\u003cbr\\u003eLog GDP Per Capita=%{x}\\u003cbr\\u003eEating disorders (%)=%{y}\\u003cextra\\u003e\\u003c\\u002fextra\\u003e\",\"legendgroup\":\"Senegal\",\"marker\":{\"color\":\"#FFA15A\",\"symbol\":\"circle\"},\"mode\":\"markers\",\"name\":\"Senegal\",\"orientation\":\"v\",\"showlegend\":true,\"x\":[8.089234352],\"xaxis\":\"x\",\"y\":[0.12529],\"yaxis\":\"y\",\"type\":\"scatter\"},{\"hovertemplate\":\"Country Name=Serbia\\u003cbr\\u003eLog GDP Per Capita=%{x}\\u003cbr\\u003eEating disorders (%)=%{y}\\u003cextra\\u003e\\u003c\\u002fextra\\u003e\",\"legendgroup\":\"Serbia\",\"marker\":{\"color\":\"#19d3f3\",\"symbol\":\"circle\"},\"mode\":\"markers\",\"name\":\"Serbia\",\"orientation\":\"v\",\"showlegend\":true,\"x\":[9.718001366],\"xaxis\":\"x\",\"y\":[0.187147],\"yaxis\":\"y\",\"type\":\"scatter\"},{\"hovertemplate\":\"Country Name=Sierra Leone\\u003cbr\\u003eLog GDP Per Capita=%{x}\\u003cbr\\u003eEating disorders (%)=%{y}\\u003cextra\\u003e\\u003c\\u002fextra\\u003e\",\"legendgroup\":\"Sierra Leone\",\"marker\":{\"color\":\"#FF6692\",\"symbol\":\"circle\"},\"mode\":\"markers\",\"name\":\"Sierra Leone\",\"orientation\":\"v\",\"showlegend\":true,\"x\":[7.373677731],\"xaxis\":\"x\",\"y\":[0.109799],\"yaxis\":\"y\",\"type\":\"scatter\"},{\"hovertemplate\":\"Country Name=Singapore\\u003cbr\\u003eLog GDP Per Capita=%{x}\\u003cbr\\u003eEating disorders (%)=%{y}\\u003cextra\\u003e\\u003c\\u002fextra\\u003e\",\"legendgroup\":\"Singapore\",\"marker\":{\"color\":\"#B6E880\",\"symbol\":\"circle\"},\"mode\":\"markers\",\"name\":\"Singapore\",\"orientation\":\"v\",\"showlegend\":true,\"x\":[11.46489334],\"xaxis\":\"x\",\"y\":[0.553712],\"yaxis\":\"y\",\"type\":\"scatter\"},{\"hovertemplate\":\"Country Name=Slovakia\\u003cbr\\u003eLog GDP Per Capita=%{x}\\u003cbr\\u003eEating disorders (%)=%{y}\\u003cextra\\u003e\\u003c\\u002fextra\\u003e\",\"legendgroup\":\"Slovakia\",\"marker\":{\"color\":\"#FF97FF\",\"symbol\":\"circle\"},\"mode\":\"markers\",\"name\":\"Slovakia\",\"orientation\":\"v\",\"showlegend\":true,\"x\":[10.31100178],\"xaxis\":\"x\",\"y\":[0.235475],\"yaxis\":\"y\",\"type\":\"scatter\"},{\"hovertemplate\":\"Country Name=Slovenia\\u003cbr\\u003eLog GDP Per Capita=%{x}\\u003cbr\\u003eEating disorders (%)=%{y}\\u003cextra\\u003e\\u003c\\u002fextra\\u003e\",\"legendgroup\":\"Slovenia\",\"marker\":{\"color\":\"#FECB52\",\"symbol\":\"circle\"},\"mode\":\"markers\",\"name\":\"Slovenia\",\"orientation\":\"v\",\"showlegend\":true,\"x\":[10.50527477],\"xaxis\":\"x\",\"y\":[0.239636],\"yaxis\":\"y\",\"type\":\"scatter\"},{\"hovertemplate\":\"Country Name=South Africa\\u003cbr\\u003eLog GDP Per Capita=%{x}\\u003cbr\\u003eEating disorders (%)=%{y}\\u003cextra\\u003e\\u003c\\u002fextra\\u003e\",\"legendgroup\":\"South Africa\",\"marker\":{\"color\":\"#636efa\",\"symbol\":\"circle\"},\"mode\":\"markers\",\"name\":\"South Africa\",\"orientation\":\"v\",\"showlegend\":true,\"x\":[9.54326725],\"xaxis\":\"x\",\"y\":[0.214718],\"yaxis\":\"y\",\"type\":\"scatter\"},{\"hovertemplate\":\"Country Name=South Korea\\u003cbr\\u003eLog GDP Per Capita=%{x}\\u003cbr\\u003eEating disorders (%)=%{y}\\u003cextra\\u003e\\u003c\\u002fextra\\u003e\",\"legendgroup\":\"South Korea\",\"marker\":{\"color\":\"#EF553B\",\"symbol\":\"circle\"},\"mode\":\"markers\",\"name\":\"South Korea\",\"orientation\":\"v\",\"showlegend\":true,\"x\":[10.6202879],\"xaxis\":\"x\",\"y\":[0.417103],\"yaxis\":\"y\",\"type\":\"scatter\"},{\"hovertemplate\":\"Country Name=Spain\\u003cbr\\u003eLog GDP Per Capita=%{x}\\u003cbr\\u003eEating disorders (%)=%{y}\\u003cextra\\u003e\\u003c\\u002fextra\\u003e\",\"legendgroup\":\"Spain\",\"marker\":{\"color\":\"#00cc96\",\"symbol\":\"circle\"},\"mode\":\"markers\",\"name\":\"Spain\",\"orientation\":\"v\",\"showlegend\":true,\"x\":[10.58478832],\"xaxis\":\"x\",\"y\":[0.730626],\"yaxis\":\"y\",\"type\":\"scatter\"},{\"hovertemplate\":\"Country Name=Sri Lanka\\u003cbr\\u003eLog GDP Per Capita=%{x}\\u003cbr\\u003eEating disorders (%)=%{y}\\u003cextra\\u003e\\u003c\\u002fextra\\u003e\",\"legendgroup\":\"Sri Lanka\",\"marker\":{\"color\":\"#ab63fa\",\"symbol\":\"circle\"},\"mode\":\"markers\",\"name\":\"Sri Lanka\",\"orientation\":\"v\",\"showlegend\":true,\"x\":[9.516662598],\"xaxis\":\"x\",\"y\":[0.159144],\"yaxis\":\"y\",\"type\":\"scatter\"},{\"hovertemplate\":\"Country Name=Sweden\\u003cbr\\u003eLog GDP Per Capita=%{x}\\u003cbr\\u003eEating disorders (%)=%{y}\\u003cextra\\u003e\\u003c\\u002fextra\\u003e\",\"legendgroup\":\"Sweden\",\"marker\":{\"color\":\"#FFA15A\",\"symbol\":\"circle\"},\"mode\":\"markers\",\"name\":\"Sweden\",\"orientation\":\"v\",\"showlegend\":true,\"x\":[10.85799789],\"xaxis\":\"x\",\"y\":[0.574608],\"yaxis\":\"y\",\"type\":\"scatter\"},{\"hovertemplate\":\"Country Name=Switzerland\\u003cbr\\u003eLog GDP Per Capita=%{x}\\u003cbr\\u003eEating disorders (%)=%{y}\\u003cextra\\u003e\\u003c\\u002fextra\\u003e\",\"legendgroup\":\"Switzerland\",\"marker\":{\"color\":\"#19d3f3\",\"symbol\":\"circle\"},\"mode\":\"markers\",\"name\":\"Switzerland\",\"orientation\":\"v\",\"showlegend\":true,\"x\":[11.14336205],\"xaxis\":\"x\",\"y\":[0.573969],\"yaxis\":\"y\",\"type\":\"scatter\"},{\"hovertemplate\":\"Country Name=Tajikistan\\u003cbr\\u003eLog GDP Per Capita=%{x}\\u003cbr\\u003eEating disorders (%)=%{y}\\u003cextra\\u003e\\u003c\\u002fextra\\u003e\",\"legendgroup\":\"Tajikistan\",\"marker\":{\"color\":\"#FF6692\",\"symbol\":\"circle\"},\"mode\":\"markers\",\"name\":\"Tajikistan\",\"orientation\":\"v\",\"showlegend\":true,\"x\":[8.082228661],\"xaxis\":\"x\",\"y\":[0.118226],\"yaxis\":\"y\",\"type\":\"scatter\"},{\"hovertemplate\":\"Country Name=Tanzania\\u003cbr\\u003eLog GDP Per Capita=%{x}\\u003cbr\\u003eEating disorders (%)=%{y}\\u003cextra\\u003e\\u003c\\u002fextra\\u003e\",\"legendgroup\":\"Tanzania\",\"marker\":{\"color\":\"#B6E880\",\"symbol\":\"circle\"},\"mode\":\"markers\",\"name\":\"Tanzania\",\"orientation\":\"v\",\"showlegend\":true,\"x\":[7.80724287],\"xaxis\":\"x\",\"y\":[0.129857],\"yaxis\":\"y\",\"type\":\"scatter\"},{\"hovertemplate\":\"Country Name=Thailand\\u003cbr\\u003eLog GDP Per Capita=%{x}\\u003cbr\\u003eEating disorders (%)=%{y}\\u003cextra\\u003e\\u003c\\u002fextra\\u003e\",\"legendgroup\":\"Thailand\",\"marker\":{\"color\":\"#FF97FF\",\"symbol\":\"circle\"},\"mode\":\"markers\",\"name\":\"Thailand\",\"orientation\":\"v\",\"showlegend\":true,\"x\":[9.741441727],\"xaxis\":\"x\",\"y\":[0.173202],\"yaxis\":\"y\",\"type\":\"scatter\"},{\"hovertemplate\":\"Country Name=Togo\\u003cbr\\u003eLog GDP Per Capita=%{x}\\u003cbr\\u003eEating disorders (%)=%{y}\\u003cextra\\u003e\\u003c\\u002fextra\\u003e\",\"legendgroup\":\"Togo\",\"marker\":{\"color\":\"#FECB52\",\"symbol\":\"circle\"},\"mode\":\"markers\",\"name\":\"Togo\",\"orientation\":\"v\",\"showlegend\":true,\"x\":[7.587156773],\"xaxis\":\"x\",\"y\":[0.108107],\"yaxis\":\"y\",\"type\":\"scatter\"},{\"hovertemplate\":\"Country Name=Tunisia\\u003cbr\\u003eLog GDP Per Capita=%{x}\\u003cbr\\u003eEating disorders (%)=%{y}\\u003cextra\\u003e\\u003c\\u002fextra\\u003e\",\"legendgroup\":\"Tunisia\",\"marker\":{\"color\":\"#636efa\",\"symbol\":\"circle\"},\"mode\":\"markers\",\"name\":\"Tunisia\",\"orientation\":\"v\",\"showlegend\":true,\"x\":[9.29421711],\"xaxis\":\"x\",\"y\":[0.200172],\"yaxis\":\"y\",\"type\":\"scatter\"},{\"hovertemplate\":\"Country Name=Uganda\\u003cbr\\u003eLog GDP Per Capita=%{x}\\u003cbr\\u003eEating disorders (%)=%{y}\\u003cextra\\u003e\\u003c\\u002fextra\\u003e\",\"legendgroup\":\"Uganda\",\"marker\":{\"color\":\"#EF553B\",\"symbol\":\"circle\"},\"mode\":\"markers\",\"name\":\"Uganda\",\"orientation\":\"v\",\"showlegend\":true,\"x\":[7.663124561],\"xaxis\":\"x\",\"y\":[0.119309],\"yaxis\":\"y\",\"type\":\"scatter\"},{\"hovertemplate\":\"Country Name=Ukraine\\u003cbr\\u003eLog GDP Per Capita=%{x}\\u003cbr\\u003eEating disorders (%)=%{y}\\u003cextra\\u003e\\u003c\\u002fextra\\u003e\",\"legendgroup\":\"Ukraine\",\"marker\":{\"color\":\"#00cc96\",\"symbol\":\"circle\"},\"mode\":\"markers\",\"name\":\"Ukraine\",\"orientation\":\"v\",\"showlegend\":true,\"x\":[9.380973816],\"xaxis\":\"x\",\"y\":[0.172715],\"yaxis\":\"y\",\"type\":\"scatter\"},{\"hovertemplate\":\"Country Name=United Kingdom\\u003cbr\\u003eLog GDP Per Capita=%{x}\\u003cbr\\u003eEating disorders (%)=%{y}\\u003cextra\\u003e\\u003c\\u002fextra\\u003e\",\"legendgroup\":\"United Kingdom\",\"marker\":{\"color\":\"#ab63fa\",\"symbol\":\"circle\"},\"mode\":\"markers\",\"name\":\"United Kingdom\",\"orientation\":\"v\",\"showlegend\":true,\"x\":[10.74445915],\"xaxis\":\"x\",\"y\":[0.543054],\"yaxis\":\"y\",\"type\":\"scatter\"},{\"hovertemplate\":\"Country Name=United States\\u003cbr\\u003eLog GDP Per Capita=%{x}\\u003cbr\\u003eEating disorders (%)=%{y}\\u003cextra\\u003e\\u003c\\u002fextra\\u003e\",\"legendgroup\":\"United States\",\"marker\":{\"color\":\"#FFA15A\",\"symbol\":\"circle\"},\"mode\":\"markers\",\"name\":\"United States\",\"orientation\":\"v\",\"showlegend\":true,\"x\":[11.00067806],\"xaxis\":\"x\",\"y\":[0.512844],\"yaxis\":\"y\",\"type\":\"scatter\"},{\"hovertemplate\":\"Country Name=Uruguay\\u003cbr\\u003eLog GDP Per Capita=%{x}\\u003cbr\\u003eEating disorders (%)=%{y}\\u003cextra\\u003e\\u003c\\u002fextra\\u003e\",\"legendgroup\":\"Uruguay\",\"marker\":{\"color\":\"#19d3f3\",\"symbol\":\"circle\"},\"mode\":\"markers\",\"name\":\"Uruguay\",\"orientation\":\"v\",\"showlegend\":true,\"x\":[10.04789066],\"xaxis\":\"x\",\"y\":[0.405502],\"yaxis\":\"y\",\"type\":\"scatter\"},{\"hovertemplate\":\"Country Name=Uzbekistan\\u003cbr\\u003eLog GDP Per Capita=%{x}\\u003cbr\\u003eEating disorders (%)=%{y}\\u003cextra\\u003e\\u003c\\u002fextra\\u003e\",\"legendgroup\":\"Uzbekistan\",\"marker\":{\"color\":\"#FF6692\",\"symbol\":\"circle\"},\"mode\":\"markers\",\"name\":\"Uzbekistan\",\"orientation\":\"v\",\"showlegend\":true,\"x\":[8.830646515],\"xaxis\":\"x\",\"y\":[0.153735],\"yaxis\":\"y\",\"type\":\"scatter\"},{\"hovertemplate\":\"Country Name=Venezuela\\u003cbr\\u003eLog GDP Per Capita=%{x}\\u003cbr\\u003eEating disorders (%)=%{y}\\u003cextra\\u003e\\u003c\\u002fextra\\u003e\",\"legendgroup\":\"Venezuela\",\"marker\":{\"color\":\"#B6E880\",\"symbol\":\"circle\"},\"mode\":\"markers\",\"name\":\"Venezuela\",\"orientation\":\"v\",\"showlegend\":true,\"x\":[5.943209171],\"xaxis\":\"x\",\"y\":[0.28269],\"yaxis\":\"y\",\"type\":\"scatter\"},{\"hovertemplate\":\"Country Name=Zambia\\u003cbr\\u003eLog GDP Per Capita=%{x}\\u003cbr\\u003eEating disorders (%)=%{y}\\u003cextra\\u003e\\u003c\\u002fextra\\u003e\",\"legendgroup\":\"Zambia\",\"marker\":{\"color\":\"#FF97FF\",\"symbol\":\"circle\"},\"mode\":\"markers\",\"name\":\"Zambia\",\"orientation\":\"v\",\"showlegend\":true,\"x\":[8.130200386],\"xaxis\":\"x\",\"y\":[0.142768],\"yaxis\":\"y\",\"type\":\"scatter\"},{\"hovertemplate\":\"Country Name=Zimbabwe\\u003cbr\\u003eLog GDP Per Capita=%{x}\\u003cbr\\u003eEating disorders (%)=%{y}\\u003cextra\\u003e\\u003c\\u002fextra\\u003e\",\"legendgroup\":\"Zimbabwe\",\"marker\":{\"color\":\"#FECB52\",\"symbol\":\"circle\"},\"mode\":\"markers\",\"name\":\"Zimbabwe\",\"orientation\":\"v\",\"showlegend\":true,\"x\":[7.754387379],\"xaxis\":\"x\",\"y\":[0.124443],\"yaxis\":\"y\",\"type\":\"scatter\"},{\"hovertemplate\":\"\\u003cb\\u003eOLS trendline\\u003c\\u002fb\\u003e\\u003cbr\\u003eEating disorders (%) = 0.116379 * Log GDP Per Capita + -0.811514\\u003cbr\\u003eR\\u003csup\\u003e2\\u003c\\u002fsup\\u003e=0.597299\\u003cbr\\u003e\\u003cbr\\u003eLog GDP Per Capita=%{x}\\u003cbr\\u003eEating disorders (%)=%{y} \\u003cb\\u003e(trend)\\u003c\\u002fb\\u003e\\u003cextra\\u003e\\u003c\\u002fextra\\u003e\",\"legendgroup\":\"Overall Trendline\",\"line\":{\"color\":\"#636efa\"},\"mode\":\"lines\",\"name\":\"Overall Trendline\",\"showlegend\":true,\"x\":[5.943209171,7.052698135,7.160251617,7.282608032,7.335249901,7.344820023,7.365028381,7.373677731,7.563740253,7.567848682,7.587156773,7.589920044,7.59486866,7.647830486,7.663124561,7.675010204,7.754387379,7.776358128,7.80724287,7.852320194,7.984066486,8.067083359,8.082228661,8.089234352,8.130200386,8.159239769,8.21367836,8.287207603,8.369367599,8.369377136,8.482762337,8.495299339,8.503006935,8.526488304,8.540910721,8.567708969,8.602948189,8.685310364,8.718020439,8.830646515,8.88339901,8.987416267,9.017354012,9.026683807,9.061598778,9.208023071,9.208796501,9.243317604,9.29421711,9.300356865,9.344127655,9.363162994,9.365584373,9.380973816,9.428893089,9.434254646,9.455109596,9.503191948,9.516662598,9.517067909,9.51813221,9.54326725,9.555447578,9.570453644,9.580375671,9.580394745,9.592658043,9.712601662,9.718001366,9.741441727,9.787406921,9.817717552,9.887653351,9.905106544,9.911863327,9.974589348,10.00553036,10.04789066,10.06888008,10.10834122,10.12113476,10.16301918,10.20167065,10.21140671,10.26133156,10.263731,10.29218388,10.30755615,10.31100178,10.3263464,10.40561676,10.42708778,10.42886448,10.50527477,10.55638504,10.57442188,10.58478832,10.6202879,10.63210392,10.63540173,10.65061474,10.68089676,10.70497513,10.74445915,10.7699604,10.78554249,10.78726006,10.82858467,10.85799789,10.87939453,10.89993763,10.91669846,10.92155266,10.92663097,11.00067806,11.06743145,11.14336205,11.26124382,11.46489334,11.65256405],\"y\":[-0.11984764215879783,0.00927395667905008,0.021790960459195582,0.03603071988492989,0.0421571461150628,0.04327091064432693,0.045622746110486355,0.04662935179756024,0.06874870360374336,0.06922683987945653,0.07147390286189344,0.07179549053073866,0.07237140721913086,0.07853506983532961,0.08031498426514627,0.08169822761156312,0.09093609124049018,0.09349303261674086,0.09708737865904576,0.102333448097382,0.11766599525735352,0.12732744455526523,0.12909004488079864,0.12990536261016353,0.13467296281148078,0.13805254718220417,0.14438807474171914,0.1529453598752888,0.1625070863892545,0.16250819629906715,0.1757038917162509,0.17716293979640224,0.1780599447698705,0.18079269111215998,0.18247116255493315,0.1855899251024561,0.1896910424419149,0.19927629841545935,0.20308307551658425,0.2161904244635477,0.22232972527509282,0.2344351855062118,0.2379193206580057,0.2390051160884407,0.24306849754168536,0.2601092608429248,0.2601992721196744,0.26421681547308984,0.27014046663865177,0.2708550073035849,0.27594902317087183,0.27816434345422025,0.2784461419560687,0.2802371552512525,0.2858139688525345,0.28643794334400147,0.28886502876355813,0.2944608213920319,0.29602852681481884,0.2960756966434919,0.2961995592966807,0.29912475878668054,0.3005422973803583,0.3022886935114209,0.3034434125140628,0.30344563233368793,0.3048728269216145,0.3188317867294182,0.31946020074375614,0.3221881746018687,0.3275375737691884,0.3310651051493959,0.3392041876242014,0.34123537879248556,0.34202172877186254,0.34932174200593413,0.3529226367139783,0.3578525006790343,0.36029523562910365,0.3648876972525112,0.36637660105705233,0.37125108241944266,0.3757493151786405,0.3768823914636438,0.38269261280239314,0.38297185805779294,0.38628318559357666,0.3880722003062702,0.38847320046854283,0.39025899729234903,0.3994844298615473,0.40198321310413543,0.40218998428627317,0.4110825637824164,0.41703074352423325,0.4191298591480479,0.4203362986445084,0.42446771651021337,0.4258428571774982,0.4262266541450031,0.427997134283223,0.4315213359339928,0.43432356086158497,0.4389186852444047,0.44188650401431145,0.44369993744115815,0.4438998271126303,0.4487091581539353,0.4521322494298296,0.4546223763767417,0.4570131688975817,0.45896378331347165,0.45952871192963296,0.4601197223207866,0.4687372741489903,0.47650598994907506,0.4853427434372486,0.4990617466090868,0.5227623443420808,0.5446033386345073],\"type\":\"scatter\",\"xaxis\":\"x\",\"yaxis\":\"y\"}],                        {\"template\":{\"data\":{\"histogram2dcontour\":[{\"type\":\"histogram2dcontour\",\"colorbar\":{\"outlinewidth\":0,\"ticks\":\"\"},\"colorscale\":[[0.0,\"#0d0887\"],[0.1111111111111111,\"#46039f\"],[0.2222222222222222,\"#7201a8\"],[0.3333333333333333,\"#9c179e\"],[0.4444444444444444,\"#bd3786\"],[0.5555555555555556,\"#d8576b\"],[0.6666666666666666,\"#ed7953\"],[0.7777777777777778,\"#fb9f3a\"],[0.8888888888888888,\"#fdca26\"],[1.0,\"#f0f921\"]]}],\"choropleth\":[{\"type\":\"choropleth\",\"colorbar\":{\"outlinewidth\":0,\"ticks\":\"\"}}],\"histogram2d\":[{\"type\":\"histogram2d\",\"colorbar\":{\"outlinewidth\":0,\"ticks\":\"\"},\"colorscale\":[[0.0,\"#0d0887\"],[0.1111111111111111,\"#46039f\"],[0.2222222222222222,\"#7201a8\"],[0.3333333333333333,\"#9c179e\"],[0.4444444444444444,\"#bd3786\"],[0.5555555555555556,\"#d8576b\"],[0.6666666666666666,\"#ed7953\"],[0.7777777777777778,\"#fb9f3a\"],[0.8888888888888888,\"#fdca26\"],[1.0,\"#f0f921\"]]}],\"heatmap\":[{\"type\":\"heatmap\",\"colorbar\":{\"outlinewidth\":0,\"ticks\":\"\"},\"colorscale\":[[0.0,\"#0d0887\"],[0.1111111111111111,\"#46039f\"],[0.2222222222222222,\"#7201a8\"],[0.3333333333333333,\"#9c179e\"],[0.4444444444444444,\"#bd3786\"],[0.5555555555555556,\"#d8576b\"],[0.6666666666666666,\"#ed7953\"],[0.7777777777777778,\"#fb9f3a\"],[0.8888888888888888,\"#fdca26\"],[1.0,\"#f0f921\"]]}],\"heatmapgl\":[{\"type\":\"heatmapgl\",\"colorbar\":{\"outlinewidth\":0,\"ticks\":\"\"},\"colorscale\":[[0.0,\"#0d0887\"],[0.1111111111111111,\"#46039f\"],[0.2222222222222222,\"#7201a8\"],[0.3333333333333333,\"#9c179e\"],[0.4444444444444444,\"#bd3786\"],[0.5555555555555556,\"#d8576b\"],[0.6666666666666666,\"#ed7953\"],[0.7777777777777778,\"#fb9f3a\"],[0.8888888888888888,\"#fdca26\"],[1.0,\"#f0f921\"]]}],\"contourcarpet\":[{\"type\":\"contourcarpet\",\"colorbar\":{\"outlinewidth\":0,\"ticks\":\"\"}}],\"contour\":[{\"type\":\"contour\",\"colorbar\":{\"outlinewidth\":0,\"ticks\":\"\"},\"colorscale\":[[0.0,\"#0d0887\"],[0.1111111111111111,\"#46039f\"],[0.2222222222222222,\"#7201a8\"],[0.3333333333333333,\"#9c179e\"],[0.4444444444444444,\"#bd3786\"],[0.5555555555555556,\"#d8576b\"],[0.6666666666666666,\"#ed7953\"],[0.7777777777777778,\"#fb9f3a\"],[0.8888888888888888,\"#fdca26\"],[1.0,\"#f0f921\"]]}],\"surface\":[{\"type\":\"surface\",\"colorbar\":{\"outlinewidth\":0,\"ticks\":\"\"},\"colorscale\":[[0.0,\"#0d0887\"],[0.1111111111111111,\"#46039f\"],[0.2222222222222222,\"#7201a8\"],[0.3333333333333333,\"#9c179e\"],[0.4444444444444444,\"#bd3786\"],[0.5555555555555556,\"#d8576b\"],[0.6666666666666666,\"#ed7953\"],[0.7777777777777778,\"#fb9f3a\"],[0.8888888888888888,\"#fdca26\"],[1.0,\"#f0f921\"]]}],\"mesh3d\":[{\"type\":\"mesh3d\",\"colorbar\":{\"outlinewidth\":0,\"ticks\":\"\"}}],\"scatter\":[{\"fillpattern\":{\"fillmode\":\"overlay\",\"size\":10,\"solidity\":0.2},\"type\":\"scatter\"}],\"parcoords\":[{\"type\":\"parcoords\",\"line\":{\"colorbar\":{\"outlinewidth\":0,\"ticks\":\"\"}}}],\"scatterpolargl\":[{\"type\":\"scatterpolargl\",\"marker\":{\"colorbar\":{\"outlinewidth\":0,\"ticks\":\"\"}}}],\"bar\":[{\"error_x\":{\"color\":\"#2a3f5f\"},\"error_y\":{\"color\":\"#2a3f5f\"},\"marker\":{\"line\":{\"color\":\"#E5ECF6\",\"width\":0.5},\"pattern\":{\"fillmode\":\"overlay\",\"size\":10,\"solidity\":0.2}},\"type\":\"bar\"}],\"scattergeo\":[{\"type\":\"scattergeo\",\"marker\":{\"colorbar\":{\"outlinewidth\":0,\"ticks\":\"\"}}}],\"scatterpolar\":[{\"type\":\"scatterpolar\",\"marker\":{\"colorbar\":{\"outlinewidth\":0,\"ticks\":\"\"}}}],\"histogram\":[{\"marker\":{\"pattern\":{\"fillmode\":\"overlay\",\"size\":10,\"solidity\":0.2}},\"type\":\"histogram\"}],\"scattergl\":[{\"type\":\"scattergl\",\"marker\":{\"colorbar\":{\"outlinewidth\":0,\"ticks\":\"\"}}}],\"scatter3d\":[{\"type\":\"scatter3d\",\"line\":{\"colorbar\":{\"outlinewidth\":0,\"ticks\":\"\"}},\"marker\":{\"colorbar\":{\"outlinewidth\":0,\"ticks\":\"\"}}}],\"scattermapbox\":[{\"type\":\"scattermapbox\",\"marker\":{\"colorbar\":{\"outlinewidth\":0,\"ticks\":\"\"}}}],\"scatterternary\":[{\"type\":\"scatterternary\",\"marker\":{\"colorbar\":{\"outlinewidth\":0,\"ticks\":\"\"}}}],\"scattercarpet\":[{\"type\":\"scattercarpet\",\"marker\":{\"colorbar\":{\"outlinewidth\":0,\"ticks\":\"\"}}}],\"carpet\":[{\"aaxis\":{\"endlinecolor\":\"#2a3f5f\",\"gridcolor\":\"white\",\"linecolor\":\"white\",\"minorgridcolor\":\"white\",\"startlinecolor\":\"#2a3f5f\"},\"baxis\":{\"endlinecolor\":\"#2a3f5f\",\"gridcolor\":\"white\",\"linecolor\":\"white\",\"minorgridcolor\":\"white\",\"startlinecolor\":\"#2a3f5f\"},\"type\":\"carpet\"}],\"table\":[{\"cells\":{\"fill\":{\"color\":\"#EBF0F8\"},\"line\":{\"color\":\"white\"}},\"header\":{\"fill\":{\"color\":\"#C8D4E3\"},\"line\":{\"color\":\"white\"}},\"type\":\"table\"}],\"barpolar\":[{\"marker\":{\"line\":{\"color\":\"#E5ECF6\",\"width\":0.5},\"pattern\":{\"fillmode\":\"overlay\",\"size\":10,\"solidity\":0.2}},\"type\":\"barpolar\"}],\"pie\":[{\"automargin\":true,\"type\":\"pie\"}]},\"layout\":{\"autotypenumbers\":\"strict\",\"colorway\":[\"#636efa\",\"#EF553B\",\"#00cc96\",\"#ab63fa\",\"#FFA15A\",\"#19d3f3\",\"#FF6692\",\"#B6E880\",\"#FF97FF\",\"#FECB52\"],\"font\":{\"color\":\"#2a3f5f\"},\"hovermode\":\"closest\",\"hoverlabel\":{\"align\":\"left\"},\"paper_bgcolor\":\"white\",\"plot_bgcolor\":\"#E5ECF6\",\"polar\":{\"bgcolor\":\"#E5ECF6\",\"angularaxis\":{\"gridcolor\":\"white\",\"linecolor\":\"white\",\"ticks\":\"\"},\"radialaxis\":{\"gridcolor\":\"white\",\"linecolor\":\"white\",\"ticks\":\"\"}},\"ternary\":{\"bgcolor\":\"#E5ECF6\",\"aaxis\":{\"gridcolor\":\"white\",\"linecolor\":\"white\",\"ticks\":\"\"},\"baxis\":{\"gridcolor\":\"white\",\"linecolor\":\"white\",\"ticks\":\"\"},\"caxis\":{\"gridcolor\":\"white\",\"linecolor\":\"white\",\"ticks\":\"\"}},\"coloraxis\":{\"colorbar\":{\"outlinewidth\":0,\"ticks\":\"\"}},\"colorscale\":{\"sequential\":[[0.0,\"#0d0887\"],[0.1111111111111111,\"#46039f\"],[0.2222222222222222,\"#7201a8\"],[0.3333333333333333,\"#9c179e\"],[0.4444444444444444,\"#bd3786\"],[0.5555555555555556,\"#d8576b\"],[0.6666666666666666,\"#ed7953\"],[0.7777777777777778,\"#fb9f3a\"],[0.8888888888888888,\"#fdca26\"],[1.0,\"#f0f921\"]],\"sequentialminus\":[[0.0,\"#0d0887\"],[0.1111111111111111,\"#46039f\"],[0.2222222222222222,\"#7201a8\"],[0.3333333333333333,\"#9c179e\"],[0.4444444444444444,\"#bd3786\"],[0.5555555555555556,\"#d8576b\"],[0.6666666666666666,\"#ed7953\"],[0.7777777777777778,\"#fb9f3a\"],[0.8888888888888888,\"#fdca26\"],[1.0,\"#f0f921\"]],\"diverging\":[[0,\"#8e0152\"],[0.1,\"#c51b7d\"],[0.2,\"#de77ae\"],[0.3,\"#f1b6da\"],[0.4,\"#fde0ef\"],[0.5,\"#f7f7f7\"],[0.6,\"#e6f5d0\"],[0.7,\"#b8e186\"],[0.8,\"#7fbc41\"],[0.9,\"#4d9221\"],[1,\"#276419\"]]},\"xaxis\":{\"gridcolor\":\"white\",\"linecolor\":\"white\",\"ticks\":\"\",\"title\":{\"standoff\":15},\"zerolinecolor\":\"white\",\"automargin\":true,\"zerolinewidth\":2},\"yaxis\":{\"gridcolor\":\"white\",\"linecolor\":\"white\",\"ticks\":\"\",\"title\":{\"standoff\":15},\"zerolinecolor\":\"white\",\"automargin\":true,\"zerolinewidth\":2},\"scene\":{\"xaxis\":{\"backgroundcolor\":\"#E5ECF6\",\"gridcolor\":\"white\",\"linecolor\":\"white\",\"showbackground\":true,\"ticks\":\"\",\"zerolinecolor\":\"white\",\"gridwidth\":2},\"yaxis\":{\"backgroundcolor\":\"#E5ECF6\",\"gridcolor\":\"white\",\"linecolor\":\"white\",\"showbackground\":true,\"ticks\":\"\",\"zerolinecolor\":\"white\",\"gridwidth\":2},\"zaxis\":{\"backgroundcolor\":\"#E5ECF6\",\"gridcolor\":\"white\",\"linecolor\":\"white\",\"showbackground\":true,\"ticks\":\"\",\"zerolinecolor\":\"white\",\"gridwidth\":2}},\"shapedefaults\":{\"line\":{\"color\":\"#2a3f5f\"}},\"annotationdefaults\":{\"arrowcolor\":\"#2a3f5f\",\"arrowhead\":0,\"arrowwidth\":1},\"geo\":{\"bgcolor\":\"white\",\"landcolor\":\"#E5ECF6\",\"subunitcolor\":\"white\",\"showland\":true,\"showlakes\":true,\"lakecolor\":\"white\"},\"title\":{\"x\":0.05},\"mapbox\":{\"style\":\"light\"}}},\"xaxis\":{\"anchor\":\"y\",\"domain\":[0.0,1.0],\"title\":{\"text\":\"GDP per Capita\"}},\"yaxis\":{\"anchor\":\"x\",\"domain\":[0.0,1.0],\"title\":{\"text\":\"Eating disorders (%)\"}},\"legend\":{\"title\":{\"text\":\"Country Name\"},\"tracegroupgap\":0},\"title\":{\"text\":\"Relationship between Eating disorders and GDP per Capita\"},\"height\":300},                        {\"responsive\": true}                    ).then(function(){\n",
       "                            \n",
       "var gd = document.getElementById('08ca8da9-8163-4d99-8ffa-4162eb064446');\n",
       "var x = new MutationObserver(function (mutations, observer) {{\n",
       "        var display = window.getComputedStyle(gd).display;\n",
       "        if (!display || display === 'none') {{\n",
       "            console.log([gd, 'removed!']);\n",
       "            Plotly.purge(gd);\n",
       "            observer.disconnect();\n",
       "        }}\n",
       "}});\n",
       "\n",
       "// Listen for the removal of the full notebook cells\n",
       "var notebookContainer = gd.closest('#notebook-container');\n",
       "if (notebookContainer) {{\n",
       "    x.observe(notebookContainer, {childList: true});\n",
       "}}\n",
       "\n",
       "// Listen for the clearing of the current output cell\n",
       "var outputEl = gd.closest('.output');\n",
       "if (outputEl) {{\n",
       "    x.observe(outputEl, {childList: true});\n",
       "}}\n",
       "\n",
       "                        })                };                });            </script>        </div>"
      ]
     },
     "metadata": {},
     "output_type": "display_data"
    }
   ],
   "source": [
    "scatter2d = px.scatter(\n",
    "                        df, \n",
    "                        x= 'Life Ladder', \n",
    "                        y= 'Eating disorders (%)', \n",
    "                        color= 'Country Name',\n",
    "                        trendline='ols',\n",
    "                        trendline_scope='overall',\n",
    "                        title='Relationship between Eating disorders and Life ladder',\n",
    "                        height= 300\n",
    ")\n",
    "\n",
    "scatter2d.update_layout(xaxis_title='Life Ladder')\n",
    "\n",
    "scatter2d.show()\n",
    "\n",
    "\n",
    "\n",
    "scatter2d = px.scatter(\n",
    "                        df, \n",
    "                        x= 'Log GDP Per Capita', \n",
    "                        y= 'Eating disorders (%)', \n",
    "                        color= 'Country Name',\n",
    "                        trendline='ols',\n",
    "                        trendline_scope='overall',\n",
    "                        title='Relationship between Eating disorders and GDP per Capita',\n",
    "                        height= 300\n",
    ")\n",
    "\n",
    "scatter2d.update_layout(xaxis_title='GDP per Capita')\n",
    "\n",
    "scatter2d.show()"
   ]
  },
  {
   "cell_type": "markdown",
   "id": "d85604b9-c0ba-41db-896d-27260c080f92",
   "metadata": {},
   "source": [
    "*<u>Argument 1: Generally speaking, countries with higher GDP tend to have lower rates of mental health disorders. This argument aims to explore the association between economic prosperity and mental well-being.</u>*\n",
    "\n",
    "According to this figure,"
   ]
  },
  {
   "cell_type": "code",
   "execution_count": 91,
   "id": "53485e40-abe8-4f08-afe3-5ddbe23044ee",
   "metadata": {
    "editable": true,
    "slideshow": {
     "slide_type": ""
    },
    "tags": [
     "hide-input"
    ]
   },
   "outputs": [
    {
     "data": {
      "application/vnd.plotly.v1+json": {
       "config": {
        "plotlyServerURL": "https://plot.ly"
       },
       "data": [
        {
         "marker": {
          "color": "rgb(252, 115, 3)"
         },
         "name": "Bipolar disorder (%)",
         "type": "bar",
         "x": [
          "Central and Eastern Europe",
          "Commonwealth of Independent States",
          "East Asia",
          "Latin America and Caribbean",
          "Middle East and North Africa",
          "North America and ANZ",
          "South Asia",
          "Southeast Asia",
          "Sub-Saharan Africa",
          "Western Europe"
         ],
         "y": [
          0.7068712857142857,
          0.6843374545454546,
          0.6374713333333334,
          0.84325335,
          0.85653925,
          0.9289585,
          0.5961146666666667,
          0.5576681428571428,
          0.6274927419354839,
          0.9472792
         ]
        },
        {
         "marker": {
          "color": "rgb(14, 174, 237)"
         },
         "name": "Happiness",
         "type": "bar",
         "x": [
          "Central and Eastern Europe",
          "Commonwealth of Independent States",
          "East Asia",
          "Latin America and Caribbean",
          "Middle East and North Africa",
          "North America and ANZ",
          "South Asia",
          "Southeast Asia",
          "Sub-Saharan Africa",
          "Western Europe"
         ],
         "y": [
          5.7131471974285715,
          5.311056007,
          5.706137975,
          5.99267653225,
          5.26794195175,
          7.24771201625,
          4.3193514745,
          5.196189948571429,
          4.393276691419355,
          6.8919604778500005
         ]
        },
        {
         "marker": {
          "color": "rgb(135, 18, 219)"
         },
         "name": "GDP",
         "type": "bar",
         "x": [
          "Central and Eastern Europe",
          "Commonwealth of Independent States",
          "East Asia",
          "Latin America and Caribbean",
          "Middle East and North Africa",
          "North America and ANZ",
          "South Asia",
          "Southeast Asia",
          "Sub-Saharan Africa",
          "Western Europe"
         ],
         "y": [
          10.1062373435,
          9.344740174090909,
          10.198839825,
          9.25787265305,
          9.7160172455,
          10.8060238375,
          8.503302494666666,
          9.290584564,
          8.055150108967743,
          10.834960651500001
         ]
        }
       ],
       "layout": {
        "autosize": true,
        "template": {
         "data": {
          "bar": [
           {
            "error_x": {
             "color": "#2a3f5f"
            },
            "error_y": {
             "color": "#2a3f5f"
            },
            "marker": {
             "line": {
              "color": "#E5ECF6",
              "width": 0.5
             },
             "pattern": {
              "fillmode": "overlay",
              "size": 10,
              "solidity": 0.2
             }
            },
            "type": "bar"
           }
          ],
          "barpolar": [
           {
            "marker": {
             "line": {
              "color": "#E5ECF6",
              "width": 0.5
             },
             "pattern": {
              "fillmode": "overlay",
              "size": 10,
              "solidity": 0.2
             }
            },
            "type": "barpolar"
           }
          ],
          "carpet": [
           {
            "aaxis": {
             "endlinecolor": "#2a3f5f",
             "gridcolor": "white",
             "linecolor": "white",
             "minorgridcolor": "white",
             "startlinecolor": "#2a3f5f"
            },
            "baxis": {
             "endlinecolor": "#2a3f5f",
             "gridcolor": "white",
             "linecolor": "white",
             "minorgridcolor": "white",
             "startlinecolor": "#2a3f5f"
            },
            "type": "carpet"
           }
          ],
          "choropleth": [
           {
            "colorbar": {
             "outlinewidth": 0,
             "ticks": ""
            },
            "type": "choropleth"
           }
          ],
          "contour": [
           {
            "colorbar": {
             "outlinewidth": 0,
             "ticks": ""
            },
            "colorscale": [
             [
              0,
              "#0d0887"
             ],
             [
              0.1111111111111111,
              "#46039f"
             ],
             [
              0.2222222222222222,
              "#7201a8"
             ],
             [
              0.3333333333333333,
              "#9c179e"
             ],
             [
              0.4444444444444444,
              "#bd3786"
             ],
             [
              0.5555555555555556,
              "#d8576b"
             ],
             [
              0.6666666666666666,
              "#ed7953"
             ],
             [
              0.7777777777777778,
              "#fb9f3a"
             ],
             [
              0.8888888888888888,
              "#fdca26"
             ],
             [
              1,
              "#f0f921"
             ]
            ],
            "type": "contour"
           }
          ],
          "contourcarpet": [
           {
            "colorbar": {
             "outlinewidth": 0,
             "ticks": ""
            },
            "type": "contourcarpet"
           }
          ],
          "heatmap": [
           {
            "colorbar": {
             "outlinewidth": 0,
             "ticks": ""
            },
            "colorscale": [
             [
              0,
              "#0d0887"
             ],
             [
              0.1111111111111111,
              "#46039f"
             ],
             [
              0.2222222222222222,
              "#7201a8"
             ],
             [
              0.3333333333333333,
              "#9c179e"
             ],
             [
              0.4444444444444444,
              "#bd3786"
             ],
             [
              0.5555555555555556,
              "#d8576b"
             ],
             [
              0.6666666666666666,
              "#ed7953"
             ],
             [
              0.7777777777777778,
              "#fb9f3a"
             ],
             [
              0.8888888888888888,
              "#fdca26"
             ],
             [
              1,
              "#f0f921"
             ]
            ],
            "type": "heatmap"
           }
          ],
          "heatmapgl": [
           {
            "colorbar": {
             "outlinewidth": 0,
             "ticks": ""
            },
            "colorscale": [
             [
              0,
              "#0d0887"
             ],
             [
              0.1111111111111111,
              "#46039f"
             ],
             [
              0.2222222222222222,
              "#7201a8"
             ],
             [
              0.3333333333333333,
              "#9c179e"
             ],
             [
              0.4444444444444444,
              "#bd3786"
             ],
             [
              0.5555555555555556,
              "#d8576b"
             ],
             [
              0.6666666666666666,
              "#ed7953"
             ],
             [
              0.7777777777777778,
              "#fb9f3a"
             ],
             [
              0.8888888888888888,
              "#fdca26"
             ],
             [
              1,
              "#f0f921"
             ]
            ],
            "type": "heatmapgl"
           }
          ],
          "histogram": [
           {
            "marker": {
             "pattern": {
              "fillmode": "overlay",
              "size": 10,
              "solidity": 0.2
             }
            },
            "type": "histogram"
           }
          ],
          "histogram2d": [
           {
            "colorbar": {
             "outlinewidth": 0,
             "ticks": ""
            },
            "colorscale": [
             [
              0,
              "#0d0887"
             ],
             [
              0.1111111111111111,
              "#46039f"
             ],
             [
              0.2222222222222222,
              "#7201a8"
             ],
             [
              0.3333333333333333,
              "#9c179e"
             ],
             [
              0.4444444444444444,
              "#bd3786"
             ],
             [
              0.5555555555555556,
              "#d8576b"
             ],
             [
              0.6666666666666666,
              "#ed7953"
             ],
             [
              0.7777777777777778,
              "#fb9f3a"
             ],
             [
              0.8888888888888888,
              "#fdca26"
             ],
             [
              1,
              "#f0f921"
             ]
            ],
            "type": "histogram2d"
           }
          ],
          "histogram2dcontour": [
           {
            "colorbar": {
             "outlinewidth": 0,
             "ticks": ""
            },
            "colorscale": [
             [
              0,
              "#0d0887"
             ],
             [
              0.1111111111111111,
              "#46039f"
             ],
             [
              0.2222222222222222,
              "#7201a8"
             ],
             [
              0.3333333333333333,
              "#9c179e"
             ],
             [
              0.4444444444444444,
              "#bd3786"
             ],
             [
              0.5555555555555556,
              "#d8576b"
             ],
             [
              0.6666666666666666,
              "#ed7953"
             ],
             [
              0.7777777777777778,
              "#fb9f3a"
             ],
             [
              0.8888888888888888,
              "#fdca26"
             ],
             [
              1,
              "#f0f921"
             ]
            ],
            "type": "histogram2dcontour"
           }
          ],
          "mesh3d": [
           {
            "colorbar": {
             "outlinewidth": 0,
             "ticks": ""
            },
            "type": "mesh3d"
           }
          ],
          "parcoords": [
           {
            "line": {
             "colorbar": {
              "outlinewidth": 0,
              "ticks": ""
             }
            },
            "type": "parcoords"
           }
          ],
          "pie": [
           {
            "automargin": true,
            "type": "pie"
           }
          ],
          "scatter": [
           {
            "fillpattern": {
             "fillmode": "overlay",
             "size": 10,
             "solidity": 0.2
            },
            "type": "scatter"
           }
          ],
          "scatter3d": [
           {
            "line": {
             "colorbar": {
              "outlinewidth": 0,
              "ticks": ""
             }
            },
            "marker": {
             "colorbar": {
              "outlinewidth": 0,
              "ticks": ""
             }
            },
            "type": "scatter3d"
           }
          ],
          "scattercarpet": [
           {
            "marker": {
             "colorbar": {
              "outlinewidth": 0,
              "ticks": ""
             }
            },
            "type": "scattercarpet"
           }
          ],
          "scattergeo": [
           {
            "marker": {
             "colorbar": {
              "outlinewidth": 0,
              "ticks": ""
             }
            },
            "type": "scattergeo"
           }
          ],
          "scattergl": [
           {
            "marker": {
             "colorbar": {
              "outlinewidth": 0,
              "ticks": ""
             }
            },
            "type": "scattergl"
           }
          ],
          "scattermapbox": [
           {
            "marker": {
             "colorbar": {
              "outlinewidth": 0,
              "ticks": ""
             }
            },
            "type": "scattermapbox"
           }
          ],
          "scatterpolar": [
           {
            "marker": {
             "colorbar": {
              "outlinewidth": 0,
              "ticks": ""
             }
            },
            "type": "scatterpolar"
           }
          ],
          "scatterpolargl": [
           {
            "marker": {
             "colorbar": {
              "outlinewidth": 0,
              "ticks": ""
             }
            },
            "type": "scatterpolargl"
           }
          ],
          "scatterternary": [
           {
            "marker": {
             "colorbar": {
              "outlinewidth": 0,
              "ticks": ""
             }
            },
            "type": "scatterternary"
           }
          ],
          "surface": [
           {
            "colorbar": {
             "outlinewidth": 0,
             "ticks": ""
            },
            "colorscale": [
             [
              0,
              "#0d0887"
             ],
             [
              0.1111111111111111,
              "#46039f"
             ],
             [
              0.2222222222222222,
              "#7201a8"
             ],
             [
              0.3333333333333333,
              "#9c179e"
             ],
             [
              0.4444444444444444,
              "#bd3786"
             ],
             [
              0.5555555555555556,
              "#d8576b"
             ],
             [
              0.6666666666666666,
              "#ed7953"
             ],
             [
              0.7777777777777778,
              "#fb9f3a"
             ],
             [
              0.8888888888888888,
              "#fdca26"
             ],
             [
              1,
              "#f0f921"
             ]
            ],
            "type": "surface"
           }
          ],
          "table": [
           {
            "cells": {
             "fill": {
              "color": "#EBF0F8"
             },
             "line": {
              "color": "white"
             }
            },
            "header": {
             "fill": {
              "color": "#C8D4E3"
             },
             "line": {
              "color": "white"
             }
            },
            "type": "table"
           }
          ]
         },
         "layout": {
          "annotationdefaults": {
           "arrowcolor": "#2a3f5f",
           "arrowhead": 0,
           "arrowwidth": 1
          },
          "autotypenumbers": "strict",
          "coloraxis": {
           "colorbar": {
            "outlinewidth": 0,
            "ticks": ""
           }
          },
          "colorscale": {
           "diverging": [
            [
             0,
             "#8e0152"
            ],
            [
             0.1,
             "#c51b7d"
            ],
            [
             0.2,
             "#de77ae"
            ],
            [
             0.3,
             "#f1b6da"
            ],
            [
             0.4,
             "#fde0ef"
            ],
            [
             0.5,
             "#f7f7f7"
            ],
            [
             0.6,
             "#e6f5d0"
            ],
            [
             0.7,
             "#b8e186"
            ],
            [
             0.8,
             "#7fbc41"
            ],
            [
             0.9,
             "#4d9221"
            ],
            [
             1,
             "#276419"
            ]
           ],
           "sequential": [
            [
             0,
             "#0d0887"
            ],
            [
             0.1111111111111111,
             "#46039f"
            ],
            [
             0.2222222222222222,
             "#7201a8"
            ],
            [
             0.3333333333333333,
             "#9c179e"
            ],
            [
             0.4444444444444444,
             "#bd3786"
            ],
            [
             0.5555555555555556,
             "#d8576b"
            ],
            [
             0.6666666666666666,
             "#ed7953"
            ],
            [
             0.7777777777777778,
             "#fb9f3a"
            ],
            [
             0.8888888888888888,
             "#fdca26"
            ],
            [
             1,
             "#f0f921"
            ]
           ],
           "sequentialminus": [
            [
             0,
             "#0d0887"
            ],
            [
             0.1111111111111111,
             "#46039f"
            ],
            [
             0.2222222222222222,
             "#7201a8"
            ],
            [
             0.3333333333333333,
             "#9c179e"
            ],
            [
             0.4444444444444444,
             "#bd3786"
            ],
            [
             0.5555555555555556,
             "#d8576b"
            ],
            [
             0.6666666666666666,
             "#ed7953"
            ],
            [
             0.7777777777777778,
             "#fb9f3a"
            ],
            [
             0.8888888888888888,
             "#fdca26"
            ],
            [
             1,
             "#f0f921"
            ]
           ]
          },
          "colorway": [
           "#636efa",
           "#EF553B",
           "#00cc96",
           "#ab63fa",
           "#FFA15A",
           "#19d3f3",
           "#FF6692",
           "#B6E880",
           "#FF97FF",
           "#FECB52"
          ],
          "font": {
           "color": "#2a3f5f"
          },
          "geo": {
           "bgcolor": "white",
           "lakecolor": "white",
           "landcolor": "#E5ECF6",
           "showlakes": true,
           "showland": true,
           "subunitcolor": "white"
          },
          "hoverlabel": {
           "align": "left"
          },
          "hovermode": "closest",
          "mapbox": {
           "style": "light"
          },
          "paper_bgcolor": "white",
          "plot_bgcolor": "#E5ECF6",
          "polar": {
           "angularaxis": {
            "gridcolor": "white",
            "linecolor": "white",
            "ticks": ""
           },
           "bgcolor": "#E5ECF6",
           "radialaxis": {
            "gridcolor": "white",
            "linecolor": "white",
            "ticks": ""
           }
          },
          "scene": {
           "xaxis": {
            "backgroundcolor": "#E5ECF6",
            "gridcolor": "white",
            "gridwidth": 2,
            "linecolor": "white",
            "showbackground": true,
            "ticks": "",
            "zerolinecolor": "white"
           },
           "yaxis": {
            "backgroundcolor": "#E5ECF6",
            "gridcolor": "white",
            "gridwidth": 2,
            "linecolor": "white",
            "showbackground": true,
            "ticks": "",
            "zerolinecolor": "white"
           },
           "zaxis": {
            "backgroundcolor": "#E5ECF6",
            "gridcolor": "white",
            "gridwidth": 2,
            "linecolor": "white",
            "showbackground": true,
            "ticks": "",
            "zerolinecolor": "white"
           }
          },
          "shapedefaults": {
           "line": {
            "color": "#2a3f5f"
           }
          },
          "ternary": {
           "aaxis": {
            "gridcolor": "white",
            "linecolor": "white",
            "ticks": ""
           },
           "baxis": {
            "gridcolor": "white",
            "linecolor": "white",
            "ticks": ""
           },
           "bgcolor": "#E5ECF6",
           "caxis": {
            "gridcolor": "white",
            "linecolor": "white",
            "ticks": ""
           }
          },
          "title": {
           "x": 0.05
          },
          "xaxis": {
           "automargin": true,
           "gridcolor": "white",
           "linecolor": "white",
           "ticks": "",
           "title": {
            "standoff": 15
           },
           "zerolinecolor": "white",
           "zerolinewidth": 2
          },
          "yaxis": {
           "automargin": true,
           "gridcolor": "white",
           "linecolor": "white",
           "ticks": "",
           "title": {
            "standoff": 15
           },
           "zerolinecolor": "white",
           "zerolinewidth": 2
          }
         }
        },
        "title": {
         "text": "Bipolar disorder (%), Happiness and GDP per region"
        },
        "xaxis": {
         "autorange": true,
         "range": [
          -0.5,
          9.5
         ],
         "title": {
          "text": "Regional Indicator"
         },
         "type": "category"
        },
        "yaxis": {
         "autorange": true,
         "range": [
          0,
          11.405221738421053
         ],
         "title": {
          "text": "Strength"
         },
         "type": "linear"
        }
       }
      },
      "text/html": [
       "<div>                            <div id=\"6fe3c38c-52c5-44b1-abe7-da40bf9a09ab\" class=\"plotly-graph-div\" style=\"height:525px; width:100%;\"></div>            <script type=\"text/javascript\">                require([\"plotly\"], function(Plotly) {                    window.PLOTLYENV=window.PLOTLYENV || {};                                    if (document.getElementById(\"6fe3c38c-52c5-44b1-abe7-da40bf9a09ab\")) {                    Plotly.newPlot(                        \"6fe3c38c-52c5-44b1-abe7-da40bf9a09ab\",                        [{\"marker\":{\"color\":\"rgb(252, 115, 3)\"},\"name\":\"Bipolar disorder (%)\",\"x\":[\"Central and Eastern Europe\",\"Commonwealth of Independent States\",\"East Asia\",\"Latin America and Caribbean\",\"Middle East and North Africa\",\"North America and ANZ\",\"South Asia\",\"Southeast Asia\",\"Sub-Saharan Africa\",\"Western Europe\"],\"y\":[0.7068712857142857,0.6843374545454546,0.6374713333333334,0.84325335,0.85653925,0.9289585,0.5961146666666667,0.5576681428571428,0.6274927419354839,0.9472792],\"type\":\"bar\"},{\"marker\":{\"color\":\"rgb(14, 174, 237)\"},\"name\":\"Happiness\",\"x\":[\"Central and Eastern Europe\",\"Commonwealth of Independent States\",\"East Asia\",\"Latin America and Caribbean\",\"Middle East and North Africa\",\"North America and ANZ\",\"South Asia\",\"Southeast Asia\",\"Sub-Saharan Africa\",\"Western Europe\"],\"y\":[5.7131471974285715,5.311056007,5.706137975,5.99267653225,5.26794195175,7.24771201625,4.3193514745,5.196189948571429,4.393276691419355,6.8919604778500005],\"type\":\"bar\"},{\"marker\":{\"color\":\"rgb(135, 18, 219)\"},\"name\":\"GDP\",\"x\":[\"Central and Eastern Europe\",\"Commonwealth of Independent States\",\"East Asia\",\"Latin America and Caribbean\",\"Middle East and North Africa\",\"North America and ANZ\",\"South Asia\",\"Southeast Asia\",\"Sub-Saharan Africa\",\"Western Europe\"],\"y\":[10.1062373435,9.344740174090909,10.198839825,9.25787265305,9.7160172455,10.8060238375,8.503302494666666,9.290584564,8.055150108967743,10.834960651500001],\"type\":\"bar\"}],                        {\"title\":{\"text\":\"Bipolar disorder (%), Happiness and GDP per region\"},\"xaxis\":{\"title\":{\"text\":\"Regional Indicator\"},\"type\":\"category\"},\"yaxis\":{\"title\":{\"text\":\"Strength\"}},\"template\":{\"data\":{\"histogram2dcontour\":[{\"type\":\"histogram2dcontour\",\"colorbar\":{\"outlinewidth\":0,\"ticks\":\"\"},\"colorscale\":[[0.0,\"#0d0887\"],[0.1111111111111111,\"#46039f\"],[0.2222222222222222,\"#7201a8\"],[0.3333333333333333,\"#9c179e\"],[0.4444444444444444,\"#bd3786\"],[0.5555555555555556,\"#d8576b\"],[0.6666666666666666,\"#ed7953\"],[0.7777777777777778,\"#fb9f3a\"],[0.8888888888888888,\"#fdca26\"],[1.0,\"#f0f921\"]]}],\"choropleth\":[{\"type\":\"choropleth\",\"colorbar\":{\"outlinewidth\":0,\"ticks\":\"\"}}],\"histogram2d\":[{\"type\":\"histogram2d\",\"colorbar\":{\"outlinewidth\":0,\"ticks\":\"\"},\"colorscale\":[[0.0,\"#0d0887\"],[0.1111111111111111,\"#46039f\"],[0.2222222222222222,\"#7201a8\"],[0.3333333333333333,\"#9c179e\"],[0.4444444444444444,\"#bd3786\"],[0.5555555555555556,\"#d8576b\"],[0.6666666666666666,\"#ed7953\"],[0.7777777777777778,\"#fb9f3a\"],[0.8888888888888888,\"#fdca26\"],[1.0,\"#f0f921\"]]}],\"heatmap\":[{\"type\":\"heatmap\",\"colorbar\":{\"outlinewidth\":0,\"ticks\":\"\"},\"colorscale\":[[0.0,\"#0d0887\"],[0.1111111111111111,\"#46039f\"],[0.2222222222222222,\"#7201a8\"],[0.3333333333333333,\"#9c179e\"],[0.4444444444444444,\"#bd3786\"],[0.5555555555555556,\"#d8576b\"],[0.6666666666666666,\"#ed7953\"],[0.7777777777777778,\"#fb9f3a\"],[0.8888888888888888,\"#fdca26\"],[1.0,\"#f0f921\"]]}],\"heatmapgl\":[{\"type\":\"heatmapgl\",\"colorbar\":{\"outlinewidth\":0,\"ticks\":\"\"},\"colorscale\":[[0.0,\"#0d0887\"],[0.1111111111111111,\"#46039f\"],[0.2222222222222222,\"#7201a8\"],[0.3333333333333333,\"#9c179e\"],[0.4444444444444444,\"#bd3786\"],[0.5555555555555556,\"#d8576b\"],[0.6666666666666666,\"#ed7953\"],[0.7777777777777778,\"#fb9f3a\"],[0.8888888888888888,\"#fdca26\"],[1.0,\"#f0f921\"]]}],\"contourcarpet\":[{\"type\":\"contourcarpet\",\"colorbar\":{\"outlinewidth\":0,\"ticks\":\"\"}}],\"contour\":[{\"type\":\"contour\",\"colorbar\":{\"outlinewidth\":0,\"ticks\":\"\"},\"colorscale\":[[0.0,\"#0d0887\"],[0.1111111111111111,\"#46039f\"],[0.2222222222222222,\"#7201a8\"],[0.3333333333333333,\"#9c179e\"],[0.4444444444444444,\"#bd3786\"],[0.5555555555555556,\"#d8576b\"],[0.6666666666666666,\"#ed7953\"],[0.7777777777777778,\"#fb9f3a\"],[0.8888888888888888,\"#fdca26\"],[1.0,\"#f0f921\"]]}],\"surface\":[{\"type\":\"surface\",\"colorbar\":{\"outlinewidth\":0,\"ticks\":\"\"},\"colorscale\":[[0.0,\"#0d0887\"],[0.1111111111111111,\"#46039f\"],[0.2222222222222222,\"#7201a8\"],[0.3333333333333333,\"#9c179e\"],[0.4444444444444444,\"#bd3786\"],[0.5555555555555556,\"#d8576b\"],[0.6666666666666666,\"#ed7953\"],[0.7777777777777778,\"#fb9f3a\"],[0.8888888888888888,\"#fdca26\"],[1.0,\"#f0f921\"]]}],\"mesh3d\":[{\"type\":\"mesh3d\",\"colorbar\":{\"outlinewidth\":0,\"ticks\":\"\"}}],\"scatter\":[{\"fillpattern\":{\"fillmode\":\"overlay\",\"size\":10,\"solidity\":0.2},\"type\":\"scatter\"}],\"parcoords\":[{\"type\":\"parcoords\",\"line\":{\"colorbar\":{\"outlinewidth\":0,\"ticks\":\"\"}}}],\"scatterpolargl\":[{\"type\":\"scatterpolargl\",\"marker\":{\"colorbar\":{\"outlinewidth\":0,\"ticks\":\"\"}}}],\"bar\":[{\"error_x\":{\"color\":\"#2a3f5f\"},\"error_y\":{\"color\":\"#2a3f5f\"},\"marker\":{\"line\":{\"color\":\"#E5ECF6\",\"width\":0.5},\"pattern\":{\"fillmode\":\"overlay\",\"size\":10,\"solidity\":0.2}},\"type\":\"bar\"}],\"scattergeo\":[{\"type\":\"scattergeo\",\"marker\":{\"colorbar\":{\"outlinewidth\":0,\"ticks\":\"\"}}}],\"scatterpolar\":[{\"type\":\"scatterpolar\",\"marker\":{\"colorbar\":{\"outlinewidth\":0,\"ticks\":\"\"}}}],\"histogram\":[{\"marker\":{\"pattern\":{\"fillmode\":\"overlay\",\"size\":10,\"solidity\":0.2}},\"type\":\"histogram\"}],\"scattergl\":[{\"type\":\"scattergl\",\"marker\":{\"colorbar\":{\"outlinewidth\":0,\"ticks\":\"\"}}}],\"scatter3d\":[{\"type\":\"scatter3d\",\"line\":{\"colorbar\":{\"outlinewidth\":0,\"ticks\":\"\"}},\"marker\":{\"colorbar\":{\"outlinewidth\":0,\"ticks\":\"\"}}}],\"scattermapbox\":[{\"type\":\"scattermapbox\",\"marker\":{\"colorbar\":{\"outlinewidth\":0,\"ticks\":\"\"}}}],\"scatterternary\":[{\"type\":\"scatterternary\",\"marker\":{\"colorbar\":{\"outlinewidth\":0,\"ticks\":\"\"}}}],\"scattercarpet\":[{\"type\":\"scattercarpet\",\"marker\":{\"colorbar\":{\"outlinewidth\":0,\"ticks\":\"\"}}}],\"carpet\":[{\"aaxis\":{\"endlinecolor\":\"#2a3f5f\",\"gridcolor\":\"white\",\"linecolor\":\"white\",\"minorgridcolor\":\"white\",\"startlinecolor\":\"#2a3f5f\"},\"baxis\":{\"endlinecolor\":\"#2a3f5f\",\"gridcolor\":\"white\",\"linecolor\":\"white\",\"minorgridcolor\":\"white\",\"startlinecolor\":\"#2a3f5f\"},\"type\":\"carpet\"}],\"table\":[{\"cells\":{\"fill\":{\"color\":\"#EBF0F8\"},\"line\":{\"color\":\"white\"}},\"header\":{\"fill\":{\"color\":\"#C8D4E3\"},\"line\":{\"color\":\"white\"}},\"type\":\"table\"}],\"barpolar\":[{\"marker\":{\"line\":{\"color\":\"#E5ECF6\",\"width\":0.5},\"pattern\":{\"fillmode\":\"overlay\",\"size\":10,\"solidity\":0.2}},\"type\":\"barpolar\"}],\"pie\":[{\"automargin\":true,\"type\":\"pie\"}]},\"layout\":{\"autotypenumbers\":\"strict\",\"colorway\":[\"#636efa\",\"#EF553B\",\"#00cc96\",\"#ab63fa\",\"#FFA15A\",\"#19d3f3\",\"#FF6692\",\"#B6E880\",\"#FF97FF\",\"#FECB52\"],\"font\":{\"color\":\"#2a3f5f\"},\"hovermode\":\"closest\",\"hoverlabel\":{\"align\":\"left\"},\"paper_bgcolor\":\"white\",\"plot_bgcolor\":\"#E5ECF6\",\"polar\":{\"bgcolor\":\"#E5ECF6\",\"angularaxis\":{\"gridcolor\":\"white\",\"linecolor\":\"white\",\"ticks\":\"\"},\"radialaxis\":{\"gridcolor\":\"white\",\"linecolor\":\"white\",\"ticks\":\"\"}},\"ternary\":{\"bgcolor\":\"#E5ECF6\",\"aaxis\":{\"gridcolor\":\"white\",\"linecolor\":\"white\",\"ticks\":\"\"},\"baxis\":{\"gridcolor\":\"white\",\"linecolor\":\"white\",\"ticks\":\"\"},\"caxis\":{\"gridcolor\":\"white\",\"linecolor\":\"white\",\"ticks\":\"\"}},\"coloraxis\":{\"colorbar\":{\"outlinewidth\":0,\"ticks\":\"\"}},\"colorscale\":{\"sequential\":[[0.0,\"#0d0887\"],[0.1111111111111111,\"#46039f\"],[0.2222222222222222,\"#7201a8\"],[0.3333333333333333,\"#9c179e\"],[0.4444444444444444,\"#bd3786\"],[0.5555555555555556,\"#d8576b\"],[0.6666666666666666,\"#ed7953\"],[0.7777777777777778,\"#fb9f3a\"],[0.8888888888888888,\"#fdca26\"],[1.0,\"#f0f921\"]],\"sequentialminus\":[[0.0,\"#0d0887\"],[0.1111111111111111,\"#46039f\"],[0.2222222222222222,\"#7201a8\"],[0.3333333333333333,\"#9c179e\"],[0.4444444444444444,\"#bd3786\"],[0.5555555555555556,\"#d8576b\"],[0.6666666666666666,\"#ed7953\"],[0.7777777777777778,\"#fb9f3a\"],[0.8888888888888888,\"#fdca26\"],[1.0,\"#f0f921\"]],\"diverging\":[[0,\"#8e0152\"],[0.1,\"#c51b7d\"],[0.2,\"#de77ae\"],[0.3,\"#f1b6da\"],[0.4,\"#fde0ef\"],[0.5,\"#f7f7f7\"],[0.6,\"#e6f5d0\"],[0.7,\"#b8e186\"],[0.8,\"#7fbc41\"],[0.9,\"#4d9221\"],[1,\"#276419\"]]},\"xaxis\":{\"gridcolor\":\"white\",\"linecolor\":\"white\",\"ticks\":\"\",\"title\":{\"standoff\":15},\"zerolinecolor\":\"white\",\"automargin\":true,\"zerolinewidth\":2},\"yaxis\":{\"gridcolor\":\"white\",\"linecolor\":\"white\",\"ticks\":\"\",\"title\":{\"standoff\":15},\"zerolinecolor\":\"white\",\"automargin\":true,\"zerolinewidth\":2},\"scene\":{\"xaxis\":{\"backgroundcolor\":\"#E5ECF6\",\"gridcolor\":\"white\",\"linecolor\":\"white\",\"showbackground\":true,\"ticks\":\"\",\"zerolinecolor\":\"white\",\"gridwidth\":2},\"yaxis\":{\"backgroundcolor\":\"#E5ECF6\",\"gridcolor\":\"white\",\"linecolor\":\"white\",\"showbackground\":true,\"ticks\":\"\",\"zerolinecolor\":\"white\",\"gridwidth\":2},\"zaxis\":{\"backgroundcolor\":\"#E5ECF6\",\"gridcolor\":\"white\",\"linecolor\":\"white\",\"showbackground\":true,\"ticks\":\"\",\"zerolinecolor\":\"white\",\"gridwidth\":2}},\"shapedefaults\":{\"line\":{\"color\":\"#2a3f5f\"}},\"annotationdefaults\":{\"arrowcolor\":\"#2a3f5f\",\"arrowhead\":0,\"arrowwidth\":1},\"geo\":{\"bgcolor\":\"white\",\"landcolor\":\"#E5ECF6\",\"subunitcolor\":\"white\",\"showland\":true,\"showlakes\":true,\"lakecolor\":\"white\"},\"title\":{\"x\":0.05},\"mapbox\":{\"style\":\"light\"}}}},                        {\"responsive\": true}                    ).then(function(){\n",
       "                            \n",
       "var gd = document.getElementById('6fe3c38c-52c5-44b1-abe7-da40bf9a09ab');\n",
       "var x = new MutationObserver(function (mutations, observer) {{\n",
       "        var display = window.getComputedStyle(gd).display;\n",
       "        if (!display || display === 'none') {{\n",
       "            console.log([gd, 'removed!']);\n",
       "            Plotly.purge(gd);\n",
       "            observer.disconnect();\n",
       "        }}\n",
       "}});\n",
       "\n",
       "// Listen for the removal of the full notebook cells\n",
       "var notebookContainer = gd.closest('#notebook-container');\n",
       "if (notebookContainer) {{\n",
       "    x.observe(notebookContainer, {childList: true});\n",
       "}}\n",
       "\n",
       "// Listen for the clearing of the current output cell\n",
       "var outputEl = gd.closest('.output');\n",
       "if (outputEl) {{\n",
       "    x.observe(outputEl, {childList: true});\n",
       "}}\n",
       "\n",
       "                        })                };                });            </script>        </div>"
      ]
     },
     "metadata": {},
     "output_type": "display_data"
    }
   ],
   "source": [
    "# Create a layout object that contains the specifications for the X and Y axes.\n",
    "layout = go.Layout(\n",
    "    title = \"Bipolar disorder (%), Happiness and GDP per region\",\n",
    "    xaxis=go.layout.XAxis(\n",
    "        type='category'\n",
    "    ),\n",
    "    xaxis_title=\"Regional Indicator\",\n",
    "    yaxis_title=\"Strength\",\n",
    ")\n",
    "\n",
    "    \n",
    "trace1 = go.Bar (\n",
    "    x = df_mean[\"Regional Indicator\"],\n",
    "    y = df_mean[\"Bipolar disorder (%)\"],\n",
    "    name = \"Bipolar disorder (%)\",\n",
    "    marker = dict(\n",
    "        color = 'rgb(252, 115, 3)'\n",
    "    )\n",
    ")\n",
    "\n",
    "trace2 = go.Bar (\n",
    "    x = df_mean[\"Regional Indicator\"],\n",
    "    y = df_mean[\"Life Ladder\"],\n",
    "    name = \"Happiness\",\n",
    "    marker = dict(\n",
    "        color = 'rgb(14, 174, 237)'\n",
    "    )\n",
    ")\n",
    "\n",
    "trace3 = go.Bar (\n",
    "    x = df_mean[\"Regional Indicator\"],\n",
    "    y = df_mean[\"Log GDP Per Capita\"],\n",
    "    name = \"GDP\",\n",
    "    marker = dict(\n",
    "        color = 'rgb(135, 18, 219)'\n",
    "    )\n",
    ")\n",
    "\n",
    "# Create a list of the traces.\n",
    "data = [trace1, trace2, trace3]\n",
    "\n",
    "# Create a figure object with the data and layout objects.\n",
    "fig = go.Figure(data=data, layout=layout)\n",
    "\n",
    "# Show the figure.\n",
    "fig.show()"
   ]
  },
  {
   "cell_type": "markdown",
   "id": "24d061c8-938a-41b2-a956-c026e884ec13",
   "metadata": {
    "editable": true,
    "slideshow": {
     "slide_type": ""
    },
    "tags": []
   },
   "source": [
    "*<u>Argument 2: Western countries are more developed and therefore happier; people outside those countries are more depressed. This argument highlights the potential role of development in the state of mental well-being.</u>*\n",
    "\n",
    "According to this figure,"
   ]
  },
  {
   "cell_type": "code",
   "execution_count": null,
   "id": "175d8a53-da3b-4a75-831c-8df04320edfd",
   "metadata": {
    "editable": true,
    "slideshow": {
     "slide_type": ""
    },
    "tags": [
     "hide-input"
    ]
   },
   "outputs": [],
   "source": [
    "scatter = px.scatter(\n",
    "                       df,\n",
    "                       x= 'Life Ladder',\n",
    "                       y='Log GDP Per Capita',\n",
    "                       color='Country Name',\n",
    "                       trendline='ols',\n",
    "                       trendline_scope='overall',\n",
    "                       opacity= 0.7,\n",
    ")\n",
    "\n",
    "scatter.update_layout(\n",
    "    title='Relationship between GDP and life ladder per country'\n",
    ")\n",
    "\n",
    "# countries_to_include = ['Country A', 'Country B', 'Country C']\n",
    "# filtered_df = df[df['Country Name'].isin(countries_to_include)]\n",
    "\n",
    "# # Add regression plane\n",
    "# regression_plane = go.Mesh3d(\n",
    "#     x=filtered_df['Life Ladder'],\n",
    "#     y=filtered_df['Log GDP Per Capita'],\n",
    "#     z=filtered_df['Schizophrenia (%)'],\n",
    "#     opacity=0.1,\n",
    "#     alphahull=0\n",
    "# )\n",
    "\n",
    "# # Add the regression plane to the scatter plot\n",
    "# scatter.add_trace(regression_plane)\n"
   ]
  },
  {
   "cell_type": "markdown",
   "id": "40ed385a-65a0-4935-9326-7c8c6ae1f324",
   "metadata": {
    "editable": true,
    "slideshow": {
     "slide_type": ""
    },
    "tags": []
   },
   "source": [
    "### 3.2 Perspective 2: There is no significant correlation between wealth and mental health.\n",
    "*<u>Argument 1: Countries with a higher GDP tend to have more mental health disorders like depression income/productivity and mental health.</u>*\n",
    "\n",
    "According to this figure, **NOG DOEN**"
   ]
  },
  {
   "cell_type": "code",
   "execution_count": null,
   "id": "997be711-6627-40d7-a407-52170fd5306c",
   "metadata": {
    "editable": true,
    "slideshow": {
     "slide_type": ""
    },
    "tags": [
     "hide-input"
    ]
   },
   "outputs": [],
   "source": [
    "#displays the world's depression as a gradiant world map\n",
    "fig = px.choropleth(\n",
    "                    df,\n",
    "                    locations='Code',\n",
    "                    color='Depression (%)',\n",
    "                    hover_name='Country Name',\n",
    "                    color_continuous_scale='Viridis_r',\n",
    "                    labels={'Depression (%)': 'Depression'},\n",
    "                    )\n",
    "\n",
    "fig.update_layout(\n",
    "    title='World mental health condition in terms of depression',\n",
    "    height=600\n",
    ")\n",
    "\n",
    "fig.show()"
   ]
  },
  {
   "cell_type": "code",
   "execution_count": null,
   "id": "87aad754-c398-46db-958c-bc6355dd3fc3",
   "metadata": {
    "editable": true,
    "slideshow": {
     "slide_type": ""
    },
    "tags": [
     "hide-input"
    ]
   },
   "outputs": [],
   "source": [
    "# displays relationship between depression and GDP per capita in countries as a 2d plot\n",
    "scatter2d = px.scatter(\n",
    "                        df, \n",
    "                        x= 'Log GDP Per Capita', \n",
    "                        y= 'Depression (%)', \n",
    "                        color= 'Country Name',\n",
    "                        trendline='ols',\n",
    "                        trendline_scope='overall',\n",
    "                        title='Relationship between depression and GDP per capita of countries',\n",
    "                        height= 300\n",
    ")\n",
    "\n",
    "scatter2d.update_layout(xaxis_title='GDP per capita')\n",
    "\n",
    "scatter2d.show()"
   ]
  },
  {
   "cell_type": "markdown",
   "id": "e9521162-1147-42fa-85bb-2329bb1dadb8",
   "metadata": {
    "editable": true,
    "slideshow": {
     "slide_type": ""
    },
    "tags": []
   },
   "source": [
    "*<u>Argument 2: Mental health is effected by so many different factors that there is no such thing as a significant relationship between a country's mental health state and its GDP per capita.</u>*\n",
    "\n",
    "According to this figure, **NOG DOEN**"
   ]
  },
  {
   "cell_type": "code",
   "execution_count": null,
   "id": "d8673cc2-5144-4e73-8ce3-3ad9798b66bc",
   "metadata": {
    "editable": true,
    "slideshow": {
     "slide_type": ""
    },
    "tags": [
     "hide-input"
    ]
   },
   "outputs": [],
   "source": [
    "# Create an empty figure\n",
    "fig4 = go.Figure()\n",
    "\n",
    "mental = ['Anxiety disorders (%)', 'Drug use disorders (%)', 'Depression (%)', 'Alcohol use disorders (%)']\n",
    "colors = ['rgb(252, 115, 3)', 'rgb(14, 174, 237)', 'rgb(135, 18, 219)']\n",
    "\n",
    "trace2 = go.Bar(\n",
    "    x=df_mean[\"Regional Indicator\"],\n",
    "    y=df_mean[\"Life Ladder\"],\n",
    "    name=\"Happiness\",\n",
    "    marker=dict(\n",
    "        color='rgb(14, 174, 237)'\n",
    "    )\n",
    ")\n",
    "\n",
    "trace3 = go.Bar(\n",
    "    x=df_mean[\"Regional Indicator\"],\n",
    "    y=df_mean[\"Log GDP Per Capita\"],\n",
    "    name=\"GDP\",\n",
    "    marker=dict(\n",
    "        color='rgb(135, 18, 219)'\n",
    "    )\n",
    ")\n",
    "\n",
    "\n",
    "for var in mental:\n",
    "    trace1 = go.Bar(\n",
    "        x=df_mean[\"Regional Indicator\"],\n",
    "        y=df_mean[var],\n",
    "        name=var,\n",
    "        marker=dict(\n",
    "            color='rgb(252, 115, 3)'\n",
    "        )\n",
    "    )\n",
    "\n",
    "    fig4.add_trace(trace1)\n",
    "    fig4.add_trace(trace2)\n",
    "    fig4.add_trace(trace3)\n",
    "\n",
    "# Only display the first bar plot initially\n",
    "for i in range(3, len(fig4.data)):\n",
    "    fig4.data[i].visible = False\n",
    "\n",
    "# Create a dropdown menu\n",
    "dropdown = [{\"label\": var, \"method\": \"update\",\n",
    "             \"args\": [{\"visible\": [j == 3*i or j == 3*i+1 or j == 3*i+2 for j in range(len(mental) * 3)]},\n",
    "                      {\"title\": f\"{var}, Happiness and GDP per region\"}]}\n",
    "            for i, var in enumerate(mental)]\n",
    "\n",
    "# Customize the plot layout\n",
    "fig4.update_layout(\n",
    "    updatemenus=[\n",
    "        go.layout.Updatemenu(\n",
    "            buttons=dropdown,\n",
    "            direction=\"down\",\n",
    "            showactive=True\n",
    "        ),\n",
    "    ],\n",
    "    title=\"Different Mental Disorders by Region\",\n",
    "    xaxis_title=\"Regional Indicator\",\n",
    "    yaxis_title=\"Strength\",\n",
    ")\n",
    "\n",
    "# Show the plot\n",
    "fig4.show()"
   ]
  },
  {
   "cell_type": "markdown",
   "id": "0382f473-aae2-41e1-9b2a-3f3e1e772fda",
   "metadata": {},
   "source": [
    "## 4. Reflection \n",
    "During the class on June 27th we presented our report to our peers and TA. The first impression of the peers was good, they thought we were on the right track and had a clear vision on what we wanted to achieve with the analysis. The feedback that they gave was mostly about the visualizations that we made since we didn’t have a lot of text that supported the visualizations. The most important feedback was to get a more interactive and an additional visualization. During the presentation the only interactive visualization was a 3D scatter plot, that didn’t necessarily add value to the analysis, so after this given feedback we added a better visualization with a drop down function to get a more interactive visualization that was meaningful to the analysis. In addition to the 3 different types of visualizations we already had we added a 4th type of visualization to elevate our analysis.\n",
    "\n",
    "The feedback given by the TA was comparable to that of the peers, he indicated that he used a 4th type of visualization to elevate the analysis to a higher level. In addition the TA advised to add a trendline in the 3D scatter plots to improve the readability of the clustering effect that can be seen in the visualization. He also recommended thinking well about what we see in the visualizations and what we want to tell with analysis that we made. \n"
   ]
  },
  {
   "cell_type": "markdown",
   "id": "4b0c9644-7dc0-4b8d-969a-131c16a198a9",
   "metadata": {},
   "source": [
    "## 5. Work distribution\n",
    "The work distribution went very well. There was a lot of communication during the group project and everyone was open to each other’s opinion and feedback. In the beginning of the project everyone started with looking for potential datasets that we could use for the project. During class we came together and told all of our ideas and made a final decision on what we would like to elaborate on during this project. After deciding the subject we looked at what everyone's strengths and weaknesses are and divided the work. Julia wrote the introduction, dataset and preprocessing, reflection and the work distribution. John and Marijn made the visualizations with some help of Joah that also wrote the argumentation of the perspectives. John was also really good with GitHub and made sure everything worked. \n",
    "We also did a lot together as a group, deciding on the perspectives that we want to write about, what type of visualizations we want, what type of data goes in the visualizations and what we want the data story to look like.   \n"
   ]
  },
  {
   "cell_type": "code",
   "execution_count": null,
   "id": "8f4bf17a-b139-4c9f-9c61-1594fde9b911",
   "metadata": {},
   "outputs": [],
   "source": []
  }
 ],
 "metadata": {
  "kernelspec": {
   "display_name": "Python 3 (ipykernel)",
   "language": "python",
   "name": "python3"
  },
  "language_info": {
   "codemirror_mode": {
    "name": "ipython",
    "version": 3
   },
   "file_extension": ".py",
   "mimetype": "text/x-python",
   "name": "python",
   "nbconvert_exporter": "python",
   "pygments_lexer": "ipython3",
   "version": "3.11.3"
  }
 },
 "nbformat": 4,
 "nbformat_minor": 5
}
